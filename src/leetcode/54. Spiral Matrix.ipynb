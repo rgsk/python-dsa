{
 "cells": [
  {
   "cell_type": "code",
   "execution_count": null,
   "metadata": {},
   "outputs": [],
   "source": [
    "# https://leetcode.com/problems/spiral-matrix/description/"
   ]
  },
  {
   "cell_type": "code",
   "execution_count": 1,
   "metadata": {},
   "outputs": [],
   "source": [
    "from typing import List\n",
    "\n",
    "\n",
    "class Solution:\n",
    "    def spiralOrder(self, matrix: List[List[int]]) -> List[int]:\n",
    "        rows = len(matrix)\n",
    "        cols = len(matrix[0]) if matrix else 0\n",
    "        result = []\n",
    "        startRow, endRow = 0, rows - 1\n",
    "        startCol, endCol = 0, cols - 1\n",
    "        direction = 0\n",
    "\n",
    "        while startRow <= endRow and startCol <= endCol:\n",
    "            if direction == 0:  # RIGHT\n",
    "                for col in range(startCol, endCol + 1):\n",
    "                    result.append(matrix[startRow][col])\n",
    "                startRow += 1\n",
    "            elif direction == 1:  # DOWN\n",
    "                for row in range(startRow, endRow + 1):\n",
    "                    result.append(matrix[row][endCol])\n",
    "                endCol -= 1\n",
    "            elif direction == 2:  # LEFT\n",
    "                for col in range(endCol, startCol - 1, -1):\n",
    "                    result.append(matrix[endRow][col])\n",
    "                endRow -= 1\n",
    "            elif direction == 3:  # UP\n",
    "                for row in range(endRow, startRow - 1, -1):\n",
    "                    result.append(matrix[row][startCol])\n",
    "                startCol += 1\n",
    "\n",
    "            direction = (direction + 1) % 4\n",
    "\n",
    "        return result\n"
   ]
  },
  {
   "cell_type": "code",
   "execution_count": 2,
   "metadata": {},
   "outputs": [
    {
     "data": {
      "text/plain": [
       "[1, 2, 3, 6, 9, 8, 7, 4, 5]"
      ]
     },
     "execution_count": 2,
     "metadata": {},
     "output_type": "execute_result"
    }
   ],
   "source": [
    "matrix = [[1,2,3],[4,5,6],[7,8,9]]\n",
    "sol = Solution()\n",
    "sol.spiralOrder(matrix)"
   ]
  },
  {
   "cell_type": "code",
   "execution_count": 3,
   "metadata": {},
   "outputs": [
    {
     "data": {
      "text/plain": [
       "[1, 2, 3, 4, 8, 12, 11, 10, 9, 5, 6, 7]"
      ]
     },
     "execution_count": 3,
     "metadata": {},
     "output_type": "execute_result"
    }
   ],
   "source": [
    "matrix = [[1,2,3,4],[5,6,7,8],[9,10,11,12]]\n",
    "sol = Solution()\n",
    "sol.spiralOrder(matrix)"
   ]
  }
 ],
 "metadata": {
  "kernelspec": {
   "display_name": "dsa-venv",
   "language": "python",
   "name": "python3"
  },
  "language_info": {
   "codemirror_mode": {
    "name": "ipython",
    "version": 3
   },
   "file_extension": ".py",
   "mimetype": "text/x-python",
   "name": "python",
   "nbconvert_exporter": "python",
   "pygments_lexer": "ipython3",
   "version": "3.11.3"
  }
 },
 "nbformat": 4,
 "nbformat_minor": 2
}
