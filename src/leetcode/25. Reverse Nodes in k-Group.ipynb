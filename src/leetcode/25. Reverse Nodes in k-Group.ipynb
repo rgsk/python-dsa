{
 "cells": [
  {
   "cell_type": "markdown",
   "metadata": {},
   "source": [
    "https://leetcode.com/problems/reverse-nodes-in-k-group/"
   ]
  },
  {
   "cell_type": "code",
   "execution_count": 196,
   "metadata": {},
   "outputs": [],
   "source": [
    "# Definition for singly-linked list.\n",
    "from typing import List, Optional\n",
    "\n",
    "class ListNode:\n",
    "    def __init__(self, val=0, next: Optional['ListNode'] = None):\n",
    "        self.val = val\n",
    "        self.next = next\n",
    "\n",
    "\n",
    "def asList(l: Optional[ListNode]) -> List[int]:\n",
    "    if l == None:\n",
    "        return []\n",
    "\n",
    "    ans: List[int] = []\n",
    "    t = l\n",
    "    while t != None:\n",
    "        assert isinstance(t, ListNode)\n",
    "        ans.append(t.val)\n",
    "        t = t.next\n",
    "\n",
    "    return ans\n",
    "\n",
    "\n",
    "def getLinkedListLength(l: Optional[ListNode]):\n",
    "    if l == None:\n",
    "        return 0\n",
    "    count = 0\n",
    "    while l != None:\n",
    "        l = l.next\n",
    "        count += 1\n",
    "    return count\n",
    "\n",
    "def asLinkedList(elems: List[int]) -> Optional[ListNode]:\n",
    "    if not elems:\n",
    "        return None\n",
    "    l = ListNode()\n",
    "    t = l\n",
    "    for v in elems:\n",
    "        t.next = ListNode(v)\n",
    "        t = t.next\n",
    "    return l.next\n",
    "\n",
    "def reverseLinkedList(node: Optional[ListNode]):\n",
    "    prev = next = None\n",
    "    temp = node\n",
    "    while temp:\n",
    "        next = temp.next\n",
    "        temp.next = prev\n",
    "        prev = temp\n",
    "        temp = next\n",
    "    return prev\n",
    "\n",
    "\n",
    "\n",
    "def reverseLinkedListPartial(node: Optional[ListNode], i: int, j: int):\n",
    "    if i == 0:\n",
    "        temp = node\n",
    "        idx = 0\n",
    "        while idx < j - 1:\n",
    "            temp = temp.next\n",
    "            idx += 1\n",
    "        tail = temp\n",
    "        tailNext = tail.next\n",
    "        tail.next = None\n",
    "        head = reverseLinkedList(node)\n",
    "        node.next = tailNext\n",
    "        return head\n",
    "    temp = node\n",
    "    idx = 0\n",
    "    while idx < i - 1:\n",
    "        temp = temp.next\n",
    "        idx += 1\n",
    "    head = temp\n",
    "    while idx < j - 1:\n",
    "        temp = temp.next\n",
    "        idx += 1\n",
    "    tail = temp\n",
    "    tailNext = tail.next\n",
    "    tail.next = None\n",
    "    oldHeadNext = head.next\n",
    "    head.next = reverseLinkedList(head.next)\n",
    "    oldHeadNext.next = tailNext\n",
    "    return node\n",
    "\n"
   ]
  },
  {
   "cell_type": "code",
   "execution_count": 197,
   "metadata": {},
   "outputs": [
    {
     "name": "stdout",
     "output_type": "stream",
     "text": [
      "[1, 5, 4, 3, 2]\n"
     ]
    }
   ],
   "source": [
    "head = asLinkedList([1,2,3,4,5])\n",
    "print(asList(reverseLinkedListPartial(head, 1, 5)))"
   ]
  },
  {
   "cell_type": "code",
   "execution_count": 198,
   "metadata": {},
   "outputs": [],
   "source": [
    "from typing import Optional\n",
    "\n",
    "\n",
    "class Solution:\n",
    "    def reverseKGroup(self, head: Optional[ListNode], k: int) -> Optional[ListNode]:\n",
    "        items = asList(head)\n",
    "        for i in range(k, len(items) + 1, k):\n",
    "            items[i - k: i] = reversed(items[i-k: i])\n",
    "        return asLinkedList(items)"
   ]
  },
  {
   "cell_type": "code",
   "execution_count": 199,
   "metadata": {},
   "outputs": [
    {
     "name": "stdout",
     "output_type": "stream",
     "text": [
      "[2, 1, 4, 3, 5]\n"
     ]
    }
   ],
   "source": [
    "head = asLinkedList([1,2,3,4,5])\n",
    "k = 2\n",
    "sol = Solution()\n",
    "print(asList(sol.reverseKGroup(head, k)))"
   ]
  },
  {
   "cell_type": "code",
   "execution_count": 200,
   "metadata": {},
   "outputs": [
    {
     "name": "stdout",
     "output_type": "stream",
     "text": [
      "[3, 2, 1, 4, 5]\n"
     ]
    }
   ],
   "source": [
    "head = asLinkedList([1,2,3,4,5])\n",
    "k = 3\n",
    "sol = Solution()\n",
    "print(asList(sol.reverseKGroup(head, k)))"
   ]
  },
  {
   "cell_type": "code",
   "execution_count": 201,
   "metadata": {},
   "outputs": [
    {
     "name": "stdout",
     "output_type": "stream",
     "text": [
      "[1, 2, 3, 4, 5]\n"
     ]
    }
   ],
   "source": [
    "head = asLinkedList([1,2,3,4,5])\n",
    "k = 1\n",
    "sol = Solution()\n",
    "print(asList(sol.reverseKGroup(head, k)))"
   ]
  },
  {
   "cell_type": "code",
   "execution_count": 202,
   "metadata": {},
   "outputs": [
    {
     "name": "stdout",
     "output_type": "stream",
     "text": [
      "[5, 4, 3, 2, 1]\n"
     ]
    }
   ],
   "source": [
    "head = asLinkedList([1,2,3,4,5])\n",
    "k = 5\n",
    "sol = Solution()\n",
    "print(asList(sol.reverseKGroup(head, k)))"
   ]
  },
  {
   "cell_type": "code",
   "execution_count": 203,
   "metadata": {},
   "outputs": [
    {
     "name": "stdout",
     "output_type": "stream",
     "text": [
      "[3, 2, 1, 6, 5, 4]\n"
     ]
    }
   ],
   "source": [
    "head = asLinkedList([1,2,3,4,5,6])\n",
    "k = 3\n",
    "sol = Solution()\n",
    "print(asList(sol.reverseKGroup(head, k)))"
   ]
  },
  {
   "cell_type": "code",
   "execution_count": 204,
   "metadata": {},
   "outputs": [],
   "source": [
    "class Solution:\n",
    "    def reverseKGroup(self, head: Optional[ListNode], k: int) -> Optional[ListNode]:\n",
    "        for i in range(k, getLinkedListLength(head) + 1, k):\n",
    "            head = reverseLinkedListPartial(head, i-k, i)\n",
    "        return head"
   ]
  },
  {
   "cell_type": "code",
   "execution_count": 205,
   "metadata": {},
   "outputs": [
    {
     "name": "stdout",
     "output_type": "stream",
     "text": [
      "[3, 2, 1, 6, 5, 4]\n"
     ]
    }
   ],
   "source": [
    "head = asLinkedList([1,2,3,4,5,6])\n",
    "k = 3\n",
    "sol = Solution()\n",
    "print(asList(sol.reverseKGroup(head, k)))"
   ]
  },
  {
   "cell_type": "code",
   "execution_count": 206,
   "metadata": {},
   "outputs": [],
   "source": [
    "class Solution:\n",
    "\n",
    "    \n",
    "    def reverseKGroup(self, head, k):\n",
    "        \"\"\"\n",
    "        :type head: ListNode\n",
    "        :type k: int\n",
    "        :rtype: ListNode\n",
    "        \"\"\"\n",
    "        # Dummy node initialization\n",
    "        dummy = jump = ListNode(-1)\n",
    "        dummy.next = l = r = head\n",
    "        \n",
    "        while True:\n",
    "            count = 0\n",
    "            while r and count < k:\n",
    "                count += 1\n",
    "                r = r.next\n",
    "            if count == k:\n",
    "                pre, cur = r, l\n",
    "                for _ in range(k):\n",
    "                    temp = cur.next\n",
    "                    cur.next = pre\n",
    "                    pre = cur\n",
    "                    cur = temp\n",
    "                jump.next = pre\n",
    "                jump = l\n",
    "                l = r\n",
    "            else:\n",
    "                return dummy.next"
   ]
  },
  {
   "cell_type": "code",
   "execution_count": 207,
   "metadata": {},
   "outputs": [
    {
     "name": "stdout",
     "output_type": "stream",
     "text": [
      "[3, 2, 1, 6, 5, 4]\n"
     ]
    }
   ],
   "source": [
    "head = asLinkedList([1,2,3,4,5,6])\n",
    "k = 3\n",
    "sol = Solution()\n",
    "print(asList(sol.reverseKGroup(head, k)))"
   ]
  }
 ],
 "metadata": {
  "kernelspec": {
   "display_name": "Python 3.10.4 ('template-venv': venv)",
   "language": "python",
   "name": "python3"
  },
  "language_info": {
   "codemirror_mode": {
    "name": "ipython",
    "version": 3
   },
   "file_extension": ".py",
   "mimetype": "text/x-python",
   "name": "python",
   "nbconvert_exporter": "python",
   "pygments_lexer": "ipython3",
   "version": "3.10.4"
  },
  "orig_nbformat": 4,
  "vscode": {
   "interpreter": {
    "hash": "0b8dd1d11c220dfc9d15848c82c145ba1a021fcb056c07a0cc073ae3ed6d8420"
   }
  }
 },
 "nbformat": 4,
 "nbformat_minor": 2
}
