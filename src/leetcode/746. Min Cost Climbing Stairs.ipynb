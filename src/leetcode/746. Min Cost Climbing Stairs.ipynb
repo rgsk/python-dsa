{
 "cells": [
  {
   "cell_type": "code",
   "execution_count": 17,
   "metadata": {},
   "outputs": [],
   "source": [
    "from typing import List\n",
    "from functools import lru_cache\n",
    "class Solution:\n",
    "    def minCostClimbingStairs(self, cost: List[int]) -> int:\n",
    "        @lru_cache\n",
    "        def helper(i: int):\n",
    "            if i >= len(cost):\n",
    "                return 0\n",
    "            return min(helper(i+1) + cost[i], helper(i + 2) + cost[i])\n",
    "        return min(helper(0), helper(1))"
   ]
  },
  {
   "cell_type": "code",
   "execution_count": 18,
   "metadata": {},
   "outputs": [
    {
     "name": "stdout",
     "output_type": "stream",
     "text": [
      "15\n"
     ]
    }
   ],
   "source": [
    "cost = [10,15,20]\n",
    "sol = Solution()\n",
    "print(sol.minCostClimbingStairs(cost))"
   ]
  },
  {
   "cell_type": "code",
   "execution_count": 19,
   "metadata": {},
   "outputs": [
    {
     "name": "stdout",
     "output_type": "stream",
     "text": [
      "6\n"
     ]
    }
   ],
   "source": [
    "cost = [1,100,1,1,1,100,1,1,100,1]\n",
    "sol = Solution()\n",
    "print(sol.minCostClimbingStairs(cost))"
   ]
  },
  {
   "cell_type": "code",
   "execution_count": 20,
   "metadata": {},
   "outputs": [],
   "source": [
    "class Solution:\n",
    "    def minCostClimbingStairs(self, cost: List[int]) -> int:\n",
    "        if not cost:\n",
    "            return 0\n",
    "        dp = [0] * len(cost)\n",
    "        dp[0] = cost[0]\n",
    "        if len(cost) >= 2:\n",
    "            dp[1] = cost[1]\n",
    "        for i in range(2, len(cost)):\n",
    "            dp[i] = cost[i] + min(dp[i-1], dp[i-2])\n",
    "        return min(dp[-1], dp[-2])\n"
   ]
  },
  {
   "cell_type": "code",
   "execution_count": 21,
   "metadata": {},
   "outputs": [
    {
     "name": "stdout",
     "output_type": "stream",
     "text": [
      "15\n"
     ]
    }
   ],
   "source": [
    "cost = [10,15,20]\n",
    "sol = Solution()\n",
    "print(sol.minCostClimbingStairs(cost))"
   ]
  },
  {
   "cell_type": "code",
   "execution_count": 22,
   "metadata": {},
   "outputs": [
    {
     "name": "stdout",
     "output_type": "stream",
     "text": [
      "6\n"
     ]
    }
   ],
   "source": [
    "cost = [1,100,1,1,1,100,1,1,100,1]\n",
    "sol = Solution()\n",
    "print(sol.minCostClimbingStairs(cost))"
   ]
  },
  {
   "cell_type": "code",
   "execution_count": 23,
   "metadata": {},
   "outputs": [],
   "source": [
    "class Solution:\n",
    "    def minCostClimbingStairs(self, cost: List[int]) -> int:\n",
    "        if not cost:\n",
    "            return 0\n",
    "        \n",
    "        dp0=cost[0]\n",
    "        \n",
    "        if len(cost) >= 2:\n",
    "            dp1=cost[1]\n",
    "        \n",
    "        for i in range(2, len(cost)):\n",
    "            temp=cost[i] + min(dp0,dp1)\n",
    "            dp0=dp1\n",
    "            dp1=temp\n",
    "            \n",
    "        return min(dp0,dp1)"
   ]
  },
  {
   "cell_type": "code",
   "execution_count": 24,
   "metadata": {},
   "outputs": [
    {
     "name": "stdout",
     "output_type": "stream",
     "text": [
      "20\n"
     ]
    }
   ],
   "source": [
    "cost = [10,15,20,5,4]\n",
    "sol = Solution()\n",
    "print(sol.minCostClimbingStairs(cost))"
   ]
  }
 ],
 "metadata": {
  "kernelspec": {
   "display_name": "Python 3.10.4 ('template-venv': venv)",
   "language": "python",
   "name": "python3"
  },
  "language_info": {
   "codemirror_mode": {
    "name": "ipython",
    "version": 3
   },
   "file_extension": ".py",
   "mimetype": "text/x-python",
   "name": "python",
   "nbconvert_exporter": "python",
   "pygments_lexer": "ipython3",
   "version": "3.10.4"
  },
  "orig_nbformat": 4,
  "vscode": {
   "interpreter": {
    "hash": "0b8dd1d11c220dfc9d15848c82c145ba1a021fcb056c07a0cc073ae3ed6d8420"
   }
  }
 },
 "nbformat": 4,
 "nbformat_minor": 2
}
