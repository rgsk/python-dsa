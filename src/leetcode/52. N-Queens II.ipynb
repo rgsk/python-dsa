{
 "cells": [
  {
   "cell_type": "markdown",
   "metadata": {},
   "source": [
    "https://leetcode.com/problems/n-queens-ii/"
   ]
  },
  {
   "cell_type": "code",
   "execution_count": 4,
   "metadata": {},
   "outputs": [],
   "source": [
    "class Solution:\n",
    "    def totalNQueens(self, n: int) -> int:\n",
    "        board = [[0]*n for i in range(n)]\n",
    "        def issafe(r,c):\n",
    "            for i in range(r+1):\n",
    "                if board[i][c]:\n",
    "                    return False\n",
    "                if c - i >= 0 and board[r-i][c-i]:\n",
    "                    return False\n",
    "                if c + i < n and board[r-i][c+i]:\n",
    "                    return False\n",
    "            return True\n",
    "        count = 0\n",
    "        def solve(r):\n",
    "            nonlocal count\n",
    "            if r == n:\n",
    "                count += 1\n",
    "                return \n",
    "            for c in range(0,n):\n",
    "                if issafe(r,c):\n",
    "                    board[r][c] = 1\n",
    "                    solve(r+1)\n",
    "                    board[r][c] = 0\n",
    "     \n",
    "        solve(0) \n",
    "        return count"
   ]
  },
  {
   "cell_type": "code",
   "execution_count": 5,
   "metadata": {},
   "outputs": [
    {
     "data": {
      "text/plain": [
       "2"
      ]
     },
     "execution_count": 5,
     "metadata": {},
     "output_type": "execute_result"
    }
   ],
   "source": [
    "n = 4\n",
    "sol = Solution()\n",
    "sol.totalNQueens(n)"
   ]
  },
  {
   "cell_type": "code",
   "execution_count": 6,
   "metadata": {},
   "outputs": [
    {
     "data": {
      "text/plain": [
       "1"
      ]
     },
     "execution_count": 6,
     "metadata": {},
     "output_type": "execute_result"
    }
   ],
   "source": [
    "n = 1\n",
    "sol = Solution()\n",
    "sol.totalNQueens(n)"
   ]
  }
 ],
 "metadata": {
  "kernelspec": {
   "display_name": "dsa-venv",
   "language": "python",
   "name": "python3"
  },
  "language_info": {
   "codemirror_mode": {
    "name": "ipython",
    "version": 3
   },
   "file_extension": ".py",
   "mimetype": "text/x-python",
   "name": "python",
   "nbconvert_exporter": "python",
   "pygments_lexer": "ipython3",
   "version": "3.11.3"
  }
 },
 "nbformat": 4,
 "nbformat_minor": 2
}
