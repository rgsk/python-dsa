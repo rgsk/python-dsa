{
 "cells": [
  {
   "cell_type": "code",
   "execution_count": 24,
   "metadata": {},
   "outputs": [],
   "source": [
    "import sys\n",
    "sys.path.append('..')\n",
    "\n",
    "from lib.ListNode import *"
   ]
  },
  {
   "cell_type": "code",
   "execution_count": 25,
   "metadata": {},
   "outputs": [],
   "source": [
    "class Solution:\n",
    "    def partition(self, head: Optional[ListNode], x: int) -> Optional[ListNode]:\n",
    "        l = asList(head)\n",
    "        smaller = []\n",
    "        bigger = []\n",
    "        for v in l:\n",
    "            if v < x:\n",
    "                smaller.append(v)\n",
    "            else:\n",
    "                bigger.append(v)\n",
    "        return makeList(smaller + bigger) "
   ]
  },
  {
   "cell_type": "code",
   "execution_count": 26,
   "metadata": {},
   "outputs": [],
   "source": [
    "\n",
    "# better solution\n",
    "class Solution:\n",
    "    def partition(self, head: Optional[ListNode], x: int) -> Optional[ListNode]:\n",
    "        s = smaller = ListNode(-1)\n",
    "        b = bigger = ListNode(-1)\n",
    "        temp = head\n",
    "        while temp:\n",
    "            if temp.val < x:\n",
    "                smaller.next = temp\n",
    "                smaller = smaller.next\n",
    "            else:\n",
    "                bigger.next = temp\n",
    "                bigger = bigger.next\n",
    "            temp = temp.next\n",
    "        bigger.next = None\n",
    "        smaller.next = b.next\n",
    "        return s.next"
   ]
  },
  {
   "cell_type": "code",
   "execution_count": 27,
   "metadata": {},
   "outputs": [
    {
     "name": "stdout",
     "output_type": "stream",
     "text": [
      "[1, 2, 2, 4, 3, 5]\n"
     ]
    }
   ],
   "source": [
    "head = makeList([1,4,3,2,5,2])\n",
    "x = 3\n",
    "sol = Solution()\n",
    "print(asList(sol.partition(head, x)))"
   ]
  }
 ],
 "metadata": {
  "kernelspec": {
   "display_name": "dsa-venv",
   "language": "python",
   "name": "python3"
  },
  "language_info": {
   "codemirror_mode": {
    "name": "ipython",
    "version": 3
   },
   "file_extension": ".py",
   "mimetype": "text/x-python",
   "name": "python",
   "nbconvert_exporter": "python",
   "pygments_lexer": "ipython3",
   "version": "3.11.3"
  }
 },
 "nbformat": 4,
 "nbformat_minor": 2
}
