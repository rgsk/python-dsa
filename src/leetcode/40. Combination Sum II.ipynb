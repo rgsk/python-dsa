{
 "cells": [
  {
   "cell_type": "code",
   "execution_count": 1,
   "metadata": {},
   "outputs": [],
   "source": [
    "from typing import List\n",
    "\n",
    "\n",
    "class Solution:\n",
    "    def combinationSum2(self, candidates: List[int], target: int) -> List[List[int]]:\n",
    "        candidates.sort()\n",
    "        ans = []\n",
    "\n",
    "        def helper(i: int, curSum: int, curList: list[int]):\n",
    "            if curSum > target:\n",
    "                return\n",
    "            if curSum == target:\n",
    "                cur = [v for v in curList]\n",
    "                if cur not in ans:\n",
    "                    ans.append(cur)\n",
    "                return\n",
    "            if i == len(candidates):\n",
    "                return\n",
    "            curList.append(candidates[i])\n",
    "            helper(i + 1, curSum + candidates[i], curList)\n",
    "            curList.pop()\n",
    "            helper(i+1, curSum, curList)\n",
    "        helper(0, 0, [])\n",
    "        return ans\n"
   ]
  },
  {
   "cell_type": "code",
   "execution_count": 2,
   "metadata": {},
   "outputs": [
    {
     "data": {
      "text/plain": [
       "[[1, 1, 6], [1, 2, 5], [1, 7], [2, 6]]"
      ]
     },
     "execution_count": 2,
     "metadata": {},
     "output_type": "execute_result"
    }
   ],
   "source": [
    "candidates = [10,1,2,7,6,1,5]\n",
    "target = 8\n",
    "sol = Solution()\n",
    "sol.combinationSum2(candidates, target)"
   ]
  },
  {
   "cell_type": "code",
   "execution_count": 3,
   "metadata": {},
   "outputs": [
    {
     "name": "stdout",
     "output_type": "stream",
     "text": [
      "[[1, 2, 2], [5]]\n"
     ]
    }
   ],
   "source": [
    "candidates = [2,5,2,1,2]\n",
    "target = 5\n",
    "sol = Solution()\n",
    "print(sol.combinationSum2(candidates, target))"
   ]
  },
  {
   "cell_type": "code",
   "execution_count": 4,
   "metadata": {},
   "outputs": [],
   "source": [
    "from typing import List\n",
    "\n",
    "\n",
    "class Solution:\n",
    "    def combinationSum2(self, candidates: List[int], target: int) -> List[List[int]]:\n",
    "        candidates.sort()\n",
    "        ans = []\n",
    "\n",
    "        def helper(i: int, curSum: int, curList: list[int]):\n",
    "            if curSum > target:\n",
    "                return\n",
    "            if curSum == target:\n",
    "                cur = [v for v in curList]\n",
    "                if cur not in ans:\n",
    "                    ans.append(cur)\n",
    "                return\n",
    "            if i == len(candidates):\n",
    "                return\n",
    "            curList.append(candidates[i])\n",
    "            helper(i + 1, curSum + candidates[i], curList)\n",
    "            curList.pop()\n",
    "            incr = 1\n",
    "            while i + incr < len(candidates) and candidates[i+incr] == candidates[i]:\n",
    "                incr += 1\n",
    "            helper(i+incr, curSum, curList)\n",
    "        helper(0, 0, [])\n",
    "        return ans"
   ]
  },
  {
   "cell_type": "code",
   "execution_count": 5,
   "metadata": {},
   "outputs": [
    {
     "name": "stdout",
     "output_type": "stream",
     "text": [
      "[[1, 1, 6], [1, 2, 5], [1, 7], [2, 6]]\n"
     ]
    }
   ],
   "source": [
    "candidates = [10,1,2,7,6,1,5]\n",
    "target = 8\n",
    "sol = Solution()\n",
    "print(sol.combinationSum2(candidates, target))"
   ]
  },
  {
   "cell_type": "code",
   "execution_count": 6,
   "metadata": {},
   "outputs": [
    {
     "name": "stdout",
     "output_type": "stream",
     "text": [
      "[[1, 2, 2], [5]]\n"
     ]
    }
   ],
   "source": [
    "candidates = [2,5,2,1,2]\n",
    "target = 5\n",
    "sol = Solution()\n",
    "print(sol.combinationSum2(candidates, target))"
   ]
  },
  {
   "cell_type": "code",
   "execution_count": 7,
   "metadata": {},
   "outputs": [],
   "source": [
    "class Solution:\n",
    "    def combinationSum2(self, candidates: list[int], target: int):\n",
    "        candidates.sort()                      \n",
    "        result = []\n",
    "        self.combine_sum_2(candidates, 0, [], result, target)\n",
    "        return result\n",
    "        \n",
    "    def combine_sum_2(self, candidates: list[int], start: int, path: list[int], result: list[int], target: int):\n",
    "        if not target:\n",
    "            result.append(path)\n",
    "            return\n",
    "        \n",
    "        for i in range(start, len(candidates)):\n",
    "            if i > start and candidates[i] == candidates[i - 1]:\n",
    "                continue\n",
    "            if candidates[i] > target:\n",
    "                break\n",
    "            self.combine_sum_2(candidates, i + 1, path + [candidates[i]], \n",
    "                            result, target - candidates[i])"
   ]
  },
  {
   "cell_type": "code",
   "execution_count": 8,
   "metadata": {},
   "outputs": [
    {
     "name": "stdout",
     "output_type": "stream",
     "text": [
      "[[1, 1, 6], [1, 2, 5], [1, 7], [2, 6]]\n"
     ]
    }
   ],
   "source": [
    "candidates = [10,1,2,7,6,1,5]\n",
    "target = 8\n",
    "sol = Solution()\n",
    "print(sol.combinationSum2(candidates, target))"
   ]
  },
  {
   "cell_type": "code",
   "execution_count": 9,
   "metadata": {},
   "outputs": [
    {
     "name": "stdout",
     "output_type": "stream",
     "text": [
      "[[1, 2, 2], [5]]\n"
     ]
    }
   ],
   "source": [
    "candidates = [2,5,2,1,2]\n",
    "target = 5\n",
    "sol = Solution()\n",
    "print(sol.combinationSum2(candidates, target))"
   ]
  }
 ],
 "metadata": {
  "kernelspec": {
   "display_name": "Python 3.10.4 ('template-venv': venv)",
   "language": "python",
   "name": "python3"
  },
  "language_info": {
   "codemirror_mode": {
    "name": "ipython",
    "version": 3
   },
   "file_extension": ".py",
   "mimetype": "text/x-python",
   "name": "python",
   "nbconvert_exporter": "python",
   "pygments_lexer": "ipython3",
   "version": "3.10.4"
  },
  "orig_nbformat": 4,
  "vscode": {
   "interpreter": {
    "hash": "0b8dd1d11c220dfc9d15848c82c145ba1a021fcb056c07a0cc073ae3ed6d8420"
   }
  }
 },
 "nbformat": 4,
 "nbformat_minor": 2
}
