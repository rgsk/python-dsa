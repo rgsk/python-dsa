{
 "cells": [
  {
   "cell_type": "code",
   "execution_count": 185,
   "metadata": {},
   "outputs": [],
   "source": [
    "mod = 10**9 + 7\n",
    "class Solution:\n",
    "    def numberOfWays(self, n: int, x: int) -> int:\n",
    "        def helper(i, remaining):\n",
    "            if remaining == 0:\n",
    "                return 1\n",
    "            if i ** x > remaining:\n",
    "                return 0\n",
    "            pick = helper(i + 1, remaining - i**x)\n",
    "            skip = helper(i + 1, remaining)\n",
    "            return pick + skip\n",
    "        return helper(1, n) % mod"
   ]
  },
  {
   "cell_type": "code",
   "execution_count": 186,
   "metadata": {},
   "outputs": [],
   "source": [
    "from functools import cache\n",
    "mod = 10**9 + 7\n",
    "\n",
    "class Solution:\n",
    "    def numberOfWays(self, n: int, x: int) -> int:\n",
    "        @cache\n",
    "        def helper(i, remaining):\n",
    "            if remaining == 0:\n",
    "                return 1\n",
    "            if i ** x > remaining:\n",
    "                return 0\n",
    "            pick = helper(i + 1, remaining - i**x)\n",
    "            skip = helper(i + 1, remaining)\n",
    "            return pick + skip\n",
    "        return helper(1, n) % mod"
   ]
  },
  {
   "cell_type": "code",
   "execution_count": 187,
   "metadata": {},
   "outputs": [],
   "source": [
    "mod = 10**9 + 7\n",
    "\n",
    "class Solution:\n",
    "    def numberOfWays(self, n: int, x: int) -> int:\n",
    "        dp = [[-1 for _ in range(n + 1)] for _ in range(n + 1)]\n",
    "        def helper(i, remaining):\n",
    "            if remaining == 0:\n",
    "                return 1\n",
    "            if i ** x > remaining:\n",
    "                return 0\n",
    "            if dp[i][remaining] != -1:\n",
    "                return dp[i][remaining]\n",
    "            pick = helper(i + 1, remaining - i**x)\n",
    "            skip = helper(i + 1, remaining)\n",
    "            dp[i][remaining] = pick + skip\n",
    "            return dp[i][remaining]\n",
    "        return helper(1, n) % mod"
   ]
  },
  {
   "cell_type": "code",
   "execution_count": 188,
   "metadata": {},
   "outputs": [],
   "source": [
    "mod = 10**9 + 7\n",
    "\n",
    "class Solution:\n",
    "    def numberOfWays(self, n: int, x: int) -> int:\n",
    "        dp = [[1 if remaining == 0 else 0 for remaining in range(n + 1)] for _ in range(n + 2)]\n",
    "        \n",
    "        for i in range(n, 0, -1):\n",
    "            for remaining in range(i ** x, n + 1):\n",
    "                pick = dp[i + 1][remaining - i**x]\n",
    "                skip = dp[i + 1][remaining]\n",
    "                dp[i][remaining] = pick + skip\n",
    "        return dp[1][n] % mod"
   ]
  },
  {
   "cell_type": "code",
   "execution_count": 189,
   "metadata": {},
   "outputs": [],
   "source": [
    "mod = 10**9 + 7\n",
    "\n",
    "class Solution:\n",
    "    def numberOfWays(self, n: int, x: int) -> int:\n",
    "        dp = [0] * (n + 1)\n",
    "        dp[0] = 1\n",
    "        for i in range(n, 0, -1):\n",
    "            next = dp[:]\n",
    "            for remaining in range(i ** x, n + 1):\n",
    "                dp[remaining] += next[remaining - i**x]\n",
    "        return dp[n] % mod"
   ]
  },
  {
   "cell_type": "code",
   "execution_count": 190,
   "metadata": {},
   "outputs": [
    {
     "data": {
      "text/plain": [
       "1"
      ]
     },
     "execution_count": 190,
     "metadata": {},
     "output_type": "execute_result"
    }
   ],
   "source": [
    "n = 10\n",
    "x = 2\n",
    "sol = Solution()\n",
    "sol.numberOfWays(n, x)"
   ]
  },
  {
   "cell_type": "code",
   "execution_count": 191,
   "metadata": {},
   "outputs": [
    {
     "data": {
      "text/plain": [
       "2"
      ]
     },
     "execution_count": 191,
     "metadata": {},
     "output_type": "execute_result"
    }
   ],
   "source": [
    "n = 4\n",
    "x = 1\n",
    "sol = Solution()\n",
    "sol.numberOfWays(n, x)"
   ]
  },
  {
   "cell_type": "code",
   "execution_count": 192,
   "metadata": {},
   "outputs": [
    {
     "data": {
      "text/plain": [
       "4"
      ]
     },
     "execution_count": 192,
     "metadata": {},
     "output_type": "execute_result"
    }
   ],
   "source": [
    "n = 6\n",
    "x = 1\n",
    "sol = Solution()\n",
    "sol.numberOfWays(n, x)"
   ]
  }
 ],
 "metadata": {
  "kernelspec": {
   "display_name": "dsa-venv",
   "language": "python",
   "name": "python3"
  },
  "language_info": {
   "codemirror_mode": {
    "name": "ipython",
    "version": 3
   },
   "file_extension": ".py",
   "mimetype": "text/x-python",
   "name": "python",
   "nbconvert_exporter": "python",
   "pygments_lexer": "ipython3",
   "version": "3.11.3"
  },
  "orig_nbformat": 4
 },
 "nbformat": 4,
 "nbformat_minor": 2
}
