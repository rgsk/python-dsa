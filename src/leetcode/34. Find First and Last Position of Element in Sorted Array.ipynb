{
 "cells": [
  {
   "cell_type": "code",
   "execution_count": 7,
   "metadata": {},
   "outputs": [],
   "source": [
    "from typing import List\n",
    "def binary_search(nums: List[int], start: int, end: int, target: int):\n",
    "    # start and end are inclusive \n",
    "    while start <= end:\n",
    "        mid = (start + end)//2\n",
    "        if nums[mid] == target:\n",
    "            return mid\n",
    "        elif target > nums[mid]:\n",
    "            start = mid + 1\n",
    "        else: # target < nums[mid]\n",
    "            end = mid - 1\n",
    "    return -1\n",
    "\n",
    "class Solution:\n",
    "    def searchRange(self, nums: List[int], target: int) -> List[int]:\n",
    "        n = len(nums)\n",
    "        idx = binary_search(nums, 0, len(nums)-1, target)\n",
    "        if idx == -1:\n",
    "            return [-1,-1]\n",
    "        l = r = idx\n",
    "        while l >= 0 and nums[l] == target:\n",
    "            l -= 1\n",
    "        l += 1\n",
    "        while r < n and nums[r] == target:\n",
    "            r += 1\n",
    "        r -= 1\n",
    "        return [l, r]"
   ]
  },
  {
   "cell_type": "code",
   "execution_count": 8,
   "metadata": {},
   "outputs": [
    {
     "name": "stdout",
     "output_type": "stream",
     "text": [
      "[3, 6]\n"
     ]
    }
   ],
   "source": [
    "nums = [5,7,7,8,8,8,8,10]\n",
    "target = 8\n",
    "sol = Solution()\n",
    "print(sol.searchRange(nums, target))"
   ]
  }
 ],
 "metadata": {
  "kernelspec": {
   "display_name": "Python 3.10.4 ('template-venv': venv)",
   "language": "python",
   "name": "python3"
  },
  "language_info": {
   "codemirror_mode": {
    "name": "ipython",
    "version": 3
   },
   "file_extension": ".py",
   "mimetype": "text/x-python",
   "name": "python",
   "nbconvert_exporter": "python",
   "pygments_lexer": "ipython3",
   "version": "3.10.4"
  },
  "orig_nbformat": 4,
  "vscode": {
   "interpreter": {
    "hash": "0b8dd1d11c220dfc9d15848c82c145ba1a021fcb056c07a0cc073ae3ed6d8420"
   }
  }
 },
 "nbformat": 4,
 "nbformat_minor": 2
}
