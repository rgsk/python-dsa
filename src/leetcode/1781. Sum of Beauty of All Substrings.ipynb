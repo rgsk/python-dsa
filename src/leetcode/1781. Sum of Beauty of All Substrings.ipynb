{
 "cells": [
  {
   "cell_type": "code",
   "execution_count": 1,
   "metadata": {},
   "outputs": [],
   "source": [
    "\n",
    "from collections import defaultdict\n",
    "\n",
    "\n",
    "INT_MIN = -(2 ** 31)\n",
    "INT_MAX = (2 ** 31)-1\n",
    "\n",
    "\n",
    "def getBeauty(char_freq_dict: dict[str,int]):\n",
    "    min_times = INT_MAX\n",
    "    max_times = 0\n",
    "    for char in char_freq_dict:\n",
    "        max_times = max(max_times, char_freq_dict[char])\n",
    "        min_times = min(min_times, char_freq_dict[char])\n",
    "    return max_times - min_times\n",
    "\n",
    "\n",
    "\n",
    "\n",
    "class Solution:\n",
    "    def beautySum(self, s: str) -> int:\n",
    "        ans = 0\n",
    "        n = len(s)\n",
    "        for i in range(n):\n",
    "            mapping = defaultdict(int)\n",
    "            for j in range(i, n):\n",
    "                mapping[s[j]] += 1\n",
    "                ans += getBeauty(mapping)\n",
    "        return ans\n",
    "     "
   ]
  },
  {
   "cell_type": "code",
   "execution_count": 2,
   "metadata": {},
   "outputs": [
    {
     "name": "stdout",
     "output_type": "stream",
     "text": [
      "5\n"
     ]
    }
   ],
   "source": [
    "s = \"aabcb\"\n",
    "sol = Solution()\n",
    "print(sol.beautySum(s))"
   ]
  },
  {
   "cell_type": "code",
   "execution_count": 3,
   "metadata": {},
   "outputs": [
    {
     "name": "stdout",
     "output_type": "stream",
     "text": [
      "17\n"
     ]
    }
   ],
   "source": [
    "s = \"aabcbaa\"\n",
    "sol = Solution()\n",
    "print(sol.beautySum(s))"
   ]
  }
 ],
 "metadata": {
  "kernelspec": {
   "display_name": "base",
   "language": "python",
   "name": "python3"
  },
  "language_info": {
   "codemirror_mode": {
    "name": "ipython",
    "version": 3
   },
   "file_extension": ".py",
   "mimetype": "text/x-python",
   "name": "python",
   "nbconvert_exporter": "python",
   "pygments_lexer": "ipython3",
   "version": "3.11.3"
  },
  "orig_nbformat": 4
 },
 "nbformat": 4,
 "nbformat_minor": 2
}
