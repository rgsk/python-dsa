{
 "cells": [
  {
   "cell_type": "code",
   "execution_count": 14,
   "metadata": {},
   "outputs": [],
   "source": [
    "from functools import cache\n",
    "from typing import List\n",
    "\n",
    "\n",
    "class Solution:\n",
    "    def wordBreak(self, s: str, wordDict: List[str]) -> bool:\n",
    "        @cache\n",
    "        def helper(idx: int = 0):\n",
    "            if idx == len(s):\n",
    "                return True\n",
    "            for word in wordDict: \n",
    "                if s[idx:].startswith(word):\n",
    "                    val = helper(idx + len(word))\n",
    "                    if val == True:\n",
    "                        return True\n",
    "            return False\n",
    "        return helper()"
   ]
  },
  {
   "cell_type": "code",
   "execution_count": null,
   "metadata": {},
   "outputs": [],
   "source": [
    "from functools import cache\n",
    "from typing import List\n",
    "\n",
    "\n",
    "class Solution:\n",
    "    def wordBreak(self, s: str, wordDict: List[str]) -> bool:\n",
    "        @cache\n",
    "        def helper(idx: int = 0):\n",
    "            if idx == len(s):\n",
    "                return True\n",
    "            for word in wordDict:\n",
    "                if idx + len(word) <= len(s) and all([s[idx+i] == word[i] for i in range(len(word))]):\n",
    "                    val = helper(idx + len(word))\n",
    "                    if val == True:\n",
    "                        return True\n",
    "            return False\n",
    "        return helper()"
   ]
  },
  {
   "cell_type": "code",
   "execution_count": 15,
   "metadata": {},
   "outputs": [
    {
     "data": {
      "text/plain": [
       "True"
      ]
     },
     "execution_count": 15,
     "metadata": {},
     "output_type": "execute_result"
    }
   ],
   "source": [
    "s = \"leetcode\"\n",
    "wordDict = [\"leet\",\"code\"]\n",
    "\n",
    "sol = Solution()\n",
    "sol.wordBreak(s, wordDict)"
   ]
  },
  {
   "cell_type": "code",
   "execution_count": 16,
   "metadata": {},
   "outputs": [
    {
     "data": {
      "text/plain": [
       "True"
      ]
     },
     "execution_count": 16,
     "metadata": {},
     "output_type": "execute_result"
    }
   ],
   "source": [
    "s = \"applepenapple\"\n",
    "wordDict = [\"apple\",\"pen\"]\n",
    "\n",
    "sol = Solution()\n",
    "sol.wordBreak(s, wordDict)"
   ]
  },
  {
   "cell_type": "code",
   "execution_count": 17,
   "metadata": {},
   "outputs": [
    {
     "data": {
      "text/plain": [
       "False"
      ]
     },
     "execution_count": 17,
     "metadata": {},
     "output_type": "execute_result"
    }
   ],
   "source": [
    "s = \"catsandog\"\n",
    "wordDict = [\"cats\",\"dog\",\"sand\",\"and\",\"cat\"]\n",
    "\n",
    "sol = Solution()\n",
    "sol.wordBreak(s, wordDict)"
   ]
  }
 ],
 "metadata": {
  "kernelspec": {
   "display_name": "dsa-venv",
   "language": "python",
   "name": "python3"
  },
  "language_info": {
   "codemirror_mode": {
    "name": "ipython",
    "version": 3
   },
   "file_extension": ".py",
   "mimetype": "text/x-python",
   "name": "python",
   "nbconvert_exporter": "python",
   "pygments_lexer": "ipython3",
   "version": "3.11.3"
  },
  "orig_nbformat": 4
 },
 "nbformat": 4,
 "nbformat_minor": 2
}
