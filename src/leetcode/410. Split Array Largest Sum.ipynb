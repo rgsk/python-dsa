{
 "cells": [
  {
   "cell_type": "code",
   "execution_count": 61,
   "metadata": {},
   "outputs": [],
   "source": [
    "import math\n",
    "from typing import List\n",
    "\n",
    "\n",
    "\n",
    "class Solution:\n",
    "    def splitArray(self, nums: List[int], k: int) -> int:\n",
    "        n = len(nums)\n",
    "        def helper(i, partitions):\n",
    "            if partitions == 0:\n",
    "                return sum(nums[i:])\n",
    "            ans = math.inf\n",
    "            for j in range(i + 1, n - partitions + 1):\n",
    "                res = max(sum(nums[i:j]), helper(j, partitions - 1))\n",
    "                ans = min(ans, res)\n",
    "            return ans\n",
    "        return helper(0, k - 1)"
   ]
  },
  {
   "cell_type": "code",
   "execution_count": 62,
   "metadata": {},
   "outputs": [],
   "source": [
    "from functools import cache\n",
    "import math\n",
    "from typing import List\n",
    "\n",
    "\n",
    "# Accepted but very slow\n",
    "class Solution:\n",
    "    def splitArray(self, nums: List[int], k: int) -> int:\n",
    "        n = len(nums)\n",
    "        prefix_sum = [0] * (n+1)\n",
    "        for i in range(1, n + 1):\n",
    "            prefix_sum[i] = prefix_sum[i-1] + nums[i - 1]\n",
    "        def get_sum(i, j):\n",
    "            return prefix_sum[j] - prefix_sum[i]\n",
    "        @cache\n",
    "        def helper(i, partitions):\n",
    "            if partitions == 0:\n",
    "                return get_sum(i, n)\n",
    "            ans = math.inf\n",
    "            for j in range(i + 1, n - partitions + 1):\n",
    "                res = max(get_sum(i, j), helper(j, partitions - 1))\n",
    "                ans = min(ans, res)\n",
    "            return ans\n",
    "        return helper(0, k - 1)"
   ]
  },
  {
   "cell_type": "code",
   "execution_count": 63,
   "metadata": {},
   "outputs": [],
   "source": [
    "import math\n",
    "from typing import List\n",
    "\n",
    "# Time Limit Exceeded\n",
    "# Testcases passed, but took too long.\n",
    "class Solution:\n",
    "    def splitArray(self, nums: List[int], k: int) -> int:\n",
    "        n = len(nums)\n",
    "        prefix_sum = [0] * (n+1)\n",
    "        for i in range(1, n + 1):\n",
    "            prefix_sum[i] = prefix_sum[i-1] + nums[i - 1]\n",
    "        def get_sum(i, j):\n",
    "            return prefix_sum[j] - prefix_sum[i]\n",
    "        dp = [[-1 for _ in range(k)] for _ in range(n)]\n",
    "        def helper(i, partitions):\n",
    "            if partitions == 0:\n",
    "                return get_sum(i, n)\n",
    "            if dp[i][partitions] != -1:\n",
    "                return dp[i][partitions]\n",
    "            ans = math.inf\n",
    "            for j in range(i + 1, n - partitions + 1):\n",
    "                res = max(get_sum(i, j), helper(j, partitions - 1))\n",
    "                ans = min(ans, res)\n",
    "            dp[i][partitions] = ans\n",
    "            return ans\n",
    "        return helper(0, k - 1)"
   ]
  },
  {
   "cell_type": "code",
   "execution_count": 64,
   "metadata": {},
   "outputs": [],
   "source": [
    "class Solution:\n",
    "    def splitArray(self, nums: List[int], k: int) -> int:\n",
    "        def cannot_split(max_sum, k):\n",
    "            cuts, curr_sum  = 0, 0\n",
    "            for x in nums:\n",
    "                curr_sum += x\n",
    "                if curr_sum > max_sum:\n",
    "                    cuts += 1\n",
    "                    curr_sum = x\n",
    "            subs = cuts + 1\n",
    "            return (subs > k)\n",
    "        \n",
    "        low, high = max(nums), sum(nums)\n",
    "        while low < high:\n",
    "            guess = (low + high) // 2\n",
    "            if cannot_split(guess, k):\n",
    "                low = guess + 1\n",
    "            else:\n",
    "                high = guess\n",
    "        return low"
   ]
  },
  {
   "cell_type": "code",
   "execution_count": 65,
   "metadata": {},
   "outputs": [
    {
     "data": {
      "text/plain": [
       "18"
      ]
     },
     "execution_count": 65,
     "metadata": {},
     "output_type": "execute_result"
    }
   ],
   "source": [
    "nums = [7,2,5,10,8]\n",
    "k = 2\n",
    "sol = Solution()\n",
    "sol.splitArray(nums, k)"
   ]
  },
  {
   "cell_type": "code",
   "execution_count": 66,
   "metadata": {},
   "outputs": [
    {
     "data": {
      "text/plain": [
       "9"
      ]
     },
     "execution_count": 66,
     "metadata": {},
     "output_type": "execute_result"
    }
   ],
   "source": [
    "nums = [1,2,3,4,5]\n",
    "k = 2\n",
    "sol = Solution()\n",
    "sol.splitArray(nums, k)"
   ]
  }
 ],
 "metadata": {
  "kernelspec": {
   "display_name": "dsa-venv",
   "language": "python",
   "name": "python3"
  },
  "language_info": {
   "codemirror_mode": {
    "name": "ipython",
    "version": 3
   },
   "file_extension": ".py",
   "mimetype": "text/x-python",
   "name": "python",
   "nbconvert_exporter": "python",
   "pygments_lexer": "ipython3",
   "version": "3.11.3"
  },
  "orig_nbformat": 4
 },
 "nbformat": 4,
 "nbformat_minor": 2
}
