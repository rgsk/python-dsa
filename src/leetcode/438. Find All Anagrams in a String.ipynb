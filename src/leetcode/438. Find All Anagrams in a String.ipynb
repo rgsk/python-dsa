{
 "cells": [
  {
   "cell_type": "code",
   "execution_count": 9,
   "metadata": {},
   "outputs": [],
   "source": [
    "from typing import List\n",
    "\n",
    "\n",
    "class Solution:\n",
    "    def findAnagrams(self, s: str, p: str) -> List[int]:\n",
    "        sorted_p = sorted(p)\n",
    "        ans = []\n",
    "        for i in range(len(s) - len(p) + 1):\n",
    "            next_letters = s[i:i+len(p)]\n",
    "            if sorted(next_letters) == sorted_p:\n",
    "                ans.append(i)\n",
    "        return ans"
   ]
  },
  {
   "cell_type": "code",
   "execution_count": 10,
   "metadata": {},
   "outputs": [],
   "source": [
    "from collections import defaultdict\n",
    "\n",
    "class Solution:\n",
    "    def findAnagrams(self, s: str, p: str) -> List[int]:\n",
    "        hm, res, pL, sL = defaultdict(int), [], len(p), len(s)\n",
    "        if pL > sL: return []\n",
    "\n",
    "        # build hashmap\n",
    "        for ch in p: hm[ch] += 1\n",
    "\n",
    "        # initial full pass over the window\n",
    "        for i in range(pL):\n",
    "            if s[i] in hm: hm[s[i]] -= 1\n",
    "\n",
    "        if all(v == 0 for v in hm.values()): \n",
    "            res.append(0)\n",
    "            \n",
    "        # slide the window with stride 1\n",
    "        for i in range(sL-pL):\n",
    "            if s[i] in hm:\n",
    "                hm[s[i]] += 1\n",
    "            if s[i+pL] in hm:\n",
    "                hm[s[i+pL]] -= 1\n",
    "                \n",
    "            # check whether we encountered an anagram\n",
    "            if all(v == 0 for v in hm.values()): \n",
    "                res.append(i + 1)\n",
    "                \n",
    "        return res"
   ]
  },
  {
   "cell_type": "code",
   "execution_count": 11,
   "metadata": {},
   "outputs": [
    {
     "data": {
      "text/plain": [
       "[0, 6]"
      ]
     },
     "execution_count": 11,
     "metadata": {},
     "output_type": "execute_result"
    }
   ],
   "source": [
    "s = \"cbaebabacd\"\n",
    "p = \"abc\"\n",
    "sol = Solution()\n",
    "sol.findAnagrams(s, p)"
   ]
  },
  {
   "cell_type": "code",
   "execution_count": 12,
   "metadata": {},
   "outputs": [
    {
     "data": {
      "text/plain": [
       "[0, 1, 2]"
      ]
     },
     "execution_count": 12,
     "metadata": {},
     "output_type": "execute_result"
    }
   ],
   "source": [
    "s = \"abab\"\n",
    "p = \"ab\"\n",
    "sol = Solution()\n",
    "sol.findAnagrams(s, p)"
   ]
  }
 ],
 "metadata": {
  "kernelspec": {
   "display_name": "dsa-venv",
   "language": "python",
   "name": "python3"
  },
  "language_info": {
   "codemirror_mode": {
    "name": "ipython",
    "version": 3
   },
   "file_extension": ".py",
   "mimetype": "text/x-python",
   "name": "python",
   "nbconvert_exporter": "python",
   "pygments_lexer": "ipython3",
   "version": "3.11.3"
  }
 },
 "nbformat": 4,
 "nbformat_minor": 2
}
