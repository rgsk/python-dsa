{
 "cells": [
  {
   "cell_type": "code",
   "execution_count": 23,
   "metadata": {},
   "outputs": [],
   "source": [
    "from typing import List\n",
    "\n",
    "# TLE\n",
    "class Solution:\n",
    "    def maxConsecutive(self, bottom: int, top: int, special: List[int]) -> int:\n",
    "        ans = 0\n",
    "        start = k = bottom\n",
    "        while k <= top:\n",
    "            if k in special:\n",
    "                ans = max(ans, k - start)\n",
    "                start = k + 1\n",
    "            k += 1\n",
    "        ans = max(ans, k - start)\n",
    "        return ans"
   ]
  },
  {
   "cell_type": "code",
   "execution_count": 24,
   "metadata": {},
   "outputs": [],
   "source": [
    "from typing import List\n",
    "\n",
    "# TLE\n",
    "class Solution:\n",
    "    def maxConsecutive(self, bottom: int, top: int, special: List[int]) -> int:\n",
    "        ans = 0\n",
    "        start = k = bottom\n",
    "        specialSet = set(special)\n",
    "        while k <= top:\n",
    "            if k in specialSet:\n",
    "                ans = max(ans, k - start)\n",
    "                start = k + 1\n",
    "            k += 1\n",
    "        ans = max(ans, k - start)\n",
    "        return ans"
   ]
  },
  {
   "cell_type": "code",
   "execution_count": 25,
   "metadata": {},
   "outputs": [],
   "source": [
    "class Solution:    \n",
    "    def maxConsecutive(self, bottom, top, A):\n",
    "        A.sort()\n",
    "        res = max(top - A[-1], A[0] - bottom)\n",
    "        for i in range(1, len(A)):\n",
    "            res = max(res, A[i] - A[i - 1] - 1)\n",
    "        return res"
   ]
  },
  {
   "cell_type": "code",
   "execution_count": 26,
   "metadata": {},
   "outputs": [
    {
     "data": {
      "text/plain": [
       "3"
      ]
     },
     "execution_count": 26,
     "metadata": {},
     "output_type": "execute_result"
    }
   ],
   "source": [
    "bottom = 2\n",
    "top = 9\n",
    "special = [4, 6]\n",
    "sol = Solution()\n",
    "sol.maxConsecutive(bottom, top, special) # 3"
   ]
  },
  {
   "cell_type": "code",
   "execution_count": 27,
   "metadata": {},
   "outputs": [
    {
     "data": {
      "text/plain": [
       "0"
      ]
     },
     "execution_count": 27,
     "metadata": {},
     "output_type": "execute_result"
    }
   ],
   "source": [
    "bottom = 6\n",
    "top = 8\n",
    "special = [7,6,8]\n",
    "sol = Solution()\n",
    "sol.maxConsecutive(bottom, top, special) # 0"
   ]
  }
 ],
 "metadata": {
  "kernelspec": {
   "display_name": "dsa-venv",
   "language": "python",
   "name": "python3"
  },
  "language_info": {
   "codemirror_mode": {
    "name": "ipython",
    "version": 3
   },
   "file_extension": ".py",
   "mimetype": "text/x-python",
   "name": "python",
   "nbconvert_exporter": "python",
   "pygments_lexer": "ipython3",
   "version": "3.11.3"
  },
  "orig_nbformat": 4
 },
 "nbformat": 4,
 "nbformat_minor": 2
}
