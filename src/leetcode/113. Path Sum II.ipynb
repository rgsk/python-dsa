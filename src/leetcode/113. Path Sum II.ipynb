{
 "cells": [
  {
   "cell_type": "code",
   "execution_count": 4,
   "metadata": {},
   "outputs": [],
   "source": [
    "import sys\n",
    "sys.path.append('..')\n",
    "\n",
    "\n",
    "from lib.TreeNode import *"
   ]
  },
  {
   "cell_type": "code",
   "execution_count": 5,
   "metadata": {},
   "outputs": [],
   "source": [
    "class Solution:\n",
    "    def pathSum(self, root: Optional[TreeNode], targetSum: int) -> List[List[int]]:\n",
    "        ans = []\n",
    "        def helper(root: Optional[TreeNode], elements: List[int] = [], sum = 0):\n",
    "            nonlocal ans\n",
    "            if root:\n",
    "                if root.left == None and root.right == None and sum + root.val == targetSum:\n",
    "                    ans.append(elements + [root.val])\n",
    "                    return\n",
    "                helper(root.left, elements + [root.val], sum + root.val)\n",
    "                helper(root.right, elements + [root.val], sum + root.val)\n",
    "        helper(root)\n",
    "        return ans"
   ]
  },
  {
   "cell_type": "code",
   "execution_count": 6,
   "metadata": {},
   "outputs": [
    {
     "data": {
      "text/plain": [
       "[[5, 4, 11, 2], [5, 8, 4, 5]]"
      ]
     },
     "execution_count": 6,
     "metadata": {},
     "output_type": "execute_result"
    }
   ],
   "source": [
    "root = formTree([5,4,8,11,None,13,4,7,2,None,None,5,1])\n",
    "targetSum = 22\n",
    "\n",
    "sol = Solution()\n",
    "sol.pathSum(root, targetSum)"
   ]
  }
 ],
 "metadata": {
  "kernelspec": {
   "display_name": "dsa-venv",
   "language": "python",
   "name": "python3"
  },
  "language_info": {
   "codemirror_mode": {
    "name": "ipython",
    "version": 3
   },
   "file_extension": ".py",
   "mimetype": "text/x-python",
   "name": "python",
   "nbconvert_exporter": "python",
   "pygments_lexer": "ipython3",
   "version": "3.11.3"
  }
 },
 "nbformat": 4,
 "nbformat_minor": 2
}
