{
 "cells": [
  {
   "cell_type": "code",
   "execution_count": 25,
   "metadata": {},
   "outputs": [],
   "source": [
    "from typing import List\n",
    "\n",
    "\n",
    "class Solution:\n",
    "    def longestConsecutive(self, nums: List[int]) -> int:\n",
    "        if not nums:\n",
    "            return 0\n",
    "        max_value = max(nums)\n",
    "        min_value = min(nums)\n",
    "        counter = {i: False for i in range(min_value, max_value + 1)}\n",
    "        for v in nums:\n",
    "            counter[v] = True\n",
    "        current_count = 0\n",
    "        max_count = 0\n",
    "        for v in counter.values():\n",
    "            if v:\n",
    "                current_count += 1\n",
    "            else:\n",
    "                max_count = max(current_count, max_count)\n",
    "                current_count = 0\n",
    "        max_count = max(current_count, max_count)\n",
    "        return max_count"
   ]
  },
  {
   "cell_type": "code",
   "execution_count": 26,
   "metadata": {},
   "outputs": [],
   "source": [
    "from typing import List\n",
    "\n",
    "\n",
    "class Solution:\n",
    "    def longestConsecutive(self, nums: List[int]) -> int:\n",
    "        st = set()\n",
    "        for n in nums:\n",
    "            st.add(n)\n",
    "\n",
    "        ans = 0\n",
    "        for n in nums:\n",
    "            if n in st:\n",
    "                l = n - 1\n",
    "                r = n + 1\n",
    "                while l in st:\n",
    "                    st.remove(l)\n",
    "                    l -= 1\n",
    "                while r in st:\n",
    "                    st.remove(r)\n",
    "                    r += 1\n",
    "                current_sequence_length = r - l - 1\n",
    "                ans = max(ans, current_sequence_length)\n",
    "            if not st:\n",
    "                return ans\n",
    "        return ans"
   ]
  },
  {
   "cell_type": "code",
   "execution_count": null,
   "metadata": {},
   "outputs": [],
   "source": [
    "class Solution:\n",
    "    def longestConsecutive(self, nums):\n",
    "        nums_set = set(nums)\n",
    "        best = 0\n",
    "        for x in nums_set:\n",
    "            if x - 1 not in nums_set:\n",
    "                y = x + 1\n",
    "                while y in nums_set:\n",
    "                    y += 1\n",
    "                best = max(best, y - x)\n",
    "        return best"
   ]
  },
  {
   "cell_type": "code",
   "execution_count": 27,
   "metadata": {},
   "outputs": [
    {
     "data": {
      "text/plain": [
       "4"
      ]
     },
     "execution_count": 27,
     "metadata": {},
     "output_type": "execute_result"
    }
   ],
   "source": [
    "nums_set = [100,4,200,1,3,2]\n",
    "sol = Solution()\n",
    "sol.longestConsecutive(nums_set)"
   ]
  },
  {
   "cell_type": "code",
   "execution_count": 28,
   "metadata": {},
   "outputs": [
    {
     "data": {
      "text/plain": [
       "9"
      ]
     },
     "execution_count": 28,
     "metadata": {},
     "output_type": "execute_result"
    }
   ],
   "source": [
    "nums_set = [0,3,7,2,5,8,4,6,0,1]\n",
    "sol = Solution()\n",
    "sol.longestConsecutive(nums_set)"
   ]
  }
 ],
 "metadata": {
  "kernelspec": {
   "display_name": "base",
   "language": "python",
   "name": "python3"
  },
  "language_info": {
   "codemirror_mode": {
    "name": "ipython",
    "version": 3
   },
   "file_extension": ".py",
   "mimetype": "text/x-python",
   "name": "python",
   "nbconvert_exporter": "python",
   "pygments_lexer": "ipython3",
   "version": "3.11.3"
  },
  "orig_nbformat": 4
 },
 "nbformat": 4,
 "nbformat_minor": 2
}
