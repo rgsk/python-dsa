{
 "cells": [
  {
   "cell_type": "code",
   "execution_count": 61,
   "metadata": {},
   "outputs": [],
   "source": [
    "from typing import List\n",
    "class Solution:\n",
    "    def permuteUnique(self, nums: List[int]) -> List[List[int]]:\n",
    "        ans = []\n",
    "        n = len(nums)\n",
    "        def helper(i: int):\n",
    "            if i >= n:\n",
    "                to_be_added = [v for v in nums]\n",
    "                if to_be_added not in ans:\n",
    "                    ans.append(to_be_added)\n",
    "                return\n",
    "            for j in range(i, n):\n",
    "                nums[i], nums[j] = nums[j], nums[i]\n",
    "                helper(i + 1)\n",
    "                nums[i], nums[j] = nums[j], nums[i]\n",
    "        helper(0)\n",
    "        return ans"
   ]
  },
  {
   "cell_type": "code",
   "execution_count": 62,
   "metadata": {},
   "outputs": [
    {
     "name": "stdout",
     "output_type": "stream",
     "text": [
      "[[1, 1, 2, 2], [1, 2, 1, 2], [1, 2, 2, 1], [2, 1, 1, 2], [2, 1, 2, 1], [2, 2, 1, 1]]\n"
     ]
    }
   ],
   "source": [
    "nums = [1,1,2,2]\n",
    "sol = Solution()\n",
    "print(sol.permuteUnique(nums))"
   ]
  },
  {
   "cell_type": "code",
   "execution_count": 63,
   "metadata": {},
   "outputs": [],
   "source": [
    "from typing import List\n",
    "class Solution:\n",
    "    def permuteUnique(self, nums: List[int]) -> List[List[int]]:\n",
    "        ans = set()\n",
    "        n = len(nums)\n",
    "        def helper(i: int):\n",
    "            if i >= n:\n",
    "                to_be_added = tuple([v for v in nums])\n",
    "                ans.add(to_be_added)\n",
    "                return\n",
    "            for j in range(i, n):\n",
    "                nums[i], nums[j] = nums[j], nums[i]\n",
    "                helper(i + 1)\n",
    "                nums[i], nums[j] = nums[j], nums[i]\n",
    "        helper(0)\n",
    "        return list([list(t) for t in ans])"
   ]
  },
  {
   "cell_type": "code",
   "execution_count": 64,
   "metadata": {},
   "outputs": [
    {
     "name": "stdout",
     "output_type": "stream",
     "text": [
      "[[1, 2, 1], [2, 1, 1], [1, 1, 2]]\n"
     ]
    }
   ],
   "source": [
    "nums = [1,1,2]\n",
    "sol = Solution()\n",
    "print(sol.permuteUnique(nums))"
   ]
  },
  {
   "cell_type": "code",
   "execution_count": 65,
   "metadata": {},
   "outputs": [],
   "source": [
    "class Solution:\n",
    "    def permuteUnique(self, nums: List[int]) -> List[List[int]]:\n",
    "        ans = []\n",
    "        n = len(nums)\n",
    "        def helper(i: int):\n",
    "            if i >= n:\n",
    "                ans.append([v for v in nums])\n",
    "                return\n",
    "            st = set()\n",
    "            for j in range(i, n):\n",
    "                if nums[j] in st:\n",
    "                    continue\n",
    "                st.add(nums[j])\n",
    "                nums[i], nums[j] = nums[j], nums[i]\n",
    "                helper(i + 1)\n",
    "                nums[i], nums[j] = nums[j], nums[i]\n",
    "        helper(0)\n",
    "        return ans"
   ]
  },
  {
   "cell_type": "code",
   "execution_count": 66,
   "metadata": {},
   "outputs": [
    {
     "name": "stdout",
     "output_type": "stream",
     "text": [
      "[[1, 1, 2, 2], [1, 2, 1, 2], [1, 2, 2, 1], [2, 1, 1, 2], [2, 1, 2, 1], [2, 2, 1, 1]]\n"
     ]
    }
   ],
   "source": [
    "nums = [1,1,2,2]\n",
    "sol = Solution()\n",
    "print(sol.permuteUnique(nums))"
   ]
  }
 ],
 "metadata": {
  "kernelspec": {
   "display_name": "Python 3.10.4 ('template-venv': venv)",
   "language": "python",
   "name": "python3"
  },
  "language_info": {
   "codemirror_mode": {
    "name": "ipython",
    "version": 3
   },
   "file_extension": ".py",
   "mimetype": "text/x-python",
   "name": "python",
   "nbconvert_exporter": "python",
   "pygments_lexer": "ipython3",
   "version": "3.10.4"
  },
  "orig_nbformat": 4,
  "vscode": {
   "interpreter": {
    "hash": "0b8dd1d11c220dfc9d15848c82c145ba1a021fcb056c07a0cc073ae3ed6d8420"
   }
  }
 },
 "nbformat": 4,
 "nbformat_minor": 2
}
