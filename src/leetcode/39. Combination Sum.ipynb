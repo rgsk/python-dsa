{
 "cells": [
  {
   "cell_type": "code",
   "execution_count": 28,
   "metadata": {},
   "outputs": [],
   "source": [
    "from typing import List\n",
    "class Solution:\n",
    "    def helper(self, index, cur_items, sum_remaining):\n",
    "        if sum_remaining == 0:\n",
    "            self.ans.append(cur_items)\n",
    "            return\n",
    "            \n",
    "        if sum_remaining < 0 or index >= len(self.candidates):\n",
    "            return\n",
    "        \n",
    "        self.helper(index, cur_items + [self.candidates[index]], sum_remaining - self.candidates[index])\n",
    "        self.helper(index + 1, cur_items, sum_remaining)\n",
    "\n",
    "\n",
    "    def combinationSum(self, candidates: List[int], target: int) -> List[List[int]]:\n",
    "        self.candidates = candidates\n",
    "        self.target = target\n",
    "        self.ans = []\n",
    "        self.helper(0, [], target)\n",
    "        return self.ans"
   ]
  },
  {
   "cell_type": "code",
   "execution_count": 29,
   "metadata": {},
   "outputs": [],
   "source": [
    "class Solution:\n",
    "    def combinationSum(self, candidates: List[int], target: int) -> List[List[int]]:\n",
    "        length = len(candidates)\n",
    "        ans = []\n",
    "        def helper(remaining_sum=target, current_index=0, current_elements = []):\n",
    "            if remaining_sum == 0:\n",
    "                ans.append(current_elements)\n",
    "                return\n",
    "            if remaining_sum < 0:\n",
    "                return\n",
    "            if current_index == length:\n",
    "                return\n",
    "            # include\n",
    "            helper(remaining_sum - candidates[current_index], current_index, current_elements + [candidates[current_index]])\n",
    "            # not include\n",
    "            helper(remaining_sum, current_index+1, current_elements)\n",
    "            \n",
    "        helper()\n",
    "        return ans"
   ]
  },
  {
   "cell_type": "code",
   "execution_count": 30,
   "metadata": {},
   "outputs": [
    {
     "name": "stdout",
     "output_type": "stream",
     "text": [
      "[[2, 2, 3], [7]]\n"
     ]
    }
   ],
   "source": [
    "candidates = [2,3,6,7]\n",
    "target = 7\n",
    "sol = Solution()\n",
    "print(sol.combinationSum(candidates, target))"
   ]
  },
  {
   "cell_type": "code",
   "execution_count": 31,
   "metadata": {},
   "outputs": [
    {
     "name": "stdout",
     "output_type": "stream",
     "text": [
      "[[2, 2, 2, 2], [2, 3, 3], [3, 5]]\n"
     ]
    }
   ],
   "source": [
    "candidates = [2,3,5]\n",
    "target = 8\n",
    "sol = Solution()\n",
    "print(sol.combinationSum(candidates, target))"
   ]
  }
 ],
 "metadata": {
  "kernelspec": {
   "display_name": "Python 3.10.6 ('dsa-venv': venv)",
   "language": "python",
   "name": "python3"
  },
  "language_info": {
   "codemirror_mode": {
    "name": "ipython",
    "version": 3
   },
   "file_extension": ".py",
   "mimetype": "text/x-python",
   "name": "python",
   "nbconvert_exporter": "python",
   "pygments_lexer": "ipython3",
   "version": "3.11.3"
  },
  "orig_nbformat": 4,
  "vscode": {
   "interpreter": {
    "hash": "e2278406c40349b728369a6b418500b4154ef0fb5e599ada131fe37b236439d7"
   }
  }
 },
 "nbformat": 4,
 "nbformat_minor": 2
}
