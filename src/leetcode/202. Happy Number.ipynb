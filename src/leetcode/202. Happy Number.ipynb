{
 "cells": [
  {
   "cell_type": "code",
   "execution_count": 1,
   "metadata": {},
   "outputs": [],
   "source": [
    "# https://leetcode.com/problems/happy-number/description/"
   ]
  },
  {
   "cell_type": "code",
   "execution_count": 2,
   "metadata": {},
   "outputs": [],
   "source": [
    "class Solution:\n",
    "    def isHappy(self, n: int) -> bool:\n",
    "        hashset = set()\n",
    "        while n != 1:\n",
    "            if n in hashset:\n",
    "                return False\n",
    "            hashset.add(n)\n",
    "            s = 0\n",
    "            while n > 0:\n",
    "                s += (n%10)**2\n",
    "                n //= 10\n",
    "            n = s\n",
    "        return True"
   ]
  },
  {
   "cell_type": "code",
   "execution_count": 3,
   "metadata": {},
   "outputs": [],
   "source": [
    "\n",
    "def digitSquareSum(n):\n",
    "    s = 0\n",
    "    while n > 0:\n",
    "        t = n % 10\n",
    "        s += t*t\n",
    "        n //= 10\n",
    "    return s\n",
    "\n",
    "class Solution:\n",
    "    def isHappy(self, n: int) -> bool:\n",
    "        slow = digitSquareSum(n)\n",
    "        fast = digitSquareSum(digitSquareSum(n))\n",
    "        while slow != fast:\n",
    "            slow = digitSquareSum(slow)\n",
    "            fast = digitSquareSum(digitSquareSum(fast))\n",
    "        return slow == 1"
   ]
  },
  {
   "cell_type": "code",
   "execution_count": 4,
   "metadata": {},
   "outputs": [
    {
     "data": {
      "text/plain": [
       "True"
      ]
     },
     "execution_count": 4,
     "metadata": {},
     "output_type": "execute_result"
    }
   ],
   "source": [
    "temp = 19\n",
    "sol = Solution()\n",
    "sol.isHappy(temp)"
   ]
  },
  {
   "cell_type": "code",
   "execution_count": 5,
   "metadata": {},
   "outputs": [
    {
     "data": {
      "text/plain": [
       "False"
      ]
     },
     "execution_count": 5,
     "metadata": {},
     "output_type": "execute_result"
    }
   ],
   "source": [
    "temp = 2\n",
    "sol = Solution()\n",
    "sol.isHappy(temp)"
   ]
  },
  {
   "cell_type": "code",
   "execution_count": 6,
   "metadata": {},
   "outputs": [
    {
     "data": {
      "text/plain": [
       "True"
      ]
     },
     "execution_count": 6,
     "metadata": {},
     "output_type": "execute_result"
    }
   ],
   "source": [
    "temp = 7\n",
    "sol = Solution()\n",
    "sol.isHappy(temp)"
   ]
  }
 ],
 "metadata": {
  "kernelspec": {
   "display_name": "dsa-venv",
   "language": "python",
   "name": "python3"
  },
  "language_info": {
   "codemirror_mode": {
    "name": "ipython",
    "version": 3
   },
   "file_extension": ".py",
   "mimetype": "text/x-python",
   "name": "python",
   "nbconvert_exporter": "python",
   "pygments_lexer": "ipython3",
   "version": "3.11.3"
  },
  "orig_nbformat": 4
 },
 "nbformat": 4,
 "nbformat_minor": 2
}
