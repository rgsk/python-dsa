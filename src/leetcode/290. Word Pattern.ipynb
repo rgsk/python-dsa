{
 "cells": [
  {
   "cell_type": "code",
   "execution_count": 12,
   "metadata": {},
   "outputs": [],
   "source": [
    "def checkC2cMapping(s1, s2):\n",
    "    if len(s1) != len(s2):\n",
    "        return False\n",
    "    n = len(s1)\n",
    "    mp = {}\n",
    "    for i in range(n):\n",
    "        if s1[i] in mp and mp[s1[i]] != s2[i]:\n",
    "            return False\n",
    "        mp[s1[i]] = s2[i]\n",
    "    return True\n",
    "class Solution:\n",
    "    def wordPattern(self, pattern: str, s: str) -> bool:\n",
    "        pattern_splitted = [v for v in pattern]\n",
    "        s_splitted = s.split(' ')\n",
    "        return checkC2cMapping(pattern_splitted, s_splitted) and checkC2cMapping(s_splitted, pattern_splitted)"
   ]
  },
  {
   "cell_type": "code",
   "execution_count": 13,
   "metadata": {},
   "outputs": [
    {
     "data": {
      "text/plain": [
       "True"
      ]
     },
     "execution_count": 13,
     "metadata": {},
     "output_type": "execute_result"
    }
   ],
   "source": [
    "pattern = \"abba\"\n",
    "s = \"dog cat cat dog\"\n",
    "sol = Solution()\n",
    "sol.wordPattern(pattern, s)"
   ]
  },
  {
   "cell_type": "code",
   "execution_count": 14,
   "metadata": {},
   "outputs": [
    {
     "data": {
      "text/plain": [
       "False"
      ]
     },
     "execution_count": 14,
     "metadata": {},
     "output_type": "execute_result"
    }
   ],
   "source": [
    "pattern = \"abba\"\n",
    "s = \"dog cat cat fish\"\n",
    "sol = Solution()\n",
    "sol.wordPattern(pattern, s)"
   ]
  }
 ],
 "metadata": {
  "kernelspec": {
   "display_name": "dsa-venv",
   "language": "python",
   "name": "python3"
  },
  "language_info": {
   "codemirror_mode": {
    "name": "ipython",
    "version": 3
   },
   "file_extension": ".py",
   "mimetype": "text/x-python",
   "name": "python",
   "nbconvert_exporter": "python",
   "pygments_lexer": "ipython3",
   "version": "3.11.3"
  },
  "orig_nbformat": 4
 },
 "nbformat": 4,
 "nbformat_minor": 2
}
