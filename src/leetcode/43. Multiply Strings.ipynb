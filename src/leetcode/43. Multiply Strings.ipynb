{
 "cells": [
  {
   "cell_type": "code",
   "execution_count": 145,
   "metadata": {},
   "outputs": [],
   "source": [
    "class Solution:\n",
    "    def multiply(self, num1: str, num2: str) -> str:\n",
    "        return str(int(num1) * int(num2))"
   ]
  },
  {
   "cell_type": "code",
   "execution_count": 146,
   "metadata": {},
   "outputs": [],
   "source": [
    "class Solution:\n",
    "    def add(self, num1: str, num2: str) -> str:\n",
    "        if len(num1) < len(num2):\n",
    "            return self.add(num2, num1)\n",
    "\n",
    "        rnum1 = num1[::-1]\n",
    "        rnum2 = num2[::-1]\n",
    "        \n",
    "        ans = \"\"\n",
    "        rem = 0\n",
    "        i = 0\n",
    "        while i < len(num1):\n",
    "            cur = int(rnum1[i]) + rem + (int(rnum2[i]) if i < len(num2) else 0)\n",
    "            rem = 0\n",
    "            if cur >= 10:\n",
    "                rem = cur // 10\n",
    "                cur %= 10\n",
    "            ans += str(cur)\n",
    "            i += 1\n",
    "        if rem > 0:\n",
    "            ans += str(rem)\n",
    "        return ans[::-1]\n",
    "    \n",
    "    def multiply(self, num1: str, num2: str) -> str:\n",
    "        if num1 == '0' or num2 == '0':\n",
    "            return '0'\n",
    "        rnum1 = num1[::-1]\n",
    "        rnum2 = num2[::-1]\n",
    "        \n",
    "        ans = \"0\"\n",
    "        j = 0\n",
    "        while j < len(num2):\n",
    "            i = 0\n",
    "            cur = \"\"\n",
    "            rem = 0\n",
    "            while i < len(num1):\n",
    "                mul = int(rnum1[i]) * int(rnum2[j]) + rem\n",
    "                rem = 0\n",
    "                if mul >= 10:\n",
    "                    rem = mul // 10\n",
    "                    mul %= 10\n",
    "                cur += str(mul)\n",
    "                i += 1\n",
    "            if rem > 0:\n",
    "                cur += str(rem)\n",
    "\n",
    "            ans = self.add(ans, cur[::-1] + (j * '0'))\n",
    "            j += 1 \n",
    "        \n",
    "        return ans"
   ]
  },
  {
   "cell_type": "code",
   "execution_count": 147,
   "metadata": {},
   "outputs": [
    {
     "data": {
      "text/plain": [
       "'5'"
      ]
     },
     "execution_count": 147,
     "metadata": {},
     "output_type": "execute_result"
    }
   ],
   "source": [
    "num1 = \"2\"\n",
    "num2 = \"3\"\n",
    "sol = Solution()\n",
    "sol.add(num1, num2)"
   ]
  },
  {
   "cell_type": "code",
   "execution_count": 148,
   "metadata": {},
   "outputs": [
    {
     "data": {
      "text/plain": [
       "'10119'"
      ]
     },
     "execution_count": 148,
     "metadata": {},
     "output_type": "execute_result"
    }
   ],
   "source": [
    "num1 = \"996\"\n",
    "num2 = \"9123\"\n",
    "sol = Solution()\n",
    "sol.add(num1, num2)"
   ]
  },
  {
   "cell_type": "code",
   "execution_count": 149,
   "metadata": {},
   "outputs": [
    {
     "data": {
      "text/plain": [
       "'6'"
      ]
     },
     "execution_count": 149,
     "metadata": {},
     "output_type": "execute_result"
    }
   ],
   "source": [
    "num1 = \"2\"\n",
    "num2 = \"3\"\n",
    "sol = Solution()\n",
    "sol.multiply(num1, num2)"
   ]
  },
  {
   "cell_type": "code",
   "execution_count": 150,
   "metadata": {},
   "outputs": [
    {
     "data": {
      "text/plain": [
       "'56088'"
      ]
     },
     "execution_count": 150,
     "metadata": {},
     "output_type": "execute_result"
    }
   ],
   "source": [
    "num1 = \"123\"\n",
    "num2 = \"456\"\n",
    "sol = Solution()\n",
    "sol.multiply(num1, num2)"
   ]
  },
  {
   "cell_type": "code",
   "execution_count": 151,
   "metadata": {},
   "outputs": [
    {
     "data": {
      "text/plain": [
       "'369'"
      ]
     },
     "execution_count": 151,
     "metadata": {},
     "output_type": "execute_result"
    }
   ],
   "source": [
    "num1 = \"123\"\n",
    "num2 = \"3\"\n",
    "sol = Solution()\n",
    "sol.multiply(num1, num2)"
   ]
  },
  {
   "cell_type": "code",
   "execution_count": 152,
   "metadata": {},
   "outputs": [
    {
     "data": {
      "text/plain": [
       "'369'"
      ]
     },
     "execution_count": 152,
     "metadata": {},
     "output_type": "execute_result"
    }
   ],
   "source": [
    "num1 = \"3\" \n",
    "num2 = \"123\"\n",
    "sol = Solution()\n",
    "sol.multiply(num1, num2)"
   ]
  },
  {
   "cell_type": "code",
   "execution_count": 153,
   "metadata": {},
   "outputs": [
    {
     "data": {
      "text/plain": [
       "'0'"
      ]
     },
     "execution_count": 153,
     "metadata": {},
     "output_type": "execute_result"
    }
   ],
   "source": [
    "num1 = \"0\" \n",
    "num2 = \"123\"\n",
    "sol = Solution()\n",
    "sol.multiply(num1, num2)"
   ]
  }
 ],
 "metadata": {
  "kernelspec": {
   "display_name": "dsa-venv",
   "language": "python",
   "name": "python3"
  },
  "language_info": {
   "codemirror_mode": {
    "name": "ipython",
    "version": 3
   },
   "file_extension": ".py",
   "mimetype": "text/x-python",
   "name": "python",
   "nbconvert_exporter": "python",
   "pygments_lexer": "ipython3",
   "version": "3.11.3"
  }
 },
 "nbformat": 4,
 "nbformat_minor": 2
}
