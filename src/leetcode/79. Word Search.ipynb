{
 "cells": [
  {
   "cell_type": "code",
   "execution_count": 62,
   "metadata": {},
   "outputs": [],
   "source": [
    "from typing import List\n",
    "\n",
    "ops = [(-1,0),(1,0),(0,-1),(0,1)]\n",
    "\n",
    "class Solution:\n",
    "    def exist(self, board: List[List[str]], word: str) -> bool:\n",
    "        totalRows = len(board)\n",
    "        totalCols = len(board[0])\n",
    "        visited = [[False for _ in range(totalCols)] for _ in range(totalRows)]\n",
    "\n",
    "        def helper(row, col, matchIdx):\n",
    "            if board[row][col] == word[matchIdx]:\n",
    "                if matchIdx == len(word) - 1:\n",
    "                    return True\n",
    "                for op in ops:\n",
    "                    newRow = row + op[0]\n",
    "                    newCol = col + op[1]\n",
    "                    if newRow >= 0 and newRow < totalRows and newCol >= 0 and newCol < totalCols:\n",
    "                        if not visited[newRow][newCol]:\n",
    "                            visited[newRow][newCol] = True\n",
    "                            if helper(newRow, newCol, matchIdx+1):\n",
    "                                return True\n",
    "                            visited[newRow][newCol] = False\n",
    "            return False\n",
    "        for i in range(totalRows):\n",
    "            for j in range(totalCols):\n",
    "                visited[i][j] = True\n",
    "                if helper(i, j, 0):\n",
    "                    return True\n",
    "                visited[i][j] = False\n",
    "        return False"
   ]
  },
  {
   "cell_type": "code",
   "execution_count": 63,
   "metadata": {},
   "outputs": [
    {
     "data": {
      "text/plain": [
       "True"
      ]
     },
     "execution_count": 63,
     "metadata": {},
     "output_type": "execute_result"
    }
   ],
   "source": [
    "board = [[\"A\",\"B\",\"C\",\"E\"],[\"S\",\"F\",\"C\",\"S\"],[\"A\",\"D\",\"E\",\"E\"]]\n",
    "word = \"ABCCED\"\n",
    "sol = Solution()\n",
    "sol.exist(board, word)"
   ]
  },
  {
   "cell_type": "code",
   "execution_count": 64,
   "metadata": {},
   "outputs": [
    {
     "data": {
      "text/plain": [
       "True"
      ]
     },
     "execution_count": 64,
     "metadata": {},
     "output_type": "execute_result"
    }
   ],
   "source": [
    "board = [[\"A\",\"B\",\"C\",\"E\"],[\"S\",\"F\",\"C\",\"S\"],[\"A\",\"D\",\"E\",\"E\"]]\n",
    "word = \"SEE\"\n",
    "sol = Solution()\n",
    "sol.exist(board, word)"
   ]
  },
  {
   "cell_type": "code",
   "execution_count": 65,
   "metadata": {},
   "outputs": [
    {
     "data": {
      "text/plain": [
       "False"
      ]
     },
     "execution_count": 65,
     "metadata": {},
     "output_type": "execute_result"
    }
   ],
   "source": [
    "board = [[\"A\",\"B\",\"C\",\"E\"],[\"S\",\"F\",\"C\",\"S\"],[\"A\",\"D\",\"E\",\"E\"]]\n",
    "word = \"ABCB\"\n",
    "sol = Solution()\n",
    "sol.exist(board, word)"
   ]
  },
  {
   "cell_type": "code",
   "execution_count": 66,
   "metadata": {},
   "outputs": [
    {
     "data": {
      "text/plain": [
       "True"
      ]
     },
     "execution_count": 66,
     "metadata": {},
     "output_type": "execute_result"
    }
   ],
   "source": [
    "board = [[\"a\",\"b\"],[\"c\",\"d\"]]\n",
    "word = \"cdba\"\n",
    "sol = Solution()\n",
    "sol.exist(board, word)"
   ]
  },
  {
   "cell_type": "code",
   "execution_count": 67,
   "metadata": {},
   "outputs": [
    {
     "data": {
      "text/plain": [
       "False"
      ]
     },
     "execution_count": 67,
     "metadata": {},
     "output_type": "execute_result"
    }
   ],
   "source": [
    "board =[[\"a\",\"a\"]]\n",
    "word =\"aaa\"\n",
    "sol = Solution()\n",
    "sol.exist(board, word)"
   ]
  }
 ],
 "metadata": {
  "kernelspec": {
   "display_name": "dsa-venv",
   "language": "python",
   "name": "python3"
  },
  "language_info": {
   "codemirror_mode": {
    "name": "ipython",
    "version": 3
   },
   "file_extension": ".py",
   "mimetype": "text/x-python",
   "name": "python",
   "nbconvert_exporter": "python",
   "pygments_lexer": "ipython3",
   "version": "3.11.3"
  },
  "orig_nbformat": 4
 },
 "nbformat": 4,
 "nbformat_minor": 2
}
