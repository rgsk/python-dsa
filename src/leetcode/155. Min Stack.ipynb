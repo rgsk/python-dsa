{
 "cells": [
  {
   "cell_type": "code",
   "execution_count": null,
   "metadata": {},
   "outputs": [],
   "source": [
    "class MinStack:\n",
    "    def __init__(self):\n",
    "        self.A = []\n",
    "        self.M = []\n",
    "    def push(self, x):\n",
    "        self.A.append(x)\n",
    "        self.M.append( x if not self.M else min(x, self.M[-1]) )\n",
    "    def pop(self):\n",
    "        self.A.pop()\n",
    "        self.M.pop()\n",
    "    def top(self):\n",
    "        return self.A[-1]\n",
    "    def getMin(self):\n",
    "        return self.M[-1]"
   ]
  },
  {
   "cell_type": "code",
   "execution_count": null,
   "metadata": {},
   "outputs": [],
   "source": []
  }
 ],
 "metadata": {
  "language_info": {
   "name": "python"
  }
 },
 "nbformat": 4,
 "nbformat_minor": 2
}
