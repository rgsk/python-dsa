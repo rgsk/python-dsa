{
 "cells": [
  {
   "cell_type": "code",
   "execution_count": 62,
   "metadata": {},
   "outputs": [],
   "source": [
    "\n",
    "from collections import deque\n",
    "from typing import List\n",
    "    \n",
    "\n",
    "class Solution:\n",
    "    def updateMatrix(self, mat: List[List[int]]) -> List[List[int]]:\n",
    "        rows = len(mat)\n",
    "        cols = len(mat[0])\n",
    "        visited = set()\n",
    "        q = deque()\n",
    "        for i in range(len(mat)):\n",
    "            for j in range(len(mat[0])):\n",
    "                if mat[i][j] == 0:\n",
    "                    visited.add((i,j))\n",
    "                    q.append((i,j))\n",
    "        \n",
    "        while q:\n",
    "            x,y = q.popleft()\n",
    "            for dirr in [(1,0), (-1,0), (0,1), (0,-1)]:\n",
    "                newX, newY = x+dirr[0], y+dirr[1]\n",
    "                if newX >= 0 and newX < rows and newY >= 0 and newY < cols and (newX, newY) not in visited:\n",
    "                        mat[newX][newY] = mat[x][y] + 1\n",
    "                        visited.add((newX, newY))\n",
    "                        q.append((newX, newY))\n",
    "        return mat\n",
    "                    \n",
    "\n",
    "                    "
   ]
  },
  {
   "cell_type": "code",
   "execution_count": 63,
   "metadata": {},
   "outputs": [],
   "source": [
    "class Solution:\n",
    "    def updateMatrix(self, mat: List[List[int]]) -> List[List[int]]:\n",
    "        m, n = len(mat), len(mat[0])\n",
    "        DIR = [0, 1, 0, -1, 0]\n",
    "\n",
    "        q = deque([])\n",
    "        for r in range(m):\n",
    "            for c in range(n):\n",
    "                if mat[r][c] == 0:\n",
    "                    q.append((r, c))\n",
    "                else:\n",
    "                    mat[r][c] = -1  # Marked as not processed yet!\n",
    "\n",
    "        while q:\n",
    "            r, c = q.popleft()\n",
    "            for i in range(4):\n",
    "                nr, nc = r + DIR[i], c + DIR[i + 1]\n",
    "                if nr < 0 or nr == m or nc < 0 or nc == n or mat[nr][nc] != -1: continue\n",
    "                mat[nr][nc] = mat[r][c] + 1\n",
    "                q.append((nr, nc))\n",
    "        return mat"
   ]
  },
  {
   "cell_type": "code",
   "execution_count": 64,
   "metadata": {},
   "outputs": [],
   "source": [
    "import math\n",
    "\n",
    "\n",
    "class Solution:  # 520 ms, faster than 96.50%\n",
    "    def updateMatrix(self, mat: List[List[int]]) -> List[List[int]]:\n",
    "        m, n = len(mat), len(mat[0])\n",
    "\n",
    "        for r in range(m):\n",
    "            for c in range(n):\n",
    "                if mat[r][c] > 0:\n",
    "                    top = mat[r - 1][c] if r > 0 else math.inf\n",
    "                    left = mat[r][c - 1] if c > 0 else math.inf\n",
    "                    mat[r][c] = min(top, left) + 1\n",
    "\n",
    "        for r in range(m - 1, -1, -1):\n",
    "            for c in range(n - 1, -1, -1):\n",
    "                if mat[r][c] > 0:\n",
    "                    bottom = mat[r + 1][c] if r < m - 1 else math.inf\n",
    "                    right = mat[r][c + 1] if c < n - 1 else math.inf\n",
    "                    mat[r][c] = min(mat[r][c], bottom + 1, right + 1)\n",
    "\n",
    "        return mat"
   ]
  },
  {
   "cell_type": "code",
   "execution_count": 65,
   "metadata": {},
   "outputs": [
    {
     "data": {
      "text/plain": [
       "[[0, 0, 0], [0, 1, 0], [1, 2, 1]]"
      ]
     },
     "execution_count": 65,
     "metadata": {},
     "output_type": "execute_result"
    }
   ],
   "source": [
    "mat = [[0,0,0],[0,1,0],[1,1,1]]\n",
    "sol = Solution()\n",
    "sol.updateMatrix(mat)"
   ]
  },
  {
   "cell_type": "code",
   "execution_count": 66,
   "metadata": {},
   "outputs": [
    {
     "data": {
      "text/plain": [
       "[[0, 0, 0], [0, 1, 0], [1, 2, 1], [2, 3, 2]]"
      ]
     },
     "execution_count": 66,
     "metadata": {},
     "output_type": "execute_result"
    }
   ],
   "source": [
    "mat = [\n",
    "    [0, 0, 0],\n",
    "    [0, 1, 0],\n",
    "    [1, 1, 1],\n",
    "    [1, 1, 1]\n",
    "]\n",
    "sol = Solution()\n",
    "sol.updateMatrix(mat)"
   ]
  },
  {
   "cell_type": "code",
   "execution_count": null,
   "metadata": {},
   "outputs": [],
   "source": []
  }
 ],
 "metadata": {
  "kernelspec": {
   "display_name": "base",
   "language": "python",
   "name": "python3"
  },
  "language_info": {
   "codemirror_mode": {
    "name": "ipython",
    "version": 3
   },
   "file_extension": ".py",
   "mimetype": "text/x-python",
   "name": "python",
   "nbconvert_exporter": "python",
   "pygments_lexer": "ipython3",
   "version": "3.11.3"
  },
  "orig_nbformat": 4
 },
 "nbformat": 4,
 "nbformat_minor": 2
}
