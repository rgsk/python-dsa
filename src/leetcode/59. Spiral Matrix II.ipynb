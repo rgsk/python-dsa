{
 "cells": [
  {
   "cell_type": "code",
   "execution_count": 1,
   "metadata": {},
   "outputs": [],
   "source": [
    "from typing import List\n",
    "\n",
    "\n",
    "class Solution:\n",
    "    def generateMatrix(self, n: int) -> List[List[int]]:\n",
    "        startRow, endRow = 0, n - 1\n",
    "        startCol, endCol = 0, n - 1\n",
    "        direction = 0\n",
    "        matrix = [[0 for _ in range(n)] for _ in range(n)]\n",
    "        c = 1\n",
    "\n",
    "        while startRow <= endRow and startCol <= endCol:\n",
    "            if direction == 0:  # RIGHT\n",
    "                for col in range(startCol, endCol + 1):\n",
    "                    matrix[startRow][col] = c\n",
    "                    c += 1\n",
    "                startRow += 1\n",
    "            elif direction == 1:  # DOWN\n",
    "                for row in range(startRow, endRow + 1):\n",
    "                    matrix[row][endCol] = c\n",
    "                    c += 1\n",
    "                endCol -= 1\n",
    "            elif direction == 2:  # LEFT\n",
    "                for col in range(endCol, startCol - 1, -1):\n",
    "                    matrix[endRow][col] = c\n",
    "                    c += 1\n",
    "                endRow -= 1\n",
    "            elif direction == 3:  # UP\n",
    "                for row in range(endRow, startRow - 1, -1):\n",
    "                    matrix[row][startCol] = c\n",
    "                    c += 1\n",
    "                startCol += 1\n",
    "\n",
    "            direction = (direction + 1) % 4\n",
    "\n",
    "        return matrix"
   ]
  },
  {
   "cell_type": "code",
   "execution_count": 2,
   "metadata": {},
   "outputs": [
    {
     "data": {
      "text/plain": [
       "[[1, 2, 3], [8, 9, 4], [7, 6, 5]]"
      ]
     },
     "execution_count": 2,
     "metadata": {},
     "output_type": "execute_result"
    }
   ],
   "source": [
    "n = 3\n",
    "sol = Solution()\n",
    "sol.generateMatrix(n)"
   ]
  }
 ],
 "metadata": {
  "kernelspec": {
   "display_name": "dsa-venv",
   "language": "python",
   "name": "python3"
  },
  "language_info": {
   "codemirror_mode": {
    "name": "ipython",
    "version": 3
   },
   "file_extension": ".py",
   "mimetype": "text/x-python",
   "name": "python",
   "nbconvert_exporter": "python",
   "pygments_lexer": "ipython3",
   "version": "3.11.3"
  }
 },
 "nbformat": 4,
 "nbformat_minor": 2
}
