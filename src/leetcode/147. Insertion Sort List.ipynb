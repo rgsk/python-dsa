{
 "cells": [
  {
   "cell_type": "code",
   "execution_count": 17,
   "metadata": {},
   "outputs": [],
   "source": [
    "import sys\n",
    "sys.path.append('..')\n",
    "\n",
    "from lib.ListNode import *"
   ]
  },
  {
   "cell_type": "code",
   "execution_count": 18,
   "metadata": {},
   "outputs": [],
   "source": [
    "class Solution:\n",
    "    def insertionSortList(self, head: Optional[ListNode]) -> Optional[ListNode]:\n",
    "        nodes = getNodes(head)\n",
    "        i = 1\n",
    "        n = len(nodes)\n",
    "        while i < n:\n",
    "            j = i\n",
    "            while j > 0 and nodes[j].val < nodes[j - 1].val:\n",
    "                nodes[j - 1], nodes[j] = nodes[j], nodes[j - 1]\n",
    "                j -= 1\n",
    "            i += 1\n",
    "        return connectNodes(nodes)"
   ]
  },
  {
   "cell_type": "code",
   "execution_count": 19,
   "metadata": {},
   "outputs": [],
   "source": [
    "# https://leetcode.com/problems/insertion-sort-list/solutions/3589060/singly-linked-list-insertion-sort-python-beats-50/\n",
    "class Solution:\n",
    "    def insertionSortList(self, head: Optional[ListNode]) -> Optional[ListNode]:\n",
    "        sorted_head = None\n",
    "        curr = head\n",
    "\n",
    "        while curr:\n",
    "            next_node = curr.next\n",
    "            sorted_head = self.insert_node(sorted_head, curr)\n",
    "            curr = next_node\n",
    "        \n",
    "        return sorted_head\n",
    "\n",
    "    def insert_node(self, sorted_head, node):\n",
    "        if not sorted_head or node.val < sorted_head.val:\n",
    "            node.next = sorted_head\n",
    "            sorted_head = node\n",
    "        else:\n",
    "            curr = sorted_head\n",
    "            while curr.next and curr.next.val < node.val:\n",
    "                curr = curr.next\n",
    "            node.next = curr.next\n",
    "            curr.next = node\n",
    "        \n",
    "        return sorted_head"
   ]
  },
  {
   "cell_type": "code",
   "execution_count": 20,
   "metadata": {},
   "outputs": [
    {
     "name": "stdout",
     "output_type": "stream",
     "text": [
      "[1, 2, 3, 4]\n"
     ]
    }
   ],
   "source": [
    "head = makeList([5, 6, 9])\n",
    "sol = Solution()\n",
    "print(asList(sol.insertionSortList(head)))"
   ]
  },
  {
   "cell_type": "code",
   "execution_count": 21,
   "metadata": {},
   "outputs": [
    {
     "name": "stdout",
     "output_type": "stream",
     "text": [
      "[-1, 0, 3, 4, 5]\n"
     ]
    }
   ],
   "source": [
    "head = makeList([-1,5,3,4,0])\n",
    "sol = Solution()\n",
    "print(asList(sol.insertionSortList(head)))"
   ]
  }
 ],
 "metadata": {
  "kernelspec": {
   "display_name": "dsa-venv",
   "language": "python",
   "name": "python3"
  },
  "language_info": {
   "codemirror_mode": {
    "name": "ipython",
    "version": 3
   },
   "file_extension": ".py",
   "mimetype": "text/x-python",
   "name": "python",
   "nbconvert_exporter": "python",
   "pygments_lexer": "ipython3",
   "version": "3.11.3"
  },
  "orig_nbformat": 4
 },
 "nbformat": 4,
 "nbformat_minor": 2
}
