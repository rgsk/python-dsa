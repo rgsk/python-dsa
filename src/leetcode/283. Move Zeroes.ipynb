{
 "cells": [
  {
   "cell_type": "code",
   "execution_count": 41,
   "metadata": {},
   "outputs": [
    {
     "name": "stdout",
     "output_type": "stream",
     "text": [
      "The nb_mypy extension is already loaded. To reload it, use:\n",
      "  %reload_ext nb_mypy\n"
     ]
    }
   ],
   "source": [
    "%load_ext nb_mypy"
   ]
  },
  {
   "cell_type": "code",
   "execution_count": 42,
   "metadata": {},
   "outputs": [],
   "source": [
    "from typing import List\n",
    "from collections import deque\n",
    "\n",
    "\n",
    "class Solution:\n",
    "    def moveZeroes(self, nums: List[int]) -> None:\n",
    "        \"\"\"\n",
    "        Do not return anything, modify nums in-place instead.\n",
    "        \"\"\"\n",
    "        zeroIndexes: deque[int] = deque()\n",
    "        i = 0\n",
    "        while i < len(nums):\n",
    "            if nums[i] != 0:\n",
    "                if len(zeroIndexes):\n",
    "                    nums[zeroIndexes.popleft()] = nums[i]\n",
    "                    zeroIndexes.append(i)\n",
    "            else:\n",
    "                zeroIndexes.append(i)\n",
    "            i += 1\n",
    "        for i in zeroIndexes:\n",
    "            nums[i] = 0\n"
   ]
  },
  {
   "cell_type": "code",
   "execution_count": 43,
   "metadata": {},
   "outputs": [
    {
     "name": "stdout",
     "output_type": "stream",
     "text": [
      "[1, 3, 12, 0, 0]\n"
     ]
    }
   ],
   "source": [
    "nums = [0,1,0,3,12]\n",
    "sol = Solution()\n",
    "sol.moveZeroes(nums)\n",
    "print(nums)"
   ]
  },
  {
   "cell_type": "code",
   "execution_count": 44,
   "metadata": {},
   "outputs": [
    {
     "name": "stdout",
     "output_type": "stream",
     "text": [
      "[0]\n"
     ]
    }
   ],
   "source": [
    "nums = [0]\n",
    "sol = Solution()\n",
    "sol.moveZeroes(nums)\n",
    "print(nums)"
   ]
  },
  {
   "cell_type": "code",
   "execution_count": 45,
   "metadata": {},
   "outputs": [],
   "source": [
    "class Solution:\n",
    "    def moveZeroes(self, nums: List[int]) -> None:\n",
    "        anchor = 0\n",
    "        for explorer in range(len(nums)):\n",
    "            if nums[explorer] != 0:\n",
    "                nums[anchor], nums[explorer] = nums[explorer], nums[anchor]\n",
    "                anchor += 1"
   ]
  },
  {
   "cell_type": "code",
   "execution_count": 46,
   "metadata": {},
   "outputs": [
    {
     "name": "stdout",
     "output_type": "stream",
     "text": [
      "[1, 3, 12, 0, 0]\n"
     ]
    }
   ],
   "source": [
    "nums = [0,1,0,3,12]\n",
    "sol = Solution()\n",
    "sol.moveZeroes(nums)\n",
    "print(nums)"
   ]
  }
 ],
 "metadata": {
  "kernelspec": {
   "display_name": "Python 3.10.6 ('dsa-venv': venv)",
   "language": "python",
   "name": "python3"
  },
  "language_info": {
   "codemirror_mode": {
    "name": "ipython",
    "version": 3
   },
   "file_extension": ".py",
   "mimetype": "text/x-python",
   "name": "python",
   "nbconvert_exporter": "python",
   "pygments_lexer": "ipython3",
   "version": "3.10.6"
  },
  "orig_nbformat": 4,
  "vscode": {
   "interpreter": {
    "hash": "e2278406c40349b728369a6b418500b4154ef0fb5e599ada131fe37b236439d7"
   }
  }
 },
 "nbformat": 4,
 "nbformat_minor": 2
}
