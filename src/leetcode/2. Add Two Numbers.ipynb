{
 "cells": [
  {
   "cell_type": "code",
   "execution_count": 103,
   "metadata": {},
   "outputs": [],
   "source": [
    "from typing import  Optional\n",
    "# Definition for singly-linked list.\n",
    "class ListNode:\n",
    "    def __init__(self, val=0, next=None):\n",
    "        if isinstance(val, list):\n",
    "            if next != None:\n",
    "                raise Exception(\"next must be None when passing list as initializer in constructor\")\n",
    "            if len(val) > 0:\n",
    "                self.val = val[0]\n",
    "                temp = self\n",
    "                temp.next = None\n",
    "                for i in range(1, len(val)):\n",
    "                    temp.next = ListNode(val[i])\n",
    "                    temp = temp.next\n",
    "            else:\n",
    "                self.val = 0\n",
    "                self.next = None\n",
    "        else:\n",
    "            self.val = val\n",
    "            self.next = next\n",
    "\n",
    "            \n",
    "    def __str__(self) -> str:\n",
    "        ans: list[int] = []\n",
    "        temp = self\n",
    "        while temp != None:\n",
    "            ans.append(temp.val)\n",
    "            temp = temp.next\n",
    "        return str(ans)\n",
    "\n",
    "    def __len__(self) -> int:\n",
    "        total = 0\n",
    "        temp = self\n",
    "        while temp != None:\n",
    "            total += 1\n",
    "            temp = temp.next\n",
    "        return total\n",
    "    \n"
   ]
  },
  {
   "cell_type": "code",
   "execution_count": 104,
   "metadata": {},
   "outputs": [
    {
     "name": "stdout",
     "output_type": "stream",
     "text": [
      "[0]\n",
      "[5, 6, 4]\n",
      "1\n",
      "3\n"
     ]
    }
   ],
   "source": [
    "l1 = ListNode([])\n",
    "l2 = ListNode([5, 6, 4])\n",
    "\n",
    "print(l1)\n",
    "print(l2)\n",
    "\n",
    "print(len(l1))\n",
    "print(len(l2))"
   ]
  },
  {
   "cell_type": "code",
   "execution_count": 105,
   "metadata": {},
   "outputs": [],
   "source": [
    "class Solution:\n",
    "    def addTwoNumbers(self, l1: Optional[ListNode], l2: Optional[ListNode]) -> Optional[ListNode]:\n",
    "        t1 = l1\n",
    "        t2 = l2\n",
    "        l3 = ListNode(0)\n",
    "        t3 = l3\n",
    "        remainder = 0\n",
    "        while True:\n",
    "            if t1 == None and t2 == None and remainder == 0:\n",
    "                return l3.next\n",
    "            new_value = remainder\n",
    "            remainder = 0\n",
    "            if t1 != None:\n",
    "                new_value += t1.val\n",
    "            if t2 != None:\n",
    "                new_value += t2.val\n",
    "            if new_value >= 10:\n",
    "                new_value = new_value % 10\n",
    "                remainder = 1\n",
    "            t3.next = ListNode(new_value)\n",
    "            if t1 != None:\n",
    "                t1 = t1.next\n",
    "            if t2 != None:\n",
    "                t2 = t2.next\n",
    "            t3 = t3.next\n",
    " "
   ]
  },
  {
   "cell_type": "code",
   "execution_count": 106,
   "metadata": {},
   "outputs": [
    {
     "name": "stdout",
     "output_type": "stream",
     "text": [
      "[1, 5, 3]\n"
     ]
    }
   ],
   "source": [
    "l1 = ListNode([9])\n",
    "l2 = ListNode([2, 4, 3])\n",
    "sol = Solution()\n",
    "print(sol.addTwoNumbers(l1, l2))\n"
   ]
  },
  {
   "cell_type": "code",
   "execution_count": 107,
   "metadata": {},
   "outputs": [
    {
     "name": "stdout",
     "output_type": "stream",
     "text": [
      "[8, 9, 9, 9, 0, 0, 0, 1]\n"
     ]
    },
    {
     "data": {
      "text/plain": [
       "'\\n9,9,9,9,9,9,9\\n9,9,9,9\\n-------------\\n8 9 9 9 0 0 0 1\\n'"
      ]
     },
     "execution_count": 107,
     "metadata": {},
     "output_type": "execute_result"
    }
   ],
   "source": [
    "l1 = ListNode([9,9,9,9,9,9,9])\n",
    "l2 = ListNode([9,9,9,9])\n",
    "sol = Solution()\n",
    "print(sol.addTwoNumbers(l1, l2))\n",
    "\n",
    "'''\n",
    "9,9,9,9,9,9,9\n",
    "9,9,9,9\n",
    "-------------\n",
    "8 9 9 9 0 0 0 1\n",
    "'''"
   ]
  }
 ],
 "metadata": {
  "kernelspec": {
   "display_name": "Python 3.10.4 ('template-venv': venv)",
   "language": "python",
   "name": "python3"
  },
  "language_info": {
   "codemirror_mode": {
    "name": "ipython",
    "version": 3
   },
   "file_extension": ".py",
   "mimetype": "text/x-python",
   "name": "python",
   "nbconvert_exporter": "python",
   "pygments_lexer": "ipython3",
   "version": "3.10.4"
  },
  "orig_nbformat": 4,
  "vscode": {
   "interpreter": {
    "hash": "0b8dd1d11c220dfc9d15848c82c145ba1a021fcb056c07a0cc073ae3ed6d8420"
   }
  }
 },
 "nbformat": 4,
 "nbformat_minor": 2
}
