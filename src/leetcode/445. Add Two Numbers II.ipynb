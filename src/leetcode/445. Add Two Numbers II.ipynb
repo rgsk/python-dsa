{
 "cells": [
  {
   "cell_type": "code",
   "execution_count": null,
   "metadata": {},
   "outputs": [],
   "source": [
    "# https://leetcode.com/problems/add-two-numbers-ii/description/"
   ]
  },
  {
   "cell_type": "code",
   "execution_count": 68,
   "metadata": {},
   "outputs": [],
   "source": [
    "import sys\n",
    "sys.path.append('..')\n",
    "\n",
    "from lib.ListNode import *\n"
   ]
  },
  {
   "cell_type": "code",
   "execution_count": 69,
   "metadata": {},
   "outputs": [],
   "source": [
    "# Runtime - beats 83\n",
    "# Memory - beats 72\n",
    "class Solution:\n",
    "    def addTwoNumbers(self, l1: Optional[ListNode], l2: Optional[ListNode]) -> Optional[ListNode]:\n",
    "        if getLength(l2) > getLength(l1):\n",
    "            return self.addTwoNumbers(l2, l1)\n",
    "        r1 = reverseList(l1)\n",
    "        r2 = reverseList(l2)\n",
    "        t1 = r1\n",
    "        t2 = r2\n",
    "        rem = 0\n",
    "        while t1 and (t2 or rem > 0):\n",
    "            t1.val += rem + (t2.val if t2 else 0)\n",
    "            rem = 0\n",
    "            if t1.val >= 10:\n",
    "                rem = 1\n",
    "                t1.val = t1.val - 10\n",
    "            if t2:\n",
    "                t2 = t2.next\n",
    "            t1 = t1.next\n",
    "        \n",
    "        if rem:\n",
    "            if t1:\n",
    "                t1.val += rem\n",
    "                if t1.val >= 10:\n",
    "                    t1.val = 0\n",
    "                else:\n",
    "                    return reverseList(r1)\n",
    "                    \n",
    "            rest = reverseList(r1)\n",
    "            first = ListNode(1)\n",
    "            first.next = rest\n",
    "            return first\n",
    "            \n",
    "\n",
    "        return reverseList(r1)"
   ]
  },
  {
   "cell_type": "code",
   "execution_count": 70,
   "metadata": {},
   "outputs": [
    {
     "name": "stdout",
     "output_type": "stream",
     "text": [
      "[7, 8, 0, 7]\n"
     ]
    }
   ],
   "source": [
    "l1 = makeList([7,2,4,3])\n",
    "l2 = makeList([5,6,4])\n",
    "sol = Solution()\n",
    "print(asList(sol.addTwoNumbers(l1, l2)))"
   ]
  },
  {
   "cell_type": "code",
   "execution_count": 71,
   "metadata": {},
   "outputs": [
    {
     "name": "stdout",
     "output_type": "stream",
     "text": [
      "[8, 0, 7]\n"
     ]
    }
   ],
   "source": [
    "l1 = makeList([2,4,3])\n",
    "l2 = makeList([5,6,4])\n",
    "sol = Solution()\n",
    "print(asList(sol.addTwoNumbers(l1, l2)))"
   ]
  },
  {
   "cell_type": "code",
   "execution_count": 72,
   "metadata": {},
   "outputs": [
    {
     "name": "stdout",
     "output_type": "stream",
     "text": [
      "[0]\n"
     ]
    }
   ],
   "source": [
    "l1 = makeList([0])\n",
    "l2 = makeList([0])\n",
    "sol = Solution()\n",
    "print(asList(sol.addTwoNumbers(l1, l2)))"
   ]
  },
  {
   "cell_type": "code",
   "execution_count": 73,
   "metadata": {},
   "outputs": [
    {
     "name": "stdout",
     "output_type": "stream",
     "text": [
      "[9, 0, 1]\n"
     ]
    }
   ],
   "source": [
    "l1 = makeList([8,9,9])\n",
    "l2 = makeList([2])\n",
    "sol = Solution()\n",
    "print(asList(sol.addTwoNumbers(l1, l2)))"
   ]
  }
 ],
 "metadata": {
  "kernelspec": {
   "display_name": "dsa-venv",
   "language": "python",
   "name": "python3"
  },
  "language_info": {
   "codemirror_mode": {
    "name": "ipython",
    "version": 3
   },
   "file_extension": ".py",
   "mimetype": "text/x-python",
   "name": "python",
   "nbconvert_exporter": "python",
   "pygments_lexer": "ipython3",
   "version": "3.11.3"
  }
 },
 "nbformat": 4,
 "nbformat_minor": 2
}
