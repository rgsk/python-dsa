{
 "cells": [
  {
   "cell_type": "code",
   "execution_count": 33,
   "metadata": {},
   "outputs": [],
   "source": [
    "# https://www.youtube.com/watch?v=dzYq5VEMZIg&t=61s\n",
    "# https://leetcode.com/problems/find-the-winner-of-the-circular-game/description/"
   ]
  },
  {
   "cell_type": "markdown",
   "metadata": {},
   "source": [
    "<img src=\"./../../images/Screenshot 2024-05-29 at 3.04.11 PM.png\" width=\"500\"  >"
   ]
  },
  {
   "cell_type": "code",
   "execution_count": 34,
   "metadata": {},
   "outputs": [],
   "source": [
    "# solution using recursion\n",
    "# passed\n",
    "\n",
    "class Solution:\n",
    "    def helper(self, n: int, k: int):\n",
    "        if n == 1:\n",
    "            return 0\n",
    "        x = self.helper(n-1, k)\n",
    "        y = (x + k) %  n\n",
    "        return y\n",
    "    def findTheWinner(self, n: int, k: int) -> int:\n",
    "        return self.helper(n, k) + 1"
   ]
  },
  {
   "cell_type": "code",
   "execution_count": 35,
   "metadata": {},
   "outputs": [],
   "source": [
    "from collections import deque\n",
    "\n",
    "# passed\n",
    "\n",
    "class Solution:\n",
    "    def findTheWinner(self, n: int, k: int) -> int:\n",
    "        q = deque()\n",
    "        for i in range(1, n + 1):\n",
    "            q.append(i)\n",
    "        while len(q) != 1:\n",
    "            for i in range(k-1):\n",
    "                q.append(q.popleft())\n",
    "            q.popleft()\n",
    "        return q[0]"
   ]
  },
  {
   "cell_type": "code",
   "execution_count": null,
   "metadata": {},
   "outputs": [],
   "source": [
    "from collections import deque\n",
    "\n",
    "# little optimised\n",
    "class Solution:\n",
    "    def findTheWinner(self, n: int, k: int) -> int:\n",
    "        q = deque()\n",
    "        for i in range(1, n + 1):\n",
    "            q.append(i)\n",
    "        while len(q) != 1:\n",
    "            for i in range((k-1) % len(q)):\n",
    "                q.append(q.popleft())\n",
    "            q.popleft() \n",
    "        return q[0]"
   ]
  },
  {
   "cell_type": "code",
   "execution_count": 36,
   "metadata": {},
   "outputs": [
    {
     "data": {
      "text/plain": [
       "3"
      ]
     },
     "execution_count": 36,
     "metadata": {},
     "output_type": "execute_result"
    }
   ],
   "source": [
    "n = 5\n",
    "k = 2\n",
    "sol = Solution()\n",
    "sol.findTheWinner(n, k)"
   ]
  },
  {
   "cell_type": "code",
   "execution_count": 37,
   "metadata": {},
   "outputs": [
    {
     "data": {
      "text/plain": [
       "1"
      ]
     },
     "execution_count": 37,
     "metadata": {},
     "output_type": "execute_result"
    }
   ],
   "source": [
    "n = 6\n",
    "k = 5\n",
    "sol = Solution()\n",
    "sol.findTheWinner(n, k)"
   ]
  },
  {
   "cell_type": "code",
   "execution_count": null,
   "metadata": {},
   "outputs": [],
   "source": []
  }
 ],
 "metadata": {
  "kernelspec": {
   "display_name": "venv",
   "language": "python",
   "name": "python3"
  },
  "language_info": {
   "codemirror_mode": {
    "name": "ipython",
    "version": 3
   },
   "file_extension": ".py",
   "mimetype": "text/x-python",
   "name": "python",
   "nbconvert_exporter": "python",
   "pygments_lexer": "ipython3",
   "version": "3.11.3"
  }
 },
 "nbformat": 4,
 "nbformat_minor": 2
}
