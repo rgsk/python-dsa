{
 "cells": [
  {
   "cell_type": "code",
   "execution_count": 32,
   "metadata": {},
   "outputs": [],
   "source": [
    "import sys\n",
    "sys.path.append('..')\n",
    "\n",
    "\n",
    "from lib.TreeNode import *"
   ]
  },
  {
   "cell_type": "code",
   "execution_count": 33,
   "metadata": {},
   "outputs": [],
   "source": [
    "class Solution:\n",
    "    def isSubtree(self, root: Optional[TreeNode], subRoot: Optional[TreeNode]) -> bool:\n",
    "        def helper(root: Optional[TreeNode], subRoot: Optional[TreeNode], continuation: bool):\n",
    "            if continuation:\n",
    "                if not root and not subRoot:\n",
    "                    return True\n",
    "                if (not root and subRoot) or (root and not subRoot):\n",
    "                    return False\n",
    "                if root.val != subRoot.val:\n",
    "                    return False\n",
    "                return helper(root.left, subRoot.left, True) and helper(root.right, subRoot.right, True)\n",
    "            else:\n",
    "                if root:\n",
    "                    if root.val == subRoot.val:\n",
    "                        # either consider current match or look for match in children\n",
    "                        return (helper(root.left, subRoot.left, True) and helper(root.right, subRoot.right, True)) \\\n",
    "                            or (helper(root.left, subRoot, False) or helper(root.right, subRoot, False))\n",
    "                    else:\n",
    "                        # look for match in children\n",
    "                        return helper(root.left, subRoot, False) or helper(root.right, subRoot, False)\n",
    "                else:\n",
    "                    return False\n",
    "        return helper(root, subRoot, False)     \n"
   ]
  },
  {
   "cell_type": "code",
   "execution_count": 34,
   "metadata": {},
   "outputs": [],
   "source": [
    "class Solution:\n",
    "    def isMatch(self, root: Optional[TreeNode], subRoot: Optional[TreeNode]):\n",
    "        if not root and not subRoot:\n",
    "            return True\n",
    "        if (not root and subRoot) or (root and not subRoot):\n",
    "            return False\n",
    "        if root.val != subRoot.val:\n",
    "            return False\n",
    "        return self.isMatch(root.left, subRoot.left) and self.isMatch(root.right, subRoot.right)\n",
    "    \n",
    "    def isSubtree(self, root: Optional[TreeNode], subRoot: Optional[TreeNode]) -> bool:\n",
    "        if self.isMatch(root, subRoot):\n",
    "            return True\n",
    "        else:\n",
    "            if root:\n",
    "                return self.isSubtree(root.left, subRoot) or self.isSubtree(root.right, subRoot)\n",
    "            return False"
   ]
  },
  {
   "cell_type": "code",
   "execution_count": 35,
   "metadata": {},
   "outputs": [
    {
     "data": {
      "text/plain": [
       "True"
      ]
     },
     "execution_count": 35,
     "metadata": {},
     "output_type": "execute_result"
    }
   ],
   "source": [
    "root = formTree([3,4,5,1,2])\n",
    "subRoot = formTree([4,1,2])\n",
    "sol = Solution()\n",
    "sol.isSubtree(root, subRoot)"
   ]
  },
  {
   "cell_type": "code",
   "execution_count": 36,
   "metadata": {},
   "outputs": [
    {
     "data": {
      "text/plain": [
       "False"
      ]
     },
     "execution_count": 36,
     "metadata": {},
     "output_type": "execute_result"
    }
   ],
   "source": [
    "root = formTree([3,4,5,1,2,None,None,None,None,0])\n",
    "subRoot = formTree([4,1,2])\n",
    "sol = Solution()\n",
    "sol.isSubtree(root, subRoot)"
   ]
  }
 ],
 "metadata": {
  "kernelspec": {
   "display_name": "dsa-venv",
   "language": "python",
   "name": "python3"
  },
  "language_info": {
   "codemirror_mode": {
    "name": "ipython",
    "version": 3
   },
   "file_extension": ".py",
   "mimetype": "text/x-python",
   "name": "python",
   "nbconvert_exporter": "python",
   "pygments_lexer": "ipython3",
   "version": "3.11.3"
  }
 },
 "nbformat": 4,
 "nbformat_minor": 2
}
