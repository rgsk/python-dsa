{
 "cells": [
  {
   "cell_type": "code",
   "execution_count": 95,
   "metadata": {},
   "outputs": [],
   "source": [
    "import sys\n",
    "sys.path.append('..')\n",
    "\n",
    "\n",
    "from lib.TreeNode import *"
   ]
  },
  {
   "cell_type": "code",
   "execution_count": 96,
   "metadata": {},
   "outputs": [],
   "source": [
    "def createTree(left, right):\n",
    "    if left < right:\n",
    "        ans = []\n",
    "        for cur in range(left, right + 1):\n",
    "            lefts = createTree(left, cur - 1)\n",
    "            rights = createTree(cur + 1, right)\n",
    "            if lefts and rights:\n",
    "                for l in lefts:\n",
    "                    for r in rights:\n",
    "                        ans.append(TreeNode(cur, l, r))\n",
    "            else:\n",
    "                for l in lefts:\n",
    "                    ans.append(TreeNode(cur, l, None))\n",
    "                for r in rights:\n",
    "                    ans.append(TreeNode(cur, None, r))\n",
    "        return ans\n",
    "    elif left == right:\n",
    "        return [TreeNode(left)]\n",
    "    return []\n",
    "\n",
    "class Solution:\n",
    "    def generateTrees(self, n: int) -> List[Optional[TreeNode]]:\n",
    "        return createTree(1, n)"
   ]
  },
  {
   "cell_type": "code",
   "execution_count": 97,
   "metadata": {},
   "outputs": [
    {
     "name": "stdout",
     "output_type": "stream",
     "text": [
      "2\n"
     ]
    },
    {
     "data": {
      "text/plain": [
       "[[1, None, 2], [2, 1]]"
      ]
     },
     "execution_count": 97,
     "metadata": {},
     "output_type": "execute_result"
    }
   ],
   "source": [
    "n = 2\n",
    "sol = Solution()\n",
    "print(len(sol.generateTrees(n)))\n",
    "sol.generateTrees(n)"
   ]
  },
  {
   "cell_type": "code",
   "execution_count": 98,
   "metadata": {},
   "outputs": [
    {
     "name": "stdout",
     "output_type": "stream",
     "text": [
      "5\n"
     ]
    },
    {
     "data": {
      "text/plain": [
       "[[1, None, 2, None, 3],\n",
       " [1, None, 3, 2],\n",
       " [2, 1, 3],\n",
       " [3, 1, None, None, 2],\n",
       " [3, 2, None, 1]]"
      ]
     },
     "execution_count": 98,
     "metadata": {},
     "output_type": "execute_result"
    }
   ],
   "source": [
    "n = 3\n",
    "sol = Solution()\n",
    "print(len(sol.generateTrees(n)))\n",
    "sol.generateTrees(n)"
   ]
  },
  {
   "cell_type": "code",
   "execution_count": 99,
   "metadata": {},
   "outputs": [
    {
     "name": "stdout",
     "output_type": "stream",
     "text": [
      "14\n"
     ]
    },
    {
     "data": {
      "text/plain": [
       "[[1, None, 2, None, 3, None, 4],\n",
       " [1, None, 2, None, 4, 3],\n",
       " [1, None, 3, 2, 4],\n",
       " [1, None, 4, 2, None, None, 3],\n",
       " [1, None, 4, 3, None, 2],\n",
       " [2, 1, 3, None, None, None, 4],\n",
       " [2, 1, 4, None, None, 3],\n",
       " [3, 1, 4, None, 2],\n",
       " [3, 2, 4, 1],\n",
       " [4, 1, None, None, 2, None, 3],\n",
       " [4, 1, None, None, 3, 2],\n",
       " [4, 2, None, 1, 3],\n",
       " [4, 3, None, 1, None, None, 2],\n",
       " [4, 3, None, 2, None, 1]]"
      ]
     },
     "execution_count": 99,
     "metadata": {},
     "output_type": "execute_result"
    }
   ],
   "source": [
    "n = 4\n",
    "sol = Solution()\n",
    "print(len(sol.generateTrees(n)))\n",
    "sol.generateTrees(n)"
   ]
  }
 ],
 "metadata": {
  "kernelspec": {
   "display_name": "dsa-venv",
   "language": "python",
   "name": "python3"
  },
  "language_info": {
   "codemirror_mode": {
    "name": "ipython",
    "version": 3
   },
   "file_extension": ".py",
   "mimetype": "text/x-python",
   "name": "python",
   "nbconvert_exporter": "python",
   "pygments_lexer": "ipython3",
   "version": "3.11.3"
  }
 },
 "nbformat": 4,
 "nbformat_minor": 2
}
