{
 "cells": [
  {
   "cell_type": "code",
   "execution_count": 4,
   "metadata": {},
   "outputs": [],
   "source": [
    "class Solution:\n",
    "    def nthUglyNumber(self, n: int) -> int:\n",
    "        nums = [0] * n\n",
    "        index2 = index3 = index5 = 0\n",
    "\n",
    "        nums[0] = 1\n",
    "        for i in range(1, n):\n",
    "            nums[i] = min(nums[index2] * 2, nums[index3] * 3, nums[index5] * 5)\n",
    "            if nums[i] == nums[index2] * 2:\n",
    "                index2 += 1\n",
    "            if nums[i] == nums[index3] * 3:\n",
    "                index3 += 1\n",
    "            if nums[i] == nums[index5] * 5:\n",
    "                index5 += 1\n",
    "        \n",
    "        return nums[n-1]\n",
    "            "
   ]
  },
  {
   "cell_type": "code",
   "execution_count": 5,
   "metadata": {},
   "outputs": [
    {
     "data": {
      "text/plain": [
       "12"
      ]
     },
     "execution_count": 5,
     "metadata": {},
     "output_type": "execute_result"
    }
   ],
   "source": [
    "n = 10\n",
    "sol = Solution()\n",
    "sol.nthUglyNumber(n)"
   ]
  },
  {
   "cell_type": "code",
   "execution_count": 6,
   "metadata": {},
   "outputs": [
    {
     "data": {
      "text/plain": [
       "1"
      ]
     },
     "execution_count": 6,
     "metadata": {},
     "output_type": "execute_result"
    }
   ],
   "source": [
    "n = 1\n",
    "sol = Solution()\n",
    "sol.nthUglyNumber(n)"
   ]
  }
 ],
 "metadata": {
  "kernelspec": {
   "display_name": "dsa-venv",
   "language": "python",
   "name": "python3"
  },
  "language_info": {
   "codemirror_mode": {
    "name": "ipython",
    "version": 3
   },
   "file_extension": ".py",
   "mimetype": "text/x-python",
   "name": "python",
   "nbconvert_exporter": "python",
   "pygments_lexer": "ipython3",
   "version": "3.11.3"
  },
  "orig_nbformat": 4
 },
 "nbformat": 4,
 "nbformat_minor": 2
}
