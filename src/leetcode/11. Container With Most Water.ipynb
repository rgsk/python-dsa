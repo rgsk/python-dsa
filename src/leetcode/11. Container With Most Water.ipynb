{
 "cells": [
  {
   "cell_type": "code",
   "execution_count": 3,
   "metadata": {},
   "outputs": [],
   "source": [
    "class Solution:\n",
    "    def maxArea(self, height):\n",
    "        i, j = 0, len(height) - 1\n",
    "        water = 0\n",
    "        while i < j:\n",
    "            water = max(water, (j - i) * min(height[i], height[j]))\n",
    "            if height[i] < height[j]:\n",
    "                i += 1\n",
    "            else:\n",
    "                j -= 1\n",
    "        return water"
   ]
  },
  {
   "cell_type": "code",
   "execution_count": 4,
   "metadata": {},
   "outputs": [
    {
     "name": "stdout",
     "output_type": "stream",
     "text": [
      "49\n"
     ]
    }
   ],
   "source": [
    "sol = Solution()\n",
    "height = [1,8,6,2,5,4,8,3,7]\n",
    "print(sol.maxArea(height))"
   ]
  }
 ],
 "metadata": {
  "kernelspec": {
   "display_name": "Python 3.10.4 ('template-venv': venv)",
   "language": "python",
   "name": "python3"
  },
  "language_info": {
   "codemirror_mode": {
    "name": "ipython",
    "version": 3
   },
   "file_extension": ".py",
   "mimetype": "text/x-python",
   "name": "python",
   "nbconvert_exporter": "python",
   "pygments_lexer": "ipython3",
   "version": "3.10.4"
  },
  "orig_nbformat": 4,
  "vscode": {
   "interpreter": {
    "hash": "0b8dd1d11c220dfc9d15848c82c145ba1a021fcb056c07a0cc073ae3ed6d8420"
   }
  }
 },
 "nbformat": 4,
 "nbformat_minor": 2
}
