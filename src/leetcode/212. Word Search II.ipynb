{
 "cells": [
  {
   "cell_type": "code",
   "execution_count": null,
   "metadata": {},
   "outputs": [],
   "source": [
    "# https://leetcode.com/problems/word-search-ii/description/\n",
    "\n",
    "# video\n",
    "# https://www.youtube.com/watch?v=asbcE9mZz_U"
   ]
  },
  {
   "cell_type": "code",
   "execution_count": 88,
   "metadata": {},
   "outputs": [],
   "source": [
    "import sys\n",
    "sys.path.append('..')\n",
    "\n",
    "from lib.Trie import *"
   ]
  },
  {
   "cell_type": "code",
   "execution_count": 89,
   "metadata": {},
   "outputs": [],
   "source": [
    "from typing import List\n",
    "\n",
    "ops = [(-1,0),(1,0),(0,-1),(0,1)]\n",
    "\n",
    "\n",
    "# TLE\n",
    "class Solution:\n",
    "    def findWords(self, board: List[List[str]], words: List[str]) -> List[str]:\n",
    "        trie = Trie()\n",
    "        for word in words:\n",
    "            trie.insert(word)\n",
    "\n",
    "\n",
    "        totalRows = len(board)\n",
    "        totalCols = len(board[0])\n",
    "        visited = [[False for _ in range(totalCols)] for _ in range(totalRows)]\n",
    "        ans = set()\n",
    "        def helper(row, col, prefix):\n",
    "            nonlocal ans\n",
    "            if not trie.startsWith(prefix):\n",
    "                return\n",
    "            if prefix not in ans and trie.search(prefix):\n",
    "                ans.add(prefix)\n",
    "            for op in ops:\n",
    "                newRow = row + op[0]\n",
    "                newCol = col + op[1]\n",
    "                if newRow >= 0 and newRow < totalRows and newCol >= 0 and newCol < totalCols:\n",
    "                    if not visited[newRow][newCol]:\n",
    "                        visited[newRow][newCol] = True\n",
    "                        helper(newRow, newCol, prefix + board[newRow][newCol])\n",
    "                        visited[newRow][newCol] = False\n",
    "        \n",
    "        for i in range(totalRows):\n",
    "            for j in range(totalCols):\n",
    "                visited[i][j] = True\n",
    "                helper(i, j, board[i][j])\n",
    "                visited[i][j] = False\n",
    "        return list(ans)"
   ]
  },
  {
   "cell_type": "code",
   "execution_count": 90,
   "metadata": {},
   "outputs": [],
   "source": [
    "from typing import List\n",
    "\n",
    "ops = [(-1,0),(1,0),(0,-1),(0,1)]\n",
    "\n",
    "# accepted\n",
    "class Solution:\n",
    "    def findWords(self, board: List[List[str]], words: List[str]) -> List[str]:\n",
    "        trie = Trie()\n",
    "        for word in words:\n",
    "            trie.insert(word)\n",
    "\n",
    "        totalRows = len(board)\n",
    "        totalCols = len(board[0])\n",
    "        visited = [[False for _ in range(totalCols)] for _ in range(totalRows)]\n",
    "        ans = set()\n",
    "        def helper(row, col, node, prefix):\n",
    "            nonlocal ans\n",
    "            if not node:\n",
    "                return\n",
    "            if node.end:\n",
    "                ans.add(prefix)\n",
    "            for op in ops:\n",
    "                newRow = row + op[0]\n",
    "                newCol = col + op[1]\n",
    "                if newRow >= 0 and newRow < totalRows and newCol >= 0 and newCol < totalCols:\n",
    "                    if not visited[newRow][newCol]:\n",
    "                        visited[newRow][newCol] = True\n",
    "                        helper(newRow, newCol,node.nodes[ctoi(board[newRow][newCol])], prefix + board[newRow][newCol])\n",
    "                        visited[newRow][newCol] = False\n",
    "        \n",
    "        for i in range(totalRows):\n",
    "            for j in range(totalCols):\n",
    "                visited[i][j] = True\n",
    "                helper(i, j, trie.nodes[ctoi(board[i][j])], board[i][j])\n",
    "                visited[i][j] = False\n",
    "        return list(ans)"
   ]
  },
  {
   "cell_type": "code",
   "execution_count": 91,
   "metadata": {},
   "outputs": [],
   "source": [
    "# clean and efficient solution\n",
    "\n",
    "# approach\n",
    "# we check during the dfs, whether a word exists with the given prefix (using trie)\n",
    "# if exists then we continue on that path, else abort\n",
    "# if in that path, the word is equal to prefix, we add that word to output array\n",
    "\n",
    "from typing import List\n",
    "\n",
    "class Solution:\n",
    "    def findWords(self, board: List[List[str]], words: List[str]) -> List[str]:\n",
    "        trie = Trie()\n",
    "        for word in words:\n",
    "            trie.insert(word)\n",
    "\n",
    "        totalRows = len(board)\n",
    "        totalCols = len(board[0])\n",
    "        visited = [[False for _ in range(totalCols)] for _ in range(totalRows)]\n",
    "        ans = []\n",
    "        def helper(row, col, node, prefix):\n",
    "            nonlocal ans\n",
    "\n",
    "            if row < 0 or col < 0 or row >= totalRows or col >= totalCols or visited[row][col] \\\n",
    "                or not node.nodes[ctoi(board[row][col])]:\n",
    "                return\n",
    "\n",
    "            prefix += board[row][col]\n",
    "            node = node.nodes[ctoi(board[row][col])]\n",
    "            \n",
    "            if node.end:\n",
    "                ans.append(prefix)\n",
    "                node.end = False # to not add the same word again\n",
    "\n",
    "            visited[row][col] = True\n",
    "            helper(row + 1, col, node, prefix)\n",
    "            helper(row - 1, col, node, prefix)\n",
    "            helper(row, col + 1, node, prefix)\n",
    "            helper(row, col - 1, node, prefix)\n",
    "            visited[row][col] = False\n",
    "                        \n",
    "        \n",
    "        for i in range(totalRows):\n",
    "            for j in range(totalCols):\n",
    "                helper(i, j, trie, \"\")\n",
    "        return ans"
   ]
  },
  {
   "cell_type": "code",
   "execution_count": 92,
   "metadata": {},
   "outputs": [
    {
     "data": {
      "text/plain": [
       "['oath', 'eat']"
      ]
     },
     "execution_count": 92,
     "metadata": {},
     "output_type": "execute_result"
    }
   ],
   "source": [
    "board = [[\"o\",\"a\",\"a\",\"n\"],[\"e\",\"t\",\"a\",\"e\"],[\"i\",\"h\",\"k\",\"r\"],[\"i\",\"f\",\"l\",\"v\"]]\n",
    "words = [\"oath\",\"pea\",\"eat\",\"rain\"]\n",
    "sol = Solution()\n",
    "sol.findWords(board, words)"
   ]
  },
  {
   "cell_type": "code",
   "execution_count": 93,
   "metadata": {},
   "outputs": [
    {
     "data": {
      "text/plain": [
       "[]"
      ]
     },
     "execution_count": 93,
     "metadata": {},
     "output_type": "execute_result"
    }
   ],
   "source": [
    "board = [[\"a\",\"b\"],[\"c\",\"d\"]]\n",
    "words = [\"abcb\"]\n",
    "sol = Solution()\n",
    "sol.findWords(board, words)"
   ]
  },
  {
   "cell_type": "code",
   "execution_count": 94,
   "metadata": {},
   "outputs": [
    {
     "data": {
      "text/plain": [
       "['oa', 'oaa']"
      ]
     },
     "execution_count": 94,
     "metadata": {},
     "output_type": "execute_result"
    }
   ],
   "source": [
    "board = [[\"o\",\"a\",\"b\",\"n\"],[\"o\",\"t\",\"a\",\"e\"],[\"a\",\"h\",\"k\",\"r\"],[\"a\",\"f\",\"l\",\"v\"]]\n",
    "words = [\"oa\",\"oaa\"]\n",
    "sol = Solution()\n",
    "sol.findWords(board, words)"
   ]
  },
  {
   "cell_type": "code",
   "execution_count": 95,
   "metadata": {},
   "outputs": [
    {
     "data": {
      "text/plain": [
       "['a']"
      ]
     },
     "execution_count": 95,
     "metadata": {},
     "output_type": "execute_result"
    }
   ],
   "source": [
    "board = [[\"a\"]]\n",
    "words = [\"a\"]\n",
    "sol = Solution()\n",
    "sol.findWords(board, words)"
   ]
  }
 ],
 "metadata": {
  "kernelspec": {
   "display_name": "dsa-venv",
   "language": "python",
   "name": "python3"
  },
  "language_info": {
   "codemirror_mode": {
    "name": "ipython",
    "version": 3
   },
   "file_extension": ".py",
   "mimetype": "text/x-python",
   "name": "python",
   "nbconvert_exporter": "python",
   "pygments_lexer": "ipython3",
   "version": "3.11.3"
  }
 },
 "nbformat": 4,
 "nbformat_minor": 2
}
