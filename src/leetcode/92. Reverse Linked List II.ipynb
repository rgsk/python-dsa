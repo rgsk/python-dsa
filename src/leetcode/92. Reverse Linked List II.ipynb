{
 "cells": [
  {
   "cell_type": "code",
   "execution_count": 11,
   "metadata": {},
   "outputs": [],
   "source": [
    "import sys\n",
    "sys.path.append('..')\n",
    "\n",
    "from lib.ListNode import *"
   ]
  },
  {
   "cell_type": "code",
   "execution_count": 12,
   "metadata": {},
   "outputs": [],
   "source": [
    "class Solution:\n",
    "    def reverseBetween(self, head: Optional[ListNode], left: int, right: int) -> Optional[ListNode]:\n",
    "        if left == 1:\n",
    "            temp = head\n",
    "            while right > 1:\n",
    "                temp = temp.next\n",
    "                right -= 1\n",
    "            end = temp\n",
    "            old_right = temp.next\n",
    "            end.next = None\n",
    "            reversed_start = reverseList(head)\n",
    "            head.next = old_right\n",
    "            return reversed_start\n",
    "\n",
    "        temp = head\n",
    "        while left > 2:\n",
    "            temp = temp.next\n",
    "            left -= 1\n",
    "            right -= 1\n",
    "\n",
    "        old_left = temp\n",
    "        start = temp.next\n",
    "        while right > 1:\n",
    "            temp = temp.next\n",
    "            right -= 1\n",
    "        end = temp\n",
    "        old_right = temp.next\n",
    "        end.next = None\n",
    "        old_left.next = None\n",
    "\n",
    "        reversed_start = reverseList(start)\n",
    "\n",
    "        old_left.next = reversed_start\n",
    "        start.next = old_right\n",
    "\n",
    "        return head\n",
    "        "
   ]
  },
  {
   "cell_type": "code",
   "execution_count": 13,
   "metadata": {},
   "outputs": [
    {
     "name": "stdout",
     "output_type": "stream",
     "text": [
      "[1, 4, 3, 2, 5]\n"
     ]
    }
   ],
   "source": [
    "head = makeList([1,2,3,4,5])\n",
    "left = 2\n",
    "right = 4\n",
    "sol = Solution()\n",
    "print(asList(sol.reverseBetween(head, left, right)))"
   ]
  },
  {
   "cell_type": "code",
   "execution_count": 14,
   "metadata": {},
   "outputs": [
    {
     "name": "stdout",
     "output_type": "stream",
     "text": [
      "[5]\n"
     ]
    }
   ],
   "source": [
    "head = makeList([5])\n",
    "left = 1\n",
    "right = 1\n",
    "sol = Solution()\n",
    "print(asList(sol.reverseBetween(head, left, right)))"
   ]
  }
 ],
 "metadata": {
  "kernelspec": {
   "display_name": "dsa-venv",
   "language": "python",
   "name": "python3"
  },
  "language_info": {
   "codemirror_mode": {
    "name": "ipython",
    "version": 3
   },
   "file_extension": ".py",
   "mimetype": "text/x-python",
   "name": "python",
   "nbconvert_exporter": "python",
   "pygments_lexer": "ipython3",
   "version": "3.11.3"
  }
 },
 "nbformat": 4,
 "nbformat_minor": 2
}
