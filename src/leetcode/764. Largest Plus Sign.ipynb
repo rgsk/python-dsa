{
 "cells": [
  {
   "cell_type": "code",
   "execution_count": 10,
   "metadata": {},
   "outputs": [],
   "source": [
    "from typing import List\n",
    "\n",
    "\n",
    "class Solution:\n",
    "    def orderOfLargestPlusSign(self, n: int, mines: List[List[int]]) -> int:\n",
    "        grid = [[n] * n for i in range(n)]\n",
    "            \n",
    "        for m in mines:\n",
    "            grid[m[0]][m[1]] = 0\n",
    "                \n",
    "        for i in range(n):\n",
    "            l, r, u, d = 0, 0, 0, 0\n",
    "                \n",
    "            for j, k in zip(range(n), reversed(range(n))):\n",
    "                l = l + 1 if grid[i][j] != 0 else 0\n",
    "                if l < grid[i][j]:\n",
    "                    grid[i][j] = l\n",
    "                \n",
    "                r = r + 1 if grid[i][k] != 0 else 0\n",
    "                if r < grid[i][k]:\n",
    "                    grid[i][k] = r\n",
    "\n",
    "                u = u + 1 if grid[j][i] != 0 else 0\n",
    "                if u < grid[j][i]:\n",
    "                    grid[j][i] = u\n",
    "                    \n",
    "                d = d + 1 if grid[k][i] != 0 else 0\n",
    "                if d < grid[k][i]:\n",
    "                    grid[k][i] = d\n",
    "            \n",
    "        res = 0\n",
    "        for i in range(n):\n",
    "            for j in range(n):\n",
    "                if res < grid[i][j]:\n",
    "                    res = grid[i][j]\n",
    "                    \n",
    "        return res"
   ]
  },
  {
   "cell_type": "code",
   "execution_count": 11,
   "metadata": {},
   "outputs": [
    {
     "data": {
      "text/plain": [
       "2"
      ]
     },
     "execution_count": 11,
     "metadata": {},
     "output_type": "execute_result"
    }
   ],
   "source": [
    "n = 5\n",
    "mines = [[4,2]]\n",
    "sol = Solution()\n",
    "sol.orderOfLargestPlusSign(n, mines)"
   ]
  },
  {
   "cell_type": "code",
   "execution_count": 12,
   "metadata": {},
   "outputs": [
    {
     "data": {
      "text/plain": [
       "0"
      ]
     },
     "execution_count": 12,
     "metadata": {},
     "output_type": "execute_result"
    }
   ],
   "source": [
    "n = 1\n",
    "mines = [[0,0]]\n",
    "sol = Solution()\n",
    "sol.orderOfLargestPlusSign(n, mines)"
   ]
  }
 ],
 "metadata": {
  "kernelspec": {
   "display_name": "dsa-venv",
   "language": "python",
   "name": "python3"
  },
  "language_info": {
   "codemirror_mode": {
    "name": "ipython",
    "version": 3
   },
   "file_extension": ".py",
   "mimetype": "text/x-python",
   "name": "python",
   "nbconvert_exporter": "python",
   "pygments_lexer": "ipython3",
   "version": "3.11.3"
  },
  "orig_nbformat": 4
 },
 "nbformat": 4,
 "nbformat_minor": 2
}
