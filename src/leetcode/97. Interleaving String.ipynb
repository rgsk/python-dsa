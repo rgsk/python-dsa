{
 "cells": [
  {
   "cell_type": "code",
   "execution_count": 33,
   "metadata": {},
   "outputs": [],
   "source": [
    "from functools import lru_cache\n",
    "\n",
    "\n",
    "class Solution:\n",
    "    def isInterleave(self, s1: str, s2: str, s3: str) -> bool:\n",
    "        @lru_cache(None)\n",
    "        def helper(i, j):\n",
    "            if i + j == len(s3):\n",
    "                if i == len(s1) and j == len(s2):\n",
    "                    return True\n",
    "                return False\n",
    "            a = helper(i + 1, j) if i < len(s1) and s1[i] == s3[i + j] else False\n",
    "            b = helper(i, j + 1) if j < len(s2) and s2[j] == s3[i + j] else False\n",
    "            return a or b\n",
    "        return helper(0, 0)"
   ]
  },
  {
   "cell_type": "code",
   "execution_count": 34,
   "metadata": {},
   "outputs": [],
   "source": [
    "class Solution:\n",
    "    def isInterleave(self, s1: str, s2: str, s3: str) -> bool:\n",
    "        dp = [[None] * (len(s2) + 1) for _ in range(len(s1) + 1)]\n",
    "        for i in range(len(s1), -1, -1):\n",
    "            for j in range(len(s2), -1, -1):\n",
    "                if i + j >= len(s3):\n",
    "                    if i == len(s1) and j == len(s2):\n",
    "                        dp[i][j] = True\n",
    "                        continue\n",
    "                    dp[i][j] = False\n",
    "                    continue\n",
    "                a = dp[i+1][j] if i < len(s1) and s1[i] == s3[i + j] else False\n",
    "                b = dp[i][j+1] if j < len(s2) and s2[j] == s3[i + j] else False\n",
    "                dp[i][j] = a or b\n",
    "        return dp[0][0]"
   ]
  },
  {
   "cell_type": "code",
   "execution_count": 35,
   "metadata": {},
   "outputs": [],
   "source": [
    "class Solution:\n",
    "    def isInterleave(self, s1: str, s2: str, s3: str) -> bool:\n",
    "        dp = [None] * (len(s2) + 1)\n",
    "        for i in range(len(s1), -1, -1):\n",
    "            next_ = dp[:]\n",
    "            for j in range(len(s2), -1, -1):\n",
    "                if i + j >= len(s3):\n",
    "                    if i == len(s1) and j == len(s2):\n",
    "                        dp[j] = True\n",
    "                        continue\n",
    "                    dp[j] = False\n",
    "                    continue\n",
    "                a = next_[j] if i < len(s1) and s1[i] == s3[i + j] else False\n",
    "                b = dp[j+1] if j < len(s2) and s2[j] == s3[i + j] else False\n",
    "                dp[j] = a or b\n",
    "        return dp[0]"
   ]
  },
  {
   "cell_type": "code",
   "execution_count": 36,
   "metadata": {},
   "outputs": [],
   "source": [
    "class Solution:\n",
    "    def isInterleave(self, s1: str, s2: str, s3: str) -> bool:\n",
    "        dp = [None] * (len(s2) + 1)\n",
    "        for i in range(len(s1), -1, -1):\n",
    "            for j in range(len(s2), -1, -1):\n",
    "                if i + j >= len(s3):\n",
    "                    if i == len(s1) and j == len(s2):\n",
    "                        dp[j] = True\n",
    "                        continue\n",
    "                    dp[j] = False\n",
    "                    continue\n",
    "                a = dp[j] if i < len(s1) and s1[i] == s3[i + j] else False\n",
    "                b = dp[j+1] if j < len(s2) and s2[j] == s3[i + j] else False\n",
    "                dp[j] = a or b\n",
    "        return dp[0]"
   ]
  },
  {
   "cell_type": "code",
   "execution_count": 37,
   "metadata": {},
   "outputs": [
    {
     "name": "stdout",
     "output_type": "stream",
     "text": [
      "True\n"
     ]
    }
   ],
   "source": [
    "s1 = \"aabcc\"\n",
    "s2 = \"dbbca\"\n",
    "s3 = \"aadbbcbcac\"\n",
    "sol = Solution()\n",
    "print(sol.isInterleave(s1, s2, s3))"
   ]
  },
  {
   "cell_type": "code",
   "execution_count": 38,
   "metadata": {},
   "outputs": [
    {
     "name": "stdout",
     "output_type": "stream",
     "text": [
      "False\n"
     ]
    }
   ],
   "source": [
    "# s1 = \"aabcc\", s2 = \"dbbca\", s3 = \"aadbbbaccc\"\n",
    "s1 = \"aabcc\"\n",
    "s2 = \"dbbca\"\n",
    "s3 = \"aadbbbaccc\"\n",
    "sol = Solution()\n",
    "print(sol.isInterleave(s1, s2, s3))"
   ]
  }
 ],
 "metadata": {
  "kernelspec": {
   "display_name": "venv",
   "language": "python",
   "name": "python3"
  },
  "language_info": {
   "codemirror_mode": {
    "name": "ipython",
    "version": 3
   },
   "file_extension": ".py",
   "mimetype": "text/x-python",
   "name": "python",
   "nbconvert_exporter": "python",
   "pygments_lexer": "ipython3",
   "version": "3.11.3"
  }
 },
 "nbformat": 4,
 "nbformat_minor": 2
}
