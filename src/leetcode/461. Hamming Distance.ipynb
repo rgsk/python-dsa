{
 "cells": [
  {
   "cell_type": "code",
   "execution_count": 1,
   "metadata": {},
   "outputs": [],
   "source": [
    "class Solution:\n",
    "    def hammingDistance(self, x: int, y: int) -> int:\n",
    "        if y < x:\n",
    "            return self.hammingDistance(y, x)\n",
    "        y_bin = bin(y)[2:]\n",
    "        x_bin = bin(x)[2:].rjust(len(y_bin), '0')\n",
    "        diff = 0\n",
    "        for i in range(len(y_bin)): \n",
    "            if x_bin[i] != y_bin[i]:\n",
    "                diff += 1\n",
    "        return diff"
   ]
  },
  {
   "cell_type": "code",
   "execution_count": 2,
   "metadata": {},
   "outputs": [],
   "source": [
    "class Solution:\n",
    "    def hammingDistance(self, x: int, y: int) -> int:\n",
    "        xor = x ^ y\n",
    "        set_bits = 0\n",
    "        while xor > 0:\n",
    "            if xor & 1:\n",
    "                set_bits += 1\n",
    "            xor >>= 1\n",
    "        return set_bits"
   ]
  },
  {
   "cell_type": "code",
   "execution_count": 3,
   "metadata": {},
   "outputs": [],
   "source": [
    "class Solution:\n",
    "    def hammingDistance(self, x: int, y: int) -> int:\n",
    "        xor = x ^ y\n",
    "        dist = 0\n",
    "        while xor > 0:\n",
    "            dist += 1\n",
    "\n",
    "            # TRICK: below has the effect of turning off the least significant bit\n",
    "            xor &= xor - 1\n",
    "        return dist"
   ]
  },
  {
   "cell_type": "code",
   "execution_count": 4,
   "metadata": {},
   "outputs": [
    {
     "data": {
      "text/plain": [
       "2"
      ]
     },
     "execution_count": 4,
     "metadata": {},
     "output_type": "execute_result"
    }
   ],
   "source": [
    "sol = Solution()\n",
    "x = 1\n",
    "y = 4\n",
    "sol.hammingDistance(x, y)"
   ]
  },
  {
   "cell_type": "code",
   "execution_count": 5,
   "metadata": {},
   "outputs": [
    {
     "data": {
      "text/plain": [
       "2"
      ]
     },
     "execution_count": 5,
     "metadata": {},
     "output_type": "execute_result"
    }
   ],
   "source": [
    "sol = Solution()\n",
    "x = 4\n",
    "y = 1\n",
    "sol.hammingDistance(x, y)"
   ]
  }
 ],
 "metadata": {
  "kernelspec": {
   "display_name": "base",
   "language": "python",
   "name": "python3"
  },
  "language_info": {
   "codemirror_mode": {
    "name": "ipython",
    "version": 3
   },
   "file_extension": ".py",
   "mimetype": "text/x-python",
   "name": "python",
   "nbconvert_exporter": "python",
   "pygments_lexer": "ipython3",
   "version": "3.11.3"
  }
 },
 "nbformat": 4,
 "nbformat_minor": 2
}
