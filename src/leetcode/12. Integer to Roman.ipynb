{
 "cells": [
  {
   "cell_type": "code",
   "execution_count": 56,
   "metadata": {},
   "outputs": [],
   "source": [
    "translations = {\n",
    "    1: 'I',\n",
    "    5: 'V',\n",
    "    10: 'X',\n",
    "    50: 'L',\n",
    "    100: 'C',\n",
    "    500: 'D',\n",
    "    1000: 'M'\n",
    "}\n",
    "\n",
    "keys = sorted(translations.keys(), reverse=True)\n",
    "\n",
    "\n",
    "class Solution:\n",
    "    def intToRoman(self, num: int) -> str:\n",
    "        s = \"\"\n",
    "        for key in keys:\n",
    "            times = num // key\n",
    "            if times > 0:\n",
    "                s += translations[key] * times\n",
    "                num = num % key\n",
    "\n",
    "        s = s.replace(\"VIIII\", \"IX\")\n",
    "        s = s.replace(\"IIII\", \"IV\")\n",
    "        s = s.replace(\"LXXXX\", \"XC\")\n",
    "        s = s.replace(\"XXXX\", \"XL\")\n",
    "        s = s.replace(\"DCCCC\", \"CM\")\n",
    "        s = s.replace(\"CCCC\", \"CD\")\n",
    "        return s"
   ]
  },
  {
   "cell_type": "code",
   "execution_count": 57,
   "metadata": {},
   "outputs": [
    {
     "data": {
      "text/plain": [
       "'III'"
      ]
     },
     "execution_count": 57,
     "metadata": {},
     "output_type": "execute_result"
    }
   ],
   "source": [
    "num = 3\n",
    "sol = Solution()\n",
    "sol.intToRoman(num)"
   ]
  },
  {
   "cell_type": "code",
   "execution_count": 58,
   "metadata": {},
   "outputs": [
    {
     "data": {
      "text/plain": [
       "'VII'"
      ]
     },
     "execution_count": 58,
     "metadata": {},
     "output_type": "execute_result"
    }
   ],
   "source": [
    "num = 7\n",
    "sol = Solution()\n",
    "sol.intToRoman(num)"
   ]
  },
  {
   "cell_type": "code",
   "execution_count": 59,
   "metadata": {},
   "outputs": [
    {
     "data": {
      "text/plain": [
       "'VIII'"
      ]
     },
     "execution_count": 59,
     "metadata": {},
     "output_type": "execute_result"
    }
   ],
   "source": [
    "num = 8\n",
    "sol = Solution()\n",
    "sol.intToRoman(num)"
   ]
  },
  {
   "cell_type": "code",
   "execution_count": 60,
   "metadata": {},
   "outputs": [
    {
     "data": {
      "text/plain": [
       "'IX'"
      ]
     },
     "execution_count": 60,
     "metadata": {},
     "output_type": "execute_result"
    }
   ],
   "source": [
    "num = 9\n",
    "sol = Solution()\n",
    "sol.intToRoman(num)"
   ]
  },
  {
   "cell_type": "code",
   "execution_count": 61,
   "metadata": {},
   "outputs": [
    {
     "data": {
      "text/plain": [
       "'LVIII'"
      ]
     },
     "execution_count": 61,
     "metadata": {},
     "output_type": "execute_result"
    }
   ],
   "source": [
    "num = 58\n",
    "sol = Solution()\n",
    "sol.intToRoman(num)"
   ]
  },
  {
   "cell_type": "code",
   "execution_count": 62,
   "metadata": {},
   "outputs": [
    {
     "data": {
      "text/plain": [
       "'MCMXCIV'"
      ]
     },
     "execution_count": 62,
     "metadata": {},
     "output_type": "execute_result"
    }
   ],
   "source": [
    "num = 1994\n",
    "sol = Solution()\n",
    "sol.intToRoman(num)"
   ]
  }
 ],
 "metadata": {
  "kernelspec": {
   "display_name": "dsa-venv",
   "language": "python",
   "name": "python3"
  },
  "language_info": {
   "codemirror_mode": {
    "name": "ipython",
    "version": 3
   },
   "file_extension": ".py",
   "mimetype": "text/x-python",
   "name": "python",
   "nbconvert_exporter": "python",
   "pygments_lexer": "ipython3",
   "version": "3.11.3"
  }
 },
 "nbformat": 4,
 "nbformat_minor": 2
}
