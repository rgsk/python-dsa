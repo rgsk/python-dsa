{
 "cells": [
  {
   "cell_type": "code",
   "execution_count": null,
   "metadata": {},
   "outputs": [],
   "source": [
    "# https://leetcode.com/problems/convert-sorted-list-to-binary-search-tree/description/"
   ]
  },
  {
   "cell_type": "code",
   "execution_count": null,
   "metadata": {},
   "outputs": [],
   "source": [
    "import sys\n",
    "sys.path.append('../../../..')\n",
    "\n",
    "\n",
    "from lib.TreeNode import *\n",
    "\n",
    "import sys\n",
    "sys.path.append('..')\n",
    "\n",
    "from lib.ListNode import *"
   ]
  },
  {
   "cell_type": "code",
   "execution_count": null,
   "metadata": {},
   "outputs": [],
   "source": [
    "# passed\n",
    "class Solution:\n",
    "    def sortedListToBST(self, head: Optional[ListNode]) -> Optional[TreeNode]:\n",
    "        nums = asList(head)\n",
    "        return createTreeFromInorder(nums, 0, len(nums) - 1)"
   ]
  },
  {
   "cell_type": "code",
   "execution_count": null,
   "metadata": {},
   "outputs": [],
   "source": [
    "# better solution\n",
    "class Solution:\n",
    "    # recursively\n",
    "    def sortedListToBST(self, head: Optional[ListNode]) -> Optional[TreeNode]:\n",
    "        if not head:\n",
    "            return \n",
    "        if not head.next:\n",
    "            return TreeNode(head.val)\n",
    "        # here we get the middle point,\n",
    "        # even case, like '1234', slow points to '2',\n",
    "        # '3' is root, '12' belongs to left, '4' is right\n",
    "        # odd case, like '12345', slow points to '2', '12'\n",
    "        # belongs to left, '3' is root, '45' belongs to right\n",
    "        slow, fast = head, head.next.next\n",
    "        while fast and fast.next:\n",
    "            fast = fast.next.next\n",
    "            slow = slow.next\n",
    "        # tmp points to root\n",
    "        tmp = slow.next\n",
    "        # cut down the left child\n",
    "        slow.next = None\n",
    "        root = TreeNode(tmp.val)\n",
    "        root.left = self.sortedListToBST(head)\n",
    "        root.right = self.sortedListToBST(tmp.next)\n",
    "        return root"
   ]
  }
 ],
 "metadata": {
  "language_info": {
   "name": "python"
  }
 },
 "nbformat": 4,
 "nbformat_minor": 2
}
