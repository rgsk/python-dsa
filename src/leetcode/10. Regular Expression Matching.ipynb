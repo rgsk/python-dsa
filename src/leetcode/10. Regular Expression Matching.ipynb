{
 "cells": [
  {
   "cell_type": "code",
   "execution_count": 81,
   "metadata": {},
   "outputs": [],
   "source": [
    "class Solution:\n",
    "    def isMatch(self, s: str, p: str) -> bool:\n",
    "        if not p:\n",
    "            return not s\n",
    "\n",
    "        if len(p) > 1 and p[1] == '*':\n",
    "            # x* matches empty string or at least one character: x* -> xx*\n",
    "            # *s is to ensure s is non-empty\n",
    "            return self.isMatch(s, p[2:]) or (bool(s) and (s[0] == p[0] or p[0] == '.') and self.isMatch(s[1:], p))\n",
    "        else:\n",
    "            return bool(s) and (s[0] == p[0] or p[0] == '.') and self.isMatch(s[1:], p[1:])"
   ]
  },
  {
   "cell_type": "code",
   "execution_count": 82,
   "metadata": {},
   "outputs": [],
   "source": [
    "class Solution:\n",
    "    def isMatch(self, s: str, p: str) -> bool:\n",
    "        \"\"\"\n",
    "        f[i][j]: if s[0..i-1] matches p[0..j-1]\n",
    "        if p[j - 1] != '*':\n",
    "            f[i][j] = f[i - 1][j - 1] && s[i - 1] == p[j - 1]\n",
    "        if p[j - 1] == '*', denote p[j - 2] with x\n",
    "            f[i][j] is true iff any of the following is true\n",
    "            1) \"x*\" repeats 0 time and matches empty: f[i][j - 2]\n",
    "            2) \"x*\" repeats >= 1 times and matches \"x*x\": s[i - 1] == x && f[i - 1][j]\n",
    "        '.' matches any single character\n",
    "        \"\"\"\n",
    "        m, n = len(s), len(p)\n",
    "        f = [[False] * (n + 1) for _ in range(m + 1)]\n",
    "        \n",
    "        f[0][0] = True\n",
    "        # p[0.., j - 3, j - 2, j - 1] matches empty iff p[j - 1] is '*' and p[0..j - 3] matches empty\n",
    "        for j in range(1, n + 1):\n",
    "            f[0][j] = j > 1 and p[j - 1] == '*' and f[0][j - 2]\n",
    "        \n",
    "        for i in range(1, m + 1):\n",
    "            for j in range(1, n + 1):\n",
    "                if p[j - 1] != '*':\n",
    "                    f[i][j] = f[i - 1][j - 1] and (s[i - 1] == p[j - 1] or p[j - 1] == '.')\n",
    "                else:\n",
    "                    # p[0] cannot be '*' so no need to check \"j > 1\" here\n",
    "                    f[i][j] = f[i][j - 2] or (s[i - 1] == p[j - 2] or p[j - 2] == '.') and f[i - 1][j]\n",
    "        \n",
    "        return f[m][n]"
   ]
  },
  {
   "cell_type": "code",
   "execution_count": 83,
   "metadata": {},
   "outputs": [
    {
     "data": {
      "text/plain": [
       "False"
      ]
     },
     "execution_count": 83,
     "metadata": {},
     "output_type": "execute_result"
    }
   ],
   "source": [
    "s = \"aa\"\n",
    "p = \"a\"\n",
    "sol = Solution()\n",
    "sol.isMatch(s, p)"
   ]
  },
  {
   "cell_type": "code",
   "execution_count": 84,
   "metadata": {},
   "outputs": [
    {
     "data": {
      "text/plain": [
       "True"
      ]
     },
     "execution_count": 84,
     "metadata": {},
     "output_type": "execute_result"
    }
   ],
   "source": [
    "s = \"aa\"\n",
    "p = \"a.\"\n",
    "sol = Solution()\n",
    "sol.isMatch(s, p)"
   ]
  },
  {
   "cell_type": "code",
   "execution_count": 85,
   "metadata": {},
   "outputs": [
    {
     "data": {
      "text/plain": [
       "True"
      ]
     },
     "execution_count": 85,
     "metadata": {},
     "output_type": "execute_result"
    }
   ],
   "source": [
    "s = \"aa\"\n",
    "p = \"a*\"\n",
    "sol = Solution()\n",
    "sol.isMatch(s, p)"
   ]
  },
  {
   "cell_type": "code",
   "execution_count": 86,
   "metadata": {},
   "outputs": [
    {
     "data": {
      "text/plain": [
       "True"
      ]
     },
     "execution_count": 86,
     "metadata": {},
     "output_type": "execute_result"
    }
   ],
   "source": [
    "s = \"ab\"\n",
    "p = \".*\"\n",
    "sol = Solution()\n",
    "sol.isMatch(s, p)"
   ]
  },
  {
   "cell_type": "code",
   "execution_count": 87,
   "metadata": {},
   "outputs": [
    {
     "data": {
      "text/plain": [
       "True"
      ]
     },
     "execution_count": 87,
     "metadata": {},
     "output_type": "execute_result"
    }
   ],
   "source": [
    "s =\"aab\"\n",
    "p =\"c*a*b\"\n",
    "sol = Solution()\n",
    "sol.isMatch(s, p)"
   ]
  },
  {
   "cell_type": "code",
   "execution_count": 88,
   "metadata": {},
   "outputs": [
    {
     "data": {
      "text/plain": [
       "False"
      ]
     },
     "execution_count": 88,
     "metadata": {},
     "output_type": "execute_result"
    }
   ],
   "source": [
    "s =\"mississippi\"\n",
    "p =\"mis*is*p*.\"\n",
    "sol = Solution()\n",
    "sol.isMatch(s, p)"
   ]
  }
 ],
 "metadata": {
  "kernelspec": {
   "display_name": "dsa-venv",
   "language": "python",
   "name": "python3"
  },
  "language_info": {
   "codemirror_mode": {
    "name": "ipython",
    "version": 3
   },
   "file_extension": ".py",
   "mimetype": "text/x-python",
   "name": "python",
   "nbconvert_exporter": "python",
   "pygments_lexer": "ipython3",
   "version": "3.11.3"
  },
  "orig_nbformat": 4
 },
 "nbformat": 4,
 "nbformat_minor": 2
}
