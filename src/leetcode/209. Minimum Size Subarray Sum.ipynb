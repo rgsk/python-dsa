{
 "cells": [
  {
   "cell_type": "code",
   "execution_count": 87,
   "metadata": {},
   "outputs": [],
   "source": [
    "from typing import List\n",
    "\n",
    "INT_MAX = (2 ** 31)-1\n",
    "\n",
    "# recursive solution\n",
    "class Solution:\n",
    "    def minSubArrayLen(self, target: int, nums: List[int]) -> int:\n",
    "        def helper(i, j, remaining):\n",
    "            if i > j or remaining < target:\n",
    "                return INT_MAX\n",
    "            return min(j - i + 1, helper(i + 1, j, remaining-nums[i]), helper(i, j - 1, remaining - nums[j]))\n",
    "        res = helper(0, len(nums) - 1, sum(nums))\n",
    "        return 0 if res == INT_MAX else res"
   ]
  },
  {
   "cell_type": "code",
   "execution_count": 88,
   "metadata": {},
   "outputs": [],
   "source": [
    "from typing import List\n",
    "\n",
    "INT_MAX = (2 ** 31)-1\n",
    "\n",
    "# trying to reduce the number of variables for memoization\n",
    "class Solution:\n",
    "    def minSubArrayLen(self, target: int, nums: List[int]) -> int:\n",
    "        def helper(i, j):\n",
    "            if i > j or sum(nums[i:j+1]) < target:\n",
    "                return INT_MAX\n",
    "            return min(j - i + 1, helper(i + 1, j), helper(i, j - 1))\n",
    "        res = helper(0, len(nums) - 1)\n",
    "        return 0 if res == INT_MAX else res"
   ]
  },
  {
   "cell_type": "code",
   "execution_count": 89,
   "metadata": {},
   "outputs": [],
   "source": [
    "from typing import List\n",
    "\n",
    "INT_MAX = (2 ** 31)-1\n",
    "\n",
    "# optimized heavy sum computation using prefix sum\n",
    "class Solution:\n",
    "    def minSubArrayLen(self, target: int, nums: List[int]) -> int:\n",
    "        prefix_sum = [0] * len(nums)\n",
    "        prefix_sum[0] = nums[0]\n",
    "        for i in range(1, len(nums)):\n",
    "            prefix_sum[i] = prefix_sum[i-1] + nums[i]\n",
    "        def get_sum(i, j):\n",
    "            return prefix_sum[j] - prefix_sum[i] + nums[i]\n",
    "        \n",
    "        dp = [[-1 for _ in range(len(nums))] for _ in range(len(nums))]\n",
    "        def helper(i, j):\n",
    "            if i > j or get_sum(i, j) < target:\n",
    "                return INT_MAX\n",
    "            if dp[i][j] != -1:\n",
    "                return dp[i][j]\n",
    "            dp[i][j] = min(j - i + 1, helper(i + 1, j), helper(i, j - 1))\n",
    "            return dp[i][j]\n",
    "        res = helper(0, len(nums) - 1)\n",
    "        return 0 if res == INT_MAX else res"
   ]
  },
  {
   "cell_type": "code",
   "execution_count": 90,
   "metadata": {},
   "outputs": [],
   "source": [
    "from typing import List\n",
    "\n",
    "INT_MAX = (2 ** 31)-1\n",
    "\n",
    "# optimized heavy sum computation using prefix sum\n",
    "class Solution:\n",
    "    def minSubArrayLen(self, target: int, nums: List[int]) -> int:\n",
    "        n = len(nums)\n",
    "        prefix_sum = [0] * n\n",
    "        prefix_sum[0] = nums[0]\n",
    "        for i in range(1, n):\n",
    "            prefix_sum[i] = prefix_sum[i-1] + nums[i]\n",
    "        def get_sum(i, j):\n",
    "            return prefix_sum[j] - prefix_sum[i] + nums[i]\n",
    "        \n",
    "        dp = [[INT_MAX for _ in range(n)] for _ in range(n + 1)]\n",
    "        for i in range(n-1, -1,-1):\n",
    "            for j in range(i, n):\n",
    "                if get_sum(i, j) >= target:\n",
    "                    dp[i][j] = min(j - i + 1, dp[i+1][j], dp[i][j-1])\n",
    "        res = dp[0][n-1]\n",
    "        return 0 if res == INT_MAX else res"
   ]
  },
  {
   "cell_type": "code",
   "execution_count": 91,
   "metadata": {},
   "outputs": [],
   "source": [
    "from typing import List\n",
    "\n",
    "INT_MAX = (2 ** 31)-1\n",
    "\n",
    "# optimized heavy sum computation using prefix sum\n",
    "class Solution:\n",
    "    def minSubArrayLen(self, target: int, nums: List[int]) -> int:\n",
    "        n = len(nums)\n",
    "        prefix_sum = [0] * n\n",
    "        prefix_sum[0] = nums[0]\n",
    "        for i in range(1, n):\n",
    "            prefix_sum[i] = prefix_sum[i-1] + nums[i]\n",
    "        def get_sum(i, j):\n",
    "            return prefix_sum[j] - prefix_sum[i] + nums[i]\n",
    "        \n",
    "        dp = [INT_MAX for _ in range(n)]\n",
    "        for i in range(n-1, -1,-1):\n",
    "            next = dp[:]\n",
    "            for j in range(i, n):\n",
    "                if get_sum(i, j) >= target:\n",
    "                    dp[j] = min(j - i + 1, next[j], dp[j-1])\n",
    "        res = dp[n-1]\n",
    "        return 0 if res == INT_MAX else res"
   ]
  },
  {
   "cell_type": "code",
   "execution_count": 92,
   "metadata": {},
   "outputs": [],
   "source": [
    "from typing import List\n",
    "\n",
    "INT_MAX = (2 ** 31)-1\n",
    "\n",
    "# this also works for 18/21 test cases\n",
    "# TLE\n",
    "# O(n^2) solution doesn't work\n",
    "class Solution:\n",
    "    def minSubArrayLen(self, target: int, nums: List[int]) -> int:\n",
    "        n = len(nums)\n",
    "        prefix_sum = [0] * n\n",
    "        prefix_sum[0] = nums[0]\n",
    "        for i in range(1, n):\n",
    "            prefix_sum[i] = prefix_sum[i-1] + nums[i]\n",
    "        def get_sum(i, j):\n",
    "            return prefix_sum[j] - prefix_sum[i] + nums[i]\n",
    "        \n",
    "        dp = [INT_MAX for _ in range(n)]\n",
    "        for i in range(n-1, -1,-1):\n",
    "            for j in range(i, n):\n",
    "                if get_sum(i, j) >= target:\n",
    "                    dp[j] = min(j - i + 1, dp[j], dp[j-1])\n",
    "        res = dp[n-1]\n",
    "        return 0 if res == INT_MAX else res"
   ]
  },
  {
   "cell_type": "code",
   "execution_count": 93,
   "metadata": {},
   "outputs": [],
   "source": [
    "import math\n",
    "\n",
    "\n",
    "class Solution:\n",
    "    def minSubArrayLen(self, target: int, nums: List[int]) -> int:\n",
    "        start = end = total = 0\n",
    "        minLength = math.inf\n",
    "        n = len(nums)\n",
    "        while end < n:\n",
    "            total += nums[end]\n",
    "            while total >= target:\n",
    "                minLength = min(minLength, end - start + 1)\n",
    "                total -= nums[start]\n",
    "                start += 1\n",
    "            end += 1\n",
    "        return 0 if minLength == math.inf else minLength"
   ]
  },
  {
   "cell_type": "code",
   "execution_count": 94,
   "metadata": {},
   "outputs": [
    {
     "data": {
      "text/plain": [
       "2"
      ]
     },
     "execution_count": 94,
     "metadata": {},
     "output_type": "execute_result"
    }
   ],
   "source": [
    "target = 7\n",
    "nums = [2,3,1,2,4,3]\n",
    "sol = Solution()\n",
    "sol.minSubArrayLen(target, nums)"
   ]
  },
  {
   "cell_type": "code",
   "execution_count": 95,
   "metadata": {},
   "outputs": [
    {
     "data": {
      "text/plain": [
       "1"
      ]
     },
     "execution_count": 95,
     "metadata": {},
     "output_type": "execute_result"
    }
   ],
   "source": [
    "target = 4\n",
    "nums = [1,4,4]\n",
    "sol = Solution()\n",
    "sol.minSubArrayLen(target, nums)"
   ]
  },
  {
   "cell_type": "code",
   "execution_count": 96,
   "metadata": {},
   "outputs": [
    {
     "data": {
      "text/plain": [
       "0"
      ]
     },
     "execution_count": 96,
     "metadata": {},
     "output_type": "execute_result"
    }
   ],
   "source": [
    "target = 11\n",
    "nums = [1,1,1,1,1,1,1,1]\n",
    "sol = Solution()\n",
    "sol.minSubArrayLen(target, nums)"
   ]
  }
 ],
 "metadata": {
  "kernelspec": {
   "display_name": "dsa-venv",
   "language": "python",
   "name": "python3"
  },
  "language_info": {
   "codemirror_mode": {
    "name": "ipython",
    "version": 3
   },
   "file_extension": ".py",
   "mimetype": "text/x-python",
   "name": "python",
   "nbconvert_exporter": "python",
   "pygments_lexer": "ipython3",
   "version": "3.11.3"
  },
  "orig_nbformat": 4
 },
 "nbformat": 4,
 "nbformat_minor": 2
}
