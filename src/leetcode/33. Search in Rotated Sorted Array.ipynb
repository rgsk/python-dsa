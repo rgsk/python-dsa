{
 "cells": [
  {
   "cell_type": "code",
   "execution_count": 60,
   "metadata": {},
   "outputs": [],
   "source": [
    "from typing import List\n",
    "class Solution:\n",
    "    def search(self, nums: List[int], target: int) -> int:\n",
    "        for i in range(len(nums)):\n",
    "            if nums[i] == target:\n",
    "                return i\n",
    "        return -1"
   ]
  },
  {
   "cell_type": "code",
   "execution_count": 61,
   "metadata": {},
   "outputs": [
    {
     "name": "stdout",
     "output_type": "stream",
     "text": [
      "4\n"
     ]
    }
   ],
   "source": [
    "nums = [4,5,6,7,0,1,2]\n",
    "target = 0\n",
    "sol = Solution()\n",
    "print(sol.search(nums, target))"
   ]
  },
  {
   "cell_type": "code",
   "execution_count": 62,
   "metadata": {},
   "outputs": [],
   "source": [
    "# successful\n",
    "# https://leetcode.com/problems/search-in-rotated-sorted-array/discuss/14435/Clever-idea-making-it-simple\n",
    "INT_MAX = (2 ** 31)-1\n",
    "INT_MIN = -(2 ** 31)\n",
    "class Solution:\n",
    "    def search(self, nums: List[int], target: int) -> int:\n",
    "        n = len(nums)\n",
    "        lo = 0\n",
    "        hi = n - 1\n",
    "        while lo <= hi:\n",
    "            mid = (lo+hi)//2\n",
    "            value = nums[mid] if (nums[mid] < nums[0]) == (target < nums[0]) else (INT_MIN if target < nums[0] else INT_MAX)\n",
    "            if target > value:\n",
    "                lo = mid + 1\n",
    "            elif target < value:\n",
    "                hi = mid - 1\n",
    "            else:\n",
    "                return mid\n",
    "        return -1"
   ]
  },
  {
   "cell_type": "code",
   "execution_count": 63,
   "metadata": {},
   "outputs": [],
   "source": [
    "# successful\n",
    "class Solution:\n",
    "    def search(self, nums: List[int], target: int) -> int:\n",
    "        n = len(nums)\n",
    "        lo = 0\n",
    "        hi = n - 1\n",
    "        while lo <= hi:\n",
    "            mid = (lo+hi)//2\n",
    "            if nums[mid] == target:\n",
    "                return mid\n",
    "            if (target < nums[0]) == (nums[mid] < nums[0]):\n",
    "                if target < nums[mid]:\n",
    "                    hi = mid - 1\n",
    "                else:\n",
    "                    lo = mid + 1\n",
    "            else:\n",
    "                if target < nums[0]:\n",
    "                    lo = mid + 1\n",
    "                else:\n",
    "                    hi = mid - 1\n",
    "\n",
    "        return -1"
   ]
  },
  {
   "cell_type": "code",
   "execution_count": 64,
   "metadata": {},
   "outputs": [],
   "source": [
    "# successful\n",
    "\n",
    "def binary_search(nums, target, lo, hi):\n",
    "    while lo <= hi:\n",
    "        mid = (lo+hi)//2\n",
    "        if nums[mid] == target:\n",
    "            return mid\n",
    "        if nums[mid] > target:\n",
    "            hi = mid - 1\n",
    "        else:\n",
    "            lo = mid + 1\n",
    "    return -1\n",
    "\n",
    "class Solution:\n",
    "    def search(self, nums: List[int], target: int) -> int:\n",
    "        n = len(nums)\n",
    "        lo = 0\n",
    "        hi = n - 1\n",
    "        while lo < hi:\n",
    "            mid = (lo + hi)//2\n",
    "            if nums[mid] > nums[hi]:\n",
    "                lo = mid + 1\n",
    "            else:\n",
    "                hi = mid\n",
    "\n",
    "        # both lo and hi point to lowest index\n",
    "        if lo == 0:\n",
    "            return binary_search(nums, target, 0, n-1)\n",
    "        elif target < nums[0]:\n",
    "            return binary_search(nums, target, lo, n-1)\n",
    "        else:\n",
    "            return binary_search(nums, target, 0, lo-1)\n",
    "\n"
   ]
  },
  {
   "cell_type": "code",
   "execution_count": 65,
   "metadata": {},
   "outputs": [],
   "source": [
    "# successful\n",
    "class Solution:\n",
    "    def search(self, nums: List[int], target: int) -> int:\n",
    "        n = len(nums)\n",
    "        lo = 0\n",
    "        hi = n - 1\n",
    "        while lo <= hi:\n",
    "            mid = (lo+hi)//2\n",
    "            if nums[mid] == target:\n",
    "                return mid\n",
    "            if nums[lo] <= nums[mid]:\n",
    "                if nums[lo] <= target < nums[mid]:\n",
    "                    hi = mid - 1\n",
    "                else:\n",
    "                    lo = mid + 1\n",
    "            else:\n",
    "                if nums[mid] < target <= nums[hi]:\n",
    "                    lo = mid + 1\n",
    "                else:\n",
    "                    hi = mid - 1\n",
    "        return -1"
   ]
  },
  {
   "cell_type": "code",
   "execution_count": 66,
   "metadata": {},
   "outputs": [],
   "source": [
    "# successful\n",
    "class Solution:\n",
    "    def search(self, nums: List[int], target: int) -> int:\n",
    "        n = len(nums)\n",
    "        lo = 0\n",
    "        hi = n - 1\n",
    "        while lo <= hi:\n",
    "            mid = (lo+hi)//2\n",
    "            if nums[mid] == target:\n",
    "                return mid\n",
    "            if nums[lo] < nums[mid]:\n",
    "                if nums[lo] <= target < nums[mid]:\n",
    "                    hi = mid - 1\n",
    "                else:\n",
    "                    lo = mid + 1\n",
    "            elif nums[lo] == nums[mid]:\n",
    "                lo += 1\n",
    "            else: \n",
    "                if nums[mid] < target <= nums[hi]:\n",
    "                    lo = mid + 1\n",
    "                else:\n",
    "                    hi = mid - 1\n",
    "        return -1"
   ]
  },
  {
   "cell_type": "code",
   "execution_count": 67,
   "metadata": {},
   "outputs": [
    {
     "name": "stdout",
     "output_type": "stream",
     "text": [
      "4\n"
     ]
    }
   ],
   "source": [
    "nums = [4,5,6,7,0,1,2]\n",
    "target = 0\n",
    "sol = Solution()\n",
    "print(sol.search(nums, target))"
   ]
  },
  {
   "cell_type": "code",
   "execution_count": 68,
   "metadata": {},
   "outputs": [
    {
     "name": "stdout",
     "output_type": "stream",
     "text": [
      "1\n"
     ]
    }
   ],
   "source": [
    "nums = [3,1]\n",
    "target = 1\n",
    "sol = Solution()\n",
    "print(sol.search(nums, target))"
   ]
  }
 ],
 "metadata": {
  "kernelspec": {
   "display_name": "Python 3.10.4 ('template-venv': venv)",
   "language": "python",
   "name": "python3"
  },
  "language_info": {
   "codemirror_mode": {
    "name": "ipython",
    "version": 3
   },
   "file_extension": ".py",
   "mimetype": "text/x-python",
   "name": "python",
   "nbconvert_exporter": "python",
   "pygments_lexer": "ipython3",
   "version": "3.11.3"
  },
  "orig_nbformat": 4,
  "vscode": {
   "interpreter": {
    "hash": "0b8dd1d11c220dfc9d15848c82c145ba1a021fcb056c07a0cc073ae3ed6d8420"
   }
  }
 },
 "nbformat": 4,
 "nbformat_minor": 2
}
