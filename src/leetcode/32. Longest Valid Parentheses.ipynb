{
 "cells": [
  {
   "cell_type": "code",
   "execution_count": 45,
   "metadata": {},
   "outputs": [],
   "source": [
    "class Solution:\n",
    "    def helper(self, s: str, open_bracket: str):\n",
    "        ans = 0\n",
    "        open = 0\n",
    "        close = 0\n",
    "        for v in s:\n",
    "            if v == open_bracket:\n",
    "                open += 1\n",
    "            else:\n",
    "                close += 1\n",
    "\n",
    "            if close > open:\n",
    "                open = 0\n",
    "                close = 0\n",
    "            elif open == close:\n",
    "                ans = max(open + close, ans)\n",
    "        return ans\n",
    "\n",
    "    def longestValidParentheses(self, s: str) -> int:\n",
    "        return max(self.helper(s, '('), self.helper(s[::-1], ')'))"
   ]
  },
  {
   "cell_type": "code",
   "execution_count": 46,
   "metadata": {},
   "outputs": [
    {
     "name": "stdout",
     "output_type": "stream",
     "text": [
      "2\n"
     ]
    }
   ],
   "source": [
    "sol = Solution()\n",
    "print(sol.longestValidParentheses(\"(()\"))"
   ]
  },
  {
   "cell_type": "code",
   "execution_count": 47,
   "metadata": {},
   "outputs": [
    {
     "name": "stdout",
     "output_type": "stream",
     "text": [
      "4\n"
     ]
    }
   ],
   "source": [
    "sol = Solution()\n",
    "print(sol.longestValidParentheses(\")()())\"))"
   ]
  }
 ],
 "metadata": {
  "kernelspec": {
   "display_name": "Python 3.10.4 ('template-venv': venv)",
   "language": "python",
   "name": "python3"
  },
  "language_info": {
   "codemirror_mode": {
    "name": "ipython",
    "version": 3
   },
   "file_extension": ".py",
   "mimetype": "text/x-python",
   "name": "python",
   "nbconvert_exporter": "python",
   "pygments_lexer": "ipython3",
   "version": "3.10.4"
  },
  "orig_nbformat": 4,
  "vscode": {
   "interpreter": {
    "hash": "0b8dd1d11c220dfc9d15848c82c145ba1a021fcb056c07a0cc073ae3ed6d8420"
   }
  }
 },
 "nbformat": 4,
 "nbformat_minor": 2
}
