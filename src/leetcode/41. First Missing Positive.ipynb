{
 "cells": [
  {
   "cell_type": "code",
   "execution_count": 26,
   "metadata": {},
   "outputs": [],
   "source": [
    "from typing import List\n",
    "\n",
    "\n",
    "class Solution:\n",
    "    def firstMissingPositive(self, nums: List[int]) -> int:\n",
    "        nums_set = set(nums)\n",
    "        i = 1\n",
    "        while True:\n",
    "            if not i in nums_set:\n",
    "                return i\n",
    "            i += 1"
   ]
  },
  {
   "cell_type": "code",
   "execution_count": 27,
   "metadata": {},
   "outputs": [
    {
     "data": {
      "text/plain": [
       "3"
      ]
     },
     "execution_count": 27,
     "metadata": {},
     "output_type": "execute_result"
    }
   ],
   "source": [
    "nums = [1,2,0]\n",
    "sol = Solution()\n",
    "sol.firstMissingPositive(nums)"
   ]
  },
  {
   "cell_type": "code",
   "execution_count": 28,
   "metadata": {},
   "outputs": [
    {
     "data": {
      "text/plain": [
       "2"
      ]
     },
     "execution_count": 28,
     "metadata": {},
     "output_type": "execute_result"
    }
   ],
   "source": [
    "nums = [3,4,-1,1]\n",
    "sol = Solution()\n",
    "sol.firstMissingPositive(nums)"
   ]
  },
  {
   "cell_type": "code",
   "execution_count": 29,
   "metadata": {},
   "outputs": [
    {
     "data": {
      "text/plain": [
       "1"
      ]
     },
     "execution_count": 29,
     "metadata": {},
     "output_type": "execute_result"
    }
   ],
   "source": [
    "nums = [7,8,9,11,12]\n",
    "sol = Solution()\n",
    "sol.firstMissingPositive(nums)"
   ]
  },
  {
   "cell_type": "code",
   "execution_count": 30,
   "metadata": {},
   "outputs": [],
   "source": [
    "from typing import List\n",
    "\n",
    "\n",
    "class Solution:\n",
    "    def firstMissingPositive(self, nums: List[int]) -> int:\n",
    "        \"\"\"\n",
    "        :type nums: List[int]\n",
    "        :rtype: int\n",
    "        Basic idea:\n",
    "        1. for any array whose length is l, the first missing positive must be in range [1,...,l+1], \n",
    "            so we only have to care about those elements in this range and remove the rest.\n",
    "        2. we can use the array index as the hash to restore the frequency of each number within \n",
    "            the range [1,...,l+1] \n",
    "        \"\"\"\n",
    "        nums.append(0)\n",
    "        n = len(nums)\n",
    "        for i in range(len(nums)):  # delete those useless elements\n",
    "            if nums[i] < 0 or nums[i] >= n:\n",
    "                nums[i] = 0\n",
    "        # use the index as the hash to record the frequency of each number\n",
    "        for i in range(len(nums)):\n",
    "            nums[nums[i] % n] += n\n",
    "        for i in range(1, len(nums)):\n",
    "            if nums[i]//n == 0:\n",
    "                return i\n",
    "        return n\n"
   ]
  },
  {
   "cell_type": "code",
   "execution_count": 31,
   "metadata": {},
   "outputs": [
    {
     "data": {
      "text/plain": [
       "2"
      ]
     },
     "execution_count": 31,
     "metadata": {},
     "output_type": "execute_result"
    }
   ],
   "source": [
    "nums = [3,4,-1,1]\n",
    "sol = Solution()\n",
    "sol.firstMissingPositive(nums)"
   ]
  }
 ],
 "metadata": {
  "kernelspec": {
   "display_name": "Python 3.10.4 ('template-venv': venv)",
   "language": "python",
   "name": "python3"
  },
  "language_info": {
   "codemirror_mode": {
    "name": "ipython",
    "version": 3
   },
   "file_extension": ".py",
   "mimetype": "text/x-python",
   "name": "python",
   "nbconvert_exporter": "python",
   "pygments_lexer": "ipython3",
   "version": "3.10.4"
  },
  "orig_nbformat": 4,
  "vscode": {
   "interpreter": {
    "hash": "0b8dd1d11c220dfc9d15848c82c145ba1a021fcb056c07a0cc073ae3ed6d8420"
   }
  }
 },
 "nbformat": 4,
 "nbformat_minor": 2
}
