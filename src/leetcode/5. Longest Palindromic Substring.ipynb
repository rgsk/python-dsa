{
 "cells": [
  {
   "cell_type": "code",
   "execution_count": 62,
   "metadata": {},
   "outputs": [],
   "source": [
    "class Solution:\n",
    "    start = 0\n",
    "    maxLength = 0\n",
    "    def longestPalindrome(self, s: str) -> str:\n",
    "        n = len(s)\n",
    "        if n <= 1:\n",
    "            return s\n",
    "        for i in range(n-1):\n",
    "            self.extend(s, i, i)\n",
    "            self.extend(s, i, i+1)\n",
    "        return s[self.start: self.start + self.maxLength]\n",
    "\n",
    "    def extend(self, s: str, start: int, end: int):\n",
    "        while start >= 0 and end < len(s) and s[start] == s[end]:\n",
    "            start -= 1\n",
    "            end += 1\n",
    "        start += 1\n",
    "        end -= 1\n",
    "        newLength = end - start + 1\n",
    "        if newLength > self.maxLength:\n",
    "            self.maxLength = newLength\n",
    "            self.start = start"
   ]
  },
  {
   "cell_type": "code",
   "execution_count": 63,
   "metadata": {},
   "outputs": [
    {
     "name": "stdout",
     "output_type": "stream",
     "text": [
      "bab\n"
     ]
    }
   ],
   "source": [
    "s = \"babad\"\n",
    "sol = Solution()\n",
    "print(sol.longestPalindrome(s))"
   ]
  },
  {
   "cell_type": "code",
   "execution_count": 64,
   "metadata": {},
   "outputs": [],
   "source": [
    "class Solution:\n",
    "    def longestPalindrome(self, s):\n",
    "        res = \"\"\n",
    "        for i in range(len(s)):\n",
    "            # odd case, like \"aba\"\n",
    "            tmp = self.helper(s, i, i)\n",
    "            if len(tmp) > len(res):\n",
    "                res = tmp\n",
    "            if i + 1 < len(s):\n",
    "                # even case, like \"abba\"\n",
    "                tmp = self.helper(s, i, i+1)\n",
    "                if len(tmp) > len(res):\n",
    "                    res = tmp\n",
    "        return res\n",
    "    \n",
    "    # get the longest palindrome, l, r are the middle indexes   \n",
    "    # from inner to outer\n",
    "    def helper(self, s, l, r):\n",
    "        while l >= 0 and r < len(s) and s[l] == s[r]:\n",
    "            l -= 1; r += 1\n",
    "        return s[l+1:r]"
   ]
  },
  {
   "cell_type": "code",
   "execution_count": 65,
   "metadata": {},
   "outputs": [],
   "source": [
    "# DP\n",
    "# Time O(n^2)\n",
    "# Space O(n^2)\n",
    "class Solution:\n",
    "    def longestPalindrome(self, s):\n",
    "        n = len(s)\n",
    "        palindrome = [[False for _ in range(n)] for _ in range(n)]\n",
    "        start = 0\n",
    "        end = 0\n",
    "        # Fill out the palindrome table\n",
    "        for gap in range(n):\n",
    "            for i in range(n - gap):\n",
    "                j = i + gap\n",
    "                if gap == 0:\n",
    "                    palindrome[i][j] = True\n",
    "                elif gap == 1:\n",
    "                    palindrome[i][j] = (s[i] == s[j])\n",
    "                else:\n",
    "                    palindrome[i][j] = (s[i] == s[j] and palindrome[i+1][j-1])\n",
    "                if palindrome[i][j]:\n",
    "                    if j - i + 1> end - start + 1:\n",
    "                        start = i\n",
    "                        end = j\n",
    "        return s[start: end + 1]\n"
   ]
  },
  {
   "cell_type": "code",
   "execution_count": 66,
   "metadata": {},
   "outputs": [],
   "source": [
    "# Manacher's Algorithm\n",
    "\n",
    "# https://www.youtube.com/watch?v=V-sEwsca1ak\n",
    "\n",
    "class Solution:\n",
    "    def longestPalindrome(self, s: str) -> str:\n",
    "        s = \"$\" + \"$\".join([v for v in s]) + \"$\"\n",
    "        n = len(s)\n",
    "        center = 0\n",
    "        pal_lengths = [0] * n\n",
    "        while center < n:\n",
    "            # print(f'{center=}')\n",
    "            l = center - 1\n",
    "            r = center + 1\n",
    "            while l >= 0 and r < n and s[l] == s[r]:\n",
    "                l -= 1\n",
    "                r += 1\n",
    "            r -= 1\n",
    "            l += 1\n",
    "            pal_length = r - l + 1\n",
    "            pal_lengths[center] = pal_length\n",
    "            if center + pal_lengths[center]//2 >= n-1:\n",
    "                break\n",
    "            cl = center - 1\n",
    "            cr = center + 1\n",
    "\n",
    "            while cr <= r:\n",
    "                if cl - pal_lengths[cl] // 2 < l:\n",
    "                    pal_lengths[cr] = (cl - l) * 2 + 1\n",
    "                elif cr + pal_lengths[cl] //2 >= r:\n",
    "                    break\n",
    "                else:\n",
    "                    pal_lengths[cr] = pal_lengths[cl]\n",
    "                cl -= 1\n",
    "                cr += 1\n",
    "            center = cr\n",
    "        max_idx = 0\n",
    "        for i in range(n):\n",
    "            if pal_lengths[i] > pal_lengths[max_idx]:\n",
    "                max_idx = i\n",
    "        max_length = pal_lengths[max_idx]\n",
    "        start_i = max_idx - max_length // 2\n",
    "        with_dollars = s[start_i: start_i + max_length]\n",
    "        without_dollars = \"\".join([with_dollars[i] for i in range(max_length) if i % 2])\n",
    "        return without_dollars"
   ]
  },
  {
   "cell_type": "code",
   "execution_count": 67,
   "metadata": {},
   "outputs": [
    {
     "name": "stdout",
     "output_type": "stream",
     "text": [
      "bab\n"
     ]
    }
   ],
   "source": [
    "s = \"babad\"\n",
    "sol = Solution()\n",
    "print(sol.longestPalindrome(s))"
   ]
  },
  {
   "cell_type": "code",
   "execution_count": 68,
   "metadata": {},
   "outputs": [
    {
     "name": "stdout",
     "output_type": "stream",
     "text": [
      "baab\n"
     ]
    }
   ],
   "source": [
    "s = \"abaab\"\n",
    "sol = Solution()\n",
    "print(sol.longestPalindrome(s))"
   ]
  },
  {
   "cell_type": "code",
   "execution_count": 69,
   "metadata": {},
   "outputs": [
    {
     "name": "stdout",
     "output_type": "stream",
     "text": [
      "baxabaxab\n"
     ]
    }
   ],
   "source": [
    "s = \"abaxabaxabb\"\n",
    "sol = Solution()\n",
    "print(sol.longestPalindrome(s))"
   ]
  },
  {
   "cell_type": "code",
   "execution_count": 70,
   "metadata": {},
   "outputs": [
    {
     "name": "stdout",
     "output_type": "stream",
     "text": [
      "baxabybaxab\n"
     ]
    }
   ],
   "source": [
    "s = \"abaxabaxabybaxabyb\"\n",
    "sol = Solution()\n",
    "print(sol.longestPalindrome(s))"
   ]
  }
 ],
 "metadata": {
  "kernelspec": {
   "display_name": "Python 3.10.6 ('dsa-venv': venv)",
   "language": "python",
   "name": "python3"
  },
  "language_info": {
   "codemirror_mode": {
    "name": "ipython",
    "version": 3
   },
   "file_extension": ".py",
   "mimetype": "text/x-python",
   "name": "python",
   "nbconvert_exporter": "python",
   "pygments_lexer": "ipython3",
   "version": "3.11.3"
  },
  "orig_nbformat": 4,
  "vscode": {
   "interpreter": {
    "hash": "e2278406c40349b728369a6b418500b4154ef0fb5e599ada131fe37b236439d7"
   }
  }
 },
 "nbformat": 4,
 "nbformat_minor": 2
}
