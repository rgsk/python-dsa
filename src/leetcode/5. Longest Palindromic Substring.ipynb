{
 "cells": [
  {
   "cell_type": "code",
   "execution_count": 9,
   "metadata": {},
   "outputs": [],
   "source": [
    "class Solution:\n",
    "    start = 0\n",
    "    maxLength = 0\n",
    "    def longestPalindrome(self, s: str) -> str:\n",
    "        n = len(s)\n",
    "        if n <= 1:\n",
    "            return s\n",
    "        for i in range(n-1):\n",
    "            self.extend(s, i, i)\n",
    "            self.extend(s, i, i+1)\n",
    "        return s[self.start: self.start + self.maxLength]\n",
    "\n",
    "    def extend(self, s: str, start: int, end: int):\n",
    "        while start >= 0 and end < len(s) and s[start] == s[end]:\n",
    "            start -= 1\n",
    "            end += 1\n",
    "        start += 1\n",
    "        end -= 1\n",
    "        newLength = end - start + 1\n",
    "        if newLength > self.maxLength:\n",
    "            self.maxLength = newLength\n",
    "            self.start = start\n",
    "\n"
   ]
  },
  {
   "cell_type": "code",
   "execution_count": 10,
   "metadata": {},
   "outputs": [
    {
     "name": "stdout",
     "output_type": "stream",
     "text": [
      "bab\n"
     ]
    }
   ],
   "source": [
    "s = \"babad\"\n",
    "sol = Solution()\n",
    "print(sol.longestPalindrome(s))"
   ]
  }
 ],
 "metadata": {
  "kernelspec": {
   "display_name": "Python 3.10.6 ('dsa-venv': venv)",
   "language": "python",
   "name": "python3"
  },
  "language_info": {
   "codemirror_mode": {
    "name": "ipython",
    "version": 3
   },
   "file_extension": ".py",
   "mimetype": "text/x-python",
   "name": "python",
   "nbconvert_exporter": "python",
   "pygments_lexer": "ipython3",
   "version": "3.10.6"
  },
  "orig_nbformat": 4,
  "vscode": {
   "interpreter": {
    "hash": "e2278406c40349b728369a6b418500b4154ef0fb5e599ada131fe37b236439d7"
   }
  }
 },
 "nbformat": 4,
 "nbformat_minor": 2
}
