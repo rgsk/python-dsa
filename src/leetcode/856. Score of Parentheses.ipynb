{
 "cells": [
  {
   "cell_type": "code",
   "execution_count": 48,
   "metadata": {},
   "outputs": [],
   "source": [
    "# https://leetcode.com/problems/score-of-parentheses/"
   ]
  },
  {
   "cell_type": "code",
   "execution_count": 49,
   "metadata": {},
   "outputs": [],
   "source": [
    "class Solution:\n",
    "    def scoreOfParentheses(self, s: str) -> int:\n",
    "        depth = 0\n",
    "        res = 0\n",
    "        prev = '('\n",
    "\n",
    "        for c in s:\n",
    "            if c == '(':\n",
    "                depth += 1\n",
    "            else:\n",
    "                depth -= 1\n",
    "                if prev == '(':\n",
    "                    res += 2 ** depth\n",
    "            prev = c\n",
    "        return res\n"
   ]
  },
  {
   "cell_type": "code",
   "execution_count": 50,
   "metadata": {},
   "outputs": [],
   "source": [
    "class Solution:\n",
    "    def scoreOfParentheses(self, s: str) -> int:\n",
    "        st = [0]\n",
    "        for c in s: \n",
    "            if c == '(':\n",
    "                st.append(0)\n",
    "            else:\n",
    "                s = 0\n",
    "                while st[-1] != 0:\n",
    "                    s += st.pop()\n",
    "                st.pop()\n",
    "                if s == 0:\n",
    "                    st.append(1)\n",
    "                else:\n",
    "                    st.append(2 * s)\n",
    "        return sum(st)"
   ]
  },
  {
   "cell_type": "code",
   "execution_count": 51,
   "metadata": {},
   "outputs": [],
   "source": [
    "'''\n",
    "Example 1:\n",
    "\n",
    "Input: s = \"()\"\n",
    "Output: 1\n",
    "Example 2:\n",
    "\n",
    "Input: s = \"(())\"\n",
    "Output: 2\n",
    "Example 3:\n",
    "\n",
    "Input: s = \"()()\"\n",
    "Output: 2\n",
    "\n",
    "'''\n",
    "pass"
   ]
  },
  {
   "cell_type": "code",
   "execution_count": 52,
   "metadata": {},
   "outputs": [
    {
     "data": {
      "text/plain": [
       "1"
      ]
     },
     "execution_count": 52,
     "metadata": {},
     "output_type": "execute_result"
    }
   ],
   "source": [
    "s = \"()\"\n",
    "sol = Solution()\n",
    "sol.scoreOfParentheses(s)"
   ]
  },
  {
   "cell_type": "code",
   "execution_count": 53,
   "metadata": {},
   "outputs": [
    {
     "data": {
      "text/plain": [
       "2"
      ]
     },
     "execution_count": 53,
     "metadata": {},
     "output_type": "execute_result"
    }
   ],
   "source": [
    "s = \"(())\"\n",
    "sol = Solution()\n",
    "sol.scoreOfParentheses(s)"
   ]
  },
  {
   "cell_type": "code",
   "execution_count": 54,
   "metadata": {},
   "outputs": [
    {
     "data": {
      "text/plain": [
       "2"
      ]
     },
     "execution_count": 54,
     "metadata": {},
     "output_type": "execute_result"
    }
   ],
   "source": [
    "s = \"()()\"\n",
    "sol = Solution()\n",
    "sol.scoreOfParentheses(s)"
   ]
  },
  {
   "cell_type": "code",
   "execution_count": 55,
   "metadata": {},
   "outputs": [
    {
     "data": {
      "text/plain": [
       "4"
      ]
     },
     "execution_count": 55,
     "metadata": {},
     "output_type": "execute_result"
    }
   ],
   "source": [
    "s = \"(()())\"\n",
    "sol = Solution()\n",
    "sol.scoreOfParentheses(s)"
   ]
  }
 ],
 "metadata": {
  "kernelspec": {
   "display_name": "dsa-venv",
   "language": "python",
   "name": "python3"
  },
  "language_info": {
   "codemirror_mode": {
    "name": "ipython",
    "version": 3
   },
   "file_extension": ".py",
   "mimetype": "text/x-python",
   "name": "python",
   "nbconvert_exporter": "python",
   "pygments_lexer": "ipython3",
   "version": "3.11.3"
  }
 },
 "nbformat": 4,
 "nbformat_minor": 2
}
