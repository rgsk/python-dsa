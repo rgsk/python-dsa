{
 "cells": [
  {
   "cell_type": "code",
   "execution_count": 7,
   "metadata": {},
   "outputs": [],
   "source": [
    "# based on idea in 264. Ugly Number II\n",
    "\n",
    "import math\n",
    "from typing import List\n",
    "\n",
    "\n",
    "class Solution:\n",
    "    def nthSuperUglyNumber(self, n: int, primes: List[int]) -> int:\n",
    "        nums = [0] * n\n",
    "        primeIndexes = [0 for p in primes]\n",
    "\n",
    "        nums[0] = 1\n",
    "        for i in range(1, n):\n",
    "            minValue = math.inf\n",
    "            for j in range(len(primes)):\n",
    "                minValue = min(minValue, nums[primeIndexes[j]] * primes[j])\n",
    "            for j in range(len(primes)):\n",
    "                if minValue == nums[primeIndexes[j]] * primes[j]:\n",
    "                    primeIndexes[j] += 1\n",
    "            nums[i] = minValue\n",
    "        return nums[n-1]"
   ]
  },
  {
   "cell_type": "code",
   "execution_count": 8,
   "metadata": {},
   "outputs": [
    {
     "data": {
      "text/plain": [
       "32"
      ]
     },
     "execution_count": 8,
     "metadata": {},
     "output_type": "execute_result"
    }
   ],
   "source": [
    "n = 12\n",
    "primes = [2,7,13,19]\n",
    "sol = Solution()\n",
    "sol.nthSuperUglyNumber(n, primes)"
   ]
  }
 ],
 "metadata": {
  "kernelspec": {
   "display_name": "dsa-venv",
   "language": "python",
   "name": "python3"
  },
  "language_info": {
   "codemirror_mode": {
    "name": "ipython",
    "version": 3
   },
   "file_extension": ".py",
   "mimetype": "text/x-python",
   "name": "python",
   "nbconvert_exporter": "python",
   "pygments_lexer": "ipython3",
   "version": "3.11.3"
  },
  "orig_nbformat": 4
 },
 "nbformat": 4,
 "nbformat_minor": 2
}
