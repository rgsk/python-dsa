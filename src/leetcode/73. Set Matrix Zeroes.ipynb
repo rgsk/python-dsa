{
 "cells": [
  {
   "cell_type": "code",
   "execution_count": 61,
   "metadata": {},
   "outputs": [
    {
     "name": "stdout",
     "output_type": "stream",
     "text": [
      "The nb_mypy extension is already loaded. To reload it, use:\n",
      "  %reload_ext nb_mypy\n"
     ]
    }
   ],
   "source": [
    "%load_ext nb_mypy"
   ]
  },
  {
   "cell_type": "code",
   "execution_count": 62,
   "metadata": {},
   "outputs": [],
   "source": [
    "import numpy as np"
   ]
  },
  {
   "cell_type": "code",
   "execution_count": 63,
   "metadata": {},
   "outputs": [],
   "source": [
    "from typing import List\n",
    "\n",
    "\n",
    "class Solution:\n",
    "    def setZeroes(self, matrix: List[List[int]]) -> None:\n",
    "        \"\"\"\n",
    "        Space O(m + n), for storing aux arrays for marking whether the row or col is 0\n",
    "        Time O(m * n)\n",
    "        \"\"\"\n",
    "        rows = len(matrix)\n",
    "        cols = len(matrix[0])\n",
    "        rows0 = [False for i in range(rows)]\n",
    "        cols0 = [False for i in range(cols)]\n",
    "\n",
    "        for i in range(rows):\n",
    "            for j in range(cols):\n",
    "                if matrix[i][j] == 0:\n",
    "                    rows0[i] = True\n",
    "                    cols0[j] = True\n",
    "\n",
    "        for i in range(rows):\n",
    "            for j in range(cols):\n",
    "                if rows0[i] or cols0[j]:\n",
    "                    matrix[i][j] = 0\n"
   ]
  },
  {
   "cell_type": "code",
   "execution_count": 64,
   "metadata": {},
   "outputs": [
    {
     "name": "stdout",
     "output_type": "stream",
     "text": [
      "[[0 1 2 0]\n",
      " [3 4 5 2]\n",
      " [1 3 1 5]]\n",
      "[[0 0 0 0]\n",
      " [0 4 5 0]\n",
      " [0 3 1 0]]\n"
     ]
    }
   ],
   "source": [
    "s = Solution()\n",
    "matrix = [[0,1,2,0],[3,4,5,2],[1,3,1,5]]\n",
    "print(np.matrix(matrix))\n",
    "s.setZeroes(matrix)\n",
    "print(np.matrix(matrix))"
   ]
  },
  {
   "cell_type": "code",
   "execution_count": 65,
   "metadata": {},
   "outputs": [],
   "source": [
    "class Solution:\n",
    "    def setZeroes(self, matrix: List[List[int]]) -> None:\n",
    "        \"\"\"\n",
    "        Space O(1)\n",
    "        Time O(m * n)\n",
    "        \"\"\"\n",
    "        rows = len(matrix)\n",
    "        cols = len(matrix[0])\n",
    "        first_row_0 = False\n",
    "        first_col_0 = False\n",
    "\n",
    "        for i in range(rows):\n",
    "            if matrix[i][0] == 0:\n",
    "                first_col_0 = True\n",
    "\n",
    "        for j in range(cols):\n",
    "            if matrix[0][j] == 0:\n",
    "                first_row_0 = True\n",
    "\n",
    "        for i in range(1, rows):\n",
    "            for j in range(1, cols):\n",
    "                if matrix[i][j] == 0:\n",
    "                    matrix[i][0] = matrix[0][j] = 0\n",
    "\n",
    "        for i in range(1, rows):\n",
    "            for j in range(1, cols):\n",
    "                if matrix[i][0] == 0 or matrix[0][j] == 0:\n",
    "                    matrix[i][j] = 0\n",
    "\n",
    "        if first_row_0:\n",
    "            for j in range(cols):\n",
    "                matrix[0][j] = 0\n",
    "        \n",
    "        if first_col_0:\n",
    "            for i in range(rows):\n",
    "                matrix[i][0] = 0\n"
   ]
  },
  {
   "cell_type": "code",
   "execution_count": 66,
   "metadata": {},
   "outputs": [
    {
     "name": "stdout",
     "output_type": "stream",
     "text": [
      "[[0 1 2 0]\n",
      " [3 4 5 2]\n",
      " [1 3 1 5]]\n",
      "[[0 0 0 0]\n",
      " [0 4 5 0]\n",
      " [0 3 1 0]]\n"
     ]
    }
   ],
   "source": [
    "s = Solution()\n",
    "matrix = [[0,1,2,0],[3,4,5,2],[1,3,1,5]]\n",
    "print(np.matrix(matrix))\n",
    "s.setZeroes(matrix)\n",
    "print(np.matrix(matrix))"
   ]
  },
  {
   "cell_type": "code",
   "execution_count": 67,
   "metadata": {},
   "outputs": [
    {
     "name": "stdout",
     "output_type": "stream",
     "text": [
      "[[1 1 1]\n",
      " [1 0 1]\n",
      " [1 1 1]]\n",
      "[[1 0 1]\n",
      " [0 0 0]\n",
      " [1 0 1]]\n"
     ]
    }
   ],
   "source": [
    "s = Solution()\n",
    "matrix = [[1,1,1],[1,0,1],[1,1,1]]\n",
    "print(np.matrix(matrix))\n",
    "s.setZeroes(matrix)\n",
    "print(np.matrix(matrix))"
   ]
  }
 ],
 "metadata": {
  "kernelspec": {
   "display_name": "Python 3.10.4 ('template-venv': venv)",
   "language": "python",
   "name": "python3"
  },
  "language_info": {
   "codemirror_mode": {
    "name": "ipython",
    "version": 3
   },
   "file_extension": ".py",
   "mimetype": "text/x-python",
   "name": "python",
   "nbconvert_exporter": "python",
   "pygments_lexer": "ipython3",
   "version": "3.10.4"
  },
  "orig_nbformat": 4,
  "vscode": {
   "interpreter": {
    "hash": "0b8dd1d11c220dfc9d15848c82c145ba1a021fcb056c07a0cc073ae3ed6d8420"
   }
  }
 },
 "nbformat": 4,
 "nbformat_minor": 2
}
