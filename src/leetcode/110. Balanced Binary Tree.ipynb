{
 "cells": [
  {
   "cell_type": "code",
   "execution_count": 4,
   "metadata": {},
   "outputs": [],
   "source": [
    "import sys\n",
    "sys.path.append('..')\n",
    "\n",
    "\n",
    "from lib.TreeNode import *"
   ]
  },
  {
   "cell_type": "code",
   "execution_count": 5,
   "metadata": {},
   "outputs": [],
   "source": [
    "class Solution:\n",
    "    def isBalanced(self, root: Optional[TreeNode]) -> bool:\n",
    "        def helper(root: Optional[TreeNode]):\n",
    "            if root:\n",
    "                leftBal, leftTreeHeight = helper(root.left)\n",
    "                rightBal, rightTreeHeight = helper(root.right)\n",
    "                h = max(leftTreeHeight, rightTreeHeight) + 1\n",
    "                if not leftBal or not rightBal:\n",
    "                    return False, h\n",
    "                diff = abs(leftTreeHeight - rightTreeHeight)\n",
    "                if diff > 1:\n",
    "                    return False, h\n",
    "                return True, h\n",
    "            return True, 0\n",
    "        return helper(root)[0]\n",
    "        "
   ]
  },
  {
   "cell_type": "code",
   "execution_count": 6,
   "metadata": {},
   "outputs": [
    {
     "data": {
      "text/plain": [
       "True"
      ]
     },
     "execution_count": 6,
     "metadata": {},
     "output_type": "execute_result"
    }
   ],
   "source": [
    "root = formTree([3,9,20,None,None,15,7])\n",
    "\n",
    "sol = Solution()\n",
    "sol.isBalanced(root)"
   ]
  },
  {
   "cell_type": "code",
   "execution_count": 7,
   "metadata": {},
   "outputs": [
    {
     "data": {
      "text/plain": [
       "False"
      ]
     },
     "execution_count": 7,
     "metadata": {},
     "output_type": "execute_result"
    }
   ],
   "source": [
    "root = formTree([1,2,2,3,3,None,None,4,4])\n",
    "\n",
    "sol = Solution()\n",
    "sol.isBalanced(root)"
   ]
  }
 ],
 "metadata": {
  "kernelspec": {
   "display_name": "dsa-venv",
   "language": "python",
   "name": "python3"
  },
  "language_info": {
   "codemirror_mode": {
    "name": "ipython",
    "version": 3
   },
   "file_extension": ".py",
   "mimetype": "text/x-python",
   "name": "python",
   "nbconvert_exporter": "python",
   "pygments_lexer": "ipython3",
   "version": "3.11.3"
  },
  "orig_nbformat": 4
 },
 "nbformat": 4,
 "nbformat_minor": 2
}
