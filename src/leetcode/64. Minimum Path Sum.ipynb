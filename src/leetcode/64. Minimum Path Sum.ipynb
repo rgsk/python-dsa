{
 "cells": [
  {
   "cell_type": "code",
   "execution_count": 86,
   "metadata": {},
   "outputs": [],
   "source": [
    "from functools import lru_cache\n",
    "from typing import List\n",
    "import sys\n",
    "\n",
    "class Solution:\n",
    "    @lru_cache\n",
    "    def helper(self, row: int, col: int):\n",
    "        if row >= self.rows or col >= self.cols:\n",
    "            return sys.maxsize\n",
    "        \n",
    "        if row == self.rows - 1 and col == self.cols - 1:\n",
    "            return self.grid[row][col]\n",
    "\n",
    "        return self.grid[row][col] + min(self.helper(row, col + 1), self.helper(row + 1, col))\n",
    "\n",
    "    def minPathSum(self, grid: List[List[int]]) -> int:\n",
    "        self.grid = grid\n",
    "        self.rows = len(grid)\n",
    "        self.cols = len(grid[0])\n",
    "        return self.helper(0, 0)"
   ]
  },
  {
   "cell_type": "code",
   "execution_count": 87,
   "metadata": {},
   "outputs": [
    {
     "name": "stdout",
     "output_type": "stream",
     "text": [
      "7\n"
     ]
    }
   ],
   "source": [
    "sol = Solution()\n",
    "grid = [[1,3,1],[1,5,1],[4,2,1]]\n",
    "print(sol.minPathSum(grid))"
   ]
  },
  {
   "cell_type": "code",
   "execution_count": 88,
   "metadata": {},
   "outputs": [],
   "source": [
    "from typing import List\n",
    "\n",
    "class Solution:\n",
    "    def minPathSum(self, grid: List[List[int]]) -> int:\n",
    "        rows = len(grid)\n",
    "        cols = len(grid[0])\n",
    "        dp = [[0 for j in range(cols)] for i in range(rows)]\n",
    "        for i in range(rows):\n",
    "            for j in range(cols):\n",
    "                if i == 0 and j == 0:\n",
    "                    dp[i][j] = grid[i][j]\n",
    "                elif j == 0:\n",
    "                    dp[i][j] = grid[i][j] + dp[i-1][j]\n",
    "                elif i == 0:\n",
    "                    dp[i][j] = grid[i][j] + dp[i][j-1]\n",
    "                else:\n",
    "                    dp[i][j] = grid[i][j] + min(dp[i-1][j], dp[i][j-1])\n",
    "\n",
    "        return dp[rows-1][cols - 1]"
   ]
  },
  {
   "cell_type": "code",
   "execution_count": 89,
   "metadata": {},
   "outputs": [
    {
     "name": "stdout",
     "output_type": "stream",
     "text": [
      "7\n"
     ]
    }
   ],
   "source": [
    "sol = Solution()\n",
    "grid = [[1,3,1],[1,5,1],[4,2,1]]\n",
    "print(sol.minPathSum(grid))"
   ]
  }
 ],
 "metadata": {
  "kernelspec": {
   "display_name": "Python 3.10.4 ('template-venv': venv)",
   "language": "python",
   "name": "python3"
  },
  "language_info": {
   "codemirror_mode": {
    "name": "ipython",
    "version": 3
   },
   "file_extension": ".py",
   "mimetype": "text/x-python",
   "name": "python",
   "nbconvert_exporter": "python",
   "pygments_lexer": "ipython3",
   "version": "3.10.4"
  },
  "orig_nbformat": 4,
  "vscode": {
   "interpreter": {
    "hash": "0b8dd1d11c220dfc9d15848c82c145ba1a021fcb056c07a0cc073ae3ed6d8420"
   }
  }
 },
 "nbformat": 4,
 "nbformat_minor": 2
}
