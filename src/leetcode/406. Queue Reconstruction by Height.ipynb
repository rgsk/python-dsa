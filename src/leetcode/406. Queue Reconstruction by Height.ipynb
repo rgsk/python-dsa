{
 "cells": [
  {
   "cell_type": "code",
   "execution_count": 38,
   "metadata": {},
   "outputs": [],
   "source": [
    "# https://leetcode.com/problems/queue-reconstruction-by-height/description/"
   ]
  },
  {
   "cell_type": "code",
   "execution_count": 39,
   "metadata": {},
   "outputs": [],
   "source": [
    "from typing import List\n",
    "\n",
    "# accepted but quite slow\n",
    "class Solution:\n",
    "    def reconstructQueue(self, people: List[List[int]]) -> List[List[int]]:\n",
    "        people.sort()\n",
    "        actual_postions = [-1 for _ in range(len(people))]\n",
    "        for height, front_count in people:\n",
    "            remaining_greater = front_count\n",
    "            i = 0\n",
    "            while remaining_greater > 0:\n",
    "                if actual_postions[i] == -1 or actual_postions[i][0] >= height:\n",
    "                    remaining_greater -= 1\n",
    "                i += 1\n",
    "            while actual_postions[i] != -1:\n",
    "                i += 1\n",
    "            actual_postions[i] = [height, front_count]\n",
    "        return actual_postions"
   ]
  },
  {
   "cell_type": "code",
   "execution_count": 40,
   "metadata": {},
   "outputs": [],
   "source": [
    "class Solution:\n",
    "    def reconstructQueue(self, people: List[List[int]]) -> List[List[int]]:\n",
    "        # sort the people from tall to short\n",
    "        # insert from tall to short (insert at index = p[1])\n",
    "        people.sort(key=lambda p: (-p[0], p[1]))\n",
    "        res = []\n",
    "        for p in people:\n",
    "            res.insert(p[1], p)\n",
    "        return res"
   ]
  },
  {
   "cell_type": "code",
   "execution_count": 41,
   "metadata": {},
   "outputs": [
    {
     "data": {
      "text/plain": [
       "[[5, 0], [5, 1], [5, 2], [7, 0], [4, 4], [6, 1], [7, 1]]"
      ]
     },
     "execution_count": 41,
     "metadata": {},
     "output_type": "execute_result"
    }
   ],
   "source": [
    "people = [[7,0],[4,4],[7,1],[5,1],[5,0],[6,1],[5,2]]\n",
    "sol = Solution()\n",
    "sol.reconstructQueue(people)"
   ]
  }
 ],
 "metadata": {
  "kernelspec": {
   "display_name": "dsa-venv",
   "language": "python",
   "name": "python3"
  },
  "language_info": {
   "codemirror_mode": {
    "name": "ipython",
    "version": 3
   },
   "file_extension": ".py",
   "mimetype": "text/x-python",
   "name": "python",
   "nbconvert_exporter": "python",
   "pygments_lexer": "ipython3",
   "version": "3.11.3"
  }
 },
 "nbformat": 4,
 "nbformat_minor": 2
}
