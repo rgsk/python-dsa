{
 "cells": [
  {
   "cell_type": "code",
   "execution_count": 21,
   "metadata": {},
   "outputs": [],
   "source": [
    "from typing import List\n",
    "\n",
    "\n",
    "class Solution:\n",
    "    def fourSum(self, nums: List[int], target: int) -> List[List[int]]:\n",
    "        res = []\n",
    "        nums.sort()\n",
    "        for i in range(len(nums) - 3):\n",
    "            if i > 0 and nums[i] == nums[i-1]:\n",
    "                continue\n",
    "            for j in range(i + 1, len(nums) - 2):\n",
    "                if j > i + 1 and nums[j] == nums[j-1]:\n",
    "                    continue\n",
    "                l, r = j+1, len(nums)-1\n",
    "                while l < r:\n",
    "                    s = nums[i] + nums[j] + nums[l] + nums[r]\n",
    "                    if s < target:\n",
    "                        l += 1\n",
    "                    elif s > target:\n",
    "                        r -= 1\n",
    "                    else:\n",
    "                        res.append((nums[i], nums[j], nums[l], nums[r]))\n",
    "                        '''\n",
    "                            we have to skip until we get a different combination of nums[l] and nums[r]\n",
    "                        '''\n",
    "                        while l < r and nums[l] == nums[l+1]:\n",
    "                            l += 1\n",
    "                        while l < r and nums[r] == nums[r-1]:\n",
    "                            r -= 1\n",
    "                        l += 1\n",
    "                        r -= 1\n",
    "        return res\n"
   ]
  },
  {
   "cell_type": "code",
   "execution_count": 22,
   "metadata": {},
   "outputs": [
    {
     "name": "stdout",
     "output_type": "stream",
     "text": [
      "[(-2, -1, 1, 2), (-2, 0, 0, 2), (-1, 0, 0, 1)]\n"
     ]
    }
   ],
   "source": [
    "nums = [1,0,-1,0,-2,2]\n",
    "target = 0\n",
    "sol = Solution()\n",
    "print(sol.fourSum(nums, target))"
   ]
  },
  {
   "cell_type": "code",
   "execution_count": 23,
   "metadata": {},
   "outputs": [
    {
     "name": "stdout",
     "output_type": "stream",
     "text": [
      "[(2, 2, 2, 2)]\n"
     ]
    }
   ],
   "source": [
    "nums = [2,2,2,2,2]\n",
    "target = 8\n",
    "sol = Solution()\n",
    "print(sol.fourSum(nums, target))"
   ]
  },
  {
   "cell_type": "code",
   "execution_count": 24,
   "metadata": {},
   "outputs": [],
   "source": [
    "class Solution(object):\n",
    "  def threeSum(self, nums, target):\n",
    "    results = []\n",
    "    nums.sort()\n",
    "    for i in range(len(nums)-2):\n",
    "      l = i + 1; r = len(nums) - 1\n",
    "      t = target - nums[i]\n",
    "      if i == 0 or nums[i] != nums[i-1]:\n",
    "        while l < r:\n",
    "          s = nums[l] + nums[r]\n",
    "          if s == t:\n",
    "            results.append([nums[i], nums[l], nums[r]])\n",
    "            while l < r and nums[l] == nums[l+1]: l += 1\n",
    "            while l < r and nums[r] == nums[r-1]: r -= 1\n",
    "            l += 1; r -=1\n",
    "          elif s < t:\n",
    "            l += 1\n",
    "          else:\n",
    "            r -= 1\n",
    "\n",
    "    return results\n",
    "\n",
    "  def fourSum(self, nums, target):\n",
    "    results = []\n",
    "    nums.sort()\n",
    "    for i in range(len(nums)-3):\n",
    "      if i == 0 or nums[i] != nums[i-1]:\n",
    "        threeResult = self.threeSum(nums[i+1:], target-nums[i])\n",
    "        for item in threeResult:\n",
    "          results.append([nums[i]] + item)\n",
    "    return results"
   ]
  },
  {
   "cell_type": "code",
   "execution_count": 25,
   "metadata": {},
   "outputs": [
    {
     "name": "stdout",
     "output_type": "stream",
     "text": [
      "[[-2, -1, 1, 2], [-2, 0, 0, 2], [-1, 0, 0, 1]]\n"
     ]
    }
   ],
   "source": [
    "nums = [1,0,-1,0,-2,2]\n",
    "target = 0\n",
    "sol = Solution()\n",
    "print(sol.fourSum(nums, target))"
   ]
  }
 ],
 "metadata": {
  "kernelspec": {
   "display_name": "Python 3.10.6 ('dsa-venv': venv)",
   "language": "python",
   "name": "python3"
  },
  "language_info": {
   "codemirror_mode": {
    "name": "ipython",
    "version": 3
   },
   "file_extension": ".py",
   "mimetype": "text/x-python",
   "name": "python",
   "nbconvert_exporter": "python",
   "pygments_lexer": "ipython3",
   "version": "3.10.6"
  },
  "orig_nbformat": 4,
  "vscode": {
   "interpreter": {
    "hash": "e2278406c40349b728369a6b418500b4154ef0fb5e599ada131fe37b236439d7"
   }
  }
 },
 "nbformat": 4,
 "nbformat_minor": 2
}
