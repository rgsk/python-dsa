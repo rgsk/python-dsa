{
 "cells": [
  {
   "cell_type": "code",
   "execution_count": 68,
   "metadata": {},
   "outputs": [],
   "source": [
    "INT_MAX = (2 ** 31)-1\n",
    "INT_MIN = -(2 ** 31)\n",
    "class Solution:\n",
    "    def reverse(self, x):\n",
    "        sign = -1 if x < 0 else 1\n",
    "        result = sign * int(str(abs(x))[::-1])\n",
    "        return result if INT_MIN <= result <= INT_MAX else 0"
   ]
  },
  {
   "cell_type": "code",
   "execution_count": 69,
   "metadata": {},
   "outputs": [
    {
     "name": "stdout",
     "output_type": "stream",
     "text": [
      "321\n"
     ]
    }
   ],
   "source": [
    "x = 123\n",
    "sol = Solution()\n",
    "print(sol.reverse(x))"
   ]
  },
  {
   "cell_type": "code",
   "execution_count": 70,
   "metadata": {},
   "outputs": [
    {
     "name": "stdout",
     "output_type": "stream",
     "text": [
      "-321\n"
     ]
    }
   ],
   "source": [
    "x = -123\n",
    "sol = Solution()\n",
    "print(sol.reverse(x))"
   ]
  },
  {
   "cell_type": "code",
   "execution_count": 71,
   "metadata": {},
   "outputs": [
    {
     "name": "stdout",
     "output_type": "stream",
     "text": [
      "-21\n"
     ]
    }
   ],
   "source": [
    "x = -120\n",
    "sol = Solution()\n",
    "print(sol.reverse(x))"
   ]
  },
  {
   "cell_type": "code",
   "execution_count": 72,
   "metadata": {},
   "outputs": [],
   "source": [
    "INT_MAX = (2 ** 31)-1\n",
    "INT_MIN = -(2 ** 31)\n",
    "class Solution:\n",
    "    def reverse(self, x):\n",
    "        negative = False\n",
    "        if x < 0:\n",
    "            x = -x\n",
    "            negative = True\n",
    "        ans = 0\n",
    "        while x > 0:\n",
    "            last_digit = x % 10\n",
    "            x //= 10\n",
    "            ans = ans * 10 + last_digit\n",
    "        if negative:\n",
    "            ans = -ans\n",
    "        return ans if INT_MIN <= ans <= INT_MAX else 0"
   ]
  },
  {
   "cell_type": "code",
   "execution_count": 73,
   "metadata": {},
   "outputs": [
    {
     "name": "stdout",
     "output_type": "stream",
     "text": [
      "201\n"
     ]
    }
   ],
   "source": [
    "x = 10200\n",
    "sol = Solution()\n",
    "print(sol.reverse(x))"
   ]
  }
 ],
 "metadata": {
  "kernelspec": {
   "display_name": "Python 3.10.4 ('template-venv': venv)",
   "language": "python",
   "name": "python3"
  },
  "language_info": {
   "codemirror_mode": {
    "name": "ipython",
    "version": 3
   },
   "file_extension": ".py",
   "mimetype": "text/x-python",
   "name": "python",
   "nbconvert_exporter": "python",
   "pygments_lexer": "ipython3",
   "version": "3.10.4"
  },
  "orig_nbformat": 4,
  "vscode": {
   "interpreter": {
    "hash": "0b8dd1d11c220dfc9d15848c82c145ba1a021fcb056c07a0cc073ae3ed6d8420"
   }
  }
 },
 "nbformat": 4,
 "nbformat_minor": 2
}
