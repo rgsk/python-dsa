{
 "cells": [
  {
   "cell_type": "code",
   "execution_count": 19,
   "metadata": {},
   "outputs": [],
   "source": [
    "# https://leetcode.com/problems/gas-station/"
   ]
  },
  {
   "cell_type": "code",
   "execution_count": 20,
   "metadata": {},
   "outputs": [],
   "source": [
    "from typing import List\n",
    "\n",
    "# brute force\n",
    "# TLE 34/40 test cases\n",
    "class Solution:\n",
    "    def canCompleteCircuit(self, gas: List[int], cost: List[int]) -> int:\n",
    "        n = len(gas)\n",
    "        for start in range(n):\n",
    "            tank = 0\n",
    "            for i in range(start, start + n):\n",
    "                tank += gas[i % n]\n",
    "                tank -= cost[i % n]\n",
    "                if tank < 0:\n",
    "                    break\n",
    "            if tank >= 0:\n",
    "                return start\n",
    "        return -1\n",
    "        "
   ]
  },
  {
   "cell_type": "markdown",
   "metadata": {},
   "source": [
    "https://leetcode.com/problems/gas-station/solutions/3011141/c-easy-solution-with-explaination-in-o-n-time-complexity-beats-97/\n",
    "\n",
    "\n",
    "Intuition\n",
    "Here we will apply greedy approach\n",
    "\n",
    "Approach\n",
    "In the question given that\n",
    "If there exists a solution, it is guaranteed to be unique\n",
    "-This lines clearly tells us that we have unique or no solution exists\n",
    "\n",
    "Here two cases are possible\n",
    "\n",
    "if our total_gas is less than our total cost in that case we can't complete our journey ,so will return -1\n",
    "Now we have a unique solution that means single starting_point exists\n",
    "To find that point we will keep track of my current_gas+=gas[i]-cost[i]\n",
    "lets suppose at any index our current gas became negative so we can clearly say that till that index all the gas station between ith and starting point are bad, starting point as well.\n",
    "So, this means we can start trying at next gas_station on the i+1 station"
   ]
  },
  {
   "cell_type": "code",
   "execution_count": 21,
   "metadata": {},
   "outputs": [],
   "source": [
    "from typing import List\n",
    "\n",
    "class Solution:\n",
    "    def canCompleteCircuit(self, gas: List[int], cost: List[int]) -> int:\n",
    "        n = len(gas)\n",
    "        totalGas = 0\n",
    "        totalCost = 0\n",
    "        curGas = 0\n",
    "        startPoint = 0\n",
    "        for i in range(n):\n",
    "            totalGas += gas[i]\n",
    "            totalCost += cost[i]\n",
    "            curGas += gas[i] - cost[i]\n",
    "            if curGas < 0:\n",
    "                startPoint = i + 1\n",
    "                curGas = 0\n",
    "        return -1 if totalGas < totalCost else startPoint"
   ]
  },
  {
   "cell_type": "code",
   "execution_count": 22,
   "metadata": {},
   "outputs": [
    {
     "data": {
      "text/plain": [
       "3"
      ]
     },
     "execution_count": 22,
     "metadata": {},
     "output_type": "execute_result"
    }
   ],
   "source": [
    "gas = [1,2,3,4,5]\n",
    "cost = [3,4,5,1,2]\n",
    "sol = Solution()\n",
    "sol.canCompleteCircuit(gas, cost)"
   ]
  },
  {
   "cell_type": "code",
   "execution_count": 23,
   "metadata": {},
   "outputs": [
    {
     "data": {
      "text/plain": [
       "-1"
      ]
     },
     "execution_count": 23,
     "metadata": {},
     "output_type": "execute_result"
    }
   ],
   "source": [
    "gas = [2,3,4]\n",
    "cost = [3,4,3]\n",
    "sol = Solution()\n",
    "sol.canCompleteCircuit(gas, cost)"
   ]
  }
 ],
 "metadata": {
  "kernelspec": {
   "display_name": "dsa-venv",
   "language": "python",
   "name": "python3"
  },
  "language_info": {
   "codemirror_mode": {
    "name": "ipython",
    "version": 3
   },
   "file_extension": ".py",
   "mimetype": "text/x-python",
   "name": "python",
   "nbconvert_exporter": "python",
   "pygments_lexer": "ipython3",
   "version": "3.11.3"
  },
  "orig_nbformat": 4
 },
 "nbformat": 4,
 "nbformat_minor": 2
}
