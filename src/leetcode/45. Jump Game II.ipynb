{
 "cells": [
  {
   "cell_type": "code",
   "execution_count": 54,
   "metadata": {},
   "outputs": [],
   "source": [
    "from typing import List\n",
    "\n",
    "\n",
    "class Solution:\n",
    "    def jump(self, nums: List[int]) -> int:\n",
    "        if len(nums) <= 1:\n",
    "            return 0\n",
    "        ladder = stairs = nums[0]\n",
    "        jumps = 1\n",
    "        for i in range(1, len(nums)):\n",
    "            if stairs == 0:\n",
    "                jumps += 1\n",
    "                stairs = ladder\n",
    "            stairs -= 1\n",
    "            ladder -= 1\n",
    "            ladder = max(ladder, nums[i])\n",
    "        return jumps"
   ]
  },
  {
   "cell_type": "code",
   "execution_count": 55,
   "metadata": {},
   "outputs": [
    {
     "name": "stdout",
     "output_type": "stream",
     "text": [
      "2\n"
     ]
    }
   ],
   "source": [
    "nums = [2,3,1,1,4]\n",
    "sol = Solution()\n",
    "print(sol.jump(nums))"
   ]
  },
  {
   "cell_type": "code",
   "execution_count": 56,
   "metadata": {},
   "outputs": [
    {
     "name": "stdout",
     "output_type": "stream",
     "text": [
      "2\n"
     ]
    }
   ],
   "source": [
    "nums = [2,3,0,1,4]\n",
    "sol = Solution()\n",
    "print(sol.jump(nums))"
   ]
  },
  {
   "cell_type": "code",
   "execution_count": 57,
   "metadata": {},
   "outputs": [],
   "source": [
    "class Solution:\n",
    "    def jump(self, nums: List[int]) -> int:\n",
    "        l = r = 0\n",
    "        nJumps = 0\n",
    "        while r < len(nums) - 1:\n",
    "            furthest = 0\n",
    "            for i in range(l, r + 1):\n",
    "                furthest = max(furthest, i + nums[i])\n",
    "            l = r + 1\n",
    "            r = furthest\n",
    "            nJumps += 1\n",
    "        return nJumps"
   ]
  },
  {
   "cell_type": "code",
   "execution_count": 58,
   "metadata": {},
   "outputs": [
    {
     "name": "stdout",
     "output_type": "stream",
     "text": [
      "2\n"
     ]
    }
   ],
   "source": [
    "nums = [2,3,1,1,4]\n",
    "sol = Solution()\n",
    "print(sol.jump(nums))"
   ]
  },
  {
   "cell_type": "code",
   "execution_count": 59,
   "metadata": {},
   "outputs": [
    {
     "name": "stdout",
     "output_type": "stream",
     "text": [
      "2\n"
     ]
    }
   ],
   "source": [
    "nums = [2,3,0,1,4]\n",
    "sol = Solution()\n",
    "print(sol.jump(nums))"
   ]
  }
 ],
 "metadata": {
  "kernelspec": {
   "display_name": "Python 3.10.6 ('dsa-venv': venv)",
   "language": "python",
   "name": "python3"
  },
  "language_info": {
   "codemirror_mode": {
    "name": "ipython",
    "version": 3
   },
   "file_extension": ".py",
   "mimetype": "text/x-python",
   "name": "python",
   "nbconvert_exporter": "python",
   "pygments_lexer": "ipython3",
   "version": "3.10.6"
  },
  "orig_nbformat": 4,
  "vscode": {
   "interpreter": {
    "hash": "e2278406c40349b728369a6b418500b4154ef0fb5e599ada131fe37b236439d7"
   }
  }
 },
 "nbformat": 4,
 "nbformat_minor": 2
}
