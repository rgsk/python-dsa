{
 "cells": [
  {
   "cell_type": "code",
   "execution_count": 14,
   "metadata": {},
   "outputs": [],
   "source": [
    "# https://leetcode.com/problems/palindromic-substrings/description/"
   ]
  },
  {
   "cell_type": "code",
   "execution_count": null,
   "metadata": {},
   "outputs": [],
   "source": [
    "# https://www.youtube.com/watch?v=XmSOWnL6T_I"
   ]
  },
  {
   "cell_type": "code",
   "execution_count": 15,
   "metadata": {},
   "outputs": [],
   "source": [
    "class Solution:\n",
    "    def countSubstrings(self, s: str) -> int:\n",
    "        n = len(s)\n",
    "        palindrome = [[False for _ in range(n)] for _ in range(n)]\n",
    "\n",
    "        # Fill out the palindrome table\n",
    "        for gap in range(n):\n",
    "            for i in range(n - gap):\n",
    "                j = i + gap\n",
    "                if gap == 0:\n",
    "                    palindrome[i][j] = True\n",
    "                elif gap == 1:\n",
    "                    palindrome[i][j] = (s[i] == s[j])\n",
    "                else:\n",
    "                    palindrome[i][j] = (s[i] == s[j] and palindrome[i+1][j-1])\n",
    "        c = 0\n",
    "        for i in range(n):\n",
    "            for j in range(i, n):\n",
    "                if palindrome[i][j]:\n",
    "                    c += 1\n",
    "        return c"
   ]
  },
  {
   "cell_type": "code",
   "execution_count": 16,
   "metadata": {},
   "outputs": [],
   "source": [
    "class Solution:\n",
    "    def countSubstrings(self, s: str) -> int:\n",
    "        n = len(s)\n",
    "        palindrome = [[False for _ in range(n)] for _ in range(n)]\n",
    "        c = 0\n",
    "        # Fill out the palindrome table\n",
    "        for gap in range(n):\n",
    "            for i in range(n - gap):\n",
    "                j = i + gap\n",
    "                if gap == 0:\n",
    "                    palindrome[i][j] = True\n",
    "                elif gap == 1:\n",
    "                    palindrome[i][j] = (s[i] == s[j])\n",
    "                else:\n",
    "                    palindrome[i][j] = (s[i] == s[j] and palindrome[i+1][j-1])\n",
    "                if palindrome[i][j]:\n",
    "                    c += 1\n",
    "        return c"
   ]
  },
  {
   "cell_type": "code",
   "execution_count": 17,
   "metadata": {},
   "outputs": [],
   "source": [
    "class Solution:\n",
    "    def countSubstrings(self, s: str) -> int:\n",
    "        n = len(s)\n",
    "        palindrome = [[False for _ in range(n)] for _ in range(n)]\n",
    "        c = 0\n",
    "        # Fill out the palindrome table\n",
    "        for gap in range(n):\n",
    "            i = 0\n",
    "            j = gap\n",
    "            while j < n:\n",
    "                if gap == 0:\n",
    "                    palindrome[i][j] = True\n",
    "                elif gap == 1:\n",
    "                    palindrome[i][j] = (s[i] == s[j])\n",
    "                else:\n",
    "                    palindrome[i][j] = (s[i] == s[j] and palindrome[i+1][j-1])\n",
    "                if palindrome[i][j]:\n",
    "                    c += 1\n",
    "                i += 1\n",
    "                j += 1\n",
    "        return c"
   ]
  },
  {
   "cell_type": "code",
   "execution_count": 18,
   "metadata": {},
   "outputs": [
    {
     "data": {
      "text/plain": [
       "3"
      ]
     },
     "execution_count": 18,
     "metadata": {},
     "output_type": "execute_result"
    }
   ],
   "source": [
    "s = \"abc\"\n",
    "sol = Solution()\n",
    "sol.countSubstrings(s)"
   ]
  },
  {
   "cell_type": "code",
   "execution_count": 19,
   "metadata": {},
   "outputs": [
    {
     "data": {
      "text/plain": [
       "6"
      ]
     },
     "execution_count": 19,
     "metadata": {},
     "output_type": "execute_result"
    }
   ],
   "source": [
    "s = \"aaa\"\n",
    "sol = Solution()\n",
    "sol.countSubstrings(s)"
   ]
  }
 ],
 "metadata": {
  "kernelspec": {
   "display_name": "dsa-venv",
   "language": "python",
   "name": "python3"
  },
  "language_info": {
   "codemirror_mode": {
    "name": "ipython",
    "version": 3
   },
   "file_extension": ".py",
   "mimetype": "text/x-python",
   "name": "python",
   "nbconvert_exporter": "python",
   "pygments_lexer": "ipython3",
   "version": "3.11.3"
  }
 },
 "nbformat": 4,
 "nbformat_minor": 2
}
