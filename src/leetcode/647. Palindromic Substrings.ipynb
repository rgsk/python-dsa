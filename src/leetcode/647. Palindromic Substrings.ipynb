{
 "cells": [
  {
   "cell_type": "code",
   "execution_count": 22,
   "metadata": {},
   "outputs": [],
   "source": [
    "# https://leetcode.com/problems/palindromic-substrings/description/"
   ]
  },
  {
   "cell_type": "code",
   "execution_count": 23,
   "metadata": {},
   "outputs": [],
   "source": [
    "# https://www.youtube.com/watch?v=XmSOWnL6T_I"
   ]
  },
  {
   "cell_type": "code",
   "execution_count": 24,
   "metadata": {},
   "outputs": [],
   "source": [
    "class Solution:\n",
    "    def countSubstrings(self, s: str) -> int:\n",
    "        n = len(s)\n",
    "        palindrome = [[False for _ in range(n)] for _ in range(n)]\n",
    "\n",
    "        # Fill out the palindrome table\n",
    "        for gap in range(n):\n",
    "            for i in range(n - gap):\n",
    "                j = i + gap\n",
    "                if gap == 0:\n",
    "                    palindrome[i][j] = True\n",
    "                elif gap == 1:\n",
    "                    palindrome[i][j] = (s[i] == s[j])\n",
    "                else:\n",
    "                    palindrome[i][j] = (s[i] == s[j] and palindrome[i+1][j-1])\n",
    "        c = 0\n",
    "        for i in range(n):\n",
    "            for j in range(i, n):\n",
    "                if palindrome[i][j]:\n",
    "                    c += 1\n",
    "        return c"
   ]
  },
  {
   "cell_type": "code",
   "execution_count": 25,
   "metadata": {},
   "outputs": [],
   "source": [
    "class Solution:\n",
    "    def countSubstrings(self, s: str) -> int:\n",
    "        n = len(s)\n",
    "        palindrome = [[False for _ in range(n)] for _ in range(n)]\n",
    "        c = 0\n",
    "        # Fill out the palindrome table\n",
    "        for gap in range(n):\n",
    "            for i in range(n - gap):\n",
    "                j = i + gap\n",
    "                if gap == 0:\n",
    "                    palindrome[i][j] = True\n",
    "                elif gap == 1:\n",
    "                    palindrome[i][j] = (s[i] == s[j])\n",
    "                else:\n",
    "                    palindrome[i][j] = (s[i] == s[j] and palindrome[i+1][j-1])\n",
    "                if palindrome[i][j]:\n",
    "                    c += 1\n",
    "        return c"
   ]
  },
  {
   "cell_type": "code",
   "execution_count": 26,
   "metadata": {},
   "outputs": [],
   "source": [
    "class Solution:\n",
    "    def countSubstrings(self, s: str) -> int:\n",
    "        n = len(s)\n",
    "        palindrome = [[False for _ in range(n)] for _ in range(n)]\n",
    "        c = 0\n",
    "        # Fill out the palindrome table\n",
    "        for gap in range(n):\n",
    "            i = 0\n",
    "            j = gap\n",
    "            while j < n:\n",
    "                if gap == 0:\n",
    "                    palindrome[i][j] = True\n",
    "                elif gap == 1:\n",
    "                    palindrome[i][j] = (s[i] == s[j])\n",
    "                else:\n",
    "                    palindrome[i][j] = (s[i] == s[j] and palindrome[i+1][j-1])\n",
    "                if palindrome[i][j]:\n",
    "                    c += 1\n",
    "                i += 1\n",
    "                j += 1\n",
    "        return c"
   ]
  },
  {
   "cell_type": "code",
   "execution_count": 27,
   "metadata": {},
   "outputs": [],
   "source": [
    "class Solution:\n",
    "    def countSubstrings(self, s: str) -> int:\n",
    "        n = len(s)\n",
    "        palindrome = [[False for _ in range(n)] for _ in range(n)]\n",
    "        c = 0\n",
    "        # Fill out the palindrome table\n",
    "        for gap in range(n):\n",
    "            i = 0\n",
    "            j = gap\n",
    "            while j < n:\n",
    "                if gap == 0:\n",
    "                    palindrome[i][j] = True\n",
    "                elif gap == 1:\n",
    "                    palindrome[i][j] = (s[i] == s[j])\n",
    "                else:\n",
    "                    palindrome[i][j] = (s[i] == s[j] and palindrome[i+1][j-1])\n",
    "                if palindrome[i][j]:\n",
    "                    c += 1\n",
    "                i += 1\n",
    "                j += 1\n",
    "        return c"
   ]
  },
  {
   "cell_type": "code",
   "execution_count": 28,
   "metadata": {},
   "outputs": [],
   "source": [
    "# # https://leetcode.com/problems/palindromic-substrings/description/\n",
    "\n",
    "# Manacher's Algorithm\n",
    "\n",
    "# https://www.youtube.com/watch?v=V-sEwsca1ak\n",
    "\n",
    "from math import ceil\n",
    "\n",
    "\n",
    "class Solution:\n",
    "    def countSubstrings(self, s: str) -> int:\n",
    "        s = \"$\" + \"$\".join([v for v in s]) + \"$\"\n",
    "        n = len(s)\n",
    "        center = 0\n",
    "        pal_lengths = [0] * n\n",
    "        while center < n:\n",
    "            # print(f'{center=}')\n",
    "            l = center - 1\n",
    "            r = center + 1\n",
    "            while l >= 0 and r < n and s[l] == s[r]:\n",
    "                l -= 1\n",
    "                r += 1\n",
    "            r -= 1\n",
    "            l += 1\n",
    "            pal_length = r - l + 1\n",
    "            pal_lengths[center] = pal_length\n",
    "            # if center + pal_lengths[center]//2 >= n-1:\n",
    "            #     break\n",
    "            cl = center - 1\n",
    "            cr = center + 1\n",
    "\n",
    "            while cr <= r:\n",
    "                if cl - pal_lengths[cl] // 2 < l:\n",
    "                    pal_lengths[cr] = (cl - l) * 2 + 1\n",
    "                elif cr + pal_lengths[cl] //2 >= r:\n",
    "                    break\n",
    "                else:\n",
    "                    pal_lengths[cr] = pal_lengths[cl]\n",
    "                cl -= 1\n",
    "                cr += 1\n",
    "            center = cr\n",
    "        return sum([ceil((v//2)/2) for v in pal_lengths])"
   ]
  },
  {
   "cell_type": "code",
   "execution_count": 29,
   "metadata": {},
   "outputs": [
    {
     "data": {
      "text/plain": [
       "3"
      ]
     },
     "execution_count": 29,
     "metadata": {},
     "output_type": "execute_result"
    }
   ],
   "source": [
    "s = \"abc\"\n",
    "sol = Solution()\n",
    "sol.countSubstrings(s)"
   ]
  },
  {
   "cell_type": "code",
   "execution_count": 30,
   "metadata": {},
   "outputs": [
    {
     "data": {
      "text/plain": [
       "6"
      ]
     },
     "execution_count": 30,
     "metadata": {},
     "output_type": "execute_result"
    }
   ],
   "source": [
    "s = \"aaa\"\n",
    "sol = Solution()\n",
    "sol.countSubstrings(s)"
   ]
  },
  {
   "cell_type": "code",
   "execution_count": 31,
   "metadata": {},
   "outputs": [
    {
     "name": "stdout",
     "output_type": "stream",
     "text": [
      "4\n"
     ]
    }
   ],
   "source": [
    "s = \"aba\"\n",
    "sol = Solution()\n",
    "print(sol.countSubstrings(s))"
   ]
  },
  {
   "cell_type": "code",
   "execution_count": 32,
   "metadata": {},
   "outputs": [
    {
     "name": "stdout",
     "output_type": "stream",
     "text": [
      "8\n"
     ]
    }
   ],
   "source": [
    "s = \"abaab\"\n",
    "sol = Solution()\n",
    "print(sol.countSubstrings(s))"
   ]
  }
 ],
 "metadata": {
  "kernelspec": {
   "display_name": "dsa-venv",
   "language": "python",
   "name": "python3"
  },
  "language_info": {
   "codemirror_mode": {
    "name": "ipython",
    "version": 3
   },
   "file_extension": ".py",
   "mimetype": "text/x-python",
   "name": "python",
   "nbconvert_exporter": "python",
   "pygments_lexer": "ipython3",
   "version": "3.11.3"
  }
 },
 "nbformat": 4,
 "nbformat_minor": 2
}
