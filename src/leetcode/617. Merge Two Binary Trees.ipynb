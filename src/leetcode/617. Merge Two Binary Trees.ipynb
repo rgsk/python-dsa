{
 "cells": [
  {
   "cell_type": "markdown",
   "metadata": {},
   "source": [
    "https://leetcode.com/problems/merge-two-binary-trees/"
   ]
  },
  {
   "cell_type": "code",
   "execution_count": 11,
   "metadata": {},
   "outputs": [],
   "source": [
    "import sys\n",
    "sys.path.append('..')\n",
    "\n",
    "\n",
    "from lib.TreeNode import *"
   ]
  },
  {
   "cell_type": "code",
   "execution_count": 12,
   "metadata": {},
   "outputs": [],
   "source": [
    "class Solution:\n",
    "    def mergeTrees(self, root1: Optional[TreeNode], root2: Optional[TreeNode]) -> Optional[TreeNode]:\n",
    "        if root1 or root2:\n",
    "            if root1 and not root2:\n",
    "                return root1\n",
    "            if root2 and not root1:\n",
    "                return root2\n",
    "            root1.val += root2.val\n",
    "            root1.left = self.mergeTrees(root1.left, root2.left)\n",
    "            root1.right = self.mergeTrees(root1.right, root2.right)\n",
    "            return root1"
   ]
  },
  {
   "cell_type": "code",
   "execution_count": 13,
   "metadata": {},
   "outputs": [
    {
     "name": "stdout",
     "output_type": "stream",
     "text": [
      "  _3  \n",
      " /  \\ \n",
      " 4  5 \n",
      "/ \\  \\\n",
      "5 4  7\n"
     ]
    }
   ],
   "source": [
    "root1 = formTree([1,3,2,5])\n",
    "root2 = formTree([2,1,3,None,4,None,7])\n",
    "\n",
    "sol = Solution()\n",
    "sol.mergeTrees(root1, root2).display()"
   ]
  },
  {
   "cell_type": "code",
   "execution_count": 14,
   "metadata": {},
   "outputs": [
    {
     "name": "stdout",
     "output_type": "stream",
     "text": [
      " 2\n",
      "/ \n",
      "2 \n"
     ]
    }
   ],
   "source": [
    "root1 = formTree([1])\n",
    "root2 = formTree([1,2])\n",
    "\n",
    "sol = Solution()\n",
    "sol.mergeTrees(root1, root2).display()"
   ]
  }
 ],
 "metadata": {
  "kernelspec": {
   "display_name": "dsa-venv",
   "language": "python",
   "name": "python3"
  },
  "language_info": {
   "codemirror_mode": {
    "name": "ipython",
    "version": 3
   },
   "file_extension": ".py",
   "mimetype": "text/x-python",
   "name": "python",
   "nbconvert_exporter": "python",
   "pygments_lexer": "ipython3",
   "version": "3.11.3"
  }
 },
 "nbformat": 4,
 "nbformat_minor": 2
}
