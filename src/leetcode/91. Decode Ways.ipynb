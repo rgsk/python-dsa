{
 "cells": [
  {
   "cell_type": "code",
   "execution_count": 16,
   "metadata": {},
   "outputs": [],
   "source": [
    "class Solution:\n",
    "    def numDecodings(self, s: str) -> int:\n",
    "        # write the recursive solution\n",
    "        def recursive(s: str) -> int:\n",
    "            if len(s) == 0:\n",
    "                return 1\n",
    "            if s[0] == '0':\n",
    "                return 0\n",
    "            if len(s) == 1:\n",
    "                return 1\n",
    "            if int(s[:2]) <= 26:\n",
    "                return recursive(s[1:]) + recursive(s[2:])\n",
    "            else:\n",
    "                return recursive(s[1:])\n",
    "        return recursive(s)"
   ]
  },
  {
   "cell_type": "code",
   "execution_count": 17,
   "metadata": {},
   "outputs": [],
   "source": [
    "from functools import cache\n",
    "\n",
    "\n",
    "class Solution:\n",
    "    def numDecodings(self, s: str) -> int:\n",
    "        # write the recursive solution\n",
    "        @cache\n",
    "        def recursive(i):\n",
    "            if i == len(s):\n",
    "                return 1\n",
    "            if s[i] == '0':\n",
    "                return 0\n",
    "            if i == len(s) - 1:\n",
    "                return 1\n",
    "            if int(s[i:i+2]) <= 26:\n",
    "                return recursive(i+1) + recursive(i+2)\n",
    "            else:\n",
    "                return recursive(i+1)\n",
    "        return recursive(0)"
   ]
  },
  {
   "cell_type": "markdown",
   "metadata": {},
   "source": [
    "Example 1:\n",
    "\n",
    "Input: s = \"12\"\n",
    "\n",
    "Output: 2\n",
    "\n",
    "Explanation:\n",
    "\n",
    "\"12\" could be decoded as \"AB\" (1 2) or \"L\" (12).\n",
    "\n",
    "Example 2:\n",
    "\n",
    "Input: s = \"226\"\n",
    "\n",
    "Output: 3\n",
    "\n",
    "Explanation:\n",
    "\n",
    "\"226\" could be decoded as \"BZ\" (2 26), \"VF\" (22 6), or \"BBF\" (2 2 6).\n",
    "\n",
    "Example 3:\n",
    "\n",
    "Input: s = \"06\"\n",
    "\n",
    "Output: 0\n",
    "\n",
    "Explanation:\n",
    "\n",
    "\"06\" cannot be mapped to \"F\" because of the leading zero (\"6\" is different from \"06\"). In this case, the string is not a valid encoding, so return 0."
   ]
  },
  {
   "cell_type": "code",
   "execution_count": 18,
   "metadata": {},
   "outputs": [
    {
     "name": "stdout",
     "output_type": "stream",
     "text": [
      "2\n",
      "3\n",
      "0\n"
     ]
    }
   ],
   "source": [
    "# write the example test cases, call the function and print the result here\n",
    "\n",
    "def test():\n",
    "    sol = Solution()\n",
    "    print(sol.numDecodings(\"12\"))\n",
    "    print(sol.numDecodings(\"226\"))\n",
    "    print(sol.numDecodings(\"06\"))\n",
    "\n",
    "test()"
   ]
  }
 ],
 "metadata": {
  "kernelspec": {
   "display_name": "venv",
   "language": "python",
   "name": "python3"
  },
  "language_info": {
   "codemirror_mode": {
    "name": "ipython",
    "version": 3
   },
   "file_extension": ".py",
   "mimetype": "text/x-python",
   "name": "python",
   "nbconvert_exporter": "python",
   "pygments_lexer": "ipython3",
   "version": "3.11.3"
  }
 },
 "nbformat": 4,
 "nbformat_minor": 2
}
