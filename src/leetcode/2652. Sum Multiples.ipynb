{
 "cells": [
  {
   "cell_type": "markdown",
   "metadata": {},
   "source": [
    "\n",
    "<img src=\"./../../images/image.png\" width=\"400\"  >\n",
    "<img src=\"./../../images/image copy.png\" width=\"400\"  >\n"
   ]
  },
  {
   "cell_type": "markdown",
   "metadata": {},
   "source": []
  },
  {
   "cell_type": "code",
   "execution_count": 17,
   "metadata": {},
   "outputs": [],
   "source": [
    "def getSumOfNumbersDivisibleByKUptoN(k: int, n: int):\n",
    "    m = n // k\n",
    "    return k * m * (m + 1) // 2"
   ]
  },
  {
   "cell_type": "code",
   "execution_count": 18,
   "metadata": {},
   "outputs": [
    {
     "data": {
      "text/plain": [
       "18"
      ]
     },
     "execution_count": 18,
     "metadata": {},
     "output_type": "execute_result"
    }
   ],
   "source": [
    "getSumOfNumbersDivisibleByKUptoN(3, 10)"
   ]
  },
  {
   "cell_type": "code",
   "execution_count": 19,
   "metadata": {},
   "outputs": [],
   "source": [
    "def getSumOfNumbersDivisibleByKUptoN(k: int, n: int):\n",
    "    m = n // k\n",
    "    return k * m * (m + 1) // 2\n",
    "\n",
    "class Solution:\n",
    "    def sumOfMultiples(self, n: int) -> int:\n",
    "        three = getSumOfNumbersDivisibleByKUptoN(3, n)\n",
    "        five = getSumOfNumbersDivisibleByKUptoN(5, n)\n",
    "        seven = getSumOfNumbersDivisibleByKUptoN(7, n)\n",
    "        threeAndFive = getSumOfNumbersDivisibleByKUptoN(3 * 5, n)\n",
    "        fiveAndSeven = getSumOfNumbersDivisibleByKUptoN(5 * 7, n)\n",
    "        threeAndSeven = getSumOfNumbersDivisibleByKUptoN(3 * 7, n)\n",
    "        threeAndFiveAndSeven = getSumOfNumbersDivisibleByKUptoN(3 * 5 * 7, n)\n",
    "        return three + five + seven - threeAndFive - fiveAndSeven - threeAndSeven + threeAndFiveAndSeven\n"
   ]
  },
  {
   "cell_type": "code",
   "execution_count": 20,
   "metadata": {},
   "outputs": [],
   "source": [
    "class Solution:\n",
    "    def sumOfMultiples(self, n: int) -> int:\n",
    "        total = 0\n",
    "        for i in range(1, n + 1):\n",
    "            if i % 3 == 0 or i % 5 == 0 or i % 7 == 0:\n",
    "                total += i\n",
    "        return total"
   ]
  },
  {
   "cell_type": "code",
   "execution_count": 21,
   "metadata": {},
   "outputs": [
    {
     "data": {
      "text/plain": [
       "21"
      ]
     },
     "execution_count": 21,
     "metadata": {},
     "output_type": "execute_result"
    }
   ],
   "source": [
    "sol = Solution()\n",
    "n = 7\n",
    "sol.sumOfMultiples(n)"
   ]
  },
  {
   "cell_type": "code",
   "execution_count": 22,
   "metadata": {},
   "outputs": [
    {
     "data": {
      "text/plain": [
       "40"
      ]
     },
     "execution_count": 22,
     "metadata": {},
     "output_type": "execute_result"
    }
   ],
   "source": [
    "sol = Solution()\n",
    "n = 10\n",
    "sol.sumOfMultiples(n)"
   ]
  },
  {
   "cell_type": "code",
   "execution_count": 23,
   "metadata": {},
   "outputs": [
    {
     "data": {
      "text/plain": [
       "30"
      ]
     },
     "execution_count": 23,
     "metadata": {},
     "output_type": "execute_result"
    }
   ],
   "source": [
    "sol = Solution()\n",
    "n = 9\n",
    "sol.sumOfMultiples(n)"
   ]
  }
 ],
 "metadata": {
  "kernelspec": {
   "display_name": "venv",
   "language": "python",
   "name": "python3"
  },
  "language_info": {
   "codemirror_mode": {
    "name": "ipython",
    "version": 3
   },
   "file_extension": ".py",
   "mimetype": "text/x-python",
   "name": "python",
   "nbconvert_exporter": "python",
   "pygments_lexer": "ipython3",
   "version": "3.11.3"
  }
 },
 "nbformat": 4,
 "nbformat_minor": 2
}
