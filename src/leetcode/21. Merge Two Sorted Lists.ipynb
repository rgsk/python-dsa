{
 "cells": [
  {
   "cell_type": "code",
   "execution_count": 13,
   "metadata": {},
   "outputs": [],
   "source": [
    "# Definition for singly-linked list.\n",
    "from token import OP\n",
    "from typing import List, Optional\n",
    "\n",
    "    \n",
    "class ListNode:\n",
    "    def __init__(self, val=0, next=None):\n",
    "        self.val = val\n",
    "        self.next = next\n",
    "\n",
    "\n",
    "def asList(l: Optional[ListNode]) -> List[int]:\n",
    "    if l == None:\n",
    "        return []\n",
    "\n",
    "    ans: List[int] = []\n",
    "    t = l\n",
    "    while t != None:\n",
    "        ans.append(t.val)\n",
    "        t = t.next\n",
    "    return ans\n",
    "\n",
    "def makeList(elems: List[int]) -> Optional[ListNode]:\n",
    "    if not elems:\n",
    "        return None\n",
    "    l = ListNode()\n",
    "    t = l\n",
    "    for v in elems:\n",
    "        t.next = ListNode(v)\n",
    "        t = t.next\n",
    "    return l.next\n",
    "    \n",
    "class Solution:\n",
    "    def mergeTwoLists(self, list1: Optional[ListNode], list2: Optional[ListNode]) -> Optional[ListNode]:\n",
    "        return makeList(sorted(asList(list1) + asList(list2)))"
   ]
  },
  {
   "cell_type": "code",
   "execution_count": 14,
   "metadata": {},
   "outputs": [
    {
     "name": "stdout",
     "output_type": "stream",
     "text": [
      "[1, 1, 2, 3, 4, 4]\n"
     ]
    }
   ],
   "source": [
    "list1 = makeList([1,2,4])\n",
    "list2 = makeList([1,3,4])\n",
    "sol = Solution()\n",
    "print(asList(sol.mergeTwoLists(list1, list2)))"
   ]
  },
  {
   "cell_type": "code",
   "execution_count": 15,
   "metadata": {},
   "outputs": [],
   "source": [
    "class Solution:\n",
    "    def mergeTwoLists(self, list1: Optional[ListNode], list2: Optional[ListNode]) -> Optional[ListNode]:\n",
    "        list3 = ListNode()\n",
    "        t3 = list3\n",
    "        t1 = list1\n",
    "        t2 = list2\n",
    "        while t1 and t2:\n",
    "            if t1.val < t2.val:\n",
    "                t3.next = ListNode(t1.val)\n",
    "                t1 = t1.next\n",
    "            else:\n",
    "                t3.next = ListNode(t2.val)\n",
    "                t2 = t2.next\n",
    "            t3 = t3.next\n",
    "        t3.next = t1 if t1 else t2\n",
    "        return list3.next"
   ]
  },
  {
   "cell_type": "code",
   "execution_count": 16,
   "metadata": {},
   "outputs": [
    {
     "name": "stdout",
     "output_type": "stream",
     "text": [
      "[1, 1, 2, 3, 4, 4]\n"
     ]
    }
   ],
   "source": [
    "list1 = makeList([1,2,4])\n",
    "list2 = makeList([1,3,4])\n",
    "sol = Solution()\n",
    "print(asList(sol.mergeTwoLists(list1, list2)))"
   ]
  },
  {
   "cell_type": "code",
   "execution_count": 17,
   "metadata": {},
   "outputs": [],
   "source": [
    "# below is more optimized solution since space is O(1)\n",
    "class Solution:\n",
    "    def mergeTwoLists(self, list1: Optional[ListNode], list2: Optional[ListNode]) -> Optional[ListNode]:\n",
    "        cur = dummy = ListNode()\n",
    "        while list1 and list2:               \n",
    "            if list1.val < list2.val:\n",
    "                cur.next = list1\n",
    "                list1 = list1.next\n",
    "            else:\n",
    "                cur.next = list2\n",
    "                list2 = list2.next\n",
    "            cur = cur.next\n",
    "                \n",
    "        cur.next = list1 or list2\n",
    "        return dummy.next"
   ]
  },
  {
   "cell_type": "code",
   "execution_count": 18,
   "metadata": {},
   "outputs": [
    {
     "name": "stdout",
     "output_type": "stream",
     "text": [
      "[1, 1, 2, 3, 4, 4]\n"
     ]
    }
   ],
   "source": [
    "list1 = makeList([1,2,4])\n",
    "list2 = makeList([1,3,4])\n",
    "sol = Solution()\n",
    "print(asList(sol.mergeTwoLists(list1, list2)))"
   ]
  }
 ],
 "metadata": {
  "kernelspec": {
   "display_name": "Python 3.10.4 ('template-venv': venv)",
   "language": "python",
   "name": "python3"
  },
  "language_info": {
   "codemirror_mode": {
    "name": "ipython",
    "version": 3
   },
   "file_extension": ".py",
   "mimetype": "text/x-python",
   "name": "python",
   "nbconvert_exporter": "python",
   "pygments_lexer": "ipython3",
   "version": "3.10.4"
  },
  "orig_nbformat": 4,
  "vscode": {
   "interpreter": {
    "hash": "0b8dd1d11c220dfc9d15848c82c145ba1a021fcb056c07a0cc073ae3ed6d8420"
   }
  }
 },
 "nbformat": 4,
 "nbformat_minor": 2
}
