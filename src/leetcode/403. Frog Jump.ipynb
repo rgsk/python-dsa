{
 "cells": [
  {
   "cell_type": "code",
   "execution_count": 68,
   "metadata": {},
   "outputs": [],
   "source": [
    "from typing import List\n",
    "\n",
    "\n",
    "class Solution:\n",
    "    def canCross(self, stones: List[int]) -> bool:\n",
    "        stones_set = set(stones)\n",
    "        def helper(position, lastJump):\n",
    "            if position == stones[-1]:\n",
    "                return True\n",
    "            for jump in range(max(lastJump - 1, 1), lastJump + 2):\n",
    "                if position + jump in stones_set:\n",
    "                    if helper(position + jump, jump):\n",
    "                        return True\n",
    "            return False\n",
    "        return helper(0, 0)"
   ]
  },
  {
   "cell_type": "code",
   "execution_count": 69,
   "metadata": {},
   "outputs": [],
   "source": [
    "from functools import cache\n",
    "from typing import List\n",
    "\n",
    "\n",
    "class Solution:\n",
    "    def canCross(self, stones: List[int]) -> bool:\n",
    "        stones_set = set(stones)\n",
    "        @cache\n",
    "        def helper(position, lastJump):\n",
    "            if position == stones[-1]:\n",
    "                return True\n",
    "            for jump in range(max(lastJump - 1, 1), lastJump + 2):\n",
    "                if position + jump in stones_set:\n",
    "                    if helper(position + jump, jump):\n",
    "                        return True\n",
    "            return False\n",
    "        return helper(0, 0)"
   ]
  },
  {
   "cell_type": "code",
   "execution_count": 70,
   "metadata": {},
   "outputs": [],
   "source": [
    "from typing import List\n",
    "\n",
    "\n",
    "class Solution:\n",
    "    def canCross(self, stones: List[int]) -> bool:\n",
    "        stones_set = set(stones)\n",
    "        dp = {}\n",
    "        def helper(position, lastJump):\n",
    "            if position == stones[-1]:\n",
    "                return True\n",
    "            key = (position, lastJump)\n",
    "            if key in dp:\n",
    "                return dp[key]\n",
    "            for jump in range(max(lastJump - 1, 1), lastJump + 2):\n",
    "                if position + jump in stones_set:\n",
    "                    if helper(position + jump, jump):\n",
    "                        dp[key] = True\n",
    "                        return dp[key]\n",
    "            dp[key] = False\n",
    "            return dp[key]\n",
    "        return helper(0, 0)"
   ]
  },
  {
   "cell_type": "code",
   "execution_count": 71,
   "metadata": {},
   "outputs": [],
   "source": [
    "from collections import defaultdict\n",
    "\n",
    "\n",
    "class Solution:\n",
    "    def canCross(self, stones: List[int]) -> bool:\n",
    "        mp = defaultdict(set)\n",
    "        mp[stones[0] + 1] = {1}\n",
    "        for i in range(1, len(stones)):\n",
    "            position = stones[i]\n",
    "            for v in mp[position]:\n",
    "                for jumps in range(max(v-1, 1), v + 2):\n",
    "                    mp[position + jumps].add(jumps)\n",
    "        return len(mp[stones[-1]]) > 0"
   ]
  },
  {
   "cell_type": "code",
   "execution_count": 72,
   "metadata": {},
   "outputs": [],
   "source": [
    "from collections import defaultdict\n",
    "\n",
    "\n",
    "class Solution:\n",
    "    def canCross(self, stones: List[int]) -> bool:\n",
    "        mp = {}\n",
    "        for s in stones:\n",
    "            mp[s] = set()\n",
    "        mp[stones[0]] = {0}\n",
    "        for i in range(len(stones)):\n",
    "            position = stones[i]\n",
    "            if position in mp:\n",
    "                for v in mp[position]:\n",
    "                    for jumps in range(max(v-1, 1), v + 2):\n",
    "                        if position + jumps in mp:\n",
    "                            mp[position + jumps].add(jumps)\n",
    "\n",
    "        return len(mp[stones[-1]]) > 0"
   ]
  },
  {
   "cell_type": "code",
   "execution_count": 73,
   "metadata": {},
   "outputs": [
    {
     "data": {
      "text/plain": [
       "True"
      ]
     },
     "execution_count": 73,
     "metadata": {},
     "output_type": "execute_result"
    }
   ],
   "source": [
    "stones = [0,1,3,5,6,8,12,17]\n",
    "sol = Solution()\n",
    "sol.canCross(stones)"
   ]
  },
  {
   "cell_type": "code",
   "execution_count": 74,
   "metadata": {},
   "outputs": [
    {
     "data": {
      "text/plain": [
       "False"
      ]
     },
     "execution_count": 74,
     "metadata": {},
     "output_type": "execute_result"
    }
   ],
   "source": [
    "stones = [0,1,2,3,4,8,9,11]\n",
    "sol = Solution()\n",
    "sol.canCross(stones)"
   ]
  }
 ],
 "metadata": {
  "kernelspec": {
   "display_name": "dsa-venv",
   "language": "python",
   "name": "python3"
  },
  "language_info": {
   "codemirror_mode": {
    "name": "ipython",
    "version": 3
   },
   "file_extension": ".py",
   "mimetype": "text/x-python",
   "name": "python",
   "nbconvert_exporter": "python",
   "pygments_lexer": "ipython3",
   "version": "3.11.3"
  },
  "orig_nbformat": 4
 },
 "nbformat": 4,
 "nbformat_minor": 2
}
