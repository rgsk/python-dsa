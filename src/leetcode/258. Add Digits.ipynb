{
 "cells": [
  {
   "cell_type": "code",
   "execution_count": 4,
   "metadata": {},
   "outputs": [],
   "source": [
    "# https://leetcode.com/problems/add-digits/description/"
   ]
  },
  {
   "cell_type": "code",
   "execution_count": 5,
   "metadata": {},
   "outputs": [],
   "source": [
    "class Solution:\n",
    "    def addDigits(self, num: int) -> int:\n",
    "        result = None\n",
    "        while result == None or result >= 10:\n",
    "            result = 0\n",
    "            while num > 0:\n",
    "                result += num%10\n",
    "                num //= 10\n",
    "            num = result\n",
    "        return result"
   ]
  },
  {
   "cell_type": "code",
   "execution_count": 6,
   "metadata": {},
   "outputs": [
    {
     "data": {
      "text/plain": [
       "2"
      ]
     },
     "execution_count": 6,
     "metadata": {},
     "output_type": "execute_result"
    }
   ],
   "source": [
    "num = 38\n",
    "sol = Solution()\n",
    "sol.addDigits(num)"
   ]
  }
 ],
 "metadata": {
  "kernelspec": {
   "display_name": "dsa-venv",
   "language": "python",
   "name": "python3"
  },
  "language_info": {
   "codemirror_mode": {
    "name": "ipython",
    "version": 3
   },
   "file_extension": ".py",
   "mimetype": "text/x-python",
   "name": "python",
   "nbconvert_exporter": "python",
   "pygments_lexer": "ipython3",
   "version": "3.11.3"
  },
  "orig_nbformat": 4
 },
 "nbformat": 4,
 "nbformat_minor": 2
}
