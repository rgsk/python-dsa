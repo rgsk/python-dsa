{
 "cells": [
  {
   "cell_type": "code",
   "execution_count": 103,
   "metadata": {},
   "outputs": [],
   "source": [
    "from typing import Optional, List\n",
    "\n",
    "class ListNode:\n",
    "    def __init__(self, val=0, next=None):\n",
    "        self.val = val\n",
    "        self.next = next\n",
    "\n",
    "def asList(l: Optional[ListNode]) -> List[int]:\n",
    "    if l == None:\n",
    "        return []\n",
    "\n",
    "    ans: List[int] = []\n",
    "    t = l\n",
    "    while t != None:\n",
    "        ans.append(t.val)\n",
    "        t = t.next\n",
    "    return ans\n",
    "\n",
    "def makeLinkedList(elems: List[int]) -> Optional[ListNode]:\n",
    "    if not elems:\n",
    "        return None\n",
    "    l = ListNode()\n",
    "    t = l\n",
    "    for v in elems:\n",
    "        t.next = ListNode(v)\n",
    "        t = t.next\n",
    "    return l.next\n",
    "\n",
    "def getLength(head: Optional[ListNode]) -> int:\n",
    "    temp = head\n",
    "    count = 0\n",
    "    while temp:\n",
    "        temp = temp.next\n",
    "        count += 1\n",
    "    return count\n",
    "\n",
    "class Solution:\n",
    "    def swapPairs(self, head: Optional[ListNode]) -> Optional[ListNode]:\n",
    "        elements = asList(head)\n",
    "        n = len(elements)\n",
    "        for i in range(0, n, 2):\n",
    "            if i + 1 < n:\n",
    "                elements[i], elements[i+1] = elements[i+1], elements[i]\n",
    "        return makeLinkedList(elements)"
   ]
  },
  {
   "cell_type": "code",
   "execution_count": 104,
   "metadata": {},
   "outputs": [
    {
     "name": "stdout",
     "output_type": "stream",
     "text": [
      "[2, 1, 4, 3]\n"
     ]
    }
   ],
   "source": [
    "head = makeLinkedList([1,2,3,4])\n",
    "sol = Solution()\n",
    "print(asList(sol.swapPairs(head)))"
   ]
  },
  {
   "cell_type": "code",
   "execution_count": 105,
   "metadata": {},
   "outputs": [],
   "source": [
    "class Solution:\n",
    "    def swapPairs(self, head: Optional[ListNode]) -> Optional[ListNode]:\n",
    "        temp = head\n",
    "        while temp and temp.next:\n",
    "            val = temp.val\n",
    "            temp.val = temp.next.val\n",
    "            temp.next.val = val\n",
    "            temp = temp.next.next\n",
    "        return head"
   ]
  },
  {
   "cell_type": "code",
   "execution_count": 106,
   "metadata": {},
   "outputs": [
    {
     "name": "stdout",
     "output_type": "stream",
     "text": [
      "[2, 1, 4, 3]\n"
     ]
    }
   ],
   "source": [
    "head = makeLinkedList([1,2,3,4])\n",
    "sol = Solution()\n",
    "print(asList(sol.swapPairs(head)))"
   ]
  },
  {
   "cell_type": "code",
   "execution_count": 107,
   "metadata": {},
   "outputs": [],
   "source": [
    "# [1, 2, 3, 4]\n",
    "class Solution:\n",
    "    def swapPairs(self, head: Optional[ListNode]) -> Optional[ListNode]:\n",
    "        temp = head\n",
    "        if not temp or not temp.next:\n",
    "            return temp\n",
    "        ans = None\n",
    "        last_pair = None\n",
    "        while temp and temp.next:\n",
    "            prev = temp\n",
    "            temp = temp.next\n",
    "            next = temp.next\n",
    "            temp.next = prev\n",
    "            prev.next = next\n",
    "            if ans == None:\n",
    "                ans = temp\n",
    "            else:\n",
    "                last_pair.next = temp\n",
    "            last_pair = prev\n",
    "            temp = next\n",
    "        return ans\n"
   ]
  },
  {
   "cell_type": "code",
   "execution_count": 108,
   "metadata": {},
   "outputs": [
    {
     "name": "stdout",
     "output_type": "stream",
     "text": [
      "[2, 1, 3]\n"
     ]
    }
   ],
   "source": [
    "head = makeLinkedList([1,2,3])\n",
    "sol = Solution()\n",
    "print(asList(sol.swapPairs(head)))"
   ]
  }
 ],
 "metadata": {
  "kernelspec": {
   "display_name": "Python 3.10.6 ('dsa-venv': venv)",
   "language": "python",
   "name": "python3"
  },
  "language_info": {
   "codemirror_mode": {
    "name": "ipython",
    "version": 3
   },
   "file_extension": ".py",
   "mimetype": "text/x-python",
   "name": "python",
   "nbconvert_exporter": "python",
   "pygments_lexer": "ipython3",
   "version": "3.10.6"
  },
  "orig_nbformat": 4,
  "vscode": {
   "interpreter": {
    "hash": "e2278406c40349b728369a6b418500b4154ef0fb5e599ada131fe37b236439d7"
   }
  }
 },
 "nbformat": 4,
 "nbformat_minor": 2
}
