{
 "cells": [
  {
   "cell_type": "code",
   "execution_count": 36,
   "metadata": {},
   "outputs": [],
   "source": [
    "from collections import defaultdict\n",
    "from typing import List\n",
    "\n",
    "# sort\n",
    "class Solution:\n",
    "    def topKFrequent(self, nums: List[int], k: int) -> List[int]:\n",
    "        freq = defaultdict(int)\n",
    "        for v in nums:\n",
    "            freq[v] += 1\n",
    "        pairs = []\n",
    "        for key, count in freq.items():\n",
    "            pairs.append([count, key])\n",
    "        pairs.sort(reverse=True)\n",
    "        my_set = set()\n",
    "        i = 0\n",
    "        while len(my_set) < k:\n",
    "            my_set.add(pairs[i][1])\n",
    "            i += 1\n",
    "        return list(my_set)"
   ]
  },
  {
   "cell_type": "code",
   "execution_count": 37,
   "metadata": {},
   "outputs": [],
   "source": [
    "from collections import defaultdict\n",
    "import heapq\n",
    "from typing import List\n",
    "\n",
    "# heap\n",
    "class Solution:\n",
    "    def topKFrequent(self, nums: List[int], k: int) -> List[int]:\n",
    "        freq = defaultdict(int)\n",
    "        for v in nums:\n",
    "            freq[v] += 1\n",
    "        heap = []\n",
    "        for key, count in freq.items():\n",
    "            heapq.heappush(heap, [-count, key])\n",
    "        \n",
    "        ans = []\n",
    "        while k > 0:\n",
    "            _, key = heapq.heappop(heap)\n",
    "            ans.append(key)\n",
    "            k -= 1\n",
    "        return ans"
   ]
  },
  {
   "cell_type": "code",
   "execution_count": 38,
   "metadata": {},
   "outputs": [],
   "source": [
    "# bucket sort\n",
    "class Solution:\n",
    "    def topKFrequent(self, nums: List[int], k: int) -> List[int]:\n",
    "        freq = defaultdict(int)\n",
    "        for v in nums:\n",
    "            freq[v] += 1\n",
    "        st = [[] for _ in range(len(nums) + 1)]\n",
    "        for key, count in freq.items():\n",
    "            st[count].append(key)\n",
    "        ans = []\n",
    "        for elems in reversed(st):\n",
    "            for v in elems:\n",
    "                ans.append(v)\n",
    "                if len(ans) == k:\n",
    "                    return ans\n",
    "        return ans"
   ]
  },
  {
   "cell_type": "code",
   "execution_count": 39,
   "metadata": {},
   "outputs": [
    {
     "data": {
      "text/plain": [
       "[1, 2]"
      ]
     },
     "execution_count": 39,
     "metadata": {},
     "output_type": "execute_result"
    }
   ],
   "source": [
    "nums = [1,1,1,2,2,3]\n",
    "k = 2\n",
    "sol = Solution()\n",
    "sol.topKFrequent(nums, k)"
   ]
  }
 ],
 "metadata": {
  "kernelspec": {
   "display_name": "dsa-venv",
   "language": "python",
   "name": "python3"
  },
  "language_info": {
   "codemirror_mode": {
    "name": "ipython",
    "version": 3
   },
   "file_extension": ".py",
   "mimetype": "text/x-python",
   "name": "python",
   "nbconvert_exporter": "python",
   "pygments_lexer": "ipython3",
   "version": "3.11.3"
  }
 },
 "nbformat": 4,
 "nbformat_minor": 2
}
