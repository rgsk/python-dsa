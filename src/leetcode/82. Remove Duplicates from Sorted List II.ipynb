{
 "cells": [
  {
   "cell_type": "code",
   "execution_count": 10,
   "metadata": {},
   "outputs": [],
   "source": [
    "import sys\n",
    "sys.path.append('..')\n",
    "\n",
    "from lib.ListNode import *"
   ]
  },
  {
   "cell_type": "code",
   "execution_count": 11,
   "metadata": {},
   "outputs": [],
   "source": [
    "class Solution:\n",
    "    def deleteDuplicates(self, head: Optional[ListNode]) -> Optional[ListNode]:\n",
    "        dummy = ListNode()\n",
    "        track = dummy\n",
    "        temp = head\n",
    "        while temp:\n",
    "            seq = temp.val\n",
    "            duplicateFound = False\n",
    "            while temp.next and temp.next.val == seq:\n",
    "                duplicateFound = True\n",
    "                temp = temp.next\n",
    "            if not duplicateFound:\n",
    "                track.next = temp\n",
    "                track = track.next\n",
    "            temp = temp.next\n",
    "            track.next = None\n",
    "        return dummy.next"
   ]
  },
  {
   "cell_type": "code",
   "execution_count": 12,
   "metadata": {},
   "outputs": [
    {
     "name": "stdout",
     "output_type": "stream",
     "text": [
      "[1, 2, 5]\n"
     ]
    }
   ],
   "source": [
    "head = makeList([1,2,3,3,4,4,5])\n",
    "sol = Solution()\n",
    "print(asList(sol.deleteDuplicates(head)))"
   ]
  },
  {
   "cell_type": "code",
   "execution_count": 13,
   "metadata": {},
   "outputs": [
    {
     "name": "stdout",
     "output_type": "stream",
     "text": [
      "[2, 3]\n"
     ]
    }
   ],
   "source": [
    "head = makeList([1,1,1,2,3])\n",
    "sol = Solution()\n",
    "print(asList(sol.deleteDuplicates(head)))"
   ]
  },
  {
   "cell_type": "code",
   "execution_count": 14,
   "metadata": {},
   "outputs": [
    {
     "name": "stdout",
     "output_type": "stream",
     "text": [
      "[1]\n"
     ]
    }
   ],
   "source": [
    "head = makeList([1,2,2])\n",
    "sol = Solution()\n",
    "print(asList(sol.deleteDuplicates(head)))"
   ]
  }
 ],
 "metadata": {
  "kernelspec": {
   "display_name": "dsa-venv",
   "language": "python",
   "name": "python3"
  },
  "language_info": {
   "codemirror_mode": {
    "name": "ipython",
    "version": 3
   },
   "file_extension": ".py",
   "mimetype": "text/x-python",
   "name": "python",
   "nbconvert_exporter": "python",
   "pygments_lexer": "ipython3",
   "version": "3.11.3"
  },
  "orig_nbformat": 4
 },
 "nbformat": 4,
 "nbformat_minor": 2
}
