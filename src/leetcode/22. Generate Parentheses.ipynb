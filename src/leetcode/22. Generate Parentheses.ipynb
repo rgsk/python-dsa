{
 "cells": [
  {
   "cell_type": "code",
   "execution_count": 5,
   "metadata": {},
   "outputs": [],
   "source": [
    "from typing import List\n",
    "\n",
    "\n",
    "class Solution:\n",
    "    def helper(self, open_brackets_remaining: int, closed_brackets_remaining: int, ans: List[str], cur: str):\n",
    "        if closed_brackets_remaining < open_brackets_remaining or closed_brackets_remaining < 0 or open_brackets_remaining < 0:\n",
    "            return\n",
    "            \n",
    "        if open_brackets_remaining == 0 and closed_brackets_remaining == 0:\n",
    "            ans.append(cur)\n",
    "\n",
    "        self.helper(open_brackets_remaining - 1, closed_brackets_remaining, ans, cur + '(') \n",
    "        self.helper(open_brackets_remaining, closed_brackets_remaining - 1, ans, cur + ')')\n",
    "        return None\n",
    "\n",
    "    def generateParenthesis(self, n: int) -> List[str]:\n",
    "        ans = []\n",
    "        self.helper(n, n, ans, \"\")\n",
    "        return ans"
   ]
  },
  {
   "cell_type": "code",
   "execution_count": 6,
   "metadata": {},
   "outputs": [
    {
     "name": "stdout",
     "output_type": "stream",
     "text": [
      "['((()))', '(()())', '(())()', '()(())', '()()()']\n"
     ]
    }
   ],
   "source": [
    "sol = Solution()\n",
    "print(sol.generateParenthesis(3))"
   ]
  }
 ],
 "metadata": {
  "kernelspec": {
   "display_name": "Python 3.10.4 ('template-venv': venv)",
   "language": "python",
   "name": "python3"
  },
  "language_info": {
   "codemirror_mode": {
    "name": "ipython",
    "version": 3
   },
   "file_extension": ".py",
   "mimetype": "text/x-python",
   "name": "python",
   "nbconvert_exporter": "python",
   "pygments_lexer": "ipython3",
   "version": "3.10.4"
  },
  "orig_nbformat": 4,
  "vscode": {
   "interpreter": {
    "hash": "0b8dd1d11c220dfc9d15848c82c145ba1a021fcb056c07a0cc073ae3ed6d8420"
   }
  }
 },
 "nbformat": 4,
 "nbformat_minor": 2
}
