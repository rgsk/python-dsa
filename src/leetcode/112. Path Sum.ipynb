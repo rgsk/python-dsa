{
 "cells": [
  {
   "cell_type": "code",
   "execution_count": 12,
   "metadata": {},
   "outputs": [],
   "source": [
    "# https://leetcode.com/problems/path-sum/\n",
    "from typing import Optional\n",
    "\n",
    "class TreeNode:\n",
    "    def __init__(self, val=0, left=None, right=None):\n",
    "        self.val = val\n",
    "        self.left = left\n",
    "        self.right = right\n",
    "\n",
    "    def __repr__(self) -> str:\n",
    "        return str(getList(self))\n",
    "\n",
    "        \n",
    "\n",
    "def formTree(values: list[int | None]):\n",
    "    if not values: return None\n",
    "    root = TreeNode(values[0])\n",
    "    queue = [root]\n",
    "    i = 1\n",
    "    while i < len(values):\n",
    "        top = queue.pop(0)\n",
    "        if not top: continue\n",
    "        top.left = TreeNode(values[i]) if values[i] != None else None \n",
    "        i += 1\n",
    "        queue.append(top.left)\n",
    "        if i < len(values):\n",
    "            top.right = TreeNode(values[i]) if values[i] != None else None \n",
    "            i += 1\n",
    "            queue.append(top.right)\n",
    "    return root\n",
    "\n",
    "def getList(root: Optional[TreeNode]):\n",
    "    ans: list[int] = []\n",
    "    queue = [root]\n",
    "    while len(queue) > 0:\n",
    "        top = queue.pop(0)\n",
    "        ans.append(top and top.val)\n",
    "        if top:\n",
    "            queue.append(top.left)\n",
    "            queue.append(top.right)\n",
    "\n",
    "    # remove all None from end of ans\n",
    "    i = len(ans) - 1\n",
    "    while i >= 0 and ans[i] == None:\n",
    "        i -= 1\n",
    "    return ans[0: i + 1]"
   ]
  },
  {
   "cell_type": "code",
   "execution_count": 13,
   "metadata": {},
   "outputs": [
    {
     "name": "stdout",
     "output_type": "stream",
     "text": [
      "[5, 4, 8, 11, None, 13, 4, 7, 2, None, None, None, 1]\n"
     ]
    }
   ],
   "source": [
    "values = [5,4,8,11,None,13,4,7,2,None,None,None,1]\n",
    "root = formTree(values)\n",
    "print(root)"
   ]
  },
  {
   "cell_type": "code",
   "execution_count": 14,
   "metadata": {},
   "outputs": [],
   "source": [
    "class Solution:\n",
    "    def helper(self, root: Optional[TreeNode], remainingSum: int) -> bool:\n",
    "        if root == None:\n",
    "            return False\n",
    "        newRemainingSum = remainingSum - root.val\n",
    "        if newRemainingSum == 0 and root.left == None and root.right == None:\n",
    "            return True\n",
    "        return self.helper(root.left, newRemainingSum) or self.helper(root.right, newRemainingSum)\n",
    "        \n",
    "    def hasPathSum(self, root: Optional[TreeNode], targetSum: int) -> bool:\n",
    "        return self.helper(root, targetSum)"
   ]
  },
  {
   "cell_type": "code",
   "execution_count": 15,
   "metadata": {},
   "outputs": [
    {
     "name": "stdout",
     "output_type": "stream",
     "text": [
      "True\n"
     ]
    }
   ],
   "source": [
    "root = formTree([5,4,8,11,None,13,4,7,2,None,None,None,1])\n",
    "targetSum = 22\n",
    "sol = Solution()\n",
    "print(sol.hasPathSum(root, targetSum))"
   ]
  },
  {
   "cell_type": "code",
   "execution_count": 16,
   "metadata": {},
   "outputs": [
    {
     "name": "stdout",
     "output_type": "stream",
     "text": [
      "False\n"
     ]
    }
   ],
   "source": [
    "root = formTree([1,2,3])\n",
    "targetSum = 5\n",
    "sol = Solution()\n",
    "print(sol.hasPathSum(root, targetSum))"
   ]
  },
  {
   "cell_type": "code",
   "execution_count": 17,
   "metadata": {},
   "outputs": [
    {
     "name": "stdout",
     "output_type": "stream",
     "text": [
      "False\n"
     ]
    }
   ],
   "source": [
    "root = formTree([])\n",
    "targetSum = 0\n",
    "sol = Solution()\n",
    "print(sol.hasPathSum(root, targetSum))"
   ]
  },
  {
   "cell_type": "code",
   "execution_count": 18,
   "metadata": {},
   "outputs": [
    {
     "name": "stdout",
     "output_type": "stream",
     "text": [
      "False\n"
     ]
    }
   ],
   "source": [
    "root = formTree([1,2])\n",
    "targetSum = 1\n",
    "sol = Solution()\n",
    "print(sol.hasPathSum(root, targetSum))"
   ]
  }
 ],
 "metadata": {
  "kernelspec": {
   "display_name": "Python 3.10.4 ('template-venv': venv)",
   "language": "python",
   "name": "python3"
  },
  "language_info": {
   "codemirror_mode": {
    "name": "ipython",
    "version": 3
   },
   "file_extension": ".py",
   "mimetype": "text/x-python",
   "name": "python",
   "nbconvert_exporter": "python",
   "pygments_lexer": "ipython3",
   "version": "3.10.4"
  },
  "orig_nbformat": 4,
  "vscode": {
   "interpreter": {
    "hash": "0b8dd1d11c220dfc9d15848c82c145ba1a021fcb056c07a0cc073ae3ed6d8420"
   }
  }
 },
 "nbformat": 4,
 "nbformat_minor": 2
}
