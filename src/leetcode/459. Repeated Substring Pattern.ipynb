{
 "cells": [
  {
   "cell_type": "code",
   "execution_count": 26,
   "metadata": {},
   "outputs": [],
   "source": [
    "\n",
    "def divisible(s: str, sub_str: str):\n",
    "    s_len = len(s)\n",
    "    sub_str_len = len(sub_str)\n",
    "    count = s_len//sub_str_len\n",
    "    return sub_str * count == s\n",
    "class Solution:\n",
    "    def repeatedSubstringPattern(self, s: str) -> bool:\n",
    "        for i in range(1,len(s)//2+1):\n",
    "            sub_str = s[:i]\n",
    "            if divisible(s, sub_str):\n",
    "                return True\n",
    "        return False"
   ]
  },
  {
   "cell_type": "code",
   "execution_count": 27,
   "metadata": {},
   "outputs": [],
   "source": [
    "# https://leetcode.com/problems/repeated-substring-pattern/solutions/94334/easy-python-solution-with-explaination/\n",
    "'''\n",
    "The explanation for why that works is pretty straight forward.\n",
    "\n",
    "Consider a string S=\"helloworld\". Now, given another string T=\"lloworldhe\", can we figure out if T is a rotated version of S? Yes, we can! We check if S is a substring of T+T.\n",
    "\n",
    "Fine. How do we apply that to this problem? We consider every rotation of string S such that it's rotated by k units [k < len(S)] to the left. Specifically, we're looking at strings \"elloworldh\", \"lloworldhe\", \"loworldhel\", etc...\n",
    "\n",
    "If we have a string that is periodic (i.e. is made up of strings that are the same and repeat R times), then we can check if the string is equal to some rotation of itself, and if it is, then we know that the string is periodic. \n",
    "Checking if S is a sub-string of (S+S)[1:-1] basically checks if the string is present in a rotation of itself for all values of R such that 0 < R < len(S).\n",
    "'''\n",
    "class Solution:\n",
    "    def repeatedSubstringPattern(self, s: str):\n",
    "            return s in (2 * s)[1:-1]"
   ]
  },
  {
   "cell_type": "code",
   "execution_count": 28,
   "metadata": {},
   "outputs": [
    {
     "data": {
      "text/plain": [
       "True"
      ]
     },
     "execution_count": 28,
     "metadata": {},
     "output_type": "execute_result"
    }
   ],
   "source": [
    "s = \"abab\"\n",
    "sol = Solution()\n",
    "sol.repeatedSubstringPattern(s)"
   ]
  },
  {
   "cell_type": "code",
   "execution_count": null,
   "metadata": {},
   "outputs": [],
   "source": [
    "# bababababa"
   ]
  },
  {
   "cell_type": "code",
   "execution_count": 29,
   "metadata": {},
   "outputs": [
    {
     "data": {
      "text/plain": [
       "True"
      ]
     },
     "execution_count": 29,
     "metadata": {},
     "output_type": "execute_result"
    }
   ],
   "source": [
    "s = \"abcabcabcabc\"\n",
    "sol = Solution()\n",
    "sol.repeatedSubstringPattern(s)"
   ]
  }
 ],
 "metadata": {
  "kernelspec": {
   "display_name": "base",
   "language": "python",
   "name": "python3"
  },
  "language_info": {
   "codemirror_mode": {
    "name": "ipython",
    "version": 3
   },
   "file_extension": ".py",
   "mimetype": "text/x-python",
   "name": "python",
   "nbconvert_exporter": "python",
   "pygments_lexer": "ipython3",
   "version": "3.11.3"
  },
  "orig_nbformat": 4
 },
 "nbformat": 4,
 "nbformat_minor": 2
}
