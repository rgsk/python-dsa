{
 "cells": [
  {
   "cell_type": "code",
   "execution_count": 48,
   "metadata": {},
   "outputs": [],
   "source": [
    "from typing import List\n",
    "\n",
    "ops = ['*','+','-']\n",
    "class Solution:\n",
    "    def addOperators(self, num: str, target: int) -> List[str]:\n",
    "        ans = []\n",
    "        nums = [int(v) for v in num]\n",
    "        def helper(currentIndex=0, currentString=\"\"):\n",
    "            if currentIndex == len(nums):\n",
    "                if eval(currentString) == target:\n",
    "                    ans.append(currentString)\n",
    "                return\n",
    "            if not any([currentString.endswith(op + '0')  for op in ops]) and currentString != '0':\n",
    "                helper(currentIndex+1, currentString+f'{nums[currentIndex]}')\n",
    "            if currentString and not any([currentString.endswith(op) for op in ops]):\n",
    "                for op in ops:\n",
    "                    helper(currentIndex, currentString+op)\n",
    "        helper()\n",
    "        return ans"
   ]
  },
  {
   "cell_type": "code",
   "execution_count": 49,
   "metadata": {},
   "outputs": [],
   "source": [
    "from typing import List\n",
    "\n",
    "class Solution:\n",
    "    def addOperators(self, num: str, target: int) -> List[str]:\n",
    "        L = len(num)\n",
    "        ans = []\n",
    "    \n",
    "        def backtrack(i, total, last, expr):\n",
    "            if i == L:\n",
    "                if total == target:\n",
    "                    ans.append(expr)\n",
    "                return\n",
    "            \n",
    "            for j in range(i, L):\n",
    "                n = int(num[i:j+1])\n",
    "                if i == 0:\n",
    "                    backtrack(j+1, n, n, str(n))\n",
    "                else:\n",
    "                    backtrack(j+1, total + n, n, expr + '+' + str(n))\n",
    "                    backtrack(j+1, total - n, -n, expr + '-' + str(n))\n",
    "                    backtrack(j+1, total - last + last * n, last * n, expr + '*' + str(n))\n",
    "                if n == 0:\n",
    "                    break\n",
    "                \n",
    "        backtrack(0, 0, 0, '')\n",
    "        return ans"
   ]
  },
  {
   "cell_type": "code",
   "execution_count": 50,
   "metadata": {},
   "outputs": [
    {
     "data": {
      "text/plain": [
       "['1*2*3', '1+2+3']"
      ]
     },
     "execution_count": 50,
     "metadata": {},
     "output_type": "execute_result"
    }
   ],
   "source": [
    "num = \"123\"\n",
    "target = 6\n",
    "sol = Solution()\n",
    "sol.addOperators(num, target)"
   ]
  },
  {
   "cell_type": "code",
   "execution_count": 51,
   "metadata": {},
   "outputs": [
    {
     "data": {
      "text/plain": [
       "['2*3+2', '2+3*2']"
      ]
     },
     "execution_count": 51,
     "metadata": {},
     "output_type": "execute_result"
    }
   ],
   "source": [
    "num = \"232\"\n",
    "target = 8\n",
    "sol = Solution()\n",
    "sol.addOperators(num, target)"
   ]
  },
  {
   "cell_type": "code",
   "execution_count": 52,
   "metadata": {},
   "outputs": [
    {
     "data": {
      "text/plain": [
       "['1*0+5', '10-5']"
      ]
     },
     "execution_count": 52,
     "metadata": {},
     "output_type": "execute_result"
    }
   ],
   "source": [
    "num =\"105\"\n",
    "target =5\n",
    "sol = Solution()\n",
    "sol.addOperators(num, target)"
   ]
  },
  {
   "cell_type": "code",
   "execution_count": 53,
   "metadata": {},
   "outputs": [
    {
     "data": {
      "text/plain": [
       "['0-0', '0+0', '0*0']"
      ]
     },
     "execution_count": 53,
     "metadata": {},
     "output_type": "execute_result"
    }
   ],
   "source": [
    "num =\"00\"\n",
    "target =0\n",
    "sol = Solution()\n",
    "sol.addOperators(num, target)"
   ]
  }
 ],
 "metadata": {
  "kernelspec": {
   "display_name": "dsa-venv",
   "language": "python",
   "name": "python3"
  },
  "language_info": {
   "codemirror_mode": {
    "name": "ipython",
    "version": 3
   },
   "file_extension": ".py",
   "mimetype": "text/x-python",
   "name": "python",
   "nbconvert_exporter": "python",
   "pygments_lexer": "ipython3",
   "version": "3.11.3"
  },
  "orig_nbformat": 4
 },
 "nbformat": 4,
 "nbformat_minor": 2
}
