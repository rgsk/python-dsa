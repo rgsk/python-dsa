{
 "cells": [
  {
   "cell_type": "code",
   "execution_count": null,
   "metadata": {},
   "outputs": [],
   "source": [
    "INT_MIN = -(2 ** 31)\n",
    "INT_MAX = (2 ** 31)-1\n",
    "\n",
    "class Solution:\n",
    "    def myAtoi(self, s: str) -> int:\n",
    "        s = s.strip()\n",
    "        if not s:\n",
    "            return 0\n",
    "        fs = \"\"\n",
    "        neg = s[0] == \"-\"\n",
    "        pos = s[0] == \"+\"\n",
    "        for v in s[1 if neg or pos else 0:]:\n",
    "            if v.isdigit():\n",
    "                fs += v\n",
    "            else:\n",
    "                break\n",
    "        val = int(fs or \"0\")\n",
    "        if neg:\n",
    "            return  min(max(-val, INT_MIN), INT_MAX)\n",
    "        return min(max(val, INT_MIN), INT_MAX)"
   ]
  }
 ],
 "metadata": {
  "kernelspec": {
   "display_name": "base",
   "language": "python",
   "name": "python3"
  },
  "language_info": {
   "codemirror_mode": {
    "name": "ipython",
    "version": 3
   },
   "file_extension": ".py",
   "mimetype": "text/x-python",
   "name": "python",
   "nbconvert_exporter": "python",
   "pygments_lexer": "ipython3",
   "version": "3.11.3"
  },
  "orig_nbformat": 4
 },
 "nbformat": 4,
 "nbformat_minor": 2
}
