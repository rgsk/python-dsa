{
 "cells": [
  {
   "cell_type": "code",
   "execution_count": 23,
   "metadata": {},
   "outputs": [],
   "source": [
    "# https://leetcode.com/problems/serialize-and-deserialize-binary-tree/description/\n"
   ]
  },
  {
   "cell_type": "code",
   "execution_count": 24,
   "metadata": {},
   "outputs": [],
   "source": [
    "import sys\n",
    "sys.path.append('..')\n",
    "\n",
    "\n",
    "from lib.TreeNode import *"
   ]
  },
  {
   "cell_type": "code",
   "execution_count": 25,
   "metadata": {},
   "outputs": [],
   "source": [
    "def getList(root: Optional[TreeNode]):\n",
    "    ans: list[None | int] = []\n",
    "    queue = [root]\n",
    "    while len(queue) > 0:\n",
    "        top = queue.pop(0)\n",
    "        if top is not None:\n",
    "            ans.append(top.val)\n",
    "        else:\n",
    "            ans.append(None)\n",
    "        if top:\n",
    "            queue.append(top.left)\n",
    "            queue.append(top.right)\n",
    "\n",
    "    # remove all None from end of ans\n",
    "    i = len(ans) - 1\n",
    "    while i >= 0 and ans[i] == None:\n",
    "        i -= 1\n",
    "    return ans[0: i + 1]\n",
    "\n",
    "\n",
    "def formTree(values: list[int | None]):\n",
    "    if not values:\n",
    "        return None\n",
    "    if values[0] is None:\n",
    "        return None\n",
    "    root = TreeNode(values[0])\n",
    "    queue: List[Optional[TreeNode]] = [root]\n",
    "    i = 1\n",
    "    while i < len(values):\n",
    "        top = queue.pop(0)\n",
    "        if top is not None:\n",
    "            top.left = TreeNode(values[i]) if values[i] != None else None\n",
    "            i += 1\n",
    "            queue.append(top.left)\n",
    "            if i < len(values):\n",
    "                top.right = TreeNode(values[i]) if values[i] != None else None\n",
    "                i += 1\n",
    "                queue.append(top.right)\n",
    "        else:\n",
    "            continue\n",
    "    return root\n",
    "\n",
    "class Codec:\n",
    "\n",
    "    def serialize(self, root):\n",
    "        \"\"\"Encodes a tree to a single string.\n",
    "        \n",
    "        :type root: TreeNode\n",
    "        :rtype: str\n",
    "        \"\"\"\n",
    "        return str(getList(root))\n",
    "        \n",
    "\n",
    "    def deserialize(self, data):\n",
    "        \"\"\"Decodes your encoded data to tree.\n",
    "        \n",
    "        :type data: str\n",
    "        :rtype: TreeNode\n",
    "        \"\"\"\n",
    "        return formTree(eval(data))\n",
    "\n",
    "        \n",
    "\n",
    "# Your Codec object will be instantiated and called as such:\n"
   ]
  },
  {
   "cell_type": "code",
   "execution_count": 26,
   "metadata": {},
   "outputs": [
    {
     "name": "stdout",
     "output_type": "stream",
     "text": [
      " 1_  \n",
      "/  \\ \n",
      "2  3 \n",
      "  / \\\n",
      "  4 5\n",
      " 1_  \n",
      "/  \\ \n",
      "2  3 \n",
      "  / \\\n",
      "  4 5\n"
     ]
    }
   ],
   "source": [
    "root = formTree([1,2,3,None,None,4,5])\n",
    "root.display()\n",
    "ser = Codec()\n",
    "deser = Codec()\n",
    "ans = deser.deserialize(ser.serialize(root))\n",
    "ans.display()"
   ]
  },
  {
   "cell_type": "code",
   "execution_count": null,
   "metadata": {},
   "outputs": [],
   "source": []
  },
  {
   "cell_type": "code",
   "execution_count": null,
   "metadata": {},
   "outputs": [],
   "source": []
  }
 ],
 "metadata": {
  "kernelspec": {
   "display_name": "venv",
   "language": "python",
   "name": "python3"
  },
  "language_info": {
   "codemirror_mode": {
    "name": "ipython",
    "version": 3
   },
   "file_extension": ".py",
   "mimetype": "text/x-python",
   "name": "python",
   "nbconvert_exporter": "python",
   "pygments_lexer": "ipython3",
   "version": "3.11.3"
  }
 },
 "nbformat": 4,
 "nbformat_minor": 2
}
