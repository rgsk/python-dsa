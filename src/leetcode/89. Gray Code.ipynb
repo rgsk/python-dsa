{
 "cells": [
  {
   "cell_type": "code",
   "execution_count": null,
   "metadata": {},
   "outputs": [],
   "source": [
    "# https://leetcode.com/problems/gray-code/"
   ]
  },
  {
   "cell_type": "markdown",
   "metadata": {},
   "source": [
    "each subsequent number in sequence differs by just 1 bit\n",
    "\n",
    "for 1 - \n",
    "0\n",
    "1\n",
    "\n",
    "[0, 1]\n",
    "\n",
    "for 2 - \n",
    "00\n",
    "10\n",
    "11\n",
    "01\n",
    "\n",
    "[0, 2, 3, 1]\n",
    "\n",
    "for 3 - \n",
    "000\n",
    "100\n",
    "110\n",
    "010\n",
    "011\n",
    "111\n",
    "101\n",
    "001\n",
    "\n",
    "[0, 4, 6, 2, 3, 7, 5, 1]"
   ]
  },
  {
   "cell_type": "code",
   "execution_count": 6,
   "metadata": {},
   "outputs": [],
   "source": [
    "from typing import List\n",
    "\n",
    "\n",
    "class Solution:\n",
    "    def grayCode(self, n: int) -> List[int]:\n",
    "        def helper(n):\n",
    "            if n == 1:\n",
    "                return ['0', '1']\n",
    "            ans = helper(n - 1)\n",
    "            return [v + '0' for v in ans] + [v + '1' for v in reversed(ans)]\n",
    "        res = helper(n)\n",
    "        return [int(v, 2) for v in res]"
   ]
  },
  {
   "cell_type": "code",
   "execution_count": 7,
   "metadata": {},
   "outputs": [
    {
     "data": {
      "text/plain": [
       "[0, 1]"
      ]
     },
     "execution_count": 7,
     "metadata": {},
     "output_type": "execute_result"
    }
   ],
   "source": [
    "sol = Solution()\n",
    "sol.grayCode(1)"
   ]
  },
  {
   "cell_type": "code",
   "execution_count": 8,
   "metadata": {},
   "outputs": [
    {
     "data": {
      "text/plain": [
       "[0, 2, 3, 1]"
      ]
     },
     "execution_count": 8,
     "metadata": {},
     "output_type": "execute_result"
    }
   ],
   "source": [
    "sol = Solution()\n",
    "sol.grayCode(2)"
   ]
  },
  {
   "cell_type": "code",
   "execution_count": 9,
   "metadata": {},
   "outputs": [
    {
     "data": {
      "text/plain": [
       "[0, 4, 6, 2, 3, 7, 5, 1]"
      ]
     },
     "execution_count": 9,
     "metadata": {},
     "output_type": "execute_result"
    }
   ],
   "source": [
    "sol = Solution()\n",
    "sol.grayCode(3)"
   ]
  }
 ],
 "metadata": {
  "kernelspec": {
   "display_name": "dsa-venv",
   "language": "python",
   "name": "python3"
  },
  "language_info": {
   "codemirror_mode": {
    "name": "ipython",
    "version": 3
   },
   "file_extension": ".py",
   "mimetype": "text/x-python",
   "name": "python",
   "nbconvert_exporter": "python",
   "pygments_lexer": "ipython3",
   "version": "3.11.3"
  }
 },
 "nbformat": 4,
 "nbformat_minor": 2
}
