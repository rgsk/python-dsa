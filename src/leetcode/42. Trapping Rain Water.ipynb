{
 "cells": [
  {
   "cell_type": "code",
   "execution_count": 84,
   "metadata": {},
   "outputs": [],
   "source": [
    "from typing import List\n",
    "\n",
    "\n",
    "class Solution:\n",
    "    def trap(self, height: List[int]) -> int:\n",
    "        ans = 0\n",
    "        for i in range(len(height)):\n",
    "            maxOnLeft = 0\n",
    "            for l in range(i, -1, -1):\n",
    "                maxOnLeft = max(height[l], maxOnLeft)\n",
    "\n",
    "            maxOnRight = 0\n",
    "            for r in range(i, len(height)):\n",
    "                maxOnRight = max(height[r], maxOnRight)\n",
    "            \n",
    "            minOfLeftAndRight = min(maxOnLeft, maxOnRight)\n",
    "            waterForThisBlock = minOfLeftAndRight - height[i]\n",
    "            ans += waterForThisBlock\n",
    "\n",
    "        return ans"
   ]
  },
  {
   "cell_type": "code",
   "execution_count": 85,
   "metadata": {},
   "outputs": [
    {
     "name": "stdout",
     "output_type": "stream",
     "text": [
      "6\n"
     ]
    }
   ],
   "source": [
    "height = [0,1,0,2,1,0,1,3,2,1,2,1]\n",
    "sol = Solution()\n",
    "print(sol.trap(height))"
   ]
  },
  {
   "cell_type": "code",
   "execution_count": 86,
   "metadata": {},
   "outputs": [
    {
     "name": "stdout",
     "output_type": "stream",
     "text": [
      "9\n"
     ]
    }
   ],
   "source": [
    "height = [4,2,0,3,2,5]\n",
    "sol = Solution()\n",
    "print(sol.trap(height))"
   ]
  },
  {
   "cell_type": "code",
   "execution_count": 87,
   "metadata": {},
   "outputs": [],
   "source": [
    "from typing import List\n",
    "\n",
    "\n",
    "class Solution:\n",
    "    def trap(self, height: List[int]) -> int:\n",
    "        n = len(height)\n",
    "        ans = 0\n",
    "        maxOnRights = [v for v in height]\n",
    "        maxOnLefts = [v for v in height]\n",
    "\n",
    "        for i in range(1, n):\n",
    "            maxOnLefts[i] = max(maxOnLefts[i-1], maxOnLefts[i])\n",
    "        for i in range(n-2, -1, -1):\n",
    "            maxOnRights[i] = max(maxOnRights[i+1], maxOnRights[i])\n",
    "\n",
    "        for i in range(n):\n",
    "            minOfLeftAndRight = min(maxOnLefts[i], maxOnRights[i])\n",
    "            waterForThisBlock = minOfLeftAndRight - height[i]\n",
    "            ans += waterForThisBlock\n",
    "\n",
    "        return ans"
   ]
  },
  {
   "cell_type": "code",
   "execution_count": 88,
   "metadata": {},
   "outputs": [
    {
     "name": "stdout",
     "output_type": "stream",
     "text": [
      "6\n"
     ]
    }
   ],
   "source": [
    "height = [0,1,0,2,1,0,1,3,2,1,2,1]\n",
    "sol = Solution()\n",
    "print(sol.trap(height))"
   ]
  },
  {
   "cell_type": "code",
   "execution_count": 89,
   "metadata": {},
   "outputs": [
    {
     "name": "stdout",
     "output_type": "stream",
     "text": [
      "9\n"
     ]
    }
   ],
   "source": [
    "height = [4,2,0,3,2,5]\n",
    "sol = Solution()\n",
    "print(sol.trap(height))"
   ]
  },
  {
   "cell_type": "code",
   "execution_count": 90,
   "metadata": {},
   "outputs": [],
   "source": [
    "class Solution:\n",
    "    def trap(self, height: List[int]) -> int:\n",
    "        l = 0\n",
    "        r = len(height) - 1\n",
    "        lmax = 0\n",
    "        rmax = 0\n",
    "        water = 0\n",
    "        while l <= r:\n",
    "            lmax = max(lmax, height[l])\n",
    "            rmax = max(rmax, height[r])\n",
    "            if lmax < rmax:\n",
    "                water += lmax - height[l]\n",
    "                l += 1\n",
    "            else:\n",
    "                water += rmax - height[r]\n",
    "                r -= 1\n",
    "        return water"
   ]
  },
  {
   "cell_type": "code",
   "execution_count": 91,
   "metadata": {},
   "outputs": [
    {
     "name": "stdout",
     "output_type": "stream",
     "text": [
      "6\n"
     ]
    }
   ],
   "source": [
    "height = [0,1,0,2,1,0,1,3,2,1,2,1]\n",
    "sol = Solution()\n",
    "print(sol.trap(height))"
   ]
  },
  {
   "cell_type": "code",
   "execution_count": 92,
   "metadata": {},
   "outputs": [
    {
     "name": "stdout",
     "output_type": "stream",
     "text": [
      "9\n"
     ]
    }
   ],
   "source": [
    "height = [4,2,0,3,2,5]\n",
    "sol = Solution()\n",
    "print(sol.trap(height))"
   ]
  }
 ],
 "metadata": {
  "kernelspec": {
   "display_name": "Python 3.10.4 ('template-venv': venv)",
   "language": "python",
   "name": "python3"
  },
  "language_info": {
   "codemirror_mode": {
    "name": "ipython",
    "version": 3
   },
   "file_extension": ".py",
   "mimetype": "text/x-python",
   "name": "python",
   "nbconvert_exporter": "python",
   "pygments_lexer": "ipython3",
   "version": "3.10.4"
  },
  "orig_nbformat": 4,
  "vscode": {
   "interpreter": {
    "hash": "0b8dd1d11c220dfc9d15848c82c145ba1a021fcb056c07a0cc073ae3ed6d8420"
   }
  }
 },
 "nbformat": 4,
 "nbformat_minor": 2
}
