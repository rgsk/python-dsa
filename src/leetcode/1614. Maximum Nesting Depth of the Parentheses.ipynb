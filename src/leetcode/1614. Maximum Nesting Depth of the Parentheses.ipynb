{
 "cells": [
  {
   "cell_type": "code",
   "execution_count": 8,
   "metadata": {},
   "outputs": [],
   "source": [
    "import string\n",
    "class Solution:\n",
    "    def maxDepth(self, s: str) -> int:\n",
    "        openBrackets = 0\n",
    "        ans = 0\n",
    "        for v in s:\n",
    "            if v == \"(\":\n",
    "                openBrackets += 1\n",
    "            elif v == \")\": \n",
    "                openBrackets -= 1\n",
    "            ans = max(ans, openBrackets)\n",
    "        return ans "
   ]
  },
  {
   "cell_type": "code",
   "execution_count": 9,
   "metadata": {},
   "outputs": [
    {
     "data": {
      "text/plain": [
       "3"
      ]
     },
     "execution_count": 9,
     "metadata": {},
     "output_type": "execute_result"
    }
   ],
   "source": [
    "s = \"(1+(2*3)+((8)/4))+1\"\n",
    "sol = Solution()\n",
    "sol.maxDepth(s)"
   ]
  },
  {
   "cell_type": "code",
   "execution_count": 10,
   "metadata": {},
   "outputs": [
    {
     "data": {
      "text/plain": [
       "3"
      ]
     },
     "execution_count": 10,
     "metadata": {},
     "output_type": "execute_result"
    }
   ],
   "source": [
    "s = \"(1)+((2))+(((3)))\"\n",
    "sol = Solution()\n",
    "sol.maxDepth(s)"
   ]
  },
  {
   "cell_type": "code",
   "execution_count": null,
   "metadata": {},
   "outputs": [],
   "source": []
  }
 ],
 "metadata": {
  "kernelspec": {
   "display_name": "base",
   "language": "python",
   "name": "python3"
  },
  "language_info": {
   "codemirror_mode": {
    "name": "ipython",
    "version": 3
   },
   "file_extension": ".py",
   "mimetype": "text/x-python",
   "name": "python",
   "nbconvert_exporter": "python",
   "pygments_lexer": "ipython3",
   "version": "3.11.3"
  },
  "orig_nbformat": 4
 },
 "nbformat": 4,
 "nbformat_minor": 2
}
