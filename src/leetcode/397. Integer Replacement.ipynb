{
 "cells": [
  {
   "cell_type": "code",
   "execution_count": 65,
   "metadata": {},
   "outputs": [],
   "source": [
    "class Solution:\n",
    "    def integerReplacement(self, n: int) -> int:\n",
    "        def helper(e):\n",
    "            if e == 1:\n",
    "                return 0\n",
    "            if e % 2:\n",
    "                return 1 + min(helper(e + 1), helper(e - 1))\n",
    "            else:\n",
    "                return 1 + helper(e/2)\n",
    "        return helper(n)"
   ]
  },
  {
   "cell_type": "code",
   "execution_count": 66,
   "metadata": {},
   "outputs": [],
   "source": [
    "from functools import cache\n",
    "\n",
    "'''\n",
    "Runtime\n",
    "Beats 85.11%of users with Python3\n",
    "Memory\n",
    "Beats 37.14%of users with Python3\n",
    "'''\n",
    "class Solution:\n",
    "    def integerReplacement(self, n: int) -> int:\n",
    "        @cache\n",
    "        def helper(e):\n",
    "            if e == 1:\n",
    "                return 0\n",
    "            if e % 2:\n",
    "                return 1 + min(helper(e + 1), helper(e - 1))\n",
    "            else:\n",
    "                return 1 + helper(e/2)\n",
    "        return helper(n)"
   ]
  },
  {
   "cell_type": "code",
   "execution_count": 67,
   "metadata": {},
   "outputs": [],
   "source": [
    "# momory limit exceeded\n",
    "class Solution:\n",
    "    def integerReplacement(self, n: int) -> int:\n",
    "        dp = [-1] * (n+2)\n",
    "        def helper(e):\n",
    "            if e == 1:\n",
    "                return 0\n",
    "            if dp[e] != -1:\n",
    "                return dp[e]\n",
    "            if e % 2:\n",
    "                dp[e] = 1 + min(helper(e + 1), helper(e - 1))\n",
    "            else:\n",
    "                dp[e] = 1 + helper(e//2)\n",
    "            return dp[e]\n",
    "        return helper(n)"
   ]
  },
  {
   "cell_type": "code",
   "execution_count": 68,
   "metadata": {},
   "outputs": [],
   "source": [
    "# accepted\n",
    "class Solution:\n",
    "    def integerReplacement(self, n: int) -> int:\n",
    "        dp = {}\n",
    "        def helper(e):\n",
    "            if e == 1:\n",
    "                return 0\n",
    "            if e in dp:\n",
    "                return dp[e]\n",
    "            if e % 2:\n",
    "                dp[e] = 1 + min(helper(e + 1), helper(e - 1))\n",
    "            else:\n",
    "                dp[e] = 1 + helper(e//2)\n",
    "            return dp[e]\n",
    "        return helper(n)"
   ]
  },
  {
   "cell_type": "code",
   "execution_count": 69,
   "metadata": {},
   "outputs": [],
   "source": [
    "# greedy solution\n",
    "# The idea is that you better remove as many binary 1's as you can for odd numbers. So if n ends with \"11\" (binary) you add 1 (except for n == 3), and if it ends with \"01\" you do -1.\n",
    "# https://leetcode.com/problems/integer-replacement/solutions/88062/is-this-greedy-solution-correct/\n",
    "class Solution:\n",
    "    def integerReplacement(self, n: int) -> int:\n",
    "        # try for 13 and 15\n",
    "        if n < 4: return [0, 0, 1, 2][n]\n",
    "        rem = n % 4\n",
    "        if rem == 0 or rem == 2:\n",
    "            return self.integerReplacement(n//2) + 1\n",
    "        elif rem == 1:\n",
    "            return self.integerReplacement((n-1)//4) + 3\n",
    "        elif rem == 3:\n",
    "            return self.integerReplacement((n+1)//4) + 3"
   ]
  },
  {
   "cell_type": "code",
   "execution_count": 70,
   "metadata": {},
   "outputs": [
    {
     "data": {
      "text/plain": [
       "3"
      ]
     },
     "execution_count": 70,
     "metadata": {},
     "output_type": "execute_result"
    }
   ],
   "source": [
    "n = 8\n",
    "sol = Solution()\n",
    "sol.integerReplacement(n)"
   ]
  },
  {
   "cell_type": "code",
   "execution_count": 71,
   "metadata": {},
   "outputs": [
    {
     "data": {
      "text/plain": [
       "4"
      ]
     },
     "execution_count": 71,
     "metadata": {},
     "output_type": "execute_result"
    }
   ],
   "source": [
    "n = 7\n",
    "sol = Solution()\n",
    "sol.integerReplacement(n)"
   ]
  },
  {
   "cell_type": "code",
   "execution_count": 72,
   "metadata": {},
   "outputs": [
    {
     "data": {
      "text/plain": [
       "2"
      ]
     },
     "execution_count": 72,
     "metadata": {},
     "output_type": "execute_result"
    }
   ],
   "source": [
    "n = 4\n",
    "sol = Solution()\n",
    "sol.integerReplacement(n)"
   ]
  },
  {
   "cell_type": "code",
   "execution_count": 73,
   "metadata": {},
   "outputs": [
    {
     "data": {
      "text/plain": [
       "'0b1101'"
      ]
     },
     "execution_count": 73,
     "metadata": {},
     "output_type": "execute_result"
    }
   ],
   "source": [
    "bin(13)"
   ]
  },
  {
   "cell_type": "code",
   "execution_count": 74,
   "metadata": {},
   "outputs": [
    {
     "data": {
      "text/plain": [
       "'0b1111'"
      ]
     },
     "execution_count": 74,
     "metadata": {},
     "output_type": "execute_result"
    }
   ],
   "source": [
    "bin(15)"
   ]
  }
 ],
 "metadata": {
  "kernelspec": {
   "display_name": "dsa-venv",
   "language": "python",
   "name": "python3"
  },
  "language_info": {
   "codemirror_mode": {
    "name": "ipython",
    "version": 3
   },
   "file_extension": ".py",
   "mimetype": "text/x-python",
   "name": "python",
   "nbconvert_exporter": "python",
   "pygments_lexer": "ipython3",
   "version": "3.11.3"
  },
  "orig_nbformat": 4
 },
 "nbformat": 4,
 "nbformat_minor": 2
}
