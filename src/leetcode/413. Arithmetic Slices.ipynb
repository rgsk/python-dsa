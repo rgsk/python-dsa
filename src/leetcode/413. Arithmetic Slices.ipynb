{
 "cells": [
  {
   "cell_type": "code",
   "execution_count": 37,
   "metadata": {},
   "outputs": [],
   "source": [
    "import math\n",
    "from typing import List\n",
    "\n",
    "def count_subarrays(minLength, n):\n",
    "    total_subarrays = 0\n",
    "\n",
    "    for length in range(minLength, n + 1):\n",
    "        total_subarrays += n - length + 1\n",
    "\n",
    "    return total_subarrays\n",
    "\n",
    "# accepted\n",
    "class Solution:\n",
    "    def numberOfArithmeticSlices(self, nums: List[int]) -> int:\n",
    "        if len(nums) < 3:\n",
    "            return 0\n",
    "        nums += [math.inf]\n",
    "        diff = nums[1] - nums[0]\n",
    "        start = 0\n",
    "        n = len(nums)\n",
    "        ans = 0\n",
    "       \n",
    "        for i in range(2, n):\n",
    "            if nums[i] - nums[i-1] != diff:\n",
    "                length = i - 1 - start + 1\n",
    "                ans += count_subarrays(3, length)\n",
    "                diff = nums[i] - nums[i-1]\n",
    "                start = i - 1\n",
    "        return ans\n"
   ]
  },
  {
   "cell_type": "code",
   "execution_count": null,
   "metadata": {},
   "outputs": [],
   "source": [
    "class Solution:\n",
    "    def numberOfArithmeticSlices(self, nums: List[int]) -> int:\n",
    "        n=len(nums)\n",
    "        l=[0]*n\n",
    "        for i in range(2,n):\n",
    "            if nums[i]-nums[i-1] == nums[i-1]-nums[i-2]:\n",
    "                l[i]=1+l[i-1]\n",
    "        return sum(l)"
   ]
  },
  {
   "cell_type": "code",
   "execution_count": 38,
   "metadata": {},
   "outputs": [],
   "source": [
    "import math\n",
    "from typing import List\n",
    "\n",
    "class Solution:\n",
    "    def numberOfArithmeticSlices(self, nums: List[int]) -> int:\n",
    "        if len(nums) < 3:\n",
    "            return 0\n",
    "        nums += [math.inf]\n",
    "        diff = nums[1] - nums[0]\n",
    "        start = 0\n",
    "        n = len(nums)\n",
    "        ans = 0\n",
    "        for i in range(2, n):\n",
    "            length = i - start\n",
    "            ans += length - 2\n",
    "            if nums[i] - nums[i-1] != diff:\n",
    "                diff = nums[i] - nums[i-1]\n",
    "                start = i - 1\n",
    "        return ans"
   ]
  },
  {
   "cell_type": "code",
   "execution_count": 40,
   "metadata": {},
   "outputs": [
    {
     "data": {
      "text/plain": [
       "3"
      ]
     },
     "execution_count": 40,
     "metadata": {},
     "output_type": "execute_result"
    }
   ],
   "source": [
    "nums = [1,2,3,4]\n",
    "sol = Solution()\n",
    "sol.numberOfArithmeticSlices(nums)"
   ]
  },
  {
   "cell_type": "code",
   "execution_count": 41,
   "metadata": {},
   "outputs": [
    {
     "data": {
      "text/plain": [
       "0"
      ]
     },
     "execution_count": 41,
     "metadata": {},
     "output_type": "execute_result"
    }
   ],
   "source": [
    "nums = [1]\n",
    "sol = Solution()\n",
    "sol.numberOfArithmeticSlices(nums)"
   ]
  }
 ],
 "metadata": {
  "kernelspec": {
   "display_name": "dsa-venv",
   "language": "python",
   "name": "python3"
  },
  "language_info": {
   "codemirror_mode": {
    "name": "ipython",
    "version": 3
   },
   "file_extension": ".py",
   "mimetype": "text/x-python",
   "name": "python",
   "nbconvert_exporter": "python",
   "pygments_lexer": "ipython3",
   "version": "3.11.3"
  },
  "orig_nbformat": 4
 },
 "nbformat": 4,
 "nbformat_minor": 2
}
