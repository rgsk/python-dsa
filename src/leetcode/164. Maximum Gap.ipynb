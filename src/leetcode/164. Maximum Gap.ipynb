{
 "cells": [
  {
   "cell_type": "code",
   "execution_count": 80,
   "metadata": {},
   "outputs": [],
   "source": [
    "from typing import List\n",
    "\n",
    "# accepted\n",
    "class Solution:\n",
    "    def maximumGap(self, nums: List[int]) -> int:\n",
    "        '''\n",
    "            time O(nlogn)\n",
    "            space O(1)\n",
    "        '''\n",
    "        nums.sort()\n",
    "        ans = 0\n",
    "        n = len(nums)\n",
    "        for i in range(1, n):\n",
    "            ans = max(ans, nums[i] - nums[i-1])\n",
    "        return ans"
   ]
  },
  {
   "cell_type": "code",
   "execution_count": 81,
   "metadata": {},
   "outputs": [],
   "source": [
    "from typing import List\n",
    "\n",
    "# Memory Limit Exceeded\n",
    "class Solution:\n",
    "    def maximumGap(self, nums: List[int]) -> int:\n",
    "        '''\n",
    "            time O(maxElement)\n",
    "            space O(maxElement)\n",
    "        '''\n",
    "        maxElement = max(nums)\n",
    "        freq = [False] * (maxElement + 1)\n",
    "        for v in nums:\n",
    "            freq[v] = True\n",
    "        prev = -1\n",
    "        ans = 0\n",
    "        for i in range(maxElement + 1):\n",
    "            if freq[i]:\n",
    "                if prev >= 0:\n",
    "                    ans = max(ans, i - prev)\n",
    "                prev = i\n",
    "        return ans"
   ]
  },
  {
   "cell_type": "markdown",
   "metadata": {},
   "source": [
    "https://www.youtube.com/watch?v=sK-ON4570TI"
   ]
  },
  {
   "cell_type": "code",
   "execution_count": 82,
   "metadata": {},
   "outputs": [],
   "source": [
    "from math import floor\n",
    "import math\n",
    "from typing import List\n",
    "\n",
    "class Solution:\n",
    "    def maximumGap(self, nums: List[int]) -> int:\n",
    "        '''\n",
    "            time O(n)\n",
    "            space O(n)\n",
    "        '''\n",
    "        n = len(nums)\n",
    "        if n < 2:\n",
    "            return 0\n",
    "        minElement = min(nums)\n",
    "        maxElement = max(nums)\n",
    "        totalRange = maxElement - minElement\n",
    "        if totalRange == 0:\n",
    "            return 0\n",
    "        totalGaps = n - 1\n",
    "        gap = totalRange / totalGaps\n",
    "        buckets = [[math.inf, -math.inf] for _ in range(totalGaps + 1)]\n",
    "        for v in nums:\n",
    "            bucketIndex = floor((v - minElement) / gap)\n",
    "            buckets[bucketIndex][0] = min(v, buckets[bucketIndex][0])\n",
    "            buckets[bucketIndex][1] = max(v, buckets[bucketIndex][1])\n",
    "        prev = buckets[0][1]\n",
    "        ans = 0\n",
    "        for i in range(1, totalGaps + 1):\n",
    "            if buckets[i][0] != math.inf:\n",
    "                ans = max(ans, buckets[i][0] - prev)\n",
    "                prev = buckets[i][1]\n",
    "        return ans"
   ]
  },
  {
   "cell_type": "code",
   "execution_count": 83,
   "metadata": {},
   "outputs": [
    {
     "data": {
      "text/plain": [
       "3"
      ]
     },
     "execution_count": 83,
     "metadata": {},
     "output_type": "execute_result"
    }
   ],
   "source": [
    "nums = [3,6,9,1]\n",
    "sol = Solution()\n",
    "sol.maximumGap(nums)"
   ]
  },
  {
   "cell_type": "code",
   "execution_count": 84,
   "metadata": {},
   "outputs": [
    {
     "data": {
      "text/plain": [
       "0"
      ]
     },
     "execution_count": 84,
     "metadata": {},
     "output_type": "execute_result"
    }
   ],
   "source": [
    "nums = [10]\n",
    "sol = Solution()\n",
    "sol.maximumGap(nums)"
   ]
  },
  {
   "cell_type": "code",
   "execution_count": 85,
   "metadata": {},
   "outputs": [
    {
     "data": {
      "text/plain": [
       "0"
      ]
     },
     "execution_count": 85,
     "metadata": {},
     "output_type": "execute_result"
    }
   ],
   "source": [
    "nums = [1, 10, 5]\n",
    "sol = Solution()\n",
    "sol.maximumGap(nums)"
   ]
  }
 ],
 "metadata": {
  "kernelspec": {
   "display_name": "dsa-venv",
   "language": "python",
   "name": "python3"
  },
  "language_info": {
   "codemirror_mode": {
    "name": "ipython",
    "version": 3
   },
   "file_extension": ".py",
   "mimetype": "text/x-python",
   "name": "python",
   "nbconvert_exporter": "python",
   "pygments_lexer": "ipython3",
   "version": "3.11.3"
  },
  "orig_nbformat": 4
 },
 "nbformat": 4,
 "nbformat_minor": 2
}
