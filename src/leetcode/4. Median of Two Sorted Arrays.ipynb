{
 "cells": [
  {
   "cell_type": "code",
   "execution_count": 50,
   "metadata": {},
   "outputs": [],
   "source": [
    "from typing import List\n",
    "\n",
    "class Solution:\n",
    "    def merge(self, nums1: List[int], nums2: List[int]):\n",
    "        if not nums2:\n",
    "            return\n",
    "        i = 0\n",
    "        while i < len(nums1):\n",
    "            if nums2[0] < nums1[i]:\n",
    "                nums1[i], nums2[0] = nums2[0], nums1[i]\n",
    "                j = 1\n",
    "                while j < len(nums2) and nums2[j] < nums2[j-1]:\n",
    "                    nums2[j], nums2[j-1] = nums2[j-1], nums2[j]\n",
    "                    j += 1\n",
    "            i += 1\n",
    "\n",
    "    def getElementAtIndex(self, nums1: List[int], nums2: List[int], idx: int):\n",
    "        if idx < len(nums1):\n",
    "            return nums1[idx]\n",
    "        else:\n",
    "            return nums2[idx - len(nums1)]\n",
    "\n",
    "    def findMedianSortedArrays(self, nums1: List[int], nums2: List[int]) -> float:\n",
    "        self.merge(nums1, nums2)\n",
    "        totalLength = len(nums1) + len(nums2)\n",
    "        idx = totalLength//2\n",
    "        if totalLength % 2 == 0:\n",
    "            return (self.getElementAtIndex(nums1, nums2, idx-1) + self.getElementAtIndex(nums1, nums2, idx))/2\n",
    "        else:\n",
    "            return self.getElementAtIndex(nums1, nums2, idx)\n"
   ]
  },
  {
   "cell_type": "code",
   "execution_count": 51,
   "metadata": {},
   "outputs": [
    {
     "name": "stdout",
     "output_type": "stream",
     "text": [
      "2.5\n"
     ]
    }
   ],
   "source": [
    "nums1 = [1,2, 10]\n",
    "nums2 = [1, 3, 4]\n",
    "sol = Solution()\n",
    "print(sol.findMedianSortedArrays(nums1, nums2))"
   ]
  },
  {
   "cell_type": "code",
   "execution_count": 52,
   "metadata": {},
   "outputs": [],
   "source": [
    "class Solution:\n",
    "    def findMedianSortedArrays(self, nums1: List[int], nums2: List[int]) -> float:\n",
    "        nums3 = []\n",
    "        for v in nums1:\n",
    "            nums3.append(v)\n",
    "        for v in nums2:\n",
    "            nums3.append(v)\n",
    "        nums3.sort()\n",
    "        totalLength = len(nums3)\n",
    "        idx = totalLength//2\n",
    "        if totalLength % 2 == 0:\n",
    "            return (nums3[idx-1] + nums3[idx])/2\n",
    "        else:\n",
    "            return nums3[idx]"
   ]
  },
  {
   "cell_type": "code",
   "execution_count": 53,
   "metadata": {},
   "outputs": [
    {
     "name": "stdout",
     "output_type": "stream",
     "text": [
      "2.5\n"
     ]
    }
   ],
   "source": [
    "nums1 = [1,2, 10]\n",
    "nums2 = [1, 3, 4]\n",
    "sol = Solution()\n",
    "print(sol.findMedianSortedArrays(nums1, nums2))"
   ]
  },
  {
   "cell_type": "code",
   "execution_count": 54,
   "metadata": {},
   "outputs": [],
   "source": [
    "class Solution:\n",
    "    def findMedianSortedArrays(self, nums1: List[int], nums2: List[int]) -> float:\n",
    "        pass"
   ]
  },
  {
   "cell_type": "code",
   "execution_count": 55,
   "metadata": {},
   "outputs": [
    {
     "name": "stdout",
     "output_type": "stream",
     "text": [
      "[1, 2, 1]\n",
      "[10, 3, 4]\n",
      "2.5\n"
     ]
    }
   ],
   "source": [
    "nums1 = [1,2, 10]\n",
    "nums2 = [1, 3, 4]\n",
    "sol = Solution()\n",
    "print(sol.findMedianSortedArrays(nums1, nums2))"
   ]
  },
  {
   "cell_type": "code",
   "execution_count": 56,
   "metadata": {},
   "outputs": [
    {
     "name": "stdout",
     "output_type": "stream",
     "text": [
      "[1, 3, 4, 2, 3, 6]\n",
      "[7, 10, 12, 15]\n",
      "5.0\n"
     ]
    }
   ],
   "source": [
    "nums1 = [1, 3, 4, 7, 10, 12]\n",
    "nums2 = [2, 3, 6, 15]\n",
    "sol = Solution()\n",
    "print(sol.findMedianSortedArrays(nums1, nums2))"
   ]
  },
  {
   "cell_type": "code",
   "execution_count": 57,
   "metadata": {},
   "outputs": [
    {
     "name": "stdout",
     "output_type": "stream",
     "text": [
      "[1, 3]\n",
      "[2]\n",
      "3\n"
     ]
    }
   ],
   "source": [
    "nums1 =[1,3]\n",
    "nums2 =[2]\n",
    "sol = Solution()\n",
    "print(sol.findMedianSortedArrays(nums1, nums2))"
   ]
  }
 ],
 "metadata": {
  "kernelspec": {
   "display_name": "Python 3.10.4 ('template-venv': venv)",
   "language": "python",
   "name": "python3"
  },
  "language_info": {
   "codemirror_mode": {
    "name": "ipython",
    "version": 3
   },
   "file_extension": ".py",
   "mimetype": "text/x-python",
   "name": "python",
   "nbconvert_exporter": "python",
   "pygments_lexer": "ipython3",
   "version": "3.10.4"
  },
  "orig_nbformat": 4,
  "vscode": {
   "interpreter": {
    "hash": "0b8dd1d11c220dfc9d15848c82c145ba1a021fcb056c07a0cc073ae3ed6d8420"
   }
  }
 },
 "nbformat": 4,
 "nbformat_minor": 2
}
