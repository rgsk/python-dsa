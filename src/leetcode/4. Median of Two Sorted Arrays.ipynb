{
 "cells": [
  {
   "cell_type": "code",
   "execution_count": null,
   "metadata": {},
   "outputs": [],
   "source": [
    "# https://leetcode.com/problems/median-of-two-sorted-arrays/description/\n",
    "\n",
    "# https://www.youtube.com/watch?v=q6IEA26hvXc"
   ]
  },
  {
   "cell_type": "code",
   "execution_count": 9,
   "metadata": {},
   "outputs": [],
   "source": [
    "from typing import List\n",
    "\n",
    "class Solution:\n",
    "    def merge(self, nums1: List[int], nums2: List[int]):\n",
    "        if not nums2:\n",
    "            return\n",
    "        i = 0\n",
    "        while i < len(nums1):\n",
    "            if nums2[0] < nums1[i]:\n",
    "                nums1[i], nums2[0] = nums2[0], nums1[i]\n",
    "                j = 1\n",
    "                while j < len(nums2) and nums2[j] < nums2[j-1]:\n",
    "                    nums2[j], nums2[j-1] = nums2[j-1], nums2[j]\n",
    "                    j += 1\n",
    "            i += 1\n",
    "\n",
    "    def getElementAtIndex(self, nums1: List[int], nums2: List[int], idx: int):\n",
    "        if idx < len(nums1):\n",
    "            return nums1[idx]\n",
    "        else:\n",
    "            return nums2[idx - len(nums1)]\n",
    "\n",
    "    def findMedianSortedArrays(self, nums1: List[int], nums2: List[int]) -> float:\n",
    "        self.merge(nums1, nums2)\n",
    "        totalLength = len(nums1) + len(nums2)\n",
    "        idx = totalLength//2\n",
    "        if totalLength % 2 == 0:\n",
    "            return (self.getElementAtIndex(nums1, nums2, idx-1) + self.getElementAtIndex(nums1, nums2, idx))/2\n",
    "        else:\n",
    "            return self.getElementAtIndex(nums1, nums2, idx)\n"
   ]
  },
  {
   "cell_type": "code",
   "execution_count": 10,
   "metadata": {},
   "outputs": [
    {
     "name": "stdout",
     "output_type": "stream",
     "text": [
      "2.5\n"
     ]
    }
   ],
   "source": [
    "nums1 = [1,2, 10]\n",
    "nums2 = [1, 3, 4]\n",
    "sol = Solution()\n",
    "print(sol.findMedianSortedArrays(nums1, nums2))"
   ]
  },
  {
   "cell_type": "code",
   "execution_count": 11,
   "metadata": {},
   "outputs": [],
   "source": [
    "class Solution:\n",
    "    def findMedianSortedArrays(self, nums1: List[int], nums2: List[int]) -> float:\n",
    "        nums3 = []\n",
    "        for v in nums1:\n",
    "            nums3.append(v)\n",
    "        for v in nums2:\n",
    "            nums3.append(v)\n",
    "        nums3.sort()\n",
    "        totalLength = len(nums3)\n",
    "        idx = totalLength//2\n",
    "        if totalLength % 2 == 0:\n",
    "            return (nums3[idx-1] + nums3[idx])/2\n",
    "        else:\n",
    "            return nums3[idx]"
   ]
  },
  {
   "cell_type": "code",
   "execution_count": 12,
   "metadata": {},
   "outputs": [
    {
     "name": "stdout",
     "output_type": "stream",
     "text": [
      "2.5\n"
     ]
    }
   ],
   "source": [
    "nums1 = [1,2, 10]\n",
    "nums2 = [1, 3, 4]\n",
    "sol = Solution()\n",
    "print(sol.findMedianSortedArrays(nums1, nums2))"
   ]
  },
  {
   "cell_type": "code",
   "execution_count": 13,
   "metadata": {},
   "outputs": [],
   "source": [
    "# https://www.youtube.com/watch?v=q6IEA26hvXc\n",
    "\n",
    "INT_MAX = (2 ** 31)-1\n",
    "INT_MIN = -(2 ** 31)\n",
    "\n",
    "class Solution:\n",
    "    def findMedianSortedArrays(self, A: List[int], B: List[int]) -> float:\n",
    "        nA = len(A)\n",
    "        nB = len(B)\n",
    "        total = nA + nB\n",
    "        partitionSize = total // 2\n",
    "        left = 0\n",
    "        right = nA - 1\n",
    "        while left <= right + 1 and left <= nA: \n",
    "            # right + 1 ensures\n",
    "            # left can be 0 and right can be -1\n",
    "            # so leftASize == 0\n",
    "\n",
    "            # although we can get rid of this condition (left <= right + 1 and left <= nA)\n",
    "            # while True will also work\n",
    "            # because if 1 element is present in either array\n",
    "            # ans would be returned from while loop always\n",
    "\n",
    "            mid = (left + right) // 2\n",
    "            leftASize = mid + 1\n",
    "            if leftASize > partitionSize:\n",
    "                right = mid - 1\n",
    "                continue\n",
    "            leftBSize = partitionSize - leftASize\n",
    "            if leftBSize > nB:\n",
    "                left = mid + 1\n",
    "                continue\n",
    "            \n",
    "            # check if partition is correct\n",
    "            if leftBSize == nB or leftASize == 0 or A[leftASize - 1] <= B[leftBSize]:\n",
    "                if leftASize == nA or leftBSize == 0 or B[leftBSize - 1] <= A[leftASize]:\n",
    "                    rightFirst = min(\n",
    "                        A[leftASize] if leftASize < nA else INT_MAX,\n",
    "                        B[leftBSize] if leftBSize < nB else INT_MAX\n",
    "                    )\n",
    "                    if total % 2 == 0:\n",
    "                        # even\n",
    "                        leftLast = max(\n",
    "                            A[leftASize - 1] if leftASize > 0 else INT_MIN,\n",
    "                            B[leftBSize - 1] if leftBSize > 0 else INT_MIN\n",
    "                        )\n",
    "                        return (leftLast + rightFirst) / 2.0\n",
    "                    else:\n",
    "                        return rightFirst\n",
    "                else:\n",
    "                    left = mid + 1\n",
    "            else:\n",
    "                right = mid - 1\n",
    "        "
   ]
  },
  {
   "cell_type": "code",
   "execution_count": 14,
   "metadata": {},
   "outputs": [
    {
     "name": "stdout",
     "output_type": "stream",
     "text": [
      "2.5\n"
     ]
    }
   ],
   "source": [
    "nums1 = [1,2, 10]\n",
    "nums2 = [1, 3, 4]\n",
    "sol = Solution()\n",
    "print(sol.findMedianSortedArrays(nums1, nums2))"
   ]
  },
  {
   "cell_type": "code",
   "execution_count": 15,
   "metadata": {},
   "outputs": [
    {
     "name": "stdout",
     "output_type": "stream",
     "text": [
      "5.0\n"
     ]
    }
   ],
   "source": [
    "nums1 = [1, 3, 4, 7, 10, 12]\n",
    "nums2 = [2, 3, 6, 15]\n",
    "sol = Solution()\n",
    "print(sol.findMedianSortedArrays(nums1, nums2))"
   ]
  },
  {
   "cell_type": "code",
   "execution_count": 16,
   "metadata": {},
   "outputs": [
    {
     "name": "stdout",
     "output_type": "stream",
     "text": [
      "2\n"
     ]
    }
   ],
   "source": [
    "nums1 =[1,3]\n",
    "nums2 =[2]\n",
    "sol = Solution()\n",
    "print(sol.findMedianSortedArrays(nums1, nums2))"
   ]
  }
 ],
 "metadata": {
  "kernelspec": {
   "display_name": "Python 3.10.4 ('template-venv': venv)",
   "language": "python",
   "name": "python3"
  },
  "language_info": {
   "codemirror_mode": {
    "name": "ipython",
    "version": 3
   },
   "file_extension": ".py",
   "mimetype": "text/x-python",
   "name": "python",
   "nbconvert_exporter": "python",
   "pygments_lexer": "ipython3",
   "version": "3.11.3"
  },
  "orig_nbformat": 4,
  "vscode": {
   "interpreter": {
    "hash": "0b8dd1d11c220dfc9d15848c82c145ba1a021fcb056c07a0cc073ae3ed6d8420"
   }
  }
 },
 "nbformat": 4,
 "nbformat_minor": 2
}
