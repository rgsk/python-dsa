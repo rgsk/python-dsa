{
 "cells": [
  {
   "cell_type": "code",
   "execution_count": 7,
   "metadata": {},
   "outputs": [],
   "source": [
    "import sys\n",
    "sys.path.append('..')\n",
    "\n",
    "from lib.ListNode import *"
   ]
  },
  {
   "cell_type": "code",
   "execution_count": 8,
   "metadata": {},
   "outputs": [],
   "source": [
    "from typing import List\n",
    "\n",
    "\n",
    "class Solution:\n",
    "    def spiralMatrix(self, m: int, n: int, head: Optional[ListNode]) -> List[List[int]]:\n",
    "        matrix = [[0 for _ in range(n)] for _ in range(m)]\n",
    "        startRow, endRow = 0, m - 1\n",
    "        startCol, endCol = 0, n - 1\n",
    "        direction = 0\n",
    "        temp = head\n",
    "        def getNext():\n",
    "            nonlocal temp\n",
    "            if temp == None:\n",
    "                return -1\n",
    "            value = temp.val\n",
    "            temp = temp.next\n",
    "            return value\n",
    "        while startRow <= endRow and startCol <= endCol:\n",
    "            if direction == 0:  # RIGHT\n",
    "                for col in range(startCol, endCol + 1):\n",
    "                    matrix[startRow][col] = getNext()\n",
    "                    \n",
    "                startRow += 1\n",
    "            elif direction == 1:  # DOWN\n",
    "                for row in range(startRow, endRow + 1):\n",
    "                    matrix[row][endCol] = getNext()\n",
    "                    \n",
    "                endCol -= 1\n",
    "            elif direction == 2:  # LEFT\n",
    "                for col in range(endCol, startCol - 1, -1):\n",
    "                    matrix[endRow][col] = getNext()\n",
    "                    \n",
    "                endRow -= 1\n",
    "            elif direction == 3:  # UP\n",
    "                for row in range(endRow, startRow - 1, -1):\n",
    "                    matrix[row][startCol] = getNext()\n",
    "                    \n",
    "                startCol += 1\n",
    "\n",
    "            direction = (direction + 1) % 4\n",
    "        return matrix"
   ]
  },
  {
   "cell_type": "code",
   "execution_count": 9,
   "metadata": {},
   "outputs": [
    {
     "data": {
      "text/plain": [
       "[[3, 0, 2, 6, 8], [5, 0, -1, -1, 1], [5, 2, 4, 9, 7]]"
      ]
     },
     "execution_count": 9,
     "metadata": {},
     "output_type": "execute_result"
    }
   ],
   "source": [
    "m = 3\n",
    "n = 5\n",
    "head = makeList([3,0,2,6,8,1,7,9,4,2,5,5,0])\n",
    "sol = Solution()\n",
    "sol.spiralMatrix(m, n, head)"
   ]
  }
 ],
 "metadata": {
  "kernelspec": {
   "display_name": "dsa-venv",
   "language": "python",
   "name": "python3"
  },
  "language_info": {
   "codemirror_mode": {
    "name": "ipython",
    "version": 3
   },
   "file_extension": ".py",
   "mimetype": "text/x-python",
   "name": "python",
   "nbconvert_exporter": "python",
   "pygments_lexer": "ipython3",
   "version": "3.11.3"
  }
 },
 "nbformat": 4,
 "nbformat_minor": 2
}
