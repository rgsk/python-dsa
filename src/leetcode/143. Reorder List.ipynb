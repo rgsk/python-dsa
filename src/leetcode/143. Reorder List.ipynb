{
 "cells": [
  {
   "cell_type": "code",
   "execution_count": 34,
   "metadata": {},
   "outputs": [],
   "source": [
    "import sys\n",
    "sys.path.append('..')\n",
    "\n",
    "from lib.ListNode import *"
   ]
  },
  {
   "cell_type": "code",
   "execution_count": 35,
   "metadata": {},
   "outputs": [],
   "source": [
    "class Solution:\n",
    "    def reorderList(self, head: Optional[ListNode]) -> None:\n",
    "        \"\"\"\n",
    "        Do not return anything, modify head in-place instead.\n",
    "        \"\"\"\n",
    "        temp = head\n",
    "        nodes = []\n",
    "        while temp:\n",
    "            nodes.append(temp)\n",
    "            temp = temp.next\n",
    "        length = len(nodes)\n",
    "        i = 0\n",
    "        dummy = ListNode()\n",
    "        temp = dummy\n",
    "        fromStart = True\n",
    "        while i <= length//2:\n",
    "            if fromStart:\n",
    "                temp.next = nodes[i]\n",
    "                i += 1\n",
    "            else:\n",
    "                temp.next = nodes[length - i]\n",
    "            temp = temp.next\n",
    "            temp.next = None\n",
    "            fromStart = not fromStart\n",
    "        return dummy.next"
   ]
  },
  {
   "cell_type": "code",
   "execution_count": 36,
   "metadata": {},
   "outputs": [
    {
     "name": "stdout",
     "output_type": "stream",
     "text": [
      "[1, 4, 2, 3]\n"
     ]
    }
   ],
   "source": [
    "head = makeList([1,2,3,4])\n",
    "sol = Solution()\n",
    "print(asList(sol.reorderList(head)))"
   ]
  },
  {
   "cell_type": "code",
   "execution_count": 37,
   "metadata": {},
   "outputs": [
    {
     "name": "stdout",
     "output_type": "stream",
     "text": [
      "[1, 5, 2, 4, 3]\n"
     ]
    }
   ],
   "source": [
    "head = makeList([1,2,3,4,5])\n",
    "sol = Solution()\n",
    "print(asList(sol.reorderList(head)))"
   ]
  }
 ],
 "metadata": {
  "kernelspec": {
   "display_name": "dsa-venv",
   "language": "python",
   "name": "python3"
  },
  "language_info": {
   "codemirror_mode": {
    "name": "ipython",
    "version": 3
   },
   "file_extension": ".py",
   "mimetype": "text/x-python",
   "name": "python",
   "nbconvert_exporter": "python",
   "pygments_lexer": "ipython3",
   "version": "3.11.3"
  },
  "orig_nbformat": 4
 },
 "nbformat": 4,
 "nbformat_minor": 2
}
