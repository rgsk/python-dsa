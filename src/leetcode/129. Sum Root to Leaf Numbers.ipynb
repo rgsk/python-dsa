{
 "cells": [
  {
   "cell_type": "code",
   "execution_count": 6,
   "metadata": {},
   "outputs": [],
   "source": [
    "# https://leetcode.com/problems/sum-root-to-leaf-numbers/"
   ]
  },
  {
   "cell_type": "code",
   "execution_count": 7,
   "metadata": {},
   "outputs": [],
   "source": [
    "import sys\n",
    "sys.path.append('..')\n",
    "\n",
    "\n",
    "from lib.TreeNode import *"
   ]
  },
  {
   "cell_type": "code",
   "execution_count": 8,
   "metadata": {},
   "outputs": [],
   "source": [
    "class Solution:\n",
    "    def sumNumbers(self, root: Optional[TreeNode]) -> int:\n",
    "        numbers_formed = []\n",
    "        def helper(root, n):\n",
    "            nonlocal numbers_formed\n",
    "            if root:\n",
    "                n *= 10\n",
    "                n += root.val\n",
    "                if root.left == None and root.right == None:\n",
    "                    numbers_formed.append(n)\n",
    "                    return\n",
    "                helper(root.left, n)\n",
    "                helper(root.right, n)\n",
    "        helper(root, 0)\n",
    "        return sum(numbers_formed)"
   ]
  },
  {
   "cell_type": "code",
   "execution_count": 9,
   "metadata": {},
   "outputs": [
    {
     "name": "stdout",
     "output_type": "stream",
     "text": [
      " 1 \n",
      "/ \\\n",
      "2 3\n"
     ]
    },
    {
     "data": {
      "text/plain": [
       "25"
      ]
     },
     "execution_count": 9,
     "metadata": {},
     "output_type": "execute_result"
    }
   ],
   "source": [
    "root = formTree([1,2,3])\n",
    "root.display()\n",
    "sol = Solution()\n",
    "sol.sumNumbers(root)"
   ]
  },
  {
   "cell_type": "code",
   "execution_count": 10,
   "metadata": {},
   "outputs": [
    {
     "name": "stdout",
     "output_type": "stream",
     "text": [
      "  _4 \n",
      " /  \\\n",
      " 9  0\n",
      "/ \\  \n",
      "5 1  \n"
     ]
    },
    {
     "data": {
      "text/plain": [
       "1026"
      ]
     },
     "execution_count": 10,
     "metadata": {},
     "output_type": "execute_result"
    }
   ],
   "source": [
    "root = formTree([4,9,0,5,1])\n",
    "root.display()\n",
    "sol = Solution()\n",
    "sol.sumNumbers(root)"
   ]
  }
 ],
 "metadata": {
  "kernelspec": {
   "display_name": "dsa-venv",
   "language": "python",
   "name": "python3"
  },
  "language_info": {
   "codemirror_mode": {
    "name": "ipython",
    "version": 3
   },
   "file_extension": ".py",
   "mimetype": "text/x-python",
   "name": "python",
   "nbconvert_exporter": "python",
   "pygments_lexer": "ipython3",
   "version": "3.11.3"
  }
 },
 "nbformat": 4,
 "nbformat_minor": 2
}
