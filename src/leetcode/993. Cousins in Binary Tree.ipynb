{
 "cells": [
  {
   "cell_type": "code",
   "execution_count": 6,
   "metadata": {},
   "outputs": [],
   "source": [
    "# https://leetcode.com/problems/cousins-in-binary-tree/"
   ]
  },
  {
   "cell_type": "code",
   "execution_count": 7,
   "metadata": {},
   "outputs": [],
   "source": [
    "import sys\n",
    "sys.path.append('..')\n",
    "\n",
    "from lib.TreeNode import *"
   ]
  },
  {
   "cell_type": "code",
   "execution_count": 8,
   "metadata": {},
   "outputs": [],
   "source": [
    "class Solution:\n",
    "    def isCousins(self, root: Optional[TreeNode], x: int, y: int) -> bool:\n",
    "        def helper(node, parent, depth, val):\n",
    "            if node:\n",
    "                if node.val == val:\n",
    "                    return [parent, depth]\n",
    "                return helper(node.left, node, depth + 1, val) or helper(node.right, node, depth + 1, val)\n",
    "        [xparent, xdepth] = helper(root, None, 0, x)\n",
    "        [yparent, ydepth] = helper(root, None, 0, y)\n",
    "        return xparent != yparent and xdepth == ydepth\n",
    "        "
   ]
  },
  {
   "cell_type": "code",
   "execution_count": 9,
   "metadata": {},
   "outputs": [
    {
     "name": "stdout",
     "output_type": "stream",
     "text": [
      "  1 \n",
      " / \\\n",
      " 2 3\n",
      "/   \n",
      "4   \n"
     ]
    },
    {
     "data": {
      "text/plain": [
       "False"
      ]
     },
     "execution_count": 9,
     "metadata": {},
     "output_type": "execute_result"
    }
   ],
   "source": [
    "root = TreeNode(1, TreeNode(2, TreeNode(4)), TreeNode(3))\n",
    "root.display()\n",
    "sol = Solution()\n",
    "x = 4\n",
    "y = 3\n",
    "sol.isCousins(root, x, y)"
   ]
  },
  {
   "cell_type": "code",
   "execution_count": 10,
   "metadata": {},
   "outputs": [
    {
     "name": "stdout",
     "output_type": "stream",
     "text": [
      " _1  \n",
      "/  \\ \n",
      "2  3 \n",
      " \\  \\\n",
      " 4  5\n"
     ]
    },
    {
     "data": {
      "text/plain": [
       "True"
      ]
     },
     "execution_count": 10,
     "metadata": {},
     "output_type": "execute_result"
    }
   ],
   "source": [
    "root = TreeNode(1, TreeNode(2, None, TreeNode(4)), TreeNode(3, None, TreeNode(5)))\n",
    "root.display()\n",
    "sol = Solution()\n",
    "x = 5\n",
    "y = 4\n",
    "sol.isCousins(root, x, y)"
   ]
  }
 ],
 "metadata": {
  "kernelspec": {
   "display_name": "dsa-venv",
   "language": "python",
   "name": "python3"
  },
  "language_info": {
   "codemirror_mode": {
    "name": "ipython",
    "version": 3
   },
   "file_extension": ".py",
   "mimetype": "text/x-python",
   "name": "python",
   "nbconvert_exporter": "python",
   "pygments_lexer": "ipython3",
   "version": "3.11.3"
  }
 },
 "nbformat": 4,
 "nbformat_minor": 2
}
