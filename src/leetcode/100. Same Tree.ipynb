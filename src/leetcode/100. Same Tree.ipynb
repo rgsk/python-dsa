{
 "cells": [
  {
   "cell_type": "code",
   "execution_count": 1,
   "metadata": {},
   "outputs": [],
   "source": [
    "# https://leetcode.com/problems/same-tree/\n",
    "from typing import Optional\n",
    "\n",
    "class TreeNode:\n",
    "    def __init__(self, val=0, left=None, right=None):\n",
    "        self.val = val\n",
    "        self.left = left\n",
    "        self.right = right\n",
    "\n",
    "    def __repr__(self) -> str:\n",
    "        return str(getList(self))\n",
    "\n",
    "        \n",
    "\n",
    "def formTree(values: list[int | None]):\n",
    "    if not values: return None\n",
    "    root = TreeNode(values[0])\n",
    "    queue = [root]\n",
    "    i = 1\n",
    "    while i < len(values):\n",
    "        top = queue.pop(0)\n",
    "        if not top: continue\n",
    "        top.left = TreeNode(values[i]) if values[i] != None else None \n",
    "        i += 1\n",
    "        queue.append(top.left)\n",
    "        if i < len(values):\n",
    "            top.right = TreeNode(values[i]) if values[i] != None else None \n",
    "            i += 1\n",
    "            queue.append(top.right)\n",
    "    return root\n",
    "\n",
    "def getList(root: Optional[TreeNode]):\n",
    "    ans: list[int] = []\n",
    "    queue = [root]\n",
    "    while len(queue) > 0:\n",
    "        top = queue.pop(0)\n",
    "        ans.append(top and top.val)\n",
    "        if top:\n",
    "            queue.append(top.left)\n",
    "            queue.append(top.right)\n",
    "\n",
    "    # remove all None from end of ans\n",
    "    i = len(ans) - 1\n",
    "    while i >= 0 and ans[i] == None:\n",
    "        i -= 1\n",
    "    return ans[0: i + 1]"
   ]
  },
  {
   "cell_type": "code",
   "execution_count": 2,
   "metadata": {},
   "outputs": [],
   "source": [
    "class Solution:\n",
    "    def isSameTree(self, p: Optional[TreeNode], q: Optional[TreeNode]) -> bool:\n",
    "        if p and q:\n",
    "            return p.val == q.val and self.isSameTree(p.left, q.left) and self.isSameTree(p.right, q.right)\n",
    "        return not p and not q"
   ]
  },
  {
   "cell_type": "code",
   "execution_count": 3,
   "metadata": {},
   "outputs": [
    {
     "name": "stdout",
     "output_type": "stream",
     "text": [
      "True\n"
     ]
    }
   ],
   "source": [
    "p = formTree([1,2,3])\n",
    "q = formTree([1,2,3])\n",
    "sol = Solution()\n",
    "print(sol.isSameTree(p, q))"
   ]
  },
  {
   "cell_type": "code",
   "execution_count": 4,
   "metadata": {},
   "outputs": [
    {
     "name": "stdout",
     "output_type": "stream",
     "text": [
      "False\n"
     ]
    }
   ],
   "source": [
    "p = formTree([1,2])\n",
    "q = formTree([1,None,2])\n",
    "sol = Solution()\n",
    "print(sol.isSameTree(p, q))"
   ]
  },
  {
   "cell_type": "code",
   "execution_count": 5,
   "metadata": {},
   "outputs": [
    {
     "name": "stdout",
     "output_type": "stream",
     "text": [
      "False\n"
     ]
    }
   ],
   "source": [
    "p = formTree([1,2,1])\n",
    "q = formTree([1,1,2])\n",
    "sol = Solution()\n",
    "print(sol.isSameTree(p, q))"
   ]
  }
 ],
 "metadata": {
  "kernelspec": {
   "display_name": "Python 3.10.6 ('dsa-venv': venv)",
   "language": "python",
   "name": "python3"
  },
  "language_info": {
   "codemirror_mode": {
    "name": "ipython",
    "version": 3
   },
   "file_extension": ".py",
   "mimetype": "text/x-python",
   "name": "python",
   "nbconvert_exporter": "python",
   "pygments_lexer": "ipython3",
   "version": "3.10.6"
  },
  "orig_nbformat": 4,
  "vscode": {
   "interpreter": {
    "hash": "e2278406c40349b728369a6b418500b4154ef0fb5e599ada131fe37b236439d7"
   }
  }
 },
 "nbformat": 4,
 "nbformat_minor": 2
}
