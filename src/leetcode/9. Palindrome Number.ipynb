{
 "cells": [
  {
   "cell_type": "code",
   "execution_count": 12,
   "metadata": {},
   "outputs": [],
   "source": [
    "class Solution:\n",
    "    def isPalindrome(self, x: int) -> bool:\n",
    "        str_x = str(x)\n",
    "        reversed_str_x = str_x[::-1]\n",
    "        return str_x == reversed_str_x"
   ]
  },
  {
   "cell_type": "code",
   "execution_count": 13,
   "metadata": {},
   "outputs": [
    {
     "name": "stdout",
     "output_type": "stream",
     "text": [
      "False\n"
     ]
    }
   ],
   "source": [
    "sol = Solution()\n",
    "print(sol.isPalindrome(-121))"
   ]
  },
  {
   "cell_type": "code",
   "execution_count": 14,
   "metadata": {},
   "outputs": [],
   "source": [
    "def get_digits(x: int):\n",
    "    if x < 0:\n",
    "        raise Exception(\"x must be greater than equal to 0\")\n",
    "    digits = []\n",
    "    while x > 0:\n",
    "        digits.append(x % 10)\n",
    "        x //= 10\n",
    "    reversed = digits[::-1]\n",
    "    return reversed\n",
    "class Solution:\n",
    "    def isPalindrome(self, x: int) -> bool:\n",
    "        if x < 0:\n",
    "            return False\n",
    "        digits = get_digits(x)\n",
    "        return digits == digits[::-1]\n",
    "        "
   ]
  },
  {
   "cell_type": "code",
   "execution_count": 15,
   "metadata": {},
   "outputs": [],
   "source": [
    "class Solution:\n",
    "    def isPalindrome(self, x: int) -> bool:\n",
    "        reversed_x = 0\n",
    "        temp = x\n",
    "        while temp > 0:\n",
    "            remainder = temp % 10\n",
    "            reversed_x = reversed_x * 10 + remainder\n",
    "            temp //= 10\n",
    "        return x == reversed_x"
   ]
  },
  {
   "cell_type": "code",
   "execution_count": 16,
   "metadata": {},
   "outputs": [],
   "source": [
    "# trick so that we take out just half of the digits\n",
    "\n",
    "# for initial if condition x % 10 == 0: \n",
    "# we have to handle 10 separately\n",
    "# think for 10 or 100\n",
    "# we can also think in the sense that if a number ending with one or more zeroes\n",
    "# then that would not form a valid palindrome \n",
    "# (as there are leading zeroes after reversal which would be discarded)\n",
    "class Solution:\n",
    "    def isPalindrome(self, x: int) -> bool:\n",
    "        if x != 0 and x % 10 == 0: \n",
    "            return False\n",
    "        right_half = 0\n",
    "        while x > right_half:\n",
    "            remainder = x % 10\n",
    "            right_half = right_half * 10 + remainder\n",
    "            x //= 10\n",
    "        return x == right_half or (x == right_half//10)"
   ]
  },
  {
   "cell_type": "code",
   "execution_count": 17,
   "metadata": {},
   "outputs": [
    {
     "name": "stdout",
     "output_type": "stream",
     "text": [
      "False\n"
     ]
    }
   ],
   "source": [
    "sol = Solution()\n",
    "print(sol.isPalindrome(1210101))"
   ]
  }
 ],
 "metadata": {
  "kernelspec": {
   "display_name": "Python 3.10.4 ('template-venv': venv)",
   "language": "python",
   "name": "python3"
  },
  "language_info": {
   "codemirror_mode": {
    "name": "ipython",
    "version": 3
   },
   "file_extension": ".py",
   "mimetype": "text/x-python",
   "name": "python",
   "nbconvert_exporter": "python",
   "pygments_lexer": "ipython3",
   "version": "3.11.3"
  },
  "orig_nbformat": 4,
  "vscode": {
   "interpreter": {
    "hash": "0b8dd1d11c220dfc9d15848c82c145ba1a021fcb056c07a0cc073ae3ed6d8420"
   }
  }
 },
 "nbformat": 4,
 "nbformat_minor": 2
}
