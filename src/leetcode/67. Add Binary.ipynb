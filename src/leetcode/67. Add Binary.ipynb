{
 "cells": [
  {
   "cell_type": "code",
   "execution_count": 50,
   "metadata": {},
   "outputs": [],
   "source": [
    "class Solution:\n",
    "    def addBinary(self, a: str, b: str) -> str:\n",
    "        if len(a) < len(b):\n",
    "            return self.addBinary(b, a)\n",
    "        revA = [int(v) for v in reversed(a)]\n",
    "        revB = [int(v) for v in reversed(b)]\n",
    "\n",
    "        rem = 0\n",
    "        i = 0\n",
    "        ans = \"\"\n",
    "        while i < len(a):\n",
    "            s = revA[i] + rem + (0 if i >= len(b) else revB[i])\n",
    "            rem = 0\n",
    "            if s == 2:\n",
    "                rem = 1\n",
    "                s = 0\n",
    "            elif s == 3:\n",
    "                rem = 1\n",
    "                s = 1\n",
    "\n",
    "            # doing ans += is efficient\n",
    "            ans += str(s)\n",
    "            i += 1\n",
    "        if rem > 0:\n",
    "            ans += str(rem)\n",
    "        return \"\".join(reversed(ans))"
   ]
  },
  {
   "cell_type": "code",
   "execution_count": 51,
   "metadata": {},
   "outputs": [
    {
     "data": {
      "text/plain": [
       "'\\nExample 1:\\n\\nInput: a = \"11\", b = \"1\"\\nOutput: \"100\"\\nExample 2:\\n\\nInput: a = \"1010\", b = \"1011\"\\nOutput: \"10101\"\\n'"
      ]
     },
     "execution_count": 51,
     "metadata": {},
     "output_type": "execute_result"
    }
   ],
   "source": [
    "'''\n",
    "Example 1:\n",
    "\n",
    "Input: a = \"11\", b = \"1\"\n",
    "Output: \"100\"\n",
    "Example 2:\n",
    "\n",
    "Input: a = \"1010\", b = \"1011\"\n",
    "Output: \"10101\"\n",
    "'''"
   ]
  },
  {
   "cell_type": "code",
   "execution_count": 52,
   "metadata": {},
   "outputs": [
    {
     "data": {
      "text/plain": [
       "'100'"
      ]
     },
     "execution_count": 52,
     "metadata": {},
     "output_type": "execute_result"
    }
   ],
   "source": [
    "a = '11'\n",
    "b = '1'\n",
    "sol = Solution()\n",
    "sol.addBinary(a, b)"
   ]
  },
  {
   "cell_type": "code",
   "execution_count": 53,
   "metadata": {},
   "outputs": [
    {
     "data": {
      "text/plain": [
       "'10101'"
      ]
     },
     "execution_count": 53,
     "metadata": {},
     "output_type": "execute_result"
    }
   ],
   "source": [
    "a = '1010'\n",
    "b = '1011'\n",
    "sol = Solution()\n",
    "sol.addBinary(a, b)"
   ]
  },
  {
   "cell_type": "code",
   "execution_count": 54,
   "metadata": {},
   "outputs": [
    {
     "data": {
      "text/plain": [
       "'11110'"
      ]
     },
     "execution_count": 54,
     "metadata": {},
     "output_type": "execute_result"
    }
   ],
   "source": [
    "a = '1111'\n",
    "b = '1111'\n",
    "sol = Solution()\n",
    "sol.addBinary(a, b)"
   ]
  }
 ],
 "metadata": {
  "kernelspec": {
   "display_name": "dsa-venv",
   "language": "python",
   "name": "python3"
  },
  "language_info": {
   "codemirror_mode": {
    "name": "ipython",
    "version": 3
   },
   "file_extension": ".py",
   "mimetype": "text/x-python",
   "name": "python",
   "nbconvert_exporter": "python",
   "pygments_lexer": "ipython3",
   "version": "3.11.3"
  }
 },
 "nbformat": 4,
 "nbformat_minor": 2
}
