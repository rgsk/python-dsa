{
 "cells": [
  {
   "cell_type": "code",
   "execution_count": 4,
   "metadata": {},
   "outputs": [],
   "source": [
    "class Solution:\n",
    "    def spiralMatrixIII(self, R, C, r0, c0):\n",
    "        ret = [(r0, c0)] \n",
    "        is_valid = lambda row, col: row >= 0 and row < R and col >= 0 and col < C \n",
    "        \n",
    "        steps = 1 \n",
    "        r, c = r0, c0 \n",
    "        while len(ret) < R * C: \n",
    "            # Go east 1\n",
    "            for step in range(steps):\n",
    "                r, c = r, c + 1 \n",
    "                if is_valid(r, c): ret.append((r, c))\n",
    "                    \n",
    "            # Go down 1 \n",
    "            for step in range(steps):\n",
    "                r, c = r + 1, c \n",
    "                if is_valid(r, c): ret.append((r, c))\n",
    "                    \n",
    "            steps += 1\n",
    "                    \n",
    "            # Go west 2 \n",
    "            for step in range(steps):\n",
    "                r, c = r, c - 1\n",
    "                if is_valid(r, c): ret.append((r, c))           \n",
    "            \n",
    "            # Go north 2 \n",
    "            for step in range(steps):\n",
    "                r, c = r - 1, c \n",
    "                if is_valid(r, c): ret.append((r, c))           \n",
    "                    \n",
    "            steps += 1\n",
    "            \n",
    "        return ret "
   ]
  },
  {
   "cell_type": "code",
   "execution_count": 5,
   "metadata": {},
   "outputs": [
    {
     "data": {
      "text/plain": [
       "[(0, 0), (0, 1), (0, 2), (0, 3)]"
      ]
     },
     "execution_count": 5,
     "metadata": {},
     "output_type": "execute_result"
    }
   ],
   "source": [
    "rows = 1\n",
    "cols = 4\n",
    "rStart = 0\n",
    "cStart = 0\n",
    "sol = Solution()\n",
    "sol.spiralMatrixIII(rows, cols, rStart, cStart)"
   ]
  },
  {
   "cell_type": "code",
   "execution_count": 6,
   "metadata": {},
   "outputs": [
    {
     "data": {
      "text/plain": [
       "[(1, 4),\n",
       " (1, 5),\n",
       " (2, 5),\n",
       " (2, 4),\n",
       " (2, 3),\n",
       " (1, 3),\n",
       " (0, 3),\n",
       " (0, 4),\n",
       " (0, 5),\n",
       " (3, 5),\n",
       " (3, 4),\n",
       " (3, 3),\n",
       " (3, 2),\n",
       " (2, 2),\n",
       " (1, 2),\n",
       " (0, 2),\n",
       " (4, 5),\n",
       " (4, 4),\n",
       " (4, 3),\n",
       " (4, 2),\n",
       " (4, 1),\n",
       " (3, 1),\n",
       " (2, 1),\n",
       " (1, 1),\n",
       " (0, 1),\n",
       " (4, 0),\n",
       " (3, 0),\n",
       " (2, 0),\n",
       " (1, 0),\n",
       " (0, 0)]"
      ]
     },
     "execution_count": 6,
     "metadata": {},
     "output_type": "execute_result"
    }
   ],
   "source": [
    "rows = 5\n",
    "cols = 6\n",
    "rStart = 1\n",
    "cStart = 4\n",
    "sol = Solution()\n",
    "sol.spiralMatrixIII(rows, cols, rStart, cStart)"
   ]
  }
 ],
 "metadata": {
  "kernelspec": {
   "display_name": "dsa-venv",
   "language": "python",
   "name": "python3"
  },
  "language_info": {
   "codemirror_mode": {
    "name": "ipython",
    "version": 3
   },
   "file_extension": ".py",
   "mimetype": "text/x-python",
   "name": "python",
   "nbconvert_exporter": "python",
   "pygments_lexer": "ipython3",
   "version": "3.11.3"
  }
 },
 "nbformat": 4,
 "nbformat_minor": 2
}
