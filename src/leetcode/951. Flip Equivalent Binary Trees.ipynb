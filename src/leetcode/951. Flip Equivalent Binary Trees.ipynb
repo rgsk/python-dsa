{
 "cells": [
  {
   "cell_type": "code",
   "execution_count": 13,
   "metadata": {},
   "outputs": [],
   "source": [
    "# https://leetcode.com/problems/same-tree/\n",
    "from typing import Optional\n",
    "\n",
    "class TreeNode:\n",
    "    def __init__(self, val=0, left=None, right=None):\n",
    "        self.val = val\n",
    "        self.left = left\n",
    "        self.right = right\n",
    "\n",
    "    def __repr__(self) -> str:\n",
    "        return str(getList(self))\n",
    "\n",
    "        \n",
    "\n",
    "def formTree(values: list[int | None]):\n",
    "    if not values: return None\n",
    "    root = TreeNode(values[0])\n",
    "    queue = [root]\n",
    "    i = 1\n",
    "    while i < len(values):\n",
    "        top = queue.pop(0)\n",
    "        if not top: continue\n",
    "        top.left = TreeNode(values[i]) if values[i] != None else None \n",
    "        i += 1\n",
    "        queue.append(top.left)\n",
    "        if i < len(values):\n",
    "            top.right = TreeNode(values[i]) if values[i] != None else None \n",
    "            i += 1\n",
    "            queue.append(top.right)\n",
    "    return root\n",
    "\n",
    "def getList(root: Optional[TreeNode]):\n",
    "    ans: list[int] = []\n",
    "    queue = [root]\n",
    "    while len(queue) > 0:\n",
    "        top = queue.pop(0)\n",
    "        ans.append(top and top.val)\n",
    "        if top:\n",
    "            queue.append(top.left)\n",
    "            queue.append(top.right)\n",
    "\n",
    "    # remove all None from end of ans\n",
    "    i = len(ans) - 1\n",
    "    while i >= 0 and ans[i] == None:\n",
    "        i -= 1\n",
    "    return ans[0: i + 1]"
   ]
  },
  {
   "cell_type": "code",
   "execution_count": 14,
   "metadata": {},
   "outputs": [],
   "source": [
    "class Solution:\n",
    "    def flipEquiv(self, r1: Optional[TreeNode], r2: Optional[TreeNode]) -> bool:\n",
    "        if not r1 or not r2: return r1 == r2 == None\n",
    "        return r1.val == r2.val and (self.flipEquiv(r1.left, r2.left) and  self.flipEquiv(r1.right, r2.right) \\\n",
    "                                or self.flipEquiv(r1.left, r2.right) and self.flipEquiv(r1.right, r2.left))\n"
   ]
  },
  {
   "cell_type": "code",
   "execution_count": 15,
   "metadata": {},
   "outputs": [
    {
     "name": "stdout",
     "output_type": "stream",
     "text": [
      "True\n"
     ]
    }
   ],
   "source": [
    "root1 = formTree([1,2,3,4,5,6,None,None,None,7,8])\n",
    "root2 = formTree([1,3,2,None,6,4,5,None,None,None,None,8,7])\n",
    "sol = Solution()\n",
    "print(sol.flipEquiv(root1, root2))"
   ]
  }
 ],
 "metadata": {
  "kernelspec": {
   "display_name": "Python 3.10.6 ('dsa-venv': venv)",
   "language": "python",
   "name": "python3"
  },
  "language_info": {
   "codemirror_mode": {
    "name": "ipython",
    "version": 3
   },
   "file_extension": ".py",
   "mimetype": "text/x-python",
   "name": "python",
   "nbconvert_exporter": "python",
   "pygments_lexer": "ipython3",
   "version": "3.10.6"
  },
  "orig_nbformat": 4,
  "vscode": {
   "interpreter": {
    "hash": "e2278406c40349b728369a6b418500b4154ef0fb5e599ada131fe37b236439d7"
   }
  }
 },
 "nbformat": 4,
 "nbformat_minor": 2
}
