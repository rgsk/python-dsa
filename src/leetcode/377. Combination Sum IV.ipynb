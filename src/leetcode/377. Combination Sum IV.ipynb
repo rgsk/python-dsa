{
 "cells": [
  {
   "cell_type": "code",
   "execution_count": 27,
   "metadata": {},
   "outputs": [],
   "source": [
    "from typing import List\n",
    "\n",
    "\n",
    "class Solution:\n",
    "    def combinationSum4(self, nums: List[int], target: int) -> int:\n",
    "        def helper(remaining):\n",
    "            if remaining == 0:\n",
    "                return 1\n",
    "            ways = 0\n",
    "            for v in nums:\n",
    "                if remaining >= v:\n",
    "                    ways += helper(remaining - v)\n",
    "            return ways\n",
    "        return helper(target)"
   ]
  },
  {
   "cell_type": "code",
   "execution_count": 28,
   "metadata": {},
   "outputs": [],
   "source": [
    "from typing import List\n",
    "\n",
    "\n",
    "class Solution:\n",
    "    def combinationSum4(self, nums: List[int], target: int) -> int:\n",
    "        dp = [-1] * (target + 1)\n",
    "        def helper(remaining):\n",
    "            if remaining == 0:\n",
    "                return 1\n",
    "            if dp[remaining] != -1:\n",
    "                return dp[remaining]\n",
    "            ways = 0\n",
    "            for v in nums:\n",
    "                if remaining >= v:\n",
    "                    ways += helper(remaining - v)\n",
    "            dp[remaining] = ways\n",
    "            return dp[remaining]\n",
    "        return helper(target)"
   ]
  },
  {
   "cell_type": "code",
   "execution_count": 29,
   "metadata": {},
   "outputs": [],
   "source": [
    "from typing import List\n",
    "\n",
    "\n",
    "class Solution:\n",
    "    def combinationSum4(self, nums: List[int], target: int) -> int:\n",
    "        dp = [0] * (target + 1)\n",
    "        dp[0] = 1\n",
    "        for remaining in range(1, target + 1):\n",
    "            ways = 0\n",
    "            for v in nums:\n",
    "                if remaining >= v:\n",
    "                    ways += dp[remaining - v]\n",
    "            dp[remaining] = ways\n",
    "        return dp[target]"
   ]
  },
  {
   "cell_type": "code",
   "execution_count": 30,
   "metadata": {},
   "outputs": [
    {
     "name": "stdout",
     "output_type": "stream",
     "text": [
      "[1, 1, 2, 4, 7]\n"
     ]
    },
    {
     "data": {
      "text/plain": [
       "7"
      ]
     },
     "execution_count": 30,
     "metadata": {},
     "output_type": "execute_result"
    }
   ],
   "source": [
    "nums = [1,2,3]\n",
    "target = 4\n",
    "sol = Solution()\n",
    "sol.combinationSum4(nums, target)"
   ]
  },
  {
   "cell_type": "code",
   "execution_count": 31,
   "metadata": {},
   "outputs": [
    {
     "name": "stdout",
     "output_type": "stream",
     "text": [
      "[1, 0, 0, 0]\n"
     ]
    },
    {
     "data": {
      "text/plain": [
       "0"
      ]
     },
     "execution_count": 31,
     "metadata": {},
     "output_type": "execute_result"
    }
   ],
   "source": [
    "nums = [9]\n",
    "target = 3\n",
    "sol = Solution()\n",
    "sol.combinationSum4(nums, target)"
   ]
  }
 ],
 "metadata": {
  "kernelspec": {
   "display_name": "dsa-venv",
   "language": "python",
   "name": "python3"
  },
  "language_info": {
   "codemirror_mode": {
    "name": "ipython",
    "version": 3
   },
   "file_extension": ".py",
   "mimetype": "text/x-python",
   "name": "python",
   "nbconvert_exporter": "python",
   "pygments_lexer": "ipython3",
   "version": "3.11.3"
  },
  "orig_nbformat": 4
 },
 "nbformat": 4,
 "nbformat_minor": 2
}
