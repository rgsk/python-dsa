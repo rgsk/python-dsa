{
 "cells": [
  {
   "cell_type": "code",
   "execution_count": 51,
   "metadata": {},
   "outputs": [],
   "source": [
    "from typing import List\n",
    "class Solution:\n",
    "    def isValid(self, board: List[List[str]], i: int, j: int) -> bool:\n",
    "        return self.rowIsValid(board[i]) and self.rowIsValid(list(zip(*board))[j]) and self.rowIsValid([\n",
    "            board[x][y] for x in range((i//3)*3, (i//3)*3+3) for y in range((j//3)*3,(j//3)*3+3)\n",
    "        ])\n",
    "\n",
    "    def rowIsValid(self, row: List[str]) -> bool:\n",
    "        without_dots = [v for v in row if v != \".\"]\n",
    "        return len(without_dots) == len(set(without_dots))\n",
    "\n",
    "    def solveSudoku(self, board: List[List[str]]) -> None:\n",
    "        \"\"\"\n",
    "        Do not return anything, modify board in-place instead.\n",
    "        \"\"\"\n",
    "        def helper(i: int, j: int):\n",
    "            if i == 9:\n",
    "                return True\n",
    "\n",
    "            if j == 9:\n",
    "                return helper(i + 1, 0)\n",
    "\n",
    "            if board[i][j] != '.':\n",
    "                return helper(i, j + 1)\n",
    "\n",
    "            for v in range(1, 10):\n",
    "                board[i][j] = f'{v}'\n",
    "                if self.isValid(board, i, j):\n",
    "                    if helper(i, j + 1):\n",
    "                        return True\n",
    "            board[i][j] = '.'\n",
    "            return False\n",
    "\n",
    "        helper(0,0)\n",
    "        return board\n"
   ]
  },
  {
   "cell_type": "code",
   "execution_count": 52,
   "metadata": {},
   "outputs": [],
   "source": [
    "class Solution:\n",
    "    def solveSudoku(self, board: List[List[str]]) -> None:\n",
    "        \"\"\"\n",
    "        Do not return anything, modify board in-place instead.\n",
    "        \"\"\"\n",
    "        def can_place(row, col, val):\n",
    "            for i in range(9):\n",
    "                if board[i][col] == val:\n",
    "                    return False\n",
    "            for j in range(9):\n",
    "                if board[row][j] == val:\n",
    "                    return False\n",
    "            block_row = (row // 3) * 3\n",
    "            block_col = (col // 3) * 3\n",
    "            for i in range(block_row, block_row + 3):\n",
    "                for j in range(block_col, block_col + 3):\n",
    "                    if board[i][j] == val:\n",
    "                        return False\n",
    "            return True\n",
    "        def helper(row, col):\n",
    "            if col == 9:\n",
    "                return helper(row + 1, 0)\n",
    "            if row == 9:\n",
    "                return True\n",
    "            if board[row][col] != '.':\n",
    "                return helper(row, col + 1)\n",
    "            for v in range(1, 10):\n",
    "                val = f'{v}'\n",
    "                if can_place(row, col, val):\n",
    "                    board[row][col] = val\n",
    "                    res = helper(row, col + 1)\n",
    "                    if res:\n",
    "                        return res\n",
    "                    board[row][col] = '.'\n",
    "            return False\n",
    "        helper(0,0)\n",
    "        return board"
   ]
  },
  {
   "cell_type": "code",
   "execution_count": 53,
   "metadata": {},
   "outputs": [],
   "source": [
    "class Solution:\n",
    "    def solveSudoku(self, board: List[List[str]]) -> None:\n",
    "        \"\"\"\n",
    "        Do not return anything, modify board in-place instead.\n",
    "        \"\"\"\n",
    "        rowsTrack = [[False for _ in range(9 + 1)] for _ in range(9)]\n",
    "        colsTrack = [[False for _ in range(9 + 1)] for _ in range(9)]\n",
    "        blocksTrack = [[False for _ in range(9 + 1)] for _ in range(9)]\n",
    "        def can_place(row, col, val):\n",
    "            if rowsTrack[row][val] or colsTrack[col][val] or blocksTrack[(row // 3)*3 + col // 3][val]:\n",
    "                return False\n",
    "            return True\n",
    "        def mark_unmark(row, col, val, mark):\n",
    "            rowsTrack[row][val] = mark\n",
    "            colsTrack[col][val] = mark\n",
    "            blocksTrack[(row // 3)*3 + col // 3][val] = mark\n",
    "\n",
    "        for row in range(9):\n",
    "            for col in range(9):\n",
    "                if board[row][col] != '.':\n",
    "                    v = int(board[row][col])\n",
    "                    mark_unmark(row, col, v, True)\n",
    "        def helper(row, col):\n",
    "            if col == 9:\n",
    "                return helper(row + 1, 0)\n",
    "            if row == 9:\n",
    "                return True\n",
    "            if board[row][col] != '.':\n",
    "                return helper(row, col + 1)\n",
    "            for v in range(1, 10):\n",
    "                val = f'{v}'\n",
    "                if can_place(row, col, v):\n",
    "                    mark_unmark(row, col, v, True)\n",
    "                    board[row][col] = val\n",
    "                    res = helper(row, col + 1)\n",
    "                    if res:\n",
    "                        return res\n",
    "                    board[row][col] = '.'\n",
    "                    mark_unmark(row, col, v, False)\n",
    "            return False\n",
    "        helper(0,0)\n",
    "        return board"
   ]
  },
  {
   "cell_type": "code",
   "execution_count": 54,
   "metadata": {},
   "outputs": [
    {
     "data": {
      "text/plain": [
       "[['5', '3', '4', '6', '7', '8', '9', '1', '2'],\n",
       " ['6', '7', '2', '1', '9', '5', '3', '4', '8'],\n",
       " ['1', '9', '8', '3', '4', '2', '5', '6', '7'],\n",
       " ['8', '5', '9', '7', '6', '1', '4', '2', '3'],\n",
       " ['4', '2', '6', '8', '5', '3', '7', '9', '1'],\n",
       " ['7', '1', '3', '9', '2', '4', '8', '5', '6'],\n",
       " ['9', '6', '1', '5', '3', '7', '2', '8', '4'],\n",
       " ['2', '8', '7', '4', '1', '9', '6', '3', '5'],\n",
       " ['3', '4', '5', '2', '8', '6', '1', '7', '9']]"
      ]
     },
     "execution_count": 54,
     "metadata": {},
     "output_type": "execute_result"
    }
   ],
   "source": [
    "board = [\n",
    "    [\"5\", \"3\", \".\", \".\", \"7\", \".\", \".\", \".\", \".\"],\n",
    "    [\"6\", \".\", \".\", \"1\", \"9\", \"5\", \".\", \".\", \".\"],\n",
    "    [\".\", \"9\", \"8\", \".\", \".\", \".\", \".\", \"6\", \".\"],\n",
    "    [\"8\", \".\", \".\", \".\", \"6\", \".\", \".\", \".\", \"3\"],\n",
    "    [\"4\", \".\", \".\", \"8\", \".\", \"3\", \".\", \".\", \"1\"],\n",
    "    [\"7\", \".\", \".\", \".\", \"2\", \".\", \".\", \".\", \"6\"],\n",
    "    [\".\", \"6\", \".\", \".\", \".\", \".\", \"2\", \"8\", \".\"],\n",
    "    [\".\", \".\", \".\", \"4\", \"1\", \"9\", \".\", \".\", \"5\"],\n",
    "    [\".\", \".\", \".\", \".\", \"8\", \".\", \".\", \"7\", \"9\"]]\n",
    "sol = Solution()\n",
    "sol.solveSudoku(board)"
   ]
  },
  {
   "cell_type": "code",
   "execution_count": null,
   "metadata": {},
   "outputs": [],
   "source": []
  }
 ],
 "metadata": {
  "kernelspec": {
   "display_name": "Python 3.10.4 ('template-venv': venv)",
   "language": "python",
   "name": "python3"
  },
  "language_info": {
   "codemirror_mode": {
    "name": "ipython",
    "version": 3
   },
   "file_extension": ".py",
   "mimetype": "text/x-python",
   "name": "python",
   "nbconvert_exporter": "python",
   "pygments_lexer": "ipython3",
   "version": "3.11.3"
  },
  "orig_nbformat": 4,
  "vscode": {
   "interpreter": {
    "hash": "0b8dd1d11c220dfc9d15848c82c145ba1a021fcb056c07a0cc073ae3ed6d8420"
   }
  }
 },
 "nbformat": 4,
 "nbformat_minor": 2
}
