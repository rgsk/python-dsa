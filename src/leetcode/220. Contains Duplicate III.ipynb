{
 "cells": [
  {
   "cell_type": "code",
   "execution_count": 14,
   "metadata": {},
   "outputs": [],
   "source": [
    "# https://leetcode.com/problems/contains-duplicate-iii/description/"
   ]
  },
  {
   "cell_type": "code",
   "execution_count": 15,
   "metadata": {},
   "outputs": [],
   "source": [
    "from typing import List\n",
    "\n",
    "\n",
    "class Solution:\n",
    "    def containsNearbyAlmostDuplicate(self, nums: List[int], indexDiff: int, valueDiff: int) -> bool:\n",
    "        n = len(nums)\n",
    "        for i in range(n):\n",
    "            for j in range(i+1, min(n, i + indexDiff + 1)):\n",
    "                if abs(nums[i] - nums[j]) == valueDiff:\n",
    "                    return True\n",
    "        return False"
   ]
  },
  {
   "cell_type": "code",
   "execution_count": 16,
   "metadata": {},
   "outputs": [],
   "source": [
    "# https://leetcode.com/problems/contains-duplicate-iii/solutions/825267/python3-summarizing-contain-duplicates-i-ii-iii/\n",
    "\n",
    "class Solution:\n",
    "    def containsNearbyAlmostDuplicate(self, nums: List[int], k: int, t: int) -> bool:\n",
    "        if t < 0: return False # edge case \n",
    "        \n",
    "        seen = {}\n",
    "        for i, x in enumerate(nums): \n",
    "            bkt = x//(t+1)\n",
    "            if bkt in seen and i - seen[bkt][0] <= k: return True \n",
    "            if bkt-1 in seen and i - seen[bkt-1][0] <= k and abs(x - seen[bkt-1][1]) <= t: return True \n",
    "            if bkt+1 in seen and i - seen[bkt+1][0] <= k and abs(x - seen[bkt+1][1]) <= t: return True \n",
    "            seen[bkt] = (i, x) \n",
    "        return False"
   ]
  },
  {
   "cell_type": "code",
   "execution_count": 17,
   "metadata": {},
   "outputs": [
    {
     "data": {
      "text/plain": [
       "True"
      ]
     },
     "execution_count": 17,
     "metadata": {},
     "output_type": "execute_result"
    }
   ],
   "source": [
    "nums = [1,2,3,1]\n",
    "indexDiff = 3\n",
    "valueDiff = 0\n",
    "sol = Solution()\n",
    "sol.containsNearbyAlmostDuplicate(nums, indexDiff, valueDiff)"
   ]
  },
  {
   "cell_type": "code",
   "execution_count": 18,
   "metadata": {},
   "outputs": [
    {
     "data": {
      "text/plain": [
       "False"
      ]
     },
     "execution_count": 18,
     "metadata": {},
     "output_type": "execute_result"
    }
   ],
   "source": [
    "nums = [1,5,9,1,5,9]\n",
    "indexDiff = 2\n",
    "valueDiff = 3\n",
    "sol = Solution()\n",
    "sol.containsNearbyAlmostDuplicate(nums, indexDiff, valueDiff)"
   ]
  }
 ],
 "metadata": {
  "kernelspec": {
   "display_name": "dsa-venv",
   "language": "python",
   "name": "python3"
  },
  "language_info": {
   "codemirror_mode": {
    "name": "ipython",
    "version": 3
   },
   "file_extension": ".py",
   "mimetype": "text/x-python",
   "name": "python",
   "nbconvert_exporter": "python",
   "pygments_lexer": "ipython3",
   "version": "3.11.3"
  },
  "orig_nbformat": 4
 },
 "nbformat": 4,
 "nbformat_minor": 2
}
