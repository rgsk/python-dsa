{
 "cells": [
  {
   "cell_type": "code",
   "execution_count": 27,
   "metadata": {},
   "outputs": [],
   "source": [
    "# https://leetcode.com/problems/domino-and-tromino-tiling/description/"
   ]
  },
  {
   "cell_type": "code",
   "execution_count": null,
   "metadata": {},
   "outputs": [],
   "source": [
    "# https://www.youtube.com/watch?v=Iwmn-gFL3c0"
   ]
  },
  {
   "cell_type": "code",
   "execution_count": 28,
   "metadata": {},
   "outputs": [],
   "source": [
    "class Solution:\n",
    "    def numTilings(self, n: int) -> int:\n",
    "        def helper(j):\n",
    "            if j == 0:\n",
    "                return 0\n",
    "            if j == 1:\n",
    "                return 1\n",
    "            if j == 2:\n",
    "                return 2\n",
    "            if j == 3:\n",
    "                return 5\n",
    "            return 2 * helper(j-1) + helper(j-3)\n",
    "        return helper(n)"
   ]
  },
  {
   "cell_type": "code",
   "execution_count": 29,
   "metadata": {},
   "outputs": [],
   "source": [
    "mod = 10**9 + 7\n",
    "class Solution:\n",
    "    def numTilings(self, n: int) -> int:\n",
    "        dp = [-1] * (max(n + 1, 4))\n",
    "        dp[0] = 0\n",
    "        dp[1] = 1\n",
    "        dp[2] = 2\n",
    "        dp[3] = 5\n",
    "        for j in range(4, n + 1):\n",
    "            dp[j] = 2 * dp[j-1] + dp[j-3]\n",
    "        return dp[n] % mod"
   ]
  },
  {
   "cell_type": "code",
   "execution_count": 30,
   "metadata": {},
   "outputs": [
    {
     "data": {
      "text/plain": [
       "5"
      ]
     },
     "execution_count": 30,
     "metadata": {},
     "output_type": "execute_result"
    }
   ],
   "source": [
    "n = 3\n",
    "sol = Solution()\n",
    "sol.numTilings(n)"
   ]
  },
  {
   "cell_type": "code",
   "execution_count": 31,
   "metadata": {},
   "outputs": [
    {
     "data": {
      "text/plain": [
       "1"
      ]
     },
     "execution_count": 31,
     "metadata": {},
     "output_type": "execute_result"
    }
   ],
   "source": [
    "n = 1\n",
    "sol = Solution()\n",
    "sol.numTilings(n)"
   ]
  },
  {
   "cell_type": "code",
   "execution_count": 32,
   "metadata": {},
   "outputs": [
    {
     "data": {
      "text/plain": [
       "11"
      ]
     },
     "execution_count": 32,
     "metadata": {},
     "output_type": "execute_result"
    }
   ],
   "source": [
    "n = 4\n",
    "sol = Solution()\n",
    "sol.numTilings(n)"
   ]
  }
 ],
 "metadata": {
  "kernelspec": {
   "display_name": "dsa-venv",
   "language": "python",
   "name": "python3"
  },
  "language_info": {
   "codemirror_mode": {
    "name": "ipython",
    "version": 3
   },
   "file_extension": ".py",
   "mimetype": "text/x-python",
   "name": "python",
   "nbconvert_exporter": "python",
   "pygments_lexer": "ipython3",
   "version": "3.11.3"
  }
 },
 "nbformat": 4,
 "nbformat_minor": 2
}
