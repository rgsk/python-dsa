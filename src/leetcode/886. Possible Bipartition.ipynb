{
 "cells": [
  {
   "cell_type": "code",
   "execution_count": 9,
   "metadata": {},
   "outputs": [],
   "source": [
    "from typing import List\n",
    "\n",
    "# dfs\n",
    "class Solution:\n",
    "    def possibleBipartition(self, n: int, dislikes: List[List[int]]) -> bool:\n",
    "        adj = [[] for _ in range(n + 1)]\n",
    "        for a, b in dislikes:\n",
    "            adj[a].append(b)\n",
    "            adj[b].append(a)\n",
    "        colors = [-1 for _ in range(n + 1)]\n",
    "        def dfs(node, color):\n",
    "            if colors[node] != -1:\n",
    "                return True\n",
    "            colors[node] = color\n",
    "            for child in adj[node]:\n",
    "                if colors[child] == color:\n",
    "                    return False\n",
    "                if not dfs(child, not color):\n",
    "                    return False\n",
    "            return True\n",
    "        for i in range(1, n + 1):\n",
    "            if not dfs(i, True):\n",
    "                return False\n",
    "        return True"
   ]
  },
  {
   "cell_type": "code",
   "execution_count": 10,
   "metadata": {},
   "outputs": [],
   "source": [
    "from collections import deque\n",
    "from typing import List\n",
    "\n",
    "# bfs\n",
    "class Solution:\n",
    "    def possibleBipartition(self, n: int, dislikes: List[List[int]]) -> bool:\n",
    "        adj = [[] for _ in range(n + 1)]\n",
    "        for a, b in dislikes:\n",
    "            adj[a].append(b)\n",
    "            adj[b].append(a)\n",
    "        colors = [-1 for _ in range(n + 1)]\n",
    "        \n",
    "        for node in range(1, n + 1):\n",
    "            if colors[node] == -1:\n",
    "                q = deque()\n",
    "                q.append([node, True])\n",
    "                colors[node] = True\n",
    "                while q:\n",
    "                    cur_node, cur_color = q.popleft()\n",
    "                    for child in adj[cur_node]:\n",
    "                        if colors[child] == cur_color:\n",
    "                            return False\n",
    "                        if colors[child] == -1:\n",
    "                            q.append([child, not cur_color])\n",
    "                            colors[child] = not cur_color\n",
    "        return True"
   ]
  },
  {
   "cell_type": "code",
   "execution_count": 11,
   "metadata": {},
   "outputs": [
    {
     "data": {
      "text/plain": [
       "True"
      ]
     },
     "execution_count": 11,
     "metadata": {},
     "output_type": "execute_result"
    }
   ],
   "source": [
    "n = 4\n",
    "dislikes = [[1,2],[1,3],[2,4]]\n",
    "sol = Solution()\n",
    "sol.possibleBipartition(n, dislikes)"
   ]
  },
  {
   "cell_type": "code",
   "execution_count": 12,
   "metadata": {},
   "outputs": [
    {
     "data": {
      "text/plain": [
       "False"
      ]
     },
     "execution_count": 12,
     "metadata": {},
     "output_type": "execute_result"
    }
   ],
   "source": [
    "n = 3\n",
    "dislikes = [[1,2],[1,3],[2,3]]\n",
    "sol = Solution()\n",
    "sol.possibleBipartition(n, dislikes)"
   ]
  }
 ],
 "metadata": {
  "kernelspec": {
   "display_name": "dsa-venv",
   "language": "python",
   "name": "python3"
  },
  "language_info": {
   "codemirror_mode": {
    "name": "ipython",
    "version": 3
   },
   "file_extension": ".py",
   "mimetype": "text/x-python",
   "name": "python",
   "nbconvert_exporter": "python",
   "pygments_lexer": "ipython3",
   "version": "3.11.3"
  }
 },
 "nbformat": 4,
 "nbformat_minor": 2
}
