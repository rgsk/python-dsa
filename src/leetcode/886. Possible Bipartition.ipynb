{
 "cells": [
  {
   "cell_type": "code",
   "execution_count": 3,
   "metadata": {},
   "outputs": [],
   "source": [
    "from typing import List\n",
    "\n",
    "\n",
    "class Solution:\n",
    "    def possibleBipartition(self, n: int, dislikes: List[List[int]]) -> bool:\n",
    "        adj = [[] for _ in range(n + 1)]\n",
    "        for a, b in dislikes:\n",
    "            adj[a].append(b)\n",
    "            adj[b].append(a)\n",
    "        colors = [-1 for _ in range(n + 1)]\n",
    "        def dfs(node, color):\n",
    "            if colors[node] != -1:\n",
    "                return True\n",
    "            colors[node] = color\n",
    "            for child in adj[node]:\n",
    "                if colors[child] == color:\n",
    "                    return False\n",
    "                if not dfs(child, not color):\n",
    "                    return False\n",
    "            return True\n",
    "        for i in range(1, n + 1):\n",
    "            if not dfs(i, True):\n",
    "                return False\n",
    "        return True"
   ]
  },
  {
   "cell_type": "code",
   "execution_count": 4,
   "metadata": {},
   "outputs": [
    {
     "data": {
      "text/plain": [
       "True"
      ]
     },
     "execution_count": 4,
     "metadata": {},
     "output_type": "execute_result"
    }
   ],
   "source": [
    "n = 4\n",
    "dislikes = [[1,2],[1,3],[2,4]]\n",
    "sol = Solution()\n",
    "sol.possibleBipartition(n, dislikes)"
   ]
  },
  {
   "cell_type": "code",
   "execution_count": 5,
   "metadata": {},
   "outputs": [
    {
     "data": {
      "text/plain": [
       "False"
      ]
     },
     "execution_count": 5,
     "metadata": {},
     "output_type": "execute_result"
    }
   ],
   "source": [
    "n = 3\n",
    "dislikes = [[1,2],[1,3],[2,3]]\n",
    "sol = Solution()\n",
    "sol.possibleBipartition(n, dislikes)"
   ]
  }
 ],
 "metadata": {
  "kernelspec": {
   "display_name": "dsa-venv",
   "language": "python",
   "name": "python3"
  },
  "language_info": {
   "codemirror_mode": {
    "name": "ipython",
    "version": 3
   },
   "file_extension": ".py",
   "mimetype": "text/x-python",
   "name": "python",
   "nbconvert_exporter": "python",
   "pygments_lexer": "ipython3",
   "version": "3.11.3"
  }
 },
 "nbformat": 4,
 "nbformat_minor": 2
}
