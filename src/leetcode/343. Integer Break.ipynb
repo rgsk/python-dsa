{
 "cells": [
  {
   "cell_type": "code",
   "execution_count": 36,
   "metadata": {},
   "outputs": [],
   "source": [
    "class Solution:\n",
    "    def integerBreak(self, n: int) -> int:\n",
    "        def helper(remaining):\n",
    "            if remaining == 0:\n",
    "                return 1\n",
    "            maxValue = 0\n",
    "            for i in range(1, min(remaining + 1, n)):\n",
    "                if remaining >= i:\n",
    "                    maxValue = max(maxValue, i * helper(remaining - i))\n",
    "            return maxValue\n",
    "        return helper(n)"
   ]
  },
  {
   "cell_type": "code",
   "execution_count": 37,
   "metadata": {},
   "outputs": [],
   "source": [
    "from functools import cache\n",
    "\n",
    "# this solution works (Beats 87.61% of users with Python3)\n",
    "class Solution:\n",
    "    def integerBreak(self, n: int) -> int:\n",
    "        @cache\n",
    "        def helper(remaining):\n",
    "            if remaining == 0:\n",
    "                return 1\n",
    "            maxValue = 0\n",
    "            for i in range(1, min(remaining + 1, n)):\n",
    "                if remaining >= i:\n",
    "                    maxValue = max(maxValue, i * helper(remaining - i))\n",
    "            return maxValue\n",
    "        return helper(n)"
   ]
  },
  {
   "cell_type": "code",
   "execution_count": 38,
   "metadata": {},
   "outputs": [],
   "source": [
    "class Solution:\n",
    "    def integerBreak(self, n: int) -> int:\n",
    "        dp = [0] * (n + 1)\n",
    "        dp[0] = 1\n",
    "        for remaining in range(1, n + 1):\n",
    "            maxValue = 0\n",
    "            for i in range(1, min(remaining + 1, n)):\n",
    "                if remaining >= i:\n",
    "                    maxValue = max(maxValue, i * dp[remaining - i])\n",
    "            dp[remaining] = maxValue\n",
    "        return dp[n]"
   ]
  },
  {
   "cell_type": "code",
   "execution_count": 39,
   "metadata": {},
   "outputs": [
    {
     "data": {
      "text/plain": [
       "1"
      ]
     },
     "execution_count": 39,
     "metadata": {},
     "output_type": "execute_result"
    }
   ],
   "source": [
    "n = 2\n",
    "sol = Solution()\n",
    "sol.integerBreak(n)"
   ]
  },
  {
   "cell_type": "code",
   "execution_count": 40,
   "metadata": {},
   "outputs": [
    {
     "data": {
      "text/plain": [
       "36"
      ]
     },
     "execution_count": 40,
     "metadata": {},
     "output_type": "execute_result"
    }
   ],
   "source": [
    "n = 10\n",
    "sol = Solution()\n",
    "sol.integerBreak(n)"
   ]
  }
 ],
 "metadata": {
  "kernelspec": {
   "display_name": "dsa-venv",
   "language": "python",
   "name": "python3"
  },
  "language_info": {
   "codemirror_mode": {
    "name": "ipython",
    "version": 3
   },
   "file_extension": ".py",
   "mimetype": "text/x-python",
   "name": "python",
   "nbconvert_exporter": "python",
   "pygments_lexer": "ipython3",
   "version": "3.11.3"
  },
  "orig_nbformat": 4
 },
 "nbformat": 4,
 "nbformat_minor": 2
}
