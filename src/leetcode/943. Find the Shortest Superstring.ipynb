{
 "cells": [
  {
   "cell_type": "code",
   "execution_count": 433,
   "metadata": {},
   "outputs": [],
   "source": [
    "# https://leetcode.com/problems/find-the-shortest-superstring/description/"
   ]
  },
  {
   "cell_type": "code",
   "execution_count": 434,
   "metadata": {},
   "outputs": [],
   "source": [
    "from typing import List\n",
    "\n",
    "\n",
    "class Solution:\n",
    "    def shortestSuperstring(self, words: List[str]) -> str:\n",
    "        def getCost(s1: str, s2: str):\n",
    "            for i in range(len(s1)):\n",
    "                if s2.startswith(s1[i:]):\n",
    "                    return len(s2) - (len(s1) - i)\n",
    "            return len(s2)\n",
    "        n = len(words)\n",
    "        graph = [[0] * n for _ in range(n)]\n",
    "        for i in range(n):\n",
    "            for j in range(n):\n",
    "                graph[i][j] = getCost(words[i], words[j])\n",
    "                graph[j][i] = getCost(words[j], words[i])\n",
    "        def search(i, path):\n",
    "            if len(path) == n:\n",
    "                return 0, path\n",
    "            min_cost = float('inf')\n",
    "            min_path = []\n",
    "            path_set = set(path)\n",
    "            for j in range(n):\n",
    "                if j in path_set: continue\n",
    "                cur_cost, cur_path = search(j, path + [j])\n",
    "                cur_cost += graph[i][j]\n",
    "                if cur_cost < min_cost:\n",
    "                    min_cost = cur_cost\n",
    "                    min_path = cur_path\n",
    "            return min_cost, min_path\n",
    "        overall_min_cost = float('inf')\n",
    "        final_path = []\n",
    "        for i in range(n):\n",
    "            cur_cost, cur_path = search(i, [i])\n",
    "            cur_cost += len(words[i])\n",
    "            if cur_cost < overall_min_cost:\n",
    "                overall_min_cost = cur_cost\n",
    "                final_path = cur_path\n",
    "        ans = \"\"\n",
    "        for i in range(len(final_path)):\n",
    "            next_word = words[final_path[i]]\n",
    "            if i == 0:\n",
    "                ans += next_word\n",
    "            else:\n",
    "                cost = graph[final_path[i-1]][final_path[i]]\n",
    "                ans += next_word[len(next_word) - cost:]\n",
    "        return ans"
   ]
  },
  {
   "cell_type": "code",
   "execution_count": 435,
   "metadata": {},
   "outputs": [],
   "source": [
    "from functools import lru_cache\n",
    "from typing import List\n",
    "\n",
    "# 62 / 84 testcases passed\n",
    "class Solution:\n",
    "    def shortestSuperstring(self, words: List[str]) -> str:\n",
    "        def getCost(s1: str, s2: str):\n",
    "            for i in range(len(s1)):\n",
    "                if s2.startswith(s1[i:]):\n",
    "                    return len(s2) - (len(s1) - i)\n",
    "            return len(s2)\n",
    "        n = len(words)\n",
    "        graph = [[0] * n for _ in range(n)]\n",
    "        for i in range(n):\n",
    "            for j in range(n):\n",
    "                graph[i][j] = getCost(words[i], words[j])\n",
    "                graph[j][i] = getCost(words[j], words[i])\n",
    "        @lru_cache\n",
    "        def search(i, path):\n",
    "            if len(path) == n:\n",
    "                return 0, path\n",
    "            min_cost = float('inf')\n",
    "            min_path = []\n",
    "            path_set = set(path)\n",
    "            for j in range(n):\n",
    "                if j in path_set: continue\n",
    "                cur_cost, cur_path = search(j, path + (j,))\n",
    "                cur_cost += graph[i][j]\n",
    "                if cur_cost < min_cost:\n",
    "                    min_cost = cur_cost\n",
    "                    min_path = cur_path\n",
    "            return min_cost, min_path\n",
    "        overall_min_cost = float('inf')\n",
    "        final_path = []\n",
    "        for i in range(n):\n",
    "            cur_cost, cur_path = search(i, (i,))\n",
    "            cur_cost += len(words[i])\n",
    "            if cur_cost < overall_min_cost:\n",
    "                overall_min_cost = cur_cost\n",
    "                final_path = cur_path\n",
    "        ans = \"\"\n",
    "        for i in range(len(final_path)):\n",
    "            next_word = words[final_path[i]]\n",
    "            if i == 0:\n",
    "                ans += next_word\n",
    "            else:\n",
    "                cost = graph[final_path[i-1]][final_path[i]]\n",
    "                ans += next_word[len(next_word) - cost:]\n",
    "        return ans"
   ]
  },
  {
   "cell_type": "code",
   "execution_count": 436,
   "metadata": {},
   "outputs": [],
   "source": [
    "from typing import List\n",
    "\n",
    "class Solution:\n",
    "    def shortestSuperstring(self, words: List[str]) -> str:\n",
    "        def getCost(s1: str, s2: str):\n",
    "            for i in range(len(s1)):\n",
    "                if s2.startswith(s1[i:]):\n",
    "                    return len(s2) - (len(s1) - i)\n",
    "            return len(s2)\n",
    "        n = len(words)\n",
    "        graph = [[0] * n for _ in range(n)]\n",
    "        for i in range(n):\n",
    "            for j in range(n):\n",
    "                graph[i][j] = getCost(words[i], words[j])\n",
    "                graph[j][i] = getCost(words[j], words[i])\n",
    "        dp = {}\n",
    "        # mask keeps track of which element has been already visited in the path\n",
    "        def search(i, mask):\n",
    "            if mask == (1<<n)-1:\n",
    "                return 0, [i]\n",
    "            key = (i, mask)\n",
    "            if key in dp:\n",
    "                return dp[key]\n",
    "            min_cost = float('inf')\n",
    "            min_path = []\n",
    "            for j in range(n):\n",
    "                if (mask&(1<<j)) == 0:\n",
    "                    cur_cost, cur_path = search(j, mask|(1<<j))\n",
    "                    cur_cost += graph[i][j]\n",
    "                    if cur_cost < min_cost:\n",
    "                        min_cost = cur_cost\n",
    "                        min_path = cur_path\n",
    "            dp[key] = min_cost, [i] + min_path \n",
    "            # we return the path from current node till end\n",
    "            return dp[key]\n",
    "        overall_min_cost = float('inf')\n",
    "        final_path = []\n",
    "        for i in range(n):\n",
    "            cur_cost, cur_path = search(i, 1 << i)\n",
    "            cur_cost += len(words[i])\n",
    "            if cur_cost < overall_min_cost:\n",
    "                overall_min_cost = cur_cost\n",
    "                final_path = cur_path\n",
    "        ans = \"\"\n",
    "        for i in range(len(final_path)):\n",
    "            next_word = words[final_path[i]]\n",
    "            if i == 0:\n",
    "                ans += next_word\n",
    "            else:\n",
    "                cost = graph[final_path[i-1]][final_path[i]]\n",
    "                ans += next_word[len(next_word) - cost:]\n",
    "        return ans"
   ]
  },
  {
   "cell_type": "code",
   "execution_count": 437,
   "metadata": {},
   "outputs": [],
   "source": [
    "from typing import List\n",
    "\n",
    "class Solution:\n",
    "    def shortestSuperstring(self, words: List[str]) -> str:\n",
    "        def getCost(s1: str, s2: str):\n",
    "            for i in range(len(s1)):\n",
    "                if s2.startswith(s1[i:]):\n",
    "                    return len(s2) - (len(s1) - i)\n",
    "            return len(s2)\n",
    "        n = len(words)\n",
    "        graph = [[0] * n for _ in range(n)]\n",
    "        for i in range(n):\n",
    "            for j in range(n):\n",
    "                graph[i][j] = getCost(words[i], words[j])\n",
    "                graph[j][i] = getCost(words[j], words[i])\n",
    "\n",
    "        dp = {}\n",
    "        #  mask keeps track of which element has been already visited in the path\n",
    "        def search(i, mask):\n",
    "            if mask == (1<<n)-1:\n",
    "                return 0, [i]\n",
    "            key = (i, mask)\n",
    "            if key in dp:\n",
    "                return dp[key]\n",
    "            min_cost = float('inf')\n",
    "            min_path = []\n",
    "            for j in range(n):\n",
    "                if (mask&(1<<j)) == 0:\n",
    "                    cur_cost, cur_path = search(j, mask|(1<<j))\n",
    "                    if i == -1:\n",
    "                        cur_cost += len(words[j])\n",
    "                    else:\n",
    "                        cur_cost += graph[i][j]\n",
    "                    \n",
    "                    if cur_cost < min_cost:\n",
    "                        min_cost = cur_cost\n",
    "                        min_path = cur_path\n",
    "            if i != -1:\n",
    "                min_path = [i] + min_path\n",
    "            dp[key] = min_cost, min_path\n",
    "            # we return the path from current node till end\n",
    "            return dp[key]\n",
    "        overall_min_cost, final_path = search(-1, 0)\n",
    "        ans = \"\"\n",
    "        for i in range(len(final_path)):\n",
    "            next_word = words[final_path[i]]\n",
    "            if i == 0:\n",
    "                ans += next_word\n",
    "            else:\n",
    "                cost = graph[final_path[i-1]][final_path[i]]\n",
    "                ans += next_word[len(next_word) - cost:]\n",
    "        return ans"
   ]
  },
  {
   "cell_type": "code",
   "execution_count": 438,
   "metadata": {},
   "outputs": [
    {
     "data": {
      "text/plain": [
       "'alexlovesleetcode'"
      ]
     },
     "execution_count": 438,
     "metadata": {},
     "output_type": "execute_result"
    }
   ],
   "source": [
    "words = [\"alex\",\"loves\",\"leetcode\"]\n",
    "sol = Solution()\n",
    "sol.shortestSuperstring(words)"
   ]
  },
  {
   "cell_type": "code",
   "execution_count": 439,
   "metadata": {},
   "outputs": [
    {
     "data": {
      "text/plain": [
       "'gctaagttcatgcatc'"
      ]
     },
     "execution_count": 439,
     "metadata": {},
     "output_type": "execute_result"
    }
   ],
   "source": [
    "words = [\"catg\",\"ctaagt\",\"gcta\",\"ttca\",\"atgcatc\"]\n",
    "sol = Solution()\n",
    "sol.shortestSuperstring(words)"
   ]
  },
  {
   "cell_type": "code",
   "execution_count": 440,
   "metadata": {},
   "outputs": [
    {
     "data": {
      "text/plain": [
       "'ykjkggnwvaraecglrhxsggyaifdnbliwndhvprmozdduzzxmskvokzckhugsdzbmnfykeywf'"
      ]
     },
     "execution_count": 440,
     "metadata": {},
     "output_type": "execute_result"
    }
   ],
   "source": [
    "words = [\"gnwvaraecglrhxsggyai\",\"raecglrhxsggyaifdn\",\"bliwndhvprmozdduzzxm\",\"kvokzckhugsdzbmnf\",\"ykjkggnwvaraecglr\",\"sdzbmnfykeywf\",\"dhvprmozdduzzxms\",\"ggyaifdnbliwndh\",\"yaifdnbliwndhvprmoz\",\"mskvokzckhugsdzbm\"]\n",
    "sol = Solution()\n",
    "sol.shortestSuperstring(words)"
   ]
  }
 ],
 "metadata": {
  "kernelspec": {
   "display_name": "dsa-venv",
   "language": "python",
   "name": "python3"
  },
  "language_info": {
   "codemirror_mode": {
    "name": "ipython",
    "version": 3
   },
   "file_extension": ".py",
   "mimetype": "text/x-python",
   "name": "python",
   "nbconvert_exporter": "python",
   "pygments_lexer": "ipython3",
   "version": "3.11.3"
  }
 },
 "nbformat": 4,
 "nbformat_minor": 2
}
