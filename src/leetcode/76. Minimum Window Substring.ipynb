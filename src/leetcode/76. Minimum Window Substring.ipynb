{
 "cells": [
  {
   "cell_type": "code",
   "execution_count": 16,
   "metadata": {},
   "outputs": [],
   "source": [
    "import collections\n",
    "\n",
    "\n",
    "class Solution:\n",
    "    def minWindow(self, s, t):\n",
    "        need = collections.Counter(t)            #hash table to store char frequency\n",
    "        missing = len(t)                         #total number of chars we care\n",
    "        start, end = 0, 0\n",
    "        i = 0\n",
    "        for j, char in enumerate(s, 1):          #index j from 1\n",
    "            if need[char] > 0:\n",
    "                missing -= 1\n",
    "            need[char] -= 1\n",
    "            if missing == 0:                     #match all chars\n",
    "                while i < j and need[s[i]] < 0:  #remove chars to find the real start\n",
    "                    need[s[i]] += 1\n",
    "                    i += 1\n",
    "                need[s[i]] += 1                  #make sure the first appearing char satisfies need[char]>0\n",
    "                missing += 1                     #we missed this first char, so add missing by 1\n",
    "                if end == 0 or j-i < end-start:  #update window\n",
    "                    start, end = i, j\n",
    "                i += 1                           #update i to start+1 for next window\n",
    "        return s[start:end]"
   ]
  },
  {
   "cell_type": "code",
   "execution_count": 17,
   "metadata": {},
   "outputs": [
    {
     "name": "stdout",
     "output_type": "stream",
     "text": [
      "BANC\n"
     ]
    }
   ],
   "source": [
    "s = \"ADOBECODEBANCU\"\n",
    "t = \"ABC\"\n",
    "sol = Solution()\n",
    "print(sol.minWindow(s, t))"
   ]
  }
 ],
 "metadata": {
  "kernelspec": {
   "display_name": "Python 3.10.4 ('template-venv': venv)",
   "language": "python",
   "name": "python3"
  },
  "language_info": {
   "codemirror_mode": {
    "name": "ipython",
    "version": 3
   },
   "file_extension": ".py",
   "mimetype": "text/x-python",
   "name": "python",
   "nbconvert_exporter": "python",
   "pygments_lexer": "ipython3",
   "version": "3.10.4"
  },
  "orig_nbformat": 4,
  "vscode": {
   "interpreter": {
    "hash": "0b8dd1d11c220dfc9d15848c82c145ba1a021fcb056c07a0cc073ae3ed6d8420"
   }
  }
 },
 "nbformat": 4,
 "nbformat_minor": 2
}
