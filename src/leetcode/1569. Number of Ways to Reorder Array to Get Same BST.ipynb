{
 "cells": [
  {
   "cell_type": "code",
   "execution_count": 27,
   "metadata": {},
   "outputs": [],
   "source": [
    "# https://leetcode.com/problems/number-of-ways-to-reorder-array-to-get-same-bst/description/"
   ]
  },
  {
   "cell_type": "code",
   "execution_count": 28,
   "metadata": {},
   "outputs": [],
   "source": [
    "# https://www.youtube.com/watch?v=h9bfbNQa1YA\n",
    "\n",
    "from typing import List\n",
    "\n",
    "mod = 10**9 + 7\n",
    "\n",
    "class Solution:\n",
    "    def numOfWays(self, nums: List[int]) -> int:\n",
    "        n = len(nums)\n",
    "        factorial = [0] * (n + 1)\n",
    "        factorial[0] = 1\n",
    "        for i in range(1, n + 1):\n",
    "            factorial[i] = i * factorial[i - 1]\n",
    "\n",
    "        def ways(arr):\n",
    "            if len(arr) == 0:\n",
    "                return 1\n",
    "            root = arr[0]\n",
    "            left = []\n",
    "            right = []\n",
    "            for i in range(1, len(arr)):\n",
    "                if arr[i] < root:\n",
    "                    left.append(arr[i])\n",
    "                else:\n",
    "                    right.append(arr[i])\n",
    "            left_len = len(left)\n",
    "            right_len = len(right)\n",
    "            cur_ways = factorial[left_len + right_len] // (factorial[left_len] * factorial[right_len])\n",
    "            return ways(left) * ways(right) * cur_ways\n",
    "        \n",
    "        return (ways(nums) - 1) % mod"
   ]
  },
  {
   "cell_type": "code",
   "execution_count": 29,
   "metadata": {},
   "outputs": [
    {
     "data": {
      "text/plain": [
       "1"
      ]
     },
     "execution_count": 29,
     "metadata": {},
     "output_type": "execute_result"
    }
   ],
   "source": [
    "nums = [2,1,3]\n",
    "sol = Solution()\n",
    "sol.numOfWays(nums)"
   ]
  },
  {
   "cell_type": "code",
   "execution_count": 30,
   "metadata": {},
   "outputs": [
    {
     "data": {
      "text/plain": [
       "5"
      ]
     },
     "execution_count": 30,
     "metadata": {},
     "output_type": "execute_result"
    }
   ],
   "source": [
    "nums = [3,4,5,1,2]\n",
    "sol = Solution()\n",
    "sol.numOfWays(nums)"
   ]
  },
  {
   "cell_type": "code",
   "execution_count": 31,
   "metadata": {},
   "outputs": [
    {
     "data": {
      "text/plain": [
       "0"
      ]
     },
     "execution_count": 31,
     "metadata": {},
     "output_type": "execute_result"
    }
   ],
   "source": [
    "nums = [1,2,3]\n",
    "sol = Solution()\n",
    "sol.numOfWays(nums)\n"
   ]
  }
 ],
 "metadata": {
  "kernelspec": {
   "display_name": "dsa-venv",
   "language": "python",
   "name": "python3"
  },
  "language_info": {
   "codemirror_mode": {
    "name": "ipython",
    "version": 3
   },
   "file_extension": ".py",
   "mimetype": "text/x-python",
   "name": "python",
   "nbconvert_exporter": "python",
   "pygments_lexer": "ipython3",
   "version": "3.11.3"
  }
 },
 "nbformat": 4,
 "nbformat_minor": 2
}
