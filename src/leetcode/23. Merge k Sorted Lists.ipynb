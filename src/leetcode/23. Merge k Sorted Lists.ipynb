{
 "cells": [
  {
   "cell_type": "code",
   "execution_count": 42,
   "metadata": {},
   "outputs": [],
   "source": [
    "# Definition for singly-linked list.\n",
    "from typing import List, Optional\n",
    "\n",
    "class ListNode:\n",
    "    def __init__(self, val=0, next: Optional['ListNode'] = None):\n",
    "        self.val = val\n",
    "        self.next = next\n",
    "\n",
    "\n",
    "def asList(l: Optional[ListNode]) -> List[int]:\n",
    "    if l == None:\n",
    "        return []\n",
    "\n",
    "    ans: List[int] = []\n",
    "    t = l\n",
    "    while t != None:\n",
    "        assert isinstance(t, ListNode)\n",
    "        ans.append(t.val)\n",
    "        t = t.next\n",
    "\n",
    "    return ans\n",
    "\n",
    "\n",
    "def asLinkedList(elems: List[int]) -> Optional[ListNode]:\n",
    "    if not elems:\n",
    "        return None\n",
    "    l = ListNode()\n",
    "    t = l\n",
    "    for v in elems:\n",
    "        t.next = ListNode(v)\n",
    "        t = t.next\n",
    "    return l.next\n",
    "\n",
    "\n",
    "class Solution:\n",
    "    def mergeKLists(self, lists: List[Optional[ListNode]]) -> Optional[ListNode]:\n",
    "        combinedList = []\n",
    "        for linkedList in lists:\n",
    "            combinedList += asList(linkedList)\n",
    "        combinedList.sort()\n",
    "        return asLinkedList(combinedList)"
   ]
  },
  {
   "cell_type": "code",
   "execution_count": 43,
   "metadata": {},
   "outputs": [
    {
     "name": "stdout",
     "output_type": "stream",
     "text": [
      "[1, 1, 2, 3, 4, 4, 5, 6]\n"
     ]
    }
   ],
   "source": [
    "lists = [asLinkedList([1,4,5]),asLinkedList([1,3,4]),asLinkedList([2,6])]\n",
    "sol = Solution()\n",
    "print(asList(sol.mergeKLists(lists)))"
   ]
  },
  {
   "cell_type": "code",
   "execution_count": 44,
   "metadata": {},
   "outputs": [],
   "source": [
    "# Time Limit Exceeded\n",
    "def getMinListNodeIndex(listNodes: List[Optional[ListNode]]):\n",
    "    minNodeIndex = -1\n",
    "    for i in range(len(listNodes)):\n",
    "        if listNodes[i] != None:\n",
    "            if minNodeIndex == -1 or listNodes[i].val < listNodes[minNodeIndex].val:\n",
    "                minNodeIndex = i\n",
    "    return minNodeIndex\n",
    "class Solution:\n",
    "    def mergeKLists(self, nodes: List[Optional[ListNode]]) -> Optional[ListNode]:\n",
    "        cur = dummy = ListNode()\n",
    "        while True:               \n",
    "            minNodeIndex = getMinListNodeIndex(nodes)\n",
    "            if minNodeIndex == -1:\n",
    "                break\n",
    "            cur.next = nodes[minNodeIndex]\n",
    "            nodes[minNodeIndex] = nodes[minNodeIndex].next\n",
    "            cur = cur.next\n",
    "        return dummy.next"
   ]
  },
  {
   "cell_type": "code",
   "execution_count": 45,
   "metadata": {},
   "outputs": [
    {
     "name": "stdout",
     "output_type": "stream",
     "text": [
      "[1, 1, 2, 3, 4, 4, 5, 6]\n"
     ]
    }
   ],
   "source": [
    "lists = [asLinkedList([1,4,5]),asLinkedList([1,3,4]),asLinkedList([2,6])]\n",
    "sol = Solution()\n",
    "print(asList(sol.mergeKLists(lists)))"
   ]
  },
  {
   "cell_type": "code",
   "execution_count": 46,
   "metadata": {},
   "outputs": [],
   "source": [
    "class Solution(object):\n",
    "    def mergeKLists(self, lists):\n",
    "        if not lists:\n",
    "            return None\n",
    "        if len(lists) == 1:\n",
    "            return lists[0]\n",
    "        mid = len(lists) // 2\n",
    "        l, r = self.mergeKLists(lists[:mid]), self.mergeKLists(lists[mid:])\n",
    "        return self.merge(l, r)\n",
    "    \n",
    "    def merge(self, l, r):\n",
    "        dummy = p = ListNode()\n",
    "        while l and r:\n",
    "            if l.val < r.val:\n",
    "                p.next = l\n",
    "                l = l.next\n",
    "            else:\n",
    "                p.next = r\n",
    "                r = r.next\n",
    "            p = p.next\n",
    "        p.next = l or r\n",
    "        return dummy.next"
   ]
  },
  {
   "cell_type": "code",
   "execution_count": 47,
   "metadata": {},
   "outputs": [
    {
     "name": "stdout",
     "output_type": "stream",
     "text": [
      "[1, 1, 2, 3, 4, 4, 5, 6]\n"
     ]
    }
   ],
   "source": [
    "lists = [asLinkedList([1,4,5]),asLinkedList([1,3,4]),asLinkedList([2,6])]\n",
    "sol = Solution()\n",
    "print(asList(sol.mergeKLists(lists)))"
   ]
  }
 ],
 "metadata": {
  "kernelspec": {
   "display_name": "Python 3.10.4 ('template-venv': venv)",
   "language": "python",
   "name": "python3"
  },
  "language_info": {
   "codemirror_mode": {
    "name": "ipython",
    "version": 3
   },
   "file_extension": ".py",
   "mimetype": "text/x-python",
   "name": "python",
   "nbconvert_exporter": "python",
   "pygments_lexer": "ipython3",
   "version": "3.10.4"
  },
  "orig_nbformat": 4,
  "vscode": {
   "interpreter": {
    "hash": "0b8dd1d11c220dfc9d15848c82c145ba1a021fcb056c07a0cc073ae3ed6d8420"
   }
  }
 },
 "nbformat": 4,
 "nbformat_minor": 2
}
