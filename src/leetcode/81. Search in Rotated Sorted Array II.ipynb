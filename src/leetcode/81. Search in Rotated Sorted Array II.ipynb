{
 "cells": [
  {
   "cell_type": "code",
   "execution_count": 66,
   "metadata": {},
   "outputs": [],
   "source": [
    "# https://leetcode.com/problems/search-in-rotated-sorted-array-ii/description/"
   ]
  },
  {
   "cell_type": "code",
   "execution_count": 67,
   "metadata": {},
   "outputs": [],
   "source": [
    "# successful\n",
    "\n",
    "from typing import List\n",
    "\n",
    "\n",
    "def binary_search(nums, target, lo, hi):\n",
    "    while lo <= hi:\n",
    "        mid = (lo+hi)//2\n",
    "        if nums[mid] == target:\n",
    "            return True\n",
    "        if nums[mid] > target:\n",
    "            hi = mid - 1\n",
    "        else:\n",
    "            lo = mid + 1\n",
    "    return False\n",
    "\n",
    "class Solution:\n",
    "    def search(self, nums: List[int], target: int) -> int:\n",
    "        n = len(nums)\n",
    "        lo = 0\n",
    "        for i in range(1, n):\n",
    "            if nums[i] < nums[i-1]:\n",
    "                lo = i\n",
    "                break\n",
    "        if lo == 0:\n",
    "            return binary_search(nums, target, 0, n-1)\n",
    "        elif target < nums[0]:\n",
    "            return binary_search(nums, target, lo, n-1)\n",
    "        else:\n",
    "            return binary_search(nums, target, 0, lo-1)\n",
    "\n"
   ]
  },
  {
   "cell_type": "code",
   "execution_count": 68,
   "metadata": {},
   "outputs": [],
   "source": [
    "# successful\n",
    "class Solution:\n",
    "    def search(self, nums: List[int], target: int) -> int:\n",
    "        n = len(nums)\n",
    "        lo = 0\n",
    "        hi = n - 1\n",
    "        while lo <= hi:\n",
    "            mid = (lo+hi)//2\n",
    "            if nums[mid] == target:\n",
    "                return True\n",
    "            if nums[lo] < nums[mid]:\n",
    "                if nums[lo] <= target < nums[mid]:\n",
    "                    hi = mid - 1\n",
    "                else:\n",
    "                    lo = mid + 1\n",
    "            elif nums[lo] == nums[mid]:\n",
    "                lo += 1\n",
    "            else:\n",
    "                if nums[mid] < target <= nums[hi]:\n",
    "                    lo = mid + 1\n",
    "                else:\n",
    "                    hi = mid - 1\n",
    "        return False"
   ]
  },
  {
   "cell_type": "code",
   "execution_count": 69,
   "metadata": {},
   "outputs": [
    {
     "name": "stdout",
     "output_type": "stream",
     "text": [
      "True\n"
     ]
    }
   ],
   "source": [
    "nums = [2,5,6,0,0,1,2]\n",
    "target = 0\n",
    "sol = Solution()\n",
    "print(sol.search(nums, target))"
   ]
  },
  {
   "cell_type": "code",
   "execution_count": 70,
   "metadata": {},
   "outputs": [
    {
     "name": "stdout",
     "output_type": "stream",
     "text": [
      "False\n"
     ]
    }
   ],
   "source": [
    "nums = [2,5,6,0,0,1,2]\n",
    "target = 3\n",
    "sol = Solution()\n",
    "print(sol.search(nums, target))"
   ]
  },
  {
   "cell_type": "code",
   "execution_count": 71,
   "metadata": {},
   "outputs": [
    {
     "name": "stdout",
     "output_type": "stream",
     "text": [
      "False\n"
     ]
    }
   ],
   "source": [
    "nums = [1,0,1,1,1]\n",
    "target = 0\n",
    "sol = Solution()\n",
    "print(sol.search(nums, target))"
   ]
  },
  {
   "cell_type": "code",
   "execution_count": 72,
   "metadata": {},
   "outputs": [
    {
     "name": "stdout",
     "output_type": "stream",
     "text": [
      "False\n"
     ]
    }
   ],
   "source": [
    "nums = [1,1,1,1,1,1,1,1,1,1,1,1,1,2,1,1,1,1,1]\n",
    "target = 2\n",
    "sol = Solution()\n",
    "print(sol.search(nums, target)) "
   ]
  }
 ],
 "metadata": {
  "kernelspec": {
   "display_name": "venv",
   "language": "python",
   "name": "python3"
  },
  "language_info": {
   "codemirror_mode": {
    "name": "ipython",
    "version": 3
   },
   "file_extension": ".py",
   "mimetype": "text/x-python",
   "name": "python",
   "nbconvert_exporter": "python",
   "pygments_lexer": "ipython3",
   "version": "3.11.3"
  }
 },
 "nbformat": 4,
 "nbformat_minor": 2
}
