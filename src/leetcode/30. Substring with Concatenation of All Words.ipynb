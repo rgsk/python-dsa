{
 "cells": [
  {
   "cell_type": "code",
   "execution_count": 46,
   "metadata": {},
   "outputs": [],
   "source": [
    "from typing import List\n",
    "\n",
    "# TLE\n",
    "# 174 / 179 testcases passed\n",
    "class Solution:\n",
    "    def findSubstring(self, s: str, words: List[str]) -> List[int]:\n",
    "        ans = []\n",
    "        wordLength = len(words[0])\n",
    "        for i in range(len(s) - wordLength + 1):\n",
    "            starts = set()\n",
    "            while len(starts) < len(words):\n",
    "                added = False\n",
    "                for j in range(len(words)):\n",
    "                    if j not in starts and s[i+len(starts)*wordLength:].startswith(words[j]):\n",
    "                        starts.add(j)\n",
    "                        added = True\n",
    "                if not added:\n",
    "                    break    \n",
    "            if len(starts) == len(words):\n",
    "                ans.append(i)\n",
    "        return ans"
   ]
  },
  {
   "cell_type": "code",
   "execution_count": 47,
   "metadata": {},
   "outputs": [],
   "source": [
    "from typing import List\n",
    "\n",
    "\n",
    "class Solution:\n",
    "    def findSubstring(self, s: str, words: List[str]) -> List[int]:\n",
    "        ans = []\n",
    "        wordLength = len(words[0])\n",
    "        for i in range(len(s) - wordLength + 1):\n",
    "            starts = set()\n",
    "            while len(starts) < len(words):\n",
    "                start = i+len(starts)*wordLength\n",
    "                prefix = s[start:start+wordLength]\n",
    "                idx = -1\n",
    "                for j in range(len(words)):\n",
    "                    if words[j] == prefix and j not in starts:\n",
    "                        idx = j\n",
    "                        break\n",
    "                if idx != -1:\n",
    "                    starts.add(idx)\n",
    "                else:\n",
    "                    break\n",
    "            if len(starts) == len(words):\n",
    "                ans.append(i)\n",
    "        return ans"
   ]
  },
  {
   "cell_type": "code",
   "execution_count": 48,
   "metadata": {},
   "outputs": [],
   "source": [
    "from collections import defaultdict\n",
    "from typing import List\n",
    "\n",
    "\n",
    "class Solution:\n",
    "    def findSubstring(self, s: str, words: List[str]) -> List[int]:\n",
    "        ans = []\n",
    "        wordLength = len(words[0])\n",
    "        initalWordsMap = defaultdict(int)\n",
    "        for word in words:\n",
    "            initalWordsMap[word] += 1\n",
    "        for i in range(len(s) - wordLength + 1):\n",
    "            matched = 0\n",
    "            wordsMap = initalWordsMap.copy()\n",
    "            while True:\n",
    "                start = i+matched*wordLength\n",
    "                prefix = s[start:start+wordLength]\n",
    "                if wordsMap[prefix] > 0:\n",
    "                    wordsMap[prefix] -= 1\n",
    "                    matched += 1\n",
    "                else:\n",
    "                    break\n",
    "            if matched == len(words):\n",
    "                ans.append(i)\n",
    "        return ans"
   ]
  },
  {
   "cell_type": "code",
   "execution_count": 49,
   "metadata": {},
   "outputs": [],
   "source": [
    "from collections import defaultdict\n",
    "from typing import List\n",
    "\n",
    "\n",
    "class Solution:\n",
    "    def findSubstring(self, s: str, words: List[str]) -> List[int]:\n",
    "        ans = []\n",
    "        wordLength = len(words[0])\n",
    "        initalWordsMap = defaultdict(int)\n",
    "        for word in words:\n",
    "            initalWordsMap[word] += 1\n",
    "        for i in range(len(s) - wordLength + 1):\n",
    "            matched = 0\n",
    "            seen = defaultdict(int)\n",
    "            while True:\n",
    "                start = i+matched*wordLength\n",
    "                prefix = s[start:start+wordLength]\n",
    "                if seen[prefix] < initalWordsMap[prefix]:\n",
    "                    seen[prefix] += 1\n",
    "                    matched += 1\n",
    "                else:\n",
    "                    break\n",
    "            if matched == len(words):\n",
    "                ans.append(i)\n",
    "        return ans"
   ]
  },
  {
   "cell_type": "code",
   "execution_count": 50,
   "metadata": {},
   "outputs": [
    {
     "data": {
      "text/plain": [
       "[0, 9]"
      ]
     },
     "execution_count": 50,
     "metadata": {},
     "output_type": "execute_result"
    }
   ],
   "source": [
    "s = \"barfoothefoobarman\"\n",
    "words = [\"foo\", \"bar\"]\n",
    "sol = Solution()\n",
    "sol.findSubstring(s, words)"
   ]
  },
  {
   "cell_type": "code",
   "execution_count": 51,
   "metadata": {},
   "outputs": [
    {
     "data": {
      "text/plain": [
       "[]"
      ]
     },
     "execution_count": 51,
     "metadata": {},
     "output_type": "execute_result"
    }
   ],
   "source": [
    "s = \"wordgoodgoodgoodbestword\"\n",
    "words = [\"word\",\"good\",\"best\",\"word\"]\n",
    "sol = Solution()\n",
    "sol.findSubstring(s, words)"
   ]
  },
  {
   "cell_type": "code",
   "execution_count": 52,
   "metadata": {},
   "outputs": [
    {
     "data": {
      "text/plain": [
       "[6, 9, 12]"
      ]
     },
     "execution_count": 52,
     "metadata": {},
     "output_type": "execute_result"
    }
   ],
   "source": [
    "s = \"barfoofoobarthefoobarman\"\n",
    "words = [\"bar\",\"foo\",\"the\"]\n",
    "sol = Solution()\n",
    "sol.findSubstring(s, words)"
   ]
  }
 ],
 "metadata": {
  "kernelspec": {
   "display_name": "dsa-venv",
   "language": "python",
   "name": "python3"
  },
  "language_info": {
   "codemirror_mode": {
    "name": "ipython",
    "version": 3
   },
   "file_extension": ".py",
   "mimetype": "text/x-python",
   "name": "python",
   "nbconvert_exporter": "python",
   "pygments_lexer": "ipython3",
   "version": "3.11.3"
  },
  "orig_nbformat": 4
 },
 "nbformat": 4,
 "nbformat_minor": 2
}
