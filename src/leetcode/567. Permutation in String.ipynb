{
 "cells": [
  {
   "cell_type": "code",
   "execution_count": 48,
   "metadata": {},
   "outputs": [],
   "source": [
    "from collections import defaultdict\n",
    "\n",
    "\n",
    "class Solution:\n",
    "    def checkInclusion(self, p: str, s: str) -> bool:\n",
    "        hm, pL, sL = defaultdict(int), len(p), len(s)\n",
    "        if pL > sL: return []\n",
    "\n",
    "        # build hashmap\n",
    "        for ch in p: hm[ch] += 1\n",
    "\n",
    "        # initial full pass over the window\n",
    "        for i in range(pL):\n",
    "            if s[i] in hm: hm[s[i]] -= 1\n",
    "\n",
    "        if all(v == 0 for v in hm.values()): \n",
    "            return True\n",
    "            \n",
    "        # slide the window with stride 1\n",
    "        for i in range(sL-pL):\n",
    "            if s[i] in hm:\n",
    "                hm[s[i]] += 1\n",
    "            if s[i+pL] in hm:\n",
    "                hm[s[i+pL]] -= 1\n",
    "                \n",
    "            # check whether we encountered an anagram\n",
    "            if all(v == 0 for v in hm.values()): \n",
    "                return True\n",
    "                \n",
    "        return False"
   ]
  },
  {
   "cell_type": "code",
   "execution_count": 49,
   "metadata": {},
   "outputs": [],
   "source": [
    "\n",
    "\n",
    "from collections import Counter\n",
    "\n",
    "class Solution:\n",
    "\tdef checkInclusion(self, s1: str, s2: str) -> bool:\n",
    "\t\tcntr, w = Counter(s1), len(s1)   \n",
    "\n",
    "\t\tfor i in range(len(s2)):\n",
    "\t\t\tif s2[i] in cntr: \n",
    "\t\t\t\tcntr[s2[i]] -= 1\n",
    "\t\t\tif i >= w and s2[i-w] in cntr: \n",
    "\t\t\t\tcntr[s2[i-w]] += 1\n",
    "\n",
    "\t\t\tif all([cntr[i] == 0 for i in cntr]): # see optimized code below\n",
    "\t\t\t\treturn True\n",
    "\n",
    "\t\treturn False"
   ]
  },
  {
   "cell_type": "code",
   "execution_count": 50,
   "metadata": {},
   "outputs": [],
   "source": [
    "\n",
    "from collections import Counter\n",
    "\n",
    "class Solution:\n",
    "    def checkInclusion(self, s1: str, s2: str) -> bool:\n",
    "        cntr, w, match = Counter(s1), len(s1), 0     \n",
    "\n",
    "        for i in range(len(s2)):\n",
    "            if s2[i] in cntr:\n",
    "                if not cntr[s2[i]]: match -= 1\n",
    "                cntr[s2[i]] -= 1\n",
    "                if not cntr[s2[i]]: match += 1\n",
    "\n",
    "            if i >= w and s2[i-w] in cntr:\n",
    "                if not cntr[s2[i-w]]: match -= 1\n",
    "                cntr[s2[i-w]] += 1\n",
    "                if not cntr[s2[i-w]]: match += 1\n",
    "\n",
    "            if match == len(cntr):\n",
    "                return True\n",
    "\n",
    "        return False"
   ]
  },
  {
   "cell_type": "code",
   "execution_count": 52,
   "metadata": {},
   "outputs": [
    {
     "data": {
      "text/plain": [
       "True"
      ]
     },
     "execution_count": 52,
     "metadata": {},
     "output_type": "execute_result"
    }
   ],
   "source": [
    "s1 = \"ab\"\n",
    "s2 = \"eidbaooo\"\n",
    "sol = Solution()\n",
    "sol.checkInclusion(s1, s2)"
   ]
  },
  {
   "cell_type": "code",
   "execution_count": 53,
   "metadata": {},
   "outputs": [
    {
     "data": {
      "text/plain": [
       "False"
      ]
     },
     "execution_count": 53,
     "metadata": {},
     "output_type": "execute_result"
    }
   ],
   "source": [
    "s1 = \"ab\"\n",
    "s2 = \"eidboaoo\"\n",
    "sol = Solution()\n",
    "sol.checkInclusion(s1, s2)"
   ]
  }
 ],
 "metadata": {
  "kernelspec": {
   "display_name": "dsa-venv",
   "language": "python",
   "name": "python3"
  },
  "language_info": {
   "codemirror_mode": {
    "name": "ipython",
    "version": 3
   },
   "file_extension": ".py",
   "mimetype": "text/x-python",
   "name": "python",
   "nbconvert_exporter": "python",
   "pygments_lexer": "ipython3",
   "version": "3.11.3"
  }
 },
 "nbformat": 4,
 "nbformat_minor": 2
}
