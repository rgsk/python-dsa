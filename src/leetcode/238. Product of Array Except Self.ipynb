{
 "cells": [
  {
   "cell_type": "code",
   "execution_count": 51,
   "metadata": {},
   "outputs": [],
   "source": [
    "from typing import List\n",
    "\n",
    "# O(n^2)\n",
    "class Solution:\n",
    "    def productExceptSelf(self, nums: List[int]) -> List[int]:\n",
    "        n = len(nums)\n",
    "        ans = []\n",
    "        for i in range(n):\n",
    "            c = 1\n",
    "            for j in range(n):\n",
    "                if i != j:\n",
    "                    c *= nums[j]\n",
    "            ans.append(c)\n",
    "        return ans"
   ]
  },
  {
   "cell_type": "code",
   "execution_count": 52,
   "metadata": {},
   "outputs": [],
   "source": [
    "class Solution:\n",
    "    def productExceptSelf(self, nums: List[int]) -> List[int]:\n",
    "        n = len(nums)\n",
    "        zeroesCount = 0\n",
    "        for v in nums:\n",
    "            if v == 0:\n",
    "                zeroesCount += 1\n",
    "        if zeroesCount >= 2:\n",
    "            return [0] * n\n",
    "        elif zeroesCount == 1:\n",
    "            product = 1\n",
    "            for v in nums:\n",
    "                if v != 0:\n",
    "                    product *= v\n",
    "            return [product if v == 0 else 0 for v in nums]\n",
    "        else:\n",
    "            product = 1\n",
    "            for v in nums:\n",
    "                product *= v\n",
    "            return [product // v for v in nums]"
   ]
  },
  {
   "cell_type": "code",
   "execution_count": 53,
   "metadata": {},
   "outputs": [
    {
     "name": "stdout",
     "output_type": "stream",
     "text": [
      "skipping\n"
     ]
    }
   ],
   "source": [
    "%%script echo skipping\n",
    "\n",
    "from typing import List\n",
    "\n",
    "\n",
    "class Solution:\n",
    "    def productExceptSelf(self, nums: List[int]) -> List[int]:\n",
    "        n = len(nums)\n",
    "        ans = [0] * n\n",
    "        pre = [0] * n\n",
    "        suf = [0] * n\n",
    "        pre[0] = 1\n",
    "        for i in range(1, n):\n",
    "            pre[i] = pre[i - 1] * nums[i - 1]\n",
    "        suf[n-1] = 1\n",
    "        for i in range(n-2, -1, -1):\n",
    "            suf[i] = suf[i + 1] * nums[i + 1]\n",
    "        for i in range(n):\n",
    "            ans[i] = pre[i] * suf[i]\n",
    "        return ans"
   ]
  },
  {
   "cell_type": "code",
   "execution_count": 54,
   "metadata": {},
   "outputs": [
    {
     "name": "stdout",
     "output_type": "stream",
     "text": [
      "skipping\n"
     ]
    }
   ],
   "source": [
    "%%script echo skipping\n",
    "\n",
    "from typing import List\n",
    "\n",
    "# best solution no need of prefix and suffix array\n",
    "# Directly store the product of prefix and suffix into the final answer array\n",
    "class Solution:\n",
    "    def productExceptSelf(self, nums: List[int]) -> List[int]:\n",
    "        n = len(nums)\n",
    "        ans = [1] * n\n",
    "        curr = 1\n",
    "        for i in range(n):\n",
    "            ans[i] *= curr\n",
    "            curr *= nums[i]\n",
    "        curr = 1\n",
    "        for i in range(n-1, -1, -1):\n",
    "            ans[i] *= curr\n",
    "            curr *= nums[i]\n",
    "        return ans"
   ]
  },
  {
   "cell_type": "code",
   "execution_count": 55,
   "metadata": {},
   "outputs": [
    {
     "data": {
      "text/plain": [
       "[24, 12, 8, 6]"
      ]
     },
     "execution_count": 55,
     "metadata": {},
     "output_type": "execute_result"
    }
   ],
   "source": [
    "nums = [1,2,3,4]\n",
    "sol = Solution()\n",
    "sol.productExceptSelf(nums)"
   ]
  },
  {
   "cell_type": "code",
   "execution_count": 56,
   "metadata": {},
   "outputs": [
    {
     "data": {
      "text/plain": [
       "[0, 0, 9, 0, 0]"
      ]
     },
     "execution_count": 56,
     "metadata": {},
     "output_type": "execute_result"
    }
   ],
   "source": [
    "nums = [-1,1,0,-3,3]\n",
    "sol = Solution()\n",
    "sol.productExceptSelf(nums)"
   ]
  }
 ],
 "metadata": {
  "kernelspec": {
   "display_name": "dsa-venv",
   "language": "python",
   "name": "python3"
  },
  "language_info": {
   "codemirror_mode": {
    "name": "ipython",
    "version": 3
   },
   "file_extension": ".py",
   "mimetype": "text/x-python",
   "name": "python",
   "nbconvert_exporter": "python",
   "pygments_lexer": "ipython3",
   "version": "3.11.3"
  }
 },
 "nbformat": 4,
 "nbformat_minor": 2
}
