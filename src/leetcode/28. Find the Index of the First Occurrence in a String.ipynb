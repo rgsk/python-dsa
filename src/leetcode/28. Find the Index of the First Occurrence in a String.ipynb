{
 "cells": [
  {
   "cell_type": "code",
   "execution_count": 136,
   "metadata": {},
   "outputs": [],
   "source": [
    "class Solution:\n",
    "    def strStr(self, haystack: str, needle: str) -> int:\n",
    "        try:\n",
    "            return haystack.index(needle)\n",
    "        except:\n",
    "            return -1"
   ]
  },
  {
   "cell_type": "code",
   "execution_count": 137,
   "metadata": {},
   "outputs": [
    {
     "name": "stdout",
     "output_type": "stream",
     "text": [
      "0\n"
     ]
    }
   ],
   "source": [
    "haystack = \"sadbutsad\"\n",
    "needle = \"sad\"\n",
    "sol = Solution()\n",
    "print(sol.strStr(haystack, needle))"
   ]
  },
  {
   "cell_type": "code",
   "execution_count": 138,
   "metadata": {},
   "outputs": [
    {
     "name": "stdout",
     "output_type": "stream",
     "text": [
      "-1\n"
     ]
    }
   ],
   "source": [
    "haystack = \"leetcode\"\n",
    "needle = \"leeto\"\n",
    "sol = Solution()\n",
    "print(sol.strStr(haystack, needle))"
   ]
  },
  {
   "cell_type": "code",
   "execution_count": 139,
   "metadata": {},
   "outputs": [],
   "source": [
    "import numpy as np\n",
    "def lcss(s1: str, s2: str):\n",
    "    n1 = len(s1)\n",
    "    n2 = len(s2)\n",
    "    dp = [[0 for _ in range(n2 + 1)] for _ in range(n1 + 1)]\n",
    "    for i in range(1, n1 + 1):\n",
    "        for j in range(1, n2 + 1):\n",
    "            if s1[i-1] == s2[j-1]:\n",
    "                dp[i][j] = dp[i-1][j-1] + 1\n",
    "    \n",
    "    for i in range(n2, len(dp)):\n",
    "        row = dp[i]\n",
    "        if n2 in row:\n",
    "            return i - n2\n",
    "    return -1\n",
    "    \n",
    "class Solution:\n",
    "    def strStr(self, haystack: str, needle: str) -> int:\n",
    "        return lcss(haystack, needle)\n",
    "        \n"
   ]
  },
  {
   "cell_type": "code",
   "execution_count": 140,
   "metadata": {},
   "outputs": [
    {
     "name": "stdout",
     "output_type": "stream",
     "text": [
      "1\n"
     ]
    }
   ],
   "source": [
    "haystack = \"esadbutsad\"\n",
    "needle = \"sad\"\n",
    "sol = Solution()\n",
    "print(sol.strStr(haystack, needle))"
   ]
  },
  {
   "cell_type": "code",
   "execution_count": 141,
   "metadata": {},
   "outputs": [
    {
     "name": "stdout",
     "output_type": "stream",
     "text": [
      "-1\n"
     ]
    }
   ],
   "source": [
    "haystack = \"leetcode\"\n",
    "needle = \"leeto\"\n",
    "sol = Solution()\n",
    "print(sol.strStr(haystack, needle))"
   ]
  },
  {
   "cell_type": "code",
   "execution_count": 142,
   "metadata": {},
   "outputs": [],
   "source": [
    "class Solution:\n",
    "    def strStr(self, haystack: str, needle: str) -> int:\n",
    "        if needle in haystack:\n",
    "            return haystack.index(needle)\n",
    "        return -1"
   ]
  },
  {
   "cell_type": "code",
   "execution_count": 143,
   "metadata": {},
   "outputs": [
    {
     "name": "stdout",
     "output_type": "stream",
     "text": [
      "1\n"
     ]
    }
   ],
   "source": [
    "haystack = \"esadbutsad\"\n",
    "needle = \"sad\"\n",
    "sol = Solution()\n",
    "print(sol.strStr(haystack, needle))"
   ]
  },
  {
   "cell_type": "code",
   "execution_count": 144,
   "metadata": {},
   "outputs": [],
   "source": [
    "class Solution:\n",
    "    def strStr(self, haystack: str, needle: str) -> int:\n",
    "        for i in range(len(haystack)):\n",
    "            found = True\n",
    "            for j in range(len(needle)):\n",
    "                if i+j>=len(haystack) or haystack[i+j] != needle[j]:\n",
    "                    found = False\n",
    "                    break\n",
    "            if found:\n",
    "                return i\n",
    "        return -1\n"
   ]
  },
  {
   "cell_type": "code",
   "execution_count": 145,
   "metadata": {},
   "outputs": [
    {
     "name": "stdout",
     "output_type": "stream",
     "text": [
      "1\n"
     ]
    }
   ],
   "source": [
    "haystack = \"esadbutsad\"\n",
    "needle = \"sad\"\n",
    "sol = Solution()\n",
    "print(sol.strStr(haystack, needle))"
   ]
  },
  {
   "cell_type": "code",
   "execution_count": 146,
   "metadata": {},
   "outputs": [],
   "source": [
    "class Solution:\n",
    "    def strStr(self, haystack: str, needle: str) -> int:\n",
    "        for i in range(len(haystack)):\n",
    "            if haystack[i:].startswith(needle):\n",
    "                return i\n",
    "        return -1\n"
   ]
  },
  {
   "cell_type": "code",
   "execution_count": 147,
   "metadata": {},
   "outputs": [],
   "source": [
    "class Solution:\n",
    "    def strStr(self, haystack: str, needle: str) -> int:\n",
    "        lps = [0] * len(needle)\n",
    "        prevLPS, i = 0, 1\n",
    "        while i < len(needle):\n",
    "            if needle[i] == needle[prevLPS]:\n",
    "                lps[i] = prevLPS + 1\n",
    "                prevLPS += 1\n",
    "                i += 1\n",
    "            else:\n",
    "                if prevLPS == 0:\n",
    "                    lps[i] = 0\n",
    "                    i += 1\n",
    "                else:\n",
    "                    prevLPS = lps[prevLPS - 1]\n",
    "        i = 0\n",
    "        j = 0\n",
    "        while i < len(haystack):\n",
    "            if haystack[i] == needle[j]:\n",
    "                i += 1\n",
    "                j += 1\n",
    "                if j == len(needle):\n",
    "                    return i - len(needle)\n",
    "            else:\n",
    "                if j == 0:\n",
    "                    i += 1\n",
    "                else:\n",
    "                    j = lps[j-1]\n",
    "        return -1"
   ]
  },
  {
   "cell_type": "code",
   "execution_count": 148,
   "metadata": {},
   "outputs": [
    {
     "name": "stdout",
     "output_type": "stream",
     "text": [
      "1\n"
     ]
    }
   ],
   "source": [
    "haystack = \"esadbutsad\"\n",
    "needle = \"sad\"\n",
    "sol = Solution()\n",
    "print(sol.strStr(haystack, needle))"
   ]
  },
  {
   "cell_type": "code",
   "execution_count": 149,
   "metadata": {},
   "outputs": [
    {
     "name": "stdout",
     "output_type": "stream",
     "text": [
      "-1\n"
     ]
    }
   ],
   "source": [
    "haystack = \"esadbutsad\"\n",
    "needle = \"aaacaaaa\"\n",
    "sol = Solution()\n",
    "print(sol.strStr(haystack, needle))"
   ]
  },
  {
   "cell_type": "code",
   "execution_count": 150,
   "metadata": {},
   "outputs": [],
   "source": [
    "# based on Rabin-Karp.ipynb\n",
    "\n",
    "# there are 26 lowercase english characters\n",
    "BASE = 26\n",
    "\n",
    "\n",
    "def hash_char(ch):\n",
    "    return ord(ch) - ord('a') + 1\n",
    "\n",
    "\n",
    "def get_power(n: int):\n",
    "    power = [1] * n\n",
    "\n",
    "    for i in range(1, n):\n",
    "        power[i] = BASE * power[i - 1]\n",
    "    return power\n",
    "\n",
    "\n",
    "def get_hash(string):\n",
    "    n = len(string)\n",
    "    power = get_power(n)\n",
    "    sum_hash = 0\n",
    "\n",
    "    for i in range(n):\n",
    "        sum_hash = (sum_hash + (hash_char(string[i]) * power[n - 1 - i]))\n",
    "\n",
    "    return sum_hash\n",
    "\n",
    "\n",
    "def string_match(string, pattern):\n",
    "    n, m = len(pattern), len(string)\n",
    "\n",
    "    power = get_power(n)\n",
    "    ans = []\n",
    "\n",
    "    pattern_hash = get_hash(pattern)\n",
    "    rolling_hash = get_hash(string[:n])\n",
    "\n",
    "    l, r = 0, n - 1\n",
    "\n",
    "    while r < m:\n",
    "        if pattern_hash == rolling_hash:\n",
    "            ans.append(l)\n",
    "\n",
    "        left = string[l]\n",
    "\n",
    "        # Remove left character\n",
    "        rolling_hash = rolling_hash - hash_char(left) * power[n - 1]\n",
    "\n",
    "        l += 1\n",
    "        r += 1\n",
    "\n",
    "        if r < m:\n",
    "            right = string[r]\n",
    "\n",
    "            # Right Shift\n",
    "            rolling_hash = rolling_hash * BASE \\\n",
    "                            + hash_char(right) * power[0]\n",
    "\n",
    "    return ans\n",
    "\n",
    "\n",
    "class Solution:\n",
    "    def strStr(self, haystack: str, needle: str) -> int:\n",
    "        matches = string_match(haystack, needle)\n",
    "        # print(f'{matches=}')\n",
    "        if len(matches) == 0:\n",
    "            return -1\n",
    "        return matches[0]"
   ]
  },
  {
   "cell_type": "code",
   "execution_count": 151,
   "metadata": {},
   "outputs": [],
   "source": [
    "# based on Rabin-Karp.ipynb\n",
    "\n",
    "# there are 26 lowercase english characters\n",
    "BASE = 26\n",
    "\n",
    "\n",
    "def hash_char(ch):\n",
    "    return ord(ch) - ord('a') + 1\n",
    "\n",
    "\n",
    "def get_power(n: int):\n",
    "    power = [1] * n\n",
    "\n",
    "    for i in range(1, n):\n",
    "        power[i] = BASE * power[i - 1]\n",
    "    return power\n",
    "\n",
    "\n",
    "def get_hash(string):\n",
    "    n = len(string)\n",
    "    power = get_power(n)\n",
    "    sum_hash = 0\n",
    "\n",
    "    for i in range(n):\n",
    "        sum_hash = (sum_hash + (hash_char(string[i]) * power[n - 1 - i]))\n",
    "\n",
    "    return sum_hash\n",
    "\n",
    "\n",
    "def string_match(string, pattern):\n",
    "    n, m = len(pattern), len(string)\n",
    "\n",
    "    power = get_power(n)\n",
    "    ans = []\n",
    "\n",
    "    pattern_hash = get_hash(pattern)\n",
    "    rolling_hash = get_hash(string[:n])\n",
    "\n",
    "    l, r = 0, n - 1\n",
    "\n",
    "    while r < m:\n",
    "        if pattern_hash == rolling_hash:\n",
    "            return l\n",
    "\n",
    "        left = string[l]\n",
    "\n",
    "        # Remove left character\n",
    "        rolling_hash = rolling_hash - hash_char(left) * power[n - 1]\n",
    "\n",
    "        l += 1\n",
    "        r += 1\n",
    "\n",
    "        if r < m:\n",
    "            right = string[r]\n",
    "\n",
    "            # Right Shift\n",
    "            rolling_hash = rolling_hash * BASE \\\n",
    "                            + hash_char(right) * power[0]\n",
    "\n",
    "    return -1\n",
    "\n",
    "\n",
    "class Solution:\n",
    "    def strStr(self, haystack: str, needle: str) -> int:\n",
    "        return string_match(haystack, needle)"
   ]
  },
  {
   "cell_type": "code",
   "execution_count": 152,
   "metadata": {},
   "outputs": [
    {
     "name": "stdout",
     "output_type": "stream",
     "text": [
      "0\n"
     ]
    }
   ],
   "source": [
    "haystack = \"sadbutsad\"\n",
    "needle = \"sad\"\n",
    "sol = Solution()\n",
    "print(sol.strStr(haystack, needle))"
   ]
  },
  {
   "cell_type": "code",
   "execution_count": 153,
   "metadata": {},
   "outputs": [
    {
     "name": "stdout",
     "output_type": "stream",
     "text": [
      "-1\n"
     ]
    }
   ],
   "source": [
    "haystack = \"leetcode\"\n",
    "needle = \"leeto\"\n",
    "sol = Solution()\n",
    "print(sol.strStr(haystack, needle))"
   ]
  }
 ],
 "metadata": {
  "kernelspec": {
   "display_name": "Python 3.10.6 ('dsa-venv': venv)",
   "language": "python",
   "name": "python3"
  },
  "language_info": {
   "codemirror_mode": {
    "name": "ipython",
    "version": 3
   },
   "file_extension": ".py",
   "mimetype": "text/x-python",
   "name": "python",
   "nbconvert_exporter": "python",
   "pygments_lexer": "ipython3",
   "version": "3.11.3"
  },
  "orig_nbformat": 4,
  "vscode": {
   "interpreter": {
    "hash": "e2278406c40349b728369a6b418500b4154ef0fb5e599ada131fe37b236439d7"
   }
  }
 },
 "nbformat": 4,
 "nbformat_minor": 2
}
