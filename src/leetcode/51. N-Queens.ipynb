{
 "cells": [
  {
   "cell_type": "code",
   "execution_count": 27,
   "metadata": {},
   "outputs": [],
   "source": [
    "from typing import List\n",
    "from copy import deepcopy\n",
    "\n",
    "\n",
    "class Solution:\n",
    "    def leetcode(self, ans):\n",
    "        final_ans = []\n",
    "        for a in ans:\n",
    "            item = []\n",
    "            for row in a:\n",
    "                s = \"\"\n",
    "                for i in row:\n",
    "                    if i:\n",
    "                        s += 'Q'\n",
    "                    else:\n",
    "                        s += '.'\n",
    "                item.append(s)\n",
    "            final_ans.append(item)\n",
    "        return final_ans\n",
    "    def solveNQueens(self, n: int) -> List[List[str]]:\n",
    "        range_n = range(n)\n",
    "        arr = [[0 for _ in range_n] for _ in range_n]\n",
    "        ans = []\n",
    "        rows_occupied = [0 for _ in range_n]\n",
    "        cols_occupied = [0 for _ in range_n]\n",
    "        sum_diag = {i + j: 0 for i in range_n for j in range_n}\n",
    "        diff_diag = {i - j: 0 for i in range_n for j in range_n}\n",
    "\n",
    "\n",
    "        def free(row, col):\n",
    "            if rows_occupied[row] or cols_occupied[col] or sum_diag[row + col] or diff_diag[row - col]:\n",
    "                return False\n",
    "            return True\n",
    "        def mark_unmark(row, col, val):\n",
    "            rows_occupied[row] = val\n",
    "            cols_occupied[col] = val\n",
    "            sum_diag[row + col] = val\n",
    "            diff_diag[row - col] = val\n",
    "        def helper(row):\n",
    "            if row == len(arr):\n",
    "                ans.append(deepcopy(arr))\n",
    "                return\n",
    "            for col in range_n:\n",
    "                if free(row, col):\n",
    "                    arr[row][col] = 1\n",
    "                    mark_unmark(row, col, 1)\n",
    "                    helper(row + 1)\n",
    "                    arr[row][col] = 0\n",
    "                    mark_unmark(row, col, 0)\n",
    "        helper(0)\n",
    "        return self.leetcode(ans)"
   ]
  },
  {
   "cell_type": "code",
   "execution_count": 28,
   "metadata": {},
   "outputs": [
    {
     "data": {
      "text/plain": [
       "[['.Q..', '...Q', 'Q...', '..Q.'], ['..Q.', 'Q...', '...Q', '.Q..']]"
      ]
     },
     "execution_count": 28,
     "metadata": {},
     "output_type": "execute_result"
    }
   ],
   "source": [
    "sol = Solution()\n",
    "sol.solveNQueens(4)"
   ]
  },
  {
   "cell_type": "code",
   "execution_count": null,
   "metadata": {},
   "outputs": [],
   "source": []
  }
 ],
 "metadata": {
  "kernelspec": {
   "display_name": "base",
   "language": "python",
   "name": "python3"
  },
  "language_info": {
   "codemirror_mode": {
    "name": "ipython",
    "version": 3
   },
   "file_extension": ".py",
   "mimetype": "text/x-python",
   "name": "python",
   "nbconvert_exporter": "python",
   "pygments_lexer": "ipython3",
   "version": "3.11.3"
  },
  "orig_nbformat": 4
 },
 "nbformat": 4,
 "nbformat_minor": 2
}
