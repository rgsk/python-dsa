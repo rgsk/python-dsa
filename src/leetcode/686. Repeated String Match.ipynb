{
 "cells": [
  {
   "cell_type": "code",
   "execution_count": 77,
   "metadata": {},
   "outputs": [],
   "source": [
    "# https://leetcode.com/problems/repeated-string-match/description/"
   ]
  },
  {
   "cell_type": "code",
   "execution_count": 78,
   "metadata": {},
   "outputs": [],
   "source": [
    "'''\n",
    "Approach for algorithm in below cell\n",
    "\n",
    "a = \"abcd\"\n",
    "b = \"cdabcdab\"\n",
    "\n",
    "na = 4\n",
    "nb = 8\n",
    "\n",
    "what is the max number of repititions of string a\n",
    "\n",
    "we need to be able to form string of length nb starting with last character of string a\n",
    "\n",
    "so for \"abcd\"\n",
    "\n",
    "d + 7 more characters\n",
    "\n",
    "ceil (7 / na) = ceil (7 / 4) = 2\n",
    "\n",
    "we need to repeat string a at most 2 times\n",
    "or take it 3 (2 + 1) times to determine whether we \n",
    "can make string b of substring starting with last character of string a\n",
    "\n",
    "this is the max repetitions we have to do, we can find the substr with less\n",
    "repetitions as well, eg if b = \"abcdabcd\", just 1 repition was needed\n",
    "'''\n",
    "\n",
    "'''\n",
    "Extra explanation - \n",
    "\n",
    "For example -\n",
    "\n",
    "a = \"abc\"\n",
    "\n",
    "na = 3\n",
    "nb = 7\n",
    "\n",
    "here we need to repeat max 2 times because ceil((7-1)/3) = 2\n",
    "\n",
    "abcabcabc\n",
    "\n",
    "7 characters string starting with last character c = cabcabc\n",
    "\n",
    "while if \n",
    "\n",
    "nb = 8\n",
    "here we need to repeat max 3 times because ceil((8-1)/3) = 3\n",
    "\n",
    "abcabcabcabc\n",
    "\n",
    "8 characters string starting with last character c = cabcabca\n",
    "'''\n",
    "pass"
   ]
  },
  {
   "cell_type": "code",
   "execution_count": 79,
   "metadata": {},
   "outputs": [],
   "source": [
    "from math import ceil\n",
    "\n",
    "\n",
    "class Solution:\n",
    "    def repeatedStringMatch(self, a: str, b: str) -> int:\n",
    "        na = len(a)\n",
    "        nb = len(b)\n",
    "        repititions = ceil((nb - 1) / na)\n",
    "        for times in range(1, repititions + 2):\n",
    "            if na * times < nb:\n",
    "                # optimisation\n",
    "                continue\n",
    "            if b in a * times:\n",
    "                return times\n",
    "        return -1"
   ]
  },
  {
   "cell_type": "code",
   "execution_count": 80,
   "metadata": {},
   "outputs": [
    {
     "data": {
      "text/plain": [
       "3"
      ]
     },
     "execution_count": 80,
     "metadata": {},
     "output_type": "execute_result"
    }
   ],
   "source": [
    "a = \"abcd\"\n",
    "b = \"cdabcdab\"\n",
    "sol = Solution()\n",
    "sol.repeatedStringMatch(a, b)"
   ]
  },
  {
   "cell_type": "code",
   "execution_count": 81,
   "metadata": {},
   "outputs": [],
   "source": [
    "class Solution:\n",
    "    def repeatedStringMatch(self, a: str, b: str) -> int:\n",
    "        times = 1\n",
    "        source = a\n",
    "        while len(source) < len(b):\n",
    "            times += 1\n",
    "            source += a\n",
    "        if source == b:\n",
    "            return times\n",
    "        if b in source:\n",
    "            return times\n",
    "        source += a\n",
    "        if b in source:\n",
    "            return times + 1\n",
    "        return -1"
   ]
  },
  {
   "cell_type": "code",
   "execution_count": 82,
   "metadata": {},
   "outputs": [
    {
     "data": {
      "text/plain": [
       "3"
      ]
     },
     "execution_count": 82,
     "metadata": {},
     "output_type": "execute_result"
    }
   ],
   "source": [
    "a = \"abcd\"\n",
    "b = \"cdabcdab\"\n",
    "sol = Solution()\n",
    "sol.repeatedStringMatch(a, b)"
   ]
  },
  {
   "cell_type": "code",
   "execution_count": 83,
   "metadata": {},
   "outputs": [],
   "source": [
    "# based on Rabin-Karp.ipynb\n",
    "\n",
    "# there are 26 lowercase english characters\n",
    "BASE = 26\n",
    "\n",
    "\n",
    "def hash_char(ch):\n",
    "    return ord(ch) - ord('a') + 1\n",
    "\n",
    "\n",
    "def get_power(n: int):\n",
    "    power = [1] * n\n",
    "\n",
    "    for i in range(1, n):\n",
    "        power[i] = BASE * power[i - 1]\n",
    "    return power\n",
    "\n",
    "\n",
    "def get_hash(string):\n",
    "    n = len(string)\n",
    "    power = get_power(n)\n",
    "    sum_hash = 0\n",
    "\n",
    "    for i in range(n):\n",
    "        sum_hash = (sum_hash + (hash_char(string[i]) * power[n - 1 - i]))\n",
    "\n",
    "    return sum_hash\n",
    "\n",
    "\n",
    "def rabin_karp(string, pattern):\n",
    "    n, m = len(pattern), len(string)\n",
    "\n",
    "    power = get_power(n)\n",
    "\n",
    "    pattern_hash = get_hash(pattern)\n",
    "    rolling_hash = get_hash(string[:n])\n",
    "\n",
    "    l, r = 0, n - 1\n",
    "\n",
    "    while r < m:\n",
    "        if pattern_hash == rolling_hash:\n",
    "            return l\n",
    "\n",
    "        left = string[l]\n",
    "\n",
    "        # Remove left character\n",
    "        rolling_hash = rolling_hash - hash_char(left) * power[n - 1]\n",
    "\n",
    "        l += 1\n",
    "        r += 1\n",
    "\n",
    "        if r < m:\n",
    "            right = string[r]\n",
    "\n",
    "            # Right Shift\n",
    "            rolling_hash = rolling_hash * BASE \\\n",
    "                            + hash_char(right) * power[0]\n",
    "\n",
    "    return -1\n",
    "\n",
    "\n",
    "# working but taking a lot more time\n",
    "# we tried using rabin karp instead of b in source\n",
    "class Solution:\n",
    "    def repeatedStringMatch(self, a: str, b: str) -> int:\n",
    "        times = 1\n",
    "        source = a\n",
    "        while len(source) < len(b):\n",
    "            times += 1\n",
    "            source += a\n",
    "        if source == b:\n",
    "            return times\n",
    "        if rabin_karp(source, b) != -1:\n",
    "            return times\n",
    "        source += a\n",
    "        if rabin_karp(source, b) != -1:\n",
    "            return times + 1\n",
    "        return -1"
   ]
  },
  {
   "cell_type": "code",
   "execution_count": 84,
   "metadata": {},
   "outputs": [
    {
     "data": {
      "text/plain": [
       "3"
      ]
     },
     "execution_count": 84,
     "metadata": {},
     "output_type": "execute_result"
    }
   ],
   "source": [
    "a = \"abcd\"\n",
    "b = \"cdabcdab\"\n",
    "sol = Solution()\n",
    "sol.repeatedStringMatch(a, b)"
   ]
  },
  {
   "cell_type": "code",
   "execution_count": 85,
   "metadata": {},
   "outputs": [
    {
     "data": {
      "text/plain": [
       "2"
      ]
     },
     "execution_count": 85,
     "metadata": {},
     "output_type": "execute_result"
    }
   ],
   "source": [
    "a = \"a\"\n",
    "b = \"aa\"\n",
    "sol = Solution()\n",
    "sol.repeatedStringMatch(a, b)"
   ]
  }
 ],
 "metadata": {
  "kernelspec": {
   "display_name": "dsa-venv",
   "language": "python",
   "name": "python3"
  },
  "language_info": {
   "codemirror_mode": {
    "name": "ipython",
    "version": 3
   },
   "file_extension": ".py",
   "mimetype": "text/x-python",
   "name": "python",
   "nbconvert_exporter": "python",
   "pygments_lexer": "ipython3",
   "version": "3.11.3"
  }
 },
 "nbformat": 4,
 "nbformat_minor": 2
}
