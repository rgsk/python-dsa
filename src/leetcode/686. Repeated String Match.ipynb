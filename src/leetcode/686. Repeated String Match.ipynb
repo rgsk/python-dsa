{
 "cells": [
  {
   "cell_type": "code",
   "execution_count": 26,
   "metadata": {},
   "outputs": [],
   "source": [
    "# https://leetcode.com/problems/repeated-string-match/description/"
   ]
  },
  {
   "cell_type": "code",
   "execution_count": 27,
   "metadata": {},
   "outputs": [],
   "source": [
    "'''\n",
    "Approach for algorithm in below cell\n",
    "\n",
    "a = \"abcd\"\n",
    "b = \"cdabcdab\"\n",
    "\n",
    "na = 4\n",
    "nb = 8\n",
    "\n",
    "what is the max number of repititions of string a\n",
    "\n",
    "we need to be able to form string of length nb starting with last character of string a\n",
    "\n",
    "so for \"abcd\"\n",
    "\n",
    "d + 7 more characters\n",
    "\n",
    "ceil (7 / na) = ceil (7 / 4) = 2\n",
    "\n",
    "we need to repeat string a at most 2 times\n",
    "or take it 3 (2 + 1) times to determine whether we \n",
    "can make string b of substring starting with last character of string a\n",
    "\n",
    "this is the max repetitions we have to do, we can find the substr with less\n",
    "repetitions as well, eg if b = \"abcdabcd\", just 1 repition was needed\n",
    "'''\n",
    "pass"
   ]
  },
  {
   "cell_type": "code",
   "execution_count": 28,
   "metadata": {},
   "outputs": [],
   "source": [
    "from math import ceil\n",
    "\n",
    "\n",
    "class Solution:\n",
    "    def repeatedStringMatch(self, a: str, b: str) -> int:\n",
    "        na = len(a)\n",
    "        nb = len(b)\n",
    "        repititions = ceil((nb - 1) / na)\n",
    "        for times in range(1, repititions + 2):\n",
    "            if b in a * times:\n",
    "                return times\n",
    "        return -1"
   ]
  },
  {
   "cell_type": "code",
   "execution_count": 29,
   "metadata": {},
   "outputs": [
    {
     "data": {
      "text/plain": [
       "3"
      ]
     },
     "execution_count": 29,
     "metadata": {},
     "output_type": "execute_result"
    }
   ],
   "source": [
    "a = \"abcd\"\n",
    "b = \"cdabcdab\"\n",
    "sol = Solution()\n",
    "sol.repeatedStringMatch(a, b)"
   ]
  },
  {
   "cell_type": "code",
   "execution_count": 30,
   "metadata": {},
   "outputs": [
    {
     "data": {
      "text/plain": [
       "2"
      ]
     },
     "execution_count": 30,
     "metadata": {},
     "output_type": "execute_result"
    }
   ],
   "source": [
    "a = \"a\"\n",
    "b = \"aa\"\n",
    "sol = Solution()\n",
    "sol.repeatedStringMatch(a, b)"
   ]
  }
 ],
 "metadata": {
  "kernelspec": {
   "display_name": "dsa-venv",
   "language": "python",
   "name": "python3"
  },
  "language_info": {
   "codemirror_mode": {
    "name": "ipython",
    "version": 3
   },
   "file_extension": ".py",
   "mimetype": "text/x-python",
   "name": "python",
   "nbconvert_exporter": "python",
   "pygments_lexer": "ipython3",
   "version": "3.11.3"
  }
 },
 "nbformat": 4,
 "nbformat_minor": 2
}
