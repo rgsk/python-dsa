{
 "cells": [
  {
   "cell_type": "code",
   "execution_count": 21,
   "metadata": {},
   "outputs": [],
   "source": [
    "from typing import List\n",
    "\n",
    "# TLE\n",
    "class Solution:\n",
    "    def findMaximumXOR(self, nums: List[int]) -> int:\n",
    "        n = len(nums)\n",
    "        max_xor = 0\n",
    "        for i in range(n):\n",
    "            for j in range(i+1, n):\n",
    "                max_xor = max(max_xor, nums[i] ^ nums[j])\n",
    "        return max_xor"
   ]
  },
  {
   "cell_type": "code",
   "execution_count": 22,
   "metadata": {},
   "outputs": [],
   "source": [
    "# solution works based on trie\n",
    "\n",
    "class Solution:\n",
    "    class Trie:\n",
    "        class Node:\n",
    "            def __init__(self):\n",
    "                self.left = None\n",
    "                self.right = None\n",
    "\n",
    "        def __init__(self):\n",
    "            self.root = self.Node()\n",
    "\n",
    "        def insert(self, val):\n",
    "            bitIndex = 30  # 0 to 30 bits, considering up to 31-bit integers\n",
    "            curr = self.root\n",
    "\n",
    "            while bitIndex >= 0:\n",
    "                mask = 1 << bitIndex\n",
    "                bit = (val & mask) > 0  # extract the bit at bitIndex\n",
    "                if bit == 0:\n",
    "                    if not curr.left:\n",
    "                        curr.left = self.Node()\n",
    "                    curr = curr.left\n",
    "                else:\n",
    "                    if not curr.right:\n",
    "                        curr.right = self.Node()\n",
    "                    curr = curr.right\n",
    "                bitIndex -= 1\n",
    "\n",
    "        def query(self, find):\n",
    "            bitIndex = 30\n",
    "            curr = self.root\n",
    "            ans = 0\n",
    "\n",
    "            while bitIndex >= 0:\n",
    "                mask = 1 << bitIndex\n",
    "                bit = (find & mask) > 0\n",
    "                if bit == 0:\n",
    "                    if curr.left:\n",
    "                        curr = curr.left\n",
    "                    else:\n",
    "                        curr = curr.right\n",
    "                        ans |= mask\n",
    "                else:\n",
    "                    if curr.right:\n",
    "                        curr = curr.right\n",
    "                        ans |= mask\n",
    "                    else:\n",
    "                        curr = curr.left\n",
    "                bitIndex -= 1\n",
    "            return ans\n",
    "\n",
    "    def findMaximumXOR(self, nums):\n",
    "        trie = self.Trie()\n",
    "\n",
    "        for val in nums:\n",
    "            trie.insert(val)\n",
    "\n",
    "        max_xor = 0\n",
    "        for a in nums:\n",
    "            find = (1 << 31) - 1 ^ a  # equivalent to Integer.MAX_VALUE ^ a\n",
    "            b = trie.query(find)\n",
    "            max_xor = max(max_xor, a ^ b)\n",
    "\n",
    "        return max_xor\n"
   ]
  },
  {
   "cell_type": "code",
   "execution_count": 23,
   "metadata": {},
   "outputs": [],
   "source": [
    "from typing import List\n",
    "\n",
    "class Solution:\n",
    "    def findMaximumXOR(self, nums: List[int]) -> int:\n",
    "        max_value = max(nums)\n",
    "        L = len(bin(max_value)) - 2\n",
    "        max_xor = 0\n",
    "        for i in range(L-1, -1, -1):\n",
    "            max_xor <<= 1\n",
    "            prefixes = {num >> i for num in nums}\n",
    "            max_xor += any(max_xor ^ 1 ^ p in prefixes for p in prefixes)\n",
    "        return max_xor"
   ]
  },
  {
   "cell_type": "code",
   "execution_count": 24,
   "metadata": {},
   "outputs": [
    {
     "data": {
      "text/plain": [
       "28"
      ]
     },
     "execution_count": 24,
     "metadata": {},
     "output_type": "execute_result"
    }
   ],
   "source": [
    "nums = [3,10,5,25,2,8]\n",
    "sol = Solution()\n",
    "sol.findMaximumXOR(nums)"
   ]
  },
  {
   "cell_type": "code",
   "execution_count": 25,
   "metadata": {},
   "outputs": [
    {
     "data": {
      "text/plain": [
       "127"
      ]
     },
     "execution_count": 25,
     "metadata": {},
     "output_type": "execute_result"
    }
   ],
   "source": [
    "nums = [14,70,53,83,49,91,36,80,92,51,66,70]\n",
    "sol = Solution()\n",
    "sol.findMaximumXOR(nums)"
   ]
  },
  {
   "cell_type": "code",
   "execution_count": null,
   "metadata": {},
   "outputs": [],
   "source": []
  }
 ],
 "metadata": {
  "kernelspec": {
   "display_name": "venv",
   "language": "python",
   "name": "python3"
  },
  "language_info": {
   "codemirror_mode": {
    "name": "ipython",
    "version": 3
   },
   "file_extension": ".py",
   "mimetype": "text/x-python",
   "name": "python",
   "nbconvert_exporter": "python",
   "pygments_lexer": "ipython3",
   "version": "3.11.3"
  }
 },
 "nbformat": 4,
 "nbformat_minor": 2
}
