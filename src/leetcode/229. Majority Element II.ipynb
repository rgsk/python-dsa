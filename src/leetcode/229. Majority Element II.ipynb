{
 "cells": [
  {
   "cell_type": "code",
   "execution_count": 78,
   "metadata": {},
   "outputs": [
    {
     "name": "stdout",
     "output_type": "stream",
     "text": [
      "The nb_mypy extension is already loaded. To reload it, use:\n",
      "  %reload_ext nb_mypy\n"
     ]
    }
   ],
   "source": [
    "%load_ext nb_mypy"
   ]
  },
  {
   "cell_type": "code",
   "execution_count": 79,
   "metadata": {},
   "outputs": [],
   "source": [
    "import collections\n",
    "from typing import List\n",
    "\n",
    "\n",
    "class Solution:\n",
    "    def majorityElement(self, nums: List[int]) -> List[int]:\n",
    "        n = len(nums)\n",
    "        min_times = n/3\n",
    "        counts = collections.Counter(nums)\n",
    "        ans = []\n",
    "        for value, count in counts.items():\n",
    "            if count > min_times:\n",
    "                ans.append(value)\n",
    "        return ans\n",
    "            "
   ]
  },
  {
   "cell_type": "code",
   "execution_count": 80,
   "metadata": {},
   "outputs": [
    {
     "name": "stdout",
     "output_type": "stream",
     "text": [
      "[3]\n"
     ]
    }
   ],
   "source": [
    "nums = [3,2,3]\n",
    "sol = Solution()\n",
    "print(sol.majorityElement(nums))"
   ]
  },
  {
   "cell_type": "code",
   "execution_count": 81,
   "metadata": {},
   "outputs": [],
   "source": [
    "class Solution:\n",
    "    def majorityElement(self, nums: List[int]) -> List[int]:\n",
    "        n = len(nums)\n",
    "        min_times = n/3\n",
    "        first = first_count = second = second_count = 0\n",
    "        for v in nums:\n",
    "            if first == v:\n",
    "                first_count += 1\n",
    "            elif second == v:\n",
    "                second_count += 1\n",
    "            else:\n",
    "                if first_count == 0:\n",
    "                    first = v\n",
    "                    first_count = 1\n",
    "                elif second_count == 0:\n",
    "                    second = v\n",
    "                    second_count = 1\n",
    "                else:\n",
    "                    first_count -= 1\n",
    "                    second_count -= 1\n",
    "        ans = []\n",
    "        if nums.count(first) > min_times:\n",
    "            ans.append(first)\n",
    "        if nums.count(second) > min_times:\n",
    "            ans.append(second)\n",
    "        return ans"
   ]
  },
  {
   "cell_type": "code",
   "execution_count": 82,
   "metadata": {},
   "outputs": [
    {
     "name": "stdout",
     "output_type": "stream",
     "text": [
      "[3]\n"
     ]
    }
   ],
   "source": [
    "nums = [3,2,3]\n",
    "sol = Solution()\n",
    "print(sol.majorityElement(nums))"
   ]
  },
  {
   "cell_type": "code",
   "execution_count": 83,
   "metadata": {},
   "outputs": [],
   "source": [
    "class Solution:\n",
    "    def majorityElement(self, nums: List[int]) -> List[int]:\n",
    "        if not nums:\n",
    "            return []\n",
    "        count1, count2, candidate1, candidate2 = 0, 0, 0, 1\n",
    "        for n in nums:\n",
    "            if n == candidate1:\n",
    "                count1 += 1\n",
    "            elif n == candidate2:\n",
    "                count2 += 1\n",
    "            elif count1 == 0:\n",
    "                candidate1, count1 = n, 1\n",
    "            elif count2 == 0:\n",
    "                candidate2, count2 = n, 1\n",
    "            else:\n",
    "                count1, count2 = count1 - 1, count2 - 1\n",
    "        return [n for n in (candidate1, candidate2)\n",
    "                        if nums.count(n) > len(nums) // 3]"
   ]
  },
  {
   "cell_type": "code",
   "execution_count": 84,
   "metadata": {},
   "outputs": [
    {
     "name": "stdout",
     "output_type": "stream",
     "text": [
      "[3]\n"
     ]
    }
   ],
   "source": [
    "nums = [3,2,3]\n",
    "sol = Solution()\n",
    "print(sol.majorityElement(nums))"
   ]
  }
 ],
 "metadata": {
  "kernelspec": {
   "display_name": "Python 3.10.4 ('template-venv': venv)",
   "language": "python",
   "name": "python3"
  },
  "language_info": {
   "codemirror_mode": {
    "name": "ipython",
    "version": 3
   },
   "file_extension": ".py",
   "mimetype": "text/x-python",
   "name": "python",
   "nbconvert_exporter": "python",
   "pygments_lexer": "ipython3",
   "version": "3.10.4"
  },
  "orig_nbformat": 4,
  "vscode": {
   "interpreter": {
    "hash": "0b8dd1d11c220dfc9d15848c82c145ba1a021fcb056c07a0cc073ae3ed6d8420"
   }
  }
 },
 "nbformat": 4,
 "nbformat_minor": 2
}
