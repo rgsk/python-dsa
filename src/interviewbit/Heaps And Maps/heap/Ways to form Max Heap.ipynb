{
 "cells": [
  {
   "cell_type": "code",
   "execution_count": 67,
   "metadata": {},
   "outputs": [],
   "source": [
    "# https://www.interviewbit.com/problems/ways-to-form-max-heap/"
   ]
  },
  {
   "cell_type": "code",
   "execution_count": 68,
   "metadata": {},
   "outputs": [],
   "source": [
    "# https://www.youtube.com/watch?v=cYhAdbnEq8I"
   ]
  },
  {
   "cell_type": "markdown",
   "metadata": {},
   "source": [
    "<img src=\"./../../../../images/Screenshot 2024-01-12 at 11.42.26 AM.png\" width=\"600\"  >\n",
    "<br>\n",
    "<img src=\"./../../../../images/Screenshot 2024-01-12 at 11.38.56 AM.png\" width=\"600\" >"
   ]
  },
  {
   "cell_type": "code",
   "execution_count": 69,
   "metadata": {},
   "outputs": [],
   "source": [
    "import operator as op\n",
    "from functools import reduce\n",
    "\n",
    "from math import log\n",
    "\n",
    "\n",
    "def ncr(n, r):\n",
    "    r = min(r, n - r)\n",
    "    if r == 0: return 1\n",
    "    numer = reduce(op.mul, range(n, n - r, -1))\n",
    "    denom = reduce(op.mul, range(1, r + 1))\n",
    "    return numer // denom\n",
    "\n",
    "\n",
    "class Solution:\n",
    "    # @param A : integer\n",
    "    # @return an integer\n",
    "    def solve1(self, n):\n",
    "        if n == 0 or n == 1:\n",
    "            return 1\n",
    "        h = int(log(n, 2))\n",
    "        L = (2**h - 1 - 1) // 2 + min(2**h//2, n - (2**h-1))\n",
    "\n",
    "        R = n - 1 - L\n",
    "\n",
    "        return ncr(n - 1, L) * self.solve1(L) * self.solve1(R)\n",
    "\n",
    "    def solve(self, A):\n",
    "        return self.solve1(A) % 1000000007\n",
    "\n"
   ]
  },
  {
   "cell_type": "code",
   "execution_count": 70,
   "metadata": {},
   "outputs": [
    {
     "data": {
      "text/plain": [
       "3"
      ]
     },
     "execution_count": 70,
     "metadata": {},
     "output_type": "execute_result"
    }
   ],
   "source": [
    "A = 4\n",
    "sol = Solution()\n",
    "sol.solve(A)"
   ]
  },
  {
   "cell_type": "code",
   "execution_count": 71,
   "metadata": {},
   "outputs": [
    {
     "data": {
      "text/plain": [
       "3360"
      ]
     },
     "execution_count": 71,
     "metadata": {},
     "output_type": "execute_result"
    }
   ],
   "source": [
    "A = 10\n",
    "sol = Solution()\n",
    "sol.solve(A)"
   ]
  }
 ],
 "metadata": {
  "kernelspec": {
   "display_name": "dsa-venv",
   "language": "python",
   "name": "python3"
  },
  "language_info": {
   "codemirror_mode": {
    "name": "ipython",
    "version": 3
   },
   "file_extension": ".py",
   "mimetype": "text/x-python",
   "name": "python",
   "nbconvert_exporter": "python",
   "pygments_lexer": "ipython3",
   "version": "3.11.3"
  }
 },
 "nbformat": 4,
 "nbformat_minor": 2
}
