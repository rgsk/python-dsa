{
 "cells": [
  {
   "cell_type": "code",
   "execution_count": 32,
   "metadata": {},
   "outputs": [],
   "source": [
    "# https://www.interviewbit.com/problems/maximum-sum-combinations/"
   ]
  },
  {
   "cell_type": "code",
   "execution_count": 33,
   "metadata": {},
   "outputs": [],
   "source": [
    "class Solution:\n",
    "    # @param A : list of integers\n",
    "    # @param B : list of integers\n",
    "    # @param C : integer\n",
    "    # @return a list of integers\n",
    "    def solve(self, A, B, C):\n",
    "        sums = []\n",
    "        for a in A:\n",
    "            for b in B:\n",
    "                sums.append(a + b)\n",
    "\n",
    "        sums.sort(reverse=True)\n",
    "        return sums[:C]"
   ]
  },
  {
   "cell_type": "code",
   "execution_count": 34,
   "metadata": {},
   "outputs": [],
   "source": [
    "import heapq\n",
    "\n",
    "\n",
    "class Solution:\n",
    "    # @param A : list of integers\n",
    "    # @param B : list of integers\n",
    "    # @param C : integer\n",
    "    # @return a list of integers\n",
    "    def solve(self, A, B, C):\n",
    "        A.sort()\n",
    "        B.sort()\n",
    "        na = len(A)\n",
    "        nb = len(B)\n",
    "        pq = []\n",
    "        pq.append((-(A[na-1] + B[nb-1]), na-1, nb-1))\n",
    "        ans = []\n",
    "        visited = set()\n",
    "        while C > 0:\n",
    "            total, i, j = heapq.heappop(pq)\n",
    "            if (i, j) not in visited:\n",
    "                ans.append(-total)\n",
    "                heapq.heappush(pq, (-(A[i-1] + B[j]), i-1, j))\n",
    "                heapq.heappush(pq, (-(A[i] + B[j-1]), i, j-1))\n",
    "                visited.add((i, j))\n",
    "                C -= 1\n",
    "        return ans"
   ]
  },
  {
   "cell_type": "code",
   "execution_count": 35,
   "metadata": {},
   "outputs": [
    {
     "data": {
      "text/plain": [
       "[7, 6]"
      ]
     },
     "execution_count": 35,
     "metadata": {},
     "output_type": "execute_result"
    }
   ],
   "source": [
    "A = [3, 2]\n",
    "B = [1, 4]\n",
    "C = 2\n",
    "sol = Solution()\n",
    "sol.solve(A, B, C)"
   ]
  },
  {
   "cell_type": "code",
   "execution_count": 36,
   "metadata": {},
   "outputs": [
    {
     "data": {
      "text/plain": [
       "[10, 9, 9, 8]"
      ]
     },
     "execution_count": 36,
     "metadata": {},
     "output_type": "execute_result"
    }
   ],
   "source": [
    "A = [1, 4, 2, 3]\n",
    "B = [2, 5, 1, 6]\n",
    "C = 4\n",
    "sol = Solution()\n",
    "sol.solve(A, B, C)"
   ]
  },
  {
   "cell_type": "code",
   "execution_count": 37,
   "metadata": {},
   "outputs": [
    {
     "data": {
      "text/plain": [
       "[192, 189, 189, 188, 188, 188, 188, 186, 185, 185]"
      ]
     },
     "execution_count": 37,
     "metadata": {},
     "output_type": "execute_result"
    }
   ],
   "source": [
    "A = [ 59, 63, 65, 6, 46, 82, 28, 62, 92, 96, 43, 28, 37, 92, 5, 3, 54, 93, 83 ]\n",
    "B = [ 59, 63, 65, 6, 46, 82, 28, 62, 92, 96, 43, 28, 37, 92, 5, 3, 54, 93, 83 ]\n",
    "C = 10\n",
    "sol = Solution()\n",
    "sol.solve(A, B, C)"
   ]
  }
 ],
 "metadata": {
  "kernelspec": {
   "display_name": "dsa-venv",
   "language": "python",
   "name": "python3"
  },
  "language_info": {
   "codemirror_mode": {
    "name": "ipython",
    "version": 3
   },
   "file_extension": ".py",
   "mimetype": "text/x-python",
   "name": "python",
   "nbconvert_exporter": "python",
   "pygments_lexer": "ipython3",
   "version": "3.11.3"
  }
 },
 "nbformat": 4,
 "nbformat_minor": 2
}
