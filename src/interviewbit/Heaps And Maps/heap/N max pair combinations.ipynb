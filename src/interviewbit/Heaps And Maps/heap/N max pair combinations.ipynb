{
 "cells": [
  {
   "cell_type": "code",
   "execution_count": 1,
   "metadata": {},
   "outputs": [],
   "source": [
    "# https://www.interviewbit.com/problems/n-max-pair-combinations/"
   ]
  },
  {
   "cell_type": "code",
   "execution_count": 2,
   "metadata": {},
   "outputs": [],
   "source": [
    "import heapq\n",
    "\n",
    "\n",
    "class Solution:\n",
    "    # @param A : list of integers\n",
    "    # @param B : list of integers\n",
    "    # @return a list of integers\n",
    "    def solve(self, A, B):\n",
    "        A.sort()\n",
    "        B.sort()\n",
    "        N = len(A)\n",
    "        pq = []\n",
    "        pq.append((-(A[N-1] + B[N-1]), N-1, N-1))\n",
    "        ans = []\n",
    "        visited = set()\n",
    "        C = N\n",
    "        while C > 0:\n",
    "            total, i, j = heapq.heappop(pq)\n",
    "            ans.append(-total)\n",
    "            if (i-1, j) not in visited:\n",
    "                heapq.heappush(pq, (-(A[i-1] + B[j]), i-1, j))\n",
    "                visited.add((i-1, j))\n",
    "            if (i, j-1) not in visited:\n",
    "                heapq.heappush(pq, (-(A[i] + B[j-1]), i, j-1))\n",
    "                visited.add((i, j-1))\n",
    "            C -= 1\n",
    "        return ans"
   ]
  },
  {
   "cell_type": "code",
   "execution_count": 3,
   "metadata": {},
   "outputs": [
    {
     "data": {
      "text/plain": [
       "[10, 9, 9, 8]"
      ]
     },
     "execution_count": 3,
     "metadata": {},
     "output_type": "execute_result"
    }
   ],
   "source": [
    "A = [1, 4, 2, 3]\n",
    "B = [2, 5, 1, 6]\n",
    "sol = Solution()\n",
    "sol.solve(A, B)"
   ]
  },
  {
   "cell_type": "code",
   "execution_count": 4,
   "metadata": {},
   "outputs": [
    {
     "data": {
      "text/plain": [
       "[8, 6, 6, 5]"
      ]
     },
     "execution_count": 4,
     "metadata": {},
     "output_type": "execute_result"
    }
   ],
   "source": [
    "A = [2, 4, 1, 1]\n",
    "B = [-2, -3, 2, 4]\n",
    "sol = Solution()\n",
    "sol.solve(A, B)"
   ]
  }
 ],
 "metadata": {
  "kernelspec": {
   "display_name": "dsa-venv",
   "language": "python",
   "name": "python3"
  },
  "language_info": {
   "codemirror_mode": {
    "name": "ipython",
    "version": 3
   },
   "file_extension": ".py",
   "mimetype": "text/x-python",
   "name": "python",
   "nbconvert_exporter": "python",
   "pygments_lexer": "ipython3",
   "version": "3.11.3"
  }
 },
 "nbformat": 4,
 "nbformat_minor": 2
}
