{
 "cells": [
  {
   "cell_type": "code",
   "execution_count": 8,
   "metadata": {},
   "outputs": [],
   "source": [
    "# https://www.interviewbit.com/problems/merge-k-sorted-arrays/"
   ]
  },
  {
   "cell_type": "code",
   "execution_count": 9,
   "metadata": {},
   "outputs": [],
   "source": [
    "class Solution:\n",
    "    # @param A : list of list of integers\n",
    "    # @return a list of integers\n",
    "    def solve(self, A):\n",
    "        ans = []\n",
    "        for row in A:\n",
    "            ans += row\n",
    "        return sorted(ans)"
   ]
  },
  {
   "cell_type": "code",
   "execution_count": 10,
   "metadata": {},
   "outputs": [],
   "source": [
    "from heapq import heappush, heappop\n",
    "def mergeKArrays(A):\n",
    "    rows = len(A)\n",
    "    cols = len(A[0])\n",
    "    pq = []\n",
    "    output = []\n",
    "    for i in range(rows):\n",
    "        heappush(pq, (A[i][0], i, 0))\n",
    "    while pq:\n",
    "        (v, ri, ci) = heappop(pq)\n",
    "        output.append(v)\n",
    "        if ci + 1 < cols:\n",
    "            heappush(pq, (A[ri][ci + 1], ri, ci + 1))\n",
    "    return output\n",
    "\n",
    "\n",
    "class Solution:\n",
    "\n",
    "    # @param A : list of list of integers\n",
    "    # @return a list of integers\n",
    "\n",
    "    def solve(self, A):\n",
    "        return mergeKArrays(A)"
   ]
  },
  {
   "cell_type": "code",
   "execution_count": 11,
   "metadata": {},
   "outputs": [
    {
     "data": {
      "text/plain": [
       "[0, 1, 2, 2, 3, 4, 6, 9, 10]"
      ]
     },
     "execution_count": 11,
     "metadata": {},
     "output_type": "execute_result"
    }
   ],
   "source": [
    "A = [\n",
    "    [1, 2, 3],\n",
    "    [2, 4, 6],\n",
    "    [0, 9, 10],\n",
    "]\n",
    "sol = Solution()\n",
    "sol.solve(A)"
   ]
  }
 ],
 "metadata": {
  "kernelspec": {
   "display_name": "dsa-venv",
   "language": "python",
   "name": "python3"
  },
  "language_info": {
   "codemirror_mode": {
    "name": "ipython",
    "version": 3
   },
   "file_extension": ".py",
   "mimetype": "text/x-python",
   "name": "python",
   "nbconvert_exporter": "python",
   "pygments_lexer": "ipython3",
   "version": "3.11.3"
  }
 },
 "nbformat": 4,
 "nbformat_minor": 2
}
