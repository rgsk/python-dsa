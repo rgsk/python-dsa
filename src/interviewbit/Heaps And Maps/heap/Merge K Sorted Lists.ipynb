{
 "cells": [
  {
   "cell_type": "code",
   "execution_count": 18,
   "metadata": {},
   "outputs": [],
   "source": [
    "# https://www.interviewbit.com/problems/merge-k-sorted-lists/"
   ]
  },
  {
   "cell_type": "code",
   "execution_count": 19,
   "metadata": {},
   "outputs": [],
   "source": [
    "import sys\n",
    "sys.path.append('../../..')\n",
    "\n",
    "from lib.ListNode import *"
   ]
  },
  {
   "cell_type": "code",
   "execution_count": 20,
   "metadata": {},
   "outputs": [],
   "source": [
    "# Definition for singly-linked list.\n",
    "# class ListNode:\n",
    "#     def __init__(self, x):\n",
    "#         self.val = x\n",
    "#         self.next = None\n",
    "\n",
    "import heapq\n",
    "\n",
    "\n",
    "class Solution:\n",
    "    # @param A : list of linked list\n",
    "    # @return the head node in the linked list\n",
    "    def mergeKLists(self, A):\n",
    "        newHead = ListNode(-1)\n",
    "        temp = newHead\n",
    "        pq = []\n",
    "        for head in A:\n",
    "            heapq.heappush(pq, (head.val, head))\n",
    "        while pq:\n",
    "            _, nextItem = heapq.heappop(pq)\n",
    "            temp.next = nextItem\n",
    "            temp = temp.next\n",
    "            if nextItem.next:\n",
    "                heapq.heappush(pq, (nextItem.next.val, nextItem.next))\n",
    "        return newHead.next"
   ]
  },
  {
   "cell_type": "code",
   "execution_count": 21,
   "metadata": {},
   "outputs": [
    {
     "name": "stdout",
     "output_type": "stream",
     "text": [
      "[1, 3, 4, 8, 9, 10, 11, 13, 20]\n"
     ]
    }
   ],
   "source": [
    "A = [\n",
    "    makeList([1, 10, 20]),\n",
    "    makeList([4, 11, 13]),\n",
    "    makeList([3, 8, 9]),\n",
    "]\n",
    "sol = Solution()\n",
    "print(asList(sol.mergeKLists(A)))"
   ]
  }
 ],
 "metadata": {
  "kernelspec": {
   "display_name": "dsa-venv",
   "language": "python",
   "name": "python3"
  },
  "language_info": {
   "codemirror_mode": {
    "name": "ipython",
    "version": 3
   },
   "file_extension": ".py",
   "mimetype": "text/x-python",
   "name": "python",
   "nbconvert_exporter": "python",
   "pygments_lexer": "ipython3",
   "version": "3.11.3"
  }
 },
 "nbformat": 4,
 "nbformat_minor": 2
}
