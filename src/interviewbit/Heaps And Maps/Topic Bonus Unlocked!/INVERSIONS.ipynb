{
 "cells": [
  {
   "cell_type": "code",
   "execution_count": 32,
   "metadata": {},
   "outputs": [],
   "source": [
    "# https://www.interviewbit.com/problems/inversions/"
   ]
  },
  {
   "cell_type": "code",
   "execution_count": 33,
   "metadata": {},
   "outputs": [],
   "source": [
    "class Solution:\n",
    "    # @param A : list of integers\n",
    "    # @return an integer\n",
    "    def countInversions(self, A):\n",
    "        n = len(A)\n",
    "        c = 0\n",
    "        for i in range(n):\n",
    "            for j in range(i + 1, n):\n",
    "                if A[i] > A[j]:\n",
    "                    c += 1\n",
    "        return c"
   ]
  },
  {
   "cell_type": "code",
   "execution_count": 34,
   "metadata": {},
   "outputs": [],
   "source": [
    "from typing import List\n",
    "\n",
    "\n",
    "class Solution:\n",
    "    # @param A : list of integers\n",
    "    # @return an integer\n",
    "    def countInversions(self, A):\n",
    "        return merge_sort(A)\n",
    "    \n",
    "\n",
    "def merge_sort(nums: List[int]):\n",
    "    return merge_sort_helper(nums, 0, len(nums) - 1)\n",
    "\n",
    "\n",
    "def merge_sort_helper(nums: List[int], start: int, end: int):\n",
    "    if start < end:\n",
    "        mid = (start + end) // 2\n",
    "        c = 0\n",
    "        c += merge_sort_helper(nums, start, mid)\n",
    "        c += merge_sort_helper(nums, mid + 1, end)\n",
    "        c += merge(nums, start, mid, end)\n",
    "        return c\n",
    "    return 0\n",
    "\n",
    "def merge(nums: List[int], start: int, mid: int, end: int):\n",
    "    temp = [0 for _ in range(start, end+1)]\n",
    "    i = start\n",
    "    j = mid + 1 \n",
    "    t = 0\n",
    "    inversions = 0\n",
    "    while i <= mid and j <= end: \n",
    "        if nums[i] <= nums[j]:\n",
    "            temp[t] = nums[i]\n",
    "            t += 1\n",
    "            i += 1\n",
    "        else:\n",
    "            temp[t] = nums[j]\n",
    "            t += 1\n",
    "            j += 1\n",
    "            inversions += mid - i + 1\n",
    "    while i <= mid:\n",
    "        temp[t] = nums[i]\n",
    "        t += 1\n",
    "        i += 1\n",
    "    while j <= end:\n",
    "        temp[t] = nums[j]\n",
    "        t += 1\n",
    "        j += 1\n",
    "    nums[start:end+1] = temp\n",
    "    return inversions"
   ]
  },
  {
   "cell_type": "code",
   "execution_count": 35,
   "metadata": {},
   "outputs": [
    {
     "data": {
      "text/plain": [
       "3"
      ]
     },
     "execution_count": 35,
     "metadata": {},
     "output_type": "execute_result"
    }
   ],
   "source": [
    "A = [2, 4, 1, 3, 5]\n",
    "sol = Solution()\n",
    "sol.countInversions(A)"
   ]
  }
 ],
 "metadata": {
  "kernelspec": {
   "display_name": "dsa-venv",
   "language": "python",
   "name": "python3"
  },
  "language_info": {
   "codemirror_mode": {
    "name": "ipython",
    "version": 3
   },
   "file_extension": ".py",
   "mimetype": "text/x-python",
   "name": "python",
   "nbconvert_exporter": "python",
   "pygments_lexer": "ipython3",
   "version": "3.11.3"
  }
 },
 "nbformat": 4,
 "nbformat_minor": 2
}
