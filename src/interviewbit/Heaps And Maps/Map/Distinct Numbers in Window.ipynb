{
 "cells": [
  {
   "cell_type": "code",
   "execution_count": 27,
   "metadata": {},
   "outputs": [],
   "source": [
    "# https://www.interviewbit.com/problems/distinct-numbers-in-window/"
   ]
  },
  {
   "cell_type": "code",
   "execution_count": 28,
   "metadata": {},
   "outputs": [],
   "source": [
    "class Solution:\n",
    "    # @param A : list of integers\n",
    "    # @param B : integer\n",
    "    # @return a list of integers\n",
    "    def dNums(self, A, B):\n",
    "        N = len(A)\n",
    "        mp = {}\n",
    "        l = 0\n",
    "        r = 0\n",
    "        while r < B:\n",
    "            if A[r] in mp:\n",
    "                mp[A[r]] += 1\n",
    "            else:\n",
    "                mp[A[r]] = 1\n",
    "            r += 1\n",
    "        distincts = []\n",
    "        distincts.append(len(mp.values()))\n",
    "        while r < N:\n",
    "            mp[A[l]] -= 1\n",
    "            if mp[A[l]] == 0:\n",
    "                del mp[A[l]]\n",
    "            if A[r] in mp:\n",
    "                mp[A[r]] += 1\n",
    "            else:\n",
    "                mp[A[r]] = 1\n",
    "            l += 1\n",
    "            r += 1\n",
    "            distincts.append(len(mp.values()))\n",
    "        return distincts"
   ]
  },
  {
   "cell_type": "code",
   "execution_count": 29,
   "metadata": {},
   "outputs": [],
   "source": [
    "from collections import defaultdict\n",
    "\n",
    "\n",
    "class Solution:\n",
    "    # @param A : list of integers\n",
    "    # @param B : integer\n",
    "    # @return a list of integers\n",
    "    def dNums(self, A, B):\n",
    "        N = len(A)\n",
    "        mp = defaultdict(int)\n",
    "        cnt = 0\n",
    "        for i in range(B):\n",
    "            if mp[A[i]] == 0:\n",
    "                cnt += 1\n",
    "            mp[A[i]] += 1\n",
    "        distincts = []\n",
    "        distincts.append(cnt)\n",
    "        for i in range(B, N):\n",
    "            if mp[A[i]] == 0:\n",
    "                cnt += 1\n",
    "            mp[A[i]] += 1\n",
    "            mp[A[i-B]] -= 1\n",
    "            if mp[A[i-B]] == 0:\n",
    "                cnt -= 1\n",
    "            distincts.append(cnt)\n",
    "        return distincts"
   ]
  },
  {
   "cell_type": "code",
   "execution_count": 30,
   "metadata": {},
   "outputs": [
    {
     "data": {
      "text/plain": [
       "[2, 3, 3, 2]"
      ]
     },
     "execution_count": 30,
     "metadata": {},
     "output_type": "execute_result"
    }
   ],
   "source": [
    "A = [1, 2, 1, 3, 4, 3]\n",
    "B = 3\n",
    "sol = Solution()\n",
    "sol.dNums(A,B)"
   ]
  },
  {
   "cell_type": "code",
   "execution_count": 31,
   "metadata": {},
   "outputs": [
    {
     "data": {
      "text/plain": [
       "[1, 1, 1, 1]"
      ]
     },
     "execution_count": 31,
     "metadata": {},
     "output_type": "execute_result"
    }
   ],
   "source": [
    "A = [1, 1, 2, 2]\n",
    "B = 1\n",
    "sol = Solution()\n",
    "sol.dNums(A,B)"
   ]
  }
 ],
 "metadata": {
  "kernelspec": {
   "display_name": "dsa-venv",
   "language": "python",
   "name": "python3"
  },
  "language_info": {
   "codemirror_mode": {
    "name": "ipython",
    "version": 3
   },
   "file_extension": ".py",
   "mimetype": "text/x-python",
   "name": "python",
   "nbconvert_exporter": "python",
   "pygments_lexer": "ipython3",
   "version": "3.11.3"
  }
 },
 "nbformat": 4,
 "nbformat_minor": 2
}
