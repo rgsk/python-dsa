{
 "cells": [
  {
   "cell_type": "code",
   "execution_count": 9,
   "metadata": {},
   "outputs": [],
   "source": [
    "# https://www.interviewbit.com/problems/lru-cache/"
   ]
  },
  {
   "cell_type": "code",
   "execution_count": 10,
   "metadata": {},
   "outputs": [],
   "source": [
    "\n",
    "class ListNode:\n",
    "    def __init__(self, key=0, val=0, prev=None, next=None):\n",
    "        self.key = key\n",
    "        self.val = val\n",
    "        self.prev = prev\n",
    "        self.next = next\n",
    "\n",
    "\n",
    "\n",
    "class LRUCache:\n",
    "\n",
    "    def __init__(self, capacity):\n",
    "        self.capacity = capacity\n",
    "        self.head = ListNode(-1,-1)\n",
    "        self.tail = ListNode(-1,-1) \n",
    "        self.head.next = self.tail\n",
    "        self.tail.prev = self.head\n",
    "        self.mp = {}\n",
    "\n",
    "    def get(self, key):\n",
    "        if key in self.mp:\n",
    "            node = self.mp[key]\n",
    "            value = node.val\n",
    "            if node != self.head.next:\n",
    "                self.set(key, value)\n",
    "            return value\n",
    "        return -1\n",
    "            \n",
    "    def pop(self, key = None):\n",
    "        if key == None:\n",
    "            # remove the node before the tail\n",
    "            second_last = self.tail.prev\n",
    "            second_last.prev.next = second_last.next\n",
    "            second_last.next.prev = second_last.prev\n",
    "            self.mp.pop(second_last.key)\n",
    "        else:\n",
    "            temp = self.mp[key]\n",
    "            temp.prev.next = temp.next\n",
    "            temp.next.prev = temp.prev\n",
    "            self.mp.pop(temp.key)\n",
    "\n",
    "    def set(self, key, value):\n",
    "        if key not in self.mp:\n",
    "            if len(self.mp) < self.capacity:\n",
    "                # if node is not present add it after head\n",
    "                node = ListNode(key, value)\n",
    "                self.head.next.prev = node\n",
    "                node.next = self.head.next\n",
    "                node.prev = self.head\n",
    "                self.head.next = node\n",
    "\n",
    "                self.mp[key] = node\n",
    "            else:\n",
    "                self.pop()\n",
    "                self.set(key, value)\n",
    "        else:\n",
    "            node = self.mp[key]\n",
    "            if self.head.next == node:\n",
    "                # if node is after head\n",
    "                # then we just need to make sure that val property of that node is the value given in set method\n",
    "                node.val = value\n",
    "            else:\n",
    "                self.pop(key)\n",
    "                self.set(key, value)                "
   ]
  },
  {
   "cell_type": "code",
   "execution_count": 11,
   "metadata": {},
   "outputs": [],
   "source": [
    "'''\n",
    "capacity = 2\n",
    "set(1, 10)\n",
    "set(5, 12)\n",
    "get(5)        returns 12\n",
    "get(1)        returns 10\n",
    "get(10)       returns -1\n",
    "set(6, 14)    this pushes out key = 5 as LRU is full. \n",
    "get(5)        returns -1 \n",
    "'''\n",
    "pass"
   ]
  },
  {
   "cell_type": "code",
   "execution_count": 12,
   "metadata": {},
   "outputs": [
    {
     "name": "stdout",
     "output_type": "stream",
     "text": [
      "12\n",
      "10\n",
      "-1\n",
      "-1\n"
     ]
    }
   ],
   "source": [
    "lru = LRUCache(2)\n",
    "lru.set(1, 10)\n",
    "lru.set(5, 12)\n",
    "print(lru.get(5))\n",
    "print(lru.get(1))\n",
    "print(lru.get(10))\n",
    "lru.set(6, 14)\n",
    "print(lru.get(5))"
   ]
  }
 ],
 "metadata": {
  "kernelspec": {
   "display_name": "dsa-venv",
   "language": "python",
   "name": "python3"
  },
  "language_info": {
   "codemirror_mode": {
    "name": "ipython",
    "version": 3
   },
   "file_extension": ".py",
   "mimetype": "text/x-python",
   "name": "python",
   "nbconvert_exporter": "python",
   "pygments_lexer": "ipython3",
   "version": "3.11.3"
  }
 },
 "nbformat": 4,
 "nbformat_minor": 2
}
