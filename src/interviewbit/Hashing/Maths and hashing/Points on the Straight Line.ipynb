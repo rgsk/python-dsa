{
 "cells": [
  {
   "cell_type": "code",
   "execution_count": 305,
   "metadata": {},
   "outputs": [],
   "source": [
    "# https://www.interviewbit.com/problems/points-on-the-straight-line/"
   ]
  },
  {
   "cell_type": "code",
   "execution_count": 306,
   "metadata": {},
   "outputs": [],
   "source": [
    "from collections import defaultdict\n",
    "\n",
    "\n",
    "class Solution:\n",
    "    # @param A : list of integers\n",
    "    # @param B : list of integers\n",
    "    # @return an integer\n",
    "    def maxPoints(self, A, B):\n",
    "        n = len(A)\n",
    "        final_ans = 0\n",
    "        for i in range(n):\n",
    "            mp = defaultdict(int)\n",
    "            overlap = 1\n",
    "            max_group_size = 0\n",
    "            for j in range(i + 1, n):\n",
    "                if A[j] == A[i] and B[j] == B[i]:\n",
    "                    overlap += 1\n",
    "                else:\n",
    "                    slope = 1e9 if A[j] == A[i] else float(B[j] - B[i]) / (A[j] - A[i])\n",
    "                    # converting to float is necessary\n",
    "                    mp[slope] += 1\n",
    "                    max_group_size = max(max_group_size, mp[slope])\n",
    "            final_ans = max(overlap + max_group_size, final_ans)\n",
    "       \n",
    "        return final_ans\n"
   ]
  },
  {
   "cell_type": "code",
   "execution_count": 307,
   "metadata": {},
   "outputs": [
    {
     "data": {
      "text/plain": [
       "4"
      ]
     },
     "execution_count": 307,
     "metadata": {},
     "output_type": "execute_result"
    }
   ],
   "source": [
    "A = [1, 1, 2, 3, 4]\n",
    "B = [1, 3, 2, 3, 4]\n",
    "sol = Solution()\n",
    "sol.maxPoints(A, B)"
   ]
  },
  {
   "cell_type": "code",
   "execution_count": 308,
   "metadata": {},
   "outputs": [
    {
     "data": {
      "text/plain": [
       "1"
      ]
     },
     "execution_count": 308,
     "metadata": {},
     "output_type": "execute_result"
    }
   ],
   "source": [
    "A = [-20]\n",
    "B = [-13]\n",
    "sol = Solution()\n",
    "sol.maxPoints(A, B)"
   ]
  },
  {
   "cell_type": "code",
   "execution_count": 309,
   "metadata": {},
   "outputs": [
    {
     "data": {
      "text/plain": [
       "6"
      ]
     },
     "execution_count": 309,
     "metadata": {},
     "output_type": "execute_result"
    }
   ],
   "source": [
    "A = []\n",
    "B = []\n",
    "s = \"15 12 9 10 -16 3 -15 15 11 -10 -5 20 -3 -15 -11 -8 -8 -3 3 6 15 -14 -16 -18 -6 -8 14 9 -1 -7 -1 -2 3 11 6 20 10 -7 0 14 19 -18 -10 -15 -17 -1 8 7 20 -18 -4 -9 -9 16 10 14 -14 -15 -2 -10 -18 9 7 -5 -12 11 -17 -6 5 -17 -2 -20 15 -2 -5 -16 1 -20 19 -12 -14 -1 18 10 1 -20 -15 19 -18 13 13 -3 -16 -17 1 0 20 -18 7 19 1 -6 -7 -11 7 1 -15 12 -1 7 -3 -13 -11 2 -17 -5 -12 -14 15 -3 15 -11 7 3 19 7 -15 19 10 -14 -14 5 0 -1 -12 -4 4 18 7 -3 -5 -3 1 -11 1 -1 2 16 6 -6 -17 9 14 3 -13 8 -9 14 -5 -1 -18 -17 9 -10 19 19 16 7 3 7 -18 -12 -11 12 -15 20 -3 4 -18 1 13 17 -16 -15 -9 -9 15 8 19 -9 9 -17\"\n",
    "elements = s.split(' ')\n",
    "for i in range(len(elements)):\n",
    "    if i % 2 == 0:\n",
    "        A.append(int(elements[i]))\n",
    "    else:\n",
    "        B.append(int(elements[i]))\n",
    "sol = Solution()\n",
    "sol.maxPoints(A, B)"
   ]
  },
  {
   "cell_type": "code",
   "execution_count": 310,
   "metadata": {},
   "outputs": [
    {
     "data": {
      "text/plain": [
       "6"
      ]
     },
     "execution_count": 310,
     "metadata": {},
     "output_type": "execute_result"
    }
   ],
   "source": [
    "A = []\n",
    "B = []\n",
    "s = \"-4 2 -17 16 -4 0 -5 -10 -15 12 10 17 -5 -10 -17 -3 -2 -11 2 -15 5 -20 -14 -5 7 -14 14 10 4 -10 -9 -12 -10 -3 -10 -11 20 7 -10 -20 4 -14 -20 -14 -16 -8 -3 4 5 16 -11 -12 18 16 -17 -10 -2 -14 16 -5 -14 3 -6 11 6 7 3 2 -3 1 2 17 -20 -10 8 -5 -20 17 12 0 18 9 -19 -3 14 4 17 -9 -15 -3 4 -6 -5 10 1 7 -5 14 15 6 14 -10 -16 11 -11 -9 16 14 0 11\"\n",
    "elements = s.split(' ')\n",
    "for i in range(len(elements)):\n",
    "    if i % 2 == 0:\n",
    "        A.append(int(elements[i]))\n",
    "    else:\n",
    "        B.append(int(elements[i]))\n",
    "sol = Solution()\n",
    "sol.maxPoints(A, B)"
   ]
  }
 ],
 "metadata": {
  "kernelspec": {
   "display_name": "dsa-venv",
   "language": "python",
   "name": "python3"
  },
  "language_info": {
   "codemirror_mode": {
    "name": "ipython",
    "version": 3
   },
   "file_extension": ".py",
   "mimetype": "text/x-python",
   "name": "python",
   "nbconvert_exporter": "python",
   "pygments_lexer": "ipython3",
   "version": "3.11.3"
  }
 },
 "nbformat": 4,
 "nbformat_minor": 2
}
