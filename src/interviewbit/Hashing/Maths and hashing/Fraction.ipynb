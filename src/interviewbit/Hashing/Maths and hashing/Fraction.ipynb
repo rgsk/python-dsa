{
 "cells": [
  {
   "cell_type": "code",
   "execution_count": 45,
   "metadata": {},
   "outputs": [],
   "source": [
    "class Solution:\n",
    "\t# @param A : integer\n",
    "\t# @param B : integer\n",
    "\t# @return a strings\n",
    "\tdef fractionToDecimal(self, A, B):\n",
    "\t\t\t\n",
    "\t\tretlist = []\n",
    "\t\tif (A < 0) ^ (B < 0) and (A != 0):\n",
    "\t\t\tretlist.append('-')\n",
    "\t\tA = abs(A)\n",
    "\t\tB = abs(B)\n",
    "\t\tretlist.append(str(A//B))\n",
    "\t\tif A%B:\n",
    "\t\t\tretlist.append('.')\n",
    "\t\thashmap = {}\n",
    "\t\t# 44/30 ---- 1 . 14%30 - 14 \n",
    "\t\trem = A % B\n",
    "\t\twhile rem and rem not in hashmap:\n",
    "\t\t\thashmap[rem] = len(retlist)\n",
    "\t\t\trem = 10 * rem \n",
    "\t\t\tretlist.append(str(rem // B))\n",
    "\t\t\trem = rem % B\n",
    "\t\tif rem:\n",
    "\t\t\tretlist.insert(hashmap[rem], '(')\n",
    "\t\t\tretlist.append(')')\n",
    "\t\treturn ''.join(val for val in retlist)"
   ]
  },
  {
   "cell_type": "code",
   "execution_count": 46,
   "metadata": {},
   "outputs": [],
   "source": [
    "'''\n",
    "Input 1:\n",
    "A = 1\n",
    "B = 2\n",
    "Input 2:\n",
    "A = 2\n",
    "B = 1\n",
    "Input 3:\n",
    "A = 2\n",
    "B = 3\n",
    "'''\n",
    "pass"
   ]
  },
  {
   "cell_type": "code",
   "execution_count": 47,
   "metadata": {},
   "outputs": [
    {
     "data": {
      "text/plain": [
       "'0.5'"
      ]
     },
     "execution_count": 47,
     "metadata": {},
     "output_type": "execute_result"
    }
   ],
   "source": [
    "A = 1\n",
    "B = 2\n",
    "sol = Solution()\n",
    "sol.fractionToDecimal(A, B) # \"0.5\""
   ]
  },
  {
   "cell_type": "code",
   "execution_count": 48,
   "metadata": {},
   "outputs": [
    {
     "data": {
      "text/plain": [
       "'2'"
      ]
     },
     "execution_count": 48,
     "metadata": {},
     "output_type": "execute_result"
    }
   ],
   "source": [
    "A = 2\n",
    "B = 1\n",
    "sol = Solution()\n",
    "sol.fractionToDecimal(A, B) # \"2\""
   ]
  },
  {
   "cell_type": "code",
   "execution_count": 49,
   "metadata": {},
   "outputs": [
    {
     "data": {
      "text/plain": [
       "'0.(6)'"
      ]
     },
     "execution_count": 49,
     "metadata": {},
     "output_type": "execute_result"
    }
   ],
   "source": [
    "A = 2\n",
    "B = 3\n",
    "sol = Solution()\n",
    "sol.fractionToDecimal(A, B) # \"0.(6)\""
   ]
  }
 ],
 "metadata": {
  "kernelspec": {
   "display_name": "base",
   "language": "python",
   "name": "python3"
  },
  "language_info": {
   "codemirror_mode": {
    "name": "ipython",
    "version": 3
   },
   "file_extension": ".py",
   "mimetype": "text/x-python",
   "name": "python",
   "nbconvert_exporter": "python",
   "pygments_lexer": "ipython3",
   "version": "3.11.3"
  },
  "orig_nbformat": 4
 },
 "nbformat": 4,
 "nbformat_minor": 2
}
