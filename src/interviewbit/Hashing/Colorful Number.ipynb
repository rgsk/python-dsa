{
 "cells": [
  {
   "cell_type": "code",
   "execution_count": 11,
   "metadata": {},
   "outputs": [],
   "source": [
    "class Solution:\n",
    "    # @param A : integer\n",
    "    # @return an integer\n",
    "    def colorful(self, A):\n",
    "        digits = []\n",
    "        temp = A\n",
    "        while temp > 0:\n",
    "            digits.append(temp%10)\n",
    "            temp //= 10\n",
    "        digits = list(reversed(digits))\n",
    "        n = len(digits)\n",
    "        st = set()\n",
    "        for i in range(n):\n",
    "            p = 1\n",
    "            for j in range(i, n):\n",
    "                p *= digits[j]\n",
    "                if p in st:\n",
    "                    return 0\n",
    "                st.add(p)\n",
    "        return 1"
   ]
  },
  {
   "cell_type": "code",
   "execution_count": 12,
   "metadata": {},
   "outputs": [
    {
     "data": {
      "text/plain": [
       "1"
      ]
     },
     "execution_count": 12,
     "metadata": {},
     "output_type": "execute_result"
    }
   ],
   "source": [
    "A = 23\n",
    "sol = Solution()\n",
    "sol.colorful(A)"
   ]
  },
  {
   "cell_type": "code",
   "execution_count": 13,
   "metadata": {},
   "outputs": [
    {
     "data": {
      "text/plain": [
       "1"
      ]
     },
     "execution_count": 13,
     "metadata": {},
     "output_type": "execute_result"
    }
   ],
   "source": [
    "A = 3245\n",
    "sol = Solution()\n",
    "sol.colorful(A)"
   ]
  }
 ],
 "metadata": {
  "kernelspec": {
   "display_name": "dsa-venv",
   "language": "python",
   "name": "python3"
  },
  "language_info": {
   "codemirror_mode": {
    "name": "ipython",
    "version": 3
   },
   "file_extension": ".py",
   "mimetype": "text/x-python",
   "name": "python",
   "nbconvert_exporter": "python",
   "pygments_lexer": "ipython3",
   "version": "3.11.3"
  },
  "orig_nbformat": 4
 },
 "nbformat": 4,
 "nbformat_minor": 2
}
