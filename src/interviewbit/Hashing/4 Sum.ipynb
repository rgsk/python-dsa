{
 "cells": [
  {
   "cell_type": "code",
   "execution_count": 56,
   "metadata": {},
   "outputs": [],
   "source": [
    "class Solution:\n",
    "\t# @param A : list of integers\n",
    "\t# @param B : integer\n",
    "\t# @return a list of list of integers\n",
    "    def fourSum(self, nums, target):\n",
    "        res = []\n",
    "        nums.sort()\n",
    "        for i in range(len(nums) - 3):\n",
    "            if i > 0 and nums[i] == nums[i-1]:\n",
    "                continue\n",
    "            for j in range(i + 1, len(nums) - 2):\n",
    "                if j > i + 1 and nums[j] == nums[j-1]:\n",
    "                    continue\n",
    "                l, r = j+1, len(nums)-1\n",
    "                while l < r:\n",
    "                    s = nums[i] + nums[j] + nums[l] + nums[r]\n",
    "                    if s < target:\n",
    "                        l += 1\n",
    "                    elif s > target:\n",
    "                        r -= 1\n",
    "                    else:\n",
    "                        res.append((nums[i], nums[j], nums[l], nums[r]))\n",
    "                        '''\n",
    "                            we have to skip until we get a different combination of nums[l] and nums[r]\n",
    "                        '''\n",
    "                        while l < r and nums[l] == nums[l+1]:\n",
    "                            l += 1\n",
    "                        while l < r and nums[r] == nums[r-1]:\n",
    "                            r -= 1\n",
    "                        l += 1\n",
    "                        r -= 1\n",
    "        return res\n"
   ]
  },
  {
   "cell_type": "code",
   "execution_count": 57,
   "metadata": {},
   "outputs": [],
   "source": [
    "from collections import defaultdict\n",
    "\n",
    "\n",
    "class Solution:\n",
    "    # @param A : list of integers\n",
    "    # @param B : integer\n",
    "    # @return a list of list of integers\n",
    "    def fourSum(self, A, B):\n",
    "        A.sort()\n",
    "        d = defaultdict(list)\n",
    "        res = set()\n",
    "        \n",
    "        for i in range(len(A)):\n",
    "            for j in range(i+1, len(A)):\n",
    "                curr_sum = A[i] + A[j]\n",
    "                diff = B - curr_sum\n",
    "                \n",
    "                if diff in d:\n",
    "                    for s in d[diff]:\n",
    "                        if i > s[1]:\n",
    "                            res.add((A[s[0]], A[s[1]], A[i], A[j]))\n",
    "                d[curr_sum].append([i, j])\n",
    "        return sorted(res)"
   ]
  },
  {
   "cell_type": "code",
   "execution_count": 58,
   "metadata": {},
   "outputs": [
    {
     "data": {
      "text/plain": [
       "[(-2, -1, 1, 2), (-1, 0, 0, 1), (-2, 0, 0, 2)]"
      ]
     },
     "execution_count": 58,
     "metadata": {},
     "output_type": "execute_result"
    }
   ],
   "source": [
    "A = [1, 0, -1, 0, -2, 2]\n",
    "B = 0\n",
    "sol = Solution()\n",
    "sol.fourSum(A, B)"
   ]
  }
 ],
 "metadata": {
  "kernelspec": {
   "display_name": "dsa-venv",
   "language": "python",
   "name": "python3"
  },
  "language_info": {
   "codemirror_mode": {
    "name": "ipython",
    "version": 3
   },
   "file_extension": ".py",
   "mimetype": "text/x-python",
   "name": "python",
   "nbconvert_exporter": "python",
   "pygments_lexer": "ipython3",
   "version": "3.11.3"
  },
  "orig_nbformat": 4
 },
 "nbformat": 4,
 "nbformat_minor": 2
}
