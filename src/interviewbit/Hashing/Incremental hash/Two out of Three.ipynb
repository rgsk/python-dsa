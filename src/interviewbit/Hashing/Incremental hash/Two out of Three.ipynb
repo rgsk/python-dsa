{
 "cells": [
  {
   "cell_type": "code",
   "execution_count": 1,
   "metadata": {},
   "outputs": [],
   "source": [
    "from collections import defaultdict\n",
    "\n",
    "\n",
    "class Solution:\n",
    "    # @param A : list of integers\n",
    "    # @param B : list of integers\n",
    "    # @param C : list of integers\n",
    "    # @return a list of integers\n",
    "    def solve(self, A, B, C):\n",
    "        mp = defaultdict(set)\n",
    "        for v in A:\n",
    "            mp[v].add('a')\n",
    "        for v in B:\n",
    "            mp[v].add('b')\n",
    "        for v in C:\n",
    "            mp[v].add('c')\n",
    "        ans = []\n",
    "        for v in mp:\n",
    "            if len(mp[v]) >= 2:\n",
    "                ans.append(v)\n",
    "        return sorted(ans)"
   ]
  },
  {
   "cell_type": "code",
   "execution_count": 2,
   "metadata": {},
   "outputs": [
    {
     "data": {
      "text/plain": [
       "[2, 3]"
      ]
     },
     "execution_count": 2,
     "metadata": {},
     "output_type": "execute_result"
    }
   ],
   "source": [
    "A = [1, 1, 2]\n",
    "B = [2, 3]\n",
    "C = [3]\n",
    "sol = Solution()\n",
    "sol.solve(A, B, C) # [2, 3]"
   ]
  },
  {
   "cell_type": "code",
   "execution_count": 3,
   "metadata": {},
   "outputs": [
    {
     "data": {
      "text/plain": [
       "[1, 2, 3]"
      ]
     },
     "execution_count": 3,
     "metadata": {},
     "output_type": "execute_result"
    }
   ],
   "source": [
    "A = [1, 2]\n",
    "B = [1, 3]\n",
    "C = [2, 3]\n",
    "sol = Solution()\n",
    "sol.solve(A, B, C) # [1, 2, 3]"
   ]
  }
 ],
 "metadata": {
  "kernelspec": {
   "display_name": "dsa-venv",
   "language": "python",
   "name": "python3"
  },
  "language_info": {
   "codemirror_mode": {
    "name": "ipython",
    "version": 3
   },
   "file_extension": ".py",
   "mimetype": "text/x-python",
   "name": "python",
   "nbconvert_exporter": "python",
   "pygments_lexer": "ipython3",
   "version": "3.11.3"
  },
  "orig_nbformat": 4
 },
 "nbformat": 4,
 "nbformat_minor": 2
}
