{
 "cells": [
  {
   "cell_type": "code",
   "execution_count": 23,
   "metadata": {},
   "outputs": [],
   "source": [
    "class Solution:\n",
    "    # @param A : list of integers\n",
    "    # @param B : integer\n",
    "    # @return an integer\n",
    "    def solve(self, A, B):\n",
    "        n = len(A)\n",
    "        ans = 0\n",
    "        for i in range(n):\n",
    "            xor = 0\n",
    "            for j in range(i, n):\n",
    "                xor ^= A[j]\n",
    "                if xor == B:\n",
    "                    ans += 1\n",
    "        return ans"
   ]
  },
  {
   "cell_type": "markdown",
   "metadata": {},
   "source": [
    "A trivial solution is to use two loops to go through all possible subarrays of array and count the number of subarrays having XOR of their elements as B.\n",
    "Time Complexity of the above solution is O(n2).\n",
    "\n",
    "An Efficient Solution solves the above problem in O(n) time.\n",
    "\n",
    "Let us call the XOR of all elements in the range [i+1, j] as x, in the range [0, i] as y, and in the range [0, j] as z.\n",
    "\n",
    "If we do XOR of y with z, the overlapping elements in [0, i] from y and z zero out and we get XOR of all elements in the range [i+1, j], i.e. x.\n",
    "\n",
    "Since x = y XOR z, we have y = x XOR z. Now, if we know the value of z and we take the value of x as B, we get the count of x as the count of all y satisfying this relation.\n",
    "\n",
    "Essentially, we get the count of all subarrays having XOR-sum B for each z. As we take sum of this count over all z, we get our answer."
   ]
  },
  {
   "cell_type": "code",
   "execution_count": 24,
   "metadata": {},
   "outputs": [],
   "source": [
    "class Solution:\n",
    "    # @param A : list of integers\n",
    "    # @param B : integer\n",
    "    # @return an integer\n",
    "    def solve(self, A, B):\n",
    "        ans = 0\n",
    "        mp = {0: 1}\n",
    "        total = 0\n",
    "        for v in A:\n",
    "            total ^= v\n",
    "            if total ^ B in mp:\n",
    "                ans += mp[total ^ B]\n",
    "            mp[total] = mp.get(total, 0) + 1\n",
    "        return ans"
   ]
  },
  {
   "cell_type": "code",
   "execution_count": 25,
   "metadata": {},
   "outputs": [
    {
     "data": {
      "text/plain": [
       "4"
      ]
     },
     "execution_count": 25,
     "metadata": {},
     "output_type": "execute_result"
    }
   ],
   "source": [
    "A = [4, 2, 2, 6, 4]\n",
    "B = 6\n",
    "sol = Solution()\n",
    "sol.solve(A, B)"
   ]
  },
  {
   "cell_type": "code",
   "execution_count": 26,
   "metadata": {},
   "outputs": [
    {
     "data": {
      "text/plain": [
       "2"
      ]
     },
     "execution_count": 26,
     "metadata": {},
     "output_type": "execute_result"
    }
   ],
   "source": [
    "A = [5, 6, 7, 8, 9]\n",
    "B = 5\n",
    "sol = Solution()\n",
    "sol.solve(A, B)"
   ]
  }
 ],
 "metadata": {
  "kernelspec": {
   "display_name": "dsa-venv",
   "language": "python",
   "name": "python3"
  },
  "language_info": {
   "codemirror_mode": {
    "name": "ipython",
    "version": 3
   },
   "file_extension": ".py",
   "mimetype": "text/x-python",
   "name": "python",
   "nbconvert_exporter": "python",
   "pygments_lexer": "ipython3",
   "version": "3.11.3"
  },
  "orig_nbformat": 4
 },
 "nbformat": 4,
 "nbformat_minor": 2
}
