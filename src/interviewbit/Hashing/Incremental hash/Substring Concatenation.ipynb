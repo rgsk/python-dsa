{
 "cells": [
  {
   "cell_type": "code",
   "execution_count": 7,
   "metadata": {},
   "outputs": [],
   "source": [
    "from collections import defaultdict\n",
    "from typing import List\n",
    "\n",
    "\n",
    "class Solution:\n",
    "    # @param A : string\n",
    "    # @param B : tuple of strings\n",
    "    # @return a list of integers\n",
    "    def findSubstring(self, s: str, words: List[str]):\n",
    "        ans = []\n",
    "        wordLength = len(words[0])\n",
    "        initalWordsMap = defaultdict(int)\n",
    "        for word in words:\n",
    "            initalWordsMap[word] += 1\n",
    "        for i in range(len(s) - wordLength + 1):\n",
    "            matched = 0\n",
    "            wordsMap = initalWordsMap.copy()\n",
    "            while True:\n",
    "                start = i+matched*wordLength\n",
    "                prefix = s[start:start+wordLength]\n",
    "                if wordsMap[prefix] > 0:\n",
    "                    wordsMap[prefix] -= 1\n",
    "                    matched += 1\n",
    "                else:\n",
    "                    break\n",
    "            if matched == len(words):\n",
    "                ans.append(i)\n",
    "        return ans\n",
    "                "
   ]
  },
  {
   "cell_type": "code",
   "execution_count": 8,
   "metadata": {},
   "outputs": [
    {
     "data": {
      "text/plain": [
       "[0, 9]"
      ]
     },
     "execution_count": 8,
     "metadata": {},
     "output_type": "execute_result"
    }
   ],
   "source": [
    "A = \"barfoothefoobarman\"\n",
    "B = [\"foo\", \"bar\"]\n",
    "sol = Solution()\n",
    "sol.findSubstring(A, B)"
   ]
  },
  {
   "cell_type": "code",
   "execution_count": 9,
   "metadata": {},
   "outputs": [
    {
     "data": {
      "text/plain": [
       "[]"
      ]
     },
     "execution_count": 9,
     "metadata": {},
     "output_type": "execute_result"
    }
   ],
   "source": [
    "A = \"wordgoodgoodgoodbestword\"\n",
    "B = [\"word\",\"good\",\"best\",\"word\"]\n",
    "sol = Solution()\n",
    "sol.findSubstring(A, B)"
   ]
  },
  {
   "cell_type": "code",
   "execution_count": 10,
   "metadata": {},
   "outputs": [
    {
     "data": {
      "text/plain": [
       "[6, 9, 12]"
      ]
     },
     "execution_count": 10,
     "metadata": {},
     "output_type": "execute_result"
    }
   ],
   "source": [
    "A = \"barfoofoobarthefoobarman\"\n",
    "B = [\"bar\",\"foo\",\"the\"]\n",
    "sol = Solution()\n",
    "sol.findSubstring(A, B)"
   ]
  }
 ],
 "metadata": {
  "kernelspec": {
   "display_name": "dsa-venv",
   "language": "python",
   "name": "python3"
  },
  "language_info": {
   "codemirror_mode": {
    "name": "ipython",
    "version": 3
   },
   "file_extension": ".py",
   "mimetype": "text/x-python",
   "name": "python",
   "nbconvert_exporter": "python",
   "pygments_lexer": "ipython3",
   "version": "3.11.3"
  },
  "orig_nbformat": 4
 },
 "nbformat": 4,
 "nbformat_minor": 2
}
