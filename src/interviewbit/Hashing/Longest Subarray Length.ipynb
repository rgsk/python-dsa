{
 "cells": [
  {
   "cell_type": "code",
   "execution_count": 69,
   "metadata": {},
   "outputs": [],
   "source": [
    "# TLE\n",
    "class Solution:\n",
    "    # @param A : list of integers\n",
    "    # @return an integer\n",
    "    def solve(self, A):\n",
    "        n = len(A)\n",
    "        ones = [0] * (n + 1)\n",
    "        for i in range(1, n+1):\n",
    "            ones[i] += ones[i-1] + (1 if A[i-1] == 1 else 0)\n",
    "        maxLength = 0\n",
    "        for i in range(n):\n",
    "            for j in range(i + 1, n + 1):\n",
    "                onesCount = ones[j] - ones[i]\n",
    "                zeroesCount = j - i - onesCount\n",
    "                if onesCount == zeroesCount + 1:\n",
    "                    maxLength = max(maxLength, j - i)\n",
    "        return maxLength"
   ]
  },
  {
   "cell_type": "code",
   "execution_count": 70,
   "metadata": {},
   "outputs": [],
   "source": [
    "# this solution is based on the Largest Continuous Sequence Zero Sum\n",
    "# there we wanted to find subarray with sum 0 and here we want to find subarray with sum 1\n",
    "class Solution:\n",
    "    # @param A : list of integers\n",
    "    # @return an integer\n",
    "    def solve(self, A):\n",
    "        ans = 0\n",
    "\n",
    "        s = 0\n",
    "        n = len(A)\n",
    "        mp = {0: -1}\n",
    "        for i in range(n):\n",
    "            s += 1 if A[i] == 1 else -1\n",
    "            if s - 1 in mp:\n",
    "                ans = max(ans, i - mp[s-1])\n",
    "            if s not in mp:\n",
    "                mp[s] = i\n",
    "        return ans"
   ]
  },
  {
   "cell_type": "code",
   "execution_count": 71,
   "metadata": {},
   "outputs": [],
   "source": [
    "# # alternative way of writing\n",
    "# class Solution:\n",
    "#     # @param A : list of integers\n",
    "#     # @return an integer\n",
    "#     def solve(self, A):\n",
    "#         ans = 0\n",
    "\n",
    "#         curr = 0\n",
    "#         first, last = {}, {}\n",
    "#         first[0] = -1\n",
    "#         last[0] = -1\n",
    "\n",
    "#         for i in range(len(A)):\n",
    "#             curr += 1 if A[i] == 1 else -1\n",
    "#             if curr not in first:\n",
    "#                 first[curr] = i\n",
    "#             last[curr] = i\n",
    "\n",
    "#         for key in last:\n",
    "#             if key - 1 in first:\n",
    "#                 ans = max(ans, last[key] - first[key - 1])\n",
    "\n",
    "#         return ans"
   ]
  },
  {
   "cell_type": "code",
   "execution_count": 72,
   "metadata": {},
   "outputs": [
    {
     "data": {
      "text/plain": [
       "5"
      ]
     },
     "execution_count": 72,
     "metadata": {},
     "output_type": "execute_result"
    }
   ],
   "source": [
    "#    0  1  2  3  4  5\n",
    "A = [0, 1, 1, 0, 0, 1]\n",
    "sol = Solution()\n",
    "sol.solve(A)"
   ]
  },
  {
   "cell_type": "code",
   "execution_count": 73,
   "metadata": {},
   "outputs": [
    {
     "data": {
      "text/plain": [
       "1"
      ]
     },
     "execution_count": 73,
     "metadata": {},
     "output_type": "execute_result"
    }
   ],
   "source": [
    "A = [1, 0, 0, 1, 0]\n",
    "sol = Solution()\n",
    "sol.solve(A)"
   ]
  },
  {
   "cell_type": "code",
   "execution_count": 74,
   "metadata": {},
   "outputs": [
    {
     "data": {
      "text/plain": [
       "13"
      ]
     },
     "execution_count": 74,
     "metadata": {},
     "output_type": "execute_result"
    }
   ],
   "source": [
    "A = [0, 0, 1, 1, 0, 1, 0, 1, 0, 1, 1, 1, 0, 1, 1, 0, 1, 1, 0, 1, 1, 1]\n",
    "sol = Solution()\n",
    "sol.solve(A)"
   ]
  }
 ],
 "metadata": {
  "kernelspec": {
   "display_name": "dsa-venv",
   "language": "python",
   "name": "python3"
  },
  "language_info": {
   "codemirror_mode": {
    "name": "ipython",
    "version": 3
   },
   "file_extension": ".py",
   "mimetype": "text/x-python",
   "name": "python",
   "nbconvert_exporter": "python",
   "pygments_lexer": "ipython3",
   "version": "3.11.3"
  },
  "orig_nbformat": 4
 },
 "nbformat": 4,
 "nbformat_minor": 2
}
