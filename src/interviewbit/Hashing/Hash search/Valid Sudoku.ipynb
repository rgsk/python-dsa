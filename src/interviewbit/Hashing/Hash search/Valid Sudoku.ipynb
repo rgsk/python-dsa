{
 "cells": [
  {
   "cell_type": "code",
   "execution_count": 9,
   "metadata": {},
   "outputs": [],
   "source": [
    "from collections import defaultdict\n",
    "\n",
    "\n",
    "class Solution:\n",
    "    # @param A : tuple of strings\n",
    "    # @return an integer\n",
    "    def isValidSudoku(self, A):\n",
    "        board = [[0 if v == '.' else int(v) for v in row] for row in A]\n",
    "        n = 9\n",
    "        rows = [defaultdict(bool) for _ in range(n)]\n",
    "        cols = [defaultdict(bool) for _ in range(n)]\n",
    "        blocks = [[defaultdict(bool) for _ in range(3)] for _ in range(3)]\n",
    "        for i in range(n):\n",
    "            for j in range(n):\n",
    "                if board[i][j] != 0:\n",
    "                    if rows[i][board[i][j]] or cols[j][board[i][j]] or blocks[i//3][j//3][board[i][j]]:\n",
    "                        return 0\n",
    "                    rows[i][board[i][j]] = True\n",
    "                    cols[j][board[i][j]] = True\n",
    "                    blocks[i//3][j//3][board[i][j]] = True \n",
    "        return 1"
   ]
  },
  {
   "cell_type": "code",
   "execution_count": 10,
   "metadata": {},
   "outputs": [
    {
     "data": {
      "text/plain": [
       "1"
      ]
     },
     "execution_count": 10,
     "metadata": {},
     "output_type": "execute_result"
    }
   ],
   "source": [
    "A = [\"53..7....\", \"6..195...\", \".98....6.\", \"8...6...3\",\n",
    "     \"4..8.3..1\", \"7...2...6\", \".6....28.\", \"...419..5\", \"....8..79\"]\n",
    "sol = Solution()\n",
    "sol.isValidSudoku(A)"
   ]
  }
 ],
 "metadata": {
  "kernelspec": {
   "display_name": "dsa-venv",
   "language": "python",
   "name": "python3"
  },
  "language_info": {
   "codemirror_mode": {
    "name": "ipython",
    "version": 3
   },
   "file_extension": ".py",
   "mimetype": "text/x-python",
   "name": "python",
   "nbconvert_exporter": "python",
   "pygments_lexer": "ipython3",
   "version": "3.11.3"
  },
  "orig_nbformat": 4
 },
 "nbformat": 4,
 "nbformat_minor": 2
}
