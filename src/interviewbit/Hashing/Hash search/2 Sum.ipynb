{
 "cells": [
  {
   "cell_type": "code",
   "execution_count": 5,
   "metadata": {},
   "outputs": [],
   "source": [
    "# https://www.interviewbit.com/problems/2-sum/"
   ]
  },
  {
   "cell_type": "code",
   "execution_count": 6,
   "metadata": {},
   "outputs": [],
   "source": [
    "class Solution:\n",
    "\t# @param A : tuple of integers\n",
    "\t# @param B : integer\n",
    "\t# @return a list of integers\n",
    "    def twoSum(self, A, B):\n",
    "        dic = {}\n",
    "        for i in range(len(A)):\n",
    "            v = A[i]\n",
    "            if B - v in dic:\n",
    "                return [dic[B-v] + 1, i + 1]\n",
    "            if v not in dic:\n",
    "                dic[v] = i\n",
    "        return []"
   ]
  },
  {
   "cell_type": "code",
   "execution_count": 7,
   "metadata": {},
   "outputs": [
    {
     "data": {
      "text/plain": [
       "[1, 2]"
      ]
     },
     "execution_count": 7,
     "metadata": {},
     "output_type": "execute_result"
    }
   ],
   "source": [
    "A= [2, 7, 11, 15]\n",
    "B= 9\n",
    "sol = Solution()\n",
    "sol.twoSum(A, B)"
   ]
  }
 ],
 "metadata": {
  "kernelspec": {
   "display_name": "dsa-venv",
   "language": "python",
   "name": "python3"
  },
  "language_info": {
   "codemirror_mode": {
    "name": "ipython",
    "version": 3
   },
   "file_extension": ".py",
   "mimetype": "text/x-python",
   "name": "python",
   "nbconvert_exporter": "python",
   "pygments_lexer": "ipython3",
   "version": "3.11.3"
  },
  "orig_nbformat": 4
 },
 "nbformat": 4,
 "nbformat_minor": 2
}
