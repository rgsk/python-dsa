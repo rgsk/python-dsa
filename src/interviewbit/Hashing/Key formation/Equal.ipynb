{
 "cells": [
  {
   "cell_type": "code",
   "execution_count": 41,
   "metadata": {},
   "outputs": [],
   "source": [
    "class Solution:\n",
    "    # @param A : list of integers\n",
    "    # @return a list of integers\n",
    "    def equal(self, A):\n",
    "        n = len(A)\n",
    "        for i in range(n):\n",
    "            for j in range(i + 1, n):\n",
    "                for k in range(i + 1, n):\n",
    "                    for l in range(k + 1, n):\n",
    "                        if A[i] + A[j] == A[k] + A[l] and k != j and l != j:\n",
    "                            return [i, j, k, l]\n",
    "        return []"
   ]
  },
  {
   "cell_type": "code",
   "execution_count": 42,
   "metadata": {},
   "outputs": [],
   "source": [
    "class Solution:\n",
    "    # @param A : list of integers\n",
    "    # @return a list of integers\n",
    "    def equal(self, A):\n",
    "        n = len(A)\n",
    "        for i in range(n - 3):\n",
    "            for j in range(i + 1, n - 1):\n",
    "                for k in range(i + 1, n - 1):\n",
    "                    for l in range(k + 1, n):\n",
    "                        if A[i] + A[j] == A[k] + A[l] and k != j and l != j:\n",
    "                            return [i, j, k, l]\n",
    "        return []"
   ]
  },
  {
   "cell_type": "code",
   "execution_count": 43,
   "metadata": {},
   "outputs": [
    {
     "data": {
      "text/plain": [
       "[0, 2, 3, 5]"
      ]
     },
     "execution_count": 43,
     "metadata": {},
     "output_type": "execute_result"
    }
   ],
   "source": [
    "A = [3, 4, 7, 1, 2, 9, 8]\n",
    "sol = Solution()\n",
    "sol.equal(A)"
   ]
  },
  {
   "cell_type": "code",
   "execution_count": 44,
   "metadata": {},
   "outputs": [
    {
     "data": {
      "text/plain": [
       "[0, 1, 2, 3]"
      ]
     },
     "execution_count": 44,
     "metadata": {},
     "output_type": "execute_result"
    }
   ],
   "source": [
    "A = [2, 5, 1, 6]\n",
    "sol = Solution()\n",
    "sol.equal(A)"
   ]
  },
  {
   "cell_type": "code",
   "execution_count": 45,
   "metadata": {},
   "outputs": [
    {
     "data": {
      "text/plain": [
       "[0, 2, 1, 3]"
      ]
     },
     "execution_count": 45,
     "metadata": {},
     "output_type": "execute_result"
    }
   ],
   "source": [
    "A = [2, 6, 10, 6]\n",
    "sol = Solution()\n",
    "sol.equal(A)"
   ]
  }
 ],
 "metadata": {
  "kernelspec": {
   "display_name": "dsa-venv",
   "language": "python",
   "name": "python3"
  },
  "language_info": {
   "codemirror_mode": {
    "name": "ipython",
    "version": 3
   },
   "file_extension": ".py",
   "mimetype": "text/x-python",
   "name": "python",
   "nbconvert_exporter": "python",
   "pygments_lexer": "ipython3",
   "version": "3.11.3"
  },
  "orig_nbformat": 4
 },
 "nbformat": 4,
 "nbformat_minor": 2
}
