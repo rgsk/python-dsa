{
 "cells": [
  {
   "cell_type": "code",
   "execution_count": 22,
   "metadata": {},
   "outputs": [],
   "source": [
    "from collections import defaultdict\n",
    "\n",
    "\n",
    "class Solution:\n",
    "    # @param A : tuple of strings\n",
    "    # @return a list of list of integers\n",
    "    def anagrams(self, A):\n",
    "        mp = defaultdict(list)\n",
    "        n = len(A)\n",
    "        for i in range(n):\n",
    "            word = A[i]\n",
    "            mp[\"\".join(sorted(word))].append(i + 1)\n",
    "        return list(mp.values())"
   ]
  },
  {
   "cell_type": "code",
   "execution_count": 23,
   "metadata": {},
   "outputs": [],
   "source": [
    "from collections import defaultdict\n",
    "class Solution:\n",
    "    # @param A : tuple of strings\n",
    "    # @return a list of list of integers\n",
    "    def anagrams(self, A):\n",
    "        hash_map = defaultdict(list)\n",
    "        i = 1\n",
    "        for word in A:\n",
    "            count = [0] * 26\n",
    "            for char in word:\n",
    "                count[ord(char) - ord('a')] += 1\n",
    "            \n",
    "            hash_map[tuple(count)].append(i)\n",
    "            i += 1\n",
    "            \n",
    "        return list(hash_map.values())"
   ]
  },
  {
   "cell_type": "code",
   "execution_count": 24,
   "metadata": {},
   "outputs": [
    {
     "data": {
      "text/plain": [
       "[[1, 4], [2, 3]]"
      ]
     },
     "execution_count": 24,
     "metadata": {},
     "output_type": "execute_result"
    }
   ],
   "source": [
    "A = ['cat', 'dog', 'god', 'tca']\n",
    "sol = Solution()\n",
    "sol.anagrams(A)"
   ]
  },
  {
   "cell_type": "code",
   "execution_count": 25,
   "metadata": {},
   "outputs": [
    {
     "data": {
      "text/plain": [
       "[[1, 2, 3]]"
      ]
     },
     "execution_count": 25,
     "metadata": {},
     "output_type": "execute_result"
    }
   ],
   "source": [
    "A = ['rat', 'tar', 'art']\n",
    "sol = Solution()\n",
    "sol.anagrams(A)"
   ]
  },
  {
   "cell_type": "code",
   "execution_count": null,
   "metadata": {},
   "outputs": [],
   "source": []
  }
 ],
 "metadata": {
  "kernelspec": {
   "display_name": "dsa-venv",
   "language": "python",
   "name": "python3"
  },
  "language_info": {
   "codemirror_mode": {
    "name": "ipython",
    "version": 3
   },
   "file_extension": ".py",
   "mimetype": "text/x-python",
   "name": "python",
   "nbconvert_exporter": "python",
   "pygments_lexer": "ipython3",
   "version": "3.11.3"
  },
  "orig_nbformat": 4
 },
 "nbformat": 4,
 "nbformat_minor": 2
}
