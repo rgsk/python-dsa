{
 "cells": [
  {
   "cell_type": "code",
   "execution_count": 3,
   "metadata": {},
   "outputs": [],
   "source": [
    "# Definition for singly-linked list with a random pointer.\n",
    "class RandomListNode:\n",
    "    def __init__(self, x):\n",
    "        self.label = x\n",
    "        self.next = None\n",
    "        self.random = None\n",
    "\n",
    "class Solution:\n",
    "    # @param head, a RandomListNode\n",
    "    # @return a RandomListNode\n",
    "    def copyRandomList(self, head):\n",
    "        dummy = RandomListNode(-1)\n",
    "        cur = dummy\n",
    "        temp = head\n",
    "        mp = {}\n",
    "        while temp:\n",
    "            cur.next = RandomListNode(temp.label)\n",
    "            mp[temp] = cur.next \n",
    "            temp = temp.next\n",
    "            cur = cur.next\n",
    "        cur = dummy.next\n",
    "        temp = head\n",
    "        while cur:\n",
    "            if temp.random in mp:\n",
    "                cur.random = mp[temp.random]\n",
    "            cur = cur.next\n",
    "            temp = temp.next\n",
    "        return dummy.next"
   ]
  },
  {
   "cell_type": "code",
   "execution_count": 4,
   "metadata": {},
   "outputs": [
    {
     "data": {
      "text/plain": [
       "<__main__.RandomListNode at 0x11249d8d0>"
      ]
     },
     "execution_count": 4,
     "metadata": {},
     "output_type": "execute_result"
    }
   ],
   "source": [
    "head = RandomListNode(1)\n",
    "head.next = RandomListNode(2)\n",
    "head.next.next = RandomListNode(3)\n",
    "head.random = head.next.next\n",
    "head.next.random = head\n",
    "head.next.next.random = head\n",
    "sol = Solution()\n",
    "sol.copyRandomList(head)"
   ]
  }
 ],
 "metadata": {
  "kernelspec": {
   "display_name": "dsa-venv",
   "language": "python",
   "name": "python3"
  },
  "language_info": {
   "codemirror_mode": {
    "name": "ipython",
    "version": 3
   },
   "file_extension": ".py",
   "mimetype": "text/x-python",
   "name": "python",
   "nbconvert_exporter": "python",
   "pygments_lexer": "ipython3",
   "version": "3.11.3"
  },
  "orig_nbformat": 4
 },
 "nbformat": 4,
 "nbformat_minor": 2
}
