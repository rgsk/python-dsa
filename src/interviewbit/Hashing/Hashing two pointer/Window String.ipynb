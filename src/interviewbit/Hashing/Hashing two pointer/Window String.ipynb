{
 "cells": [
  {
   "cell_type": "code",
   "execution_count": 1,
   "metadata": {},
   "outputs": [],
   "source": [
    "from collections import defaultdict\n",
    "\n",
    "\n",
    "class Solution:\n",
    "    # @param A : string\n",
    "    # @param B : string\n",
    "    # @return a strings\n",
    "    def minWindow(self, s, t):\n",
    "        char_count = defaultdict(int)\n",
    "        l = r = 0\n",
    "        n = len(s)\n",
    "        req_count = defaultdict(int)\n",
    "        missing = len(t)\n",
    "        for c in t:\n",
    "            req_count[c] += 1\n",
    "        start = 0\n",
    "        end = 0\n",
    "        found = False\n",
    "        while r < n:\n",
    "            if s[r] in req_count:\n",
    "                if req_count[s[r]] > 0:\n",
    "                    missing -= 1\n",
    "                req_count[s[r]] -= 1\n",
    "            char_count[s[r]] += 1\n",
    "            while missing == 0:\n",
    "                if not found or r - l < end - start:\n",
    "                    start = l\n",
    "                    end = r\n",
    "                    found = True\n",
    "                char_count[s[l]] -= 1\n",
    "                if char_count[s[l]] == 0:\n",
    "                    char_count.pop(s[l])\n",
    "                if s[l] in req_count:\n",
    "                    req_count[s[l]] += 1\n",
    "                    if req_count[s[l]] > 0:\n",
    "                        missing += 1\n",
    "                l += 1\n",
    "            r += 1\n",
    "        if found:\n",
    "            return s[start: end + 1]\n",
    "        return ''"
   ]
  },
  {
   "cell_type": "code",
   "execution_count": 2,
   "metadata": {},
   "outputs": [
    {
     "data": {
      "text/plain": [
       "'BANC'"
      ]
     },
     "execution_count": 2,
     "metadata": {},
     "output_type": "execute_result"
    }
   ],
   "source": [
    "A = \"ADOBECODEBANC\"\n",
    "B = \"ABC\"\n",
    "sol = Solution()\n",
    "sol.minWindow(A, B)"
   ]
  },
  {
   "cell_type": "code",
   "execution_count": 3,
   "metadata": {},
   "outputs": [
    {
     "data": {
      "text/plain": [
       "'a91b'"
      ]
     },
     "execution_count": 3,
     "metadata": {},
     "output_type": "execute_result"
    }
   ],
   "source": [
    "A = \"Aa91b\"\n",
    "B = \"ab\"\n",
    "sol = Solution()\n",
    "sol.minWindow(A, B)"
   ]
  }
 ],
 "metadata": {
  "kernelspec": {
   "display_name": "dsa-venv",
   "language": "python",
   "name": "python3"
  },
  "language_info": {
   "codemirror_mode": {
    "name": "ipython",
    "version": 3
   },
   "file_extension": ".py",
   "mimetype": "text/x-python",
   "name": "python",
   "nbconvert_exporter": "python",
   "pygments_lexer": "ipython3",
   "version": "3.11.3"
  },
  "orig_nbformat": 4
 },
 "nbformat": 4,
 "nbformat_minor": 2
}
