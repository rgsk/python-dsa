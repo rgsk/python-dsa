{
 "cells": [
  {
   "cell_type": "code",
   "execution_count": 13,
   "metadata": {},
   "outputs": [],
   "source": [
    "from collections import defaultdict\n",
    "\n",
    "\n",
    "class Solution:\n",
    "    # @param A : string\n",
    "    # @return an integer\n",
    "    def lengthOfLongestSubstring(self, A):\n",
    "        l = 0\n",
    "        r = 0\n",
    "        mp = defaultdict(int)\n",
    "        ans = 0\n",
    "        n = len(A)\n",
    "        while r < n:\n",
    "            while A[r] in mp:\n",
    "                mp[A[l]] -= 1\n",
    "                if mp[A[l]] == 0:\n",
    "                    mp.pop(A[l])\n",
    "                l += 1\n",
    "            mp[A[r]] += 1\n",
    "            ans = max(ans, r - l + 1)\n",
    "            r += 1\n",
    "        return ans"
   ]
  },
  {
   "cell_type": "code",
   "execution_count": 14,
   "metadata": {},
   "outputs": [
    {
     "data": {
      "text/plain": [
       "3"
      ]
     },
     "execution_count": 14,
     "metadata": {},
     "output_type": "execute_result"
    }
   ],
   "source": [
    "A = \"abcabcbb\"\n",
    "sol = Solution()\n",
    "sol.lengthOfLongestSubstring(A)"
   ]
  },
  {
   "cell_type": "code",
   "execution_count": 15,
   "metadata": {},
   "outputs": [
    {
     "data": {
      "text/plain": [
       "2"
      ]
     },
     "execution_count": 15,
     "metadata": {},
     "output_type": "execute_result"
    }
   ],
   "source": [
    "A = \"AaaA\"\n",
    "sol = Solution()\n",
    "sol.lengthOfLongestSubstring(A)"
   ]
  }
 ],
 "metadata": {
  "kernelspec": {
   "display_name": "dsa-venv",
   "language": "python",
   "name": "python3"
  },
  "language_info": {
   "codemirror_mode": {
    "name": "ipython",
    "version": 3
   },
   "file_extension": ".py",
   "mimetype": "text/x-python",
   "name": "python",
   "nbconvert_exporter": "python",
   "pygments_lexer": "ipython3",
   "version": "3.11.3"
  },
  "orig_nbformat": 4
 },
 "nbformat": 4,
 "nbformat_minor": 2
}
