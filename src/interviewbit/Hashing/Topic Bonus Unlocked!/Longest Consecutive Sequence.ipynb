{
 "cells": [
  {
   "cell_type": "code",
   "execution_count": 30,
   "metadata": {},
   "outputs": [],
   "source": [
    "# https://www.interviewbit.com/problems/longest-consecutive-sequence/"
   ]
  },
  {
   "cell_type": "code",
   "execution_count": 31,
   "metadata": {},
   "outputs": [],
   "source": [
    "# O(nlogn)\n",
    "class Solution:\n",
    "    # @param A : tuple of integers\n",
    "    # @return an integer\n",
    "    def longestConsecutive(self, A):\n",
    "        sorted_A = sorted(list(set(A)))\n",
    "        n = len(sorted_A)\n",
    "        l = 0\n",
    "        r = 1\n",
    "        ans = 1\n",
    "        while r < n:\n",
    "            while r < n and sorted_A[r] == sorted_A[r-1] + 1:\n",
    "                r += 1\n",
    "            ans = max(ans, r - l)\n",
    "            l = r\n",
    "            r += 1\n",
    "        return ans"
   ]
  },
  {
   "cell_type": "code",
   "execution_count": 32,
   "metadata": {},
   "outputs": [],
   "source": [
    "# O(n)\n",
    "class Solution:\n",
    "    # @param A : tuple of integers\n",
    "    # @return an integer\n",
    "    def longestConsecutive(self, A):\n",
    "        visited = {}\n",
    "        for v in A:\n",
    "            visited[v] = False\n",
    "        ans = 1\n",
    "        for v in visited:\n",
    "            if not visited[v]:\n",
    "                visited[v] = True\n",
    "                l = v - 1\n",
    "                r = v + 1   \n",
    "                while l in visited:\n",
    "                    visited[l] = True\n",
    "                    l -= 1\n",
    "                while r in visited:\n",
    "                    visited[r] = True\n",
    "                    r += 1\n",
    "                count = r - l - 1\n",
    "                ans = max(ans, count)\n",
    "        return ans"
   ]
  },
  {
   "cell_type": "code",
   "execution_count": 33,
   "metadata": {},
   "outputs": [
    {
     "data": {
      "text/plain": [
       "4"
      ]
     },
     "execution_count": 33,
     "metadata": {},
     "output_type": "execute_result"
    }
   ],
   "source": [
    "A = (100, 4, 200, 1, 3, 2)\n",
    "sol = Solution()\n",
    "sol.longestConsecutive(A)"
   ]
  },
  {
   "cell_type": "code",
   "execution_count": 34,
   "metadata": {},
   "outputs": [
    {
     "data": {
      "text/plain": [
       "4"
      ]
     },
     "execution_count": 34,
     "metadata": {},
     "output_type": "execute_result"
    }
   ],
   "source": [
    "A = (4, 1, 3, 2)\n",
    "sol = Solution()\n",
    "sol.longestConsecutive(A)"
   ]
  },
  {
   "cell_type": "code",
   "execution_count": 35,
   "metadata": {},
   "outputs": [
    {
     "data": {
      "text/plain": [
       "5"
      ]
     },
     "execution_count": 35,
     "metadata": {},
     "output_type": "execute_result"
    }
   ],
   "source": [
    "A = [ 1, 1, 2, 2, 3, 3, 4, 4, 5, 5 ]\n",
    "sol = Solution()\n",
    "sol.longestConsecutive(A)"
   ]
  }
 ],
 "metadata": {
  "kernelspec": {
   "display_name": "dsa-venv",
   "language": "python",
   "name": "python3"
  },
  "language_info": {
   "codemirror_mode": {
    "name": "ipython",
    "version": 3
   },
   "file_extension": ".py",
   "mimetype": "text/x-python",
   "name": "python",
   "nbconvert_exporter": "python",
   "pygments_lexer": "ipython3",
   "version": "3.11.3"
  }
 },
 "nbformat": 4,
 "nbformat_minor": 2
}
