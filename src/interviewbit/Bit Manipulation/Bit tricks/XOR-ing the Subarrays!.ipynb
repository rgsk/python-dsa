{
 "cells": [
  {
   "cell_type": "code",
   "execution_count": 32,
   "metadata": {},
   "outputs": [],
   "source": [
    "# https://www.interviewbit.com/problems/xor-ing-the-subarrays/"
   ]
  },
  {
   "cell_type": "code",
   "execution_count": 33,
   "metadata": {},
   "outputs": [],
   "source": [
    "# TLE\n",
    "class Solution:\n",
    "    # @param A : list of integers\n",
    "    # @return an integer\n",
    "    def solve(self, A):\n",
    "        n = len(A)\n",
    "        final = 0\n",
    "        for i in range(n):\n",
    "            xor = 0\n",
    "            for j in range(i, n):\n",
    "                xor ^= A[j]\n",
    "                final ^= xor\n",
    "        return final"
   ]
  },
  {
   "cell_type": "code",
   "execution_count": 34,
   "metadata": {},
   "outputs": [],
   "source": [
    "'''\n",
    "Just think for each element how many subarrays it will contribute its value to.\n",
    "Like any element ith index in array A will occur (i + 1) * (N - i) times.\n",
    "'''\n",
    "'''\n",
    "for 1, 2, 3, 4\n",
    "\n",
    "1\n",
    "1, 2\n",
    "1, 2, 3\n",
    "1, 2, 3, 4\n",
    "\n",
    "2\n",
    "2, 3\n",
    "2, 3, 4\n",
    "\n",
    "3\n",
    "3, 4\n",
    "\n",
    "4\n",
    "'''\n",
    "\n",
    "class Solution:\n",
    "    # @param A : list of integers\n",
    "    # @return an integer\n",
    "    def solve(self, A):\n",
    "        n = len(A)\n",
    "        final = 0\n",
    "        for i in range(n):\n",
    "            times = (n - i) * (i + 1)\n",
    "            if times % 2:\n",
    "                final ^= A[i]\n",
    "        return final"
   ]
  },
  {
   "cell_type": "code",
   "execution_count": 35,
   "metadata": {},
   "outputs": [
    {
     "data": {
      "text/plain": [
       "2"
      ]
     },
     "execution_count": 35,
     "metadata": {},
     "output_type": "execute_result"
    }
   ],
   "source": [
    "A = [1, 2, 3]\n",
    "sol = Solution()\n",
    "sol.solve(A)"
   ]
  },
  {
   "cell_type": "code",
   "execution_count": 36,
   "metadata": {},
   "outputs": [
    {
     "data": {
      "text/plain": [
       "0"
      ]
     },
     "execution_count": 36,
     "metadata": {},
     "output_type": "execute_result"
    }
   ],
   "source": [
    "A = [4, 5, 7, 5]\n",
    "sol = Solution()\n",
    "sol.solve(A)"
   ]
  }
 ],
 "metadata": {
  "kernelspec": {
   "display_name": "dsa-venv",
   "language": "python",
   "name": "python3"
  },
  "language_info": {
   "codemirror_mode": {
    "name": "ipython",
    "version": 3
   },
   "file_extension": ".py",
   "mimetype": "text/x-python",
   "name": "python",
   "nbconvert_exporter": "python",
   "pygments_lexer": "ipython3",
   "version": "3.11.3"
  }
 },
 "nbformat": 4,
 "nbformat_minor": 2
}
