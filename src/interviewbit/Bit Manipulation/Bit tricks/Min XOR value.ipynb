{
 "cells": [
  {
   "cell_type": "code",
   "execution_count": 9,
   "metadata": {},
   "outputs": [],
   "source": [
    "# https://www.interviewbit.com/problems/min-xor-value/"
   ]
  },
  {
   "cell_type": "code",
   "execution_count": 10,
   "metadata": {},
   "outputs": [],
   "source": [
    "class Solution:\n",
    "    # @param A : list of integers\n",
    "    # @return an integer\n",
    "    def findMinXor(self, A):\n",
    "        n = len(A)\n",
    "        minimum_xor = float('inf')\n",
    "        for i in range(n):\n",
    "            for j in range(i + 1, n):\n",
    "                minimum_xor = min(minimum_xor, A[i] ^ A[j])\n",
    "        return minimum_xor"
   ]
  },
  {
   "cell_type": "code",
   "execution_count": 11,
   "metadata": {},
   "outputs": [],
   "source": [
    "# https://www.interviewbit.com/problems/min-xor-value/hints/\n",
    "\n",
    "'''\n",
    "let's say we have 3 elements\n",
    "\n",
    "left, mid, right\n",
    "such that left <= mid <= right\n",
    "\n",
    "let i'th bit is the first differentiating bit from left (significant bit)\n",
    "between left and right\n",
    "\n",
    "if left[i] = 0, then right[i] = 1\n",
    "\n",
    "now if mid[i] = 0, then left ^ mid < left ^ right\n",
    "    if mid[i] = 1, then mid ^ right < left ^ right\n",
    "\n",
    "if left[i] = 1, then right[i] = 0\n",
    "\n",
    "now if mid[i] = 0, then mid ^ right  < left ^ right\n",
    "    if mid[i] = 1, then left ^ mid < left ^ right\n",
    "'''\n",
    "\n",
    "class Solution:\n",
    "    # @param A : list of integers\n",
    "    # @return an integer\n",
    "    def findMinXor(self, A):\n",
    "        n = len(A)\n",
    "        A.sort()\n",
    "        minimum_xor = float('inf')\n",
    "        for i in range(n-1):\n",
    "            minimum_xor = min(minimum_xor, A[i] ^ A[i+1])\n",
    "        return minimum_xor"
   ]
  },
  {
   "cell_type": "code",
   "execution_count": 12,
   "metadata": {},
   "outputs": [
    {
     "data": {
      "text/plain": [
       "2"
      ]
     },
     "execution_count": 12,
     "metadata": {},
     "output_type": "execute_result"
    }
   ],
   "source": [
    "A = [0, 2, 5, 7]\n",
    "sol = Solution()\n",
    "sol.findMinXor(A)"
   ]
  },
  {
   "cell_type": "code",
   "execution_count": 13,
   "metadata": {},
   "outputs": [
    {
     "data": {
      "text/plain": [
       "3"
      ]
     },
     "execution_count": 13,
     "metadata": {},
     "output_type": "execute_result"
    }
   ],
   "source": [
    "A = [0, 4, 7, 9]\n",
    "sol = Solution()\n",
    "sol.findMinXor(A)"
   ]
  }
 ],
 "metadata": {
  "kernelspec": {
   "display_name": "dsa-venv",
   "language": "python",
   "name": "python3"
  },
  "language_info": {
   "codemirror_mode": {
    "name": "ipython",
    "version": 3
   },
   "file_extension": ".py",
   "mimetype": "text/x-python",
   "name": "python",
   "nbconvert_exporter": "python",
   "pygments_lexer": "ipython3",
   "version": "3.11.3"
  }
 },
 "nbformat": 4,
 "nbformat_minor": 2
}
