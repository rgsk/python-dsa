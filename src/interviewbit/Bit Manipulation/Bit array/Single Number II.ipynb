{
 "cells": [
  {
   "cell_type": "code",
   "execution_count": 4,
   "metadata": {},
   "outputs": [],
   "source": [
    "# https://www.interviewbit.com/problems/single-number-ii/"
   ]
  },
  {
   "cell_type": "code",
   "execution_count": 5,
   "metadata": {},
   "outputs": [],
   "source": [
    "# If X has 1 in that position, we will have (3x+1) number of 1s in that position.\n",
    "class Solution:\n",
    "    # @param A : tuple of integers\n",
    "    # @return an integer\n",
    "    def singleNumber(self, A):\n",
    "        res = 0\n",
    "        n = len(A)\n",
    "        for i in range(0, 32):\n",
    "            sm = 0\n",
    "            x = 1 << i\n",
    "            for j in range(0, n):\n",
    "                if A[j] & x:\n",
    "                    sm += 1\n",
    "            if sm % 3:\n",
    "                res = (res | x)\n",
    "        return res"
   ]
  },
  {
   "cell_type": "code",
   "execution_count": 6,
   "metadata": {},
   "outputs": [
    {
     "data": {
      "text/plain": [
       "4"
      ]
     },
     "execution_count": 6,
     "metadata": {},
     "output_type": "execute_result"
    }
   ],
   "source": [
    "A = [1, 2, 4, 3, 3, 2, 2, 3, 1, 1]\n",
    "sol = Solution()\n",
    "sol.singleNumber(A)"
   ]
  }
 ],
 "metadata": {
  "kernelspec": {
   "display_name": "dsa-venv",
   "language": "python",
   "name": "python3"
  },
  "language_info": {
   "codemirror_mode": {
    "name": "ipython",
    "version": 3
   },
   "file_extension": ".py",
   "mimetype": "text/x-python",
   "name": "python",
   "nbconvert_exporter": "python",
   "pygments_lexer": "ipython3",
   "version": "3.11.3"
  }
 },
 "nbformat": 4,
 "nbformat_minor": 2
}
