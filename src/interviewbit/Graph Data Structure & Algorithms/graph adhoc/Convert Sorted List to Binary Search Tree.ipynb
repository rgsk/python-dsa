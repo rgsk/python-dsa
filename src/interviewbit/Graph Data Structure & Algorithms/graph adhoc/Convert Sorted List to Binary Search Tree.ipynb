{
 "cells": [
  {
   "cell_type": "code",
   "execution_count": 56,
   "metadata": {},
   "outputs": [],
   "source": [
    "import sys\n",
    "sys.path.append('../../..')\n",
    "\n",
    "from lib.ListNode import *\n",
    "from lib.TreeNode import *"
   ]
  },
  {
   "cell_type": "code",
   "execution_count": 57,
   "metadata": {},
   "outputs": [],
   "source": [
    "def asList(l):\n",
    "    if l == None:\n",
    "        return []\n",
    "\n",
    "    ans = []\n",
    "    t = l\n",
    "    while t is not None:\n",
    "        ans.append(t.val)\n",
    "        t = t.next\n",
    "    return ans\n",
    "\n",
    "\n",
    "def createTreeFromInorder(inorderTraversal, left, right):\n",
    "    if left <= right:\n",
    "        mid = (left + right) // 2\n",
    "        node = TreeNode(inorderTraversal[mid])\n",
    "        node.left = createTreeFromInorder(inorderTraversal, left, mid - 1)\n",
    "        node.right = createTreeFromInorder(inorderTraversal, mid + 1, right)\n",
    "        return node\n",
    "\n",
    "\n",
    "class Solution:\n",
    "    # @param A : head node of linked list\n",
    "    # @return the root node in the tree\n",
    "    def sortedListToBST(self, A):\n",
    "        elements = asList(A)\n",
    "        return createTreeFromInorder(elements, 0, len(elements) - 1)"
   ]
  },
  {
   "cell_type": "code",
   "execution_count": 58,
   "metadata": {},
   "outputs": [],
   "source": [
    "def createTree(head):\n",
    "    if head:\n",
    "        if head.next:\n",
    "            fast = head\n",
    "            slow = head\n",
    "            prev_slow = None\n",
    "            while fast and fast.next:\n",
    "                fast = fast.next.next\n",
    "                prev_slow = slow\n",
    "                slow = slow.next\n",
    "            prev_slow.next = None\n",
    "            node = TreeNode(slow.val)\n",
    "            node.left = createTree(head)\n",
    "            node.right = createTree(slow.next)\n",
    "            return node\n",
    "        else:\n",
    "            return TreeNode(head.val)\n",
    "\n",
    "\n",
    "class Solution:\n",
    "    # @param A : head node of linked list\n",
    "    # @return the root node in the tree\n",
    "    def sortedListToBST(self, A):\n",
    "        return createTree(A)"
   ]
  },
  {
   "cell_type": "code",
   "execution_count": 59,
   "metadata": {},
   "outputs": [
    {
     "data": {
      "text/plain": [
       "[2, 1, 3]"
      ]
     },
     "execution_count": 59,
     "metadata": {},
     "output_type": "execute_result"
    }
   ],
   "source": [
    "A = makeList([1, 2, 3])\n",
    "sol = Solution()\n",
    "sol.sortedListToBST(A)"
   ]
  },
  {
   "cell_type": "code",
   "execution_count": 60,
   "metadata": {},
   "outputs": [
    {
     "data": {
      "text/plain": [
       "[3, 2, 4, 1]"
      ]
     },
     "execution_count": 60,
     "metadata": {},
     "output_type": "execute_result"
    }
   ],
   "source": [
    "A = makeList([1, 2, 3, 4])\n",
    "sol = Solution()\n",
    "sol.sortedListToBST(A)"
   ]
  }
 ],
 "metadata": {
  "kernelspec": {
   "display_name": "dsa-venv",
   "language": "python",
   "name": "python3"
  },
  "language_info": {
   "codemirror_mode": {
    "name": "ipython",
    "version": 3
   },
   "file_extension": ".py",
   "mimetype": "text/x-python",
   "name": "python",
   "nbconvert_exporter": "python",
   "pygments_lexer": "ipython3",
   "version": "3.11.3"
  }
 },
 "nbformat": 4,
 "nbformat_minor": 2
}
