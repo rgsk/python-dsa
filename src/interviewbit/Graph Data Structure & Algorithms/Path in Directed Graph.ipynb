{
 "cells": [
  {
   "cell_type": "code",
   "execution_count": 10,
   "metadata": {},
   "outputs": [],
   "source": [
    "from collections import defaultdict\n",
    "class Solution:\n",
    "    # @param A : integer\n",
    "    # @param B : list of list of integers\n",
    "    # @return an integer\n",
    "    def solve(self, A, B):\n",
    "        g = defaultdict(list)\n",
    "        for n in B:\n",
    "            g[n[0]].append(n[1])\n",
    "        \n",
    "        visited = set()\n",
    "        def bfs(n):\n",
    "            q = [n]\n",
    "            while q:\n",
    "                n = q.pop()\n",
    "                if n == A:\n",
    "                    return 1\n",
    "                for nei in g[n]:\n",
    "                    if nei not in visited: \n",
    "                        visited.add(n)\n",
    "                        q.append(nei)\n",
    "            return 0\n",
    "            \n",
    "        return bfs(1)"
   ]
  },
  {
   "cell_type": "code",
   "execution_count": 11,
   "metadata": {},
   "outputs": [
    {
     "data": {
      "text/plain": [
       "0"
      ]
     },
     "execution_count": 11,
     "metadata": {},
     "output_type": "execute_result"
    }
   ],
   "source": [
    "A = 5\n",
    "B = [[1, 2],\n",
    "     [4, 1],\n",
    "     [5, 2],\n",
    "     [1, 3],\n",
    "     [4, 5]]\n",
    "\n",
    "sol = Solution()\n",
    "sol.solve(A, B)"
   ]
  },
  {
   "cell_type": "code",
   "execution_count": 12,
   "metadata": {},
   "outputs": [
    {
     "data": {
      "text/plain": [
       "1"
      ]
     },
     "execution_count": 12,
     "metadata": {},
     "output_type": "execute_result"
    }
   ],
   "source": [
    "A = 5\n",
    "B = [[1, 2],\n",
    "     [2, 3],\n",
    "     [3, 4],\n",
    "     [4, 5], ]\n",
    "\n",
    "sol = Solution()\n",
    "sol.solve(A, B)"
   ]
  }
 ],
 "metadata": {
  "kernelspec": {
   "display_name": "dsa-venv",
   "language": "python",
   "name": "python3"
  },
  "language_info": {
   "codemirror_mode": {
    "name": "ipython",
    "version": 3
   },
   "file_extension": ".py",
   "mimetype": "text/x-python",
   "name": "python",
   "nbconvert_exporter": "python",
   "pygments_lexer": "ipython3",
   "version": "3.11.3"
  },
  "orig_nbformat": 4
 },
 "nbformat": 4,
 "nbformat_minor": 2
}
