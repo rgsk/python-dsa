{
 "cells": [
  {
   "cell_type": "code",
   "execution_count": 15,
   "metadata": {},
   "outputs": [],
   "source": [
    "# https://www.interviewbit.com/problems/connected-components/"
   ]
  },
  {
   "cell_type": "code",
   "execution_count": 16,
   "metadata": {},
   "outputs": [],
   "source": [
    "class DisjointSet:\n",
    "    def __init__(self, n):\n",
    "        # Initialize the disjoint set with n elements.\n",
    "        self.parent = list(range(n))\n",
    "        self.size = [1] * n\n",
    "\n",
    "    def findParent(self, node):\n",
    "        # Find the representative (root) of the set to which the node belongs.\n",
    "        if self.parent[node] == node:\n",
    "            return node\n",
    "        # Path compression: Update the parent of the node to the representative.\n",
    "        self.parent[node] = self.findParent(self.parent[node])\n",
    "        return self.parent[node]\n",
    "\n",
    "    # works\n",
    "    def unionBySize(self, node1, node2):\n",
    "        root1 = self.findParent(node1)\n",
    "        root2 = self.findParent(node2)\n",
    "        if root1 != root2:\n",
    "            if self.size[root1] >= self.size[root2]:\n",
    "                self.parent[root2] = root1\n",
    "                self.size[root1] += self.size[root2]\n",
    "            else:\n",
    "                self.parent[root1] = root2\n",
    "                self.size[root2] += self.size[root1]\n",
    "\n",
    "class Solution:\n",
    "    # @param A : integer\n",
    "    # @param B : list of list of integers\n",
    "    # @return an integer\n",
    "    def solve(self, A, B):\n",
    "        ds = DisjointSet(A + 1)\n",
    "        for n1, n2 in B:\n",
    "            if ds.findParent(n1) != ds.findParent(n2):\n",
    "                ds.unionBySize(n1, n2)\n",
    "        parents = set([ds.findParent(v) for v in range(1, A + 1)])\n",
    "        return len(parents)"
   ]
  },
  {
   "cell_type": "code",
   "execution_count": 17,
   "metadata": {},
   "outputs": [],
   "source": [
    "import sys\n",
    "sys.setrecursionlimit(10**6)\n",
    "\n",
    "class Solution:\n",
    "    # @param A : integer\n",
    "    # @param B : list of list of integers\n",
    "    # @return an integer\n",
    "    def solve(self, A, B):\n",
    "        edges = [[] for _ in range(A + 1)]\n",
    "        for s, d in B:\n",
    "            edges[s].append(d)\n",
    "            edges[d].append(s)\n",
    "        visited = [False for _ in range(A + 1)]\n",
    "        def dfs(node):\n",
    "            visited[node] = True\n",
    "            for child in edges[node]:\n",
    "                if not visited[child]:\n",
    "                    dfs(child)\n",
    "        count = 0\n",
    "        for node in range(1, A + 1):\n",
    "            if not visited[node]:\n",
    "                dfs(node)\n",
    "                count += 1\n",
    "        return count"
   ]
  },
  {
   "cell_type": "code",
   "execution_count": 18,
   "metadata": {},
   "outputs": [],
   "source": [
    "from collections import deque\n",
    "\n",
    "\n",
    "class Solution:\n",
    "    # @param A : integer\n",
    "    # @param B : list of list of integers\n",
    "    # @return an integer\n",
    "    def solve(self, A, B):\n",
    "        edges = [[] for _ in range(A + 1)]\n",
    "        for s, d in B:\n",
    "            edges[s].append(d)\n",
    "            edges[d].append(s)\n",
    "        visited = [False for _ in range(A + 1)]\n",
    "        def bfs(node):\n",
    "            q = deque([node])\n",
    "            visited[node] = True\n",
    "            while q:\n",
    "                cur_node = q.popleft()\n",
    "                for child in edges[cur_node]:\n",
    "                    if not visited[child]:\n",
    "                        q.append(child)\n",
    "                        visited[child] = True\n",
    "                        \n",
    "        count = 0\n",
    "        for node in range(1, A + 1):\n",
    "            if not visited[node]:\n",
    "                bfs(node)\n",
    "                count += 1\n",
    "        return count"
   ]
  },
  {
   "cell_type": "code",
   "execution_count": 19,
   "metadata": {},
   "outputs": [
    {
     "data": {
      "text/plain": [
       "2"
      ]
     },
     "execution_count": 19,
     "metadata": {},
     "output_type": "execute_result"
    }
   ],
   "source": [
    "A = 4\n",
    "B = [\n",
    "    [1, 2],\n",
    "    [2, 3]\n",
    "]\n",
    "sol = Solution()\n",
    "sol.solve(A, B)"
   ]
  },
  {
   "cell_type": "code",
   "execution_count": 20,
   "metadata": {},
   "outputs": [
    {
     "data": {
      "text/plain": [
       "2"
      ]
     },
     "execution_count": 20,
     "metadata": {},
     "output_type": "execute_result"
    }
   ],
   "source": [
    "A = 3\n",
    "B = [\n",
    "    [1, 2],\n",
    "    [2, 1]\n",
    "]\n",
    "sol = Solution()\n",
    "sol.solve(A, B)"
   ]
  }
 ],
 "metadata": {
  "kernelspec": {
   "display_name": "dsa-venv",
   "language": "python",
   "name": "python3"
  },
  "language_info": {
   "codemirror_mode": {
    "name": "ipython",
    "version": 3
   },
   "file_extension": ".py",
   "mimetype": "text/x-python",
   "name": "python",
   "nbconvert_exporter": "python",
   "pygments_lexer": "ipython3",
   "version": "3.11.3"
  }
 },
 "nbformat": 4,
 "nbformat_minor": 2
}
