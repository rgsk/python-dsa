{
 "cells": [
  {
   "cell_type": "code",
   "execution_count": 31,
   "metadata": {},
   "outputs": [],
   "source": [
    "# https://www.interviewbit.com/problems/word-ladder-ii/"
   ]
  },
  {
   "cell_type": "code",
   "execution_count": 32,
   "metadata": {},
   "outputs": [],
   "source": [
    "from collections import deque\n",
    "class Solution:\n",
    "    # @param start : string\n",
    "    # @param end : string\n",
    "    # @param dictV : list of strings\n",
    "    # @return a list of list of strings\n",
    "    def findLadders(self, start, end, dictV):\n",
    "        dictV = set(dictV)\n",
    "        dictV.add(end)\n",
    "        queue = deque([(start, 1, [start])])\n",
    "        visited = set()\n",
    "        min_length = float('inf')\n",
    "        ladders = []\n",
    "        while queue:\n",
    "            word, length, ladder = queue.popleft()\n",
    "            visited.add(word)\n",
    "            if word == end:\n",
    "                if length == min_length:\n",
    "                    ladders.append(ladder)\n",
    "                elif length < min_length:\n",
    "                    min_length = length\n",
    "                    ladders = [ladder]\n",
    "            for i in range(len(word)):\n",
    "                for c in \"abcdefghijklmnopqrstuvwxyz\":\n",
    "                    new_word = word[:i] + c + word[i+1:]\n",
    "                    if new_word in dictV and new_word not in visited:\n",
    "                        queue.append((new_word, length+1, ladder+[new_word]))\n",
    "        return ladders  # No sequence"
   ]
  },
  {
   "cell_type": "code",
   "execution_count": 33,
   "metadata": {},
   "outputs": [
    {
     "data": {
      "text/plain": [
       "[['hit', 'hot', 'dot', 'dog', 'cog'], ['hit', 'hot', 'lot', 'log', 'cog']]"
      ]
     },
     "execution_count": 33,
     "metadata": {},
     "output_type": "execute_result"
    }
   ],
   "source": [
    "start = \"hit\"\n",
    "end = \"cog\"\n",
    "dictV = [\"hot\",\"dot\",\"dog\",\"lot\",\"log\"]\n",
    "sol = Solution()\n",
    "sol.findLadders(start, end, dictV)"
   ]
  },
  {
   "cell_type": "code",
   "execution_count": 34,
   "metadata": {},
   "outputs": [
    {
     "data": {
      "text/plain": [
       "[['bb']]"
      ]
     },
     "execution_count": 34,
     "metadata": {},
     "output_type": "execute_result"
    }
   ],
   "source": [
    "start = \"bb\"\n",
    "end = \"bb\"\n",
    "dictV = []\n",
    "sol = Solution()\n",
    "sol.findLadders(start, end, dictV)"
   ]
  }
 ],
 "metadata": {
  "kernelspec": {
   "display_name": "dsa-venv",
   "language": "python",
   "name": "python3"
  },
  "language_info": {
   "codemirror_mode": {
    "name": "ipython",
    "version": 3
   },
   "file_extension": ".py",
   "mimetype": "text/x-python",
   "name": "python",
   "nbconvert_exporter": "python",
   "pygments_lexer": "ipython3",
   "version": "3.11.3"
  }
 },
 "nbformat": 4,
 "nbformat_minor": 2
}
