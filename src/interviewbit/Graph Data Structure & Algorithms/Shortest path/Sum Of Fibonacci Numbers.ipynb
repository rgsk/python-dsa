{
 "cells": [
  {
   "cell_type": "code",
   "execution_count": 13,
   "metadata": {},
   "outputs": [],
   "source": [
    "# https://www.interviewbit.com/problems/sum-of-fibonacci-numbers/"
   ]
  },
  {
   "cell_type": "code",
   "execution_count": 14,
   "metadata": {},
   "outputs": [],
   "source": [
    "def generate_fib_till(n):\n",
    "    ans = []\n",
    "    ans.append(0)\n",
    "    ans.append(1)\n",
    "    while ans[-1] < n:\n",
    "        ans.append(ans[-1] + ans[-2])\n",
    "    return ans\n",
    "\n",
    "# greedy solution take the biggest fibonacci number possible\n",
    "class Solution:\n",
    "    # @param A : integer\n",
    "    # @return an integer\n",
    "    def fibsum(self, A):\n",
    "        fib_series = generate_fib_till(A)\n",
    "        i = len(fib_series) - 1\n",
    "        rem = A\n",
    "        c = 0\n",
    "        while rem > 0:\n",
    "            if fib_series[i] <= rem:\n",
    "                rem -= fib_series[i]\n",
    "                c += 1\n",
    "            else:\n",
    "                i -= 1\n",
    "        return c"
   ]
  },
  {
   "cell_type": "code",
   "execution_count": 15,
   "metadata": {},
   "outputs": [
    {
     "data": {
      "text/plain": [
       "2"
      ]
     },
     "execution_count": 15,
     "metadata": {},
     "output_type": "execute_result"
    }
   ],
   "source": [
    "A = 4\n",
    "sol = Solution()\n",
    "sol.fibsum(A)"
   ]
  },
  {
   "cell_type": "code",
   "execution_count": 16,
   "metadata": {},
   "outputs": [
    {
     "data": {
      "text/plain": [
       "2"
      ]
     },
     "execution_count": 16,
     "metadata": {},
     "output_type": "execute_result"
    }
   ],
   "source": [
    "A = 7\n",
    "sol = Solution()\n",
    "sol.fibsum(A)"
   ]
  }
 ],
 "metadata": {
  "kernelspec": {
   "display_name": "dsa-venv",
   "language": "python",
   "name": "python3"
  },
  "language_info": {
   "codemirror_mode": {
    "name": "ipython",
    "version": 3
   },
   "file_extension": ".py",
   "mimetype": "text/x-python",
   "name": "python",
   "nbconvert_exporter": "python",
   "pygments_lexer": "ipython3",
   "version": "3.11.3"
  }
 },
 "nbformat": 4,
 "nbformat_minor": 2
}
