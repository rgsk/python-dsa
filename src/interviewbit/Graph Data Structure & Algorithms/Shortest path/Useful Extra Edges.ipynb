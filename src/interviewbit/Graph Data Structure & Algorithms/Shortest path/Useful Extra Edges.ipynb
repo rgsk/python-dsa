{
 "cells": [
  {
   "cell_type": "code",
   "execution_count": 19,
   "metadata": {},
   "outputs": [],
   "source": [
    "# https://www.interviewbit.com/problems/useful-extra-edges/"
   ]
  },
  {
   "cell_type": "code",
   "execution_count": 20,
   "metadata": {},
   "outputs": [],
   "source": [
    "import heapq\n",
    "import math\n",
    "\n",
    "\n",
    "class Solution:\n",
    "    # @param A : integer\n",
    "    # @param B : list of list of integers\n",
    "    # @param C : integer\n",
    "    # @param D : integer\n",
    "    # @param E : list of list of integers\n",
    "    # @return an integer\n",
    "    def solve(self, A, B, C, D, E):\n",
    "        src = C\n",
    "        vertices = A + 1\n",
    "        adj = [[] for _ in range(vertices)]\n",
    "        for edge in B:\n",
    "            adj[edge[0]].append((edge[1], edge[2]))\n",
    "            adj[edge[1]].append((edge[0], edge[2]))\n",
    "        distances = [math.inf] * vertices\n",
    "        distances[src] = 0\n",
    "\n",
    "        def dijkstra(source):\n",
    "            heap = [(distances[source], source)]\n",
    "            heapq.heapify(heap)\n",
    "            while heap:\n",
    "                dist, node = heapq.heappop(heap)\n",
    "                for child, curDist in adj[node]:\n",
    "                    if dist + curDist < distances[child]:\n",
    "                        distances[child] = dist + curDist\n",
    "                        heapq.heappush(heap, (dist + curDist, child))\n",
    "        dijkstra(src)\n",
    "        ans = distances[D]\n",
    "        original_distances = distances[:]\n",
    "        for n1, n2, weight in E:\n",
    "            distances = original_distances[:]\n",
    "            if distances[n1] + weight < distances[n2]:\n",
    "                distances[n2] = distances[n1] + weight\n",
    "                dijkstra(n2)\n",
    "                ans = min(ans, distances[D])\n",
    "\n",
    "            distances = original_distances[:]\n",
    "            if distances[n2] + weight < distances[n1]:\n",
    "                distances[n1] = distances[n2] + weight\n",
    "                dijkstra(n1)\n",
    "                ans = min(ans, distances[D])\n",
    "        if ans == math.inf:\n",
    "            return -1 \n",
    "        return ans\n"
   ]
  },
  {
   "cell_type": "code",
   "execution_count": 21,
   "metadata": {},
   "outputs": [
    {
     "data": {
      "text/plain": [
       "2"
      ]
     },
     "execution_count": 21,
     "metadata": {},
     "output_type": "execute_result"
    }
   ],
   "source": [
    "A = 3\n",
    "B = [\n",
    "    [1, 2, 1],\n",
    "    [2, 3, 2]\n",
    "]\n",
    "C = 1\n",
    "D = 3\n",
    "E = [\n",
    "    [1, 3, 2],\n",
    "]\n",
    "sol = Solution()\n",
    "sol.solve(A, B, C, D, E)\n"
   ]
  },
  {
   "cell_type": "code",
   "execution_count": 22,
   "metadata": {},
   "outputs": [
    {
     "data": {
      "text/plain": [
       "7"
      ]
     },
     "execution_count": 22,
     "metadata": {},
     "output_type": "execute_result"
    }
   ],
   "source": [
    "A = 5\n",
    "B = [\n",
    "  [1, 2, 2],\n",
    "  [1, 3, 2],\n",
    "  [2, 4, 1],\n",
    "  [2, 5, 4],\n",
    "]\n",
    "C = 3\n",
    "D = 5\n",
    "E = [\n",
    "  [2, 3, 3]\n",
    "]\n",
    "sol = Solution()\n",
    "sol.solve(A, B, C, D, E)"
   ]
  },
  {
   "cell_type": "code",
   "execution_count": 23,
   "metadata": {},
   "outputs": [
    {
     "data": {
      "text/plain": [
       "-1"
      ]
     },
     "execution_count": 23,
     "metadata": {},
     "output_type": "execute_result"
    }
   ],
   "source": [
    "A = 4\n",
    "B = [\n",
    "    [1, 2, 1],\n",
    "    [2, 3, 2],\n",
    "    [3, 1, 4]\n",
    "]\n",
    "C = 1\n",
    "D = 4\n",
    "E = [\n",
    "    [1, 3, 2],\n",
    "]\n",
    "sol = Solution()\n",
    "sol.solve(A, B, C, D, E)"
   ]
  }
 ],
 "metadata": {
  "kernelspec": {
   "display_name": "dsa-venv",
   "language": "python",
   "name": "python3"
  },
  "language_info": {
   "codemirror_mode": {
    "name": "ipython",
    "version": 3
   },
   "file_extension": ".py",
   "mimetype": "text/x-python",
   "name": "python",
   "nbconvert_exporter": "python",
   "pygments_lexer": "ipython3",
   "version": "3.11.3"
  }
 },
 "nbformat": 4,
 "nbformat_minor": 2
}
