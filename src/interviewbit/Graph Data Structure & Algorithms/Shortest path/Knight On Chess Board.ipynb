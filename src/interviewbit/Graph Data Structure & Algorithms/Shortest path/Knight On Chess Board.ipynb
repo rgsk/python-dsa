{
 "cells": [
  {
   "cell_type": "code",
   "execution_count": 16,
   "metadata": {},
   "outputs": [],
   "source": [
    "# https://www.interviewbit.com/problems/knight-on-chess-board/"
   ]
  },
  {
   "cell_type": "code",
   "execution_count": 17,
   "metadata": {},
   "outputs": [],
   "source": [
    "from collections import deque\n",
    "\n",
    "moves = [(2, -1), (2, 1), (-1, 2), (1, 2)]\n",
    "\n",
    "class Solution:\n",
    "    # @param A : integer\n",
    "    # @param B : integer\n",
    "    # @param C : integer\n",
    "    # @param D : integer\n",
    "    # @param E : integer\n",
    "    # @param F : integer\n",
    "    # @return an integer\n",
    "    def knight(self, A, B, C, D, E, F):\n",
    "        q = deque()\n",
    "        q.append((C, D))\n",
    "        visited = [[False for _ in range(B + 1)] for _ in range(A + 1)]\n",
    "        visited[C][D] = True\n",
    "        def check(r, c):\n",
    "            if r >= 1 and c >= 1 and r <= A and c <= B and not visited[r][c]:\n",
    "                return True\n",
    "            return False\n",
    "        steps = 0\n",
    "        while q:\n",
    "            for _ in range(len(q)):\n",
    "                r, c = q.popleft()\n",
    "                if r == E and c == F:\n",
    "                    return steps\n",
    "                for sign in [-1, 1]:\n",
    "                    for move in moves:\n",
    "                        nr = move[0] * sign + r\n",
    "                        nc = move[1] * sign + c\n",
    "                        if check(nr, nc):\n",
    "                            q.append((nr, nc))\n",
    "                            visited[nr][nc] = True\n",
    "            steps += 1\n",
    "        return -1"
   ]
  },
  {
   "cell_type": "code",
   "execution_count": 18,
   "metadata": {},
   "outputs": [
    {
     "data": {
      "text/plain": [
       "6"
      ]
     },
     "execution_count": 18,
     "metadata": {},
     "output_type": "execute_result"
    }
   ],
   "source": [
    "A = 8\n",
    "B = 8\n",
    "C = 1\n",
    "D = 1\n",
    "E = 8\n",
    "F = 8\n",
    "\n",
    "sol = Solution()\n",
    "sol.knight(A, B, C, D, E, F)"
   ]
  }
 ],
 "metadata": {
  "kernelspec": {
   "display_name": "dsa-venv",
   "language": "python",
   "name": "python3"
  },
  "language_info": {
   "codemirror_mode": {
    "name": "ipython",
    "version": 3
   },
   "file_extension": ".py",
   "mimetype": "text/x-python",
   "name": "python",
   "nbconvert_exporter": "python",
   "pygments_lexer": "ipython3",
   "version": "3.11.3"
  }
 },
 "nbformat": 4,
 "nbformat_minor": 2
}
