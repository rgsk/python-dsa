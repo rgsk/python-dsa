{
 "cells": [
  {
   "cell_type": "code",
   "execution_count": 55,
   "metadata": {},
   "outputs": [],
   "source": [
    "# https://www.interviewbit.com/problems/word-ladder-i/"
   ]
  },
  {
   "cell_type": "code",
   "execution_count": 56,
   "metadata": {},
   "outputs": [],
   "source": [
    "from collections import deque\n",
    "\n",
    "def is_connected(a: str, b: str) -> bool:\n",
    "    if len(a) != len(b):\n",
    "        return False\n",
    "    k = 0\n",
    "    for i in range(len(a)):\n",
    "        if a[i] != b[i]:\n",
    "            k += 1\n",
    "        if k > 1:\n",
    "            break\n",
    "    return k == 1\n",
    "\n",
    "\n",
    "# nice approach\n",
    "# but TLE\n",
    "\n",
    "class Solution:\n",
    "    # @param A : string\n",
    "    # @param B : string\n",
    "    # @param C : list of strings\n",
    "    # @return an integer\n",
    "    def solve(self, A, B, C):\n",
    "        q = deque()\n",
    "        q.append(A)\n",
    "        visited = set()\n",
    "        visited.add(A)\n",
    "        steps = 1\n",
    "        C.append(B)\n",
    "        while q:\n",
    "            for _ in range(len(q)):\n",
    "                word = q.popleft()\n",
    "                if word == B:\n",
    "                    return steps\n",
    "                for next_word in C:\n",
    "                    if next_word not in visited and is_connected(word, next_word):\n",
    "                        visited.add(next_word)\n",
    "                        q.append(next_word)\n",
    "                            \n",
    "            steps += 1\n",
    "        return 0"
   ]
  },
  {
   "cell_type": "code",
   "execution_count": 57,
   "metadata": {},
   "outputs": [],
   "source": [
    "from collections import deque\n",
    "\n",
    "\n",
    "class Solution:\n",
    "    # @param A : string\n",
    "    # @param B : string\n",
    "    # @param C : list of strings\n",
    "    # @return an integer\n",
    "    def solve(self, A, B, C):\n",
    "        q = deque()\n",
    "        q.append(A)\n",
    "        visited = set()\n",
    "        visited.add(A)\n",
    "        alph = \"abcdefghijklmnopqrstuvwxyz\"\n",
    "        wl = len(A)\n",
    "        dic = set(C)\n",
    "        dic.add(B)\n",
    "        steps = 1\n",
    "        while q:\n",
    "            for _ in range(len(q)):\n",
    "                word = q.popleft()\n",
    "                if word == B:\n",
    "                    return steps\n",
    "                for i in range(wl):\n",
    "                    prefix = word[:i]\n",
    "                    suffix = word[i+1:]\n",
    "                    for c in alph:\n",
    "                        new_word = prefix + c + suffix\n",
    "                        if new_word in dic:\n",
    "                            if new_word not in visited:\n",
    "                                visited.add(new_word)\n",
    "                                q.append(new_word)\n",
    "            steps += 1\n",
    "        return 0"
   ]
  },
  {
   "cell_type": "code",
   "execution_count": 58,
   "metadata": {},
   "outputs": [
    {
     "data": {
      "text/plain": [
       "5"
      ]
     },
     "execution_count": 58,
     "metadata": {},
     "output_type": "execute_result"
    }
   ],
   "source": [
    "A = \"hit\"\n",
    "B = \"cog\"\n",
    "C = [\"hot\", \"dot\", \"dog\", \"lot\", \"log\"]\n",
    "sol = Solution()\n",
    "sol.solve(A, B, C)"
   ]
  },
  {
   "cell_type": "code",
   "execution_count": 59,
   "metadata": {},
   "outputs": [
    {
     "data": {
      "text/plain": [
       "2"
      ]
     },
     "execution_count": 59,
     "metadata": {},
     "output_type": "execute_result"
    }
   ],
   "source": [
    "A = \"cat\"\n",
    "B = \"bat\"\n",
    "C = [\"rat\"]\n",
    "sol = Solution()\n",
    "sol.solve(A, B, C)"
   ]
  },
  {
   "cell_type": "code",
   "execution_count": 60,
   "metadata": {},
   "outputs": [
    {
     "data": {
      "text/plain": [
       "0"
      ]
     },
     "execution_count": 60,
     "metadata": {},
     "output_type": "execute_result"
    }
   ],
   "source": [
    "A = \"bait\"\n",
    "B = \"pant\"\n",
    "C = [\"a\",\"b\"]\n",
    "sol = Solution()\n",
    "sol.solve(A, B, C)"
   ]
  }
 ],
 "metadata": {
  "kernelspec": {
   "display_name": "dsa-venv",
   "language": "python",
   "name": "python3"
  },
  "language_info": {
   "codemirror_mode": {
    "name": "ipython",
    "version": 3
   },
   "file_extension": ".py",
   "mimetype": "text/x-python",
   "name": "python",
   "nbconvert_exporter": "python",
   "pygments_lexer": "ipython3",
   "version": "3.11.3"
  }
 },
 "nbformat": 4,
 "nbformat_minor": 2
}
