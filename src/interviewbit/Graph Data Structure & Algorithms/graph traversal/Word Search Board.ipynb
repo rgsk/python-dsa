{
 "cells": [
  {
   "cell_type": "code",
   "execution_count": 10,
   "metadata": {},
   "outputs": [],
   "source": [
    "# https://www.interviewbit.com/problems/word-search-board/"
   ]
  },
  {
   "cell_type": "code",
   "execution_count": 11,
   "metadata": {},
   "outputs": [],
   "source": [
    "class Solution:\n",
    "    # @param A : list of strings\n",
    "    # @param B : string\n",
    "    # @return an integer\n",
    "    def exist(self, board, word):\n",
    "        rows = len(board)\n",
    "        cols = len(board[0])\n",
    "\n",
    "        def dfs(r, c, idx):\n",
    "            if idx == len(word):\n",
    "                return True\n",
    "            if r < 0 or c < 0 or r >= rows or c >= cols or board[r][c] != word[idx]:\n",
    "                return False\n",
    "            return dfs(r + 1, c, idx + 1) or \\\n",
    "                dfs(r - 1, c, idx + 1) or \\\n",
    "                dfs(r, c + 1, idx + 1) or \\\n",
    "                dfs(r, c - 1, idx + 1)\n",
    "\n",
    "        for i in range(rows):\n",
    "            for j in range(cols):\n",
    "                if dfs(i, j, 0):\n",
    "                    return 1\n",
    "        return 0"
   ]
  },
  {
   "cell_type": "code",
   "execution_count": 12,
   "metadata": {},
   "outputs": [
    {
     "data": {
      "text/plain": [
       "1"
      ]
     },
     "execution_count": 12,
     "metadata": {},
     "output_type": "execute_result"
    }
   ],
   "source": [
    "board = [\n",
    "    \"ABCE\",\n",
    "    \"SFCS\",\n",
    "    \"ADEE\"\n",
    "]\n",
    "B = \"SEE\"\n",
    "sol = Solution()\n",
    "sol.exist(board, B)"
   ]
  },
  {
   "cell_type": "code",
   "execution_count": 13,
   "metadata": {},
   "outputs": [
    {
     "data": {
      "text/plain": [
       "0"
      ]
     },
     "execution_count": 13,
     "metadata": {},
     "output_type": "execute_result"
    }
   ],
   "source": [
    "board = [\n",
    "    \"ABCE\",\n",
    "    \"SFCS\",\n",
    "    \"ADEE\"\n",
    "]\n",
    "B = \"ABCD\"\n",
    "sol = Solution()\n",
    "sol.exist(board, B)"
   ]
  }
 ],
 "metadata": {
  "kernelspec": {
   "display_name": "dsa-venv",
   "language": "python",
   "name": "python3"
  },
  "language_info": {
   "codemirror_mode": {
    "name": "ipython",
    "version": 3
   },
   "file_extension": ".py",
   "mimetype": "text/x-python",
   "name": "python",
   "nbconvert_exporter": "python",
   "pygments_lexer": "ipython3",
   "version": "3.11.3"
  }
 },
 "nbformat": 4,
 "nbformat_minor": 2
}
