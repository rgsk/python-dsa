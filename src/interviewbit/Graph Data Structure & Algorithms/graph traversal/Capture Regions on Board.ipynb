{
 "cells": [
  {
   "cell_type": "code",
   "execution_count": 7,
   "metadata": {},
   "outputs": [],
   "source": [
    "# https://www.interviewbit.com/problems/capture-regions-on-board/"
   ]
  },
  {
   "cell_type": "code",
   "execution_count": 8,
   "metadata": {},
   "outputs": [],
   "source": [
    "class Solution:\n",
    "    # @param A : list of list of chars\n",
    "    def solve(self, A):\n",
    "        rows = len(A)\n",
    "        cols = len(A[0])\n",
    "\n",
    "        def dfs(i, j):\n",
    "            if i < 0 or j < 0 or i >= rows or j >= cols or A[i][j] != 'O':\n",
    "                return\n",
    "            A[i][j] = 'B'\n",
    "            dfs(i - 1, j)\n",
    "            dfs(i + 1, j)\n",
    "            dfs(i, j + 1)\n",
    "            dfs(i, j - 1)\n",
    "\n",
    "        for i in range(rows):\n",
    "            for j in range(cols):\n",
    "                if i == 0 or j == 0 or i == rows - 1 or j == cols - 1:\n",
    "                    dfs(i, j)\n",
    "        for i in range(rows):\n",
    "            for j in range(cols):\n",
    "                if A[i][j] == 'B':\n",
    "                    A[i][j] = 'O'\n",
    "                else: \n",
    "                    A[i][j] = 'X'"
   ]
  },
  {
   "cell_type": "code",
   "execution_count": 9,
   "metadata": {},
   "outputs": [
    {
     "name": "stdout",
     "output_type": "stream",
     "text": [
      "[['X', 'X', 'X', 'X'],\n",
      " ['X', 'X', 'X', 'X'],\n",
      " ['X', 'X', 'X', 'X'],\n",
      " ['X', 'O', 'X', 'X']]\n"
     ]
    }
   ],
   "source": [
    "from pprint import pprint\n",
    "\n",
    "\n",
    "A = [\n",
    "    [\"X\", \"X\", \"X\", \"X\"],\n",
    "    [\"X\", \"O\", \"O\", \"X\"],\n",
    "    [\"X\", \"X\", \"O\", \"X\"],\n",
    "    [\"X\", \"O\", \"X\", \"X\"]\n",
    "]\n",
    "sol = Solution()\n",
    "sol.solve(A)\n",
    "pprint(A)"
   ]
  }
 ],
 "metadata": {
  "kernelspec": {
   "display_name": "dsa-venv",
   "language": "python",
   "name": "python3"
  },
  "language_info": {
   "codemirror_mode": {
    "name": "ipython",
    "version": 3
   },
   "file_extension": ".py",
   "mimetype": "text/x-python",
   "name": "python",
   "nbconvert_exporter": "python",
   "pygments_lexer": "ipython3",
   "version": "3.11.3"
  }
 },
 "nbformat": 4,
 "nbformat_minor": 2
}
