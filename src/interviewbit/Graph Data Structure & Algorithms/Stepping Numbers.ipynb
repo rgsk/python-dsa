{
 "cells": [
  {
   "cell_type": "code",
   "execution_count": 31,
   "metadata": {},
   "outputs": [],
   "source": [
    "class Solution():\n",
    "    def stepnum(self, A, B):\n",
    "        ans = []\n",
    "        if A == 0:\n",
    "            ans.append(0)\n",
    "        for start_digit in range(1, 10):\n",
    "            q = [start_digit]\n",
    "            while len(q):\n",
    "                s = q.pop(0)\n",
    "                if A <= s:\n",
    "                    ans.append(s)\n",
    "                last_digit = s % 10\n",
    "                if last_digit != 0:\n",
    "                    c = s * 10 + last_digit - 1\n",
    "                    if c <= B:\n",
    "                        q.append(c)\n",
    "                if last_digit != 9:\n",
    "                    c = s * 10 + last_digit + 1\n",
    "                    if c <= B:\n",
    "                        q.append(c)\n",
    "        return ans"
   ]
  },
  {
   "cell_type": "code",
   "execution_count": 32,
   "metadata": {},
   "outputs": [],
   "source": [
    "class Solution1():\n",
    "    def dfs(self, v, A, B):\n",
    "        if v > B:\n",
    "            return\n",
    "        if v >= A:\n",
    "            self.ans.append(v)\n",
    "        last_digit = v % 10\n",
    "        if last_digit != 0:\n",
    "            self.dfs(v * 10 + last_digit - 1, A, B)\n",
    "\n",
    "        if last_digit != 9:\n",
    "            self.dfs(v * 10 + last_digit + 1, A, B)\n",
    "\n",
    "    def stepnum(self, A, B):\n",
    "        self.ans = []\n",
    "        if A == 0:\n",
    "            self.ans.append(0)\n",
    "        for start_digit in range(1, 10): \n",
    "            self.dfs(start_digit, A, B)\n",
    "        return self.ans"
   ]
  },
  {
   "cell_type": "code",
   "execution_count": 33,
   "metadata": {},
   "outputs": [
    {
     "data": {
      "text/plain": [
       "[10, 12]"
      ]
     },
     "execution_count": 33,
     "metadata": {},
     "output_type": "execute_result"
    }
   ],
   "source": [
    "A = 10\n",
    "B = 20\n",
    "sol = Solution()\n",
    "sol.stepnum(A, B)"
   ]
  },
  {
   "cell_type": "code",
   "execution_count": 34,
   "metadata": {},
   "outputs": [
    {
     "data": {
      "text/plain": [
       "[10, 12, 21, 23, 32, 34, 43, 45, 54, 56, 65, 67, 76, 78, 87, 89, 98]"
      ]
     },
     "execution_count": 34,
     "metadata": {},
     "output_type": "execute_result"
    }
   ],
   "source": [
    "A = 10\n",
    "B = 100\n",
    "sol = Solution()\n",
    "sol.stepnum(A, B)"
   ]
  },
  {
   "cell_type": "code",
   "execution_count": 35,
   "metadata": {},
   "outputs": [
    {
     "data": {
      "text/plain": [
       "[0,\n",
       " 1,\n",
       " 10,\n",
       " 12,\n",
       " 2,\n",
       " 21,\n",
       " 23,\n",
       " 3,\n",
       " 32,\n",
       " 34,\n",
       " 4,\n",
       " 43,\n",
       " 45,\n",
       " 5,\n",
       " 54,\n",
       " 56,\n",
       " 6,\n",
       " 65,\n",
       " 67,\n",
       " 7,\n",
       " 76,\n",
       " 78,\n",
       " 8,\n",
       " 9]"
      ]
     },
     "execution_count": 35,
     "metadata": {},
     "output_type": "execute_result"
    }
   ],
   "source": [
    "A = 0\n",
    "B = 86\n",
    "sol = Solution()\n",
    "sol.stepnum(A, B)"
   ]
  },
  {
   "cell_type": "code",
   "execution_count": 36,
   "metadata": {},
   "outputs": [
    {
     "data": {
      "text/plain": [
       "[1010,\n",
       " 1012,\n",
       " 1210,\n",
       " 1212,\n",
       " 1232,\n",
       " 1234,\n",
       " 10101,\n",
       " 10121,\n",
       " 10123,\n",
       " 12101,\n",
       " 12121,\n",
       " 12123,\n",
       " 12321,\n",
       " 12323,\n",
       " 12343,\n",
       " 12345,\n",
       " 2101,\n",
       " 2121,\n",
       " 2123,\n",
       " 2321,\n",
       " 2323,\n",
       " 2343,\n",
       " 2345,\n",
       " 3210,\n",
       " 3212,\n",
       " 3232,\n",
       " 3234,\n",
       " 3432,\n",
       " 3434,\n",
       " 3454,\n",
       " 3456,\n",
       " 4321,\n",
       " 4323,\n",
       " 4343,\n",
       " 4345,\n",
       " 4543,\n",
       " 4545,\n",
       " 4565,\n",
       " 4567,\n",
       " 5432,\n",
       " 5434,\n",
       " 5454,\n",
       " 5456,\n",
       " 5654,\n",
       " 5656,\n",
       " 5676,\n",
       " 5678,\n",
       " 6543,\n",
       " 6545,\n",
       " 6565,\n",
       " 6567,\n",
       " 6765,\n",
       " 6767,\n",
       " 6787,\n",
       " 6789,\n",
       " 7654,\n",
       " 7656,\n",
       " 7676,\n",
       " 7678,\n",
       " 7876,\n",
       " 7878,\n",
       " 7898,\n",
       " 8765,\n",
       " 8767,\n",
       " 8787,\n",
       " 8789,\n",
       " 8987,\n",
       " 8989,\n",
       " 987,\n",
       " 989,\n",
       " 9876,\n",
       " 9878,\n",
       " 9898]"
      ]
     },
     "execution_count": 36,
     "metadata": {},
     "output_type": "execute_result"
    }
   ],
   "source": [
    "A = 900\n",
    "B = 20000\n",
    "sol = Solution()\n",
    "sol.stepnum(A, B)"
   ]
  },
  {
   "cell_type": "code",
   "execution_count": null,
   "metadata": {},
   "outputs": [],
   "source": []
  },
  {
   "cell_type": "code",
   "execution_count": null,
   "metadata": {},
   "outputs": [],
   "source": []
  }
 ],
 "metadata": {
  "kernelspec": {
   "display_name": "dsa-venv",
   "language": "python",
   "name": "python3"
  },
  "language_info": {
   "codemirror_mode": {
    "name": "ipython",
    "version": 3
   },
   "file_extension": ".py",
   "mimetype": "text/x-python",
   "name": "python",
   "nbconvert_exporter": "python",
   "pygments_lexer": "ipython3",
   "version": "3.11.3"
  },
  "orig_nbformat": 4
 },
 "nbformat": 4,
 "nbformat_minor": 2
}
