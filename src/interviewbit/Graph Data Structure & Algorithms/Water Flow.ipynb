{
 "cells": [
  {
   "cell_type": "code",
   "execution_count": 69,
   "metadata": {},
   "outputs": [],
   "source": [
    "from collections import deque\n",
    "def check(x, y, n, m):\n",
    "    if(x >= 0 and x < n and y >= 0 and y < m):\n",
    "        return True\n",
    "    \n",
    "    return False\n",
    "\n",
    "class Solution:\n",
    "    # @param A : list of list of integers\n",
    "    # @return an integer\n",
    "    def solve(self, A):\n",
    "        n = len(A)\n",
    "        m = len(A[0])\n",
    "        ans = 0\n",
    "        blue = [[0 for j in range(m)] for i in range(n)]\n",
    "        red = [[0 for j in range(m)] for i in range(n)]\n",
    "        q = deque()\n",
    "        \n",
    "        # All the co-ordinates which touches blue lake on left edge\n",
    "        for i in range(1, n):\n",
    "            q.append([i, 0])\n",
    "            blue[i][0] += 1\n",
    "        \n",
    "        # All the co-ordinates which touches blue lake on top edge\n",
    "        for i in range(m):\n",
    "            q.append([0,i])\n",
    "            blue[0][i] += 1\n",
    "        \n",
    "        dx = [0, 0, 1, -1]\n",
    "        dy = [1, -1, 0, 0]\n",
    "    \n",
    "        while(len(q) != 0):\n",
    "            idx = q.popleft()\n",
    "            for i in range(4):\n",
    "                x = idx[0] + dx[i]\n",
    "                y = idx[1] + dy[i]\n",
    "                if(check(x, y, n, m) and blue[x][y] == 0 and A[x][y] >= A[idx[0]][idx[1]]):\n",
    "                      q.append([x, y])\n",
    "                      blue[x][y] += 1\n",
    "                \n",
    "            \n",
    "        \n",
    "        # All the co-ordinates which touches red lake on right edge\n",
    "        for i in range(n):\n",
    "            q.append([i,m-1])\n",
    "            red[i][m-1] += 1\n",
    "        \n",
    "        # All the co-ordinates which touches red lake on bottom edge\n",
    "        for i in range(m-2, -1, -1):\n",
    "            q.append([n-1,i])\n",
    "            red[n-1][i] += 1\n",
    "        \n",
    "    \n",
    "        while(len(q) != 0):\n",
    "            idx = q.popleft()\n",
    "            if(red[idx[0]][idx[1]] == 1 and blue[idx[0]][idx[1]] == 1):\n",
    "                ans += 1\n",
    "            \n",
    "            for i in range(4):\n",
    "                x = idx[0] + dx[i]\n",
    "                y = idx[1] + dy[i]\n",
    "                if(check(x, y, n, m) and red[x][y] == 0 and A[x][y] >= A[idx[0]][idx[1]]):\n",
    "                      q.append([x, y])\n",
    "                      red[x][y] += 1\n",
    "                      \n",
    "        return ans\n"
   ]
  },
  {
   "cell_type": "code",
   "execution_count": 70,
   "metadata": {},
   "outputs": [
    {
     "data": {
      "text/plain": [
       "7"
      ]
     },
     "execution_count": 70,
     "metadata": {},
     "output_type": "execute_result"
    }
   ],
   "source": [
    "A = [\n",
    "       [1, 2, 2, 3, 5],\n",
    "       [3, 2, 3, 4, 4],\n",
    "       [2, 4, 5, 3, 1],\n",
    "       [6, 7, 1, 4, 5],\n",
    "       [5, 1, 1, 2, 4],\n",
    "     ]\n",
    "\n",
    "sol = Solution()\n",
    "sol.solve(A)"
   ]
  },
  {
   "cell_type": "code",
   "execution_count": 71,
   "metadata": {},
   "outputs": [
    {
     "data": {
      "text/plain": [
       "4"
      ]
     },
     "execution_count": 71,
     "metadata": {},
     "output_type": "execute_result"
    }
   ],
   "source": [
    "A = [\n",
    "       [2, 2],\n",
    "       [2, 2]\n",
    "     ]\n",
    "\n",
    "sol = Solution()\n",
    "sol.solve(A)"
   ]
  },
  {
   "cell_type": "code",
   "execution_count": null,
   "metadata": {},
   "outputs": [],
   "source": []
  }
 ],
 "metadata": {
  "kernelspec": {
   "display_name": "dsa-venv",
   "language": "python",
   "name": "python3"
  },
  "language_info": {
   "codemirror_mode": {
    "name": "ipython",
    "version": 3
   },
   "file_extension": ".py",
   "mimetype": "text/x-python",
   "name": "python",
   "nbconvert_exporter": "python",
   "pygments_lexer": "ipython3",
   "version": "3.11.3"
  },
  "orig_nbformat": 4
 },
 "nbformat": 4,
 "nbformat_minor": 2
}
