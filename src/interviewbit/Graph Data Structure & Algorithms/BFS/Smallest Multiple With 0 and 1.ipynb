{
 "cells": [
  {
   "cell_type": "code",
   "execution_count": null,
   "metadata": {},
   "outputs": [],
   "source": [
    "# https://www.interviewbit.com/problems/smallest-multiple-with-0-and-1/"
   ]
  },
  {
   "cell_type": "code",
   "execution_count": null,
   "metadata": {},
   "outputs": [],
   "source": [
    "# https://www.youtube.com/watch?v=sdTubUR99OA&t=518s"
   ]
  },
  {
   "cell_type": "code",
   "execution_count": 67,
   "metadata": {},
   "outputs": [],
   "source": [
    "from collections import deque\n",
    "\n",
    "\n",
    "class Solution:\n",
    "    # @param A : integer\n",
    "    # @return a strings\n",
    "    def multiple(self, A):\n",
    "        q = deque()\n",
    "        rem = 1 % A\n",
    "        q.append((rem, '1'))\n",
    "        visited = set()\n",
    "        visited.add(rem)\n",
    "        while q:\n",
    "            for _ in range(len(q)):\n",
    "                rem, s = q.popleft()\n",
    "                if rem == 0:\n",
    "                    return s\n",
    "                for v in [0, 1]:\n",
    "                    nr = (rem * 10 + v) % A\n",
    "                    if nr not in visited:\n",
    "                        visited.add(nr)\n",
    "                        q.append((nr, s + str(v)))\n",
    "        "
   ]
  },
  {
   "cell_type": "code",
   "execution_count": 68,
   "metadata": {},
   "outputs": [],
   "source": [
    "from collections import deque\n",
    "\n",
    "\n",
    "class Solution:\n",
    "    # @param A : integer\n",
    "    # @return a strings\n",
    "    def multiple(self, A):\n",
    "        q = deque()\n",
    "        rem = 1 % A\n",
    "        q.append(rem)\n",
    "        dp = [None] * A\n",
    "        dp[rem] = '1'\n",
    "        while q:\n",
    "            for _ in range(len(q)):\n",
    "                rem = q.popleft()\n",
    "                if rem == 0:\n",
    "                    return dp[rem]\n",
    "                for v in [0, 1]:\n",
    "                    nrem = (rem * 10 + v) % A\n",
    "                    if dp[nrem] is None:\n",
    "                        dp[nrem] = dp[rem] + str(v)\n",
    "                        q.append(nrem)\n",
    "        "
   ]
  },
  {
   "cell_type": "code",
   "execution_count": 69,
   "metadata": {},
   "outputs": [],
   "source": [
    "from collections import deque\n",
    "\n",
    "# even the most optimised python code is not submitting\n",
    "class Solution:\n",
    "    # @param A : integer\n",
    "    # @return a strings\n",
    "    def multiple(self, A):\n",
    "        q = deque()\n",
    "        rem = 1 % A\n",
    "        q.append(rem)\n",
    "        dp = [0] * A\n",
    "        dp[rem] = 1\n",
    "        while q:\n",
    "            for _ in range(len(q)):\n",
    "                rem = q.popleft()\n",
    "                if rem == 0:\n",
    "                    return bin(dp[rem]).replace(\"0b\", \"\")\n",
    "                for v in [0, 1]:\n",
    "                    nrem = (rem * 10 + v) % A\n",
    "                    if dp[nrem] == 0:\n",
    "                        dp[nrem] = dp[rem] * 2 + v\n",
    "                        q.append(nrem)\n",
    "    "
   ]
  },
  {
   "cell_type": "markdown",
   "metadata": {},
   "source": [
    "We submitted below C++ Solution\n",
    "\n",
    "```cpp\n",
    "// ***** Watch Erritcho's video regarding this *****\n",
    "\n",
    "string Solution::multiple(int A) {\n",
    "    int n = A;\n",
    "    if(n==1) return \"1\";\n",
    "\n",
    "    /*here we are setting the size of vector as 'n' because the number of different\n",
    "    types f remainders cannot be more than 'n'\n",
    "    example : for n=7 all the possible remainders can be : 0,1,2,3,4,5,6*/\n",
    "    vector<long long> dp(n);\n",
    "    dp[1]=1;\n",
    "   \n",
    "    //this queue stores the remainder of string with A\n",
    "    queue<int> bfs;\n",
    "    //for string =\"1\" remainder will be 1%A == 1, therefore\n",
    "    bfs.push(1);\n",
    "    while(!bfs.empty()){\n",
    "        int r = bfs.front();\n",
    "        bfs.pop();\n",
    "        if(r==0) {\n",
    "            string s;\n",
    "            while(dp[r]){// explaination at bottom\n",
    "                s += '0' + dp[r]%2;\n",
    "                dp[r] /= 2;\n",
    "            }\n",
    "            reverse(s.begin(), s.end());\n",
    "            return s;\n",
    "        }\n",
    "       \n",
    "        for(int digit : {0,1}/*formed an array of 0&1*/){\n",
    "            int new_r = (10*r + digit) % n;\n",
    "            if(dp[new_r]==0){\n",
    "                bfs.push(new_r);\n",
    "               \n",
    "                /* Here we are soring the string int binary format as the string\n",
    "                is made of 0's and 1's . Example if the string form is \"10\" then in binary it is equal to 2\n",
    "                \"11\" is 3, \"110\" is 6. Therefore we are storing the binary value of string in vector dp*/\n",
    "                dp[new_r] = dp[r]*2 + digit;\n",
    "            }\n",
    "        }\n",
    "    }\n",
    "    return \"-1\";  \n",
    "}\n",
    "```"
   ]
  },
  {
   "cell_type": "code",
   "execution_count": 70,
   "metadata": {},
   "outputs": [
    {
     "data": {
      "text/plain": [
       "'110'"
      ]
     },
     "execution_count": 70,
     "metadata": {},
     "output_type": "execute_result"
    }
   ],
   "source": [
    "A = 55\n",
    "sol = Solution()\n",
    "sol.multiple(A)"
   ]
  },
  {
   "cell_type": "code",
   "execution_count": 71,
   "metadata": {},
   "outputs": [
    {
     "data": {
      "text/plain": [
       "'10'"
      ]
     },
     "execution_count": 71,
     "metadata": {},
     "output_type": "execute_result"
    }
   ],
   "source": [
    "A = 2\n",
    "sol = Solution()\n",
    "sol.multiple(A)"
   ]
  },
  {
   "cell_type": "code",
   "execution_count": 72,
   "metadata": {},
   "outputs": [
    {
     "data": {
      "text/plain": [
       "'1011011111001111111111'"
      ]
     },
     "execution_count": 72,
     "metadata": {},
     "output_type": "execute_result"
    }
   ],
   "source": [
    "A = 51579\n",
    "sol = Solution()\n",
    "sol.multiple(A)"
   ]
  },
  {
   "cell_type": "code",
   "execution_count": 73,
   "metadata": {},
   "outputs": [
    {
     "data": {
      "text/plain": [
       "'1001011111111111111110'"
      ]
     },
     "execution_count": 73,
     "metadata": {},
     "output_type": "execute_result"
    }
   ],
   "source": [
    "A = 94545\n",
    "sol = Solution()\n",
    "sol.multiple(A)"
   ]
  },
  {
   "cell_type": "code",
   "execution_count": 74,
   "metadata": {},
   "outputs": [
    {
     "data": {
      "text/plain": [
       "'1101011011111111111110'"
      ]
     },
     "execution_count": 74,
     "metadata": {},
     "output_type": "execute_result"
    }
   ],
   "source": [
    "A = 89298\n",
    "sol = Solution()\n",
    "sol.multiple(A)"
   ]
  }
 ],
 "metadata": {
  "kernelspec": {
   "display_name": "dsa-venv",
   "language": "python",
   "name": "python3"
  },
  "language_info": {
   "codemirror_mode": {
    "name": "ipython",
    "version": 3
   },
   "file_extension": ".py",
   "mimetype": "text/x-python",
   "name": "python",
   "nbconvert_exporter": "python",
   "pygments_lexer": "ipython3",
   "version": "3.11.3"
  }
 },
 "nbformat": 4,
 "nbformat_minor": 2
}
