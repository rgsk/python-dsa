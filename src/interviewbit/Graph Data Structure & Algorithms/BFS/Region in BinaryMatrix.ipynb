{
 "cells": [
  {
   "cell_type": "code",
   "execution_count": 58,
   "metadata": {},
   "outputs": [],
   "source": [
    "# https://www.interviewbit.com/problems/region-in-binarymatrix/"
   ]
  },
  {
   "cell_type": "code",
   "execution_count": 59,
   "metadata": {},
   "outputs": [],
   "source": [
    "from collections import deque\n",
    "\n",
    "class Solution:\n",
    "    # @param A : list of list of integers\n",
    "    # @return an integer\n",
    "    def solve(self, A):\n",
    "        rows = len(A)\n",
    "        cols = len(A[0])\n",
    "\n",
    "        def bfs(i, j):\n",
    "            q = deque()\n",
    "            count = 1\n",
    "            q.append((i, j))\n",
    "            A[i][j] = 2\n",
    "            while q:\n",
    "                r, c = q.popleft()\n",
    "                for ri in range(-1, 2):\n",
    "                    for ci in range(-1, 2):\n",
    "                        nr = r + ri\n",
    "                        nc = c + ci\n",
    "                        if nr >= 0 and nc >= 0 and nr < rows and nc < cols and A[nr][nc] == 1:\n",
    "                            count += 1\n",
    "                            q.append((nr, nc))\n",
    "                            A[nr][nc] = 2\n",
    "            return count\n",
    "        max_region = 0\n",
    "        for i in range(rows):\n",
    "            for j in range(cols):\n",
    "                if A[i][j] == 1:\n",
    "                    max_region = max(max_region, bfs(i, j))\n",
    "        return max_region"
   ]
  },
  {
   "cell_type": "code",
   "execution_count": 60,
   "metadata": {},
   "outputs": [
    {
     "data": {
      "text/plain": [
       "6"
      ]
     },
     "execution_count": 60,
     "metadata": {},
     "output_type": "execute_result"
    }
   ],
   "source": [
    "A = [\n",
    "    [0, 0, 1, 1, 0],\n",
    "    [1, 0, 1, 1, 0],\n",
    "    [0, 1, 0, 0, 0],\n",
    "    [0, 0, 0, 0, 1]\n",
    "]\n",
    "sol = Solution()\n",
    "sol.solve(A)"
   ]
  },
  {
   "cell_type": "code",
   "execution_count": 61,
   "metadata": {},
   "outputs": [
    {
     "data": {
      "text/plain": [
       "4"
      ]
     },
     "execution_count": 61,
     "metadata": {},
     "output_type": "execute_result"
    }
   ],
   "source": [
    "A = [\n",
    "    [1, 1, 1],\n",
    "    [0, 0, 1]\n",
    "]\n",
    "sol = Solution()\n",
    "sol.solve(A)"
   ]
  }
 ],
 "metadata": {
  "kernelspec": {
   "display_name": "dsa-venv",
   "language": "python",
   "name": "python3"
  },
  "language_info": {
   "codemirror_mode": {
    "name": "ipython",
    "version": 3
   },
   "file_extension": ".py",
   "mimetype": "text/x-python",
   "name": "python",
   "nbconvert_exporter": "python",
   "pygments_lexer": "ipython3",
   "version": "3.11.3"
  }
 },
 "nbformat": 4,
 "nbformat_minor": 2
}
