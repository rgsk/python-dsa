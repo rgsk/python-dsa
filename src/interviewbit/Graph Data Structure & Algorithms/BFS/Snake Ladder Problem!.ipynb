{
 "cells": [
  {
   "cell_type": "code",
   "execution_count": 4,
   "metadata": {},
   "outputs": [],
   "source": [
    "# https://www.interviewbit.com/problems/snake-ladder-problem/"
   ]
  },
  {
   "cell_type": "code",
   "execution_count": 5,
   "metadata": {},
   "outputs": [],
   "source": [
    "class Solution:\n",
    "    # @param A : list of list of integers\n",
    "    # @param B : list of list of integers\n",
    "    # @return an integer\n",
    "    def snakeLadder(self, A, B):\n",
    "        jump = {}\n",
    "        for a in A:\n",
    "            start, end = a\n",
    "            jump[start] = end\n",
    "            \n",
    "        for b in B:\n",
    "            start, end = b\n",
    "            jump[start] = end\n",
    "            \n",
    "        initial = 1\n",
    "        final = 100\n",
    "        queue = []\n",
    "        visited = set()\n",
    "        visited.add(initial)\n",
    "        queue.append((initial, 0))\n",
    "        \n",
    "        while queue:\n",
    "            val, count = queue.pop(0)\n",
    "            if val == final:\n",
    "                return count\n",
    "            for i in range(val, val+7):\n",
    "                if i in jump:\n",
    "                    i = jump[i]\n",
    "                if i not in visited and i <= 100:\n",
    "                    queue.append((i, count+1))\n",
    "                    visited.add(i)\n",
    "        return -1"
   ]
  },
  {
   "cell_type": "code",
   "execution_count": 6,
   "metadata": {},
   "outputs": [
    {
     "data": {
      "text/plain": [
       "3"
      ]
     },
     "execution_count": 6,
     "metadata": {},
     "output_type": "execute_result"
    }
   ],
   "source": [
    "\n",
    "A = [\n",
    "    [32, 62],\n",
    "    [42, 68],\n",
    "    [12, 98]\n",
    "]\n",
    "B = [\n",
    "    [95, 13],\n",
    "    [97, 25],\n",
    "    [93, 37],\n",
    "    [79, 27],\n",
    "    [75, 19],\n",
    "    [49, 47],\n",
    "    [67, 17]\n",
    "]\n",
    "sol = Solution()\n",
    "sol.snakeLadder(A, B)"
   ]
  },
  {
   "cell_type": "code",
   "execution_count": 7,
   "metadata": {},
   "outputs": [
    {
     "data": {
      "text/plain": [
       "5"
      ]
     },
     "execution_count": 7,
     "metadata": {},
     "output_type": "execute_result"
    }
   ],
   "source": [
    "A = [\n",
    "    [8, 52],\n",
    "    [6, 80],\n",
    "    [26, 42],\n",
    "    [2, 72],\n",
    "]\n",
    "B = [\n",
    "    [51, 19],\n",
    "    [39, 11],\n",
    "    [37, 29],\n",
    "    [81, 3],\n",
    "    [59, 5],\n",
    "    [79, 23],\n",
    "    [53, 7],\n",
    "    [43, 33],\n",
    "    [77, 21],\n",
    "]\n",
    "sol = Solution()\n",
    "sol.snakeLadder(A, B)"
   ]
  }
 ],
 "metadata": {
  "kernelspec": {
   "display_name": "dsa-venv",
   "language": "python",
   "name": "python3"
  },
  "language_info": {
   "codemirror_mode": {
    "name": "ipython",
    "version": 3
   },
   "file_extension": ".py",
   "mimetype": "text/x-python",
   "name": "python",
   "nbconvert_exporter": "python",
   "pygments_lexer": "ipython3",
   "version": "3.11.3"
  }
 },
 "nbformat": 4,
 "nbformat_minor": 2
}
