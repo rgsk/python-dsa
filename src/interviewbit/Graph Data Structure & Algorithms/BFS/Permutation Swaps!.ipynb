{
 "cells": [
  {
   "cell_type": "code",
   "execution_count": 12,
   "metadata": {},
   "outputs": [],
   "source": [
    "# https://www.interviewbit.com/problems/permutation-swaps/"
   ]
  },
  {
   "cell_type": "code",
   "execution_count": 13,
   "metadata": {},
   "outputs": [],
   "source": [
    "\n",
    "class DisjointSet:\n",
    "    def __init__(self, n):\n",
    "        # Initialize the disjoint set with n elements.\n",
    "        self.parent = list(range(n))\n",
    "        self.size = [1] * n\n",
    "\n",
    "    def findParent(self, node):\n",
    "        # Find the representative (root) of the set to which the node belongs.\n",
    "        if self.parent[node] == node:\n",
    "            return node\n",
    "        # Path compression: Update the parent of the node to the representative.\n",
    "        self.parent[node] = self.findParent(self.parent[node])\n",
    "        return self.parent[node]\n",
    "\n",
    "    # works\n",
    "    def unionBySize(self, node1, node2):\n",
    "        root1 = self.findParent(node1)\n",
    "        root2 = self.findParent(node2)\n",
    "        if root1 != root2:\n",
    "            if self.size[root1] >= self.size[root2]:\n",
    "                self.parent[root2] = root1\n",
    "                self.size[root1] += self.size[root2]\n",
    "            else:\n",
    "                self.parent[root1] = root2\n",
    "                self.size[root2] += self.size[root1]\n",
    "\n",
    "\n",
    "\n",
    "class Solution:\n",
    "    # @param A : list of integers\n",
    "    # @param B : list of integers\n",
    "    # @param C : list of list of integers\n",
    "    # @return an integer\n",
    "    def solve(self, A, B, C):\n",
    "        ds = DisjointSet(len(A))\n",
    "        for n1, n2 in C:\n",
    "            n1 -= 1\n",
    "            n2 -= 1\n",
    "            if ds.findParent(n1) != ds.findParent(n2):\n",
    "                ds.unionBySize(n1, n2)\n",
    "        B_val_to_idx = {}\n",
    "        for i in range(len(B)):\n",
    "            B_val_to_idx[B[i]] = i\n",
    "        for i in range(len(A)):\n",
    "            if A[i] != B[i]:\n",
    "                if ds.findParent(i) != ds.findParent(B_val_to_idx[A[i]]):\n",
    "                    return 0\n",
    "        return 1"
   ]
  },
  {
   "cell_type": "code",
   "execution_count": 14,
   "metadata": {},
   "outputs": [
    {
     "data": {
      "text/plain": [
       "0"
      ]
     },
     "execution_count": 14,
     "metadata": {},
     "output_type": "execute_result"
    }
   ],
   "source": [
    "A = [1, 3, 2, 4]\n",
    "B = [1, 4, 2, 3]\n",
    "C = [\n",
    "    [3, 4],\n",
    "]\n",
    "sol = Solution()\n",
    "sol.solve(A, B, C)"
   ]
  },
  {
   "cell_type": "code",
   "execution_count": 15,
   "metadata": {},
   "outputs": [
    {
     "data": {
      "text/plain": [
       "1"
      ]
     },
     "execution_count": 15,
     "metadata": {},
     "output_type": "execute_result"
    }
   ],
   "source": [
    "A = [1, 3, 2, 4]\n",
    "B = [1, 4, 2, 3]\n",
    "C = [\n",
    "    [2, 4],\n",
    "]\n",
    "sol = Solution()\n",
    "sol.solve(A, B, C)"
   ]
  }
 ],
 "metadata": {
  "kernelspec": {
   "display_name": "dsa-venv",
   "language": "python",
   "name": "python3"
  },
  "language_info": {
   "codemirror_mode": {
    "name": "ipython",
    "version": 3
   },
   "file_extension": ".py",
   "mimetype": "text/x-python",
   "name": "python",
   "nbconvert_exporter": "python",
   "pygments_lexer": "ipython3",
   "version": "3.11.3"
  }
 },
 "nbformat": 4,
 "nbformat_minor": 2
}
