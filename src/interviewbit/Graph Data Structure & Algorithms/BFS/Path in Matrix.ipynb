{
 "cells": [
  {
   "cell_type": "code",
   "execution_count": null,
   "metadata": {},
   "outputs": [],
   "source": [
    "# https://www.interviewbit.com/problems/path-in-matrix/"
   ]
  },
  {
   "cell_type": "code",
   "execution_count": 14,
   "metadata": {},
   "outputs": [],
   "source": [
    "# TLE\n",
    "class Solution:\n",
    "    # @param A : list of list of integers\n",
    "    # @return an integer\n",
    "    def checkPath(self, A):\n",
    "        rows = len(A)\n",
    "        cols = len(A[0])\n",
    "        source = None\n",
    "        destination = None\n",
    "        for i in range(rows):\n",
    "            for j in range(cols):\n",
    "                if A[i][j] == 1:\n",
    "                    source = (i, j)\n",
    "                elif A[i][j] == 2:\n",
    "                    destination = (i, j)\n",
    "        def dfs(i, j):\n",
    "            if i < 0 or j < 0 or i >= rows or j >= cols or A[i][j] == 0:\n",
    "                return 0\n",
    "            if (i, j) == destination:\n",
    "                return 1\n",
    "            A[i][j] = 0\n",
    "            if dfs(i + 1, j):\n",
    "                return 1\n",
    "            if dfs(i - 1, j):\n",
    "                return 1\n",
    "            if dfs(i, j + 1):\n",
    "                return 1\n",
    "            if dfs(i, j - 1):\n",
    "                return 1\n",
    "            A[i][j] = 3        \n",
    "            return 0\n",
    "        return dfs(source[0], source[1])"
   ]
  },
  {
   "cell_type": "code",
   "execution_count": 15,
   "metadata": {},
   "outputs": [],
   "source": [
    "from collections import deque\n",
    "\n",
    "ops = [(-1,0),(1,0),(0,-1),(0,1)]\n",
    "\n",
    "class Solution:\n",
    "    # @param A : list of list of integers\n",
    "    # @return an integer\n",
    "    def checkPath(self, A):\n",
    "        rows = len(A)\n",
    "        cols = len(A[0])\n",
    "        source = None\n",
    "        destination = None\n",
    "        for i in range(rows):\n",
    "            for j in range(cols):\n",
    "                if A[i][j] == 1:\n",
    "                    source = (i, j)\n",
    "                elif A[i][j] == 2:\n",
    "                    destination = (i, j)\n",
    "        \n",
    "        def check(i, j):\n",
    "            if (i < 0 or j < 0 or i >= rows or j >= cols or A[i][j] == 0):\n",
    "                return False\n",
    "            return True\n",
    "\n",
    "        q = deque()\n",
    "        q.append(source)\n",
    "        A[source[0]][source[1]] = 0\n",
    "        while q:\n",
    "            for _ in range(len(q)):\n",
    "                i, j = q.popleft()\n",
    "                if (i, j) == destination:\n",
    "                    return 1\n",
    "                for op in ops:\n",
    "                    nr = i + op[0]\n",
    "                    nc = j + op[1]\n",
    "                    if check(nr, nc):\n",
    "                        A[nr][nc] = 0\n",
    "                        q.append((nr, nc))\n",
    "        return 0"
   ]
  },
  {
   "cell_type": "code",
   "execution_count": 16,
   "metadata": {},
   "outputs": [],
   "source": [
    "'''\n",
    "Input 1:\n",
    "A = [[1, 0], [0, 2]]\n",
    "Input 2:\n",
    "\n",
    "A = [[1, 3], [3, 2]]\n",
    "'''\n",
    "pass"
   ]
  },
  {
   "cell_type": "code",
   "execution_count": 17,
   "metadata": {},
   "outputs": [
    {
     "data": {
      "text/plain": [
       "0"
      ]
     },
     "execution_count": 17,
     "metadata": {},
     "output_type": "execute_result"
    }
   ],
   "source": [
    "A = [[1, 0], [0, 2]]\n",
    "sol = Solution()\n",
    "sol.checkPath(A)"
   ]
  },
  {
   "cell_type": "code",
   "execution_count": 18,
   "metadata": {},
   "outputs": [
    {
     "data": {
      "text/plain": [
       "1"
      ]
     },
     "execution_count": 18,
     "metadata": {},
     "output_type": "execute_result"
    }
   ],
   "source": [
    "A = [[1, 3], [3, 2]]\n",
    "sol = Solution()\n",
    "sol.checkPath(A)"
   ]
  }
 ],
 "metadata": {
  "kernelspec": {
   "display_name": "dsa-venv",
   "language": "python",
   "name": "python3"
  },
  "language_info": {
   "codemirror_mode": {
    "name": "ipython",
    "version": 3
   },
   "file_extension": ".py",
   "mimetype": "text/x-python",
   "name": "python",
   "nbconvert_exporter": "python",
   "pygments_lexer": "ipython3",
   "version": "3.11.3"
  }
 },
 "nbformat": 4,
 "nbformat_minor": 2
}
