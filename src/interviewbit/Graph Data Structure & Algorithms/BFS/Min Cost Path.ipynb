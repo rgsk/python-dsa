{
 "cells": [
  {
   "cell_type": "code",
   "execution_count": 26,
   "metadata": {},
   "outputs": [],
   "source": [
    "import heapq\n",
    "import math\n",
    "ops = [(-1,0, 'U'),(1,0, 'D'),(0,-1, 'L'),(0,1, 'R')]\n",
    "\n",
    "class Solution:\n",
    "    # @param A : integer\n",
    "    # @param B : integer\n",
    "    # @param C : list of strings\n",
    "    # @return an integer\n",
    "    def solve(self, A, B, C):\n",
    "        heap = []\n",
    "        heap.append((0, 0, 0))\n",
    "        distances = [[math.inf for _ in range(B)] for _ in range(A)]\n",
    "        distances[0][0] = 0\n",
    "        while heap:\n",
    "            cost, r, c = heapq.heappop(heap)\n",
    "            if r == A - 1 and c == B - 1:\n",
    "                return cost\n",
    "            for op in ops:\n",
    "                nr = r + op[0]\n",
    "                nc = c + op[1]\n",
    "                if nr >= 0 and nc >= 0 and nr < A and nc < B:\n",
    "                    newCost = cost + (0 if op[2] == C[r][c] else 1)\n",
    "                    if newCost < distances[nr][nc]:\n",
    "                        heapq.heappush(heap, (newCost, nr, nc))\n",
    "                        distances[nr][nc] = newCost"
   ]
  },
  {
   "cell_type": "code",
   "execution_count": 27,
   "metadata": {},
   "outputs": [
    {
     "data": {
      "text/plain": [
       "1"
      ]
     },
     "execution_count": 27,
     "metadata": {},
     "output_type": "execute_result"
    }
   ],
   "source": [
    "A = 3\n",
    "B = 3\n",
    "C = [\"RRR\",\"DDD\",\"UUU\"]\n",
    "sol = Solution()\n",
    "sol.solve(A, B, C)"
   ]
  },
  {
   "cell_type": "code",
   "execution_count": 28,
   "metadata": {},
   "outputs": [
    {
     "data": {
      "text/plain": [
       "3"
      ]
     },
     "execution_count": 28,
     "metadata": {},
     "output_type": "execute_result"
    }
   ],
   "source": [
    "A = 1\n",
    "B = 4\n",
    "C = [\"LLLL\"]\n",
    "sol = Solution()\n",
    "sol.solve(A, B, C)"
   ]
  },
  {
   "cell_type": "code",
   "execution_count": 29,
   "metadata": {},
   "outputs": [
    {
     "data": {
      "text/plain": [
       "2"
      ]
     },
     "execution_count": 29,
     "metadata": {},
     "output_type": "execute_result"
    }
   ],
   "source": [
    "A = 1\n",
    "B = 4\n",
    "C = [\"RDDR\"]\n",
    "sol = Solution()\n",
    "sol.solve(A, B, C)"
   ]
  },
  {
   "cell_type": "code",
   "execution_count": 30,
   "metadata": {},
   "outputs": [
    {
     "data": {
      "text/plain": [
       "5"
      ]
     },
     "execution_count": 30,
     "metadata": {},
     "output_type": "execute_result"
    }
   ],
   "source": [
    "A = 10\n",
    "B = 10\n",
    "C = [ \"DUDRURRLDR\", \"DULRLULDRD\", \"DLULUDLLDL\", \"RLRRDURDLD\", \"LURULLRDLL\", \"RRLDURURDL\", \"DULDURUDRL\", \"RUUUDUDLDR\", \"RRRRDLULRL\", \"DLRRUDRUUU\" ]\n",
    "sol = Solution()\n",
    "sol.solve(A, B, C)"
   ]
  }
 ],
 "metadata": {
  "kernelspec": {
   "display_name": "dsa-venv",
   "language": "python",
   "name": "python3"
  },
  "language_info": {
   "codemirror_mode": {
    "name": "ipython",
    "version": 3
   },
   "file_extension": ".py",
   "mimetype": "text/x-python",
   "name": "python",
   "nbconvert_exporter": "python",
   "pygments_lexer": "ipython3",
   "version": "3.11.3"
  }
 },
 "nbformat": 4,
 "nbformat_minor": 2
}
