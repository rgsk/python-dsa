{
 "cells": [
  {
   "cell_type": "code",
   "execution_count": 1,
   "metadata": {},
   "outputs": [],
   "source": [
    "# https://www.interviewbit.com/problems/valid-path/"
   ]
  },
  {
   "cell_type": "code",
   "execution_count": 2,
   "metadata": {},
   "outputs": [],
   "source": [
    "class Solution:\n",
    "    # @param A : integer\n",
    "    # @param B : integer\n",
    "    # @param C : integer\n",
    "    # @param D : integer\n",
    "    # @param E : list of integers\n",
    "    # @param F : list of integers\n",
    "    # @return a strings\n",
    "    def solve(self, tx, ty, n, R,E,F):\n",
    "        \n",
    "        centers = [x for x in zip(E,F)]\n",
    "        vis = [[0 for _ in range(ty+1)] for _ in range(tx+1)]\n",
    "        def out_of_circles(x,y):\n",
    "            nonlocal centers\n",
    "            for center in centers :\n",
    "                if (x-center[0])**2 + (y-center[1])**2 <= R*R :\n",
    "                    return False\n",
    "            return True\n",
    "        \n",
    "        def issafe(x,y):\n",
    "            return x >= 0 and x <= tx and y >= 0 and y <= ty and out_of_circles(x,y)\n",
    "        q = [(0,0)]\n",
    "        vis[0][0] = 1\n",
    "        while q :\n",
    "            x,y = q.pop(0)\n",
    "            if x == tx and y == ty :\n",
    "                return \"YES\"\n",
    "            for i in { (-1,0),(1,0),(0,1),(0,-1),(-1,1),(1,1),(-1,-1),(1,-1)} :\n",
    "                ax,ay = x + i[0],y+i[1]\n",
    "                if issafe(ax,ay) and not vis[ax][ay]:\n",
    "                    vis[ax][ay] = 1\n",
    "                    q.append((ax,ay))\n",
    "            \n",
    "        return \"NO\""
   ]
  },
  {
   "cell_type": "code",
   "execution_count": 3,
   "metadata": {},
   "outputs": [
    {
     "data": {
      "text/plain": [
       "'NO'"
      ]
     },
     "execution_count": 3,
     "metadata": {},
     "output_type": "execute_result"
    }
   ],
   "source": [
    "x = 2\n",
    "y = 3\n",
    "N = 1\n",
    "R = 1\n",
    "A = [2]\n",
    "B = [3]\n",
    "sol = Solution()\n",
    "sol.solve(x, y, N, R, A, B)"
   ]
  }
 ],
 "metadata": {
  "kernelspec": {
   "display_name": "dsa-venv",
   "language": "python",
   "name": "python3"
  },
  "language_info": {
   "codemirror_mode": {
    "name": "ipython",
    "version": 3
   },
   "file_extension": ".py",
   "mimetype": "text/x-python",
   "name": "python",
   "nbconvert_exporter": "python",
   "pygments_lexer": "ipython3",
   "version": "3.11.3"
  }
 },
 "nbformat": 4,
 "nbformat_minor": 2
}
