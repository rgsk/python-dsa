{
 "cells": [
  {
   "cell_type": "code",
   "execution_count": 1,
   "metadata": {},
   "outputs": [],
   "source": [
    "# https://www.interviewbit.com/problems/clone-graph/"
   ]
  },
  {
   "cell_type": "code",
   "execution_count": 2,
   "metadata": {},
   "outputs": [],
   "source": [
    "# Definition for a undirected graph node\n",
    "class UndirectedGraphNode:\n",
    "    def __init__(self, x):\n",
    "        self.label = x\n",
    "        self.neighbors = []"
   ]
  },
  {
   "cell_type": "code",
   "execution_count": 3,
   "metadata": {},
   "outputs": [],
   "source": [
    "# Definition for a undirected graph node\n",
    "# class UndirectedGraphNode:\n",
    "#     def __init__(self, x):\n",
    "#         self.label = x\n",
    "#         self.neighbors = []\n",
    "\n",
    "class Solution:\n",
    "    # @param node, a undirected graph node\n",
    "    # @return a undirected graph node\n",
    "    def cloneGraph(self, node):\n",
    "        from collections import deque\n",
    "        q = deque()\n",
    "        h = {}\n",
    "        q.append(node)\n",
    "        cnode = UndirectedGraphNode(node.label)\n",
    "        h[node] = cnode\n",
    "        while(len(q) > 0):\n",
    "            t = q[0]\n",
    "            q.popleft()\n",
    "            for i in t.neighbors:\n",
    "                if i not in h:\n",
    "                    copy = UndirectedGraphNode(i.label)\n",
    "                    h[i] = copy\n",
    "                    q.append(i)\n",
    "                h[t].neighbors.append(h[i])\n",
    "                    \n",
    "        return cnode\n"
   ]
  }
 ],
 "metadata": {
  "kernelspec": {
   "display_name": "dsa-venv",
   "language": "python",
   "name": "python3"
  },
  "language_info": {
   "codemirror_mode": {
    "name": "ipython",
    "version": 3
   },
   "file_extension": ".py",
   "mimetype": "text/x-python",
   "name": "python",
   "nbconvert_exporter": "python",
   "pygments_lexer": "ipython3",
   "version": "3.11.3"
  }
 },
 "nbformat": 4,
 "nbformat_minor": 2
}
