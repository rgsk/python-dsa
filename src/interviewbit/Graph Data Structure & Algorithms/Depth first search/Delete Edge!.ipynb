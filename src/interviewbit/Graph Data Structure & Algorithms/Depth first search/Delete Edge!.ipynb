{
 "cells": [
  {
   "cell_type": "code",
   "execution_count": 5,
   "metadata": {},
   "outputs": [],
   "source": [
    "# https://www.interviewbit.com/problems/delete-edge/"
   ]
  },
  {
   "cell_type": "code",
   "execution_count": 6,
   "metadata": {},
   "outputs": [],
   "source": [
    "import sys\n",
    "sys.setrecursionlimit(200000)\n",
    "adj = []\n",
    "s = 0\n",
    "maxe = 0\n",
    "mod = 1000000007\n",
    "\n",
    "\n",
    "def dfs(u, p, A):\n",
    "    global adj, s, maxe, mod\n",
    "    val = A[u - 1]\n",
    "    for v in adj[u]:\n",
    "        if v == p:\n",
    "            continue\n",
    "        val += dfs(v, u, A)\n",
    "    res = val * (s - val)\n",
    "    maxe = max(maxe, res)\n",
    "    return val\n",
    "\n",
    "\n",
    "class Solution:\n",
    "    # @param A : list of integers\n",
    "    # @param B : list of list of integers\n",
    "    # @return an integer\n",
    "    def deleteEdge(self, A, B):\n",
    "        global adj, s, maxe, mod\n",
    "        s = 0\n",
    "        maxe = 0\n",
    "        adj = [[] for i in range(len(A) + 1)]\n",
    "        for a in A:\n",
    "            s += a\n",
    "        for edge in B:\n",
    "            adj[edge[0]].append(edge[1])\n",
    "            adj[edge[1]].append(edge[0])\n",
    "        dfs(1, 0, A)\n",
    "        return maxe % mod"
   ]
  },
  {
   "cell_type": "code",
   "execution_count": 7,
   "metadata": {},
   "outputs": [
    {
     "data": {
      "text/plain": [
       "270"
      ]
     },
     "execution_count": 7,
     "metadata": {},
     "output_type": "execute_result"
    }
   ],
   "source": [
    "A = [10, 5, 12, 6]\n",
    "B = [\n",
    "    [1, 2],\n",
    "    [1, 4],\n",
    "    [4, 3],\n",
    "]\n",
    "sol = Solution()\n",
    "sol.deleteEdge(A, B)"
   ]
  },
  {
   "cell_type": "code",
   "execution_count": 8,
   "metadata": {},
   "outputs": [
    {
     "data": {
      "text/plain": [
       "132"
      ]
     },
     "execution_count": 8,
     "metadata": {},
     "output_type": "execute_result"
    }
   ],
   "source": [
    "A = [11, 12]\n",
    "B = [\n",
    "    [1, 2],\n",
    "]\n",
    "sol = Solution()\n",
    "sol.deleteEdge(A, B)"
   ]
  }
 ],
 "metadata": {
  "kernelspec": {
   "display_name": "dsa-venv",
   "language": "python",
   "name": "python3"
  },
  "language_info": {
   "codemirror_mode": {
    "name": "ipython",
    "version": 3
   },
   "file_extension": ".py",
   "mimetype": "text/x-python",
   "name": "python",
   "nbconvert_exporter": "python",
   "pygments_lexer": "ipython3",
   "version": "3.11.3"
  }
 },
 "nbformat": 4,
 "nbformat_minor": 2
}
