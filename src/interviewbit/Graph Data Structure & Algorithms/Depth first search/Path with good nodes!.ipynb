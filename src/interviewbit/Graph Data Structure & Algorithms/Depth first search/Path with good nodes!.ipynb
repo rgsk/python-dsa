{
 "cells": [
  {
   "cell_type": "code",
   "execution_count": 22,
   "metadata": {},
   "outputs": [],
   "source": [
    "class Solution:\n",
    "    # @param A : list of integers\n",
    "    # @param B : list of list of integers\n",
    "    # @param C : integer\n",
    "    # @return an integer\n",
    "    def solve(self, A, B, C):\n",
    "        n = len(A)\n",
    "        adj = [[] for _ in range(n)]\n",
    "        for s, d in B:\n",
    "            adj[s-1].append(d-1)\n",
    "            adj[d-1].append(s-1)\n",
    "        \n",
    "        ans = 0\n",
    "        visited = [False for _ in range(n)]\n",
    "        def dfs(node, bad):\n",
    "            nonlocal ans\n",
    "            further_travelled = False\n",
    "            for child in adj[node]:\n",
    "                if not visited[child]:\n",
    "                    further_travelled = True\n",
    "                    visited[child] = True\n",
    "                    dfs(child, bad + A[child])\n",
    "                    # visited[child] = False\n",
    "                    # turning false is not needed\n",
    "                    # as there is just 1 path from root to any node\n",
    "            if not further_travelled:\n",
    "                if bad <= C:\n",
    "                    ans += 1\n",
    "        visited[0] = True\n",
    "        dfs(0, A[0])\n",
    "\n",
    "        return ans"
   ]
  },
  {
   "cell_type": "code",
   "execution_count": 23,
   "metadata": {},
   "outputs": [],
   "source": [
    "class Solution:\n",
    "    # @param A : list of integers\n",
    "    # @param B : list of list of integers\n",
    "    # @param C : integer\n",
    "    # @return an integer\n",
    "    def solve(self, A, B, C):\n",
    "        n = len(A)\n",
    "        adj = [[] for _ in range(n)]\n",
    "        for s, d in B:\n",
    "            adj[s-1].append(d-1)\n",
    "            adj[d-1].append(s-1)\n",
    "        \n",
    "        ans = 0\n",
    "        def dfs(node,prev, bad):\n",
    "            nonlocal ans\n",
    "            further_travelled = False\n",
    "            for child in adj[node]:\n",
    "                if child != prev:\n",
    "                    further_travelled = True\n",
    "                    dfs(child, node, bad + A[child])\n",
    "            if not further_travelled:\n",
    "                if bad <= C:\n",
    "                    ans += 1\n",
    "        dfs(0, -1, A[0])\n",
    "\n",
    "        return ans"
   ]
  },
  {
   "cell_type": "code",
   "execution_count": 24,
   "metadata": {},
   "outputs": [
    {
     "data": {
      "text/plain": [
       "3"
      ]
     },
     "execution_count": 24,
     "metadata": {},
     "output_type": "execute_result"
    }
   ],
   "source": [
    "A = [0, 1, 0, 1, 1, 1]\n",
    "B = [[1, 2],\n",
    "     [1, 5],\n",
    "     [1, 6],\n",
    "     [2, 3],\n",
    "     [2, 4],\n",
    "     ]\n",
    "C = 1\n",
    "\n",
    "sol = Solution()\n",
    "sol.solve(A, B, C)"
   ]
  },
  {
   "cell_type": "code",
   "execution_count": 25,
   "metadata": {},
   "outputs": [
    {
     "data": {
      "text/plain": [
       "5"
      ]
     },
     "execution_count": 25,
     "metadata": {},
     "output_type": "execute_result"
    }
   ],
   "source": [
    "A = [ 1, 1, 0, 0, 1, 0, 0, 0, 0, 0, 1, 1, 1 ]\n",
    "B = [\n",
    "  [10, 6],\n",
    "  [3, 2],\n",
    "  [12, 7],\n",
    "  [9, 5],\n",
    "  [2, 1],\n",
    "  [8, 3],\n",
    "  [7, 1],\n",
    "  [4, 2],\n",
    "  [6, 3],\n",
    "  [11, 4],\n",
    "  [5, 3],\n",
    "  [13, 11]\n",
    "]\n",
    "C = 7\n",
    "\n",
    "sol = Solution()\n",
    "sol.solve(A, B, C)"
   ]
  }
 ],
 "metadata": {
  "kernelspec": {
   "display_name": "dsa-venv",
   "language": "python",
   "name": "python3"
  },
  "language_info": {
   "codemirror_mode": {
    "name": "ipython",
    "version": 3
   },
   "file_extension": ".py",
   "mimetype": "text/x-python",
   "name": "python",
   "nbconvert_exporter": "python",
   "pygments_lexer": "ipython3",
   "version": "3.11.3"
  }
 },
 "nbformat": 4,
 "nbformat_minor": 2
}
