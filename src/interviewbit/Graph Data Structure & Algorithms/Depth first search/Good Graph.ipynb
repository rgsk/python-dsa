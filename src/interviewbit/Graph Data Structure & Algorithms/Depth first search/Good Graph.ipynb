{
 "cells": [
  {
   "cell_type": "code",
   "execution_count": 21,
   "metadata": {},
   "outputs": [],
   "source": [
    "# https://www.interviewbit.com/problems/good-graph/"
   ]
  },
  {
   "cell_type": "code",
   "execution_count": 22,
   "metadata": {},
   "outputs": [],
   "source": [
    "\n",
    "class DisjointSet:\n",
    "    def __init__(self, n):\n",
    "        # Initialize the disjoint set with n elements.\n",
    "        self.parent = list(range(n))\n",
    "        self.size = [1] * n\n",
    "\n",
    "    def findParent(self, node):\n",
    "        # Find the representative (root) of the set to which the node belongs.\n",
    "        if self.parent[node] == node:\n",
    "            return node\n",
    "        # Path compression: Update the parent of the node to the representative.\n",
    "        self.parent[node] = self.findParent(self.parent[node])\n",
    "        return self.parent[node]\n",
    "\n",
    "    # works\n",
    "    def unionBySize(self, node1, node2, mandatory_parent = None):\n",
    "        root1 = self.findParent(node1)\n",
    "        root2 = self.findParent(node2)\n",
    "        if root1 != root2:\n",
    "            if mandatory_parent != None:\n",
    "                if mandatory_parent == 'node1':\n",
    "                    self.parent[root2] = root1\n",
    "                    self.size[root1] += self.size[root2]\n",
    "                elif mandatory_parent == 'node2':\n",
    "                    self.parent[root1] = root2\n",
    "                    self.size[root2] += self.size[root1]\n",
    "            else:\n",
    "                if self.size[root1] >= self.size[root2]:\n",
    "                    self.parent[root2] = root1\n",
    "                    self.size[root1] += self.size[root2]\n",
    "                else:\n",
    "                    self.parent[root1] = root2\n",
    "                    self.size[root2] += self.size[root1]\n",
    "\n",
    "class Solution:\n",
    "    # @param A : list of integers\n",
    "    # @return an integer\n",
    "    def solve(self, A):\n",
    "        V = len(A) + 1\n",
    "        ds = DisjointSet(V + 1)\n",
    "        for i in range(len(A)):\n",
    "            if A[i] == 1:\n",
    "                A[i] = V\n",
    "        for i in range(len(A)):\n",
    "            if ds.findParent(i + 1) != ds.findParent(A[i]):\n",
    "                ds.unionBySize(i + 1, A[i], 'node2')\n",
    "        count = 0\n",
    "        counted = set()\n",
    "        for i in range(len(A)):\n",
    "            parent = ds.findParent(i + 1)\n",
    "            if parent != V:\n",
    "                if parent not in counted:\n",
    "                    count += 1\n",
    "                    counted.add(parent)\n",
    "        return count"
   ]
  },
  {
   "cell_type": "code",
   "execution_count": 23,
   "metadata": {},
   "outputs": [
    {
     "data": {
      "text/plain": [
       "1"
      ]
     },
     "execution_count": 23,
     "metadata": {},
     "output_type": "execute_result"
    }
   ],
   "source": [
    "A = [1, 2, 1, 2]\n",
    "sol = Solution()\n",
    "sol.solve(A)"
   ]
  },
  {
   "cell_type": "code",
   "execution_count": 24,
   "metadata": {},
   "outputs": [
    {
     "data": {
      "text/plain": [
       "1"
      ]
     },
     "execution_count": 24,
     "metadata": {},
     "output_type": "execute_result"
    }
   ],
   "source": [
    "A = [3, 1, 3, 1]\n",
    "sol = Solution()\n",
    "sol.solve(A)"
   ]
  },
  {
   "cell_type": "code",
   "execution_count": 25,
   "metadata": {},
   "outputs": [
    {
     "data": {
      "text/plain": [
       "0"
      ]
     },
     "execution_count": 25,
     "metadata": {},
     "output_type": "execute_result"
    }
   ],
   "source": [
    "A = [ 2, 3, 4, 1 ]\n",
    "sol = Solution()\n",
    "sol.solve(A)"
   ]
  }
 ],
 "metadata": {
  "kernelspec": {
   "display_name": "dsa-venv",
   "language": "python",
   "name": "python3"
  },
  "language_info": {
   "codemirror_mode": {
    "name": "ipython",
    "version": 3
   },
   "file_extension": ".py",
   "mimetype": "text/x-python",
   "name": "python",
   "nbconvert_exporter": "python",
   "pygments_lexer": "ipython3",
   "version": "3.11.3"
  }
 },
 "nbformat": 4,
 "nbformat_minor": 2
}
