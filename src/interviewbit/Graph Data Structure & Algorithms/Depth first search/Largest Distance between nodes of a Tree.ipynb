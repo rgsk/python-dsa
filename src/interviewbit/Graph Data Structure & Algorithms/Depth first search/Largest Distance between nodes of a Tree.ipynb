{
 "cells": [
  {
   "cell_type": "code",
   "execution_count": 34,
   "metadata": {},
   "outputs": [],
   "source": [
    "# https://www.interviewbit.com/problems/largest-distance-between-nodes-of-a-tree/"
   ]
  },
  {
   "cell_type": "code",
   "execution_count": 35,
   "metadata": {},
   "outputs": [],
   "source": [
    "import sys\n",
    "sys.setrecursionlimit(10**6)\n",
    "# we had to use above \n",
    "# to ensure recursionlimit doesn't exceeds\n",
    "# it's better to use bfs in this case\n",
    "\n",
    "class Solution:\n",
    "    # @param A : list of integers\n",
    "    # @return an integer\n",
    "    def solve(self, A):\n",
    "        n = len(A)\n",
    "        adj = [[] for _ in range(n)]\n",
    "        root = None\n",
    "        for i in range(n):\n",
    "            if A[i] != -1:\n",
    "                adj[i].append(A[i])\n",
    "                adj[A[i]].append(i)\n",
    "            else:\n",
    "                root = i\n",
    "\n",
    "\n",
    "        ans = 0\n",
    "        farthest_from_root = None\n",
    "        def dfs(node, prev, cur_length):\n",
    "            nonlocal ans, farthest_from_root\n",
    "            travelled = False\n",
    "            for child in adj[node]:\n",
    "                if child != prev:\n",
    "                    travelled = True\n",
    "                    dfs(child, node, cur_length + 1)\n",
    "            if not travelled:\n",
    "                if cur_length > ans:\n",
    "                    ans = cur_length\n",
    "                    farthest_from_root = node\n",
    "        dfs(root, -1, 0)\n",
    "        if farthest_from_root is not None:\n",
    "            dfs(farthest_from_root, -1, 0)\n",
    "        return ans\n",
    "            "
   ]
  },
  {
   "cell_type": "code",
   "execution_count": 36,
   "metadata": {},
   "outputs": [],
   "source": [
    "from collections import deque\n",
    "\n",
    "\n",
    "class Solution:\n",
    "    # @param A : list of integers\n",
    "    # @return an integer\n",
    "    def solve(self, A):\n",
    "        n = len(A)\n",
    "        adj = [[] for _ in range(n)]\n",
    "        root = None\n",
    "        for i in range(n):\n",
    "            if A[i] != -1:\n",
    "                adj[i].append(A[i])\n",
    "                adj[A[i]].append(i)\n",
    "            else:\n",
    "                root = i\n",
    "\n",
    "\n",
    "        ans = 0\n",
    "        farthest_from_root = None\n",
    "        def bfs(node):\n",
    "            nonlocal ans, farthest_from_root\n",
    "            q = deque()  \n",
    "            q.append((node, -1, 0))\n",
    "            while q:\n",
    "                cur, prev, cur_len = q.popleft()\n",
    "                farthest_from_root = cur\n",
    "                ans = max(ans, cur_len)\n",
    "                for child in adj[cur]:\n",
    "                    if child != prev:\n",
    "                        q.append((child, cur, cur_len + 1))\n",
    "        bfs(root)\n",
    "        if farthest_from_root is not None:\n",
    "            bfs(farthest_from_root)\n",
    "        return ans\n",
    "            "
   ]
  },
  {
   "cell_type": "code",
   "execution_count": 37,
   "metadata": {},
   "outputs": [
    {
     "data": {
      "text/plain": [
       "3"
      ]
     },
     "execution_count": 37,
     "metadata": {},
     "output_type": "execute_result"
    }
   ],
   "source": [
    "A = [-1, 0, 0, 0, 3]\n",
    "sol = Solution()\n",
    "sol.solve(A)"
   ]
  },
  {
   "cell_type": "code",
   "execution_count": 38,
   "metadata": {},
   "outputs": [
    {
     "data": {
      "text/plain": [
       "0"
      ]
     },
     "execution_count": 38,
     "metadata": {},
     "output_type": "execute_result"
    }
   ],
   "source": [
    "A = [-1]\n",
    "sol = Solution()\n",
    "sol.solve(A)"
   ]
  }
 ],
 "metadata": {
  "kernelspec": {
   "display_name": "dsa-venv",
   "language": "python",
   "name": "python3"
  },
  "language_info": {
   "codemirror_mode": {
    "name": "ipython",
    "version": 3
   },
   "file_extension": ".py",
   "mimetype": "text/x-python",
   "name": "python",
   "nbconvert_exporter": "python",
   "pygments_lexer": "ipython3",
   "version": "3.11.3"
  }
 },
 "nbformat": 4,
 "nbformat_minor": 2
}
