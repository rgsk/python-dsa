{
 "cells": [
  {
   "cell_type": "code",
   "execution_count": 13,
   "metadata": {},
   "outputs": [],
   "source": [
    "# https://www.interviewbit.com/problems/two-teams/"
   ]
  },
  {
   "cell_type": "code",
   "execution_count": 14,
   "metadata": {},
   "outputs": [],
   "source": [
    "import sys\n",
    "sys.setrecursionlimit(10**6)\n",
    "\n",
    "class Solution:\n",
    "    # @param A : integer\n",
    "    # @param B : list of list of integers\n",
    "    # @return an integer\n",
    "    def solve(self, A, B):\n",
    "        colors = [-1 for _ in range(A + 1)]\n",
    "        visited = [False for _ in range(A + 1)]\n",
    "        edges = [[] for _ in range(A + 1)]\n",
    "        for s, d in B:\n",
    "            edges[s].append(d)\n",
    "            edges[d].append(s)\n",
    "\n",
    "        def dfs(node, col):\n",
    "            visited[node] = True\n",
    "            colors[node] = col\n",
    "            for child in edges[node]:\n",
    "                if colors[child] == col:\n",
    "                    return True\n",
    "                if not visited[child]:\n",
    "                    if dfs(child, not col):\n",
    "                        return True\n",
    "            return False\n",
    "        for node in range(1, A + 1):\n",
    "            if not visited[node]:\n",
    "                if dfs(node, 0):\n",
    "                    return 0\n",
    "        return 1\n",
    "                    "
   ]
  },
  {
   "cell_type": "code",
   "execution_count": 15,
   "metadata": {},
   "outputs": [
    {
     "data": {
      "text/plain": [
       "1"
      ]
     },
     "execution_count": 15,
     "metadata": {},
     "output_type": "execute_result"
    }
   ],
   "source": [
    "A = 5\n",
    "B = [\n",
    "    [1, 2],\n",
    "    [2, 3],\n",
    "    [1, 5],\n",
    "    [2, 4]\n",
    "]\n",
    "sol = Solution()\n",
    "sol.solve(A, B)"
   ]
  },
  {
   "cell_type": "code",
   "execution_count": 16,
   "metadata": {},
   "outputs": [
    {
     "data": {
      "text/plain": [
       "0"
      ]
     },
     "execution_count": 16,
     "metadata": {},
     "output_type": "execute_result"
    }
   ],
   "source": [
    "A = 4\n",
    "B = [\n",
    "    [1, 4],\n",
    "    [3, 1],\n",
    "    [4, 3],\n",
    "    [2, 1]\n",
    "]\n",
    "sol = Solution()\n",
    "sol.solve(A, B)"
   ]
  }
 ],
 "metadata": {
  "kernelspec": {
   "display_name": "dsa-venv",
   "language": "python",
   "name": "python3"
  },
  "language_info": {
   "codemirror_mode": {
    "name": "ipython",
    "version": 3
   },
   "file_extension": ".py",
   "mimetype": "text/x-python",
   "name": "python",
   "nbconvert_exporter": "python",
   "pygments_lexer": "ipython3",
   "version": "3.11.3"
  }
 },
 "nbformat": 4,
 "nbformat_minor": 2
}
