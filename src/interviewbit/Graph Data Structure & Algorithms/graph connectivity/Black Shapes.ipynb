{
 "cells": [
  {
   "cell_type": "code",
   "execution_count": 4,
   "metadata": {},
   "outputs": [],
   "source": [
    "# https://www.interviewbit.com/problems/black-shapes/"
   ]
  },
  {
   "cell_type": "code",
   "execution_count": 5,
   "metadata": {},
   "outputs": [],
   "source": [
    "class Solution:\n",
    "    # @param A : list of strings\n",
    "    # @return an integer\n",
    "    def black(self, A):\n",
    "        rows = len(A)\n",
    "        cols = len(A[0])\n",
    "        for i in range(rows):\n",
    "            A[i] = [c for c in A[i]]\n",
    "        def dfs(r, c):\n",
    "            if r < 0 or c < 0 or r >= rows or c >= cols or A[r][c] != 'X':\n",
    "                return\n",
    "            A[r][c] = 'A'\n",
    "            dfs(r-1, c)\n",
    "            dfs(r+1, c)\n",
    "            dfs(r, c+1)\n",
    "            dfs(r, c-1)\n",
    "        count = 0\n",
    "        for r in range(rows):\n",
    "            for c in range(cols):\n",
    "                if A[r][c] == 'X':\n",
    "                    dfs(r, c)\n",
    "                    count += 1\n",
    "        return count"
   ]
  },
  {
   "cell_type": "code",
   "execution_count": 6,
   "metadata": {},
   "outputs": [
    {
     "data": {
      "text/plain": [
       "3"
      ]
     },
     "execution_count": 6,
     "metadata": {},
     "output_type": "execute_result"
    }
   ],
   "source": [
    "A = [\"OOOXOOO\",\n",
    "     \"OOXXOXO\",\n",
    "     \"OXOOOXO\",]\n",
    "sol = Solution()\n",
    "sol.black(A)"
   ]
  }
 ],
 "metadata": {
  "kernelspec": {
   "display_name": "dsa-venv",
   "language": "python",
   "name": "python3"
  },
  "language_info": {
   "codemirror_mode": {
    "name": "ipython",
    "version": 3
   },
   "file_extension": ".py",
   "mimetype": "text/x-python",
   "name": "python",
   "nbconvert_exporter": "python",
   "pygments_lexer": "ipython3",
   "version": "3.11.3"
  }
 },
 "nbformat": 4,
 "nbformat_minor": 2
}
