{
 "cells": [
  {
   "cell_type": "code",
   "execution_count": 25,
   "metadata": {},
   "outputs": [],
   "source": [
    "# https://www.interviewbit.com/problems/commutable-islands/"
   ]
  },
  {
   "cell_type": "code",
   "execution_count": 26,
   "metadata": {},
   "outputs": [],
   "source": [
    "import heapq\n",
    "\n",
    "# Prims algorithm\n",
    "class Solution:\n",
    "    # @param A : integer\n",
    "    # @param B : list of list of integers\n",
    "    # @return an integer\n",
    "    def solve(self, A, B):\n",
    "        adjList = [[] for _ in range(A + 1)]\n",
    "        for edge in B:\n",
    "            adjList[edge[0]].append([edge[1], edge[2]])\n",
    "            adjList[edge[1]].append([edge[0], edge[2]])\n",
    "        heap = [(0, 1)]\n",
    "        visited = [False for _ in range(A + 1)]\n",
    "        total_weight = 0\n",
    "        while heap:\n",
    "            node_weight, node = heapq.heappop(heap)\n",
    "\n",
    "            if visited[node]:\n",
    "                continue\n",
    "\n",
    "            total_weight += node_weight\n",
    "            visited[node] = True\n",
    "                 \n",
    "            for child, child_weight in adjList[node]:\n",
    "                if not visited[child]:\n",
    "                    heapq.heappush(heap, (child_weight, child))\n",
    "        return total_weight"
   ]
  },
  {
   "cell_type": "code",
   "execution_count": 27,
   "metadata": {},
   "outputs": [],
   "source": [
    "# Kruskals\n",
    "\n",
    "class DisjointSet:\n",
    "    def __init__(self, n):\n",
    "        # Initialize the disjoint set with n elements.\n",
    "        self.parent = list(range(n))\n",
    "        self.size = [1] * n\n",
    "\n",
    "    def findParent(self, node):\n",
    "        # Find the representative (root) of the set to which the node belongs.\n",
    "        if self.parent[node] == node:\n",
    "            return node\n",
    "        # Path compression: Update the parent of the node to the representative.\n",
    "        self.parent[node] = self.findParent(self.parent[node])\n",
    "        return self.parent[node]\n",
    "\n",
    "    # works\n",
    "    def unionBySize(self, node1, node2):\n",
    "        root1 = self.findParent(node1)\n",
    "        root2 = self.findParent(node2)\n",
    "        if root1 != root2:\n",
    "            if self.size[root1] >= self.size[root2]:\n",
    "                self.parent[root2] = root1\n",
    "                self.size[root1] += self.size[root2]\n",
    "            else:\n",
    "                self.parent[root1] = root2\n",
    "                self.size[root2] += self.size[root1]\n",
    "\n",
    "class Solution:\n",
    "    \n",
    "    #Function to find sum of weights of edges of the Minimum Spanning Tree.\n",
    "    def solve(self, A, B):\n",
    "        B.sort(key=lambda p : p[2])\n",
    "        ds = DisjointSet(A + 1)\n",
    "\n",
    "        total_weight = 0\n",
    "        for u, v, weight in B:\n",
    "            if ds.findParent(u) != ds.findParent(v):\n",
    "                total_weight += weight\n",
    "                ds.unionBySize(u, v)\n",
    "        return total_weight"
   ]
  },
  {
   "cell_type": "code",
   "execution_count": 28,
   "metadata": {},
   "outputs": [
    {
     "data": {
      "text/plain": [
       "6"
      ]
     },
     "execution_count": 28,
     "metadata": {},
     "output_type": "execute_result"
    }
   ],
   "source": [
    "A = 4\n",
    "B = [[1, 2, 1],\n",
    "     [2, 3, 4],\n",
    "     [1, 4, 3],\n",
    "     [4, 3, 2],\n",
    "     [1, 3, 10],]\n",
    "sol = Solution()\n",
    "sol.solve(A, B)"
   ]
  },
  {
   "cell_type": "code",
   "execution_count": 29,
   "metadata": {},
   "outputs": [
    {
     "data": {
      "text/plain": [
       "6"
      ]
     },
     "execution_count": 29,
     "metadata": {},
     "output_type": "execute_result"
    }
   ],
   "source": [
    "A = 4\n",
    "B = [[1, 2, 1],\n",
    "     [2, 3, 2],\n",
    "     [3, 4, 4],\n",
    "     [1, 4, 3],]\n",
    "sol = Solution()\n",
    "sol.solve(A, B)"
   ]
  }
 ],
 "metadata": {
  "kernelspec": {
   "display_name": "dsa-venv",
   "language": "python",
   "name": "python3"
  },
  "language_info": {
   "codemirror_mode": {
    "name": "ipython",
    "version": 3
   },
   "file_extension": ".py",
   "mimetype": "text/x-python",
   "name": "python",
   "nbconvert_exporter": "python",
   "pygments_lexer": "ipython3",
   "version": "3.11.3"
  }
 },
 "nbformat": 4,
 "nbformat_minor": 2
}
