{
 "cells": [
  {
   "cell_type": "code",
   "execution_count": 17,
   "metadata": {},
   "outputs": [],
   "source": [
    "# https://www.interviewbit.com/problems/mother-vertex/"
   ]
  },
  {
   "cell_type": "code",
   "execution_count": 18,
   "metadata": {},
   "outputs": [],
   "source": [
    "import sys\n",
    "sys.setrecursionlimit(10**6)\n",
    "\n",
    "class Solution:\n",
    "    # @param A : integer\n",
    "    # @param B : list of list of integers\n",
    "    # @return an integer\n",
    "    def motherVertex(self, A, B):\n",
    "        visited = [False] * (A + 1)\n",
    "        edges = [[] for _ in range(A + 1)]\n",
    "        for s, d in B:\n",
    "            edges[s].append(d)\n",
    "        def dfs(node):\n",
    "            visited[node] = True\n",
    "            for child in edges[node]:\n",
    "                if not visited[child]:\n",
    "                    dfs(child)\n",
    "        last = None\n",
    "        for node in range(1, A + 1):\n",
    "            if not visited[node]:\n",
    "                dfs(node)\n",
    "                last = node\n",
    "        visited = [False] * (A + 1)\n",
    "        dfs(last)\n",
    "        visited.pop(0) # removing 0th node as it doesn't matters\n",
    "        if all(visited):\n",
    "            return 1\n",
    "        return 0"
   ]
  },
  {
   "cell_type": "code",
   "execution_count": 19,
   "metadata": {},
   "outputs": [
    {
     "data": {
      "text/plain": [
       "0"
      ]
     },
     "execution_count": 19,
     "metadata": {},
     "output_type": "execute_result"
    }
   ],
   "source": [
    "A = 3\n",
    "B = [[1, 3], [2, 3], [1, 3]]\n",
    "sol = Solution()\n",
    "sol.motherVertex(A, B)"
   ]
  },
  {
   "cell_type": "code",
   "execution_count": 20,
   "metadata": {},
   "outputs": [
    {
     "data": {
      "text/plain": [
       "1"
      ]
     },
     "execution_count": 20,
     "metadata": {},
     "output_type": "execute_result"
    }
   ],
   "source": [
    "A = 3\n",
    "B = [[1, 3], [2, 3], [3, 2]]\n",
    "sol = Solution()\n",
    "sol.motherVertex(A, B)"
   ]
  }
 ],
 "metadata": {
  "kernelspec": {
   "display_name": "dsa-venv",
   "language": "python",
   "name": "python3"
  },
  "language_info": {
   "codemirror_mode": {
    "name": "ipython",
    "version": 3
   },
   "file_extension": ".py",
   "mimetype": "text/x-python",
   "name": "python",
   "nbconvert_exporter": "python",
   "pygments_lexer": "ipython3",
   "version": "3.11.3"
  }
 },
 "nbformat": 4,
 "nbformat_minor": 2
}
