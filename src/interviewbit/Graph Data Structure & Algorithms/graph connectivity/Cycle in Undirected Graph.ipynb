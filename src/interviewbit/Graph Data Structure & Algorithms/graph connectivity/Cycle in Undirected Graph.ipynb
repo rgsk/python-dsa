{
 "cells": [
  {
   "cell_type": "code",
   "execution_count": 4,
   "metadata": {},
   "outputs": [],
   "source": [
    "class Solution:\n",
    "    # @param A : integer\n",
    "    # @param B : list of list of integers\n",
    "    # @return an integer\n",
    "    def solve(self, A, B):\n",
    "        edges = [[] for _ in range(A + 1)]\n",
    "        for s, d in B:\n",
    "            edges[s].append(d)\n",
    "            edges[d].append(s)\n",
    "        visited = [False] * (A + 1)\n",
    "        def dfs(node, parent):\n",
    "            visited[node] = True\n",
    "            for child in edges[node]:\n",
    "                if child != parent:\n",
    "                    if visited[child]:\n",
    "                        return True\n",
    "                    if dfs(child, node):\n",
    "                        return True\n",
    "            return False\n",
    "        for node in range(1, A + 1):\n",
    "            if not visited[node]:\n",
    "                if dfs(node, -1):\n",
    "                    return 1\n",
    "        return 0"
   ]
  },
  {
   "cell_type": "code",
   "execution_count": 5,
   "metadata": {},
   "outputs": [
    {
     "data": {
      "text/plain": [
       "1"
      ]
     },
     "execution_count": 5,
     "metadata": {},
     "output_type": "execute_result"
    }
   ],
   "source": [
    "A = 5\n",
    "B = [[1, 2],\n",
    "     [1, 3],\n",
    "     [2, 3],\n",
    "     [1, 4],\n",
    "     [4, 5],\n",
    "     ]\n",
    "sol = Solution()\n",
    "sol.solve(A, B)"
   ]
  },
  {
   "cell_type": "code",
   "execution_count": 6,
   "metadata": {},
   "outputs": [
    {
     "data": {
      "text/plain": [
       "0"
      ]
     },
     "execution_count": 6,
     "metadata": {},
     "output_type": "execute_result"
    }
   ],
   "source": [
    "A = 3\n",
    "B = [[1, 2],\n",
    "     [1, 3],\n",
    "     ]\n",
    "sol = Solution()\n",
    "sol.solve(A, B)"
   ]
  }
 ],
 "metadata": {
  "kernelspec": {
   "display_name": "dsa-venv",
   "language": "python",
   "name": "python3"
  },
  "language_info": {
   "codemirror_mode": {
    "name": "ipython",
    "version": 3
   },
   "file_extension": ".py",
   "mimetype": "text/x-python",
   "name": "python",
   "nbconvert_exporter": "python",
   "pygments_lexer": "ipython3",
   "version": "3.11.3"
  }
 },
 "nbformat": 4,
 "nbformat_minor": 2
}
