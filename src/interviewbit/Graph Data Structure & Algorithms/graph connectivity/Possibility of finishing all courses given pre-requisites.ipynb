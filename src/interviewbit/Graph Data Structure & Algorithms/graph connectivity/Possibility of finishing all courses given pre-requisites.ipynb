{
 "cells": [
  {
   "cell_type": "code",
   "execution_count": 1,
   "metadata": {},
   "outputs": [],
   "source": [
    "# https://www.interviewbit.com/problems/possibility-of-finishing-all-courses-given-prerequisites/"
   ]
  },
  {
   "cell_type": "code",
   "execution_count": 2,
   "metadata": {},
   "outputs": [],
   "source": [
    "import sys\n",
    "sys.setrecursionlimit(10**6)\n",
    "\n",
    "class Solution:\n",
    "# code from detect cycle in directed graph\n",
    "    # @param A : integer\n",
    "    # @param B : list of list of integers\n",
    "    # @return an integer\n",
    "    def cycleInDirectedGraph(self, A, B):\n",
    "        adj = [[] for _ in range(A + 1)]\n",
    "        for s, d in B:\n",
    "            adj[s].append(d)\n",
    "        visited = [False] * (A + 1)\n",
    "        marked = [False] * (A + 1)\n",
    "        def dfs(node):\n",
    "            visited[node] = True\n",
    "            for child in adj[node]:\n",
    "                if marked[child]:\n",
    "                    return True\n",
    "                if not visited[child]:\n",
    "                    marked[child] = True\n",
    "                    if dfs(child):\n",
    "                        return True\n",
    "                    marked[child] = False\n",
    "            return False\n",
    "        for node in range(1, A + 1):\n",
    "            if not visited[node]:\n",
    "                marked[node] = True\n",
    "                if dfs(node):\n",
    "                    return 1\n",
    "                marked[node] = False\n",
    "        return 0\n",
    "\n",
    "    # @param A : integer\n",
    "    # @param B : list of integers\n",
    "    # @param C : list of integers\n",
    "    # @return an integer\n",
    "    def solve(self, A, B, C):\n",
    "        edges = []\n",
    "        for i in range(len(B)):\n",
    "            edges.append([B[i], C[i]])\n",
    "        cycleExists = self.cycleInDirectedGraph(A, edges)\n",
    "        if cycleExists:\n",
    "            return 0\n",
    "        return 1"
   ]
  },
  {
   "cell_type": "code",
   "execution_count": 3,
   "metadata": {},
   "outputs": [
    {
     "data": {
      "text/plain": [
       "0"
      ]
     },
     "execution_count": 3,
     "metadata": {},
     "output_type": "execute_result"
    }
   ],
   "source": [
    "A = 3\n",
    "B = [1, 2]\n",
    "C = [2, 3]\n",
    "sol = Solution()\n",
    "sol.solve(A, B, C)"
   ]
  },
  {
   "cell_type": "code",
   "execution_count": 4,
   "metadata": {},
   "outputs": [
    {
     "data": {
      "text/plain": [
       "1"
      ]
     },
     "execution_count": 4,
     "metadata": {},
     "output_type": "execute_result"
    }
   ],
   "source": [
    "A = 2\n",
    "B = [1, 2]\n",
    "C = [2, 1]\n",
    "sol = Solution()\n",
    "sol.solve(A, B, C)"
   ]
  }
 ],
 "metadata": {
  "kernelspec": {
   "display_name": "dsa-venv",
   "language": "python",
   "name": "python3"
  },
  "language_info": {
   "codemirror_mode": {
    "name": "ipython",
    "version": 3
   },
   "file_extension": ".py",
   "mimetype": "text/x-python",
   "name": "python",
   "nbconvert_exporter": "python",
   "pygments_lexer": "ipython3",
   "version": "3.11.3"
  }
 },
 "nbformat": 4,
 "nbformat_minor": 2
}
