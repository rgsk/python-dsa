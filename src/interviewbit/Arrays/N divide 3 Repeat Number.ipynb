{
 "cells": [
  {
   "cell_type": "code",
   "execution_count": 17,
   "metadata": {},
   "outputs": [],
   "source": [
    "# https://www.interviewbit.com/problems/n3-repeat-number/"
   ]
  },
  {
   "cell_type": "code",
   "execution_count": 18,
   "metadata": {},
   "outputs": [],
   "source": [
    "from collections import defaultdict\n",
    "\n",
    "\n",
    "class Solution:\n",
    "    # @param A : tuple of integers\n",
    "    # @return an integer\n",
    "    def repeatedNumber(self, A):\n",
    "        n = len(A)\n",
    "        mp = defaultdict(int)\n",
    "        for v in A:\n",
    "            mp[v] += 1\n",
    "        threshold = n // 3\n",
    "\n",
    "        for k in mp:\n",
    "            if mp[k] > threshold:\n",
    "                return k\n",
    "        return -1"
   ]
  },
  {
   "cell_type": "code",
   "execution_count": 19,
   "metadata": {},
   "outputs": [],
   "source": [
    "class Solution:\n",
    "    # @param A : tuple of integers\n",
    "    # @return an integer\n",
    "    def repeatedNumber(self, A):\n",
    "        n = len(A)\n",
    "        threshold = n // 3\n",
    "        for i in range(n):\n",
    "            count = 0\n",
    "            for j in range(n):\n",
    "                if A[j] == A[i]:\n",
    "                    count += 1\n",
    "            if count > threshold:\n",
    "                return A[i]\n",
    "        return -1"
   ]
  },
  {
   "cell_type": "code",
   "execution_count": 20,
   "metadata": {},
   "outputs": [],
   "source": [
    "class Solution:\n",
    "    # @param A : tuple of integers\n",
    "    # @return an integer\n",
    "    def repeatedNumber(self, A):\n",
    "        n = len(A)\n",
    "        A = sorted(A)\n",
    "        cur = A[0]\n",
    "        cur_count = 1\n",
    "        for i in range(1, n):\n",
    "            if A[i] == cur:\n",
    "                cur_count += 1\n",
    "            else:\n",
    "                if cur_count > n // 3:\n",
    "                    return cur\n",
    "                cur = A[i]\n",
    "                cur_count = 1\n",
    "\n",
    "        # below if condition to cover the case if we reach else for last element\n",
    "        if cur_count > n // 3:\n",
    "            return cur\n",
    "        return -1"
   ]
  },
  {
   "cell_type": "code",
   "execution_count": 21,
   "metadata": {},
   "outputs": [],
   "source": [
    "# think of single bucket required for finding the element having count > n//2\n",
    "\n",
    "class Solution:\n",
    "    # @param A : tuple of integers\n",
    "    # @return an integer\n",
    "    def repeatedNumber(self, A):\n",
    "        n = len(A)\n",
    "        threshold = n // 3\n",
    "        x = 0\n",
    "        y = 0\n",
    "        x_count = 0\n",
    "        y_count = 0\n",
    "        for v in A:\n",
    "            if v == x:\n",
    "                x_count += 1\n",
    "            elif v == y:\n",
    "                y_count += 1\n",
    "            elif x_count == 0:\n",
    "                x = v\n",
    "                x_count = 1\n",
    "            elif y_count == 0:\n",
    "                y = v\n",
    "                y_count = 1\n",
    "            else:\n",
    "                x_count -= 1\n",
    "                y_count -= 1\n",
    "        x_count = 0\n",
    "        y_count = 0\n",
    "        for v in A:\n",
    "            if v == x:\n",
    "                x_count += 1\n",
    "            elif v == y:\n",
    "                y_count += 1\n",
    "        if x_count > threshold:\n",
    "            return x\n",
    "        if y_count > threshold:\n",
    "            return y\n",
    "        return -1"
   ]
  },
  {
   "cell_type": "code",
   "execution_count": 22,
   "metadata": {},
   "outputs": [
    {
     "data": {
      "text/plain": [
       "1"
      ]
     },
     "execution_count": 22,
     "metadata": {},
     "output_type": "execute_result"
    }
   ],
   "source": [
    "A = [1, 2, 3, 1, 1]\n",
    "sol = Solution()\n",
    "sol.repeatedNumber(A)"
   ]
  }
 ],
 "metadata": {
  "kernelspec": {
   "display_name": "dsa-venv",
   "language": "python",
   "name": "python3"
  },
  "language_info": {
   "codemirror_mode": {
    "name": "ipython",
    "version": 3
   },
   "file_extension": ".py",
   "mimetype": "text/x-python",
   "name": "python",
   "nbconvert_exporter": "python",
   "pygments_lexer": "ipython3",
   "version": "3.11.3"
  }
 },
 "nbformat": 4,
 "nbformat_minor": 2
}
