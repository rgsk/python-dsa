{
 "cells": [
  {
   "cell_type": "code",
   "execution_count": 1,
   "metadata": {},
   "outputs": [],
   "source": [
    "class Solution:\n",
    "    # @param A : list of integers\n",
    "    # @param B : list of integers\n",
    "    # @return a list of integers\n",
    "    def addArrays(self, A, B):\n",
    "        if len(A) <= len(B):\n",
    "            A = [0 for _ in range(0,len(B)-len(A))] + A\n",
    "            rem = 0\n",
    "            for i in range(len(A)-1, -1, -1):\n",
    "                A[i] = A[i] + B[i] + rem\n",
    "                rem = 0\n",
    "                if (A[i] >= 10):\n",
    "                    A[i] = A[i]%10\n",
    "                    rem = 1\n",
    "            if rem:\n",
    "                A = [1] + A\n",
    "            return A\n",
    "        return self.addArrays(B,A)"
   ]
  },
  {
   "cell_type": "code",
   "execution_count": 2,
   "metadata": {},
   "outputs": [
    {
     "name": "stdout",
     "output_type": "stream",
     "text": [
      "[4, 3, 6, 8, 0, 6, 7, 6, 7]\n"
     ]
    }
   ],
   "source": [
    "sol = Solution()\n",
    "A = [4, 3, 6, 7, 9, 9, 1, 7, 8 ]\n",
    "B = [7, 5, 8, 9]\n",
    "print(sol.addArrays(A, B))"
   ]
  }
 ],
 "metadata": {
  "kernelspec": {
   "display_name": "template-venv",
   "language": "python",
   "name": "python3"
  },
  "language_info": {
   "codemirror_mode": {
    "name": "ipython",
    "version": 3
   },
   "file_extension": ".py",
   "mimetype": "text/x-python",
   "name": "python",
   "nbconvert_exporter": "python",
   "pygments_lexer": "ipython3",
   "version": "3.11.3"
  },
  "orig_nbformat": 4
 },
 "nbformat": 4,
 "nbformat_minor": 2
}
