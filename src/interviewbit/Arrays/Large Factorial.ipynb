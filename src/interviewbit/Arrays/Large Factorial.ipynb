{
 "cells": [
  {
   "cell_type": "code",
   "execution_count": 61,
   "metadata": {},
   "outputs": [],
   "source": [
    "# https://www.interviewbit.com/problems/large-factorial/\n",
    "\n",
    "# Given a number A. Find the fatorial of the number.\n",
    "# a: str, integer:int\n",
    "def multiplyStrWithInt(a, integer):\n",
    "    # b should be single digit\n",
    "    remainder = 0\n",
    "    n = len(a)\n",
    "    ans = \"\"\n",
    "    for i in range(n-1, -1, -1):\n",
    "        mul = int(a[i]) * integer + remainder\n",
    "        ans = str(mul % 10) + ans\n",
    "        remainder = mul // 10\n",
    "    if remainder > 0:\n",
    "         ans = str(remainder) + ans\n",
    "    return ans\n",
    "\n",
    "\n",
    "\n",
    "class Solution:\n",
    "    # @param A : integer\n",
    "    # @return a strings\n",
    "    def solve(self, A):\n",
    "        ans = \"1\"\n",
    "        while A > 1:\n",
    "            ans = multiplyStrWithInt(ans, A)\n",
    "            A -= 1\n",
    "        return ans"
   ]
  },
  {
   "cell_type": "code",
   "execution_count": 63,
   "metadata": {},
   "outputs": [
    {
     "name": "stdout",
     "output_type": "stream",
     "text": [
      "6\n"
     ]
    }
   ],
   "source": [
    "sol = Solution()\n",
    "A = 3\n",
    "print(sol.solve(A))"
   ]
  },
  {
   "cell_type": "code",
   "execution_count": 64,
   "metadata": {},
   "outputs": [
    {
     "name": "stdout",
     "output_type": "stream",
     "text": [
      "93326215443944152681699238856266700490715968264381621468592963895217599993229915608941463976156518286253697920827223758251185210916864000000000000000000000000\n"
     ]
    }
   ],
   "source": [
    "sol = Solution()\n",
    "A = 100\n",
    "print(sol.solve(A))"
   ]
  }
 ],
 "metadata": {
  "kernelspec": {
   "display_name": "Python 3.10.4 ('template-venv': venv)",
   "language": "python",
   "name": "python3"
  },
  "language_info": {
   "codemirror_mode": {
    "name": "ipython",
    "version": 3
   },
   "file_extension": ".py",
   "mimetype": "text/x-python",
   "name": "python",
   "nbconvert_exporter": "python",
   "pygments_lexer": "ipython3",
   "version": "3.10.4"
  },
  "orig_nbformat": 4,
  "vscode": {
   "interpreter": {
    "hash": "0b8dd1d11c220dfc9d15848c82c145ba1a021fcb056c07a0cc073ae3ed6d8420"
   }
  }
 },
 "nbformat": 4,
 "nbformat_minor": 2
}
