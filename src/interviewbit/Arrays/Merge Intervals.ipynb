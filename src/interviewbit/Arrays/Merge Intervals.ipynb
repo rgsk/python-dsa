{
 "cells": [
  {
   "cell_type": "code",
   "execution_count": 10,
   "metadata": {},
   "outputs": [],
   "source": [
    "# Definition for an interval.\n",
    "class Interval:\n",
    "    def __init__(self, s=0, e=0):\n",
    "        self.start = s\n",
    "        self.end = e\n",
    "\n",
    "    def __repr__(self) -> str:\n",
    "        return str([self.start, self.end])\n",
    "\n",
    "class Solution:\n",
    "    # @param intervals, a list of Intervals\n",
    "    # @param new_interval, a Interval\n",
    "    # @return a list of Interval\n",
    "    def insert(self, intervals, new_interval):\n",
    "        i = 0\n",
    "        if new_interval.start > new_interval.end:\n",
    "            new_interval = Interval(new_interval.end, new_interval.start)\n",
    "        new_s = new_interval.start\n",
    "        new_e = new_interval.end\n",
    "        while i < len(intervals) and new_interval.start > intervals[i].end:\n",
    "            i+= 1\n",
    "        if i < len(intervals):\n",
    "            new_s = min(new_interval.start, intervals[i].start)\n",
    "        j = i\n",
    "        while j < len(intervals) and new_interval.end > intervals[j].end:\n",
    "            j+= 1\n",
    "        if j < len(intervals) and new_interval.end < intervals[j].start:\n",
    "            j -=1\n",
    "        if j < len(intervals) and new_interval.end > intervals[j].start:\n",
    "            new_e = max(new_interval.end, intervals[j].end)\n",
    "        interv = Interval(new_s,new_e)\n",
    "        for k in range(i, j+1):\n",
    "            if i < len(intervals):\n",
    "                del intervals[i]\n",
    "        intervals.insert(i, interv)\n",
    "        \n",
    "        return intervals "
   ]
  },
  {
   "cell_type": "code",
   "execution_count": 11,
   "metadata": {},
   "outputs": [
    {
     "name": "stdout",
     "output_type": "stream",
     "text": [
      "[[1, 5], [6, 9]]\n"
     ]
    }
   ],
   "source": [
    "intervals = [Interval(1, 3), Interval(6, 9)]\n",
    "new_interval = Interval(2, 5)\n",
    "sol = Solution()\n",
    "print(sol.insert(intervals, new_interval))"
   ]
  },
  {
   "cell_type": "code",
   "execution_count": 12,
   "metadata": {},
   "outputs": [
    {
     "name": "stdout",
     "output_type": "stream",
     "text": [
      "[[1, 2], [3, 10], [12, 16]]\n"
     ]
    }
   ],
   "source": [
    "intervals = [Interval(1, 2), Interval(3, 5), Interval(6, 7), Interval(8, 10), Interval(12, 16)]\n",
    "new_interval = Interval(4, 9)\n",
    "sol = Solution()\n",
    "print(sol.insert(intervals, new_interval))"
   ]
  }
 ],
 "metadata": {
  "kernelspec": {
   "display_name": "Python 3.10.4 ('template-venv': venv)",
   "language": "python",
   "name": "python3"
  },
  "language_info": {
   "codemirror_mode": {
    "name": "ipython",
    "version": 3
   },
   "file_extension": ".py",
   "mimetype": "text/x-python",
   "name": "python",
   "nbconvert_exporter": "python",
   "pygments_lexer": "ipython3",
   "version": "3.10.4"
  },
  "orig_nbformat": 4,
  "vscode": {
   "interpreter": {
    "hash": "0b8dd1d11c220dfc9d15848c82c145ba1a021fcb056c07a0cc073ae3ed6d8420"
   }
  }
 },
 "nbformat": 4,
 "nbformat_minor": 2
}
