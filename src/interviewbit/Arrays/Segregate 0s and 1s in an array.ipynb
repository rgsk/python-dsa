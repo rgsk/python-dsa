{
 "cells": [
  {
   "cell_type": "code",
   "execution_count": 35,
   "metadata": {},
   "outputs": [],
   "source": [
    "class Solution:\n",
    "    # @param A : list of integers\n",
    "    # @return a list of integers\n",
    "    def solve(self, A):\n",
    "        zeroes_count = 0\n",
    "        for i in range(len(A)):\n",
    "            if A[i] == 0:\n",
    "                zeroes_count += 1\n",
    "        for i in range(zeroes_count):\n",
    "            A[i] = 0\n",
    "        for i in range(zeroes_count, len(A)):\n",
    "            A[i] = 1\n",
    "        return A"
   ]
  },
  {
   "cell_type": "code",
   "execution_count": 36,
   "metadata": {},
   "outputs": [],
   "source": [
    "class Solution:\n",
    "    # @param A : list of integers\n",
    "    # @return a list of integers\n",
    "    def solve(self, A):\n",
    "        left = 0\n",
    "        for i in range(len(A)):\n",
    "            if A[i] == 0:\n",
    "                A[left] = 0\n",
    "                left += 1\n",
    "        for i in range(left, len(A)):\n",
    "            A[i] = 1\n",
    "        return A"
   ]
  },
  {
   "cell_type": "code",
   "execution_count": 37,
   "metadata": {},
   "outputs": [],
   "source": [
    "class Solution:\n",
    "    # @param A : list of integers\n",
    "    # @return a list of integers\n",
    "    def solve(self, A):\n",
    "        left = 0\n",
    "        right = len(A) - 1\n",
    "        zero_on_right = False\n",
    "        while left < right:\n",
    "            if A[left] == 1:\n",
    "                if zero_on_right:\n",
    "                    A[left] = 0\n",
    "                    A[right] = 1\n",
    "\n",
    "                    left += 1\n",
    "                    right -= 1\n",
    "                    zero_on_right = False\n",
    "            else: \n",
    "                left += 1\n",
    "            if A[right] == 0:\n",
    "                zero_on_right = True\n",
    "            else:\n",
    "                right -= 1\n",
    "        return A\n"
   ]
  },
  {
   "cell_type": "code",
   "execution_count": 38,
   "metadata": {},
   "outputs": [],
   "source": [
    "class Solution:\n",
    "    # @param A : list of integers\n",
    "    # @return a list of integers\n",
    "    def solve(self, A):\n",
    "        '''\n",
    "        Two pointers - one at the start and one at the end\n",
    "        We will move the start point towards the end (right) \n",
    "        and the end pointer towards the start(left).\n",
    "        All the 0s should be in the first part and 1s at the end.\n",
    "        So, we move the start pointer till we see a 1 and move \n",
    "        the end pointer till we see a 0. These two will be swapped.\n",
    "        This process is continued till the two pointers reach each other\n",
    "        '''\n",
    "        start, end = 0, len(A) - 1\n",
    "        while start < end:\n",
    "            # Move the start pointer right till we see 1.\n",
    "            while start < end and A[start] == 0:\n",
    "                start += 1\n",
    "            # Move the end pointer left till we see 0.\n",
    "            while start < end and A[end] == 1:\n",
    "                end -= 1\n",
    "            # If the pointers have not reached each other, swap the items\n",
    "            A[start], A[end] = A[end], A[start]\n",
    "            start += 1\n",
    "            end -= 1\n",
    "        return A"
   ]
  },
  {
   "cell_type": "code",
   "execution_count": 39,
   "metadata": {},
   "outputs": [
    {
     "data": {
      "text/plain": [
       "[0, 0, 1]"
      ]
     },
     "execution_count": 39,
     "metadata": {},
     "output_type": "execute_result"
    }
   ],
   "source": [
    "A = [0, 1, 0]\n",
    "sol = Solution()\n",
    "sol.solve(A)"
   ]
  },
  {
   "cell_type": "code",
   "execution_count": 40,
   "metadata": {},
   "outputs": [
    {
     "data": {
      "text/plain": [
       "[0, 0, 0, 1, 1, 1]"
      ]
     },
     "execution_count": 40,
     "metadata": {},
     "output_type": "execute_result"
    }
   ],
   "source": [
    "A = [0, 1, 0, 1, 1, 0]\n",
    "sol = Solution()\n",
    "sol.solve(A)"
   ]
  }
 ],
 "metadata": {
  "kernelspec": {
   "display_name": "dsa-venv",
   "language": "python",
   "name": "python3"
  },
  "language_info": {
   "codemirror_mode": {
    "name": "ipython",
    "version": 3
   },
   "file_extension": ".py",
   "mimetype": "text/x-python",
   "name": "python",
   "nbconvert_exporter": "python",
   "pygments_lexer": "ipython3",
   "version": "3.11.3"
  }
 },
 "nbformat": 4,
 "nbformat_minor": 2
}
