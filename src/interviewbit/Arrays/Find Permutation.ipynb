{
 "cells": [
  {
   "cell_type": "code",
   "execution_count": 9,
   "metadata": {},
   "outputs": [],
   "source": [
    "# https://www.interviewbit.com/problems/find-permutation/"
   ]
  },
  {
   "cell_type": "code",
   "execution_count": 10,
   "metadata": {},
   "outputs": [],
   "source": [
    "class Solution:\n",
    "    # @param A : string\n",
    "    # @param B : integer\n",
    "    # @return a list of integers\n",
    "    def findPerm(self, s, n):\n",
    "        min_e = 1\n",
    "        max_e = n\n",
    "        ans = []\n",
    "        for v in s:\n",
    "            if v == 'D':\n",
    "                # next element is smaller\n",
    "                ans.append(max_e)\n",
    "                max_e -= 1\n",
    "            elif v == 'I':\n",
    "                # next element is greater\n",
    "                ans.append(min_e)\n",
    "                min_e += 1\n",
    "\n",
    "        ans.append(min_e)\n",
    "\n",
    "        return ans\n"
   ]
  },
  {
   "cell_type": "code",
   "execution_count": 11,
   "metadata": {},
   "outputs": [
    {
     "data": {
      "text/plain": [
       "[5, 1, 4, 3, 2]"
      ]
     },
     "execution_count": 11,
     "metadata": {},
     "output_type": "execute_result"
    }
   ],
   "source": [
    "n =  5\n",
    "s = 'DIDD'\n",
    "\n",
    "sol = Solution()\n",
    "sol.findPerm(s, n)"
   ]
  },
  {
   "cell_type": "code",
   "execution_count": 12,
   "metadata": {},
   "outputs": [
    {
     "data": {
      "text/plain": [
       "[1, 3, 2]"
      ]
     },
     "execution_count": 12,
     "metadata": {},
     "output_type": "execute_result"
    }
   ],
   "source": [
    "n =  3\n",
    "s = 'ID'\n",
    "\n",
    "sol = Solution()\n",
    "sol.findPerm(s, n)"
   ]
  }
 ],
 "metadata": {
  "kernelspec": {
   "display_name": "dsa-venv",
   "language": "python",
   "name": "python3"
  },
  "language_info": {
   "codemirror_mode": {
    "name": "ipython",
    "version": 3
   },
   "file_extension": ".py",
   "mimetype": "text/x-python",
   "name": "python",
   "nbconvert_exporter": "python",
   "pygments_lexer": "ipython3",
   "version": "3.11.3"
  }
 },
 "nbformat": 4,
 "nbformat_minor": 2
}
