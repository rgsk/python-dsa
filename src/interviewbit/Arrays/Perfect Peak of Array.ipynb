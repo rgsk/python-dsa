{
 "cells": [
  {
   "cell_type": "code",
   "execution_count": 26,
   "metadata": {},
   "outputs": [],
   "source": [
    "class Solution:\n",
    "    # @param A : list of integers\n",
    "    # @return an integer\n",
    "    def perfectPeak(self, A):\n",
    "        for i in range(1, len(A) - 1):\n",
    "            isPeak = True\n",
    "            for j in range(0, i):\n",
    "                if A[i] <= A[j]:\n",
    "                    isPeak = False\n",
    "                    break\n",
    "            for j in range(i+1, len(A)):\n",
    "                if A[i] >= A[j]:\n",
    "                    isPeak = False\n",
    "                    break\n",
    "\n",
    "            if isPeak:\n",
    "                return 1\n",
    "        return 0"
   ]
  },
  {
   "cell_type": "code",
   "execution_count": 27,
   "metadata": {},
   "outputs": [
    {
     "name": "stdout",
     "output_type": "stream",
     "text": [
      "1\n"
     ]
    }
   ],
   "source": [
    "A = [5, 1, 4, 3, 6, 8, 10, 7, 9]\n",
    "sol = Solution()\n",
    "print(sol.perfectPeak(A))"
   ]
  },
  {
   "cell_type": "code",
   "execution_count": 28,
   "metadata": {},
   "outputs": [
    {
     "name": "stdout",
     "output_type": "stream",
     "text": [
      "0\n"
     ]
    }
   ],
   "source": [
    "A = [5, 1, 4, 4]\n",
    "sol = Solution()\n",
    "print(sol.perfectPeak(A))"
   ]
  },
  {
   "cell_type": "code",
   "execution_count": 29,
   "metadata": {},
   "outputs": [],
   "source": [
    "class Solution:\n",
    "    # @param A : list of integers\n",
    "    # @return an integer\n",
    "    def perfectPeak(self, A):\n",
    "        n = len(A)\n",
    "\n",
    "        maxOnLeft = [0 for _ in range(n)]\n",
    "        maxOnLeft[0] = A[0]\n",
    "        for i in range(1, n):\n",
    "            maxOnLeft[i] = max(maxOnLeft[i-1], A[i])\n",
    "\n",
    "        minOnRight = [0 for _ in range(n)]\n",
    "        minOnRight[n-1] = A[n-1]\n",
    "        for i in range(n-2, -1, -1):\n",
    "            minOnRight[i] = min(minOnRight[i+1], A[i])\n",
    "        \n",
    "        for i in range(1, n-1):\n",
    "            if A[i] > maxOnLeft[i-1] and A[i] < minOnRight[i+1]:\n",
    "                return 1\n",
    "\n",
    "        return 0"
   ]
  },
  {
   "cell_type": "code",
   "execution_count": 30,
   "metadata": {},
   "outputs": [
    {
     "name": "stdout",
     "output_type": "stream",
     "text": [
      "1\n"
     ]
    }
   ],
   "source": [
    "A = [5, 1, 4, 3, 6, 8, 10, 7, 9]\n",
    "sol = Solution()\n",
    "print(sol.perfectPeak(A))"
   ]
  },
  {
   "cell_type": "code",
   "execution_count": 31,
   "metadata": {},
   "outputs": [
    {
     "name": "stdout",
     "output_type": "stream",
     "text": [
      "0\n"
     ]
    }
   ],
   "source": [
    "A = [5, 1, 4, 4]\n",
    "sol = Solution()\n",
    "print(sol.perfectPeak(A))"
   ]
  },
  {
   "cell_type": "code",
   "execution_count": 32,
   "metadata": {},
   "outputs": [],
   "source": [
    "class Solution:\n",
    "    # @param A : list of integers\n",
    "    # @return an integer\n",
    "    def perfectPeak(self, A):\n",
    "        n = len(A)\n",
    "\n",
    "        maxOnLeft = A[0]\n",
    "\n",
    "        minOnRight = [0 for _ in range(n)]\n",
    "        minOnRight[n-1] = A[n-1]\n",
    "        for i in range(n-2, -1, -1):\n",
    "            minOnRight[i] = min(minOnRight[i+1], A[i])\n",
    "        \n",
    "        for i in range(1, n-1):\n",
    "            if A[i] > maxOnLeft and A[i] < minOnRight[i+1]:\n",
    "                return 1\n",
    "            maxOnLeft = max(maxOnLeft, A[i])\n",
    "\n",
    "        return 0"
   ]
  },
  {
   "cell_type": "code",
   "execution_count": 33,
   "metadata": {},
   "outputs": [
    {
     "name": "stdout",
     "output_type": "stream",
     "text": [
      "1\n"
     ]
    }
   ],
   "source": [
    "A = [5, 1, 4, 3, 6, 8, 10, 7, 9]\n",
    "sol = Solution()\n",
    "print(sol.perfectPeak(A))"
   ]
  },
  {
   "cell_type": "code",
   "execution_count": 34,
   "metadata": {},
   "outputs": [
    {
     "name": "stdout",
     "output_type": "stream",
     "text": [
      "0\n"
     ]
    }
   ],
   "source": [
    "A = [5, 1, 4, 4]\n",
    "sol = Solution()\n",
    "print(sol.perfectPeak(A))"
   ]
  }
 ],
 "metadata": {
  "kernelspec": {
   "display_name": "Python 3.10.4 ('template-venv': venv)",
   "language": "python",
   "name": "python3"
  },
  "language_info": {
   "codemirror_mode": {
    "name": "ipython",
    "version": 3
   },
   "file_extension": ".py",
   "mimetype": "text/x-python",
   "name": "python",
   "nbconvert_exporter": "python",
   "pygments_lexer": "ipython3",
   "version": "3.10.4"
  },
  "orig_nbformat": 4,
  "vscode": {
   "interpreter": {
    "hash": "0b8dd1d11c220dfc9d15848c82c145ba1a021fcb056c07a0cc073ae3ed6d8420"
   }
  }
 },
 "nbformat": 4,
 "nbformat_minor": 2
}
