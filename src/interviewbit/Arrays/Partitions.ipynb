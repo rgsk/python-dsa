{
 "cells": [
  {
   "cell_type": "code",
   "execution_count": 30,
   "metadata": {},
   "outputs": [],
   "source": [
    "# https://www.interviewbit.com/problems/partitions/"
   ]
  },
  {
   "cell_type": "code",
   "execution_count": 31,
   "metadata": {},
   "outputs": [],
   "source": [
    "# approach\n",
    "# https://www.interviewbit.com/problems/partitions/hints/\n",
    "\n",
    "class Solution:\n",
    "    # @param A : integer\n",
    "    # @param B : list of integers\n",
    "    # @return an integer\n",
    "    def solve(self, A, B):\n",
    "        total = sum(B)\n",
    "        if total % 3:\n",
    "            return 0\n",
    "        n = len(B)\n",
    "        prefix_sum = [0] * n\n",
    "        prefix_sum[0] = B[0]\n",
    "        for i in range(1, n):\n",
    "            prefix_sum[i] = prefix_sum[i-1] + B[i]\n",
    "\n",
    "        suffix_sum = [0] * n\n",
    "        suffix_sum[n-1] = B[n-1]\n",
    "        for i in range(n-2, -1, -1):\n",
    "            suffix_sum[i] = suffix_sum[i+1] + B[i]\n",
    "\n",
    "        desired_sum = total // 3\n",
    "\n",
    "        ans = 0\n",
    "\n",
    "        for i in range(n):\n",
    "            if prefix_sum[i] == desired_sum:\n",
    "                for j in range(i + 2, n):\n",
    "                    if suffix_sum[j] == desired_sum:\n",
    "                        ans += 1\n",
    "        return ans\n"
   ]
  },
  {
   "cell_type": "code",
   "execution_count": 32,
   "metadata": {},
   "outputs": [],
   "source": [
    "# approach\n",
    "# https://www.interviewbit.com/problems/partitions/hints/\n",
    "\n",
    "class Solution:\n",
    "    # @param A : integer\n",
    "    # @param B : list of integers\n",
    "    # @return an integer\n",
    "    def solve(self, A, B):\n",
    "        total = sum(B)\n",
    "        if total % 3:\n",
    "            return 0\n",
    "        n = len(B)\n",
    "        desired_sum = total // 3\n",
    "\n",
    "        cum = [0] * (n + 1)\n",
    "        s = 0\n",
    "        for i in range(n-1, -1, -1):\n",
    "            s += B[i]\n",
    "            cum[i] = cum[i+1] + (1 if s == desired_sum else 0)\n",
    "\n",
    "        ans = 0\n",
    "        s = 0\n",
    "        for i in range(n):\n",
    "            s += B[i]\n",
    "            if s == desired_sum:\n",
    "                if i + 2 < n:\n",
    "                    ans += cum[i + 2]\n",
    "                \n",
    "        return ans\n"
   ]
  },
  {
   "cell_type": "code",
   "execution_count": 33,
   "metadata": {},
   "outputs": [
    {
     "data": {
      "text/plain": [
       "2"
      ]
     },
     "execution_count": 33,
     "metadata": {},
     "output_type": "execute_result"
    }
   ],
   "source": [
    "A = 5\n",
    "B = [1, 2, 3, 0, 3]\n",
    "\n",
    "sol = Solution()\n",
    "sol.solve(A, B)"
   ]
  },
  {
   "cell_type": "code",
   "execution_count": 34,
   "metadata": {},
   "outputs": [
    {
     "data": {
      "text/plain": [
       "1"
      ]
     },
     "execution_count": 34,
     "metadata": {},
     "output_type": "execute_result"
    }
   ],
   "source": [
    "A = 4\n",
    "B = [0, 1, -1, 0]\n",
    "\n",
    "sol = Solution()\n",
    "sol.solve(A, B)"
   ]
  }
 ],
 "metadata": {
  "kernelspec": {
   "display_name": "dsa-venv",
   "language": "python",
   "name": "python3"
  },
  "language_info": {
   "codemirror_mode": {
    "name": "ipython",
    "version": 3
   },
   "file_extension": ".py",
   "mimetype": "text/x-python",
   "name": "python",
   "nbconvert_exporter": "python",
   "pygments_lexer": "ipython3",
   "version": "3.11.3"
  }
 },
 "nbformat": 4,
 "nbformat_minor": 2
}
