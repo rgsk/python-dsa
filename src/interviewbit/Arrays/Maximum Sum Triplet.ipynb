{
 "cells": [
  {
   "cell_type": "code",
   "execution_count": 95,
   "metadata": {},
   "outputs": [],
   "source": [
    "class Solution:\n",
    "    # @param A : list of integers\n",
    "    # @return an integer\n",
    "    def solve(self, A):\n",
    "        n = len(A)\n",
    "        maxOnRight = [0 for _ in range(n)]\n",
    "        maxOnRight[n-1] = A[n-1]\n",
    "        for i in range(n-2, -1, -1):\n",
    "            maxOnRight[i] = max(maxOnRight[i+1], A[i])\n",
    "        maxAns = 0\n",
    "        for i in range(1, n-1):\n",
    "            maxOnLeft = -1\n",
    "            for j in range(0, i):\n",
    "                if A[j] < A[i] < maxOnRight[i+1]:\n",
    "                    maxOnLeft = max(maxOnLeft, A[j])\n",
    "            if maxOnLeft != -1:\n",
    "                maxAns = max(maxAns, maxOnLeft + A[i] + maxOnRight[i+1])\n",
    "        return maxAns"
   ]
  },
  {
   "cell_type": "code",
   "execution_count": 96,
   "metadata": {},
   "outputs": [
    {
     "name": "stdout",
     "output_type": "stream",
     "text": [
      "16\n"
     ]
    }
   ],
   "source": [
    "sol = Solution()\n",
    "A = [2, 5, 3, 1, 4, 9]\n",
    "print(sol.solve(A))"
   ]
  },
  {
   "cell_type": "code",
   "execution_count": 97,
   "metadata": {},
   "outputs": [
    {
     "name": "stdout",
     "output_type": "stream",
     "text": [
      "88252\n"
     ]
    }
   ],
   "source": [
    "sol = Solution()\n",
    "A = [18468, 6335, 26501, 19170, 15725, 11479, 29359, 26963, 24465, 5706, 28146, 23282, 16828, 9962, 492, 2996, 11943, 4828, 5437, 32392, 14605]\n",
    "print(sol.solve(A))"
   ]
  },
  {
   "cell_type": "code",
   "execution_count": 98,
   "metadata": {},
   "outputs": [
    {
     "name": "stdout",
     "output_type": "stream",
     "text": [
      "81198\n"
     ]
    }
   ],
   "source": [
    "sol = Solution()\n",
    "A = [ 22649, 27447, 23806, 15891, 6730, 24371, 15351, 15007, 31102, 24394, 3549, 19630, 12624, 24085 ]\n",
    "print(sol.solve(A))"
   ]
  },
  {
   "cell_type": "code",
   "execution_count": 99,
   "metadata": {},
   "outputs": [],
   "source": [
    "from bisect import bisect_left \n",
    "  \n",
    "def binarySearch(a, x): \n",
    "    i = bisect_left(a, x) \n",
    "    if i: \n",
    "        return (i-1) \n",
    "    else: \n",
    "        return -1\n",
    "\n",
    "class Solution:\n",
    "    # @param A : list of integers\n",
    "    # @return an integer\n",
    "    def solve(self, A):\n",
    "        l = A\n",
    "        n = len(l)\n",
    "        s = [0] * n\n",
    "        s[n - 1] = l[n - 1]\n",
    "        for i in range(n - 2, -1, -1):\n",
    "            s[i] = max(s[i + 1], l[i])\n",
    "        p = []\n",
    "        me = 0\n",
    "        p.append(l[0])\n",
    "        for i in range(1, n - 1):\n",
    "            res = binarySearch(p, l[i])\n",
    "            if res != -1 and l[i]<s[i+1]:\n",
    "                ans = p[res] + l[i] + s[i + 1]\n",
    "                me = max(me, ans)\n",
    "            p.insert(res + 1, l[i])\n",
    "        return me"
   ]
  },
  {
   "cell_type": "code",
   "execution_count": 100,
   "metadata": {},
   "outputs": [
    {
     "name": "stdout",
     "output_type": "stream",
     "text": [
      "16\n"
     ]
    }
   ],
   "source": [
    "sol = Solution()\n",
    "A = [2, 5, 3, 1, 4, 9]\n",
    "print(sol.solve(A))"
   ]
  }
 ],
 "metadata": {
  "kernelspec": {
   "display_name": "Python 3.10.4 ('template-venv': venv)",
   "language": "python",
   "name": "python3"
  },
  "language_info": {
   "codemirror_mode": {
    "name": "ipython",
    "version": 3
   },
   "file_extension": ".py",
   "mimetype": "text/x-python",
   "name": "python",
   "nbconvert_exporter": "python",
   "pygments_lexer": "ipython3",
   "version": "3.10.4"
  },
  "orig_nbformat": 4,
  "vscode": {
   "interpreter": {
    "hash": "0b8dd1d11c220dfc9d15848c82c145ba1a021fcb056c07a0cc073ae3ed6d8420"
   }
  }
 },
 "nbformat": 4,
 "nbformat_minor": 2
}
