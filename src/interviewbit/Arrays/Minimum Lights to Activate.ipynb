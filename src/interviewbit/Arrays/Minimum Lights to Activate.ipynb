{
 "cells": [
  {
   "cell_type": "code",
   "execution_count": 15,
   "metadata": {},
   "outputs": [],
   "source": [
    "class Solution:\n",
    "    # @param A : list of integers\n",
    "    # @param B : integer\n",
    "    # @return an integer\n",
    "    def solve(self, A, B):\n",
    "        ans=0\n",
    "        i=0\n",
    "        while(i<len(A)):\n",
    "            lo=max(0,i-B+1)\n",
    "            hi=min(len(A)-1,i+B-1)\n",
    "            bulb=False\n",
    "            for j in range(hi,lo-1,-1):\n",
    "                if(A[j]==1):\n",
    "                    bulb=True\n",
    "                    ans=ans+1\n",
    "                    i=j+B\n",
    "                    break\n",
    "            \n",
    "            if(bulb==False):\n",
    "                return -1\n",
    "        \n",
    "        return ans\n",
    "\n",
    "                    \n"
   ]
  },
  {
   "cell_type": "code",
   "execution_count": 16,
   "metadata": {},
   "outputs": [
    {
     "name": "stdout",
     "output_type": "stream",
     "text": [
      "2\n"
     ]
    }
   ],
   "source": [
    "A = [ 0, 0, 1, 1, 1, 0, 0, 1]\n",
    "B = 3\n",
    "sol = Solution()\n",
    "print(sol.solve(A, B))"
   ]
  },
  {
   "cell_type": "code",
   "execution_count": 17,
   "metadata": {},
   "outputs": [
    {
     "name": "stdout",
     "output_type": "stream",
     "text": [
      "-1\n"
     ]
    }
   ],
   "source": [
    "A = [ 0, 0, 0, 1, 0]\n",
    "B = 3\n",
    "sol = Solution()\n",
    "print(sol.solve(A, B))"
   ]
  }
 ],
 "metadata": {
  "kernelspec": {
   "display_name": "Python 3.10.4 ('template-venv': venv)",
   "language": "python",
   "name": "python3"
  },
  "language_info": {
   "codemirror_mode": {
    "name": "ipython",
    "version": 3
   },
   "file_extension": ".py",
   "mimetype": "text/x-python",
   "name": "python",
   "nbconvert_exporter": "python",
   "pygments_lexer": "ipython3",
   "version": "3.10.4"
  },
  "orig_nbformat": 4,
  "vscode": {
   "interpreter": {
    "hash": "0b8dd1d11c220dfc9d15848c82c145ba1a021fcb056c07a0cc073ae3ed6d8420"
   }
  }
 },
 "nbformat": 4,
 "nbformat_minor": 2
}
