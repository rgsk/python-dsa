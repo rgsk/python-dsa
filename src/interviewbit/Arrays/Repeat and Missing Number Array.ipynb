{
 "cells": [
  {
   "cell_type": "code",
   "execution_count": 4,
   "metadata": {},
   "outputs": [],
   "source": [
    "# https://www.interviewbit.com/problems/repeat-and-missing-number-array/"
   ]
  },
  {
   "cell_type": "code",
   "execution_count": 5,
   "metadata": {},
   "outputs": [],
   "source": [
    "# AP method\n",
    "\n",
    "class Solution:\n",
    "    # @param A : tuple of integers\n",
    "    # @return a list of integers\n",
    "    def repeatedNumber(self, A):\n",
    "        n = len(A)\n",
    "        square_sum_upto_n = sum([v**2 for v in range(1, n + 1)])\n",
    "        square_sum_A = sum([v**2 for v in A])\n",
    "\n",
    "        square_difference = square_sum_upto_n - square_sum_A\n",
    "\n",
    "        sum_upto_n = sum(range(1, n + 1))\n",
    "        sum_A = sum(A)\n",
    "\n",
    "        difference = sum_upto_n - sum_A\n",
    "        addition = square_difference // difference\n",
    "\n",
    "        twice_missing = addition + difference\n",
    "\n",
    "        missing = twice_missing // 2\n",
    "\n",
    "        repeating = addition - missing\n",
    "\n",
    "        return [repeating, missing]"
   ]
  },
  {
   "cell_type": "code",
   "execution_count": 6,
   "metadata": {},
   "outputs": [
    {
     "data": {
      "text/plain": [
       "[3, 4]"
      ]
     },
     "execution_count": 6,
     "metadata": {},
     "output_type": "execute_result"
    }
   ],
   "source": [
    "A = [3, 1, 2, 5, 3]\n",
    "sol = Solution()\n",
    "sol.repeatedNumber(A)"
   ]
  },
  {
   "cell_type": "code",
   "execution_count": 7,
   "metadata": {},
   "outputs": [],
   "source": [
    "# AP method\n",
    "# interesting pattern to note here is that, \n",
    "# when we obtain square difference and difference like sum_upto_n - sum_A\n",
    "# we get twice of missing, sum_A - sum_upto_n, gives twice of repeating\n",
    "class Solution:\n",
    "    # @param A : tuple of integers\n",
    "    # @return a list of integers\n",
    "    def repeatedNumber(self, A):\n",
    "        n = len(A)\n",
    "        square_sum_upto_n = sum([v**2 for v in range(1, n + 1)])\n",
    "        square_sum_A = sum([v**2 for v in A])\n",
    "\n",
    "        square_difference = square_sum_A - square_sum_upto_n\n",
    "\n",
    "        sum_upto_n = sum(range(1, n + 1))\n",
    "        sum_A = sum(A)\n",
    "\n",
    "        difference = sum_A - sum_upto_n\n",
    "        addition = square_difference // difference\n",
    "\n",
    "        twice_repeating = addition + difference\n",
    "\n",
    "        repeating = twice_repeating // 2\n",
    "\n",
    "        missing = addition - repeating\n",
    "\n",
    "        return [repeating, missing]"
   ]
  },
  {
   "cell_type": "code",
   "execution_count": 8,
   "metadata": {},
   "outputs": [
    {
     "data": {
      "text/plain": [
       "[3, 4]"
      ]
     },
     "execution_count": 8,
     "metadata": {},
     "output_type": "execute_result"
    }
   ],
   "source": [
    "A = [3, 1, 2, 5, 3]\n",
    "sol = Solution()\n",
    "sol.repeatedNumber(A)"
   ]
  }
 ],
 "metadata": {
  "kernelspec": {
   "display_name": "dsa-venv",
   "language": "python",
   "name": "python3"
  },
  "language_info": {
   "codemirror_mode": {
    "name": "ipython",
    "version": 3
   },
   "file_extension": ".py",
   "mimetype": "text/x-python",
   "name": "python",
   "nbconvert_exporter": "python",
   "pygments_lexer": "ipython3",
   "version": "3.11.3"
  }
 },
 "nbformat": 4,
 "nbformat_minor": 2
}
