{
 "cells": [
  {
   "cell_type": "code",
   "execution_count": 27,
   "metadata": {},
   "outputs": [],
   "source": [
    "from functools import cmp_to_key\n",
    "\n",
    "\n",
    "def compare(a:str, b:str):\n",
    "    if a + b > b + a:\n",
    "        return -1\n",
    "    return 1\n",
    "    \n",
    "class Solution:\n",
    "    # @param A : tuple of integers\n",
    "    # @return a strings\n",
    "    def largestNumber(self, A):\n",
    "        B = [str(v) for v in A]\n",
    "        B.sort(key=cmp_to_key(compare))\n",
    "        return \"\".join(B).lstrip('0') or '0'"
   ]
  },
  {
   "cell_type": "code",
   "execution_count": 28,
   "metadata": {},
   "outputs": [
    {
     "name": "stdout",
     "output_type": "stream",
     "text": [
      "9534330\n"
     ]
    }
   ],
   "source": [
    "sol = Solution()\n",
    "A = [3, 30, 34, 5, 9]\n",
    "print(sol.largestNumber(A))"
   ]
  },
  {
   "cell_type": "code",
   "execution_count": 29,
   "metadata": {},
   "outputs": [
    {
     "name": "stdout",
     "output_type": "stream",
     "text": [
      "0\n"
     ]
    }
   ],
   "source": [
    "sol = Solution()\n",
    "A = [0,0]\n",
    "print(sol.largestNumber(A))"
   ]
  }
 ],
 "metadata": {
  "kernelspec": {
   "display_name": "template-venv",
   "language": "python",
   "name": "python3"
  },
  "language_info": {
   "codemirror_mode": {
    "name": "ipython",
    "version": 3
   },
   "file_extension": ".py",
   "mimetype": "text/x-python",
   "name": "python",
   "nbconvert_exporter": "python",
   "pygments_lexer": "ipython3",
   "version": "3.10.4"
  },
  "orig_nbformat": 4
 },
 "nbformat": 4,
 "nbformat_minor": 2
}
