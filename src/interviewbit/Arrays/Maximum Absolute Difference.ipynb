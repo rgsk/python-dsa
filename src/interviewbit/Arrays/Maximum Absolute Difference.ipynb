{
 "cells": [
  {
   "cell_type": "code",
   "execution_count": 3,
   "metadata": {},
   "outputs": [],
   "source": [
    "# https://www.interviewbit.com/problems/maximum-absolute-difference/"
   ]
  },
  {
   "cell_type": "code",
   "execution_count": 4,
   "metadata": {},
   "outputs": [],
   "source": [
    "class Solution:\n",
    "    # @param A : list of integers\n",
    "    # @return an integer\n",
    "    def maxArr(self, A):\n",
    "        #  |A[i] - A[j]| + |i - j|\n",
    "        n = len(A)\n",
    "        ans = 0\n",
    "        for i in range(n):\n",
    "            for j in range(n):\n",
    "                ans = max(ans, abs(A[i] - A[j]) + abs(i-j))\n",
    "        return ans"
   ]
  },
  {
   "cell_type": "code",
   "execution_count": 5,
   "metadata": {},
   "outputs": [],
   "source": [
    "# approach\n",
    "# https://www.interviewbit.com/problems/maximum-absolute-difference/hints/\n",
    "\n",
    "import math\n",
    "\n",
    "\n",
    "class Solution:\n",
    "    # @param A : list of integers\n",
    "    # @return an integer\n",
    "    def maxArr(self, A):\n",
    "        n = len(A)\n",
    "        max_Ai_plus_i = -math.inf\n",
    "        min_Ai_plus_i = math.inf\n",
    "        for i in range(n):\n",
    "            max_Ai_plus_i = max(A[i] + i, max_Ai_plus_i)\n",
    "            min_Ai_plus_i = min(A[i] + i, min_Ai_plus_i)\n",
    "        max_Ai_minus_i = -math.inf\n",
    "        min_Ai_minus_i = math.inf\n",
    "        for i in range(n):\n",
    "            max_Ai_minus_i = max(A[i] - i, max_Ai_minus_i)\n",
    "            min_Ai_minus_i = min(A[i] - i, min_Ai_minus_i)\n",
    "        return max(max_Ai_plus_i - min_Ai_plus_i, max_Ai_minus_i - min_Ai_minus_i)"
   ]
  },
  {
   "cell_type": "code",
   "execution_count": 6,
   "metadata": {},
   "outputs": [
    {
     "data": {
      "text/plain": [
       "5"
      ]
     },
     "execution_count": 6,
     "metadata": {},
     "output_type": "execute_result"
    }
   ],
   "source": [
    "A = [1, 3, -1]\n",
    "sol = Solution()\n",
    "sol.maxArr(A)"
   ]
  }
 ],
 "metadata": {
  "kernelspec": {
   "display_name": "dsa-venv",
   "language": "python",
   "name": "python3"
  },
  "language_info": {
   "codemirror_mode": {
    "name": "ipython",
    "version": 3
   },
   "file_extension": ".py",
   "mimetype": "text/x-python",
   "name": "python",
   "nbconvert_exporter": "python",
   "pygments_lexer": "ipython3",
   "version": "3.11.3"
  }
 },
 "nbformat": 4,
 "nbformat_minor": 2
}
