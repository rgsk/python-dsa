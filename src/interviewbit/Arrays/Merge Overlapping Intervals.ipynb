{
 "cells": [
  {
   "cell_type": "code",
   "execution_count": 46,
   "metadata": {},
   "outputs": [],
   "source": [
    "# https://www.interviewbit.com/problems/merge-overlapping-intervals/\n",
    "\n",
    "# Definition for an interval.\n",
    "class Interval:\n",
    "    def __init__(self, s=0, e=0):\n",
    "        self.start = s\n",
    "        self.end = e\n",
    "    def __str__(self) -> str:\n",
    "        return f\"[{self.start}, {self.end}]\"\n"
   ]
  },
  {
   "cell_type": "code",
   "execution_count": 47,
   "metadata": {},
   "outputs": [],
   "source": [
    "\n",
    "class Solution:\n",
    "    # @param intervals, a list of Intervals\n",
    "    # @return a list of Interval\n",
    "    def merge(self, intervals):\n",
    "        intervals.sort(key=lambda interval: interval.start)\n",
    "        merged_intervals = [intervals[0]]\n",
    "        for i in range(1, len(intervals)):\n",
    "            if intervals[i].start > merged_intervals[-1].end:\n",
    "                merged_intervals.append(intervals[i])\n",
    "            else:\n",
    "                merged_intervals[-1].end = max(merged_intervals[-1].end, intervals[i].end)\n",
    "        return merged_intervals"
   ]
  },
  {
   "cell_type": "code",
   "execution_count": 48,
   "metadata": {},
   "outputs": [
    {
     "name": "stdout",
     "output_type": "stream",
     "text": [
      "[1, 6]\n",
      "[8, 10]\n",
      "[15, 18]\n"
     ]
    }
   ],
   "source": [
    "sol = Solution()\n",
    "intervals = [Interval(a, b) for [a, b] in [[1,3],[2,6],[8,10],[15,18]]]\n",
    "result = sol.merge(intervals=intervals)\n",
    "for res in result:\n",
    "    print(res)"
   ]
  },
  {
   "cell_type": "code",
   "execution_count": 49,
   "metadata": {},
   "outputs": [
    {
     "name": "stdout",
     "output_type": "stream",
     "text": [
      "[1, 10]\n"
     ]
    }
   ],
   "source": [
    "sol = Solution()\n",
    "intervals = [Interval(a, b) for [a, b] in [(1, 10), (2, 9), (3, 8), (4, 7), (5, 6), (6, 6)]]\n",
    "result = sol.merge(intervals=intervals)\n",
    "for res in result:\n",
    "    print(res)"
   ]
  },
  {
   "cell_type": "code",
   "execution_count": 50,
   "metadata": {},
   "outputs": [
    {
     "name": "stdout",
     "output_type": "stream",
     "text": [
      "[1, 100]\n"
     ]
    }
   ],
   "source": [
    "sol = Solution()\n",
    "intervals = [Interval(a, b) for [a, b] in [ (4, 100), (48, 94), (16, 21), (58, 71), (36, 53), (49, 68), (18, 42), (37, 90), (68, 75), (6, 57), (25, 78), (58, 79), (18, 29), (69, 94), (5, 31), (10, 87), (21, 35), (1, 32), (7, 24), (17, 85), (30, 95), (5, 63), (1, 17), (67, 100), (53, 55), (30, 63), (7, 76), (33, 51), (62, 68), (78, 83), (12, 24), (31, 73), (64, 74), (33, 40), (51, 63), (17, 31), (14, 29), (9, 15), (39, 70), (13, 67), (27, 100), (10, 71), (18, 47), (48, 79), (70, 73), (44, 59), (68, 78), (24, 67), (32, 70), (29, 94), (45, 90), (10, 76), (12, 28), (31, 78), (9, 44), (29, 83), (21, 35), (46, 93), (66, 83), (21, 72), (29, 37), (6, 11), (56, 87), (10, 26), (11, 12), (15, 88), (3, 13), (56, 70), (40, 73), (25, 62), (63, 73), (47, 74), (8, 36) ]]\n",
    "result = sol.merge(intervals=intervals)\n",
    "for res in result:\n",
    "    print(res)"
   ]
  }
 ],
 "metadata": {
  "kernelspec": {
   "display_name": "template-venv",
   "language": "python",
   "name": "python3"
  },
  "language_info": {
   "codemirror_mode": {
    "name": "ipython",
    "version": 3
   },
   "file_extension": ".py",
   "mimetype": "text/x-python",
   "name": "python",
   "nbconvert_exporter": "python",
   "pygments_lexer": "ipython3",
   "version": "3.10.4"
  },
  "orig_nbformat": 4
 },
 "nbformat": 4,
 "nbformat_minor": 2
}
