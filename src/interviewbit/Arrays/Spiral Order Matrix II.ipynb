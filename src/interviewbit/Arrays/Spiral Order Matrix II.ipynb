{
 "cells": [
  {
   "cell_type": "code",
   "execution_count": 3,
   "metadata": {},
   "outputs": [],
   "source": [
    "class Solution:\n",
    "    # @param A : integer\n",
    "    # @return a list of list of integers\n",
    "    def generateMatrix(self, A):\n",
    "\n",
    "        startRow, endRow = 0, A - 1\n",
    "        startCol, endCol = 0, A - 1\n",
    "        direction = 0\n",
    "        e = 1\n",
    "        result = [[0 for _ in range(A)] for _ in range(A)] \n",
    "        while startRow <= endRow and startCol <= endCol:\n",
    "            if direction == 0:  # RIGHT\n",
    "                for col in range(startCol, endCol + 1):\n",
    "                    result[startRow][col] = e\n",
    "                    e += 1\n",
    "                startRow += 1\n",
    "            elif direction == 1:  # DOWN\n",
    "                for row in range(startRow, endRow + 1):\n",
    "                    result[row][endCol] = e\n",
    "                    e += 1\n",
    "                endCol -= 1\n",
    "            elif direction == 2:  # LEFT\n",
    "                for col in range(endCol, startCol - 1, -1):\n",
    "                    result[endRow][col] = e\n",
    "                    e += 1\n",
    "                endRow -= 1\n",
    "            elif direction == 3:  # UP\n",
    "                for row in range(endRow, startRow - 1, -1):\n",
    "                    result[row][startCol] = e\n",
    "                    e += 1\n",
    "                startCol += 1\n",
    "\n",
    "            direction = (direction + 1) % 4\n",
    "\n",
    "        return result"
   ]
  },
  {
   "cell_type": "code",
   "execution_count": 4,
   "metadata": {},
   "outputs": [
    {
     "data": {
      "text/plain": [
       "[[1]]"
      ]
     },
     "execution_count": 4,
     "metadata": {},
     "output_type": "execute_result"
    }
   ],
   "source": [
    "A = 1\n",
    "sol = Solution()\n",
    "sol.generateMatrix(A)"
   ]
  },
  {
   "cell_type": "code",
   "execution_count": 5,
   "metadata": {},
   "outputs": [
    {
     "data": {
      "text/plain": [
       "[[1, 2], [4, 3]]"
      ]
     },
     "execution_count": 5,
     "metadata": {},
     "output_type": "execute_result"
    }
   ],
   "source": [
    "A = 2\n",
    "sol = Solution()\n",
    "sol.generateMatrix(A)"
   ]
  },
  {
   "cell_type": "code",
   "execution_count": 6,
   "metadata": {},
   "outputs": [
    {
     "data": {
      "text/plain": [
       "[[1, 2, 3, 4, 5],\n",
       " [16, 17, 18, 19, 6],\n",
       " [15, 24, 25, 20, 7],\n",
       " [14, 23, 22, 21, 8],\n",
       " [13, 12, 11, 10, 9]]"
      ]
     },
     "execution_count": 6,
     "metadata": {},
     "output_type": "execute_result"
    }
   ],
   "source": [
    "A = 5\n",
    "sol = Solution()\n",
    "sol.generateMatrix(A)"
   ]
  },
  {
   "cell_type": "code",
   "execution_count": null,
   "metadata": {},
   "outputs": [],
   "source": []
  }
 ],
 "metadata": {
  "kernelspec": {
   "display_name": "dsa-venv",
   "language": "python",
   "name": "python3"
  },
  "language_info": {
   "codemirror_mode": {
    "name": "ipython",
    "version": 3
   },
   "file_extension": ".py",
   "mimetype": "text/x-python",
   "name": "python",
   "nbconvert_exporter": "python",
   "pygments_lexer": "ipython3",
   "version": "3.11.3"
  }
 },
 "nbformat": 4,
 "nbformat_minor": 2
}
