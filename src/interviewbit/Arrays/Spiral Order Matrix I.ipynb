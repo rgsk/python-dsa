{
 "cells": [
  {
   "cell_type": "code",
   "execution_count": 75,
   "metadata": {},
   "outputs": [],
   "source": [
    "# https://www.interviewbit.com/problems/spiral-order-matrix-i/"
   ]
  },
  {
   "cell_type": "code",
   "execution_count": 76,
   "metadata": {},
   "outputs": [],
   "source": [
    "# accepted\n",
    "class Solution:\n",
    "    # @param A : tuple of list of integers\n",
    "    # @return a list of integers\n",
    "    def spiralOrder(self, A):\n",
    "        rows = len(A)\n",
    "        cols = len(A[0])\n",
    "        i = 0\n",
    "        j = 0\n",
    "        ans = []\n",
    "        end_col = cols - 1\n",
    "        end_row = rows - 1\n",
    "        start_row = 0\n",
    "        start_col = 0\n",
    "        while True:\n",
    "            while j <= end_col:\n",
    "                ans.append(A[i][j])\n",
    "                j += 1\n",
    "            start_row += 1\n",
    "            j -= 1\n",
    "            i = start_row\n",
    "            if end_row < start_row:\n",
    "                break\n",
    "            while i <= end_row:\n",
    "                ans.append(A[i][j])\n",
    "                i += 1\n",
    "            end_col -= 1\n",
    "            i -= 1\n",
    "            j = end_col\n",
    "            if end_col < start_col:\n",
    "                break\n",
    "            while j >= start_col:\n",
    "                ans.append(A[i][j])\n",
    "                j -= 1\n",
    "            end_row -= 1\n",
    "            i = end_row\n",
    "            j += 1\n",
    "            if end_row < start_row:\n",
    "                break\n",
    "            while i >= start_row:\n",
    "                ans.append(A[i][j])\n",
    "                i -= 1\n",
    "            start_col += 1\n",
    "            i += 1\n",
    "            j = start_col\n",
    "            if end_col < start_col:\n",
    "                break\n",
    "        return ans"
   ]
  },
  {
   "cell_type": "code",
   "execution_count": 77,
   "metadata": {},
   "outputs": [],
   "source": [
    "# accepted\n",
    "class Solution:\n",
    "    # @param A : tuple of list of integers\n",
    "    # @return a list of integers\n",
    "    def spiralOrder(self, A):\n",
    "        rows = len(A)\n",
    "        cols = len(A[0])\n",
    "        ans = []\n",
    "        endCol = cols - 1\n",
    "        endRow = rows - 1\n",
    "        startRow = 0\n",
    "        startCol = 0\n",
    "        direction = 0\n",
    "       \n",
    "        while startRow <= endRow and startCol <= endCol:\n",
    "            if direction == 0:  # RIGHT\n",
    "                for col in range(startCol, endCol + 1):\n",
    "                    ans.append(A[startRow][col])\n",
    "                startRow += 1\n",
    "            elif direction == 1:  # DOWN\n",
    "                for row in range(startRow, endRow + 1):\n",
    "                    ans.append(A[row][endCol])\n",
    "                endCol -= 1\n",
    "            elif direction == 2:  # LEFT\n",
    "                for col in range(endCol, startCol - 1, -1):\n",
    "                    ans.append(A[endRow][col])\n",
    "                endRow -= 1\n",
    "            elif direction == 3:  # UP\n",
    "                for row in range(endRow, startRow - 1, -1):\n",
    "                    ans.append(A[row][startCol])\n",
    "                startCol += 1\n",
    "\n",
    "            direction = (direction + 1) % 4\n",
    "        return ans"
   ]
  },
  {
   "cell_type": "code",
   "execution_count": 78,
   "metadata": {},
   "outputs": [
    {
     "data": {
      "text/plain": [
       "[1, 2, 3, 6, 9, 8, 7, 4, 5]"
      ]
     },
     "execution_count": 78,
     "metadata": {},
     "output_type": "execute_result"
    }
   ],
   "source": [
    "A = [\n",
    "        [ 1, 2, 3 ],\n",
    "        [ 4, 5, 6 ],\n",
    "        [ 7, 8, 9 ]\n",
    "    ]\n",
    "sol = Solution()\n",
    "sol.spiralOrder(A)"
   ]
  },
  {
   "cell_type": "code",
   "execution_count": 79,
   "metadata": {},
   "outputs": [
    {
     "data": {
      "text/plain": [
       "[1, 2, 3]"
      ]
     },
     "execution_count": 79,
     "metadata": {},
     "output_type": "execute_result"
    }
   ],
   "source": [
    "A = [\n",
    "  [1],\n",
    "  [2],\n",
    "  [3]\n",
    "]\n",
    "sol = Solution()\n",
    "sol.spiralOrder(A)"
   ]
  },
  {
   "cell_type": "code",
   "execution_count": 80,
   "metadata": {},
   "outputs": [
    {
     "data": {
      "text/plain": [
       "[1, 2, 3]"
      ]
     },
     "execution_count": 80,
     "metadata": {},
     "output_type": "execute_result"
    }
   ],
   "source": [
    "A = [\n",
    "  [1, 2, 3]\n",
    "]\n",
    "sol = Solution()\n",
    "sol.spiralOrder(A)"
   ]
  },
  {
   "cell_type": "code",
   "execution_count": 81,
   "metadata": {},
   "outputs": [
    {
     "data": {
      "text/plain": [
       "[252,\n",
       " 60,\n",
       " 110,\n",
       " 389,\n",
       " 305,\n",
       " 90,\n",
       " 153,\n",
       " 263,\n",
       " 233,\n",
       " 168,\n",
       " 125,\n",
       " 327,\n",
       " 140,\n",
       " 207,\n",
       " 234,\n",
       " 37,\n",
       " 203,\n",
       " 311,\n",
       " 84,\n",
       " 264,\n",
       " 376,\n",
       " 223,\n",
       " 52,\n",
       " 272,\n",
       " 350,\n",
       " 335,\n",
       " 55,\n",
       " 118]"
      ]
     },
     "execution_count": 81,
     "metadata": {},
     "output_type": "execute_result"
    }
   ],
   "source": [
    "A = [\n",
    "  [252, 60, 110, 389],\n",
    "  [311, 84, 264, 305],\n",
    "  [203, 118, 376, 90],\n",
    "  [37, 55, 223, 153],\n",
    "  [234, 335, 52, 263],\n",
    "  [207, 350, 272, 233],\n",
    "  [140, 327, 125, 168]\n",
    "]\n",
    "sol = Solution()\n",
    "sol.spiralOrder(A)"
   ]
  }
 ],
 "metadata": {
  "kernelspec": {
   "display_name": "dsa-venv",
   "language": "python",
   "name": "python3"
  },
  "language_info": {
   "codemirror_mode": {
    "name": "ipython",
    "version": 3
   },
   "file_extension": ".py",
   "mimetype": "text/x-python",
   "name": "python",
   "nbconvert_exporter": "python",
   "pygments_lexer": "ipython3",
   "version": "3.11.3"
  }
 },
 "nbformat": 4,
 "nbformat_minor": 2
}
