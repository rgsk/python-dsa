{
 "cells": [
  {
   "cell_type": "code",
   "execution_count": null,
   "metadata": {},
   "outputs": [],
   "source": [
    "# https://www.interviewbit.com/problems/max-distance/"
   ]
  },
  {
   "cell_type": "code",
   "execution_count": 39,
   "metadata": {},
   "outputs": [],
   "source": [
    "class Solution:\n",
    "    # @param A : tuple of integers\n",
    "    # @return an integer\n",
    "    def maximumGap(self, A):\n",
    "        n = len(A)\n",
    "        ans = 0\n",
    "        for i in range(n):\n",
    "            for j in range(i + 1, n):\n",
    "                if A[i] <= A[j]:\n",
    "                    ans = max(ans, j - i)\n",
    "        return ans"
   ]
  },
  {
   "cell_type": "code",
   "execution_count": 40,
   "metadata": {},
   "outputs": [],
   "source": [
    "# approach\n",
    "# https://www.interviewbit.com/problems/max-distance/hints/\n",
    "\n",
    "class Solution:\n",
    "    # @param A : tuple of integers\n",
    "    # @return an integer\n",
    "    def maximumGap(self, A):\n",
    "        n = len(A)\n",
    "        arr = [[A[i], i, i] for i in range(n)]\n",
    "        arr.sort()\n",
    "\n",
    "        for i in range(n-2, -1, -1):\n",
    "            arr[i][2] = max(arr[i][2], arr[i+1][2])\n",
    "        ans = 0\n",
    "        for i in range(n):\n",
    "            ans = max(ans, arr[i][2] - arr[i][1])\n",
    "        return ans\n"
   ]
  },
  {
   "cell_type": "code",
   "execution_count": 41,
   "metadata": {},
   "outputs": [
    {
     "data": {
      "text/plain": [
       "4"
      ]
     },
     "execution_count": 41,
     "metadata": {},
     "output_type": "execute_result"
    }
   ],
   "source": [
    "A = [3, 5, 4, 2, 7]\n",
    "sol = Solution()\n",
    "sol.maximumGap(A)"
   ]
  }
 ],
 "metadata": {
  "kernelspec": {
   "display_name": "dsa-venv",
   "language": "python",
   "name": "python3"
  },
  "language_info": {
   "codemirror_mode": {
    "name": "ipython",
    "version": 3
   },
   "file_extension": ".py",
   "mimetype": "text/x-python",
   "name": "python",
   "nbconvert_exporter": "python",
   "pygments_lexer": "ipython3",
   "version": "3.11.3"
  }
 },
 "nbformat": 4,
 "nbformat_minor": 2
}
