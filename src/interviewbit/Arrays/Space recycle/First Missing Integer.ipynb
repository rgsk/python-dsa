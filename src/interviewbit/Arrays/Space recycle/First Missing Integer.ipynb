{
 "cells": [
  {
   "cell_type": "code",
   "execution_count": 256,
   "metadata": {},
   "outputs": [],
   "source": [
    "class Solution:\n",
    "    # @param A : list of integers\n",
    "    # @return an integer\n",
    "    def firstMissingPositive(self, A):\n",
    "        i = 1\n",
    "        while i in A:\n",
    "            i += 1\n",
    "        return i"
   ]
  },
  {
   "cell_type": "code",
   "execution_count": 257,
   "metadata": {},
   "outputs": [],
   "source": [
    "class Solution:\n",
    "    # @param A : list of integers\n",
    "    # @return an integer\n",
    "    def firstMissingPositive(self, A):\n",
    "        i = 1\n",
    "        st = set(A)\n",
    "        while i in st:\n",
    "            i += 1\n",
    "        return i"
   ]
  },
  {
   "cell_type": "code",
   "execution_count": 258,
   "metadata": {},
   "outputs": [],
   "source": [
    "class Solution:\n",
    "    # @param A : list of integers\n",
    "    # @return an integer\n",
    "    def firstMissingPositive(self, A):\n",
    "        A = list(filter(lambda x : x > 0, A))\n",
    "        A.sort()\n",
    "        for i in range(len(A)):\n",
    "            if(A[i]!=i+1):\n",
    "                return i+1\n",
    "        return len(A)+1\n"
   ]
  },
  {
   "cell_type": "code",
   "execution_count": 259,
   "metadata": {},
   "outputs": [],
   "source": [
    "class Solution:\n",
    "    # @param A : list of integers\n",
    "    # @return an integer\n",
    "    def firstMissingPositive(self, A):\n",
    "        A.sort()\n",
    "        s = 1\n",
    "        for v in A:\n",
    "            if v > 0:\n",
    "                if v != s:\n",
    "                    return s\n",
    "                else:\n",
    "                    s += 1\n",
    "        return s"
   ]
  },
  {
   "cell_type": "code",
   "execution_count": 260,
   "metadata": {},
   "outputs": [],
   "source": [
    "class Solution:\n",
    "    # @param A : list of integers\n",
    "    # @return an integer\n",
    "    def firstMissingPositive(self, A):\n",
    "        n = max(max(A), 1) + 1\n",
    "        aux = [False] * (n+1)\n",
    "        for v in A:\n",
    "            if v > 0:\n",
    "                aux[v] = True\n",
    "        for i in range(1, n + 1):\n",
    "            if not aux[i]:\n",
    "                return i\n",
    "        return -1"
   ]
  },
  {
   "cell_type": "code",
   "execution_count": 261,
   "metadata": {},
   "outputs": [],
   "source": [
    "class Solution:\n",
    "    # @param A : list of integers\n",
    "    # @return an integer\n",
    "    def firstMissingPositive(self, A):\n",
    "        n = len(A)\n",
    "        aux = [False] * (n + 1)\n",
    "        for v in A:\n",
    "            if v > 0 and v <= n:\n",
    "                aux[v] = True\n",
    "        for i in range(1, n+1):\n",
    "            if not aux[i]:\n",
    "                return i\n",
    "        return n + 1"
   ]
  },
  {
   "cell_type": "code",
   "execution_count": 262,
   "metadata": {},
   "outputs": [],
   "source": [
    "class Solution:\n",
    "    # @param A : list of integers\n",
    "    # @return an integer\n",
    "    def firstMissingPositive(self, A):\n",
    "        n = len(A)\n",
    "        for i in range(n):\n",
    "            while A[i] > 0 and A[i] <= n and A[i] != i + 1 and A[i] != A[A[i]-1]:\n",
    "                A[A[i]-1],A[i] = A[i],A[A[i]-1]\n",
    "\n",
    "        for i in range(n):\n",
    "            if A[i] != i + 1:\n",
    "                return i + 1\n",
    "        return n + 1"
   ]
  },
  {
   "cell_type": "code",
   "execution_count": 263,
   "metadata": {},
   "outputs": [
    {
     "data": {
      "text/plain": [
       "3"
      ]
     },
     "execution_count": 263,
     "metadata": {},
     "output_type": "execute_result"
    }
   ],
   "source": [
    "A = [1,2,0]\n",
    "sol = Solution()\n",
    "sol.firstMissingPositive(A)"
   ]
  },
  {
   "cell_type": "code",
   "execution_count": 264,
   "metadata": {},
   "outputs": [
    {
     "data": {
      "text/plain": [
       "2"
      ]
     },
     "execution_count": 264,
     "metadata": {},
     "output_type": "execute_result"
    }
   ],
   "source": [
    "A = [3,4,-1,1]\n",
    "sol = Solution()\n",
    "sol.firstMissingPositive(A)"
   ]
  },
  {
   "cell_type": "code",
   "execution_count": 265,
   "metadata": {},
   "outputs": [
    {
     "data": {
      "text/plain": [
       "1"
      ]
     },
     "execution_count": 265,
     "metadata": {},
     "output_type": "execute_result"
    }
   ],
   "source": [
    "A = [-8,-7,-6]\n",
    "sol = Solution()\n",
    "sol.firstMissingPositive(A)"
   ]
  },
  {
   "cell_type": "code",
   "execution_count": 266,
   "metadata": {},
   "outputs": [
    {
     "data": {
      "text/plain": [
       "2"
      ]
     },
     "execution_count": 266,
     "metadata": {},
     "output_type": "execute_result"
    }
   ],
   "source": [
    "A = [1]\n",
    "sol = Solution()\n",
    "sol.firstMissingPositive(A)"
   ]
  }
 ],
 "metadata": {
  "kernelspec": {
   "display_name": "base",
   "language": "python",
   "name": "python3"
  },
  "language_info": {
   "codemirror_mode": {
    "name": "ipython",
    "version": 3
   },
   "file_extension": ".py",
   "mimetype": "text/x-python",
   "name": "python",
   "nbconvert_exporter": "python",
   "pygments_lexer": "ipython3",
   "version": "3.11.3"
  },
  "orig_nbformat": 4
 },
 "nbformat": 4,
 "nbformat_minor": 2
}
