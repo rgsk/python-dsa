{
 "cells": [
  {
   "cell_type": "code",
   "execution_count": 11,
   "metadata": {},
   "outputs": [],
   "source": [
    "# space O(n)\n",
    "class Solution:\n",
    "    # @param A : list of list of integers\n",
    "    # @return the same list modified\n",
    "    def setZeroes(self, A):\n",
    "        \"\"\"\n",
    "        Space O(m + n), for storing aux arrays for marking whether the row or col is 0\n",
    "        Time O(m * n)\n",
    "        \"\"\"\n",
    "        rows = len(A)\n",
    "        cols = len(A[0])\n",
    "        rowsTracker = [1] * rows\n",
    "        colsTracker = [1] * cols\n",
    "        for i in range(rows):\n",
    "            for j in range(cols):\n",
    "                if A[i][j] == 0:\n",
    "                    rowsTracker[i] = 0\n",
    "                    colsTracker[j] = 0\n",
    "\n",
    "        for i in range(rows):\n",
    "            for j in range(cols):\n",
    "                if rowsTracker[i] == 0 or colsTracker[j] == 0:\n",
    "                    A[i][j] = 0\n",
    "        return A"
   ]
  },
  {
   "cell_type": "code",
   "execution_count": 12,
   "metadata": {},
   "outputs": [],
   "source": [
    "# space O(n)\n",
    "class Solution:\n",
    "    # @param A : list of list of integers\n",
    "    # @return the same list modified\n",
    "    def setZeroes(self, matrix):\n",
    "        \"\"\"\n",
    "        Space O(1)\n",
    "        Time O(m * n)\n",
    "        \"\"\"\n",
    "        rows = len(matrix)\n",
    "        cols = len(matrix[0])\n",
    "        first_row_0 = False\n",
    "        first_col_0 = False\n",
    "\n",
    "        for i in range(rows):\n",
    "            if matrix[i][0] == 0:\n",
    "                first_col_0 = True\n",
    "\n",
    "        for j in range(cols):\n",
    "            if matrix[0][j] == 0:\n",
    "                first_row_0 = True\n",
    "\n",
    "        for i in range(1, rows):\n",
    "            for j in range(1, cols):\n",
    "                if matrix[i][j] == 0:\n",
    "                    matrix[i][0] = matrix[0][j] = 0\n",
    "\n",
    "        for i in range(1, rows):\n",
    "            for j in range(1, cols):\n",
    "                if matrix[i][0] == 0 or matrix[0][j] == 0:\n",
    "                    matrix[i][j] = 0\n",
    "\n",
    "        if first_row_0:\n",
    "            for j in range(cols):\n",
    "                matrix[0][j] = 0\n",
    "        \n",
    "        if first_col_0:\n",
    "            for i in range(rows):\n",
    "                matrix[i][0] = 0\n",
    "        return matrix\n"
   ]
  },
  {
   "cell_type": "code",
   "execution_count": 13,
   "metadata": {},
   "outputs": [
    {
     "data": {
      "text/plain": [
       "[[0, 0, 0], [1, 0, 1], [1, 0, 1]]"
      ]
     },
     "execution_count": 13,
     "metadata": {},
     "output_type": "execute_result"
    }
   ],
   "source": [
    "A = [[1, 0, 1],\n",
    "     [1, 1, 1],\n",
    "     [1, 1, 1]]\n",
    "sol = Solution()\n",
    "sol.setZeroes(A)"
   ]
  },
  {
   "cell_type": "code",
   "execution_count": 14,
   "metadata": {},
   "outputs": [
    {
     "data": {
      "text/plain": [
       "[[0, 0, 0], [1, 0, 1], [0, 0, 0]]"
      ]
     },
     "execution_count": 14,
     "metadata": {},
     "output_type": "execute_result"
    }
   ],
   "source": [
    "A = [[1, 0, 1],\n",
    "     [1, 1, 1],\n",
    "     [1, 0, 1]]\n",
    "sol = Solution()\n",
    "sol.setZeroes(A)"
   ]
  }
 ],
 "metadata": {
  "kernelspec": {
   "display_name": "base",
   "language": "python",
   "name": "python3"
  },
  "language_info": {
   "codemirror_mode": {
    "name": "ipython",
    "version": 3
   },
   "file_extension": ".py",
   "mimetype": "text/x-python",
   "name": "python",
   "nbconvert_exporter": "python",
   "pygments_lexer": "ipython3",
   "version": "3.11.3"
  },
  "orig_nbformat": 4
 },
 "nbformat": 4,
 "nbformat_minor": 2
}
