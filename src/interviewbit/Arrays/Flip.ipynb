{
 "cells": [
  {
   "cell_type": "code",
   "execution_count": null,
   "metadata": {},
   "outputs": [],
   "source": [
    "# https://www.interviewbit.com/problems/flip/"
   ]
  },
  {
   "cell_type": "code",
   "execution_count": 40,
   "metadata": {},
   "outputs": [],
   "source": [
    "class Solution:\n",
    "    # @param A : string\n",
    "    # @return a list of integers\n",
    "    def flip(self, A):\n",
    "        n = len(A)\n",
    "        prefix_sum = [0] * (n + 1)\n",
    "        for i in range(1, n + 1):\n",
    "            prefix_sum[i] = prefix_sum[i-1] + (1 if A[i-1] == '0' else 0)\n",
    "        total_zeroes = prefix_sum[n]\n",
    "        total_ones = n - total_zeroes\n",
    "        max_ones_after_flip = total_ones\n",
    "        ans = []\n",
    "        for i in range(n):\n",
    "            for j in range(i + 1, n + 1):\n",
    "                range_length = j - i\n",
    "                zeroes_in_range = prefix_sum[j] - prefix_sum[i]\n",
    "                ones_in_range = range_length - zeroes_in_range\n",
    "                ones_after_flip = zeroes_in_range\n",
    "                total_ones_new = total_ones - ones_in_range + ones_after_flip\n",
    "                if total_ones_new > max_ones_after_flip:\n",
    "                    max_ones_after_flip = total_ones_new\n",
    "                    ans = [i + 1, j]\n",
    "        return ans"
   ]
  },
  {
   "cell_type": "code",
   "execution_count": 41,
   "metadata": {},
   "outputs": [],
   "source": [
    "class Solution:\n",
    "    # @param A : string\n",
    "    # @return a list of integers\n",
    "    def flip(self, A):\n",
    "        n = len(A)\n",
    "        prefix_sum = [0] * (n + 1)\n",
    "        for i in range(1, n + 1):\n",
    "            prefix_sum[i] = prefix_sum[i-1] + (1 if A[i-1] == '0' else 0)\n",
    "        total_zeroes = prefix_sum[n]\n",
    "        total_ones = n - total_zeroes\n",
    "        max_ones_after_flip = total_ones\n",
    "        ans = []\n",
    "        for i in range(n):\n",
    "            for j in range(i + 1, n + 1):\n",
    "                range_length = j - i\n",
    "                zeroes_in_range = prefix_sum[j] - prefix_sum[i]\n",
    "                ones_in_range = range_length - zeroes_in_range\n",
    "                total_ones_new = total_ones - ones_in_range + zeroes_in_range\n",
    "                # since we are adding the zeroes in range\n",
    "                # and subtracting ones in range\n",
    "                # if we convert zeroes to 1\n",
    "                # and convert ones to -1\n",
    "                # then we can apply kadane's algorithm \n",
    "                # the s will be the change in total_ones, after flipping in that range\n",
    "                if total_ones_new > max_ones_after_flip:\n",
    "                    max_ones_after_flip = total_ones_new\n",
    "                    ans = [i + 1, j]\n",
    "        return ans"
   ]
  },
  {
   "cell_type": "code",
   "execution_count": 42,
   "metadata": {},
   "outputs": [],
   "source": [
    "class Solution:\n",
    "    # @param A : string\n",
    "    # @return a list of integers\n",
    "    def flip(self, A):\n",
    "        n = len(A)\n",
    "        values = [1 if v == '0' else -1 for v in A]\n",
    "        start = 0\n",
    "        s = 0\n",
    "        increase = 0\n",
    "        ans = []\n",
    "        for i in range(n):\n",
    "            s += values[i]\n",
    "            if s > increase:\n",
    "                increase = s\n",
    "                ans = [start + 1, i + 1]\n",
    "            if s < 0:\n",
    "                start = i + 1\n",
    "                s = 0\n",
    "        return ans"
   ]
  },
  {
   "cell_type": "code",
   "execution_count": 43,
   "metadata": {},
   "outputs": [],
   "source": [
    "'''\n",
    "Input 1:\n",
    "\n",
    "A = \"010\"\n",
    "Input 2:\n",
    "\n",
    "A = \"111\"\n",
    "'''\n",
    "pass"
   ]
  },
  {
   "cell_type": "code",
   "execution_count": 44,
   "metadata": {},
   "outputs": [
    {
     "data": {
      "text/plain": [
       "[1, 1]"
      ]
     },
     "execution_count": 44,
     "metadata": {},
     "output_type": "execute_result"
    }
   ],
   "source": [
    "A = \"010\"\n",
    "sol = Solution()\n",
    "sol.flip(A)"
   ]
  },
  {
   "cell_type": "code",
   "execution_count": 45,
   "metadata": {},
   "outputs": [
    {
     "data": {
      "text/plain": [
       "[]"
      ]
     },
     "execution_count": 45,
     "metadata": {},
     "output_type": "execute_result"
    }
   ],
   "source": [
    "A = \"111\"\n",
    "sol = Solution()\n",
    "sol.flip(A)"
   ]
  }
 ],
 "metadata": {
  "kernelspec": {
   "display_name": "dsa-venv",
   "language": "python",
   "name": "python3"
  },
  "language_info": {
   "codemirror_mode": {
    "name": "ipython",
    "version": 3
   },
   "file_extension": ".py",
   "mimetype": "text/x-python",
   "name": "python",
   "nbconvert_exporter": "python",
   "pygments_lexer": "ipython3",
   "version": "3.11.3"
  }
 },
 "nbformat": 4,
 "nbformat_minor": 2
}
