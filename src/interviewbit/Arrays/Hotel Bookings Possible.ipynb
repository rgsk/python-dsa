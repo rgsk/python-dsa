{
 "cells": [
  {
   "cell_type": "code",
   "execution_count": 28,
   "metadata": {},
   "outputs": [],
   "source": [
    "# https://www.interviewbit.com/problems/hotel-bookings-possible/"
   ]
  },
  {
   "cell_type": "code",
   "execution_count": 29,
   "metadata": {},
   "outputs": [],
   "source": [
    "'''\n",
    "since overlaps are not allowed\n",
    "we need to keep the arrival first \n",
    "in case arrive time of next guest is same as departure time of current guest\n",
    "(that's why second value of tuple is assigned as 0 for arrive array)\n",
    "because if guest arrives at the same as other guest departure\n",
    "we need a room in that case\n",
    "'''\n",
    "\n",
    "class Solution:\n",
    "    def hotel(self, arrive, depart, K):\n",
    "        events = [(t, 0) for t in arrive] + [(t, 1) for t in depart]\n",
    "        events = sorted(events)\n",
    "        guests = 0\n",
    "        for event in events:\n",
    "            if event[1] == 0:\n",
    "                guests += 1\n",
    "            else:\n",
    "                guests -= 1\n",
    "            if guests > K:\n",
    "                return 0\n",
    "        return 1"
   ]
  },
  {
   "cell_type": "code",
   "execution_count": 30,
   "metadata": {},
   "outputs": [
    {
     "data": {
      "text/plain": [
       "0"
      ]
     },
     "execution_count": 30,
     "metadata": {},
     "output_type": "execute_result"
    }
   ],
   "source": [
    "A = [1, 3, 5]\n",
    "B = [2, 6, 8]\n",
    "C = 1\n",
    "\n",
    "sol = Solution()\n",
    "sol.hotel(A, B, C)"
   ]
  },
  {
   "cell_type": "code",
   "execution_count": 31,
   "metadata": {},
   "outputs": [
    {
     "data": {
      "text/plain": [
       "1"
      ]
     },
     "execution_count": 31,
     "metadata": {},
     "output_type": "execute_result"
    }
   ],
   "source": [
    "A = [1, 3, 7]\n",
    "B = [2, 6, 8]\n",
    "C = 1\n",
    "\n",
    "sol = Solution()\n",
    "sol.hotel(A, B, C)"
   ]
  },
  {
   "cell_type": "code",
   "execution_count": 32,
   "metadata": {},
   "outputs": [
    {
     "data": {
      "text/plain": [
       "0"
      ]
     },
     "execution_count": 32,
     "metadata": {},
     "output_type": "execute_result"
    }
   ],
   "source": [
    "A = [ 1, 2, 3 ]\n",
    "B = [ 2, 3, 4 ]\n",
    "C = 1\n",
    "sol = Solution()\n",
    "sol.hotel(A, B, C)"
   ]
  }
 ],
 "metadata": {
  "kernelspec": {
   "display_name": "dsa-venv",
   "language": "python",
   "name": "python3"
  },
  "language_info": {
   "codemirror_mode": {
    "name": "ipython",
    "version": 3
   },
   "file_extension": ".py",
   "mimetype": "text/x-python",
   "name": "python",
   "nbconvert_exporter": "python",
   "pygments_lexer": "ipython3",
   "version": "3.11.3"
  }
 },
 "nbformat": 4,
 "nbformat_minor": 2
}
