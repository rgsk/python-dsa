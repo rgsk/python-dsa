{
 "cells": [
  {
   "cell_type": "code",
   "execution_count": null,
   "metadata": {},
   "outputs": [],
   "source": [
    "# https://www.interviewbit.com/problems/max-non-negative-subarray/"
   ]
  },
  {
   "cell_type": "code",
   "execution_count": 41,
   "metadata": {},
   "outputs": [],
   "source": [
    "import math\n",
    "\n",
    "\n",
    "class Solution:\n",
    "    # @param A : list of integers\n",
    "    # @return a list of integers\n",
    "    def maxset(self, nums):\n",
    "        n = len(nums)\n",
    "        prefix_sum = [0] * (n + 1)\n",
    "        for i in range(1, n + 1):\n",
    "            prefix_sum[i] = prefix_sum[i-1] + nums[i - 1]\n",
    "\n",
    "        def get_sum(i, j):\n",
    "            return prefix_sum[j] - prefix_sum[i]\n",
    "        max_sum = -math.inf\n",
    "        start = 0\n",
    "        ans_ind = []\n",
    "        for i in range(n):\n",
    "            if nums[i] < 0:\n",
    "                cur_sum = get_sum(start, i)\n",
    "                if cur_sum > max_sum or (cur_sum == max_sum and ((not ans_ind) or (i - start > ans_ind[1] - ans_ind[0]))):\n",
    "                    ans_ind = [start, i]\n",
    "                    max_sum = cur_sum\n",
    "                start = i + 1\n",
    "        cur_sum = get_sum(start, n)\n",
    "        if cur_sum > max_sum:\n",
    "            ans_ind = [start, n]\n",
    "        if not ans_ind:\n",
    "            return []\n",
    "        return nums[ans_ind[0]: ans_ind[1]]"
   ]
  },
  {
   "cell_type": "code",
   "execution_count": 42,
   "metadata": {},
   "outputs": [
    {
     "data": {
      "text/plain": [
       "[1, 2, 5]"
      ]
     },
     "execution_count": 42,
     "metadata": {},
     "output_type": "execute_result"
    }
   ],
   "source": [
    "A = [1, 2, 5, -7, 2, 3]\n",
    "sol = Solution()\n",
    "sol.maxset(A)"
   ]
  },
  {
   "cell_type": "code",
   "execution_count": 43,
   "metadata": {},
   "outputs": [
    {
     "data": {
      "text/plain": [
       "[100]"
      ]
     },
     "execution_count": 43,
     "metadata": {},
     "output_type": "execute_result"
    }
   ],
   "source": [
    "A = [10, -1, 2, 3, -4, 100]\n",
    "sol = Solution()\n",
    "sol.maxset(A)"
   ]
  }
 ],
 "metadata": {
  "kernelspec": {
   "display_name": "dsa-venv",
   "language": "python",
   "name": "python3"
  },
  "language_info": {
   "codemirror_mode": {
    "name": "ipython",
    "version": 3
   },
   "file_extension": ".py",
   "mimetype": "text/x-python",
   "name": "python",
   "nbconvert_exporter": "python",
   "pygments_lexer": "ipython3",
   "version": "3.11.3"
  }
 },
 "nbformat": 4,
 "nbformat_minor": 2
}
