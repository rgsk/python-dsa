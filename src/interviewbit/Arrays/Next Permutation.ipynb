{
 "cells": [
  {
   "cell_type": "code",
   "execution_count": 4,
   "metadata": {},
   "outputs": [],
   "source": [
    "# https://www.interviewbit.com/problems/next-permutation/"
   ]
  },
  {
   "cell_type": "code",
   "execution_count": 5,
   "metadata": {},
   "outputs": [],
   "source": [
    "class Solution:\n",
    "    # @param A : list of integers\n",
    "    # @return a list of integers\n",
    "    def nextPermutation(self, nums):\n",
    "        n = len(nums)\n",
    "        firstDropIndex = -1\n",
    "        for i in range(n-1, 0, -1):\n",
    "            if nums[i-1] < nums[i]:\n",
    "                firstDropIndex = i-1\n",
    "                break\n",
    "        if firstDropIndex == -1:\n",
    "            nums.reverse()\n",
    "            return nums\n",
    "        firstElementThatIsGreaterThanElementAtFirstDropIndex = -1\n",
    "        for i in range(n-1, firstDropIndex, -1):\n",
    "            if nums[i] > nums[firstDropIndex]:\n",
    "                firstElementThatIsGreaterThanElementAtFirstDropIndex = i\n",
    "                break\n",
    "        nums[firstDropIndex], nums[firstElementThatIsGreaterThanElementAtFirstDropIndex] = nums[firstElementThatIsGreaterThanElementAtFirstDropIndex], nums[firstDropIndex]\n",
    "        nums[firstDropIndex + 1:] = reversed(nums[firstDropIndex + 1:])\n",
    "        return nums"
   ]
  },
  {
   "cell_type": "code",
   "execution_count": 6,
   "metadata": {},
   "outputs": [
    {
     "data": {
      "text/plain": [
       "[1, 3, 2]"
      ]
     },
     "execution_count": 6,
     "metadata": {},
     "output_type": "execute_result"
    }
   ],
   "source": [
    "A = [1, 2, 3]\n",
    "sol = Solution()\n",
    "sol.nextPermutation(A)"
   ]
  }
 ],
 "metadata": {
  "kernelspec": {
   "display_name": "dsa-venv",
   "language": "python",
   "name": "python3"
  },
  "language_info": {
   "codemirror_mode": {
    "name": "ipython",
    "version": 3
   },
   "file_extension": ".py",
   "mimetype": "text/x-python",
   "name": "python",
   "nbconvert_exporter": "python",
   "pygments_lexer": "ipython3",
   "version": "3.11.3"
  }
 },
 "nbformat": 4,
 "nbformat_minor": 2
}
