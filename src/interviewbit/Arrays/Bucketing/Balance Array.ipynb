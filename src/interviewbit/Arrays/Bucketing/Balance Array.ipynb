{
 "cells": [
  {
   "cell_type": "code",
   "execution_count": 4,
   "metadata": {},
   "outputs": [],
   "source": [
    "class Solution:\n",
    "    # @param A : list of integers\n",
    "    # @return an integer\n",
    "    def solve(self, A):\n",
    "        n = len(A)\n",
    "        odd = 0\n",
    "        even = 0\n",
    "        leftOdd = [0] * n\n",
    "        rightOdd = [0] * n\n",
    "        leftEven = [0] * n\n",
    "        rightEven = [0] * n\n",
    "        for i in range(n):\n",
    "            leftOdd[i] = odd\n",
    "            leftEven[i] = even\n",
    "            if(i%2 == 0):\n",
    "                even += A[i]\n",
    "            else:\n",
    "                odd += A[i]\n",
    "        \n",
    "        odd = 0\n",
    "        even = 0\n",
    "        for i in range(n-1, -1, -1):\n",
    "            rightOdd[i] = odd\n",
    "            rightEven[i] = even\n",
    "            if(i%2 == 0):\n",
    "                even += A[i]\n",
    "            else:\n",
    "                odd += A[i]\n",
    "        \n",
    "        ans = 0\n",
    "        for i in range(n):\n",
    "            if(leftOdd[i] + rightEven[i] == leftEven[i] + rightOdd[i]):\n",
    "                ans += 1\n",
    "            \n",
    "        return ans"
   ]
  },
  {
   "cell_type": "code",
   "execution_count": 5,
   "metadata": {},
   "outputs": [
    {
     "name": "stdout",
     "output_type": "stream",
     "text": [
      "1\n"
     ]
    }
   ],
   "source": [
    "A = [2, 1, 6, 4]\n",
    "sol = Solution()\n",
    "print(sol.solve(A))\n"
   ]
  },
  {
   "cell_type": "code",
   "execution_count": 6,
   "metadata": {},
   "outputs": [
    {
     "name": "stdout",
     "output_type": "stream",
     "text": [
      "2\n"
     ]
    }
   ],
   "source": [
    "A = [5, 5, 2, 5, 8]\n",
    "sol = Solution()\n",
    "print(sol.solve(A))"
   ]
  }
 ],
 "metadata": {
  "kernelspec": {
   "display_name": "Python 3.10.4 ('template-venv': venv)",
   "language": "python",
   "name": "python3"
  },
  "language_info": {
   "codemirror_mode": {
    "name": "ipython",
    "version": 3
   },
   "file_extension": ".py",
   "mimetype": "text/x-python",
   "name": "python",
   "nbconvert_exporter": "python",
   "pygments_lexer": "ipython3",
   "version": "3.10.4"
  },
  "orig_nbformat": 4,
  "vscode": {
   "interpreter": {
    "hash": "0b8dd1d11c220dfc9d15848c82c145ba1a021fcb056c07a0cc073ae3ed6d8420"
   }
  }
 },
 "nbformat": 4,
 "nbformat_minor": 2
}
