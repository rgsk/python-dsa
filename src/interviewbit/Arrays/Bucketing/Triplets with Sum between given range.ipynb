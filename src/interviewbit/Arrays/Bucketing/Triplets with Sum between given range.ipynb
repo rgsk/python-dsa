{
 "cells": [
  {
   "cell_type": "code",
   "execution_count": 19,
   "metadata": {},
   "outputs": [],
   "source": [
    "# https://www.interviewbit.com/problems/triplets-with-sum-between-given-range/"
   ]
  },
  {
   "cell_type": "code",
   "execution_count": 20,
   "metadata": {},
   "outputs": [],
   "source": [
    "class Solution:\n",
    "    # @param A : list of strings\n",
    "    # @return an integer\n",
    "    def solve(self, A):\n",
    "        A_floats = [float(v) for v in A]\n",
    "        n = len(A_floats)\n",
    "        for i in range(n):\n",
    "            for j in range(i+1, n):\n",
    "                for k in range(j+1, n):\n",
    "                    if 1 < A_floats[i] + A_floats[j] + A_floats[k] < 2:\n",
    "                        return 1\n",
    "        return 0"
   ]
  },
  {
   "cell_type": "code",
   "execution_count": 21,
   "metadata": {},
   "outputs": [],
   "source": [
    "class Solution:\n",
    "    # @param A : list of strings\n",
    "    # @return an integer\n",
    "    def solve(self, A):\n",
    "        for i in range(len(A)):\n",
    "            A[i] = (float(A[i]))\n",
    "        A.sort()\n",
    "        arr = []\n",
    "        for i in range(len(A)):\n",
    "            if A[i] < 2:\n",
    "                arr.append(A[i])\n",
    "\n",
    "        if len(arr) < 3:\n",
    "            return 0\n",
    "\n",
    "        l = 1\n",
    "        r = len(arr)-1\n",
    "        while (l < r):\n",
    "            # TRICK: this is a nice pattern\n",
    "            # that we can take 2 smallest values\n",
    "            s = arr[l-1]+arr[l]+arr[r]\n",
    "            if s < 2 and s > 1:\n",
    "                return 1\n",
    "            elif s <= 1:\n",
    "                l = l+1\n",
    "            else:\n",
    "                r = r-1\n",
    "\n",
    "        return 0"
   ]
  },
  {
   "cell_type": "code",
   "execution_count": 22,
   "metadata": {},
   "outputs": [
    {
     "data": {
      "text/plain": [
       "1"
      ]
     },
     "execution_count": 22,
     "metadata": {},
     "output_type": "execute_result"
    }
   ],
   "source": [
    "A = [\"0.6\", \"0.7\", \"0.8\", \"1.2\", \"0.4\"]\n",
    "sol = Solution()\n",
    "sol.solve(A)"
   ]
  }
 ],
 "metadata": {
  "kernelspec": {
   "display_name": "dsa-venv",
   "language": "python",
   "name": "python3"
  },
  "language_info": {
   "codemirror_mode": {
    "name": "ipython",
    "version": 3
   },
   "file_extension": ".py",
   "mimetype": "text/x-python",
   "name": "python",
   "nbconvert_exporter": "python",
   "pygments_lexer": "ipython3",
   "version": "3.11.3"
  }
 },
 "nbformat": 4,
 "nbformat_minor": 2
}
