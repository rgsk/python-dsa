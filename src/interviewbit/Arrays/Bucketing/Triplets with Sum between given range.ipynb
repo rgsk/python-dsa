{
 "cells": [
  {
   "cell_type": "code",
   "execution_count": 156,
   "metadata": {},
   "outputs": [],
   "source": [
    "# https://www.interviewbit.com/problems/triplets-with-sum-between-given-range/"
   ]
  },
  {
   "cell_type": "code",
   "execution_count": 157,
   "metadata": {},
   "outputs": [],
   "source": [
    "class Solution:\n",
    "    # @param A : list of strings\n",
    "    # @return an integer\n",
    "    def solve(self, A):\n",
    "        A_floats = [float(v) for v in A]\n",
    "        n = len(A_floats)\n",
    "        for i in range(n):\n",
    "            for j in range(i+1, n):\n",
    "                for k in range(j+1, n):\n",
    "                    if 1 < A_floats[i] + A_floats[j] + A_floats[k] < 2:\n",
    "                        return 1\n",
    "        return 0"
   ]
  },
  {
   "cell_type": "code",
   "execution_count": 158,
   "metadata": {},
   "outputs": [],
   "source": [
    "class Solution:\n",
    "    # @param A : list of strings\n",
    "    # @return an integer\n",
    "    def solve(self, A):\n",
    "        for i in range(len(A)):\n",
    "            A[i] = (float(A[i]))\n",
    "        A.sort()\n",
    "        arr = []\n",
    "        for i in range(len(A)):\n",
    "            if A[i] < 2:\n",
    "                arr.append(A[i])\n",
    "\n",
    "        if len(arr) < 3:\n",
    "            return 0\n",
    "\n",
    "        l = 1\n",
    "        r = len(arr)-1\n",
    "        while (l < r):\n",
    "            # TRICK: this is a nice pattern\n",
    "            # that we can take 2 smallest values\n",
    "            s = arr[l-1]+arr[l]+arr[r]\n",
    "            if s < 2 and s > 1:\n",
    "                return 1\n",
    "            elif s <= 1:\n",
    "                l = l+1\n",
    "            else:\n",
    "                r = r-1\n",
    "\n",
    "        return 0"
   ]
  },
  {
   "cell_type": "code",
   "execution_count": 159,
   "metadata": {},
   "outputs": [],
   "source": [
    "# https://www.interviewbit.com/problems/triplets-with-sum-between-given-range/hints/\n",
    "\n",
    "# https://www.youtube.com/watch?v=T3C7g8NohKw\n",
    "\n",
    "\n",
    "INT_MAX = (2 ** 31)-1\n",
    "INT_MIN = -(2 ** 31)\n",
    "\n",
    "\n",
    "class Solution:\n",
    "    # @param A : list of strings\n",
    "    # @return an integer\n",
    "    def solve(self, A):\n",
    "        B = [float(i) for i in A]\n",
    "        buckets = [[], [], []]\n",
    "        for i in B:\n",
    "            if i < 2.0/3:\n",
    "                buckets[0].append(i)\n",
    "            elif i < 1:\n",
    "                buckets[1].append(i)\n",
    "            else:\n",
    "                buckets[2].append(i)\n",
    "\n",
    "        def get(index):\n",
    "            mx1, mx2, mx3 = INT_MIN, INT_MIN, INT_MIN\n",
    "            mi1, mi2, mi3 = INT_MAX, INT_MAX, INT_MAX\n",
    "            for i in buckets[index]:\n",
    "                if i > mx1:\n",
    "                    mx1, mx2, mx3 = i, mx1, mx2\n",
    "                elif i > mx2:\n",
    "                    mx2, mx3 = i, mx2\n",
    "                elif i > mx3:\n",
    "                    mx3 = i\n",
    "\n",
    "                if i < mi1:\n",
    "                    mi1, mi2, mi3 = i, mi1, mi2\n",
    "                elif i < mi2:\n",
    "                    mi2, mi3 = i, mi2\n",
    "                elif i < mi3:\n",
    "                    mi3 = i\n",
    "            return [mi1, mi2, mi3, mx1, mx2, mx3]\n",
    "\n",
    "        a = get(0)\n",
    "        b = get(1)\n",
    "        c = get(2)\n",
    "        # print(f'{a=} {b=} {c=}')\n",
    "        # AAA\n",
    "        if a[3] + a[4] + a[5] > 1:\n",
    "            return 1\n",
    "        min_a_total = a[0] + a[1]\n",
    "        max_a_total = a[3] + a[4]\n",
    "\n",
    "        # AAB\n",
    "        if b[0] > 1 - min_a_total and b[0] < 2 - min_a_total:\n",
    "            return 1\n",
    "        \n",
    "        # AAB\n",
    "        if b[3] > 1 - max_a_total and b[3] < 2 - max_a_total:\n",
    "            return 1\n",
    "        \n",
    "\n",
    "        # AAC\n",
    "        if a[0] + a[1] + c[0] < 2:\n",
    "            return 1\n",
    "        # ABB\n",
    "        if a[0] + b[0] + b[1] < 2:\n",
    "            return 1\n",
    "        # ABC\n",
    "        if a[0] + b[0] + c[0] < 2:\n",
    "            return 1\n",
    "        return 0"
   ]
  },
  {
   "cell_type": "code",
   "execution_count": 160,
   "metadata": {},
   "outputs": [
    {
     "data": {
      "text/plain": [
       "1"
      ]
     },
     "execution_count": 160,
     "metadata": {},
     "output_type": "execute_result"
    }
   ],
   "source": [
    "A = [\"0.6\", \"0.7\", \"0.8\", \"1.2\", \"0.4\"]\n",
    "sol = Solution()\n",
    "sol.solve(A)"
   ]
  },
  {
   "cell_type": "code",
   "execution_count": 161,
   "metadata": {},
   "outputs": [
    {
     "data": {
      "text/plain": [
       "0"
      ]
     },
     "execution_count": 161,
     "metadata": {},
     "output_type": "execute_result"
    }
   ],
   "source": [
    "A = [ \"0.503094\", \"0.648924\", \"0.999298\" ]\n",
    "sol = Solution()\n",
    "sol.solve(A)"
   ]
  }
 ],
 "metadata": {
  "kernelspec": {
   "display_name": "dsa-venv",
   "language": "python",
   "name": "python3"
  },
  "language_info": {
   "codemirror_mode": {
    "name": "ipython",
    "version": 3
   },
   "file_extension": ".py",
   "mimetype": "text/x-python",
   "name": "python",
   "nbconvert_exporter": "python",
   "pygments_lexer": "ipython3",
   "version": "3.11.3"
  }
 },
 "nbformat": 4,
 "nbformat_minor": 2
}
