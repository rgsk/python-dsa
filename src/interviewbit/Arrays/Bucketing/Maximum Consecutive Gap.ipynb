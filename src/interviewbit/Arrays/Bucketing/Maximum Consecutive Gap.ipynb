{
 "cells": [
  {
   "cell_type": "code",
   "execution_count": 1,
   "metadata": {},
   "outputs": [],
   "source": [
    "class Solution:\n",
    "    # @param A : tuple of integers\n",
    "    # @return an integer\n",
    "    def maximumGap(self, A):\n",
    "        A = sorted(A)\n",
    "        ans = 0\n",
    "        n = len(A)\n",
    "        for i in range(1, n):\n",
    "            ans = max(ans, A[i] - A[i-1])\n",
    "        return ans"
   ]
  },
  {
   "cell_type": "code",
   "execution_count": 2,
   "metadata": {},
   "outputs": [],
   "source": [
    "import math\n",
    "from typing import List\n",
    "\n",
    "\n",
    "class Solution:\n",
    "    def maximumGap(self, nums: List[int]) -> int:\n",
    "        '''\n",
    "            time O(n)\n",
    "            space O(n)\n",
    "        '''\n",
    "        n = len(nums)\n",
    "        if n < 2:\n",
    "            return 0\n",
    "        minElement = min(nums)\n",
    "        maxElement = max(nums)\n",
    "        totalRange = maxElement - minElement\n",
    "        if totalRange == 0:\n",
    "            return 0\n",
    "        totalGaps = n - 1\n",
    "        gap = totalRange / totalGaps\n",
    "        buckets = [[math.inf, -math.inf] for _ in range(totalGaps + 1)]\n",
    "        for v in nums:\n",
    "            bucketIndex = math.floor((v - minElement) / gap)\n",
    "            buckets[bucketIndex][0] = min(v, buckets[bucketIndex][0])\n",
    "            buckets[bucketIndex][1] = max(v, buckets[bucketIndex][1])\n",
    "        prev = buckets[0][1]\n",
    "        ans = 0\n",
    "        for i in range(1, totalGaps + 1):\n",
    "            if buckets[i][0] != math.inf:\n",
    "                ans = max(ans, buckets[i][0] - prev)\n",
    "                prev = buckets[i][1]\n",
    "        return ans"
   ]
  },
  {
   "cell_type": "code",
   "execution_count": 3,
   "metadata": {},
   "outputs": [
    {
     "data": {
      "text/plain": [
       "5"
      ]
     },
     "execution_count": 3,
     "metadata": {},
     "output_type": "execute_result"
    }
   ],
   "source": [
    "A = (1, 10, 5)\n",
    "sol = Solution()\n",
    "sol.maximumGap(A)"
   ]
  }
 ],
 "metadata": {
  "kernelspec": {
   "display_name": "dsa-venv",
   "language": "python",
   "name": "python3"
  },
  "language_info": {
   "codemirror_mode": {
    "name": "ipython",
    "version": 3
   },
   "file_extension": ".py",
   "mimetype": "text/x-python",
   "name": "python",
   "nbconvert_exporter": "python",
   "pygments_lexer": "ipython3",
   "version": "3.11.3"
  },
  "orig_nbformat": 4
 },
 "nbformat": 4,
 "nbformat_minor": 2
}
