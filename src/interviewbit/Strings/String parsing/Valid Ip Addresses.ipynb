{
 "cells": [
  {
   "cell_type": "code",
   "execution_count": 1,
   "metadata": {},
   "outputs": [],
   "source": [
    "# https://www.interviewbit.com/problems/valid-ip-addresses/"
   ]
  },
  {
   "cell_type": "code",
   "execution_count": 2,
   "metadata": {},
   "outputs": [],
   "source": [
    "class Solution:\n",
    "    # @param A : string\n",
    "    # @return a list of strings\n",
    "    def restoreIpAddresses(self, A):\n",
    "        n = len(A)\n",
    "        ans = []\n",
    "        def helper(i=0, cur = []):\n",
    "            if len(cur) > 4:\n",
    "                return\n",
    "            if i == n:\n",
    "                if len(cur) == 4:\n",
    "                    ans.append(\".\".join([str(v) for v in cur]))\n",
    "                return\n",
    "            if len(cur) and cur[-1] != 0:\n",
    "                # assign current digit to last value\n",
    "                new_val = cur[-1] * 10 + int(A[i])\n",
    "                if new_val <= 255:\n",
    "                    cur[-1] = new_val\n",
    "                    helper(i+1, cur)\n",
    "                    cur[-1] //= 10\n",
    "\n",
    "            cur.append(int(A[i]))\n",
    "            helper(i+1, cur)\n",
    "            cur.pop()\n",
    "        helper()\n",
    "        return ans"
   ]
  },
  {
   "cell_type": "code",
   "execution_count": 3,
   "metadata": {},
   "outputs": [
    {
     "data": {
      "text/plain": [
       "['255.255.111.35', '255.255.11.135']"
      ]
     },
     "execution_count": 3,
     "metadata": {},
     "output_type": "execute_result"
    }
   ],
   "source": [
    "A = \"25525511135\"\n",
    "sol = Solution()\n",
    "sol.restoreIpAddresses(A)"
   ]
  },
  {
   "cell_type": "code",
   "execution_count": 4,
   "metadata": {},
   "outputs": [
    {
     "data": {
      "text/plain": [
       "['0.100.10.0', '0.10.0.100']"
      ]
     },
     "execution_count": 4,
     "metadata": {},
     "output_type": "execute_result"
    }
   ],
   "source": [
    "A = \"0100100\"\n",
    "sol = Solution()\n",
    "sol.restoreIpAddresses(A)"
   ]
  }
 ],
 "metadata": {
  "kernelspec": {
   "display_name": "dsa-venv",
   "language": "python",
   "name": "python3"
  },
  "language_info": {
   "codemirror_mode": {
    "name": "ipython",
    "version": 3
   },
   "file_extension": ".py",
   "mimetype": "text/x-python",
   "name": "python",
   "nbconvert_exporter": "python",
   "pygments_lexer": "ipython3",
   "version": "3.11.3"
  }
 },
 "nbformat": 4,
 "nbformat_minor": 2
}
