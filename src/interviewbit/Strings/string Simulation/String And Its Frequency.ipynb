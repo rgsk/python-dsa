{
 "cells": [
  {
   "cell_type": "code",
   "execution_count": 4,
   "metadata": {},
   "outputs": [],
   "source": [
    "# https://www.interviewbit.com/problems/string-and-its-frequency/"
   ]
  },
  {
   "cell_type": "code",
   "execution_count": 5,
   "metadata": {},
   "outputs": [],
   "source": [
    "from collections import defaultdict\n",
    "\n",
    "\n",
    "class Solution:\n",
    "    # @param A : string\n",
    "    # @return a strings\n",
    "    def solve(self, A):\n",
    "        freq = defaultdict(int)\n",
    "        for c in A:\n",
    "            freq[c] += 1\n",
    "        ans = \"\"\n",
    "        for c in A:\n",
    "            if freq[c] > 0:\n",
    "                ans += c + str(freq[c])\n",
    "                freq[c] = 0\n",
    "        return ans"
   ]
  },
  {
   "cell_type": "code",
   "execution_count": 6,
   "metadata": {},
   "outputs": [
    {
     "data": {
      "text/plain": [
       "'a2b3h3u1c1f1g1'"
      ]
     },
     "execution_count": 6,
     "metadata": {},
     "output_type": "execute_result"
    }
   ],
   "source": [
    "A = \"abbhuabcfghh\"\n",
    "sol = Solution()\n",
    "sol.solve(A)"
   ]
  }
 ],
 "metadata": {
  "kernelspec": {
   "display_name": "dsa-venv",
   "language": "python",
   "name": "python3"
  },
  "language_info": {
   "codemirror_mode": {
    "name": "ipython",
    "version": 3
   },
   "file_extension": ".py",
   "mimetype": "text/x-python",
   "name": "python",
   "nbconvert_exporter": "python",
   "pygments_lexer": "ipython3",
   "version": "3.11.3"
  }
 },
 "nbformat": 4,
 "nbformat_minor": 2
}
