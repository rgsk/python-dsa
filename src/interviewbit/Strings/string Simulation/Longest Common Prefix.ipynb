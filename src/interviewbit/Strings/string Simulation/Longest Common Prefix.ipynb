{
 "cells": [
  {
   "cell_type": "code",
   "execution_count": 10,
   "metadata": {},
   "outputs": [],
   "source": [
    "# https://www.interviewbit.com/problems/longest-common-prefix/"
   ]
  },
  {
   "cell_type": "code",
   "execution_count": 11,
   "metadata": {},
   "outputs": [],
   "source": [
    "from typing import List\n",
    "\n",
    "\n",
    "class Solution:\n",
    "    # @param A : list of strings\n",
    "    # @return a strings\n",
    "    def longestCommonPrefix(self, A: List[str]):\n",
    "        cur_word = A[0]\n",
    "\n",
    "        while len(cur_word) > 0:\n",
    "            c = 0\n",
    "            for word in A:\n",
    "                if word.startswith(cur_word):\n",
    "                    c += 1\n",
    "            if c == len(A):\n",
    "                break\n",
    "            else:\n",
    "                cur_word = cur_word[:-1]\n",
    "        return cur_word"
   ]
  },
  {
   "cell_type": "code",
   "execution_count": 12,
   "metadata": {},
   "outputs": [],
   "source": [
    "class Solution:\n",
    "    # @param A : list of strings\n",
    "    # @return a strings\n",
    "    def longestCommonPrefix(self, words):\n",
    "        min_word = min(words, key=lambda word: len(word))\n",
    "        \n",
    "        for i in range(len(min_word)):\n",
    "            for j in range(len(words)):\n",
    "                if words[j][i] != min_word[i]:\n",
    "                    return min_word[:i]\n",
    "\n",
    "        return min_word"
   ]
  },
  {
   "cell_type": "code",
   "execution_count": 13,
   "metadata": {},
   "outputs": [
    {
     "data": {
      "text/plain": [
       "'a'"
      ]
     },
     "execution_count": 13,
     "metadata": {},
     "output_type": "execute_result"
    }
   ],
   "source": [
    "A = [\"abcdefgh\", \"aefghijk\", \"abcefgh\"]\n",
    "sol = Solution()\n",
    "sol.longestCommonPrefix(A)"
   ]
  },
  {
   "cell_type": "code",
   "execution_count": 14,
   "metadata": {},
   "outputs": [
    {
     "data": {
      "text/plain": [
       "'ab'"
      ]
     },
     "execution_count": 14,
     "metadata": {},
     "output_type": "execute_result"
    }
   ],
   "source": [
    "A = [\"abab\", \"ab\", \"abcd\"]\n",
    "sol = Solution()\n",
    "sol.longestCommonPrefix(A)"
   ]
  }
 ],
 "metadata": {
  "kernelspec": {
   "display_name": "dsa-venv",
   "language": "python",
   "name": "python3"
  },
  "language_info": {
   "codemirror_mode": {
    "name": "ipython",
    "version": 3
   },
   "file_extension": ".py",
   "mimetype": "text/x-python",
   "name": "python",
   "nbconvert_exporter": "python",
   "pygments_lexer": "ipython3",
   "version": "3.11.3"
  }
 },
 "nbformat": 4,
 "nbformat_minor": 2
}
