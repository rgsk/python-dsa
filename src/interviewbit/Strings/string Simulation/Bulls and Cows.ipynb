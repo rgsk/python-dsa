{
 "cells": [
  {
   "cell_type": "code",
   "execution_count": 24,
   "metadata": {},
   "outputs": [],
   "source": [
    "# https://www.interviewbit.com/problems/bulls-and-cows/"
   ]
  },
  {
   "cell_type": "code",
   "execution_count": 25,
   "metadata": {},
   "outputs": [],
   "source": [
    "class Solution:\n",
    "    # @param A : string\n",
    "    # @param B : string\n",
    "    # @return a strings\n",
    "    def solve(self, secret, guess):\n",
    "        freq_secret = {}\n",
    "        for i in range(len(secret)):\n",
    "            if secret[i] in freq_secret:\n",
    "                freq_secret[secret[i]].add(i)\n",
    "            else:\n",
    "                freq_secret[secret[i]] = {i}\n",
    "        bulls = 0\n",
    "        cows = 0\n",
    "        for i in range(len(guess)):\n",
    "            if guess[i] == secret[i]:\n",
    "                bulls += 1\n",
    "                freq_secret[secret[i]].remove(i)\n",
    "\n",
    "        for i in range(len(guess)):\n",
    "            if guess[i] != secret[i] and guess[i] in freq_secret and len(freq_secret[guess[i]]) > 0:\n",
    "                cows += 1\n",
    "                freq_secret[guess[i]].pop()\n",
    "                \n",
    "        return f'{bulls}A{cows}B'"
   ]
  },
  {
   "cell_type": "code",
   "execution_count": 26,
   "metadata": {},
   "outputs": [
    {
     "data": {
      "text/plain": [
       "'1A3B'"
      ]
     },
     "execution_count": 26,
     "metadata": {},
     "output_type": "execute_result"
    }
   ],
   "source": [
    "secret = \"1807\"\n",
    "guess = \"7810\"\n",
    "sol = Solution()\n",
    "sol.solve(secret, guess)"
   ]
  },
  {
   "cell_type": "code",
   "execution_count": 27,
   "metadata": {},
   "outputs": [
    {
     "data": {
      "text/plain": [
       "'1A1B'"
      ]
     },
     "execution_count": 27,
     "metadata": {},
     "output_type": "execute_result"
    }
   ],
   "source": [
    "secret = \"1123\"\n",
    "guess = \"0111\"\n",
    "sol = Solution()\n",
    "sol.solve(secret, guess)"
   ]
  },
  {
   "cell_type": "code",
   "execution_count": 28,
   "metadata": {},
   "outputs": [
    {
     "data": {
      "text/plain": [
       "'2A5B'"
      ]
     },
     "execution_count": 28,
     "metadata": {},
     "output_type": "execute_result"
    }
   ],
   "source": [
    "secret = \"3978973343647409\"\n",
    "guess = \"1890771099992259\"\n",
    "sol = Solution()\n",
    "sol.solve(secret, guess)"
   ]
  }
 ],
 "metadata": {
  "kernelspec": {
   "display_name": "dsa-venv",
   "language": "python",
   "name": "python3"
  },
  "language_info": {
   "codemirror_mode": {
    "name": "ipython",
    "version": 3
   },
   "file_extension": ".py",
   "mimetype": "text/x-python",
   "name": "python",
   "nbconvert_exporter": "python",
   "pygments_lexer": "ipython3",
   "version": "3.11.3"
  }
 },
 "nbformat": 4,
 "nbformat_minor": 2
}
