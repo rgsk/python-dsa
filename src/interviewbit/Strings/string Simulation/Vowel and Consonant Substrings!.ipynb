{
 "cells": [
  {
   "cell_type": "code",
   "execution_count": 62,
   "metadata": {},
   "outputs": [],
   "source": [
    "# https://www.interviewbit.com/problems/vowel-and-consonant-substrings/"
   ]
  },
  {
   "cell_type": "code",
   "execution_count": 63,
   "metadata": {},
   "outputs": [],
   "source": [
    "mod = 10**9 + 7\n",
    "def is_vowel(c):\n",
    "    return c in 'aeiou'\n",
    "\n",
    "class Solution:\n",
    "    # @param A : string\n",
    "    # @return an integer\n",
    "    def solve(self, A):\n",
    "        n = len(A)\n",
    "        c = 0\n",
    "        for i in range(n):\n",
    "            for j in range(i + 1, n):\n",
    "                f = is_vowel(A[i])\n",
    "                l = is_vowel(A[j])\n",
    "                if f ^ l:\n",
    "                    c += 1\n",
    "        return c % mod"
   ]
  },
  {
   "cell_type": "code",
   "execution_count": 64,
   "metadata": {},
   "outputs": [],
   "source": [
    "'''\n",
    "intution behind this solution\n",
    "consider string \"aebic\"\n",
    "\n",
    "there are 3 vowels\n",
    "and 2 consonants\n",
    "\n",
    "let's consider each vowel and make it's continue the substring till we encounter a consonant\n",
    "\n",
    "for a - \n",
    "aeb\n",
    "aebic\n",
    "\n",
    "for e - \n",
    "eb\n",
    "ebic\n",
    "\n",
    "for i - \n",
    "bi\n",
    "ic\n",
    "'''\n",
    "\n",
    "\n",
    "mod = 10**9 + 7\n",
    "def is_vowel(c):\n",
    "    return c in 'aeiou'\n",
    "\n",
    "class Solution:\n",
    "    # @param A : string\n",
    "    # @return an integer\n",
    "    def solve(self, A):\n",
    "        nvowels = 0\n",
    "        for c in A:\n",
    "            if is_vowel(c):\n",
    "                nvowels += 1\n",
    "        ncons = len(A) - nvowels\n",
    "        return (nvowels * ncons) % mod"
   ]
  },
  {
   "cell_type": "code",
   "execution_count": 65,
   "metadata": {},
   "outputs": [
    {
     "data": {
      "text/plain": [
       "2"
      ]
     },
     "execution_count": 65,
     "metadata": {},
     "output_type": "execute_result"
    }
   ],
   "source": [
    "A = \"aba\"\n",
    "sol = Solution()\n",
    "sol.solve(A)"
   ]
  },
  {
   "cell_type": "code",
   "execution_count": 66,
   "metadata": {},
   "outputs": [
    {
     "data": {
      "text/plain": [
       "0"
      ]
     },
     "execution_count": 66,
     "metadata": {},
     "output_type": "execute_result"
    }
   ],
   "source": [
    "A = \"a\"\n",
    "sol = Solution()\n",
    "sol.solve(A)"
   ]
  },
  {
   "cell_type": "code",
   "execution_count": 67,
   "metadata": {},
   "outputs": [
    {
     "data": {
      "text/plain": [
       "2"
      ]
     },
     "execution_count": 67,
     "metadata": {},
     "output_type": "execute_result"
    }
   ],
   "source": [
    "A = \"bsa\"\n",
    "sol = Solution()\n",
    "sol.solve(A)"
   ]
  },
  {
   "cell_type": "code",
   "execution_count": 68,
   "metadata": {},
   "outputs": [
    {
     "data": {
      "text/plain": [
       "6"
      ]
     },
     "execution_count": 68,
     "metadata": {},
     "output_type": "execute_result"
    }
   ],
   "source": [
    "A = \"aabac\"\n",
    "sol = Solution()\n",
    "sol.solve(A)"
   ]
  }
 ],
 "metadata": {
  "kernelspec": {
   "display_name": "dsa-venv",
   "language": "python",
   "name": "python3"
  },
  "language_info": {
   "codemirror_mode": {
    "name": "ipython",
    "version": 3
   },
   "file_extension": ".py",
   "mimetype": "text/x-python",
   "name": "python",
   "nbconvert_exporter": "python",
   "pygments_lexer": "ipython3",
   "version": "3.11.3"
  }
 },
 "nbformat": 4,
 "nbformat_minor": 2
}
