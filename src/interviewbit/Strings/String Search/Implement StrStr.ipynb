{
 "cells": [
  {
   "cell_type": "code",
   "execution_count": 1,
   "metadata": {},
   "outputs": [],
   "source": [
    "# https://www.interviewbit.com/problems/implement-strstr/"
   ]
  },
  {
   "cell_type": "code",
   "execution_count": 2,
   "metadata": {},
   "outputs": [],
   "source": [
    "# KMP.ipynb\n",
    "\n",
    "class Solution:\n",
    "    # @param A : string\n",
    "    # @param B : string\n",
    "    # @return an integer\n",
    "    def strStr(self, A, B):\n",
    "        haystack = A\n",
    "        needle = B\n",
    "        lps = [0] * len(needle)\n",
    "        prevLPS, i = 0, 1\n",
    "        while i < len(needle):\n",
    "            if needle[i] == needle[prevLPS]:\n",
    "                lps[i] = prevLPS + 1\n",
    "                prevLPS += 1\n",
    "                i += 1\n",
    "            else:\n",
    "                if prevLPS == 0:\n",
    "                    lps[i] = 0\n",
    "                    i += 1\n",
    "                else:\n",
    "                    prevLPS = lps[prevLPS - 1]\n",
    "        i = 0\n",
    "        j = 0\n",
    "        while i < len(haystack):\n",
    "            if haystack[i] == needle[j]:\n",
    "                i += 1\n",
    "                j += 1\n",
    "                if j == len(needle):\n",
    "                    return i - len(needle)\n",
    "            else:\n",
    "                if j == 0:\n",
    "                    i += 1\n",
    "                else:\n",
    "                    j = lps[j-1]\n",
    "        return -1"
   ]
  },
  {
   "cell_type": "code",
   "execution_count": 3,
   "metadata": {},
   "outputs": [
    {
     "data": {
      "text/plain": [
       "0"
      ]
     },
     "execution_count": 3,
     "metadata": {},
     "output_type": "execute_result"
    }
   ],
   "source": [
    "A = \"strstr\"\n",
    "B = \"str\"\n",
    "sol = Solution()\n",
    "sol.strStr(A, B)"
   ]
  },
  {
   "cell_type": "code",
   "execution_count": 4,
   "metadata": {},
   "outputs": [
    {
     "data": {
      "text/plain": [
       "-1"
      ]
     },
     "execution_count": 4,
     "metadata": {},
     "output_type": "execute_result"
    }
   ],
   "source": [
    "A = \"bighit\"\n",
    "B = \"bit\"\n",
    "sol = Solution()\n",
    "sol.strStr(A, B)"
   ]
  }
 ],
 "metadata": {
  "kernelspec": {
   "display_name": "dsa-venv",
   "language": "python",
   "name": "python3"
  },
  "language_info": {
   "codemirror_mode": {
    "name": "ipython",
    "version": 3
   },
   "file_extension": ".py",
   "mimetype": "text/x-python",
   "name": "python",
   "nbconvert_exporter": "python",
   "pygments_lexer": "ipython3",
   "version": "3.11.3"
  }
 },
 "nbformat": 4,
 "nbformat_minor": 2
}
