{
 "cells": [
  {
   "cell_type": "code",
   "execution_count": 92,
   "metadata": {},
   "outputs": [],
   "source": [
    "# https://www.interviewbit.com/problems/stringoholics/"
   ]
  },
  {
   "cell_type": "code",
   "execution_count": 93,
   "metadata": {},
   "outputs": [],
   "source": [
    "# https://www.youtube.com/watch?v=sgPtsR6UnKs"
   ]
  },
  {
   "cell_type": "code",
   "execution_count": 94,
   "metadata": {},
   "outputs": [],
   "source": [
    "def get_rotation_times(s: str):\n",
    "    t = 1\n",
    "    rotated_s = s\n",
    "    n = len(s)\n",
    "    while True:\n",
    "        r = t % n\n",
    "        rotated_s = rotated_s[r:] + rotated_s[:r]\n",
    "        if rotated_s == s:\n",
    "            return t\n",
    "        t += 1\n",
    "\n",
    "def gcd(a, b):\n",
    "    while b:\n",
    "        a, b = b, a % b\n",
    "    return a\n",
    "\n",
    "def lcm(a, b):\n",
    "    return abs(a * b) // gcd(a, b)\n",
    "\n",
    "def lcm_of_array(arr):\n",
    "    result = arr[0]\n",
    "    for i in range(1, len(arr)):\n",
    "        result = lcm(result, arr[i])\n",
    "    return result\n",
    "    \n",
    "mod = 10**9 + 7\n",
    "\n",
    "# works but Time Limit Exceeded\n",
    "class Solution:\n",
    "    # @param A : list of strings\n",
    "    # @return an integer\n",
    "    def solve(self, A):\n",
    "        rotation_times = [get_rotation_times(word) for word in A]\n",
    "        # print(f'{rotation_times=}')\n",
    "        return lcm_of_array(rotation_times) % mod\n"
   ]
  },
  {
   "cell_type": "code",
   "execution_count": 95,
   "metadata": {},
   "outputs": [
    {
     "data": {
      "text/plain": [
       "28"
      ]
     },
     "execution_count": 95,
     "metadata": {},
     "output_type": "execute_result"
    }
   ],
   "source": [
    "A = [\"a\", \"ababa\", \"aba\", \"baaa\"]\n",
    "sol = Solution()\n",
    "sol.solve(A)"
   ]
  },
  {
   "cell_type": "code",
   "execution_count": 96,
   "metadata": {},
   "outputs": [
    {
     "data": {
      "text/plain": [
       "1"
      ]
     },
     "execution_count": 96,
     "metadata": {},
     "output_type": "execute_result"
    }
   ],
   "source": [
    "A = [\"a\", \"aa\"]\n",
    "sol = Solution()\n",
    "sol.solve(A)"
   ]
  },
  {
   "cell_type": "code",
   "execution_count": 97,
   "metadata": {},
   "outputs": [
    {
     "data": {
      "text/plain": [
       "7"
      ]
     },
     "execution_count": 97,
     "metadata": {},
     "output_type": "execute_result"
    }
   ],
   "source": [
    "A = [ \"baaa\" ]\n",
    "sol = Solution()\n",
    "sol.solve(A)"
   ]
  }
 ],
 "metadata": {
  "kernelspec": {
   "display_name": "dsa-venv",
   "language": "python",
   "name": "python3"
  },
  "language_info": {
   "codemirror_mode": {
    "name": "ipython",
    "version": 3
   },
   "file_extension": ".py",
   "mimetype": "text/x-python",
   "name": "python",
   "nbconvert_exporter": "python",
   "pygments_lexer": "ipython3",
   "version": "3.11.3"
  }
 },
 "nbformat": 4,
 "nbformat_minor": 2
}
