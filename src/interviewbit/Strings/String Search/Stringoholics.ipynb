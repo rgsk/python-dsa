{
 "cells": [
  {
   "cell_type": "code",
   "execution_count": 220,
   "metadata": {},
   "outputs": [],
   "source": [
    "# https://www.interviewbit.com/problems/stringoholics/"
   ]
  },
  {
   "cell_type": "code",
   "execution_count": 221,
   "metadata": {},
   "outputs": [],
   "source": [
    "# https://www.youtube.com/watch?v=sgPtsR6UnKs"
   ]
  },
  {
   "cell_type": "code",
   "execution_count": 222,
   "metadata": {},
   "outputs": [],
   "source": [
    "def get_rotation_times(s: str):\n",
    "    t = 1\n",
    "    rotated_s = s\n",
    "    n = len(s)\n",
    "    while True:\n",
    "        r = t % n\n",
    "        rotated_s = rotated_s[r:] + rotated_s[:r]\n",
    "        if rotated_s == s:\n",
    "            return t\n",
    "        t += 1\n",
    "\n",
    "def gcd(a, b):\n",
    "    while b:\n",
    "        a, b = b, a % b\n",
    "    return a\n",
    "\n",
    "def lcm(a, b):\n",
    "    return abs(a * b) // gcd(a, b)\n",
    "\n",
    "def lcm_of_array(arr):\n",
    "    result = arr[0]\n",
    "    for i in range(1, len(arr)):\n",
    "        result = lcm(result, arr[i])\n",
    "    return result\n",
    "    \n",
    "mod = 10**9 + 7\n",
    "\n",
    "# works but Time Limit Exceeded\n",
    "class Solution:\n",
    "    # @param A : list of strings\n",
    "    # @return an integer\n",
    "    def solve(self, A):\n",
    "        rotation_times = [get_rotation_times(word) for word in A]\n",
    "        # print(f'{rotation_times=}')\n",
    "        return lcm_of_array(rotation_times) % mod\n"
   ]
  },
  {
   "cell_type": "code",
   "execution_count": 223,
   "metadata": {},
   "outputs": [],
   "source": [
    "def eq(n):\n",
    "    return (n * (n + 1)) // 2\n",
    "\n",
    "def get_rotation_times(s: str):\n",
    "    t = 1\n",
    "    rotated_s = s\n",
    "    n = len(s)\n",
    "    while True:\n",
    "        rotated_s = rotated_s[1:] + rotated_s[:1]\n",
    "        if rotated_s == s:\n",
    "            break\n",
    "        t += 1\n",
    "    v = 1\n",
    "    while True:\n",
    "        if eq(v) % t == 0:\n",
    "            return v\n",
    "        v += 1\n",
    "\n",
    "def gcd(a, b):\n",
    "    while b:\n",
    "        a, b = b, a % b\n",
    "    return a\n",
    "\n",
    "def lcm(a, b):\n",
    "    return abs(a * b) // gcd(a, b)\n",
    "\n",
    "def lcm_of_array(arr):\n",
    "    result = arr[0]\n",
    "    for i in range(1, len(arr)):\n",
    "        result = lcm(result, arr[i])\n",
    "    return result\n",
    "    \n",
    "mod = 10**9 + 7\n",
    "\n",
    "# works but Time Limit Exceeded\n",
    "class Solution:\n",
    "    # @param A : list of strings\n",
    "    # @return an integer\n",
    "    def solve(self, A):\n",
    "        rotation_times = [get_rotation_times(word) for word in A]\n",
    "        # print(f'{rotation_times=}')\n",
    "        return lcm_of_array(rotation_times) % mod\n"
   ]
  },
  {
   "cell_type": "code",
   "execution_count": 224,
   "metadata": {},
   "outputs": [],
   "source": [
    "from collections import defaultdict\n",
    "\n",
    "\n",
    "def get_rotation_times(s: str):\n",
    "    n = len(s)\n",
    "    lps = [0] * n\n",
    "    prevLPS, i = 0, 1\n",
    "    while i < len(s):\n",
    "        if s[i] == s[prevLPS]:\n",
    "            lps[i] = prevLPS + 1\n",
    "            prevLPS += 1\n",
    "            i += 1\n",
    "        else:\n",
    "            if prevLPS == 0:\n",
    "                lps[i] = 0\n",
    "                i += 1\n",
    "            else:\n",
    "                prevLPS = lps[prevLPS - 1]\n",
    "    last = lps[-1]\n",
    "    left = n - last\n",
    "    t = n\n",
    "    if n % left == 0:\n",
    "        t = left\n",
    "    \n",
    "    op = 1\n",
    "    total = 1\n",
    "    while True:\n",
    "        if total % t == 0:\n",
    "            break\n",
    "        op += 1\n",
    "        total += op\n",
    "    return op\n",
    "\n",
    "\n",
    "def lcm_of_array(arr):\n",
    "    largest_factors = defaultdict(int)\n",
    "    for v in arr:\n",
    "        j = 2\n",
    "        while j * j <= v:\n",
    "            cnt = 0\n",
    "            while v % j == 0:\n",
    "                cnt += 1\n",
    "                v //= j\n",
    "            largest_factors[j] = max(largest_factors[j], cnt)\n",
    "            j += 1\n",
    "        if v > 1:\n",
    "            largest_factors[v] = max(largest_factors[v], 1)\n",
    "    prod = 1\n",
    "    for k in largest_factors:\n",
    "        prod *= pow(k, largest_factors[k])\n",
    "    return prod\n",
    "    \n",
    "mod = 10**9 + 7\n",
    "\n",
    "# works but Time Limit Exceeded\n",
    "class Solution:\n",
    "    # @param A : list of strings\n",
    "    # @return an integer\n",
    "    def solve(self, A):\n",
    "        rotation_times = [get_rotation_times(word) for word in A]\n",
    "        # print(f'{rotation_times=}')\n",
    "        return lcm_of_array(rotation_times) % mod\n"
   ]
  },
  {
   "cell_type": "code",
   "execution_count": 225,
   "metadata": {},
   "outputs": [
    {
     "data": {
      "text/plain": [
       "28"
      ]
     },
     "execution_count": 225,
     "metadata": {},
     "output_type": "execute_result"
    }
   ],
   "source": [
    "A = [\"a\", \"ababa\", \"aba\", \"baaa\"]\n",
    "sol = Solution()\n",
    "sol.solve(A)"
   ]
  },
  {
   "cell_type": "code",
   "execution_count": 226,
   "metadata": {},
   "outputs": [
    {
     "data": {
      "text/plain": [
       "1"
      ]
     },
     "execution_count": 226,
     "metadata": {},
     "output_type": "execute_result"
    }
   ],
   "source": [
    "A = [\"a\", \"aa\"]\n",
    "sol = Solution()\n",
    "sol.solve(A)"
   ]
  },
  {
   "cell_type": "code",
   "execution_count": 227,
   "metadata": {},
   "outputs": [
    {
     "data": {
      "text/plain": [
       "7"
      ]
     },
     "execution_count": 227,
     "metadata": {},
     "output_type": "execute_result"
    }
   ],
   "source": [
    "A = [ \"baaa\" ]\n",
    "sol = Solution()\n",
    "sol.solve(A)"
   ]
  }
 ],
 "metadata": {
  "kernelspec": {
   "display_name": "dsa-venv",
   "language": "python",
   "name": "python3"
  },
  "language_info": {
   "codemirror_mode": {
    "name": "ipython",
    "version": 3
   },
   "file_extension": ".py",
   "mimetype": "text/x-python",
   "name": "python",
   "nbconvert_exporter": "python",
   "pygments_lexer": "ipython3",
   "version": "3.11.3"
  }
 },
 "nbformat": 4,
 "nbformat_minor": 2
}
