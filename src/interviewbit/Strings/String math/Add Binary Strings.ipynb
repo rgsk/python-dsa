{
 "cells": [
  {
   "cell_type": "code",
   "execution_count": 34,
   "metadata": {},
   "outputs": [],
   "source": [
    "# https://www.interviewbit.com/problems/add-binary-strings/"
   ]
  },
  {
   "cell_type": "code",
   "execution_count": 35,
   "metadata": {},
   "outputs": [],
   "source": [
    "class Solution:\n",
    "    # @param A : string\n",
    "    # @param B : string\n",
    "    # @return a strings\n",
    "    def addBinary(self, A, B):\n",
    "        A = [int(v) for v in A]\n",
    "        B = [int(v) for v in B]\n",
    "        ai = len(A) - 1\n",
    "        bi = len(B) - 1\n",
    "        remainder = 0\n",
    "        ans = []\n",
    "        while ai >= 0 and bi >= 0:\n",
    "            total = A[ai] + B[bi] + remainder\n",
    "            remainder = 0\n",
    "            if total >= 2:\n",
    "                remainder = 1\n",
    "                total = total % 2\n",
    "            ans.append(total)\n",
    "            ai -= 1\n",
    "            bi -= 1\n",
    "        while ai >= 0:\n",
    "            total = A[ai] + remainder\n",
    "            remainder = 0\n",
    "            \n",
    "            if total >= 2:\n",
    "                remainder = 1\n",
    "                total = total % 2\n",
    "            ans.append(total)\n",
    "            ai -= 1\n",
    "        while bi >= 0:\n",
    "            total = B[bi] + remainder\n",
    "            remainder = 0\n",
    "            if total >= 2:\n",
    "                remainder = 1\n",
    "                total = total % 2\n",
    "            ans.append(total)\n",
    "            bi -= 1\n",
    "        if remainder > 0:\n",
    "            ans.append(remainder)\n",
    "        final_res = \"\"\n",
    "        for v in ans:\n",
    "            final_res = str(v) + final_res\n",
    "        return final_res"
   ]
  },
  {
   "cell_type": "code",
   "execution_count": 36,
   "metadata": {},
   "outputs": [],
   "source": [
    "class Solution:\n",
    "    # @param A : string\n",
    "    # @param B : string\n",
    "    # @return a strings\n",
    "    def addBinary(self, A, B):\n",
    "        A = int(A,2)\n",
    "        B = int(B,2)\n",
    "        s = A + B\n",
    "        return bin(s)[2::]"
   ]
  },
  {
   "cell_type": "code",
   "execution_count": 37,
   "metadata": {},
   "outputs": [
    {
     "data": {
      "text/plain": [
       "'111'"
      ]
     },
     "execution_count": 37,
     "metadata": {},
     "output_type": "execute_result"
    }
   ],
   "source": [
    "A = \"100\"\n",
    "B = \"11\"\n",
    "sol = Solution()\n",
    "sol.addBinary(A, B)"
   ]
  },
  {
   "cell_type": "code",
   "execution_count": 38,
   "metadata": {},
   "outputs": [
    {
     "data": {
      "text/plain": [
       "'1000'"
      ]
     },
     "execution_count": 38,
     "metadata": {},
     "output_type": "execute_result"
    }
   ],
   "source": [
    "A = \"110\"\n",
    "B = \"10\"\n",
    "sol = Solution()\n",
    "sol.addBinary(A, B)"
   ]
  },
  {
   "cell_type": "code",
   "execution_count": 39,
   "metadata": {},
   "outputs": [
    {
     "data": {
      "text/plain": [
       "'1001110001111010101001110'"
      ]
     },
     "execution_count": 39,
     "metadata": {},
     "output_type": "execute_result"
    }
   ],
   "source": [
    "A = \"1010110111001101101000\"\n",
    "B = \"1000011011000000111100110\"\n",
    "sol = Solution()\n",
    "sol.addBinary(A, B)"
   ]
  }
 ],
 "metadata": {
  "kernelspec": {
   "display_name": "dsa-venv",
   "language": "python",
   "name": "python3"
  },
  "language_info": {
   "codemirror_mode": {
    "name": "ipython",
    "version": 3
   },
   "file_extension": ".py",
   "mimetype": "text/x-python",
   "name": "python",
   "nbconvert_exporter": "python",
   "pygments_lexer": "ipython3",
   "version": "3.11.3"
  }
 },
 "nbformat": 4,
 "nbformat_minor": 2
}
