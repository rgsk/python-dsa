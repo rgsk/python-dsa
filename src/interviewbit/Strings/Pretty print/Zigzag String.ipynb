{
 "cells": [
  {
   "cell_type": "code",
   "execution_count": 24,
   "metadata": {},
   "outputs": [],
   "source": [
    "# https://www.interviewbit.com/problems/zigzag-string/"
   ]
  },
  {
   "cell_type": "code",
   "execution_count": 25,
   "metadata": {},
   "outputs": [],
   "source": [
    "class Solution:\n",
    "    # @param A : string\n",
    "    # @param B : integer\n",
    "    # @return a strings\n",
    "    def convert(self, A, B):\n",
    "        if B == 1:\n",
    "            return A\n",
    "        ans = [\"\" for _ in range(B)]\n",
    "        i = 0\n",
    "        ans_idx = 0\n",
    "        dir = 1\n",
    "        while i < len(A):\n",
    "            ans[ans_idx] += A[i]\n",
    "            i += 1\n",
    "            ans_idx += dir\n",
    "            if ans_idx == B - 1:\n",
    "                dir = -1\n",
    "            elif ans_idx == 0:\n",
    "                dir = 1\n",
    "        return \"\".join(ans)"
   ]
  },
  {
   "cell_type": "code",
   "execution_count": 26,
   "metadata": {},
   "outputs": [
    {
     "data": {
      "text/plain": [
       "'ACBD'"
      ]
     },
     "execution_count": 26,
     "metadata": {},
     "output_type": "execute_result"
    }
   ],
   "source": [
    "A = \"ABCD\"\n",
    "B = 2\n",
    "sol = Solution()\n",
    "sol.convert(A, B)"
   ]
  },
  {
   "cell_type": "code",
   "execution_count": 27,
   "metadata": {},
   "outputs": [
    {
     "data": {
      "text/plain": [
       "'PAHNAPLSIIGYIR'"
      ]
     },
     "execution_count": 27,
     "metadata": {},
     "output_type": "execute_result"
    }
   ],
   "source": [
    "A = \"PAYPALISHIRING\"\n",
    "B = 3\n",
    "sol = Solution()\n",
    "sol.convert(A, B)"
   ]
  },
  {
   "cell_type": "code",
   "execution_count": 28,
   "metadata": {},
   "outputs": [
    {
     "data": {
      "text/plain": [
       "'PAYPALISHIRING'"
      ]
     },
     "execution_count": 28,
     "metadata": {},
     "output_type": "execute_result"
    }
   ],
   "source": [
    "A = \"PAYPALISHIRING\"\n",
    "B = 1\n",
    "sol = Solution()\n",
    "sol.convert(A, B)"
   ]
  }
 ],
 "metadata": {
  "kernelspec": {
   "display_name": "dsa-venv",
   "language": "python",
   "name": "python3"
  },
  "language_info": {
   "codemirror_mode": {
    "name": "ipython",
    "version": 3
   },
   "file_extension": ".py",
   "mimetype": "text/x-python",
   "name": "python",
   "nbconvert_exporter": "python",
   "pygments_lexer": "ipython3",
   "version": "3.11.3"
  }
 },
 "nbformat": 4,
 "nbformat_minor": 2
}
