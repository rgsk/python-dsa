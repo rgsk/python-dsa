{
 "cells": [
  {
   "cell_type": "code",
   "execution_count": 56,
   "metadata": {},
   "outputs": [],
   "source": [
    "# https://www.interviewbit.com/problems/justified-text/"
   ]
  },
  {
   "cell_type": "code",
   "execution_count": 57,
   "metadata": {},
   "outputs": [],
   "source": [
    "class Solution:\n",
    "    # @param A : list of strings\n",
    "    # @param B : integer\n",
    "    # @return a list of strings\n",
    "    def fullJustify(self, words, line_length):\n",
    "        if not words:\n",
    "            return []\n",
    "        batches = [[words[0]]]\n",
    "        cur_len = len(words[0])\n",
    "        for i in range(1, len(words)):\n",
    "            word = words[i]\n",
    "            if cur_len + 1 + len(word) > line_length:\n",
    "                batches.append([word])\n",
    "                cur_len = len(word)\n",
    "            else:\n",
    "                batches[-1].append(word)\n",
    "                cur_len += 1 + len(word)\n",
    "        ans = []\n",
    "        for i in range(len(batches)):\n",
    "            row = batches[i]\n",
    "            if i == len(batches) - 1 or len(row) == 1:\n",
    "                # special treatment for last row\n",
    "                val = \" \".join(row)\n",
    "                remaining_spaces = line_length - len(val)\n",
    "                val += \" \" * remaining_spaces\n",
    "                ans.append(val)\n",
    "                continue\n",
    "            total_word_length = sum([len(word) for word in row])\n",
    "            remaining_spaces = line_length - total_word_length\n",
    "            empty_slots = len(row) - 1\n",
    "            min_spaces = remaining_spaces // empty_slots\n",
    "            if remaining_spaces % empty_slots == 0:\n",
    "                val = (\" \" * min_spaces).join(row)\n",
    "                ans.append(val)\n",
    "            else:\n",
    "                extra_spaces = remaining_spaces % empty_slots\n",
    "                val = row[0]\n",
    "                for i in range(1, len(row)):\n",
    "                    if extra_spaces > 0:\n",
    "                        val += (\" \" * (min_spaces + 1)) + row[i]\n",
    "                        extra_spaces -= 1\n",
    "                    else:\n",
    "                        val += (\" \" * min_spaces) + row[i]\n",
    "                ans.append(val)\n",
    "\n",
    "        return ans\n"
   ]
  },
  {
   "cell_type": "code",
   "execution_count": 58,
   "metadata": {},
   "outputs": [
    {
     "data": {
      "text/plain": [
       "['This    is    an', 'example  of text', 'justification.  ']"
      ]
     },
     "execution_count": 58,
     "metadata": {},
     "output_type": "execute_result"
    }
   ],
   "source": [
    "words = [\"This\", \"is\", \"an\", \"example\", \"of\", \"text\", \"justification.\"]\n",
    "line_length = 16\n",
    "sol = Solution()\n",
    "sol.fullJustify(words, line_length)"
   ]
  },
  {
   "cell_type": "code",
   "execution_count": 59,
   "metadata": {},
   "outputs": [
    {
     "data": {
      "text/plain": [
       "[]"
      ]
     },
     "execution_count": 59,
     "metadata": {},
     "output_type": "execute_result"
    }
   ],
   "source": [
    "A = [  ]\n",
    "B = 10\n",
    "sol = Solution()\n",
    "sol.fullJustify(A, B)"
   ]
  },
  {
   "cell_type": "code",
   "execution_count": 60,
   "metadata": {},
   "outputs": [
    {
     "data": {
      "text/plain": [
       "['What must be', 'shall be.   ']"
      ]
     },
     "execution_count": 60,
     "metadata": {},
     "output_type": "execute_result"
    }
   ],
   "source": [
    "A = [ \"What\", \"must\", \"be\", \"shall\", \"be.\" ]\n",
    "B = 12\n",
    "sol = Solution()\n",
    "sol.fullJustify(A, B)"
   ]
  }
 ],
 "metadata": {
  "kernelspec": {
   "display_name": "dsa-venv",
   "language": "python",
   "name": "python3"
  },
  "language_info": {
   "codemirror_mode": {
    "name": "ipython",
    "version": 3
   },
   "file_extension": ".py",
   "mimetype": "text/x-python",
   "name": "python",
   "nbconvert_exporter": "python",
   "pygments_lexer": "ipython3",
   "version": "3.11.3"
  }
 },
 "nbformat": 4,
 "nbformat_minor": 2
}
