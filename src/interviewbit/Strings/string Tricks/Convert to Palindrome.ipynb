{
 "cells": [
  {
   "cell_type": "code",
   "execution_count": 17,
   "metadata": {},
   "outputs": [],
   "source": [
    "# https://www.interviewbit.com/problems/convert-to-palindrome/"
   ]
  },
  {
   "cell_type": "code",
   "execution_count": 18,
   "metadata": {},
   "outputs": [],
   "source": [
    "import sys\n",
    "sys.setrecursionlimit(10**6)\n",
    "\n",
    "# accepted\n",
    "# 421 ms\n",
    "class Solution:\n",
    "    # @param A : string\n",
    "    # @return an integer\n",
    "    def solve(self, A):\n",
    "        def possible(i, j, skip):\n",
    "            if i >= j:\n",
    "                return True\n",
    "            if A[i] != A[j]:\n",
    "                if skip:\n",
    "                    return possible(i + 1, j, False) or possible(i, j - 1, False)\n",
    "                else:\n",
    "                    return False\n",
    "            return possible(i+1, j-1, skip)\n",
    "        n = len(A)\n",
    "        return int(possible(0, n-1, True))"
   ]
  },
  {
   "cell_type": "code",
   "execution_count": 19,
   "metadata": {},
   "outputs": [],
   "source": [
    "# 303 ms\n",
    "class Solution:\n",
    "    # @param A : string\n",
    "    # @return an integer\n",
    "    def solve(self, A):\n",
    "        n = len(A)\n",
    "        left = 0\n",
    "        right = n - 1\n",
    "        while left < right:\n",
    "            if A[left] != A[right]:\n",
    "                without_left = A[:left] + A[left+1:]\n",
    "                without_right = A[:right] + A[right+1:]\n",
    "                \n",
    "                if without_left == without_left[::-1] or without_right == without_right[::-1]:\n",
    "                    return 1\n",
    "                else:\n",
    "                    return 0\n",
    "            left += 1\n",
    "            right -= 1\n",
    "        return 1"
   ]
  },
  {
   "cell_type": "code",
   "execution_count": 20,
   "metadata": {},
   "outputs": [
    {
     "data": {
      "text/plain": [
       "1"
      ]
     },
     "execution_count": 20,
     "metadata": {},
     "output_type": "execute_result"
    }
   ],
   "source": [
    "A = \"abcba\"\n",
    "sol = Solution()\n",
    "sol.solve(A)"
   ]
  },
  {
   "cell_type": "code",
   "execution_count": 21,
   "metadata": {},
   "outputs": [
    {
     "data": {
      "text/plain": [
       "0"
      ]
     },
     "execution_count": 21,
     "metadata": {},
     "output_type": "execute_result"
    }
   ],
   "source": [
    "A = \"abecbea\"\n",
    "sol = Solution()\n",
    "sol.solve(A)"
   ]
  }
 ],
 "metadata": {
  "kernelspec": {
   "display_name": "dsa-venv",
   "language": "python",
   "name": "python3"
  },
  "language_info": {
   "codemirror_mode": {
    "name": "ipython",
    "version": 3
   },
   "file_extension": ".py",
   "mimetype": "text/x-python",
   "name": "python",
   "nbconvert_exporter": "python",
   "pygments_lexer": "ipython3",
   "version": "3.11.3"
  }
 },
 "nbformat": 4,
 "nbformat_minor": 2
}
