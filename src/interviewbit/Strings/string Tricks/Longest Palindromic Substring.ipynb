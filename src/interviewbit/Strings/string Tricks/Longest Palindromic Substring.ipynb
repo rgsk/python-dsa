{
 "cells": [
  {
   "cell_type": "code",
   "execution_count": 47,
   "metadata": {},
   "outputs": [],
   "source": [
    "# https://www.interviewbit.com/problems/longest-palindromic-substring/"
   ]
  },
  {
   "cell_type": "code",
   "execution_count": 48,
   "metadata": {},
   "outputs": [],
   "source": [
    "class Solution:\n",
    "    # @param A : string\n",
    "    # @return a strings\n",
    "    def longestPalindrome(self, A):\n",
    "        n = len(A)\n",
    "        def form_pal(s, e):\n",
    "            while s >= 0 and e < n:\n",
    "                if A[s] != A[e]:\n",
    "                    break\n",
    "                s -= 1\n",
    "                e += 1\n",
    "            return [s + 1, e - 1]\n",
    "        max_length = 0\n",
    "        start = 0\n",
    "        end = 0\n",
    "        for i in range(n):\n",
    "            odd_pal = form_pal(i, i)\n",
    "            even_pal = form_pal(i, i + 1)\n",
    "            old_pal_length = odd_pal[1] - odd_pal[0] + 1\n",
    "            even_pal_length = even_pal[1] - even_pal[0] + 1\n",
    "            if old_pal_length > even_pal_length:\n",
    "                if old_pal_length > max_length:\n",
    "                    start = odd_pal[0]\n",
    "                    end = odd_pal[1]\n",
    "                    max_length = old_pal_length\n",
    "            else:\n",
    "                if even_pal_length > max_length:\n",
    "                    start = even_pal[0]\n",
    "                    end = even_pal[1]\n",
    "                    max_length = even_pal_length\n",
    "        return A[start:end+1]"
   ]
  },
  {
   "cell_type": "code",
   "execution_count": 49,
   "metadata": {},
   "outputs": [
    {
     "data": {
      "text/plain": [
       "'aaabaaa'"
      ]
     },
     "execution_count": 49,
     "metadata": {},
     "output_type": "execute_result"
    }
   ],
   "source": [
    "A = \"aaaabaaa\"\n",
    "sol = Solution()\n",
    "sol.longestPalindrome(A)"
   ]
  },
  {
   "cell_type": "code",
   "execution_count": 50,
   "metadata": {},
   "outputs": [
    {
     "data": {
      "text/plain": [
       "'aba'"
      ]
     },
     "execution_count": 50,
     "metadata": {},
     "output_type": "execute_result"
    }
   ],
   "source": [
    "A = \"abacdfgdcaba\"\n",
    "sol = Solution()\n",
    "sol.longestPalindrome(A)"
   ]
  }
 ],
 "metadata": {
  "kernelspec": {
   "display_name": "dsa-venv",
   "language": "python",
   "name": "python3"
  },
  "language_info": {
   "codemirror_mode": {
    "name": "ipython",
    "version": 3
   },
   "file_extension": ".py",
   "mimetype": "text/x-python",
   "name": "python",
   "nbconvert_exporter": "python",
   "pygments_lexer": "ipython3",
   "version": "3.11.3"
  }
 },
 "nbformat": 4,
 "nbformat_minor": 2
}
