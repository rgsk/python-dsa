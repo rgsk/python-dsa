{
 "cells": [
  {
   "cell_type": "code",
   "execution_count": 69,
   "metadata": {},
   "outputs": [],
   "source": [
    "from math import ceil\n",
    "\n",
    "\n",
    "class Solution:\n",
    "    # @param A : list of integers\n",
    "    # @param B : integer\n",
    "    # @return an integer\n",
    "    def solve(self, A, B):\n",
    "        left = 0\n",
    "        right = max(A)\n",
    "        def getWoodForSawAtHeight(h):\n",
    "            wood = 0\n",
    "            for v in A:\n",
    "                if v > h:\n",
    "                    wood += v - h\n",
    "            return wood\n",
    "        while left < right:\n",
    "            mid = ceil((left + right) / 2)\n",
    "            wood = getWoodForSawAtHeight(mid)\n",
    "            if wood < B:\n",
    "                right = mid - 1\n",
    "            else:\n",
    "                left = mid\n",
    "        # return left or right\n",
    "        return right"
   ]
  },
  {
   "cell_type": "code",
   "execution_count": 70,
   "metadata": {},
   "outputs": [],
   "source": [
    "class Solution:\n",
    "    # @param A : list of integers\n",
    "    # @param B : integer\n",
    "    # @return an integer\n",
    "    def solve(self, A, B):\n",
    "        maxa = max(A)\n",
    "        height = [0] * (maxa + 1)\n",
    "        for a in A:\n",
    "            height[a] += 1\n",
    "\n",
    "        active = 0\n",
    "        wood = 0\n",
    "        for h in range(maxa, -1, -1):\n",
    "            if wood >= B:\n",
    "                return h\n",
    "\n",
    "            active += height[h]\n",
    "            wood += active"
   ]
  },
  {
   "cell_type": "code",
   "execution_count": 71,
   "metadata": {},
   "outputs": [
    {
     "data": {
      "text/plain": [
       "15"
      ]
     },
     "execution_count": 71,
     "metadata": {},
     "output_type": "execute_result"
    }
   ],
   "source": [
    "A = [20, 15, 10, 17]\n",
    "B = 7\n",
    "sol = Solution()\n",
    "sol.solve(A, B)"
   ]
  },
  {
   "cell_type": "code",
   "execution_count": 72,
   "metadata": {},
   "outputs": [
    {
     "data": {
      "text/plain": [
       "14"
      ]
     },
     "execution_count": 72,
     "metadata": {},
     "output_type": "execute_result"
    }
   ],
   "source": [
    "A = [20, 15, 10, 17]\n",
    "B = 8\n",
    "sol = Solution()\n",
    "sol.solve(A, B)"
   ]
  },
  {
   "cell_type": "code",
   "execution_count": 73,
   "metadata": {},
   "outputs": [
    {
     "data": {
      "text/plain": [
       "36"
      ]
     },
     "execution_count": 73,
     "metadata": {},
     "output_type": "execute_result"
    }
   ],
   "source": [
    "A = [4, 42, 40, 26, 46]\n",
    "B = 20\n",
    "sol = Solution()\n",
    "sol.solve(A, B)"
   ]
  }
 ],
 "metadata": {
  "kernelspec": {
   "display_name": "dsa-venv",
   "language": "python",
   "name": "python3"
  },
  "language_info": {
   "codemirror_mode": {
    "name": "ipython",
    "version": 3
   },
   "file_extension": ".py",
   "mimetype": "text/x-python",
   "name": "python",
   "nbconvert_exporter": "python",
   "pygments_lexer": "ipython3",
   "version": "3.11.3"
  }
 },
 "nbformat": 4,
 "nbformat_minor": 2
}
