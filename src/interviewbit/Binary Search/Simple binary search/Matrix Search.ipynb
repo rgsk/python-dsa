{
 "cells": [
  {
   "cell_type": "code",
   "execution_count": 7,
   "metadata": {},
   "outputs": [],
   "source": [
    "class Solution:\n",
    "    # @param A : list of list of integers\n",
    "    # @param B : integer\n",
    "    # @return an integer\n",
    "    def searchMatrix(self, A, B):\n",
    "        rows = len(A)\n",
    "        cols = len(A[0])\n",
    "        n = rows * cols\n",
    "        left = 0\n",
    "        right = n - 1\n",
    "        def get_at_index(i):\n",
    "            row = i // cols\n",
    "            col = i % cols\n",
    "            return A[row][col]\n",
    "        while left <= right:\n",
    "            mid = (left + right) // 2\n",
    "            value = get_at_index(mid)\n",
    "            if value == B:\n",
    "                return 1\n",
    "            elif value < B:\n",
    "                left = mid + 1\n",
    "            else:\n",
    "                right = mid - 1\n",
    "        return 0"
   ]
  },
  {
   "cell_type": "code",
   "execution_count": 8,
   "metadata": {},
   "outputs": [
    {
     "data": {
      "text/plain": [
       "1"
      ]
     },
     "execution_count": 8,
     "metadata": {},
     "output_type": "execute_result"
    }
   ],
   "source": [
    "A = [\n",
    "    [1,   3,  5,  7],\n",
    "    [10, 11, 16, 20],\n",
    "    [23, 30, 34, 50],\n",
    "]\n",
    "B = 3\n",
    "sol = Solution()\n",
    "sol.searchMatrix(A, B)"
   ]
  },
  {
   "cell_type": "code",
   "execution_count": 9,
   "metadata": {},
   "outputs": [
    {
     "data": {
      "text/plain": [
       "0"
      ]
     },
     "execution_count": 9,
     "metadata": {},
     "output_type": "execute_result"
    }
   ],
   "source": [
    "A = [\n",
    "    [5, 17, 100, 111],\n",
    "    [119, 120, 127, 131]\n",
    "]\n",
    "B = 3\n",
    "sol = Solution()\n",
    "sol.searchMatrix(A, B)"
   ]
  }
 ],
 "metadata": {
  "kernelspec": {
   "display_name": "dsa-venv",
   "language": "python",
   "name": "python3"
  },
  "language_info": {
   "codemirror_mode": {
    "name": "ipython",
    "version": 3
   },
   "file_extension": ".py",
   "mimetype": "text/x-python",
   "name": "python",
   "nbconvert_exporter": "python",
   "pygments_lexer": "ipython3",
   "version": "3.11.3"
  }
 },
 "nbformat": 4,
 "nbformat_minor": 2
}
