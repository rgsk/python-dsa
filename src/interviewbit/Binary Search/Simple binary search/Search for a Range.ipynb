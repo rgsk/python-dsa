{
 "cells": [
  {
   "cell_type": "code",
   "execution_count": 31,
   "metadata": {},
   "outputs": [],
   "source": [
    "# works \n",
    "\n",
    "def lower_bound(A, B):\n",
    "    n = len(A)\n",
    "    left = 0\n",
    "    right = n - 1\n",
    "    while left < right:\n",
    "        mid = (left + right) // 2\n",
    "        if A[mid] < B:\n",
    "            left = mid + 1\n",
    "        else:\n",
    "            right = mid\n",
    "    if A[left] != B:\n",
    "        return -1\n",
    "    return left\n",
    "\n",
    "class Solution:\n",
    "    # @param A : tuple of integers\n",
    "    # @param B : integer\n",
    "    # @return a list of integers\n",
    "    def searchRange(self, A, B):\n",
    "        lowest_index = lower_bound(A, B)\n",
    "        if lowest_index == -1:\n",
    "            return [-1, -1]\n",
    "        highest_index = lowest_index\n",
    "        while highest_index < len(A) and A[highest_index] == B:\n",
    "            highest_index += 1\n",
    "        return [lowest_index, highest_index - 1]"
   ]
  },
  {
   "cell_type": "code",
   "execution_count": 32,
   "metadata": {},
   "outputs": [],
   "source": [
    "# works \n",
    "\n",
    "# returns the index of first occurrence of element\n",
    "# if element exists\n",
    "# else returns index of first element greater than B\n",
    "# if B is greater than greatest element in A, return len(A)\n",
    "def lower_bound(A, B):\n",
    "    n = len(A)\n",
    "    left = 0\n",
    "    right = n - 1\n",
    "    while left < right:\n",
    "        mid = (left + right) // 2\n",
    "        if A[mid] < B:\n",
    "            left = mid + 1\n",
    "        else:\n",
    "            right = mid\n",
    "    if A[left] < B:\n",
    "        return left + 1\n",
    "    return left \n",
    "\n",
    "class Solution:\n",
    "    # @param A : tuple of integers\n",
    "    # @param B : integer\n",
    "    # @return a list of integers\n",
    "    def searchRange(self, A, B):\n",
    "        lowest_index = lower_bound(A, B)\n",
    "        if lowest_index > len(A) or A[lowest_index] != B:\n",
    "            return [-1, -1]\n",
    "        highest_index = lowest_index\n",
    "        while highest_index < len(A) and A[highest_index] == B:\n",
    "            highest_index += 1\n",
    "        return [lowest_index, highest_index - 1]"
   ]
  },
  {
   "cell_type": "code",
   "execution_count": 33,
   "metadata": {},
   "outputs": [],
   "source": [
    "# works \n",
    "\n",
    "# returns the index of first occurrence of element\n",
    "# if element exists\n",
    "# else returns index of first element greater than B\n",
    "# if B is greater than greatest element in A, return len(A)\n",
    "def lower_bound(A, B):\n",
    "    n = len(A)\n",
    "    left = 0\n",
    "    right = n - 1\n",
    "    while left < right:\n",
    "        mid = (left + right) // 2\n",
    "        if A[mid] < B:\n",
    "            left = mid + 1\n",
    "        else:\n",
    "            right = mid\n",
    "    if A[left] < B:\n",
    "        return left + 1\n",
    "    return left \n",
    "\n",
    "class Solution:\n",
    "    # @param A : tuple of integers\n",
    "    # @param B : integer\n",
    "    # @return a list of integers\n",
    "    def searchRange(self, A, B):\n",
    "        lowest_index = lower_bound(A, B)\n",
    "        if lowest_index > len(A) or A[lowest_index] != B:\n",
    "            return [-1, -1]\n",
    "        highest_index = lower_bound(A, B + 1) - 1\n",
    "        return [lowest_index, highest_index]"
   ]
  },
  {
   "cell_type": "code",
   "execution_count": 34,
   "metadata": {},
   "outputs": [],
   "source": [
    "import bisect\n",
    "\n",
    "class Solution:\n",
    "    # @param A : tuple of integers\n",
    "    # @param B : integer\n",
    "    # @return a list of integers\n",
    "    def searchRange(self, A, B):\n",
    "        first_value = bisect.bisect_left(A, B)\n",
    "        last_value = bisect.bisect_right(A, B)-1\n",
    "        if A[first_value] != B:\n",
    "            return [-1, -1]\n",
    "        return [first_value, last_value]"
   ]
  },
  {
   "cell_type": "code",
   "execution_count": 35,
   "metadata": {},
   "outputs": [
    {
     "data": {
      "text/plain": [
       "[3, 4]"
      ]
     },
     "execution_count": 35,
     "metadata": {},
     "output_type": "execute_result"
    }
   ],
   "source": [
    "A = [5, 7, 7, 8, 8, 10]\n",
    "B = 8\n",
    "sol = Solution()\n",
    "sol.searchRange(A, B)"
   ]
  },
  {
   "cell_type": "code",
   "execution_count": 36,
   "metadata": {},
   "outputs": [
    {
     "data": {
      "text/plain": [
       "[-1, -1]"
      ]
     },
     "execution_count": 36,
     "metadata": {},
     "output_type": "execute_result"
    }
   ],
   "source": [
    "A = [5, 17, 100, 111]\n",
    "B = 3\n",
    "sol = Solution()\n",
    "sol.searchRange(A, B)"
   ]
  }
 ],
 "metadata": {
  "kernelspec": {
   "display_name": "dsa-venv",
   "language": "python",
   "name": "python3"
  },
  "language_info": {
   "codemirror_mode": {
    "name": "ipython",
    "version": 3
   },
   "file_extension": ".py",
   "mimetype": "text/x-python",
   "name": "python",
   "nbconvert_exporter": "python",
   "pygments_lexer": "ipython3",
   "version": "3.11.3"
  }
 },
 "nbformat": 4,
 "nbformat_minor": 2
}
