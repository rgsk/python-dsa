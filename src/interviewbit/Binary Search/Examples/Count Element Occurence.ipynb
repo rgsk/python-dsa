{
 "cells": [
  {
   "cell_type": "code",
   "execution_count": null,
   "metadata": {},
   "outputs": [],
   "source": [
    "# https://www.interviewbit.com/problems/count-element-occurence/"
   ]
  },
  {
   "cell_type": "code",
   "execution_count": 9,
   "metadata": {},
   "outputs": [],
   "source": [
    "class Solution:\n",
    "    # @param A : tuple of integers\n",
    "    # @param B : integer\n",
    "    # @return an integer\n",
    "    def findCount(self, A, B):\n",
    "        n = len(A)\n",
    "        left = 0\n",
    "        right = n - 1\n",
    "        while left <= right:\n",
    "            mid = (left + right) // 2\n",
    "            if A[mid] == B:\n",
    "                l = mid - 1\n",
    "                r = mid + 1\n",
    "                c = 1\n",
    "                while l >= 0 and A[l] == B:\n",
    "                    c += 1\n",
    "                    l -= 1\n",
    "                while r < n and A[r] == B:\n",
    "                    c += 1\n",
    "                    r += 1\n",
    "                return c\n",
    "            elif A[mid] < B:\n",
    "                left = mid + 1\n",
    "            else:\n",
    "                right = mid - 1\n",
    "        return 0\n"
   ]
  },
  {
   "cell_type": "code",
   "execution_count": 10,
   "metadata": {},
   "outputs": [
    {
     "data": {
      "text/plain": [
       "2"
      ]
     },
     "execution_count": 10,
     "metadata": {},
     "output_type": "execute_result"
    }
   ],
   "source": [
    "#    0, 1, 2, 3, 4,  5\n",
    "A = (5, 7, 7, 8, 8, 10)\n",
    "B = 8\n",
    "sol = Solution()\n",
    "sol.findCount(A, B)"
   ]
  },
  {
   "cell_type": "code",
   "execution_count": 11,
   "metadata": {},
   "outputs": [
    {
     "data": {
      "text/plain": [
       "0"
      ]
     },
     "execution_count": 11,
     "metadata": {},
     "output_type": "execute_result"
    }
   ],
   "source": [
    "A = [ 4, 7, 7, 7, 8, 10, 10 ]\n",
    "B = 3\n",
    "sol = Solution()\n",
    "sol.findCount(A, B)"
   ]
  }
 ],
 "metadata": {
  "kernelspec": {
   "display_name": "dsa-venv",
   "language": "python",
   "name": "python3"
  },
  "language_info": {
   "codemirror_mode": {
    "name": "ipython",
    "version": 3
   },
   "file_extension": ".py",
   "mimetype": "text/x-python",
   "name": "python",
   "nbconvert_exporter": "python",
   "pygments_lexer": "ipython3",
   "version": "3.11.3"
  }
 },
 "nbformat": 4,
 "nbformat_minor": 2
}
