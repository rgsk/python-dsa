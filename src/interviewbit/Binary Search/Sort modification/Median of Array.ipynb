{
 "cells": [
  {
   "cell_type": "code",
   "execution_count": 549,
   "metadata": {},
   "outputs": [],
   "source": [
    "# brute force approach\n",
    "class Solution:\n",
    "    # @param A : tuple of integers\n",
    "    # @param B : tuple of integers\n",
    "    # @return a double\n",
    "    def findMedianSortedArrays(self, A, B):\n",
    "        combined = list(A + B)\n",
    "        combined.sort()\n",
    "        n = len(combined)\n",
    "        if n % 2 == 1:\n",
    "            return combined[n//2]\n",
    "        else:\n",
    "            return (combined[n//2 - 1] + combined[n//2])/2.0 \n",
    "            # python 2.7 (on interview bit) requires 2.0"
   ]
  },
  {
   "cell_type": "code",
   "execution_count": 550,
   "metadata": {},
   "outputs": [],
   "source": [
    "# %%script echo skipping\n",
    "\n",
    "# TLE\n",
    "\n",
    "# make sure the elements are sorted in two arrays\n",
    "# find the element at correct index\n",
    "class Solution:\n",
    "    # @param A : tuple of integers\n",
    "    # @param B : tuple of integers\n",
    "    # @return a double\n",
    "    def findMedianSortedArrays(self, A, B):\n",
    "        A = list(A)\n",
    "        B = list(B)\n",
    "        i = 0\n",
    "        if len(B) > 0:\n",
    "            while i < len(A):\n",
    "                if B[0] < A[i]:\n",
    "                    temp = A[i]\n",
    "                    A[i] = B[0]\n",
    "                    B[0] = temp\n",
    "                    # ensure B remains sorted (smallest element is always the first)\n",
    "                    j = 0\n",
    "                    while j + 1 < len(B) and B[j+1] < B[j]:\n",
    "                        B[j], B[j+1] = B[j+1], B[j]\n",
    "                        j += 1\n",
    "                i += 1\n",
    "        # print(f'{A=}')\n",
    "        # print(f'{B=}')\n",
    "        n = len(A) + len(B)\n",
    "        def get_at_index(i):\n",
    "            if i < len(A):\n",
    "                return A[i]\n",
    "            i = i - len(A)\n",
    "            return B[i]\n",
    "        if n % 2 == 1:\n",
    "            return get_at_index(n//2)\n",
    "        else:\n",
    "            return (get_at_index(n//2 - 1) + get_at_index(n//2))/2.0 "
   ]
  },
  {
   "cell_type": "code",
   "execution_count": 551,
   "metadata": {},
   "outputs": [],
   "source": [
    "# %%script echo skipping\n",
    "\n",
    "\n",
    "INT_MAX = (2 ** 31)-1\n",
    "INT_MIN = -(2 ** 31)\n",
    "\n",
    "class Solution:\n",
    "    # @param A : tuple of integers\n",
    "    # @param B : tuple of integers\n",
    "    # @return a double\n",
    "    def findMedianSortedArrays(self, A, B):\n",
    "        nA = len(A)\n",
    "        nB = len(B)\n",
    "        total = nA + nB\n",
    "        partitionSize = total // 2\n",
    "        left = 0\n",
    "        right = nA - 1\n",
    "        while left <= right + 1 and left <= nA: \n",
    "            # right + 1 ensures\n",
    "            # left can be 0 and right can be -1\n",
    "            # so leftASize == 0\n",
    "\n",
    "            # although we can get rid of this condition (left <= right + 1 and left <= nA)\n",
    "            # while True will also work\n",
    "            # because if 1 element is present in either array\n",
    "            # ans would be returned from while loop always\n",
    "\n",
    "            mid = (left + right) // 2\n",
    "            leftASize = mid + 1\n",
    "            if leftASize > partitionSize:\n",
    "                right = mid - 1\n",
    "                continue\n",
    "            leftBSize = partitionSize - leftASize\n",
    "            if leftBSize > nB:\n",
    "                left = mid + 1\n",
    "                continue\n",
    "            \n",
    "            # check if partition is correct\n",
    "            if leftBSize == nB or leftASize == 0 or A[leftASize - 1] <= B[leftBSize]:\n",
    "                if leftASize == nA or leftBSize == 0 or B[leftBSize - 1] <= A[leftASize]:\n",
    "                    rightFirst = min(\n",
    "                        A[leftASize] if leftASize < nA else INT_MAX,\n",
    "                        B[leftBSize] if leftBSize < nB else INT_MAX\n",
    "                    )\n",
    "                    if total % 2 == 0:\n",
    "                        # even\n",
    "                        leftLast = max(\n",
    "                            A[leftASize - 1] if leftASize > 0 else INT_MIN,\n",
    "                            B[leftBSize - 1] if leftBSize > 0 else INT_MIN\n",
    "                        )\n",
    "                        return (leftLast + rightFirst) / 2.0\n",
    "                    else:\n",
    "                        return rightFirst\n",
    "                else:\n",
    "                    left = mid + 1\n",
    "            else:\n",
    "                right = mid - 1\n",
    "        "
   ]
  },
  {
   "cell_type": "code",
   "execution_count": 552,
   "metadata": {},
   "outputs": [
    {
     "data": {
      "text/plain": [
       "3"
      ]
     },
     "execution_count": 552,
     "metadata": {},
     "output_type": "execute_result"
    }
   ],
   "source": [
    "A = (1, 4, 5)\n",
    "B = (2, 3)\n",
    "sol = Solution()\n",
    "sol.findMedianSortedArrays(A, B)"
   ]
  },
  {
   "cell_type": "code",
   "execution_count": 553,
   "metadata": {},
   "outputs": [
    {
     "data": {
      "text/plain": [
       "3"
      ]
     },
     "execution_count": 553,
     "metadata": {},
     "output_type": "execute_result"
    }
   ],
   "source": [
    "A = (1, 2, 3)\n",
    "B = (4, 5)\n",
    "sol = Solution()\n",
    "sol.findMedianSortedArrays(A, B)"
   ]
  },
  {
   "cell_type": "code",
   "execution_count": 554,
   "metadata": {},
   "outputs": [
    {
     "data": {
      "text/plain": [
       "2.5"
      ]
     },
     "execution_count": 554,
     "metadata": {},
     "output_type": "execute_result"
    }
   ],
   "source": [
    "A = (1, 4)\n",
    "B = (2, 3)\n",
    "sol = Solution()\n",
    "sol.findMedianSortedArrays(A, B)"
   ]
  },
  {
   "cell_type": "code",
   "execution_count": 555,
   "metadata": {},
   "outputs": [
    {
     "data": {
      "text/plain": [
       "11.5"
      ]
     },
     "execution_count": 555,
     "metadata": {},
     "output_type": "execute_result"
    }
   ],
   "source": [
    "A = (0, 23)\n",
    "B = ()\n",
    "sol = Solution()\n",
    "sol.findMedianSortedArrays(A, B)"
   ]
  },
  {
   "cell_type": "code",
   "execution_count": 563,
   "metadata": {},
   "outputs": [
    {
     "data": {
      "text/plain": [
       "20"
      ]
     },
     "execution_count": 563,
     "metadata": {},
     "output_type": "execute_result"
    }
   ],
   "source": [
    "A = ()\n",
    "B = (20,)\n",
    "sol = Solution()\n",
    "sol.findMedianSortedArrays(A, B)"
   ]
  },
  {
   "cell_type": "code",
   "execution_count": 562,
   "metadata": {},
   "outputs": [
    {
     "data": {
      "text/plain": [
       "20"
      ]
     },
     "execution_count": 562,
     "metadata": {},
     "output_type": "execute_result"
    }
   ],
   "source": [
    "A = (20,)\n",
    "B = ()\n",
    "sol = Solution()\n",
    "sol.findMedianSortedArrays(A, B)"
   ]
  },
  {
   "cell_type": "code",
   "execution_count": 558,
   "metadata": {},
   "outputs": [
    {
     "data": {
      "text/plain": [
       "-7.5"
      ]
     },
     "execution_count": 558,
     "metadata": {},
     "output_type": "execute_result"
    }
   ],
   "source": [
    "A = (-45, -26, 23)\n",
    "B = (-41, -39, -33, -23, 8, 33, 41, 43, 48)\n",
    "sol = Solution()\n",
    "sol.findMedianSortedArrays(A, B)"
   ]
  },
  {
   "cell_type": "code",
   "execution_count": 559,
   "metadata": {},
   "outputs": [
    {
     "data": {
      "text/plain": [
       "-2"
      ]
     },
     "execution_count": 559,
     "metadata": {},
     "output_type": "execute_result"
    }
   ],
   "source": [
    "A = ( 16, 19 )\n",
    "B = ( -46, -15, -9, -7, -2, 24, 40 )\n",
    "sol = Solution()\n",
    "sol.findMedianSortedArrays(A, B)"
   ]
  },
  {
   "cell_type": "code",
   "execution_count": 560,
   "metadata": {},
   "outputs": [
    {
     "data": {
      "text/plain": [
       "11"
      ]
     },
     "execution_count": 560,
     "metadata": {},
     "output_type": "execute_result"
    }
   ],
   "source": [
    "A = (-35, 5, 11, 34, 35)\n",
    "B = ()\n",
    "sol = Solution()\n",
    "sol.findMedianSortedArrays(A, B)"
   ]
  },
  {
   "cell_type": "code",
   "execution_count": 561,
   "metadata": {},
   "outputs": [
    {
     "data": {
      "text/plain": [
       "12.5"
      ]
     },
     "execution_count": 561,
     "metadata": {},
     "output_type": "execute_result"
    }
   ],
   "source": [
    "A = [ -24, -11, -7, 4, 21, 26 ]\n",
    "B = [ 25, 44 ]\n",
    "sol = Solution()\n",
    "sol.findMedianSortedArrays(A, B)"
   ]
  }
 ],
 "metadata": {
  "kernelspec": {
   "display_name": "dsa-venv",
   "language": "python",
   "name": "python3"
  },
  "language_info": {
   "codemirror_mode": {
    "name": "ipython",
    "version": 3
   },
   "file_extension": ".py",
   "mimetype": "text/x-python",
   "name": "python",
   "nbconvert_exporter": "python",
   "pygments_lexer": "ipython3",
   "version": "3.11.3"
  }
 },
 "nbformat": 4,
 "nbformat_minor": 2
}
