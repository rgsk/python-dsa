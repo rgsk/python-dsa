{
 "cells": [
  {
   "cell_type": "code",
   "execution_count": 60,
   "metadata": {},
   "outputs": [],
   "source": [
    "from typing import List\n",
    "\n",
    "\n",
    "def get_sub_arrays(A: List[int]):\n",
    "    ans = []\n",
    "    n = len(A)\n",
    "    for i in range(n):\n",
    "        for j in range(i + 1, n + 1):\n",
    "            ans.append(A[i:j])\n",
    "    return ans\n",
    "\n",
    "def get_product_of_divisors(v):\n",
    "    p = 1\n",
    "    for i in range(1, v + 1):\n",
    "        if v % i == 0:\n",
    "            p *= i\n",
    "    return int(p % (1e9 + 7))\n",
    "\n",
    "# MLE since we don't to create all the subarrays\n",
    "class Solution:\n",
    "    # @param A : list of integers\n",
    "    # @param B : list of integers\n",
    "    # @return a list of integers\n",
    "    def solve(self, A, B):\n",
    "        sub_arrays = get_sub_arrays(A)\n",
    "        max_els = [max(arr) for arr in sub_arrays]\n",
    "        product_of_divisors = [get_product_of_divisors(v) for v in max_els]\n",
    "        product_of_divisors.sort(reverse=True)\n",
    "        ans = []\n",
    "        for i in B:\n",
    "            ans.append(product_of_divisors[i-1])\n",
    "        return ans"
   ]
  },
  {
   "cell_type": "code",
   "execution_count": 61,
   "metadata": {},
   "outputs": [],
   "source": [
    "from typing import List\n",
    "\n",
    "\n",
    "def get_max_in_sub_arrays(A: List[int]):\n",
    "    ans = []\n",
    "    n = len(A)\n",
    "    for i in range(n):\n",
    "        for j in range(i + 1, n + 1):\n",
    "            ans.append(max(A[i:j]))\n",
    "    return ans\n",
    "\n",
    "def get_product_of_divisors(v):\n",
    "    p = 1\n",
    "    for i in range(1, v + 1):\n",
    "        if v % i == 0:\n",
    "            p *= i\n",
    "    return int(p % (1e9 + 7))\n",
    "\n",
    "# TLE\n",
    "class Solution:\n",
    "    # @param A : list of integers\n",
    "    # @param B : list of integers\n",
    "    # @return a list of integers\n",
    "    def solve(self, A, B):\n",
    "        max_els = get_max_in_sub_arrays(A)\n",
    "        # print(f'{max_els=}')\n",
    "        product_of_divisors = [get_product_of_divisors(v) for v in max_els]\n",
    "        product_of_divisors.sort(reverse=True)\n",
    "        ans = []\n",
    "        for i in B:\n",
    "            ans.append(product_of_divisors[i-1])\n",
    "        return ans"
   ]
  },
  {
   "cell_type": "code",
   "execution_count": 62,
   "metadata": {},
   "outputs": [],
   "source": [
    "# %%script echo skipping\n",
    "\n",
    "\n",
    "from typing import List\n",
    "\n",
    "\n",
    "from math import ceil, inf, log2\n",
    "from typing import List\n",
    "\n",
    "\n",
    "def formSegmentTree(arr: List[int]):\n",
    "    n = len(arr)\n",
    "    nLevels = ceil(log2(n))\n",
    "    lengthOfSegmentTree = 2**(nLevels+1)\n",
    "    seg = [0] * lengthOfSegmentTree\n",
    "    def build(ind: int, low: int, high: int):\n",
    "        if low == high:\n",
    "            seg[ind] = arr[low]\n",
    "            return\n",
    "        mid = (low + high) // 2\n",
    "        build(2*ind + 1, low, mid)\n",
    "        build(2*ind + 2, mid+1, high)\n",
    "        seg[ind] = max(seg[2*ind+1], seg[2*ind+2])\n",
    "\n",
    "    build(0, 0, n - 1)\n",
    "    \n",
    "    def query(ind: int, low: int, high: int, l:int, r:int):\n",
    "        if low >= l and high <= r:\n",
    "            # current range is completely inside the desired range\n",
    "            return seg[ind]\n",
    "        if high < l or low > r:\n",
    "            # current range is outside the desired range\n",
    "            # since we are calculating the max element, we don't want to consider this result, so we return INT_MIN\n",
    "            return -inf\n",
    "        \n",
    "        # handle the case of overlap\n",
    "        mid = (low + high) // 2\n",
    "        left = query(2*ind+1, low, mid, l, r)\n",
    "        right = query(2*ind+2, mid+1, high, l, r)\n",
    "        # return the max from left and right\n",
    "        return max(left, right)\n",
    "    \n",
    "    def findMaxInRange(l:int, r:int):\n",
    "        return query(0, 0, n-1, l, r)\n",
    "\n",
    "    return findMaxInRange\n",
    "\n",
    "\n",
    "def get_max_in_sub_arrays(A: List[int]):\n",
    "    ans = []\n",
    "    n = len(A)\n",
    "    findMaxInRange = formSegmentTree(A)\n",
    "\n",
    "    for i in range(n):\n",
    "        for j in range(i, n):\n",
    "            ans.append(findMaxInRange(i, j))\n",
    "    return ans\n",
    "\n",
    "def get_product_of_divisors(v):\n",
    "    p = 1\n",
    "    for i in range(1, v + 1):\n",
    "        if v % i == 0:\n",
    "            p *= i\n",
    "    return int(p % (1e9 + 7))\n",
    "\n",
    "class Solution:\n",
    "    # @param A : list of integers\n",
    "    # @param B : list of integers\n",
    "    # @return a list of integers\n",
    "    def solve(self, A, B):\n",
    "        max_els = get_max_in_sub_arrays(A)\n",
    "        # print(f'{max_els=}')\n",
    "        product_of_divisors = [get_product_of_divisors(v) for v in max_els]\n",
    "        product_of_divisors.sort(reverse=True)\n",
    "        ans = []\n",
    "        for i in B:\n",
    "            ans.append(product_of_divisors[i-1])\n",
    "        return ans"
   ]
  },
  {
   "cell_type": "code",
   "execution_count": 63,
   "metadata": {},
   "outputs": [
    {
     "data": {
      "text/plain": [
       "[8, 8, 8, 2, 2, 1]"
      ]
     },
     "execution_count": 63,
     "metadata": {},
     "output_type": "execute_result"
    }
   ],
   "source": [
    "A = [1, 2, 4]\n",
    "B = [1, 2, 3, 4, 5, 6]\n",
    "sol = Solution()\n",
    "sol.solve(A, B)"
   ]
  },
  {
   "cell_type": "code",
   "execution_count": 64,
   "metadata": {},
   "outputs": [
    {
     "data": {
      "text/plain": [
       "[3]"
      ]
     },
     "execution_count": 64,
     "metadata": {},
     "output_type": "execute_result"
    }
   ],
   "source": [
    "A = [1, 3]\n",
    "B = [1]\n",
    "sol = Solution()\n",
    "sol.solve(A, B)"
   ]
  }
 ],
 "metadata": {
  "kernelspec": {
   "display_name": "dsa-venv",
   "language": "python",
   "name": "python3"
  },
  "language_info": {
   "codemirror_mode": {
    "name": "ipython",
    "version": 3
   },
   "file_extension": ".py",
   "mimetype": "text/x-python",
   "name": "python",
   "nbconvert_exporter": "python",
   "pygments_lexer": "ipython3",
   "version": "3.11.3"
  }
 },
 "nbformat": 4,
 "nbformat_minor": 2
}
