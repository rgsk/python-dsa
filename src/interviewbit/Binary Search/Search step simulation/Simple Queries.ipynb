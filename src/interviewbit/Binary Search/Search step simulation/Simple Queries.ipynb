{
 "cells": [
  {
   "cell_type": "code",
   "execution_count": 409,
   "metadata": {},
   "outputs": [],
   "source": [
    "from typing import List\n",
    "\n",
    "\n",
    "def get_sub_arrays(A: List[int]):\n",
    "    ans = []\n",
    "    n = len(A)\n",
    "    for i in range(n):\n",
    "        for j in range(i + 1, n + 1):\n",
    "            ans.append(A[i:j])\n",
    "    return ans\n",
    "\n",
    "def get_product_of_divisors(v):\n",
    "    p = 1\n",
    "    for i in range(1, v + 1):\n",
    "        if v % i == 0:\n",
    "            p *= i\n",
    "    return int(p % (1e9 + 7))\n",
    "\n",
    "# MLE since we don't to create all the subarrays\n",
    "class Solution:\n",
    "    # @param A : list of integers\n",
    "    # @param B : list of integers\n",
    "    # @return a list of integers\n",
    "    def solve(self, A, B):\n",
    "        sub_arrays = get_sub_arrays(A)\n",
    "        max_els = [max(arr) for arr in sub_arrays]\n",
    "        product_of_divisors = [get_product_of_divisors(v) for v in max_els]\n",
    "        product_of_divisors.sort(reverse=True)\n",
    "        ans = []\n",
    "        for i in B:\n",
    "            ans.append(product_of_divisors[i-1])\n",
    "        return ans"
   ]
  },
  {
   "cell_type": "code",
   "execution_count": 410,
   "metadata": {},
   "outputs": [],
   "source": [
    "from typing import List\n",
    "\n",
    "\n",
    "def get_max_in_sub_arrays(A: List[int]):\n",
    "    ans = []\n",
    "    n = len(A)\n",
    "    for i in range(n):\n",
    "        for j in range(i + 1, n + 1):\n",
    "            ans.append(max(A[i:j]))\n",
    "    return ans\n",
    "\n",
    "def get_product_of_divisors(v):\n",
    "    p = 1\n",
    "    for i in range(1, v + 1):\n",
    "        if v % i == 0:\n",
    "            p *= i\n",
    "    return int(p % (1e9 + 7))\n",
    "\n",
    "# TLE\n",
    "class Solution:\n",
    "    # @param A : list of integers\n",
    "    # @param B : list of integers\n",
    "    # @return a list of integers\n",
    "    def solve(self, A, B):\n",
    "        max_els = get_max_in_sub_arrays(A)\n",
    "        print(f'{max_els=}')\n",
    "        print(f'{len(max_els)=}')\n",
    "        product_of_divisors = [get_product_of_divisors(v) for v in max_els]\n",
    "        product_of_divisors.sort(reverse=True)\n",
    "        ans = []\n",
    "        for i in B:\n",
    "            ans.append(product_of_divisors[i-1])\n",
    "        return ans"
   ]
  },
  {
   "cell_type": "code",
   "execution_count": 411,
   "metadata": {},
   "outputs": [],
   "source": [
    "# %%script echo skipping\n",
    "\n",
    "\n",
    "from typing import List\n",
    "\n",
    "\n",
    "from math import ceil, inf, log2\n",
    "from typing import List\n",
    "\n",
    "\n",
    "def formSegmentTree(arr: List[int]):\n",
    "    n = len(arr)\n",
    "    nLevels = ceil(log2(n))\n",
    "    lengthOfSegmentTree = 2**(nLevels+1)\n",
    "    seg = [0] * lengthOfSegmentTree\n",
    "    def build(ind: int, low: int, high: int):\n",
    "        if low == high:\n",
    "            seg[ind] = arr[low]\n",
    "            return\n",
    "        mid = (low + high) // 2\n",
    "        build(2*ind + 1, low, mid)\n",
    "        build(2*ind + 2, mid+1, high)\n",
    "        seg[ind] = max(seg[2*ind+1], seg[2*ind+2])\n",
    "\n",
    "    build(0, 0, n - 1)\n",
    "    \n",
    "    def query(ind: int, low: int, high: int, l:int, r:int):\n",
    "        if low >= l and high <= r:\n",
    "            # current range is completely inside the desired range\n",
    "            return seg[ind]\n",
    "        if high < l or low > r:\n",
    "            # current range is outside the desired range\n",
    "            # since we are calculating the max element, we don't want to consider this result, so we return INT_MIN\n",
    "            return -inf\n",
    "        \n",
    "        # handle the case of overlap\n",
    "        mid = (low + high) // 2\n",
    "        left = query(2*ind+1, low, mid, l, r)\n",
    "        right = query(2*ind+2, mid+1, high, l, r)\n",
    "        # return the max from left and right\n",
    "        return max(left, right)\n",
    "    \n",
    "    def findMaxInRange(l:int, r:int):\n",
    "        return query(0, 0, n-1, l, r)\n",
    "\n",
    "    return findMaxInRange\n",
    "\n",
    "\n",
    "def get_max_in_sub_arrays(A: List[int]):\n",
    "    ans = []\n",
    "    n = len(A)\n",
    "    findMaxInRange = formSegmentTree(A)\n",
    "\n",
    "    for i in range(n):\n",
    "        for j in range(i, n):\n",
    "            ans.append(findMaxInRange(i, j))\n",
    "    return ans\n",
    "\n",
    "# TLE\n",
    "class Solution:\n",
    "    # @param A : list of integers\n",
    "    # @param B : list of integers\n",
    "    # @return a list of integers\n",
    "    def solve(self, A, B):\n",
    "        max_els = get_max_in_sub_arrays(A)\n",
    "        # print(f'{max_els=}')\n",
    "        # print(f'{len(max_els)=}')\n",
    "        max_el = max(max_els)\n",
    "        sieve = [1] * (max_el + 1)\n",
    "        for i in range(2, max_el + 1):\n",
    "            j = i\n",
    "            while j <= max_el:\n",
    "                sieve[j] *= i\n",
    "                j += i\n",
    "        # print(f'{sieve=}')\n",
    "\n",
    "        def get_product_of_divisors(v):\n",
    "            return int(sieve[v] % (1e9 + 7))\n",
    "        product_of_divisors = [get_product_of_divisors(v) for v in max_els]\n",
    "        product_of_divisors.sort(reverse=True)\n",
    "        ans = []\n",
    "        for i in B:\n",
    "            ans.append(product_of_divisors[i-1])\n",
    "        return ans"
   ]
  },
  {
   "cell_type": "code",
   "execution_count": 412,
   "metadata": {},
   "outputs": [
    {
     "data": {
      "text/plain": [
       "[8, 8, 8, 2, 2, 1]"
      ]
     },
     "execution_count": 412,
     "metadata": {},
     "output_type": "execute_result"
    }
   ],
   "source": [
    "A = [1, 2, 4]\n",
    "B = [1, 2, 3, 4, 5, 6]\n",
    "sol = Solution()\n",
    "sol.solve(A, B)"
   ]
  },
  {
   "cell_type": "code",
   "execution_count": 413,
   "metadata": {},
   "outputs": [
    {
     "data": {
      "text/plain": [
       "[3]"
      ]
     },
     "execution_count": 413,
     "metadata": {},
     "output_type": "execute_result"
    }
   ],
   "source": [
    "A = [1, 3]\n",
    "B = [1]\n",
    "sol = Solution()\n",
    "sol.solve(A, B)"
   ]
  },
  {
   "cell_type": "code",
   "execution_count": 414,
   "metadata": {},
   "outputs": [
    {
     "data": {
      "text/plain": [
       "[64]"
      ]
     },
     "execution_count": 414,
     "metadata": {},
     "output_type": "execute_result"
    }
   ],
   "source": [
    "A = [6, 5, 3, 5, 2, 3, 8, 2]\n",
    "B = [1]\n",
    "sol = Solution()\n",
    "sol.solve(A, B)"
   ]
  },
  {
   "cell_type": "code",
   "execution_count": 415,
   "metadata": {},
   "outputs": [
    {
     "data": {
      "text/plain": [
       "[7569,\n",
       " 1000000000,\n",
       " 1000000000,\n",
       " 440996283,\n",
       " 778688,\n",
       " 1000000000,\n",
       " 1000000000,\n",
       " 1000000000,\n",
       " 1000000000,\n",
       " 1000000000,\n",
       " 83,\n",
       " 1000000000,\n",
       " 440996283,\n",
       " 778688,\n",
       " 3364,\n",
       " 59969536,\n",
       " 1000000000,\n",
       " 1000000000,\n",
       " 7569,\n",
       " 1000000000,\n",
       " 970299,\n",
       " 1000000000,\n",
       " 59969536,\n",
       " 1000000000,\n",
       " 970299]"
      ]
     },
     "execution_count": 415,
     "metadata": {},
     "output_type": "execute_result"
    }
   ],
   "source": [
    "A = [ 39, 99, 70, 24, 49, 13, 86, 43, 88, 74, 45, 92, 72, 71, 90, 32, 19, 76, 84, 46, 63, 15, 87, 1, 39, 58, 17, 65, 99, 43, 83, 29, 64, 67, 100, 14, 17, 100, 81, 26, 45, 40, 95, 94, 86, 2, 89, 57, 52, 91, 45 ]\n",
    "B = [ 1221, 360, 459, 651, 958, 584, 345, 181, 536, 116, 1310, 403, 669, 1044, 1281, 711, 222, 280, 1255, 257, 811, 409, 698, 74, 838 ]\n",
    "sol = Solution()\n",
    "sol.solve(A, B)"
   ]
  }
 ],
 "metadata": {
  "kernelspec": {
   "display_name": "dsa-venv",
   "language": "python",
   "name": "python3"
  },
  "language_info": {
   "codemirror_mode": {
    "name": "ipython",
    "version": 3
   },
   "file_extension": ".py",
   "mimetype": "text/x-python",
   "name": "python",
   "nbconvert_exporter": "python",
   "pygments_lexer": "ipython3",
   "version": "3.11.3"
  }
 },
 "nbformat": 4,
 "nbformat_minor": 2
}
