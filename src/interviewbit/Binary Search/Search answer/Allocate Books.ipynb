{
 "cells": [
  {
   "cell_type": "code",
   "execution_count": 24,
   "metadata": {},
   "outputs": [],
   "source": [
    "# https://www.interviewbit.com/problems/allocate-books/"
   ]
  },
  {
   "cell_type": "code",
   "execution_count": 25,
   "metadata": {},
   "outputs": [],
   "source": [
    "class Solution:\n",
    "    # @param A : list of integers\n",
    "    # @param B : integer\n",
    "    # @return an integer\n",
    "    def books(self, A, B):\n",
    "        if len(A) < B:\n",
    "            # each child must have one book\n",
    "            # so if number of books is less than students\n",
    "            # not possible\n",
    "            return -1\n",
    "        def check(max_pages):\n",
    "            i = 0\n",
    "            slots = B\n",
    "            while slots > 0:\n",
    "                rem = max_pages\n",
    "                while i < len(A) and rem >= A[i]:\n",
    "                    rem -= A[i]\n",
    "                    i += 1\n",
    "                slots -= 1\n",
    "            return i == len(A)\n",
    "        left = max(A)\n",
    "        right = sum(A)\n",
    "        while left < right:\n",
    "            mid = (left + right) // 2\n",
    "            if check(mid):\n",
    "                right = mid\n",
    "            else:\n",
    "                left = mid + 1\n",
    "        return left"
   ]
  },
  {
   "cell_type": "code",
   "execution_count": 26,
   "metadata": {},
   "outputs": [
    {
     "data": {
      "text/plain": [
       "113"
      ]
     },
     "execution_count": 26,
     "metadata": {},
     "output_type": "execute_result"
    }
   ],
   "source": [
    "A = [12, 34, 67, 90]\n",
    "B = 2\n",
    "sol = Solution()\n",
    "sol.books(A, B)"
   ]
  },
  {
   "cell_type": "code",
   "execution_count": 27,
   "metadata": {},
   "outputs": [
    {
     "data": {
      "text/plain": [
       "100"
      ]
     },
     "execution_count": 27,
     "metadata": {},
     "output_type": "execute_result"
    }
   ],
   "source": [
    "A = [5, 17, 100, 11]\n",
    "B = 4\n",
    "sol = Solution()\n",
    "sol.books(A, B)"
   ]
  },
  {
   "cell_type": "code",
   "execution_count": 28,
   "metadata": {},
   "outputs": [
    {
     "data": {
      "text/plain": [
       "-1"
      ]
     },
     "execution_count": 28,
     "metadata": {},
     "output_type": "execute_result"
    }
   ],
   "source": [
    "A = [ 31, 14, 19, 75 ]\n",
    "B = 12\n",
    "sol = Solution()\n",
    "sol.books(A, B)"
   ]
  }
 ],
 "metadata": {
  "kernelspec": {
   "display_name": "dsa-venv",
   "language": "python",
   "name": "python3"
  },
  "language_info": {
   "codemirror_mode": {
    "name": "ipython",
    "version": 3
   },
   "file_extension": ".py",
   "mimetype": "text/x-python",
   "name": "python",
   "nbconvert_exporter": "python",
   "pygments_lexer": "ipython3",
   "version": "3.11.3"
  }
 },
 "nbformat": 4,
 "nbformat_minor": 2
}
