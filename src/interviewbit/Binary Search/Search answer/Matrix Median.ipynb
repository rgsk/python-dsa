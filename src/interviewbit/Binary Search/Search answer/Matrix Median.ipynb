{
 "cells": [
  {
   "cell_type": "code",
   "execution_count": 478,
   "metadata": {},
   "outputs": [],
   "source": [
    "# brute force\n",
    "\n",
    "from typing import List\n",
    "\n",
    "\n",
    "def get_median(A: List[int]):\n",
    "    n = len(A)\n",
    "    mid = n // 2\n",
    "    if n % 2 == 0:\n",
    "        return (A[mid - 1] + A[mid]) / 2\n",
    "    return A[mid]\n",
    "    \n",
    "class Solution:\n",
    "    # @param A : list of list of integers\n",
    "    # @return an integer\n",
    "    def findMedian(self, A):\n",
    "        combined = []\n",
    "        for row in A:\n",
    "            combined += row\n",
    "        combined.sort()\n",
    "        print(f'{combined=}')\n",
    "        return get_median(combined)"
   ]
  },
  {
   "cell_type": "code",
   "execution_count": 479,
   "metadata": {},
   "outputs": [],
   "source": [
    "# %%script echo skipping\n",
    "\n",
    "\n",
    "# @param A : tuple of integers\n",
    "# @param B : integer\n",
    "# @return an integer\n",
    "from collections import defaultdict\n",
    "\n",
    "# returns the index of first occurrence of element\n",
    "# if element exists\n",
    "# else returns index of first element greater than B\n",
    "# if B is greater than greatest element in A, return len(A)\n",
    "def lower_bound(A, B):\n",
    "    n = len(A)\n",
    "    left = 0\n",
    "    right = n - 1\n",
    "    while left < right:\n",
    "        mid = (left + right) // 2\n",
    "        if A[mid] < B:\n",
    "            left = mid + 1\n",
    "        else:\n",
    "            right = mid\n",
    "    if A[left] < B:\n",
    "        return left + 1\n",
    "    return left \n",
    "\n",
    "# TLE\n",
    "class Solution:\n",
    "    \n",
    "    # @param A : list of list of integers\n",
    "    # @return an integer\n",
    "    def findMedian(self, A):\n",
    "        rows = len(A)\n",
    "        cols = len(A[0])\n",
    "        def noElementsSmaller(X: int):\n",
    "            c = 0\n",
    "            for row in A:\n",
    "                c += lower_bound(row, X)\n",
    "            return c\n",
    "        \n",
    "        count_map = defaultdict(int)\n",
    "        for row in A:\n",
    "            for v in row:\n",
    "                count_map[v] += 1\n",
    "    \n",
    "        def getAtIndex(i):\n",
    "            for row in A:\n",
    "                for v in row:\n",
    "                    smaller = noElementsSmaller(v)\n",
    "                    count = count_map[v]\n",
    "                    v_start_idx = smaller\n",
    "                    v_end_idx = v_start_idx + count - 1\n",
    "                    if v_start_idx <= i <= v_end_idx:\n",
    "                        return v\n",
    "                    \n",
    "        \n",
    "        n = rows * cols\n",
    "        mid = n // 2\n",
    "        if n % 2 == 0:\n",
    "            return (getAtIndex(mid - 1) + getAtIndex(mid)) / 2\n",
    "        return getAtIndex(mid)"
   ]
  },
  {
   "cell_type": "code",
   "execution_count": 480,
   "metadata": {},
   "outputs": [],
   "source": [
    "# %%script echo skipping\n",
    "\n",
    "\n",
    "# @param A : tuple of integers\n",
    "# @param B : integer\n",
    "# @return an integer\n",
    "from collections import defaultdict\n",
    "import math\n",
    "\n",
    "# returns the index of first occurrence of element\n",
    "# if element exists\n",
    "# else returns index of first element greater than B\n",
    "# if B is greater than greatest element in A, return len(A)\n",
    "def lower_bound(A, B):\n",
    "    n = len(A)\n",
    "    left = 0\n",
    "    right = n - 1\n",
    "    while left < right:\n",
    "        mid = (left + right) // 2\n",
    "        if A[mid] < B:\n",
    "            left = mid + 1\n",
    "        else:\n",
    "            right = mid\n",
    "    if A[left] < B:\n",
    "        return left + 1\n",
    "    return left \n",
    "\n",
    "class Solution:\n",
    "    \n",
    "    # @param A : list of list of integers\n",
    "    # @return an integer\n",
    "    def findMedian(self, A):\n",
    "        rows = len(A)\n",
    "        cols = len(A[0])\n",
    "        def noElementsSmaller(X: int):\n",
    "            c = 0\n",
    "            for row in A:\n",
    "                c += lower_bound(row, X)\n",
    "            return c\n",
    "        \n",
    "        count_map = defaultdict(int)\n",
    "        for row in A:\n",
    "            for v in row:\n",
    "                count_map[v] += 1\n",
    "    \n",
    "        def getAtIndex(i):\n",
    "            lower_limit = -math.inf\n",
    "            upper_limit = math.inf\n",
    "            for row in A:\n",
    "                for v in row:\n",
    "                    if v <= lower_limit or v >= upper_limit:\n",
    "                        continue\n",
    "                    smaller = noElementsSmaller(v)\n",
    "                    count = count_map[v]\n",
    "                    v_start_idx = smaller\n",
    "                    v_end_idx = v_start_idx + count - 1\n",
    "                    if v_start_idx <= i <= v_end_idx:\n",
    "                        return v\n",
    "                    if i > v_end_idx:\n",
    "                        lower_limit = v\n",
    "                    else:\n",
    "                        # i < v_start_idx\n",
    "                        upper_limit = v\n",
    "        \n",
    "        n = rows * cols\n",
    "        mid = n // 2\n",
    "        if n % 2 == 0:\n",
    "            return (getAtIndex(mid - 1) + getAtIndex(mid)) / 2\n",
    "        return getAtIndex(mid)"
   ]
  },
  {
   "cell_type": "code",
   "execution_count": 481,
   "metadata": {},
   "outputs": [],
   "source": [
    "# %%script echo skipping\n",
    "\n",
    "\n",
    "import math\n",
    "\n",
    "# returns the index of first occurrence of element\n",
    "# if element exists\n",
    "# else returns index of first element greater than B\n",
    "# if B is greater than greatest element in A, return len(A)\n",
    "def lower_bound(A, B):\n",
    "    n = len(A)\n",
    "    left = 0\n",
    "    right = n - 1\n",
    "    while left < right:\n",
    "        mid = (left + right) // 2\n",
    "        if A[mid] < B:\n",
    "            left = mid + 1\n",
    "        else:\n",
    "            right = mid\n",
    "    if A[left] < B:\n",
    "        return left + 1\n",
    "    return left \n",
    "\n",
    "\n",
    "class Solution:\n",
    "    \n",
    "    # @param A : list of list of integers\n",
    "    # @return an integer\n",
    "    def findMedian(self, A):\n",
    "        # debugging code\n",
    "        # combined = []\n",
    "        # for row in A:\n",
    "        #     combined += row\n",
    "        # combined.sort()\n",
    "        # print(f'{combined=}')\n",
    "\n",
    "        rows = len(A)\n",
    "        cols = len(A[0])\n",
    "        def noElementsSmaller(X: int):\n",
    "            total_sm = 0\n",
    "            total_sm_eq = 0\n",
    "            for row in A:\n",
    "                sm = lower_bound(row, X)\n",
    "                total_sm += sm\n",
    "                eq = 0\n",
    "                j = sm\n",
    "                while j < cols and row[j] == X:\n",
    "                    eq += 1\n",
    "                    j += 1\n",
    "\n",
    "                total_sm_eq += sm + eq\n",
    "\n",
    "            return [total_sm, total_sm_eq - 1]\n",
    "   \n",
    "    \n",
    "        def getAtIndex(i):\n",
    "            lower_limit = -math.inf\n",
    "            upper_limit = math.inf\n",
    "            for row in A:\n",
    "                for v in row:\n",
    "                    if v <= lower_limit or v >= upper_limit:\n",
    "                        continue\n",
    "                    v_start_idx, v_end_idx = noElementsSmaller(v)\n",
    "                    # print(f'{v=}')\n",
    "                    # print(f'{v_start_idx=}')\n",
    "                    # print(f'{v_end_idx=}')\n",
    "                    if v_start_idx <= i <= v_end_idx:\n",
    "                        return v\n",
    "                    if i > v_end_idx:\n",
    "                        lower_limit = v\n",
    "                    else:\n",
    "                        # i < v_start_idx\n",
    "                        upper_limit = v\n",
    "        \n",
    "        n = rows * cols\n",
    "        mid = n // 2\n",
    "        if n % 2 == 0:\n",
    "            return (getAtIndex(mid - 1) + getAtIndex(mid)) / 2\n",
    "        return getAtIndex(mid)"
   ]
  },
  {
   "cell_type": "code",
   "execution_count": 482,
   "metadata": {},
   "outputs": [
    {
     "name": "stdout",
     "output_type": "stream",
     "text": [
      "2\n"
     ]
    }
   ],
   "source": [
    "print(lower_bound([1, 2, 3, 3, 3], 3))"
   ]
  },
  {
   "cell_type": "code",
   "execution_count": 483,
   "metadata": {},
   "outputs": [
    {
     "data": {
      "text/plain": [
       "5"
      ]
     },
     "execution_count": 483,
     "metadata": {},
     "output_type": "execute_result"
    }
   ],
   "source": [
    "A = [[1, 3, 5],\n",
    "     [2, 6, 9],\n",
    "     [3, 6, 9]]\n",
    "sol = Solution()\n",
    "sol.findMedian(A)"
   ]
  },
  {
   "cell_type": "code",
   "execution_count": 484,
   "metadata": {},
   "outputs": [
    {
     "data": {
      "text/plain": [
       "17"
      ]
     },
     "execution_count": 484,
     "metadata": {},
     "output_type": "execute_result"
    }
   ],
   "source": [
    "A = [[5, 17, 100]]\n",
    "sol = Solution()\n",
    "sol.findMedian(A)"
   ]
  },
  {
   "cell_type": "code",
   "execution_count": 485,
   "metadata": {},
   "outputs": [
    {
     "data": {
      "text/plain": [
       "2.5"
      ]
     },
     "execution_count": 485,
     "metadata": {},
     "output_type": "execute_result"
    }
   ],
   "source": [
    "A = [[1, 2],[3, 4]]\n",
    "sol = Solution()\n",
    "sol.findMedian(A)"
   ]
  },
  {
   "cell_type": "code",
   "execution_count": 486,
   "metadata": {},
   "outputs": [
    {
     "data": {
      "text/plain": [
       "2"
      ]
     },
     "execution_count": 486,
     "metadata": {},
     "output_type": "execute_result"
    }
   ],
   "source": [
    "A = [\n",
    "  [2],\n",
    "  [1],\n",
    "  [4],\n",
    "  [1],\n",
    "  [2],\n",
    "  [2],\n",
    "  [5]\n",
    "]\n",
    "\n",
    "sol = Solution()\n",
    "sol.findMedian(A)"
   ]
  },
  {
   "cell_type": "code",
   "execution_count": 487,
   "metadata": {},
   "outputs": [
    {
     "data": {
      "text/plain": [
       "2"
      ]
     },
     "execution_count": 487,
     "metadata": {},
     "output_type": "execute_result"
    }
   ],
   "source": [
    "A = [\n",
    "    [1, 1, 1, 1, 2, 2, 2, 2, 3, 3, 3]\n",
    "]\n",
    "sol = Solution()\n",
    "sol.findMedian(A)"
   ]
  }
 ],
 "metadata": {
  "kernelspec": {
   "display_name": "dsa-venv",
   "language": "python",
   "name": "python3"
  },
  "language_info": {
   "codemirror_mode": {
    "name": "ipython",
    "version": 3
   },
   "file_extension": ".py",
   "mimetype": "text/x-python",
   "name": "python",
   "nbconvert_exporter": "python",
   "pygments_lexer": "ipython3",
   "version": "3.11.3"
  }
 },
 "nbformat": 4,
 "nbformat_minor": 2
}
