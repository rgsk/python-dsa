{
 "cells": [
  {
   "cell_type": "code",
   "execution_count": 6,
   "metadata": {},
   "outputs": [],
   "source": [
    "# https://www.interviewbit.com/problems/search-in-bitonic-array/"
   ]
  },
  {
   "cell_type": "code",
   "execution_count": 7,
   "metadata": {},
   "outputs": [],
   "source": [
    "def binary_search(elements, start, end, searchTerm, reverse):\n",
    "    while (start <= end):\n",
    "        mid = (start + end) // 2\n",
    "        if elements[mid] == searchTerm:\n",
    "            return mid\n",
    "        elif searchTerm > elements[mid]:\n",
    "            if not reverse:\n",
    "                start = mid + 1\n",
    "            else:\n",
    "                end = mid - 1\n",
    "        else:\n",
    "            if not reverse:\n",
    "                end = mid - 1\n",
    "            else:\n",
    "                start = mid + 1\n",
    "    return -1\n",
    "    \n",
    "class Solution:\n",
    "    # @param A : list of integers\n",
    "    # @param B : integer\n",
    "    # @return an integer\n",
    "    def solve(self, A, B):\n",
    "        increment = (len(A) - 1)//2\n",
    "        i = 0\n",
    "        while (increment > 0):\n",
    "            while (i+2*increment < len(A) and A[i+2*increment] > A[i+increment]): i += increment\n",
    "            increment //= 2\n",
    "        bitonic_index = i + 1\n",
    "        # print(\"bitonic_index\", bitonic_index)\n",
    "        if (A[bitonic_index] == B): return bitonic_index\n",
    "        leftIndex = binary_search(A, 0, bitonic_index-1, B, False)\n",
    "        if (leftIndex != -1): return leftIndex\n",
    "        return  binary_search(A, bitonic_index + 1, len(A)-1, B, True)\n",
    "\n"
   ]
  },
  {
   "cell_type": "code",
   "execution_count": 8,
   "metadata": {},
   "outputs": [
    {
     "name": "stdout",
     "output_type": "stream",
     "text": [
      "bitonic_index 3\n",
      "3\n"
     ]
    }
   ],
   "source": [
    "A = [3, 9, 10, 20, 17, 5, 1]\n",
    "B = 20\n",
    "sol = Solution()\n",
    "print(sol.solve(A, B))"
   ]
  },
  {
   "cell_type": "code",
   "execution_count": 9,
   "metadata": {},
   "outputs": [
    {
     "name": "stdout",
     "output_type": "stream",
     "text": [
      "bitonic_index 5\n",
      "-1\n"
     ]
    }
   ],
   "source": [
    "A = [5, 6, 7, 8, 9, 10, 3, 2, 1]\n",
    "B = 30\n",
    "sol = Solution()\n",
    "print(sol.solve(A, B))"
   ]
  },
  {
   "cell_type": "code",
   "execution_count": 10,
   "metadata": {},
   "outputs": [
    {
     "name": "stdout",
     "output_type": "stream",
     "text": [
      "bitonic_index 10\n",
      "18\n"
     ]
    }
   ],
   "source": [
    "A = [ 1, 2, 3, 4, 5, 6, 7, 8, 9, 10, 20, 19, 18, 17, 16, 15, 14, 13, 12, 11 ]\n",
    "B = 12\n",
    "sol = Solution()\n",
    "print(sol.solve(A, B))"
   ]
  }
 ],
 "metadata": {
  "kernelspec": {
   "display_name": "template-venv",
   "language": "python",
   "name": "python3"
  },
  "language_info": {
   "codemirror_mode": {
    "name": "ipython",
    "version": 3
   },
   "file_extension": ".py",
   "mimetype": "text/x-python",
   "name": "python",
   "nbconvert_exporter": "python",
   "pygments_lexer": "ipython3",
   "version": "3.10.4"
  },
  "orig_nbformat": 4
 },
 "nbformat": 4,
 "nbformat_minor": 2
}
