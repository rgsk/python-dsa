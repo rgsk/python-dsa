{
 "cells": [
  {
   "cell_type": "code",
   "execution_count": 22,
   "metadata": {},
   "outputs": [],
   "source": [
    "# https://www.interviewbit.com/problems/hotel-reviews/"
   ]
  },
  {
   "cell_type": "code",
   "execution_count": 23,
   "metadata": {},
   "outputs": [],
   "source": [
    "\n",
    "def ctoi(c):\n",
    "    return ord(c) - 97\n",
    "\n",
    "\n",
    "class Trie:\n",
    "\n",
    "    def __init__(self):\n",
    "        self.nodes = [None for _ in range(26)]\n",
    "        self.end = False\n",
    "\n",
    "    def insert(self, word: str) -> None:\n",
    "        temp = self\n",
    "        for c in word:\n",
    "            i = ctoi(c)\n",
    "            if not temp.nodes[i]:\n",
    "                temp.nodes[i] = Trie()\n",
    "            temp = temp.nodes[i]\n",
    "        temp.end = True\n",
    "\n",
    "    def search(self, word: str) -> bool:\n",
    "        temp = self\n",
    "        for c in word:\n",
    "            i = ctoi(c)\n",
    "            if not temp.nodes[i]:\n",
    "                return False\n",
    "            temp = temp.nodes[i]\n",
    "        return temp.end\n",
    "\n",
    "    def startsWith(self, prefix: str) -> bool:\n",
    "        temp = self\n",
    "        for c in prefix:\n",
    "            i = ctoi(c)\n",
    "            if not temp.nodes[i]:\n",
    "                return False\n",
    "            temp = temp.nodes[i]\n",
    "        return True\n",
    "\n",
    "\n",
    "# Your Trie object will be instantiated and called as such:\n",
    "# obj = Trie()\n",
    "# obj.insert(word)\n",
    "# param_2 = obj.search(word)\n",
    "# param_3 = obj.startsWith(prefix)\n",
    "\n",
    "from functools import cmp_to_key\n",
    "\n",
    "def compare(a, b):\n",
    "    if a[0] == b[0]:\n",
    "        if a[1] < b[1]: return -1\n",
    "        return 1\n",
    "    if a[0] > b[0]: return -1\n",
    "    return 1\n",
    "\n",
    "class Solution:\n",
    "    # @param A : string\n",
    "    # @param B : list of strings\n",
    "    # @return a list of integers\n",
    "    def solve(self, A, B):\n",
    "        trie = Trie()\n",
    "        for word in A.split('_'):\n",
    "            trie.insert(word)\n",
    "        items = []\n",
    "        for i in range(len(B)):\n",
    "            review = B[i]\n",
    "            review_words = review.split('_')\n",
    "            score = 0\n",
    "            for word in review_words:\n",
    "                if trie.search(word):\n",
    "                    score += 1\n",
    "            items.append((score, i))\n",
    "        items.sort(key=cmp_to_key(compare))\n",
    "        return [idx for val, idx in items]"
   ]
  },
  {
   "cell_type": "code",
   "execution_count": 24,
   "metadata": {},
   "outputs": [
    {
     "data": {
      "text/plain": [
       "[2, 0, 1]"
      ]
     },
     "execution_count": 24,
     "metadata": {},
     "output_type": "execute_result"
    }
   ],
   "source": [
    "A = \"cool_ice_wifi\"\n",
    "B = [\"water_is_cool\", \"cold_ice_drink\", \"cool_wifi_speed\"]\n",
    "\n",
    "sol = Solution()\n",
    "sol.solve(A, B)"
   ]
  }
 ],
 "metadata": {
  "kernelspec": {
   "display_name": "dsa-venv",
   "language": "python",
   "name": "python3"
  },
  "language_info": {
   "codemirror_mode": {
    "name": "ipython",
    "version": 3
   },
   "file_extension": ".py",
   "mimetype": "text/x-python",
   "name": "python",
   "nbconvert_exporter": "python",
   "pygments_lexer": "ipython3",
   "version": "3.11.3"
  }
 },
 "nbformat": 4,
 "nbformat_minor": 2
}
