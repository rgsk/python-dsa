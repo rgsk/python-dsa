{
 "cells": [
  {
   "cell_type": "code",
   "execution_count": 28,
   "metadata": {},
   "outputs": [],
   "source": [
    "# https://www.interviewbit.com/problems/shortest-unique-prefix/"
   ]
  },
  {
   "cell_type": "code",
   "execution_count": 29,
   "metadata": {},
   "outputs": [],
   "source": [
    "\n",
    "def ctoi(c):\n",
    "    return ord(c) - 97\n",
    "\n",
    "\n",
    "class Trie:\n",
    "\n",
    "    def __init__(self):\n",
    "        self.nodes = [None for _ in range(26)]\n",
    "        self.end = False\n",
    "        self.nums_set = 0\n",
    "\n",
    "    def insert(self, word: str) -> None:\n",
    "        temp = self\n",
    "        for c in word:\n",
    "            i = ctoi(c)\n",
    "            if not temp.nodes[i]:\n",
    "                temp.nodes[i] = Trie()\n",
    "            temp.nums_set += 1\n",
    "            temp = temp.nodes[i]\n",
    "        temp.end = True\n",
    "\n",
    "    def search(self, word: str) -> bool:\n",
    "        temp = self\n",
    "        for c in word:\n",
    "            i = ctoi(c)\n",
    "            if not temp.nodes[i]:\n",
    "                return False\n",
    "            temp = temp.nodes[i]\n",
    "        return temp.end\n",
    "\n",
    "    def startsWith(self, prefix: str) -> bool:\n",
    "        temp = self\n",
    "        for c in prefix:\n",
    "            i = ctoi(c)\n",
    "            if not temp.nodes[i]:\n",
    "                return False\n",
    "            temp = temp.nodes[i]\n",
    "        return True\n",
    "\n",
    "\n",
    "# Your Trie object will be instantiated and called as such:\n",
    "# obj = Trie()\n",
    "# obj.insert(word)\n",
    "# param_2 = obj.search(word)\n",
    "# param_3 = obj.startsWith(prefix)\n",
    "\n",
    "\n",
    "\n",
    "class Solution:\n",
    "    # @param A : list of strings\n",
    "    # @return a list of strings\n",
    "    def prefix(self, A):\n",
    "        trie = Trie()\n",
    "        for word in A:\n",
    "            trie.insert(word)\n",
    "        ans = []\n",
    "        for word in A:\n",
    "            temp = trie\n",
    "            prefix = ''\n",
    "            for c in word:\n",
    "                if temp.nums_set == 1:\n",
    "                    break\n",
    "                prefix += c\n",
    "                i = ctoi(c)\n",
    "                temp = temp.nodes[i]\n",
    "            ans.append(prefix)\n",
    "        return ans"
   ]
  },
  {
   "cell_type": "code",
   "execution_count": 30,
   "metadata": {},
   "outputs": [
    {
     "data": {
      "text/plain": [
       "['z', 'dog', 'du', 'dov']"
      ]
     },
     "execution_count": 30,
     "metadata": {},
     "output_type": "execute_result"
    }
   ],
   "source": [
    "A = [\"zebra\", \"dog\", \"duck\", \"dove\"]\n",
    "sol = Solution()\n",
    "sol.prefix(A)"
   ]
  },
  {
   "cell_type": "code",
   "execution_count": 31,
   "metadata": {},
   "outputs": [
    {
     "data": {
      "text/plain": [
       "['']"
      ]
     },
     "execution_count": 31,
     "metadata": {},
     "output_type": "execute_result"
    }
   ],
   "source": [
    "A = [\"zebra\"]\n",
    "sol = Solution()\n",
    "sol.prefix(A)"
   ]
  },
  {
   "cell_type": "code",
   "execution_count": 32,
   "metadata": {},
   "outputs": [
    {
     "data": {
      "text/plain": [
       "['bea', 'ber']"
      ]
     },
     "execution_count": 32,
     "metadata": {},
     "output_type": "execute_result"
    }
   ],
   "source": [
    "A = [ \"bearcat\", \"bert\" ]\n",
    "sol = Solution()\n",
    "sol.prefix(A)"
   ]
  }
 ],
 "metadata": {
  "kernelspec": {
   "display_name": "dsa-venv",
   "language": "python",
   "name": "python3"
  },
  "language_info": {
   "codemirror_mode": {
    "name": "ipython",
    "version": 3
   },
   "file_extension": ".py",
   "mimetype": "text/x-python",
   "name": "python",
   "nbconvert_exporter": "python",
   "pygments_lexer": "ipython3",
   "version": "3.11.3"
  }
 },
 "nbformat": 4,
 "nbformat_minor": 2
}
