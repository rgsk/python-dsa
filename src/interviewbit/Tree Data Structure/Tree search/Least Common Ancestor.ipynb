{
 "cells": [
  {
   "cell_type": "code",
   "execution_count": 101,
   "metadata": {},
   "outputs": [],
   "source": [
    "# https://www.interviewbit.com/problems/least-common-ancestor/"
   ]
  },
  {
   "cell_type": "code",
   "execution_count": 102,
   "metadata": {},
   "outputs": [],
   "source": [
    "import sys\n",
    "sys.path.append('../../..')\n",
    "\n",
    "from lib.TreeNode import *"
   ]
  },
  {
   "cell_type": "code",
   "execution_count": 103,
   "metadata": {},
   "outputs": [],
   "source": [
    "\n",
    "class Solution:\n",
    "    # @param A : root node of tree\n",
    "    # @param B : integer\n",
    "    # @param C : integer\n",
    "    # @return an integer\n",
    "    def lca(self, A, B, C):\n",
    "        foundB = False\n",
    "        foundC = False\n",
    "        def helper(root):\n",
    "            nonlocal foundB, foundC\n",
    "            if not root:\n",
    "                return root\n",
    "            l = helper(root.left)\n",
    "            r = helper(root.right)\n",
    "            if l and r:\n",
    "                return root\n",
    "            if root.val == B:\n",
    "                foundB = True\n",
    "                if B == C:\n",
    "                    foundC = True\n",
    "                return root\n",
    "            if root.val == C:\n",
    "                foundC = True\n",
    "                if B == C:\n",
    "                    foundB = True\n",
    "                return root\n",
    "            return l or r\n",
    "        node = helper(A)\n",
    "        if node and foundB and foundC:\n",
    "            return node.val\n",
    "        return -1\n",
    "                "
   ]
  },
  {
   "cell_type": "code",
   "execution_count": 104,
   "metadata": {},
   "outputs": [
    {
     "name": "stdout",
     "output_type": "stream",
     "text": [
      "  ___3_  \n",
      " /     \\ \n",
      " 5_    1 \n",
      "/  \\  / \\\n",
      "6  2  0 8\n",
      "  / \\    \n",
      "  7 4    \n"
     ]
    },
    {
     "data": {
      "text/plain": [
       "3"
      ]
     },
     "execution_count": 104,
     "metadata": {},
     "output_type": "execute_result"
    }
   ],
   "source": [
    "A = TreeNode(3, TreeNode(5, TreeNode(6), TreeNode(2, TreeNode(7), TreeNode(4))), TreeNode(1, TreeNode(0), TreeNode(8)))\n",
    "A.display()\n",
    "B = 5\n",
    "C = 1\n",
    "sol = Solution()\n",
    "sol.lca(A, B, C)"
   ]
  },
  {
   "cell_type": "code",
   "execution_count": 105,
   "metadata": {},
   "outputs": [
    {
     "name": "stdout",
     "output_type": "stream",
     "text": [
      "  ___3_  \n",
      " /     \\ \n",
      " 5_    1 \n",
      "/  \\  / \\\n",
      "6  2  0 8\n",
      "  / \\    \n",
      "  7 4    \n"
     ]
    },
    {
     "data": {
      "text/plain": [
       "5"
      ]
     },
     "execution_count": 105,
     "metadata": {},
     "output_type": "execute_result"
    }
   ],
   "source": [
    "A = TreeNode(3, TreeNode(5, TreeNode(6), TreeNode(2, TreeNode(7), TreeNode(4))), TreeNode(1, TreeNode(0), TreeNode(8)))\n",
    "A.display()\n",
    "B = 5\n",
    "C = 4\n",
    "sol = Solution()\n",
    "sol.lca(A, B, C)"
   ]
  },
  {
   "cell_type": "code",
   "execution_count": 106,
   "metadata": {},
   "outputs": [
    {
     "name": "stdout",
     "output_type": "stream",
     "text": [
      "  ___3_  \n",
      " /     \\ \n",
      " 5_    1 \n",
      "/  \\  / \\\n",
      "6  2  0 8\n",
      "  / \\    \n",
      "  7 4    \n"
     ]
    },
    {
     "data": {
      "text/plain": [
       "-1"
      ]
     },
     "execution_count": 106,
     "metadata": {},
     "output_type": "execute_result"
    }
   ],
   "source": [
    "A = TreeNode(3, TreeNode(5, TreeNode(6), TreeNode(2, TreeNode(7), TreeNode(4))), TreeNode(1, TreeNode(0), TreeNode(8)))\n",
    "A.display()\n",
    "B = 5\n",
    "C = 9\n",
    "sol = Solution()\n",
    "sol.lca(A, B, C) # -1 should be return value"
   ]
  },
  {
   "cell_type": "code",
   "execution_count": null,
   "metadata": {},
   "outputs": [],
   "source": []
  }
 ],
 "metadata": {
  "kernelspec": {
   "display_name": "dsa-venv",
   "language": "python",
   "name": "python3"
  },
  "language_info": {
   "codemirror_mode": {
    "name": "ipython",
    "version": 3
   },
   "file_extension": ".py",
   "mimetype": "text/x-python",
   "name": "python",
   "nbconvert_exporter": "python",
   "pygments_lexer": "ipython3",
   "version": "3.11.3"
  }
 },
 "nbformat": 4,
 "nbformat_minor": 2
}
