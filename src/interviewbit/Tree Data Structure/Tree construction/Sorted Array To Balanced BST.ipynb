{
 "cells": [
  {
   "cell_type": "code",
   "execution_count": 1,
   "metadata": {},
   "outputs": [],
   "source": [
    "# https://www.interviewbit.com/problems/sorted-array-to-balanced-bst/"
   ]
  },
  {
   "cell_type": "code",
   "execution_count": 2,
   "metadata": {},
   "outputs": [],
   "source": [
    "import sys\n",
    "sys.path.append('../../..')\n",
    "\n",
    "from lib.TreeNode import *"
   ]
  },
  {
   "cell_type": "code",
   "execution_count": 3,
   "metadata": {},
   "outputs": [],
   "source": [
    "def createTreeFromInorder(inorderTraversal, left, right):\n",
    "    if left <= right:\n",
    "        mid = (left + right) // 2\n",
    "        node = TreeNode(inorderTraversal[mid])\n",
    "        node.left = createTreeFromInorder(inorderTraversal, left, mid - 1)\n",
    "        node.right = createTreeFromInorder(inorderTraversal, mid + 1, right)\n",
    "        return node\n",
    "    \n",
    "class Solution:\n",
    "    # @param A : tuple of integers\n",
    "    # @return the root node in the tree\n",
    "    def sortedArrayToBST(self, A):\n",
    "        return createTreeFromInorder(A, 0, len(A) - 1)"
   ]
  },
  {
   "cell_type": "code",
   "execution_count": 4,
   "metadata": {},
   "outputs": [
    {
     "data": {
      "text/plain": [
       "[3, 1, 5, None, 2, None, 10]"
      ]
     },
     "execution_count": 4,
     "metadata": {},
     "output_type": "execute_result"
    }
   ],
   "source": [
    "A = [1, 2, 3, 5, 10]\n",
    "sol = Solution()\n",
    "sol.sortedArrayToBST(A)"
   ]
  }
 ],
 "metadata": {
  "kernelspec": {
   "display_name": "dsa-venv",
   "language": "python",
   "name": "python3"
  },
  "language_info": {
   "codemirror_mode": {
    "name": "ipython",
    "version": 3
   },
   "file_extension": ".py",
   "mimetype": "text/x-python",
   "name": "python",
   "nbconvert_exporter": "python",
   "pygments_lexer": "ipython3",
   "version": "3.11.3"
  }
 },
 "nbformat": 4,
 "nbformat_minor": 2
}
