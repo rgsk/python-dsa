{
 "cells": [
  {
   "cell_type": "code",
   "execution_count": 77,
   "metadata": {},
   "outputs": [],
   "source": [
    "# https://www.interviewbit.com/problems/inorder-traversal-of-cartesian-tree/"
   ]
  },
  {
   "cell_type": "code",
   "execution_count": 78,
   "metadata": {},
   "outputs": [],
   "source": [
    "import sys\n",
    "sys.path.append('../../..')\n",
    "\n",
    "from lib.TreeNode import *"
   ]
  },
  {
   "cell_type": "code",
   "execution_count": 79,
   "metadata": {},
   "outputs": [],
   "source": [
    "# Definition for a  binary tree node\n",
    "# class TreeNode:\n",
    "#    def __init__(self, x):\n",
    "#        self.val = x\n",
    "#        self.left = None\n",
    "#        self.right = None\n",
    "\n",
    "class Solution:\n",
    "    # @param A : list of integers\n",
    "    # @return the root node in the tree\n",
    "    def buildTree(self, A):\n",
    "        if not A:\n",
    "            return None\n",
    "        max_val = max(A)\n",
    "        max_ind = A.index(max_val)\n",
    "        root = TreeNode(max_val)\n",
    "        root.left = self.buildTree(A[:max_ind])\n",
    "        root.right = self.buildTree(A[max_ind+1:])\n",
    "        return root"
   ]
  },
  {
   "cell_type": "code",
   "execution_count": 80,
   "metadata": {},
   "outputs": [],
   "source": [
    "# Definition for a  binary tree node\n",
    "# class TreeNode:\n",
    "#    def __init__(self, x):\n",
    "#        self.val = x\n",
    "#        self.left = None\n",
    "#        self.right = None\n",
    "\n",
    "class Solution:\n",
    "    # @param A : list of integers\n",
    "    # @return the root node in the tree\n",
    "    def buildTree(self, A):\n",
    "        if (not A):\n",
    "            return None\n",
    "        node=TreeNode(A[0])\n",
    "        head=node\n",
    "        for val in A[1:]:\n",
    "            node=TreeNode(val)\n",
    "            if (val > head.val):\n",
    "                node.left=head\n",
    "                head=node\n",
    "                continue\n",
    "            temp=head\n",
    "            while (temp.right and temp.right.val > val):\n",
    "                temp=temp.right\n",
    "            t=temp.right\n",
    "            temp.right=node\n",
    "            node.left=t\n",
    "        return head"
   ]
  },
  {
   "cell_type": "code",
   "execution_count": 81,
   "metadata": {},
   "outputs": [
    {
     "name": "stdout",
     "output_type": "stream",
     "text": [
      "  3\n",
      " / \n",
      " 2 \n",
      "/  \n",
      "1  \n"
     ]
    }
   ],
   "source": [
    "A = [1, 2, 3]\n",
    "sol = Solution()\n",
    "sol.buildTree(A).display()"
   ]
  },
  {
   "cell_type": "code",
   "execution_count": 82,
   "metadata": {},
   "outputs": [
    {
     "name": "stdout",
     "output_type": "stream",
     "text": [
      "   100_    \n",
      "  /    \\   \n",
      "  3   50__ \n",
      " /        \\\n",
      " 2        2\n",
      "/        / \n",
      "1        1 \n",
      "        /  \n",
      "        0  \n"
     ]
    }
   ],
   "source": [
    "A = [1, 2, 3, 100, 50, 0, 1, 2]\n",
    "sol = Solution()\n",
    "sol.buildTree(A).display()"
   ]
  }
 ],
 "metadata": {
  "kernelspec": {
   "display_name": "dsa-venv",
   "language": "python",
   "name": "python3"
  },
  "language_info": {
   "codemirror_mode": {
    "name": "ipython",
    "version": 3
   },
   "file_extension": ".py",
   "mimetype": "text/x-python",
   "name": "python",
   "nbconvert_exporter": "python",
   "pygments_lexer": "ipython3",
   "version": "3.11.3"
  }
 },
 "nbformat": 4,
 "nbformat_minor": 2
}
