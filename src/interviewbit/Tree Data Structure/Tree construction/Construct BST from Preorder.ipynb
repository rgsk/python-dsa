{
 "cells": [
  {
   "cell_type": "code",
   "execution_count": 81,
   "metadata": {},
   "outputs": [],
   "source": [
    "# https://www.interviewbit.com/problems/construct-bst-from-preorder/"
   ]
  },
  {
   "cell_type": "code",
   "execution_count": 82,
   "metadata": {},
   "outputs": [],
   "source": [
    "import sys\n",
    "sys.path.append('../../..')\n",
    "\n",
    "from lib.TreeNode import *"
   ]
  },
  {
   "cell_type": "code",
   "execution_count": 83,
   "metadata": {},
   "outputs": [],
   "source": [
    "sys.setrecursionlimit(200000)\n",
    "\n",
    "class Solution:\n",
    "    def constructBST(self, A):\n",
    "        def helper(lower = float('-inf'), upper = float('inf')):\n",
    "            nonlocal idx\n",
    "            if idx == n:\n",
    "                return None\n",
    "            val = A[idx]\n",
    "            if val < lower or val > upper:\n",
    "                return None\n",
    "            idx += 1\n",
    "            root = TreeNode(val)\n",
    "            root.left = helper(lower, val)\n",
    "            root.right = helper(val, upper)\n",
    "            return root\n",
    "        \n",
    "        idx = 0\n",
    "        n = len(A)\n",
    "        return helper()"
   ]
  },
  {
   "cell_type": "code",
   "execution_count": 84,
   "metadata": {},
   "outputs": [],
   "source": [
    "sys.setrecursionlimit(10**6)\n",
    "class Solution:\n",
    "    # @param A : list of integers\n",
    "    # @return the root node in the tree\n",
    "    def constructBST(self, A):\n",
    "        if len(A)==0:\n",
    "            return None\n",
    "        root=TreeNode(A[0])\n",
    "        stack=[root]\n",
    "        for val in A[1:]:\n",
    "            node=TreeNode(val)\n",
    "            if stack[-1].val>val:\n",
    "                stack[-1].left=node\n",
    "            else:\n",
    "                while stack and stack[-1].val<val:\n",
    "                    # this will run at least 1 time\n",
    "                    parent=stack.pop()\n",
    "                parent.right=node\n",
    "            stack.append(node)\n",
    "        return root"
   ]
  },
  {
   "cell_type": "code",
   "execution_count": 85,
   "metadata": {},
   "outputs": [
    {
     "name": "stdout",
     "output_type": "stream",
     "text": [
      " 2_  \n",
      "/  \\ \n",
      "1  4 \n",
      "  / \\\n",
      "  3 5\n"
     ]
    }
   ],
   "source": [
    "A = [2, 1, 4, 3, 5]\n",
    "sol = Solution()\n",
    "sol.constructBST(A).display()"
   ]
  },
  {
   "cell_type": "code",
   "execution_count": 86,
   "metadata": {},
   "outputs": [
    {
     "name": "stdout",
     "output_type": "stream",
     "text": [
      " _3_          \n",
      "/   \\         \n",
      "1   7______   \n",
      " \\ /       \\  \n",
      " 2 6      17_ \n",
      "         /   \\\n",
      "      __15  18\n",
      "     /        \n",
      "     9_       \n",
      "       \\      \n",
      "      10      \n"
     ]
    }
   ],
   "source": [
    "A = [3, 1, 2, 7, 6, 17, 15, 9, 10, 18]\n",
    "sol = Solution()\n",
    "sol.constructBST(A).display()"
   ]
  }
 ],
 "metadata": {
  "kernelspec": {
   "display_name": "dsa-venv",
   "language": "python",
   "name": "python3"
  },
  "language_info": {
   "codemirror_mode": {
    "name": "ipython",
    "version": 3
   },
   "file_extension": ".py",
   "mimetype": "text/x-python",
   "name": "python",
   "nbconvert_exporter": "python",
   "pygments_lexer": "ipython3",
   "version": "3.11.3"
  }
 },
 "nbformat": 4,
 "nbformat_minor": 2
}
