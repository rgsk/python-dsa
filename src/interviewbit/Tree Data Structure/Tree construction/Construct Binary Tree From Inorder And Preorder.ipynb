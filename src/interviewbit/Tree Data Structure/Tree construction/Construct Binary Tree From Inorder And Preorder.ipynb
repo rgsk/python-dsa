{
 "cells": [
  {
   "cell_type": "code",
   "execution_count": 54,
   "metadata": {},
   "outputs": [],
   "source": [
    "# https://www.interviewbit.com/problems/construct-binary-tree-from-inorder-and-preorder/"
   ]
  },
  {
   "cell_type": "code",
   "execution_count": 55,
   "metadata": {},
   "outputs": [],
   "source": [
    "import sys\n",
    "sys.path.append('../../..')\n",
    "\n",
    "from lib.TreeNode import *"
   ]
  },
  {
   "cell_type": "code",
   "execution_count": 56,
   "metadata": {},
   "outputs": [],
   "source": [
    "# Definition for a  binary tree node\n",
    "# class TreeNode:\n",
    "#\tdef __init__(self, x):\n",
    "#\t\tself.val = x\n",
    "#\t\tself.left = None\n",
    "#\t\tself.right = None\n",
    "\n",
    "class Solution:\n",
    "    # @param A : list of integers\n",
    "    # @param B : list of integers\n",
    "    # @return the root node in the tree\n",
    "    def buildTree(self, preorder, inorder):\n",
    "        idx = 0\n",
    "        def helper(operable):\n",
    "            nonlocal idx\n",
    "            if operable:\n",
    "                pos = operable.index(preorder[idx])\n",
    "                idx += 1\n",
    "                node = TreeNode(operable[pos])\n",
    "                node.left = helper(operable[:pos])\n",
    "                node.right = helper(operable[pos+1:])\n",
    "                return node\n",
    "        return helper(inorder)\n",
    "            "
   ]
  },
  {
   "cell_type": "code",
   "execution_count": 57,
   "metadata": {},
   "outputs": [
    {
     "name": "stdout",
     "output_type": "stream",
     "text": [
      " 1 \n",
      "/ \\\n",
      "2 3\n"
     ]
    }
   ],
   "source": [
    "preorder = [1, 2, 3]\n",
    "inorder = [2, 1, 3]\n",
    "\n",
    "sol = Solution()\n",
    "sol.buildTree(preorder, inorder).display()"
   ]
  },
  {
   "cell_type": "code",
   "execution_count": 58,
   "metadata": {},
   "outputs": [
    {
     "name": "stdout",
     "output_type": "stream",
     "text": [
      "  _1 \n",
      " /  \\\n",
      " 2  5\n",
      "/ \\  \n",
      "3 4  \n"
     ]
    }
   ],
   "source": [
    "preorder = [ 1, 2, 3, 4, 5 ]\n",
    "inorder = [ 3, 2, 4, 1, 5 ]\n",
    "sol = Solution()\n",
    "sol.buildTree(preorder, inorder).display()"
   ]
  }
 ],
 "metadata": {
  "kernelspec": {
   "display_name": "dsa-venv",
   "language": "python",
   "name": "python3"
  },
  "language_info": {
   "codemirror_mode": {
    "name": "ipython",
    "version": 3
   },
   "file_extension": ".py",
   "mimetype": "text/x-python",
   "name": "python",
   "nbconvert_exporter": "python",
   "pygments_lexer": "ipython3",
   "version": "3.11.3"
  }
 },
 "nbformat": 4,
 "nbformat_minor": 2
}
