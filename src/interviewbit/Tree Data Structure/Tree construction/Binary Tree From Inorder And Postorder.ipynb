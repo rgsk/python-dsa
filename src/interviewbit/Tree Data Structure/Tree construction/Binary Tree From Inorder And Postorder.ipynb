{
 "cells": [
  {
   "cell_type": "code",
   "execution_count": 9,
   "metadata": {},
   "outputs": [],
   "source": [
    "# https://www.interviewbit.com/problems/binary-tree-from-inorder-and-postorder/"
   ]
  },
  {
   "cell_type": "code",
   "execution_count": 10,
   "metadata": {},
   "outputs": [],
   "source": [
    "import sys\n",
    "sys.path.append('../../..')\n",
    "\n",
    "from lib.TreeNode import *"
   ]
  },
  {
   "cell_type": "code",
   "execution_count": 11,
   "metadata": {},
   "outputs": [],
   "source": [
    "class Solution:\n",
    "    # @param A : list of integers\n",
    "    # @param B : list of integers\n",
    "    # @return the root node in the tree\n",
    "    def buildTree(self, inorder, postorder):\n",
    "        idx = len(postorder) - 1\n",
    "        def helper(operable):\n",
    "            nonlocal idx\n",
    "            if operable:\n",
    "                pos = operable.index(postorder[idx])\n",
    "                idx -= 1\n",
    "                node = TreeNode(operable[pos])\n",
    "                node.right = helper(operable[pos+1:])\n",
    "                node.left = helper(operable[:pos])\n",
    "                return node\n",
    "        return helper(inorder)"
   ]
  },
  {
   "cell_type": "code",
   "execution_count": 12,
   "metadata": {},
   "outputs": [
    {
     "name": "stdout",
     "output_type": "stream",
     "text": [
      "  _1 \n",
      " /  \\\n",
      " 2  5\n",
      "/ \\  \n",
      "3 4  \n"
     ]
    }
   ],
   "source": [
    "inorder = [3, 2, 4, 1, 5]\n",
    "postorder = [3, 4, 2, 5, 1]\n",
    "sol = Solution()\n",
    "sol.buildTree(inorder, postorder).display()"
   ]
  }
 ],
 "metadata": {
  "kernelspec": {
   "display_name": "dsa-venv",
   "language": "python",
   "name": "python3"
  },
  "language_info": {
   "codemirror_mode": {
    "name": "ipython",
    "version": 3
   },
   "file_extension": ".py",
   "mimetype": "text/x-python",
   "name": "python",
   "nbconvert_exporter": "python",
   "pygments_lexer": "ipython3",
   "version": "3.11.3"
  }
 },
 "nbformat": 4,
 "nbformat_minor": 2
}
