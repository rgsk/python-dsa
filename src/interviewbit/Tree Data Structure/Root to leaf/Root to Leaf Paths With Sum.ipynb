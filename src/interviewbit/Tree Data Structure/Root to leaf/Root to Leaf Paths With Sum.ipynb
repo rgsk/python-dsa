{
 "cells": [
  {
   "cell_type": "code",
   "execution_count": 27,
   "metadata": {},
   "outputs": [],
   "source": [
    "# https://www.interviewbit.com/problems/root-to-leaf-paths-with-sum/"
   ]
  },
  {
   "cell_type": "code",
   "execution_count": 28,
   "metadata": {},
   "outputs": [],
   "source": [
    "import sys\n",
    "sys.path.append('../../..')\n",
    "\n",
    "from lib.TreeNode import *"
   ]
  },
  {
   "cell_type": "code",
   "execution_count": 29,
   "metadata": {},
   "outputs": [],
   "source": [
    "class Solution:\n",
    "    # @param A : root node of tree\n",
    "    # @param B : integer\n",
    "    # @return a list of list of integers\n",
    "    def pathSum(self, A, B):\n",
    "        ans = []\n",
    "        def helper(root, cur, total):\n",
    "            nonlocal ans\n",
    "            if root:\n",
    "                if not root.left and not root.right:\n",
    "                    if root.val + total == B:\n",
    "                        cur.append(root.val)\n",
    "                        ans.append(cur)\n",
    "                else:\n",
    "                    helper(root.left, cur + [root.val], total + root.val)                    \n",
    "                    helper(root.right, cur + [root.val], total + root.val) \n",
    "        helper(A, [], 0)\n",
    "        return ans                   \n"
   ]
  },
  {
   "cell_type": "code",
   "execution_count": 30,
   "metadata": {},
   "outputs": [],
   "source": [
    "class Solution:\n",
    "    # @param A : root node of tree\n",
    "    # @param B : integer\n",
    "    # @return a list of list of integers\n",
    "    def pathSum(self, A, B):\n",
    "        ans = []\n",
    "        def helper(root, cur, total):\n",
    "            nonlocal ans\n",
    "            if root:\n",
    "                if not root.left and not root.right:\n",
    "                    if root.val + total == B:\n",
    "                        cur.append(root.val)\n",
    "                        ans.append(cur[:])\n",
    "                        cur.pop()\n",
    "                else:\n",
    "                    cur.append(root.val)\n",
    "                    helper(root.left, cur, total + root.val)\n",
    "                    helper(root.right, cur, total + root.val) \n",
    "                    cur.pop()\n",
    "        helper(A, [], 0)\n",
    "        return ans                   \n"
   ]
  },
  {
   "cell_type": "code",
   "execution_count": 31,
   "metadata": {},
   "outputs": [
    {
     "name": "stdout",
     "output_type": "stream",
     "text": [
      "  1_  \n",
      " /  \\ \n",
      " 2  3 \n",
      "/  / \\\n",
      "4  3 6\n"
     ]
    },
    {
     "data": {
      "text/plain": [
       "[[1, 2, 4], [1, 3, 3]]"
      ]
     },
     "execution_count": 31,
     "metadata": {},
     "output_type": "execute_result"
    }
   ],
   "source": [
    "A = formTree([1, 2, 3, 4, None, 3, 6])\n",
    "B = 7\n",
    "A.display()\n",
    "sol = Solution()\n",
    "sol.pathSum(A, B)"
   ]
  }
 ],
 "metadata": {
  "kernelspec": {
   "display_name": "dsa-venv",
   "language": "python",
   "name": "python3"
  },
  "language_info": {
   "codemirror_mode": {
    "name": "ipython",
    "version": 3
   },
   "file_extension": ".py",
   "mimetype": "text/x-python",
   "name": "python",
   "nbconvert_exporter": "python",
   "pygments_lexer": "ipython3",
   "version": "3.11.3"
  }
 },
 "nbformat": 4,
 "nbformat_minor": 2
}
