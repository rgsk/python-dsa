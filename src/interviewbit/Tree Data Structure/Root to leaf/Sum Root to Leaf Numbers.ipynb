{
 "cells": [
  {
   "cell_type": "code",
   "execution_count": 1,
   "metadata": {},
   "outputs": [],
   "source": [
    "# https://www.interviewbit.com/problems/sum-root-to-leaf-numbers/"
   ]
  },
  {
   "cell_type": "code",
   "execution_count": 2,
   "metadata": {},
   "outputs": [],
   "source": [
    "import sys\n",
    "sys.path.append('../../..')\n",
    "\n",
    "from lib.TreeNode import *"
   ]
  },
  {
   "cell_type": "code",
   "execution_count": 3,
   "metadata": {},
   "outputs": [],
   "source": [
    "class Solution:\n",
    "    # @param A : root node of tree\n",
    "    # @return an integer\n",
    "    def sumNumbers(self, A):\n",
    "        total = 0\n",
    "        def helper(root, cur_num):\n",
    "            nonlocal total\n",
    "            if root:\n",
    "                cur_num = cur_num * 10 + root.val\n",
    "                if not root.left and not root.right:\n",
    "                    total += cur_num\n",
    "                else:\n",
    "                    helper(root.left, cur_num)\n",
    "                    helper(root.right, cur_num)\n",
    "        helper(A, 0)\n",
    "        return total % 1003\n"
   ]
  },
  {
   "cell_type": "code",
   "execution_count": 4,
   "metadata": {},
   "outputs": [
    {
     "name": "stdout",
     "output_type": "stream",
     "text": [
      "  1_  \n",
      " /  \\ \n",
      " 2  3 \n",
      "/  / \\\n",
      "4  3 6\n"
     ]
    },
    {
     "data": {
      "text/plain": [
       "393"
      ]
     },
     "execution_count": 4,
     "metadata": {},
     "output_type": "execute_result"
    }
   ],
   "source": [
    "A = formTree([1, 2, 3, 4, None, 3, 6])\n",
    "A.display()\n",
    "sol = Solution()\n",
    "sol.sumNumbers(A)"
   ]
  }
 ],
 "metadata": {
  "kernelspec": {
   "display_name": "dsa-venv",
   "language": "python",
   "name": "python3"
  },
  "language_info": {
   "codemirror_mode": {
    "name": "ipython",
    "version": 3
   },
   "file_extension": ".py",
   "mimetype": "text/x-python",
   "name": "python",
   "nbconvert_exporter": "python",
   "pygments_lexer": "ipython3",
   "version": "3.11.3"
  }
 },
 "nbformat": 4,
 "nbformat_minor": 2
}
