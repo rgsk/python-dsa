{
 "cells": [
  {
   "cell_type": "code",
   "execution_count": 72,
   "metadata": {},
   "outputs": [],
   "source": [
    "# https://www.interviewbit.com/problems/burn-a-tree/"
   ]
  },
  {
   "cell_type": "code",
   "execution_count": 73,
   "metadata": {},
   "outputs": [],
   "source": [
    "import sys\n",
    "sys.path.append('../../..')\n",
    "\n",
    "from lib.TreeNode import *"
   ]
  },
  {
   "cell_type": "code",
   "execution_count": 74,
   "metadata": {},
   "outputs": [],
   "source": [
    "import sys\n",
    "sys.setrecursionlimit(10**6)\n",
    "\n",
    "from typing import Optional\n",
    "\n",
    "class Solution:\n",
    "    # @param A : root node of tree\n",
    "    # @param B : integer\n",
    "    # @return an integer\n",
    "    def solve(self, A, B):\n",
    "        source_node = None\n",
    "        def traverse(root: Optional[TreeNode]):\n",
    "            nonlocal source_node\n",
    "            if root:\n",
    "                if root.left:\n",
    "                    root.left.parent = root\n",
    "                if root.right:\n",
    "                    root.right.parent = root\n",
    "                if root.val == B:\n",
    "                    source_node = root\n",
    "                traverse(root.left)\n",
    "                traverse(root.right)\n",
    "                 \n",
    "        A.parent = None\n",
    "        traverse(A)\n",
    "\n",
    "        max_count = 0\n",
    "        def helper(node, prev, count):\n",
    "            nonlocal max_count\n",
    "            max_count = max(max_count, count)\n",
    "            if node.left and node.left != prev:\n",
    "                helper(node.left, node, count + 1)\n",
    "            if node.right and node.right != prev:\n",
    "                helper(node.right, node, count + 1)\n",
    "            if node.parent and node.parent != prev:\n",
    "                helper(node.parent, node, count + 1)\n",
    "\n",
    "        helper(source_node, None, 0)\n",
    "\n",
    "        return max_count"
   ]
  },
  {
   "cell_type": "code",
   "execution_count": 75,
   "metadata": {},
   "outputs": [
    {
     "name": "stdout",
     "output_type": "stream",
     "text": [
      "  1_  \n",
      " /  \\ \n",
      " 2  3 \n",
      "/  / \\\n",
      "4  5 6\n"
     ]
    },
    {
     "data": {
      "text/plain": [
       "4"
      ]
     },
     "execution_count": 75,
     "metadata": {},
     "output_type": "execute_result"
    }
   ],
   "source": [
    "A = formTree([1, 2, 3, 4, None, 5, 6])\n",
    "B = 4\n",
    "A.display()\n",
    "sol = Solution()\n",
    "sol.solve(A, B)"
   ]
  }
 ],
 "metadata": {
  "kernelspec": {
   "display_name": "dsa-venv",
   "language": "python",
   "name": "python3"
  },
  "language_info": {
   "codemirror_mode": {
    "name": "ipython",
    "version": 3
   },
   "file_extension": ".py",
   "mimetype": "text/x-python",
   "name": "python",
   "nbconvert_exporter": "python",
   "pygments_lexer": "ipython3",
   "version": "3.11.3"
  }
 },
 "nbformat": 4,
 "nbformat_minor": 2
}
