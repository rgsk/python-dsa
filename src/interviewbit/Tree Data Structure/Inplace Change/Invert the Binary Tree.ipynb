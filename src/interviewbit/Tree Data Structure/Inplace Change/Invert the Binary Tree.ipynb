{
 "cells": [
  {
   "cell_type": "code",
   "execution_count": 1,
   "metadata": {},
   "outputs": [],
   "source": [
    "# https://www.interviewbit.com/problems/invert-the-binary-tree/"
   ]
  },
  {
   "cell_type": "code",
   "execution_count": 2,
   "metadata": {},
   "outputs": [],
   "source": [
    "import sys\n",
    "sys.path.append('../../..')\n",
    "\n",
    "from lib.TreeNode import *"
   ]
  },
  {
   "cell_type": "code",
   "execution_count": 3,
   "metadata": {},
   "outputs": [],
   "source": [
    "\n",
    "class Solution:\n",
    "    # @param A : root node of tree\n",
    "    # @return the root node in the tree\n",
    "    def invertTree(self, A):\n",
    "        def helper(root):\n",
    "            if root:\n",
    "                [root.left, root.right] = [root.right, root.left]\n",
    "                helper(root.left)\n",
    "                helper(root.right)\n",
    "        helper(A)\n",
    "        return A"
   ]
  },
  {
   "cell_type": "code",
   "execution_count": 4,
   "metadata": {},
   "outputs": [
    {
     "name": "stdout",
     "output_type": "stream",
     "text": [
      "   _1_  \n",
      "  /   \\ \n",
      "  2   3 \n",
      " / \\ / \\\n",
      " 4 5 6 7\n",
      "/       \n",
      "8       \n",
      "  _1_   \n",
      " /   \\  \n",
      " 3   2  \n",
      "/ \\ / \\ \n",
      "7 6 5 4 \n",
      "       \\\n",
      "       8\n"
     ]
    }
   ],
   "source": [
    "A = formTree([1, 2, 3, 4, 5, 6, 7, 8])\n",
    "A.display()\n",
    "sol = Solution()\n",
    "sol.invertTree(A).display()"
   ]
  }
 ],
 "metadata": {
  "kernelspec": {
   "display_name": "dsa-venv",
   "language": "python",
   "name": "python3"
  },
  "language_info": {
   "codemirror_mode": {
    "name": "ipython",
    "version": 3
   },
   "file_extension": ".py",
   "mimetype": "text/x-python",
   "name": "python",
   "nbconvert_exporter": "python",
   "pygments_lexer": "ipython3",
   "version": "3.11.3"
  }
 },
 "nbformat": 4,
 "nbformat_minor": 2
}
