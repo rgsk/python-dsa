{
 "cells": [
  {
   "cell_type": "code",
   "execution_count": 48,
   "metadata": {},
   "outputs": [],
   "source": [
    "import sys\n",
    "sys.path.append('../../..')\n",
    "\n",
    "from lib.TreeNode import *"
   ]
  },
  {
   "cell_type": "code",
   "execution_count": 49,
   "metadata": {},
   "outputs": [],
   "source": [
    "\n",
    "class Solution:\n",
    "    # @param A : root node of tree\n",
    "    # @param B : integer\n",
    "    # @return the root node in the tree\n",
    "    def getSuccessor(self, A, B):\n",
    "        self.ans = None\n",
    "        def helper(node):\n",
    "            if node:\n",
    "                if node.val > B:\n",
    "                    self.ans = node\n",
    "                    helper(node.left)\n",
    "                else:\n",
    "                    helper(node.right)\n",
    "        helper(A)\n",
    "        return self.ans"
   ]
  },
  {
   "cell_type": "code",
   "execution_count": 50,
   "metadata": {},
   "outputs": [],
   "source": [
    "\n",
    "class Solution:\n",
    "    # @param A : root node of tree\n",
    "    # @param B : integer\n",
    "    # @return the root node in the tree\n",
    "    def getSuccessor(self, A, B):\n",
    "        self.ans = None\n",
    "        node = A\n",
    "        while node:\n",
    "            if node.val > B:\n",
    "                self.ans = node\n",
    "                node = node.left\n",
    "            else:\n",
    "                node = node.right\n",
    "        return self.ans"
   ]
  },
  {
   "cell_type": "code",
   "execution_count": 51,
   "metadata": {},
   "outputs": [],
   "source": [
    "'''\n",
    "               100\n",
    "              /   \\\n",
    "            98    102\n",
    "           /  \\\n",
    "         96    99\n",
    "          \\\n",
    "           97\n",
    "'''\n",
    "pass"
   ]
  },
  {
   "cell_type": "code",
   "execution_count": 52,
   "metadata": {},
   "outputs": [
    {
     "name": "stdout",
     "output_type": "stream",
     "text": [
      "98\n"
     ]
    }
   ],
   "source": [
    "A = TreeNode(100, TreeNode(98, TreeNode(96, None, TreeNode(97)), TreeNode(99)), TreeNode(102))\n",
    "B = 97\n",
    "sol = Solution()\n",
    "print(sol.getSuccessor(A, B).val)"
   ]
  },
  {
   "cell_type": "code",
   "execution_count": 53,
   "metadata": {},
   "outputs": [
    {
     "name": "stdout",
     "output_type": "stream",
     "text": [
      "102\n"
     ]
    }
   ],
   "source": [
    "A = TreeNode(100, TreeNode(98, TreeNode(96, None, TreeNode(97)), TreeNode(99)), TreeNode(102))\n",
    "B = 100\n",
    "sol = Solution()\n",
    "print(sol.getSuccessor(A, B).val)"
   ]
  },
  {
   "cell_type": "code",
   "execution_count": 54,
   "metadata": {},
   "outputs": [
    {
     "name": "stdout",
     "output_type": "stream",
     "text": [
      "None\n"
     ]
    }
   ],
   "source": [
    "A = TreeNode(100, TreeNode(98, TreeNode(96, None, TreeNode(97)), TreeNode(99)), TreeNode(102))\n",
    "B = 102\n",
    "sol = Solution()\n",
    "print(sol.getSuccessor(A, B))"
   ]
  }
 ],
 "metadata": {
  "kernelspec": {
   "display_name": "dsa-venv",
   "language": "python",
   "name": "python3"
  },
  "language_info": {
   "codemirror_mode": {
    "name": "ipython",
    "version": 3
   },
   "file_extension": ".py",
   "mimetype": "text/x-python",
   "name": "python",
   "nbconvert_exporter": "python",
   "pygments_lexer": "ipython3",
   "version": "3.11.3"
  }
 },
 "nbformat": 4,
 "nbformat_minor": 2
}
