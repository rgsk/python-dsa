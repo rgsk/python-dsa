{
 "cells": [
  {
   "cell_type": "code",
   "execution_count": 58,
   "metadata": {},
   "outputs": [],
   "source": [
    "# https://www.interviewbit.com/problems/recover-binary-search-tree/"
   ]
  },
  {
   "cell_type": "code",
   "execution_count": 59,
   "metadata": {},
   "outputs": [],
   "source": [
    "import sys\n",
    "sys.path.append('../../..')\n",
    "\n",
    "from lib.TreeNode import *"
   ]
  },
  {
   "cell_type": "code",
   "execution_count": 60,
   "metadata": {},
   "outputs": [],
   "source": [
    "def find_swapped_indexes(arr):\n",
    "    first, second = None, None\n",
    "\n",
    "    for i in range(len(arr) - 1):\n",
    "        if arr[i] > arr[i + 1]:\n",
    "            if first is None:\n",
    "                first = i\n",
    "            second = i + 1\n",
    "\n",
    "    return first, second\n",
    "\n",
    "def getInorderTraversal(root: TreeNode):\n",
    "    values = []\n",
    "\n",
    "    def inorder(root):\n",
    "        if root:\n",
    "            inorder(root.left)\n",
    "            values.append(root.val)\n",
    "            inorder(root.right)\n",
    "    inorder(root)\n",
    "    return values\n",
    "\n",
    "\n",
    "class Solution:\n",
    "    # @param A : root node of tree\n",
    "    # @return a list of integers\n",
    "    def recoverTree(self, A):\n",
    "        inorder = getInorderTraversal(A)\n",
    "        i, j = find_swapped_indexes(inorder)\n",
    "        # we have to return inorder[j] first\n",
    "        # as smaller element should first\n",
    "        return [inorder[j], inorder[i]]"
   ]
  },
  {
   "cell_type": "code",
   "execution_count": 61,
   "metadata": {},
   "outputs": [],
   "source": [
    "# Definition for a  binary tree node\n",
    "# class TreeNode:\n",
    "#    def __init__(self, x):\n",
    "#        self.val = x\n",
    "#        self.left = None\n",
    "#        self.right = None\n",
    "\n",
    "class Solution:\n",
    "    # @param A : root node of tree\n",
    "    # @return a list of integers\n",
    "    def recoverTree(self, A):\n",
    "        pre_val, first, second = float('-inf'), None, None\n",
    "        for val in tree_iter(A):\n",
    "            if val < pre_val:\n",
    "                if first == None:\n",
    "                    first = pre_val\n",
    "                second = val\n",
    "            pre_val = val\n",
    "        return [second, first]  \n",
    "\n",
    "# that's a nice trick to use yield for getting the next value in inorder\n",
    "def tree_iter(root):\n",
    "    if not root: return\n",
    "    for val in tree_iter(root.left): yield val\n",
    "    yield root.val\n",
    "    for val in tree_iter(root.right): yield val\n",
    "    "
   ]
  },
  {
   "cell_type": "code",
   "execution_count": 62,
   "metadata": {},
   "outputs": [
    {
     "name": "stdout",
     "output_type": "stream",
     "text": [
      " 1 \n",
      "/ \\\n",
      "2 3\n"
     ]
    },
    {
     "data": {
      "text/plain": [
       "[1, 2]"
      ]
     },
     "execution_count": 62,
     "metadata": {},
     "output_type": "execute_result"
    }
   ],
   "source": [
    "A = formTree([1, 2, 3])\n",
    "A.display()\n",
    "sol = Solution()\n",
    "sol.recoverTree(A)"
   ]
  }
 ],
 "metadata": {
  "kernelspec": {
   "display_name": "dsa-venv",
   "language": "python",
   "name": "python3"
  },
  "language_info": {
   "codemirror_mode": {
    "name": "ipython",
    "version": 3
   },
   "file_extension": ".py",
   "mimetype": "text/x-python",
   "name": "python",
   "nbconvert_exporter": "python",
   "pygments_lexer": "ipython3",
   "version": "3.11.3"
  }
 },
 "nbformat": 4,
 "nbformat_minor": 2
}
