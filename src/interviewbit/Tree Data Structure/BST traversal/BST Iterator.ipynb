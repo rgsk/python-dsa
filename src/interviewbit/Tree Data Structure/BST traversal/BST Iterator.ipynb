{
 "cells": [
  {
   "cell_type": "code",
   "execution_count": 10,
   "metadata": {},
   "outputs": [],
   "source": [
    "import sys\n",
    "sys.path.append('../../..')\n",
    "\n",
    "from lib.TreeNode import *"
   ]
  },
  {
   "cell_type": "code",
   "execution_count": 11,
   "metadata": {},
   "outputs": [],
   "source": [
    "class BSTIterator:\n",
    "    # @param root, a binary search tree's root node\n",
    "    def __init__(self, root):\n",
    "        self.stack = []\n",
    "        while root:\n",
    "            self.stack.append(root)\n",
    "            root = root.left\n",
    "\n",
    "    # @return a boolean, whether we have a next smallest number\n",
    "    def hasNext(self):\n",
    "        return len(self.stack) > 0\n",
    "\n",
    "    # @return an integer, the next smallest number\n",
    "    def next(self):\n",
    "        x = self.stack.pop()\n",
    "        temp = x.right\n",
    "        while temp:\n",
    "            self.stack.append(temp)\n",
    "            temp = temp.left\n",
    "        return x.val"
   ]
  },
  {
   "cell_type": "code",
   "execution_count": 12,
   "metadata": {},
   "outputs": [
    {
     "name": "stdout",
     "output_type": "stream",
     "text": [
      "  3_ \n",
      " /  \\\n",
      " 2  5\n",
      "/  / \n",
      "1  4 \n",
      "1\n",
      "2\n",
      "3\n",
      "4\n",
      "True\n",
      "5\n",
      "False\n"
     ]
    }
   ],
   "source": [
    "root = formTree([3, 2, 5, 1, None, 4])\n",
    "root.display()\n",
    "\n",
    "it = BSTIterator(root)\n",
    "\n",
    "print(it.next())\n",
    "print(it.next())\n",
    "print(it.next())\n",
    "print(it.next())\n",
    "print(it.hasNext())\n",
    "print(it.next())\n",
    "print(it.hasNext())"
   ]
  }
 ],
 "metadata": {
  "kernelspec": {
   "display_name": "dsa-venv",
   "language": "python",
   "name": "python3"
  },
  "language_info": {
   "codemirror_mode": {
    "name": "ipython",
    "version": 3
   },
   "file_extension": ".py",
   "mimetype": "text/x-python",
   "name": "python",
   "nbconvert_exporter": "python",
   "pygments_lexer": "ipython3",
   "version": "3.11.3"
  }
 },
 "nbformat": 4,
 "nbformat_minor": 2
}
