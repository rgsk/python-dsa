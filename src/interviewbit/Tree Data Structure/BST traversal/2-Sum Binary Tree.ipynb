{
 "cells": [
  {
   "cell_type": "code",
   "execution_count": 47,
   "metadata": {},
   "outputs": [],
   "source": [
    "# https://www.interviewbit.com/problems/2sum-binary-tree/"
   ]
  },
  {
   "cell_type": "code",
   "execution_count": 48,
   "metadata": {},
   "outputs": [],
   "source": [
    "import sys\n",
    "sys.path.append('../../..')\n",
    "\n",
    "from lib.TreeNode import *"
   ]
  },
  {
   "cell_type": "code",
   "execution_count": 49,
   "metadata": {},
   "outputs": [],
   "source": [
    "from typing import List, Optional\n",
    "\n",
    "def getInorderTraversal(root: TreeNode):\n",
    "    values = []\n",
    "\n",
    "    def inorder(root: Optional[TreeNode]):\n",
    "        if root:\n",
    "            inorder(root.left)\n",
    "            values.append(root.val)\n",
    "            inorder(root.right)\n",
    "    inorder(root)\n",
    "    return values\n",
    "\n",
    "\n",
    "def twoSum(nums: List[int], target: int) -> List[int]:\n",
    "    left = 0\n",
    "    right = len(nums) - 1\n",
    "    while left < right:\n",
    "        s = nums[left] + nums[right]\n",
    "        if s == target:\n",
    "            return 1\n",
    "        elif s < target:\n",
    "            left += 1\n",
    "        else:\n",
    "            right -= 1\n",
    "    return 0\n",
    "\n",
    "class Solution:\n",
    "    # @param A : root node of tree\n",
    "    # @param B : integer\n",
    "    # @return an integer\n",
    "    def t2Sum(self, A, B):\n",
    "        inorder = getInorderTraversal(A)\n",
    "        return twoSum(inorder, B)\n"
   ]
  },
  {
   "cell_type": "code",
   "execution_count": 50,
   "metadata": {},
   "outputs": [],
   "source": [
    "# simple traversal and checking for the pair\n",
    "class Solution:\n",
    "    # @param A : root node of tree\n",
    "    # @param B : integer\n",
    "    # @return an integer\n",
    "    def t2Sum(self, A, B):\n",
    "        s = set()\n",
    "        stack = [A]\n",
    "        while stack:\n",
    "            temp = stack.pop()\n",
    "            if temp.val in s:\n",
    "                return 1\n",
    "            s.add(B-temp.val)\n",
    "            if temp.right:\n",
    "                stack.append(temp.right)\n",
    "            if temp.left:\n",
    "                stack.append(temp.left)\n",
    "        return 0"
   ]
  },
  {
   "cell_type": "code",
   "execution_count": 51,
   "metadata": {},
   "outputs": [],
   "source": [
    "# simple traversal and checking for the pair\n",
    "class Solution:\n",
    "    # @param A : root node of tree\n",
    "    # @param B : integer\n",
    "    # @return an integer\n",
    "    def t2Sum(self, A, B):\n",
    "        s = set()\n",
    "        def inorder(root):\n",
    "            nonlocal s\n",
    "            if root:\n",
    "                if inorder(root.left):\n",
    "                    return 1\n",
    "                if root.val in s:\n",
    "                    return 1\n",
    "                s.add(B - root.val)\n",
    "                if inorder(root.right):\n",
    "                    return 1\n",
    "            return 0\n",
    "        return inorder(A)"
   ]
  },
  {
   "cell_type": "code",
   "execution_count": 52,
   "metadata": {},
   "outputs": [
    {
     "name": "stdout",
     "output_type": "stream",
     "text": [
      "  9_ \n",
      " /  \\\n",
      "10 20\n"
     ]
    },
    {
     "data": {
      "text/plain": [
       "1"
      ]
     },
     "execution_count": 52,
     "metadata": {},
     "output_type": "execute_result"
    }
   ],
   "source": [
    "A = formTree([9, 10, 20])\n",
    "A.display()\n",
    "sol = Solution()\n",
    "B = 19\n",
    "sol.t2Sum(A, B)"
   ]
  },
  {
   "cell_type": "code",
   "execution_count": 53,
   "metadata": {},
   "outputs": [
    {
     "name": "stdout",
     "output_type": "stream",
     "text": [
      "  9_ \n",
      " /  \\\n",
      "10 20\n"
     ]
    },
    {
     "data": {
      "text/plain": [
       "0"
      ]
     },
     "execution_count": 53,
     "metadata": {},
     "output_type": "execute_result"
    }
   ],
   "source": [
    "A = formTree([9, 10, 20])\n",
    "A.display()\n",
    "sol = Solution()\n",
    "B = 40\n",
    "sol.t2Sum(A, B)"
   ]
  }
 ],
 "metadata": {
  "kernelspec": {
   "display_name": "dsa-venv",
   "language": "python",
   "name": "python3"
  },
  "language_info": {
   "codemirror_mode": {
    "name": "ipython",
    "version": 3
   },
   "file_extension": ".py",
   "mimetype": "text/x-python",
   "name": "python",
   "nbconvert_exporter": "python",
   "pygments_lexer": "ipython3",
   "version": "3.11.3"
  }
 },
 "nbformat": 4,
 "nbformat_minor": 2
}
