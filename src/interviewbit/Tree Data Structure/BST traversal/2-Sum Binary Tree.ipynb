{
 "cells": [
  {
   "cell_type": "code",
   "execution_count": 54,
   "metadata": {},
   "outputs": [],
   "source": [
    "# https://www.interviewbit.com/problems/2sum-binary-tree/"
   ]
  },
  {
   "cell_type": "code",
   "execution_count": 55,
   "metadata": {},
   "outputs": [],
   "source": [
    "import sys\n",
    "sys.path.append('../../..')\n",
    "\n",
    "from lib.TreeNode import *"
   ]
  },
  {
   "cell_type": "code",
   "execution_count": 56,
   "metadata": {},
   "outputs": [],
   "source": [
    "from typing import List, Optional\n",
    "\n",
    "def getInorderTraversal(root: TreeNode):\n",
    "    values = []\n",
    "\n",
    "    def inorder(root: Optional[TreeNode]):\n",
    "        if root:\n",
    "            inorder(root.left)\n",
    "            values.append(root.val)\n",
    "            inorder(root.right)\n",
    "    inorder(root)\n",
    "    return values\n",
    "\n",
    "\n",
    "def twoSum(nums: List[int], target: int) -> List[int]:\n",
    "    left = 0\n",
    "    right = len(nums) - 1\n",
    "    while left < right:\n",
    "        s = nums[left] + nums[right]\n",
    "        if s == target:\n",
    "            return 1\n",
    "        elif s < target:\n",
    "            left += 1\n",
    "        else:\n",
    "            right -= 1\n",
    "    return 0\n",
    "\n",
    "class Solution:\n",
    "    # @param A : root node of tree\n",
    "    # @param B : integer\n",
    "    # @return an integer\n",
    "    def t2Sum(self, A, B):\n",
    "        inorder = getInorderTraversal(A)\n",
    "        return twoSum(inorder, B)\n"
   ]
  },
  {
   "cell_type": "code",
   "execution_count": 57,
   "metadata": {},
   "outputs": [],
   "source": [
    "# simple traversal and checking for the pair\n",
    "class Solution:\n",
    "    # @param A : root node of tree\n",
    "    # @param B : integer\n",
    "    # @return an integer\n",
    "    def t2Sum(self, A, B):\n",
    "        s = set()\n",
    "        stack = [A]\n",
    "        while stack:\n",
    "            temp = stack.pop()\n",
    "            if temp.val in s:\n",
    "                return 1\n",
    "            s.add(B-temp.val)\n",
    "            if temp.right:\n",
    "                stack.append(temp.right)\n",
    "            if temp.left:\n",
    "                stack.append(temp.left)\n",
    "        return 0"
   ]
  },
  {
   "cell_type": "code",
   "execution_count": 58,
   "metadata": {},
   "outputs": [],
   "source": [
    "# simple traversal and checking for the pair\n",
    "class Solution:\n",
    "    # @param A : root node of tree\n",
    "    # @param B : integer\n",
    "    # @return an integer\n",
    "    def t2Sum(self, A, B):\n",
    "        s = set()\n",
    "        def inorder(root):\n",
    "            nonlocal s\n",
    "            if root:\n",
    "                if inorder(root.left):\n",
    "                    return 1\n",
    "                if root.val in s:\n",
    "                    return 1\n",
    "                s.add(B - root.val)\n",
    "                if inorder(root.right):\n",
    "                    return 1\n",
    "            return 0\n",
    "        return inorder(A)"
   ]
  },
  {
   "cell_type": "code",
   "execution_count": 59,
   "metadata": {},
   "outputs": [],
   "source": [
    "\n",
    "class InOrder:\n",
    "    def __init__(self, root):\n",
    "        self.stack = []\n",
    "        while root:\n",
    "            self.stack.append(root)\n",
    "            root = root.left\n",
    "\n",
    "    def has_next(self):\n",
    "        return len(self.stack) > 0\n",
    "\n",
    "    def get_next(self):\n",
    "        x = self.stack.pop()\n",
    "        temp = x.right\n",
    "        while temp:\n",
    "            self.stack.append(temp)\n",
    "            temp = temp.left\n",
    "        return x.val\n",
    "\n",
    "\n",
    "class InOrder_r:\n",
    "    def __init__(self, root):\n",
    "        self.stack = []\n",
    "        while root:\n",
    "            self.stack.append(root)\n",
    "            root = root.right\n",
    "\n",
    "    def has_next(self):\n",
    "        return len(self.stack) > 0\n",
    "\n",
    "    def get_next(self):\n",
    "        x = self.stack.pop()\n",
    "        temp = x.left\n",
    "        while temp:\n",
    "            self.stack.append(temp)\n",
    "            temp = temp.right\n",
    "        return x.val\n",
    "\n",
    "class Solution:\n",
    "    # @param A : root node of tree\n",
    "    # @param B : integer\n",
    "    # @return an integer\n",
    "    def t2Sum(self, A, B):\n",
    "        t = InOrder(A) # traversal\n",
    "        rt = InOrder_r(A) # reverse traversal\n",
    "        left = t.get_next()\n",
    "        right = rt.get_next()\n",
    "        while left != right:\n",
    "            # since elements in bst are unique we can have this condition\n",
    "            total = left + right\n",
    "            if total == B:\n",
    "                return 1\n",
    "            elif total < B:\n",
    "                left = t.get_next()\n",
    "            else:\n",
    "                right = rt.get_next()\n",
    "        return 0"
   ]
  },
  {
   "cell_type": "code",
   "execution_count": 60,
   "metadata": {},
   "outputs": [
    {
     "name": "stdout",
     "output_type": "stream",
     "text": [
      "  9_ \n",
      " /  \\\n",
      "10 20\n"
     ]
    },
    {
     "data": {
      "text/plain": [
       "1"
      ]
     },
     "execution_count": 60,
     "metadata": {},
     "output_type": "execute_result"
    }
   ],
   "source": [
    "A = formTree([9, 10, 20])\n",
    "A.display()\n",
    "sol = Solution()\n",
    "B = 19\n",
    "sol.t2Sum(A, B)"
   ]
  },
  {
   "cell_type": "code",
   "execution_count": 61,
   "metadata": {},
   "outputs": [
    {
     "name": "stdout",
     "output_type": "stream",
     "text": [
      "  9_ \n",
      " /  \\\n",
      "10 20\n"
     ]
    },
    {
     "data": {
      "text/plain": [
       "0"
      ]
     },
     "execution_count": 61,
     "metadata": {},
     "output_type": "execute_result"
    }
   ],
   "source": [
    "A = formTree([9, 10, 20])\n",
    "A.display()\n",
    "sol = Solution()\n",
    "B = 40\n",
    "sol.t2Sum(A, B)"
   ]
  }
 ],
 "metadata": {
  "kernelspec": {
   "display_name": "dsa-venv",
   "language": "python",
   "name": "python3"
  },
  "language_info": {
   "codemirror_mode": {
    "name": "ipython",
    "version": 3
   },
   "file_extension": ".py",
   "mimetype": "text/x-python",
   "name": "python",
   "nbconvert_exporter": "python",
   "pygments_lexer": "ipython3",
   "version": "3.11.3"
  }
 },
 "nbformat": 4,
 "nbformat_minor": 2
}
