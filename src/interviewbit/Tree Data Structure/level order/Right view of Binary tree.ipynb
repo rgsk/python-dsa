{
 "cells": [
  {
   "cell_type": "code",
   "execution_count": 21,
   "metadata": {},
   "outputs": [],
   "source": [
    "# https://www.interviewbit.com/problems/right-view-of-binary-tree/"
   ]
  },
  {
   "cell_type": "code",
   "execution_count": 22,
   "metadata": {},
   "outputs": [],
   "source": [
    "import sys\n",
    "sys.path.append('../../..')\n",
    "\n",
    "from lib.TreeNode import *"
   ]
  },
  {
   "cell_type": "code",
   "execution_count": 23,
   "metadata": {},
   "outputs": [],
   "source": [
    "from collections import deque\n",
    "\n",
    "class Solution:\n",
    "    # @param A : root node of tree\n",
    "    # @return a list of integers\n",
    "    def solve(self, A):\n",
    "        right_view = []\n",
    "        q = deque()\n",
    "        q.append(A)\n",
    "        while q:\n",
    "            for i in range(len(q)):\n",
    "                last = q.popleft()\n",
    "                if i == 0:\n",
    "                    right_view.append(last.val)\n",
    "                if last.right:\n",
    "                    q.append(last.right)\n",
    "                if last.left:\n",
    "                    q.append(last.left)\n",
    "        return right_view"
   ]
  },
  {
   "cell_type": "code",
   "execution_count": 24,
   "metadata": {},
   "outputs": [
    {
     "name": "stdout",
     "output_type": "stream",
     "text": [
      "   _1_  \n",
      "  /   \\ \n",
      "  2   3 \n",
      " / \\ / \\\n",
      " 4 5 6 7\n",
      "/       \n",
      "8       \n"
     ]
    },
    {
     "data": {
      "text/plain": [
       "[1, 3, 7, 8]"
      ]
     },
     "execution_count": 24,
     "metadata": {},
     "output_type": "execute_result"
    }
   ],
   "source": [
    "A = formTree([1, 2, 3, 4, 5, 6, 7, 8])\n",
    "A.display()\n",
    "sol = Solution()\n",
    "sol.solve(A)"
   ]
  }
 ],
 "metadata": {
  "kernelspec": {
   "display_name": "dsa-venv",
   "language": "python",
   "name": "python3"
  },
  "language_info": {
   "codemirror_mode": {
    "name": "ipython",
    "version": 3
   },
   "file_extension": ".py",
   "mimetype": "text/x-python",
   "name": "python",
   "nbconvert_exporter": "python",
   "pygments_lexer": "ipython3",
   "version": "3.11.3"
  }
 },
 "nbformat": 4,
 "nbformat_minor": 2
}
