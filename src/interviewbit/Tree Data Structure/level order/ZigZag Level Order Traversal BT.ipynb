{
 "cells": [
  {
   "cell_type": "code",
   "execution_count": 26,
   "metadata": {},
   "outputs": [],
   "source": [
    "# https://www.interviewbit.com/problems/zigzag-level-order-traversal-bt/"
   ]
  },
  {
   "cell_type": "code",
   "execution_count": 27,
   "metadata": {},
   "outputs": [],
   "source": [
    "import sys\n",
    "sys.path.append('../../..')\n",
    "\n",
    "from lib.TreeNode import *"
   ]
  },
  {
   "cell_type": "code",
   "execution_count": 28,
   "metadata": {},
   "outputs": [],
   "source": [
    "from collections import deque\n",
    "\n",
    "class Solution:\n",
    "    # @param A : root node of tree\n",
    "    # @return a list of list of integers\n",
    "    def zigzagLevelOrder(self, A):\n",
    "        lo = []\n",
    "        q = deque()\n",
    "        q.append(A)\n",
    "        reverse = False\n",
    "        while q:\n",
    "            cur = []\n",
    "            for _ in range(len(q)):\n",
    "                last = q.popleft()\n",
    "                cur.append(last.val)\n",
    "                if last.left:\n",
    "                    q.append(last.left)\n",
    "                if last.right:\n",
    "                    q.append(last.right)\n",
    "            if reverse:\n",
    "                lo.append(cur[::-1])\n",
    "            else:\n",
    "                lo.append(cur)\n",
    "            reverse = not reverse\n",
    "        return lo\n",
    "                "
   ]
  },
  {
   "cell_type": "code",
   "execution_count": 29,
   "metadata": {},
   "outputs": [
    {
     "name": "stdout",
     "output_type": "stream",
     "text": [
      " 3___    \n",
      "/    \\   \n",
      "9   20_  \n",
      "   /   \\ \n",
      "  15   7 \n",
      "      / \\\n",
      "      1 2\n"
     ]
    },
    {
     "data": {
      "text/plain": [
       "[[3], [20, 9], [15, 7], [2, 1]]"
      ]
     },
     "execution_count": 29,
     "metadata": {},
     "output_type": "execute_result"
    }
   ],
   "source": [
    "A = TreeNode(3, TreeNode(9), TreeNode(20, TreeNode(15), TreeNode(7, TreeNode(1), TreeNode(2))))\n",
    "A.display()\n",
    "sol = Solution()\n",
    "sol.zigzagLevelOrder(A)"
   ]
  }
 ],
 "metadata": {
  "kernelspec": {
   "display_name": "dsa-venv",
   "language": "python",
   "name": "python3"
  },
  "language_info": {
   "codemirror_mode": {
    "name": "ipython",
    "version": 3
   },
   "file_extension": ".py",
   "mimetype": "text/x-python",
   "name": "python",
   "nbconvert_exporter": "python",
   "pygments_lexer": "ipython3",
   "version": "3.11.3"
  }
 },
 "nbformat": 4,
 "nbformat_minor": 2
}
