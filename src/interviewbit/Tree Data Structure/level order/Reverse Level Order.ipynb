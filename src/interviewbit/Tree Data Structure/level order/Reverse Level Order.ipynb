{
 "cells": [
  {
   "cell_type": "code",
   "execution_count": 29,
   "metadata": {},
   "outputs": [],
   "source": [
    "# https://www.interviewbit.com/problems/reverse-level-order/"
   ]
  },
  {
   "cell_type": "code",
   "execution_count": 30,
   "metadata": {},
   "outputs": [],
   "source": [
    "import sys\n",
    "sys.path.append('../../..')\n",
    "\n",
    "from lib.TreeNode import *"
   ]
  },
  {
   "cell_type": "code",
   "execution_count": 31,
   "metadata": {},
   "outputs": [],
   "source": [
    "from collections import deque\n",
    "\n",
    "class Solution:\n",
    "    # @param A : root node of tree\n",
    "    # @return a list of integers\n",
    "    def solve(self, A):\n",
    "        lo = []\n",
    "        q = deque()\n",
    "        q.append(A)\n",
    "        while q:\n",
    "            for _ in range(len(q)):\n",
    "                last = q.popleft()\n",
    "                lo.append(last.val)\n",
    "                if last.right:\n",
    "                    q.append(last.right)\n",
    "                if last.left:\n",
    "                    q.append(last.left)\n",
    "                \n",
    "        return list(reversed(lo))"
   ]
  },
  {
   "cell_type": "code",
   "execution_count": 32,
   "metadata": {},
   "outputs": [
    {
     "name": "stdout",
     "output_type": "stream",
     "text": [
      " 3___  \n",
      "/    \\ \n",
      "9   20 \n",
      "   /  \\\n",
      "  15  7\n"
     ]
    },
    {
     "data": {
      "text/plain": [
       "[15, 7, 9, 20, 3]"
      ]
     },
     "execution_count": 32,
     "metadata": {},
     "output_type": "execute_result"
    }
   ],
   "source": [
    "A = TreeNode(3, TreeNode(9), TreeNode(20, TreeNode(15), TreeNode(7)))\n",
    "A.display()\n",
    "sol = Solution()\n",
    "sol.solve(A)"
   ]
  }
 ],
 "metadata": {
  "kernelspec": {
   "display_name": "dsa-venv",
   "language": "python",
   "name": "python3"
  },
  "language_info": {
   "codemirror_mode": {
    "name": "ipython",
    "version": 3
   },
   "file_extension": ".py",
   "mimetype": "text/x-python",
   "name": "python",
   "nbconvert_exporter": "python",
   "pygments_lexer": "ipython3",
   "version": "3.11.3"
  }
 },
 "nbformat": 4,
 "nbformat_minor": 2
}
