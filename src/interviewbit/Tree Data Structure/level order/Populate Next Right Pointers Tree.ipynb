{
 "cells": [
  {
   "cell_type": "code",
   "execution_count": 13,
   "metadata": {},
   "outputs": [],
   "source": [
    "# https://www.interviewbit.com/problems/populate-next-right-pointers-tree/"
   ]
  },
  {
   "cell_type": "code",
   "execution_count": 14,
   "metadata": {},
   "outputs": [],
   "source": [
    "import sys\n",
    "sys.path.append('../../..')\n",
    "\n",
    "from lib.TreeNode import *"
   ]
  },
  {
   "cell_type": "code",
   "execution_count": 15,
   "metadata": {},
   "outputs": [],
   "source": [
    "from collections import deque\n",
    "\n",
    "class Solution:\n",
    "    # @param root, a tree node\n",
    "    # @return nothing\n",
    "    def connect(self, root):\n",
    "        lo = []\n",
    "        q = deque()\n",
    "        q.append(root)\n",
    "        while q:\n",
    "            cur = []\n",
    "            for _ in range(len(q)):\n",
    "                last = q.popleft()\n",
    "                cur.append(last)\n",
    "                if last.left:\n",
    "                    q.append(last.left)\n",
    "                if last.right:\n",
    "                    q.append(last.right)\n",
    "            lo.append(cur)\n",
    "        for row in lo:\n",
    "            for i in range(1, len(row)):\n",
    "                row[i-1].next = row[i]\n",
    "\n",
    "                "
   ]
  },
  {
   "cell_type": "code",
   "execution_count": 16,
   "metadata": {},
   "outputs": [
    {
     "name": "stdout",
     "output_type": "stream",
     "text": [
      "   _1_  \n",
      "  /   \\ \n",
      "  2   3 \n",
      " / \\ / \\\n",
      " 4 5 6 7\n",
      "/       \n",
      "8       \n"
     ]
    }
   ],
   "source": [
    "A = formTree([1, 2, 3, 4, 5, 6, 7, 8])\n",
    "A.display()\n",
    "sol = Solution()\n",
    "sol.connect(A)"
   ]
  }
 ],
 "metadata": {
  "kernelspec": {
   "display_name": "dsa-venv",
   "language": "python",
   "name": "python3"
  },
  "language_info": {
   "codemirror_mode": {
    "name": "ipython",
    "version": 3
   },
   "file_extension": ".py",
   "mimetype": "text/x-python",
   "name": "python",
   "nbconvert_exporter": "python",
   "pygments_lexer": "ipython3",
   "version": "3.11.3"
  }
 },
 "nbformat": 4,
 "nbformat_minor": 2
}
