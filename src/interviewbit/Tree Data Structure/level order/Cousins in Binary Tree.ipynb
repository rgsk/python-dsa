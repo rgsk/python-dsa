{
 "cells": [
  {
   "cell_type": "code",
   "execution_count": 33,
   "metadata": {},
   "outputs": [],
   "source": [
    "# https://www.interviewbit.com/problems/cousins-in-binary-tree/"
   ]
  },
  {
   "cell_type": "code",
   "execution_count": 34,
   "metadata": {},
   "outputs": [],
   "source": [
    "import sys\n",
    "sys.path.append('../../..')\n",
    "\n",
    "from lib.TreeNode import *"
   ]
  },
  {
   "cell_type": "code",
   "execution_count": 35,
   "metadata": {},
   "outputs": [],
   "source": [
    "from collections import deque\n",
    "\n",
    "\n",
    "class Solution:\n",
    "    # @param A : root node of tree\n",
    "    # @param B : integer\n",
    "    # @return a list of integers\n",
    "    def solve(self, A, B):\n",
    "        if (not A):\n",
    "            return []\n",
    "        q = deque()\n",
    "        found = False\n",
    "        q.append(A)\n",
    "        while (q and not found):\n",
    "            s_ = len(q)\n",
    "            while (s_):\n",
    "                p = q.popleft()\n",
    "                if ((p.left and p.left.val == B) or (p.right and p.right.val == B)):\n",
    "                    found = True\n",
    "                else:\n",
    "                    if p.left:\n",
    "                        q.append(p.left)\n",
    "                    if p.right:\n",
    "                        q.append(p.right)\n",
    "                s_ -= 1\n",
    "        if not found:\n",
    "            return []\n",
    "        return [i.val for i in q]"
   ]
  },
  {
   "cell_type": "code",
   "execution_count": 36,
   "metadata": {},
   "outputs": [
    {
     "name": "stdout",
     "output_type": "stream",
     "text": [
      "  _1_  \n",
      " /   \\ \n",
      " 2   3 \n",
      "/ \\ / \\\n",
      "4 5 6 7\n"
     ]
    },
    {
     "data": {
      "text/plain": [
       "[6, 7]"
      ]
     },
     "execution_count": 36,
     "metadata": {},
     "output_type": "execute_result"
    }
   ],
   "source": [
    "A = formTree([1, 2, 3, 4, 5, 6, 7])\n",
    "A.display()\n",
    "B = 5\n",
    "sol = Solution()\n",
    "sol.solve(A, B)"
   ]
  },
  {
   "cell_type": "code",
   "execution_count": 37,
   "metadata": {},
   "outputs": [
    {
     "name": "stdout",
     "output_type": "stream",
     "text": [
      "   _15_  \n",
      "  /    \\ \n",
      "  1    2 \n",
      " / \\  / \\\n",
      " 3 4  5 6\n",
      "/        \n",
      "7        \n"
     ]
    },
    {
     "data": {
      "text/plain": [
       "[5, 6]"
      ]
     },
     "execution_count": 37,
     "metadata": {},
     "output_type": "execute_result"
    }
   ],
   "source": [
    "A = formTree([15, 1, 2, 3, 4, 5, 6, 7])\n",
    "A.display()\n",
    "B = 4\n",
    "sol = Solution()\n",
    "sol.solve(A, B)"
   ]
  }
 ],
 "metadata": {
  "kernelspec": {
   "display_name": "dsa-venv",
   "language": "python",
   "name": "python3"
  },
  "language_info": {
   "codemirror_mode": {
    "name": "ipython",
    "version": 3
   },
   "file_extension": ".py",
   "mimetype": "text/x-python",
   "name": "python",
   "nbconvert_exporter": "python",
   "pygments_lexer": "ipython3",
   "version": "3.11.3"
  }
 },
 "nbformat": 4,
 "nbformat_minor": 2
}
