{
 "cells": [
  {
   "cell_type": "code",
   "execution_count": 53,
   "metadata": {},
   "outputs": [],
   "source": [
    "# https://www.interviewbit.com/problems/flatten-binary-tree-to-linked-list/"
   ]
  },
  {
   "cell_type": "code",
   "execution_count": 54,
   "metadata": {},
   "outputs": [],
   "source": [
    "import sys\n",
    "sys.path.append('../../..')\n",
    "\n",
    "from lib.TreeNode import *"
   ]
  },
  {
   "cell_type": "code",
   "execution_count": 55,
   "metadata": {},
   "outputs": [],
   "source": [
    "class Solution:\n",
    "    # @param A : root node of tree\n",
    "    # @return the root node in the tree\n",
    "    def flatten(self, A):\n",
    "        self.preorder_traversal = []\n",
    "        def preorder(root):\n",
    "            if root:\n",
    "                self.preorder_traversal.append(root)\n",
    "                preorder(root.left)\n",
    "                preorder(root.right)\n",
    "        preorder(A)\n",
    "        for i in range(len(self.preorder_traversal) - 1):\n",
    "            self.preorder_traversal[i].right = self.preorder_traversal[i+1]\n",
    "            self.preorder_traversal[i].left = None\n",
    "        return A"
   ]
  },
  {
   "cell_type": "code",
   "execution_count": 56,
   "metadata": {},
   "outputs": [
    {
     "name": "stdout",
     "output_type": "stream",
     "text": [
      "  _1  \n",
      " /  \\ \n",
      " 2  5 \n",
      "/ \\  \\\n",
      "3 4  6\n",
      "1     \n",
      " \\    \n",
      " 2    \n",
      "  \\   \n",
      "  3   \n",
      "   \\  \n",
      "   4  \n",
      "    \\ \n",
      "    5 \n",
      "     \\\n",
      "     6\n"
     ]
    }
   ],
   "source": [
    "A = formTree([1, 2, 5, 3, 4, None, 6])\n",
    "A.display()\n",
    "sol = Solution()\n",
    "sol.flatten(A).display()"
   ]
  }
 ],
 "metadata": {
  "kernelspec": {
   "display_name": "dsa-venv",
   "language": "python",
   "name": "python3"
  },
  "language_info": {
   "codemirror_mode": {
    "name": "ipython",
    "version": 3
   },
   "file_extension": ".py",
   "mimetype": "text/x-python",
   "name": "python",
   "nbconvert_exporter": "python",
   "pygments_lexer": "ipython3",
   "version": "3.11.3"
  }
 },
 "nbformat": 4,
 "nbformat_minor": 2
}
