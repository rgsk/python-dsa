{
 "cells": [
  {
   "cell_type": "code",
   "execution_count": 16,
   "metadata": {},
   "outputs": [],
   "source": [
    "# https://www.interviewbit.com/problems/consecutive-parent-child/"
   ]
  },
  {
   "cell_type": "code",
   "execution_count": 17,
   "metadata": {},
   "outputs": [],
   "source": [
    "import sys\n",
    "sys.path.append('../../..')\n",
    "\n",
    "from lib.TreeNode import *"
   ]
  },
  {
   "cell_type": "code",
   "execution_count": 18,
   "metadata": {},
   "outputs": [],
   "source": [
    "class Solution:\n",
    "    # @param A : root node of tree\n",
    "    # @return an integer\n",
    "    def consecutiveNodes(self, A):\n",
    "        count = 0\n",
    "        def helper(root):\n",
    "            nonlocal count\n",
    "            if root:\n",
    "                if root.left:\n",
    "                    if abs(root.val - root.left.val) == 1:\n",
    "                        count += 1\n",
    "                    helper(root.left)\n",
    "                if root.right:\n",
    "                    if abs(root.val - root.right.val) == 1:\n",
    "                        count += 1\n",
    "                    helper(root.right)\n",
    "        helper(A)\n",
    "        return count"
   ]
  },
  {
   "cell_type": "code",
   "execution_count": 19,
   "metadata": {},
   "outputs": [
    {
     "name": "stdout",
     "output_type": "stream",
     "text": [
      " 2 \n",
      "/ \\\n",
      "1 3\n"
     ]
    },
    {
     "data": {
      "text/plain": [
       "2"
      ]
     },
     "execution_count": 19,
     "metadata": {},
     "output_type": "execute_result"
    }
   ],
   "source": [
    "A = TreeNode(2, TreeNode(1), TreeNode(3))\n",
    "A.display()\n",
    "sol = Solution()\n",
    "sol.consecutiveNodes(A)"
   ]
  },
  {
   "cell_type": "code",
   "execution_count": 20,
   "metadata": {},
   "outputs": [
    {
     "name": "stdout",
     "output_type": "stream",
     "text": [
      " 5_  \n",
      "/  \\ \n",
      "1  3 \n",
      "  / \\\n",
      "  1 4\n"
     ]
    },
    {
     "data": {
      "text/plain": [
       "1"
      ]
     },
     "execution_count": 20,
     "metadata": {},
     "output_type": "execute_result"
    }
   ],
   "source": [
    "A = TreeNode(5, TreeNode(1), TreeNode(3, TreeNode(1), TreeNode(4)))\n",
    "A.display()\n",
    "sol = Solution()\n",
    "sol.consecutiveNodes(A)"
   ]
  }
 ],
 "metadata": {
  "kernelspec": {
   "display_name": "dsa-venv",
   "language": "python",
   "name": "python3"
  },
  "language_info": {
   "codemirror_mode": {
    "name": "ipython",
    "version": 3
   },
   "file_extension": ".py",
   "mimetype": "text/x-python",
   "name": "python",
   "nbconvert_exporter": "python",
   "pygments_lexer": "ipython3",
   "version": "3.11.3"
  }
 },
 "nbformat": 4,
 "nbformat_minor": 2
}
