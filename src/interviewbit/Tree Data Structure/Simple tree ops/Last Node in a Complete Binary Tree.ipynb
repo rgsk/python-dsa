{
 "cells": [
  {
   "cell_type": "code",
   "execution_count": 72,
   "metadata": {},
   "outputs": [],
   "source": [
    "# https://www.interviewbit.com/problems/last-node-in-a-complete-binary-tree/"
   ]
  },
  {
   "cell_type": "code",
   "execution_count": 73,
   "metadata": {},
   "outputs": [],
   "source": [
    "import sys\n",
    "sys.path.append('../../..')\n",
    "\n",
    "from lib.TreeNode import *"
   ]
  },
  {
   "cell_type": "code",
   "execution_count": 74,
   "metadata": {},
   "outputs": [],
   "source": [
    "# in this solution we are not \n",
    "# taking advantage of the fact that it is a complete binary tree\n",
    "\n",
    "# O(N)\n",
    "\n",
    "class Solution:\n",
    "    # @param A : root node of tree\n",
    "    # @return an integer\n",
    "    def lastNode(self, A):\n",
    "        max_count = -1\n",
    "        ans = None\n",
    "        def helper(root, count = 0):\n",
    "            nonlocal max_count, ans\n",
    "            if root:\n",
    "                if count >= max_count:\n",
    "                    ans = root.val\n",
    "                    max_count = count\n",
    "                helper(root.left, count + 1)\n",
    "                helper(root.right, count + 1)\n",
    "        helper(A)\n",
    "        return ans"
   ]
  },
  {
   "cell_type": "code",
   "execution_count": 75,
   "metadata": {},
   "outputs": [],
   "source": [
    "# approach\n",
    "\n",
    "# https://www.interviewbit.com/problems/last-node-in-a-complete-binary-tree/hints/\n",
    "\n",
    "# O(log N * log N)\n",
    "\n",
    "class Solution:\n",
    "    # @param A : root node of tree\n",
    "    # @return an integer\n",
    "    def lastNode(self, A):\n",
    "        def get_height(root):\n",
    "            temp = root\n",
    "            h = 0\n",
    "            while temp:\n",
    "                h += 1\n",
    "                temp = temp.left\n",
    "            return h\n",
    "        def helper(root):\n",
    "            if root:\n",
    "                if not root.left and not root.right:\n",
    "                    return root\n",
    "                if get_height(root.left) > get_height(root.right):\n",
    "                    return helper(root.left)\n",
    "                return helper(root.right)\n",
    "        return helper(A).val\n",
    "                "
   ]
  },
  {
   "cell_type": "code",
   "execution_count": 76,
   "metadata": {},
   "outputs": [
    {
     "name": "stdout",
     "output_type": "stream",
     "text": [
      " 1\n",
      "/ \n",
      "2 \n"
     ]
    },
    {
     "data": {
      "text/plain": [
       "2"
      ]
     },
     "execution_count": 76,
     "metadata": {},
     "output_type": "execute_result"
    }
   ],
   "source": [
    "A = formTree([1, 2])\n",
    "A.display()\n",
    "sol = Solution()\n",
    "sol.lastNode(A)"
   ]
  },
  {
   "cell_type": "code",
   "execution_count": 77,
   "metadata": {},
   "outputs": [
    {
     "name": "stdout",
     "output_type": "stream",
     "text": [
      " 1 \n",
      "/ \\\n",
      "2 3\n"
     ]
    },
    {
     "data": {
      "text/plain": [
       "3"
      ]
     },
     "execution_count": 77,
     "metadata": {},
     "output_type": "execute_result"
    }
   ],
   "source": [
    "A = formTree([1, 2, 3])\n",
    "A.display()\n",
    "sol = Solution()\n",
    "sol.lastNode(A)"
   ]
  },
  {
   "cell_type": "code",
   "execution_count": 78,
   "metadata": {},
   "outputs": [
    {
     "name": "stdout",
     "output_type": "stream",
     "text": [
      "      _____21__   \n",
      "     /         \\  \n",
      "    _3__       5_ \n",
      "   /    \\     /  \\\n",
      "  10   12_   12 12\n",
      " /  \\ /   \\       \n",
      "12  9 4  13       \n"
     ]
    },
    {
     "data": {
      "text/plain": [
       "13"
      ]
     },
     "execution_count": 78,
     "metadata": {},
     "output_type": "execute_result"
    }
   ],
   "source": [
    "A = formTree([21, 3, 5, 10, 12, 12, 12, 12, 9, 4, 13])\n",
    "A.display()\n",
    "sol = Solution()\n",
    "sol.lastNode(A)"
   ]
  }
 ],
 "metadata": {
  "kernelspec": {
   "display_name": "dsa-venv",
   "language": "python",
   "name": "python3"
  },
  "language_info": {
   "codemirror_mode": {
    "name": "ipython",
    "version": 3
   },
   "file_extension": ".py",
   "mimetype": "text/x-python",
   "name": "python",
   "nbconvert_exporter": "python",
   "pygments_lexer": "ipython3",
   "version": "3.11.3"
  }
 },
 "nbformat": 4,
 "nbformat_minor": 2
}
