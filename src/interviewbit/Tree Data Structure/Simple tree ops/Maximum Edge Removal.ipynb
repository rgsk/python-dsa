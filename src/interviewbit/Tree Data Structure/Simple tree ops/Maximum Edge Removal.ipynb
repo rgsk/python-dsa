{
 "cells": [
  {
   "cell_type": "code",
   "execution_count": 11,
   "metadata": {},
   "outputs": [],
   "source": [
    "# https://www.interviewbit.com/problems/maximum-edge-removal/"
   ]
  },
  {
   "cell_type": "code",
   "execution_count": 12,
   "metadata": {},
   "outputs": [],
   "source": [
    "class Solution:\n",
    "    # @param A : integer\n",
    "    # @param B : list of list of integers\n",
    "    # @return an integer\n",
    "    def solve(self, A, B):\n",
    "        adj = [[] for _ in range(A + 1)]\n",
    "        for s, d in B:\n",
    "            adj[s].append(d)\n",
    "            adj[d].append(s)\n",
    "\n",
    "        edges_removed = 0\n",
    "        def dfs(node, parent):\n",
    "            nonlocal edges_removed\n",
    "            total = 1\n",
    "            for child in adj[node]:\n",
    "                if child != parent:\n",
    "                    sub_count = dfs(child, node)\n",
    "                    if sub_count % 2 == 0:\n",
    "                        edges_removed += 1\n",
    "                    else:\n",
    "                        total += sub_count\n",
    "            return total\n",
    "        # 1 - A any value will work here\n",
    "        # because all the nodes are interconnected\n",
    "        # dfs(1, 0)\n",
    "        dfs(A, 0)\n",
    "        return edges_removed"
   ]
  },
  {
   "cell_type": "code",
   "execution_count": 13,
   "metadata": {},
   "outputs": [
    {
     "data": {
      "text/plain": [
       "2"
      ]
     },
     "execution_count": 13,
     "metadata": {},
     "output_type": "execute_result"
    }
   ],
   "source": [
    "A = 6\n",
    "B = [\n",
    "    [1, 2],\n",
    "    [1, 3],\n",
    "    [1, 4],\n",
    "    [3, 5],\n",
    "    [4, 6]\n",
    "]\n",
    "sol = Solution()\n",
    "sol.solve(A, B)"
   ]
  },
  {
   "cell_type": "code",
   "execution_count": 14,
   "metadata": {},
   "outputs": [
    {
     "data": {
      "text/plain": [
       "0"
      ]
     },
     "execution_count": 14,
     "metadata": {},
     "output_type": "execute_result"
    }
   ],
   "source": [
    "A = 2\n",
    "B = [\n",
    "    [1, 2],\n",
    "]\n",
    "sol = Solution()\n",
    "sol.solve(A, B)"
   ]
  }
 ],
 "metadata": {
  "kernelspec": {
   "display_name": "dsa-venv",
   "language": "python",
   "name": "python3"
  },
  "language_info": {
   "codemirror_mode": {
    "name": "ipython",
    "version": 3
   },
   "file_extension": ".py",
   "mimetype": "text/x-python",
   "name": "python",
   "nbconvert_exporter": "python",
   "pygments_lexer": "ipython3",
   "version": "3.11.3"
  }
 },
 "nbformat": 4,
 "nbformat_minor": 2
}
