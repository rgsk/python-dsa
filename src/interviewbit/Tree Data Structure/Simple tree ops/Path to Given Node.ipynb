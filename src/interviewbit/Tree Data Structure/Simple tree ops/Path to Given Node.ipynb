{
 "cells": [
  {
   "cell_type": "code",
   "execution_count": 19,
   "metadata": {},
   "outputs": [],
   "source": [
    "# https://www.interviewbit.com/problems/path-to-given-node/"
   ]
  },
  {
   "cell_type": "code",
   "execution_count": 20,
   "metadata": {},
   "outputs": [],
   "source": [
    "import sys\n",
    "sys.path.append('../../..')\n",
    "\n",
    "from lib.TreeNode import *"
   ]
  },
  {
   "cell_type": "code",
   "execution_count": 21,
   "metadata": {},
   "outputs": [],
   "source": [
    "class Solution:\n",
    "    # @param A : root node of tree\n",
    "    # @param B : integer\n",
    "    # @return a list of integers\n",
    "    def solve(self, A, B):\n",
    "        def helper(root, cur):\n",
    "            if root:\n",
    "                if root.val == B:\n",
    "                    cur.append(root.val)\n",
    "                    return cur\n",
    "                return helper(root.left, cur + [root.val]) or helper(root.right, cur + [root.val])\n",
    "        return helper(A, [])"
   ]
  },
  {
   "cell_type": "code",
   "execution_count": 22,
   "metadata": {},
   "outputs": [],
   "source": [
    "class Solution:\n",
    "    # @param A : root node of tree\n",
    "    # @param B : integer\n",
    "    # @return a list of integers\n",
    "    def solve(self, A, B):\n",
    "        def helper(root, cur):\n",
    "            if root:\n",
    "                cur.append(root.val)\n",
    "                if root.val == B:\n",
    "                    return cur\n",
    "                res = helper(root.left, cur) or helper(root.right, cur)\n",
    "                if res:\n",
    "                    return res\n",
    "                cur.pop()\n",
    "        return helper(A, [])"
   ]
  },
  {
   "cell_type": "code",
   "execution_count": 23,
   "metadata": {},
   "outputs": [
    {
     "name": "stdout",
     "output_type": "stream",
     "text": [
      "  _1_  \n",
      " /   \\ \n",
      " 2   3 \n",
      "/ \\ / \\\n",
      "4 5 6 7\n"
     ]
    },
    {
     "data": {
      "text/plain": [
       "[1, 2, 5]"
      ]
     },
     "execution_count": 23,
     "metadata": {},
     "output_type": "execute_result"
    }
   ],
   "source": [
    "A = formTree([1, 2, 3, 4, 5, 6, 7])\n",
    "B = 5\n",
    "A.display()\n",
    "sol = Solution()\n",
    "sol.solve(A, B)"
   ]
  }
 ],
 "metadata": {
  "kernelspec": {
   "display_name": "dsa-venv",
   "language": "python",
   "name": "python3"
  },
  "language_info": {
   "codemirror_mode": {
    "name": "ipython",
    "version": 3
   },
   "file_extension": ".py",
   "mimetype": "text/x-python",
   "name": "python",
   "nbconvert_exporter": "python",
   "pygments_lexer": "ipython3",
   "version": "3.11.3"
  }
 },
 "nbformat": 4,
 "nbformat_minor": 2
}
