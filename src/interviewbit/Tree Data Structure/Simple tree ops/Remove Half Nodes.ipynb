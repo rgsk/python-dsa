{
 "cells": [
  {
   "cell_type": "code",
   "execution_count": 10,
   "metadata": {},
   "outputs": [],
   "source": [
    "# https://www.interviewbit.com/problems/remove-half-nodes/"
   ]
  },
  {
   "cell_type": "code",
   "execution_count": 11,
   "metadata": {},
   "outputs": [],
   "source": [
    "import sys\n",
    "sys.path.append('../../..')\n",
    "\n",
    "from lib.TreeNode import *"
   ]
  },
  {
   "cell_type": "code",
   "execution_count": 12,
   "metadata": {},
   "outputs": [],
   "source": [
    "class Solution:\n",
    "    # @param A : root node of tree\n",
    "    # @return the root node in the tree\n",
    "    def solve(self, A):\n",
    "        def helper(root):\n",
    "            if root:\n",
    "                if not root.left and not root.right:\n",
    "                    return root\n",
    "                elif not root.left:\n",
    "                    return helper(root.right)\n",
    "                elif not root.right:\n",
    "                    return helper(root.left)\n",
    "                else:\n",
    "                    root.left = helper(root.left)\n",
    "                    root.right = helper(root.right)\n",
    "                    return root\n",
    "        return helper(A)\n"
   ]
  },
  {
   "cell_type": "code",
   "execution_count": 13,
   "metadata": {},
   "outputs": [
    {
     "name": "stdout",
     "output_type": "stream",
     "text": [
      "  1 \n",
      " / \\\n",
      " 2 3\n",
      "/   \n",
      "4   \n",
      " 1 \n",
      "/ \\\n",
      "4 3\n"
     ]
    }
   ],
   "source": [
    "A = formTree([1, 2, 3, 4])\n",
    "A.display()\n",
    "sol = Solution()\n",
    "sol.solve(A).display()"
   ]
  },
  {
   "cell_type": "code",
   "execution_count": 14,
   "metadata": {},
   "outputs": [
    {
     "name": "stdout",
     "output_type": "stream",
     "text": [
      "  _1  \n",
      " /  \\ \n",
      " 2  3 \n",
      "/ \\  \\\n",
      "4 5  6\n",
      "  _1 \n",
      " /  \\\n",
      " 2  6\n",
      "/ \\  \n",
      "4 5  \n"
     ]
    }
   ],
   "source": [
    "A = formTree([1, 2, 3, 4, 5, None, 6])\n",
    "A.display()\n",
    "sol = Solution()\n",
    "sol.solve(A).display()"
   ]
  }
 ],
 "metadata": {
  "kernelspec": {
   "display_name": "dsa-venv",
   "language": "python",
   "name": "python3"
  },
  "language_info": {
   "codemirror_mode": {
    "name": "ipython",
    "version": 3
   },
   "file_extension": ".py",
   "mimetype": "text/x-python",
   "name": "python",
   "nbconvert_exporter": "python",
   "pygments_lexer": "ipython3",
   "version": "3.11.3"
  }
 },
 "nbformat": 4,
 "nbformat_minor": 2
}
