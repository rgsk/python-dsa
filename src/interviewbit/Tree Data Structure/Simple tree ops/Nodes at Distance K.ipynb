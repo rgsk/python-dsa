{
 "cells": [
  {
   "cell_type": "code",
   "execution_count": 11,
   "metadata": {},
   "outputs": [],
   "source": [
    "# https://www.interviewbit.com/problems/nodes-at-distance-k/"
   ]
  },
  {
   "cell_type": "code",
   "execution_count": 12,
   "metadata": {},
   "outputs": [],
   "source": [
    "import sys\n",
    "sys.path.append('../../..')\n",
    "\n",
    "from lib.TreeNode import *"
   ]
  },
  {
   "cell_type": "code",
   "execution_count": 13,
   "metadata": {},
   "outputs": [],
   "source": [
    "from typing import Optional\n",
    "\n",
    "class Solution:\n",
    "    # @param A : root node of tree\n",
    "    # @param B : integer\n",
    "    # @param C : integer\n",
    "    # @return a list of integers\n",
    "    def distanceK(self, A, B, C):\n",
    "        source_node = None\n",
    "        # it's better to store parent in a map\n",
    "        # rather than modifying the nodes\n",
    "        parents = {}\n",
    "        # better way to add parent\n",
    "        def add_parent(root: Optional[TreeNode], prev: Optional[TreeNode]):\n",
    "            nonlocal source_node\n",
    "            if root:\n",
    "                parents[root] = prev\n",
    "                if root.val == B:\n",
    "                    source_node = root\n",
    "                add_parent(root.left, root)\n",
    "                add_parent(root.right, root)\n",
    "                 \n",
    "        add_parent(A, None)\n",
    "        ans = []\n",
    "        def helper(node, prev, count):\n",
    "            if count == C:\n",
    "                ans.append(node.val)\n",
    "                return\n",
    "            if node.left and node.left != prev:\n",
    "                helper(node.left, node, count + 1)\n",
    "            if node.right and node.right != prev:\n",
    "                helper(node.right, node, count + 1)\n",
    "            if parents[node] and parents[node] != prev:\n",
    "                helper(parents[node], node, count + 1)\n",
    "\n",
    "        helper(source_node, None, 0)\n",
    "\n",
    "        return ans"
   ]
  },
  {
   "cell_type": "code",
   "execution_count": 14,
   "metadata": {},
   "outputs": [
    {
     "name": "stdout",
     "output_type": "stream",
     "text": [
      "  _1 \n",
      " /  \\\n",
      " 2  3\n",
      "/ \\  \n",
      "4 5  \n"
     ]
    },
    {
     "data": {
      "text/plain": [
       "[4, 5, 1]"
      ]
     },
     "execution_count": 14,
     "metadata": {},
     "output_type": "execute_result"
    }
   ],
   "source": [
    "A = formTree([1, 2, 3, 4, 5])\n",
    "A.display()\n",
    "B = 2\n",
    "C = 1\n",
    "sol = Solution()\n",
    "sol.distanceK(A, B, C)"
   ]
  },
  {
   "cell_type": "code",
   "execution_count": 15,
   "metadata": {},
   "outputs": [
    {
     "name": "stdout",
     "output_type": "stream",
     "text": [
      "  _1 \n",
      " /  \\\n",
      " 2  3\n",
      "/ \\  \n",
      "4 5  \n"
     ]
    },
    {
     "data": {
      "text/plain": [
       "[3]"
      ]
     },
     "execution_count": 15,
     "metadata": {},
     "output_type": "execute_result"
    }
   ],
   "source": [
    "A = formTree([1, 2, 3, 4, 5])\n",
    "A.display()\n",
    "B = 2\n",
    "C = 2\n",
    "sol = Solution()\n",
    "sol.distanceK(A, B, C)"
   ]
  }
 ],
 "metadata": {
  "kernelspec": {
   "display_name": "dsa-venv",
   "language": "python",
   "name": "python3"
  },
  "language_info": {
   "codemirror_mode": {
    "name": "ipython",
    "version": 3
   },
   "file_extension": ".py",
   "mimetype": "text/x-python",
   "name": "python",
   "nbconvert_exporter": "python",
   "pygments_lexer": "ipython3",
   "version": "3.11.3"
  }
 },
 "nbformat": 4,
 "nbformat_minor": 2
}
