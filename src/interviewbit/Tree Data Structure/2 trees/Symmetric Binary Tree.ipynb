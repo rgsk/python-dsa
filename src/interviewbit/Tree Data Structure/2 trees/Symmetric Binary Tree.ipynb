{
 "cells": [
  {
   "cell_type": "code",
   "execution_count": 14,
   "metadata": {},
   "outputs": [],
   "source": [
    "# https://www.interviewbit.com/problems/symmetric-binary-tree/"
   ]
  },
  {
   "cell_type": "code",
   "execution_count": 15,
   "metadata": {},
   "outputs": [],
   "source": [
    "import sys\n",
    "sys.path.append('../../..')\n",
    "\n",
    "from lib.TreeNode import *"
   ]
  },
  {
   "cell_type": "code",
   "execution_count": 16,
   "metadata": {},
   "outputs": [],
   "source": [
    "from collections import deque\n",
    "\n",
    "class Solution:\n",
    "    # @param A : root node of tree\n",
    "    # @return an integer\n",
    "    def isSymmetric(self, A):\n",
    "        lo = []\n",
    "        q = deque()\n",
    "        q.append(A)\n",
    "        while q:\n",
    "            cur = []\n",
    "            for _ in range(len(q)):\n",
    "                last = q.popleft()\n",
    "                if last:\n",
    "                    cur.append(last.val)\n",
    "                    q.append(last.left)\n",
    "                    q.append(last.right)\n",
    "                else:\n",
    "                    cur.append(-1)\n",
    "            lo.append(cur)\n",
    "        for row in lo:\n",
    "            i = 0\n",
    "            j = len(row) - 1\n",
    "            while i < j:\n",
    "                if row[i] != row[j]:\n",
    "                    return 0\n",
    "                i += 1\n",
    "                j -= 1\n",
    "        return 1"
   ]
  },
  {
   "cell_type": "code",
   "execution_count": 17,
   "metadata": {},
   "outputs": [
    {
     "data": {
      "text/plain": [
       "1"
      ]
     },
     "execution_count": 17,
     "metadata": {},
     "output_type": "execute_result"
    }
   ],
   "source": [
    "A = formTree([1, 2, 2, 3, 4, 4, 3])\n",
    "sol = Solution()\n",
    "sol.isSymmetric(A)"
   ]
  }
 ],
 "metadata": {
  "kernelspec": {
   "display_name": "dsa-venv",
   "language": "python",
   "name": "python3"
  },
  "language_info": {
   "codemirror_mode": {
    "name": "ipython",
    "version": 3
   },
   "file_extension": ".py",
   "mimetype": "text/x-python",
   "name": "python",
   "nbconvert_exporter": "python",
   "pygments_lexer": "ipython3",
   "version": "3.11.3"
  }
 },
 "nbformat": 4,
 "nbformat_minor": 2
}
