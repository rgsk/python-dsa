{
 "cells": [
  {
   "cell_type": "code",
   "execution_count": 5,
   "metadata": {},
   "outputs": [],
   "source": [
    "# https://www.interviewbit.com/problems/merge-two-binary-tree/"
   ]
  },
  {
   "cell_type": "code",
   "execution_count": 6,
   "metadata": {},
   "outputs": [],
   "source": [
    "import sys\n",
    "sys.path.append('../../..')\n",
    "\n",
    "from lib.TreeNode import *"
   ]
  },
  {
   "cell_type": "code",
   "execution_count": 7,
   "metadata": {},
   "outputs": [],
   "source": [
    "class Solution:\n",
    "    # @param A : root node of tree\n",
    "    # @param B : root node of tree\n",
    "    # @return the root node in the tree\n",
    "    def solve(self, A, B):\n",
    "        def helper(x, y):\n",
    "            if x and y:\n",
    "                x.val += y.val\n",
    "                x.left = helper(x.left, y.left)\n",
    "                x.right = helper(x.right, y.right)\n",
    "                return x\n",
    "            else:\n",
    "                return x or y\n",
    "        return helper(A, B)"
   ]
  },
  {
   "cell_type": "code",
   "execution_count": 8,
   "metadata": {},
   "outputs": [
    {
     "name": "stdout",
     "output_type": "stream",
     "text": [
      "  15_ \n",
      " /   \\\n",
      "17  15\n"
     ]
    }
   ],
   "source": [
    "A = formTree([12, 11, 14])\n",
    "B = formTree([3, 6, 1])\n",
    "\n",
    "sol = Solution()\n",
    "sol.solve(A, B).display()"
   ]
  }
 ],
 "metadata": {
  "kernelspec": {
   "display_name": "dsa-venv",
   "language": "python",
   "name": "python3"
  },
  "language_info": {
   "codemirror_mode": {
    "name": "ipython",
    "version": 3
   },
   "file_extension": ".py",
   "mimetype": "text/x-python",
   "name": "python",
   "nbconvert_exporter": "python",
   "pygments_lexer": "ipython3",
   "version": "3.11.3"
  }
 },
 "nbformat": 4,
 "nbformat_minor": 2
}
