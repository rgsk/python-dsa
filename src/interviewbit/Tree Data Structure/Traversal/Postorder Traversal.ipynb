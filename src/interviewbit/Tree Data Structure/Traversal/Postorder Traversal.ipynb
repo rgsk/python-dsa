{
 "cells": [
  {
   "cell_type": "code",
   "execution_count": 17,
   "metadata": {},
   "outputs": [],
   "source": [
    "# https://www.interviewbit.com/problems/postorder-traversal/"
   ]
  },
  {
   "cell_type": "code",
   "execution_count": 18,
   "metadata": {},
   "outputs": [],
   "source": [
    "import sys\n",
    "sys.path.append('../../..')\n",
    "\n",
    "from lib.TreeNode import *"
   ]
  },
  {
   "cell_type": "code",
   "execution_count": 19,
   "metadata": {},
   "outputs": [],
   "source": [
    "class Solution:\n",
    "    # @param A : root node of tree\n",
    "    # @return a list of integers\n",
    "    def postorderTraversal(self, A):\n",
    "        ans = []\n",
    "        st = []\n",
    "        temp = A\n",
    "        traversed = set()\n",
    "        while st or temp:\n",
    "            while temp:\n",
    "                st.append(temp)\n",
    "                temp = temp.left\n",
    "            temp = st[-1]\n",
    "            if temp in traversed:\n",
    "                ans.append(temp.val)\n",
    "                st.pop()\n",
    "                temp = None\n",
    "            else:\n",
    "                traversed.add(temp)\n",
    "                temp = temp.right\n",
    "            \n",
    "        return ans"
   ]
  },
  {
   "cell_type": "code",
   "execution_count": 20,
   "metadata": {},
   "outputs": [
    {
     "name": "stdout",
     "output_type": "stream",
     "text": [
      "  2__  \n",
      " /   \\ \n",
      " 1   4 \n",
      "/   / \\\n",
      "6  10 5\n"
     ]
    },
    {
     "data": {
      "text/plain": [
       "[6, 1, 10, 5, 4, 2]"
      ]
     },
     "execution_count": 20,
     "metadata": {},
     "output_type": "execute_result"
    }
   ],
   "source": [
    "A = formTree([2, 1, 4, 6, None, 10, 5])\n",
    "A.display()\n",
    "sol = Solution()\n",
    "sol.postorderTraversal(A)"
   ]
  }
 ],
 "metadata": {
  "kernelspec": {
   "display_name": "dsa-venv",
   "language": "python",
   "name": "python3"
  },
  "language_info": {
   "codemirror_mode": {
    "name": "ipython",
    "version": 3
   },
   "file_extension": ".py",
   "mimetype": "text/x-python",
   "name": "python",
   "nbconvert_exporter": "python",
   "pygments_lexer": "ipython3",
   "version": "3.11.3"
  }
 },
 "nbformat": 4,
 "nbformat_minor": 2
}
