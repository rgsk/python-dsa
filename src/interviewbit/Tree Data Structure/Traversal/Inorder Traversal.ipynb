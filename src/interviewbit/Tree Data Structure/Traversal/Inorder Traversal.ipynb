{
 "cells": [
  {
   "cell_type": "code",
   "execution_count": 5,
   "metadata": {},
   "outputs": [],
   "source": [
    "# https://www.interviewbit.com/problems/inorder-traversal/"
   ]
  },
  {
   "cell_type": "code",
   "execution_count": 6,
   "metadata": {},
   "outputs": [],
   "source": [
    "import sys\n",
    "sys.path.append('../../..')\n",
    "\n",
    "from lib.TreeNode import *"
   ]
  },
  {
   "cell_type": "code",
   "execution_count": 7,
   "metadata": {},
   "outputs": [],
   "source": [
    "class Solution:\n",
    "    # @param A : root node of tree\n",
    "    # @return a list of integers\n",
    "    def inorderTraversal(self, A):\n",
    "        ans = []\n",
    "        st = []\n",
    "        temp = A\n",
    "        while st or temp:\n",
    "            while temp:\n",
    "                st.append(temp)\n",
    "                temp = temp.left\n",
    "            temp = st.pop()\n",
    "            ans.append(temp.val)\n",
    "            temp = temp.right\n",
    "        return ans"
   ]
  },
  {
   "cell_type": "code",
   "execution_count": 8,
   "metadata": {},
   "outputs": [
    {
     "name": "stdout",
     "output_type": "stream",
     "text": [
      "  2__  \n",
      " /   \\ \n",
      " 1   4 \n",
      "/   / \\\n",
      "6  10 5\n"
     ]
    },
    {
     "data": {
      "text/plain": [
       "[6, 1, 2, 10, 4, 5]"
      ]
     },
     "execution_count": 8,
     "metadata": {},
     "output_type": "execute_result"
    }
   ],
   "source": [
    "A = formTree([2, 1, 4, 6, None, 10, 5])\n",
    "A.display()\n",
    "sol = Solution()\n",
    "sol.inorderTraversal(A)"
   ]
  }
 ],
 "metadata": {
  "kernelspec": {
   "display_name": "dsa-venv",
   "language": "python",
   "name": "python3"
  },
  "language_info": {
   "codemirror_mode": {
    "name": "ipython",
    "version": 3
   },
   "file_extension": ".py",
   "mimetype": "text/x-python",
   "name": "python",
   "nbconvert_exporter": "python",
   "pygments_lexer": "ipython3",
   "version": "3.11.3"
  }
 },
 "nbformat": 4,
 "nbformat_minor": 2
}
