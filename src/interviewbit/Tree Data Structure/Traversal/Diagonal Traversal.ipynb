{
 "cells": [
  {
   "cell_type": "code",
   "execution_count": 25,
   "metadata": {},
   "outputs": [],
   "source": [
    "# https://www.interviewbit.com/problems/diagonal-traversal/"
   ]
  },
  {
   "cell_type": "code",
   "execution_count": 26,
   "metadata": {},
   "outputs": [],
   "source": [
    "import sys\n",
    "sys.path.append('../../..')\n",
    "\n",
    "from lib.TreeNode import *"
   ]
  },
  {
   "cell_type": "code",
   "execution_count": 27,
   "metadata": {},
   "outputs": [],
   "source": [
    "class Solution:\n",
    "    # @param A : root node of tree\n",
    "    # @return a list of integers\n",
    "    def solve(self, A):\n",
    "        result = []\n",
    "        def helper(root, idx):\n",
    "            nonlocal result\n",
    "            if root:\n",
    "                if idx == len(result):\n",
    "                    result.append([])\n",
    "                result[idx].append(root.val)\n",
    "                helper(root.left, idx + 1)\n",
    "                helper(root.right, idx)\n",
    "        helper(A, 0)\n",
    "        ans = []\n",
    "        for row in result:\n",
    "            ans += row\n",
    "        return ans\n",
    "        "
   ]
  },
  {
   "cell_type": "code",
   "execution_count": 28,
   "metadata": {},
   "outputs": [
    {
     "name": "stdout",
     "output_type": "stream",
     "text": [
      "  _1_  \n",
      " /   \\ \n",
      " 2   3 \n",
      "/ \\ / \\\n",
      "4 5 6 7\n"
     ]
    },
    {
     "data": {
      "text/plain": [
       "[1, 3, 7, 2, 5, 6, 4]"
      ]
     },
     "execution_count": 28,
     "metadata": {},
     "output_type": "execute_result"
    }
   ],
   "source": [
    "A = formTree([1, 2, 3, 4, 5, 6, 7])\n",
    "A.display()\n",
    "sol = Solution()\n",
    "sol.solve(A)"
   ]
  }
 ],
 "metadata": {
  "kernelspec": {
   "display_name": "dsa-venv",
   "language": "python",
   "name": "python3"
  },
  "language_info": {
   "codemirror_mode": {
    "name": "ipython",
    "version": 3
   },
   "file_extension": ".py",
   "mimetype": "text/x-python",
   "name": "python",
   "nbconvert_exporter": "python",
   "pygments_lexer": "ipython3",
   "version": "3.11.3"
  }
 },
 "nbformat": 4,
 "nbformat_minor": 2
}
