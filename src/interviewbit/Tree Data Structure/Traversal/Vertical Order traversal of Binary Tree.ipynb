{
 "cells": [
  {
   "cell_type": "code",
   "execution_count": 45,
   "metadata": {},
   "outputs": [],
   "source": [
    "# https://www.interviewbit.com/problems/vertical-order-traversal-of-binary-tree/"
   ]
  },
  {
   "cell_type": "code",
   "execution_count": 46,
   "metadata": {},
   "outputs": [],
   "source": [
    "import sys\n",
    "sys.path.append('../../..')\n",
    "\n",
    "from lib.TreeNode import *"
   ]
  },
  {
   "cell_type": "code",
   "execution_count": 47,
   "metadata": {},
   "outputs": [],
   "source": [
    "from collections import deque\n",
    "\n",
    "class Solution:\n",
    "    # @param A : root node of tree\n",
    "    # @return a list of list of integers\n",
    "    def verticalOrderTraversal(self, A):\n",
    "        if not A:\n",
    "            return []\n",
    "        lo = []\n",
    "        q = deque()\n",
    "        q.append((A, 0))\n",
    "        while q:\n",
    "            last, idx = q.popleft()\n",
    "            lo.append((last.val, idx))\n",
    "            if last.left:\n",
    "                q.append((last.left, idx - 1))\n",
    "            if last.right:\n",
    "                q.append((last.right, idx + 1))\n",
    "        min_idx = lo[0][1]\n",
    "        max_idx = lo[0][1]\n",
    "        for i in range(1, len(lo)):\n",
    "            min_idx = min(min_idx, lo[i][1])\n",
    "            max_idx = max(max_idx, lo[i][1])\n",
    "        abs_min_idx = abs(min_idx)\n",
    "        ans = [[] for _ in range(max_idx - min_idx + 1)]\n",
    "        for v, i in lo:\n",
    "            ans[i + abs_min_idx].append(v)\n",
    "        return ans\n"
   ]
  },
  {
   "cell_type": "code",
   "execution_count": 48,
   "metadata": {},
   "outputs": [
    {
     "name": "stdout",
     "output_type": "stream",
     "text": [
      "  _6  \n",
      " /  \\ \n",
      " 3  7 \n",
      "/ \\  \\\n",
      "2 5  9\n"
     ]
    },
    {
     "data": {
      "text/plain": [
       "[[2], [3], [6, 5], [7], [9]]"
      ]
     },
     "execution_count": 48,
     "metadata": {},
     "output_type": "execute_result"
    }
   ],
   "source": [
    "A = TreeNode(6, TreeNode(3, TreeNode(2), TreeNode(5)), TreeNode(7, None, TreeNode(9)))\n",
    "A.display()\n",
    "sol = Solution()\n",
    "sol.verticalOrderTraversal(A)"
   ]
  }
 ],
 "metadata": {
  "kernelspec": {
   "display_name": "dsa-venv",
   "language": "python",
   "name": "python3"
  },
  "language_info": {
   "codemirror_mode": {
    "name": "ipython",
    "version": 3
   },
   "file_extension": ".py",
   "mimetype": "text/x-python",
   "name": "python",
   "nbconvert_exporter": "python",
   "pygments_lexer": "ipython3",
   "version": "3.11.3"
  }
 },
 "nbformat": 4,
 "nbformat_minor": 2
}
