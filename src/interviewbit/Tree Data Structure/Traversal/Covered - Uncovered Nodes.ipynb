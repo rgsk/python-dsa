{
 "cells": [
  {
   "cell_type": "code",
   "execution_count": 21,
   "metadata": {},
   "outputs": [],
   "source": [
    "# https://www.interviewbit.com/problems/covered-uncovered-nodes/"
   ]
  },
  {
   "cell_type": "code",
   "execution_count": 22,
   "metadata": {},
   "outputs": [],
   "source": [
    "import sys\n",
    "sys.path.append('../../..')\n",
    "\n",
    "from lib.TreeNode import *"
   ]
  },
  {
   "cell_type": "code",
   "execution_count": 23,
   "metadata": {},
   "outputs": [],
   "source": [
    "from collections import deque\n",
    "\n",
    "def level_order(root):\n",
    "    traversal = []\n",
    "    q = deque()\n",
    "    q.append(root)\n",
    "    while q:\n",
    "        cur_level = []\n",
    "        for _ in range(len(q)):\n",
    "            node = q.popleft()\n",
    "            cur_level.append(node.val)\n",
    "            if node.left:\n",
    "                q.append(node.left)\n",
    "            if node.right:\n",
    "                q.append(node.right)\n",
    "        traversal.append(cur_level)\n",
    "    return traversal\n",
    "\n",
    "class Solution:\n",
    "    # @param A : root node of tree\n",
    "     # @return an long\n",
    "    def coveredNodes(self, A):\n",
    "        lo = level_order(A)\n",
    "        coveredSum = 0\n",
    "        uncoveredSum = 0\n",
    "        for row in lo:\n",
    "            if len(row) > 1:\n",
    "                uncoveredSum += row[0] + row[-1]\n",
    "            else:\n",
    "                uncoveredSum += row[0]\n",
    "            for i in range(1, len(row)-1):\n",
    "                coveredSum += row[i]\n",
    "        return abs(coveredSum - uncoveredSum)"
   ]
  },
  {
   "cell_type": "code",
   "execution_count": 24,
   "metadata": {},
   "outputs": [
    {
     "name": "stdout",
     "output_type": "stream",
     "text": [
      "  2__  \n",
      " /   \\ \n",
      " 1   4 \n",
      "/   / \\\n",
      "6  10 5\n"
     ]
    },
    {
     "data": {
      "text/plain": [
       "8"
      ]
     },
     "execution_count": 24,
     "metadata": {},
     "output_type": "execute_result"
    }
   ],
   "source": [
    "A = formTree([2, 1, 4, 6, None, 10, 5])\n",
    "A.display()\n",
    "sol = Solution()\n",
    "sol.coveredNodes(A)"
   ]
  }
 ],
 "metadata": {
  "kernelspec": {
   "display_name": "dsa-venv",
   "language": "python",
   "name": "python3"
  },
  "language_info": {
   "codemirror_mode": {
    "name": "ipython",
    "version": 3
   },
   "file_extension": ".py",
   "mimetype": "text/x-python",
   "name": "python",
   "nbconvert_exporter": "python",
   "pygments_lexer": "ipython3",
   "version": "3.11.3"
  }
 },
 "nbformat": 4,
 "nbformat_minor": 2
}
