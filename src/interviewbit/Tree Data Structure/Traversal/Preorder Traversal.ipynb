{
 "cells": [
  {
   "cell_type": "code",
   "execution_count": 29,
   "metadata": {},
   "outputs": [],
   "source": [
    "# https://www.interviewbit.com/problems/preorder-traversal/"
   ]
  },
  {
   "cell_type": "code",
   "execution_count": 30,
   "metadata": {},
   "outputs": [],
   "source": [
    "import sys\n",
    "sys.path.append('../../..')\n",
    "\n",
    "from lib.TreeNode import *"
   ]
  },
  {
   "cell_type": "code",
   "execution_count": 31,
   "metadata": {},
   "outputs": [],
   "source": [
    "class Solution:\n",
    "    # @param A : root node of tree\n",
    "    # @return a list of integers\n",
    "    def preorderTraversal(self, A):\n",
    "        ans = []\n",
    "        st = []\n",
    "        temp = A\n",
    "        while st or temp:\n",
    "            while temp:\n",
    "                st.append(temp)\n",
    "                ans.append(temp.val)\n",
    "                temp = temp.left\n",
    "            temp = st.pop()\n",
    "            temp = temp.right\n",
    "        return ans"
   ]
  },
  {
   "cell_type": "code",
   "execution_count": 32,
   "metadata": {},
   "outputs": [
    {
     "name": "stdout",
     "output_type": "stream",
     "text": [
      "  2__  \n",
      " /   \\ \n",
      " 1   4 \n",
      "/   / \\\n",
      "6  10 5\n"
     ]
    },
    {
     "data": {
      "text/plain": [
       "[2, 1, 6]"
      ]
     },
     "execution_count": 32,
     "metadata": {},
     "output_type": "execute_result"
    }
   ],
   "source": [
    "A = formTree([2, 1, 4, 6, None, 10, 5])\n",
    "A.display()\n",
    "sol = Solution()\n",
    "sol.preorderTraversal(A)"
   ]
  }
 ],
 "metadata": {
  "kernelspec": {
   "display_name": "dsa-venv",
   "language": "python",
   "name": "python3"
  },
  "language_info": {
   "codemirror_mode": {
    "name": "ipython",
    "version": 3
   },
   "file_extension": ".py",
   "mimetype": "text/x-python",
   "name": "python",
   "nbconvert_exporter": "python",
   "pygments_lexer": "ipython3",
   "version": "3.11.3"
  }
 },
 "nbformat": 4,
 "nbformat_minor": 2
}
