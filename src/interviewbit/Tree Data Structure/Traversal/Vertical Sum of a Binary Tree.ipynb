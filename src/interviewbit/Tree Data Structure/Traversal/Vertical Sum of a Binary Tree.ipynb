{
 "cells": [
  {
   "cell_type": "code",
   "execution_count": 21,
   "metadata": {},
   "outputs": [],
   "source": [
    "# https://www.interviewbit.com/problems/vertical-sum-of-a-binary-tree/"
   ]
  },
  {
   "cell_type": "code",
   "execution_count": 22,
   "metadata": {},
   "outputs": [],
   "source": [
    "import sys\n",
    "sys.path.append('../../..')\n",
    "\n",
    "from lib.TreeNode import *"
   ]
  },
  {
   "cell_type": "code",
   "execution_count": 23,
   "metadata": {},
   "outputs": [],
   "source": [
    "from collections import defaultdict\n",
    "\n",
    "\n",
    "class Solution:\n",
    "    # @param A : root node of tree\n",
    "    # @return a list of integers\n",
    "    def verticalSum(self, A):\n",
    "        mp = defaultdict(int)\n",
    "        def helper(root, idx):\n",
    "            if root:\n",
    "                mp[idx] += root.val\n",
    "                helper(root.left, idx - 1)\n",
    "                helper(root.right, idx + 1)\n",
    "        helper(A, 0)\n",
    "        keys = mp.keys()\n",
    "        min_key = min(keys)\n",
    "        max_key = max(keys)\n",
    "        abs_min_key = abs(min_key)\n",
    "        ans = [0] * (max_key - min_key + 1)\n",
    "        for i in range(min_key, max_key + 1):\n",
    "            ans[i + abs_min_key] = mp[i]\n",
    "        return ans"
   ]
  },
  {
   "cell_type": "code",
   "execution_count": 24,
   "metadata": {},
   "outputs": [
    {
     "data": {
      "text/plain": [
       "[4, 2, 12, 3, 7]"
      ]
     },
     "execution_count": 24,
     "metadata": {},
     "output_type": "execute_result"
    }
   ],
   "source": [
    "A = formTree([1, 2, 3, 4, 5, 6, 7])\n",
    "sol = Solution()\n",
    "sol.verticalSum(A)"
   ]
  }
 ],
 "metadata": {
  "kernelspec": {
   "display_name": "dsa-venv",
   "language": "python",
   "name": "python3"
  },
  "language_info": {
   "codemirror_mode": {
    "name": "ipython",
    "version": 3
   },
   "file_extension": ".py",
   "mimetype": "text/x-python",
   "name": "python",
   "nbconvert_exporter": "python",
   "pygments_lexer": "ipython3",
   "version": "3.11.3"
  }
 },
 "nbformat": 4,
 "nbformat_minor": 2
}
