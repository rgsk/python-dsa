{
 "cells": [
  {
   "cell_type": "code",
   "execution_count": 18,
   "metadata": {},
   "outputs": [],
   "source": [
    "# https://youtube.com/watch?v=khddrw6Bfyw\n",
    "\n",
    "# works but inefficient\n",
    "class Solution:\n",
    "    # @param A : list of integers\n",
    "    # @param B : list of integers\n",
    "    # @return a list of integers\n",
    "    def order(self, A, B):\n",
    "        arr = []\n",
    "        for x, y in zip(A, B):\n",
    "            arr.append((x, y))\n",
    "        arr.sort()\n",
    "        actual_postions = [-1 for _ in range(len(A))]\n",
    "        for height, front_count in arr:\n",
    "            remaining_greater = front_count\n",
    "            i = 0\n",
    "            while remaining_greater > 0:\n",
    "                if actual_postions[i] == -1 or actual_postions[i] >= height:\n",
    "                    remaining_greater -= 1\n",
    "                i += 1\n",
    "            while actual_postions[i] != -1:\n",
    "                i += 1\n",
    "            actual_postions[i] = height\n",
    "        return actual_postions"
   ]
  },
  {
   "cell_type": "code",
   "execution_count": 19,
   "metadata": {},
   "outputs": [],
   "source": [
    "class Solution:\n",
    "    # @param A : list of integers\n",
    "    # @param B : list of integers\n",
    "    # @return a list of integers\n",
    "    def order(self, A, B):\n",
    "        people = []\n",
    "        for x, y in zip(A, B):\n",
    "            people.append((x, y))\n",
    "        people.sort()\n",
    "        # sort the people from tall to short\n",
    "        # insert from tall to short (insert at index = p[1])\n",
    "        people.sort(key=lambda p: (-p[0], p[1]))\n",
    "        res = []\n",
    "        for p in people:\n",
    "            res.insert(p[1], p[0])\n",
    "        return res"
   ]
  },
  {
   "cell_type": "code",
   "execution_count": 20,
   "metadata": {},
   "outputs": [
    {
     "data": {
      "text/plain": [
       "[5, 3, 2, 1, 6, 4]"
      ]
     },
     "execution_count": 20,
     "metadata": {},
     "output_type": "execute_result"
    }
   ],
   "source": [
    "Heights = [5, 3, 2, 6, 1, 4]\n",
    "InFronts = [0, 1, 2, 0, 3, 2]\n",
    "\n",
    "sol = Solution()\n",
    "sol.order(Heights, InFronts)"
   ]
  }
 ],
 "metadata": {
  "kernelspec": {
   "display_name": "dsa-venv",
   "language": "python",
   "name": "python3"
  },
  "language_info": {
   "codemirror_mode": {
    "name": "ipython",
    "version": 3
   },
   "file_extension": ".py",
   "mimetype": "text/x-python",
   "name": "python",
   "nbconvert_exporter": "python",
   "pygments_lexer": "ipython3",
   "version": "3.11.3"
  }
 },
 "nbformat": 4,
 "nbformat_minor": 2
}
