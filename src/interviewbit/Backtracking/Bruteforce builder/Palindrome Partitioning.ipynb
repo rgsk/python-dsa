{
 "cells": [
  {
   "cell_type": "code",
   "execution_count": 16,
   "metadata": {},
   "outputs": [],
   "source": [
    "def isPalindrome(s, i, j):\n",
    "    while i < j:\n",
    "        if s[i] != s[j]:\n",
    "            return False\n",
    "        i += 1\n",
    "        j -= 1\n",
    "    return True\n",
    "\n",
    "class Solution:\n",
    "    # @param A : string\n",
    "    # @return a list of list of strings\n",
    "    def partition(self, A):\n",
    "        n = len(A)\n",
    "        ans = []\n",
    "        def helper(i, cur):\n",
    "            if i == n:\n",
    "                ans.append(cur)\n",
    "                return\n",
    "            for j in range(i + 1, n + 1):\n",
    "                if isPalindrome(A, i, j - 1):\n",
    "                    helper(j, cur + [A[i:j]])\n",
    "        helper(0, [])\n",
    "        return ans"
   ]
  },
  {
   "cell_type": "code",
   "execution_count": 17,
   "metadata": {},
   "outputs": [
    {
     "data": {
      "text/plain": [
       "[['a', 'a', 'b'], ['aa', 'b']]"
      ]
     },
     "execution_count": 17,
     "metadata": {},
     "output_type": "execute_result"
    }
   ],
   "source": [
    "A = \"aab\"\n",
    "sol = Solution()\n",
    "sol.partition(A)"
   ]
  },
  {
   "cell_type": "code",
   "execution_count": 18,
   "metadata": {},
   "outputs": [
    {
     "data": {
      "text/plain": [
       "[['a', 'b', 'c', 'd', 'c', 'b', 'a'],\n",
       " ['a', 'b', 'cdc', 'b', 'a'],\n",
       " ['a', 'bcdcb', 'a'],\n",
       " ['abcdcba']]"
      ]
     },
     "execution_count": 18,
     "metadata": {},
     "output_type": "execute_result"
    }
   ],
   "source": [
    "A = \"abcdcba\"\n",
    "sol = Solution()\n",
    "sol.partition(A)"
   ]
  }
 ],
 "metadata": {
  "kernelspec": {
   "display_name": "dsa-venv",
   "language": "python",
   "name": "python3"
  },
  "language_info": {
   "codemirror_mode": {
    "name": "ipython",
    "version": 3
   },
   "file_extension": ".py",
   "mimetype": "text/x-python",
   "name": "python",
   "nbconvert_exporter": "python",
   "pygments_lexer": "ipython3",
   "version": "3.11.3"
  },
  "orig_nbformat": 4
 },
 "nbformat": 4,
 "nbformat_minor": 2
}
