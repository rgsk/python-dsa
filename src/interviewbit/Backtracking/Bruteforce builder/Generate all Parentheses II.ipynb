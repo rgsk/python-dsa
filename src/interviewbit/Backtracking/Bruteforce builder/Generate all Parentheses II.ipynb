{
 "cells": [
  {
   "cell_type": "code",
   "execution_count": 1,
   "metadata": {},
   "outputs": [],
   "source": [
    "class Solution:\n",
    "    # @param A : integer\n",
    "    # @return a list of strings\n",
    "    def generateParenthesis(self, A):\n",
    "        ans = []\n",
    "        def helper(openingRemaining, closingRemaining, cur):\n",
    "            if closingRemaining == 0:\n",
    "                ans.append(cur)\n",
    "                return\n",
    "            if openingRemaining > 0:\n",
    "                helper(openingRemaining - 1, closingRemaining, cur + '(')\n",
    "            if closingRemaining > openingRemaining:\n",
    "                helper(openingRemaining, closingRemaining - 1, cur + ')')\n",
    "        helper(A, A, '')\n",
    "        return ans"
   ]
  },
  {
   "cell_type": "code",
   "execution_count": 2,
   "metadata": {},
   "outputs": [
    {
     "data": {
      "text/plain": [
       "['((()))', '(()())', '(())()', '()(())', '()()()']"
      ]
     },
     "execution_count": 2,
     "metadata": {},
     "output_type": "execute_result"
    }
   ],
   "source": [
    "A = 3\n",
    "sol = Solution()\n",
    "sol.generateParenthesis(A)"
   ]
  }
 ],
 "metadata": {
  "kernelspec": {
   "display_name": "dsa-venv",
   "language": "python",
   "name": "python3"
  },
  "language_info": {
   "codemirror_mode": {
    "name": "ipython",
    "version": 3
   },
   "file_extension": ".py",
   "mimetype": "text/x-python",
   "name": "python",
   "nbconvert_exporter": "python",
   "pygments_lexer": "ipython3",
   "version": "3.11.3"
  },
  "orig_nbformat": 4
 },
 "nbformat": 4,
 "nbformat_minor": 2
}
