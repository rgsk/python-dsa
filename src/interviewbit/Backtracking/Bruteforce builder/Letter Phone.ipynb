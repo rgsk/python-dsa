{
 "cells": [
  {
   "cell_type": "code",
   "execution_count": 1,
   "metadata": {},
   "outputs": [],
   "source": [
    "# code from \"All Possible Combinations.ipynb\"\n",
    "def specialStrings(A):\n",
    "    n = len(A)\n",
    "    ans = []\n",
    "    def helper(i, combination):\n",
    "        if i == n:\n",
    "            ans.append(combination)\n",
    "            return\n",
    "        for c in A[i]:\n",
    "            helper(i + 1, combination + c)\n",
    "    helper(0, '')\n",
    "    return ans\n",
    "\n",
    "class Solution:\n",
    "    # @param A : string\n",
    "    # @return a list of strings\n",
    "    def letterCombinations(self, A):\n",
    "        table={1:[\"1\"],0:[\"0\"],2:[\"a\",\"b\",\"c\"],3:[\"d\",\"e\",\"f\"],4:[\"g\",\"h\",\"i\"],5:[\"j\",\"k\",\"l\"],6:[\"m\",\"n\",\"o\"],\n",
    "                    7:[\"p\",\"q\",\"r\",\"s\"],8:[\"t\",\"u\",\"v\"],9:[\"w\",\"x\",\"y\",\"z\"]    }\n",
    "        used = []\n",
    "        for d in A:\n",
    "            digit = int(d)\n",
    "            used.append(table[digit])\n",
    "        return specialStrings(used)"
   ]
  },
  {
   "cell_type": "code",
   "execution_count": 2,
   "metadata": {},
   "outputs": [
    {
     "data": {
      "text/plain": [
       "['ad', 'ae', 'af', 'bd', 'be', 'bf', 'cd', 'ce', 'cf']"
      ]
     },
     "execution_count": 2,
     "metadata": {},
     "output_type": "execute_result"
    }
   ],
   "source": [
    "A = '23'\n",
    "sol = Solution()\n",
    "sol.letterCombinations(A)"
   ]
  }
 ],
 "metadata": {
  "kernelspec": {
   "display_name": "dsa-venv",
   "language": "python",
   "name": "python3"
  },
  "language_info": {
   "codemirror_mode": {
    "name": "ipython",
    "version": 3
   },
   "file_extension": ".py",
   "mimetype": "text/x-python",
   "name": "python",
   "nbconvert_exporter": "python",
   "pygments_lexer": "ipython3",
   "version": "3.11.3"
  },
  "orig_nbformat": 4
 },
 "nbformat": 4,
 "nbformat_minor": 2
}
