{
 "cells": [
  {
   "cell_type": "code",
   "execution_count": 16,
   "metadata": {},
   "outputs": [],
   "source": [
    "class Solution:\n",
    "    # @param A : list of integers\n",
    "    # @return a list of list of integers\n",
    "    def subsets(self, A):\n",
    "        A.sort()\n",
    "        ans = []\n",
    "        n = len(A)\n",
    "        def helper(i, cur):\n",
    "            if i == n:\n",
    "                ans.append(cur)\n",
    "                return\n",
    "            helper(i + 1, cur + [A[i]])\n",
    "            helper(i + 1, cur)\n",
    "        helper(0, [])\n",
    "        return sorted(ans)\n",
    "            "
   ]
  },
  {
   "cell_type": "code",
   "execution_count": 17,
   "metadata": {},
   "outputs": [],
   "source": [
    "class Solution:\n",
    "    # @param A : list of integers\n",
    "    # @return a list of list of integers\n",
    "    def subsets(self, A):\n",
    "        A.sort()\n",
    "        ans = []\n",
    "        n = len(A)\n",
    "        def helper(i, cur):\n",
    "            if i == n:\n",
    "                ans.append(cur.copy())\n",
    "                return\n",
    "            cur.append(A[i])\n",
    "            helper(i + 1, cur)\n",
    "            cur.pop()\n",
    "            helper(i + 1, cur)\n",
    "        helper(0, [])\n",
    "        return sorted(ans)\n",
    "            "
   ]
  },
  {
   "cell_type": "code",
   "execution_count": 18,
   "metadata": {},
   "outputs": [
    {
     "data": {
      "text/plain": [
       "[[], [1], [1, 2], [1, 2, 3], [1, 3], [2], [2, 3], [3]]"
      ]
     },
     "execution_count": 18,
     "metadata": {},
     "output_type": "execute_result"
    }
   ],
   "source": [
    "A = [1, 2, 3]\n",
    "sol = Solution()\n",
    "sol.subsets(A)"
   ]
  }
 ],
 "metadata": {
  "kernelspec": {
   "display_name": "dsa-venv",
   "language": "python",
   "name": "python3"
  },
  "language_info": {
   "codemirror_mode": {
    "name": "ipython",
    "version": 3
   },
   "file_extension": ".py",
   "mimetype": "text/x-python",
   "name": "python",
   "nbconvert_exporter": "python",
   "pygments_lexer": "ipython3",
   "version": "3.11.3"
  },
  "orig_nbformat": 4
 },
 "nbformat": 4,
 "nbformat_minor": 2
}
