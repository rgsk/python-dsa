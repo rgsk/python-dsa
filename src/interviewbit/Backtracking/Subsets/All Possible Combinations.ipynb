{
 "cells": [
  {
   "cell_type": "code",
   "execution_count": 6,
   "metadata": {},
   "outputs": [],
   "source": [
    "class Solution:\n",
    "    # @param A : list of strings\n",
    "    # @return a list of strings\n",
    "    def specialStrings(self, A):\n",
    "        n = len(A)\n",
    "        ans = []\n",
    "        def helper(i, combination):\n",
    "            if i == n:\n",
    "                ans.append(combination)\n",
    "                return\n",
    "            for c in A[i]:\n",
    "                helper(i + 1, combination + c)\n",
    "        helper(0, '')\n",
    "        return ans"
   ]
  },
  {
   "cell_type": "code",
   "execution_count": 7,
   "metadata": {},
   "outputs": [
    {
     "data": {
      "text/plain": [
       "['ac', 'ad', 'bc', 'bd']"
      ]
     },
     "execution_count": 7,
     "metadata": {},
     "output_type": "execute_result"
    }
   ],
   "source": [
    "A = ['ab', 'cd']\n",
    "sol = Solution()\n",
    "sol.specialStrings(A) # ['ac', 'ad', 'bc', 'bd']"
   ]
  },
  {
   "cell_type": "code",
   "execution_count": 8,
   "metadata": {},
   "outputs": [
    {
     "data": {
      "text/plain": [
       "['ace', 'acf', 'ade', 'adf', 'bce', 'bcf', 'bde', 'bdf']"
      ]
     },
     "execution_count": 8,
     "metadata": {},
     "output_type": "execute_result"
    }
   ],
   "source": [
    "A = ['ab', 'cd', 'ef']\n",
    "sol = Solution()\n",
    "sol.specialStrings(A) # ['ac', 'ad', 'bc', 'bd']"
   ]
  },
  {
   "cell_type": "code",
   "execution_count": 9,
   "metadata": {},
   "outputs": [
    {
     "data": {
      "text/plain": [
       "['ab', 'ab', 'ab', 'ab']"
      ]
     },
     "execution_count": 9,
     "metadata": {},
     "output_type": "execute_result"
    }
   ],
   "source": [
    "A = ['aa', 'bb']\n",
    "sol = Solution()\n",
    "sol.specialStrings(A) # ['ab', 'ab', 'ab', 'ab']"
   ]
  }
 ],
 "metadata": {
  "kernelspec": {
   "display_name": "dsa-venv",
   "language": "python",
   "name": "python3"
  },
  "language_info": {
   "codemirror_mode": {
    "name": "ipython",
    "version": 3
   },
   "file_extension": ".py",
   "mimetype": "text/x-python",
   "name": "python",
   "nbconvert_exporter": "python",
   "pygments_lexer": "ipython3",
   "version": "3.11.3"
  },
  "orig_nbformat": 4
 },
 "nbformat": 4,
 "nbformat_minor": 2
}
