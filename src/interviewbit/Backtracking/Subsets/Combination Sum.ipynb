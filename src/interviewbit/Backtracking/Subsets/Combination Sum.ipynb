{
 "cells": [
  {
   "cell_type": "code",
   "execution_count": 77,
   "metadata": {},
   "outputs": [],
   "source": [
    "class Solution:\n",
    "    # @param A : list of integers\n",
    "    # @param B : integer\n",
    "    # @return a list of list of integers\n",
    "    def combinationSum(self, A, B):\n",
    "        A.sort()\n",
    "        n = len(A)\n",
    "        ans = []\n",
    "        def helper(i, remaining, cur):\n",
    "            if i == n:\n",
    "                if remaining == 0:\n",
    "                    if cur not in ans:\n",
    "                        ans.append(cur)\n",
    "                return\n",
    "            if A[i] <= remaining:\n",
    "                helper(i, remaining - A[i], cur + [A[i]])\n",
    "            helper(i + 1, remaining, cur)\n",
    "        helper(0, B, [])\n",
    "        return ans"
   ]
  },
  {
   "cell_type": "code",
   "execution_count": 78,
   "metadata": {},
   "outputs": [],
   "source": [
    "class Solution:\n",
    "    # @param A : list of integers\n",
    "    # @param B : integer\n",
    "    # @return a list of list of integers\n",
    "    def combinationSum(self, A, B):\n",
    "        A.sort()\n",
    "        n = len(A)\n",
    "        ans = []\n",
    "        def helper(i, remaining, cur):\n",
    "            if i == n:\n",
    "                if remaining == 0:\n",
    "                    ans.append(cur)\n",
    "                return\n",
    "            \n",
    "\n",
    "            if i == 0 or A[i] != A[i-1]: \n",
    "                # this condition is imporant  that removes the need for\n",
    "                # checking whether combination exists or not\n",
    "                if A[i] <= remaining:\n",
    "                    helper(i, remaining - A[i], cur + [A[i]])\n",
    "            helper(i + 1, remaining, cur)\n",
    "        helper(0, B, [])\n",
    "        return ans"
   ]
  },
  {
   "cell_type": "code",
   "execution_count": 79,
   "metadata": {},
   "outputs": [],
   "source": [
    "class Solution:\n",
    "    # @param A : list of integers\n",
    "    # @param B : integer\n",
    "    # @return a list of list of integers\n",
    "    def combinationSum(self, A, B):\n",
    "        A.sort()\n",
    "        n = len(A)\n",
    "        ans = []\n",
    "        def helper(i, remaining, cur):\n",
    "            if i == n:\n",
    "                if remaining == 0:\n",
    "                    ans.append(cur[:])\n",
    "                return\n",
    "\n",
    "            if i == 0 or A[i] != A[i-1]: \n",
    "                # this condition is imporant  that removes the need for\n",
    "                # checking whether combination exists or not\n",
    "                if A[i] <= remaining:\n",
    "                    # here we save some space by operating on the same array\n",
    "                    # until array with required sum target is found\n",
    "                    cur.append(A[i])\n",
    "                    helper(i, remaining - A[i], cur)\n",
    "                    cur.pop()\n",
    "            helper(i + 1, remaining, cur)\n",
    "        helper(0, B, [])\n",
    "        return ans"
   ]
  },
  {
   "cell_type": "code",
   "execution_count": 80,
   "metadata": {},
   "outputs": [],
   "source": [
    "class Solution:\n",
    "    # @param A : list of integers\n",
    "    # @param B : integer\n",
    "    # @return a list of list of integers\n",
    "    def combinationSum(self, A, B):\n",
    "        A.sort()\n",
    "        n = len(A)\n",
    "        ans = []\n",
    "        def helper(i, remaining, cur):\n",
    "            if i == n:\n",
    "                if remaining == 0:\n",
    "                    ans.append(cur[:])\n",
    "                return\n",
    "\n",
    "            if i == 0 or A[i] != A[i-1]: \n",
    "                if A[i] <= remaining:\n",
    "                    cur.append(A[i])\n",
    "                    helper(i, remaining - A[i], cur)\n",
    "                    cur.pop()\n",
    "            if A[i] <= remaining or remaining == 0:        \n",
    "                # here we optimise further\n",
    "                # because we have sorted A at the start \n",
    "                # calling for next elements is not necessary\n",
    "                # they will be greater than remaining\n",
    "                helper(i + 1, remaining, cur)\n",
    "        helper(0, B, [])\n",
    "        return ans"
   ]
  },
  {
   "cell_type": "code",
   "execution_count": 81,
   "metadata": {},
   "outputs": [
    {
     "data": {
      "text/plain": [
       "[[2, 2, 3], [7]]"
      ]
     },
     "execution_count": 81,
     "metadata": {},
     "output_type": "execute_result"
    }
   ],
   "source": [
    "A = [2, 3, 6, 7]\n",
    "B = 7\n",
    "sol = Solution()\n",
    "sol.combinationSum(A, B)"
   ]
  },
  {
   "cell_type": "code",
   "execution_count": 82,
   "metadata": {},
   "outputs": [
    {
     "data": {
      "text/plain": [
       "[[2, 2, 3], [7]]"
      ]
     },
     "execution_count": 82,
     "metadata": {},
     "output_type": "execute_result"
    }
   ],
   "source": [
    "A = [2, 2, 3, 6, 7]\n",
    "B = 7\n",
    "sol = Solution()\n",
    "sol.combinationSum(A, B)"
   ]
  }
 ],
 "metadata": {
  "kernelspec": {
   "display_name": "dsa-venv",
   "language": "python",
   "name": "python3"
  },
  "language_info": {
   "codemirror_mode": {
    "name": "ipython",
    "version": 3
   },
   "file_extension": ".py",
   "mimetype": "text/x-python",
   "name": "python",
   "nbconvert_exporter": "python",
   "pygments_lexer": "ipython3",
   "version": "3.11.3"
  },
  "orig_nbformat": 4
 },
 "nbformat": 4,
 "nbformat_minor": 2
}
