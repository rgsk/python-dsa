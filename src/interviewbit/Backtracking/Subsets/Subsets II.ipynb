{
 "cells": [
  {
   "cell_type": "code",
   "execution_count": 9,
   "metadata": {},
   "outputs": [],
   "source": [
    "class Solution:\n",
    "    # @param A : list of integers\n",
    "    # @return a list of list of integers\n",
    "    def subsetsWithDup(self, A):\n",
    "        A.sort() \n",
    "        n = len(A)                     \n",
    "        result = []\n",
    "        def helper(start, path):\n",
    "            result.append(path)\n",
    "            for i in range(start, n):\n",
    "                if i > start and A[i] == A[i-1]:\n",
    "                    continue\n",
    "                helper(i + 1, path + [A[i]])\n",
    "        helper(0, [])\n",
    "        return result"
   ]
  },
  {
   "cell_type": "code",
   "execution_count": 10,
   "metadata": {},
   "outputs": [
    {
     "data": {
      "text/plain": [
       "[[], [1], [1, 2], [1, 2, 2], [2], [2, 2]]"
      ]
     },
     "execution_count": 10,
     "metadata": {},
     "output_type": "execute_result"
    }
   ],
   "source": [
    "S = [1,2,2]\n",
    "sol = Solution()\n",
    "sol.subsetsWithDup(S)"
   ]
  }
 ],
 "metadata": {
  "kernelspec": {
   "display_name": "dsa-venv",
   "language": "python",
   "name": "python3"
  },
  "language_info": {
   "codemirror_mode": {
    "name": "ipython",
    "version": 3
   },
   "file_extension": ".py",
   "mimetype": "text/x-python",
   "name": "python",
   "nbconvert_exporter": "python",
   "pygments_lexer": "ipython3",
   "version": "3.11.3"
  },
  "orig_nbformat": 4
 },
 "nbformat": 4,
 "nbformat_minor": 2
}
