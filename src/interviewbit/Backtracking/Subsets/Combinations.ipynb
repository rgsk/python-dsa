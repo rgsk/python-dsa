{
 "cells": [
  {
   "cell_type": "code",
   "execution_count": 45,
   "metadata": {},
   "outputs": [],
   "source": [
    "class Solution:\n",
    "    # @param A : integer\n",
    "    # @param B : integer\n",
    "    # @return a list of list of integers\n",
    "    def combine(self, A, B):\n",
    "        A = list(range(1, A + 1))\n",
    "        n = len(A)\n",
    "        ans = []\n",
    "        def helper(i, cur):\n",
    "            if len(cur) == B:\n",
    "                ans.append(cur[:])\n",
    "                return\n",
    "            if i == n:\n",
    "                return\n",
    "            cur.append(A[i])\n",
    "            helper(i + 1, cur)\n",
    "            cur.pop()\n",
    "            helper(i + 1, cur)\n",
    "        helper(0, [])\n",
    "        return ans"
   ]
  },
  {
   "cell_type": "code",
   "execution_count": 46,
   "metadata": {},
   "outputs": [
    {
     "data": {
      "text/plain": [
       "[[1, 2], [1, 3], [1, 4], [2, 3], [2, 4], [3, 4]]"
      ]
     },
     "execution_count": 46,
     "metadata": {},
     "output_type": "execute_result"
    }
   ],
   "source": [
    "A = 4\n",
    "B = 2\n",
    "sol = Solution()\n",
    "sol.combine(A, B)"
   ]
  }
 ],
 "metadata": {
  "kernelspec": {
   "display_name": "dsa-venv",
   "language": "python",
   "name": "python3"
  },
  "language_info": {
   "codemirror_mode": {
    "name": "ipython",
    "version": 3
   },
   "file_extension": ".py",
   "mimetype": "text/x-python",
   "name": "python",
   "nbconvert_exporter": "python",
   "pygments_lexer": "ipython3",
   "version": "3.11.3"
  },
  "orig_nbformat": 4
 },
 "nbformat": 4,
 "nbformat_minor": 2
}
