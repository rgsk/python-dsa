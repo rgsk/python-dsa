{
 "cells": [
  {
   "cell_type": "code",
   "execution_count": 8,
   "metadata": {},
   "outputs": [],
   "source": [
    "from typing import List\n",
    "\n",
    "\n",
    "class Solution:\n",
    "    # @param A : List of integers\n",
    "    # @param B : integer\n",
    "    # @return a List of List of integers\n",
    "    def combinationSum(self, candidates: List[int], target: int):\n",
    "        candidates.sort()                      \n",
    "        result = []\n",
    "        self.combine_sum_2(candidates, 0, [], result, target)\n",
    "        return result\n",
    "        \n",
    "    def combine_sum_2(self, candidates: List[int], start: int, path: List[int], result: List[int], target: int):\n",
    "        if not target:\n",
    "            result.append(path)\n",
    "            return\n",
    "        \n",
    "        for i in range(start, len(candidates)):\n",
    "            if i > start and candidates[i] == candidates[i - 1]:\n",
    "                continue\n",
    "            if candidates[i] > target:\n",
    "                break\n",
    "            self.combine_sum_2(candidates, i + 1, path + [candidates[i]], \n",
    "                            result, target - candidates[i])"
   ]
  },
  {
   "cell_type": "code",
   "execution_count": 9,
   "metadata": {},
   "outputs": [],
   "source": [
    "from typing import List\n",
    "\n",
    "\n",
    "class Solution:\n",
    "    # @param A : List of integers\n",
    "    # @param B : integer\n",
    "    # @return a List of List of integers\n",
    "    def combinationSum(self, candidates: List[int], target: int):\n",
    "        candidates.sort() \n",
    "        n = len(candidates)                     \n",
    "        result = []\n",
    "        def helper(start, path, remaining):\n",
    "            if remaining == 0:\n",
    "                result.append(path)\n",
    "                return\n",
    "            for i in range(start, n):\n",
    "                if i > start and candidates[i] == candidates[i-1]:\n",
    "                    continue\n",
    "                if candidates[i] > remaining:\n",
    "                    # because array is sorted\n",
    "                    # elments going forward will be bigger\n",
    "                    break\n",
    "                helper(i + 1, path + [candidates[i]], remaining - candidates[i])\n",
    "        helper(0, [], target)\n",
    "        return result"
   ]
  },
  {
   "cell_type": "code",
   "execution_count": 10,
   "metadata": {},
   "outputs": [
    {
     "data": {
      "text/plain": [
       "[[1, 1, 6], [1, 2, 5], [1, 7], [2, 6]]"
      ]
     },
     "execution_count": 10,
     "metadata": {},
     "output_type": "execute_result"
    }
   ],
   "source": [
    "A = [10,1,2,7,6,1,5]\n",
    "B = 8\n",
    "sol = Solution()\n",
    "sol.combinationSum(A, B)"
   ]
  }
 ],
 "metadata": {
  "kernelspec": {
   "display_name": "dsa-venv",
   "language": "python",
   "name": "python3"
  },
  "language_info": {
   "codemirror_mode": {
    "name": "ipython",
    "version": 3
   },
   "file_extension": ".py",
   "mimetype": "text/x-python",
   "name": "python",
   "nbconvert_exporter": "python",
   "pygments_lexer": "ipython3",
   "version": "3.11.3"
  },
  "orig_nbformat": 4
 },
 "nbformat": 4,
 "nbformat_minor": 2
}
