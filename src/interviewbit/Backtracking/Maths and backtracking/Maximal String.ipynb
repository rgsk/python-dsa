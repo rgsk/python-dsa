{
 "cells": [
  {
   "cell_type": "markdown",
   "metadata": {},
   "source": [
    "here we try to get the max element on the right\n",
    "\n",
    "to the current index\n",
    "\n",
    "also, we can't determine which max element (present at more than 1 index) to make swaps with \n",
    "\n",
    "so we try all those cases\n",
    "\n",
    "```python\n",
    "A = \"7599\"\n",
    "B = 2 or 1\n",
    "```\n",
    "if B == 1, then ans would be \"9597\", and swapping with last 9 is required\n",
    "if B == 2, then ans would \"9975\", and if i == 0, we swap first 9 and 7 and then when i == 1, we swap 9 with 5"
   ]
  },
  {
   "cell_type": "code",
   "execution_count": 241,
   "metadata": {},
   "outputs": [],
   "source": [
    "class Solution:\n",
    "    # @param A : string\n",
    "    # @param B : integer\n",
    "    # @return a strings\n",
    "    def solve(self, A, B):\n",
    "        n = len(A)\n",
    "        s = [int(v) for v in A]\n",
    "        maxAns = s[:]\n",
    "        def helper(i, remainingSwaps):\n",
    "            nonlocal maxAns\n",
    "            if s > maxAns:\n",
    "                maxAns = s[:]\n",
    "            # i == n - 1\n",
    "            # because it should go only till n - 2\n",
    "            if i == n - 1 or remainingSwaps == 0:\n",
    "                return\n",
    "            maxElementOnRight = -1\n",
    "            for j in range(i+1, n):\n",
    "                if s[j] > s[i]:\n",
    "                    maxElementOnRight = max(maxElementOnRight, s[j])\n",
    "            if maxElementOnRight != -1:\n",
    "                for j in range(i+1, n):\n",
    "                    if s[j] == maxElementOnRight:\n",
    "                        s[i], s[j] = s[j], s[i]\n",
    "                        helper(i + 1, remainingSwaps - 1)\n",
    "                        s[i], s[j] = s[j], s[i]\n",
    "            else:\n",
    "                # consider case 928\n",
    "                # if swap is not used for i == 0, then we use it for subsequent indexes        \n",
    "                helper(i + 1, remainingSwaps)\n",
    "        helper(0, B)\n",
    "        return \"\".join([str(v) for v in maxAns])\n"
   ]
  },
  {
   "cell_type": "code",
   "execution_count": 242,
   "metadata": {},
   "outputs": [
    {
     "data": {
      "text/plain": [
       "'524'"
      ]
     },
     "execution_count": 242,
     "metadata": {},
     "output_type": "execute_result"
    }
   ],
   "source": [
    "A = \"254\"\n",
    "B = 1\n",
    "sol = Solution()\n",
    "sol.solve(A, B)"
   ]
  },
  {
   "cell_type": "code",
   "execution_count": 243,
   "metadata": {},
   "outputs": [
    {
     "data": {
      "text/plain": [
       "'542'"
      ]
     },
     "execution_count": 243,
     "metadata": {},
     "output_type": "execute_result"
    }
   ],
   "source": [
    "A = \"254\"\n",
    "B = 2\n",
    "sol = Solution()\n",
    "sol.solve(A, B)"
   ]
  },
  {
   "cell_type": "code",
   "execution_count": 244,
   "metadata": {},
   "outputs": [
    {
     "data": {
      "text/plain": [
       "'543'"
      ]
     },
     "execution_count": 244,
     "metadata": {},
     "output_type": "execute_result"
    }
   ],
   "source": [
    "A = \"543\"\n",
    "B = 2\n",
    "sol = Solution()\n",
    "sol.solve(A, B)"
   ]
  },
  {
   "cell_type": "code",
   "execution_count": 245,
   "metadata": {},
   "outputs": [
    {
     "data": {
      "text/plain": [
       "'921'"
      ]
     },
     "execution_count": 245,
     "metadata": {},
     "output_type": "execute_result"
    }
   ],
   "source": [
    "A = \"129\"\n",
    "B = 2\n",
    "sol = Solution()\n",
    "sol.solve(A, B)"
   ]
  },
  {
   "cell_type": "code",
   "execution_count": 246,
   "metadata": {},
   "outputs": [
    {
     "data": {
      "text/plain": [
       "'921'"
      ]
     },
     "execution_count": 246,
     "metadata": {},
     "output_type": "execute_result"
    }
   ],
   "source": [
    "A = \"219\"\n",
    "B = 2\n",
    "sol = Solution()\n",
    "sol.solve(A, B)"
   ]
  },
  {
   "cell_type": "code",
   "execution_count": 247,
   "metadata": {},
   "outputs": [
    {
     "data": {
      "text/plain": [
       "'9291'"
      ]
     },
     "execution_count": 247,
     "metadata": {},
     "output_type": "execute_result"
    }
   ],
   "source": [
    "A = \"1299\"\n",
    "B = 1\n",
    "sol = Solution()\n",
    "sol.solve(A, B) # 9291"
   ]
  },
  {
   "cell_type": "code",
   "execution_count": 248,
   "metadata": {},
   "outputs": [
    {
     "data": {
      "text/plain": [
       "'9975'"
      ]
     },
     "execution_count": 248,
     "metadata": {},
     "output_type": "execute_result"
    }
   ],
   "source": [
    "A = \"7599\"\n",
    "B = 2\n",
    "sol = Solution()\n",
    "sol.solve(A, B) # 9975"
   ]
  }
 ],
 "metadata": {
  "kernelspec": {
   "display_name": "dsa-venv",
   "language": "python",
   "name": "python3"
  },
  "language_info": {
   "codemirror_mode": {
    "name": "ipython",
    "version": 3
   },
   "file_extension": ".py",
   "mimetype": "text/x-python",
   "name": "python",
   "nbconvert_exporter": "python",
   "pygments_lexer": "ipython3",
   "version": "3.11.3"
  },
  "orig_nbformat": 4
 },
 "nbformat": 4,
 "nbformat_minor": 2
}
