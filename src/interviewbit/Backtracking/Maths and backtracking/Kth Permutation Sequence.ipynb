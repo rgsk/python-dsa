{
 "cells": [
  {
   "cell_type": "code",
   "execution_count": 1,
   "metadata": {},
   "outputs": [],
   "source": [
    "def permute(A):\n",
    "    ans = []\n",
    "    n = len(A)\n",
    "    def helper(i):\n",
    "        if i == n:\n",
    "            ans.append(A.copy())\n",
    "        for j in range(i, n):\n",
    "            A[i], A[j] = A[j], A[i]\n",
    "            helper(i + 1)\n",
    "            A[i], A[j] = A[j], A[i]\n",
    "    helper(0)\n",
    "    return ans\n",
    "\n",
    "class Solution:\n",
    "    # @param A : integer\n",
    "    # @param B : integer\n",
    "    # @return a strings\n",
    "    def getPermutation(self, A, B):\n",
    "        elements = list(range(1, A + 1))\n",
    "        permutations = permute(elements)\n",
    "        return \"\".join([str(v) for v in permutations[B-1]])"
   ]
  },
  {
   "cell_type": "markdown",
   "metadata": {},
   "source": [
    "https://www.youtube.com/watch?v=wT7gcXLYoao"
   ]
  },
  {
   "cell_type": "code",
   "execution_count": 2,
   "metadata": {},
   "outputs": [],
   "source": [
    "dp = {}\n",
    "def factorial(n):\n",
    "    if n == 0 or n == 1:\n",
    "        return n\n",
    "    if n in dp:\n",
    "        return dp[n]\n",
    "    dp[n] = n * factorial(n - 1)\n",
    "    return dp[n]\n",
    "\n",
    "def nextPermutation(elems):\n",
    "    lastRise = -1\n",
    "    n = len(elems)\n",
    "    for i in range(n - 1):\n",
    "        if elems[i+1] > elems[i]:\n",
    "            lastRise = i\n",
    "    if lastRise == -1:\n",
    "        return list(reversed(elems))\n",
    "    firstElementFromLastGreaterThanLastRise = -1\n",
    "    for i in range(n - 1, lastRise, -1):\n",
    "        if elems[i] > elems[lastRise]:\n",
    "            firstElementFromLastGreaterThanLastRise = i\n",
    "            break\n",
    "    elems[lastRise], elems[firstElementFromLastGreaterThanLastRise] = elems[firstElementFromLastGreaterThanLastRise], elems[lastRise]\n",
    "    elems[lastRise + 1:] = list(reversed(elems[lastRise + 1:]))\n",
    "    return elems\n",
    "\n",
    "class Solution:\n",
    "    # @param A : integer\n",
    "    # @param B : integer\n",
    "    # @return a strings\n",
    "    def getPermutation(self, A, B):\n",
    "        B = B % (factorial(A) + 1)\n",
    "        perms = 0\n",
    "        last = -1\n",
    "        for i in range(A):\n",
    "            res = factorial(A-1)\n",
    "            perms += res\n",
    "            if perms >= B:\n",
    "                perms -= res\n",
    "                last = i\n",
    "                break\n",
    "\n",
    "        elems = list(range(1, A + 1))\n",
    "        elems[0], elems[last] = elems[last], elems[0]\n",
    "        elems[1:] = sorted(elems[1:])\n",
    "        perms += 1\n",
    "        while perms < B:\n",
    "            elems = nextPermutation(elems)\n",
    "            perms += 1\n",
    "        return \"\".join([str(v) for v in elems])"
   ]
  },
  {
   "cell_type": "markdown",
   "metadata": {},
   "source": [
    "in below solution we try to skip permutations on length n - 1, \n",
    "\n",
    "eg [1, 2, 3, 4]\n",
    "\n",
    "we need 14th \n",
    "\n",
    "we skip all the permutations starting with 1 and 2\n",
    "\n",
    "ie. for 1, how many ways rest of 3 elements ie. 2, 3, 4 can be arranged that is 6\n",
    "\n",
    "ie. for 1 - 6, for 2 - 6, total 12\n",
    "\n",
    "bring 3 to the front,\n",
    "\n",
    "and perform the remaining 2 permutations on 1, 2, 4\n",
    "\n",
    "ie 2nd permutation will be 1, 4, 2\n",
    "\n",
    "so ans will be [3, 1, 4, 2]"
   ]
  },
  {
   "cell_type": "code",
   "execution_count": 3,
   "metadata": {},
   "outputs": [],
   "source": [
    "dp = {}\n",
    "def factorial(n):\n",
    "    if n == 0 or n == 1:\n",
    "        return 1\n",
    "    if n in dp:\n",
    "        return dp[n]\n",
    "    dp[n] = n * factorial(n - 1)\n",
    "    return dp[n]\n",
    "\n",
    "class Solution:\n",
    "    # @param A : integer\n",
    "    # @param B : integer\n",
    "    # @return a strings\n",
    "    def get(self, elems, B):\n",
    "        A = len(elems)\n",
    "        if A == 1:\n",
    "            return elems\n",
    "        B = B % (factorial(A) + 1)\n",
    "        perms = 0\n",
    "        last = -1\n",
    "        for i in range(A):\n",
    "            res = factorial(A-1)\n",
    "            perms += res\n",
    "            if perms >= B:\n",
    "                perms -= res\n",
    "                last = i\n",
    "                break\n",
    "        elems[0], elems[last] = elems[last], elems[0]\n",
    "        elems[1:] = self.get(sorted(elems[1:]), B - perms)\n",
    "        return elems\n",
    "    \n",
    "    def getPermutation(self, A, B):\n",
    "        elems = self.get(list(range(1, A + 1)), B)\n",
    "        return \"\".join([str(v) for v in elems])"
   ]
  },
  {
   "cell_type": "code",
   "execution_count": 4,
   "metadata": {},
   "outputs": [
    {
     "name": "stdout",
     "output_type": "stream",
     "text": [
      "123\n",
      "132\n",
      "213\n",
      "231\n",
      "312\n",
      "321\n",
      "123\n"
     ]
    }
   ],
   "source": [
    "for B in range(1, 8):\n",
    "    A = 3\n",
    "    sol = Solution()\n",
    "    print(sol.getPermutation(A, B)) # 231"
   ]
  },
  {
   "cell_type": "code",
   "execution_count": 5,
   "metadata": {},
   "outputs": [
    {
     "data": {
      "text/plain": [
       "'123457698'"
      ]
     },
     "execution_count": 5,
     "metadata": {},
     "output_type": "execute_result"
    }
   ],
   "source": [
    "A = 9\n",
    "B = 8\n",
    "sol = Solution()\n",
    "sol.getPermutation(A, B) # 123457698"
   ]
  }
 ],
 "metadata": {
  "kernelspec": {
   "display_name": "dsa-venv",
   "language": "python",
   "name": "python3"
  },
  "language_info": {
   "codemirror_mode": {
    "name": "ipython",
    "version": 3
   },
   "file_extension": ".py",
   "mimetype": "text/x-python",
   "name": "python",
   "nbconvert_exporter": "python",
   "pygments_lexer": "ipython3",
   "version": "3.11.3"
  },
  "orig_nbformat": 4
 },
 "nbformat": 4,
 "nbformat_minor": 2
}
