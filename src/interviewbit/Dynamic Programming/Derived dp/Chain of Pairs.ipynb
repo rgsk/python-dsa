{
 "cells": [
  {
   "cell_type": "code",
   "execution_count": 26,
   "metadata": {},
   "outputs": [],
   "source": [
    "class Solution:\n",
    "    # @param A : list of list of integers\n",
    "    # @return an integer\n",
    "    def solve(self, A):\n",
    "        n = len(A)\n",
    "        def helper(ind, lastInd):\n",
    "            if ind == n:\n",
    "                return 0\n",
    "            if lastInd == -1 or A[ind][0] > A[lastInd][1]:\n",
    "                return max(1 + helper(ind + 1, ind), helper(ind + 1, lastInd))\n",
    "            return helper(ind + 1, lastInd)\n",
    "        return helper(0, -1)"
   ]
  },
  {
   "cell_type": "code",
   "execution_count": 27,
   "metadata": {},
   "outputs": [],
   "source": [
    "class Solution:\n",
    "    # @param A : list of list of integers\n",
    "    # @return an integer\n",
    "    def solve(self, A):\n",
    "        n = len(A)\n",
    "        def helper(ind, lastInd):\n",
    "            if ind == n:\n",
    "                return 0\n",
    "            if lastInd == 0 or A[ind][0] > A[lastInd - 1][1]:\n",
    "                return max(1 + helper(ind + 1, ind + 1), helper(ind + 1, lastInd))\n",
    "            return helper(ind + 1, lastInd)\n",
    "        return helper(0, 0)"
   ]
  },
  {
   "cell_type": "code",
   "execution_count": 28,
   "metadata": {},
   "outputs": [],
   "source": [
    "class Solution:\n",
    "    # @param A : list of list of integers\n",
    "    # @return an integer\n",
    "    def solve(self, A):\n",
    "        n = len(A)\n",
    "        dp = [[0 for _ in range(n + 1)] for _ in range(n + 1)]\n",
    "        for ind in range(n-1, -1, -1):\n",
    "            for lastInd in range(ind + 1):\n",
    "                if lastInd == 0 or A[ind][0] > A[lastInd - 1][1]:\n",
    "                    dp[ind][lastInd] = max(1 + dp[ind+1][ind+1], dp[ind+1][lastInd])\n",
    "                else:\n",
    "                    dp[ind][lastInd] = dp[ind+1][lastInd]\n",
    "        return dp[0][0]"
   ]
  },
  {
   "cell_type": "code",
   "execution_count": 29,
   "metadata": {},
   "outputs": [],
   "source": [
    "class Solution:\n",
    "    # @param A : list of list of integers\n",
    "    # @return an integer\n",
    "    def solve(self, A):\n",
    "        n = len(A)\n",
    "        dp = [0 for _ in range(n + 1)]\n",
    "        for ind in range(n-1, -1, -1):\n",
    "            for lastInd in range(ind + 1):\n",
    "                if lastInd == 0 or A[ind][0] > A[lastInd - 1][1]:\n",
    "                    dp[lastInd] = max(1 + dp[ind+1], dp[lastInd])\n",
    "        return dp[0]"
   ]
  },
  {
   "cell_type": "code",
   "execution_count": 30,
   "metadata": {},
   "outputs": [
    {
     "data": {
      "text/plain": [
       "3"
      ]
     },
     "execution_count": 30,
     "metadata": {},
     "output_type": "execute_result"
    }
   ],
   "source": [
    "A = [\n",
    "    [5, 24],\n",
    "    [39, 60],\n",
    "    [15, 28],\n",
    "    [27, 40],\n",
    "    [50, 90],\n",
    "]\n",
    "sol = Solution()\n",
    "sol.solve(A)"
   ]
  },
  {
   "cell_type": "code",
   "execution_count": 31,
   "metadata": {},
   "outputs": [
    {
     "data": {
      "text/plain": [
       "1"
      ]
     },
     "execution_count": 31,
     "metadata": {},
     "output_type": "execute_result"
    }
   ],
   "source": [
    "A = [\n",
    "    [10, 20],\n",
    "    [1, 2]\n",
    "]\n",
    "sol = Solution()\n",
    "sol.solve(A)"
   ]
  }
 ],
 "metadata": {
  "kernelspec": {
   "display_name": "dsa-venv",
   "language": "python",
   "name": "python3"
  },
  "language_info": {
   "codemirror_mode": {
    "name": "ipython",
    "version": 3
   },
   "file_extension": ".py",
   "mimetype": "text/x-python",
   "name": "python",
   "nbconvert_exporter": "python",
   "pygments_lexer": "ipython3",
   "version": "3.11.3"
  },
  "orig_nbformat": 4
 },
 "nbformat": 4,
 "nbformat_minor": 2
}
