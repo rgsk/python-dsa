{
 "cells": [
  {
   "cell_type": "code",
   "execution_count": 102,
   "metadata": {},
   "outputs": [],
   "source": [
    "import math\n",
    "\n",
    "\n",
    "class Solution:\n",
    "    # @param A : list of integers\n",
    "    # @return an integer\n",
    "    def solve(self, A):\n",
    "        def helper(arr):\n",
    "            if len(arr) == 1:\n",
    "                return 0\n",
    "            minCost = math.inf\n",
    "            for i in range(len(arr) - 1):\n",
    "                minCost = min(minCost, arr[i] + arr[i + 1] + helper(arr[:i] + [arr[i] + arr[i + 1]] + arr[i + 2:]))\n",
    "            return minCost\n",
    "        return helper(A)"
   ]
  },
  {
   "cell_type": "code",
   "execution_count": 103,
   "metadata": {},
   "outputs": [],
   "source": [
    "import math\n",
    "\n",
    "\n",
    "class Solution:\n",
    "    # @param A : list of integers\n",
    "    # @return an integer\n",
    "    def solve(self, A):\n",
    "        n = len(A)\n",
    "        prefix_sum = [0] * n\n",
    "        prefix_sum[0] = A[0]\n",
    "        for i in range(1, n):\n",
    "            prefix_sum[i] = prefix_sum[i-1] + A[i]\n",
    "        def get_sum(i, j):\n",
    "            return prefix_sum[j] - prefix_sum[i] + A[i]\n",
    "        def helper(i, j):\n",
    "            if i == j:\n",
    "                return 0\n",
    "            minCost = math.inf\n",
    "            for k in range(i, j):\n",
    "                minCost = min(minCost, get_sum(i, k) + get_sum(k+1,j) + helper(i, k) + helper(k+1, j))   \n",
    "            return minCost             \n",
    "        return helper(0, n - 1)"
   ]
  },
  {
   "cell_type": "code",
   "execution_count": 104,
   "metadata": {},
   "outputs": [],
   "source": [
    "import math\n",
    "\n",
    "\n",
    "class Solution:\n",
    "    # @param A : list of integers\n",
    "    # @return an integer\n",
    "    def solve(self, A):\n",
    "        n = len(A)\n",
    "        prefix_sum = [0] * n\n",
    "        prefix_sum[0] = A[0]\n",
    "        for i in range(1, n):\n",
    "            prefix_sum[i] = prefix_sum[i-1] + A[i]\n",
    "        def get_sum(i, j):\n",
    "            return prefix_sum[j] - prefix_sum[i] + A[i]\n",
    "        \n",
    "        dp = [[-1 for _ in range(n)] for _ in range(n)]\n",
    "        def helper(i, j):\n",
    "            if i == j:\n",
    "                return 0\n",
    "            if dp[i][j] != -1:\n",
    "                return dp[i][j]\n",
    "            minCost = math.inf\n",
    "            for k in range(i, j):\n",
    "                minCost = min(minCost, get_sum(i, k) + get_sum(k+1,j) + helper(i, k) + helper(k+1, j))   \n",
    "            dp[i][j] = minCost        \n",
    "            return dp[i][j]     \n",
    "        return helper(0, n - 1)"
   ]
  },
  {
   "cell_type": "code",
   "execution_count": 105,
   "metadata": {},
   "outputs": [],
   "source": [
    "import math\n",
    "\n",
    "\n",
    "class Solution:\n",
    "    # @param A : list of integers\n",
    "    # @return an integer\n",
    "    def solve(self, A):\n",
    "        n = len(A)\n",
    "        prefix_sum = [0] * n\n",
    "        prefix_sum[0] = A[0]\n",
    "        for i in range(1, n):\n",
    "            prefix_sum[i] = prefix_sum[i-1] + A[i]\n",
    "        def get_sum(i, j):\n",
    "            return prefix_sum[j] - prefix_sum[i] + A[i]\n",
    "        \n",
    "        dp = [[0 for _ in range(n)] for _ in range(n)]\n",
    "        for i in range(n-1, -1, -1):\n",
    "            for j in range(i+1, n):\n",
    "                minCost = math.inf\n",
    "                for k in range(i, j):\n",
    "                    minCost = min(minCost, get_sum(i, k) + get_sum(k+1,j) + dp[i][k] + dp[k+1][j])   \n",
    "                dp[i][j] = minCost\n",
    "        return dp[0][n-1]"
   ]
  },
  {
   "cell_type": "code",
   "execution_count": 106,
   "metadata": {},
   "outputs": [
    {
     "data": {
      "text/plain": [
       "15"
      ]
     },
     "execution_count": 106,
     "metadata": {},
     "output_type": "execute_result"
    }
   ],
   "source": [
    "'''\n",
    "Input 1:\n",
    "\n",
    " A = [1, 3, 7]\n",
    "Input 2:\n",
    "\n",
    " A = [1, 2, 3, 4]\n",
    "'''\n",
    "A = [1, 3, 7]\n",
    "sol = Solution()\n",
    "sol.solve(A)"
   ]
  },
  {
   "cell_type": "code",
   "execution_count": 107,
   "metadata": {},
   "outputs": [
    {
     "data": {
      "text/plain": [
       "19"
      ]
     },
     "execution_count": 107,
     "metadata": {},
     "output_type": "execute_result"
    }
   ],
   "source": [
    "A = [1, 2, 3, 4]\n",
    "sol = Solution()\n",
    "sol.solve(A)"
   ]
  }
 ],
 "metadata": {
  "kernelspec": {
   "display_name": "dsa-venv",
   "language": "python",
   "name": "python3"
  },
  "language_info": {
   "codemirror_mode": {
    "name": "ipython",
    "version": 3
   },
   "file_extension": ".py",
   "mimetype": "text/x-python",
   "name": "python",
   "nbconvert_exporter": "python",
   "pygments_lexer": "ipython3",
   "version": "3.11.3"
  },
  "orig_nbformat": 4
 },
 "nbformat": 4,
 "nbformat_minor": 2
}
