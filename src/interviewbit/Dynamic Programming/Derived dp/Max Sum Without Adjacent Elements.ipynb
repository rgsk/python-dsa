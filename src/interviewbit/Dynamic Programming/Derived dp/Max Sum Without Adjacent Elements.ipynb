{
 "cells": [
  {
   "cell_type": "code",
   "execution_count": 52,
   "metadata": {},
   "outputs": [],
   "source": [
    "class Solution:\n",
    "    # @param A : list of list of integers\n",
    "    # @return an integer\n",
    "    def adjacent(self, A):\n",
    "        n = len(A[0])\n",
    "        def helper(i):\n",
    "            if i >= n:\n",
    "                return 0\n",
    "            take = max(A[0][i], A[1][i]) + helper(i + 2)\n",
    "            notake = helper(i + 1)\n",
    "            return max(take, notake)\n",
    "        return helper(0)"
   ]
  },
  {
   "cell_type": "code",
   "execution_count": 53,
   "metadata": {},
   "outputs": [],
   "source": [
    "class Solution:\n",
    "    # @param A : list of list of integers\n",
    "    # @return an integer\n",
    "    def adjacent(self, A):\n",
    "        n = len(A[0])\n",
    "        dp = [-1 for _ in range(n)]\n",
    "        def helper(i):\n",
    "            if i >= n:\n",
    "                return 0\n",
    "            if dp[i] != -1:\n",
    "                return dp[i]\n",
    "            take = max(A[0][i], A[1][i]) + helper(i + 2)\n",
    "            notake = helper(i + 1)\n",
    "            dp[i] = max(take, notake)\n",
    "            return dp[i]\n",
    "        return helper(0)"
   ]
  },
  {
   "cell_type": "code",
   "execution_count": 54,
   "metadata": {},
   "outputs": [],
   "source": [
    "class Solution:\n",
    "    # @param A : list of list of integers\n",
    "    # @return an integer\n",
    "    def adjacent(self, A):\n",
    "        n = len(A[0])\n",
    "        dp = [0 for _ in range(n + 2)]\n",
    "        for i in range(n-1, -1, -1):\n",
    "            take = max(A[0][i], A[1][i]) + dp[i+2]\n",
    "            notake = dp[i+1]\n",
    "            dp[i] = max(take, notake)\n",
    "        return dp[0]"
   ]
  },
  {
   "cell_type": "code",
   "execution_count": 55,
   "metadata": {},
   "outputs": [],
   "source": [
    "class Solution:\n",
    "    # @param A : list of list of integers\n",
    "    # @return an integer\n",
    "    def adjacent(self, A):\n",
    "        n = len(A[0])\n",
    "        i_plus_2 = 0\n",
    "        i_plus_1 = 0\n",
    "        cur_i = 0\n",
    "        for i in range(n-1, -1, -1):\n",
    "            # use those\n",
    "            take = max(A[0][i], A[1][i]) + i_plus_2\n",
    "            notake = i_plus_1\n",
    "            cur_i = max(take, notake)\n",
    "            \n",
    "            # update those\n",
    "            i_plus_2 = i_plus_1\n",
    "            i_plus_1 = cur_i\n",
    "        return cur_i"
   ]
  },
  {
   "cell_type": "code",
   "execution_count": 56,
   "metadata": {},
   "outputs": [
    {
     "data": {
      "text/plain": [
       "2"
      ]
     },
     "execution_count": 56,
     "metadata": {},
     "output_type": "execute_result"
    }
   ],
   "source": [
    "A = [\n",
    "    [1],\n",
    "    [2]\n",
    "]\n",
    "sol = Solution()\n",
    "sol.adjacent(A)"
   ]
  },
  {
   "cell_type": "code",
   "execution_count": 57,
   "metadata": {},
   "outputs": [
    {
     "data": {
      "text/plain": [
       "8"
      ]
     },
     "execution_count": 57,
     "metadata": {},
     "output_type": "execute_result"
    }
   ],
   "source": [
    "A = [[1, 2, 3, 4],\n",
    "     [2, 3, 4, 5]]\n",
    "sol = Solution()\n",
    "sol.adjacent(A)"
   ]
  }
 ],
 "metadata": {
  "kernelspec": {
   "display_name": "dsa-venv",
   "language": "python",
   "name": "python3"
  },
  "language_info": {
   "codemirror_mode": {
    "name": "ipython",
    "version": 3
   },
   "file_extension": ".py",
   "mimetype": "text/x-python",
   "name": "python",
   "nbconvert_exporter": "python",
   "pygments_lexer": "ipython3",
   "version": "3.11.3"
  },
  "orig_nbformat": 4
 },
 "nbformat": 4,
 "nbformat_minor": 2
}
