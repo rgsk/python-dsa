{
 "cells": [
  {
   "cell_type": "code",
   "execution_count": 4,
   "metadata": {},
   "outputs": [],
   "source": [
    "# https://www.interviewbit.com/problems/sub-matrices-with-sum-zero/"
   ]
  },
  {
   "cell_type": "code",
   "execution_count": 5,
   "metadata": {},
   "outputs": [],
   "source": [
    "class Solution:\n",
    "    # @param A : list of list of integers\n",
    "    # @return an integer\n",
    "    def solve(self, A):\n",
    "        if not A or not A[0]:\n",
    "            return 0\n",
    "            \n",
    "        m, n = len(A), len(A[0])\n",
    "       \n",
    "        count = 0\n",
    "        for i in range(m):\n",
    "            row = [0] * n\n",
    "            for j in range(i, m):\n",
    "                for k in range(n):\n",
    "                    row[k] += A[j][k]\n",
    "                    \n",
    "                count += self.sub_k(row)\n",
    "                \n",
    "                \n",
    "        return count\n",
    "            \n",
    "    def sub_k(self, arr):\n",
    "        freq = {0: 1}\n",
    "        \n",
    "        s = count = 0\n",
    "        for num in arr:\n",
    "            s += num\n",
    "            \n",
    "            if s in freq:\n",
    "                count += freq[s]\n",
    "                freq[s] += 1\n",
    "            else:\n",
    "                freq[s] = 1\n",
    "        return count"
   ]
  },
  {
   "cell_type": "code",
   "execution_count": 6,
   "metadata": {},
   "outputs": [
    {
     "data": {
      "text/plain": [
       "2"
      ]
     },
     "execution_count": 6,
     "metadata": {},
     "output_type": "execute_result"
    }
   ],
   "source": [
    "A = [\n",
    "    [-8, 5,  7],\n",
    "    [3,  7, -8],\n",
    "    [5, -8,  9]\n",
    "]\n",
    "sol = Solution()\n",
    "sol.solve(A)"
   ]
  }
 ],
 "metadata": {
  "kernelspec": {
   "display_name": "dsa-venv",
   "language": "python",
   "name": "python3"
  },
  "language_info": {
   "codemirror_mode": {
    "name": "ipython",
    "version": 3
   },
   "file_extension": ".py",
   "mimetype": "text/x-python",
   "name": "python",
   "nbconvert_exporter": "python",
   "pygments_lexer": "ipython3",
   "version": "3.11.3"
  }
 },
 "nbformat": 4,
 "nbformat_minor": 2
}
