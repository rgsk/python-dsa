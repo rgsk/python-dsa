{
 "cells": [
  {
   "cell_type": "code",
   "execution_count": 167,
   "metadata": {},
   "outputs": [],
   "source": [
    "# https://www.interviewbit.com/problems/coin-sum-infinite/"
   ]
  },
  {
   "cell_type": "code",
   "execution_count": 168,
   "metadata": {},
   "outputs": [],
   "source": [
    "mod = 1000007\n",
    "class Solution:\n",
    "    # @param A : list of integers\n",
    "    # @param B : integer\n",
    "    # @return an integer\n",
    "    def coinchange2(self, A, B):\n",
    "        n = len(A)\n",
    "        def helper(idx, remaining):\n",
    "            if remaining == 0:\n",
    "                return 1\n",
    "            if idx == n:\n",
    "                return 0\n",
    "            if remaining >= A[idx]:\n",
    "                return helper(idx, remaining - A[idx]) + helper(idx + 1, remaining)\n",
    "            else:\n",
    "                return helper(idx + 1, remaining) \n",
    "            \n",
    "        return helper(0, B) % mod"
   ]
  },
  {
   "cell_type": "code",
   "execution_count": 169,
   "metadata": {},
   "outputs": [],
   "source": [
    "mod = 1000007\n",
    "class Solution:\n",
    "    # @param A : list of integers\n",
    "    # @param B : integer\n",
    "    # @return an integer\n",
    "    def coinchange2(self, A, B):\n",
    "        n = len(A)\n",
    "\n",
    "        def helper(idx, remaining):\n",
    "            if remaining == 0:\n",
    "                return 1\n",
    "            if idx == -1:\n",
    "                return 0\n",
    "            if remaining >= A[idx]:\n",
    "                return helper(idx, remaining - A[idx]) + helper(idx - 1, remaining)\n",
    "            else:\n",
    "                return helper(idx - 1, remaining) \n",
    "            \n",
    "        return helper(n-1, B) % mod"
   ]
  },
  {
   "cell_type": "code",
   "execution_count": 170,
   "metadata": {},
   "outputs": [],
   "source": [
    "mod = 1000007\n",
    "class Solution:\n",
    "    # @param A : list of integers\n",
    "    # @param B : integer\n",
    "    # @return an integer\n",
    "    def coinchange2(self, A, B):\n",
    "        n = len(A)\n",
    "        dp = [[-1 for _ in range(B + 1)] for _ in range(n)]\n",
    "        def helper(idx, remaining):\n",
    "            if remaining == 0:\n",
    "                return 1\n",
    "            if idx == -1:\n",
    "                return 0\n",
    "            if dp[idx][remaining] != -1:\n",
    "                return dp[idx][remaining]\n",
    "            if remaining >= A[idx]:\n",
    "                dp[idx][remaining] = helper(idx, remaining - A[idx]) + helper(idx - 1, remaining)\n",
    "            else:\n",
    "                dp[idx][remaining] = helper(idx - 1, remaining) \n",
    "            return dp[idx][remaining]\n",
    "            \n",
    "        return helper(n-1, B) % mod"
   ]
  },
  {
   "cell_type": "code",
   "execution_count": 171,
   "metadata": {},
   "outputs": [],
   "source": [
    "mod = 1000007\n",
    "class Solution:\n",
    "    # @param A : list of integers\n",
    "    # @param B : integer\n",
    "    # @return an integer\n",
    "    def coinchange2(self, A, B):\n",
    "        n = len(A)\n",
    "        dp = [[1 if remaining == 0 else 0 for remaining in range(B + 1)] for _ in range(n + 1)]\n",
    "        for idx in range(1, n+1):\n",
    "            for remaining in range(B + 1):\n",
    "                if remaining >= A[idx - 1]:\n",
    "                    dp[idx][remaining] = dp[idx][remaining - A[idx - 1]] + dp[idx - 1][remaining]\n",
    "                else:\n",
    "                    dp[idx][remaining] = dp[idx - 1][remaining]\n",
    "            \n",
    "        return dp[n][B] % mod"
   ]
  },
  {
   "cell_type": "code",
   "execution_count": 172,
   "metadata": {},
   "outputs": [],
   "source": [
    "mod = 1000007\n",
    "class Solution:\n",
    "    # @param A : list of integers\n",
    "    # @param B : integer\n",
    "    # @return an integer\n",
    "    def coinchange2(self, A, B):\n",
    "        n = len(A)\n",
    "        dp = [1 if remaining == 0 else 0 for remaining in range(B + 1)]\n",
    "        for idx in range(1, n+1):\n",
    "            prev = dp[:]\n",
    "            for remaining in range(A[idx - 1], B + 1):\n",
    "                dp[remaining] = dp[remaining - A[idx - 1]] + prev[remaining]\n",
    "        return dp[B] % mod"
   ]
  },
  {
   "cell_type": "code",
   "execution_count": 173,
   "metadata": {},
   "outputs": [],
   "source": [
    "mod = 1000007\n",
    "class Solution:\n",
    "    # @param A : list of integers\n",
    "    # @param B : integer\n",
    "    # @return an integer\n",
    "    def coinchange2(self, A, B):\n",
    "        n = len(A)\n",
    "        dp = [1 if remaining == 0 else 0 for remaining in range(B + 1)]\n",
    "        for idx in range(1, n+1):\n",
    "            for remaining in range(A[idx - 1], B + 1):\n",
    "                # because we are using prev[remaining] \n",
    "                # we have not changed prev[remaining] before using it\n",
    "                # that's why we don't need prev\n",
    "                dp[remaining] = dp[remaining - A[idx - 1]] + dp[remaining]\n",
    "        return dp[B] % mod"
   ]
  },
  {
   "cell_type": "code",
   "execution_count": 174,
   "metadata": {},
   "outputs": [
    {
     "data": {
      "text/plain": [
       "4"
      ]
     },
     "execution_count": 174,
     "metadata": {},
     "output_type": "execute_result"
    }
   ],
   "source": [
    "A = [1, 2, 3]\n",
    "B = 4\n",
    "sol = Solution()\n",
    "sol.coinchange2(A, B)"
   ]
  }
 ],
 "metadata": {
  "kernelspec": {
   "display_name": "dsa-venv",
   "language": "python",
   "name": "python3"
  },
  "language_info": {
   "codemirror_mode": {
    "name": "ipython",
    "version": 3
   },
   "file_extension": ".py",
   "mimetype": "text/x-python",
   "name": "python",
   "nbconvert_exporter": "python",
   "pygments_lexer": "ipython3",
   "version": "3.11.3"
  }
 },
 "nbformat": 4,
 "nbformat_minor": 2
}
