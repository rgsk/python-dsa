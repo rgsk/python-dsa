{
 "cells": [
  {
   "cell_type": "code",
   "execution_count": 18,
   "metadata": {},
   "outputs": [],
   "source": [
    "# https://www.interviewbit.com/problems/max-product-subarray/"
   ]
  },
  {
   "cell_type": "code",
   "execution_count": 19,
   "metadata": {},
   "outputs": [],
   "source": [
    "class Solution:\n",
    "    # @param A : tuple of integers\n",
    "    # @return an integer\n",
    "    def maxProduct(self, A):\n",
    "        n = len(A)\n",
    "        ans = float('-inf')\n",
    "        for i in range(n):\n",
    "            p = 1\n",
    "            for j in range(i, n):\n",
    "                p *= A[j]\n",
    "                ans = max(ans, p)\n",
    "        return ans"
   ]
  },
  {
   "cell_type": "code",
   "execution_count": 21,
   "metadata": {},
   "outputs": [],
   "source": [
    "'''\n",
    "thought process behind this solution\n",
    "let's assume there is no zero in this array\n",
    "in that case\n",
    "case: 1\n",
    "even negative numbers\n",
    "in this case the answer is simply the product of all elements in the array\n",
    "moving from left to right or right to left would give us same answer\n",
    "\n",
    "case: 2\n",
    "odd negative numbers\n",
    "think like we have\n",
    "\n",
    "8, 9, -1, 4, 5\n",
    "\n",
    "in this case if we move from left to right, before the product is turned negative, 8 * 9 would give us max product\n",
    "\n",
    "8, 9, -1, -2, -2, 4, 5\n",
    "ans would be either of (8 * 9 * -1 * -2) or (5 * 4 * -2 * -2)\n",
    "\n",
    "now consider if we have 0\n",
    "then think if it as a different array given from current 0 to next zero or end of array\n",
    "'''\n",
    "class Solution:\n",
    "    # @param A : tuple of integers\n",
    "    # @return an integer\n",
    "    def maxProduct(self, A):\n",
    "        n=len(A)\n",
    "        lr=1\n",
    "        rl=1\n",
    "        ans=float(\"-inf\")\n",
    "        for i in range(n):\n",
    "            if lr:\n",
    "                lr*=A[i]\n",
    "            else:\n",
    "                lr=A[i]\n",
    "            if ans<lr:\n",
    "                ans=lr\n",
    "        for i in reversed(range(n)):\n",
    "            if rl:\n",
    "                rl*=A[i]\n",
    "            else:\n",
    "                rl=A[i]\n",
    "            if ans<rl:\n",
    "                ans=rl\n",
    "        return ans"
   ]
  },
  {
   "cell_type": "code",
   "execution_count": 22,
   "metadata": {},
   "outputs": [
    {
     "data": {
      "text/plain": [
       "6"
      ]
     },
     "execution_count": 22,
     "metadata": {},
     "output_type": "execute_result"
    }
   ],
   "source": [
    "A = [2, 3, -2, 4]\n",
    "sol = Solution()\n",
    "sol.maxProduct(A)"
   ]
  }
 ],
 "metadata": {
  "kernelspec": {
   "display_name": "dsa-venv",
   "language": "python",
   "name": "python3"
  },
  "language_info": {
   "codemirror_mode": {
    "name": "ipython",
    "version": 3
   },
   "file_extension": ".py",
   "mimetype": "text/x-python",
   "name": "python",
   "nbconvert_exporter": "python",
   "pygments_lexer": "ipython3",
   "version": "3.11.3"
  }
 },
 "nbformat": 4,
 "nbformat_minor": 2
}
