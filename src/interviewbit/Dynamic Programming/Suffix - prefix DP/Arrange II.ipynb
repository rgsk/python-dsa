{
 "cells": [
  {
   "cell_type": "code",
   "execution_count": 265,
   "metadata": {},
   "outputs": [],
   "source": [
    "# https://www.interviewbit.com/problems/arrange-ii/"
   ]
  },
  {
   "cell_type": "code",
   "execution_count": 266,
   "metadata": {},
   "outputs": [],
   "source": [
    "class Solution:\n",
    "    # @param A : string\n",
    "    # @param B : integer\n",
    "    # @return an integer\n",
    "    def arrange(self, A, B):\n",
    "        n = len(A)\n",
    "        w_prefix = [0] * (n+1)\n",
    "        b_prefix = [0] * (n+1)\n",
    "        for i in range(1, n+1):\n",
    "            w_prefix[i] = w_prefix[i-1] + (1 if A[i-1] == 'W' else 0)\n",
    "            b_prefix[i] = b_prefix[i-1] + (1 if A[i-1] == 'B' else 0)\n",
    "\n",
    "        def gs(i, j):\n",
    "            w_count = w_prefix[j] - w_prefix[i]\n",
    "            b_count = b_prefix[j] - b_prefix[i]\n",
    "            return w_count * b_count\n",
    "        \n",
    "        def helper(i, remaining):\n",
    "            if i == n:\n",
    "                return 0\n",
    "            if remaining == 1:\n",
    "                return gs(i, n)\n",
    "            minimum_cost = float('inf')\n",
    "            for j in range(i + 1, n + 1):\n",
    "                cur_cost = gs(i, j) + \\\n",
    "                    helper(j, remaining - 1)\n",
    "                minimum_cost = min(minimum_cost, cur_cost)\n",
    "            return minimum_cost\n",
    "        result = helper(0, B)\n",
    "        if result == float('inf'):\n",
    "            return -1\n",
    "        return result"
   ]
  },
  {
   "cell_type": "code",
   "execution_count": 267,
   "metadata": {},
   "outputs": [],
   "source": [
    "# accepted\n",
    "# 5279 ms\n",
    "class Solution:\n",
    "    # @param A : string\n",
    "    # @param B : integer\n",
    "    # @return an integer\n",
    "    def arrange(self, A, B):\n",
    "        n = len(A)\n",
    "        w_prefix = [0] * (n+1)\n",
    "        b_prefix = [0] * (n+1)\n",
    "        for i in range(1, n+1):\n",
    "            w_prefix[i] = w_prefix[i-1] + (1 if A[i-1] == 'W' else 0)\n",
    "            b_prefix[i] = b_prefix[i-1] + (1 if A[i-1] == 'B' else 0)\n",
    "\n",
    "        def gs(i, j):\n",
    "            w_count = w_prefix[j] - w_prefix[i]\n",
    "            b_count = b_prefix[j] - b_prefix[i]\n",
    "            return w_count * b_count\n",
    "        dp = [[-1 for _ in range(B + 1)] for _ in range(n)]\n",
    "        def helper(i, remaining):\n",
    "            if i == n:\n",
    "                if remaining == 0:\n",
    "                    return 0\n",
    "                return float('inf')\n",
    "            if dp[i][remaining] != -1:\n",
    "                return dp[i][remaining]\n",
    "            if remaining == 1:\n",
    "                return gs(i, n)\n",
    "            minimum_cost = float('inf')\n",
    "            for j in range(i + 1, n + 1):\n",
    "                cur_cost = gs(i, j) + \\\n",
    "                    helper(j, remaining - 1)\n",
    "                minimum_cost = min(minimum_cost, cur_cost)\n",
    "            dp[i][remaining] = minimum_cost\n",
    "            return dp[i][remaining]\n",
    "        result = helper(0, B)\n",
    "        if result == float('inf'):\n",
    "            return -1\n",
    "        return result"
   ]
  },
  {
   "cell_type": "code",
   "execution_count": 268,
   "metadata": {},
   "outputs": [],
   "source": [
    "# accepted\n",
    "# 3184 ms\n",
    "class Solution:\n",
    "    # @param A : string\n",
    "    # @param B : integer\n",
    "    # @return an integer\n",
    "    def arrange(self, A, B):\n",
    "        n = len(A)\n",
    "        if B > n: \n",
    "            # condition needs to be handled if not handled in helper function\n",
    "            return -1\n",
    "        if B == n: # condition for speeding up\n",
    "            return 0\n",
    "        w_prefix = [0] * (n+1)\n",
    "        b_prefix = [0] * (n+1)\n",
    "        for i in range(1, n+1):\n",
    "            w_prefix[i] = w_prefix[i-1] + (1 if A[i-1] == 'W' else 0)\n",
    "            b_prefix[i] = b_prefix[i-1] + (1 if A[i-1] == 'B' else 0)\n",
    "\n",
    "        def gs(i, j):\n",
    "            w_count = w_prefix[j] - w_prefix[i]\n",
    "            b_count = b_prefix[j] - b_prefix[i]\n",
    "            return w_count * b_count\n",
    "        dp = [[-1 for _ in range(B + 1)] for _ in range(n)]\n",
    "        def helper(i, remaining):\n",
    "            if i == n:\n",
    "                return 0\n",
    "            if dp[i][remaining] != -1:\n",
    "                return dp[i][remaining]\n",
    "            if remaining == 1:\n",
    "                return gs(i, n)\n",
    "            minimum_cost = float('inf')\n",
    "            for j in range(i + 1, n + 1):\n",
    "                cur_cost = gs(i, j) + \\\n",
    "                    helper(j, remaining - 1)\n",
    "                minimum_cost = min(minimum_cost, cur_cost)\n",
    "            dp[i][remaining] = minimum_cost\n",
    "            return dp[i][remaining]\n",
    "        result = helper(0, B)\n",
    "        if result == float('inf'):\n",
    "            return -1\n",
    "        return result"
   ]
  },
  {
   "cell_type": "code",
   "execution_count": 269,
   "metadata": {},
   "outputs": [],
   "source": [
    "# tabular\n",
    "class Solution:\n",
    "    # @param A : string\n",
    "    # @param B : integer\n",
    "    # @return an integer\n",
    "    def arrange(self, A, B):\n",
    "        n = len(A)\n",
    "        if B > n: \n",
    "            # condition needs to be handled if not handled in helper function\n",
    "            return -1\n",
    "        if B == n: # condition for speeding up\n",
    "            return 0\n",
    "        w_prefix = [0] * (n+1)\n",
    "        b_prefix = [0] * (n+1)\n",
    "        for i in range(1, n+1):\n",
    "            w_prefix[i] = w_prefix[i-1] + (1 if A[i-1] == 'W' else 0)\n",
    "            b_prefix[i] = b_prefix[i-1] + (1 if A[i-1] == 'B' else 0)\n",
    "\n",
    "        def gs(i, j):\n",
    "            w_count = w_prefix[j] - w_prefix[i]\n",
    "            b_count = b_prefix[j] - b_prefix[i]\n",
    "            return w_count * b_count\n",
    "        dp = [[float('inf') for _ in range(B + 1)] for _ in range(n + 1)]\n",
    "        for i in range(n, -1, -1):\n",
    "            for remaining in range(1, B + 1):\n",
    "                if i == n:\n",
    "                    dp[i][remaining] = 0\n",
    "                    continue\n",
    "                if remaining == 1:\n",
    "                    dp[i][remaining] = gs(i, n)\n",
    "                    continue\n",
    "                minimum_cost = float('inf')\n",
    "                for j in range(i + 1, n + 1):\n",
    "                    cur_cost = gs(i, j) + \\\n",
    "                        dp[j][remaining - 1]\n",
    "                    minimum_cost = min(minimum_cost, cur_cost)\n",
    "                dp[i][remaining] = minimum_cost\n",
    "        result = dp[0][B]\n",
    "        if result == float('inf'):\n",
    "            return -1\n",
    "        return result"
   ]
  },
  {
   "cell_type": "code",
   "execution_count": 270,
   "metadata": {},
   "outputs": [
    {
     "data": {
      "text/plain": [
       "0"
      ]
     },
     "execution_count": 270,
     "metadata": {},
     "output_type": "execute_result"
    }
   ],
   "source": [
    "A = \"WWWB\"\n",
    "B = 2\n",
    "sol = Solution()\n",
    "sol.arrange(A, B)"
   ]
  },
  {
   "cell_type": "code",
   "execution_count": 271,
   "metadata": {},
   "outputs": [
    {
     "data": {
      "text/plain": [
       "3"
      ]
     },
     "execution_count": 271,
     "metadata": {},
     "output_type": "execute_result"
    }
   ],
   "source": [
    "A = \"BWWWB\"\n",
    "B = 2\n",
    "sol = Solution()\n",
    "sol.arrange(A, B)"
   ]
  },
  {
   "cell_type": "code",
   "execution_count": 272,
   "metadata": {},
   "outputs": [
    {
     "data": {
      "text/plain": [
       "0"
      ]
     },
     "execution_count": 272,
     "metadata": {},
     "output_type": "execute_result"
    }
   ],
   "source": [
    "A = \"BWWWBB\"\n",
    "B = 3\n",
    "sol = Solution()\n",
    "sol.arrange(A, B)"
   ]
  },
  {
   "cell_type": "code",
   "execution_count": 273,
   "metadata": {},
   "outputs": [
    {
     "data": {
      "text/plain": [
       "0"
      ]
     },
     "execution_count": 273,
     "metadata": {},
     "output_type": "execute_result"
    }
   ],
   "source": [
    "A = \"BWB\"\n",
    "B = 3\n",
    "sol = Solution()\n",
    "sol.arrange(A, B)"
   ]
  },
  {
   "cell_type": "code",
   "execution_count": 274,
   "metadata": {},
   "outputs": [
    {
     "data": {
      "text/plain": [
       "0"
      ]
     },
     "execution_count": 274,
     "metadata": {},
     "output_type": "execute_result"
    }
   ],
   "source": [
    "A = \"BWWWWBBWWBWBWWBBBBBWBWWBBBWWWWBBBW\"\n",
    "B = 28\n",
    "sol = Solution()\n",
    "sol.arrange(A, B)"
   ]
  },
  {
   "cell_type": "code",
   "execution_count": 275,
   "metadata": {},
   "outputs": [
    {
     "data": {
      "text/plain": [
       "-1"
      ]
     },
     "execution_count": 275,
     "metadata": {},
     "output_type": "execute_result"
    }
   ],
   "source": [
    "A = \"WBBWWWB\"\n",
    "B = 30\n",
    "sol = Solution()\n",
    "sol.arrange(A, B)"
   ]
  }
 ],
 "metadata": {
  "kernelspec": {
   "display_name": "dsa-venv",
   "language": "python",
   "name": "python3"
  },
  "language_info": {
   "codemirror_mode": {
    "name": "ipython",
    "version": 3
   },
   "file_extension": ".py",
   "mimetype": "text/x-python",
   "name": "python",
   "nbconvert_exporter": "python",
   "pygments_lexer": "ipython3",
   "version": "3.11.3"
  }
 },
 "nbformat": 4,
 "nbformat_minor": 2
}
