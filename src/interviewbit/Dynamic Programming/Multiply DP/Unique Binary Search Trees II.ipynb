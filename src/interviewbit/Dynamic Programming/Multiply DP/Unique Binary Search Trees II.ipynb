{
 "cells": [
  {
   "cell_type": "code",
   "execution_count": 3,
   "metadata": {},
   "outputs": [],
   "source": [
    "def nthCatalan(n: int):\n",
    "    if n == 0 or n == 1:\n",
    "        return 1\n",
    "    dp = [0 for _ in range(n + 1)]\n",
    "    dp[0] = 1\n",
    "    dp[1] = 1\n",
    "    for j in range(2, n + 1):\n",
    "        for i in range(j):\n",
    "            dp[j] += dp[i] * dp[j-i-1]\n",
    "    return dp[n]\n",
    "\n",
    "class Solution:\n",
    "    # @param A : integer\n",
    "    # @return an integer\n",
    "    def numTrees(self, A):\n",
    "        return nthCatalan(A)"
   ]
  },
  {
   "cell_type": "code",
   "execution_count": 4,
   "metadata": {},
   "outputs": [
    {
     "data": {
      "text/plain": [
       "5"
      ]
     },
     "execution_count": 4,
     "metadata": {},
     "output_type": "execute_result"
    }
   ],
   "source": [
    "A = 3\n",
    "sol = Solution()\n",
    "sol.numTrees(A)"
   ]
  }
 ],
 "metadata": {
  "language_info": {
   "name": "python"
  }
 },
 "nbformat": 4,
 "nbformat_minor": 2
}
