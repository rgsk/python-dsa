{
 "cells": [
  {
   "cell_type": "code",
   "execution_count": 69,
   "metadata": {},
   "outputs": [],
   "source": [
    "class Solution:\n",
    "    # @param A : integer\n",
    "    # @param B : integer\n",
    "    # @return an integer\n",
    "    def solve(self, A, B):\n",
    "        def helper(remainingDigits, remainingSum):\n",
    "            if remainingDigits == 0:\n",
    "                if remainingSum == 0:\n",
    "                    return 1\n",
    "                return 0\n",
    "            ans = 0\n",
    "            start = 1 if remainingDigits == A else 0 \n",
    "            for i in range(start, min(10, remainingSum + 1)):\n",
    "                ans += helper(remainingDigits - 1, remainingSum - i)\n",
    "            return ans\n",
    "        return helper(A, B)"
   ]
  },
  {
   "cell_type": "code",
   "execution_count": 70,
   "metadata": {},
   "outputs": [],
   "source": [
    "mod = 10**9 + 7\n",
    "\n",
    "class Solution:\n",
    "    # @param A : integer\n",
    "    # @param B : integer\n",
    "    # @return an integer\n",
    "    def solve(self, A, B):\n",
    "        dp = [[-1 for _ in range(B + 1)] for _ in range(A + 1)]\n",
    "        \n",
    "        def helper(remainingDigits, remainingSum):\n",
    "            if remainingDigits == 0:\n",
    "                if remainingSum == 0:\n",
    "                    return 1\n",
    "                return 0\n",
    "            if dp[remainingDigits][remainingSum] != -1:\n",
    "                return dp[remainingDigits][remainingSum]\n",
    "            ans = 0\n",
    "            start = 1 if remainingDigits == A else 0 \n",
    "            for i in range(start, min(10, remainingSum + 1)):\n",
    "                ans += helper(remainingDigits - 1, remainingSum - i)\n",
    "            dp[remainingDigits][remainingSum] = ans\n",
    "            return dp[remainingDigits][remainingSum]\n",
    "        \n",
    "        return helper(A, B) % mod"
   ]
  },
  {
   "cell_type": "code",
   "execution_count": 71,
   "metadata": {},
   "outputs": [],
   "source": [
    "mod = 10**9 + 7\n",
    "\n",
    "class Solution:\n",
    "    # @param A : integer\n",
    "    # @param B : integer\n",
    "    # @return an integer\n",
    "    def solve(self, A, B):\n",
    "        dp = [[1 if remainingDigits == 0 and remainingSum == 0 else 0  for remainingSum in range(B + 1)] for remainingDigits in range(A + 1)]\n",
    "        \n",
    "        for remainingDigits in range(1, A + 1):\n",
    "            for remainingSum in range(B + 1):\n",
    "                ans = 0\n",
    "                start = 1 if remainingDigits == A else 0 \n",
    "                for i in range(start, min(10, remainingSum + 1)):\n",
    "                    ans += dp[remainingDigits-1][remainingSum-i]\n",
    "                dp[remainingDigits][remainingSum] = ans\n",
    "\n",
    "        return dp[A][B] % mod"
   ]
  },
  {
   "cell_type": "code",
   "execution_count": 72,
   "metadata": {},
   "outputs": [
    {
     "data": {
      "text/plain": [
       "4"
      ]
     },
     "execution_count": 72,
     "metadata": {},
     "output_type": "execute_result"
    }
   ],
   "source": [
    "A = 2\n",
    "B = 4\n",
    "sol = Solution()\n",
    "sol.solve(A, B) "
   ]
  },
  {
   "cell_type": "code",
   "execution_count": 73,
   "metadata": {},
   "outputs": [
    {
     "data": {
      "text/plain": [
       "478432066"
      ]
     },
     "execution_count": 73,
     "metadata": {},
     "output_type": "execute_result"
    }
   ],
   "source": [
    "A = 75\n",
    "B = 22\n",
    "sol = Solution()\n",
    "sol.solve(A, B) "
   ]
  }
 ],
 "metadata": {
  "kernelspec": {
   "display_name": "dsa-venv",
   "language": "python",
   "name": "python3"
  },
  "language_info": {
   "codemirror_mode": {
    "name": "ipython",
    "version": 3
   },
   "file_extension": ".py",
   "mimetype": "text/x-python",
   "name": "python",
   "nbconvert_exporter": "python",
   "pygments_lexer": "ipython3",
   "version": "3.11.3"
  }
 },
 "nbformat": 4,
 "nbformat_minor": 2
}
