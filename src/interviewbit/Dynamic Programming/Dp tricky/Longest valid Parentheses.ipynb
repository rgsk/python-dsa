{
 "cells": [
  {
   "cell_type": "code",
   "execution_count": 28,
   "metadata": {},
   "outputs": [],
   "source": [
    "# https://www.interviewbit.com/problems/longest-valid-parentheses/"
   ]
  },
  {
   "cell_type": "code",
   "execution_count": 29,
   "metadata": {},
   "outputs": [],
   "source": [
    "# accepted\n",
    "class Solution:\n",
    "    # @param A : string\n",
    "    # @return an integer\n",
    "    def longestValidParentheses(self, s):\n",
    "        stack = [-1]\n",
    "        ans = 0\n",
    "        for i in range(len(s)):\n",
    "            if s[i] == '(':\n",
    "                stack.append(i)\n",
    "            else:\n",
    "                if len(stack) > 1 and s[stack[-1]] == '(':\n",
    "                    stack.pop()\n",
    "                    ans = max(ans, i - stack[-1])\n",
    "                else:\n",
    "                    stack.append(i)\n",
    "        return ans"
   ]
  },
  {
   "cell_type": "code",
   "execution_count": 30,
   "metadata": {},
   "outputs": [],
   "source": [
    "# slightly more optimised since we just store the reset\n",
    "class Solution:\n",
    "    # @param A : string\n",
    "    # @return an integer\n",
    "    def longestValidParentheses(self, s):\n",
    "        stack = [-1]\n",
    "        ans = 0\n",
    "        for i in range(len(s)):\n",
    "            if s[i] == '(':\n",
    "                stack.append(i)\n",
    "            else:\n",
    "                if len(stack) > 1 and s[stack[-1]] == '(':\n",
    "                    stack.pop()\n",
    "                    ans = max(ans, i - stack[-1])\n",
    "                else:\n",
    "                    stack = [i]\n",
    "        return ans"
   ]
  },
  {
   "cell_type": "code",
   "execution_count": 31,
   "metadata": {},
   "outputs": [
    {
     "data": {
      "text/plain": [
       "2"
      ]
     },
     "execution_count": 31,
     "metadata": {},
     "output_type": "execute_result"
    }
   ],
   "source": [
    "A = \"(()\"\n",
    "sol = Solution()\n",
    "sol.longestValidParentheses(A)"
   ]
  },
  {
   "cell_type": "code",
   "execution_count": 32,
   "metadata": {},
   "outputs": [
    {
     "data": {
      "text/plain": [
       "4"
      ]
     },
     "execution_count": 32,
     "metadata": {},
     "output_type": "execute_result"
    }
   ],
   "source": [
    "A = \")()())\"\n",
    "sol = Solution()\n",
    "sol.longestValidParentheses(A)"
   ]
  },
  {
   "cell_type": "code",
   "execution_count": 33,
   "metadata": {},
   "outputs": [
    {
     "data": {
      "text/plain": [
       "6"
      ]
     },
     "execution_count": 33,
     "metadata": {},
     "output_type": "execute_result"
    }
   ],
   "source": [
    "A = \")()())((()))\"\n",
    "sol = Solution()\n",
    "sol.longestValidParentheses(A)"
   ]
  }
 ],
 "metadata": {
  "kernelspec": {
   "display_name": "dsa-venv",
   "language": "python",
   "name": "python3"
  },
  "language_info": {
   "codemirror_mode": {
    "name": "ipython",
    "version": 3
   },
   "file_extension": ".py",
   "mimetype": "text/x-python",
   "name": "python",
   "nbconvert_exporter": "python",
   "pygments_lexer": "ipython3",
   "version": "3.11.3"
  }
 },
 "nbformat": 4,
 "nbformat_minor": 2
}
