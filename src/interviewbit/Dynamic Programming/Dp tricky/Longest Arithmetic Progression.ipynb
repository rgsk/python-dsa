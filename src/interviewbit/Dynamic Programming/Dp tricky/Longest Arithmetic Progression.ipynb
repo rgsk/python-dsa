{
 "cells": [
  {
   "cell_type": "code",
   "execution_count": 52,
   "metadata": {},
   "outputs": [],
   "source": [
    "# tle\n",
    "class Solution:\n",
    "    # @param A : tuple of integers\n",
    "    # @return an integer\n",
    "    def solve(self, A):\n",
    "        n = len(A)\n",
    "        if n == 1: return 1\n",
    "        def helper(ind, lastInd, d):\n",
    "            if ind == n:\n",
    "                return 0\n",
    "            if A[ind] - A[lastInd] == d:\n",
    "                return 1 + helper(ind+1,ind,d)\n",
    "            else:\n",
    "                return helper(ind+1,lastInd,d)\n",
    "        maxAns = 0\n",
    "        for i in range(n):\n",
    "            for j in range(i+1,n):\n",
    "                maxAns = max(maxAns, 1 + helper(j, i, A[j] - A[i]))\n",
    "        return maxAns\n",
    "            "
   ]
  },
  {
   "cell_type": "code",
   "execution_count": 53,
   "metadata": {},
   "outputs": [],
   "source": [
    "class Solution:\n",
    "    # @param A : tuple of integers\n",
    "    # @return an integer\n",
    "    def solve(self, A):\n",
    "        if len(A) <= 2:\n",
    "            return len(A)\n",
    "        dp = {}\n",
    "        for i in range(len(A)):\n",
    "            for j in range(i+1,len(A)):\n",
    "                d = A[j]-A[i]\n",
    "                if (i,d) in dp:\n",
    "                    dp[(j,d)]  = 1+dp[(i,d)]\n",
    "                    del dp[(i,d)]\n",
    "                else: dp[(j,d)] = 2\n",
    "        return max(dp.values())"
   ]
  },
  {
   "cell_type": "code",
   "execution_count": 54,
   "metadata": {},
   "outputs": [
    {
     "data": {
      "text/plain": [
       "4"
      ]
     },
     "execution_count": 54,
     "metadata": {},
     "output_type": "execute_result"
    }
   ],
   "source": [
    "A = [3, 6, 9, 12]\n",
    "sol = Solution()\n",
    "sol.solve(A)"
   ]
  },
  {
   "cell_type": "code",
   "execution_count": 55,
   "metadata": {},
   "outputs": [
    {
     "data": {
      "text/plain": [
       "3"
      ]
     },
     "execution_count": 55,
     "metadata": {},
     "output_type": "execute_result"
    }
   ],
   "source": [
    "A = [9, 4, 7, 2, 10]\n",
    "sol = Solution()\n",
    "sol.solve(A)"
   ]
  }
 ],
 "metadata": {
  "kernelspec": {
   "display_name": "dsa-venv",
   "language": "python",
   "name": "python3"
  },
  "language_info": {
   "codemirror_mode": {
    "name": "ipython",
    "version": 3
   },
   "file_extension": ".py",
   "mimetype": "text/x-python",
   "name": "python",
   "nbconvert_exporter": "python",
   "pygments_lexer": "ipython3",
   "version": "3.11.3"
  }
 },
 "nbformat": 4,
 "nbformat_minor": 2
}
