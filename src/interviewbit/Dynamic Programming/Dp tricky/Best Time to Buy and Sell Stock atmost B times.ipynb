{
 "cells": [
  {
   "cell_type": "code",
   "execution_count": 547,
   "metadata": {},
   "outputs": [],
   "source": [
    "# https://www.interviewbit.com/problems/best-time-to-buy-and-sell-stock-atmost-b-times/"
   ]
  },
  {
   "cell_type": "code",
   "execution_count": 548,
   "metadata": {},
   "outputs": [],
   "source": [
    "class Solution:\n",
    "    # @param A : list of integers\n",
    "    # @param B : integer\n",
    "    # @return an integer\n",
    "    def solve(self, A, B):\n",
    "        n = len(A)\n",
    "        def helper(idx, remaining, buy):\n",
    "            if idx == n:\n",
    "                return 0\n",
    "            if buy:\n",
    "                if remaining > 0:\n",
    "                    return max(-A[idx] + helper(idx + 1, remaining - 1, False), helper(idx + 1, remaining, True))\n",
    "                return 0\n",
    "            else:\n",
    "                return max(A[idx] + helper(idx + 1, remaining, True), helper(idx + 1, remaining, False))\n",
    "        return helper(0, B, True)"
   ]
  },
  {
   "cell_type": "code",
   "execution_count": 549,
   "metadata": {},
   "outputs": [],
   "source": [
    "class Solution:\n",
    "    # @param A : list of integers\n",
    "    # @param B : integer\n",
    "    # @return an integer\n",
    "    def solve(self, A, B):\n",
    "        n = len(A)\n",
    "        dp = [[[None, None] for _ in range(B + 1)] for _ in range(n)]\n",
    "        def helper(idx, remaining, buy):\n",
    "            if idx == n:\n",
    "                return 0\n",
    "            if dp[idx][remaining][buy] != None:\n",
    "                return dp[idx][remaining][buy]\n",
    "            if buy:\n",
    "                if remaining > 0:\n",
    "                    dp[idx][remaining][buy] = max(-A[idx] + helper(idx + 1, remaining - 1, 0), helper(idx + 1, remaining, 1))\n",
    "                else:\n",
    "                    dp[idx][remaining][buy]  = 0\n",
    "            else:\n",
    "                dp[idx][remaining][buy] = max(A[idx] + helper(idx + 1, remaining, 1), helper(idx + 1, remaining, 0))\n",
    "            return dp[idx][remaining][buy]\n",
    "        return helper(0, B, 1)"
   ]
  },
  {
   "cell_type": "code",
   "execution_count": 550,
   "metadata": {},
   "outputs": [],
   "source": [
    "class Solution:\n",
    "    # @param A : list of integers\n",
    "    # @param B : integer\n",
    "    # @return an integer\n",
    "    def solve(self, A, B):\n",
    "        n = len(A)\n",
    "        dp = [[[0, 0] for _ in range(B + 1)] for _ in range(n + 1)]\n",
    "        for idx in range(n, -1, -1):\n",
    "            for remaining in range(B + 1):\n",
    "                for buy in range(2):\n",
    "                    if idx == n:\n",
    "                        dp[idx][remaining][buy] = 0\n",
    "                        continue\n",
    "                    if buy:\n",
    "                        if remaining > 0:\n",
    "                            dp[idx][remaining][buy] = max(-A[idx] + dp[idx + 1][remaining - 1][0], dp[idx + 1][remaining][1])\n",
    "                        else:\n",
    "                            dp[idx][remaining][buy]  = 0\n",
    "                    else:\n",
    "                        dp[idx][remaining][buy] = max(A[idx] + dp[idx + 1][remaining][1], dp[idx + 1][remaining][0])         \n",
    "        return dp[0][B][1]"
   ]
  },
  {
   "cell_type": "code",
   "execution_count": 551,
   "metadata": {},
   "outputs": [],
   "source": [
    "class Solution:\n",
    "    # @param A : list of integers\n",
    "    # @param B : integer\n",
    "    # @return an integer\n",
    "    def solve(self, A, B):\n",
    "        n = len(A)\n",
    "        dp = [[[0, 0] for _ in range(B + 1)] for _ in range(n + 1)]\n",
    "        for idx in range(n, -1, -1):\n",
    "            for remaining in range(B + 1):\n",
    "                if idx == n:\n",
    "                    dp[idx][remaining][1] = 0\n",
    "                    dp[idx][remaining][0] = 0\n",
    "                    continue\n",
    "                if remaining > 0:\n",
    "                    dp[idx][remaining][1] = max(-A[idx] + dp[idx + 1][remaining - 1][0], dp[idx + 1][remaining][1])\n",
    "                else:\n",
    "                    dp[idx][remaining][1]  = 0\n",
    "                dp[idx][remaining][0] = max(A[idx] + dp[idx + 1][remaining][1], dp[idx + 1][remaining][0])         \n",
    "        return dp[0][B][1]"
   ]
  },
  {
   "cell_type": "code",
   "execution_count": 552,
   "metadata": {},
   "outputs": [],
   "source": [
    "class Solution:\n",
    "    # @param A : list of integers\n",
    "    # @param B : integer\n",
    "    # @return an integer\n",
    "    def solve(self, A, B):\n",
    "        n = len(A)\n",
    "        dp = [[[0, 0] for _ in range(B + 1)] for _ in range(n + 1)]\n",
    "        for idx in range(n, -1, -1):\n",
    "            for remaining in range(B + 1):\n",
    "                if idx == n:\n",
    "                    dp[idx][remaining][1] = 0\n",
    "                    dp[idx][remaining][0] = 0\n",
    "                    continue\n",
    "                if remaining > 0:\n",
    "                    dp[idx][remaining][1] = max(-A[idx] + r, dp[idx + 1][remaining][1])\n",
    "                else:\n",
    "                    dp[idx][remaining][1]  = 0\n",
    "                dp[idx][remaining][0] = max(A[idx] + dp[idx + 1][remaining][1], dp[idx + 1][remaining][0]) \n",
    "                r = dp[idx + 1][remaining][0]        \n",
    "        return dp[0][B][1]"
   ]
  },
  {
   "cell_type": "code",
   "execution_count": 553,
   "metadata": {},
   "outputs": [],
   "source": [
    "class Solution:\n",
    "    # @param A : list of integers\n",
    "    # @param B : integer\n",
    "    # @return an integer\n",
    "    def solve(self, A, B):\n",
    "        n = len(A)\n",
    "        dp = [[0, 0] for _ in range(B + 1)]\n",
    "        for idx in range(n, -1, -1):\n",
    "            for remaining in range(B + 1):\n",
    "                if idx == n:\n",
    "                    dp[remaining][1] = 0\n",
    "                    dp[remaining][0] = 0\n",
    "                    continue\n",
    "                if remaining > 0:\n",
    "                    dp[remaining][1] = max(-A[idx] + r, dp[remaining][1])\n",
    "                else:\n",
    "                    dp[remaining][1]  = 0\n",
    "                dp[remaining][0] = max(A[idx] + dp[remaining][1], dp[remaining][0]) \n",
    "                r = dp[remaining][0]        \n",
    "        return dp[B][1]"
   ]
  },
  {
   "cell_type": "code",
   "execution_count": 554,
   "metadata": {},
   "outputs": [],
   "source": [
    "class Solution:\n",
    "    # @param A : list of integers\n",
    "    # @param B : integer\n",
    "    # @return an integer\n",
    "    def solve(self, A, B):\n",
    "        n = len(A)\n",
    "        buy = [0] * (B + 1)\n",
    "        sell = [0] * (B + 1)\n",
    "        for idx in range(n, -1, -1):\n",
    "            for remaining in range(B + 1):\n",
    "                if idx == n:\n",
    "                    buy[remaining] = 0\n",
    "                    sell[remaining] = 0\n",
    "                    continue\n",
    "                if remaining > 0:\n",
    "                    buy[remaining] = max(-A[idx] + r, buy[remaining])\n",
    "                else:\n",
    "                    buy[remaining]  = 0\n",
    "                sell[remaining] = max(A[idx] + buy[remaining], sell[remaining]) \n",
    "                r = sell[remaining]        \n",
    "        return buy[B]"
   ]
  },
  {
   "cell_type": "code",
   "execution_count": 555,
   "metadata": {},
   "outputs": [],
   "source": [
    "# this solution was accepted \n",
    "class Solution:\n",
    "    # @param A : list of integers\n",
    "    # @param B : integer\n",
    "    # @return an integer\n",
    "    def solve(self, A, B):\n",
    "        n = len(A)\n",
    "        # below was the major trick to solve this problem\n",
    "        # maximum number of transactions is n//2 if we have n stocks\n",
    "        max_transactions = min(n // 2, B)\n",
    "        buy = [0] * (max_transactions + 1)\n",
    "        sell = [0] * (max_transactions + 1)\n",
    "        for idx in range(n, -1, -1):\n",
    "            for remaining in range(max_transactions + 1):\n",
    "                if idx == n:\n",
    "                    buy[remaining] = 0\n",
    "                    sell[remaining] = 0\n",
    "                    continue\n",
    "                if remaining > 0:\n",
    "                    buy[remaining] = max(-A[idx] + r, buy[remaining])\n",
    "                else:\n",
    "                    buy[remaining]  = 0\n",
    "                sell[remaining] = max(A[idx] + buy[remaining], sell[remaining]) \n",
    "                r = sell[remaining]        \n",
    "        return buy[max_transactions]"
   ]
  },
  {
   "cell_type": "code",
   "execution_count": 556,
   "metadata": {},
   "outputs": [
    {
     "data": {
      "text/plain": [
       "2"
      ]
     },
     "execution_count": 556,
     "metadata": {},
     "output_type": "execute_result"
    }
   ],
   "source": [
    "A = [2, 4, 1]\n",
    "B = 2\n",
    "sol = Solution()\n",
    "sol.solve(A, B)"
   ]
  },
  {
   "cell_type": "code",
   "execution_count": 557,
   "metadata": {},
   "outputs": [
    {
     "data": {
      "text/plain": [
       "13"
      ]
     },
     "execution_count": 557,
     "metadata": {},
     "output_type": "execute_result"
    }
   ],
   "source": [
    "A = [3, 2, 6, 5, 0, 3, 0, 9]\n",
    "B = 2\n",
    "sol = Solution()\n",
    "sol.solve(A, B)"
   ]
  },
  {
   "cell_type": "code",
   "execution_count": 558,
   "metadata": {},
   "outputs": [
    {
     "data": {
      "text/plain": [
       "15"
      ]
     },
     "execution_count": 558,
     "metadata": {},
     "output_type": "execute_result"
    }
   ],
   "source": [
    "A = [ 11, 7, 11, 17, 12, 12, 16, 10, 11 ]\n",
    "B = 4\n",
    "sol = Solution()\n",
    "sol.solve(A, B)"
   ]
  },
  {
   "cell_type": "code",
   "execution_count": 559,
   "metadata": {},
   "outputs": [
    {
     "data": {
      "text/plain": [
       "96001"
      ]
     },
     "execution_count": 559,
     "metadata": {},
     "output_type": "execute_result"
    }
   ],
   "source": [
    "A = [ 19230, 13765, 6863, 3840, 8367, 15603, 16327, 15140, 5582, 12937, 9472, 14190, 9541, 4126, 2757, 400, 19685, 15908, 4929, 18136, 16050, 6622, 13439, 265, 5846, 3188, 8756, 4960, 18781, 11139, 5152, 12314 ]\n",
    "B = 100000089\n",
    "sol = Solution()\n",
    "sol.solve(A, B)"
   ]
  }
 ],
 "metadata": {
  "kernelspec": {
   "display_name": "dsa-venv",
   "language": "python",
   "name": "python3"
  },
  "language_info": {
   "codemirror_mode": {
    "name": "ipython",
    "version": 3
   },
   "file_extension": ".py",
   "mimetype": "text/x-python",
   "name": "python",
   "nbconvert_exporter": "python",
   "pygments_lexer": "ipython3",
   "version": "3.11.3"
  }
 },
 "nbformat": 4,
 "nbformat_minor": 2
}
