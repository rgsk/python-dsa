{
 "cells": [
  {
   "cell_type": "code",
   "execution_count": 7,
   "metadata": {},
   "outputs": [],
   "source": [
    "# https://www.interviewbit.com/problems/kth-manhattan-distance-neighbourhood/"
   ]
  },
  {
   "cell_type": "code",
   "execution_count": 8,
   "metadata": {},
   "outputs": [],
   "source": [
    "# try going through the code you will understand\n",
    "\n",
    "class Solution:\n",
    "    # @param A : integer\n",
    "    # @param B : list of list of integers\n",
    "    # @return a list of list of integers\n",
    "    def solve(self, A, B):\n",
    "        rows, cols = len(B), len(B[0])\n",
    "        M = [[B[i][j] for j in range(cols)] for i in range(rows)]\n",
    "        M_ = [[B[i][j] for j in range(cols)] for i in range(rows)]\n",
    "        for _ in range(A):\n",
    "            for i in range(rows):\n",
    "                for j in range(cols):\n",
    "                    M_[i][j] = max(\n",
    "                        M[i][j],\n",
    "                        M[i-1][j] if i > 0 else 0,\n",
    "                        M[i+1][j] if i < rows - 1 else 0,\n",
    "                        M[i][j-1] if j > 0 else 0,\n",
    "                        M[i][j+1] if j < cols-1 else 0\n",
    "                    )\n",
    "            M_, M = M, M_\n",
    "        return M"
   ]
  },
  {
   "cell_type": "code",
   "execution_count": 9,
   "metadata": {},
   "outputs": [
    {
     "data": {
      "text/plain": [
       "[[5, 8, 8], [8, 8, 8]]"
      ]
     },
     "execution_count": 9,
     "metadata": {},
     "output_type": "execute_result"
    }
   ],
   "source": [
    "A = 2\n",
    "B  = [[1,2,4],[4,5,8]]\n",
    "sol = Solution()\n",
    "sol.solve(A, B)"
   ]
  }
 ],
 "metadata": {
  "kernelspec": {
   "display_name": "dsa-venv",
   "language": "python",
   "name": "python3"
  },
  "language_info": {
   "codemirror_mode": {
    "name": "ipython",
    "version": 3
   },
   "file_extension": ".py",
   "mimetype": "text/x-python",
   "name": "python",
   "nbconvert_exporter": "python",
   "pygments_lexer": "ipython3",
   "version": "3.11.3"
  }
 },
 "nbformat": 4,
 "nbformat_minor": 2
}
