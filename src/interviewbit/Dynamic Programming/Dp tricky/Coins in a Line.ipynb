{
 "cells": [
  {
   "cell_type": "code",
   "execution_count": 125,
   "metadata": {},
   "outputs": [],
   "source": [
    "class Solution:\n",
    "    # @param A : list of integers\n",
    "    # @return an integer\n",
    "    def maxcoin(self, A):\n",
    "        n = len(A)\n",
    "        def helper(l, r, turn):\n",
    "            if l >= r:\n",
    "                return 0\n",
    "            if turn:\n",
    "                return max(A[l] + helper(l + 1, r, not turn), A[r] + helper(l, r-1, not turn))\n",
    "            else:\n",
    "                return min(helper(l + 1, r, not turn), helper(l, r-1, not turn))\n",
    "        return helper(0, n-1, True)"
   ]
  },
  {
   "cell_type": "code",
   "execution_count": 126,
   "metadata": {},
   "outputs": [],
   "source": [
    "class Solution:\n",
    "    # @param A : list of integers\n",
    "    # @return an integer\n",
    "    def maxcoin(self, A):\n",
    "        n = len(A)\n",
    "        dp = [[[-1, -1] for _ in range(n)] for _ in range(n)]\n",
    "        def helper(l, r, turn):\n",
    "            if l >= r:\n",
    "                return 0\n",
    "            if dp[l][r][turn] != -1:\n",
    "                return dp[l][r][turn]\n",
    "            if turn:\n",
    "                dp[l][r][turn] = max(A[l] + helper(l + 1, r, 0), A[r] + helper(l, r-1, 0))\n",
    "            else:\n",
    "                dp[l][r][turn] = min(helper(l + 1, r, 1), helper(l, r-1, 1))\n",
    "            return dp[l][r][turn]\n",
    "        return helper(0, n-1, 1)"
   ]
  },
  {
   "cell_type": "code",
   "execution_count": 127,
   "metadata": {},
   "outputs": [],
   "source": [
    "class Solution:\n",
    "    # @param A : list of integers\n",
    "    # @return an integer\n",
    "    def maxcoin(self, A):\n",
    "        n = len(A)\n",
    "        dp = [[[0,0] for _ in range(n)] for _ in range(n)]\n",
    "       \n",
    "        for l in range(n-1,-1,-1):\n",
    "            for r in range(l+1, n):\n",
    "                dp[l][r][1] = max(A[l] +  dp[l+1][r][0], A[r] + dp[l][r-1][0])\n",
    "                dp[l][r][0] = min(dp[l+1][r][1], dp[l][r-1][1])\n",
    "                    \n",
    "        return dp[0][n-1][1]"
   ]
  },
  {
   "cell_type": "code",
   "execution_count": 128,
   "metadata": {},
   "outputs": [
    {
     "data": {
      "text/plain": [
       "6"
      ]
     },
     "execution_count": 128,
     "metadata": {},
     "output_type": "execute_result"
    }
   ],
   "source": [
    "'''\n",
    "Input 1:\n",
    "\n",
    " A = [1, 2, 3, 4]\n",
    "Input 2:\n",
    "\n",
    " A = [5, 4, 8, 10]\n",
    "'''\n",
    "\n",
    "A = [1, 2, 3, 4]\n",
    "sol = Solution()\n",
    "sol.maxcoin(A)"
   ]
  },
  {
   "cell_type": "code",
   "execution_count": 129,
   "metadata": {},
   "outputs": [
    {
     "data": {
      "text/plain": [
       "15"
      ]
     },
     "execution_count": 129,
     "metadata": {},
     "output_type": "execute_result"
    }
   ],
   "source": [
    "A = [5, 4, 8, 10]\n",
    "sol = Solution()\n",
    "sol.maxcoin(A)"
   ]
  },
  {
   "cell_type": "code",
   "execution_count": 130,
   "metadata": {},
   "outputs": [
    {
     "data": {
      "text/plain": [
       "501"
      ]
     },
     "execution_count": 130,
     "metadata": {},
     "output_type": "execute_result"
    }
   ],
   "source": [
    "A = [ 1, 100, 500, 10 ]\n",
    "sol = Solution()\n",
    "sol.maxcoin(A)"
   ]
  }
 ],
 "metadata": {
  "kernelspec": {
   "display_name": "dsa-venv",
   "language": "python",
   "name": "python3"
  },
  "language_info": {
   "codemirror_mode": {
    "name": "ipython",
    "version": 3
   },
   "file_extension": ".py",
   "mimetype": "text/x-python",
   "name": "python",
   "nbconvert_exporter": "python",
   "pygments_lexer": "ipython3",
   "version": "3.11.3"
  }
 },
 "nbformat": 4,
 "nbformat_minor": 2
}
