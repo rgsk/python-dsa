{
 "cells": [
  {
   "cell_type": "code",
   "execution_count": 1,
   "metadata": {},
   "outputs": [],
   "source": [
    "# https://www.interviewbit.com/problems/best-time-to-buy-and-sell-stocks-iii/"
   ]
  },
  {
   "cell_type": "code",
   "execution_count": 2,
   "metadata": {},
   "outputs": [],
   "source": [
    "# see below file for reference\n",
    "# Best Time to Buy and Sell Stock atmost B times.ipynb\n",
    "\n",
    "class Solution:\n",
    "    # @param A : tuple of integers\n",
    "    # @return an integer\n",
    "    def maxProfit(self, A):\n",
    "        n = len(A)\n",
    "        max_transactions = 2\n",
    "        buy = [0] * (max_transactions + 1)\n",
    "        sell = [0] * (max_transactions + 1)\n",
    "        for idx in range(n, -1, -1):\n",
    "            for remaining in range(max_transactions + 1):\n",
    "                if idx == n:\n",
    "                    buy[remaining] = 0\n",
    "                    sell[remaining] = 0\n",
    "                    continue\n",
    "                if remaining > 0:\n",
    "                    buy[remaining] = max(-A[idx] + r, buy[remaining])\n",
    "                else:\n",
    "                    buy[remaining]  = 0\n",
    "                sell[remaining] = max(A[idx] + buy[remaining], sell[remaining]) \n",
    "                r = sell[remaining]        \n",
    "        return buy[max_transactions]"
   ]
  },
  {
   "cell_type": "code",
   "execution_count": 3,
   "metadata": {},
   "outputs": [],
   "source": [
    "'''\n",
    "Input 1:\n",
    "A = [1, 2, 1, 2]\n",
    "\n",
    "\n",
    "Input 2:\n",
    "A = [7, 2, 4, 8, 7]\n",
    "'''\n",
    "pass"
   ]
  },
  {
   "cell_type": "code",
   "execution_count": 4,
   "metadata": {},
   "outputs": [
    {
     "data": {
      "text/plain": [
       "2"
      ]
     },
     "execution_count": 4,
     "metadata": {},
     "output_type": "execute_result"
    }
   ],
   "source": [
    "A = [1, 2, 1, 2]\n",
    "sol = Solution()\n",
    "sol.maxProfit(A)"
   ]
  },
  {
   "cell_type": "code",
   "execution_count": 5,
   "metadata": {},
   "outputs": [
    {
     "data": {
      "text/plain": [
       "6"
      ]
     },
     "execution_count": 5,
     "metadata": {},
     "output_type": "execute_result"
    }
   ],
   "source": [
    "A = [7, 2, 4, 8, 7]\n",
    "sol = Solution()\n",
    "sol.maxProfit(A)"
   ]
  }
 ],
 "metadata": {
  "kernelspec": {
   "display_name": "dsa-venv",
   "language": "python",
   "name": "python3"
  },
  "language_info": {
   "codemirror_mode": {
    "name": "ipython",
    "version": 3
   },
   "file_extension": ".py",
   "mimetype": "text/x-python",
   "name": "python",
   "nbconvert_exporter": "python",
   "pygments_lexer": "ipython3",
   "version": "3.11.3"
  }
 },
 "nbformat": 4,
 "nbformat_minor": 2
}
