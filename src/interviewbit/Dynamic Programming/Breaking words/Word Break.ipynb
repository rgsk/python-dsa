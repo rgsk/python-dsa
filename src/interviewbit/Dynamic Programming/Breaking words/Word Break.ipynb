{
 "cells": [
  {
   "cell_type": "code",
   "execution_count": 30,
   "metadata": {},
   "outputs": [],
   "source": [
    "# https://www.interviewbit.com/problems/word-break/"
   ]
  },
  {
   "cell_type": "code",
   "execution_count": 31,
   "metadata": {},
   "outputs": [],
   "source": [
    "class Solution:\n",
    "    # @param A : string\n",
    "    # @param B : list of strings\n",
    "    # @return an integer\n",
    "    def wordBreak(self, A, B):\n",
    "        n = len(A)\n",
    "        def helper(i, j):\n",
    "            if A[i:j] in B:\n",
    "                return 1\n",
    "            for k in range(i + 1, j):\n",
    "                temp = helper(i, k) and helper(k, j)\n",
    "                if temp:\n",
    "                    return 1\n",
    "            return 0\n",
    "        return helper(0, n)"
   ]
  },
  {
   "cell_type": "code",
   "execution_count": 32,
   "metadata": {},
   "outputs": [],
   "source": [
    "import sys\n",
    "sys.setrecursionlimit(10**6)\n",
    "\n",
    "# MLE\n",
    "class Solution:\n",
    "    # @param A : string\n",
    "    # @param B : list of strings\n",
    "    # @return an integer\n",
    "    def wordBreak(self, A, B):\n",
    "        n = len(A)\n",
    "        bset = set(B)\n",
    "        dp = [[-1 for _ in range(n + 1)] for _ in range(n + 1)]\n",
    "        def helper(i, j):\n",
    "            if dp[i][j] != -1:\n",
    "                return dp[i][j]\n",
    "            if A[i:j] in bset:\n",
    "                dp[i][j] = 1\n",
    "                return 1\n",
    "            for k in range(i + 1, j):\n",
    "                temp = helper(i, k) and helper(k, j)\n",
    "                if temp:\n",
    "                    dp[i][j] = 1\n",
    "                    return 1\n",
    "            dp[i][j] = 0\n",
    "            return 0\n",
    "        return helper(0, n)"
   ]
  },
  {
   "cell_type": "code",
   "execution_count": 33,
   "metadata": {},
   "outputs": [],
   "source": [
    "class Solution:\n",
    "    # @param A : string\n",
    "    # @param B : list of strings\n",
    "    # @return an integer\n",
    "    def wordBreak(self, A, B):\n",
    "        s = A\n",
    "        wordDict = B\n",
    "        dp = [False] * (len(s) + 1)\n",
    "        dp[0] = True\n",
    "        for i in range(1, len(s) + 1):\n",
    "            for word in wordDict:\n",
    "                if i - len(word) >= 0 and dp[i-len(word)] and s[i-len(word):i] == word:\n",
    "                    dp[i] = True\n",
    "                if dp[i]:\n",
    "                    break\n",
    "        return int(dp[len(s)])"
   ]
  },
  {
   "cell_type": "code",
   "execution_count": 34,
   "metadata": {},
   "outputs": [
    {
     "data": {
      "text/plain": [
       "1"
      ]
     },
     "execution_count": 34,
     "metadata": {},
     "output_type": "execute_result"
    }
   ],
   "source": [
    "A = \"myinterviewtrainer\"\n",
    "B = [\"trainer\", \"my\", \"interview\"]\n",
    "\n",
    "sol = Solution()\n",
    "sol.wordBreak(A, B)"
   ]
  },
  {
   "cell_type": "code",
   "execution_count": null,
   "metadata": {},
   "outputs": [],
   "source": []
  }
 ],
 "metadata": {
  "kernelspec": {
   "display_name": "dsa-venv",
   "language": "python",
   "name": "python3"
  },
  "language_info": {
   "codemirror_mode": {
    "name": "ipython",
    "version": 3
   },
   "file_extension": ".py",
   "mimetype": "text/x-python",
   "name": "python",
   "nbconvert_exporter": "python",
   "pygments_lexer": "ipython3",
   "version": "3.11.3"
  }
 },
 "nbformat": 4,
 "nbformat_minor": 2
}
