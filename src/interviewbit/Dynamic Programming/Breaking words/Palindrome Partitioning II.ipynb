{
 "cells": [
  {
   "cell_type": "code",
   "execution_count": 48,
   "metadata": {},
   "outputs": [],
   "source": [
    "# https://www.interviewbit.com/problems/palindrome-partitioning-ii/"
   ]
  },
  {
   "cell_type": "code",
   "execution_count": 49,
   "metadata": {},
   "outputs": [],
   "source": [
    "def isPalindrome(s, i, j):\n",
    "    while i < j:\n",
    "        if s[i] != s[j]:\n",
    "            return False\n",
    "        i += 1\n",
    "        j -= 1\n",
    "    return True\n",
    " \n",
    "class Solution:\n",
    "    # @param A : string\n",
    "    # @return an integer\n",
    "    def minCut(self, A):\n",
    "        def helper(i, j):\n",
    "            if isPalindrome(A, i, j):\n",
    "                return 0\n",
    "            minimum_partitions = float('inf')\n",
    "            for k in range(i, j):\n",
    "                temp = 1 + helper(i, k) + helper(k + 1, j)\n",
    "                if temp < minimum_partitions:\n",
    "                    minimum_partitions = temp\n",
    "            return minimum_partitions\n",
    "        return helper(0, len(A) - 1)"
   ]
  },
  {
   "cell_type": "code",
   "execution_count": 50,
   "metadata": {},
   "outputs": [],
   "source": [
    "def isPalindrome(s, i, j):\n",
    "    while i < j:\n",
    "        if s[i] != s[j]:\n",
    "            return False\n",
    "        i += 1\n",
    "        j -= 1\n",
    "    return True\n",
    " \n",
    "# TLE\n",
    "class Solution:\n",
    "    # @param A : string\n",
    "    # @return an integer\n",
    "    def minCut(self, A):\n",
    "        n = len(A)\n",
    "        dp = [[float('inf') for _ in range(n)] for _ in range(n)]\n",
    "        for i in range(n-1, -1, -1):\n",
    "            for j in range(i, n):\n",
    "                if isPalindrome(A, i, j):\n",
    "                    dp[i][j] = 0\n",
    "                    continue\n",
    "                for k in range(i, j):\n",
    "                    temp = 1 + dp[i][k] + dp[k+1][j]\n",
    "                    dp[i][j] = min(dp[i][j], temp)\n",
    "        return dp[0][n-1]"
   ]
  },
  {
   "cell_type": "code",
   "execution_count": 51,
   "metadata": {},
   "outputs": [],
   "source": [
    "\n",
    "# TLE\n",
    "class Solution:\n",
    "    # @param A : string\n",
    "    # @return an integer\n",
    "    def minCut(self, A):\n",
    "        n = len(A)\n",
    "        dp = [[float('inf') for _ in range(n)] for _ in range(n)]\n",
    "        palindrome = [[False for _ in range(n)] for _ in range(n)]\n",
    "\n",
    "        # Fill out the palindrome table\n",
    "        for gap in range(n):\n",
    "            for i in range(n - gap):\n",
    "                j = i + gap\n",
    "                if gap == 0:\n",
    "                    palindrome[i][j] = True\n",
    "                elif gap == 1:\n",
    "                    palindrome[i][j] = (A[i] == A[j])\n",
    "                else:\n",
    "                    palindrome[i][j] = (A[i] == A[j] and palindrome[i+1][j-1])\n",
    "\n",
    "        for i in range(n-1, -1, -1):\n",
    "            for j in range(i, n):\n",
    "                if palindrome[i][j]:\n",
    "                    dp[i][j] = 0\n",
    "                    continue\n",
    "                for k in range(i, j):\n",
    "                    temp = 1 + dp[i][k] + dp[k+1][j]\n",
    "                    dp[i][j] = min(dp[i][j], temp)\n",
    "        return dp[0][n-1]"
   ]
  },
  {
   "cell_type": "code",
   "execution_count": 52,
   "metadata": {},
   "outputs": [],
   "source": [
    "# https://www.youtube.com/watch?v=qmTtAbOTqcg\n",
    "\n",
    "class Solution:\n",
    "    # @param A : string\n",
    "    # @return an integer\n",
    "    def minCut(self, A):\n",
    "        n = len(A)\n",
    "        palindrome = [[False for _ in range(n)] for _ in range(n)]\n",
    "\n",
    "        # Fill out the palindrome table\n",
    "        for gap in range(n):\n",
    "            for i in range(n - gap):\n",
    "                j = i + gap\n",
    "                if gap == 0:\n",
    "                    palindrome[i][j] = True\n",
    "                elif gap == 1:\n",
    "                    palindrome[i][j] = (A[i] == A[j])\n",
    "                else:\n",
    "                    palindrome[i][j] = (A[i] == A[j] and palindrome[i+1][j-1])\n",
    "\n",
    "        dp = [float('inf') for _ in range(n + 1)]\n",
    "        dp[0] = -1\n",
    "        for i in range(n):\n",
    "            for j in range(i, -1, -1):\n",
    "                if palindrome[j][i]:\n",
    "                    dp[i + 1] = min(dp[i + 1], 1 + dp[j])\n",
    "        return dp[n]\n",
    "    \n",
    "'''\n",
    "dp[i] means upto length i how many minimum cuts are needed\n",
    "if suffix is a palindrome\n",
    "then we get the min cuts for rest of string on left\n",
    "and store \"1 + min_cuts_on_left\" at current dp[i]\n",
    "'''"
   ]
  },
  {
   "cell_type": "code",
   "execution_count": 53,
   "metadata": {},
   "outputs": [
    {
     "data": {
      "text/plain": [
       "0"
      ]
     },
     "execution_count": 53,
     "metadata": {},
     "output_type": "execute_result"
    }
   ],
   "source": [
    "A = \"aba\"\n",
    "sol = Solution()\n",
    "sol.minCut(A)"
   ]
  },
  {
   "cell_type": "code",
   "execution_count": 54,
   "metadata": {},
   "outputs": [
    {
     "data": {
      "text/plain": [
       "1"
      ]
     },
     "execution_count": 54,
     "metadata": {},
     "output_type": "execute_result"
    }
   ],
   "source": [
    "A = \"aab\"\n",
    "sol = Solution()\n",
    "sol.minCut(A)"
   ]
  },
  {
   "cell_type": "code",
   "execution_count": 55,
   "metadata": {},
   "outputs": [
    {
     "data": {
      "text/plain": [
       "4"
      ]
     },
     "execution_count": 55,
     "metadata": {},
     "output_type": "execute_result"
    }
   ],
   "source": [
    "A = \"rahul\"\n",
    "sol = Solution()\n",
    "sol.minCut(A)"
   ]
  }
 ],
 "metadata": {
  "kernelspec": {
   "display_name": "dsa-venv",
   "language": "python",
   "name": "python3"
  },
  "language_info": {
   "codemirror_mode": {
    "name": "ipython",
    "version": 3
   },
   "file_extension": ".py",
   "mimetype": "text/x-python",
   "name": "python",
   "nbconvert_exporter": "python",
   "pygments_lexer": "ipython3",
   "version": "3.11.3"
  }
 },
 "nbformat": 4,
 "nbformat_minor": 2
}
