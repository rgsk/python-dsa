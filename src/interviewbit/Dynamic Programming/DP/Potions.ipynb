{
 "cells": [
  {
   "cell_type": "code",
   "execution_count": 182,
   "metadata": {},
   "outputs": [],
   "source": [
    "# https://www.interviewbit.com/problems/potions/"
   ]
  },
  {
   "cell_type": "code",
   "execution_count": 183,
   "metadata": {},
   "outputs": [],
   "source": [
    "class Solution:\n",
    "    # @param A : list of integers\n",
    "    # @return an integer\n",
    "    def minSmoke(self, A):\n",
    "        n = len(A)\n",
    "        prefix_sum = [0] * (n+1)\n",
    "        for i in range(1, n+1):\n",
    "            prefix_sum[i] = prefix_sum[i-1] + A[i-1]\n",
    "        def gs(i, j):\n",
    "            return (prefix_sum[j] - prefix_sum[i]) % 100\n",
    "        def helper(i, j):\n",
    "            if i == j - 1:\n",
    "                return 0\n",
    "            minimum_smoke = float('inf')\n",
    "            for k in range(i + 1, j):\n",
    "                cur_smoke = gs(i, k) * gs(k, j) + helper(i, k) + helper(k, j)\n",
    "                minimum_smoke = min(minimum_smoke, cur_smoke)\n",
    "            return minimum_smoke\n",
    "        return helper(0, n)\n"
   ]
  },
  {
   "cell_type": "code",
   "execution_count": 184,
   "metadata": {},
   "outputs": [],
   "source": [
    "class Solution:\n",
    "    # @param A : list of integers\n",
    "    # @return an integer\n",
    "    def minSmoke(self, A):\n",
    "        n = len(A)\n",
    "        prefix_sum = [0] * (n+1)\n",
    "        for i in range(1, n+1):\n",
    "            prefix_sum[i] = prefix_sum[i-1] + A[i-1]\n",
    "        def gs(i, j):\n",
    "            return (prefix_sum[j] - prefix_sum[i]) % 100\n",
    "        dp = [[-1 for _ in range(n + 1)] for _ in range(n + 1)]\n",
    "        def helper(i, j):\n",
    "            if i == j - 1:\n",
    "                return 0\n",
    "            if dp[i][j] != -1:\n",
    "                return dp[i][j]\n",
    "            minimum_smoke = float('inf')\n",
    "            for k in range(i + 1, j):\n",
    "                cur_smoke = gs(i, k) * gs(k, j) + helper(i, k) + helper(k, j)\n",
    "                minimum_smoke = min(minimum_smoke, cur_smoke)\n",
    "            dp[i][j] = minimum_smoke\n",
    "            return dp[i][j]\n",
    "        return helper(0, n)"
   ]
  },
  {
   "cell_type": "code",
   "execution_count": null,
   "metadata": {},
   "outputs": [],
   "source": [
    "class Solution:\n",
    "    # @param A : list of integers\n",
    "    # @return an integer\n",
    "    def minSmoke(self, A):\n",
    "        n = len(A)\n",
    "        prefix_sum = [0] * (n+1)\n",
    "        for i in range(1, n+1):\n",
    "            prefix_sum[i] = prefix_sum[i-1] + A[i-1]\n",
    "        def gs(i, j):\n",
    "            return (prefix_sum[j] - prefix_sum[i]) % 100\n",
    "        dp = [[0 for _ in range(n + 1)] for _ in range(n + 1)]\n",
    "        for i in range(n-1, -1, -1):\n",
    "            for j in range(i + 1, n + 1):\n",
    "                if i == j - 1:\n",
    "                    dp[i][j] = 0\n",
    "                    continue\n",
    "                minimum_smoke = float('inf')\n",
    "                for k in range(i + 1, j):\n",
    "                    cur_smoke = gs(i, k) * gs(k, j) + dp[i][k] + dp[k][j]\n",
    "                    minimum_smoke = min(minimum_smoke, cur_smoke)\n",
    "                dp[i][j] = minimum_smoke\n",
    "       \n",
    "        return dp[0][n]"
   ]
  },
  {
   "cell_type": "code",
   "execution_count": 185,
   "metadata": {},
   "outputs": [],
   "source": [
    "class Solution:\n",
    "    # @param A : list of integers\n",
    "    # @return an integer\n",
    "    def minSmoke(self, A):\n",
    "        n = len(A)\n",
    "        prefix_sum = [0] * (n+1)\n",
    "        for i in range(1, n+1):\n",
    "            prefix_sum[i] = prefix_sum[i-1] + A[i-1]\n",
    "        def gs(i, j):\n",
    "            return (prefix_sum[j] - prefix_sum[i]) % 100\n",
    "        dp = [[float('inf') for _ in range(n + 1)] for _ in range(n + 1)]\n",
    "        for i in range(n-1, -1, -1):\n",
    "            for j in range(i + 1, n + 1):\n",
    "                if i == j - 1:\n",
    "                    dp[i][j] = 0\n",
    "                    continue\n",
    "                for k in range(i + 1, j):\n",
    "                    cur_smoke = gs(i, k) * gs(k, j) + dp[i][k] + dp[k][j]\n",
    "                    dp[i][j] = min(dp[i][j], cur_smoke)\n",
    "       \n",
    "        return dp[0][n]"
   ]
  },
  {
   "cell_type": "code",
   "execution_count": 186,
   "metadata": {},
   "outputs": [
    {
     "data": {
      "text/plain": [
       "6"
      ]
     },
     "execution_count": 186,
     "metadata": {},
     "output_type": "execute_result"
    }
   ],
   "source": [
    "A = [2, 3]\n",
    "sol = Solution()\n",
    "sol.minSmoke(A)"
   ]
  },
  {
   "cell_type": "code",
   "execution_count": 187,
   "metadata": {},
   "outputs": [
    {
     "data": {
      "text/plain": [
       "71"
      ]
     },
     "execution_count": 187,
     "metadata": {},
     "output_type": "execute_result"
    }
   ],
   "source": [
    "A = [2, 3, 4, 5]\n",
    "sol = Solution()\n",
    "sol.minSmoke(A)"
   ]
  },
  {
   "cell_type": "code",
   "execution_count": 188,
   "metadata": {},
   "outputs": [
    {
     "data": {
      "text/plain": [
       "24548"
      ]
     },
     "execution_count": 188,
     "metadata": {},
     "output_type": "execute_result"
    }
   ],
   "source": [
    "A = [ 49, 85, 29, 85, 41, 93, 22, 28, 99, 87, 68, 72, 60, 90 ]\n",
    "sol = Solution()\n",
    "sol.minSmoke(A)"
   ]
  }
 ],
 "metadata": {
  "kernelspec": {
   "display_name": "dsa-venv",
   "language": "python",
   "name": "python3"
  },
  "language_info": {
   "codemirror_mode": {
    "name": "ipython",
    "version": 3
   },
   "file_extension": ".py",
   "mimetype": "text/x-python",
   "name": "python",
   "nbconvert_exporter": "python",
   "pygments_lexer": "ipython3",
   "version": "3.11.3"
  }
 },
 "nbformat": 4,
 "nbformat_minor": 2
}
