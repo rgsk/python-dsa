{
 "cells": [
  {
   "cell_type": "code",
   "execution_count": 32,
   "metadata": {},
   "outputs": [],
   "source": [
    "# https://www.interviewbit.com/problems/kingdom-war/"
   ]
  },
  {
   "cell_type": "code",
   "execution_count": 33,
   "metadata": {},
   "outputs": [],
   "source": [
    "from typing import List\n",
    "\n",
    "# TLE\n",
    "\n",
    "# in this solutions we are not taking advantage of the fact that items are increasing\n",
    "# from left to right\n",
    "def kadane(nums: List[int]):\n",
    "    max_ending_here = nums[0]\n",
    "    max_so_far = nums[0]\n",
    "    for i in range(1, len(nums)):\n",
    "        max_ending_here = max(nums[i], max_ending_here + nums[i])\n",
    "        max_so_far = max(max_so_far, max_ending_here)\n",
    "    return max_so_far\n",
    "\n",
    "class Solution:\n",
    "    # @param A : list of list of integers\n",
    "    # @return an integer\n",
    "    def solve(self, A):\n",
    "        rows = len(A)\n",
    "        cols = len(A[0])\n",
    "        res = A[0][0]\n",
    "        for i in range(rows):\n",
    "            cumulative_sum = [0] * cols\n",
    "            for j in range(i, rows):\n",
    "                for k in range(cols):\n",
    "                    cumulative_sum[k] += A[j][k]\n",
    "                res = max(res, kadane(cumulative_sum))\n",
    "        return res"
   ]
  },
  {
   "cell_type": "code",
   "execution_count": 34,
   "metadata": {},
   "outputs": [],
   "source": [
    "from typing import List\n",
    "\n",
    "# TLE\n",
    "\n",
    "def get_sum(nums: List[int]):\n",
    "    idx = len(nums) - 1\n",
    "    while nums[idx] > 0 and idx >= 0:\n",
    "        idx -= 1\n",
    "    if idx + 1 == len(nums):\n",
    "        return nums[idx]\n",
    "    return sum(nums[idx + 1:])\n",
    "\n",
    "class Solution:\n",
    "    # @param A : list of list of integers\n",
    "    # @return an integer\n",
    "    def solve(self, A):\n",
    "        rows = len(A)\n",
    "        cols = len(A[0])\n",
    "        res = A[0][0]\n",
    "        for i in range(rows):\n",
    "            cumulative_sum = [0] * cols\n",
    "            for j in range(i, rows):\n",
    "                for k in range(cols):\n",
    "                    cumulative_sum[k] += A[j][k]\n",
    "                res = max(res, get_sum(cumulative_sum))\n",
    "        return res"
   ]
  },
  {
   "cell_type": "code",
   "execution_count": 35,
   "metadata": {},
   "outputs": [],
   "source": [
    "'''\n",
    "we can assume that the largest sub-array strength may start from any point, but will definitely end on bottom-right cell (N,M).\n",
    "\n",
    "sums[i][j] represents sum from ith row and jth column till last row and last column\n",
    "we just have to return max value from sums matrix\n",
    "'''\n",
    "\n",
    "class Solution:\n",
    "    # @param A : list of list of integers\n",
    "    # @return an integer\n",
    "    def solve(self, M):\n",
    "        rows = len(M)\n",
    "        cols = len(M[0])\n",
    "        sums = [[0] * cols for _ in range(rows)]\n",
    "        for i in range(rows):\n",
    "            sums[i][cols-1] = M[i][cols-1]\n",
    "            for j in range(cols - 2, -1, -1):\n",
    "                sums[i][j] = M[i][j] + sums[i][j + 1]\n",
    "                \n",
    "        for i in range(rows - 2, -1, -1):\n",
    "            for j in range(cols):\n",
    "                sums[i][j] = sums[i][j] + sums[i + 1][j]\n",
    "            \n",
    "                \n",
    "        return max(max(row) for row in sums)"
   ]
  },
  {
   "cell_type": "code",
   "execution_count": 36,
   "metadata": {},
   "outputs": [
    {
     "data": {
      "text/plain": [
       "19"
      ]
     },
     "execution_count": 36,
     "metadata": {},
     "output_type": "execute_result"
    }
   ],
   "source": [
    "A = [\n",
    "    [-5, -4, -1],\n",
    "    [-3, 2, 4],\n",
    "    [2, 5, 8],\n",
    "]\n",
    "sol = Solution()\n",
    "sol.solve(A)"
   ]
  }
 ],
 "metadata": {
  "kernelspec": {
   "display_name": "dsa-venv",
   "language": "python",
   "name": "python3"
  },
  "language_info": {
   "codemirror_mode": {
    "name": "ipython",
    "version": 3
   },
   "file_extension": ".py",
   "mimetype": "text/x-python",
   "name": "python",
   "nbconvert_exporter": "python",
   "pygments_lexer": "ipython3",
   "version": "3.11.3"
  }
 },
 "nbformat": 4,
 "nbformat_minor": 2
}
