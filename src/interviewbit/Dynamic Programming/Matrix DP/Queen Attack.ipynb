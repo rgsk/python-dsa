{
 "cells": [
  {
   "cell_type": "code",
   "execution_count": 1,
   "metadata": {},
   "outputs": [],
   "source": [
    "# https://www.interviewbit.com/problems/queen-attack/"
   ]
  },
  {
   "cell_type": "code",
   "execution_count": 2,
   "metadata": {},
   "outputs": [],
   "source": [
    "class Solution:\n",
    "    # @param A : list of strings\n",
    "    # @return a list of list of integers\n",
    "    def queenAttack(self, A):\n",
    "        dp = [[0 for i in range(len(A[0]))] for j in range(len(A))]\n",
    "        directions = [[-1, -1], [-1, 0], [-1, 1],\n",
    "                      [0, 1], [1, 1], [1, 0], [1, -1], [0, -1]]\n",
    "        for i in range(len(dp)):\n",
    "            for j in range(len(dp[0])):\n",
    "                if A[i][j] == \"0\":\n",
    "                    continue\n",
    "                for k in directions:\n",
    "                    x, y = i+k[0], j+k[1]\n",
    "                    while (x >= 0 and x < len(A)) and (y >= 0 and y < len(A[0])):\n",
    "                        dp[x][y] += 1\n",
    "                        if A[x][y] == \"1\":\n",
    "                            break\n",
    "                        x, y = x+k[0], y+k[1]\n",
    "        return dp"
   ]
  },
  {
   "cell_type": "code",
   "execution_count": 3,
   "metadata": {},
   "outputs": [
    {
     "data": {
      "text/plain": [
       "[[3, 1, 2], [1, 3, 3], [2, 3, 0]]"
      ]
     },
     "execution_count": 3,
     "metadata": {},
     "output_type": "execute_result"
    }
   ],
   "source": [
    "A = [\"010\",\n",
    "     \"100\",\n",
    "     \"001\"]\n",
    "sol = Solution()\n",
    "sol.queenAttack(A)"
   ]
  }
 ],
 "metadata": {
  "kernelspec": {
   "display_name": "dsa-venv",
   "language": "python",
   "name": "python3"
  },
  "language_info": {
   "codemirror_mode": {
    "name": "ipython",
    "version": 3
   },
   "file_extension": ".py",
   "mimetype": "text/x-python",
   "name": "python",
   "nbconvert_exporter": "python",
   "pygments_lexer": "ipython3",
   "version": "3.11.3"
  }
 },
 "nbformat": 4,
 "nbformat_minor": 2
}
