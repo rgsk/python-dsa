{
 "cells": [
  {
   "cell_type": "code",
   "execution_count": 35,
   "metadata": {},
   "outputs": [],
   "source": [
    "# https://www.interviewbit.com/problems/unique-paths-in-a-grid/"
   ]
  },
  {
   "cell_type": "code",
   "execution_count": 36,
   "metadata": {},
   "outputs": [],
   "source": [
    "class Solution:\n",
    "    # @param A : list of list of integers\n",
    "    # @return an integer\n",
    "    def uniquePathsWithObstacles(self, A):\n",
    "        rows = len(A)\n",
    "        cols = len(A[0])\n",
    "        def helper(i, j):\n",
    "            if i == rows or j == cols or A[i][j] == 1:\n",
    "                return 0\n",
    "            if i == rows - 1 and j == cols - 1:\n",
    "                return 1\n",
    "            return helper(i + 1, j) + helper(i, j + 1)\n",
    "        return helper(0, 0)"
   ]
  },
  {
   "cell_type": "code",
   "execution_count": 37,
   "metadata": {},
   "outputs": [],
   "source": [
    "class Solution:\n",
    "    # @param A : list of list of integers\n",
    "    # @return an integer\n",
    "    def uniquePathsWithObstacles(self, A):\n",
    "        rows = len(A)\n",
    "        cols = len(A[0])\n",
    "        dp = [[-1 for _ in range(cols)] for _ in range(rows)]\n",
    "        def helper(i, j):\n",
    "            if i == rows or j == cols or A[i][j] == 1:\n",
    "                return 0\n",
    "            if i == rows - 1 and j == cols - 1:\n",
    "                return 1\n",
    "            if dp[i][j] != -1:\n",
    "                return dp[i][j]\n",
    "            dp[i][j] = helper(i + 1, j) + helper(i, j + 1)\n",
    "            return dp[i][j]\n",
    "        return helper(0, 0)"
   ]
  },
  {
   "cell_type": "code",
   "execution_count": 38,
   "metadata": {},
   "outputs": [],
   "source": [
    "class Solution:\n",
    "    # @param A : list of list of integers\n",
    "    # @return an integer\n",
    "    def uniquePathsWithObstacles(self, A):\n",
    "        rows = len(A)\n",
    "        cols = len(A[0])\n",
    "        dp = [[-1 for _ in range(cols + 1)] for _ in range(rows + 1)]\n",
    "        for i in range(rows, -1, -1):\n",
    "            for j in range(cols, -1, -1):\n",
    "                if i == rows or j == cols or A[i][j] == 1:\n",
    "                    dp[i][j] = 0\n",
    "                    continue\n",
    "                if i == rows - 1 and j == cols - 1:\n",
    "                    dp[i][j] = 1\n",
    "                    continue\n",
    "                dp[i][j] = dp[i+1][j] + dp[i][j+1]\n",
    "        return dp[0][0]"
   ]
  },
  {
   "cell_type": "code",
   "execution_count": 39,
   "metadata": {},
   "outputs": [],
   "source": [
    "class Solution:\n",
    "    # @param A : list of list of integers\n",
    "    # @return an integer\n",
    "    def uniquePathsWithObstacles(self, A):\n",
    "        rows = len(A)\n",
    "        cols = len(A[0])\n",
    "        dp = [-1 for _ in range(cols + 1)]\n",
    "        for i in range(rows, -1, -1):\n",
    "            prev = dp[:]\n",
    "            for j in range(cols, -1, -1):\n",
    "                if i == rows or j == cols or A[i][j] == 1:\n",
    "                    dp[j] = 0\n",
    "                    continue\n",
    "                if i == rows - 1 and j == cols - 1:\n",
    "                    dp[j] = 1\n",
    "                    continue\n",
    "                dp[j] = prev[j] + dp[j+1]\n",
    "        return dp[0]"
   ]
  },
  {
   "cell_type": "code",
   "execution_count": 40,
   "metadata": {},
   "outputs": [
    {
     "data": {
      "text/plain": [
       "2"
      ]
     },
     "execution_count": 40,
     "metadata": {},
     "output_type": "execute_result"
    }
   ],
   "source": [
    "A = [\n",
    "    [0, 0, 0],\n",
    "    [0, 1, 0],\n",
    "    [0, 0, 0]\n",
    "]\n",
    "sol = Solution()\n",
    "sol.uniquePathsWithObstacles(A)"
   ]
  }
 ],
 "metadata": {
  "kernelspec": {
   "display_name": "dsa-venv",
   "language": "python",
   "name": "python3"
  },
  "language_info": {
   "codemirror_mode": {
    "name": "ipython",
    "version": 3
   },
   "file_extension": ".py",
   "mimetype": "text/x-python",
   "name": "python",
   "nbconvert_exporter": "python",
   "pygments_lexer": "ipython3",
   "version": "3.11.3"
  }
 },
 "nbformat": 4,
 "nbformat_minor": 2
}
