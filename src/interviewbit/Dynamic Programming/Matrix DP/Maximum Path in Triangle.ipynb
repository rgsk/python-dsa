{
 "cells": [
  {
   "cell_type": "code",
   "execution_count": 80,
   "metadata": {},
   "outputs": [],
   "source": [
    "# https://www.interviewbit.com/problems/maximum-path-in-triangle/"
   ]
  },
  {
   "cell_type": "code",
   "execution_count": 81,
   "metadata": {},
   "outputs": [],
   "source": [
    "class Solution:\n",
    "    # @param A : list of list of integers\n",
    "    # @return an integer\n",
    "    def solve(self, A):\n",
    "        rows = len(A)\n",
    "        cols = len(A[0])\n",
    "        def helper(i, j):\n",
    "            if i == rows:\n",
    "                return 0\n",
    "            if j == cols:\n",
    "                return float('-inf')\n",
    "            cur_cost = A[i][j]\n",
    "            further_cost = max(helper(i+1, j), helper(i+1,j+1))\n",
    "            return cur_cost + further_cost\n",
    "        return helper(0, 0)\n",
    "            "
   ]
  },
  {
   "cell_type": "code",
   "execution_count": 82,
   "metadata": {},
   "outputs": [],
   "source": [
    "class Solution:\n",
    "    # @param A : list of list of integers\n",
    "    # @return an integer\n",
    "    def solve(self, A):\n",
    "        rows = len(A)\n",
    "        cols = len(A[0])\n",
    "        dp = [[-1 for _ in range(cols)] for _ in range(rows)]\n",
    "        def helper(i, j):\n",
    "            if i == rows:\n",
    "                return 0\n",
    "            if j == cols:\n",
    "                return float('-inf')\n",
    "            if dp[i][j] != -1:\n",
    "                return dp[i][j]\n",
    "            cur_cost = A[i][j]\n",
    "            further_cost = max(helper(i+1, j), helper(i+1,j+1))\n",
    "            dp[i][j] = cur_cost + further_cost\n",
    "            return dp[i][j]\n",
    "        return helper(0, 0)"
   ]
  },
  {
   "cell_type": "code",
   "execution_count": 83,
   "metadata": {},
   "outputs": [],
   "source": [
    "class Solution:\n",
    "    # @param A : list of list of integers\n",
    "    # @return an integer\n",
    "    def solve(self, A):\n",
    "        rows = len(A)\n",
    "        cols = len(A[0])\n",
    "        dp = [[-1 for _ in range(cols + 1)] for _ in range(rows + 1)]\n",
    "        for i in range(rows, -1, -1):\n",
    "            for j in range(cols, -1, -1):\n",
    "                if i == rows:\n",
    "                    dp[i][j] = 0\n",
    "                    continue\n",
    "                if j == cols:\n",
    "                    dp[i][j] = float('inf')\n",
    "                    continue\n",
    "                cur_cost = A[i][j]\n",
    "                further_cost = max(dp[i+1][j], dp[i+1][j+1])\n",
    "                dp[i][j] = cur_cost + further_cost\n",
    "        return dp[0][0]"
   ]
  },
  {
   "cell_type": "code",
   "execution_count": 84,
   "metadata": {},
   "outputs": [],
   "source": [
    "class Solution:\n",
    "    # @param A : list of list of integers\n",
    "    # @return an integer\n",
    "    def solve(self, A):\n",
    "        rows = len(A)\n",
    "        cols = len(A[0])\n",
    "        dp = [-1 for _ in range(cols + 1)]\n",
    "        for i in range(rows, -1, -1):\n",
    "            prev = dp[:]\n",
    "            for j in range(cols, -1, -1):\n",
    "                if i == rows:\n",
    "                    dp[j] = 0\n",
    "                    continue\n",
    "                if j == cols:\n",
    "                    dp[j] = float('inf')\n",
    "                    continue\n",
    "                cur_cost = A[i][j]\n",
    "                further_cost = max(prev[j], prev[j+1])\n",
    "                dp[j] = cur_cost + further_cost\n",
    "        return dp[0]"
   ]
  },
  {
   "cell_type": "code",
   "execution_count": 85,
   "metadata": {},
   "outputs": [
    {
     "data": {
      "text/plain": [
       "23"
      ]
     },
     "execution_count": 85,
     "metadata": {},
     "output_type": "execute_result"
    }
   ],
   "source": [
    "A = [\n",
    "    [3, 0, 0, 0],\n",
    "    [7, 4, 0, 0],\n",
    "    [2, 4, 6, 0],\n",
    "    [8, 5, 9, 3],\n",
    "]\n",
    "sol = Solution()\n",
    "sol.solve(A)"
   ]
  },
  {
   "cell_type": "code",
   "execution_count": 86,
   "metadata": {},
   "outputs": [
    {
     "data": {
      "text/plain": [
       "19"
      ]
     },
     "execution_count": 86,
     "metadata": {},
     "output_type": "execute_result"
    }
   ],
   "source": [
    "A = [\n",
    "    [8, 0, 0, 0],\n",
    "    [4, 4, 0, 0],\n",
    "    [2, 2, 6, 0],\n",
    "    [1, 1, 1, 1],\n",
    "]\n",
    "sol = Solution()\n",
    "sol.solve(A)"
   ]
  },
  {
   "cell_type": "code",
   "execution_count": 87,
   "metadata": {},
   "outputs": [
    {
     "data": {
      "text/plain": [
       "7553"
      ]
     },
     "execution_count": 87,
     "metadata": {},
     "output_type": "execute_result"
    }
   ],
   "source": [
    "A  = [\n",
    "  [725, 0, 0, 0, 0, 0, 0, 0, 0, 0],\n",
    "  [479, 359, 0, 0, 0, 0, 0, 0, 0, 0],\n",
    "  [963, 465, 706, 0, 0, 0, 0, 0, 0, 0],\n",
    "  [146, 282, 828, 962, 0, 0, 0, 0, 0, 0],\n",
    "  [492, 996, 943, 828, 437, 0, 0, 0, 0, 0],\n",
    "  [392, 605, 903, 154, 293, 383, 0, 0, 0, 0],\n",
    "  [422, 717, 719, 896, 448, 727, 772, 0, 0, 0],\n",
    "  [539, 870, 913, 668, 300, 36, 895, 704, 0, 0],\n",
    "  [812, 323, 334, 674, 665, 142, 712, 254, 869, 0],\n",
    "  [548, 645, 663, 758, 38, 860, 724, 742, 530, 779],\n",
    "]\n",
    "sol = Solution()\n",
    "sol.solve(A)"
   ]
  }
 ],
 "metadata": {
  "kernelspec": {
   "display_name": "dsa-venv",
   "language": "python",
   "name": "python3"
  },
  "language_info": {
   "codemirror_mode": {
    "name": "ipython",
    "version": 3
   },
   "file_extension": ".py",
   "mimetype": "text/x-python",
   "name": "python",
   "nbconvert_exporter": "python",
   "pygments_lexer": "ipython3",
   "version": "3.11.3"
  }
 },
 "nbformat": 4,
 "nbformat_minor": 2
}
