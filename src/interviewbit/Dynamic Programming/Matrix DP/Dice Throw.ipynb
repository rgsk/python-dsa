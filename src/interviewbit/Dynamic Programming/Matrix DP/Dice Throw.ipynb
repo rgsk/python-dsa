{
 "cells": [
  {
   "cell_type": "code",
   "execution_count": 736,
   "metadata": {},
   "outputs": [],
   "source": [
    "mod = 10**9 + 7\n",
    "class Solution:\n",
    "    # @param A : integer\n",
    "    # @param B : integer\n",
    "    # @param C : integer\n",
    "    # @return an integer\n",
    "    def findDiceSum(self, A, B, C):\n",
    "        total_dices = A\n",
    "        max_value = B\n",
    "        total = C\n",
    "        dp = [[-1 for _ in range(total + 1)] for _ in range(total_dices + 1)]\n",
    "        def helper(remaining_dices, remaining_total):\n",
    "            if remaining_total == 0 and remaining_dices == 0:\n",
    "                return 1\n",
    "            if remaining_total < 0 or remaining_dices < 0:\n",
    "                return 0\n",
    "            if dp[remaining_dices][remaining_total] != -1:\n",
    "                return dp[remaining_dices][remaining_total]\n",
    "            ans = 0\n",
    "            for cur_dice in range(1, max_value + 1):\n",
    "                ans += helper(remaining_dices - 1, remaining_total - cur_dice)\n",
    "            dp[remaining_dices][remaining_total] = ans\n",
    "            return dp[remaining_dices][remaining_total]\n",
    "        return helper(total_dices, total) % mod"
   ]
  },
  {
   "cell_type": "code",
   "execution_count": 737,
   "metadata": {},
   "outputs": [],
   "source": [
    "mod = 10**9 + 7\n",
    "class Solution:\n",
    "    # @param A : integer\n",
    "    # @param B : integer\n",
    "    # @param C : integer\n",
    "    # @return an integer\n",
    "    def findDiceSum(self, A, B, C):\n",
    "        total_dices = A\n",
    "        max_value = B\n",
    "        total = C\n",
    "        dp = [[-1 for _ in range(total + 1)] for _ in range(total_dices + 1)]\n",
    "        def helper(remaining_dices, remaining_total):\n",
    "            if remaining_total == 0 and remaining_dices == 0:\n",
    "                return 1\n",
    "            if dp[remaining_dices][remaining_total] != -1:\n",
    "                return dp[remaining_dices][remaining_total]\n",
    "            ans = 0\n",
    "            if remaining_dices > 0:\n",
    "                for cur_dice in range(1, max_value + 1):\n",
    "                    if remaining_total - cur_dice >= 0:\n",
    "                        ans += helper(remaining_dices - 1, remaining_total - cur_dice)\n",
    "            dp[remaining_dices][remaining_total] = ans\n",
    "            return dp[remaining_dices][remaining_total]\n",
    "        return helper(total_dices, total) % mod"
   ]
  },
  {
   "cell_type": "code",
   "execution_count": 738,
   "metadata": {},
   "outputs": [],
   "source": [
    "mod = 10**9 + 7\n",
    "class Solution:\n",
    "    # @param A : integer\n",
    "    # @param B : integer\n",
    "    # @param C : integer\n",
    "    # @return an integer\n",
    "    def findDiceSum(self, A, B, C):\n",
    "        total_dices = A\n",
    "        max_value = B\n",
    "        total = C\n",
    "        dp = [[-1 for _ in range(total + 1)] for _ in range(total_dices + 1)]\n",
    "        for remaining_dices in range(total_dices + 1):\n",
    "            for remaining_total in range(total + 1):\n",
    "                if remaining_total == 0 and remaining_dices == 0:\n",
    "                    dp[remaining_dices][remaining_total] = 1\n",
    "                    continue\n",
    "                ans = 0\n",
    "                if remaining_dices > 0:\n",
    "                    for cur_dice in range(1, max_value + 1):\n",
    "                        if remaining_total - cur_dice >= 0:\n",
    "                            ans += dp[remaining_dices - 1][remaining_total - cur_dice]\n",
    "                dp[remaining_dices][remaining_total] = ans\n",
    "        return dp[total_dices][total] % mod"
   ]
  },
  {
   "cell_type": "code",
   "execution_count": 739,
   "metadata": {},
   "outputs": [],
   "source": [
    "mod = 10**9 + 7\n",
    "class Solution:\n",
    "    # @param A : integer\n",
    "    # @param B : integer\n",
    "    # @param C : integer\n",
    "    # @return an integer\n",
    "    def findDiceSum(self, A, B, C):\n",
    "        total_dices = A\n",
    "        max_value = B\n",
    "        total = C\n",
    "        dp = [[-1 for _ in range(total + 1)] for _ in range(total_dices + 1)]\n",
    "        for remaining_dices in range(total_dices + 1):\n",
    "            for remaining_total in range(total + 1):\n",
    "                if remaining_total == 0 and remaining_dices == 0:\n",
    "                    dp[remaining_dices][remaining_total] = 1\n",
    "                    continue\n",
    "                s = 0\n",
    "                if remaining_dices > 0:\n",
    "                    for i in range(max(remaining_total - max_value, 0), remaining_total):\n",
    "                        s += dp[remaining_dices - 1][i]\n",
    "                dp[remaining_dices][remaining_total] = s\n",
    "        for row in dp:\n",
    "            print(row)\n",
    "        return dp[total_dices][total] % mod"
   ]
  },
  {
   "cell_type": "code",
   "execution_count": 740,
   "metadata": {},
   "outputs": [],
   "source": [
    "mod = 10**9 + 7\n",
    "class Solution:\n",
    "    # @param A : integer\n",
    "    # @param B : integer\n",
    "    # @param C : integer\n",
    "    # @return an integer\n",
    "    def findDiceSum(self, A, B, C):\n",
    "        total_dices = A\n",
    "        max_value = B\n",
    "        total = C\n",
    "        dp = [[-1 for _ in range(total + 1)] for _ in range(total_dices + 1)]\n",
    "        for remaining_dices in range(total_dices + 1):\n",
    "            # using prefix sum\n",
    "            prefix = [0] * (total + 2)\n",
    "            for remaining_total in range(1, total + 2):\n",
    "                prefix[remaining_total] = prefix[remaining_total - 1] + dp[remaining_dices - 1][remaining_total - 1]\n",
    "            for remaining_total in range(total + 1):\n",
    "                if remaining_total == 0 and remaining_dices == 0:\n",
    "                    dp[remaining_dices][remaining_total] = 1\n",
    "                    continue\n",
    "                if remaining_dices > 0:\n",
    "                    dp[remaining_dices][remaining_total] = prefix[remaining_total] - prefix[max(remaining_total - max_value, 0)]\n",
    "                else:\n",
    "                    dp[remaining_dices][remaining_total] = 0\n",
    "        return dp[total_dices][total] % mod"
   ]
  },
  {
   "cell_type": "code",
   "execution_count": 741,
   "metadata": {},
   "outputs": [],
   "source": [
    "mod = 10**9 + 7\n",
    "class Solution:\n",
    "    # @param A : integer\n",
    "    # @param B : integer\n",
    "    # @param C : integer\n",
    "    # @return an integer\n",
    "    def findDiceSum(self, A, B, C):\n",
    "        total_dices = A\n",
    "        max_value = B\n",
    "        total = C\n",
    "        dp = [-1 for _ in range(total + 1)]\n",
    "        for remaining_dices in range(total_dices + 1):\n",
    "            # using prefix sum\n",
    "            prefix = [0] * (total + 2)\n",
    "            for remaining_total in range(1, total + 2):\n",
    "                prefix[remaining_total] = prefix[remaining_total - 1] + dp[remaining_total - 1]\n",
    "            for remaining_total in range(total + 1):\n",
    "                if remaining_total == 0 and remaining_dices == 0:\n",
    "                    dp[remaining_total] = 1\n",
    "                    continue\n",
    "                if remaining_dices > 0:\n",
    "                    dp[remaining_total] = prefix[remaining_total] - prefix[max(remaining_total - max_value, 0)]\n",
    "                else:\n",
    "                    dp[remaining_total] = 0\n",
    "        return dp[total] % mod"
   ]
  },
  {
   "cell_type": "code",
   "execution_count": 742,
   "metadata": {},
   "outputs": [
    {
     "data": {
      "text/plain": [
       "21"
      ]
     },
     "execution_count": 742,
     "metadata": {},
     "output_type": "execute_result"
    }
   ],
   "source": [
    "A = 3\n",
    "B = 6\n",
    "C = 8\n",
    "sol = Solution()\n",
    "sol.findDiceSum(A, B, C)"
   ]
  },
  {
   "cell_type": "code",
   "execution_count": 743,
   "metadata": {},
   "outputs": [
    {
     "data": {
      "text/plain": [
       "4"
      ]
     },
     "execution_count": 743,
     "metadata": {},
     "output_type": "execute_result"
    }
   ],
   "source": [
    "A = 2\n",
    "B = 4\n",
    "C = 5\n",
    "sol = Solution()\n",
    "sol.findDiceSum(A, B, C)"
   ]
  },
  {
   "cell_type": "code",
   "execution_count": 744,
   "metadata": {},
   "outputs": [
    {
     "data": {
      "text/plain": [
       "0"
      ]
     },
     "execution_count": 744,
     "metadata": {},
     "output_type": "execute_result"
    }
   ],
   "source": [
    "A = 2\n",
    "B = 4\n",
    "C = 1\n",
    "sol = Solution()\n",
    "sol.findDiceSum(A, B, C)"
   ]
  },
  {
   "cell_type": "code",
   "execution_count": 745,
   "metadata": {},
   "outputs": [
    {
     "data": {
      "text/plain": [
       "3"
      ]
     },
     "execution_count": 745,
     "metadata": {},
     "output_type": "execute_result"
    }
   ],
   "source": [
    "A = 2\n",
    "B = 8\n",
    "C = 14\n",
    "sol = Solution()\n",
    "sol.findDiceSum(A, B, C)"
   ]
  },
  {
   "cell_type": "code",
   "execution_count": 746,
   "metadata": {},
   "outputs": [
    {
     "data": {
      "text/plain": [
       "237985022"
      ]
     },
     "execution_count": 746,
     "metadata": {},
     "output_type": "execute_result"
    }
   ],
   "source": [
    "A = 226\n",
    "B = 607\n",
    "C = 809\n",
    "sol = Solution()\n",
    "sol.findDiceSum(A, B, C)"
   ]
  }
 ],
 "metadata": {
  "kernelspec": {
   "display_name": "dsa-venv",
   "language": "python",
   "name": "python3"
  },
  "language_info": {
   "codemirror_mode": {
    "name": "ipython",
    "version": 3
   },
   "file_extension": ".py",
   "mimetype": "text/x-python",
   "name": "python",
   "nbconvert_exporter": "python",
   "pygments_lexer": "ipython3",
   "version": "3.11.3"
  }
 },
 "nbformat": 4,
 "nbformat_minor": 2
}
