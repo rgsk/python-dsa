{
 "cells": [
  {
   "cell_type": "code",
   "execution_count": 56,
   "metadata": {},
   "outputs": [],
   "source": [
    "# https://www.interviewbit.com/problems/increasing-path-in-matrix/"
   ]
  },
  {
   "cell_type": "code",
   "execution_count": 57,
   "metadata": {},
   "outputs": [],
   "source": [
    "class Solution:\n",
    "    # @param A : list of list of integers\n",
    "    # @return an integer\n",
    "    def solve(self, A):\n",
    "        rows = len(A)\n",
    "        cols = len(A[0])\n",
    "\n",
    "        def helper(i, j):\n",
    "            if i == rows - 1 and j == cols - 1:\n",
    "                return 1\n",
    "            longest = float('-inf')\n",
    "            if i + 1 < rows and A[i+1][j] > A[i][j]:\n",
    "                longest = 1 + helper(i + 1, j)\n",
    "            if j + 1 < cols and A[i][j+1] > A[i][j]:\n",
    "                longest = max(longest, 1 + helper(i, j + 1))\n",
    "            return longest\n",
    "        res = helper(0, 0)\n",
    "        if res == float('-inf'):\n",
    "            return -1\n",
    "        return res"
   ]
  },
  {
   "cell_type": "code",
   "execution_count": 58,
   "metadata": {},
   "outputs": [],
   "source": [
    "import sys\n",
    "sys.setrecursionlimit(10**6)\n",
    "\n",
    "class Solution:\n",
    "    # @param A : list of list of integers\n",
    "    # @return an integer\n",
    "    def solve(self, A):\n",
    "        rows = len(A)\n",
    "        cols = len(A[0])\n",
    "        dp = [[-1 for _ in range(cols)] for _ in range(rows)]\n",
    "        def helper(i, j):\n",
    "            if i == rows - 1 and j == cols - 1:\n",
    "                return 1\n",
    "            if dp[i][j] != -1:\n",
    "                return dp[i][j]\n",
    "            longest = float('-inf')\n",
    "            if i + 1 < rows and A[i+1][j] > A[i][j]:\n",
    "                longest = 1 + helper(i + 1, j)\n",
    "            if j + 1 < cols and A[i][j+1] > A[i][j]:\n",
    "                longest = max(longest, 1 + helper(i, j + 1))\n",
    "            dp[i][j] = longest\n",
    "            return dp[i][j]\n",
    "        res = helper(0, 0)\n",
    "        if res == float('-inf'):\n",
    "            return -1\n",
    "        return res"
   ]
  },
  {
   "cell_type": "code",
   "execution_count": 59,
   "metadata": {},
   "outputs": [],
   "source": [
    "class Solution:\n",
    "    # @param A : list of list of integers\n",
    "    # @return an integer\n",
    "    def solve(self, A):\n",
    "        rows = len(A)\n",
    "        cols = len(A[0])\n",
    "        dp = [[-1 for _ in range(cols)] for _ in range(rows)]\n",
    "        for i in range(rows-1, -1, -1):\n",
    "            for j in range(cols-1, -1, -1):\n",
    "                if i == rows - 1 and j == cols - 1:\n",
    "                    dp[i][j] = 1\n",
    "                    continue\n",
    "                longest = float('-inf')\n",
    "                if i + 1 < rows and A[i+1][j] > A[i][j]:\n",
    "                    longest = 1 + dp[i + 1][j]\n",
    "                if j + 1 < cols and A[i][j+1] > A[i][j]:\n",
    "                    longest = max(longest, 1 + dp[i][j+1])\n",
    "                dp[i][j] = longest\n",
    "        res = dp[0][0]\n",
    "        if res == float('-inf'):\n",
    "            return -1\n",
    "        return res"
   ]
  },
  {
   "cell_type": "code",
   "execution_count": 60,
   "metadata": {},
   "outputs": [],
   "source": [
    "class Solution:\n",
    "    # @param A : list of list of integers\n",
    "    # @return an integer\n",
    "    def solve(self, A):\n",
    "        rows = len(A)\n",
    "        cols = len(A[0])\n",
    "        dp = [-1 for _ in range(cols)]\n",
    "        for i in range(rows-1, -1, -1):\n",
    "            prev = dp[:]\n",
    "            for j in range(cols-1, -1, -1):\n",
    "                if i == rows - 1 and j == cols - 1:\n",
    "                    dp[j] = 1\n",
    "                    continue\n",
    "                longest = float('-inf')\n",
    "                if i + 1 < rows and A[i+1][j] > A[i][j]:\n",
    "                    longest = 1 + prev[j]\n",
    "                if j + 1 < cols and A[i][j+1] > A[i][j]:\n",
    "                    longest = max(longest, 1 + dp[j+1])\n",
    "                dp[j] = longest\n",
    "        res = dp[0]\n",
    "        if res == float('-inf'):\n",
    "            return -1\n",
    "        return res"
   ]
  },
  {
   "cell_type": "code",
   "execution_count": 61,
   "metadata": {},
   "outputs": [
    {
     "data": {
      "text/plain": [
       "3"
      ]
     },
     "execution_count": 61,
     "metadata": {},
     "output_type": "execute_result"
    }
   ],
   "source": [
    "A = [\n",
    "    [1, 2],\n",
    "    [3, 4]\n",
    "]\n",
    "sol = Solution()\n",
    "sol.solve(A)"
   ]
  },
  {
   "cell_type": "code",
   "execution_count": 62,
   "metadata": {},
   "outputs": [
    {
     "data": {
      "text/plain": [
       "7"
      ]
     },
     "execution_count": 62,
     "metadata": {},
     "output_type": "execute_result"
    }
   ],
   "source": [
    "A = [\n",
    "    [1, 2, 3, 4],\n",
    "    [2, 2, 3, 4],\n",
    "    [3, 2, 3, 4],\n",
    "    [4, 5, 6, 7]\n",
    "]\n",
    "sol = Solution()\n",
    "sol.solve(A)"
   ]
  },
  {
   "cell_type": "code",
   "execution_count": 63,
   "metadata": {},
   "outputs": [
    {
     "data": {
      "text/plain": [
       "-1"
      ]
     },
     "execution_count": 63,
     "metadata": {},
     "output_type": "execute_result"
    }
   ],
   "source": [
    "A = [\n",
    "  [35, 1, 70, 25, 79, 59, 63, 65],\n",
    "  [6, 46, 82, 28, 62, 92, 96, 43]\n",
    "]\n",
    "sol = Solution()\n",
    "sol.solve(A)"
   ]
  }
 ],
 "metadata": {
  "kernelspec": {
   "display_name": "dsa-venv",
   "language": "python",
   "name": "python3"
  },
  "language_info": {
   "codemirror_mode": {
    "name": "ipython",
    "version": 3
   },
   "file_extension": ".py",
   "mimetype": "text/x-python",
   "name": "python",
   "nbconvert_exporter": "python",
   "pygments_lexer": "ipython3",
   "version": "3.11.3"
  }
 },
 "nbformat": 4,
 "nbformat_minor": 2
}
