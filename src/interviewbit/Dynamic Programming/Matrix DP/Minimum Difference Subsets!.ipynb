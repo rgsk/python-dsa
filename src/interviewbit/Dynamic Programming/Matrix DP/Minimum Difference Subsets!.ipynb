{
 "cells": [
  {
   "cell_type": "code",
   "execution_count": 78,
   "metadata": {},
   "outputs": [],
   "source": [
    "# https://www.interviewbit.com/problems/minimum-difference-subsets/"
   ]
  },
  {
   "cell_type": "code",
   "execution_count": 79,
   "metadata": {},
   "outputs": [],
   "source": [
    "class Solution:\n",
    "    # @param A : list of integers\n",
    "    # @return an integer\n",
    "    def solve(self, A):\n",
    "        n = len(A)\n",
    "        def helper(i: int, s1: int, s2: int):\n",
    "            if i == n:\n",
    "                return abs(s1 - s2)\n",
    "            return min(helper(i + 1, s1 + A[i], s2), helper(i + 1, s1, s2 + A[i]))\n",
    "        return helper(0, 0, 0)"
   ]
  },
  {
   "cell_type": "code",
   "execution_count": 80,
   "metadata": {},
   "outputs": [],
   "source": [
    "'''\n",
    "better approach\n",
    "we have minimize the value of \n",
    "s1 - s2 or s2 - s1\n",
    "\n",
    "let \n",
    "k = s1 - s2\n",
    "\n",
    "\n",
    "total = s1 + s2\n",
    "\n",
    "k + total = 2*s1\n",
    "k = 2*s1 - total\n",
    "\n",
    "we have to minimize this k\n",
    "'''\n",
    "\n",
    "class Solution:\n",
    "    # @param A : list of integers\n",
    "    # @return an integer\n",
    "    def solve(self, A):\n",
    "        n = len(A)\n",
    "        total = sum(A)\n",
    "        def helper(i: int, s: int):\n",
    "            if i == n:\n",
    "                return abs(2 * s - total)\n",
    "            return min(helper(i + 1, s + A[i]), helper(i + 1, s))\n",
    "        return helper(0, 0)"
   ]
  },
  {
   "cell_type": "code",
   "execution_count": 81,
   "metadata": {},
   "outputs": [],
   "source": [
    "class Solution:\n",
    "    # @param A : list of integers\n",
    "    # @return an integer\n",
    "    def solve(self, A):\n",
    "        n = len(A)\n",
    "        total = sum(A)\n",
    "        dp = [[-1 for _ in range(total)] for _ in range(n)]\n",
    "        def helper(i: int, s: int):\n",
    "            if i == n:\n",
    "                return abs(2 * s - total)\n",
    "            if dp[i][s] != -1:\n",
    "                return dp[i][s]\n",
    "            dp[i][s] = min(helper(i + 1, s + A[i]), helper(i + 1, s))\n",
    "            return dp[i][s]\n",
    "        return helper(0, 0)"
   ]
  },
  {
   "cell_type": "code",
   "execution_count": 82,
   "metadata": {},
   "outputs": [],
   "source": [
    "class Solution:\n",
    "    # @param A : list of integers\n",
    "    # @return an integer\n",
    "    def solve(self, A):\n",
    "        n = len(A)\n",
    "        total = sum(A)\n",
    "        dp = [[-1 for _ in range(total + 1)] for _ in range(n + 1)]\n",
    "        for i in range(n, -1, -1):\n",
    "            for s in range(total, -1, -1):\n",
    "                if i == n:\n",
    "                    dp[i][s] = abs(2 * s - total)\n",
    "                    continue\n",
    "                if s + A[i] <= total:\n",
    "                    dp[i][s] = min(dp[i + 1][s + A[i]], dp[i + 1][s])\n",
    "        return dp[0][0]"
   ]
  },
  {
   "cell_type": "code",
   "execution_count": 83,
   "metadata": {},
   "outputs": [],
   "source": [
    "class Solution:\n",
    "    # @param A : list of integers\n",
    "    # @return an integer\n",
    "    def solve(self, A):\n",
    "        n = len(A)\n",
    "        total = sum(A)\n",
    "        dp = [-1 for _ in range(total + 1)]\n",
    "        for i in range(n, -1, -1):\n",
    "            prev = dp[:]\n",
    "            for s in range(total, -1, -1):\n",
    "                if i == n:\n",
    "                    dp[s] = abs(2 * s - total)\n",
    "                    continue\n",
    "                if s + A[i] <= total:\n",
    "                    dp[s] = min(prev[s + A[i]], prev[s])\n",
    "        return dp[0]"
   ]
  },
  {
   "cell_type": "code",
   "execution_count": 84,
   "metadata": {},
   "outputs": [
    {
     "data": {
      "text/plain": [
       "1"
      ]
     },
     "execution_count": 84,
     "metadata": {},
     "output_type": "execute_result"
    }
   ],
   "source": [
    "A = [1, 6, 11, 5]\n",
    "sol = Solution()\n",
    "sol.solve(A)"
   ]
  }
 ],
 "metadata": {
  "kernelspec": {
   "display_name": "dsa-venv",
   "language": "python",
   "name": "python3"
  },
  "language_info": {
   "codemirror_mode": {
    "name": "ipython",
    "version": 3
   },
   "file_extension": ".py",
   "mimetype": "text/x-python",
   "name": "python",
   "nbconvert_exporter": "python",
   "pygments_lexer": "ipython3",
   "version": "3.11.3"
  }
 },
 "nbformat": 4,
 "nbformat_minor": 2
}
