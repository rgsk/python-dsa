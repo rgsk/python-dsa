{
 "cells": [
  {
   "cell_type": "code",
   "execution_count": 83,
   "metadata": {},
   "outputs": [],
   "source": [
    "# https://www.interviewbit.com/problems/min-sum-path-in-matrix/"
   ]
  },
  {
   "cell_type": "code",
   "execution_count": 84,
   "metadata": {},
   "outputs": [],
   "source": [
    "import heapq\n",
    "import math\n",
    "\n",
    "# accepted\n",
    "# 723 ms\n",
    "class Solution:\n",
    "    # @param A : list of list of integers\n",
    "    # @return an integer\n",
    "    def minPathSum(self, A):\n",
    "        rows = len(A)\n",
    "        cols = len(A[0])\n",
    "        distances = [[math.inf] * cols for _ in range(rows)]\n",
    "        distances[0][0] = A[0][0]\n",
    "        heap = [(A[0][0], 0, 0)]\n",
    "        heapq.heapify(heap)\n",
    "        while heap:\n",
    "            dist, i, j = heapq.heappop(heap)\n",
    "            if i == rows - 1 and j == cols - 1:\n",
    "                return dist\n",
    "            for r, c in [(i+1, j), (i, j+1)]:\n",
    "                if r >= 0 and c >= 0 and r < rows and c < cols:\n",
    "                    newDistance = dist + A[r][c]\n",
    "                    if newDistance < distances[r][c]:\n",
    "                        heapq.heappush(heap, (newDistance, r, c))\n",
    "                        distances[r][c] = newDistance\n",
    "        return -1"
   ]
  },
  {
   "cell_type": "code",
   "execution_count": 85,
   "metadata": {},
   "outputs": [],
   "source": [
    "class Solution:\n",
    "    # @param A : list of list of integers\n",
    "    # @return an integer\n",
    "    def minPathSum(self, A):\n",
    "        rows = len(A)\n",
    "        cols = len(A[0])\n",
    "        def helper(i, j):\n",
    "            if i == rows or j == cols:\n",
    "                return float('inf')\n",
    "            if i == rows - 1 and j == cols - 1:\n",
    "                return A[i][j]\n",
    "            return A[i][j] + min(helper(i + 1, j), helper(i, j + 1))\n",
    "        return helper(0, 0)"
   ]
  },
  {
   "cell_type": "code",
   "execution_count": 86,
   "metadata": {},
   "outputs": [],
   "source": [
    "class Solution:\n",
    "    # @param A : list of list of integers\n",
    "    # @return an integer\n",
    "    def minPathSum(self, A):\n",
    "        rows = len(A)\n",
    "        cols = len(A[0])\n",
    "        dp = [[-1 for _ in range(cols + 1)] for _ in range(rows + 1)]\n",
    "        for i in range(rows, -1, -1):\n",
    "            for j in range(cols, -1, -1):\n",
    "                if i == rows or j == cols:\n",
    "                    dp[i][j] = float('inf')\n",
    "                    continue\n",
    "                if i == rows - 1 and j == cols - 1:\n",
    "                    dp[i][j] = A[i][j]\n",
    "                    continue\n",
    "                dp[i][j] = A[i][j] + min(dp[i + 1][j], dp[i][j + 1])\n",
    "        return dp[0][0]"
   ]
  },
  {
   "cell_type": "code",
   "execution_count": 87,
   "metadata": {},
   "outputs": [
    {
     "data": {
      "text/plain": [
       "8"
      ]
     },
     "execution_count": 87,
     "metadata": {},
     "output_type": "execute_result"
    }
   ],
   "source": [
    "A = [\n",
    "    [1, 3, 2],\n",
    "    [4, 3, 1],\n",
    "    [5, 6, 1],\n",
    "]\n",
    "sol = Solution()\n",
    "sol.minPathSum(A)"
   ]
  },
  {
   "cell_type": "code",
   "execution_count": 88,
   "metadata": {},
   "outputs": [
    {
     "data": {
      "text/plain": [
       "497"
      ]
     },
     "execution_count": 88,
     "metadata": {},
     "output_type": "execute_result"
    }
   ],
   "source": [
    "A = [\n",
    "    [26, 92, 8, 44, 42, 63, 14, 63, 41],\n",
    "    [15, 40, 11, 28, 79, 76, 65, 15, 16],\n",
    "    [40, 97, 8, 37, 58, 91, 72, 54, 40],\n",
    "    [96, 23, 30, 31, 74, 66, 98, 72, 45],\n",
    "    [99, 20, 73, 86, 78, 51, 75, 86, 41]\n",
    "]\n",
    "sol = Solution()\n",
    "sol.minPathSum(A)"
   ]
  }
 ],
 "metadata": {
  "kernelspec": {
   "display_name": "dsa-venv",
   "language": "python",
   "name": "python3"
  },
  "language_info": {
   "codemirror_mode": {
    "name": "ipython",
    "version": 3
   },
   "file_extension": ".py",
   "mimetype": "text/x-python",
   "name": "python",
   "nbconvert_exporter": "python",
   "pygments_lexer": "ipython3",
   "version": "3.11.3"
  }
 },
 "nbformat": 4,
 "nbformat_minor": 2
}
