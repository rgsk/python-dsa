{
 "cells": [
  {
   "cell_type": "code",
   "execution_count": 60,
   "metadata": {},
   "outputs": [],
   "source": [
    "# https://www.interviewbit.com/problems/subset-sum-problem/"
   ]
  },
  {
   "cell_type": "code",
   "execution_count": 61,
   "metadata": {},
   "outputs": [],
   "source": [
    "class Solution:\n",
    "    # @param A : list of integers\n",
    "    # @param B : integer\n",
    "    # @return an integer\n",
    "    def solve(self, A, B):\n",
    "        n = len(A)\n",
    "        def helper(idx, remaining):\n",
    "            if idx == n:\n",
    "                return remaining == 0\n",
    "            take = helper(idx + 1, remaining - A[idx])\n",
    "            notake = helper(idx + 1, remaining)\n",
    "            return take or notake\n",
    "        return int(helper(0, B))"
   ]
  },
  {
   "cell_type": "code",
   "execution_count": 62,
   "metadata": {},
   "outputs": [],
   "source": [
    "class Solution:\n",
    "    # @param A : list of integers\n",
    "    # @param B : integer\n",
    "    # @return an integer\n",
    "    def solve(self, A, B):\n",
    "        n = len(A)\n",
    "        dp = [[-1 for _ in range(B + 1)] for _ in range(n)]\n",
    "        def helper(idx, remaining):\n",
    "            if idx == n:\n",
    "                return remaining == 0\n",
    "            if dp[idx][remaining] != -1:\n",
    "                return dp[idx][remaining]\n",
    "            take = helper(idx + 1, remaining - A[idx]) if remaining >= A[idx] else 0\n",
    "            notake = helper(idx + 1, remaining)\n",
    "            dp[idx][remaining] = take or notake\n",
    "            return dp[idx][remaining]\n",
    "        return int(helper(0, B))"
   ]
  },
  {
   "cell_type": "code",
   "execution_count": 63,
   "metadata": {},
   "outputs": [],
   "source": [
    "class Solution:\n",
    "    # @param A : list of integers\n",
    "    # @param B : integer\n",
    "    # @return an integer\n",
    "    def solve(self, A, B):\n",
    "        n = len(A)\n",
    "        dp = [[-1 for _ in range(B + 1)] for _ in range(n + 1)]\n",
    "        for idx in range(n, -1, -1):\n",
    "            for remaining in range(B + 1):\n",
    "                if idx == n:\n",
    "                    dp[idx][remaining] = int(remaining == 0)\n",
    "                    continue\n",
    "                take = dp[idx + 1][remaining - A[idx]] if remaining >= A[idx] else 0\n",
    "                notake = dp[idx + 1][remaining]\n",
    "                dp[idx][remaining] = take or notake\n",
    "        return int(dp[0][B])"
   ]
  },
  {
   "cell_type": "code",
   "execution_count": 64,
   "metadata": {},
   "outputs": [],
   "source": [
    "class Solution:\n",
    "    # @param A : list of integers\n",
    "    # @param B : integer\n",
    "    # @return an integer\n",
    "    def solve(self, A, B):\n",
    "        n = len(A)\n",
    "        dp = [-1 for _ in range(B + 1)]\n",
    "        for idx in range(n, -1, -1):\n",
    "            prev = dp[:]\n",
    "            for remaining in range(B + 1):\n",
    "                if idx == n:\n",
    "                    dp[remaining] = int(remaining == 0)\n",
    "                    continue\n",
    "                take = prev[remaining - A[idx]] if remaining >= A[idx] else 0\n",
    "                notake = prev[remaining]\n",
    "                dp[remaining] = take or notake\n",
    "        return int(dp[B])"
   ]
  },
  {
   "cell_type": "code",
   "execution_count": 65,
   "metadata": {},
   "outputs": [
    {
     "data": {
      "text/plain": [
       "1"
      ]
     },
     "execution_count": 65,
     "metadata": {},
     "output_type": "execute_result"
    }
   ],
   "source": [
    "A = [3, 34, 4, 12, 5, 2]\n",
    "B = 9\n",
    "sol = Solution()\n",
    "sol.solve(A, B)"
   ]
  },
  {
   "cell_type": "code",
   "execution_count": 66,
   "metadata": {},
   "outputs": [
    {
     "data": {
      "text/plain": [
       "0"
      ]
     },
     "execution_count": 66,
     "metadata": {},
     "output_type": "execute_result"
    }
   ],
   "source": [
    "A = [3, 34, 4, 12, 5, 2]\n",
    "B = 30\n",
    "sol = Solution()\n",
    "sol.solve(A, B)"
   ]
  }
 ],
 "metadata": {
  "kernelspec": {
   "display_name": "dsa-venv",
   "language": "python",
   "name": "python3"
  },
  "language_info": {
   "codemirror_mode": {
    "name": "ipython",
    "version": 3
   },
   "file_extension": ".py",
   "mimetype": "text/x-python",
   "name": "python",
   "nbconvert_exporter": "python",
   "pygments_lexer": "ipython3",
   "version": "3.11.3"
  }
 },
 "nbformat": 4,
 "nbformat_minor": 2
}
