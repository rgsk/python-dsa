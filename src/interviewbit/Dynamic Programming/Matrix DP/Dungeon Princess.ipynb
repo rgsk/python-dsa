{
 "cells": [
  {
   "cell_type": "code",
   "execution_count": 52,
   "metadata": {},
   "outputs": [],
   "source": [
    "# https://www.interviewbit.com/problems/dungeon-princess/"
   ]
  },
  {
   "cell_type": "code",
   "execution_count": 53,
   "metadata": {},
   "outputs": [],
   "source": [
    "class Solution:\n",
    "    # @param A : list of list of integers\n",
    "    # @return an integer\n",
    "    def calculateMinimumHP(self, A):\n",
    "        rows = len(A)\n",
    "        cols = len(A[0])\n",
    "        def helper(i: int, j: int):\n",
    "            if i == rows or j == cols:\n",
    "                return float('-inf')\n",
    "            if i == rows - 1 and j == cols - 1:\n",
    "                return min(0, A[i][j])\n",
    "            return min(0, A[i][j] + max(helper(i+1, j), helper(i, j+1)))\n",
    "        return abs(helper(0, 0)) + 1"
   ]
  },
  {
   "cell_type": "code",
   "execution_count": 54,
   "metadata": {},
   "outputs": [],
   "source": [
    "class Solution:\n",
    "    # @param A : list of list of integers\n",
    "    # @return an integer\n",
    "    def calculateMinimumHP(self, A):\n",
    "        rows = len(A)\n",
    "        cols = len(A[0])\n",
    "        dp = [[-1] * cols for _ in range(rows)]\n",
    "        def helper(i: int, j: int):\n",
    "            if i == rows or j == cols:\n",
    "                return float('-inf')\n",
    "            if i == rows - 1 and j == cols - 1:\n",
    "                return min(0, A[i][j])\n",
    "            if dp[i][j] != -1:\n",
    "                return dp[i][j]\n",
    "            dp[i][j] = min(0, A[i][j] + max(helper(i+1, j), helper(i, j+1)))\n",
    "            return dp[i][j]\n",
    "        return abs(helper(0, 0)) + 1"
   ]
  },
  {
   "cell_type": "code",
   "execution_count": 55,
   "metadata": {},
   "outputs": [],
   "source": [
    "class Solution:\n",
    "    # @param A : list of list of integers\n",
    "    # @return an integer\n",
    "    def calculateMinimumHP(self, A):\n",
    "        rows = len(A)\n",
    "        cols = len(A[0])\n",
    "        dp = [[-1] * (cols + 1) for _ in range(rows + 1)]\n",
    "        for i in range(rows, -1, -1):\n",
    "            for j in range(cols, -1, -1):\n",
    "                if i == rows or j == cols:\n",
    "                    dp[i][j] = float('-inf')\n",
    "                    continue\n",
    "                if i == rows - 1 and j == cols - 1:\n",
    "                    dp[i][j] = min(0, A[i][j])\n",
    "                    continue\n",
    "                dp[i][j] = min(0, A[i][j] + max(dp[i+1][j], dp[i][j+1]))\n",
    "        return abs(dp[0][0]) + 1"
   ]
  },
  {
   "cell_type": "code",
   "execution_count": 56,
   "metadata": {},
   "outputs": [
    {
     "data": {
      "text/plain": [
       "7"
      ]
     },
     "execution_count": 56,
     "metadata": {},
     "output_type": "execute_result"
    }
   ],
   "source": [
    "A = [\n",
    "    [-2, -3, 3],\n",
    "    [-5, -10, 1],\n",
    "    [10, 30, -5],\n",
    "]\n",
    "sol = Solution()\n",
    "sol.calculateMinimumHP(A)"
   ]
  }
 ],
 "metadata": {
  "kernelspec": {
   "display_name": "dsa-venv",
   "language": "python",
   "name": "python3"
  },
  "language_info": {
   "codemirror_mode": {
    "name": "ipython",
    "version": 3
   },
   "file_extension": ".py",
   "mimetype": "text/x-python",
   "name": "python",
   "nbconvert_exporter": "python",
   "pygments_lexer": "ipython3",
   "version": "3.11.3"
  }
 },
 "nbformat": 4,
 "nbformat_minor": 2
}
