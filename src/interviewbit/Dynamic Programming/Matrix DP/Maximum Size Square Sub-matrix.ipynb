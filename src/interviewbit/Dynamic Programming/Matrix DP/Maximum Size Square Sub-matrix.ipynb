{
 "cells": [
  {
   "cell_type": "code",
   "execution_count": 5,
   "metadata": {},
   "outputs": [],
   "source": [
    "# https://www.interviewbit.com/problems/maximum-size-square-sub-matrix/"
   ]
  },
  {
   "cell_type": "code",
   "execution_count": 6,
   "metadata": {},
   "outputs": [],
   "source": [
    "class Solution:\n",
    "    # @param A : list of list of integers\n",
    "    # @return an integer\n",
    "    def solve(self, A):\n",
    "        rows = len(A)\n",
    "        cols = len(A[0])\n",
    "\n",
    "        track_height = [[0 for _ in range(cols)] for _ in range(rows + 1)]\n",
    "        for i in range(1, rows + 1):\n",
    "            for j in range(cols):\n",
    "                if A[i-1][j] == 1:\n",
    "                    track_height[i][j] = track_height[i-1][j] + A[i-1][j]\n",
    "        return track_height"
   ]
  },
  {
   "cell_type": "code",
   "execution_count": 7,
   "metadata": {},
   "outputs": [],
   "source": [
    "from typing import List\n",
    "\n",
    "\n",
    "class Solution:\n",
    "    # @param A : list of list of integers\n",
    "    # @return an integer\n",
    "    def solve(self, A):\n",
    "        rows = len(A)\n",
    "        cols = len(A[0])\n",
    "\n",
    "        track_height = [[0 for _ in range(cols)] for _ in range(rows + 1)]\n",
    "        for i in range(1, rows + 1):\n",
    "            for j in range(cols):\n",
    "                if A[i-1][j] == 1:\n",
    "                    track_height[i][j] = track_height[i-1][j] + A[i-1][j]\n",
    "        max_area = 0\n",
    "        for row in track_height:\n",
    "            max_area = max(max_area, self.largestSquareArea(row))\n",
    "        return max_area\n",
    "    \n",
    "\n",
    "    def largestSquareArea(self, heights: List[int]) -> int:\n",
    "        n = len(heights)\n",
    "        min_prev = [-1 for _ in range(n)]\n",
    "        min_next = [n for _ in range(n)]\n",
    "        st = []\n",
    "        for i in range(n):\n",
    "            while st and heights[st[-1]] >= heights[i]:\n",
    "                st.pop()\n",
    "            if st:\n",
    "                min_prev[i] = st[-1]\n",
    "            st.append(i)\n",
    "        st = []\n",
    "        for i in range(n-1, -1, -1):\n",
    "            while st and heights[st[-1]] >= heights[i]:\n",
    "                st.pop()\n",
    "            if st:\n",
    "                min_next[i] = st[-1]\n",
    "            st.append(i)\n",
    "        max_area = 0\n",
    "        # print(min_prev)\n",
    "        # print(min_next)\n",
    "        for i in range(n):\n",
    "            length = heights[i]\n",
    "            breath = min_next[i] - min_prev[i] - 1\n",
    "            side = min(length, breath)\n",
    "            max_area = max(max_area, side * side)\n",
    "        return max_area"
   ]
  },
  {
   "cell_type": "code",
   "execution_count": 8,
   "metadata": {},
   "outputs": [
    {
     "data": {
      "text/plain": [
       "9"
      ]
     },
     "execution_count": 8,
     "metadata": {},
     "output_type": "execute_result"
    }
   ],
   "source": [
    "A = [\n",
    "    [0, 1, 1, 0, 1],\n",
    "    [1, 1, 0, 1, 0],\n",
    "    [0, 1, 1, 1, 0],\n",
    "    [1, 1, 1, 1, 0],\n",
    "    [1, 1, 1, 1, 1],\n",
    "    [0, 0, 0, 0, 0]\n",
    "]\n",
    "sol = Solution()\n",
    "sol.solve(A)"
   ]
  },
  {
   "cell_type": "code",
   "execution_count": 9,
   "metadata": {},
   "outputs": [
    {
     "data": {
      "text/plain": [
       "4"
      ]
     },
     "execution_count": 9,
     "metadata": {},
     "output_type": "execute_result"
    }
   ],
   "source": [
    "A = [\n",
    "    [1, 1],\n",
    "    [1, 1]\n",
    "]\n",
    "sol = Solution()\n",
    "sol.solve(A)"
   ]
  }
 ],
 "metadata": {
  "kernelspec": {
   "display_name": "dsa-venv",
   "language": "python",
   "name": "python3"
  },
  "language_info": {
   "codemirror_mode": {
    "name": "ipython",
    "version": 3
   },
   "file_extension": ".py",
   "mimetype": "text/x-python",
   "name": "python",
   "nbconvert_exporter": "python",
   "pygments_lexer": "ipython3",
   "version": "3.11.3"
  }
 },
 "nbformat": 4,
 "nbformat_minor": 2
}
