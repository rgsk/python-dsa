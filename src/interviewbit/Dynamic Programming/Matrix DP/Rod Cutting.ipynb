{
 "cells": [
  {
   "cell_type": "code",
   "execution_count": 198,
   "metadata": {},
   "outputs": [],
   "source": [
    "# https://www.interviewbit.com/problems/rod-cutting/"
   ]
  },
  {
   "cell_type": "code",
   "execution_count": 199,
   "metadata": {},
   "outputs": [],
   "source": [
    "from typing import List\n",
    "\n",
    "\n",
    "class Solution:\n",
    "    # @param A : integer\n",
    "    # @param B : list of integers\n",
    "    # @return a list of integers\n",
    "    def rodCut(self, A, B: List[int]):\n",
    "        rod_length = A\n",
    "        cuts = B\n",
    "        cuts_length = len(cuts)\n",
    "        cuts.insert(0, 0)\n",
    "        cuts.append(rod_length)\n",
    "        def helper(i, j):\n",
    "            if i > j:\n",
    "                return 0\n",
    "            min_cost = float('inf')\n",
    "            for k in range(i, j + 1):\n",
    "                cur_cost = cuts[j+1] - cuts[i-1] + helper(i, k - 1) + helper(k + 1, j)\n",
    "                min_cost = min(cur_cost, min_cost)\n",
    "            return min_cost\n",
    "        return helper(1, cuts_length)"
   ]
  },
  {
   "cell_type": "code",
   "execution_count": 200,
   "metadata": {},
   "outputs": [],
   "source": [
    "from typing import List\n",
    "\n",
    "\n",
    "class Solution:\n",
    "    # @param A : integer\n",
    "    # @param B : list of integers\n",
    "    # @return a list of integers\n",
    "    def rodCut(self, A, B: List[int]):\n",
    "        rod_length = A\n",
    "        cuts = B\n",
    "        cuts_length = len(cuts)\n",
    "        cuts.insert(0, 0)\n",
    "        cuts.append(rod_length)\n",
    "        dp = [[-1 for _ in range(cuts_length + 1)] for _ in range(cuts_length + 1)]\n",
    "        def helper(i, j):\n",
    "            if i > j:\n",
    "                return 0\n",
    "            if dp[i][j] != -1:\n",
    "                return dp[i][j]\n",
    "            min_cost = float('inf')\n",
    "            for k in range(i, j + 1):\n",
    "                cur_cost = cuts[j+1] - cuts[i-1] + helper(i, k - 1) + helper(k + 1, j)\n",
    "                min_cost = min(cur_cost, min_cost)\n",
    "            dp[i][j] = min_cost\n",
    "            return dp[i][j]\n",
    "        return helper(1, cuts_length)"
   ]
  },
  {
   "cell_type": "code",
   "execution_count": 201,
   "metadata": {},
   "outputs": [],
   "source": [
    "from typing import List\n",
    "\n",
    "\n",
    "class Solution:\n",
    "    # @param A : integer\n",
    "    # @param B : list of integers\n",
    "    # @return a list of integers\n",
    "    def rodCut(self, A, B: List[int]):\n",
    "        rod_length = A\n",
    "        cuts = B\n",
    "        cuts_length = len(cuts)\n",
    "        cuts.insert(0, 0)\n",
    "        cuts.append(rod_length)\n",
    "        dp = [[-1 for _ in range(cuts_length + 1)] for _ in range(cuts_length + 2)]\n",
    "        for i in range(cuts_length + 1, 0, -1):\n",
    "            for j in range(0, cuts_length + 1):\n",
    "                if i > j:\n",
    "                    dp[i][j] = 0\n",
    "                    continue\n",
    "                min_cost = float('inf')\n",
    "                for k in range(i, j + 1):\n",
    "                    cur_cost = cuts[j+1] - cuts[i-1] + dp[i][k-1] + dp[k+1][j]\n",
    "                    min_cost = min(cur_cost, min_cost)\n",
    "                dp[i][j] = min_cost\n",
    "        return dp[1][cuts_length]"
   ]
  },
  {
   "cell_type": "code",
   "execution_count": 202,
   "metadata": {},
   "outputs": [],
   "source": [
    "from typing import List\n",
    "\n",
    "\n",
    "class Solution:\n",
    "    # @param A : integer\n",
    "    # @param B : list of integers\n",
    "    # @return a list of integers\n",
    "    def rodCut(self, A, B: List[int]):\n",
    "        rod_length = A\n",
    "        cuts = B\n",
    "        cuts_length = len(cuts)\n",
    "        cuts.insert(0, 0)\n",
    "        cuts.append(rod_length)\n",
    "        dp = [[-1 for _ in range(cuts_length + 1)] for _ in range(cuts_length + 1)]\n",
    "        def helper(i, j):\n",
    "            if i > j:\n",
    "                return 0, []\n",
    "            if dp[i][j] != -1:\n",
    "                return dp[i][j] \n",
    "            min_cost = float('inf')\n",
    "            elements = []\n",
    "            for k in range(i, j + 1):\n",
    "                cur_cost = cuts[j+1] - cuts[i-1]\n",
    "                left_cost, left_elements = helper(i, k - 1) \n",
    "                right_cost, right_elements = helper(k + 1, j)\n",
    "                total_cost = cur_cost + left_cost + right_cost\n",
    "                if total_cost < min_cost:\n",
    "                    min_cost = total_cost\n",
    "                    elements = [cuts[k]] + left_elements + right_elements\n",
    "\n",
    "            dp[i][j] = min_cost, elements\n",
    "            return dp[i][j]\n",
    "        return helper(1, cuts_length)[1]"
   ]
  },
  {
   "cell_type": "code",
   "execution_count": 203,
   "metadata": {},
   "outputs": [
    {
     "data": {
      "text/plain": [
       "[2, 1, 5]"
      ]
     },
     "execution_count": 203,
     "metadata": {},
     "output_type": "execute_result"
    }
   ],
   "source": [
    "A = 6\n",
    "cuts = [1, 2, 5]\n",
    "sol = Solution()\n",
    "sol.rodCut(A, cuts)"
   ]
  }
 ],
 "metadata": {
  "kernelspec": {
   "display_name": "dsa-venv",
   "language": "python",
   "name": "python3"
  },
  "language_info": {
   "codemirror_mode": {
    "name": "ipython",
    "version": 3
   },
   "file_extension": ".py",
   "mimetype": "text/x-python",
   "name": "python",
   "nbconvert_exporter": "python",
   "pygments_lexer": "ipython3",
   "version": "3.11.3"
  }
 },
 "nbformat": 4,
 "nbformat_minor": 2
}
