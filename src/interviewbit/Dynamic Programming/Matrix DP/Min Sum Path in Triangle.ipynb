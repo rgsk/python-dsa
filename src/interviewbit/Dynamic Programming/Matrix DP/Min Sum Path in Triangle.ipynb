{
 "cells": [
  {
   "cell_type": "code",
   "execution_count": 20,
   "metadata": {},
   "outputs": [],
   "source": [
    "# https://www.interviewbit.com/problems/min-sum-path-in-triangle/"
   ]
  },
  {
   "cell_type": "code",
   "execution_count": 21,
   "metadata": {},
   "outputs": [],
   "source": [
    "class Solution:\n",
    "    # @param A : list of list of integers\n",
    "    # @return an integer\n",
    "    def minimumTotal(self, A):\n",
    "        rows = len(A)\n",
    "        def helper(i, j):\n",
    "            if i == rows:\n",
    "                return 0\n",
    "            if j >= len(A[i]):\n",
    "                return float('-inf')\n",
    "            cur_cost = A[i][j]\n",
    "            further_cost = min(helper(i+1, j), helper(i+1,j+1))\n",
    "            return cur_cost + further_cost\n",
    "        return helper(0, 0)"
   ]
  },
  {
   "cell_type": "code",
   "execution_count": 22,
   "metadata": {},
   "outputs": [],
   "source": [
    "class Solution:\n",
    "    # @param A : list of list of integers\n",
    "    # @return an integer\n",
    "    def minimumTotal(self, A):\n",
    "        rows = len(A)\n",
    "        cols = len(A[-1])\n",
    "        dp = [[-1 for _ in range(cols + 1)] for _ in range(rows + 1)]\n",
    "        for i in range(rows, -1, -1):\n",
    "            for j in range(cols, -1, -1):\n",
    "                if i == rows:\n",
    "                    dp[i][j] = 0\n",
    "                    continue\n",
    "                if j >= len(A[i]):\n",
    "                    dp[i][j] = float('-inf')\n",
    "                    continue\n",
    "                cur_cost = A[i][j]\n",
    "                further_cost = min(dp[i+1][j], dp[i+1][j+1])\n",
    "                dp[i][j] = cur_cost + further_cost\n",
    "        return dp[0][0]"
   ]
  },
  {
   "cell_type": "code",
   "execution_count": 23,
   "metadata": {},
   "outputs": [],
   "source": [
    "class Solution:\n",
    "    # @param A : list of list of integers\n",
    "    # @return an integer\n",
    "    def minimumTotal(self, A):\n",
    "        rows = len(A)\n",
    "        cols = len(A[-1])\n",
    "        dp = [-1 for _ in range(cols + 1)]\n",
    "        for i in range(rows, -1, -1):\n",
    "            prev = dp[:]\n",
    "            for j in range(cols, -1, -1):\n",
    "                if i == rows:\n",
    "                    dp[j] = 0\n",
    "                    continue\n",
    "                if j >= len(A[i]):\n",
    "                    dp[j] = float('-inf')\n",
    "                    continue\n",
    "                cur_cost = A[i][j]\n",
    "                further_cost = min(prev[j], prev[j+1])\n",
    "                dp[j] = cur_cost + further_cost\n",
    "        return dp[0]"
   ]
  },
  {
   "cell_type": "code",
   "execution_count": 24,
   "metadata": {},
   "outputs": [
    {
     "data": {
      "text/plain": [
       "11"
      ]
     },
     "execution_count": 24,
     "metadata": {},
     "output_type": "execute_result"
    }
   ],
   "source": [
    "A = [\n",
    "    [2],\n",
    "    [3, 4],\n",
    "    [6, 5, 7],\n",
    "    [4, 1, 8, 3]\n",
    "]\n",
    "sol = Solution()\n",
    "sol.minimumTotal(A)"
   ]
  },
  {
   "cell_type": "code",
   "execution_count": 25,
   "metadata": {},
   "outputs": [
    {
     "data": {
      "text/plain": [
       "1"
      ]
     },
     "execution_count": 25,
     "metadata": {},
     "output_type": "execute_result"
    }
   ],
   "source": [
    "A = [[1]]\n",
    "sol = Solution()\n",
    "sol.minimumTotal(A)"
   ]
  }
 ],
 "metadata": {
  "kernelspec": {
   "display_name": "dsa-venv",
   "language": "python",
   "name": "python3"
  },
  "language_info": {
   "codemirror_mode": {
    "name": "ipython",
    "version": 3
   },
   "file_extension": ".py",
   "mimetype": "text/x-python",
   "name": "python",
   "nbconvert_exporter": "python",
   "pygments_lexer": "ipython3",
   "version": "3.11.3"
  }
 },
 "nbformat": 4,
 "nbformat_minor": 2
}
