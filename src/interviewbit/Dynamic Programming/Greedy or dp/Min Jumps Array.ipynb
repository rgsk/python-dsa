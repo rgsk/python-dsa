{
 "cells": [
  {
   "cell_type": "code",
   "execution_count": 54,
   "metadata": {},
   "outputs": [],
   "source": [
    "# https://www.interviewbit.com/problems/min-jumps-array/"
   ]
  },
  {
   "cell_type": "code",
   "execution_count": 55,
   "metadata": {},
   "outputs": [],
   "source": [
    "class Solution:\n",
    "    # @param A : list of integers\n",
    "    # @return an integer\n",
    "    def jump(self, A):\n",
    "        n = len(A)\n",
    "        def helper(idx, count):\n",
    "            if idx == n - 1:\n",
    "                return count\n",
    "            jumps = A[idx]\n",
    "            ans = float('inf')\n",
    "            while jumps > 0:\n",
    "                if idx + jumps <= n - 1:\n",
    "                    res = helper(idx + jumps, count + 1)\n",
    "                    ans = min(ans, res)\n",
    "                jumps -= 1\n",
    "            return ans\n",
    "        ans = helper(0, 0)\n",
    "        if ans == float('inf'):\n",
    "            return -1\n",
    "        return ans"
   ]
  },
  {
   "cell_type": "code",
   "execution_count": 56,
   "metadata": {},
   "outputs": [],
   "source": [
    "class Solution:\n",
    "    # @param A : list of integers\n",
    "    # @return an integer\n",
    "    def jump(self, A):\n",
    "        n = len(A)\n",
    "        def helper(idx, count):\n",
    "            if idx == n - 1:\n",
    "                return count\n",
    "            jumps = A[idx]\n",
    "            ans = float('inf')\n",
    "            while jumps > 0:\n",
    "                if idx + jumps <= n - 1:\n",
    "                    res = helper(idx + jumps, count + 1)\n",
    "                    ans = min(ans, res)\n",
    "                jumps -= 1\n",
    "            return ans\n",
    "        ans = helper(0, 0)\n",
    "        if ans == float('inf'):\n",
    "            return -1\n",
    "        return ans"
   ]
  },
  {
   "cell_type": "code",
   "execution_count": 57,
   "metadata": {},
   "outputs": [],
   "source": [
    "class Solution:\n",
    "    # @param A : list of integers\n",
    "    # @return an integer\n",
    "    def jump(self, A):\n",
    "        n = len(A)\n",
    "        def helper(idx):\n",
    "            if idx == n - 1:\n",
    "                return 0\n",
    "            jumps = A[idx]\n",
    "            ans = float('inf')\n",
    "            while jumps > 0:\n",
    "                if idx + jumps <= n - 1:\n",
    "                    res = 1 + helper(idx + jumps)\n",
    "                    ans = min(ans, res)\n",
    "                jumps -= 1\n",
    "            return ans\n",
    "        ans = helper(0)\n",
    "        if ans == float('inf'):\n",
    "            return -1\n",
    "        return ans"
   ]
  },
  {
   "cell_type": "code",
   "execution_count": 58,
   "metadata": {},
   "outputs": [],
   "source": [
    "# dp\n",
    "# TLE\n",
    "class Solution:\n",
    "    # @param A : list of integers\n",
    "    # @return an integer\n",
    "    def jump(self, A):\n",
    "        n = len(A)\n",
    "        dp = [float('inf')] * n\n",
    "        for idx in range(n-1, -1, -1):\n",
    "            if idx == n - 1:\n",
    "                dp[idx] = 0\n",
    "                continue\n",
    "            jumps = A[idx]\n",
    "            ans = float('inf')\n",
    "            while jumps > 0:\n",
    "                if idx + jumps <= n - 1:\n",
    "                    res = 1 + dp[idx + jumps]\n",
    "                    ans = min(ans, res)\n",
    "                jumps -= 1\n",
    "            dp[idx] = ans\n",
    "\n",
    "        if dp[0] == float('inf'):\n",
    "            return -1\n",
    "        return dp[0]"
   ]
  },
  {
   "cell_type": "code",
   "execution_count": 59,
   "metadata": {},
   "outputs": [],
   "source": [
    "class Solution:\n",
    "    # @param A : list of integers\n",
    "    # @return an integer\n",
    "    def jump(self, A):\n",
    "        l = len(A)\n",
    "        count = 0\n",
    "        for i in range(1, l):\n",
    "            A[i] = max(i+A[i], A[i-1])\n",
    "        pos = 0\n",
    "        while pos < l-1:\n",
    "            if pos >= A[pos]:\n",
    "                return -1\n",
    "            else:\n",
    "                count += 1\n",
    "                pos = A[pos]\n",
    "\n",
    "        return count"
   ]
  },
  {
   "cell_type": "code",
   "execution_count": 60,
   "metadata": {},
   "outputs": [
    {
     "data": {
      "text/plain": [
       "1"
      ]
     },
     "execution_count": 60,
     "metadata": {},
     "output_type": "execute_result"
    }
   ],
   "source": [
    "A = [2, 1, 1]\n",
    "sol = Solution()\n",
    "sol.jump(A)"
   ]
  },
  {
   "cell_type": "code",
   "execution_count": 61,
   "metadata": {},
   "outputs": [
    {
     "data": {
      "text/plain": [
       "2"
      ]
     },
     "execution_count": 61,
     "metadata": {},
     "output_type": "execute_result"
    }
   ],
   "source": [
    "A = [2, 3, 1, 1, 4]\n",
    "sol = Solution()\n",
    "sol.jump(A)"
   ]
  }
 ],
 "metadata": {
  "kernelspec": {
   "display_name": "dsa-venv",
   "language": "python",
   "name": "python3"
  },
  "language_info": {
   "codemirror_mode": {
    "name": "ipython",
    "version": 3
   },
   "file_extension": ".py",
   "mimetype": "text/x-python",
   "name": "python",
   "nbconvert_exporter": "python",
   "pygments_lexer": "ipython3",
   "version": "3.11.3"
  }
 },
 "nbformat": 4,
 "nbformat_minor": 2
}
