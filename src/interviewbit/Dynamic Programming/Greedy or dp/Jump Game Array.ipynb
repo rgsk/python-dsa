{
 "cells": [
  {
   "cell_type": "code",
   "execution_count": 30,
   "metadata": {},
   "outputs": [],
   "source": [
    "# https://www.interviewbit.com/problems/jump-game-array/"
   ]
  },
  {
   "cell_type": "code",
   "execution_count": 31,
   "metadata": {},
   "outputs": [],
   "source": [
    "# recursive\n",
    "class Solution:\n",
    "    # @param A : list of integers\n",
    "    # @return an integer\n",
    "    def canJump(self, A):\n",
    "        n = len(A)\n",
    "        def helper(idx):\n",
    "            if idx == n - 1:\n",
    "                return 1\n",
    "            jumps = A[idx]\n",
    "            while jumps > 0:\n",
    "                if idx + jumps <= n - 1:\n",
    "                    if helper(idx + jumps):\n",
    "                        return 1\n",
    "                jumps -= 1\n",
    "            return 0\n",
    "        return helper(0)\n",
    "                "
   ]
  },
  {
   "cell_type": "code",
   "execution_count": 32,
   "metadata": {},
   "outputs": [],
   "source": [
    "# memoised\n",
    "class Solution:\n",
    "    # @param A : list of integers\n",
    "    # @return an integer\n",
    "    def canJump(self, A):\n",
    "        n = len(A)\n",
    "        dp = [-1] * n\n",
    "        def helper(idx):\n",
    "            if idx == n - 1:\n",
    "                return 1\n",
    "            if dp[idx] != -1:\n",
    "                return dp[idx]\n",
    "            jumps = A[idx]\n",
    "            while jumps > 0:\n",
    "                if idx + jumps <= n - 1:\n",
    "                    if helper(idx + jumps):\n",
    "                        dp[idx] = 1\n",
    "                        return 1\n",
    "                jumps -= 1\n",
    "            dp[idx] = 0\n",
    "            return 0\n",
    "        return helper(0)"
   ]
  },
  {
   "cell_type": "code",
   "execution_count": 33,
   "metadata": {},
   "outputs": [],
   "source": [
    "# dp\n",
    "# accepted\n",
    "class Solution:\n",
    "    # @param A : list of integers\n",
    "    # @return an integer\n",
    "    def canJump(self, A):\n",
    "        n = len(A)\n",
    "        dp = [-1] * n\n",
    "        for idx in range(n-1, -1, -1):\n",
    "            if idx == n - 1:\n",
    "                dp[idx] = 1\n",
    "                continue\n",
    "            jumps = A[idx]\n",
    "            while jumps > 0:\n",
    "                if idx + jumps <= n - 1:\n",
    "                    if dp[idx + jumps]:\n",
    "                        dp[idx] = 1\n",
    "                        break\n",
    "                jumps -= 1\n",
    "            if dp[idx] == -1:\n",
    "                dp[idx] = 0\n",
    "        return dp[0]"
   ]
  },
  {
   "cell_type": "code",
   "execution_count": 34,
   "metadata": {},
   "outputs": [],
   "source": [
    "# greedy\n",
    "# best solution\n",
    "class Solution:\n",
    "    # @param A : list of integers\n",
    "    # @return an integer\n",
    "    def canJump(self, a):\n",
    "        \n",
    "        # This variable denotes the maximum array elem we can jump\n",
    "        # initially it is zero\n",
    "        max_jump = 0\n",
    "        for i in range(len(a)):\n",
    "            # If this index not reachable than return 0\n",
    "            if i > max_jump:\n",
    "                return 0\n",
    "            #update max jump\n",
    "            max_jump = max(max_jump, i + a[i])\n",
    "        return 1"
   ]
  },
  {
   "cell_type": "code",
   "execution_count": 35,
   "metadata": {},
   "outputs": [
    {
     "data": {
      "text/plain": [
       "1"
      ]
     },
     "execution_count": 35,
     "metadata": {},
     "output_type": "execute_result"
    }
   ],
   "source": [
    "A = [2,3,1,1,4]\n",
    "sol = Solution()\n",
    "sol.canJump(A)"
   ]
  },
  {
   "cell_type": "code",
   "execution_count": 36,
   "metadata": {},
   "outputs": [
    {
     "data": {
      "text/plain": [
       "0"
      ]
     },
     "execution_count": 36,
     "metadata": {},
     "output_type": "execute_result"
    }
   ],
   "source": [
    "A = [3,2,1,0,4]\n",
    "sol = Solution()\n",
    "sol.canJump(A)"
   ]
  }
 ],
 "metadata": {
  "kernelspec": {
   "display_name": "dsa-venv",
   "language": "python",
   "name": "python3"
  },
  "language_info": {
   "codemirror_mode": {
    "name": "ipython",
    "version": 3
   },
   "file_extension": ".py",
   "mimetype": "text/x-python",
   "name": "python",
   "nbconvert_exporter": "python",
   "pygments_lexer": "ipython3",
   "version": "3.11.3"
  }
 },
 "nbformat": 4,
 "nbformat_minor": 2
}
