{
 "cells": [
  {
   "cell_type": "code",
   "execution_count": 378,
   "metadata": {},
   "outputs": [],
   "source": [
    "from typing import List\n",
    "\n",
    "\n",
    "class Solution:\n",
    "    # @param A : tuple of integers\n",
    "    # @return an integer\n",
    "    def longestSubsequenceLength(self, A: List[int]):\n",
    "        A = (-float('inf'),) + A\n",
    "        n = len(A)\n",
    "        def helper(ind, lastInd, increasing):\n",
    "            if ind == n:\n",
    "                return 0\n",
    "            res = 0\n",
    "            if increasing:\n",
    "                if A[ind] > A[lastInd]:\n",
    "                    res = max(res, 1 + helper(ind + 1, ind, increasing))\n",
    "                elif A[ind] < A[lastInd]:\n",
    "                    res = max(res, 1 + helper(ind + 1, ind, not increasing))\n",
    "            else:\n",
    "                if A[ind] < A[lastInd]:\n",
    "                    res = max(res, 1 + helper(ind + 1, ind, increasing))\n",
    "\n",
    "            res = max(res, helper(ind + 1, lastInd, increasing))\n",
    "            return res\n",
    "        return helper(1, 0, True)\n",
    "            \n",
    "            "
   ]
  },
  {
   "cell_type": "code",
   "execution_count": 379,
   "metadata": {},
   "outputs": [],
   "source": [
    "from typing import List\n",
    "\n",
    "\n",
    "class Solution:\n",
    "    # @param A : tuple of integers\n",
    "    # @return an integer\n",
    "    def longestSubsequenceLength(self, A: List[int]):\n",
    "        A = (-float('inf'),) + A\n",
    "        n = len(A)\n",
    "        dp = [[[0, 0] for _ in range(n + 1)] for _ in range(n + 1)]\n",
    "        for ind in range(n-1, -1, -1):\n",
    "            for lastInd in range(ind):\n",
    "                for increasing in range(2):\n",
    "                    res = 0\n",
    "                    if increasing:\n",
    "                        if A[ind] > A[lastInd]:\n",
    "                            res = max(res, 1 + dp[ind+1][ind][increasing])\n",
    "                        elif A[ind] < A[lastInd]:\n",
    "                            res = max(res, 1 + dp[ind+1][ind][not increasing])\n",
    "                    else:\n",
    "                        if A[ind] < A[lastInd]:\n",
    "                            res = max(res, 1 + dp[ind+1][ind][increasing])\n",
    "\n",
    "                    res = max(res, dp[ind+1][lastInd][increasing])\n",
    "                    dp[ind][lastInd][increasing] = res\n",
    "        return dp[1][0][1]\n",
    "            \n",
    "            "
   ]
  },
  {
   "cell_type": "code",
   "execution_count": 380,
   "metadata": {},
   "outputs": [],
   "source": [
    "from copy import deepcopy\n",
    "\n",
    "\n",
    "class Solution:\n",
    "    # @param A : tuple of integers\n",
    "    # @return an integer\n",
    "    def longestSubsequenceLength(self, A):\n",
    "        A = (-float('inf'),) + A\n",
    "        n = len(A)\n",
    "        dp = [[0, 0] for _ in range(n + 1)]\n",
    "        for ind in range(n-1, -1, -1):\n",
    "            next = deepcopy(dp)\n",
    "            for lastInd in range(ind):\n",
    "                for increasing in range(2):\n",
    "                    res = 0\n",
    "                    if increasing:\n",
    "                        if A[ind] > A[lastInd]:\n",
    "                            res = max(res, 1 + next[ind][increasing])\n",
    "                        elif A[ind] < A[lastInd]:\n",
    "                            res = max(res, 1 + next[ind][not increasing])\n",
    "                    else:\n",
    "                        if A[ind] < A[lastInd]:\n",
    "                            res = max(res, 1 + next[ind][increasing])\n",
    "\n",
    "                    res = max(res, next[lastInd][increasing])\n",
    "                    dp[lastInd][increasing] = res\n",
    "        return dp[0][1]"
   ]
  },
  {
   "cell_type": "code",
   "execution_count": 381,
   "metadata": {},
   "outputs": [],
   "source": [
    "class Solution:\n",
    "    # @param A : tuple of integers\n",
    "    # @return an integer\n",
    "    def longestSubsequenceLength(self, A):\n",
    "        A = (-float('inf'),) + A\n",
    "        n = len(A)\n",
    "        dp = [[0, 0] for _ in range(n)]\n",
    "        for ind in range(n-1, 0, -1):\n",
    "            for lastInd in range(ind): # or range(ind - 1, -1, -1) won't make a difference since we are using ind, it goes till ind - 1\n",
    "                for increasing in range(2):\n",
    "                    res = 0\n",
    "                    if increasing:\n",
    "                        if A[ind] > A[lastInd]:\n",
    "                            res = max(res, 1 + dp[ind][increasing])\n",
    "                        elif A[ind] < A[lastInd]:\n",
    "                            res = max(res, 1 + dp[ind][not increasing])\n",
    "                    else:\n",
    "                        if A[ind] < A[lastInd]:\n",
    "                            res = max(res, 1 + dp[ind][increasing])\n",
    "                    res = max(res, dp[lastInd][increasing])\n",
    "                    dp[lastInd][increasing] = res\n",
    "        return dp[0][1]"
   ]
  },
  {
   "cell_type": "code",
   "execution_count": 382,
   "metadata": {},
   "outputs": [],
   "source": [
    "class Solution:\n",
    "    # @param A : tuple of integers\n",
    "    # @return an integer\n",
    "    def longestSubsequenceLength(self, A):\n",
    "        A = (-float('inf'),) + A\n",
    "        n = len(A)\n",
    "        dp = [[0, 0] for _ in range(n)]\n",
    "        for ind in range(n-1, 0, -1):\n",
    "            for lastInd in range(ind): # or range(ind - 1, -1, -1) won't make a difference since we are using ind, it goes till ind - 1\n",
    "                if A[ind] > A[lastInd]:\n",
    "                    dp[lastInd][1] = max(dp[lastInd][1], 1 + dp[ind][1])\n",
    "                elif A[ind] < A[lastInd]:\n",
    "                    dp[lastInd][1] = max(dp[lastInd][1], 1 + dp[ind][0])\n",
    "                    dp[lastInd][0] = max(dp[lastInd][0], 1 + dp[ind][0])\n",
    "        return dp[0][1]"
   ]
  },
  {
   "cell_type": "markdown",
   "metadata": {},
   "source": [
    "Input 1:\n",
    "\n",
    " A = [1, 2, 1]\n",
    "Input 2:\n",
    "\n",
    " A = [1, 11, 2, 10, 4, 5, 2, 1]"
   ]
  },
  {
   "cell_type": "code",
   "execution_count": 384,
   "metadata": {},
   "outputs": [
    {
     "data": {
      "text/plain": [
       "3"
      ]
     },
     "execution_count": 384,
     "metadata": {},
     "output_type": "execute_result"
    }
   ],
   "source": [
    "A = (1, 2, 1)\n",
    "sol = Solution()\n",
    "sol.longestSubsequenceLength(A)"
   ]
  },
  {
   "cell_type": "code",
   "execution_count": 385,
   "metadata": {},
   "outputs": [
    {
     "data": {
      "text/plain": [
       "6"
      ]
     },
     "execution_count": 385,
     "metadata": {},
     "output_type": "execute_result"
    }
   ],
   "source": [
    "A = (1, 11, 2, 10, 4, 5, 2, 1)\n",
    "sol = Solution()\n",
    "sol.longestSubsequenceLength(A)"
   ]
  },
  {
   "cell_type": "code",
   "execution_count": 386,
   "metadata": {},
   "outputs": [
    {
     "data": {
      "text/plain": [
       "3"
      ]
     },
     "execution_count": 386,
     "metadata": {},
     "output_type": "execute_result"
    }
   ],
   "source": [
    "arr = (1, 2, 1, 2, 1)\n",
    "n = len(arr)\n",
    "sol = Solution()\n",
    "sol.longestSubsequenceLength(arr)"
   ]
  },
  {
   "cell_type": "code",
   "execution_count": 387,
   "metadata": {},
   "outputs": [
    {
     "data": {
      "text/plain": [
       "4"
      ]
     },
     "execution_count": 387,
     "metadata": {},
     "output_type": "execute_result"
    }
   ],
   "source": [
    "arr = (1, 2, 1, 3, 4)\n",
    "n = len(arr)\n",
    "sol = Solution()\n",
    "sol.longestSubsequenceLength(arr)"
   ]
  }
 ],
 "metadata": {
  "kernelspec": {
   "display_name": "dsa-venv",
   "language": "python",
   "name": "python3"
  },
  "language_info": {
   "codemirror_mode": {
    "name": "ipython",
    "version": 3
   },
   "file_extension": ".py",
   "mimetype": "text/x-python",
   "name": "python",
   "nbconvert_exporter": "python",
   "pygments_lexer": "ipython3",
   "version": "3.11.3"
  },
  "orig_nbformat": 4
 },
 "nbformat": 4,
 "nbformat_minor": 2
}
