{
 "cells": [
  {
   "cell_type": "code",
   "execution_count": 74,
   "metadata": {},
   "outputs": [],
   "source": [
    "class Solution:\n",
    "    # @param A : tuple of integers\n",
    "    # @return an integer\n",
    "    def lis(self, A):\n",
    "        n = len(A)\n",
    "        def helper(ind, lastInd):\n",
    "            if ind == n:\n",
    "                return 0\n",
    "            if lastInd == -1 or A[ind] > A[lastInd]:\n",
    "                return max(1 + helper(ind + 1, ind), helper(ind + 1, lastInd))\n",
    "            return helper(ind + 1, lastInd)\n",
    "        return helper(0, -1)"
   ]
  },
  {
   "cell_type": "code",
   "execution_count": 75,
   "metadata": {},
   "outputs": [],
   "source": [
    "class Solution:\n",
    "    # @param A : tuple of integers\n",
    "    # @return an integer\n",
    "    def lis(self, A):\n",
    "        n = len(A)\n",
    "        dp = [[-1 for _ in range(n)] for _ in range(n)]\n",
    "        def helper(ind, lastInd):\n",
    "            if ind == n:\n",
    "                return 0\n",
    "            if dp[ind][lastInd] != -1:\n",
    "                return dp[ind][lastInd]\n",
    "            if lastInd == 0 or A[ind] > A[lastInd - 1]:\n",
    "                dp[ind][lastInd] = max(1 + helper(ind + 1, ind + 1), helper(ind + 1, lastInd))\n",
    "            else:\n",
    "                dp[ind][lastInd] = helper(ind + 1, lastInd)\n",
    "            return dp[ind][lastInd]\n",
    "        return helper(0, 0)"
   ]
  },
  {
   "cell_type": "code",
   "execution_count": 76,
   "metadata": {},
   "outputs": [],
   "source": [
    "class Solution:\n",
    "    # @param A : tuple of integers\n",
    "    # @return an integer\n",
    "    def lis(self, A):\n",
    "        n = len(A)\n",
    "        dp = [[0 for _ in range(n + 1)] for _ in range(n + 1)]\n",
    "        for ind in range(n-1, -1, -1):\n",
    "            for lastInd in range(ind,-1,-1):\n",
    "                if lastInd == 0 or A[ind] > A[lastInd - 1]:\n",
    "                    dp[ind][lastInd] = max(1 + dp[ind+1][ind+1], dp[ind+1][lastInd])\n",
    "                else:\n",
    "                    dp[ind][lastInd] = dp[ind+1][lastInd]\n",
    "        return dp[0][0]"
   ]
  },
  {
   "cell_type": "code",
   "execution_count": 77,
   "metadata": {},
   "outputs": [],
   "source": [
    "class Solution:\n",
    "    # @param A : tuple of integers\n",
    "    # @return an integer\n",
    "    def lis(self, A):\n",
    "        n = len(A)\n",
    "        dp = [[0 for _ in range(n + 1)] for _ in range(n + 1)]\n",
    "        for ind in range(n-1, -1, -1):\n",
    "            for lastInd in range(ind + 1):\n",
    "                if lastInd == 0 or A[ind] > A[lastInd - 1]:\n",
    "                    dp[ind][lastInd] = max(1 + dp[ind+1][ind+1], dp[ind+1][lastInd])\n",
    "                else:\n",
    "                    dp[ind][lastInd] = dp[ind+1][lastInd]\n",
    "        return dp[0][0]"
   ]
  },
  {
   "cell_type": "code",
   "execution_count": 78,
   "metadata": {},
   "outputs": [],
   "source": [
    "class Solution:\n",
    "    # @param A : tuple of integers\n",
    "    # @return an integer\n",
    "    def lis(self, A):\n",
    "        n = len(A)\n",
    "        dp = [0 for _ in range(n + 1)]\n",
    "        for ind in range(n-1, -1, -1):\n",
    "            next = dp[:]\n",
    "            for lastInd in range(ind + 1):\n",
    "                if lastInd == 0 or A[ind] > A[lastInd - 1]:\n",
    "                    dp[lastInd] = max(1 + next[ind+1], next[lastInd])\n",
    "                else:\n",
    "                    dp[lastInd] = next[lastInd]\n",
    "        return dp[0]"
   ]
  },
  {
   "cell_type": "code",
   "execution_count": 79,
   "metadata": {},
   "outputs": [],
   "source": [
    "class Solution:\n",
    "    # @param A : tuple of integers\n",
    "    # @return an integer\n",
    "    def lis(self, A):\n",
    "        n = len(A)\n",
    "        dp = [0 for _ in range(n + 1)]\n",
    "        for ind in range(n-1, -1, -1):\n",
    "            for lastInd in range(ind + 1):\n",
    "                if lastInd == 0 or A[ind] > A[lastInd - 1]:\n",
    "                    dp[lastInd] = max(1 + dp[ind+1], dp[lastInd])\n",
    "        return dp[0]"
   ]
  },
  {
   "cell_type": "code",
   "execution_count": 80,
   "metadata": {},
   "outputs": [
    {
     "data": {
      "text/plain": [
       "3"
      ]
     },
     "execution_count": 80,
     "metadata": {},
     "output_type": "execute_result"
    }
   ],
   "source": [
    "A = [1, 2, 1, 5]\n",
    "sol = Solution()\n",
    "sol.lis(A)"
   ]
  },
  {
   "cell_type": "code",
   "execution_count": 81,
   "metadata": {},
   "outputs": [
    {
     "data": {
      "text/plain": [
       "6"
      ]
     },
     "execution_count": 81,
     "metadata": {},
     "output_type": "execute_result"
    }
   ],
   "source": [
    "A = [0, 8, 4, 12, 2, 10, 6, 14, 1, 9, 5, 13, 3, 11, 7, 15]\n",
    "sol = Solution()\n",
    "sol.lis(A)"
   ]
  }
 ],
 "metadata": {
  "kernelspec": {
   "display_name": "dsa-venv",
   "language": "python",
   "name": "python3"
  },
  "language_info": {
   "codemirror_mode": {
    "name": "ipython",
    "version": 3
   },
   "file_extension": ".py",
   "mimetype": "text/x-python",
   "name": "python",
   "nbconvert_exporter": "python",
   "pygments_lexer": "ipython3",
   "version": "3.11.3"
  },
  "orig_nbformat": 4
 },
 "nbformat": 4,
 "nbformat_minor": 2
}
