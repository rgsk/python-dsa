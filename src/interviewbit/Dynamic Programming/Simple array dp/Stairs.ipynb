{
 "cells": [
  {
   "cell_type": "code",
   "execution_count": 12,
   "metadata": {},
   "outputs": [],
   "source": [
    "class Solution:\n",
    "    # @param A : integer\n",
    "    # @return an integer\n",
    "    def climbStairs(self, A):\n",
    "        def helper(i):\n",
    "            if i == A:\n",
    "                return 1\n",
    "            one_jump = 0\n",
    "            two_jump = 0\n",
    "            if i < A - 1:\n",
    "                two_jump = helper(i + 2)\n",
    "            one_jump = helper(i + 1)\n",
    "            return one_jump + two_jump\n",
    "        return helper(0)\n"
   ]
  },
  {
   "cell_type": "code",
   "execution_count": 13,
   "metadata": {},
   "outputs": [],
   "source": [
    "class Solution:\n",
    "    # @param A : integer\n",
    "    # @return an integer\n",
    "    def climbStairs(self, A):\n",
    "        dp = [0 for _ in range(A + 2)]\n",
    "        dp[A] = 1\n",
    "        for i in range(A - 1, -1, -1):\n",
    "            one_jump = 0\n",
    "            two_jump = 0\n",
    "            if i < A - 1:\n",
    "                two_jump = dp[i+2]\n",
    "            one_jump = dp[i+1]\n",
    "            dp[i] = one_jump + two_jump\n",
    "        return dp[0]"
   ]
  },
  {
   "cell_type": "code",
   "execution_count": 14,
   "metadata": {},
   "outputs": [],
   "source": [
    "class Solution:\n",
    "    # @param A : integer\n",
    "    # @return an integer\n",
    "    def climbStairs(self, A):\n",
    "        i_plus_2 = 0\n",
    "        i_plus_1 = 1\n",
    "        cur_i = 0\n",
    "        for i in range(A - 1, -1, -1):\n",
    "            one_jump = 0\n",
    "            two_jump = 0\n",
    "            if i < A - 1:\n",
    "                two_jump = i_plus_2\n",
    "            one_jump = i_plus_1\n",
    "            cur_i = one_jump + two_jump\n",
    "\n",
    "            i_plus_2 = i_plus_1\n",
    "            i_plus_1 = cur_i\n",
    "        return cur_i"
   ]
  },
  {
   "cell_type": "code",
   "execution_count": 15,
   "metadata": {},
   "outputs": [
    {
     "data": {
      "text/plain": [
       "2"
      ]
     },
     "execution_count": 15,
     "metadata": {},
     "output_type": "execute_result"
    }
   ],
   "source": [
    "A = 2\n",
    "sol = Solution()\n",
    "sol.climbStairs(A)"
   ]
  },
  {
   "cell_type": "code",
   "execution_count": 16,
   "metadata": {},
   "outputs": [
    {
     "data": {
      "text/plain": [
       "3"
      ]
     },
     "execution_count": 16,
     "metadata": {},
     "output_type": "execute_result"
    }
   ],
   "source": [
    "A = 3\n",
    "sol = Solution()\n",
    "sol.climbStairs(A)"
   ]
  }
 ],
 "metadata": {
  "kernelspec": {
   "display_name": "dsa-venv",
   "language": "python",
   "name": "python3"
  },
  "language_info": {
   "codemirror_mode": {
    "name": "ipython",
    "version": 3
   },
   "file_extension": ".py",
   "mimetype": "text/x-python",
   "name": "python",
   "nbconvert_exporter": "python",
   "pygments_lexer": "ipython3",
   "version": "3.11.3"
  },
  "orig_nbformat": 4
 },
 "nbformat": 4,
 "nbformat_minor": 2
}
