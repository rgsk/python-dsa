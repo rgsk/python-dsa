{
 "cells": [
  {
   "cell_type": "code",
   "execution_count": 23,
   "metadata": {},
   "outputs": [],
   "source": [
    "class Solution:\n",
    "    # @param A : integer\n",
    "    # @param B : integer\n",
    "    # @param C : integer\n",
    "    # @param D : integer\n",
    "    # @return a list of integers\n",
    "    def solve(self, A, B, C, D):\n",
    "        elements = [1]\n",
    "        indexes = {A: 0, B: 0, C: 0}\n",
    "        while len(elements) < D + 1:\n",
    "            minE = A\n",
    "            for e in indexes:\n",
    "                if elements[indexes[e]] * e < elements[indexes[minE]] * minE:\n",
    "                    minE = e\n",
    "            nextRes = elements[indexes[minE]] * minE\n",
    "            if nextRes != elements[-1]:\n",
    "                elements.append(nextRes)\n",
    "            indexes[minE] += 1\n",
    "        return elements[1:]"
   ]
  },
  {
   "cell_type": "code",
   "execution_count": 24,
   "metadata": {},
   "outputs": [],
   "source": [
    "# variation\n",
    "class Solution:\n",
    "    # @param A : integer\n",
    "    # @param B : integer\n",
    "    # @param C : integer\n",
    "    # @param D : integer\n",
    "    # @return a list of integers\n",
    "    def solve(self, A, B, C, D):\n",
    "        elements = [1]\n",
    "        indexes = {A: 0, B: 0, C: 0}\n",
    "        while len(elements) < D + 1:\n",
    "            nextRes = min(elements[indexes[A]] * A, elements[indexes[B]] * B, elements[indexes[C]] * C)\n",
    "            for e in indexes:\n",
    "                if nextRes == elements[indexes[e]] * e:\n",
    "                    indexes[e] += 1\n",
    "            elements.append(nextRes)\n",
    "        return elements[1:]"
   ]
  },
  {
   "cell_type": "code",
   "execution_count": 25,
   "metadata": {},
   "outputs": [
    {
     "data": {
      "text/plain": [
       "[2, 3, 4, 5, 6]"
      ]
     },
     "execution_count": 25,
     "metadata": {},
     "output_type": "execute_result"
    }
   ],
   "source": [
    "A = 2\n",
    "B = 3\n",
    "C = 5\n",
    "D = 5\n",
    "\n",
    "sol = Solution()\n",
    "sol.solve(A, B, C, D)"
   ]
  }
 ],
 "metadata": {
  "kernelspec": {
   "display_name": "dsa-venv",
   "language": "python",
   "name": "python3"
  },
  "language_info": {
   "codemirror_mode": {
    "name": "ipython",
    "version": 3
   },
   "file_extension": ".py",
   "mimetype": "text/x-python",
   "name": "python",
   "nbconvert_exporter": "python",
   "pygments_lexer": "ipython3",
   "version": "3.11.3"
  },
  "orig_nbformat": 4
 },
 "nbformat": 4,
 "nbformat_minor": 2
}
