{
 "cells": [
  {
   "cell_type": "code",
   "execution_count": 50,
   "metadata": {},
   "outputs": [],
   "source": [
    "# max recursion depth exceeded\n",
    "class Solution:\n",
    "    # @param A : string\n",
    "    # @return an integer\n",
    "    def numDecodings(self, A):\n",
    "        n = len(A)\n",
    "        dp = [-1 for _ in range(n)]\n",
    "        def helper(i):\n",
    "            if i == n:\n",
    "                return 1\n",
    "            if dp[i] != -1:\n",
    "                return dp[i]\n",
    "            taketwo = 0\n",
    "            takeone = 0\n",
    "            if i < n-1:\n",
    "                if A[i] != '0':\n",
    "                    nextTwo = int(A[i:i+2])\n",
    "                    if nextTwo <= 26:\n",
    "                        taketwo = helper(i + 2)\n",
    "            if A[i] != '0':\n",
    "                takeone = helper(i + 1)\n",
    "            dp[i] = takeone + taketwo\n",
    "            return dp[i]\n",
    "        return helper(0)"
   ]
  },
  {
   "cell_type": "code",
   "execution_count": 51,
   "metadata": {},
   "outputs": [],
   "source": [
    "mod = 10**9 + 7\n",
    "class Solution:\n",
    "    # @param A : string\n",
    "    # @return an integer\n",
    "    def numDecodings(self, A):\n",
    "        n = len(A)\n",
    "        dp = [-1 for _ in range(n + 1)]\n",
    "        dp[n] = 1\n",
    "        for i in range(n-1, -1, -1):\n",
    "            taketwo = 0\n",
    "            takeone = 0\n",
    "            if i < n-1:\n",
    "                if A[i] != '0':\n",
    "                    nextTwo = int(A[i:i+2])\n",
    "                    if nextTwo <= 26:\n",
    "                        taketwo = dp[i+2]\n",
    "            if A[i] != '0':\n",
    "                takeone = dp[i+1]\n",
    "            dp[i] = takeone + taketwo\n",
    "        return dp[0] % mod"
   ]
  },
  {
   "cell_type": "code",
   "execution_count": 52,
   "metadata": {},
   "outputs": [],
   "source": [
    "mod = 10**9 + 7\n",
    "class Solution:\n",
    "    # @param A : string\n",
    "    # @return an integer\n",
    "    def numDecodings(self, A):\n",
    "        n = len(A)\n",
    "        i_plus_2 = 0\n",
    "        i_plus_1 = 1\n",
    "        cur_i = 0\n",
    "        for i in range(n-1, -1, -1):\n",
    "            taketwo = 0\n",
    "            takeone = 0\n",
    "            if i < n-1:\n",
    "                if A[i] != '0':\n",
    "                    nextTwo = int(A[i:i+2])\n",
    "                    if nextTwo <= 26:\n",
    "                        taketwo = i_plus_2\n",
    "            if A[i] != '0':\n",
    "                takeone = i_plus_1\n",
    "            cur_i = takeone + taketwo\n",
    "            i_plus_2 = i_plus_1\n",
    "            i_plus_1 = cur_i\n",
    "        return cur_i % mod"
   ]
  },
  {
   "cell_type": "code",
   "execution_count": 53,
   "metadata": {},
   "outputs": [
    {
     "data": {
      "text/plain": [
       "1"
      ]
     },
     "execution_count": 53,
     "metadata": {},
     "output_type": "execute_result"
    }
   ],
   "source": [
    "A = \"8\"\n",
    "sol = Solution()\n",
    "sol.numDecodings(A)"
   ]
  },
  {
   "cell_type": "code",
   "execution_count": 54,
   "metadata": {},
   "outputs": [
    {
     "data": {
      "text/plain": [
       "2"
      ]
     },
     "execution_count": 54,
     "metadata": {},
     "output_type": "execute_result"
    }
   ],
   "source": [
    "A = \"12\"\n",
    "sol = Solution()\n",
    "sol.numDecodings(A)"
   ]
  },
  {
   "cell_type": "code",
   "execution_count": 55,
   "metadata": {},
   "outputs": [
    {
     "data": {
      "text/plain": [
       "1"
      ]
     },
     "execution_count": 55,
     "metadata": {},
     "output_type": "execute_result"
    }
   ],
   "source": [
    "A = \"10\"\n",
    "sol = Solution()\n",
    "sol.numDecodings(A)"
   ]
  }
 ],
 "metadata": {
  "kernelspec": {
   "display_name": "dsa-venv",
   "language": "python",
   "name": "python3"
  },
  "language_info": {
   "codemirror_mode": {
    "name": "ipython",
    "version": 3
   },
   "file_extension": ".py",
   "mimetype": "text/x-python",
   "name": "python",
   "nbconvert_exporter": "python",
   "pygments_lexer": "ipython3",
   "version": "3.11.3"
  },
  "orig_nbformat": 4
 },
 "nbformat": 4,
 "nbformat_minor": 2
}
