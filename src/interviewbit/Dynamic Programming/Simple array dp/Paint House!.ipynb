{
 "cells": [
  {
   "cell_type": "code",
   "execution_count": 141,
   "metadata": {},
   "outputs": [],
   "source": [
    "import math\n",
    "\n",
    "\n",
    "class Solution:\n",
    "    # @param A : list of list of integers\n",
    "    # @return an integer\n",
    "    def solve(self, A):\n",
    "        n = len(A)\n",
    "        def helper(ind, lastColorInd):\n",
    "            if ind == n:\n",
    "                return 0\n",
    "            minCost = math.inf\n",
    "            for j in range(3):\n",
    "                if j != lastColorInd:\n",
    "                    minCost = min(minCost, A[ind][j] + helper(ind + 1, j))\n",
    "            return minCost\n",
    "        return helper(0, -1)"
   ]
  },
  {
   "cell_type": "code",
   "execution_count": 142,
   "metadata": {},
   "outputs": [],
   "source": [
    "import math\n",
    "\n",
    "\n",
    "class Solution:\n",
    "    # @param A : list of list of integers\n",
    "    # @return an integer\n",
    "    def solve(self, A):\n",
    "        n = len(A)\n",
    "        dp = [[-1 for _ in range(3)] for _ in range(n)]\n",
    "        def helper(ind, lastColorInd):\n",
    "            if ind == n:\n",
    "                return 0\n",
    "            if lastColorInd != -1 and dp[ind][lastColorInd] != -1:\n",
    "                return dp[ind][lastColorInd]\n",
    "            minCost = math.inf\n",
    "            for j in range(3):\n",
    "                if j != lastColorInd:\n",
    "                    minCost = min(minCost, A[ind][j] + helper(ind + 1, j))\n",
    "            dp[ind][lastColorInd] = minCost\n",
    "            return dp[ind][lastColorInd]\n",
    "        return helper(0, -1)"
   ]
  },
  {
   "cell_type": "code",
   "execution_count": 143,
   "metadata": {},
   "outputs": [],
   "source": [
    "import math\n",
    "\n",
    "\n",
    "class Solution:\n",
    "    # @param A : list of list of integers\n",
    "    # @return an integer\n",
    "    def solve(self, A):\n",
    "        n = len(A)\n",
    "        dp = [[-1 for _ in range(4)] for _ in range(n)]\n",
    "        def helper(ind, lastColorInd):\n",
    "            if ind == n:\n",
    "                return 0\n",
    "            if dp[ind][lastColorInd] != -1:\n",
    "                return dp[ind][lastColorInd]\n",
    "            minCost = math.inf\n",
    "            for j in range(3):\n",
    "                if j != lastColorInd - 1:\n",
    "                    minCost = min(minCost, A[ind][j] + helper(ind + 1, j + 1))\n",
    "            dp[ind][lastColorInd] = minCost\n",
    "            return dp[ind][lastColorInd]\n",
    "        return helper(0, 0)"
   ]
  },
  {
   "cell_type": "code",
   "execution_count": 144,
   "metadata": {},
   "outputs": [],
   "source": [
    "import math\n",
    "\n",
    "\n",
    "class Solution:\n",
    "    # @param A : list of list of integers\n",
    "    # @return an integer\n",
    "    def solve(self, A):\n",
    "        n = len(A)\n",
    "        dp = [[0 for _ in range(4)] for _ in range(n + 1)]\n",
    "        for ind in range(n - 1, -1, -1):\n",
    "            for lastColorInd in range(4):\n",
    "                minCost = math.inf\n",
    "                for j in range(3):\n",
    "                    if j != lastColorInd - 1:\n",
    "                        minCost = min(minCost, A[ind][j] + dp[ind + 1][j + 1])\n",
    "                dp[ind][lastColorInd] = minCost\n",
    "        return dp[0][0]"
   ]
  },
  {
   "cell_type": "code",
   "execution_count": 145,
   "metadata": {},
   "outputs": [],
   "source": [
    "import math\n",
    "\n",
    "\n",
    "class Solution:\n",
    "    # @param A : list of list of integers\n",
    "    # @return an integer\n",
    "    def solve(self, A):\n",
    "        n = len(A)\n",
    "        dp = [0 for _ in range(4)]\n",
    "        for ind in range(n - 1, -1, -1):\n",
    "            next = dp[:]\n",
    "            for lastColorInd in range(4):\n",
    "                minCost = math.inf\n",
    "                for j in range(3):\n",
    "                    if j != lastColorInd - 1:\n",
    "                        minCost = min(minCost, A[ind][j] + next[j + 1])\n",
    "                dp[lastColorInd] = minCost\n",
    "        return dp[0]"
   ]
  },
  {
   "cell_type": "code",
   "execution_count": 146,
   "metadata": {},
   "outputs": [
    {
     "data": {
      "text/plain": [
       "12"
      ]
     },
     "execution_count": 146,
     "metadata": {},
     "output_type": "execute_result"
    }
   ],
   "source": [
    "A = [\n",
    "    [1, 2, 3],\n",
    "    [10, 11, 12]\n",
    "]\n",
    "sol = Solution()\n",
    "sol.solve(A)"
   ]
  }
 ],
 "metadata": {
  "kernelspec": {
   "display_name": "dsa-venv",
   "language": "python",
   "name": "python3"
  },
  "language_info": {
   "codemirror_mode": {
    "name": "ipython",
    "version": 3
   },
   "file_extension": ".py",
   "mimetype": "text/x-python",
   "name": "python",
   "nbconvert_exporter": "python",
   "pygments_lexer": "ipython3",
   "version": "3.11.3"
  },
  "orig_nbformat": 4
 },
 "nbformat": 4,
 "nbformat_minor": 2
}
