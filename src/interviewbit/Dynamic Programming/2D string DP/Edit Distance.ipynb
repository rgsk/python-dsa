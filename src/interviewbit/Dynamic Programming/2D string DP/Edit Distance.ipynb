{
 "cells": [
  {
   "cell_type": "code",
   "execution_count": 18,
   "metadata": {},
   "outputs": [],
   "source": [
    "\n",
    "\n",
    "class Solution:\n",
    "    # @param A : string\n",
    "    # @param B : string\n",
    "    # @return an integer\n",
    "    def minDistance(self, A, B):\n",
    "        nA = len(A)\n",
    "        nB = len(B)\n",
    "        dp = [[0 for _ in range(nB + 1)] for _ in range(nA + 1)]\n",
    "        for i in range(nA + 1):\n",
    "            for j in range(nB + 1):\n",
    "                if i == 0:\n",
    "                    dp[i][j] = j\n",
    "                elif j == 0:\n",
    "                    dp[i][j] = i\n",
    "        for i in range(1, nA + 1):\n",
    "            for j in range(1, nB + 1):\n",
    "                if A[i-1] == B[j-1]:\n",
    "                    dp[i][j] = dp[i-1][j-1]\n",
    "                else:\n",
    "                    dp[i][j] = min(dp[i-1][j-1], dp[i-1][j], dp[i][j-1]) + 1\n",
    "        return dp[nA][nB]"
   ]
  },
  {
   "cell_type": "code",
   "execution_count": 19,
   "metadata": {},
   "outputs": [
    {
     "name": "stdout",
     "output_type": "stream",
     "text": [
      "2\n"
     ]
    }
   ],
   "source": [
    "A = \"Anshuman\"\n",
    "B = \"Antihuman\"\n",
    "sol = Solution()\n",
    "print(sol.minDistance(A, B))\n"
   ]
  },
  {
   "cell_type": "code",
   "execution_count": 20,
   "metadata": {},
   "outputs": [
    {
     "name": "stdout",
     "output_type": "stream",
     "text": [
      "1\n"
     ]
    }
   ],
   "source": [
    "A = \"a\"\n",
    "B = \"b\"\n",
    "sol = Solution()\n",
    "print(sol.minDistance(A, B))"
   ]
  }
 ],
 "metadata": {
  "kernelspec": {
   "display_name": "Python 3.10.4 ('template-venv': venv)",
   "language": "python",
   "name": "python3"
  },
  "language_info": {
   "codemirror_mode": {
    "name": "ipython",
    "version": 3
   },
   "file_extension": ".py",
   "mimetype": "text/x-python",
   "name": "python",
   "nbconvert_exporter": "python",
   "pygments_lexer": "ipython3",
   "version": "3.10.4"
  },
  "orig_nbformat": 4,
  "vscode": {
   "interpreter": {
    "hash": "0b8dd1d11c220dfc9d15848c82c145ba1a021fcb056c07a0cc073ae3ed6d8420"
   }
  }
 },
 "nbformat": 4,
 "nbformat_minor": 2
}
