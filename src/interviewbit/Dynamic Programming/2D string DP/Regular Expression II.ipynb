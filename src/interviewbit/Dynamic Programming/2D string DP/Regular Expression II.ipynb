{
 "cells": [
  {
   "cell_type": "code",
   "execution_count": 36,
   "metadata": {},
   "outputs": [],
   "source": [
    "# https://www.interviewbit.com/problems/regular-expression-ii/"
   ]
  },
  {
   "cell_type": "code",
   "execution_count": 37,
   "metadata": {},
   "outputs": [],
   "source": [
    "class Solution:\n",
    "    # @param A : string\n",
    "    # @param B : string\n",
    "    # @return an integer\n",
    "    def isMatch(self, A, B):\n",
    "        na = len(A)\n",
    "        nb = len(B)\n",
    "        def helper(ia, ib):\n",
    "            if ib == nb:\n",
    "                return ia == na\n",
    "            if ib + 1 < nb and B[ib + 1] == '*':\n",
    "                return helper(ia, ib + 2) or ((B[ib] == A[ia] or B[ib] == '.') and helper(ia + 1, ib))\n",
    "            else:\n",
    "                return (B[ib] == A[ia] or B[ib] == '.') and helper(ia + 1, ib + 1)\n",
    "        return int(helper(0, 0))"
   ]
  },
  {
   "cell_type": "code",
   "execution_count": 38,
   "metadata": {},
   "outputs": [],
   "source": [
    "class Solution:\n",
    "    # @param A : string\n",
    "    # @param B : string\n",
    "    # @return an integer\n",
    "    def isMatch(self, A, B):\n",
    "        na = len(A)\n",
    "        nb = len(B)\n",
    "        dp = [[-1] * (nb + 1) for _ in range(na + 1)]\n",
    "        for ia in range(na, -1, -1):\n",
    "            for ib in range(nb, -1, -1):\n",
    "                if ib == nb:\n",
    "                    dp[ia][ib] = ia == na\n",
    "                    continue\n",
    "                if ib + 1 < nb and B[ib + 1] == '*':\n",
    "                    dp[ia][ib] = dp[ia][ib + 2] or ((B[ib] == A[ia] or B[ib] == '.') and dp[ia + 1][ib])\n",
    "                else:\n",
    "                    if ia < na:\n",
    "                        dp[ia][ib] = (B[ib] == A[ia] or B[ib] == '.') and dp[ia + 1][ib + 1]\n",
    "        return int(dp[0][0])"
   ]
  },
  {
   "cell_type": "code",
   "execution_count": 39,
   "metadata": {},
   "outputs": [
    {
     "data": {
      "text/plain": [
       "1"
      ]
     },
     "execution_count": 39,
     "metadata": {},
     "output_type": "execute_result"
    }
   ],
   "source": [
    "A = \"ac\"\n",
    "B = \"ab*c\"\n",
    "sol = Solution()\n",
    "sol.isMatch(A, B)"
   ]
  },
  {
   "cell_type": "code",
   "execution_count": 40,
   "metadata": {},
   "outputs": [
    {
     "data": {
      "text/plain": [
       "1"
      ]
     },
     "execution_count": 40,
     "metadata": {},
     "output_type": "execute_result"
    }
   ],
   "source": [
    "A = \"aaa\"\n",
    "B = \"a*\"\n",
    "sol = Solution()\n",
    "sol.isMatch(A, B)"
   ]
  },
  {
   "cell_type": "code",
   "execution_count": 41,
   "metadata": {},
   "outputs": [
    {
     "name": "stdout",
     "output_type": "stream",
     "text": [
      "0\n",
      "1\n",
      "0\n",
      "1\n",
      "1\n",
      "1\n",
      "1\n"
     ]
    }
   ],
   "source": [
    "print(sol.isMatch(\"aa\",\"a\"))\n",
    "print(sol.isMatch(\"aa\",\"aa\"))\n",
    "print(sol.isMatch(\"aaa\",\"aa\"))\n",
    "print(sol.isMatch(\"aa\", \"a*\"))\n",
    "print(sol.isMatch(\"aa\", \".*\"))\n",
    "print(sol.isMatch(\"ab\", \".*\"))\n",
    "print(sol.isMatch(\"aab\", \"c*a*b\"))"
   ]
  }
 ],
 "metadata": {
  "kernelspec": {
   "display_name": "dsa-venv",
   "language": "python",
   "name": "python3"
  },
  "language_info": {
   "codemirror_mode": {
    "name": "ipython",
    "version": 3
   },
   "file_extension": ".py",
   "mimetype": "text/x-python",
   "name": "python",
   "nbconvert_exporter": "python",
   "pygments_lexer": "ipython3",
   "version": "3.11.3"
  }
 },
 "nbformat": 4,
 "nbformat_minor": 2
}
