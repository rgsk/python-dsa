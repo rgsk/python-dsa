{
 "cells": [
  {
   "cell_type": "code",
   "execution_count": 13,
   "metadata": {},
   "outputs": [],
   "source": [
    "# https://www.interviewbit.com/problems/interleaving-strings/"
   ]
  },
  {
   "cell_type": "code",
   "execution_count": 14,
   "metadata": {},
   "outputs": [],
   "source": [
    "class Solution:\n",
    "    # @param A : string\n",
    "    # @param B : string\n",
    "    # @param C : string\n",
    "    # @return an integer\n",
    "    def isInterleave(self, A, B, C):\n",
    "        na = len(A)\n",
    "        nb = len(B)\n",
    "        nc = len(C)\n",
    "        if na + nb != nc:\n",
    "            return 0\n",
    "        def helper(ai, bi, ci):\n",
    "            if ci == nc:\n",
    "                return 1\n",
    "            ans = 0\n",
    "            if ai < na and A[ai] == C[ci]:\n",
    "                ans = ans or helper(ai + 1, bi, ci + 1)\n",
    "            if bi < nb and B[bi] == C[ci]:\n",
    "                ans = ans or helper(ai, bi + 1, ci + 1)\n",
    "            return ans\n",
    "        return helper(0, 0, 0)"
   ]
  },
  {
   "cell_type": "code",
   "execution_count": 15,
   "metadata": {},
   "outputs": [],
   "source": [
    "class Solution:\n",
    "    # @param A : string\n",
    "    # @param B : string\n",
    "    # @param C : string\n",
    "    # @return an integer\n",
    "    def isInterleave(self, A, B, C):\n",
    "        na = len(A)\n",
    "        nb = len(B)\n",
    "        nc = len(C)\n",
    "        if na + nb != nc:\n",
    "            return 0\n",
    "        cache = {}\n",
    "        def helper(ai, bi, ci):\n",
    "            if ci == nc:\n",
    "                return 1\n",
    "            key = (ai, bi, ci)\n",
    "            if key in cache:\n",
    "                return cache[key]\n",
    "            ans = 0\n",
    "            if ai < na and A[ai] == C[ci]:\n",
    "                ans = ans or helper(ai + 1, bi, ci + 1)\n",
    "            if bi < nb and B[bi] == C[ci]:\n",
    "                ans = ans or helper(ai, bi + 1, ci + 1)\n",
    "            cache[key] = ans\n",
    "            return cache[key]\n",
    "        return helper(0, 0, 0)"
   ]
  },
  {
   "cell_type": "code",
   "execution_count": 16,
   "metadata": {},
   "outputs": [
    {
     "data": {
      "text/plain": [
       "1"
      ]
     },
     "execution_count": 16,
     "metadata": {},
     "output_type": "execute_result"
    }
   ],
   "source": [
    "A = \"aabcc\"\n",
    "B = \"dbbca\"\n",
    "C = \"aadbbbcacc\"\n",
    "sol = Solution()\n",
    "sol.isInterleave(A, B, C)"
   ]
  }
 ],
 "metadata": {
  "kernelspec": {
   "display_name": "dsa-venv",
   "language": "python",
   "name": "python3"
  },
  "language_info": {
   "codemirror_mode": {
    "name": "ipython",
    "version": 3
   },
   "file_extension": ".py",
   "mimetype": "text/x-python",
   "name": "python",
   "nbconvert_exporter": "python",
   "pygments_lexer": "ipython3",
   "version": "3.11.3"
  }
 },
 "nbformat": 4,
 "nbformat_minor": 2
}
