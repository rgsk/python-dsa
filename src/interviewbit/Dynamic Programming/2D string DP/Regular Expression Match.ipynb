{
 "cells": [
  {
   "cell_type": "code",
   "execution_count": 114,
   "metadata": {},
   "outputs": [],
   "source": [
    "# https://www.interviewbit.com/problems/regular-expression-match/"
   ]
  },
  {
   "cell_type": "code",
   "execution_count": 115,
   "metadata": {},
   "outputs": [],
   "source": [
    "class Solution:\n",
    "    # @param A : string\n",
    "    # @param B : string\n",
    "    # @return an integer\n",
    "    def isMatch(self, A, B):\n",
    "        na = len(A)\n",
    "        nb = len(B)\n",
    "        def helper(ia, ib):\n",
    "            if ib == nb:\n",
    "                return ia == na\n",
    "            if ia == na:\n",
    "                if B[ib] == \"*\":\n",
    "                    return helper(ia, ib + 1)\n",
    "                return False\n",
    "            if B[ib] == '?':\n",
    "                return helper(ia + 1, ib + 1)\n",
    "            if B[ib] == '*':\n",
    "                return helper(ia, ib + 1) or helper(ia + 1, ib)\n",
    "            return B[ib] == A[ia] and helper(ia + 1, ib + 1)\n",
    "        return int(helper(0, 0))"
   ]
  },
  {
   "cell_type": "code",
   "execution_count": 116,
   "metadata": {},
   "outputs": [],
   "source": [
    "class Solution:\n",
    "    # @param A : string\n",
    "    # @param B : string\n",
    "    # @return an integer\n",
    "    def isMatch(self, A, B):\n",
    "        na = len(A)\n",
    "        nb = len(B)\n",
    "        def helper(ia, ib):\n",
    "            if ib == nb:\n",
    "                return ia == na\n",
    "            if ia == na:\n",
    "                if B[ib] == \"*\":\n",
    "                    return helper(ia, ib + 1)\n",
    "                else:\n",
    "                    return False\n",
    "            elif B[ib] == '?':\n",
    "                return helper(ia + 1, ib + 1)\n",
    "            elif B[ib] == '*':\n",
    "                return helper(ia, ib + 1) or helper(ia + 1, ib)\n",
    "            else:\n",
    "                return B[ib] == A[ia] and helper(ia + 1, ib + 1)\n",
    "        return int(helper(0, 0))"
   ]
  },
  {
   "cell_type": "code",
   "execution_count": 117,
   "metadata": {},
   "outputs": [],
   "source": [
    "import sys\n",
    "sys.setrecursionlimit(10**6)\n",
    "\n",
    "class Solution:\n",
    "    # @param A : string\n",
    "    # @param B : string\n",
    "    # @return an integer\n",
    "    def isMatch(self, A, B):\n",
    "        na = len(A)\n",
    "        nb = len(B)\n",
    "        dp = [[-1] * (nb + 1) for _ in range(na + 1)]\n",
    "        def helper(ia, ib):\n",
    "            if ib == nb:\n",
    "                return ia == na\n",
    "            if dp[ia][ib] != -1:\n",
    "                return dp[ia][ib]\n",
    "            if ia == na:\n",
    "                if B[ib] == \"*\":\n",
    "                    dp[ia][ib] = helper(ia, ib + 1)\n",
    "                else:\n",
    "                    dp[ia][ib] = False\n",
    "            elif B[ib] == '?':\n",
    "                dp[ia][ib] = helper(ia + 1, ib + 1)\n",
    "            elif B[ib] == '*':\n",
    "                dp[ia][ib] = helper(ia, ib + 1) or helper(ia + 1, ib)\n",
    "            else:\n",
    "                dp[ia][ib] = B[ib] == A[ia] and helper(ia + 1, ib + 1)\n",
    "            return dp[ia][ib]\n",
    "        return int(helper(0, 0))"
   ]
  },
  {
   "cell_type": "code",
   "execution_count": 118,
   "metadata": {},
   "outputs": [],
   "source": [
    "class Solution:\n",
    "    # @param A : string\n",
    "    # @param B : string\n",
    "    # @return an integer\n",
    "    def isMatch(self, A, B):\n",
    "        na = len(A)\n",
    "        nb = len(B)\n",
    "        dp = [[-1] * (nb + 1) for _ in range(na + 1)]\n",
    "        for ia in range(na, -1, -1):\n",
    "            for ib in range(nb, -1, -1):\n",
    "                if ib == nb:\n",
    "                    dp[ia][ib] = ia == na\n",
    "                    continue\n",
    "                if ia == na:\n",
    "                    if B[ib] == \"*\":\n",
    "                        dp[ia][ib] = dp[ia][ib+1]\n",
    "                    else:\n",
    "                        dp[ia][ib] = False\n",
    "                elif B[ib] == '?':\n",
    "                    dp[ia][ib] = dp[ia + 1][ib + 1]\n",
    "                elif B[ib] == '*':\n",
    "                    dp[ia][ib] = dp[ia][ib + 1] or dp[ia+1][ib]\n",
    "                else:\n",
    "                    dp[ia][ib] = B[ib] == A[ia] and dp[ia+1][ib + 1]\n",
    "        return int(dp[0][0])"
   ]
  },
  {
   "cell_type": "code",
   "execution_count": 119,
   "metadata": {},
   "outputs": [],
   "source": [
    "class Solution:\n",
    "    # @param A : string\n",
    "    # @param B : string\n",
    "    # @return an integer\n",
    "    def isMatch(self, A, B):\n",
    "        na = len(A)\n",
    "        nb = len(B)\n",
    "        dp = [-1] * (nb + 1)\n",
    "        for ia in range(na, -1, -1):\n",
    "            prev = dp[:]\n",
    "            for ib in range(nb, -1, -1):\n",
    "                if ib == nb:\n",
    "                    dp[ib] = ia == na\n",
    "                    continue\n",
    "                if ia == na:\n",
    "                    if B[ib] == \"*\":\n",
    "                        dp[ib] = dp[ib+1]\n",
    "                    else:\n",
    "                        dp[ib] = False\n",
    "                elif B[ib] == '?':\n",
    "                    dp[ib] = prev[ib + 1]\n",
    "                elif B[ib] == '*':\n",
    "                    dp[ib] = dp[ib + 1] or prev[ib]\n",
    "                else:\n",
    "                    dp[ib] = B[ib] == A[ia] and prev[ib + 1]\n",
    "        return int(dp[0])"
   ]
  },
  {
   "cell_type": "code",
   "execution_count": 120,
   "metadata": {},
   "outputs": [],
   "source": [
    "class Solution:\n",
    "    # @param A : string\n",
    "    # @param B : string\n",
    "    # @return an integer\n",
    "    def isMatch(self, A, B):\n",
    "        na = len(A)\n",
    "        # transform B\n",
    "        # because multiple continuous * are reduntant\n",
    "        newB = \"\"\n",
    "        for c in B:\n",
    "            if c == '*' and newB and newB[-1] == '*':\n",
    "                continue\n",
    "            newB += c\n",
    "        B = newB\n",
    "        nb = len(B)\n",
    "        dp = [-1] * (nb + 1)\n",
    "        for ia in range(na, -1, -1):\n",
    "            prev = dp[:]\n",
    "            for ib in range(nb, -1, -1):\n",
    "                if ib == nb:\n",
    "                    dp[ib] = ia == na\n",
    "                    continue\n",
    "                if ia == na:\n",
    "                    if B[ib] == \"*\":\n",
    "                        dp[ib] = dp[ib+1]\n",
    "                    else:\n",
    "                        dp[ib] = False\n",
    "                elif B[ib] == '?':\n",
    "                    dp[ib] = prev[ib + 1]\n",
    "                elif B[ib] == '*':\n",
    "                    dp[ib] = dp[ib + 1] or prev[ib]\n",
    "                else:\n",
    "                    dp[ib] = B[ib] == A[ia] and prev[ib + 1]\n",
    "        return int(dp[0])"
   ]
  },
  {
   "cell_type": "code",
   "execution_count": 121,
   "metadata": {},
   "outputs": [
    {
     "name": "stdout",
     "output_type": "stream",
     "text": [
      "0\n",
      "1\n",
      "0\n",
      "1\n",
      "1\n",
      "1\n",
      "0\n"
     ]
    }
   ],
   "source": [
    "A = \"aa\"\n",
    "B = \"a\"\n",
    "sol = Solution()\n",
    "print(sol.isMatch(A, B))\n",
    "A = \"aa\"\n",
    "B = \"aa\"\n",
    "print(sol.isMatch(A, B))\n",
    "A = \"aaa\"\n",
    "B = \"aa\"\n",
    "print(sol.isMatch(A, B))\n",
    "A = \"aa\"\n",
    "B = \"*\"\n",
    "print(sol.isMatch(A, B))\n",
    "A = \"aa\"\n",
    "B = \"a*\"\n",
    "print(sol.isMatch(A, B))\n",
    "A = \"ab\"\n",
    "B = \"?*\"\n",
    "print(sol.isMatch(A, B))\n",
    "A = \"aab\"\n",
    "B = \"c*a*b\"\n",
    "print(sol.isMatch(A, B))"
   ]
  },
  {
   "cell_type": "code",
   "execution_count": 122,
   "metadata": {},
   "outputs": [
    {
     "name": "stdout",
     "output_type": "stream",
     "text": [
      "0\n"
     ]
    }
   ],
   "source": [
    "A = \"aaaaaaaaaaaaaaaaaaaaaaaaaaaaaaaaaaaaaaaaaaaaaaaaaa\"\n",
    "B = \"*b\"\n",
    "print(sol.isMatch(A, B))"
   ]
  }
 ],
 "metadata": {
  "kernelspec": {
   "display_name": "dsa-venv",
   "language": "python",
   "name": "python3"
  },
  "language_info": {
   "codemirror_mode": {
    "name": "ipython",
    "version": 3
   },
   "file_extension": ".py",
   "mimetype": "text/x-python",
   "name": "python",
   "nbconvert_exporter": "python",
   "pygments_lexer": "ipython3",
   "version": "3.11.3"
  }
 },
 "nbformat": 4,
 "nbformat_minor": 2
}
