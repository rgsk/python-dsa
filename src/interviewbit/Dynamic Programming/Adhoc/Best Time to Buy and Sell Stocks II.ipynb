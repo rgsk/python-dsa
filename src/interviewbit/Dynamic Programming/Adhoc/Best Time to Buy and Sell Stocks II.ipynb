{
 "cells": [
  {
   "cell_type": "code",
   "execution_count": 166,
   "metadata": {},
   "outputs": [],
   "source": [
    "# https://www.interviewbit.com/problems/best-time-to-buy-and-sell-stocks-ii/"
   ]
  },
  {
   "cell_type": "code",
   "execution_count": 167,
   "metadata": {},
   "outputs": [],
   "source": [
    "class Solution:\n",
    "    # @param A : tuple of integers\n",
    "    # @return an integer\n",
    "    def maxProfit(self, A):\n",
    "        n = len(A)\n",
    "        def helper(idx, buy):\n",
    "            if idx == n:\n",
    "                return 0\n",
    "            if buy:\n",
    "                return max(-A[idx] + helper(idx + 1, False), helper(idx + 1, True))\n",
    "            else:\n",
    "                return max(A[idx] + helper(idx + 1, True), helper(idx + 1, False))\n",
    "        return helper(0, True)"
   ]
  },
  {
   "cell_type": "code",
   "execution_count": 168,
   "metadata": {},
   "outputs": [],
   "source": [
    "import sys\n",
    "sys.setrecursionlimit(10**6)\n",
    "\n",
    "class Solution:\n",
    "    # @param A : tuple of integers\n",
    "    # @return an integer\n",
    "    def maxProfit(self, A):\n",
    "        n = len(A)\n",
    "        dp = [[None, None] for _ in range(n)]\n",
    "        def helper(idx, buy):\n",
    "            if idx == n:\n",
    "                return 0\n",
    "            if dp[idx][buy] != None:\n",
    "                return dp[idx][buy]\n",
    "            if buy:\n",
    "                dp[idx][buy] = max(-A[idx] + helper(idx + 1, 0), helper(idx + 1, 1))\n",
    "            else:\n",
    "                dp[idx][buy] = max(A[idx] + helper(idx + 1, 1), helper(idx + 1, 0))\n",
    "            return dp[idx][buy]\n",
    "        return helper(0, 1)"
   ]
  },
  {
   "cell_type": "code",
   "execution_count": 169,
   "metadata": {},
   "outputs": [],
   "source": [
    "class Solution:\n",
    "    # @param A : tuple of integers\n",
    "    # @return an integer\n",
    "    def maxProfit(self, A):\n",
    "        n = len(A)\n",
    "        dp = [[0, 0] for _ in range(n + 1)]\n",
    "        for idx in range(n-1, -1, -1):\n",
    "            for buy in range(2):\n",
    "                if buy:\n",
    "                    dp[idx][buy] = max(-A[idx] + dp[idx+1][0], dp[idx+1][1])\n",
    "                else:\n",
    "                    dp[idx][buy] = max(A[idx] + dp[idx+1][1], dp[idx+1][0])\n",
    "        return dp[0][1]"
   ]
  },
  {
   "cell_type": "code",
   "execution_count": 170,
   "metadata": {},
   "outputs": [],
   "source": [
    "class Solution:\n",
    "    # @param A : tuple of integers\n",
    "    # @return an integer\n",
    "    def maxProfit(self, A):\n",
    "        n = len(A)\n",
    "        dp = [0, 0]\n",
    "        for idx in range(n-1, -1, -1):\n",
    "            prev = dp[:]\n",
    "            for buy in range(2):\n",
    "                if buy:\n",
    "                    dp[buy] = max(-A[idx] + prev[0], prev[1])\n",
    "                else:\n",
    "                    dp[buy] = max(A[idx] + prev[1], prev[0])\n",
    "        return dp[1]"
   ]
  },
  {
   "cell_type": "code",
   "execution_count": 171,
   "metadata": {},
   "outputs": [],
   "source": [
    "class Solution:\n",
    "    # @param A : tuple of integers\n",
    "    # @return an integer\n",
    "    def maxProfit(self, A):\n",
    "        n = len(A)\n",
    "        dp = [0, 0]\n",
    "        for idx in range(n-1, -1, -1):\n",
    "            prev = dp[:]\n",
    "            dp[1] = max(-A[idx] + prev[0], prev[1])\n",
    "            dp[0] = max(A[idx] + prev[1], prev[0])\n",
    "        return dp[1]"
   ]
  },
  {
   "cell_type": "code",
   "execution_count": 172,
   "metadata": {},
   "outputs": [],
   "source": [
    "class Solution:\n",
    "    # @param A : tuple of integers\n",
    "    # @return an integer\n",
    "    def maxProfit(self, A):\n",
    "        n = len(A)\n",
    "        a = 0\n",
    "        b = 0\n",
    "        for idx in range(n-1, -1, -1):\n",
    "            temp = b\n",
    "            b = max(-A[idx] + a, b)\n",
    "            a = max(A[idx] + temp, a)\n",
    "        return b"
   ]
  },
  {
   "cell_type": "code",
   "execution_count": 173,
   "metadata": {},
   "outputs": [
    {
     "data": {
      "text/plain": [
       "2"
      ]
     },
     "execution_count": 173,
     "metadata": {},
     "output_type": "execute_result"
    }
   ],
   "source": [
    "A = [1, 2, 3]\n",
    "sol = Solution()\n",
    "sol.maxProfit(A)"
   ]
  },
  {
   "cell_type": "code",
   "execution_count": 174,
   "metadata": {},
   "outputs": [
    {
     "data": {
      "text/plain": [
       "8"
      ]
     },
     "execution_count": 174,
     "metadata": {},
     "output_type": "execute_result"
    }
   ],
   "source": [
    "A = [5, 2, 10]\n",
    "sol = Solution()\n",
    "sol.maxProfit(A)"
   ]
  }
 ],
 "metadata": {
  "kernelspec": {
   "display_name": "dsa-venv",
   "language": "python",
   "name": "python3"
  },
  "language_info": {
   "codemirror_mode": {
    "name": "ipython",
    "version": 3
   },
   "file_extension": ".py",
   "mimetype": "text/x-python",
   "name": "python",
   "nbconvert_exporter": "python",
   "pygments_lexer": "ipython3",
   "version": "3.11.3"
  }
 },
 "nbformat": 4,
 "nbformat_minor": 2
}
