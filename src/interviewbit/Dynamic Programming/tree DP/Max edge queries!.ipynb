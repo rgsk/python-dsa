{
 "cells": [
  {
   "cell_type": "code",
   "execution_count": 48,
   "metadata": {},
   "outputs": [],
   "source": [
    "# https://www.interviewbit.com/problems/max-edge-queries/"
   ]
  },
  {
   "cell_type": "code",
   "execution_count": 49,
   "metadata": {},
   "outputs": [],
   "source": [
    "# TLE\n",
    "class Solution:\n",
    "    # @param A : list of list of integers\n",
    "    # @param B : list of list of integers\n",
    "    # @return a list of integers\n",
    "    def solve(self, A, B):\n",
    "        maxEdge = max([max(u, v) for u, v, w in A] + [max(u, v) for u, v in B])\n",
    "        edges = [[] for _ in range(maxEdge + 1)]\n",
    "        for u, v, w in A:\n",
    "            edges[u].append((v, w))\n",
    "            edges[v].append((u, w))\n",
    "\n",
    "        def dfs(source, destination, weight, visited):\n",
    "            visited[source] = True\n",
    "            if source == destination:\n",
    "                return weight, True\n",
    "            max_weight = weight\n",
    "            take_at_least_once = False\n",
    "            for child, child_weight in edges[source]:\n",
    "                if not visited[child]:\n",
    "                    child_max_weight, take = dfs(\n",
    "                        child, destination, child_weight, visited)\n",
    "                    if take:\n",
    "                        max_weight = max(max_weight, child_max_weight)\n",
    "                        take_at_least_once = True\n",
    "            return max_weight, take_at_least_once\n",
    "\n",
    "        ans = []\n",
    "        for s, d in B:\n",
    "            ans.append(dfs(s, d, 0, [False] * (maxEdge + 1))[0])\n",
    "        return ans"
   ]
  },
  {
   "cell_type": "code",
   "execution_count": 50,
   "metadata": {},
   "outputs": [],
   "source": [
    "class Solution:\n",
    "    def to_root(self, edges, u):\n",
    "        path = [u]\n",
    "        while u in edges:\n",
    "            u, _ = edges[u]\n",
    "            path.append(u)\n",
    "        return path\n",
    "\n",
    "    # @param A : list of list of integers\n",
    "    # @param B : list of list of integers\n",
    "    # @return a list of integers\n",
    "    def solve(self, A, B):\n",
    "        # assume if node a < b, then a is ancestor of b.\n",
    "        edges = dict()\n",
    "        for u, v, w in A:\n",
    "            if u > v:\n",
    "                u, v = v, u\n",
    "            edges[v] = (u, w)\n",
    "        # print(f'{edges=}')\n",
    "\n",
    "        res = []\n",
    "        for u, v in B:\n",
    "            path_u = self.to_root(edges, u)\n",
    "            path_v = self.to_root(edges, v)\n",
    "            # print('u')\n",
    "            # print(path_u)\n",
    "            # print('v')\n",
    "            # print(path_v)\n",
    "            ui = len(path_u) - 1\n",
    "            vi = len(path_v) - 1\n",
    "            while ui >= 0 and vi >= 0 and \\\n",
    "                    path_u[ui] == path_v[vi]:\n",
    "\n",
    "                ui -= 1\n",
    "                vi -= 1\n",
    "            ui += 1\n",
    "            vi += 1\n",
    "            # print(ui, vi)\n",
    "            max_w = float('-inf')\n",
    "            for uii in range(ui):\n",
    "                _, w = edges[path_u[uii]]\n",
    "                max_w = max(max_w, w)\n",
    "            for vii in range(vi):\n",
    "                _, w = edges[path_v[vii]]\n",
    "                max_w = max(max_w, w)\n",
    "            res.append(max_w)\n",
    "\n",
    "        return res"
   ]
  },
  {
   "cell_type": "code",
   "execution_count": 51,
   "metadata": {},
   "outputs": [
    {
     "data": {
      "text/plain": [
       "[100, 11]"
      ]
     },
     "execution_count": 51,
     "metadata": {},
     "output_type": "execute_result"
    }
   ],
   "source": [
    "A = [\n",
    "    [1, 2, 11],\n",
    "    [1, 3, 1],\n",
    "    [2, 4, 12],\n",
    "    [2, 5, 100]\n",
    "]\n",
    "B = [\n",
    "    [3, 5],\n",
    "    [2, 3]\n",
    "]\n",
    "sol = Solution()\n",
    "sol.solve(A, B)"
   ]
  }
 ],
 "metadata": {
  "kernelspec": {
   "display_name": "dsa-venv",
   "language": "python",
   "name": "python3"
  },
  "language_info": {
   "codemirror_mode": {
    "name": "ipython",
    "version": 3
   },
   "file_extension": ".py",
   "mimetype": "text/x-python",
   "name": "python",
   "nbconvert_exporter": "python",
   "pygments_lexer": "ipython3",
   "version": "3.11.3"
  }
 },
 "nbformat": 4,
 "nbformat_minor": 2
}
