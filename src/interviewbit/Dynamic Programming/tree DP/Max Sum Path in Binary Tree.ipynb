{
 "cells": [
  {
   "cell_type": "code",
   "execution_count": 42,
   "metadata": {},
   "outputs": [],
   "source": [
    "# https://www.interviewbit.com/problems/max-sum-path-in-binary-tree/"
   ]
  },
  {
   "cell_type": "code",
   "execution_count": 43,
   "metadata": {},
   "outputs": [],
   "source": [
    "import sys\n",
    "sys.path.append('../../..')\n",
    "\n",
    "from lib.TreeNode import *"
   ]
  },
  {
   "cell_type": "code",
   "execution_count": 44,
   "metadata": {},
   "outputs": [],
   "source": [
    "# Definition for a  binary tree node\n",
    "# class TreeNode:\n",
    "#    def __init__(self, x):\n",
    "#        self.val = x\n",
    "#        self.left = None\n",
    "#        self.right = None\n",
    "\n",
    "class Solution:\n",
    "    def __init__(self):\n",
    "        self.nodeMax = -float('inf')\n",
    "    \n",
    "    def traverse(self, A):\n",
    "        if not A:\n",
    "            return -1\n",
    "            \n",
    "        l, r = self.traverse(A.left) if A.left else 0, self.traverse(A.right) if A.right else 0\n",
    "        path = max(A.val, A.val+l, A.val+r)\n",
    "        self.nodeMax = max(self.nodeMax, max(path, A.val+l+r))\n",
    "        \n",
    "        return path\n",
    "    \n",
    "    # @param A : root node of tree\n",
    "    # @return an integer\n",
    "    def maxPathSum(self, A):\n",
    "        self.traverse(A)\n",
    "        return self.nodeMax"
   ]
  },
  {
   "cell_type": "code",
   "execution_count": 45,
   "metadata": {},
   "outputs": [
    {
     "name": "stdout",
     "output_type": "stream",
     "text": [
      " 1 \n",
      "/ \\\n",
      "2 3\n"
     ]
    },
    {
     "data": {
      "text/plain": [
       "6"
      ]
     },
     "execution_count": 45,
     "metadata": {},
     "output_type": "execute_result"
    }
   ],
   "source": [
    "A = formTree([1, 2, 3])\n",
    "A.display()\n",
    "sol = Solution()\n",
    "sol.maxPathSum(A)"
   ]
  },
  {
   "cell_type": "code",
   "execution_count": 46,
   "metadata": {},
   "outputs": [
    {
     "name": "stdout",
     "output_type": "stream",
     "text": [
      "  _20____    \n",
      " /       \\   \n",
      "-10    _20_  \n",
      "      /    \\ \n",
      "     -10  -50\n"
     ]
    },
    {
     "data": {
      "text/plain": [
       "40"
      ]
     },
     "execution_count": 46,
     "metadata": {},
     "output_type": "execute_result"
    }
   ],
   "source": [
    "A = formTree([20, -10, 20, None, None, -10, -50])\n",
    "A.display()\n",
    "sol = Solution()\n",
    "sol.maxPathSum(A)"
   ]
  }
 ],
 "metadata": {
  "kernelspec": {
   "display_name": "dsa-venv",
   "language": "python",
   "name": "python3"
  },
  "language_info": {
   "codemirror_mode": {
    "name": "ipython",
    "version": 3
   },
   "file_extension": ".py",
   "mimetype": "text/x-python",
   "name": "python",
   "nbconvert_exporter": "python",
   "pygments_lexer": "ipython3",
   "version": "3.11.3"
  }
 },
 "nbformat": 4,
 "nbformat_minor": 2
}
