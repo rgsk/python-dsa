{
 "cells": [
  {
   "cell_type": "code",
   "execution_count": 39,
   "metadata": {},
   "outputs": [],
   "source": [
    "class Solution:\n",
    "    # @param A : list of list of integers\n",
    "    # @return an integer\n",
    "    def adjacent(self, A):\n",
    "        n = len(A[0])\n",
    "        max_of_top_bottom = [0 for _ in range(n)]\n",
    "        for i in range(n):\n",
    "            max_of_top_bottom[i] = max(A[0][i], A[1][i])\n",
    "        if n == 1:\n",
    "            return max_of_top_bottom[0]\n",
    "        dp = [0 for _ in range(n)]\n",
    "        dp[0] = max_of_top_bottom[0]\n",
    "        dp[1] = max(max_of_top_bottom[0], max_of_top_bottom[1])\n",
    "        for i in range(2, n):\n",
    "            dp[i] = max(dp[i-1], dp[i-2] + max_of_top_bottom[i])\n",
    "        return dp[n-1]"
   ]
  },
  {
   "cell_type": "code",
   "execution_count": 40,
   "metadata": {},
   "outputs": [
    {
     "name": "stdout",
     "output_type": "stream",
     "text": [
      "5\n"
     ]
    }
   ],
   "source": [
    "A = [[1, 4],\n",
    "     [2, 5]]\n",
    "sol = Solution()\n",
    "print(sol.adjacent(A))"
   ]
  },
  {
   "cell_type": "code",
   "execution_count": 41,
   "metadata": {},
   "outputs": [
    {
     "name": "stdout",
     "output_type": "stream",
     "text": [
      "321\n"
     ]
    }
   ],
   "source": [
    "A = [\n",
    "  [16, 5, 54, 55, 36, 82, 61, 77, 66, 61],\n",
    "  [31, 30, 36, 70, 9, 37, 1, 11, 68, 14]\n",
    "]\n",
    "sol = Solution()\n",
    "print(sol.adjacent(A))"
   ]
  }
 ],
 "metadata": {
  "kernelspec": {
   "display_name": "Python 3.10.4 ('template-venv': venv)",
   "language": "python",
   "name": "python3"
  },
  "language_info": {
   "codemirror_mode": {
    "name": "ipython",
    "version": 3
   },
   "file_extension": ".py",
   "mimetype": "text/x-python",
   "name": "python",
   "nbconvert_exporter": "python",
   "pygments_lexer": "ipython3",
   "version": "3.10.4"
  },
  "orig_nbformat": 4,
  "vscode": {
   "interpreter": {
    "hash": "0b8dd1d11c220dfc9d15848c82c145ba1a021fcb056c07a0cc073ae3ed6d8420"
   }
  }
 },
 "nbformat": 4,
 "nbformat_minor": 2
}
