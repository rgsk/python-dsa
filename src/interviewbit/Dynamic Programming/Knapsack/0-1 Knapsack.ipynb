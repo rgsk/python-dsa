{
 "cells": [
  {
   "cell_type": "code",
   "execution_count": 66,
   "metadata": {},
   "outputs": [],
   "source": [
    "class Solution:\n",
    "    # @param A : list of integers\n",
    "    # @param B : list of integers\n",
    "    # @param C : integer\n",
    "    # @return an integer\n",
    "    def solve(self, A, B, C):\n",
    "        n = len(A)\n",
    "        def helper(i, rem):\n",
    "            if i == n:\n",
    "                return 0\n",
    "            take = 0\n",
    "            if B[i] <= rem:\n",
    "                take = A[i] +  helper(i + 1, rem - B[i])\n",
    "            notake = helper(i + 1, rem)\n",
    "            return max(take, notake)\n",
    "        return helper(0, C)"
   ]
  },
  {
   "cell_type": "code",
   "execution_count": 67,
   "metadata": {},
   "outputs": [],
   "source": [
    "class Solution:\n",
    "    # @param A : list of integers\n",
    "    # @param B : list of integers\n",
    "    # @param C : integer\n",
    "    # @return an integer\n",
    "    def solve(self, A, B, C):\n",
    "        n = len(A)\n",
    "        dp = [[0 for _ in range(C + 1)] for _ in range(n + 1)] \n",
    "        for i in range(n-1, -1, -1):\n",
    "            for rem in range(C + 1):\n",
    "                take = 0\n",
    "                if B[i] <= rem:\n",
    "                    take = A[i] +  dp[i+1][rem - B[i]]\n",
    "                notake = dp[i+1][rem]\n",
    "                dp[i][rem] = max(take, notake)\n",
    "        return dp[0][C]\n"
   ]
  },
  {
   "cell_type": "code",
   "execution_count": 68,
   "metadata": {},
   "outputs": [],
   "source": [
    "class Solution:\n",
    "    # @param A : list of integers\n",
    "    # @param B : list of integers\n",
    "    # @param C : integer\n",
    "    # @return an integer\n",
    "    def solve(self, A, B, C):\n",
    "        n = len(A)\n",
    "        dp = [0 for _ in range(C + 1)]\n",
    "        for i in range(n-1, -1, -1):\n",
    "            next = dp[:]\n",
    "            dp = [0 for _ in range(C + 1)] \n",
    "            # if reinitalize dp, then it's necessary to take the old values with \n",
    "            # notake = next[rem]\n",
    "            # if we don't reinitialize then we can omit it\n",
    "            for rem in range(C + 1):\n",
    "                take = 0\n",
    "                if B[i] <= rem:\n",
    "                    take = A[i] +  next[rem - B[i]]\n",
    "                notake = next[rem]\n",
    "                dp[rem] = max(take, notake)\n",
    "        return dp[C]"
   ]
  },
  {
   "cell_type": "code",
   "execution_count": 69,
   "metadata": {},
   "outputs": [],
   "source": [
    "class Solution:\n",
    "    # @param A : list of integers\n",
    "    # @param B : list of integers\n",
    "    # @param C : integer\n",
    "    # @return an integer\n",
    "    def solve(self, A, B, C):\n",
    "        n = len(A)\n",
    "        dp = [0 for _ in range(C + 1)]\n",
    "        for i in range(n-1, -1, -1):\n",
    "            next = dp[:]\n",
    "            for rem in range(B[i], C + 1):\n",
    "                take = A[i] +  next[rem - B[i]]\n",
    "                notake = next[rem]\n",
    "                dp[rem] = max(take, notake)\n",
    "        return dp[C]"
   ]
  },
  {
   "cell_type": "code",
   "execution_count": 70,
   "metadata": {},
   "outputs": [
    {
     "data": {
      "text/plain": [
       "220"
      ]
     },
     "execution_count": 70,
     "metadata": {},
     "output_type": "execute_result"
    }
   ],
   "source": [
    "A = [60, 100, 120]\n",
    "B = [10, 20, 30]\n",
    "C = 50\n",
    "sol = Solution()\n",
    "sol.solve(A, B, C) # 220"
   ]
  },
  {
   "cell_type": "code",
   "execution_count": 71,
   "metadata": {},
   "outputs": [
    {
     "data": {
      "text/plain": [
       "913"
      ]
     },
     "execution_count": 71,
     "metadata": {},
     "output_type": "execute_result"
    }
   ],
   "source": [
    "A = [ 504, 449, 201, 459, 619, 581, 797, 799, 282, 590, 799, 10, 158, 473, 623 ]\n",
    "B = [ 39, 93, 39, 80, 91, 58, 59, 92, 16, 89, 57, 12, 3, 35, 73 ]\n",
    "C = 56\n",
    "sol = Solution()\n",
    "sol.solve(A, B, C) # 913"
   ]
  }
 ],
 "metadata": {
  "kernelspec": {
   "display_name": "dsa-venv",
   "language": "python",
   "name": "python3"
  },
  "language_info": {
   "codemirror_mode": {
    "name": "ipython",
    "version": 3
   },
   "file_extension": ".py",
   "mimetype": "text/x-python",
   "name": "python",
   "nbconvert_exporter": "python",
   "pygments_lexer": "ipython3",
   "version": "3.11.3"
  },
  "orig_nbformat": 4
 },
 "nbformat": 4,
 "nbformat_minor": 2
}
