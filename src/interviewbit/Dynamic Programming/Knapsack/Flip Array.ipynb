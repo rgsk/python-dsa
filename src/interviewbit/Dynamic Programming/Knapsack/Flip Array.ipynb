{
 "cells": [
  {
   "cell_type": "markdown",
   "metadata": {},
   "source": [
    "s = s1 + s2\n",
    "\n",
    "we need to minimize s1 - s2\n",
    "\n",
    "s1 - s2 = e (e some small number)\n",
    "\n",
    "s1 - (s - s1) = e\n",
    "\n",
    "s1 + s1 = e + s\n",
    "\n",
    "2s1 = e + s\n",
    "\n",
    "s1 = s/2 + e/2\n",
    "\n",
    "s1 = s/2 + e\n",
    "\n",
    "we have to pick elements in s1 in such a manner that it is closest to s/2 as possible"
   ]
  },
  {
   "cell_type": "code",
   "execution_count": 336,
   "metadata": {},
   "outputs": [],
   "source": [
    "# solve this problem first given an array, we have to pick minimum number of elements from it to reach a particular sum s\n",
    "# return minimum number of elements that sum up to s\n",
    "\n",
    "import math\n",
    "\n",
    "\n",
    "def minNumberOfElementsToReachSumS(arr, s):\n",
    "    n = len(arr)\n",
    "    def helper(i, remaining):\n",
    "        if i == n:\n",
    "            return 0 if remaining == 0 else math.inf\n",
    "        if remaining < 0:\n",
    "            return math.inf\n",
    "        return min(1 + helper(i + 1, remaining - arr[i]), helper(i + 1, remaining))\n",
    "    return helper(0, s)"
   ]
  },
  {
   "cell_type": "code",
   "execution_count": 337,
   "metadata": {},
   "outputs": [],
   "source": [
    "def minNumberOfElementsToReachSumS(arr, s):\n",
    "    n = len(arr)\n",
    "    dp = [[0 if remaining == 0 else math.inf for remaining in range(s + 1)] for _ in range(n + 1)]\n",
    "    for i in range(n-1, -1, -1):\n",
    "        for remaining in range(arr[i], s + 1):\n",
    "            dp[i][remaining] = min(1 + dp[i+1][remaining-arr[i]], dp[i+1][remaining])\n",
    "    return dp[0][s]"
   ]
  },
  {
   "cell_type": "code",
   "execution_count": 338,
   "metadata": {},
   "outputs": [],
   "source": [
    "def minNumberOfElementsToReachSumS(arr, s):\n",
    "    n = len(arr)\n",
    "    dp = [math.inf for _ in range(s + 1)]\n",
    "    dp[0] = 0\n",
    "    for i in range(n-1, -1, -1):\n",
    "        next = dp[:]\n",
    "        for remaining in range(arr[i], s + 1):\n",
    "            dp[remaining] = min(1 + next[remaining-arr[i]], next[remaining])\n",
    "    return dp[s]"
   ]
  },
  {
   "cell_type": "code",
   "execution_count": 339,
   "metadata": {},
   "outputs": [],
   "source": [
    "def minNumberOfElementsToReachSumS(arr, s):\n",
    "    n = len(arr)\n",
    "    dp = [math.inf for _ in range(s + 1)]\n",
    "    dp[0] = 0\n",
    "    for i in range(n-1, -1, -1):\n",
    "        for remaining in range(s, arr[i] - 1, -1):\n",
    "            dp[remaining] = min(1 + dp[remaining-arr[i]], dp[remaining])\n",
    "    return dp[s]"
   ]
  },
  {
   "cell_type": "code",
   "execution_count": 340,
   "metadata": {},
   "outputs": [],
   "source": [
    "# forward variation\n",
    "\n",
    "import math\n",
    "\n",
    "\n",
    "def minNumberOfElementsToReachSumS(arr, s):\n",
    "    n = len(arr)\n",
    "    def helper(i, remaining):\n",
    "        if i == 0:\n",
    "            return 0 if remaining == 0 else math.inf\n",
    "        if remaining < 0:\n",
    "            return math.inf\n",
    "        return min(1 + helper(i - 1, remaining - arr[i-1]), helper(i - 1, remaining))\n",
    "    return helper(n, s)"
   ]
  },
  {
   "cell_type": "code",
   "execution_count": 341,
   "metadata": {},
   "outputs": [],
   "source": [
    "# forward variation with 2d dp\n",
    "\n",
    "import math\n",
    "\n",
    "\n",
    "def minNumberOfElementsToReachSumS(arr, s):\n",
    "    n = len(arr)\n",
    "    dp = [[0 if remaining == 0 else math.inf for remaining in range(s + 1)] for _ in range(n + 1)]\n",
    "    for i in range(1, n + 1):\n",
    "        for remaining in range(arr[i-1], s + 1):\n",
    "            dp[i][remaining] = min(1 + dp[i-1][remaining - arr[i-1]], dp[i-1][remaining])\n",
    "    return dp[n][s]"
   ]
  },
  {
   "cell_type": "code",
   "execution_count": 342,
   "metadata": {},
   "outputs": [],
   "source": [
    "# forward variation 1d copy\n",
    "\n",
    "import math\n",
    "\n",
    "\n",
    "def minNumberOfElementsToReachSumS(arr, s):\n",
    "    n = len(arr)\n",
    "    dp = [math.inf for _ in range(s + 1)]\n",
    "    dp[0] = 0\n",
    "    for i in range(n):\n",
    "        prev = dp[:]\n",
    "        for remaining in range(arr[i], s + 1):\n",
    "            dp[remaining] = min(1 + prev[remaining - arr[i]], prev[remaining])\n",
    "    return dp[s]"
   ]
  },
  {
   "cell_type": "code",
   "execution_count": 343,
   "metadata": {},
   "outputs": [],
   "source": [
    "# forward variation without 1d copy\n",
    "\n",
    "import math\n",
    "\n",
    "\n",
    "def minNumberOfElementsToReachSumS(arr, s):\n",
    "    n = len(arr)\n",
    "    dp = [math.inf for _ in range(s + 1)]\n",
    "    dp[0] = 0\n",
    "    for i in range(n):\n",
    "        for remaining in range(s, arr[i] - 1, -1):\n",
    "            dp[remaining] = min(1 + dp[remaining - arr[i]], dp[remaining])\n",
    "    return dp[s]"
   ]
  },
  {
   "cell_type": "code",
   "execution_count": 344,
   "metadata": {},
   "outputs": [],
   "source": [
    "# forward variation simplified\n",
    "\n",
    "import math\n",
    "\n",
    "\n",
    "def minNumberOfElementsToReachSumS(arr, s):\n",
    "    dp = [math.inf] * (s + 1)\n",
    "    dp[0] = 0\n",
    "    for v in arr:\n",
    "        for remaining in range(s, v - 1, -1):\n",
    "            dp[remaining] = min(1 + dp[remaining - v], dp[remaining])\n",
    "    return dp[s]"
   ]
  },
  {
   "cell_type": "code",
   "execution_count": 345,
   "metadata": {},
   "outputs": [
    {
     "data": {
      "text/plain": [
       "3"
      ]
     },
     "execution_count": 345,
     "metadata": {},
     "output_type": "execute_result"
    }
   ],
   "source": [
    "minNumberOfElementsToReachSumS([1, 2, 3], 6)"
   ]
  },
  {
   "cell_type": "code",
   "execution_count": 346,
   "metadata": {},
   "outputs": [
    {
     "data": {
      "text/plain": [
       "1"
      ]
     },
     "execution_count": 346,
     "metadata": {},
     "output_type": "execute_result"
    }
   ],
   "source": [
    "minNumberOfElementsToReachSumS([1, 2, 3, 6], 6)"
   ]
  },
  {
   "cell_type": "code",
   "execution_count": 347,
   "metadata": {},
   "outputs": [
    {
     "data": {
      "text/plain": [
       "2"
      ]
     },
     "execution_count": 347,
     "metadata": {},
     "output_type": "execute_result"
    }
   ],
   "source": [
    "minNumberOfElementsToReachSumS([1, 2, 3, 6, 2], 7)"
   ]
  },
  {
   "cell_type": "code",
   "execution_count": 348,
   "metadata": {},
   "outputs": [
    {
     "data": {
      "text/plain": [
       "inf"
      ]
     },
     "execution_count": 348,
     "metadata": {},
     "output_type": "execute_result"
    }
   ],
   "source": [
    "minNumberOfElementsToReachSumS([1, 2, 3, 6], 300)"
   ]
  },
  {
   "cell_type": "code",
   "execution_count": 349,
   "metadata": {},
   "outputs": [],
   "source": [
    "# based on below \n",
    "\n",
    "'''\n",
    "def minNumberOfElementsToReachSumS(arr, s):\n",
    "    n = len(arr)\n",
    "    dp = [math.inf for _ in range(s + 1)]\n",
    "    dp[0] = 0\n",
    "    for i in range(n-1, -1, -1):\n",
    "        for remaining in range(s, arr[i] - 1, -1):\n",
    "            dp[remaining] = min(1 + dp[remaining-arr[i]], dp[remaining])\n",
    "    return dp[s]\n",
    "'''\n",
    "\n",
    "# accepted\n",
    "class Solution:\n",
    "    # @param A : tuple of integers\n",
    "    # @return an integer\n",
    "    def solve(self, A):\n",
    "        total = sum(A)\n",
    "        s = total//2\n",
    "        n = len(A)\n",
    "        dp = [math.inf for _ in range(s + 1)]\n",
    "        dp[0] = 0\n",
    "        for i in range(n-1, -1, -1):\n",
    "            for remaining in range(s, A[i] - 1, -1):\n",
    "                dp[remaining] = min(1 + dp[remaining-A[i]], dp[remaining])\n",
    "        for j in range(s, -1, -1):\n",
    "            if dp[j] != math.inf:\n",
    "                return dp[j]"
   ]
  },
  {
   "cell_type": "code",
   "execution_count": 350,
   "metadata": {},
   "outputs": [],
   "source": [
    "# based on below\n",
    "'''\n",
    "# forward variation simplified\n",
    "\n",
    "import math\n",
    "\n",
    "\n",
    "def minNumberOfElementsToReachSumS(arr, s):\n",
    "    dp = [math.inf] * (s + 1)\n",
    "    dp[0] = 0\n",
    "    for v in arr:\n",
    "        for remaining in range(s, v - 1, -1):\n",
    "            dp[remaining] = min(1 + dp[remaining - v], dp[remaining])\n",
    "    return dp[s]\n",
    "'''\n",
    "\n",
    "\n",
    "# accepted\n",
    "class Solution:\n",
    "    # @param A : tuple of integers\n",
    "    # @return an integer\n",
    "    def solve(self, A):\n",
    "        total = sum(A)\n",
    "        s = total//2\n",
    "        dp = [math.inf] * (s + 1)\n",
    "        dp[0] = 0\n",
    "        for v in A:\n",
    "            for remaining in range(s, v - 1, -1):\n",
    "                dp[remaining] = min(1 + dp[remaining-v], dp[remaining])\n",
    "        for j in range(s, -1, -1):\n",
    "            if dp[j] != math.inf:\n",
    "                return dp[j]\n",
    "            "
   ]
  },
  {
   "cell_type": "code",
   "execution_count": 351,
   "metadata": {},
   "outputs": [
    {
     "data": {
      "text/plain": [
       "1"
      ]
     },
     "execution_count": 351,
     "metadata": {},
     "output_type": "execute_result"
    }
   ],
   "source": [
    "A = [15, 10, 6]\n",
    "sol = Solution()\n",
    "sol.solve(A)"
   ]
  },
  {
   "cell_type": "code",
   "execution_count": 352,
   "metadata": {},
   "outputs": [
    {
     "data": {
      "text/plain": [
       "1"
      ]
     },
     "execution_count": 352,
     "metadata": {},
     "output_type": "execute_result"
    }
   ],
   "source": [
    "A = [14, 10, 4]\n",
    "sol = Solution()\n",
    "sol.solve(A)"
   ]
  },
  {
   "cell_type": "code",
   "execution_count": 353,
   "metadata": {},
   "outputs": [
    {
     "data": {
      "text/plain": [
       "1"
      ]
     },
     "execution_count": 353,
     "metadata": {},
     "output_type": "execute_result"
    }
   ],
   "source": [
    "A = [9, 6]\n",
    "sol = Solution()\n",
    "sol.solve(A)"
   ]
  }
 ],
 "metadata": {
  "kernelspec": {
   "display_name": "dsa-venv",
   "language": "python",
   "name": "python3"
  },
  "language_info": {
   "codemirror_mode": {
    "name": "ipython",
    "version": 3
   },
   "file_extension": ".py",
   "mimetype": "text/x-python",
   "name": "python",
   "nbconvert_exporter": "python",
   "pygments_lexer": "ipython3",
   "version": "3.11.3"
  },
  "orig_nbformat": 4
 },
 "nbformat": 4,
 "nbformat_minor": 2
}
