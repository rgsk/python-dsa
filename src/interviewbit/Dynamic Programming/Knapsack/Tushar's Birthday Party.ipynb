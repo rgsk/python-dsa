{
 "cells": [
  {
   "cell_type": "code",
   "execution_count": 62,
   "metadata": {},
   "outputs": [],
   "source": [
    "import math\n",
    "class Solution:\n",
    "    # @param A : tuple of integers\n",
    "    # @param B : tuple of integers\n",
    "    # @param C : tuple of integers\n",
    "    # @return an integer\n",
    "    def solve(self, A, B, C):\n",
    "        n = len(A)\n",
    "        def helper(i, remaining):\n",
    "            if i == n:\n",
    "                return math.inf if remaining > 0 else 0\n",
    "            take = math.inf\n",
    "            if B[i] <= remaining:\n",
    "                take = C[i] + helper(i, remaining - B[i])\n",
    "            notake = helper(i + 1, remaining)\n",
    "            return min(take, notake)\n",
    "        totalCost = 0\n",
    "        for i in range(n):\n",
    "            cost = helper(0, A[i])\n",
    "            totalCost += cost\n",
    "        return totalCost"
   ]
  },
  {
   "cell_type": "code",
   "execution_count": 63,
   "metadata": {},
   "outputs": [],
   "source": [
    "import math\n",
    "class Solution:\n",
    "    # @param A : tuple of integers\n",
    "    # @param B : tuple of integers\n",
    "    # @param C : tuple of integers\n",
    "    # @return an integer\n",
    "    def solve(self, A, B, C):\n",
    "        n = len(B)\n",
    "        \n",
    "        def helper(i, remaining):\n",
    "            if i == n:\n",
    "                return math.inf if remaining > 0 else 0\n",
    "            if dp[i][remaining] != -1:\n",
    "                return dp[i][remaining]\n",
    "            take = math.inf\n",
    "            if B[i] <= remaining:\n",
    "                take = C[i] + helper(i, remaining - B[i])\n",
    "            notake = helper(i + 1, remaining)\n",
    "            dp[i][remaining] = min(take, notake)\n",
    "            return dp[i][remaining]\n",
    "        \n",
    "        totalCost = 0\n",
    "        dp = [[-1 for _ in range(max(A) + 1)] for _ in range(n)]\n",
    "        helper(0, max(A))\n",
    "        for i in range(len(A)):\n",
    "            cost = helper(0, A[i])\n",
    "            totalCost += cost\n",
    "        return totalCost"
   ]
  },
  {
   "cell_type": "code",
   "execution_count": 64,
   "metadata": {},
   "outputs": [],
   "source": [
    "import math\n",
    "# accepted\n",
    "class Solution:\n",
    "    # @param A : tuple of integers\n",
    "    # @param B : tuple of integers\n",
    "    # @param C : tuple of integers\n",
    "    # @return an integer\n",
    "    def solve(self, A, B, C):\n",
    "        n = len(B)\n",
    "        totalCost = 0\n",
    "        dp = [math.inf for _ in range(max(A) + 1)]\n",
    "        dp[0] = 0\n",
    "        for i in range(n-1, -1, -1):\n",
    "            for remaining in range(B[i], max(A) + 1):\n",
    "                dp[remaining] = min(C[i] + dp[remaining - B[i]], dp[remaining])\n",
    "        for i in range(len(A)):\n",
    "            totalCost += dp[A[i]]\n",
    "        return totalCost"
   ]
  },
  {
   "cell_type": "code",
   "execution_count": 65,
   "metadata": {},
   "outputs": [
    {
     "data": {
      "text/plain": [
       "14"
      ]
     },
     "execution_count": 65,
     "metadata": {},
     "output_type": "execute_result"
    }
   ],
   "source": [
    "A = [4, 6]\n",
    "B = [1, 3]\n",
    "C = [5, 3]\n",
    "sol = Solution()\n",
    "sol.solve(A, B, C)"
   ]
  },
  {
   "cell_type": "code",
   "execution_count": 66,
   "metadata": {},
   "outputs": [
    {
     "data": {
      "text/plain": [
       "20"
      ]
     },
     "execution_count": 66,
     "metadata": {},
     "output_type": "execute_result"
    }
   ],
   "source": [
    "A = [ 2, 3, 1, 5, 4 ]\n",
    "B = [ 3, 2, 4, 1 ]\n",
    "C = [ 1, 2, 5, 10 ]\n",
    "sol = Solution()\n",
    "sol.solve(A, B, C)"
   ]
  }
 ],
 "metadata": {
  "kernelspec": {
   "display_name": "dsa-venv",
   "language": "python",
   "name": "python3"
  },
  "language_info": {
   "codemirror_mode": {
    "name": "ipython",
    "version": 3
   },
   "file_extension": ".py",
   "mimetype": "text/x-python",
   "name": "python",
   "nbconvert_exporter": "python",
   "pygments_lexer": "ipython3",
   "version": "3.11.3"
  },
  "orig_nbformat": 4
 },
 "nbformat": 4,
 "nbformat_minor": 2
}
