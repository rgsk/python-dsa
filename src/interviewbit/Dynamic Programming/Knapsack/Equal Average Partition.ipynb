{
 "cells": [
  {
   "cell_type": "markdown",
   "metadata": {},
   "source": [
    "https://www.youtube.com/watch?v=VwylCVAVdmo"
   ]
  },
  {
   "cell_type": "code",
   "execution_count": 155,
   "metadata": {},
   "outputs": [],
   "source": [
    "\n",
    "\n",
    "class Solution:\n",
    "    # @param A : list of integers\n",
    "    # @return a list of list of integers\n",
    "    def avgset(self, A):\n",
    "        A.sort()\n",
    "        n = len(A)\n",
    "        totalSum = sum(A)\n",
    "        dp = [[[True for _ in range(n)] for _ in range(totalSum)] for _ in range(n)]\n",
    "        def helper(ind, totalRemaining, elementsRemaining, indexesTaken):\n",
    "            if elementsRemaining == 0:\n",
    "                return totalRemaining == 0\n",
    "            if ind == n:\n",
    "                return False\n",
    "            if dp[ind][totalRemaining][elementsRemaining] == False:\n",
    "                return False\n",
    "            if A[ind] <= totalRemaining:\n",
    "                indexesTaken.append(ind)\n",
    "                take = helper(ind + 1, totalRemaining - A[ind], elementsRemaining - 1, indexesTaken)\n",
    "                if take:\n",
    "                    return True\n",
    "                indexesTaken.pop()\n",
    "            notake = helper(ind + 1, totalRemaining, elementsRemaining, indexesTaken)\n",
    "            if notake:\n",
    "                return True\n",
    "            dp[ind][totalRemaining][elementsRemaining] = False\n",
    "            return False\n",
    "        for n_s1 in range(1, n):\n",
    "            temp = totalSum * n_s1\n",
    "            if temp % n:\n",
    "                continue\n",
    "            requiredSum = temp // n\n",
    "            indexesTaken = []\n",
    "            a = []\n",
    "            b = []\n",
    "            if helper(0, requiredSum, n_s1, indexesTaken):\n",
    "                indexesTakenSet = set(indexesTaken)\n",
    "                for i in range(n):\n",
    "                    if i in indexesTakenSet:\n",
    "                        a.append(A[i])\n",
    "                    else:\n",
    "                        b.append(A[i])\n",
    "                return [a, b]\n",
    "        return []"
   ]
  },
  {
   "cell_type": "code",
   "execution_count": 156,
   "metadata": {},
   "outputs": [
    {
     "data": {
      "text/plain": [
       "[[9, 15], [1, 7, 11, 29]]"
      ]
     },
     "execution_count": 156,
     "metadata": {},
     "output_type": "execute_result"
    }
   ],
   "source": [
    "A = [1, 7, 15, 29, 11, 9]\n",
    "sol = Solution()\n",
    "sol.avgset(A)"
   ]
  },
  {
   "cell_type": "code",
   "execution_count": 157,
   "metadata": {},
   "outputs": [
    {
     "data": {
      "text/plain": [
       "[[1, 1, 2, 16, 39, 46, 46, 48],\n",
       " [5, 9, 10, 13, 13, 18, 24, 28, 28, 31, 31, 32, 33, 39, 40, 44]]"
      ]
     },
     "execution_count": 157,
     "metadata": {},
     "output_type": "execute_result"
    }
   ],
   "source": [
    "A = [ 28, 10, 2, 44, 33, 31, 39, 46, 1, 24, 32, 31, 28, 9, 13, 40, 46, 1, 16, 18, 39, 13, 48, 5]\n",
    "sol = Solution()\n",
    "sol.avgset(A)"
   ]
  },
  {
   "cell_type": "code",
   "execution_count": 158,
   "metadata": {},
   "outputs": [
    {
     "data": {
      "text/plain": [
       "[[0,\n",
       "  4,\n",
       "  4,\n",
       "  6,\n",
       "  7,\n",
       "  11,\n",
       "  13,\n",
       "  14,\n",
       "  18,\n",
       "  18,\n",
       "  21,\n",
       "  24,\n",
       "  27,\n",
       "  58,\n",
       "  65,\n",
       "  74,\n",
       "  75,\n",
       "  76,\n",
       "  87,\n",
       "  91,\n",
       "  93,\n",
       "  95],\n",
       " [28,\n",
       "  28,\n",
       "  28,\n",
       "  28,\n",
       "  29,\n",
       "  29,\n",
       "  32,\n",
       "  34,\n",
       "  35,\n",
       "  36,\n",
       "  37,\n",
       "  37,\n",
       "  38,\n",
       "  40,\n",
       "  43,\n",
       "  43,\n",
       "  43,\n",
       "  51,\n",
       "  56,\n",
       "  59,\n",
       "  63,\n",
       "  64]]"
      ]
     },
     "execution_count": 158,
     "metadata": {},
     "output_type": "execute_result"
    }
   ],
   "source": [
    "# 0, 34, 64, 24, 14, 87, 56, 43, 91, 27, 65, 59, 36, 32, 51, 37, 28, 75, 7, 74, 21, 58, 95, 29, 37, 35, 93, 18, 28, 43, 11, 28, 29, 76, 4, 43, 63, 13, 38, 6, 40, 4, 18, 28\n",
    "\n",
    "A = [ 0, 34, 64, 24, 14, 87, 56, 43, 91, 27, 65, 59, 36, 32, 51, 37, 28, 75, 7, 74, 21, 58, 95, 29, 37, 35, 93, 18, 28, 43, 11, 28, 29, 76, 4, 43, 63, 13, 38, 6, 40, 4, 18, 28]\n",
    "sol = Solution()\n",
    "sol.avgset(A)"
   ]
  }
 ],
 "metadata": {
  "kernelspec": {
   "display_name": "dsa-venv",
   "language": "python",
   "name": "python3"
  },
  "language_info": {
   "codemirror_mode": {
    "name": "ipython",
    "version": 3
   },
   "file_extension": ".py",
   "mimetype": "text/x-python",
   "name": "python",
   "nbconvert_exporter": "python",
   "pygments_lexer": "ipython3",
   "version": "3.11.3"
  },
  "orig_nbformat": 4
 },
 "nbformat": 4,
 "nbformat_minor": 2
}
