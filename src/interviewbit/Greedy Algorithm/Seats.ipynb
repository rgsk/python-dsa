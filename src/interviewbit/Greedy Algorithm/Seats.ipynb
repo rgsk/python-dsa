{
 "cells": [
  {
   "cell_type": "code",
   "execution_count": 8,
   "metadata": {},
   "outputs": [],
   "source": [
    "class Solution:\n",
    "    # @param A : string\n",
    "    # @return an integer\n",
    "    def seats(self, A):\n",
    "        mod = 10**7 + 3\n",
    "        totalX = 0\n",
    "        for v in A:\n",
    "            if v == 'x':\n",
    "                totalX += 1\n",
    "        ans = 0\n",
    "        leftX = 0\n",
    "        for v in A:\n",
    "            if v == 'x':\n",
    "                leftX += 1\n",
    "            else:\n",
    "                ans += min(leftX, totalX - leftX)\n",
    "        return ans % mod"
   ]
  },
  {
   "cell_type": "code",
   "execution_count": 9,
   "metadata": {},
   "outputs": [
    {
     "data": {
      "text/plain": [
       "5"
      ]
     },
     "execution_count": 9,
     "metadata": {},
     "output_type": "execute_result"
    }
   ],
   "source": [
    "A = \"....x..xx...x..\"\n",
    "sol = Solution()\n",
    "sol.seats(A)"
   ]
  }
 ],
 "metadata": {
  "kernelspec": {
   "display_name": "dsa-venv",
   "language": "python",
   "name": "python3"
  },
  "language_info": {
   "codemirror_mode": {
    "name": "ipython",
    "version": 3
   },
   "file_extension": ".py",
   "mimetype": "text/x-python",
   "name": "python",
   "nbconvert_exporter": "python",
   "pygments_lexer": "ipython3",
   "version": "3.11.3"
  },
  "orig_nbformat": 4
 },
 "nbformat": 4,
 "nbformat_minor": 2
}
