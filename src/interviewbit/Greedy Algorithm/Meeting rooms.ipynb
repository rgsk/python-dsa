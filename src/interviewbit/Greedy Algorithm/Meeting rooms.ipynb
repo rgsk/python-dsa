{
 "cells": [
  {
   "cell_type": "code",
   "execution_count": 27,
   "metadata": {},
   "outputs": [],
   "source": [
    "class Solution:\n",
    "    # @param A : list of list of integers\n",
    "    # @return an integer\n",
    "    def solve(self, A: list[int]):\n",
    "        n = len(A)\n",
    "        starts = []\n",
    "        ends = []\n",
    "        for s, e in A:\n",
    "            starts.append(s)\n",
    "            ends.append(e)\n",
    "        starts.sort()\n",
    "        ends.sort()\n",
    "        ans = 0\n",
    "        temp = 0\n",
    "        i = j = 0\n",
    "        while i < n:\n",
    "            if starts[i] < ends[j]:\n",
    "                temp += 1\n",
    "                i += 1\n",
    "                ans = max(ans, temp)\n",
    "            else:\n",
    "                temp -= 1\n",
    "                j += 1\n",
    "\n",
    "        return ans"
   ]
  },
  {
   "cell_type": "code",
   "execution_count": 28,
   "metadata": {},
   "outputs": [
    {
     "data": {
      "text/plain": [
       "3"
      ]
     },
     "execution_count": 28,
     "metadata": {},
     "output_type": "execute_result"
    }
   ],
   "source": [
    "A = [\n",
    "    [0, 30],\n",
    "    [5, 10],\n",
    "    [15, 20],\n",
    "    [24, 26],\n",
    "    [25, 26]\n",
    "]\n",
    "\n",
    "sol = Solution()\n",
    "sol.solve(A)"
   ]
  },
  {
   "cell_type": "code",
   "execution_count": 29,
   "metadata": {},
   "outputs": [
    {
     "data": {
      "text/plain": [
       "4"
      ]
     },
     "execution_count": 29,
     "metadata": {},
     "output_type": "execute_result"
    }
   ],
   "source": [
    "A = [\n",
    "    [1, 18],\n",
    "    [18, 23],\n",
    "    [15, 29],\n",
    "    [4, 15],\n",
    "    [2, 11],\n",
    "    [5, 13],\n",
    "]\n",
    "\n",
    "sol = Solution()\n",
    "sol.solve(A)"
   ]
  }
 ],
 "metadata": {
  "kernelspec": {
   "display_name": "dsa-venv",
   "language": "python",
   "name": "python3"
  },
  "language_info": {
   "codemirror_mode": {
    "name": "ipython",
    "version": 3
   },
   "file_extension": ".py",
   "mimetype": "text/x-python",
   "name": "python",
   "nbconvert_exporter": "python",
   "pygments_lexer": "ipython3",
   "version": "3.11.3"
  },
  "orig_nbformat": 4
 },
 "nbformat": 4,
 "nbformat_minor": 2
}
