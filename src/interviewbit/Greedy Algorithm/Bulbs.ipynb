{
 "cells": [
  {
   "cell_type": "code",
   "execution_count": 4,
   "metadata": {},
   "outputs": [],
   "source": [
    "# https://www.interviewbit.com/problems/interview-questions/"
   ]
  },
  {
   "cell_type": "code",
   "execution_count": 5,
   "metadata": {},
   "outputs": [],
   "source": [
    "class Solution:\n",
    "    # @param A : list of integers\n",
    "    # @return an integer\n",
    "    def bulbs(self, A):\n",
    "        flips = 0\n",
    "        current_on = 1\n",
    "        for i in range(len(A)):\n",
    "            if A[i] == current_on:\n",
    "                pass\n",
    "            else:\n",
    "                flips += 1\n",
    "                current_on ^= 1\n",
    "        return flips"
   ]
  },
  {
   "cell_type": "code",
   "execution_count": 6,
   "metadata": {},
   "outputs": [
    {
     "data": {
      "text/plain": [
       "4"
      ]
     },
     "execution_count": 6,
     "metadata": {},
     "output_type": "execute_result"
    }
   ],
   "source": [
    "'''\n",
    "0 1 0 1\n",
    "1 0 1 0\n",
    "1 1 0 1\n",
    "1 1 1 0\n",
    "1 1 1 1\n",
    "'''\n",
    "sol = Solution()\n",
    "A = [0, 1, 0, 1]\n",
    "\n",
    "sol.bulbs(A)\n",
    "\n"
   ]
  }
 ],
 "metadata": {
  "kernelspec": {
   "display_name": "template-venv",
   "language": "python",
   "name": "python3"
  },
  "language_info": {
   "codemirror_mode": {
    "name": "ipython",
    "version": 3
   },
   "file_extension": ".py",
   "mimetype": "text/x-python",
   "name": "python",
   "nbconvert_exporter": "python",
   "pygments_lexer": "ipython3",
   "version": "3.10.4"
  },
  "orig_nbformat": 4
 },
 "nbformat": 4,
 "nbformat_minor": 2
}
