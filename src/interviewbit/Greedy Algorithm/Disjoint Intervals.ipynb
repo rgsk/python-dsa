{
 "cells": [
  {
   "cell_type": "code",
   "execution_count": 15,
   "metadata": {},
   "outputs": [],
   "source": [
    "# https://www.interviewbit.com/problems/disjoint-intervals/"
   ]
  },
  {
   "cell_type": "code",
   "execution_count": 16,
   "metadata": {},
   "outputs": [],
   "source": [
    "from functools import cmp_to_key\n",
    "\n",
    "def compare(a, b):\n",
    "    if a[0] > b[0]: return 1\n",
    "    return -1\n",
    "class Solution:\n",
    "    # @param A : list of list of integers\n",
    "    # @return an integer\n",
    "    def solve(self, A):\n",
    "        A.sort(key=(cmp_to_key(compare)))\n",
    "        intervals = 1\n",
    "        till_which_covered = A[0][1]\n",
    "        for i in range(1, len(A)):\n",
    "            if A[i][0] > till_which_covered:\n",
    "                till_which_covered = A[i][1]\n",
    "                intervals += 1\n",
    "            else:\n",
    "                till_which_covered = min(till_which_covered, A[i][1])\n",
    "        return intervals"
   ]
  },
  {
   "cell_type": "code",
   "execution_count": 17,
   "metadata": {},
   "outputs": [
    {
     "data": {
      "text/plain": [
       "3"
      ]
     },
     "execution_count": 17,
     "metadata": {},
     "output_type": "execute_result"
    }
   ],
   "source": [
    "A = [\n",
    "    [1, 4],\n",
    "    [2, 3],\n",
    "    [4, 6],\n",
    "    [8, 9]\n",
    "]\n",
    "sol = Solution()\n",
    "sol.solve(A)\n"
   ]
  },
  {
   "cell_type": "code",
   "execution_count": 18,
   "metadata": {},
   "outputs": [
    {
     "data": {
      "text/plain": [
       "2"
      ]
     },
     "execution_count": 18,
     "metadata": {},
     "output_type": "execute_result"
    }
   ],
   "source": [
    "A = [\n",
    "    [1, 9],\n",
    "    [2, 3],\n",
    "    [5, 7]\n",
    "]\n",
    "sol = Solution()\n",
    "sol.solve(A)\n"
   ]
  },
  {
   "cell_type": "code",
   "execution_count": 19,
   "metadata": {},
   "outputs": [
    {
     "data": {
      "text/plain": [
       "3"
      ]
     },
     "execution_count": 19,
     "metadata": {},
     "output_type": "execute_result"
    }
   ],
   "source": [
    "A = [\n",
    "    [4, 4],\n",
    "    [8, 15],\n",
    "    [6, 6],\n",
    "    [2, 13],\n",
    "    [2, 12]\n",
    "]\n",
    "sol = Solution()\n",
    "sol.solve(A)\n"
   ]
  },
  {
   "cell_type": "code",
   "execution_count": 20,
   "metadata": {},
   "outputs": [],
   "source": [
    "from functools import cmp_to_key\n",
    "\n",
    "def compare(a, b):\n",
    "    if a[1] > b[1]: return 1\n",
    "    return -1\n",
    "class Solution:\n",
    "    # @param A : list of list of integers\n",
    "    # @return an integer\n",
    "    def solve(self, A):\n",
    "        A.sort(key=(cmp_to_key(compare)))\n",
    "        intervals = 1\n",
    "        till_which_covered = A[0][1]\n",
    "        for i in range(1, len(A)):\n",
    "            if A[i][0] > till_which_covered:\n",
    "                till_which_covered = A[i][1]\n",
    "                intervals += 1\n",
    "        return intervals"
   ]
  },
  {
   "cell_type": "code",
   "execution_count": 21,
   "metadata": {},
   "outputs": [
    {
     "data": {
      "text/plain": [
       "3"
      ]
     },
     "execution_count": 21,
     "metadata": {},
     "output_type": "execute_result"
    }
   ],
   "source": [
    "A = [\n",
    "    [4, 4],\n",
    "    [8, 15],\n",
    "    [6, 6],\n",
    "    [2, 13],\n",
    "    [2, 12]\n",
    "]\n",
    "sol = Solution()\n",
    "sol.solve(A)\n"
   ]
  }
 ],
 "metadata": {
  "kernelspec": {
   "display_name": "template-venv",
   "language": "python",
   "name": "python3"
  },
  "language_info": {
   "codemirror_mode": {
    "name": "ipython",
    "version": 3
   },
   "file_extension": ".py",
   "mimetype": "text/x-python",
   "name": "python",
   "nbconvert_exporter": "python",
   "pygments_lexer": "ipython3",
   "version": "3.10.4"
  },
  "orig_nbformat": 4
 },
 "nbformat": 4,
 "nbformat_minor": 2
}
