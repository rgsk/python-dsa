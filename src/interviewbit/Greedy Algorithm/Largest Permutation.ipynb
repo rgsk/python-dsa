{
 "cells": [
  {
   "cell_type": "code",
   "execution_count": 31,
   "metadata": {},
   "outputs": [],
   "source": [
    "class Solution:\n",
    "    # @param A : list of integers\n",
    "    # @param B : integer\n",
    "    # @return a list of integers\n",
    "    def solve(self, A: list[int], B: int):\n",
    "        A_Sorted = sorted(A,reverse=True)\n",
    "        i = 0\n",
    "        swaps = 0\n",
    "        while swaps < B and i < len(A):\n",
    "            largestIndex = A.index(A_Sorted[i])\n",
    "            if largestIndex != i:\n",
    "                A[i], A[largestIndex] = A[largestIndex], A[i]\n",
    "                swaps += 1\n",
    "            i += 1\n",
    "        return A"
   ]
  },
  {
   "cell_type": "code",
   "execution_count": 32,
   "metadata": {},
   "outputs": [],
   "source": [
    "class Solution:\n",
    "    # @param A : list of integers\n",
    "    # @param B : integer\n",
    "    # @return a list of integers\n",
    "    def solve(self, A: list[int], B: int):\n",
    "        i = 0\n",
    "        swaps = 0\n",
    "        while swaps < B and i < len(A):\n",
    "            largestIndex = A.index(len(A)-i)\n",
    "            if largestIndex != i:\n",
    "                A[i], A[largestIndex] = A[largestIndex], A[i]\n",
    "                swaps += 1\n",
    "            i += 1\n",
    "        return A"
   ]
  },
  {
   "cell_type": "code",
   "execution_count": 33,
   "metadata": {},
   "outputs": [],
   "source": [
    "class Solution:\n",
    "    # @param A : list of integers\n",
    "    # @param B : integer\n",
    "    # @return a list of integers\n",
    "    def solve(self, A, B: int):\n",
    "        swaps = 0\n",
    "        val_idx = {}\n",
    "        for i in range(len(A)):\n",
    "            val_idx[A[i]] = i\n",
    "\n",
    "        i = 0\n",
    "        while swaps < B and i < len(A):\n",
    "            largetValue = len(A)-i\n",
    "            largestIndex = val_idx[largetValue]\n",
    "            if largestIndex != i:\n",
    "                A[i], A[largestIndex] = A[largestIndex], A[i]\n",
    "                val_idx[A[i]] = i\n",
    "                val_idx[A[largestIndex]] = largestIndex\n",
    "                swaps += 1\n",
    "            i += 1\n",
    "        return A"
   ]
  },
  {
   "cell_type": "code",
   "execution_count": 34,
   "metadata": {},
   "outputs": [
    {
     "data": {
      "text/plain": [
       "[4, 2, 3, 1]"
      ]
     },
     "execution_count": 34,
     "metadata": {},
     "output_type": "execute_result"
    }
   ],
   "source": [
    "A = [1, 2, 3, 4]\n",
    "B = 1\n",
    "sol = Solution()\n",
    "sol.solve(A,B)"
   ]
  },
  {
   "cell_type": "code",
   "execution_count": 35,
   "metadata": {},
   "outputs": [
    {
     "data": {
      "text/plain": [
       "[3, 2, 1]"
      ]
     },
     "execution_count": 35,
     "metadata": {},
     "output_type": "execute_result"
    }
   ],
   "source": [
    "A = [3, 2, 1]\n",
    "B = 2\n",
    "\n",
    "sol = Solution()\n",
    "sol.solve(A,B)"
   ]
  },
  {
   "cell_type": "code",
   "execution_count": 36,
   "metadata": {},
   "outputs": [
    {
     "data": {
      "text/plain": [
       "[5, 4, 3, 1, 2]"
      ]
     },
     "execution_count": 36,
     "metadata": {},
     "output_type": "execute_result"
    }
   ],
   "source": [
    "A = [ 3, 2, 4, 1, 5 ]\n",
    "B = 3\n",
    "\n",
    "sol = Solution()\n",
    "sol.solve(A,B)"
   ]
  }
 ],
 "metadata": {
  "kernelspec": {
   "display_name": "dsa-venv",
   "language": "python",
   "name": "python3"
  },
  "language_info": {
   "codemirror_mode": {
    "name": "ipython",
    "version": 3
   },
   "file_extension": ".py",
   "mimetype": "text/x-python",
   "name": "python",
   "nbconvert_exporter": "python",
   "pygments_lexer": "ipython3",
   "version": "3.11.3"
  },
  "orig_nbformat": 4
 },
 "nbformat": 4,
 "nbformat_minor": 2
}
