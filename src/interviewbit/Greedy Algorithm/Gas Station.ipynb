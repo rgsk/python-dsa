{
 "cells": [
  {
   "cell_type": "code",
   "execution_count": 1,
   "metadata": {},
   "outputs": [],
   "source": [
    "class Solution:\n",
    "\t# @param A : tuple of integers\n",
    "\t# @param B : tuple of integers\n",
    "\t# @return an integer\n",
    "\tdef canCompleteCircuit(self, A, B):\n",
    "\t\ts = 0\n",
    "\t\tfor i in range(len(A)):\n",
    "\t\t\ts += A[i] - B[i]\n",
    "\t\tif s < 0:\n",
    "\t\t\treturn -1\n",
    "\t\tidx = -1\n",
    "\t\ts = 0\n",
    "\t\tfor i in range(len(A)):\n",
    "\t\t\ts += A[i] - B[i]\n",
    "\t\t\tif s < 0:\n",
    "\t\t\t\tidx = -1\n",
    "\t\t\t\ts = 0\n",
    "\t\t\telse:\n",
    "\t\t\t\tif idx == -1:\n",
    "\t\t\t\t\tidx = i\n",
    "\t\treturn idx"
   ]
  },
  {
   "cell_type": "code",
   "execution_count": 2,
   "metadata": {},
   "outputs": [
    {
     "data": {
      "text/plain": [
       "1"
      ]
     },
     "execution_count": 2,
     "metadata": {},
     "output_type": "execute_result"
    }
   ],
   "source": [
    "A = [1, 2]\n",
    "B = [2, 1]\n",
    "sol = Solution()\n",
    "sol.canCompleteCircuit(A, B)"
   ]
  }
 ],
 "metadata": {
  "kernelspec": {
   "display_name": "dsa-venv",
   "language": "python",
   "name": "python3"
  },
  "language_info": {
   "codemirror_mode": {
    "name": "ipython",
    "version": 3
   },
   "file_extension": ".py",
   "mimetype": "text/x-python",
   "name": "python",
   "nbconvert_exporter": "python",
   "pygments_lexer": "ipython3",
   "version": "3.11.3"
  },
  "orig_nbformat": 4
 },
 "nbformat": 4,
 "nbformat_minor": 2
}
