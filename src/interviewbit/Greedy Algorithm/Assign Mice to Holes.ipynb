{
 "cells": [
  {
   "cell_type": "code",
   "execution_count": 5,
   "metadata": {},
   "outputs": [],
   "source": [
    "class Solution:\n",
    "\t# @param A : list of integers\n",
    "\t# @param B : list of integers\n",
    "\t# @return an integer\n",
    "\tdef mice(self, A, B):\n",
    "\t\tA.sort()\n",
    "\t\tB.sort()\n",
    "\t\tans = 0\n",
    "\t\tfor i in range(len(A)):\n",
    "\t\t\tans = max(ans, abs(A[i] - B[i]))\n",
    "\t\treturn ans"
   ]
  },
  {
   "cell_type": "code",
   "execution_count": 6,
   "metadata": {},
   "outputs": [
    {
     "data": {
      "text/plain": [
       "2"
      ]
     },
     "execution_count": 6,
     "metadata": {},
     "output_type": "execute_result"
    }
   ],
   "source": [
    "A = [-4, 2, 3]\n",
    "B = [0, -2, 4]\n",
    "sol = Solution()\n",
    "sol.mice(A,B)"
   ]
  }
 ],
 "metadata": {
  "kernelspec": {
   "display_name": "dsa-venv",
   "language": "python",
   "name": "python3"
  },
  "language_info": {
   "codemirror_mode": {
    "name": "ipython",
    "version": 3
   },
   "file_extension": ".py",
   "mimetype": "text/x-python",
   "name": "python",
   "nbconvert_exporter": "python",
   "pygments_lexer": "ipython3",
   "version": "3.11.3"
  },
  "orig_nbformat": 4
 },
 "nbformat": 4,
 "nbformat_minor": 2
}
