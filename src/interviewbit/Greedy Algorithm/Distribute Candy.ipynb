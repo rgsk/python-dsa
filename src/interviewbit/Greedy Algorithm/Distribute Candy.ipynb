{
 "cells": [
  {
   "cell_type": "code",
   "execution_count": 17,
   "metadata": {},
   "outputs": [],
   "source": [
    "class Solution:\n",
    "    # @param A : list of integers\n",
    "    # @return an integer\n",
    "    def candy(self, A):\n",
    "        n = len(A)\n",
    "        left = [1 for _ in range(n)]\n",
    "        right = left.copy()\n",
    "        for i in range(1, n):\n",
    "            if A[i] > A[i-1]:\n",
    "                left[i] += left[i-1]\n",
    "        for i in range(n-2, -1, -1):\n",
    "            if A[i] > A[i+1]:\n",
    "                right[i] += right[i+1]\n",
    "        c = 0\n",
    "        for i in range(n):\n",
    "            c += max(left[i], right[i])\n",
    "        return c\n",
    "        "
   ]
  },
  {
   "cell_type": "code",
   "execution_count": 18,
   "metadata": {},
   "outputs": [
    {
     "data": {
      "text/plain": [
       "3"
      ]
     },
     "execution_count": 18,
     "metadata": {},
     "output_type": "execute_result"
    }
   ],
   "source": [
    "A = [1, 2]\n",
    "sol = Solution()\n",
    "sol.candy(A)"
   ]
  },
  {
   "cell_type": "code",
   "execution_count": 19,
   "metadata": {},
   "outputs": [
    {
     "data": {
      "text/plain": [
       "7"
      ]
     },
     "execution_count": 19,
     "metadata": {},
     "output_type": "execute_result"
    }
   ],
   "source": [
    "A = [1, 5, 2, 1]\n",
    "sol = Solution()\n",
    "sol.candy(A)"
   ]
  }
 ],
 "metadata": {
  "kernelspec": {
   "display_name": "dsa-venv",
   "language": "python",
   "name": "python3"
  },
  "language_info": {
   "codemirror_mode": {
    "name": "ipython",
    "version": 3
   },
   "file_extension": ".py",
   "mimetype": "text/x-python",
   "name": "python",
   "nbconvert_exporter": "python",
   "pygments_lexer": "ipython3",
   "version": "3.11.3"
  },
  "orig_nbformat": 4
 },
 "nbformat": 4,
 "nbformat_minor": 2
}
