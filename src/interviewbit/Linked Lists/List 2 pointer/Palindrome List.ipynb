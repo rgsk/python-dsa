{
 "cells": [
  {
   "cell_type": "code",
   "execution_count": 35,
   "metadata": {},
   "outputs": [],
   "source": [
    "# https://www.interviewbit.com/problems/palindrome-list/"
   ]
  },
  {
   "cell_type": "code",
   "execution_count": 36,
   "metadata": {},
   "outputs": [],
   "source": [
    "import sys\n",
    "sys.path.append('../../..')\n",
    "\n",
    "from lib.ListNode import *"
   ]
  },
  {
   "cell_type": "code",
   "execution_count": 37,
   "metadata": {},
   "outputs": [],
   "source": [
    "from typing import List, Optional\n",
    "\n",
    "def asList(l: Optional[ListNode]) -> List[int]:\n",
    "    if l == None:\n",
    "        return []\n",
    "\n",
    "    ans: List[int] = []\n",
    "    t = l\n",
    "    while t is not None:\n",
    "        ans.append(t.val)\n",
    "        t = t.next\n",
    "    return ans\n",
    "\n",
    "class Solution:\n",
    "    # @param A : head node of linked list\n",
    "    # @return an integer\n",
    "    def lPalin(self, A):\n",
    "        l = asList(A)\n",
    "        return int(l == l[::-1])"
   ]
  },
  {
   "cell_type": "code",
   "execution_count": 38,
   "metadata": {},
   "outputs": [],
   "source": [
    "'''\n",
    "1 2 3 4 N\n",
    "f   f   f\n",
    "s s s\n",
    "\n",
    "\n",
    "1 2 3 4 5 N\n",
    "f   f   f\n",
    "s s s\n",
    "'''\n",
    "\n",
    "from typing import List, Optional\n",
    "\n",
    "def reverseList(head: Optional[ListNode]) -> Optional[ListNode]:\n",
    "    prev = None\n",
    "    cur = head\n",
    "    next = head\n",
    "    while cur:\n",
    "        next = cur.next\n",
    "        cur.next = prev\n",
    "        prev = cur\n",
    "        cur = next\n",
    "    return prev\n",
    "\n",
    "\n",
    "class Solution:\n",
    "    # @param A : head node of linked list\n",
    "    # @return an integer\n",
    "    def lPalin(self, A):\n",
    "        slow = A\n",
    "        fast = A\n",
    "        while fast and fast.next:\n",
    "            fast = fast.next.next\n",
    "            slow = slow.next\n",
    "        if fast: # odd number of elements\n",
    "            slow = slow.next\n",
    "        temp = A\n",
    "        reversed_slow = reverseList(slow)\n",
    "        while reversed_slow:\n",
    "            if temp.val != reversed_slow.val:\n",
    "                return 0\n",
    "            reversed_slow = reversed_slow.next\n",
    "            temp = temp.next\n",
    "        return 1"
   ]
  },
  {
   "cell_type": "code",
   "execution_count": 39,
   "metadata": {},
   "outputs": [
    {
     "data": {
      "text/plain": [
       "1"
      ]
     },
     "execution_count": 39,
     "metadata": {},
     "output_type": "execute_result"
    }
   ],
   "source": [
    "A = makeList([1, 2, 2, 1])\n",
    "sol = Solution()\n",
    "sol.lPalin(A)"
   ]
  },
  {
   "cell_type": "code",
   "execution_count": 40,
   "metadata": {},
   "outputs": [
    {
     "data": {
      "text/plain": [
       "1"
      ]
     },
     "execution_count": 40,
     "metadata": {},
     "output_type": "execute_result"
    }
   ],
   "source": [
    "A = makeList([1, 2, 3, 2, 1])\n",
    "sol = Solution()\n",
    "sol.lPalin(A)"
   ]
  },
  {
   "cell_type": "code",
   "execution_count": 41,
   "metadata": {},
   "outputs": [
    {
     "data": {
      "text/plain": [
       "0"
      ]
     },
     "execution_count": 41,
     "metadata": {},
     "output_type": "execute_result"
    }
   ],
   "source": [
    "A = makeList([1, 3, 2])\n",
    "sol = Solution()\n",
    "sol.lPalin(A)\n"
   ]
  }
 ],
 "metadata": {
  "kernelspec": {
   "display_name": "dsa-venv",
   "language": "python",
   "name": "python3"
  },
  "language_info": {
   "codemirror_mode": {
    "name": "ipython",
    "version": 3
   },
   "file_extension": ".py",
   "mimetype": "text/x-python",
   "name": "python",
   "nbconvert_exporter": "python",
   "pygments_lexer": "ipython3",
   "version": "3.11.3"
  }
 },
 "nbformat": 4,
 "nbformat_minor": 2
}
