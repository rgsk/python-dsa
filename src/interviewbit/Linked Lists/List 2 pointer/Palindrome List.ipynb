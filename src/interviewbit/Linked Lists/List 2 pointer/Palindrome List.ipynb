{
 "cells": [
  {
   "cell_type": "code",
   "execution_count": 15,
   "metadata": {},
   "outputs": [],
   "source": [
    "# https://www.interviewbit.com/problems/palindrome-list/"
   ]
  },
  {
   "cell_type": "code",
   "execution_count": 16,
   "metadata": {},
   "outputs": [],
   "source": [
    "import sys\n",
    "sys.path.append('../../..')\n",
    "\n",
    "from lib.ListNode import *"
   ]
  },
  {
   "cell_type": "code",
   "execution_count": 17,
   "metadata": {},
   "outputs": [],
   "source": [
    "from typing import List, Optional\n",
    "\n",
    "def asList(l: Optional[ListNode]) -> List[int]:\n",
    "    if l == None:\n",
    "        return []\n",
    "\n",
    "    ans: List[int] = []\n",
    "    t = l\n",
    "    while t is not None:\n",
    "        ans.append(t.val)\n",
    "        t = t.next\n",
    "    return ans\n",
    "\n",
    "class Solution:\n",
    "    # @param A : head node of linked list\n",
    "    # @return an integer\n",
    "    def lPalin(self, A):\n",
    "        l = asList(A)\n",
    "        return int(l == l[::-1])"
   ]
  },
  {
   "cell_type": "code",
   "execution_count": 18,
   "metadata": {},
   "outputs": [],
   "source": [
    "from typing import List, Optional\n",
    "\n",
    "\n",
    "def getLength(head: Optional[ListNode]) -> int:\n",
    "    temp = head\n",
    "    count = 0\n",
    "    while temp:\n",
    "        temp = temp.next\n",
    "        count += 1\n",
    "    return count\n",
    "\n",
    "\n",
    "def reverseList(head: Optional[ListNode]) -> Optional[ListNode]:\n",
    "    prev = None\n",
    "    cur = head\n",
    "    next = head\n",
    "    while cur:\n",
    "        next = cur.next\n",
    "        cur.next = prev\n",
    "        prev = cur\n",
    "        cur = next\n",
    "    return prev\n",
    "\n",
    "class Solution:\n",
    "    # @param A : head node of linked list\n",
    "    # @return an integer\n",
    "    def lPalin(self, A):\n",
    "        length = getLength(A)\n",
    "        runs = length // 2\n",
    "        mid = A\n",
    "        while runs > 0:\n",
    "            mid = mid.next\n",
    "            runs -= 1\n",
    "        if length % 2:\n",
    "            # if there are odd number of elements\n",
    "            # we want to skip the middle one\n",
    "            mid = mid.next\n",
    "        mid_reversed = reverseList(mid)\n",
    "        head = A\n",
    "\n",
    "        while mid_reversed:\n",
    "            if mid_reversed.val != head.val:\n",
    "                return 0\n",
    "            mid_reversed = mid_reversed.next\n",
    "            head = head.next\n",
    "        return 1"
   ]
  },
  {
   "cell_type": "code",
   "execution_count": 19,
   "metadata": {},
   "outputs": [],
   "source": [
    "'''\n",
    "1 2 3 4 N\n",
    "f   f   f\n",
    "s s s\n",
    "\n",
    "\n",
    "1 2 3 4 5 N\n",
    "f   f   f\n",
    "s s s\n",
    "'''\n",
    "\n",
    "from typing import List, Optional\n",
    "\n",
    "def reverseList(head: Optional[ListNode]) -> Optional[ListNode]:\n",
    "    prev = None\n",
    "    cur = head\n",
    "    next = head\n",
    "    while cur:\n",
    "        next = cur.next\n",
    "        cur.next = prev\n",
    "        prev = cur\n",
    "        cur = next\n",
    "    return prev\n",
    "\n",
    "\n",
    "class Solution:\n",
    "    # @param A : head node of linked list\n",
    "    # @return an integer\n",
    "    def lPalin(self, A):\n",
    "        slow = A\n",
    "        fast = A\n",
    "        while fast and fast.next:\n",
    "            fast = fast.next.next\n",
    "            slow = slow.next\n",
    "        if fast: # odd number of elements\n",
    "            slow = slow.next\n",
    "        temp = A\n",
    "        reversed_slow = reverseList(slow)\n",
    "        while reversed_slow:\n",
    "            if temp.val != reversed_slow.val:\n",
    "                return 0\n",
    "            reversed_slow = reversed_slow.next\n",
    "            temp = temp.next\n",
    "        return 1"
   ]
  },
  {
   "cell_type": "code",
   "execution_count": 20,
   "metadata": {},
   "outputs": [
    {
     "data": {
      "text/plain": [
       "1"
      ]
     },
     "execution_count": 20,
     "metadata": {},
     "output_type": "execute_result"
    }
   ],
   "source": [
    "A = makeList([1, 2, 2, 1])\n",
    "sol = Solution()\n",
    "sol.lPalin(A)"
   ]
  },
  {
   "cell_type": "code",
   "execution_count": 21,
   "metadata": {},
   "outputs": [
    {
     "data": {
      "text/plain": [
       "1"
      ]
     },
     "execution_count": 21,
     "metadata": {},
     "output_type": "execute_result"
    }
   ],
   "source": [
    "A = makeList([1, 2, 3, 2, 1])\n",
    "sol = Solution()\n",
    "sol.lPalin(A)"
   ]
  },
  {
   "cell_type": "code",
   "execution_count": 22,
   "metadata": {},
   "outputs": [
    {
     "data": {
      "text/plain": [
       "0"
      ]
     },
     "execution_count": 22,
     "metadata": {},
     "output_type": "execute_result"
    }
   ],
   "source": [
    "A = makeList([1, 3, 2])\n",
    "sol = Solution()\n",
    "sol.lPalin(A)\n"
   ]
  }
 ],
 "metadata": {
  "kernelspec": {
   "display_name": "dsa-venv",
   "language": "python",
   "name": "python3"
  },
  "language_info": {
   "codemirror_mode": {
    "name": "ipython",
    "version": 3
   },
   "file_extension": ".py",
   "mimetype": "text/x-python",
   "name": "python",
   "nbconvert_exporter": "python",
   "pygments_lexer": "ipython3",
   "version": "3.11.3"
  }
 },
 "nbformat": 4,
 "nbformat_minor": 2
}
