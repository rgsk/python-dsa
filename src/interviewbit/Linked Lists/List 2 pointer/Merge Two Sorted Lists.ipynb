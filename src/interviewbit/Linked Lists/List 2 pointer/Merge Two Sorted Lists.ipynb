{
 "cells": [
  {
   "cell_type": "code",
   "execution_count": 1,
   "metadata": {},
   "outputs": [],
   "source": [
    "# https://www.interviewbit.com/problems/merge-two-sorted-lists/"
   ]
  },
  {
   "cell_type": "code",
   "execution_count": 2,
   "metadata": {},
   "outputs": [],
   "source": [
    "import sys\n",
    "sys.path.append('../../..')\n",
    "\n",
    "from lib.ListNode import *"
   ]
  },
  {
   "cell_type": "code",
   "execution_count": 3,
   "metadata": {},
   "outputs": [],
   "source": [
    "class Solution:\n",
    "    # @param A : head node of linked list\n",
    "    # @param B : head node of linked list\n",
    "    # @return the head node in the linked list\n",
    "    def mergeTwoLists(self, A, B):\n",
    "        ta = A\n",
    "        tb = B\n",
    "        dummy = ListNode(0)\n",
    "        temp = dummy\n",
    "        while ta and tb:\n",
    "            if ta.val < tb.val:\n",
    "                temp.next = ta\n",
    "                ta = ta.next\n",
    "            else:\n",
    "                temp.next = tb\n",
    "                tb = tb.next\n",
    "            temp = temp.next\n",
    "        temp.next = ta or tb\n",
    "        return dummy.next"
   ]
  },
  {
   "cell_type": "code",
   "execution_count": 4,
   "metadata": {},
   "outputs": [
    {
     "data": {
      "text/plain": [
       "[4, 5, 8, 11, 15, 20]"
      ]
     },
     "execution_count": 4,
     "metadata": {},
     "output_type": "execute_result"
    }
   ],
   "source": [
    "A = makeList([5, 8, 20])\n",
    "B = makeList([4, 11, 15])\n",
    "sol = Solution()\n",
    "asList(sol.mergeTwoLists(A, B))"
   ]
  }
 ],
 "metadata": {
  "kernelspec": {
   "display_name": "dsa-venv",
   "language": "python",
   "name": "python3"
  },
  "language_info": {
   "codemirror_mode": {
    "name": "ipython",
    "version": 3
   },
   "file_extension": ".py",
   "mimetype": "text/x-python",
   "name": "python",
   "nbconvert_exporter": "python",
   "pygments_lexer": "ipython3",
   "version": "3.11.3"
  }
 },
 "nbformat": 4,
 "nbformat_minor": 2
}
