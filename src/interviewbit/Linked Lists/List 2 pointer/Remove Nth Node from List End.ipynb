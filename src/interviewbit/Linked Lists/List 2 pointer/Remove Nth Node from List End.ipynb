{
 "cells": [
  {
   "cell_type": "code",
   "execution_count": 67,
   "metadata": {},
   "outputs": [],
   "source": [
    "# https://www.interviewbit.com/problems/remove-nth-node-from-list-end/"
   ]
  },
  {
   "cell_type": "code",
   "execution_count": 68,
   "metadata": {},
   "outputs": [],
   "source": [
    "import sys\n",
    "sys.path.append('../../..')\n",
    "\n",
    "from lib.ListNode import *"
   ]
  },
  {
   "cell_type": "code",
   "execution_count": 69,
   "metadata": {},
   "outputs": [],
   "source": [
    "from typing import List, Optional\n",
    "\n",
    "\n",
    "def getLength(head: Optional[ListNode]) -> int:\n",
    "    temp = head\n",
    "    count = 0\n",
    "    while temp:\n",
    "        temp = temp.next\n",
    "        count += 1\n",
    "    return count\n",
    "\n",
    "class Solution:\n",
    "    # @param A : head node of linked list\n",
    "    # @param B : integer\n",
    "    # @return the head node in the linked list\n",
    "    def removeNthFromEnd(self, A, B):\n",
    "        length = getLength(A)\n",
    "        if B > length: \n",
    "            # weird condition to solve all the test cases\n",
    "            return A.next\n",
    "        index_from_start = length - B\n",
    "        if index_from_start == 0:\n",
    "            return A.next\n",
    "        temp = A\n",
    "        while index_from_start > 1:\n",
    "            temp = temp.next\n",
    "            index_from_start -= 1\n",
    "        \n",
    "        temp.next = temp.next.next\n",
    "        return A"
   ]
  },
  {
   "cell_type": "code",
   "execution_count": 70,
   "metadata": {},
   "outputs": [
    {
     "data": {
      "text/plain": [
       "[1, 2, 3, 5]"
      ]
     },
     "execution_count": 70,
     "metadata": {},
     "output_type": "execute_result"
    }
   ],
   "source": [
    "A = makeList([1, 2, 3, 4, 5])\n",
    "B = 2\n",
    "sol = Solution()\n",
    "asList(sol.removeNthFromEnd(A, B))"
   ]
  },
  {
   "cell_type": "code",
   "execution_count": 71,
   "metadata": {},
   "outputs": [
    {
     "data": {
      "text/plain": [
       "[]"
      ]
     },
     "execution_count": 71,
     "metadata": {},
     "output_type": "execute_result"
    }
   ],
   "source": [
    "A = makeList([1])\n",
    "B = 1\n",
    "sol = Solution()\n",
    "asList(sol.removeNthFromEnd(A, B))"
   ]
  },
  {
   "cell_type": "code",
   "execution_count": 72,
   "metadata": {},
   "outputs": [
    {
     "data": {
      "text/plain": [
       "[380,\n",
       " 349,\n",
       " 322,\n",
       " 389,\n",
       " 424,\n",
       " 429,\n",
       " 120,\n",
       " 64,\n",
       " 691,\n",
       " 677,\n",
       " 58,\n",
       " 327,\n",
       " 631,\n",
       " 916,\n",
       " 203,\n",
       " 484,\n",
       " 918,\n",
       " 596,\n",
       " 252,\n",
       " 509,\n",
       " 644,\n",
       " 33,\n",
       " 460]"
      ]
     },
     "execution_count": 72,
     "metadata": {},
     "output_type": "execute_result"
    }
   ],
   "source": [
    "A = makeList([ 20, 380, 349, 322, 389, 424, 429, 120, 64, 691, 677, 58, 327, 631, 916, 203, 484, 918, 596, 252, 509, 644, 33, 460 ])\n",
    "B = 82\n",
    "sol = Solution()\n",
    "asList(sol.removeNthFromEnd(A, B))"
   ]
  }
 ],
 "metadata": {
  "kernelspec": {
   "display_name": "dsa-venv",
   "language": "python",
   "name": "python3"
  },
  "language_info": {
   "codemirror_mode": {
    "name": "ipython",
    "version": 3
   },
   "file_extension": ".py",
   "mimetype": "text/x-python",
   "name": "python",
   "nbconvert_exporter": "python",
   "pygments_lexer": "ipython3",
   "version": "3.11.3"
  }
 },
 "nbformat": 4,
 "nbformat_minor": 2
}
