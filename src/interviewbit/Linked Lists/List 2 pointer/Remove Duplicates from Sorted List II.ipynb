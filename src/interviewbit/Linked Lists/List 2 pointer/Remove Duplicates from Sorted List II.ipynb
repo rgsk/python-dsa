{
 "cells": [
  {
   "cell_type": "code",
   "execution_count": 46,
   "metadata": {},
   "outputs": [],
   "source": [
    "# https://www.interviewbit.com/problems/remove-duplicates-from-sorted-list-ii/"
   ]
  },
  {
   "cell_type": "code",
   "execution_count": 47,
   "metadata": {},
   "outputs": [],
   "source": [
    "import sys\n",
    "sys.path.append('../../..')\n",
    "\n",
    "from lib.ListNode import *"
   ]
  },
  {
   "cell_type": "code",
   "execution_count": 48,
   "metadata": {},
   "outputs": [],
   "source": [
    "class Solution:\n",
    "    # @param A : head node of linked list\n",
    "    # @return the head node in the linked list\n",
    "    def deleteDuplicates(self, A):\n",
    "        dummy = ListNode(0)\n",
    "        temp = A\n",
    "        ptr = dummy\n",
    "        while temp:\n",
    "            t = temp.next\n",
    "            temp.next = None # removing this link is important\n",
    "            duplicate = False\n",
    "            while t and t.val == temp.val:\n",
    "                duplicate = True\n",
    "                t = t.next\n",
    "            if not duplicate:\n",
    "                ptr.next = temp\n",
    "                ptr = ptr.next\n",
    "            temp = t\n",
    "        return dummy.next"
   ]
  },
  {
   "cell_type": "code",
   "execution_count": 49,
   "metadata": {},
   "outputs": [
    {
     "data": {
      "text/plain": [
       "[1, 2, 5]"
      ]
     },
     "execution_count": 49,
     "metadata": {},
     "output_type": "execute_result"
    }
   ],
   "source": [
    "A = makeList([1,2,3,3,4,4,5])\n",
    "sol = Solution()\n",
    "asList(sol.deleteDuplicates(A))"
   ]
  },
  {
   "cell_type": "code",
   "execution_count": 50,
   "metadata": {},
   "outputs": [
    {
     "data": {
      "text/plain": [
       "[2]"
      ]
     },
     "execution_count": 50,
     "metadata": {},
     "output_type": "execute_result"
    }
   ],
   "source": [
    "A = makeList([1,1,1,2,3,3,3])\n",
    "sol = Solution()\n",
    "asList(sol.deleteDuplicates(A))"
   ]
  }
 ],
 "metadata": {
  "kernelspec": {
   "display_name": "dsa-venv",
   "language": "python",
   "name": "python3"
  },
  "language_info": {
   "codemirror_mode": {
    "name": "ipython",
    "version": 3
   },
   "file_extension": ".py",
   "mimetype": "text/x-python",
   "name": "python",
   "nbconvert_exporter": "python",
   "pygments_lexer": "ipython3",
   "version": "3.11.3"
  }
 },
 "nbformat": 4,
 "nbformat_minor": 2
}
