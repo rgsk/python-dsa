{
 "cells": [
  {
   "cell_type": "code",
   "execution_count": 33,
   "metadata": {},
   "outputs": [],
   "source": [
    "# https://www.interviewbit.com/problems/reorder-list/"
   ]
  },
  {
   "cell_type": "code",
   "execution_count": 34,
   "metadata": {},
   "outputs": [],
   "source": [
    "import sys\n",
    "sys.path.append('../../..')\n",
    "\n",
    "from lib.ListNode import *"
   ]
  },
  {
   "cell_type": "code",
   "execution_count": 35,
   "metadata": {},
   "outputs": [],
   "source": [
    "from typing import Optional\n",
    "\n",
    "\n",
    "def reverseList(head: Optional[ListNode]) -> Optional[ListNode]:\n",
    "    prev = None\n",
    "    cur = head\n",
    "    next = head\n",
    "    while cur:\n",
    "        next = cur.next\n",
    "        cur.next = prev\n",
    "        prev = cur\n",
    "        cur = next\n",
    "    return prev\n",
    "\n",
    "\n",
    "class Solution:\n",
    "    # @param A : head node of linked list\n",
    "    # @return the head node in the linked list\n",
    "    def reorderList(self, A):\n",
    "        if not A or not A.next:\n",
    "            return A\n",
    "        prev_mid = None\n",
    "        slow = A\n",
    "        fast = A\n",
    "        while fast and fast.next:\n",
    "            fast = fast.next.next\n",
    "            assert slow is not None\n",
    "            prev_mid = slow\n",
    "            slow = slow.next\n",
    "\n",
    "        mid = slow\n",
    "        prev_mid.next = None\n",
    "        reversed_mid = reverseList(mid)\n",
    "        temp = A\n",
    "        dummy = ListNode(0)\n",
    "        ptr = dummy\n",
    "        alternate = False\n",
    "        while temp:\n",
    "            if alternate:\n",
    "                ptr.next = reversed_mid\n",
    "                reversed_mid = reversed_mid.next\n",
    "            else:\n",
    "                ptr.next = temp\n",
    "                temp = temp.next\n",
    "            ptr = ptr.next\n",
    "            alternate = not alternate\n",
    "        ptr.next = reversed_mid\n",
    "        return dummy.next\n"
   ]
  },
  {
   "cell_type": "code",
   "execution_count": 36,
   "metadata": {},
   "outputs": [
    {
     "data": {
      "text/plain": [
       "[1, 4, 2, 3]"
      ]
     },
     "execution_count": 36,
     "metadata": {},
     "output_type": "execute_result"
    }
   ],
   "source": [
    "A = makeList([1,2,3,4])\n",
    "sol = Solution()\n",
    "asList(sol.reorderList(A))"
   ]
  },
  {
   "cell_type": "code",
   "execution_count": 37,
   "metadata": {},
   "outputs": [
    {
     "data": {
      "text/plain": [
       "[1, 5, 2, 4, 3]"
      ]
     },
     "execution_count": 37,
     "metadata": {},
     "output_type": "execute_result"
    }
   ],
   "source": [
    "A = makeList([1,2,3,4,5])\n",
    "sol = Solution()\n",
    "asList(sol.reorderList(A))"
   ]
  }
 ],
 "metadata": {
  "kernelspec": {
   "display_name": "dsa-venv",
   "language": "python",
   "name": "python3"
  },
  "language_info": {
   "codemirror_mode": {
    "name": "ipython",
    "version": 3
   },
   "file_extension": ".py",
   "mimetype": "text/x-python",
   "name": "python",
   "nbconvert_exporter": "python",
   "pygments_lexer": "ipython3",
   "version": "3.11.3"
  }
 },
 "nbformat": 4,
 "nbformat_minor": 2
}
