{
 "cells": [
  {
   "cell_type": "code",
   "execution_count": 32,
   "metadata": {},
   "outputs": [],
   "source": [
    "# https://www.interviewbit.com/problems/reverse-alternate-k-nodes/"
   ]
  },
  {
   "cell_type": "code",
   "execution_count": 33,
   "metadata": {},
   "outputs": [],
   "source": [
    "import sys\n",
    "sys.path.append('../../..')\n",
    "\n",
    "from lib.ListNode import *"
   ]
  },
  {
   "cell_type": "code",
   "execution_count": 34,
   "metadata": {},
   "outputs": [],
   "source": [
    "from typing import List, Optional\n",
    "\n",
    "\n",
    "def reverseList(head: Optional[ListNode]) -> Optional[ListNode]:\n",
    "    prev = None\n",
    "    cur = head\n",
    "    next = head\n",
    "    while cur:\n",
    "        next = cur.next\n",
    "        cur.next = prev\n",
    "        prev = cur\n",
    "        cur = next\n",
    "    return prev\n",
    "\n",
    "class Solution:\n",
    "    # @param A : head node of linked list\n",
    "    # @param B : integer\n",
    "    # @return the head node in the linked list\n",
    "    def solve(self, A, B):\n",
    "        reverse = True\n",
    "        temp = A\n",
    "        prev = None\n",
    "        while temp:\n",
    "            start = temp\n",
    "            t = B\n",
    "            while t > 1:\n",
    "                temp = temp.next\n",
    "                t -= 1\n",
    "            next = temp.next\n",
    "            temp.next = None\n",
    "            if reverse:\n",
    "                if prev:\n",
    "                    prev.next = reverseList(start)\n",
    "                else:\n",
    "                    A = reverseList(start)\n",
    "                prev = start\n",
    "            else:\n",
    "                prev.next = start\n",
    "                prev = temp\n",
    "            temp = next\n",
    "            reverse = not reverse\n",
    "        return A"
   ]
  },
  {
   "cell_type": "code",
   "execution_count": 35,
   "metadata": {},
   "outputs": [
    {
     "data": {
      "text/plain": [
       "[7, 4, 3, 5, 6, 6, 16, 61, 15]"
      ]
     },
     "execution_count": 35,
     "metadata": {},
     "output_type": "execute_result"
    }
   ],
   "source": [
    "A = makeList([3, 4, 7, 5, 6, 6, 15, 61, 16])\n",
    "B = 3\n",
    "sol = Solution()\n",
    "asList(sol.solve(A, B))"
   ]
  },
  {
   "cell_type": "code",
   "execution_count": 36,
   "metadata": {},
   "outputs": [
    {
     "data": {
      "text/plain": [
       "[4, 1, 6, 6, 10, 4]"
      ]
     },
     "execution_count": 36,
     "metadata": {},
     "output_type": "execute_result"
    }
   ],
   "source": [
    "A = makeList([1, 4, 6, 6, 4, 10])\n",
    "B = 2\n",
    "sol = Solution()\n",
    "asList(sol.solve(A, B))"
   ]
  },
  {
   "cell_type": "code",
   "execution_count": 37,
   "metadata": {},
   "outputs": [
    {
     "data": {
      "text/plain": [
       "[43, 96, 92, 62, 28, 37, 92, 5, 83, 93, 54, 3, 22, 17, 19, 96, 39, 72, 27, 48]"
      ]
     },
     "execution_count": 37,
     "metadata": {},
     "output_type": "execute_result"
    }
   ],
   "source": [
    "A = makeList([ 62, 92, 96, 43, 28, 37, 92, 5, 3, 54, 93, 83, 22, 17, 19, 96, 48, 27, 72, 39 ])\n",
    "B = 4\n",
    "sol = Solution()\n",
    "asList(sol.solve(A, B))"
   ]
  }
 ],
 "metadata": {
  "kernelspec": {
   "display_name": "dsa-venv",
   "language": "python",
   "name": "python3"
  },
  "language_info": {
   "codemirror_mode": {
    "name": "ipython",
    "version": 3
   },
   "file_extension": ".py",
   "mimetype": "text/x-python",
   "name": "python",
   "nbconvert_exporter": "python",
   "pygments_lexer": "ipython3",
   "version": "3.11.3"
  }
 },
 "nbformat": 4,
 "nbformat_minor": 2
}
