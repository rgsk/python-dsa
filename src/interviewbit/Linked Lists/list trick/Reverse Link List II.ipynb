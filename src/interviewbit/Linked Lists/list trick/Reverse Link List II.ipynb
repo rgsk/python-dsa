{
 "cells": [
  {
   "cell_type": "code",
   "execution_count": 72,
   "metadata": {},
   "outputs": [],
   "source": [
    "# https://www.interviewbit.com/problems/reverse-link-list-ii/"
   ]
  },
  {
   "cell_type": "code",
   "execution_count": 73,
   "metadata": {},
   "outputs": [],
   "source": [
    "import sys\n",
    "sys.path.append('../../..')\n",
    "\n",
    "from lib.ListNode import *"
   ]
  },
  {
   "cell_type": "code",
   "execution_count": 74,
   "metadata": {},
   "outputs": [],
   "source": [
    "from typing import Optional\n",
    "\n",
    "\n",
    "def reverseList(head: Optional[ListNode]) -> Optional[ListNode]:\n",
    "    prev = None\n",
    "    cur = head\n",
    "    next = head\n",
    "    while cur:\n",
    "        next = cur.next\n",
    "        cur.next = prev\n",
    "        prev = cur\n",
    "        cur = next\n",
    "    return prev\n",
    "\n",
    "\n",
    "class Solution:\n",
    "    # @param A : head node of linked list\n",
    "    # @param B : integer\n",
    "    # @param C : integer\n",
    "    # @return the head node in the linked list\n",
    "    def reverseBetween(self, A, B, C):\n",
    "        i = B\n",
    "        j = C\n",
    "        temp = A\n",
    "        if i == 1:\n",
    "            head = A\n",
    "            j -= B\n",
    "            while j > 0:\n",
    "                temp = temp.next\n",
    "                j -= 1\n",
    "            end = temp\n",
    "            right_start = end.next\n",
    "            end.next = None\n",
    "            reverseList(head)\n",
    "            head.next = right_start\n",
    "            return end\n",
    "        while i > 2:\n",
    "            temp = temp.next\n",
    "            i -= 1\n",
    "        left_end = temp\n",
    "        head = temp.next\n",
    "        temp = temp.next\n",
    "        j -= B\n",
    "        while j > 0:\n",
    "            temp = temp.next\n",
    "            j -= 1\n",
    "        end = temp\n",
    "        right_start = end.next\n",
    "        end.next = None\n",
    "\n",
    "        reverseList(head)\n",
    "        left_end.next = end\n",
    "        head.next = right_start\n",
    "        return A\n"
   ]
  },
  {
   "cell_type": "code",
   "execution_count": 75,
   "metadata": {},
   "outputs": [
    {
     "data": {
      "text/plain": [
       "[1, 4, 3, 2, 5]"
      ]
     },
     "execution_count": 75,
     "metadata": {},
     "output_type": "execute_result"
    }
   ],
   "source": [
    "# 1->2->3->4->5->NULL\n",
    "\n",
    "A = makeList([1,2,3,4,5])\n",
    "B = 2\n",
    "C = 4\n",
    "sol = Solution()\n",
    "asList(sol.reverseBetween(A, B, C))"
   ]
  },
  {
   "cell_type": "code",
   "execution_count": 76,
   "metadata": {},
   "outputs": [
    {
     "data": {
      "text/plain": [
       "[97, 63, 89, 34, 82, 95, 4, 70, 14, 41, 38, 83, 68, 32, 49, 56, 99, 52, 33, 54]"
      ]
     },
     "execution_count": 76,
     "metadata": {},
     "output_type": "execute_result"
    }
   ],
   "source": [
    "A = makeList([ 97, 63, 89, 34, 82, 95, 4, 70, 14, 41, 38, 83, 49, 32, 68, 56, 99, 52, 33, 54 ])\n",
    "B = 13\n",
    "C = 15\n",
    "sol = Solution()\n",
    "asList(sol.reverseBetween(A, B, C))"
   ]
  }
 ],
 "metadata": {
  "kernelspec": {
   "display_name": "dsa-venv",
   "language": "python",
   "name": "python3"
  },
  "language_info": {
   "codemirror_mode": {
    "name": "ipython",
    "version": 3
   },
   "file_extension": ".py",
   "mimetype": "text/x-python",
   "name": "python",
   "nbconvert_exporter": "python",
   "pygments_lexer": "ipython3",
   "version": "3.11.3"
  }
 },
 "nbformat": 4,
 "nbformat_minor": 2
}
