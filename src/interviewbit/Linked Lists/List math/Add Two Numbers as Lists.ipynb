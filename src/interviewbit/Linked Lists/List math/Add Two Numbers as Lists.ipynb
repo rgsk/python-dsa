{
 "cells": [
  {
   "cell_type": "code",
   "execution_count": 98,
   "metadata": {},
   "outputs": [],
   "source": [
    "# https://www.interviewbit.com/problems/add-two-numbers-as-lists/"
   ]
  },
  {
   "cell_type": "code",
   "execution_count": 99,
   "metadata": {},
   "outputs": [],
   "source": [
    "import sys\n",
    "sys.path.append('../../..')\n",
    "\n",
    "from lib.ListNode import *"
   ]
  },
  {
   "cell_type": "code",
   "execution_count": 100,
   "metadata": {},
   "outputs": [],
   "source": [
    "# accepted\n",
    "# we are using a new linked list here\n",
    "class Solution:\n",
    "    # @param A : head node of linked list\n",
    "    # @param B : head node of linked list\n",
    "    # @return the head node in the linked list\n",
    "    def addTwoNumbers(self, A, B):\n",
    "        dummy = ListNode(0)\n",
    "        a, b, c = A, B, dummy\n",
    "        carry = False\n",
    "        while a or b or carry:\n",
    "            total = int(carry)\n",
    "            if a:\n",
    "                total += a.val\n",
    "                a = a.next\n",
    "            if b:\n",
    "                total += b.val\n",
    "                b = b.next\n",
    "            \n",
    "            if total >= 10:\n",
    "                carry = True\n",
    "                total %= 10\n",
    "            else:\n",
    "                carry = False\n",
    "            new = ListNode(total)\n",
    "            c.next = new\n",
    "            c = new\n",
    "        \n",
    "        return dummy.next"
   ]
  },
  {
   "cell_type": "code",
   "execution_count": 101,
   "metadata": {},
   "outputs": [],
   "source": [
    "from typing import Optional\n",
    "\n",
    "def getLength(head: Optional[ListNode]) -> int:\n",
    "    temp = head\n",
    "    count = 0\n",
    "    while temp:\n",
    "        temp = temp.next\n",
    "        count += 1\n",
    "    return count\n",
    "\n",
    "# accepted\n",
    "class Solution:\n",
    "    # @param A : head node of linked list\n",
    "    # @param B : head node of linked list\n",
    "    # @return the head node in the linked list\n",
    "    def addTwoNumbers(self, A, B):\n",
    "        if getLength(B) > getLength(A):\n",
    "            return self.addTwoNumbers(B, A)\n",
    "        tempA = A\n",
    "        tempB = B\n",
    "        remainder = 0\n",
    "        prevTempA = None\n",
    "        while tempA and (tempB or remainder):\n",
    "            tempA.val += (tempB.val if tempB else 0) + remainder\n",
    "            remainder = 0\n",
    "            if tempA.val >= 10:\n",
    "                tempA.val = tempA.val - 10\n",
    "                remainder = 1\n",
    "            prevTempA = tempA\n",
    "            tempA = tempA.next\n",
    "            if tempB:\n",
    "                tempB = tempB.next\n",
    "        if remainder:\n",
    "            prevTempA.next = ListNode(remainder)\n",
    "        return A"
   ]
  },
  {
   "cell_type": "code",
   "execution_count": 102,
   "metadata": {},
   "outputs": [
    {
     "name": "stdout",
     "output_type": "stream",
     "text": [
      "[7, 0, 8]\n"
     ]
    }
   ],
   "source": [
    "A = makeList([2, 4, 3])\n",
    "B = makeList([5, 6, 4])\n",
    "\n",
    "sol = Solution()\n",
    "print(asList(sol.addTwoNumbers(A, B)))"
   ]
  },
  {
   "cell_type": "code",
   "execution_count": 103,
   "metadata": {},
   "outputs": [
    {
     "name": "stdout",
     "output_type": "stream",
     "text": [
      "[2, 1, 1]\n"
     ]
    }
   ],
   "source": [
    "A = makeList([1, 1, 1])\n",
    "B = makeList([1])\n",
    "\n",
    "sol = Solution()\n",
    "print(asList(sol.addTwoNumbers(A, B)))"
   ]
  },
  {
   "cell_type": "code",
   "execution_count": 104,
   "metadata": {},
   "outputs": [
    {
     "name": "stdout",
     "output_type": "stream",
     "text": [
      "[0, 0, 0, 1]\n"
     ]
    }
   ],
   "source": [
    "A = makeList([1])\n",
    "B = makeList([9, 9, 9])\n",
    "\n",
    "sol = Solution()\n",
    "print(asList(sol.addTwoNumbers(A, B)))"
   ]
  }
 ],
 "metadata": {
  "kernelspec": {
   "display_name": "dsa-venv",
   "language": "python",
   "name": "python3"
  },
  "language_info": {
   "codemirror_mode": {
    "name": "ipython",
    "version": 3
   },
   "file_extension": ".py",
   "mimetype": "text/x-python",
   "name": "python",
   "nbconvert_exporter": "python",
   "pygments_lexer": "ipython3",
   "version": "3.11.3"
  }
 },
 "nbformat": 4,
 "nbformat_minor": 2
}
