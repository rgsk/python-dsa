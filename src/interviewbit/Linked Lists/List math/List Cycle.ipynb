{
 "cells": [
  {
   "cell_type": "code",
   "execution_count": 25,
   "metadata": {},
   "outputs": [],
   "source": [
    "# https://www.interviewbit.com/problems/list-cycle/"
   ]
  },
  {
   "cell_type": "code",
   "execution_count": 26,
   "metadata": {},
   "outputs": [],
   "source": [
    "import sys\n",
    "sys.path.append('../../..')\n",
    "\n",
    "from lib.ListNode import *"
   ]
  },
  {
   "cell_type": "code",
   "execution_count": 27,
   "metadata": {},
   "outputs": [],
   "source": [
    "# TRICK: fast and slow pointer, hare and tortoise\n",
    "\n",
    "# accepted\n",
    "class Solution:\n",
    "    # @param A : head node of linked list\n",
    "    # @return the first node in the cycle in the linked list\n",
    "    def detectCycle(self, A):\n",
    "        if not A or not A.next:\n",
    "            return None\n",
    "        fast = A.next.next\n",
    "        slow = A.next\n",
    "        while slow != fast and fast and fast.next:\n",
    "            slow = slow.next\n",
    "            fast = fast.next.next\n",
    "        if not fast or not fast.next:\n",
    "            return None\n",
    "        fast = A\n",
    "        while slow != fast:\n",
    "            slow = slow.next\n",
    "            fast = fast.next\n",
    "        return fast"
   ]
  },
  {
   "cell_type": "code",
   "execution_count": 28,
   "metadata": {},
   "outputs": [],
   "source": [
    "# accepted\n",
    "class Solution:\n",
    "    # @param A : head node of linked list\n",
    "    # @return the first node in the cycle in the linked list\n",
    "    def detectCycle(self, A):\n",
    "        if not A or not A.next:\n",
    "            return None\n",
    "        fast = A.next.next\n",
    "        slow = A.next\n",
    "        while slow != fast and fast and fast.next:\n",
    "            slow = slow.next\n",
    "            fast = fast.next.next\n",
    "        if slow != fast:\n",
    "            return None\n",
    "        fast = A\n",
    "        while slow != fast:\n",
    "            slow = slow.next\n",
    "            fast = fast.next\n",
    "        return fast"
   ]
  },
  {
   "cell_type": "code",
   "execution_count": 29,
   "metadata": {},
   "outputs": [
    {
     "data": {
      "text/plain": [
       "3"
      ]
     },
     "execution_count": 29,
     "metadata": {},
     "output_type": "execute_result"
    }
   ],
   "source": [
    "fifth = ListNode(5)\n",
    "third = ListNode(3, ListNode(4, fifth))\n",
    "fifth.next = third\n",
    "A = ListNode(1, ListNode(2, third))\n",
    "sol = Solution()\n",
    "sol.detectCycle(A).val"
   ]
  }
 ],
 "metadata": {
  "kernelspec": {
   "display_name": "dsa-venv",
   "language": "python",
   "name": "python3"
  },
  "language_info": {
   "codemirror_mode": {
    "name": "ipython",
    "version": 3
   },
   "file_extension": ".py",
   "mimetype": "text/x-python",
   "name": "python",
   "nbconvert_exporter": "python",
   "pygments_lexer": "ipython3",
   "version": "3.11.3"
  }
 },
 "nbformat": 4,
 "nbformat_minor": 2
}
