{
 "cells": [
  {
   "cell_type": "code",
   "execution_count": 15,
   "metadata": {},
   "outputs": [],
   "source": [
    "# https://www.interviewbit.com/problems/sort-binary-linked-list/"
   ]
  },
  {
   "cell_type": "code",
   "execution_count": 16,
   "metadata": {},
   "outputs": [],
   "source": [
    "import sys\n",
    "sys.path.append('../../..')\n",
    "\n",
    "from lib.ListNode import *"
   ]
  },
  {
   "cell_type": "code",
   "execution_count": 17,
   "metadata": {},
   "outputs": [],
   "source": [
    "class Solution:\n",
    "    # @param A : head node of linked list\n",
    "    # @return the head node in the linked list\n",
    "    def solve(self, A):\n",
    "        length = 0\n",
    "        zeroes = 0\n",
    "        temp = A\n",
    "        while temp:\n",
    "            if temp.val == 0:\n",
    "                zeroes += 1\n",
    "            length += 1\n",
    "            temp = temp.next\n",
    "        temp = A\n",
    "        while zeroes > 0:\n",
    "            temp.val = 0\n",
    "            temp = temp.next\n",
    "            zeroes -= 1\n",
    "        # rest of the values should be assigned 1\n",
    "        while temp:\n",
    "            temp.val = 1\n",
    "            temp = temp.next\n",
    "        return A"
   ]
  },
  {
   "cell_type": "code",
   "execution_count": 18,
   "metadata": {},
   "outputs": [
    {
     "data": {
      "text/plain": [
       "[0, 0, 1, 1]"
      ]
     },
     "execution_count": 18,
     "metadata": {},
     "output_type": "execute_result"
    }
   ],
   "source": [
    "A = makeList([1, 0, 0, 1])\n",
    "sol = Solution()\n",
    "asList(sol.solve(A))"
   ]
  },
  {
   "cell_type": "code",
   "execution_count": 19,
   "metadata": {},
   "outputs": [
    {
     "data": {
      "text/plain": [
       "[0, 0, 0, 1, 1]"
      ]
     },
     "execution_count": 19,
     "metadata": {},
     "output_type": "execute_result"
    }
   ],
   "source": [
    "A = makeList([0, 0, 1, 1, 0])\n",
    "sol = Solution()\n",
    "asList(sol.solve(A))"
   ]
  }
 ],
 "metadata": {
  "kernelspec": {
   "display_name": "dsa-venv",
   "language": "python",
   "name": "python3"
  },
  "language_info": {
   "codemirror_mode": {
    "name": "ipython",
    "version": 3
   },
   "file_extension": ".py",
   "mimetype": "text/x-python",
   "name": "python",
   "nbconvert_exporter": "python",
   "pygments_lexer": "ipython3",
   "version": "3.11.3"
  }
 },
 "nbformat": 4,
 "nbformat_minor": 2
}
