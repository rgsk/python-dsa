{
 "cells": [
  {
   "cell_type": "code",
   "execution_count": 14,
   "metadata": {},
   "outputs": [],
   "source": [
    "# https://www.interviewbit.com/problems/partition-list/"
   ]
  },
  {
   "cell_type": "code",
   "execution_count": 15,
   "metadata": {},
   "outputs": [],
   "source": [
    "import sys\n",
    "sys.path.append('../../..')\n",
    "\n",
    "from lib.ListNode import *"
   ]
  },
  {
   "cell_type": "code",
   "execution_count": 16,
   "metadata": {},
   "outputs": [],
   "source": [
    "class Solution:\n",
    "    # @param A : head node of linked list\n",
    "    # @param B : integer\n",
    "    # @return the head node in the linked list\n",
    "    def partition(self, A, B):\n",
    "        small_head = ListNode(0)\n",
    "        small_ptr = small_head\n",
    "        big_head = ListNode(0)\n",
    "        big_ptr = big_head\n",
    "\n",
    "        temp = A\n",
    "        while temp:\n",
    "            if temp.val < B:\n",
    "                small_ptr.next = temp\n",
    "                small_ptr = small_ptr.next\n",
    "            else:\n",
    "                big_ptr.next = temp\n",
    "                big_ptr = big_ptr.next\n",
    "            temp = temp.next\n",
    "        big_ptr.next = None\n",
    "        small_ptr.next = big_head.next\n",
    "        return small_head.next"
   ]
  },
  {
   "cell_type": "code",
   "execution_count": 17,
   "metadata": {},
   "outputs": [
    {
     "data": {
      "text/plain": [
       "[1, 2, 2, 4, 3, 5]"
      ]
     },
     "execution_count": 17,
     "metadata": {},
     "output_type": "execute_result"
    }
   ],
   "source": [
    "A = makeList([1, 4, 3, 2, 5, 2])\n",
    "B = 3\n",
    "sol = Solution()\n",
    "asList(sol.partition(A, B))"
   ]
  },
  {
   "cell_type": "code",
   "execution_count": 18,
   "metadata": {},
   "outputs": [
    {
     "data": {
      "text/plain": [
       "[1, 1, 2, 3, 3]"
      ]
     },
     "execution_count": 18,
     "metadata": {},
     "output_type": "execute_result"
    }
   ],
   "source": [
    "A = makeList([1, 2, 3, 1, 3])\n",
    "B = 2\n",
    "sol = Solution()\n",
    "asList(sol.partition(A, B))"
   ]
  }
 ],
 "metadata": {
  "kernelspec": {
   "display_name": "dsa-venv",
   "language": "python",
   "name": "python3"
  },
  "language_info": {
   "codemirror_mode": {
    "name": "ipython",
    "version": 3
   },
   "file_extension": ".py",
   "mimetype": "text/x-python",
   "name": "python",
   "nbconvert_exporter": "python",
   "pygments_lexer": "ipython3",
   "version": "3.11.3"
  }
 },
 "nbformat": 4,
 "nbformat_minor": 2
}
