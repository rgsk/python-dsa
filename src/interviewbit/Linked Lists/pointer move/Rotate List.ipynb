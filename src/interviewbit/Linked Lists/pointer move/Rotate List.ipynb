{
 "cells": [
  {
   "cell_type": "code",
   "execution_count": 54,
   "metadata": {},
   "outputs": [],
   "source": [
    "# https://www.interviewbit.com/problems/rotate-list/"
   ]
  },
  {
   "cell_type": "code",
   "execution_count": 55,
   "metadata": {},
   "outputs": [],
   "source": [
    "import sys\n",
    "sys.path.append('../../..')\n",
    "\n",
    "from lib.ListNode import *"
   ]
  },
  {
   "cell_type": "code",
   "execution_count": 56,
   "metadata": {},
   "outputs": [],
   "source": [
    "from typing import List, Optional\n",
    "\n",
    "def asList(l: Optional[ListNode]) -> List[int]:\n",
    "    if l == None:\n",
    "        return []\n",
    "\n",
    "    ans: List[int] = []\n",
    "    t = l\n",
    "    while t is not None:\n",
    "        ans.append(t.val)\n",
    "        t = t.next\n",
    "    return ans\n",
    "\n",
    "\n",
    "def makeList(elems: List[int]) -> Optional[ListNode]:\n",
    "    if not elems:\n",
    "        return None\n",
    "    l = ListNode(-1)\n",
    "    t = l\n",
    "    for v in elems:\n",
    "        t.next = ListNode(v)\n",
    "        t = t.next\n",
    "    return l.next\n",
    "\n",
    "def getLength(head: Optional[ListNode]) -> int:\n",
    "    temp = head\n",
    "    count = 0\n",
    "    while temp:\n",
    "        temp = temp.next\n",
    "        count += 1\n",
    "    return count\n",
    "\n",
    "\n",
    "class Solution:\n",
    "    # @param A : head node of linked list\n",
    "    # @param B : integer\n",
    "    # @return the head node in the linked list\n",
    "    def rotateRight(self, A, B):\n",
    "        length = getLength(A)\n",
    "        B = B % length\n",
    "        items = asList(A)\n",
    "        rotated = items[-B:] + items[:-B]\n",
    "        return makeList(rotated)"
   ]
  },
  {
   "cell_type": "code",
   "execution_count": 57,
   "metadata": {},
   "outputs": [],
   "source": [
    "from typing import List, Optional\n",
    "\n",
    "def getLength(head: Optional[ListNode]) -> int:\n",
    "    temp = head\n",
    "    count = 0\n",
    "    while temp:\n",
    "        temp = temp.next\n",
    "        count += 1\n",
    "    return count\n",
    "\n",
    "class Solution:\n",
    "    # @param A : head node of linked list\n",
    "    # @param B : integer\n",
    "    # @return the head node in the linked list\n",
    "    def rotateRight(self, A, B):\n",
    "        length = getLength(A)\n",
    "        rotations = B % length\n",
    "        if rotations == 0:\n",
    "            return A\n",
    "        runs = length - rotations\n",
    "        temp = A\n",
    "        while runs > 1:\n",
    "            temp = temp.next\n",
    "            runs -= 1\n",
    "        new_start = temp.next\n",
    "        temp.next = None\n",
    "        temp = new_start\n",
    "        while temp.next:\n",
    "            temp = temp.next\n",
    "        temp.next = A\n",
    "        return new_start"
   ]
  },
  {
   "cell_type": "code",
   "execution_count": 58,
   "metadata": {},
   "outputs": [
    {
     "name": "stdout",
     "output_type": "stream",
     "text": [
      "[4, 5, 1, 2, 3]\n"
     ]
    }
   ],
   "source": [
    "A = makeList([1, 2, 3, 4, 5])\n",
    "B = 2\n",
    "sol = Solution()\n",
    "print(asList(sol.rotateRight(A, B)))"
   ]
  },
  {
   "cell_type": "code",
   "execution_count": 59,
   "metadata": {},
   "outputs": [
    {
     "name": "stdout",
     "output_type": "stream",
     "text": [
      "[5, 1, 2, 3, 4]\n"
     ]
    }
   ],
   "source": [
    "A = makeList([1, 2, 3, 4, 5])\n",
    "B = 1\n",
    "sol = Solution()\n",
    "print(asList(sol.rotateRight(A, B)))"
   ]
  },
  {
   "cell_type": "code",
   "execution_count": 60,
   "metadata": {},
   "outputs": [
    {
     "name": "stdout",
     "output_type": "stream",
     "text": [
      "[1, 2, 3, 4, 5]\n"
     ]
    }
   ],
   "source": [
    "A = makeList([1, 2, 3, 4, 5])\n",
    "B = 0\n",
    "sol = Solution()\n",
    "print(asList(sol.rotateRight(A, B)))"
   ]
  },
  {
   "cell_type": "code",
   "execution_count": 61,
   "metadata": {},
   "outputs": [
    {
     "name": "stdout",
     "output_type": "stream",
     "text": [
      "[69, 91, 34, 18, 83, 38, 82, 21]\n"
     ]
    }
   ],
   "source": [
    "A = makeList([ 91,34,18,83,38,82,21,69 ])\n",
    "B = 89\n",
    "sol = Solution()\n",
    "print(asList(sol.rotateRight(A, B)))"
   ]
  }
 ],
 "metadata": {
  "kernelspec": {
   "display_name": "dsa-venv",
   "language": "python",
   "name": "python3"
  },
  "language_info": {
   "codemirror_mode": {
    "name": "ipython",
    "version": 3
   },
   "file_extension": ".py",
   "mimetype": "text/x-python",
   "name": "python",
   "nbconvert_exporter": "python",
   "pygments_lexer": "ipython3",
   "version": "3.11.3"
  }
 },
 "nbformat": 4,
 "nbformat_minor": 2
}
