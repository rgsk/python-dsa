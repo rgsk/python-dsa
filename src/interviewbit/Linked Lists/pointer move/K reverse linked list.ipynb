{
 "cells": [
  {
   "cell_type": "code",
   "execution_count": 86,
   "metadata": {},
   "outputs": [],
   "source": [
    "# https://www.interviewbit.com/problems/k-reverse-linked-list/"
   ]
  },
  {
   "cell_type": "code",
   "execution_count": 87,
   "metadata": {},
   "outputs": [],
   "source": [
    "import sys\n",
    "sys.path.append('../../..')\n",
    "\n",
    "from lib.ListNode import *"
   ]
  },
  {
   "cell_type": "code",
   "execution_count": 88,
   "metadata": {},
   "outputs": [],
   "source": [
    "# accepted\n",
    "class Solution:\n",
    "    # @param A : head node of linked list\n",
    "    # @param B : integer\n",
    "    # @return the head node in the linked list\n",
    "    def reverseList(self, A, B):\n",
    "        nodes = []\n",
    "        temp = A\n",
    "        while temp:\n",
    "            nodes.append(temp)\n",
    "            temp = temp.next\n",
    "        def reverse(arr, i, j):\n",
    "            while i < j:\n",
    "                arr[i], arr[j] = arr[j], arr[i]\n",
    "                i += 1\n",
    "                j -= 1\n",
    "        for i in range(0, len(nodes) - B + 1, B):\n",
    "            reverse(nodes, i, i + B - 1)\n",
    "\n",
    "        for i in range(1, len(nodes)):\n",
    "            nodes[i - 1].next = nodes[i]\n",
    "        nodes[-1].next = None\n",
    "        return nodes[0]"
   ]
  },
  {
   "cell_type": "code",
   "execution_count": 89,
   "metadata": {},
   "outputs": [],
   "source": [
    "from typing import  Optional\n",
    "\n",
    "def reverseLL(head: Optional[ListNode]) -> Optional[ListNode]:\n",
    "    prev = None\n",
    "    cur = head\n",
    "    next = head\n",
    "    while cur:\n",
    "        next = cur.next\n",
    "        cur.next = prev\n",
    "        prev = cur\n",
    "        cur = next\n",
    "    return prev\n",
    "\n",
    "\n",
    "class Solution:\n",
    "    # @param A : head node of linked list\n",
    "    # @param B : integer\n",
    "    # @return the head node in the linked list\n",
    "    def reverseList(self, A, B):\n",
    "        head = A\n",
    "        start = A\n",
    "        if B == 1:\n",
    "            return A\n",
    "        head = None\n",
    "        while start != None:\n",
    "            x = 1\n",
    "            temp = start\n",
    "            while x < B:\n",
    "                temp = temp.next\n",
    "                x += 1\n",
    "            next_start = temp.next\n",
    "            temp.next = None\n",
    "            reversed_start = reverseLL(start)\n",
    "            if not head:\n",
    "                head = reversed_start\n",
    "            else:\n",
    "                last_end.next = reversed_start\n",
    "            last_end = start\n",
    "            start = next_start\n",
    "        return head\n"
   ]
  },
  {
   "cell_type": "code",
   "execution_count": 90,
   "metadata": {},
   "outputs": [
    {
     "data": {
      "text/plain": [
       "[2, 1, 4, 3, 6, 5]"
      ]
     },
     "execution_count": 90,
     "metadata": {},
     "output_type": "execute_result"
    }
   ],
   "source": [
    "A = makeList([1, 2, 3, 4, 5, 6])\n",
    "B = 2\n",
    "sol = Solution()\n",
    "asList(sol.reverseList(A, B))"
   ]
  },
  {
   "cell_type": "code",
   "execution_count": 91,
   "metadata": {},
   "outputs": [
    {
     "data": {
      "text/plain": [
       "[4, 3, 2, 1]"
      ]
     },
     "execution_count": 91,
     "metadata": {},
     "output_type": "execute_result"
    }
   ],
   "source": [
    "A = makeList([1, 2, 3, 4])\n",
    "B = 4\n",
    "sol = Solution()\n",
    "asList(sol.reverseList(A, B))"
   ]
  }
 ],
 "metadata": {
  "kernelspec": {
   "display_name": "dsa-venv",
   "language": "python",
   "name": "python3"
  },
  "language_info": {
   "codemirror_mode": {
    "name": "ipython",
    "version": 3
   },
   "file_extension": ".py",
   "mimetype": "text/x-python",
   "name": "python",
   "nbconvert_exporter": "python",
   "pygments_lexer": "ipython3",
   "version": "3.11.3"
  }
 },
 "nbformat": 4,
 "nbformat_minor": 2
}
