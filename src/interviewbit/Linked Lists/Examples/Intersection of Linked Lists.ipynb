{
 "cells": [
  {
   "cell_type": "code",
   "execution_count": 1,
   "metadata": {},
   "outputs": [],
   "source": [
    "# https://www.interviewbit.com/problems/intersection-of-linked-lists/"
   ]
  },
  {
   "cell_type": "code",
   "execution_count": 2,
   "metadata": {},
   "outputs": [],
   "source": [
    "import sys\n",
    "sys.path.append('../../..')\n",
    "\n",
    "from lib.ListNode import *"
   ]
  },
  {
   "cell_type": "code",
   "execution_count": 3,
   "metadata": {},
   "outputs": [],
   "source": [
    "class Solution:\n",
    "\n",
    "\tdef length(self, x):\n",
    "\t\tl = 0\n",
    "\t\twhile x:\n",
    "\t\t\tl += 1\n",
    "\t\t\tx = x.next\n",
    "\t\treturn l \n",
    "\n",
    "    # @param A : head node of linked list\n",
    "    # @param B : head node of linked list\n",
    "    # @return the head node in the linked list\n",
    "\tdef getIntersectionNode(self, A, B):\n",
    "\t\tla = self.length(A)\n",
    "\t\tlb = self.length(B)\n",
    "\n",
    "\t\ta = A\n",
    "\t\tb = B\n",
    "\t\twhile a and b:\n",
    "\t\t\tif la > lb:\n",
    "\t\t\t\tla -= 1\n",
    "\t\t\t\ta = a.next\n",
    "\t\t\telif la < lb:\n",
    "\t\t\t\tlb -= 1\n",
    "\t\t\t\tb = b.next\n",
    "\t\t\telse:\n",
    "\t\t\t\tif a == b:\n",
    "\t\t\t\t\treturn a\n",
    "\t\t\t\telse:\n",
    "\t\t\t\t\ta = a.next\n",
    "\t\t\t\t\tb = b.next\n",
    "\n",
    "\t\treturn None"
   ]
  },
  {
   "cell_type": "code",
   "execution_count": 4,
   "metadata": {},
   "outputs": [
    {
     "data": {
      "text/plain": [
       "<lib.ListNode.ListNode at 0x110860750>"
      ]
     },
     "execution_count": 4,
     "metadata": {},
     "output_type": "execute_result"
    }
   ],
   "source": [
    "three = ListNode(3, ListNode(4, ListNode(5)))\n",
    "A = ListNode(1, ListNode(2, three))\n",
    "B = ListNode(11, ListNode(12, ListNode(13, ListNode(14, three))))\n",
    "\n",
    "sol = Solution()\n",
    "sol.getIntersectionNode(A, B)"
   ]
  }
 ],
 "metadata": {
  "kernelspec": {
   "display_name": "dsa-venv",
   "language": "python",
   "name": "python3"
  },
  "language_info": {
   "codemirror_mode": {
    "name": "ipython",
    "version": 3
   },
   "file_extension": ".py",
   "mimetype": "text/x-python",
   "name": "python",
   "nbconvert_exporter": "python",
   "pygments_lexer": "ipython3",
   "version": "3.11.3"
  }
 },
 "nbformat": 4,
 "nbformat_minor": 2
}
