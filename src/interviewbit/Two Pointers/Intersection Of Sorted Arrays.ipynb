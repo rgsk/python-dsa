{
 "cells": [
  {
   "cell_type": "code",
   "execution_count": 7,
   "metadata": {},
   "outputs": [],
   "source": [
    "from collections import defaultdict\n",
    "\n",
    "# using map doesn't takes advantage of the fact that we are given that array is sorted\n",
    "class Solution:\n",
    "    # @param A : tuple of integers\n",
    "    # @param B : tuple of integers\n",
    "    # @return a list of integers\n",
    "    def intersect(self, A, B):\n",
    "        ans = []\n",
    "        mp_B = defaultdict(int)\n",
    "        for v in B:\n",
    "            mp_B[v] += 1\n",
    "        for v in A:\n",
    "            if mp_B[v] > 0:\n",
    "                ans.append(v)\n",
    "                mp_B[v] -= 1\n",
    "        return ans\n"
   ]
  },
  {
   "cell_type": "code",
   "execution_count": 8,
   "metadata": {},
   "outputs": [],
   "source": [
    "class Solution:\n",
    "    # @param A : tuple of integers\n",
    "    # @param B : tuple of integers\n",
    "    # @return a list of integers\n",
    "    def intersect(self, A, B):\n",
    "        i = 0\n",
    "        j = 0\n",
    "        result = []\n",
    "        while i < len(A) and j < len(B):\n",
    "            if A[i] == B[j]:\n",
    "                result.append(A[i])\n",
    "                i += 1\n",
    "                j += 1\n",
    "            elif A[i] < B[j]:\n",
    "                # here we move to next element in A\n",
    "                # as bigger element has a chance to match with element in B\n",
    "                i += 1\n",
    "            else:\n",
    "                j += 1\n",
    "        return result"
   ]
  },
  {
   "cell_type": "code",
   "execution_count": 9,
   "metadata": {},
   "outputs": [
    {
     "data": {
      "text/plain": [
       "[3, 3, 5]"
      ]
     },
     "execution_count": 9,
     "metadata": {},
     "output_type": "execute_result"
    }
   ],
   "source": [
    "A = [1, 2, 3, 3, 4, 5, 6]\n",
    "B = [3, 3, 5]\n",
    "sol = Solution()\n",
    "sol.intersect(A, B)"
   ]
  },
  {
   "cell_type": "code",
   "execution_count": 10,
   "metadata": {},
   "outputs": [
    {
     "data": {
      "text/plain": [
       "[3, 5]"
      ]
     },
     "execution_count": 10,
     "metadata": {},
     "output_type": "execute_result"
    }
   ],
   "source": [
    "A = [1, 2, 3, 3, 4, 5, 6]\n",
    "B = [3, 5]\n",
    "sol = Solution()\n",
    "sol.intersect(A, B)"
   ]
  }
 ],
 "metadata": {
  "kernelspec": {
   "display_name": "dsa-venv",
   "language": "python",
   "name": "python3"
  },
  "language_info": {
   "codemirror_mode": {
    "name": "ipython",
    "version": 3
   },
   "file_extension": ".py",
   "mimetype": "text/x-python",
   "name": "python",
   "nbconvert_exporter": "python",
   "pygments_lexer": "ipython3",
   "version": "3.11.3"
  },
  "orig_nbformat": 4
 },
 "nbformat": 4,
 "nbformat_minor": 2
}
