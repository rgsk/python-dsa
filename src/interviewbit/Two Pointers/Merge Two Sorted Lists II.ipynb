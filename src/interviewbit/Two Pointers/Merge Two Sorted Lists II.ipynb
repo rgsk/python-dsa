{
 "cells": [
  {
   "cell_type": "code",
   "execution_count": 3,
   "metadata": {},
   "outputs": [],
   "source": [
    "# https://www.interviewbit.com/problems/merge-two-sorted-lists-ii/\n",
    "\n",
    "class Solution:\n",
    "    # @param A : list of integers\n",
    "    # @param B : list of integers\n",
    "    def merge(self, A, B):\n",
    "        nB = len(B)\n",
    "        nA = len(A)\n",
    "        for _ in range(nB):\n",
    "            A.append(0)\n",
    "        C = [0] * (nA + nB)\n",
    "        iA = 0\n",
    "        iB = 0\n",
    "        iC = 0\n",
    "        while iA < nA and iB < nB:\n",
    "            if A[iA] < B[iB]:\n",
    "                C[iC] = A[iA]\n",
    "                iC += 1\n",
    "                iA += 1\n",
    "            else:\n",
    "                C[iC] = B[iB]\n",
    "                iC += 1\n",
    "                iB += 1\n",
    "        while iA < nA:\n",
    "            C[iC] = A[iA]\n",
    "            iC += 1\n",
    "            iA += 1\n",
    "        while iB < nB:\n",
    "            C[iC] = B[iB]\n",
    "            iC += 1\n",
    "            iB += 1\n",
    "        for i in range(nA + nB):\n",
    "            A[i] = C[i]\n",
    "        return A"
   ]
  },
  {
   "cell_type": "code",
   "execution_count": 4,
   "metadata": {},
   "outputs": [
    {
     "name": "stdout",
     "output_type": "stream",
     "text": [
      "[1, 5, 6, 8, 9]\n"
     ]
    }
   ],
   "source": [
    "A = [1, 5, 8]\n",
    "B = [6, 9]\n",
    "sol = Solution()\n",
    "sol.merge(A, B)\n",
    "print(A)"
   ]
  },
  {
   "cell_type": "code",
   "execution_count": 5,
   "metadata": {},
   "outputs": [],
   "source": [
    "class Solution:\n",
    "    # @param A : list of integers\n",
    "    # @param B : list of integers\n",
    "    def merge(self, A, B):\n",
    "        it_A = 0\n",
    "        it_B = 0\n",
    "        \n",
    "        while it_A < len(A) and it_B < len(B):\n",
    "            if A[it_A] >= B[it_B]:\n",
    "                A.insert(it_A, B[it_B])\n",
    "                it_B += 1\n",
    "            it_A += 1\n",
    "            \n",
    "        while it_B < len(B):\n",
    "            A.append(B[it_B])\n",
    "            it_B += 1"
   ]
  },
  {
   "cell_type": "code",
   "execution_count": 6,
   "metadata": {},
   "outputs": [
    {
     "name": "stdout",
     "output_type": "stream",
     "text": [
      "[1, 5, 6, 8, 9]\n"
     ]
    }
   ],
   "source": [
    "A = [1, 5, 8]\n",
    "B = [6, 9]\n",
    "sol = Solution()\n",
    "sol.merge(A, B)\n",
    "print(A)"
   ]
  }
 ],
 "metadata": {
  "kernelspec": {
   "display_name": "Python 3.10.4 ('template-venv': venv)",
   "language": "python",
   "name": "python3"
  },
  "language_info": {
   "codemirror_mode": {
    "name": "ipython",
    "version": 3
   },
   "file_extension": ".py",
   "mimetype": "text/x-python",
   "name": "python",
   "nbconvert_exporter": "python",
   "pygments_lexer": "ipython3",
   "version": "3.10.4"
  },
  "orig_nbformat": 4,
  "vscode": {
   "interpreter": {
    "hash": "0b8dd1d11c220dfc9d15848c82c145ba1a021fcb056c07a0cc073ae3ed6d8420"
   }
  }
 },
 "nbformat": 4,
 "nbformat_minor": 2
}
