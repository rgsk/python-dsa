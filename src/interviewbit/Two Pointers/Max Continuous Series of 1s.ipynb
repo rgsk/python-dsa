{
 "cells": [
  {
   "cell_type": "code",
   "execution_count": 5,
   "metadata": {},
   "outputs": [],
   "source": [
    "class Solution:\n",
    "    # @param A : list of integers\n",
    "    # @param B : integer\n",
    "    # @return a list of integers\n",
    "    def maxone(self, A, B):\n",
    "        k = 0\n",
    "        start = end = 0\n",
    "        l = r = 0\n",
    "        n = len(A)\n",
    "        while r < n:\n",
    "            if A[r] == 0:\n",
    "                k += 1\n",
    "            while k > B:\n",
    "                if A[l] == 0:\n",
    "                    k -= 1\n",
    "                l += 1\n",
    "            r += 1\n",
    "            if r - l > end - start:\n",
    "                start = l\n",
    "                end = r\n",
    "        return list(range(start, end))"
   ]
  },
  {
   "cell_type": "code",
   "execution_count": 6,
   "metadata": {},
   "outputs": [
    {
     "data": {
      "text/plain": [
       "[0, 1, 2, 3, 4]"
      ]
     },
     "execution_count": 6,
     "metadata": {},
     "output_type": "execute_result"
    }
   ],
   "source": [
    "A = [1, 1, 0, 1, 1, 0, 0, 1, 1, 1]\n",
    "B = 1\n",
    "sol = Solution()\n",
    "sol.maxone(A, B)"
   ]
  },
  {
   "cell_type": "code",
   "execution_count": 7,
   "metadata": {},
   "outputs": [
    {
     "data": {
      "text/plain": [
       "[3, 4, 5, 6]"
      ]
     },
     "execution_count": 7,
     "metadata": {},
     "output_type": "execute_result"
    }
   ],
   "source": [
    "A = [1, 0, 0, 0, 1, 0, 1]\n",
    "B = 2\n",
    "sol = Solution()\n",
    "sol.maxone(A, B)"
   ]
  }
 ],
 "metadata": {
  "kernelspec": {
   "display_name": "dsa-venv",
   "language": "python",
   "name": "python3"
  },
  "language_info": {
   "codemirror_mode": {
    "name": "ipython",
    "version": 3
   },
   "file_extension": ".py",
   "mimetype": "text/x-python",
   "name": "python",
   "nbconvert_exporter": "python",
   "pygments_lexer": "ipython3",
   "version": "3.11.3"
  },
  "orig_nbformat": 4
 },
 "nbformat": 4,
 "nbformat_minor": 2
}
