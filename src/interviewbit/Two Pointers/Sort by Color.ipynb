{
 "cells": [
  {
   "cell_type": "code",
   "execution_count": 11,
   "metadata": {},
   "outputs": [],
   "source": [
    "class Solution:\n",
    "    # @param A : list of integers\n",
    "    # @return A after the sort\n",
    "    def sortColors(self, A):\n",
    "        l = 0\n",
    "        m = 0\n",
    "        h = len(A) - 1\n",
    "        while m <= h:\n",
    "            if A[m] == 0:\n",
    "                A[m], A[l] = A[l], A[m]\n",
    "                l += 1\n",
    "                m += 1\n",
    "            elif A[m] == 1:\n",
    "                m += 1\n",
    "            else:\n",
    "                A[m], A[h] = A[h], A[m]\n",
    "                h -= 1\n",
    "        return A"
   ]
  },
  {
   "cell_type": "code",
   "execution_count": 12,
   "metadata": {},
   "outputs": [
    {
     "data": {
      "text/plain": [
       "[0, 0, 1, 1, 2, 2]"
      ]
     },
     "execution_count": 12,
     "metadata": {},
     "output_type": "execute_result"
    }
   ],
   "source": [
    "A = [0, 1, 2, 0, 1, 2]\n",
    "sol = Solution()\n",
    "sol.sortColors(A)"
   ]
  }
 ],
 "metadata": {
  "kernelspec": {
   "display_name": "dsa-venv",
   "language": "python",
   "name": "python3"
  },
  "language_info": {
   "codemirror_mode": {
    "name": "ipython",
    "version": 3
   },
   "file_extension": ".py",
   "mimetype": "text/x-python",
   "name": "python",
   "nbconvert_exporter": "python",
   "pygments_lexer": "ipython3",
   "version": "3.11.3"
  },
  "orig_nbformat": 4
 },
 "nbformat": 4,
 "nbformat_minor": 2
}
