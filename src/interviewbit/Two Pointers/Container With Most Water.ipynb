{
 "cells": [
  {
   "cell_type": "code",
   "execution_count": 9,
   "metadata": {},
   "outputs": [],
   "source": [
    "class Solution:\n",
    "    # @param A : list of integers\n",
    "    # @return an integer\n",
    "    def maxArea(self, A):\n",
    "        n = len(A)\n",
    "        maxArea = 0\n",
    "        for i in range(n):\n",
    "            for j in range(i + 1, n):\n",
    "                width = j - i\n",
    "                height = min(A[i], A[j])\n",
    "                maxArea = max(maxArea, height * width)\n",
    "        return maxArea"
   ]
  },
  {
   "cell_type": "code",
   "execution_count": 10,
   "metadata": {},
   "outputs": [],
   "source": [
    "# greedy solution\n",
    "# if a lower wall exists\n",
    "# the area calculated by it will be the highest\n",
    "# and we can move on after considering that area\n",
    "class Solution:\n",
    "    # @param A : list of integers\n",
    "    # @return an integer\n",
    "    def maxArea(self, A):\n",
    "        n = len(A)\n",
    "        maxArea = 0\n",
    "        l = 0\n",
    "        r = n - 1\n",
    "        while l < r:\n",
    "            width = r - l\n",
    "            height = min(A[l], A[r])\n",
    "            maxArea = max(maxArea, height * width)\n",
    "            if A[l] < A[r]:\n",
    "                l += 1\n",
    "            else:\n",
    "                r -= 1\n",
    "        return maxArea"
   ]
  },
  {
   "cell_type": "code",
   "execution_count": 11,
   "metadata": {},
   "outputs": [
    {
     "data": {
      "text/plain": [
       "6"
      ]
     },
     "execution_count": 11,
     "metadata": {},
     "output_type": "execute_result"
    }
   ],
   "source": [
    "A = [1, 5, 4, 3]\n",
    "sol = Solution()\n",
    "sol.maxArea(A)"
   ]
  }
 ],
 "metadata": {
  "kernelspec": {
   "display_name": "base",
   "language": "python",
   "name": "python3"
  },
  "language_info": {
   "codemirror_mode": {
    "name": "ipython",
    "version": 3
   },
   "file_extension": ".py",
   "mimetype": "text/x-python",
   "name": "python",
   "nbconvert_exporter": "python",
   "pygments_lexer": "ipython3",
   "version": "3.11.3"
  },
  "orig_nbformat": 4
 },
 "nbformat": 4,
 "nbformat_minor": 2
}
