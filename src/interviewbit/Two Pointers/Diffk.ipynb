{
 "cells": [
  {
   "cell_type": "code",
   "execution_count": 16,
   "metadata": {},
   "outputs": [],
   "source": [
    "# TLE\n",
    "class Solution:\n",
    "    # @param A : list of integers\n",
    "    # @param B : integer\n",
    "    # @return an integer\n",
    "    def diffPossible(self, A, B):\n",
    "        n = len(A)\n",
    "        for i in range(n):\n",
    "            for j in range(i + 1, n):\n",
    "                if A[j] - A[i] == B:\n",
    "                    return 1\n",
    "        return 0"
   ]
  },
  {
   "cell_type": "code",
   "execution_count": 17,
   "metadata": {},
   "outputs": [],
   "source": [
    "class Solution:\n",
    "    # @param A : list of integers\n",
    "    # @param B : integer\n",
    "    # @return an integer\n",
    "    def diffPossible(self, A, B):\n",
    "        n = len(A)\n",
    "        l = 0\n",
    "        r = 0\n",
    "        while l < n and r < n:\n",
    "            if l == r:\n",
    "                r += 1\n",
    "                continue\n",
    "\n",
    "            if A[r] - A[l] == B:\n",
    "                return 1\n",
    "            elif A[r] - A[l] < B:\n",
    "                r += 1\n",
    "            else:\n",
    "                l += 1\n",
    "        return 0"
   ]
  },
  {
   "cell_type": "code",
   "execution_count": 18,
   "metadata": {},
   "outputs": [
    {
     "data": {
      "text/plain": [
       "1"
      ]
     },
     "execution_count": 18,
     "metadata": {},
     "output_type": "execute_result"
    }
   ],
   "source": [
    "A = [1, 3, 5] \n",
    "B = 4\n",
    "sol = Solution()\n",
    "sol.diffPossible(A, B)"
   ]
  }
 ],
 "metadata": {
  "kernelspec": {
   "display_name": "dsa-venv",
   "language": "python",
   "name": "python3"
  },
  "language_info": {
   "codemirror_mode": {
    "name": "ipython",
    "version": 3
   },
   "file_extension": ".py",
   "mimetype": "text/x-python",
   "name": "python",
   "nbconvert_exporter": "python",
   "pygments_lexer": "ipython3",
   "version": "3.11.3"
  },
  "orig_nbformat": 4
 },
 "nbformat": 4,
 "nbformat_minor": 2
}
