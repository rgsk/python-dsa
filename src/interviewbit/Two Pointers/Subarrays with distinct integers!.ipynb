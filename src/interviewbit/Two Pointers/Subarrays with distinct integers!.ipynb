{
 "cells": [
  {
   "cell_type": "code",
   "execution_count": 27,
   "metadata": {},
   "outputs": [],
   "source": [
    "from collections import defaultdict\n",
    "\n",
    "# TLE\n",
    "class Solution:\n",
    "    # @param A : list of integers\n",
    "    # @param B : integer\n",
    "    # @return an integer\n",
    "    def solve(self, A, B):\n",
    "        mp = defaultdict(int)\n",
    "        l = r = 0\n",
    "        n = len(A)\n",
    "        ans = 0\n",
    "        while r < n:\n",
    "            mp[A[r]] += 1\n",
    "            while len(mp) == B + 1:\n",
    "                mp[A[l]] -= 1\n",
    "                if mp[A[l]] == 0:\n",
    "                    mp.pop(A[l])\n",
    "                l += 1\n",
    "            mpClone = mp.copy()\n",
    "            j = l\n",
    "            while len(mpClone) == B:\n",
    "                mpClone[A[j]] -= 1\n",
    "                if mpClone[A[j]] == 0:\n",
    "                    mpClone.pop(A[j])\n",
    "                j += 1\n",
    "                ans += 1\n",
    "            r += 1\n",
    "        return ans"
   ]
  },
  {
   "cell_type": "code",
   "execution_count": 28,
   "metadata": {},
   "outputs": [],
   "source": [
    "from collections import defaultdict\n",
    "\n",
    "# TLE\n",
    "class Solution:\n",
    "    # @param A : list of integers\n",
    "    # @param B : integer\n",
    "    # @return an integer\n",
    "    def atmost(self, A, B):\n",
    "        mp = defaultdict(int)\n",
    "        l = r = 0\n",
    "        n = len(A)\n",
    "        ans = 0\n",
    "        while r < n:\n",
    "            mp[A[r]] += 1\n",
    "            while len(mp) == B + 1:\n",
    "                mp[A[l]] -= 1\n",
    "                if mp[A[l]] == 0:\n",
    "                    mp.pop(A[l])\n",
    "                l += 1\n",
    "            r += 1\n",
    "            ans += r - l\n",
    "        return ans\n",
    "    def solve(self, A, B):\n",
    "        return self.atmost(A, B) - self.atmost(A, B - 1)"
   ]
  },
  {
   "cell_type": "code",
   "execution_count": 29,
   "metadata": {},
   "outputs": [
    {
     "data": {
      "text/plain": [
       "7"
      ]
     },
     "execution_count": 29,
     "metadata": {},
     "output_type": "execute_result"
    }
   ],
   "source": [
    "A = [1, 2, 1, 2, 3]\n",
    "B = 2\n",
    "sol = Solution()\n",
    "sol.solve(A, B)"
   ]
  },
  {
   "cell_type": "code",
   "execution_count": 30,
   "metadata": {},
   "outputs": [
    {
     "data": {
      "text/plain": [
       "3"
      ]
     },
     "execution_count": 30,
     "metadata": {},
     "output_type": "execute_result"
    }
   ],
   "source": [
    "A = [1, 2, 1, 3, 4]\n",
    "B = 3\n",
    "sol = Solution()\n",
    "sol.solve(A, B)"
   ]
  }
 ],
 "metadata": {
  "kernelspec": {
   "display_name": "dsa-venv",
   "language": "python",
   "name": "python3"
  },
  "language_info": {
   "codemirror_mode": {
    "name": "ipython",
    "version": 3
   },
   "file_extension": ".py",
   "mimetype": "text/x-python",
   "name": "python",
   "nbconvert_exporter": "python",
   "pygments_lexer": "ipython3",
   "version": "3.11.3"
  },
  "orig_nbformat": 4
 },
 "nbformat": 4,
 "nbformat_minor": 2
}
