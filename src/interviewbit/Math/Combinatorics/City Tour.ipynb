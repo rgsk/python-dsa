{
 "cells": [
  {
   "cell_type": "code",
   "execution_count": 17,
   "metadata": {},
   "outputs": [],
   "source": [
    "# https://www.interviewbit.com/problems/city-tour/"
   ]
  },
  {
   "cell_type": "code",
   "execution_count": 18,
   "metadata": {},
   "outputs": [],
   "source": [
    "# https://www.youtube.com/watch?v=fUS9G-WG9SQ"
   ]
  },
  {
   "cell_type": "markdown",
   "metadata": {},
   "source": [
    "<img src=\"./../../../../images/Screenshot 2024-01-19 at 5.11.42 PM.png\" width=\"500\"  >\n",
    "\n",
    "for middle elements, 5, 6, 7, 8\n",
    "\n",
    "n - 1 times we have 2 choices\n",
    "\n",
    "and for last we have only 1 choice\n",
    "\n",
    "for eg.\n",
    "\n",
    "first we have choice between 5 and 8 (2 ways)\n",
    "let's say we picked 5, now we can choose between 6 and 8 (2 ways)\n",
    "let's say we picked 8, now we can choose between 6 and 7 (2 ways)\n",
    "let's say we picked 6, now we have to choose 7 (1 way)\n",
    "\n"
   ]
  },
  {
   "cell_type": "markdown",
   "metadata": {},
   "source": [
    "<img src=\"./../../../../images/IMG_7396.jpeg\" width=\"400\"  >"
   ]
  },
  {
   "cell_type": "code",
   "execution_count": 19,
   "metadata": {},
   "outputs": [],
   "source": [
    "from math import factorial\n",
    "\n",
    "class Solution:\n",
    "    def solve(self, A, B):\n",
    "        B = sorted(B)\n",
    "        first_gap = B[0] - 1\n",
    "        last_gap = A - B[-1]\n",
    "        gaps = []\n",
    "        for i in range(1, len(B)):\n",
    "            if B[i] - B[i-1] > 1:\n",
    "                gaps.append(B[i] - B[i-1] - 1)\n",
    "        \n",
    "        res = factorial(A - len(B))\n",
    "        for g in gaps:\n",
    "            res //= factorial(g)\n",
    "            res *= 2 ** (g-1)\n",
    "            \n",
    "        res //= factorial(first_gap)\n",
    "        res //= factorial(last_gap)\n",
    "        \n",
    "        return res % (10**9+7)"
   ]
  },
  {
   "cell_type": "code",
   "execution_count": 20,
   "metadata": {},
   "outputs": [
    {
     "data": {
      "text/plain": [
       "6"
      ]
     },
     "execution_count": 20,
     "metadata": {},
     "output_type": "execute_result"
    }
   ],
   "source": [
    "A = 5\n",
    "B = [2, 5]\n",
    "sol = Solution()\n",
    "sol.solve(A, B)"
   ]
  }
 ],
 "metadata": {
  "language_info": {
   "name": "python"
  }
 },
 "nbformat": 4,
 "nbformat_minor": 2
}
