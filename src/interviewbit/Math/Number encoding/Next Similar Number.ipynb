{
 "cells": [
  {
   "cell_type": "code",
   "execution_count": 10,
   "metadata": {},
   "outputs": [],
   "source": [
    "# https://www.interviewbit.com/problems/next-similar-number/"
   ]
  },
  {
   "cell_type": "code",
   "execution_count": 11,
   "metadata": {},
   "outputs": [],
   "source": [
    "\n",
    "\n",
    "from typing import List\n",
    "\n",
    "\n",
    "class Solution:\n",
    "    # @param A : string\n",
    "    # @return a strings\n",
    "    def solve(self, A):\n",
    "        nums = [int(v) for v in A]\n",
    "        original = nums[:]\n",
    "        self.nextPermutation(nums)\n",
    "        if nums == original[::-1]:\n",
    "            return \"-1\"\n",
    "        return \"\".join([str(v) for v in nums])\n",
    "\n",
    "    def nextPermutation(self, nums: List[int]) -> None:\n",
    "        \"\"\"\n",
    "        Do not return anything, modify nums in-place instead.\n",
    "        \"\"\"\n",
    "        n = len(nums)\n",
    "        firstDropIndex = -1\n",
    "        for i in range(n-1, 0, -1):\n",
    "            if nums[i-1] < nums[i]:\n",
    "                firstDropIndex = i-1\n",
    "                break\n",
    "        if firstDropIndex == -1:\n",
    "            nums.reverse()\n",
    "            return\n",
    "        firstElementThatIsGreaterThanElementAtFirstDropIndex = -1\n",
    "        for i in range(n-1, firstDropIndex, -1):\n",
    "            if nums[i] > nums[firstDropIndex]:\n",
    "                firstElementThatIsGreaterThanElementAtFirstDropIndex = i\n",
    "                break\n",
    "        nums[firstDropIndex], nums[firstElementThatIsGreaterThanElementAtFirstDropIndex] = nums[firstElementThatIsGreaterThanElementAtFirstDropIndex], nums[firstDropIndex]\n",
    "        nums[firstDropIndex + 1:] = reversed(nums[firstDropIndex + 1:])\n"
   ]
  },
  {
   "cell_type": "code",
   "execution_count": 12,
   "metadata": {},
   "outputs": [
    {
     "data": {
      "text/plain": [
       "'251678'"
      ]
     },
     "execution_count": 12,
     "metadata": {},
     "output_type": "execute_result"
    }
   ],
   "source": [
    "A = \"218765\"\n",
    "sol = Solution()\n",
    "sol.solve(A)"
   ]
  },
  {
   "cell_type": "code",
   "execution_count": 13,
   "metadata": {},
   "outputs": [
    {
     "data": {
      "text/plain": [
       "'-1'"
      ]
     },
     "execution_count": 13,
     "metadata": {},
     "output_type": "execute_result"
    }
   ],
   "source": [
    "A = \"4321\"\n",
    "sol = Solution()\n",
    "sol.solve(A)"
   ]
  }
 ],
 "metadata": {
  "kernelspec": {
   "display_name": "dsa-venv",
   "language": "python",
   "name": "python3"
  },
  "language_info": {
   "codemirror_mode": {
    "name": "ipython",
    "version": 3
   },
   "file_extension": ".py",
   "mimetype": "text/x-python",
   "name": "python",
   "nbconvert_exporter": "python",
   "pygments_lexer": "ipython3",
   "version": "3.11.3"
  }
 },
 "nbformat": 4,
 "nbformat_minor": 2
}
