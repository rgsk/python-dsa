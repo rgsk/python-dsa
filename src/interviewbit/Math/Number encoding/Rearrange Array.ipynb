{
 "cells": [
  {
   "cell_type": "code",
   "execution_count": 25,
   "metadata": {},
   "outputs": [],
   "source": [
    "# https://www.interviewbit.com/problems/rearrange-array/"
   ]
  },
  {
   "cell_type": "code",
   "execution_count": 26,
   "metadata": {},
   "outputs": [],
   "source": [
    "class Solution:\n",
    "    # @param A : list of integers\n",
    "    # Modify the array A which is passed by reference. \n",
    "    # You do not need to return anything in this case. \n",
    "    def arrange(self, A):\n",
    "        B = A[:]\n",
    "        for i in range(len(A)):\n",
    "            A[i] = B[B[i]]"
   ]
  },
  {
   "cell_type": "code",
   "execution_count": 27,
   "metadata": {},
   "outputs": [],
   "source": [
    "class Solution:\n",
    "    # @param A : list of integers\n",
    "    # Modify the array A which is passed by reference. \n",
    "    # You do not need to return anything in this case. \n",
    "    def arrange(self, A):\n",
    "        A[:]=[A[v] for v in A]"
   ]
  },
  {
   "cell_type": "code",
   "execution_count": 28,
   "metadata": {},
   "outputs": [],
   "source": [
    "class Solution:\n",
    "    # @param A : list of integers\n",
    "    # Modify the array A which is passed by reference. \n",
    "    # You do not need to return anything in this case. \n",
    "    def arrange(self, A):\n",
    "        i = 0\n",
    "        length =len(A)\n",
    "        while(i<length):\n",
    "            A[i] += ((A[A[i]])%length)*length\n",
    "            i+=1\n",
    "        i = 0\n",
    "        while(i<length):\n",
    "            A[i] = A[i]//length\n",
    "            i+=1"
   ]
  },
  {
   "cell_type": "code",
   "execution_count": 29,
   "metadata": {},
   "outputs": [
    {
     "data": {
      "text/plain": [
       "[0, 1]"
      ]
     },
     "execution_count": 29,
     "metadata": {},
     "output_type": "execute_result"
    }
   ],
   "source": [
    "A = [1, 0]\n",
    "sol = Solution()\n",
    "sol.arrange(A)\n",
    "A"
   ]
  },
  {
   "cell_type": "code",
   "execution_count": 30,
   "metadata": {},
   "outputs": [
    {
     "data": {
      "text/plain": [
       "[0, 1, 2, 3]"
      ]
     },
     "execution_count": 30,
     "metadata": {},
     "output_type": "execute_result"
    }
   ],
   "source": [
    "A = [0, 2, 1, 3]\n",
    "sol = Solution()\n",
    "sol.arrange(A)\n",
    "A"
   ]
  }
 ],
 "metadata": {
  "kernelspec": {
   "display_name": "dsa-venv",
   "language": "python",
   "name": "python3"
  },
  "language_info": {
   "codemirror_mode": {
    "name": "ipython",
    "version": 3
   },
   "file_extension": ".py",
   "mimetype": "text/x-python",
   "name": "python",
   "nbconvert_exporter": "python",
   "pygments_lexer": "ipython3",
   "version": "3.11.3"
  }
 },
 "nbformat": 4,
 "nbformat_minor": 2
}
