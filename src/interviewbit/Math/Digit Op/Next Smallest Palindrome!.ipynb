{
 "cells": [
  {
   "cell_type": "code",
   "execution_count": 5,
   "metadata": {},
   "outputs": [],
   "source": [
    "# https://www.interviewbit.com/problems/next-smallest-palindrome/"
   ]
  },
  {
   "cell_type": "code",
   "execution_count": 6,
   "metadata": {},
   "outputs": [],
   "source": [
    "class Solution:\n",
    "    # @param A : string\n",
    "    # @return a strings\n",
    "    def solve(self, A):\n",
    "        n = len(A)\n",
    "        mid = (n - 1) // 2\n",
    "        ans = list(A)  # Convert the input string to a list of characters for easier manipulation\n",
    "\n",
    "        # First, make the right half the same as the left half\n",
    "        for i in range(mid + 1):\n",
    "            ans[n - i - 1] = ans[i]\n",
    "\n",
    "        # Check if, at any point, the value decreases; if yes, break. Otherwise, return the answer.\n",
    "        # If it increases, it must have become larger than A.\n",
    "        for i in range(n):\n",
    "            if ans[i] < A[i]:\n",
    "                break\n",
    "            if ans[i] > A[i]:\n",
    "                return \"\".join(ans)\n",
    "\n",
    "        # If return is not executed, try to increase the value starting from mid until a value is increased.\n",
    "        for i in range(mid, -1, -1):\n",
    "            if ans[i] < '9':\n",
    "                ans[i] = chr(ord(ans[i]) + 1)\n",
    "                ans[n - i - 1] = ans[i]\n",
    "                return \"\".join(ans)\n",
    "            elif ans[i] == '9':\n",
    "                ans[i] = '0'\n",
    "                ans[n - i - 1] = '0'\n",
    "\n",
    "        # If not returned, then all the digits must be 9. Handle it in the last.\n",
    "        temp = \"1\" + \"0\" * (n - 1) + \"1\"\n",
    "        return temp"
   ]
  },
  {
   "cell_type": "code",
   "execution_count": 7,
   "metadata": {},
   "outputs": [
    {
     "data": {
      "text/plain": [
       "'23632'"
      ]
     },
     "execution_count": 7,
     "metadata": {},
     "output_type": "execute_result"
    }
   ],
   "source": [
    "A = \"23545\"\n",
    "sol = Solution()\n",
    "sol.solve(A)"
   ]
  },
  {
   "cell_type": "code",
   "execution_count": 8,
   "metadata": {},
   "outputs": [
    {
     "data": {
      "text/plain": [
       "'24042'"
      ]
     },
     "execution_count": 8,
     "metadata": {},
     "output_type": "execute_result"
    }
   ],
   "source": [
    "A = \"23945\"\n",
    "sol = Solution()\n",
    "sol.solve(A)"
   ]
  },
  {
   "cell_type": "code",
   "execution_count": 9,
   "metadata": {},
   "outputs": [
    {
     "data": {
      "text/plain": [
       "'1001'"
      ]
     },
     "execution_count": 9,
     "metadata": {},
     "output_type": "execute_result"
    }
   ],
   "source": [
    "A = \"999\"\n",
    "sol = Solution()\n",
    "sol.solve(A)"
   ]
  }
 ],
 "metadata": {
  "kernelspec": {
   "display_name": "dsa-venv",
   "language": "python",
   "name": "python3"
  },
  "language_info": {
   "codemirror_mode": {
    "name": "ipython",
    "version": 3
   },
   "file_extension": ".py",
   "mimetype": "text/x-python",
   "name": "python",
   "nbconvert_exporter": "python",
   "pygments_lexer": "ipython3",
   "version": "3.11.3"
  }
 },
 "nbformat": 4,
 "nbformat_minor": 2
}
