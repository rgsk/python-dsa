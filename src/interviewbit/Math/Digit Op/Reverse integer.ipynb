{
 "cells": [
  {
   "cell_type": "code",
   "execution_count": 5,
   "metadata": {},
   "outputs": [],
   "source": [
    "# https://www.interviewbit.com/problems/reverse-integer/"
   ]
  },
  {
   "cell_type": "code",
   "execution_count": 6,
   "metadata": {},
   "outputs": [],
   "source": [
    "INT_MAX = (2 ** 31)-1\n",
    "\n",
    "class Solution:\n",
    "    # @param A : integer\n",
    "    # @return an integer\n",
    "    def reverse(self, A):\n",
    "        neg = A < 0\n",
    "        if neg:\n",
    "            A = -A\n",
    "        r = 0\n",
    "        temp = A\n",
    "        while temp > 0:\n",
    "            r = r * 10 + temp % 10\n",
    "            temp //= 10\n",
    "        if neg:\n",
    "            if r > INT_MAX + 1:\n",
    "                return 0\n",
    "            return -r\n",
    "        else:\n",
    "            if r > INT_MAX:\n",
    "                return 0\n",
    "            return r"
   ]
  },
  {
   "cell_type": "code",
   "execution_count": 7,
   "metadata": {},
   "outputs": [
    {
     "data": {
      "text/plain": [
       "321"
      ]
     },
     "execution_count": 7,
     "metadata": {},
     "output_type": "execute_result"
    }
   ],
   "source": [
    "x = 123\n",
    "sol = Solution()\n",
    "sol.reverse(x)"
   ]
  },
  {
   "cell_type": "code",
   "execution_count": 8,
   "metadata": {},
   "outputs": [
    {
     "data": {
      "text/plain": [
       "-321"
      ]
     },
     "execution_count": 8,
     "metadata": {},
     "output_type": "execute_result"
    }
   ],
   "source": [
    "x = -123\n",
    "sol = Solution()\n",
    "sol.reverse(x)"
   ]
  }
 ],
 "metadata": {
  "kernelspec": {
   "display_name": "dsa-venv",
   "language": "python",
   "name": "python3"
  },
  "language_info": {
   "codemirror_mode": {
    "name": "ipython",
    "version": 3
   },
   "file_extension": ".py",
   "mimetype": "text/x-python",
   "name": "python",
   "nbconvert_exporter": "python",
   "pygments_lexer": "ipython3",
   "version": "3.11.3"
  }
 },
 "nbformat": 4,
 "nbformat_minor": 2
}
