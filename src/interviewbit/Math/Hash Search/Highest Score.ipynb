{
 "cells": [
  {
   "cell_type": "code",
   "execution_count": 5,
   "metadata": {},
   "outputs": [],
   "source": [
    "# https://www.interviewbit.com/problems/highest-score/"
   ]
  },
  {
   "cell_type": "code",
   "execution_count": 6,
   "metadata": {},
   "outputs": [],
   "source": [
    "from collections import defaultdict\n",
    "\n",
    "\n",
    "class Solution:\n",
    "    # @param A : list of list of strings\n",
    "    # @return an integer\n",
    "    def highestScore(self, A):\n",
    "        marks_total = defaultdict(int)\n",
    "        subjects_total = defaultdict(int)\n",
    "        for name, marks in A:\n",
    "            marks_total[name] += int(marks)\n",
    "            subjects_total[name] += 1\n",
    "        max_avg = 0\n",
    "        for name in marks_total:\n",
    "            max_avg = max(max_avg, marks_total[name] // subjects_total[name])\n",
    "        return max_avg"
   ]
  },
  {
   "cell_type": "code",
   "execution_count": 7,
   "metadata": {},
   "outputs": [
    {
     "data": {
      "text/plain": [
       "90"
      ]
     },
     "execution_count": 7,
     "metadata": {},
     "output_type": "execute_result"
    }
   ],
   "source": [
    "A = [[\"Bob\", \"80\"], [\"Bob\", \"90\"], [\"Alice\", \"90\"]]\n",
    "sol = Solution()\n",
    "sol.highestScore(A)"
   ]
  },
  {
   "cell_type": "code",
   "execution_count": 8,
   "metadata": {},
   "outputs": [
    {
     "data": {
      "text/plain": [
       "85"
      ]
     },
     "execution_count": 8,
     "metadata": {},
     "output_type": "execute_result"
    }
   ],
   "source": [
    "A = [[\"Bob\", \"80\"], [\"Bob\", \"90\"], [\"Alice\", \"90\"], [\"Alice\", \"10\"]]\n",
    "sol = Solution()\n",
    "sol.highestScore(A)"
   ]
  }
 ],
 "metadata": {
  "kernelspec": {
   "display_name": "dsa-venv",
   "language": "python",
   "name": "python3"
  },
  "language_info": {
   "codemirror_mode": {
    "name": "ipython",
    "version": 3
   },
   "file_extension": ".py",
   "mimetype": "text/x-python",
   "name": "python",
   "nbconvert_exporter": "python",
   "pygments_lexer": "ipython3",
   "version": "3.11.3"
  }
 },
 "nbformat": 4,
 "nbformat_minor": 2
}
