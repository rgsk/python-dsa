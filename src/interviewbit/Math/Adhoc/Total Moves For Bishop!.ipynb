{
 "cells": [
  {
   "cell_type": "code",
   "execution_count": 1,
   "metadata": {},
   "outputs": [],
   "source": [
    "# https://www.interviewbit.com/problems/total-moves-for-bishop/"
   ]
  },
  {
   "cell_type": "code",
   "execution_count": 2,
   "metadata": {},
   "outputs": [],
   "source": [
    "class Solution:\n",
    "    # @param A : integer\n",
    "    # @param B : integer\n",
    "    # @return an integer\n",
    "    def solve(self, r, c):\n",
    "        up = r - 1\n",
    "        down = 8 - r\n",
    "        left = c - 1\n",
    "        right = 8 - c\n",
    "\n",
    "        return min(up, left) + min(up, right) + min(down, left) + min(down, right)\n"
   ]
  },
  {
   "cell_type": "code",
   "execution_count": 3,
   "metadata": {},
   "outputs": [
    {
     "data": {
      "text/plain": [
       "13"
      ]
     },
     "execution_count": 3,
     "metadata": {},
     "output_type": "execute_result"
    }
   ],
   "source": [
    "A = 4\n",
    "B = 4\n",
    "sol = Solution()\n",
    "sol.solve(A, B)"
   ]
  }
 ],
 "metadata": {
  "kernelspec": {
   "display_name": "dsa-venv",
   "language": "python",
   "name": "python3"
  },
  "language_info": {
   "codemirror_mode": {
    "name": "ipython",
    "version": 3
   },
   "file_extension": ".py",
   "mimetype": "text/x-python",
   "name": "python",
   "nbconvert_exporter": "python",
   "pygments_lexer": "ipython3",
   "version": "3.11.3"
  }
 },
 "nbformat": 4,
 "nbformat_minor": 2
}
