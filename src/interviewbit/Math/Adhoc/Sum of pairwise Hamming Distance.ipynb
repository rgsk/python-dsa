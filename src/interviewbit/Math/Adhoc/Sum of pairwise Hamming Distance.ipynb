{
 "cells": [
  {
   "cell_type": "code",
   "execution_count": 1,
   "metadata": {},
   "outputs": [],
   "source": [
    "# https://www.interviewbit.com/problems/sum-of-pairwise-hamming-distance/"
   ]
  },
  {
   "cell_type": "code",
   "execution_count": 2,
   "metadata": {},
   "outputs": [],
   "source": [
    "# https://www.interviewbit.com/problems/sum-of-pairwise-hamming-distance/hints/\n",
    "\n",
    "mod = 1000000007\n",
    "class Solution:\n",
    "    # @param A : tuple of integers\n",
    "    # @return an integer\n",
    "    def hammingDistance(self, a):\n",
    "        counts = [0]*32\n",
    "        for e in a:\n",
    "            for i in range(32):\n",
    "                counts[i] += (e>>i)&1\n",
    "                \n",
    "        # print(counts)\n",
    "        n = len(a)\n",
    "        res = 0\n",
    "        for c in counts:\n",
    "            res += 2*c*(n-c)\n",
    "            \n",
    "        return res%mod"
   ]
  },
  {
   "cell_type": "code",
   "execution_count": 3,
   "metadata": {},
   "outputs": [
    {
     "data": {
      "text/plain": [
       "8"
      ]
     },
     "execution_count": 3,
     "metadata": {},
     "output_type": "execute_result"
    }
   ],
   "source": [
    "A = [2, 4, 6]\n",
    "sol = Solution()\n",
    "sol.hammingDistance(A)"
   ]
  }
 ],
 "metadata": {
  "kernelspec": {
   "display_name": "dsa-venv",
   "language": "python",
   "name": "python3"
  },
  "language_info": {
   "codemirror_mode": {
    "name": "ipython",
    "version": 3
   },
   "file_extension": ".py",
   "mimetype": "text/x-python",
   "name": "python",
   "nbconvert_exporter": "python",
   "pygments_lexer": "ipython3",
   "version": "3.11.3"
  }
 },
 "nbformat": 4,
 "nbformat_minor": 2
}
