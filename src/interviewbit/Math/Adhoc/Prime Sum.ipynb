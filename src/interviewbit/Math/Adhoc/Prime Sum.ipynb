{
 "cells": [
  {
   "cell_type": "code",
   "execution_count": 31,
   "metadata": {},
   "outputs": [],
   "source": [
    "# https://www.interviewbit.com/problems/prime-sum/"
   ]
  },
  {
   "cell_type": "code",
   "execution_count": 32,
   "metadata": {},
   "outputs": [],
   "source": [
    "import math\n",
    "from typing import List\n",
    "\n",
    "# Sieve of Erathones\n",
    "class Solution:\n",
    "    def primesum(self, n: int) -> List[int]:\n",
    "        is_prime = [True] * (n + 1)\n",
    "        is_prime[0], is_prime[1] = False, False\n",
    "\n",
    "        for i in range(2, int(math.sqrt(n)) + 1):\n",
    "            if is_prime[i]:\n",
    "                for j in range(i * 2, n + 1, i):\n",
    "                    is_prime[j] = False\n",
    "\n",
    "        for i in range(2, n):\n",
    "            if is_prime[i] and is_prime[n - i]:\n",
    "                return [i, n - i]\n",
    "\n",
    "        return []"
   ]
  },
  {
   "cell_type": "code",
   "execution_count": 33,
   "metadata": {},
   "outputs": [],
   "source": [
    "# much faster than Sieve of Erathones\n",
    "class Solution:\n",
    "    # @param A : integer\n",
    "    # @return a list of integers\n",
    "    def primesum(self, A):\n",
    "                \n",
    "        import math\n",
    "        def isPrime(n):\n",
    "            if n <= 1:\n",
    "                return False\n",
    "\n",
    "            for i in range(2, int(math.sqrt(n)) + 1):\n",
    "                if n%i == 0:\n",
    "                    return False\n",
    "            return True\n",
    "\n",
    "\n",
    "        for val in range(A):\n",
    "            if isPrime(val) and isPrime(A - val):\n",
    "                return([val, A-val])"
   ]
  },
  {
   "cell_type": "code",
   "execution_count": 34,
   "metadata": {},
   "outputs": [
    {
     "data": {
      "text/plain": [
       "[2, 2]"
      ]
     },
     "execution_count": 34,
     "metadata": {},
     "output_type": "execute_result"
    }
   ],
   "source": [
    "A = 4\n",
    "sol = Solution()\n",
    "sol.primesum(A)"
   ]
  },
  {
   "cell_type": "code",
   "execution_count": 35,
   "metadata": {},
   "outputs": [
    {
     "data": {
      "text/plain": [
       "[3, 5]"
      ]
     },
     "execution_count": 35,
     "metadata": {},
     "output_type": "execute_result"
    }
   ],
   "source": [
    "A = 8\n",
    "sol = Solution()\n",
    "sol.primesum(A)"
   ]
  },
  {
   "cell_type": "code",
   "execution_count": 36,
   "metadata": {},
   "outputs": [
    {
     "data": {
      "text/plain": [
       "[31, 16777183]"
      ]
     },
     "execution_count": 36,
     "metadata": {},
     "output_type": "execute_result"
    }
   ],
   "source": [
    "A = 16777214\n",
    "sol = Solution()\n",
    "sol.primesum(A)"
   ]
  }
 ],
 "metadata": {
  "kernelspec": {
   "display_name": "dsa-venv",
   "language": "python",
   "name": "python3"
  },
  "language_info": {
   "codemirror_mode": {
    "name": "ipython",
    "version": 3
   },
   "file_extension": ".py",
   "mimetype": "text/x-python",
   "name": "python",
   "nbconvert_exporter": "python",
   "pygments_lexer": "ipython3",
   "version": "3.11.3"
  }
 },
 "nbformat": 4,
 "nbformat_minor": 2
}
