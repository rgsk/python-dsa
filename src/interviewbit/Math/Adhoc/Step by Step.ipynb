{
 "cells": [
  {
   "cell_type": "code",
   "execution_count": 25,
   "metadata": {},
   "outputs": [],
   "source": [
    "# https://www.interviewbit.com/problems/step-by-step/"
   ]
  },
  {
   "cell_type": "code",
   "execution_count": null,
   "metadata": {},
   "outputs": [],
   "source": [
    "# https://www.youtube.com/watch?v=zwYchxygB98"
   ]
  },
  {
   "cell_type": "code",
   "execution_count": 26,
   "metadata": {},
   "outputs": [],
   "source": [
    "class Solution:\n",
    "    # @param A : integer\n",
    "    # @return an integer\n",
    "    def solve(self, A):\n",
    "        if A < 0:\n",
    "            A = -A\n",
    "        i = 0\n",
    "        running_sum = 0\n",
    "\n",
    "        # this step can be done in shorter time\n",
    "        # see below\n",
    "        while running_sum < A:\n",
    "            i += 1\n",
    "            running_sum += i\n",
    "\n",
    "        while (running_sum - A) % 2 != 0:\n",
    "            i += 1\n",
    "            running_sum += i\n",
    "        \n",
    "        return i"
   ]
  },
  {
   "cell_type": "markdown",
   "metadata": {},
   "source": [
    "<img src=\"./../../../../images/Screenshot 2024-01-19 at 3.28.32 PM.png\" width=\"500\" >\n",
    "<img src=\"./../../../../images/WhatsApp Image 2024-01-19 at 3.30.21 PM.jpeg\" width=\"500\" >\n",
    "\n",
    "\n",
    "for eg for 5\n",
    "\n",
    "1 + 2 + 3 + 4 + 5 = 15\n",
    "\n",
    "turning the numbers whose sum is (15 - 5) // 2 ie. 5, negative would cause total to reach 5\n",
    "\n",
    "for eg. we can turn 5 -> -5\n",
    "\n",
    "or both 2 and 3 as negative\n",
    "\n",
    "or 1 and 4 as negative"
   ]
  },
  {
   "cell_type": "code",
   "execution_count": 27,
   "metadata": {},
   "outputs": [],
   "source": [
    "from math import sqrt\n",
    "\n",
    "\n",
    "class Solution:\n",
    "    # @param A : integer\n",
    "    # @return an integer\n",
    "    def solve(self, A):\n",
    "        if A < 0:\n",
    "            # symmetry\n",
    "            A = -A\n",
    "            \n",
    "        n = int((sqrt(1 + 8*A) - 1) // 2)\n",
    "        running_sum = (n * (n + 1)) // 2\n",
    "\n",
    "        if running_sum < A:\n",
    "            n += 1\n",
    "            running_sum += n\n",
    "\n",
    "        while (running_sum - A) % 2 != 0:\n",
    "            n += 1\n",
    "            running_sum += n\n",
    "        \n",
    "        return n"
   ]
  },
  {
   "cell_type": "code",
   "execution_count": 28,
   "metadata": {},
   "outputs": [
    {
     "data": {
      "text/plain": [
       "2"
      ]
     },
     "execution_count": 28,
     "metadata": {},
     "output_type": "execute_result"
    }
   ],
   "source": [
    "A = 3\n",
    "sol = Solution()\n",
    "sol.solve(A)"
   ]
  },
  {
   "cell_type": "code",
   "execution_count": 29,
   "metadata": {},
   "outputs": [
    {
     "data": {
      "text/plain": [
       "3"
      ]
     },
     "execution_count": 29,
     "metadata": {},
     "output_type": "execute_result"
    }
   ],
   "source": [
    "A = 2\n",
    "sol = Solution()\n",
    "sol.solve(A)"
   ]
  },
  {
   "cell_type": "code",
   "execution_count": 30,
   "metadata": {},
   "outputs": [
    {
     "data": {
      "text/plain": [
       "5"
      ]
     },
     "execution_count": 30,
     "metadata": {},
     "output_type": "execute_result"
    }
   ],
   "source": [
    "A = 5\n",
    "sol = Solution()\n",
    "sol.solve(A)"
   ]
  },
  {
   "cell_type": "code",
   "execution_count": 31,
   "metadata": {},
   "outputs": [
    {
     "data": {
      "text/plain": [
       "13"
      ]
     },
     "execution_count": 31,
     "metadata": {},
     "output_type": "execute_result"
    }
   ],
   "source": [
    "A = -67\n",
    "sol = Solution()\n",
    "sol.solve(A)"
   ]
  }
 ],
 "metadata": {
  "kernelspec": {
   "display_name": "dsa-venv",
   "language": "python",
   "name": "python3"
  },
  "language_info": {
   "codemirror_mode": {
    "name": "ipython",
    "version": 3
   },
   "file_extension": ".py",
   "mimetype": "text/x-python",
   "name": "python",
   "nbconvert_exporter": "python",
   "pygments_lexer": "ipython3",
   "version": "3.11.3"
  }
 },
 "nbformat": 4,
 "nbformat_minor": 2
}
