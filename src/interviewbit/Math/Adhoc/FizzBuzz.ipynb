{
 "cells": [
  {
   "cell_type": "code",
   "execution_count": 12,
   "metadata": {},
   "outputs": [],
   "source": [
    "# https://www.interviewbit.com/problems/fizzbuzz/"
   ]
  },
  {
   "cell_type": "code",
   "execution_count": 13,
   "metadata": {},
   "outputs": [],
   "source": [
    "class Solution:\n",
    "    # @param A : integer\n",
    "    # @return a list of strings\n",
    "    def fizzBuzz(self, A):\n",
    "        ans = [str(v) for v in range(A + 1)]\n",
    "\n",
    "        for i in range(3, A + 1, 3):\n",
    "            ans[i] = 'Fizz'\n",
    "        for i in range(5, A + 1, 5):\n",
    "            ans[i] = 'Buzz'\n",
    "        for i in range(15, A + 1, 15):\n",
    "            ans[i] = 'FizzBuzz'\n",
    "        ans.pop(0)\n",
    "        return ans"
   ]
  },
  {
   "cell_type": "code",
   "execution_count": 14,
   "metadata": {},
   "outputs": [],
   "source": [
    "class Solution:\n",
    "    # @param A : integer\n",
    "    # @return a list of strings\n",
    "    def fizzBuzz(self, A):\n",
    "        sol = []\n",
    "        for i in range(1, A+1):\n",
    "            if(i % 3 == 0 and i % 5 == 0):\n",
    "                sol.append(\"FizzBuzz\")\n",
    "            elif(i % 3 == 0):\n",
    "                sol.append(\"Fizz\")\n",
    "            elif(i % 5 == 0):\n",
    "                sol.append(\"Buzz\")\n",
    "            else:\n",
    "                sol.append(i)\n",
    "        return sol"
   ]
  },
  {
   "cell_type": "code",
   "execution_count": 15,
   "metadata": {},
   "outputs": [
    {
     "data": {
      "text/plain": [
       "[1, 2, 'Fizz', 4, 'Buzz']"
      ]
     },
     "execution_count": 15,
     "metadata": {},
     "output_type": "execute_result"
    }
   ],
   "source": [
    "A = 5\n",
    "sol = Solution()\n",
    "sol.fizzBuzz(A)"
   ]
  },
  {
   "cell_type": "code",
   "execution_count": 16,
   "metadata": {},
   "outputs": [
    {
     "data": {
      "text/plain": [
       "[1,\n",
       " 2,\n",
       " 'Fizz',\n",
       " 4,\n",
       " 'Buzz',\n",
       " 'Fizz',\n",
       " 7,\n",
       " 8,\n",
       " 'Fizz',\n",
       " 'Buzz',\n",
       " 11,\n",
       " 'Fizz',\n",
       " 13,\n",
       " 14,\n",
       " 'FizzBuzz',\n",
       " 16,\n",
       " 17,\n",
       " 'Fizz',\n",
       " 19,\n",
       " 'Buzz']"
      ]
     },
     "execution_count": 16,
     "metadata": {},
     "output_type": "execute_result"
    }
   ],
   "source": [
    "A = 20\n",
    "sol = Solution()\n",
    "sol.fizzBuzz(A)"
   ]
  }
 ],
 "metadata": {
  "kernelspec": {
   "display_name": "dsa-venv",
   "language": "python",
   "name": "python3"
  },
  "language_info": {
   "codemirror_mode": {
    "name": "ipython",
    "version": 3
   },
   "file_extension": ".py",
   "mimetype": "text/x-python",
   "name": "python",
   "nbconvert_exporter": "python",
   "pygments_lexer": "ipython3",
   "version": "3.11.3"
  }
 },
 "nbformat": 4,
 "nbformat_minor": 2
}
