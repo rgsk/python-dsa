{
 "cells": [
  {
   "cell_type": "code",
   "execution_count": 4,
   "metadata": {},
   "outputs": [],
   "source": [
    "# https://www.interviewbit.com/problems/sorted-permutation-rank/"
   ]
  },
  {
   "cell_type": "code",
   "execution_count": 5,
   "metadata": {},
   "outputs": [],
   "source": [
    "class Solution:\n",
    "    # @param A : string\n",
    "    # @return an integer\n",
    "    def findRank(self, A):\n",
    "        import math\n",
    "        sum = 0\n",
    "        n = len(A)\n",
    "        B = sorted(A)\n",
    "\n",
    "        for i in range(len(A)):\n",
    "            for j in range(len(B)):\n",
    "                if B[j] == A[i]:\n",
    "                    k = j\n",
    "                    break\n",
    "            if k > 0:\n",
    "                sum = sum+k*math.factorial(n-1)\n",
    "            n = n-1\n",
    "            del (B[k])\n",
    "        return (sum+1) % 1000003"
   ]
  },
  {
   "cell_type": "code",
   "execution_count": 6,
   "metadata": {},
   "outputs": [
    {
     "data": {
      "text/plain": [
       "2"
      ]
     },
     "execution_count": 6,
     "metadata": {},
     "output_type": "execute_result"
    }
   ],
   "source": [
    "A = \"acb\"\n",
    "sol = Solution()\n",
    "sol.findRank(A)"
   ]
  },
  {
   "cell_type": "code",
   "execution_count": 7,
   "metadata": {},
   "outputs": [
    {
     "data": {
      "text/plain": [
       "6"
      ]
     },
     "execution_count": 7,
     "metadata": {},
     "output_type": "execute_result"
    }
   ],
   "source": [
    "A = \"cba\"\n",
    "sol = Solution()\n",
    "sol.findRank(A)"
   ]
  }
 ],
 "metadata": {
  "kernelspec": {
   "display_name": "dsa-venv",
   "language": "python",
   "name": "python3"
  },
  "language_info": {
   "codemirror_mode": {
    "name": "ipython",
    "version": 3
   },
   "file_extension": ".py",
   "mimetype": "text/x-python",
   "name": "python",
   "nbconvert_exporter": "python",
   "pygments_lexer": "ipython3",
   "version": "3.11.3"
  }
 },
 "nbformat": 4,
 "nbformat_minor": 2
}
