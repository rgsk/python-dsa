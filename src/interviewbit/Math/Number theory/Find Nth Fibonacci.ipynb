{
 "cells": [
  {
   "cell_type": "code",
   "execution_count": 56,
   "metadata": {},
   "outputs": [],
   "source": [
    "# https://www.interviewbit.com/problems/find-nth-fibonacci/"
   ]
  },
  {
   "cell_type": "code",
   "execution_count": 57,
   "metadata": {},
   "outputs": [],
   "source": [
    "mod = 10**9 + 7\n",
    "\n",
    "# works but TLE for larger inputs\n",
    "class Solution:\n",
    "    # @param A : integer\n",
    "    # @return an integer\n",
    "    def solve(self, A):\n",
    "        a = 1\n",
    "        b = 1\n",
    "        A -= 2\n",
    "        while A > 0:\n",
    "            a, b = a + b, a\n",
    "            A -= 1\n",
    "        return a % mod\n"
   ]
  },
  {
   "cell_type": "markdown",
   "metadata": {},
   "source": [
    "<img src=\"./../../../../images/Screenshot 2024-01-18 at 4.56.25 PM.png\" width=\"400\"  >\n"
   ]
  },
  {
   "cell_type": "code",
   "execution_count": 58,
   "metadata": {},
   "outputs": [],
   "source": [
    "# https://www.interviewbit.com/problems/find-nth-fibonacci/hints/\n",
    "\n",
    "\n",
    "def fib(n):\n",
    "\n",
    "    F = [[1, 1], [1, 0]]\n",
    "    if n == 0:\n",
    "        return 0\n",
    "    power(F, n - 1)\n",
    "\n",
    "    return F[0][0]\n",
    "\n",
    "\n",
    "def multiply(f, m):\n",
    "    mod = 1000000007\n",
    "\n",
    "    a = (f[0][0] * m[0][0] % mod + f[0][1] * m[1][0] % mod) % mod\n",
    "    b = (f[0][0] * m[0][1] % mod + f[0][1] * m[1][1] % mod) % mod\n",
    "    c = (f[1][0] * m[0][0] % mod + f[1][1] * m[1][0] % mod) % mod\n",
    "    d = (f[1][0] * m[0][1] % mod + f[1][1] * m[1][1] % mod) % mod\n",
    "    f[0][0] = a\n",
    "    f[0][1] = b\n",
    "    f[1][0] = c\n",
    "    f[1][1] = d\n",
    "\n",
    "\n",
    "# Optimized version of\n",
    "# power() in method 4\n",
    "\n",
    "def power(F, n):\n",
    "\n",
    "    if n == 0 or n == 1:\n",
    "        return\n",
    "    M = [[1, 1], [1, 0]]\n",
    "\n",
    "    power(F, n // 2)\n",
    "    multiply(F, F)\n",
    "\n",
    "    if n % 2 != 0:\n",
    "        multiply(F, M)\n",
    "\n",
    "\n",
    "class Solution:\n",
    "\n",
    "    # @param A : integer\n",
    "    # @return an integer\n",
    "\n",
    "    def solve(self, A):\n",
    "        return fib(A)"
   ]
  },
  {
   "cell_type": "code",
   "execution_count": 59,
   "metadata": {},
   "outputs": [
    {
     "data": {
      "text/plain": [
       "586268941"
      ]
     },
     "execution_count": 59,
     "metadata": {},
     "output_type": "execute_result"
    }
   ],
   "source": [
    "A = 50\n",
    "sol = Solution()\n",
    "sol.solve(A)"
   ]
  },
  {
   "cell_type": "code",
   "execution_count": 60,
   "metadata": {},
   "outputs": [
    {
     "data": {
      "text/plain": [
       "21"
      ]
     },
     "execution_count": 60,
     "metadata": {},
     "output_type": "execute_result"
    }
   ],
   "source": [
    "A = 1000000000\n",
    "sol = Solution()\n",
    "sol.solve(A)"
   ]
  },
  {
   "cell_type": "code",
   "execution_count": 61,
   "metadata": {},
   "outputs": [
    {
     "data": {
      "text/plain": [
       "1"
      ]
     },
     "execution_count": 61,
     "metadata": {},
     "output_type": "execute_result"
    }
   ],
   "source": [
    "A = 2\n",
    "sol = Solution()\n",
    "sol.solve(A)"
   ]
  },
  {
   "cell_type": "code",
   "execution_count": 62,
   "metadata": {},
   "outputs": [
    {
     "data": {
      "text/plain": [
       "3"
      ]
     },
     "execution_count": 62,
     "metadata": {},
     "output_type": "execute_result"
    }
   ],
   "source": [
    "A = 4\n",
    "sol = Solution()\n",
    "sol.solve(A)"
   ]
  },
  {
   "cell_type": "code",
   "execution_count": 63,
   "metadata": {},
   "outputs": [
    {
     "data": {
      "text/plain": [
       "2"
      ]
     },
     "execution_count": 63,
     "metadata": {},
     "output_type": "execute_result"
    }
   ],
   "source": [
    "A = 3\n",
    "sol = Solution()\n",
    "sol.solve(A)"
   ]
  },
  {
   "cell_type": "code",
   "execution_count": 64,
   "metadata": {},
   "outputs": [
    {
     "data": {
      "text/plain": [
       "5"
      ]
     },
     "execution_count": 64,
     "metadata": {},
     "output_type": "execute_result"
    }
   ],
   "source": [
    "A = 5\n",
    "sol = Solution()\n",
    "sol.solve(A)"
   ]
  },
  {
   "cell_type": "code",
   "execution_count": 65,
   "metadata": {},
   "outputs": [
    {
     "data": {
      "text/plain": [
       "8"
      ]
     },
     "execution_count": 65,
     "metadata": {},
     "output_type": "execute_result"
    }
   ],
   "source": [
    "A = 6\n",
    "sol = Solution()\n",
    "sol.solve(A)"
   ]
  }
 ],
 "metadata": {
  "kernelspec": {
   "display_name": "dsa-venv",
   "language": "python",
   "name": "python3"
  },
  "language_info": {
   "codemirror_mode": {
    "name": "ipython",
    "version": 3
   },
   "file_extension": ".py",
   "mimetype": "text/x-python",
   "name": "python",
   "nbconvert_exporter": "python",
   "pygments_lexer": "ipython3",
   "version": "3.11.3"
  }
 },
 "nbformat": 4,
 "nbformat_minor": 2
}
