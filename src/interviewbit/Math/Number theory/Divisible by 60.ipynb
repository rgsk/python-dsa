{
 "cells": [
  {
   "cell_type": "code",
   "execution_count": 20,
   "metadata": {},
   "outputs": [],
   "source": [
    "# https://www.interviewbit.com/problems/divisible-by-60/"
   ]
  },
  {
   "cell_type": "code",
   "execution_count": 21,
   "metadata": {},
   "outputs": [],
   "source": [
    "# taken from interview bit hints\n",
    "'''\n",
    "For a number to be divisible by a composite number, it should be divisible \n",
    "by the individual prime numbers raised to their highest powers.\n",
    "Here, 60 = 4 * 5 * 3.\n",
    "Now, we have to make sure that the number is divisible by 3, 4, 5.\n",
    "For, a number to be divisible by 5, the last digit should be either 0 or 5.\n",
    "For, a number to be divisible by 4, the last two digits should be divisible by 4.\n",
    "Hence, here for a number to be divisble by 4 & 5, the last digits should be 0, \n",
    "and the second last digits should be even.\n",
    "\n",
    "Next, for a number to be divisible by 3, the sum of digits should be divisible by 3.\n",
    "Hence, if the given array sum is divisible by 3 and contains 0 and an another even digit, \n",
    "then there exists a permutation which is divisible by 60.\n",
    "'''\n",
    "\n",
    "class Solution:\n",
    "    # @param A : list of integers\n",
    "    # @return an integer\n",
    "    def divisibleBy60(self, A):\n",
    "        if (len(A)==1) and (A[0]==0):\n",
    "            return 1\n",
    "        total = sum(A)\n",
    "        contains_0 = False\n",
    "        another_even = False\n",
    "\n",
    "        for v in A:\n",
    "            if v == 0:\n",
    "                if contains_0:\n",
    "                    another_even = True\n",
    "                    break\n",
    "                else:\n",
    "                    contains_0 = True\n",
    "                    if another_even:\n",
    "                        break\n",
    "            elif v % 2 == 0:\n",
    "                another_even = True\n",
    "                if contains_0:\n",
    "                    break\n",
    "        return int(total % 3 == 0 and contains_0 and another_even)"
   ]
  },
  {
   "cell_type": "code",
   "execution_count": 22,
   "metadata": {},
   "outputs": [],
   "source": [
    "class Solution:\n",
    "    # @param A : list of integers\n",
    "    # @return an integer\n",
    "    def divisibleBy60(self, A):\n",
    "        # if 0, it is divisible\n",
    "        if (len(A)==1) and (A[0]==0):\n",
    "            return 1\n",
    "        # else, it is divisible if it is divisible by 3, 4 and 5\n",
    "        return int((0 in A) and (sum(A)%3==0) and (len([i for i in A if i%2==0])>=2))"
   ]
  },
  {
   "cell_type": "code",
   "execution_count": 23,
   "metadata": {},
   "outputs": [
    {
     "data": {
      "text/plain": [
       "1"
      ]
     },
     "execution_count": 23,
     "metadata": {},
     "output_type": "execute_result"
    }
   ],
   "source": [
    "A = [0, 6]\n",
    "sol = Solution()\n",
    "sol.divisibleBy60(A)"
   ]
  },
  {
   "cell_type": "code",
   "execution_count": 24,
   "metadata": {},
   "outputs": [
    {
     "data": {
      "text/plain": [
       "0"
      ]
     },
     "execution_count": 24,
     "metadata": {},
     "output_type": "execute_result"
    }
   ],
   "source": [
    "A = [2, 3]\n",
    "sol = Solution()\n",
    "sol.divisibleBy60(A)"
   ]
  }
 ],
 "metadata": {
  "kernelspec": {
   "display_name": "dsa-venv",
   "language": "python",
   "name": "python3"
  },
  "language_info": {
   "codemirror_mode": {
    "name": "ipython",
    "version": 3
   },
   "file_extension": ".py",
   "mimetype": "text/x-python",
   "name": "python",
   "nbconvert_exporter": "python",
   "pygments_lexer": "ipython3",
   "version": "3.11.3"
  }
 },
 "nbformat": 4,
 "nbformat_minor": 2
}
