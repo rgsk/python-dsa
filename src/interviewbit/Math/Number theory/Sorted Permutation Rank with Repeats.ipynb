{
 "cells": [
  {
   "cell_type": "code",
   "execution_count": 10,
   "metadata": {},
   "outputs": [],
   "source": [
    "# https://www.interviewbit.com/problems/sorted-permutation-rank-with-repeats/"
   ]
  },
  {
   "cell_type": "code",
   "execution_count": 11,
   "metadata": {},
   "outputs": [],
   "source": [
    "class Solution:\n",
    "    # @param A : string\n",
    "    # @return an integer\n",
    "    def findRank(self, A):\n",
    "        import math\n",
    "        sum = 0\n",
    "        n = len(A)\n",
    "        B = sorted(A)\n",
    "        d = 1\n",
    "\n",
    "        for i in range(len(A)):\n",
    "            d_count = 1\n",
    "            for j in range(len(B)):\n",
    "                if B[j] == A[i]:\n",
    "                    k = j\n",
    "                    break\n",
    "            if k > 0:\n",
    "                for j in range(1, len(B)):\n",
    "                    if B[j] == B[j-1]:\n",
    "                        d += 1\n",
    "                    else:\n",
    "                        d_count = d_count*math.factorial(d)\n",
    "                        d = 1\n",
    "\n",
    "                d_count = d_count*math.factorial(d)\n",
    "                d = 1\n",
    "                sum = sum+k*math.factorial(n-1)//d_count\n",
    "            n = n-1\n",
    "            del (B[k])\n",
    "        return (sum+1) % 1000003"
   ]
  },
  {
   "cell_type": "code",
   "execution_count": 12,
   "metadata": {},
   "outputs": [
    {
     "data": {
      "text/plain": [
       "2"
      ]
     },
     "execution_count": 12,
     "metadata": {},
     "output_type": "execute_result"
    }
   ],
   "source": [
    "A = \"aba\"\n",
    "sol = Solution()\n",
    "sol.findRank(A)"
   ]
  },
  {
   "cell_type": "code",
   "execution_count": 13,
   "metadata": {},
   "outputs": [
    {
     "data": {
      "text/plain": [
       "4"
      ]
     },
     "execution_count": 13,
     "metadata": {},
     "output_type": "execute_result"
    }
   ],
   "source": [
    "A = \"bca\"\n",
    "sol = Solution()\n",
    "sol.findRank(A)"
   ]
  }
 ],
 "metadata": {
  "kernelspec": {
   "display_name": "dsa-venv",
   "language": "python",
   "name": "python3"
  },
  "language_info": {
   "codemirror_mode": {
    "name": "ipython",
    "version": 3
   },
   "file_extension": ".py",
   "mimetype": "text/x-python",
   "name": "python",
   "nbconvert_exporter": "python",
   "pygments_lexer": "ipython3",
   "version": "3.11.3"
  }
 },
 "nbformat": 4,
 "nbformat_minor": 2
}
