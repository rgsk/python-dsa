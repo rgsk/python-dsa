{
 "cells": [
  {
   "cell_type": "code",
   "execution_count": 122,
   "metadata": {},
   "outputs": [],
   "source": [
    "# https://www.interviewbit.com/problems/powerful-divisors/"
   ]
  },
  {
   "cell_type": "code",
   "execution_count": 123,
   "metadata": {},
   "outputs": [],
   "source": [
    "from math import floor, log2\n",
    "\n",
    "\n",
    "class Solution:\n",
    "    # @param A : list of integers\n",
    "    # @return a list of integers\n",
    "    def powerfulDivisors(self, A):\n",
    "        max_value = max(A)\n",
    "        divisors = [0] * (max_value + 1)\n",
    "        for v in range(1, max_value + 1):\n",
    "            t = v\n",
    "            while t <= max_value:\n",
    "                divisors[t] += 1 \n",
    "                t += v\n",
    "        power_2 = [1 if v != 0 and pow(2, floor(log2(v))) == v else 0 for v in divisors]\n",
    "        prefix_sum = [0] * (max_value + 2)\n",
    "        for i in range(1, max_value + 2):\n",
    "            prefix_sum[i] = prefix_sum[i-1] + power_2[i - 1]\n",
    "        ans = [0] * len(A)\n",
    "        for i in range(len(A)):\n",
    "            ans[i] = prefix_sum[A[i] + 1] - prefix_sum[1]\n",
    "        return ans"
   ]
  },
  {
   "cell_type": "code",
   "execution_count": 124,
   "metadata": {},
   "outputs": [],
   "source": [
    "from math import floor, log2\n",
    "\n",
    "def is_power_2(v):\n",
    "    return pow(2, floor(log2(v))) == v\n",
    "\n",
    "class Solution:\n",
    "    # @param A : list of integers\n",
    "    # @return a list of integers\n",
    "    def powerfulDivisors(self, A):\n",
    "        max_value = max(A)\n",
    "        divisors = [0] * (max_value + 1)\n",
    "        for v in range(1, max_value + 1):\n",
    "            t = v\n",
    "            while t <= max_value:\n",
    "                divisors[t] += 1 \n",
    "                t += v\n",
    "        power_2 = [0] * (max_value + 1)\n",
    "        for i in range(1, max_value + 1):\n",
    "            if is_power_2(divisors[i]):\n",
    "                power_2[i] = 1\n",
    "        for i in range(1, max_value + 1):\n",
    "            power_2[i] += power_2[i-1]\n",
    "        ans = [0] * len(A)\n",
    "        for i in range(len(A)):\n",
    "            ans[i] = power_2[A[i]]\n",
    "        return ans"
   ]
  },
  {
   "cell_type": "markdown",
   "metadata": {},
   "source": [
    "<img src=\"./../../../../images/WhatsApp Image 2024-01-18 at 1.52.43 PM.jpeg\" width=\"400\"  >\n",
    "\n",
    "\n",
    "here we are considering only 4 bits\n",
    "\n",
    "in 32 bits representation\n",
    "8 would\n",
    "\n",
    "0 28 times, then 1, then 0 three times\n",
    "\n",
    "and -8 will be 1 29 times and then 0 3 times\n",
    "\n",
    "and 8 & -8 would be 8\n",
    "\n",
    "this holds for only powers of 2"
   ]
  },
  {
   "cell_type": "code",
   "execution_count": 125,
   "metadata": {},
   "outputs": [],
   "source": [
    "def is_power_2(x):\n",
    "    return x == (-x & x)\n",
    "\n",
    "class Solution:\n",
    "    # @param A : list of integers\n",
    "    # @return a list of integers\n",
    "    def powerfulDivisors(self, A):\n",
    "        max_value = max(A)\n",
    "        divisors = [0] * (max_value + 1)\n",
    "        for v in range(1, max_value + 1):\n",
    "            t = v\n",
    "            while t <= max_value:\n",
    "                divisors[t] += 1 \n",
    "                t += v\n",
    "        power_2 = [0] * (max_value + 1)\n",
    "        for i in range(1, max_value + 1):\n",
    "            if is_power_2(divisors[i]):\n",
    "                power_2[i] = 1\n",
    "        for i in range(1, max_value + 1):\n",
    "            power_2[i] += power_2[i-1]\n",
    "        ans = [0] * len(A)\n",
    "        for i in range(len(A)):\n",
    "            ans[i] = power_2[A[i]]\n",
    "        return ans"
   ]
  },
  {
   "cell_type": "code",
   "execution_count": 126,
   "metadata": {},
   "outputs": [
    {
     "data": {
      "text/plain": [
       "[1, 3]"
      ]
     },
     "execution_count": 126,
     "metadata": {},
     "output_type": "execute_result"
    }
   ],
   "source": [
    "A = [1, 4]\n",
    "sol = Solution()\n",
    "sol.powerfulDivisors(A)"
   ]
  },
  {
   "cell_type": "code",
   "execution_count": 127,
   "metadata": {},
   "outputs": [
    {
     "data": {
      "text/plain": [
       "[4, 8]"
      ]
     },
     "execution_count": 127,
     "metadata": {},
     "output_type": "execute_result"
    }
   ],
   "source": [
    "A = [5, 10]\n",
    "sol = Solution()\n",
    "sol.powerfulDivisors(A)"
   ]
  },
  {
   "cell_type": "code",
   "execution_count": null,
   "metadata": {},
   "outputs": [],
   "source": []
  }
 ],
 "metadata": {
  "kernelspec": {
   "display_name": "dsa-venv",
   "language": "python",
   "name": "python3"
  },
  "language_info": {
   "codemirror_mode": {
    "name": "ipython",
    "version": 3
   },
   "file_extension": ".py",
   "mimetype": "text/x-python",
   "name": "python",
   "nbconvert_exporter": "python",
   "pygments_lexer": "ipython3",
   "version": "3.11.3"
  }
 },
 "nbformat": 4,
 "nbformat_minor": 2
}
