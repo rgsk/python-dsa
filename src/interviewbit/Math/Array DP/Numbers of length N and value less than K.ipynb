{
 "cells": [
  {
   "cell_type": "code",
   "execution_count": 43,
   "metadata": {},
   "outputs": [],
   "source": [
    "# https://www.interviewbit.com/problems/numbers-of-length-n-and-value-less-than-k/"
   ]
  },
  {
   "cell_type": "markdown",
   "metadata": {},
   "source": [
    "<img src=\"./../../../../images/PW Flows-28.jpg\" width=\"400\" >\n",
    "<img src=\"./../../../../images/PW Flows-29.jpg\" width=\"400\" >\n",
    "<img src=\"./../../../../images/PW Flows-30.jpg\" width=\"400\" >"
   ]
  },
  {
   "cell_type": "code",
   "execution_count": 44,
   "metadata": {},
   "outputs": [],
   "source": [
    "class Solution:\n",
    "    \n",
    "                \n",
    "    \n",
    "    def solve(self, A, B, C):\n",
    "        if len(A) == 0:\n",
    "            return 0\n",
    "        C_arr = str(C)\n",
    "        nA = len(A)\n",
    "        nC = len(C_arr)\n",
    "        if nC < B:\n",
    "            return 0\n",
    "        if nC > B:\n",
    "            if A[0] == 0:\n",
    "                ans = (nA - 1) * (nA ** (B-1))\n",
    "                if B == 1:\n",
    "                    return 1 + ans\n",
    "                return ans\n",
    "            else:\n",
    "                return (nA ** B)\n",
    "        def helper(remaining):\n",
    "            if remaining == 0:\n",
    "                return 0\n",
    "            i = B - remaining\n",
    "            digit = int(C_arr[i])\n",
    "            rt = 0\n",
    "            for x in A:\n",
    "                if i == 0 and x == 0 and B != 1: \n",
    "                    # don't consider 0 as first digit unless B == 1\n",
    "                    continue\n",
    "                if x > digit:\n",
    "                    break\n",
    "                if x == digit:\n",
    "                    rt = rt + helper(remaining-1)\n",
    "                else:\n",
    "                    rt = rt + nA**(remaining-1)\n",
    "            return rt\n",
    "        return helper(B)"
   ]
  },
  {
   "cell_type": "code",
   "execution_count": 45,
   "metadata": {},
   "outputs": [
    {
     "data": {
      "text/plain": [
       "2"
      ]
     },
     "execution_count": 45,
     "metadata": {},
     "output_type": "execute_result"
    }
   ],
   "source": [
    "A = [0, 1, 5]\n",
    "B = 1\n",
    "C = 2\n",
    "sol = Solution()\n",
    "sol.solve(A, B, C)"
   ]
  },
  {
   "cell_type": "code",
   "execution_count": 46,
   "metadata": {},
   "outputs": [
    {
     "data": {
      "text/plain": [
       "5"
      ]
     },
     "execution_count": 46,
     "metadata": {},
     "output_type": "execute_result"
    }
   ],
   "source": [
    "A = [0, 1, 2, 5]\n",
    "B = 2\n",
    "C = 21\n",
    "sol = Solution()\n",
    "sol.solve(A, B, C)"
   ]
  }
 ],
 "metadata": {
  "kernelspec": {
   "display_name": "dsa-venv",
   "language": "python",
   "name": "python3"
  },
  "language_info": {
   "codemirror_mode": {
    "name": "ipython",
    "version": 3
   },
   "file_extension": ".py",
   "mimetype": "text/x-python",
   "name": "python",
   "nbconvert_exporter": "python",
   "pygments_lexer": "ipython3",
   "version": "3.11.3"
  }
 },
 "nbformat": 4,
 "nbformat_minor": 2
}
