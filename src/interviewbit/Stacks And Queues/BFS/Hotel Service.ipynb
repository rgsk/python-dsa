{
 "cells": [
  {
   "cell_type": "code",
   "execution_count": 39,
   "metadata": {},
   "outputs": [],
   "source": [
    "# https://www.interviewbit.com/problems/hotel-service/"
   ]
  },
  {
   "cell_type": "code",
   "execution_count": 40,
   "metadata": {},
   "outputs": [],
   "source": [
    "from collections import deque\n",
    "\n",
    "ops = [(-1,0),(1,0),(0,-1),(0,1)]\n",
    "\n",
    "class Solution:\n",
    "    # @param A : list of list of integers\n",
    "    # @param B : list of list of integers\n",
    "    # @return a list of integers\n",
    "    def nearestHotel(self, A, B):\n",
    "        rows = len(A)\n",
    "        cols = len(A[0])\n",
    "        def bfs(i, j):\n",
    "            q = deque()\n",
    "            q.append((i, j))\n",
    "            d = 0\n",
    "            while q:\n",
    "                for _ in range(len(q)):\n",
    "                    r, c = q.popleft()\n",
    "                    if A[r][c] == 1:\n",
    "                        return d\n",
    "                    for op in ops:\n",
    "                        nr = r + op[0]\n",
    "                        nc = c + op[1]\n",
    "                        if 0 <= nr < rows and 0 <= nc < cols:\n",
    "                            q.append((nr, nc))\n",
    "                d += 1\n",
    "        ans = [0] * len(B)\n",
    "        for i in range(len(B)):\n",
    "            ans[i] = bfs(B[i][0] - 1, B[i][1] - 1)\n",
    "        return ans"
   ]
  },
  {
   "cell_type": "code",
   "execution_count": 41,
   "metadata": {},
   "outputs": [],
   "source": [
    "from collections import deque\n",
    "\n",
    "ops = [(-1,0),(1,0),(0,-1),(0,1)]\n",
    "\n",
    "class Solution:\n",
    "    # @param A : list of list of integers\n",
    "    # @param B : list of list of integers\n",
    "    # @return a list of integers\n",
    "    def nearestHotel(self, A, B):\n",
    "        rows = len(A)\n",
    "        cols = len(A[0])\n",
    "        dist = [[float('inf')] * cols for _ in range(rows)]\n",
    "        def bfs(i, j):\n",
    "            q = deque()\n",
    "            q.append((i, j))\n",
    "            dist[i][j] = 0\n",
    "            d = 1\n",
    "            while q:\n",
    "                for _ in range(len(q)):\n",
    "                    r, c = q.popleft()\n",
    "                    for op in ops:\n",
    "                        nr = r + op[0]\n",
    "                        nc = c + op[1]\n",
    "                        if 0 <= nr < rows and 0 <= nc < cols and d < dist[nr][nc]:\n",
    "                            dist[nr][nc] = d\n",
    "                            q.append((nr, nc))\n",
    "                d += 1\n",
    "        for i in range(rows):\n",
    "            for j in range(cols):\n",
    "                if A[i][j] == 1:\n",
    "                    bfs(i, j)\n",
    "        ans = [0] * len(B)\n",
    "        for i in range(len(B)):\n",
    "            ans[i] = dist[B[i][0] - 1][B[i][1] - 1]\n",
    "        return ans"
   ]
  },
  {
   "cell_type": "code",
   "execution_count": 42,
   "metadata": {},
   "outputs": [],
   "source": [
    "from collections import deque\n",
    "\n",
    "ops = [(-1,0),(1,0),(0,-1),(0,1)]\n",
    "\n",
    "# accepted\n",
    "class Solution:\n",
    "    # @param A : list of list of integers\n",
    "    # @param B : list of list of integers\n",
    "    # @return a list of integers\n",
    "    def nearestHotel(self, A, B):\n",
    "        rows = len(A)\n",
    "        cols = len(A[0])\n",
    "        dist = [[float('inf')] * cols for _ in range(rows)]\n",
    "        \n",
    "        q = deque()\n",
    "        for i in range(rows):\n",
    "            for j in range(cols):\n",
    "                if A[i][j] == 1:\n",
    "                    dist[i][j] = 0\n",
    "                    q.append((i, j))\n",
    "        d = 1\n",
    "        while q:\n",
    "            for _ in range(len(q)):\n",
    "                r, c = q.popleft()\n",
    "                for op in ops:\n",
    "                    nr = r + op[0]\n",
    "                    nc = c + op[1]\n",
    "                    if 0 <= nr < rows and 0 <= nc < cols and d < dist[nr][nc]:\n",
    "                        dist[nr][nc] = d\n",
    "                        q.append((nr, nc))\n",
    "            d += 1\n",
    "        ans = [0] * len(B)\n",
    "        for i in range(len(B)):\n",
    "            ans[i] = dist[B[i][0] - 1][B[i][1] - 1]\n",
    "        return ans"
   ]
  },
  {
   "cell_type": "code",
   "execution_count": 43,
   "metadata": {},
   "outputs": [
    {
     "data": {
      "text/plain": [
       "[1, 0, 2]"
      ]
     },
     "execution_count": 43,
     "metadata": {},
     "output_type": "execute_result"
    }
   ],
   "source": [
    "A = [[0, 0],\n",
    "     [1, 0]]\n",
    "B = [[1, 1],\n",
    "     [2, 1],\n",
    "     [1, 2]]\n",
    "sol = Solution()\n",
    "sol.nearestHotel(A, B)"
   ]
  },
  {
   "cell_type": "code",
   "execution_count": 44,
   "metadata": {},
   "outputs": [
    {
     "data": {
      "text/plain": [
       "[1, 1]"
      ]
     },
     "execution_count": 44,
     "metadata": {},
     "output_type": "execute_result"
    }
   ],
   "source": [
    "A = [[1, 0, 0, 1]]\n",
    "\n",
    "B = [[1, 2],\n",
    "     [1, 3]]\n",
    "sol = Solution()\n",
    "sol.nearestHotel(A, B)"
   ]
  }
 ],
 "metadata": {
  "kernelspec": {
   "display_name": "dsa-venv",
   "language": "python",
   "name": "python3"
  },
  "language_info": {
   "codemirror_mode": {
    "name": "ipython",
    "version": 3
   },
   "file_extension": ".py",
   "mimetype": "text/x-python",
   "name": "python",
   "nbconvert_exporter": "python",
   "pygments_lexer": "ipython3",
   "version": "3.11.3"
  }
 },
 "nbformat": 4,
 "nbformat_minor": 2
}
