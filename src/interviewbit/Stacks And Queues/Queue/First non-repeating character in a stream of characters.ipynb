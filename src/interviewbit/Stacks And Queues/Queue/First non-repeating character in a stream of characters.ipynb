{
 "cells": [
  {
   "cell_type": "code",
   "execution_count": 17,
   "metadata": {},
   "outputs": [],
   "source": [
    "from collections import defaultdict, deque\n",
    "class Solution:\n",
    "    # @ returns 0\n",
    "    # @param A : string\n",
    "    # @return a strings\n",
    "    def solve(self, A):\n",
    "        chars = defaultdict(int)\n",
    "        ans = ''\n",
    "        q = deque()\n",
    "        for char in A:\n",
    "            q.append(char)\n",
    "            chars[char] += 1\n",
    "            while len(q) and chars[q[0]] > 1:\n",
    "                q.popleft()\n",
    "            ans += ('#' if not len(q) else q[0])\n",
    "        return ans"
   ]
  },
  {
   "cell_type": "code",
   "execution_count": 18,
   "metadata": {},
   "outputs": [],
   "source": [
    "from collections import defaultdict\n",
    "\n",
    "\n",
    "class Solution:\n",
    "    # @param A : string\n",
    "    # @return a strings\n",
    "    def solve(self, A):\n",
    "        mp = defaultdict(int)\n",
    "        ans = \"\"\n",
    "        i = 0\n",
    "        for j in range(len(A)):\n",
    "            mp[A[j]] += 1\n",
    "            added = False\n",
    "            while i <= j:\n",
    "                if mp[A[i]] < 2:\n",
    "                    ans += A[i]\n",
    "                    added = True\n",
    "                    break\n",
    "                else:\n",
    "                    i += 1\n",
    "            if not added:\n",
    "                ans += '#'\n",
    "        return ans"
   ]
  },
  {
   "cell_type": "code",
   "execution_count": 19,
   "metadata": {},
   "outputs": [
    {
     "data": {
      "text/plain": [
       "'aabbdd'"
      ]
     },
     "execution_count": 19,
     "metadata": {},
     "output_type": "execute_result"
    }
   ],
   "source": [
    "A = \"abadbc\"\n",
    "sol = Solution()\n",
    "sol.solve(A) # \"aabbdd\""
   ]
  },
  {
   "cell_type": "code",
   "execution_count": 20,
   "metadata": {},
   "outputs": [
    {
     "data": {
      "text/plain": [
       "'aaabc#'"
      ]
     },
     "execution_count": 20,
     "metadata": {},
     "output_type": "execute_result"
    }
   ],
   "source": [
    "A = \"abcabc\"\n",
    "sol = Solution()\n",
    "sol.solve(A) # \"aaabc#\""
   ]
  }
 ],
 "metadata": {
  "kernelspec": {
   "display_name": "dsa-venv",
   "language": "python",
   "name": "python3"
  },
  "language_info": {
   "codemirror_mode": {
    "name": "ipython",
    "version": 3
   },
   "file_extension": ".py",
   "mimetype": "text/x-python",
   "name": "python",
   "nbconvert_exporter": "python",
   "pygments_lexer": "ipython3",
   "version": "3.11.3"
  },
  "orig_nbformat": 4
 },
 "nbformat": 4,
 "nbformat_minor": 2
}
