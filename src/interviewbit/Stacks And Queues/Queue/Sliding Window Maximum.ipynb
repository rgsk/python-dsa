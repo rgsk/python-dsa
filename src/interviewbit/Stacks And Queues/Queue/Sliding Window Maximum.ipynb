{
 "cells": [
  {
   "cell_type": "code",
   "execution_count": 1,
   "metadata": {},
   "outputs": [],
   "source": [
    "from collections import deque\n",
    "\n",
    "\n",
    "class Solution:\n",
    "    # @param A : tuple of integers\n",
    "    # @param B : integer\n",
    "    # @return a list of integers\n",
    "    def slidingMaximum(self, nums, k):\n",
    "        ans = []\n",
    "        n = len(nums)\n",
    "        q = deque()\n",
    "        for i in range(n):\n",
    "            while q and q[0] <= i - k:\n",
    "                q.popleft()\n",
    "            while q and nums[i] > nums[q[-1]]:\n",
    "                q.pop()\n",
    "            q.append(i)\n",
    "            if i >= k - 1:\n",
    "                ans.append(nums[q[0]])\n",
    "        return ans"
   ]
  },
  {
   "cell_type": "code",
   "execution_count": 2,
   "metadata": {},
   "outputs": [
    {
     "data": {
      "text/plain": [
       "[3, 3, 5, 5, 6, 7]"
      ]
     },
     "execution_count": 2,
     "metadata": {},
     "output_type": "execute_result"
    }
   ],
   "source": [
    "nums = [1, 3, -1, -3, 5, 3, 6, 7]\n",
    "k = 3\n",
    "sol = Solution()\n",
    "sol.slidingMaximum(nums, k)"
   ]
  }
 ],
 "metadata": {
  "kernelspec": {
   "display_name": "dsa-venv",
   "language": "python",
   "name": "python3"
  },
  "language_info": {
   "codemirror_mode": {
    "name": "ipython",
    "version": 3
   },
   "file_extension": ".py",
   "mimetype": "text/x-python",
   "name": "python",
   "nbconvert_exporter": "python",
   "pygments_lexer": "ipython3",
   "version": "3.11.3"
  },
  "orig_nbformat": 4
 },
 "nbformat": 4,
 "nbformat_minor": 2
}
