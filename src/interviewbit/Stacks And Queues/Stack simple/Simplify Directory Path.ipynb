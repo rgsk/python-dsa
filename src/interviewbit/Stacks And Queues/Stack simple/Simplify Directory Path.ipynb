{
 "cells": [
  {
   "cell_type": "code",
   "execution_count": 25,
   "metadata": {},
   "outputs": [],
   "source": [
    "# https://www.interviewbit.com/problems/simplify-directory-path/"
   ]
  },
  {
   "cell_type": "code",
   "execution_count": 26,
   "metadata": {},
   "outputs": [],
   "source": [
    "class Solution:\n",
    "    # @param A : string\n",
    "    # @return a strings\n",
    "    def simplifyPath(self, A):\n",
    "        slash_split = A.split('/')\n",
    "        st = []\n",
    "        for v in slash_split:\n",
    "            if v:\n",
    "                if v == '..':\n",
    "                    if st:\n",
    "                        st.pop()\n",
    "                elif v == '.':\n",
    "                    continue\n",
    "                else:\n",
    "                    st.append(v)\n",
    "        if not st:\n",
    "            return '/'\n",
    "        ans = \"\"\n",
    "        for v in st:\n",
    "            ans += '/' + v\n",
    "        return ans"
   ]
  },
  {
   "cell_type": "code",
   "execution_count": 27,
   "metadata": {},
   "outputs": [
    {
     "data": {
      "text/plain": [
       "'/home'"
      ]
     },
     "execution_count": 27,
     "metadata": {},
     "output_type": "execute_result"
    }
   ],
   "source": [
    "A = \"/home/\"\n",
    "sol = Solution()\n",
    "sol.simplifyPath(A)"
   ]
  },
  {
   "cell_type": "code",
   "execution_count": 28,
   "metadata": {},
   "outputs": [
    {
     "data": {
      "text/plain": [
       "'/c'"
      ]
     },
     "execution_count": 28,
     "metadata": {},
     "output_type": "execute_result"
    }
   ],
   "source": [
    "A = \"/a/./b/../../c/\"\n",
    "sol = Solution()\n",
    "sol.simplifyPath(A)"
   ]
  }
 ],
 "metadata": {
  "kernelspec": {
   "display_name": "dsa-venv",
   "language": "python",
   "name": "python3"
  },
  "language_info": {
   "codemirror_mode": {
    "name": "ipython",
    "version": 3
   },
   "file_extension": ".py",
   "mimetype": "text/x-python",
   "name": "python",
   "nbconvert_exporter": "python",
   "pygments_lexer": "ipython3",
   "version": "3.11.3"
  }
 },
 "nbformat": 4,
 "nbformat_minor": 2
}
