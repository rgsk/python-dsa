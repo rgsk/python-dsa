{
 "cells": [
  {
   "cell_type": "code",
   "execution_count": 1,
   "metadata": {},
   "outputs": [],
   "source": [
    "class Solution:\n",
    "    # @param A : string\n",
    "    # @return an integer\n",
    "    def solve(self, A):\n",
    "        pairs = {\n",
    "            ')': '(',\n",
    "            ']': '[',\n",
    "            '}': '{'\n",
    "        }\n",
    "        stack = []\n",
    "        for bracket in A:\n",
    "            if bracket in pairs:\n",
    "                # closing\n",
    "                if len(stack) > 0 and stack[-1] == pairs[bracket]:\n",
    "                    stack.pop()\n",
    "                else:\n",
    "                    return 0\n",
    "            else:\n",
    "                stack.append(bracket)\n",
    "        return 0 if len(stack) > 0 else 1 "
   ]
  },
  {
   "cell_type": "code",
   "execution_count": 2,
   "metadata": {},
   "outputs": [
    {
     "data": {
      "text/plain": [
       "1"
      ]
     },
     "execution_count": 2,
     "metadata": {},
     "output_type": "execute_result"
    }
   ],
   "source": [
    "A = \"(()())\"\n",
    "sol = Solution()\n",
    "sol.solve(A)\n",
    " "
   ]
  },
  {
   "cell_type": "code",
   "execution_count": 3,
   "metadata": {},
   "outputs": [
    {
     "data": {
      "text/plain": [
       "0"
      ]
     },
     "execution_count": 3,
     "metadata": {},
     "output_type": "execute_result"
    }
   ],
   "source": [
    "A = \"(()\"\n",
    "sol = Solution()\n",
    "sol.solve(A)"
   ]
  }
 ],
 "metadata": {
  "kernelspec": {
   "display_name": "dsa-venv",
   "language": "python",
   "name": "python3"
  },
  "language_info": {
   "codemirror_mode": {
    "name": "ipython",
    "version": 3
   },
   "file_extension": ".py",
   "mimetype": "text/x-python",
   "name": "python",
   "nbconvert_exporter": "python",
   "pygments_lexer": "ipython3",
   "version": "3.11.3"
  },
  "orig_nbformat": 4
 },
 "nbformat": 4,
 "nbformat_minor": 2
}
