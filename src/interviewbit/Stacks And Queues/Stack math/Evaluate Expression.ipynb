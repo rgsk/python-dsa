{
 "cells": [
  {
   "cell_type": "code",
   "execution_count": 19,
   "metadata": {},
   "outputs": [],
   "source": [
    "# https://www.interviewbit.com/problems/evaluate-expression/"
   ]
  },
  {
   "cell_type": "code",
   "execution_count": 20,
   "metadata": {},
   "outputs": [],
   "source": [
    "def is_op(c):\n",
    "    return c in '+-/*'\n",
    "class Solution:\n",
    "    # @param A : list of strings\n",
    "    # @return an integer\n",
    "    def evalRPN(self, A):\n",
    "        n = len(A)\n",
    "        st = []\n",
    "        for i in range(n-1, -1, -1):\n",
    "            if is_op(A[i]):\n",
    "                st.append(A[i])\n",
    "            else:\n",
    "                st.append(A[i])\n",
    "                while len(st) >= 3 and not is_op(st[-2]):\n",
    "                    v1 = int(st.pop())\n",
    "                    v2 = int(st.pop())\n",
    "                    op = st.pop()\n",
    "                    if op == '+':\n",
    "                        res = v1 + v2\n",
    "                    elif op == '-':\n",
    "                        res = v1 - v2\n",
    "                    elif op == '/':\n",
    "                        res = v1 // v2\n",
    "                    elif op == '*':\n",
    "                        res = v1 * v2\n",
    "                    st.append(str(res))\n",
    "                \n",
    "        return int(st[-1])"
   ]
  },
  {
   "cell_type": "code",
   "execution_count": 21,
   "metadata": {},
   "outputs": [
    {
     "data": {
      "text/plain": [
       "9"
      ]
     },
     "execution_count": 21,
     "metadata": {},
     "output_type": "execute_result"
    }
   ],
   "source": [
    "A =   [\"2\", \"1\", \"+\", \"3\", \"*\"]\n",
    "sol = Solution()\n",
    "sol.evalRPN(A)"
   ]
  },
  {
   "cell_type": "code",
   "execution_count": 22,
   "metadata": {},
   "outputs": [
    {
     "data": {
      "text/plain": [
       "6"
      ]
     },
     "execution_count": 22,
     "metadata": {},
     "output_type": "execute_result"
    }
   ],
   "source": [
    "A = [\"4\", \"13\", \"5\", \"/\", \"+\"]\n",
    "sol = Solution()\n",
    "sol.evalRPN(A)"
   ]
  }
 ],
 "metadata": {
  "kernelspec": {
   "display_name": "dsa-venv",
   "language": "python",
   "name": "python3"
  },
  "language_info": {
   "codemirror_mode": {
    "name": "ipython",
    "version": 3
   },
   "file_extension": ".py",
   "mimetype": "text/x-python",
   "name": "python",
   "nbconvert_exporter": "python",
   "pygments_lexer": "ipython3",
   "version": "3.11.3"
  }
 },
 "nbformat": 4,
 "nbformat_minor": 2
}
