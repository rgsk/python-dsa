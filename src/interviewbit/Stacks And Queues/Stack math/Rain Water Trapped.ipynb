{
 "cells": [
  {
   "cell_type": "code",
   "execution_count": 4,
   "metadata": {},
   "outputs": [],
   "source": [
    "# https://www.interviewbit.com/problems/rain-water-trapped/"
   ]
  },
  {
   "cell_type": "code",
   "execution_count": 5,
   "metadata": {},
   "outputs": [],
   "source": [
    "class Solution:\n",
    "    # @param A : tuple of integers\n",
    "    # @return an integer\n",
    "    def trap(self, A):\n",
    "        n = len(A)\n",
    "        maxLeft = [0] * n\n",
    "        maxLeft[0] = A[0]\n",
    "        for i in range(1, n):\n",
    "            maxLeft[i] = max(maxLeft[i-1], A[i])\n",
    "        maxRight = [0]*n\n",
    "        maxRight[n-1] = A[n-1]\n",
    "        for i in range(n-2, -1, -1):\n",
    "            maxRight[i] = max(maxRight[i+1], A[i])\n",
    "        water = 0\n",
    "        for i in range(n):\n",
    "            water += min(maxLeft[i], maxRight[i]) - A[i]\n",
    "        return water"
   ]
  },
  {
   "cell_type": "code",
   "execution_count": 6,
   "metadata": {},
   "outputs": [],
   "source": [
    "# most optimised\n",
    "class Solution:\n",
    "    # @param A : tuple of integers\n",
    "    # @return an integer\n",
    "    def trap(self, A):\n",
    "        ans = 0\n",
    "        n = len(A)\n",
    "        l = 0\n",
    "        r = n - 1\n",
    "        leftmax = rightmax = 0\n",
    "        while l < r:\n",
    "            if A[l] <= A[r]:\n",
    "                if A[l] >= leftmax: \n",
    "                    leftmax = A[l]\n",
    "                else:\n",
    "                    ans += leftmax - A[l]\n",
    "                l += 1\n",
    "            else:\n",
    "                if A[r] >= rightmax: \n",
    "                    rightmax = A[r]\n",
    "                else:\n",
    "                    ans += rightmax - A[r]\n",
    "                r -= 1\n",
    "        return ans"
   ]
  },
  {
   "cell_type": "code",
   "execution_count": 7,
   "metadata": {},
   "outputs": [
    {
     "data": {
      "text/plain": [
       "6"
      ]
     },
     "execution_count": 7,
     "metadata": {},
     "output_type": "execute_result"
    }
   ],
   "source": [
    "A = [0, 1, 0, 2, 1, 0, 1, 3, 2, 1, 2, 1]\n",
    "sol = Solution()\n",
    "sol.trap(A)"
   ]
  }
 ],
 "metadata": {
  "kernelspec": {
   "display_name": "dsa-venv",
   "language": "python",
   "name": "python3"
  },
  "language_info": {
   "codemirror_mode": {
    "name": "ipython",
    "version": 3
   },
   "file_extension": ".py",
   "mimetype": "text/x-python",
   "name": "python",
   "nbconvert_exporter": "python",
   "pygments_lexer": "ipython3",
   "version": "3.11.3"
  }
 },
 "nbformat": 4,
 "nbformat_minor": 2
}
