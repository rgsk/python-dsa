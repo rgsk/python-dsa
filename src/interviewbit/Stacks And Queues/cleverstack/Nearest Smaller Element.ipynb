{
 "cells": [
  {
   "cell_type": "code",
   "execution_count": 4,
   "metadata": {},
   "outputs": [],
   "source": [
    "# https://www.interviewbit.com/problems/nearest-smaller-element/"
   ]
  },
  {
   "cell_type": "code",
   "execution_count": 5,
   "metadata": {},
   "outputs": [],
   "source": [
    "\n",
    "from typing import List\n",
    "\n",
    "\n",
    "def monotonic(nums: List[int]):\n",
    "    st: List[int] = []\n",
    "    ans = [-1] * len(nums)\n",
    "    for i in range(len(nums)):\n",
    "        while st and st[-1] >= nums[i]:\n",
    "            st.pop()\n",
    "        ans[i] = st[-1] if st else -1\n",
    "        st.append(nums[i])\n",
    "    return ans\n",
    "\n",
    "\n",
    "class Solution:\n",
    "    # @param A : list of integers\n",
    "    # @return a list of integers\n",
    "    def prevSmaller(self, A):\n",
    "        return monotonic(A)\n"
   ]
  },
  {
   "cell_type": "code",
   "execution_count": 6,
   "metadata": {},
   "outputs": [
    {
     "data": {
      "text/plain": [
       "[-1, 4, -1, 2, 2]"
      ]
     },
     "execution_count": 6,
     "metadata": {},
     "output_type": "execute_result"
    }
   ],
   "source": [
    "A = [4, 5, 2, 10, 8]\n",
    "sol = Solution()\n",
    "sol.prevSmaller(A)"
   ]
  }
 ],
 "metadata": {
  "kernelspec": {
   "display_name": "dsa-venv",
   "language": "python",
   "name": "python3"
  },
  "language_info": {
   "codemirror_mode": {
    "name": "ipython",
    "version": 3
   },
   "file_extension": ".py",
   "mimetype": "text/x-python",
   "name": "python",
   "nbconvert_exporter": "python",
   "pygments_lexer": "ipython3",
   "version": "3.11.3"
  }
 },
 "nbformat": 4,
 "nbformat_minor": 2
}
