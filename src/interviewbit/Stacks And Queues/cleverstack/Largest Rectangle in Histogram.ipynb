{
 "cells": [
  {
   "cell_type": "code",
   "execution_count": 1,
   "metadata": {},
   "outputs": [],
   "source": [
    "# https://www.interviewbit.com/problems/largest-rectangle-in-histogram/"
   ]
  },
  {
   "cell_type": "code",
   "execution_count": 2,
   "metadata": {},
   "outputs": [],
   "source": [
    "class Solution:\n",
    "    # @param A : list of integers\n",
    "    # @return an integer\n",
    "    def largestRectangleArea(self, A):\n",
    "        n = len(A)\n",
    "        min_prev = [-1 for _ in range(n)]\n",
    "        min_next = [n for _ in range(n)]\n",
    "        st = []\n",
    "        for i in range(n):\n",
    "            while st and A[st[-1]] >= A[i]:\n",
    "                st.pop()\n",
    "            if st:\n",
    "                min_prev[i] = st[-1]\n",
    "            st.append(i)\n",
    "        st = []\n",
    "        for i in range(n-1, -1, -1):\n",
    "            while st and A[st[-1]] >= A[i]:\n",
    "                st.pop()\n",
    "            if st:\n",
    "                min_next[i] = st[-1]\n",
    "            st.append(i)\n",
    "        max_area = 0\n",
    "        # print(min_prev)\n",
    "        # print(min_next)\n",
    "        for i in range(n):\n",
    "            max_area = max(max_area, A[i] * (min_next[i] - min_prev[i] - 1))\n",
    "        return max_area"
   ]
  },
  {
   "cell_type": "code",
   "execution_count": 3,
   "metadata": {},
   "outputs": [
    {
     "data": {
      "text/plain": [
       "10"
      ]
     },
     "execution_count": 3,
     "metadata": {},
     "output_type": "execute_result"
    }
   ],
   "source": [
    "A = [2, 1, 5, 6, 2, 3]\n",
    "sol = Solution()\n",
    "sol.largestRectangleArea(A)"
   ]
  }
 ],
 "metadata": {
  "kernelspec": {
   "display_name": "dsa-venv",
   "language": "python",
   "name": "python3"
  },
  "language_info": {
   "codemirror_mode": {
    "name": "ipython",
    "version": 3
   },
   "file_extension": ".py",
   "mimetype": "text/x-python",
   "name": "python",
   "nbconvert_exporter": "python",
   "pygments_lexer": "ipython3",
   "version": "3.11.3"
  }
 },
 "nbformat": 4,
 "nbformat_minor": 2
}
