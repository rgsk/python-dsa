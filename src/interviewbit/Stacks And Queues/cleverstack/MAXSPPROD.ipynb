{
 "cells": [
  {
   "cell_type": "code",
   "execution_count": 5,
   "metadata": {},
   "outputs": [],
   "source": [
    "# https://www.interviewbit.com/problems/maxspprod/"
   ]
  },
  {
   "cell_type": "code",
   "execution_count": 6,
   "metadata": {},
   "outputs": [],
   "source": [
    "class Solution:\n",
    "    # @param A : list of integers\n",
    "    # @return an integer\n",
    "    def maxSpecialProduct(self, A):\n",
    "        n = len(A)\n",
    "        max_prod = 0\n",
    "        for i in range(n):\n",
    "            l = i - 1\n",
    "            r = i + 1\n",
    "            while l >= 0 and A[l] <= A[i]:\n",
    "                l -= 1\n",
    "            while r < n and A[r] <= A[i]:\n",
    "                r += 1\n",
    "            if l != -1 and r != n:\n",
    "                max_prod = max(max_prod, l * r)\n",
    "        return max_prod"
   ]
  },
  {
   "cell_type": "code",
   "execution_count": 7,
   "metadata": {},
   "outputs": [],
   "source": [
    "mod = 10**9 + 7\n",
    "class Solution:\n",
    "    # @param A : list of integers\n",
    "    # @return an integer\n",
    "    def maxSpecialProduct(self, A):\n",
    "        n = len(A)\n",
    "        st = []\n",
    "        leftSpecial = [0] * n\n",
    "        for i in range(n):\n",
    "            while st and st[-1][0] <= A[i]:\n",
    "                st.pop()\n",
    "            if st:\n",
    "                leftSpecial[i] = st[-1][1]\n",
    "            st.append((A[i], i))\n",
    "        rightSpecial = [0] * n\n",
    "        st = []\n",
    "        for i in range(n-1, -1, -1):\n",
    "            while st and st[-1][0] <= A[i]:\n",
    "                st.pop()\n",
    "            if st:\n",
    "                rightSpecial[i] = st[-1][1]\n",
    "            st.append((A[i], i))\n",
    "        max_prod = 0\n",
    "        for i in range(n):\n",
    "            max_prod = max(max_prod, leftSpecial[i] * rightSpecial[i])\n",
    "        return max_prod % mod"
   ]
  },
  {
   "cell_type": "code",
   "execution_count": 8,
   "metadata": {},
   "outputs": [
    {
     "data": {
      "text/plain": [
       "3"
      ]
     },
     "execution_count": 8,
     "metadata": {},
     "output_type": "execute_result"
    }
   ],
   "source": [
    "A = [1, 4, 3, 4]\n",
    "sol = Solution()\n",
    "sol.maxSpecialProduct(A)"
   ]
  },
  {
   "cell_type": "code",
   "execution_count": 9,
   "metadata": {},
   "outputs": [
    {
     "data": {
      "text/plain": [
       "0"
      ]
     },
     "execution_count": 9,
     "metadata": {},
     "output_type": "execute_result"
    }
   ],
   "source": [
    "A = [10, 7, 100]\n",
    "sol = Solution()\n",
    "sol.maxSpecialProduct(A)"
   ]
  }
 ],
 "metadata": {
  "kernelspec": {
   "display_name": "dsa-venv",
   "language": "python",
   "name": "python3"
  },
  "language_info": {
   "codemirror_mode": {
    "name": "ipython",
    "version": 3
   },
   "file_extension": ".py",
   "mimetype": "text/x-python",
   "name": "python",
   "nbconvert_exporter": "python",
   "pygments_lexer": "ipython3",
   "version": "3.11.3"
  }
 },
 "nbformat": 4,
 "nbformat_minor": 2
}
