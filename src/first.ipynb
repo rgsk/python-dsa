{
 "cells": [
  {
   "cell_type": "code",
   "execution_count": 1,
   "metadata": {},
   "outputs": [
    {
     "name": "stderr",
     "output_type": "stream",
     "text": [
      "Version 1.0.5\n"
     ]
    }
   ],
   "source": [
    "%load_ext nb_mypy"
   ]
  },
  {
   "cell_type": "code",
   "execution_count": 2,
   "metadata": {},
   "outputs": [
    {
     "name": "stdout",
     "output_type": "stream",
     "text": [
      "hii\n"
     ]
    }
   ],
   "source": [
    "print(\"hii\")"
   ]
  },
  {
   "cell_type": "code",
   "execution_count": 3,
   "metadata": {},
   "outputs": [
    {
     "name": "stderr",
     "output_type": "stream",
     "text": [
      "<cell>4: \u001b[1m\u001b[31merror:\u001b[m Dict entry 1 has incompatible type \u001b[m\u001b[1m\"str\"\u001b[m: \u001b[m\u001b[1m\"str\"\u001b[m; expected \u001b[m\u001b[1m\"str\"\u001b[m: \u001b[m\u001b[1m\"int\"\u001b[m  \u001b[m\u001b[33m[dict-item]\u001b[m\n"
     ]
    },
    {
     "name": "stdout",
     "output_type": "stream",
     "text": [
      "{'Rahul': {'age': 22, 'hii': 'hiii'}}\n"
     ]
    }
   ],
   "source": [
    "names: dict[str, dict[str, int]] = {\n",
    "    'Rahul': {\n",
    "        'age': 22,\n",
    "        'hii': 'hiii'\n",
    "    }\n",
    "} \n",
    "print(names)\n"
   ]
  },
  {
   "cell_type": "code",
   "execution_count": 4,
   "metadata": {},
   "outputs": [
    {
     "data": {
      "text/plain": [
       "3.14"
      ]
     },
     "execution_count": 4,
     "metadata": {},
     "output_type": "execute_result"
    }
   ],
   "source": [
    "from second import PI\n",
    "\n",
    "\n",
    "PI"
   ]
  },
  {
   "cell_type": "code",
   "execution_count": null,
   "metadata": {},
   "outputs": [],
   "source": [
    "from time import sleep\n",
    "\n",
    "\n",
    "print('hii')\n",
    "sleep()"
   ]
  },
  {
   "cell_type": "code",
   "execution_count": 3,
   "metadata": {},
   "outputs": [
    {
     "data": {
      "text/plain": [
       "219"
      ]
     },
     "execution_count": 3,
     "metadata": {},
     "output_type": "execute_result"
    }
   ],
   "source": [
    "value = \"\"\"\n",
    "I really want to join a research lab and work with great people. The organisations I worked previously for were Ed-Tech, which are just revenue-driven. I want to work on something important. I am very hard-working, and I feel I could grow pretty quickly. I aspire to work with great engineers/researchers on important problems. \n",
    "\n",
    "Recently, I was looking at the anthropic/cookbook, I was surprised to see that we have made such progress. Things like handwriting recognition, and image understanding were most exciting to me. I am also excited by projects like open-interpreter (co-pilot for computers) and Devin, an AI software engineer. \n",
    "\n",
    "Currently, I am working on my skills in DSA, Devops and ML. But honestly sometimes it’s difficult to make progress, because of mental health issues and loneliness. Till now, I have been not able to connect much with my peers around me. I care a lot about doing something meaningful in life, like work to improve healthcare. I am less interested in things outside of work.\n",
    "\n",
    "One great characteristic about me is openness to understand different parts. I am genuinely interested in other people’s work. Also, I ideate on tasks outside of my official responsibilities. I naturally care for doing the right thing.\n",
    "\n",
    "I could start working with Anthropic remotely, and then join in one of your offices.\n",
    "\n",
    "\"\"\"\n",
    "len(value.split())"
   ]
  },
  {
   "cell_type": "code",
   "execution_count": null,
   "metadata": {},
   "outputs": [],
   "source": []
  }
 ],
 "metadata": {
  "kernelspec": {
   "display_name": "Python 3.9.13 ('dsa-venv': venv)",
   "language": "python",
   "name": "python3"
  },
  "language_info": {
   "codemirror_mode": {
    "name": "ipython",
    "version": 3
   },
   "file_extension": ".py",
   "mimetype": "text/x-python",
   "name": "python",
   "nbconvert_exporter": "python",
   "pygments_lexer": "ipython3",
   "version": "3.11.3"
  },
  "orig_nbformat": 4,
  "vscode": {
   "interpreter": {
    "hash": "e2278406c40349b728369a6b418500b4154ef0fb5e599ada131fe37b236439d7"
   }
  }
 },
 "nbformat": 4,
 "nbformat_minor": 2
}
