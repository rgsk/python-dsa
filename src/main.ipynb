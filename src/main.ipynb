{
 "cells": [
  {
   "cell_type": "code",
   "execution_count": 127,
   "metadata": {},
   "outputs": [],
   "source": [
    "from typing import List\n",
    "\n",
    "\n",
    "class Solution:\n",
    "    def maximumTripletValue(self, nums: List[int]) -> int:\n",
    "        maxa = 0; maxab = 0\n",
    "        ans = 0\n",
    "        for a in nums:\n",
    "            ans = max(ans, maxab * a)\n",
    "            maxab = max(maxab, maxa - a)\n",
    "            maxa = max(maxa, a)\n",
    "        return ans"
   ]
  },
  {
   "cell_type": "code",
   "execution_count": 128,
   "metadata": {},
   "outputs": [
    {
     "data": {
      "text/plain": [
       "77"
      ]
     },
     "execution_count": 128,
     "metadata": {},
     "output_type": "execute_result"
    }
   ],
   "source": [
    "nums = [12,6,1,2,7]\n",
    "sol = Solution()\n",
    "sol.maximumTripletValue(nums)"
   ]
  },
  {
   "cell_type": "code",
   "execution_count": 130,
   "metadata": {},
   "outputs": [],
   "source": [
    "class Solution:\n",
    "    def findMinimumOperations(self, s1: str, s2: str, s3: str) -> int:\n",
    "        prefix = s1\n",
    "        while prefix:\n",
    "            if not s2.startswith(prefix) or not s3.startswith(prefix):\n",
    "                prefix = prefix[:-1]\n",
    "            else:\n",
    "                break\n",
    "        if not prefix:\n",
    "            return -1\n",
    "        return sum([len(s) - len(prefix) for s in [s1, s2, s3]])"
   ]
  },
  {
   "cell_type": "code",
   "execution_count": 131,
   "metadata": {},
   "outputs": [
    {
     "data": {
      "text/plain": [
       "2"
      ]
     },
     "execution_count": 131,
     "metadata": {},
     "output_type": "execute_result"
    }
   ],
   "source": [
    "s1 = \"abc\"\n",
    "s2 = \"abb\"\n",
    "s3 = \"ab\"\n",
    "sol = Solution()\n",
    "sol.findMinimumOperations(s1, s2, s3)"
   ]
  },
  {
   "cell_type": "code",
   "execution_count": 132,
   "metadata": {},
   "outputs": [
    {
     "data": {
      "text/plain": [
       "-1"
      ]
     },
     "execution_count": 132,
     "metadata": {},
     "output_type": "execute_result"
    }
   ],
   "source": [
    "s1 = \"dac\"\n",
    "s2 = \"bac\"\n",
    "s3 = \"cac\"\n",
    "sol = Solution()\n",
    "sol.findMinimumOperations(s1, s2, s3)"
   ]
  },
  {
   "cell_type": "code",
   "execution_count": 133,
   "metadata": {},
   "outputs": [],
   "source": [
    "class Solution:\n",
    "    def findWordsContaining(self, words: List[str], x: str) -> List[int]:\n",
    "        ans = []\n",
    "        for i in range(len(words)):\n",
    "            if x in words[i]:\n",
    "                ans.append(i)\n",
    "        return ans"
   ]
  },
  {
   "cell_type": "code",
   "execution_count": 134,
   "metadata": {},
   "outputs": [
    {
     "data": {
      "text/plain": [
       "[0, 1]"
      ]
     },
     "execution_count": 134,
     "metadata": {},
     "output_type": "execute_result"
    }
   ],
   "source": [
    "words = [\"leet\",\"code\"]\n",
    "x = \"e\"\n",
    "sol = Solution()\n",
    "sol.findWordsContaining(words, x)"
   ]
  },
  {
   "cell_type": "code",
   "execution_count": 135,
   "metadata": {},
   "outputs": [],
   "source": [
    "class Solution:\n",
    "    def findPeaks(self, mountain: List[int]) -> List[int]:\n",
    "        ans = []\n",
    "        for i in range(1, len(mountain) - 1):\n",
    "            if mountain[i-1] < mountain[i] > mountain[i+1]:\n",
    "                ans.append(i)\n",
    "        return ans"
   ]
  },
  {
   "cell_type": "code",
   "execution_count": 136,
   "metadata": {},
   "outputs": [
    {
     "data": {
      "text/plain": [
       "[1, 3]"
      ]
     },
     "execution_count": 136,
     "metadata": {},
     "output_type": "execute_result"
    }
   ],
   "source": [
    "mountain = [1,4,3,8,5]\n",
    "sol = Solution()\n",
    "sol.findPeaks(mountain)"
   ]
  },
  {
   "cell_type": "code",
   "execution_count": 137,
   "metadata": {},
   "outputs": [],
   "source": [
    "class Solution:\n",
    "    def findIntersectionValues(self, nums1: List[int], nums2: List[int]) -> List[int]:\n",
    "        ans = [0, 0]\n",
    "        set_nums2 = set(nums2)\n",
    "        set_nums1 = set(nums1)\n",
    "        for v in nums1:\n",
    "            if v in set_nums2:\n",
    "                ans[0] += 1\n",
    "        for v in nums2:\n",
    "            if v in set_nums1:\n",
    "                ans[1] += 1\n",
    "        return ans"
   ]
  },
  {
   "cell_type": "code",
   "execution_count": 138,
   "metadata": {},
   "outputs": [
    {
     "data": {
      "text/plain": [
       "[3, 4]"
      ]
     },
     "execution_count": 138,
     "metadata": {},
     "output_type": "execute_result"
    }
   ],
   "source": [
    "nums1 = [4,3,2,3,1]\n",
    "nums2 = [2,2,5,2,3,6]\n",
    "sol = Solution()\n",
    "sol.findIntersectionValues(nums1, nums2)"
   ]
  },
  {
   "cell_type": "code",
   "execution_count": 166,
   "metadata": {},
   "outputs": [],
   "source": [
    "class Solution:\n",
    "    def countSubarrays(self, nums: List[int], k: int) -> int:\n",
    "        n = len(nums)\n",
    "        max_element = max(nums)\n",
    "        max_element_count = 0\n",
    "        subarrays_count = 0\n",
    "        l = 0\n",
    "        r = 0\n",
    "        while r < len(nums):\n",
    "            if nums[r] == max_element:\n",
    "                max_element_count += 1\n",
    "            while max_element_count >= k:\n",
    "                subarrays_count += n - r\n",
    "                if nums[l] == max_element:\n",
    "                    max_element_count -= 1\n",
    "                l += 1\n",
    "            r += 1\n",
    "        return subarrays_count\n"
   ]
  },
  {
   "cell_type": "code",
   "execution_count": 167,
   "metadata": {},
   "outputs": [
    {
     "data": {
      "text/plain": [
       "6"
      ]
     },
     "execution_count": 167,
     "metadata": {},
     "output_type": "execute_result"
    }
   ],
   "source": [
    "nums = [1,3,2,3,3]\n",
    "k = 2\n",
    "sol = Solution()\n",
    "sol.countSubarrays(nums, k)"
   ]
  },
  {
   "cell_type": "code",
   "execution_count": 168,
   "metadata": {},
   "outputs": [
    {
     "data": {
      "text/plain": [
       "2"
      ]
     },
     "execution_count": 168,
     "metadata": {},
     "output_type": "execute_result"
    }
   ],
   "source": [
    "nums = [1,4,2,1, 4, 4]\n",
    "k = 3\n",
    "sol = Solution()\n",
    "sol.countSubarrays(nums, k)"
   ]
  },
  {
   "cell_type": "code",
   "execution_count": 172,
   "metadata": {},
   "outputs": [
    {
     "data": {
      "text/plain": [
       "False"
      ]
     },
     "execution_count": 172,
     "metadata": {},
     "output_type": "execute_result"
    }
   ],
   "source": [
    "2 ** 31 - 1 > 10 ** 10"
   ]
  },
  {
   "cell_type": "code",
   "execution_count": null,
   "metadata": {},
   "outputs": [],
   "source": []
  }
 ],
 "metadata": {
  "kernelspec": {
   "display_name": "dsa-venv",
   "language": "python",
   "name": "python3"
  },
  "language_info": {
   "codemirror_mode": {
    "name": "ipython",
    "version": 3
   },
   "file_extension": ".py",
   "mimetype": "text/x-python",
   "name": "python",
   "nbconvert_exporter": "python",
   "pygments_lexer": "ipython3",
   "version": "3.11.3"
  }
 },
 "nbformat": 4,
 "nbformat_minor": 2
}
