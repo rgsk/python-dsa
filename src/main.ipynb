{
 "cells": [
  {
   "cell_type": "code",
   "execution_count": 2146,
   "metadata": {},
   "outputs": [],
   "source": [
    "from math_concepts import magic\n",
    "import numpy as np"
   ]
  },
  {
   "cell_type": "code",
   "execution_count": 2147,
   "metadata": {},
   "outputs": [
    {
     "data": {
      "text/plain": [
       "array([[  8.75,   3.  ],\n",
       "       [  3.  , 108.  ]])"
      ]
     },
     "execution_count": 2147,
     "metadata": {},
     "output_type": "execute_result"
    }
   ],
   "source": [
    "magic.covariance_matrix(\n",
    "    [\n",
    "        [1, 0, -1, 3],\n",
    "        [5, 5, -7, -3],\n",
    "    ]\n",
    ")"
   ]
  },
  {
   "cell_type": "code",
   "execution_count": 2148,
   "metadata": {},
   "outputs": [
    {
     "data": {
      "text/plain": [
       "'b'"
      ]
     },
     "execution_count": 2148,
     "metadata": {},
     "output_type": "execute_result"
    }
   ],
   "source": [
    "from typing import List\n",
    "chr(ord('a') + 1)"
   ]
  },
  {
   "cell_type": "code",
   "execution_count": 2149,
   "metadata": {},
   "outputs": [
    {
     "data": {
      "text/latex": [
       "$\\displaystyle -675$"
      ],
      "text/plain": [
       "-675"
      ]
     },
     "execution_count": 2149,
     "metadata": {},
     "output_type": "execute_result"
    }
   ],
   "source": [
    "22 * -26 + 9 * -11 + 2 * -2"
   ]
  },
  {
   "cell_type": "code",
   "execution_count": 2150,
   "metadata": {},
   "outputs": [
    {
     "data": {
      "text/latex": [
       "$\\displaystyle -30$"
      ],
      "text/plain": [
       "-30"
      ]
     },
     "execution_count": 2150,
     "metadata": {},
     "output_type": "execute_result"
    }
   ],
   "source": [
    "def xt(t):\n",
    "    return t**2 - 4\n",
    "def yt(t):\n",
    "    return 3 - t\n",
    "xt(-1) * yt(-1) + xt(0) * yt(0) + xt(1) * yt(1)"
   ]
  },
  {
   "cell_type": "code",
   "execution_count": 2151,
   "metadata": {},
   "outputs": [
    {
     "data": {
      "text/latex": [
       "$\\displaystyle 0.100902371328$"
      ],
      "text/plain": [
       "0.10090237132800002"
      ]
     },
     "execution_count": 2151,
     "metadata": {},
     "output_type": "execute_result"
    }
   ],
   "source": [
    "magic.C(12, 5) * (6/10)**5 * (4/10) ** 7"
   ]
  },
  {
   "cell_type": "code",
   "execution_count": 2152,
   "metadata": {},
   "outputs": [
    {
     "data": {
      "text/latex": [
       "$\\displaystyle 0.100902371328$"
      ],
      "text/plain": [
       "0.10090237132800002"
      ]
     },
     "execution_count": 2152,
     "metadata": {},
     "output_type": "execute_result"
    }
   ],
   "source": [
    "magic.bernoulli_trial(12, 5, 6/10)"
   ]
  },
  {
   "cell_type": "code",
   "execution_count": 2153,
   "metadata": {},
   "outputs": [
    {
     "data": {
      "text/latex": [
       "$\\displaystyle 0.000415802001953125$"
      ],
      "text/plain": [
       "0.000415802001953125"
      ]
     },
     "execution_count": 2153,
     "metadata": {},
     "output_type": "execute_result"
    }
   ],
   "source": [
    "magic.binomial_distribution(10, 8, 10, 1/4)"
   ]
  },
  {
   "cell_type": "code",
   "execution_count": 2154,
   "metadata": {},
   "outputs": [
    {
     "data": {
      "text/plain": [
       "array([ 1., -1.,  2.,  0.])"
      ]
     },
     "execution_count": 2154,
     "metadata": {},
     "output_type": "execute_result"
    }
   ],
   "source": [
    "magic.projxS([[0, 1], [-1, 0], [1, 1], [0, 0]], [0, 0, 3, 1])"
   ]
  },
  {
   "cell_type": "code",
   "execution_count": 2155,
   "metadata": {},
   "outputs": [
    {
     "data": {
      "text/plain": [
       "array([5., 0., 1., 1.])"
      ]
     },
     "execution_count": 2155,
     "metadata": {},
     "output_type": "execute_result"
    }
   ],
   "source": [
    "np.array([5, 6, 4, -2]) - np.array([ 0.,  6.,  3., -3.])"
   ]
  },
  {
   "cell_type": "code",
   "execution_count": 2156,
   "metadata": {},
   "outputs": [
    {
     "data": {
      "text/latex": [
       "$\\displaystyle 5.19615242270663$"
      ],
      "text/plain": [
       "5.196152422706632"
      ]
     },
     "execution_count": 2156,
     "metadata": {},
     "output_type": "execute_result"
    }
   ],
   "source": [
    "np.linalg.norm(np.array([5, 6, 4, -2]) - np.array([ 0.,  6.,  3., -3.]))"
   ]
  },
  {
   "cell_type": "code",
   "execution_count": 2157,
   "metadata": {},
   "outputs": [
    {
     "data": {
      "text/plain": [
       "array([-5.00000000e-01,  5.00000000e-01,  2.77555756e-17])"
      ]
     },
     "execution_count": 2157,
     "metadata": {},
     "output_type": "execute_result"
    }
   ],
   "source": [
    "magic.projxS([[3, 3], [-3, -3], [-3, 3]], [0, 1, 0])"
   ]
  },
  {
   "cell_type": "code",
   "execution_count": 2158,
   "metadata": {},
   "outputs": [
    {
     "data": {
      "text/latex": [
       "$\\displaystyle 30.0$"
      ],
      "text/plain": [
       "30.000000000000004"
      ]
     },
     "execution_count": 2158,
     "metadata": {},
     "output_type": "execute_result"
    }
   ],
   "source": [
    "magic.anglexS([[0, 1], [1, 2], [2, 3]], [-1, -1, 2])"
   ]
  },
  {
   "cell_type": "code",
   "execution_count": 2159,
   "metadata": {},
   "outputs": [
    {
     "data": {
      "text/latex": [
       "$\\displaystyle 0.785398163397448$"
      ],
      "text/plain": [
       "0.7853981633974483"
      ]
     },
     "execution_count": 2159,
     "metadata": {},
     "output_type": "execute_result"
    }
   ],
   "source": [
    "np.pi / 4"
   ]
  },
  {
   "cell_type": "code",
   "execution_count": 2160,
   "metadata": {},
   "outputs": [
    {
     "data": {
      "text/plain": [
       "array([-21.,   2.,  -5.])"
      ]
     },
     "execution_count": 2160,
     "metadata": {},
     "output_type": "execute_result"
    }
   ],
   "source": [
    "magic.projxS([[-3, 3], [1, 0], [0, 1]], [-20, 5, -8])"
   ]
  },
  {
   "cell_type": "code",
   "execution_count": 2161,
   "metadata": {},
   "outputs": [
    {
     "data": {
      "text/latex": [
       "$\\displaystyle 0.1094$"
      ],
      "text/plain": [
       "0.1094"
      ]
     },
     "execution_count": 2161,
     "metadata": {},
     "output_type": "execute_result"
    }
   ],
   "source": [
    ".0156 + .0938"
   ]
  },
  {
   "cell_type": "code",
   "execution_count": 2162,
   "metadata": {},
   "outputs": [
    {
     "data": {
      "text/latex": [
       "$\\displaystyle 0.1094$"
      ],
      "text/plain": [
       "0.1094"
      ]
     },
     "execution_count": 2162,
     "metadata": {},
     "output_type": "execute_result"
    }
   ],
   "source": [
    ".0156 + .0938"
   ]
  },
  {
   "cell_type": "code",
   "execution_count": 2163,
   "metadata": {},
   "outputs": [
    {
     "data": {
      "text/plain": [
       "array([ 1., -1.])"
      ]
     },
     "execution_count": 2163,
     "metadata": {},
     "output_type": "execute_result"
    }
   ],
   "source": [
    "magic.least_squares_solution([[0, 2], [1, -1], [-1, 0], [2, 2]], [-5, 0, 1, 2])"
   ]
  },
  {
   "cell_type": "code",
   "execution_count": 2164,
   "metadata": {},
   "outputs": [
    {
     "data": {
      "text/latex": [
       "$\\displaystyle 4.58257569495584$"
      ],
      "text/plain": [
       "4.58257569495584"
      ]
     },
     "execution_count": 2164,
     "metadata": {},
     "output_type": "execute_result"
    }
   ],
   "source": [
    "A = np.array([[0, 2], [1, -1], [-1, 0], [2, 2]])\n",
    "x_cap = np.array([ 1., -1.])\n",
    "b = np.array([-5, 0, 1, 2])\n",
    "np.linalg.norm(A@x_cap - b)"
   ]
  },
  {
   "cell_type": "code",
   "execution_count": 2165,
   "metadata": {},
   "outputs": [
    {
     "data": {
      "text/latex": [
       "$\\displaystyle 114.0$"
      ],
      "text/plain": [
       "114.0"
      ]
     },
     "execution_count": 2165,
     "metadata": {},
     "output_type": "execute_result"
    }
   ],
   "source": [
    "10.677078252031311 * 10.677078252031311"
   ]
  },
  {
   "cell_type": "code",
   "execution_count": 2166,
   "metadata": {},
   "outputs": [
    {
     "data": {
      "text/latex": [
       "$\\displaystyle 21.0$"
      ],
      "text/plain": [
       "21.0"
      ]
     },
     "execution_count": 2166,
     "metadata": {},
     "output_type": "execute_result"
    }
   ],
   "source": [
    "4.58257569495584 * 4.58257569495584"
   ]
  },
  {
   "cell_type": "code",
   "execution_count": 2167,
   "metadata": {},
   "outputs": [
    {
     "data": {
      "text/plain": [
       "array([[ 6, 12],\n",
       "       [12, 24]])"
      ]
     },
     "execution_count": 2167,
     "metadata": {},
     "output_type": "execute_result"
    }
   ],
   "source": [
    "A = np.array([[2, 4], [-1, -2], [1, 2]])\n",
    "np.transpose(A) @ A"
   ]
  },
  {
   "cell_type": "code",
   "execution_count": 2168,
   "metadata": {},
   "outputs": [
    {
     "data": {
      "text/plain": [
       "array([ 6, 12])"
      ]
     },
     "execution_count": 2168,
     "metadata": {},
     "output_type": "execute_result"
    }
   ],
   "source": [
    "A = np.array([[2, 4], [-1, -2], [1, 2]])\n",
    "b = np.array([2, 0, 2])\n",
    "np.transpose(A) @ b"
   ]
  },
  {
   "cell_type": "code",
   "execution_count": 2169,
   "metadata": {},
   "outputs": [
    {
     "data": {
      "text/plain": [
       "array([0.06, 1.5 ])"
      ]
     },
     "execution_count": 2169,
     "metadata": {},
     "output_type": "execute_result"
    }
   ],
   "source": [
    "1/10 * (np.array([[11, -3], [-3, 1]]) @ np.array([22.8, 83.4]))"
   ]
  },
  {
   "cell_type": "code",
   "execution_count": 2170,
   "metadata": {},
   "outputs": [
    {
     "data": {
      "text/latex": [
       "$\\displaystyle 9.06$"
      ],
      "text/plain": [
       "9.06"
      ]
     },
     "execution_count": 2170,
     "metadata": {},
     "output_type": "execute_result"
    }
   ],
   "source": [
    ".06 + 1.5 * 6"
   ]
  },
  {
   "cell_type": "code",
   "execution_count": 2171,
   "metadata": {},
   "outputs": [
    {
     "data": {
      "text/latex": [
       "$\\displaystyle 1.03$"
      ],
      "text/plain": [
       "1.03"
      ]
     },
     "execution_count": 2171,
     "metadata": {},
     "output_type": "execute_result"
    }
   ],
   "source": [
    "(5.09 - 2) / 3"
   ]
  },
  {
   "cell_type": "code",
   "execution_count": 2172,
   "metadata": {},
   "outputs": [
    {
     "data": {
      "text/latex": [
       "$\\displaystyle -1.78$"
      ],
      "text/plain": [
       "-1.78"
      ]
     },
     "execution_count": 2172,
     "metadata": {},
     "output_type": "execute_result"
    }
   ],
   "source": [
    "(-.56 - 3) / 2"
   ]
  },
  {
   "cell_type": "code",
   "execution_count": 2173,
   "metadata": {},
   "outputs": [
    {
     "data": {
      "text/latex": [
       "$\\displaystyle 0.91$"
      ],
      "text/plain": [
       "0.9100000000000001"
      ]
     },
     "execution_count": 2173,
     "metadata": {},
     "output_type": "execute_result"
    }
   ],
   "source": [
    "(4.73 - 2) / 3"
   ]
  },
  {
   "cell_type": "code",
   "execution_count": 2174,
   "metadata": {},
   "outputs": [
    {
     "data": {
      "text/latex": [
       "$\\displaystyle 0.1814$"
      ],
      "text/plain": [
       "0.1814"
      ]
     },
     "execution_count": 2174,
     "metadata": {},
     "output_type": "execute_result"
    }
   ],
   "source": [
    "1 - .8186"
   ]
  },
  {
   "cell_type": "code",
   "execution_count": 2175,
   "metadata": {},
   "outputs": [
    {
     "data": {
      "text/latex": [
       "$\\displaystyle -0.61$"
      ],
      "text/plain": [
       "-0.6100000000000001"
      ]
     },
     "execution_count": 2175,
     "metadata": {},
     "output_type": "execute_result"
    }
   ],
   "source": [
    "(3.78 - 5) / 2"
   ]
  },
  {
   "cell_type": "code",
   "execution_count": 2176,
   "metadata": {},
   "outputs": [
    {
     "data": {
      "text/latex": [
       "$\\displaystyle 1.25$"
      ],
      "text/plain": [
       "1.25"
      ]
     },
     "execution_count": 2176,
     "metadata": {},
     "output_type": "execute_result"
    }
   ],
   "source": [
    "3.2 - .65*3"
   ]
  },
  {
   "cell_type": "code",
   "execution_count": 2177,
   "metadata": {},
   "outputs": [
    {
     "data": {
      "text/latex": [
       "$\\displaystyle 4.35161009573542$"
      ],
      "text/plain": [
       "4.351610095735422"
      ]
     },
     "execution_count": 2177,
     "metadata": {},
     "output_type": "execute_result"
    }
   ],
   "source": [
    "4/.9192\n"
   ]
  },
  {
   "cell_type": "code",
   "execution_count": 2178,
   "metadata": {},
   "outputs": [
    {
     "data": {
      "text/latex": [
       "$\\displaystyle -2.25$"
      ],
      "text/plain": [
       "-2.25"
      ]
     },
     "execution_count": 2178,
     "metadata": {},
     "output_type": "execute_result"
    }
   ],
   "source": [
    "-3 + .75"
   ]
  },
  {
   "cell_type": "code",
   "execution_count": 2179,
   "metadata": {},
   "outputs": [
    {
     "data": {
      "text/latex": [
       "$\\displaystyle 3.0$"
      ],
      "text/plain": [
       "3.0"
      ]
     },
     "execution_count": 2179,
     "metadata": {},
     "output_type": "execute_result"
    }
   ],
   "source": [
    "2.25 / .75"
   ]
  },
  {
   "cell_type": "code",
   "execution_count": 2180,
   "metadata": {},
   "outputs": [
    {
     "data": {
      "text/latex": [
       "$\\displaystyle -0.2$"
      ],
      "text/plain": [
       "-0.20000000000000018"
      ]
     },
     "execution_count": 2180,
     "metadata": {},
     "output_type": "execute_result"
    }
   ],
   "source": [
    "-2.2 - (-2)"
   ]
  },
  {
   "cell_type": "code",
   "execution_count": 2181,
   "metadata": {},
   "outputs": [
    {
     "data": {
      "text/latex": [
       "$\\displaystyle 1.0$"
      ],
      "text/plain": [
       "1.0000000000000009"
      ]
     },
     "execution_count": 2181,
     "metadata": {},
     "output_type": "execute_result"
    }
   ],
   "source": [
    "0.20000000000000018 / .2"
   ]
  },
  {
   "cell_type": "code",
   "execution_count": 2182,
   "metadata": {},
   "outputs": [
    {
     "data": {
      "text/latex": [
       "$\\displaystyle 4192.0$"
      ],
      "text/plain": [
       "4192.0"
      ]
     },
     "execution_count": 2182,
     "metadata": {},
     "output_type": "execute_result"
    }
   ],
   "source": [
    "8384/2"
   ]
  },
  {
   "cell_type": "code",
   "execution_count": 2183,
   "metadata": {},
   "outputs": [
    {
     "data": {
      "text/latex": [
       "$\\displaystyle 0.9192$"
      ],
      "text/plain": [
       "0.9192"
      ]
     },
     "execution_count": 2183,
     "metadata": {},
     "output_type": "execute_result"
    }
   ],
   "source": [
    ".4192 + .5"
   ]
  },
  {
   "cell_type": "code",
   "execution_count": 2184,
   "metadata": {},
   "outputs": [
    {
     "data": {
      "text/latex": [
       "$\\displaystyle 8.16326530612245$"
      ],
      "text/plain": [
       "8.16326530612245"
      ]
     },
     "execution_count": 2184,
     "metadata": {},
     "output_type": "execute_result"
    }
   ],
   "source": [
    "(4/1.4) ** 2"
   ]
  },
  {
   "cell_type": "code",
   "execution_count": 2185,
   "metadata": {},
   "outputs": [
    {
     "data": {
      "text/latex": [
       "$\\displaystyle 0.6664$"
      ],
      "text/plain": [
       "0.6664"
      ]
     },
     "execution_count": 2185,
     "metadata": {},
     "output_type": "execute_result"
    }
   ],
   "source": [
    ".3328 / 2 + .5"
   ]
  },
  {
   "cell_type": "code",
   "execution_count": 2186,
   "metadata": {},
   "outputs": [
    {
     "data": {
      "text/latex": [
       "$\\displaystyle 15.6300703082747$"
      ],
      "text/plain": [
       "15.630070308274743"
      ]
     },
     "execution_count": 2186,
     "metadata": {},
     "output_type": "execute_result"
    }
   ],
   "source": [
    "(1.7 / .43) ** 2"
   ]
  },
  {
   "cell_type": "code",
   "execution_count": 2187,
   "metadata": {},
   "outputs": [
    {
     "data": {
      "text/latex": [
       "$\\displaystyle 0.1217$"
      ],
      "text/plain": [
       "0.1217"
      ]
     },
     "execution_count": 2187,
     "metadata": {},
     "output_type": "execute_result"
    }
   ],
   "source": [
    ".2434/2"
   ]
  },
  {
   "cell_type": "code",
   "execution_count": 2188,
   "metadata": {},
   "outputs": [
    {
     "data": {
      "text/latex": [
       "$\\displaystyle 0.6217$"
      ],
      "text/plain": [
       "0.6217"
      ]
     },
     "execution_count": 2188,
     "metadata": {},
     "output_type": "execute_result"
    }
   ],
   "source": [
    "0.1217 + .5"
   ]
  },
  {
   "cell_type": "code",
   "execution_count": 2189,
   "metadata": {},
   "outputs": [
    {
     "data": {
      "text/latex": [
       "$\\displaystyle 1.77142857142857$"
      ],
      "text/plain": [
       "1.7714285714285716"
      ]
     },
     "execution_count": 2189,
     "metadata": {},
     "output_type": "execute_result"
    }
   ],
   "source": [
    "4 * .31 / .7"
   ]
  },
  {
   "cell_type": "code",
   "execution_count": 2190,
   "metadata": {},
   "outputs": [
    {
     "data": {
      "text/latex": [
       "$\\displaystyle 0.3159$"
      ],
      "text/plain": [
       "0.3159"
      ]
     },
     "execution_count": 2190,
     "metadata": {},
     "output_type": "execute_result"
    }
   ],
   "source": [
    ".6318 / 2"
   ]
  },
  {
   "cell_type": "code",
   "execution_count": 2191,
   "metadata": {},
   "outputs": [
    {
     "data": {
      "text/latex": [
       "$\\displaystyle 0.27648$"
      ],
      "text/plain": [
       "0.27648"
      ]
     },
     "execution_count": 2191,
     "metadata": {},
     "output_type": "execute_result"
    }
   ],
   "source": [
    "magic.bernoulli_trial(6, 3, .6)"
   ]
  },
  {
   "cell_type": "code",
   "execution_count": 2192,
   "metadata": {},
   "outputs": [
    {
     "data": {
      "text/latex": [
       "$\\displaystyle 0.72576$"
      ],
      "text/plain": [
       "0.72576"
      ]
     },
     "execution_count": 2192,
     "metadata": {},
     "output_type": "execute_result"
    }
   ],
   "source": [
    "magic.binomial_distribution(6, 2, 4, .6)"
   ]
  },
  {
   "cell_type": "code",
   "execution_count": 2193,
   "metadata": {},
   "outputs": [
    {
     "data": {
      "text/latex": [
       "$\\displaystyle -1.61$"
      ],
      "text/plain": [
       "-1.61"
      ]
     },
     "execution_count": 2193,
     "metadata": {},
     "output_type": "execute_result"
    }
   ],
   "source": [
    "-.81 + -.8"
   ]
  },
  {
   "cell_type": "code",
   "execution_count": 2194,
   "metadata": {},
   "outputs": [
    {
     "data": {
      "text/latex": [
       "$\\displaystyle 0.805$"
      ],
      "text/plain": [
       "0.805"
      ]
     },
     "execution_count": 2194,
     "metadata": {},
     "output_type": "execute_result"
    }
   ],
   "source": [
    "1.61/2"
   ]
  },
  {
   "cell_type": "code",
   "execution_count": 2195,
   "metadata": {},
   "outputs": [
    {
     "data": {
      "text/latex": [
       "$\\displaystyle 1.525$"
      ],
      "text/plain": [
       "1.525"
      ]
     },
     "execution_count": 2195,
     "metadata": {},
     "output_type": "execute_result"
    }
   ],
   "source": [
    "(1.52 + 1.53) / 2"
   ]
  },
  {
   "cell_type": "code",
   "execution_count": 2196,
   "metadata": {},
   "outputs": [
    {
     "data": {
      "text/latex": [
       "$\\displaystyle \\int_a^b f(x) \\, dx = F(b) - F(a)$"
      ],
      "text/plain": [
       "<IPython.core.display.Math object>"
      ]
     },
     "metadata": {},
     "output_type": "display_data"
    }
   ],
   "source": [
    "from IPython.display import display, Math\n",
    "\n",
    "# Display a LaTeX expression\n",
    "display(Math(r'\\int_a^b f(x) \\, dx = F(b) - F(a)'))"
   ]
  },
  {
   "cell_type": "code",
   "execution_count": 2197,
   "metadata": {},
   "outputs": [
    {
     "name": "stdout",
     "output_type": "stream",
     "text": [
      "1.0/(x + y + 1)**0.5\n"
     ]
    }
   ],
   "source": [
    "from sympy import symbols, diff\n",
    "\n",
    "# Define the variable and the function\n",
    "x = symbols('x')\n",
    "y = symbols('y')\n",
    "function = 2 * ((x + y + 1) ** (1/2))\n",
    "\n",
    "# Calculate the derivative\n",
    "derivative = diff(function, x)\n",
    "print(derivative)\n",
    "# print(derivative.sub)\n"
   ]
  },
  {
   "cell_type": "code",
   "execution_count": 2198,
   "metadata": {},
   "outputs": [],
   "source": [
    "from sympy import symbols, diff\n",
    "\n",
    "def quadratic_taylor(function, x, a):\n",
    "    \"\"\"\n",
    "    Compute the quadratic Taylor expansion of a function at a given point.\n",
    "    \n",
    "    Parameters:\n",
    "    - function: The sympy expression representing the function.\n",
    "    - x: The sympy symbol for the variable of the function.\n",
    "    - a: The point at which the Taylor expansion is centered.\n",
    "\n",
    "    Returns:\n",
    "    - The quadratic Taylor expansion of the function.\n",
    "    \"\"\"\n",
    "    # Compute the first derivative\n",
    "    f_prime = diff(function, x)\n",
    "    \n",
    "    # Compute the second derivative\n",
    "    f_double_prime = diff(f_prime, x)\n",
    "    \n",
    "    # Taylor expansion terms\n",
    "    taylor_0 = function.subs(x, a)  # f(a)\n",
    "    taylor_1 = f_prime.subs(x, a) * (x - a)  # f'(a) * (x - a)\n",
    "    taylor_2 = f_double_prime.subs(x, a) * (x - a)**2 / 2  # f''(a) * (x - a)^2 / 2!\n",
    "    \n",
    "    # Combine terms\n",
    "    taylor_expansion = taylor_0 + taylor_1 + taylor_2\n",
    "    return taylor_expansion\n"
   ]
  },
  {
   "cell_type": "code",
   "execution_count": 2199,
   "metadata": {},
   "outputs": [
    {
     "name": "stdout",
     "output_type": "stream",
     "text": [
      "-x*y/2 + x - y/4\n"
     ]
    }
   ],
   "source": [
    "from sympy import Rational, Add\n",
    "\n",
    "def convert_to_rational(expr):\n",
    "    \"\"\"\n",
    "    Converts all numerical coefficients in a SymPy expression to rational numbers.\n",
    "    \n",
    "    Parameters:\n",
    "        expr: sympy.Expr\n",
    "            The input expression.\n",
    "    \n",
    "    Returns:\n",
    "        sympy.Expr\n",
    "            The expression with all numerical coefficients as Rational numbers.\n",
    "    \"\"\"\n",
    "    if expr.is_Atom:  # Base case: if it's a single term\n",
    "        if expr.is_Number:\n",
    "            return Rational(expr)\n",
    "        return expr\n",
    "\n",
    "    if expr.is_Add or expr.is_Mul:  # If it's an addition or multiplication\n",
    "        return expr.func(*[convert_to_rational(arg) for arg in expr.args])\n",
    "\n",
    "    if expr.is_Pow:  # If it's a power\n",
    "        base, exp = expr.args\n",
    "        return base**convert_to_rational(exp)\n",
    "\n",
    "    return expr  # Default case: return as is\n",
    "\n",
    "# Example usage\n",
    "from sympy import symbols\n",
    "\n",
    "x, y = symbols('x y')\n",
    "expr = -0.5 * x * y + 1.0 * x - 0.25 * y\n",
    "\n",
    "# Convert to rational\n",
    "rational_expr = convert_to_rational(expr)\n",
    "print(rational_expr)\n"
   ]
  },
  {
   "cell_type": "code",
   "execution_count": 2200,
   "metadata": {},
   "outputs": [],
   "source": [
    "from sympy import simplify, diff\n",
    "\n",
    "def quadratic_taylor_multivariable(f, vars, point):\n",
    "    \"\"\"\n",
    "    Compute the quadratic Taylor expansion of a multivariable function \n",
    "    at a given point.\n",
    "\n",
    "    Parameters:\n",
    "    - f:      The sympy expression representing the function.\n",
    "    - vars:   A list of sympy symbols [x1, x2, ..., xn].\n",
    "    - point:  A dict {x1: a1, x2: a2, ...} giving the expansion point.\n",
    "\n",
    "    Returns:\n",
    "    - The quadratic Taylor expansion of f about 'point', simplified.\n",
    "    \"\"\"\n",
    "\n",
    "    # 0th-order term:  f(a)\n",
    "    taylor = f.subs(point)\n",
    "\n",
    "    # 1st-order terms:  sum of df/dx_i (a) * (x_i - a_i)\n",
    "    for v in vars:\n",
    "        df_dv = diff(f, v)\n",
    "        taylor += df_dv.subs(point) * (v - point[v])\n",
    "\n",
    "    # 2nd-order terms:\n",
    "    #    1/2 \\sum_{i,j} f_{i j}(a) * (x_i - a_i)(x_j - a_j)\n",
    "    # A common way to avoid double counting is to loop i <= j:\n",
    "    n = len(vars)\n",
    "    for i in range(n):\n",
    "        for j in range(i, n):\n",
    "            d2 = diff(f, vars[i], vars[j]).subs(point)\n",
    "            if i == j:\n",
    "                # pure second derivative terms get a 1/2 factor\n",
    "                taylor += d2 * (vars[i] - point[vars[i]])**2 / 2\n",
    "            else:\n",
    "                # cross terms appear once, but with no 1/2\n",
    "                # (because f_{xy} = f_{yx} for sufficiently smooth f)\n",
    "                taylor += d2 * (vars[i] - point[vars[i]]) * (vars[j] - point[vars[j]])\n",
    "\n",
    "    return simplify(taylor)\n"
   ]
  },
  {
   "cell_type": "code",
   "execution_count": 2201,
   "metadata": {},
   "outputs": [
    {
     "data": {
      "text/latex": [
       "$\\displaystyle - 0.25 x^{2} - 0.5 x y + 1.0 x - 0.25 y^{2} + 1.0 y + 2$"
      ],
      "text/plain": [
       "        2                           2            \n",
       "- 0.25⋅x  - 0.5⋅x⋅y + 1.0⋅x - 0.25⋅y  + 1.0⋅y + 2"
      ]
     },
     "metadata": {},
     "output_type": "display_data"
    },
    {
     "data": {
      "text/latex": [
       "$\\displaystyle - \\frac{x^{2}}{4} - \\frac{x y}{2} + x - \\frac{y^{2}}{4} + y + 2$"
      ],
      "text/plain": [
       "   2              2        \n",
       "  x    x⋅y       y         \n",
       "- ── - ─── + x - ── + y + 2\n",
       "  4     2        4         "
      ]
     },
     "metadata": {},
     "output_type": "display_data"
    }
   ],
   "source": [
    "from sympy import symbols\n",
    "\n",
    "# Define variables\n",
    "x, y = symbols('x y')\n",
    "\n",
    "# Define the function\n",
    "function =2 * ((x + y + 1) ** (1/2))\n",
    "\n",
    "# Center the expansion at (x=1, y=2)\n",
    "point = {x: 0, y: 0}\n",
    "\n",
    "# Compute the Taylor expansion\n",
    "taylor_expansion = quadratic_taylor_multivariable(function, [x, y], point)\n",
    "display(taylor_expansion)\n",
    "display(convert_to_rational(taylor_expansion))\n"
   ]
  },
  {
   "cell_type": "code",
   "execution_count": 2202,
   "metadata": {},
   "outputs": [
    {
     "data": {
      "text/latex": [
       "$\\displaystyle \\frac{x^{2} + x}{x \\sin^{2}{\\left(y \\right)} + x \\cos^{2}{\\left(y \\right)}}$"
      ],
      "text/plain": [
       "        2            \n",
       "       x  + x        \n",
       "─────────────────────\n",
       "     2           2   \n",
       "x⋅sin (y) + x⋅cos (y)"
      ]
     },
     "execution_count": 2202,
     "metadata": {},
     "output_type": "execute_result"
    }
   ],
   "source": [
    "from sympy import simplify, cos, sin\n",
    "from sympy.abc import x, y\n",
    "a = (x + x**2)/(x*sin(y)**2 + x*cos(y)**2)\n",
    "a"
   ]
  },
  {
   "cell_type": "code",
   "execution_count": 2203,
   "metadata": {},
   "outputs": [
    {
     "data": {
      "text/latex": [
       "$\\displaystyle x + 1$"
      ],
      "text/plain": [
       "x + 1"
      ]
     },
     "execution_count": 2203,
     "metadata": {},
     "output_type": "execute_result"
    }
   ],
   "source": [
    "simplify(a)"
   ]
  },
  {
   "cell_type": "code",
   "execution_count": 2204,
   "metadata": {},
   "outputs": [
    {
     "name": "stdout",
     "output_type": "stream",
     "text": [
      "1/4\n"
     ]
    }
   ],
   "source": [
    "from sympy import Rational\n",
    "\n",
    "# Convert 0.25 to a fraction\n",
    "fraction = Rational(0.25)\n",
    "print(fraction)\n"
   ]
  },
  {
   "cell_type": "code",
   "execution_count": 2205,
   "metadata": {},
   "outputs": [
    {
     "name": "stdout",
     "output_type": "stream",
     "text": [
      "-x*y/2 + x - y/4\n"
     ]
    }
   ],
   "source": [
    "from sympy import symbols, Rational\n",
    "\n",
    "# Define the variables\n",
    "x, y = symbols('x y')\n",
    "\n",
    "# Define the expression with Rational coefficients\n",
    "expression = Rational(-0.5) * x * y + Rational(1.0) * x + Rational(-0.25) * y\n",
    "\n",
    "print(expression)\n"
   ]
  },
  {
   "cell_type": "code",
   "execution_count": 2206,
   "metadata": {},
   "outputs": [
    {
     "data": {
      "text/latex": [
       "$\\displaystyle - \\frac{x y}{2} + x - \\frac{y}{4}$"
      ],
      "text/plain": [
       "  x⋅y       y\n",
       "- ─── + x - ─\n",
       "   2        4"
      ]
     },
     "metadata": {},
     "output_type": "display_data"
    }
   ],
   "source": [
    "from sympy import init_printing, latex, symbols, Rational\n",
    "init_printing()\n",
    "# Define variables\n",
    "x, y = symbols('x y')\n",
    "\n",
    "# Example expression\n",
    "expr = Rational(-1, 2) * x * y + x - Rational(1, 4) * y\n",
    "display(expr)"
   ]
  },
  {
   "cell_type": "code",
   "execution_count": null,
   "metadata": {},
   "outputs": [],
   "source": []
  }
 ],
 "metadata": {
  "kernelspec": {
   "display_name": "venv",
   "language": "python",
   "name": "python3"
  },
  "language_info": {
   "codemirror_mode": {
    "name": "ipython",
    "version": 3
   },
   "file_extension": ".py",
   "mimetype": "text/x-python",
   "name": "python",
   "nbconvert_exporter": "python",
   "pygments_lexer": "ipython3",
   "version": "3.11.3"
  }
 },
 "nbformat": 4,
 "nbformat_minor": 2
}
