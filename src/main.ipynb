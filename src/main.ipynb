{
 "cells": [
  {
   "cell_type": "code",
   "execution_count": 37,
   "metadata": {},
   "outputs": [],
   "source": [
    "from os import *\n",
    "from sys import *\n",
    "from collections import *\n",
    "from math import *\n",
    "\n",
    "def ctoi(c):\n",
    "    return ord(c) - 97\n",
    "\n",
    "class Trie:\n",
    "    def __init__(self):\n",
    "        # Write your code here.\n",
    "        self.nodes = [None for _ in range(26)]\n",
    "        self.ends = [0 for _ in range(26)]\n",
    "        self.counts = [0 for _ in range(26)]\n",
    "\n",
    "    def insert(self, word):\n",
    "        temp = self\n",
    "        for c in word:\n",
    "            i = ctoi(c)\n",
    "            if not temp.nodes[i]:\n",
    "                temp.nodes[i] = Trie()\n",
    "            temp = temp.nodes[i]\n",
    "            temp.counts[i] += 1\n",
    "\n",
    "        temp.ends[i] += 1\n",
    "\n",
    "    def countWordsEqualTo(self, word):\n",
    "        temp = self\n",
    "        for c in word:\n",
    "            i = ctoi(c)\n",
    "            if not temp.nodes[i]:\n",
    "                return 0\n",
    "            temp = temp.nodes[i]\n",
    "        return temp.ends[i]\n",
    "\n",
    "    def countWordsStartingWith(self, prefix):\n",
    "        temp = self\n",
    "        for c in prefix:\n",
    "            i = ctoi(c)\n",
    "            if not temp.nodes[i]:\n",
    "                return 0\n",
    "            temp = temp.nodes[i]\n",
    "        return temp.counts[i]\n",
    "\n",
    "    def erase(self, word):\n",
    "        temp = self\n",
    "        for c in word:\n",
    "            i = ctoi(c)\n",
    "            temp = temp.nodes[i]\n",
    "            temp.counts[i] -= 1\n",
    "        temp.ends[i] -= 1\n"
   ]
  },
  {
   "cell_type": "code",
   "execution_count": 38,
   "metadata": {},
   "outputs": [
    {
     "data": {
      "text/plain": [
       "1"
      ]
     },
     "execution_count": 38,
     "metadata": {},
     "output_type": "execute_result"
    }
   ],
   "source": [
    "t = Trie()\n",
    "t.insert('coding')\n",
    "t.insert('code')\n",
    "t.erase('code')\n",
    "t.countWordsStartingWith('cod')"
   ]
  },
  {
   "cell_type": "code",
   "execution_count": 39,
   "metadata": {},
   "outputs": [
    {
     "name": "stdout",
     "output_type": "stream",
     "text": [
      "2\n",
      "14\n",
      "3\n",
      "8\n",
      "13\n",
      "6\n"
     ]
    }
   ],
   "source": [
    "for c in 'coding':\n",
    "    print(ctoi(c))"
   ]
  },
  {
   "cell_type": "code",
   "execution_count": 40,
   "metadata": {},
   "outputs": [
    {
     "data": {
      "text/plain": [
       "31"
      ]
     },
     "execution_count": 40,
     "metadata": {},
     "output_type": "execute_result"
    }
   ],
   "source": [
    "len('1111111111111111111111111111101')"
   ]
  },
  {
   "cell_type": "code",
   "execution_count": null,
   "metadata": {},
   "outputs": [],
   "source": []
  }
 ],
 "metadata": {
  "kernelspec": {
   "display_name": "dsa-venv",
   "language": "python",
   "name": "python3"
  },
  "language_info": {
   "codemirror_mode": {
    "name": "ipython",
    "version": 3
   },
   "file_extension": ".py",
   "mimetype": "text/x-python",
   "name": "python",
   "nbconvert_exporter": "python",
   "pygments_lexer": "ipython3",
   "version": "3.11.3"
  }
 },
 "nbformat": 4,
 "nbformat_minor": 2
}
