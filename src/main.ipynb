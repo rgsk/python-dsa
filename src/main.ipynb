{
 "cells": [
  {
   "cell_type": "code",
   "execution_count": 33,
   "metadata": {},
   "outputs": [],
   "source": [
    "import math\n",
    "\n",
    "def poisson_pmf(lambda_value, x):\n",
    "    \"\"\"\n",
    "    Calculate the Poisson PMF.\n",
    "\n",
    "    Parameters:\n",
    "    - lambda_value (float): The expected number of occurrences (λ).\n",
    "    - x (int): The actual number of occurrences.\n",
    "\n",
    "    Returns:\n",
    "    - float: The probability of observing x occurrences.\n",
    "    \"\"\"\n",
    "    return (lambda_value ** x) * math.exp(-lambda_value) / math.factorial(x)\n"
   ]
  },
  {
   "cell_type": "code",
   "execution_count": 46,
   "metadata": {},
   "outputs": [],
   "source": [
    "def poisson_range(lambda_value, start, end):\n",
    "    result = 0\n",
    "    for x in range(start, end + 1):\n",
    "        result += poisson_pmf(lambda_value, x)\n",
    "    return result"
   ]
  },
  {
   "cell_type": "code",
   "execution_count": null,
   "metadata": {},
   "outputs": [],
   "source": []
  }
 ],
 "metadata": {
  "kernelspec": {
   "display_name": "venv",
   "language": "python",
   "name": "python3"
  },
  "language_info": {
   "codemirror_mode": {
    "name": "ipython",
    "version": 3
   },
   "file_extension": ".py",
   "mimetype": "text/x-python",
   "name": "python",
   "nbconvert_exporter": "python",
   "pygments_lexer": "ipython3",
   "version": "3.11.3"
  }
 },
 "nbformat": 4,
 "nbformat_minor": 2
}
