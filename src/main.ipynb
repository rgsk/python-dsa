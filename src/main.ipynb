{
 "cells": [
  {
   "cell_type": "code",
   "execution_count": null,
   "metadata": {},
   "outputs": [],
   "source": [
    "responses = {\n",
    "    \"IPv4\":\"IPv4\",\n",
    "    \"IPv6\":\"IPv6\",\n",
    "    \"Neither\":\"Neither\"\n",
    "}\n",
    "\n",
    "class Solution:\n",
    "    def validIPAddress(self, queryIP: str) -> str:\n",
    "        if '.' in queryIP:\n",
    "            components = queryIP.split('.')\n",
    "            if len(components) == 4:\n",
    "                for comp in components:\n",
    "                    if comp[0] == '0' and len(comp) > 1:\n",
    "                        return responses['Neither']\n",
    "                    if int(comp) > 255:\n",
    "                        return responses['Neither']\n",
    "                return responses['IPv4']\n",
    "        else:\n",
    "            components = queryIP.split(':')\n",
    "            if len(components) == 6:\n",
    "                for comp in components:\n",
    "                    for c in comp:\n",
    "                        if not c.isnumeric() and c not in 'abcdeABCDEF':\n",
    "                            return responses['Neither']\n",
    "                return responses['IPv6']\n",
    "        return responses['Neither']"
   ]
  },
  {
   "cell_type": "code",
   "execution_count": 3,
   "metadata": {},
   "outputs": [
    {
     "name": "stdout",
     "output_type": "stream",
     "text": [
      "a\n",
      "['a', 'a', 'a']\n",
      "b\n",
      "['b']\n",
      "a\n",
      "['a', 'a', 'a']\n"
     ]
    }
   ],
   "source": [
    "import itertools\n",
    "\n",
    "for c, g in itertools.groupby('aaabaaa'):\n",
    "    print(c)\n",
    "    print(list(g))"
   ]
  },
  {
   "cell_type": "code",
   "execution_count": 5,
   "metadata": {},
   "outputs": [
    {
     "data": {
      "text/plain": [
       "[[1, 2, 3], [1, 2, 4]]"
      ]
     },
     "execution_count": 5,
     "metadata": {},
     "output_type": "execute_result"
    }
   ],
   "source": [
    "sorted([[1, 2, 4], [1,2,3]])"
   ]
  },
  {
   "cell_type": "code",
   "execution_count": 24,
   "metadata": {},
   "outputs": [
    {
     "name": "stdout",
     "output_type": "stream",
     "text": [
      "True\n",
      "False\n",
      "False\n"
     ]
    }
   ],
   "source": [
    "i = iter('adbc')\n",
    "print('a' in i)\n",
    "print('i' in i)\n",
    "print('c' in i)"
   ]
  },
  {
   "cell_type": "code",
   "execution_count": 27,
   "metadata": {},
   "outputs": [
    {
     "name": "stdout",
     "output_type": "stream",
     "text": [
      "Evaluating...\n",
      "False\n"
     ]
    }
   ],
   "source": [
    "def test_all_short_circuit():\n",
    "    print(\"Evaluating...\")\n",
    "    return False\n",
    "\n",
    "print(all(test_all_short_circuit() for i in range(10))) "
   ]
  },
  {
   "cell_type": "code",
   "execution_count": null,
   "metadata": {},
   "outputs": [],
   "source": []
  }
 ],
 "metadata": {
  "kernelspec": {
   "display_name": "dsa-venv",
   "language": "python",
   "name": "python3"
  },
  "language_info": {
   "codemirror_mode": {
    "name": "ipython",
    "version": 3
   },
   "file_extension": ".py",
   "mimetype": "text/x-python",
   "name": "python",
   "nbconvert_exporter": "python",
   "pygments_lexer": "ipython3",
   "version": "3.11.3"
  }
 },
 "nbformat": 4,
 "nbformat_minor": 2
}
