{
 "cells": [
  {
   "cell_type": "code",
   "execution_count": null,
   "metadata": {},
   "outputs": [],
   "source": [
    "# https://youtube.com/watch?v=JoF0Z7nVSrA\n",
    "\n",
    "# Knuth–Morris–Pratt KMP \n",
    "\n",
    "# Practice Problem\n",
    "# Find the Index of the First Occurrence in a String - Leetcode 28 - Python"
   ]
  },
  {
   "cell_type": "code",
   "execution_count": null,
   "metadata": {},
   "outputs": [],
   "source": [
    "class Solution:\n",
    "    def strStr(self, haystack: str, needle: str) -> int:\n",
    "        lps = [0] * len(needle)\n",
    "        prevLPS, i = 0, 1\n",
    "        while i < len(needle):\n",
    "            if needle[i] == needle[prevLPS]:\n",
    "                lps[i] = prevLPS + 1\n",
    "                prevLPS += 1\n",
    "                i += 1\n",
    "            else:\n",
    "                if prevLPS == 0:\n",
    "                    lps[i] = 0\n",
    "                    i += 1\n",
    "                else:\n",
    "                    prevLPS = lps[prevLPS - 1]\n",
    "        i = 0\n",
    "        j = 0\n",
    "        while i < len(haystack):\n",
    "            if haystack[i] == needle[j]:\n",
    "                i += 1\n",
    "                j += 1\n",
    "                if j == len(needle):\n",
    "                    return i - len(needle)\n",
    "            else:\n",
    "                if j == 0:\n",
    "                    i += 1\n",
    "                else:\n",
    "                    j = lps[j-1]\n",
    "        return -1"
   ]
  },
  {
   "cell_type": "code",
   "execution_count": null,
   "metadata": {},
   "outputs": [],
   "source": [
    "haystack = \"esadbutsad\"\n",
    "needle = \"sad\"\n",
    "sol = Solution()\n",
    "print(sol.strStr(haystack, needle))"
   ]
  }
 ],
 "metadata": {
  "language_info": {
   "name": "python"
  }
 },
 "nbformat": 4,
 "nbformat_minor": 2
}
