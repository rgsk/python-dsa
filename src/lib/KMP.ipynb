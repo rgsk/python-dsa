{
 "cells": [
  {
   "cell_type": "code",
   "execution_count": 9,
   "metadata": {},
   "outputs": [],
   "source": [
    "# https://youtube.com/watch?v=JoF0Z7nVSrA\n",
    "\n",
    "# Knuth–Morris–Pratt KMP \n",
    "\n",
    "# Practice Problem\n",
    "# Find the Index of the First Occurrence in a String - Leetcode 28 - Python\n",
    "\n",
    "# how much prefix is already matched so that we start from\n",
    "# the prefix and we don't loose the already matched prefix"
   ]
  },
  {
   "cell_type": "code",
   "execution_count": 10,
   "metadata": {},
   "outputs": [],
   "source": [
    "class Solution:\n",
    "    def strStr(self, haystack: str, needle: str) -> int:\n",
    "        lps = [0] * len(needle)\n",
    "        prevLPS, i = 0, 1\n",
    "        while i < len(needle):\n",
    "            if needle[i] == needle[prevLPS]:\n",
    "                lps[i] = prevLPS + 1\n",
    "                prevLPS += 1\n",
    "                i += 1\n",
    "            else:\n",
    "                if prevLPS == 0:\n",
    "                    lps[i] = 0\n",
    "                    i += 1\n",
    "                else:\n",
    "                    prevLPS = lps[prevLPS - 1]\n",
    "        print(f'{lps=}')\n",
    "        i = 0\n",
    "        j = 0\n",
    "        while i < len(haystack):\n",
    "            if haystack[i] == needle[j]:\n",
    "                i += 1\n",
    "                j += 1\n",
    "                if j == len(needle):\n",
    "                    return i - len(needle)\n",
    "            else:\n",
    "                if j == 0:\n",
    "                    i += 1\n",
    "                else:\n",
    "                    j = lps[j-1]\n",
    "        return -1"
   ]
  },
  {
   "cell_type": "code",
   "execution_count": 11,
   "metadata": {},
   "outputs": [
    {
     "name": "stdout",
     "output_type": "stream",
     "text": [
      "lps=[0, 0, 0]\n",
      "1\n"
     ]
    }
   ],
   "source": [
    "haystack = \"esadbutsad\"\n",
    "needle = \"sad\"\n",
    "sol = Solution()\n",
    "print(sol.strStr(haystack, needle))"
   ]
  },
  {
   "cell_type": "code",
   "execution_count": 12,
   "metadata": {},
   "outputs": [
    {
     "name": "stdout",
     "output_type": "stream",
     "text": [
      "lps=[0, 1, 2, 0, 1, 2, 3, 3, 4]\n",
      "-1\n"
     ]
    }
   ],
   "source": [
    "haystack = \"esadbutsad\"\n",
    "needle = \"aaadaaaad\"\n",
    "sol = Solution()\n",
    "print(sol.strStr(haystack, needle))"
   ]
  }
 ],
 "metadata": {
  "kernelspec": {
   "display_name": "dsa-venv",
   "language": "python",
   "name": "python3"
  },
  "language_info": {
   "codemirror_mode": {
    "name": "ipython",
    "version": 3
   },
   "file_extension": ".py",
   "mimetype": "text/x-python",
   "name": "python",
   "nbconvert_exporter": "python",
   "pygments_lexer": "ipython3",
   "version": "3.11.3"
  }
 },
 "nbformat": 4,
 "nbformat_minor": 2
}
