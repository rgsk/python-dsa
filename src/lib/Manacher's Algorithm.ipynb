{
 "cells": [
  {
   "cell_type": "code",
   "execution_count": 107,
   "metadata": {},
   "outputs": [],
   "source": [
    "# https://www.youtube.com/watch?v=V-sEwsca1ak"
   ]
  },
  {
   "cell_type": "code",
   "execution_count": 108,
   "metadata": {},
   "outputs": [
    {
     "name": "stdout",
     "output_type": "stream",
     "text": [
      "[1, 3, 1, 7, 1, 9, 1, 5, 1, 1, 11, 1, 1, 9, 1, 1, 3, 1]\n"
     ]
    }
   ],
   "source": [
    "# s = \"abaxabaxabb\"\n",
    "s = \"abaxabaxabybaxabyb\"\n",
    "n = len(s)\n",
    "center = 0\n",
    "pal_lengths = [0] * n\n",
    "while center < n:\n",
    "    l = center - 1\n",
    "    r = center + 1\n",
    "    while l >= 0 and r < n and s[l] == s[r]:\n",
    "        l -= 1\n",
    "        r += 1\n",
    "    pal_length = r - l - 1\n",
    "    pal_lengths[center] = pal_length\n",
    "    center += 1\n",
    "print(pal_lengths)"
   ]
  },
  {
   "cell_type": "code",
   "execution_count": 109,
   "metadata": {},
   "outputs": [],
   "source": [
    "\n",
    "\n",
    "def algo(s):\n",
    "    print(s)\n",
    "    n = len(s)\n",
    "    center = 0\n",
    "    pal_lengths = [0] * n\n",
    "    while center < n:\n",
    "        # print(f'{center=}')\n",
    "        l = center - 1\n",
    "        r = center + 1\n",
    "        while l >= 0 and r < n and s[l] == s[r]:\n",
    "            l -= 1\n",
    "            r += 1\n",
    "        r -= 1\n",
    "        l += 1\n",
    "        pal_length = r - l + 1\n",
    "        pal_lengths[center] = pal_length\n",
    "        if center + pal_lengths[center]//2 >= n-1:\n",
    "            break\n",
    "        cl = center - 1\n",
    "        cr = center + 1\n",
    "\n",
    "        while cr <= r:\n",
    "            if cl - pal_lengths[cl] // 2 < l:\n",
    "                pal_lengths[cr] = (cl - l) * 2 + 1\n",
    "            elif cr + pal_lengths[cl] //2 >= r:\n",
    "                break\n",
    "            else:\n",
    "                pal_lengths[cr] = pal_lengths[cl]\n",
    "            cl -= 1\n",
    "            cr += 1\n",
    "        center = cr\n",
    "        \n",
    "    print(pal_lengths)"
   ]
  },
  {
   "cell_type": "code",
   "execution_count": 110,
   "metadata": {},
   "outputs": [
    {
     "name": "stdout",
     "output_type": "stream",
     "text": [
      "abaxabaxabb\n",
      "[1, 3, 1, 7, 1, 9, 1, 5, 1, 1, 1]\n"
     ]
    }
   ],
   "source": [
    "s = \"abaxabaxabb\"\n",
    "algo(s)"
   ]
  },
  {
   "cell_type": "code",
   "execution_count": 111,
   "metadata": {},
   "outputs": [
    {
     "name": "stdout",
     "output_type": "stream",
     "text": [
      "abaxabaxabybaxabyb\n",
      "[1, 3, 1, 7, 1, 9, 1, 5, 1, 1, 11, 1, 1, 9, 0, 0, 0, 0]\n"
     ]
    }
   ],
   "source": [
    "s = \"abaxabaxabybaxabyb\"\n",
    "algo(s)"
   ]
  },
  {
   "cell_type": "code",
   "execution_count": 112,
   "metadata": {},
   "outputs": [
    {
     "name": "stdout",
     "output_type": "stream",
     "text": [
      "$a$b$a$\n",
      "[1, 3, 1, 7, 0, 0, 0]\n"
     ]
    }
   ],
   "source": [
    "s = \"aba\" # odd length\n",
    "# s = \"abaab\" # even length\n",
    "new_s = \"$\" + \"$\".join([v for v in s]) + \"$\"\n",
    "s = new_s\n",
    "\n",
    "algo(s)"
   ]
  },
  {
   "cell_type": "code",
   "execution_count": 113,
   "metadata": {},
   "outputs": [],
   "source": [
    "# https://leetcode.com/problems/longest-palindromic-substring/description/\n",
    "\n",
    "# Manacher's Algorithm\n",
    "\n",
    "\n",
    "class Solution:\n",
    "    def longestPalindrome(self, s: str) -> str:\n",
    "        s = \"$\" + \"$\".join([v for v in s]) + \"$\"\n",
    "        n = len(s)\n",
    "        center = 0\n",
    "        pal_lengths = [0] * n\n",
    "        while center < n:\n",
    "            # print(f'{center=}')\n",
    "            l = center - 1\n",
    "            r = center + 1\n",
    "            while l >= 0 and r < n and s[l] == s[r]:\n",
    "                l -= 1\n",
    "                r += 1\n",
    "            r -= 1\n",
    "            l += 1\n",
    "            pal_length = r - l + 1\n",
    "            pal_lengths[center] = pal_length\n",
    "            if center + pal_lengths[center]//2 >= n-1:\n",
    "                break\n",
    "            cl = center - 1\n",
    "            cr = center + 1\n",
    "\n",
    "            while cr <= r:\n",
    "                if cl - pal_lengths[cl] // 2 < l:\n",
    "                    pal_lengths[cr] = (cl - l) * 2 + 1\n",
    "                elif cr + pal_lengths[cl] //2 >= r:\n",
    "                    break\n",
    "                else:\n",
    "                    pal_lengths[cr] = pal_lengths[cl]\n",
    "                cl -= 1\n",
    "                cr += 1\n",
    "            center = cr\n",
    "        max_idx = 0\n",
    "        for i in range(n):\n",
    "            if pal_lengths[i] > pal_lengths[max_idx]:\n",
    "                max_idx = i\n",
    "        max_length = pal_lengths[max_idx]\n",
    "        start_i = max_idx - max_length // 2\n",
    "        with_dollars = s[start_i: start_i + max_length]\n",
    "        without_dollars = \"\".join([with_dollars[i] for i in range(max_length) if i % 2])\n",
    "        return without_dollars"
   ]
  },
  {
   "cell_type": "code",
   "execution_count": 114,
   "metadata": {},
   "outputs": [
    {
     "name": "stdout",
     "output_type": "stream",
     "text": [
      "bab\n"
     ]
    }
   ],
   "source": [
    "s = \"babad\"\n",
    "sol = Solution()\n",
    "print(sol.longestPalindrome(s))"
   ]
  },
  {
   "cell_type": "code",
   "execution_count": 115,
   "metadata": {},
   "outputs": [
    {
     "name": "stdout",
     "output_type": "stream",
     "text": [
      "baab\n"
     ]
    }
   ],
   "source": [
    "s = \"abaab\"\n",
    "sol = Solution()\n",
    "print(sol.longestPalindrome(s))"
   ]
  },
  {
   "cell_type": "code",
   "execution_count": 116,
   "metadata": {},
   "outputs": [
    {
     "name": "stdout",
     "output_type": "stream",
     "text": [
      "baxabaxab\n"
     ]
    }
   ],
   "source": [
    "s = \"abaxabaxabb\"\n",
    "sol = Solution()\n",
    "print(sol.longestPalindrome(s))"
   ]
  },
  {
   "cell_type": "code",
   "execution_count": 117,
   "metadata": {},
   "outputs": [
    {
     "name": "stdout",
     "output_type": "stream",
     "text": [
      "baxabybaxab\n"
     ]
    }
   ],
   "source": [
    "s = \"abaxabaxabybaxabyb\"\n",
    "sol = Solution()\n",
    "print(sol.longestPalindrome(s))"
   ]
  },
  {
   "cell_type": "code",
   "execution_count": 118,
   "metadata": {},
   "outputs": [],
   "source": [
    "# # https://leetcode.com/problems/palindromic-substrings/description/\n",
    "\n",
    "# Manacher's Algorithm\n",
    "\n",
    "from math import ceil\n",
    "\n",
    "\n",
    "class Solution:\n",
    "    def countSubstrings(self, s: str) -> int:\n",
    "        s = \"$\" + \"$\".join([v for v in s]) + \"$\"\n",
    "        n = len(s)\n",
    "        center = 0\n",
    "        pal_lengths = [0] * n\n",
    "        while center < n:\n",
    "            # print(f'{center=}')\n",
    "            l = center - 1\n",
    "            r = center + 1\n",
    "            while l >= 0 and r < n and s[l] == s[r]:\n",
    "                l -= 1\n",
    "                r += 1\n",
    "            r -= 1\n",
    "            l += 1\n",
    "            pal_length = r - l + 1\n",
    "            pal_lengths[center] = pal_length\n",
    "            # if center + pal_lengths[center]//2 >= n-1:\n",
    "            #     break\n",
    "            cl = center - 1\n",
    "            cr = center + 1\n",
    "\n",
    "            while cr <= r:\n",
    "                if cl - pal_lengths[cl] // 2 < l:\n",
    "                    pal_lengths[cr] = (cl - l) * 2 + 1\n",
    "                elif cr + pal_lengths[cl] //2 >= r:\n",
    "                    break\n",
    "                else:\n",
    "                    pal_lengths[cr] = pal_lengths[cl]\n",
    "                cl -= 1\n",
    "                cr += 1\n",
    "            center = cr\n",
    "        return sum([ceil((v//2)/2) for v in pal_lengths])"
   ]
  },
  {
   "cell_type": "code",
   "execution_count": 119,
   "metadata": {},
   "outputs": [
    {
     "name": "stdout",
     "output_type": "stream",
     "text": [
      "4\n"
     ]
    }
   ],
   "source": [
    "s = \"aba\"\n",
    "sol = Solution()\n",
    "print(sol.countSubstrings(s))"
   ]
  },
  {
   "cell_type": "code",
   "execution_count": 120,
   "metadata": {},
   "outputs": [
    {
     "name": "stdout",
     "output_type": "stream",
     "text": [
      "8\n"
     ]
    }
   ],
   "source": [
    "s = \"abaab\"\n",
    "sol = Solution()\n",
    "print(sol.countSubstrings(s))"
   ]
  }
 ],
 "metadata": {
  "kernelspec": {
   "display_name": "dsa-venv",
   "language": "python",
   "name": "python3"
  },
  "language_info": {
   "codemirror_mode": {
    "name": "ipython",
    "version": 3
   },
   "file_extension": ".py",
   "mimetype": "text/x-python",
   "name": "python",
   "nbconvert_exporter": "python",
   "pygments_lexer": "ipython3",
   "version": "3.11.3"
  }
 },
 "nbformat": 4,
 "nbformat_minor": 2
}
