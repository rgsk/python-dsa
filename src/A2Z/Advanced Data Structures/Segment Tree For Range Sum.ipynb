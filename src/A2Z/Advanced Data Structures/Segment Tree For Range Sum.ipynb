{
 "cells": [
  {
   "cell_type": "markdown",
   "metadata": {},
   "source": [
    "raw implementation of segment tree can also be used for calculating range sum"
   ]
  },
  {
   "cell_type": "code",
   "execution_count": 62,
   "metadata": {},
   "outputs": [],
   "source": [
    "from math import ceil, inf, log2\n",
    "from typing import List\n",
    "\n",
    "\n",
    "def formSegmentTree(arr: List[int]):\n",
    "    n = len(arr)\n",
    "    nLevels = ceil(log2(n))\n",
    "    lengthOfSegmentTree = 2**(nLevels+1)\n",
    "    seg = [0] * lengthOfSegmentTree\n",
    "    def build(ind: int, low: int, high: int):\n",
    "        if low == high:\n",
    "            seg[ind] = arr[low]\n",
    "            return seg[ind]\n",
    "        mid = (low + high) // 2\n",
    "        build(2*ind + 1, low, mid)\n",
    "        build(2*ind + 2, mid+1, high)\n",
    "        seg[ind] = seg[2*ind+1] + seg[2*ind+2]\n",
    "\n",
    "    build(0, 0, n - 1)\n",
    "    \n",
    "    def query(ind: int, low: int, high: int, l:int, r:int):\n",
    "        # inside range\n",
    "        if low >= l and high <= r:\n",
    "            return seg[ind]\n",
    "        \n",
    "        # outside range\n",
    "        if high < l or low > r:\n",
    "            return 0\n",
    "        \n",
    "        mid = (low + high) // 2\n",
    "        left = query(2*ind+1, low, mid, l, r)\n",
    "        right = query(2*ind+2, mid+1, high, l, r)\n",
    "        return left + right\n",
    "    \n",
    "    def findSumOfRange(l:int, r:int):\n",
    "        return query(0, 0, n-1, l, r)\n",
    "\n",
    "    return findSumOfRange"
   ]
  },
  {
   "cell_type": "code",
   "execution_count": 63,
   "metadata": {},
   "outputs": [
    {
     "data": {
      "text/plain": [
       "17"
      ]
     },
     "execution_count": 63,
     "metadata": {},
     "output_type": "execute_result"
    }
   ],
   "source": [
    "#      0  1  2  3  4  5  6  7  8   9\n",
    "arr = [8, 2, 5, 1, 4, 5, 3, 9, 6, 10]\n",
    "findSumOfRange = formSegmentTree(arr)\n",
    "\n",
    "findSumOfRange(5, 7)"
   ]
  },
  {
   "cell_type": "code",
   "execution_count": 64,
   "metadata": {},
   "outputs": [],
   "source": [
    "def formPrefixSum(arr: List[int]):\n",
    "    n = len(arr)\n",
    "    prefix_sum = [0] * (n+1)\n",
    "    for i in range(1, n+1):\n",
    "        prefix_sum[i] = prefix_sum[i-1] + arr[i-1]\n",
    "    def get_sum(i, j):\n",
    "        return prefix_sum[j + 1] - prefix_sum[i]\n",
    "    return get_sum"
   ]
  },
  {
   "cell_type": "code",
   "execution_count": 65,
   "metadata": {},
   "outputs": [
    {
     "name": "stdout",
     "output_type": "stream",
     "text": [
      "17\n"
     ]
    }
   ],
   "source": [
    "n = len(arr)\n",
    "rangeSumFromPrefixSum = formPrefixSum(arr)\n",
    "print(rangeSumFromPrefixSum(5, 7))\n",
    "for i in range(n):\n",
    "    for j in range(i,n):\n",
    "        # print(f'{i=} {j=} {findSumOfRange(i,j)=} {rangeSumFromPrefixSum(i,j)=}')\n",
    "        if findSumOfRange(i, j) != rangeSumFromPrefixSum(i, j):\n",
    "            raise Exception('results are different')"
   ]
  }
 ],
 "metadata": {
  "kernelspec": {
   "display_name": "dsa-venv",
   "language": "python",
   "name": "python3"
  },
  "language_info": {
   "codemirror_mode": {
    "name": "ipython",
    "version": 3
   },
   "file_extension": ".py",
   "mimetype": "text/x-python",
   "name": "python",
   "nbconvert_exporter": "python",
   "pygments_lexer": "ipython3",
   "version": "3.11.3"
  }
 },
 "nbformat": 4,
 "nbformat_minor": 2
}
