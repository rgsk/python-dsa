{
 "cells": [
  {
   "cell_type": "code",
   "execution_count": 64,
   "metadata": {},
   "outputs": [],
   "source": [
    "# https://www.youtube.com/watch?v=fgEe-iPdqeI&list=PLgUwDviBIf0rf5CQf_HFt35_cF04d8dHN&index=5"
   ]
  },
  {
   "cell_type": "code",
   "execution_count": 65,
   "metadata": {},
   "outputs": [],
   "source": [
    "from typing import List\n",
    "\n",
    "\n",
    "def multiset(arr: List[int], queries: List[int]):\n",
    "    n = max(arr)\n",
    "    n = max(n, max(queries)) \n",
    "    fen = [0] * (n + 1)\n",
    "    def update(i: int, add: int): \n",
    "        while i <= n:\n",
    "            fen[i] += add\n",
    "            # 2's complement\n",
    "            # & with i\n",
    "            # add the result to i\n",
    "            i += (i & (-i))\n",
    "    for num in arr:\n",
    "        update(num, 1)\n",
    " \n",
    "    def fsum(i: int):\n",
    "        s = 0\n",
    "        while i > 0:\n",
    "            # print(i)\n",
    "            s += fen[i]\n",
    "            i -= (i & (-i))\n",
    "        return s\n",
    "    \n",
    "    for x in queries:\n",
    "        if x > 0:\n",
    "            update(x, 1)\n",
    "        else:\n",
    "            x = -1 * x\n",
    "            low = 0\n",
    "            high = n\n",
    "            while low < high: \n",
    "                mid = (low + high) // 2\n",
    "                val = fsum(mid)\n",
    "                if x <= val:\n",
    "                    high = mid\n",
    "                else:\n",
    "                    low = mid + 1\n",
    "            update(low, -1)\n",
    "    # print([fsum(i) for i in range(n + 1)])\n",
    "    # print([i for i in range(n + 1)])\n",
    "    for i in range(n): \n",
    "        if fsum(i) > 0:\n",
    "            return i\n",
    "    return 0"
   ]
  },
  {
   "cell_type": "code",
   "execution_count": 66,
   "metadata": {},
   "outputs": [
    {
     "name": "stdout",
     "output_type": "stream",
     "text": [
      "[0, 0, 0, 0, 0, 0]\n",
      "[0, 1, 2, 3, 4, 5]\n"
     ]
    },
    {
     "data": {
      "text/plain": [
       "0"
      ]
     },
     "execution_count": 66,
     "metadata": {},
     "output_type": "execute_result"
    }
   ],
   "source": [
    "'''\n",
    "5 5\n",
    "1 2 3 4 5\n",
    "-1 -1 -1 -1 -1\n",
    "'''\n",
    "arr = [1, 2, 3, 4, 5]\n",
    "queries = [-1, -1, -1, -1, -1]\n",
    "multiset(arr, queries)"
   ]
  },
  {
   "cell_type": "code",
   "execution_count": 67,
   "metadata": {},
   "outputs": [
    {
     "name": "stdout",
     "output_type": "stream",
     "text": [
      "[0, 0, 0, 1, 1, 1]\n",
      "[0, 1, 2, 3, 4, 5]\n"
     ]
    },
    {
     "data": {
      "text/plain": [
       "3"
      ]
     },
     "execution_count": 67,
     "metadata": {},
     "output_type": "execute_result"
    }
   ],
   "source": [
    "'''\n",
    "5 4\n",
    "1 2 3 4 5\n",
    "-5 -1 -3 -1\n",
    "'''\n",
    "arr = [1, 2, 3, 4, 5]\n",
    "queries = [-5, -1, -3, -1]\n",
    "multiset(arr, queries)"
   ]
  },
  {
   "cell_type": "code",
   "execution_count": 68,
   "metadata": {},
   "outputs": [
    {
     "name": "stdout",
     "output_type": "stream",
     "text": [
      "[0, 3, 4, 5, 6, 7, 8]\n",
      "[0, 1, 2, 3, 4, 5, 6]\n"
     ]
    },
    {
     "data": {
      "text/plain": [
       "1"
      ]
     },
     "execution_count": 68,
     "metadata": {},
     "output_type": "execute_result"
    }
   ],
   "source": [
    "'''\n",
    "6 2\n",
    "1 1 1 2 3 4\n",
    "5 6\n",
    "'''\n",
    "arr = [1, 1, 1, 2, 3, 4]\n",
    "queries = [5, 6]\n",
    "multiset(arr, queries)"
   ]
  },
  {
   "cell_type": "code",
   "execution_count": null,
   "metadata": {},
   "outputs": [],
   "source": []
  }
 ],
 "metadata": {
  "kernelspec": {
   "display_name": "dsa-venv",
   "language": "python",
   "name": "python3"
  },
  "language_info": {
   "codemirror_mode": {
    "name": "ipython",
    "version": 3
   },
   "file_extension": ".py",
   "mimetype": "text/x-python",
   "name": "python",
   "nbconvert_exporter": "python",
   "pygments_lexer": "ipython3",
   "version": "3.11.3"
  }
 },
 "nbformat": 4,
 "nbformat_minor": 2
}
