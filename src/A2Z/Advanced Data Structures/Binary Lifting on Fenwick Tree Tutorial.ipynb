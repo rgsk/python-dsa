{
 "cells": [
  {
   "cell_type": "code",
   "execution_count": null,
   "metadata": {},
   "outputs": [],
   "source": [
    "# https://www.youtube.com/watch?v=nuUspQ7ORXE&list=PLgUwDviBIf0rf5CQf_HFt35_cF04d8dHN&index=2"
   ]
  },
  {
   "cell_type": "code",
   "execution_count": 10,
   "metadata": {},
   "outputs": [],
   "source": [
    "from math import floor, log2\n",
    "from typing import List\n",
    "\n",
    "\n",
    "def formFenwickTree(arr: List[int]):\n",
    "    n = len(arr)\n",
    "    fen = [0] * (n+1)\n",
    "    # update function starts from index\n",
    "    # and adds the add value\n",
    "    # to every subsequent index of fen\n",
    "    # where that add should go ie. where ever this index falls in the range defined at index in fen\n",
    "    def update(i: int, add: int):\n",
    "        # when i = 0, infinite loop was happening\n",
    "        while i > 0 and i <= n:\n",
    "            fen[i] += add\n",
    "            # 2's complement\n",
    "            # & with i\n",
    "            # add the result to i\n",
    "            i += (i & (-i))\n",
    "    for i in range(n):\n",
    "        update(i+1, arr[i])\n",
    "    print(fen)\n",
    "\n",
    "    # sum function gets sum from starting upto that particular (index - 1)\n",
    "    # for eg if it is 12, it takes index 12 of fen (9-12), index 8 then (1-8)\n",
    "    # for eg if it is 7, then index 7 (7-7), then index 6 (5-6), then index 4 (1-4)\n",
    "    def sum(i: int):\n",
    "        s = 0\n",
    "        while i > 0:\n",
    "            # print(i)\n",
    "            s += fen[i]\n",
    "            i -= (i & (-i))\n",
    "        return s\n",
    "    # sum(7)    \n",
    "    # print('done')\n",
    "    def rangeSum(l: int, r: int):\n",
    "        return sum(r) - sum(l)\n",
    "    \n",
    "    def updateArr(i: int, v: int):\n",
    "        add = v - arr[i]\n",
    "        arr[i] = v\n",
    "        update(i + 1, add)\n",
    "\n",
    "    def lower_bound(k: int):\n",
    "        curr = 0\n",
    "        prevsum = 0\n",
    "        for i in range(floor(log2(n + 1)), -1, -1):\n",
    "            if curr + 2**i <= n and fen[curr + 2**i] + prevsum < k:\n",
    "                curr += 2**i\n",
    "                prevsum += fen[curr]\n",
    "        return curr + 1\n",
    "    \n",
    "    return updateArr, rangeSum, lower_bound"
   ]
  },
  {
   "cell_type": "code",
   "execution_count": 11,
   "metadata": {},
   "outputs": [
    {
     "name": "stdout",
     "output_type": "stream",
     "text": [
      "[0, 1, 1, 2, 4, 1, 4, 0, 12, 2, 7, 2, 11, 3, 4, 0, 29]\n",
      "4\n"
     ]
    }
   ],
   "source": [
    "#      0  1  2  3  4  5  6  7  8  9 10 11 12 13 14 15\n",
    "arr = [1, 0, 2, 1, 1, 3, 0, 4, 2, 5, 2, 2, 3, 1, 0, 2]\n",
    "n = len(arr)\n",
    "updateArr, rangeSum, lower_bound = formFenwickTree(arr)\n",
    "print(rangeSum(2,5))\n",
    "\n"
   ]
  },
  {
   "cell_type": "code",
   "execution_count": 12,
   "metadata": {},
   "outputs": [
    {
     "name": "stdout",
     "output_type": "stream",
     "text": [
      "[' 0', ' 1', ' 2', ' 3', ' 4', ' 5', ' 6', ' 7', ' 8', ' 9', '10', '11', '12', '13', '14', '15', '16']\n",
      "[' 0', ' 1', ' 1', ' 3', ' 4', ' 5', ' 8', ' 8', '12', '14', '19', '21', '23', '26', '27', '27', '29']\n"
     ]
    }
   ],
   "source": [
    "prefix_sum = [0] * (n+1)\n",
    "for i in range(1, n+1):\n",
    "    prefix_sum[i] = prefix_sum[i-1] + arr[i-1]\n",
    "\n",
    "print([f'{\" \" + str(v) if v < 10 else v}' for v in range(n+1)])\n",
    "print([f'{\" \" + str(v) if v < 10 else v}' for v in prefix_sum])\n"
   ]
  },
  {
   "cell_type": "code",
   "execution_count": 13,
   "metadata": {},
   "outputs": [
    {
     "name": "stdout",
     "output_type": "stream",
     "text": [
      "8\n"
     ]
    }
   ],
   "source": [
    "print(lower_bound(11))"
   ]
  },
  {
   "cell_type": "code",
   "execution_count": 14,
   "metadata": {},
   "outputs": [
    {
     "name": "stdout",
     "output_type": "stream",
     "text": [
      "8\n"
     ]
    }
   ],
   "source": [
    "print(lower_bound(12))"
   ]
  },
  {
   "cell_type": "code",
   "execution_count": 15,
   "metadata": {},
   "outputs": [
    {
     "name": "stdout",
     "output_type": "stream",
     "text": [
      "9\n"
     ]
    }
   ],
   "source": [
    "print(lower_bound(13))"
   ]
  },
  {
   "cell_type": "code",
   "execution_count": 16,
   "metadata": {},
   "outputs": [
    {
     "name": "stdout",
     "output_type": "stream",
     "text": [
      "16\n"
     ]
    }
   ],
   "source": [
    "print(lower_bound(29))"
   ]
  },
  {
   "cell_type": "code",
   "execution_count": 17,
   "metadata": {},
   "outputs": [
    {
     "name": "stdout",
     "output_type": "stream",
     "text": [
      "3\n"
     ]
    }
   ],
   "source": [
    "print(lower_bound(3))"
   ]
  },
  {
   "cell_type": "code",
   "execution_count": 18,
   "metadata": {},
   "outputs": [
    {
     "name": "stdout",
     "output_type": "stream",
     "text": [
      "17\n"
     ]
    }
   ],
   "source": [
    "print(lower_bound(100))"
   ]
  }
 ],
 "metadata": {
  "kernelspec": {
   "display_name": "dsa-venv",
   "language": "python",
   "name": "python3"
  },
  "language_info": {
   "codemirror_mode": {
    "name": "ipython",
    "version": 3
   },
   "file_extension": ".py",
   "mimetype": "text/x-python",
   "name": "python",
   "nbconvert_exporter": "python",
   "pygments_lexer": "ipython3",
   "version": "3.11.3"
  }
 },
 "nbformat": 4,
 "nbformat_minor": 2
}
