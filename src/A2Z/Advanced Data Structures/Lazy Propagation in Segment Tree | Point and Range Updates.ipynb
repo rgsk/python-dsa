{
 "cells": [
  {
   "cell_type": "code",
   "execution_count": null,
   "metadata": {},
   "outputs": [],
   "source": [
    "# https://www.youtube.com/watch?v=rwXVCELcrqU&list=PLgUwDviBIf0rf5CQf_HFt35_cF04d8dHN&index=4"
   ]
  },
  {
   "cell_type": "code",
   "execution_count": 20,
   "metadata": {},
   "outputs": [],
   "source": [
    "from math import ceil, inf, log2\n",
    "from typing import List\n",
    "\n",
    "\n",
    "def formSegmentTree(arr: List[int]):\n",
    "    n = len(arr)\n",
    "    nLevels = ceil(log2(n))\n",
    "    lengthOfSegmentTree = 2**(nLevels+1)\n",
    "    seg = [0] * lengthOfSegmentTree\n",
    "    lazy = [0] * lengthOfSegmentTree\n",
    "    def build(ind: int, low: int, high: int):\n",
    "        if low == high:\n",
    "            seg[ind] = arr[low]\n",
    "            return seg[ind]\n",
    "        mid = (low + high) // 2\n",
    "        build(2*ind + 1, low, mid)\n",
    "        build(2*ind + 2, mid+1, high)\n",
    "        seg[ind] = seg[2*ind+1] + seg[2*ind+2]\n",
    "\n",
    "    build(0, 0, n - 1)\n",
    "\n",
    "    def rangeUpdate(ind: int, low: int, high: int, l: int, r: int, add: int):\n",
    "        if lazy[ind] != 0:\n",
    "            seg[ind] += (high - low + 1) * lazy[ind]\n",
    "            if low != high:\n",
    "                lazy[2*ind+1] += lazy[ind]\n",
    "                lazy[2*ind+2] += lazy[ind]\n",
    "            lazy[ind] = 0\n",
    "        \n",
    "        # outside range\n",
    "        if high < l or low > r:\n",
    "            return \n",
    "        # inside range\n",
    "        if low >= l and high <= r:\n",
    "            seg[ind] += (high - low + 1) * add\n",
    "            if low != high:\n",
    "                lazy[2*ind+1] += add\n",
    "                lazy[2*ind+2] += add\n",
    "            return\n",
    "        \n",
    "        mid = (low + high) // 2\n",
    "        rangeUpdate(2*ind+1, low, mid, l, r, add)\n",
    "        rangeUpdate(2*ind + 2, mid+1, high, l, r, add)\n",
    "        seg[ind] = seg[2*ind+1] + seg[2*ind+2]\n",
    "\n",
    "    def queryLazy(ind: int, low: int, high: int, l:int, r:int):\n",
    "\n",
    "        if lazy[ind] != 0:\n",
    "            seg[ind] += (high - low + 1) * lazy[ind]\n",
    "            if low != high:\n",
    "                lazy[2*ind+1] += lazy[ind]\n",
    "                lazy[2*ind+2] += lazy[ind]\n",
    "            lazy[ind] = 0\n",
    "\n",
    "\n",
    "        # inside range\n",
    "        if low >= l and high <= r:\n",
    "            return seg[ind]\n",
    "        \n",
    "        # outside range\n",
    "        if high < l or low > r:\n",
    "            return 0\n",
    "        \n",
    "        mid = (low + high) // 2\n",
    "        left = queryLazy(2*ind+1, low, mid, l, r)\n",
    "        right = queryLazy(2*ind+2, mid+1, high, l, r)\n",
    "        return left + right\n",
    "    \n",
    "    def findSumOfRange(l:int, r:int):\n",
    "        return queryLazy(0, 0, n-1, l, r)\n",
    "\n",
    "    # updates value at index with new value v\n",
    "    def updateAtIndex(i: int, v: int):\n",
    "        # change value at index\n",
    "        add = v - arr[i]\n",
    "        arr[i] = v\n",
    "        rangeUpdate(0, 0, n-1, i, i, add)\n",
    "\n",
    "    # changes value at index by add\n",
    "    def updateIndexBy(i: int, add: int):\n",
    "        # change value at index\n",
    "        arr[i] += add\n",
    "        rangeUpdate(0, 0, n-1, i, i, add)\n",
    "\n",
    "    def updateRangeInArr(l: int, r: int, add: int):\n",
    "        for i in range(l, r + 1):\n",
    "            arr[i] += add\n",
    "        rangeUpdate(0, 0, n-1, l, r, add)\n",
    "        \n",
    "    return findSumOfRange, updateAtIndex, updateIndexBy, updateRangeInArr"
   ]
  },
  {
   "cell_type": "code",
   "execution_count": 21,
   "metadata": {},
   "outputs": [
    {
     "data": {
      "text/plain": [
       "17"
      ]
     },
     "execution_count": 21,
     "metadata": {},
     "output_type": "execute_result"
    }
   ],
   "source": [
    "#      0  1  2  3  4  5  6  7  8   9\n",
    "arr = [8, 2, 5, 1, 4, 5, 3, 9, 6, 10]\n",
    "findSumOfRange, updateAtIndex, updateIndexBy, updateRangeInArr = formSegmentTree(arr)\n",
    "\n",
    "findSumOfRange(5, 7)"
   ]
  },
  {
   "cell_type": "code",
   "execution_count": 22,
   "metadata": {},
   "outputs": [
    {
     "data": {
      "text/plain": [
       "18"
      ]
     },
     "execution_count": 22,
     "metadata": {},
     "output_type": "execute_result"
    }
   ],
   "source": [
    "updateAtIndex(5, 6)\n",
    "findSumOfRange(5, 7)"
   ]
  },
  {
   "cell_type": "code",
   "execution_count": 23,
   "metadata": {},
   "outputs": [
    {
     "data": {
      "text/plain": [
       "19"
      ]
     },
     "execution_count": 23,
     "metadata": {},
     "output_type": "execute_result"
    }
   ],
   "source": [
    "updateIndexBy(5, 1)\n",
    "findSumOfRange(5, 7)"
   ]
  },
  {
   "cell_type": "code",
   "execution_count": 24,
   "metadata": {},
   "outputs": [
    {
     "data": {
      "text/plain": [
       "21"
      ]
     },
     "execution_count": 24,
     "metadata": {},
     "output_type": "execute_result"
    }
   ],
   "source": [
    "updateRangeInArr(5, 6, 1)\n",
    "findSumOfRange(5, 7)"
   ]
  },
  {
   "cell_type": "code",
   "execution_count": 25,
   "metadata": {},
   "outputs": [],
   "source": [
    "def formPrefixSum(arr: List[int]):\n",
    "    n = len(arr)\n",
    "    prefix_sum = [0] * (n+1)\n",
    "    for i in range(1, n+1):\n",
    "        prefix_sum[i] = prefix_sum[i-1] + arr[i-1]\n",
    "    def get_sum(i, j):\n",
    "        return prefix_sum[j + 1] - prefix_sum[i]\n",
    "    return get_sum"
   ]
  },
  {
   "cell_type": "code",
   "execution_count": 26,
   "metadata": {},
   "outputs": [
    {
     "name": "stdout",
     "output_type": "stream",
     "text": [
      "21\n"
     ]
    }
   ],
   "source": [
    "n = len(arr)\n",
    "rangeSumFromPrefixSum = formPrefixSum(arr)\n",
    "print(rangeSumFromPrefixSum(5, 7))\n",
    "for i in range(n):\n",
    "    for j in range(i,n):\n",
    "        # print(f'{i=} {j=} {findSumOfRange(i,j)=} {rangeSumFromPrefixSum(i,j)=}')\n",
    "        if findSumOfRange(i, j) != rangeSumFromPrefixSum(i, j):\n",
    "            raise Exception('results are different')"
   ]
  }
 ],
 "metadata": {
  "kernelspec": {
   "display_name": "dsa-venv",
   "language": "python",
   "name": "python3"
  },
  "language_info": {
   "codemirror_mode": {
    "name": "ipython",
    "version": 3
   },
   "file_extension": ".py",
   "mimetype": "text/x-python",
   "name": "python",
   "nbconvert_exporter": "python",
   "pygments_lexer": "ipython3",
   "version": "3.11.3"
  }
 },
 "nbformat": 4,
 "nbformat_minor": 2
}
