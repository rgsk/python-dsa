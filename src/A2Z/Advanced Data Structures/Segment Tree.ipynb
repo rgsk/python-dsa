{
 "cells": [
  {
   "cell_type": "code",
   "execution_count": 32,
   "metadata": {},
   "outputs": [],
   "source": [
    "# https://www.youtube.com/watch?v=-dUiRtJ8ot0"
   ]
  },
  {
   "cell_type": "markdown",
   "metadata": {},
   "source": [
    "segment tree is used to calculate the min/max value in a particular range of an array in O(logn) time\n",
    "\n",
    "brute force approach will take O(n) for each query because we will have to traverse through all the elements in that range in the array"
   ]
  },
  {
   "cell_type": "markdown",
   "metadata": {},
   "source": [
    "\n",
    "<img src=\"./../../../images/Screenshot 2023-10-27 at 1.18.28 PM.png\" width=\"700\" >"
   ]
  },
  {
   "cell_type": "markdown",
   "metadata": {},
   "source": [
    "remember the result \n",
    "\n",
    "2^0 + 2^1 + 2^2 + .... + 2^n = 2^(n+1) - 1\n",
    "\n",
    "so we have n levels in segment tree\n",
    "\n",
    "then the max index we will need is  2^(n+1) - 1\n",
    "\n",
    "no of levels = logb2(no. of elements in array)"
   ]
  },
  {
   "cell_type": "code",
   "execution_count": 33,
   "metadata": {},
   "outputs": [],
   "source": [
    "from math import ceil, inf, log2\n",
    "from typing import List\n",
    "\n",
    "\n",
    "def formSegmentTree(arr: List[int]):\n",
    "    n = len(arr)\n",
    "    nLevels = ceil(log2(n))\n",
    "    lengthOfSegmentTree = 2**(nLevels+1)\n",
    "    seg = [0] * lengthOfSegmentTree\n",
    "    def build(ind: int, low: int, high: int):\n",
    "        if low == high:\n",
    "            seg[ind] = arr[low]\n",
    "            return\n",
    "        mid = (low + high) // 2\n",
    "        build(2*ind + 1, low, mid)\n",
    "        build(2*ind + 2, mid+1, high)\n",
    "        seg[ind] = max(seg[2*ind+1], seg[2*ind+2])\n",
    "\n",
    "    build(0, 0, n - 1)\n",
    "    \n",
    "    def query(ind: int, low: int, high: int, l:int, r:int):\n",
    "        if low >= l and high <= r:\n",
    "            # current range is completely inside the desired range\n",
    "            return seg[ind]\n",
    "        if high < l or low > r:\n",
    "            # current range is outside the desired range\n",
    "            # since we are calculating the max element, we don't want to consider this result, so we return INT_MIN\n",
    "            return -inf\n",
    "        \n",
    "        # handle the case of overlap\n",
    "        mid = (low + high) // 2\n",
    "        left = query(2*ind+1, low, mid, l, r)\n",
    "        right = query(2*ind+2, mid+1, high, l, r)\n",
    "        # return the max from left and right\n",
    "        return max(left, right)\n",
    "    \n",
    "    def findMaxInRange(l:int, r:int):\n",
    "        return query(0, 0, n-1, l, r)\n",
    "\n",
    "    return findMaxInRange"
   ]
  },
  {
   "cell_type": "code",
   "execution_count": 34,
   "metadata": {},
   "outputs": [
    {
     "data": {
      "text/plain": [
       "9"
      ]
     },
     "execution_count": 34,
     "metadata": {},
     "output_type": "execute_result"
    }
   ],
   "source": [
    "#      0  1  2  3  4  5  6  7  8   9\n",
    "arr = [8, 2, 5, 1, 4, 5, 3, 9, 6, 10]\n",
    "findMaxInRange = formSegmentTree(arr)\n",
    "\n",
    "findMaxInRange(5, 7)"
   ]
  },
  {
   "cell_type": "code",
   "execution_count": 35,
   "metadata": {},
   "outputs": [],
   "source": [
    "# verification\n",
    "\n",
    "n = len(arr)\n",
    "for i in range(n):\n",
    "    for j in range(i,n):\n",
    "        if findMaxInRange(i, j) != max(arr[i:j+1]):\n",
    "            raise Exception('results are different')"
   ]
  }
 ],
 "metadata": {
  "kernelspec": {
   "display_name": "dsa-venv",
   "language": "python",
   "name": "python3"
  },
  "language_info": {
   "codemirror_mode": {
    "name": "ipython",
    "version": 3
   },
   "file_extension": ".py",
   "mimetype": "text/x-python",
   "name": "python",
   "nbconvert_exporter": "python",
   "pygments_lexer": "ipython3",
   "version": "3.11.3"
  }
 },
 "nbformat": 4,
 "nbformat_minor": 2
}
