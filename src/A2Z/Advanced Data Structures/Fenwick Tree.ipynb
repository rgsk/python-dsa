{
 "cells": [
  {
   "cell_type": "code",
   "execution_count": 99,
   "metadata": {},
   "outputs": [],
   "source": [
    "# https://www.youtube.com/watch?v=9uaXG62Y8Uw"
   ]
  },
  {
   "cell_type": "markdown",
   "metadata": {},
   "source": [
    "<img src=\"./../../../images/Screenshot 2023-10-27 at 1.01.43 PM.png\" width=\"700\" >"
   ]
  },
  {
   "cell_type": "markdown",
   "metadata": {},
   "source": [
    "Fenwick tree is useful when we need to find the sum of different ranges in an array.\n",
    "\n",
    "prefix sum does that for us in O(1) time\n",
    "\n",
    "but in case of an update to the index of an array, in worst case it will take O(n) (when first element updates), to update all the prefix sums subsequent in the array\n",
    "\n",
    "so for prefix sum O(1) for retrieval, O(n) for update.\n",
    "\n",
    "Fendwick tree solves this problem, here both getting the rangeSum and updateArr take O(logn) time."
   ]
  },
  {
   "cell_type": "markdown",
   "metadata": {},
   "source": [
    "range calculation at particular index in fen array\n",
    "\n",
    "let's say for 12\n",
    "\n",
    "for left\n",
    "\n",
    "step 1 - turn off the right most bit\n",
    "\n",
    "step 2 - add 1\n",
    "\n",
    "12 = 1100\n",
    "\n",
    "step 1 - 1000\n",
    "\n",
    "step 2 - add 1 - 1001 = 9\n",
    "\n",
    "right = 12\n",
    "\n",
    "range = (9, 12)"
   ]
  },
  {
   "cell_type": "code",
   "execution_count": 100,
   "metadata": {},
   "outputs": [],
   "source": [
    "from typing import List\n",
    "\n",
    "\n",
    "def formFenwickTree(arr: List[int]):\n",
    "    n = len(arr)\n",
    "    fen = [0] * (n+1)\n",
    "    # update function starts from index\n",
    "    # and adds the add value\n",
    "    # to every subsequent index of fen\n",
    "    # where that add should go\n",
    "    def update(i: int, add: int):\n",
    "        while i <= n:\n",
    "            fen[i] += add\n",
    "            # 2's complement\n",
    "            # & with i\n",
    "            # add the result to i\n",
    "            i += (i & (-i))\n",
    "    for i in range(n):\n",
    "        update(i+1, arr[i])\n",
    "    print(fen)\n",
    "\n",
    "    # sum function gets sum from starting upto that particular index - 1\n",
    "    # for eg if it is 12, it takes (9-12), then (1-8)\n",
    "    def sum(i: int):\n",
    "        s = 0\n",
    "        while i > 0:\n",
    "            s += fen[i]\n",
    "            i -= (i & (-i))\n",
    "        return s\n",
    "    def rangeSum(l: int, r: int):\n",
    "        return sum(r) - sum(l)\n",
    "    \n",
    "    def updateArr(i: int, v: int):\n",
    "        add = v - arr[i]\n",
    "        arr[i] = v\n",
    "        update(i + 1, add)\n",
    "    return updateArr, rangeSum\n"
   ]
  },
  {
   "cell_type": "code",
   "execution_count": 101,
   "metadata": {},
   "outputs": [],
   "source": [
    "def formPrefixSum(arr: List[int]):\n",
    "    n = len(arr)\n",
    "    prefix_sum = [0] * (n+1)\n",
    "    for i in range(1, n+1):\n",
    "        prefix_sum[i] = prefix_sum[i-1] + arr[i-1]\n",
    "    def get_sum(i, j):\n",
    "        return prefix_sum[j] - prefix_sum[i]\n",
    "    return get_sum"
   ]
  },
  {
   "cell_type": "code",
   "execution_count": 102,
   "metadata": {},
   "outputs": [
    {
     "name": "stdout",
     "output_type": "stream",
     "text": [
      "[0, 1, 1, 2, 4, 1, 4, 0, 12, 2, 7, 2, 11, 3, 4, 0, 29]\n",
      "4\n",
      "9\n"
     ]
    }
   ],
   "source": [
    "#      0  1  2  3  4  5  6  7  8  9 10 11 12 13 14 15\n",
    "arr = [1, 0, 2, 1, 1, 3, 0, 4, 2, 5, 2, 2, 3, 1, 0, 2]\n",
    "updateArr, rangeSum = formFenwickTree(arr)\n",
    "\n",
    "\n",
    "\n",
    "print(rangeSum(2,5))\n",
    "\n",
    "updateArr(2, 7)\n",
    "\n",
    "print(rangeSum(2, 5))"
   ]
  },
  {
   "cell_type": "code",
   "execution_count": 103,
   "metadata": {},
   "outputs": [
    {
     "name": "stdout",
     "output_type": "stream",
     "text": [
      "9\n"
     ]
    }
   ],
   "source": [
    "n = len(arr)\n",
    "rangeSumFromPrefixSum = formPrefixSum(arr)\n",
    "print(rangeSumFromPrefixSum(2,5))\n",
    "for i in range(n+1):\n",
    "    for j in range(i,n+1):\n",
    "        # print(f'{i=} {j=} {rangeSum(i,j)=} {rangeSumFromPrefixSum(i,j)=}')\n",
    "        if rangeSum(i, j) != rangeSumFromPrefixSum(i, j):\n",
    "            raise Exception('results are different')"
   ]
  }
 ],
 "metadata": {
  "kernelspec": {
   "display_name": "dsa-venv",
   "language": "python",
   "name": "python3"
  },
  "language_info": {
   "codemirror_mode": {
    "name": "ipython",
    "version": 3
   },
   "file_extension": ".py",
   "mimetype": "text/x-python",
   "name": "python",
   "nbconvert_exporter": "python",
   "pygments_lexer": "ipython3",
   "version": "3.11.3"
  }
 },
 "nbformat": 4,
 "nbformat_minor": 2
}
