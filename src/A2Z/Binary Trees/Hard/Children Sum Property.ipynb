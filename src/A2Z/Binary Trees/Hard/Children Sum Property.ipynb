{
 "cells": [
  {
   "cell_type": "code",
   "execution_count": 8,
   "metadata": {},
   "outputs": [],
   "source": [
    "import sys\n",
    "sys.path.append('../../..')\n",
    "\n",
    "\n",
    "from lib.TreeNode import *"
   ]
  },
  {
   "cell_type": "code",
   "execution_count": 9,
   "metadata": {},
   "outputs": [],
   "source": [
    "def isParentSum(root):\n",
    "    # Write your code here.\n",
    "    ans = True\n",
    "    def helper(node):\n",
    "        nonlocal ans\n",
    "        if not ans:\n",
    "            return\n",
    "        if node:\n",
    "            if not isLeaf(node):\n",
    "                if node.data != (node.left.data if node.left else 0) + (node.right.data if node.right else 0):\n",
    "                    ans = False\n",
    "                    return\n",
    "                helper(node.left)\n",
    "                helper(node.right)\n",
    "    helper(root)\n",
    "    return ans"
   ]
  },
  {
   "cell_type": "code",
   "execution_count": 10,
   "metadata": {},
   "outputs": [
    {
     "data": {
      "text/plain": [
       "True"
      ]
     },
     "execution_count": 10,
     "metadata": {},
     "output_type": "execute_result"
    }
   ],
   "source": [
    "root = formTree([5, 3, 2, 3])\n",
    "isParentSum(root)"
   ]
  },
  {
   "cell_type": "code",
   "execution_count": 11,
   "metadata": {},
   "outputs": [
    {
     "data": {
      "text/plain": [
       "False"
      ]
     },
     "execution_count": 11,
     "metadata": {},
     "output_type": "execute_result"
    }
   ],
   "source": [
    "root = formTree([7, 3, 4, 3, None, 2, 3])\n",
    "isParentSum(root)"
   ]
  }
 ],
 "metadata": {
  "kernelspec": {
   "display_name": "dsa-venv",
   "language": "python",
   "name": "python3"
  },
  "language_info": {
   "codemirror_mode": {
    "name": "ipython",
    "version": 3
   },
   "file_extension": ".py",
   "mimetype": "text/x-python",
   "name": "python",
   "nbconvert_exporter": "python",
   "pygments_lexer": "ipython3",
   "version": "3.11.3"
  },
  "orig_nbformat": 4
 },
 "nbformat": 4,
 "nbformat_minor": 2
}
