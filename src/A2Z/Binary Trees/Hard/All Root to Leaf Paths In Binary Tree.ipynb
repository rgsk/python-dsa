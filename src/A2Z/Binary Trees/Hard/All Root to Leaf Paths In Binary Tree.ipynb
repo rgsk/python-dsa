{
 "cells": [
  {
   "cell_type": "code",
   "execution_count": 44,
   "metadata": {},
   "outputs": [],
   "source": [
    "import sys\n",
    "sys.path.append('../../..')\n",
    "\n",
    "\n",
    "from lib.TreeNode import *"
   ]
  },
  {
   "cell_type": "code",
   "execution_count": 45,
   "metadata": {},
   "outputs": [],
   "source": [
    "def allRootToLeaf(root) -> List[str]:\n",
    "    ans = []\n",
    "    def helper(node, path = []):\n",
    "        if node:\n",
    "            if isLeaf(node):\n",
    "                ans.append(path + [node.data])\n",
    "                return\n",
    "            helper(node.left, path + [node.data])\n",
    "            helper(node.right, path + [node.data])\n",
    "    helper(root)\n",
    "    return [\" \".join(map(str, row)) for row in ans]"
   ]
  },
  {
   "cell_type": "code",
   "execution_count": 46,
   "metadata": {},
   "outputs": [
    {
     "name": "stdout",
     "output_type": "stream",
     "text": [
      "  _1 \n",
      " /  \\\n",
      " 2  3\n",
      "/ \\  \n",
      "4 5  \n",
      "['1 2 4', '1 2 5', '1 3']\n"
     ]
    }
   ],
   "source": [
    "root = formTree([1, 2, 3, 4, 5])\n",
    "root.display()\n",
    "print(allRootToLeaf(root))"
   ]
  },
  {
   "cell_type": "code",
   "execution_count": 47,
   "metadata": {},
   "outputs": [
    {
     "name": "stdout",
     "output_type": "stream",
     "text": [
      "16_ \n",
      "   \\\n",
      "  28\n",
      "['16 28']\n"
     ]
    }
   ],
   "source": [
    "root = formTree([16, None, 28, None, None, ])\n",
    "root.display()\n",
    "print(allRootToLeaf(root))"
   ]
  }
 ],
 "metadata": {
  "kernelspec": {
   "display_name": "dsa-venv",
   "language": "python",
   "name": "python3"
  },
  "language_info": {
   "codemirror_mode": {
    "name": "ipython",
    "version": 3
   },
   "file_extension": ".py",
   "mimetype": "text/x-python",
   "name": "python",
   "nbconvert_exporter": "python",
   "pygments_lexer": "ipython3",
   "version": "3.11.3"
  },
  "orig_nbformat": 4
 },
 "nbformat": 4,
 "nbformat_minor": 2
}
