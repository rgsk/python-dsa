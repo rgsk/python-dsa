{
 "cells": [
  {
   "cell_type": "code",
   "execution_count": 11,
   "metadata": {},
   "outputs": [],
   "source": [
    "import sys\n",
    "sys.path.append('../../..')\n",
    "\n",
    "\n",
    "from lib.TreeNode import *"
   ]
  },
  {
   "cell_type": "code",
   "execution_count": 12,
   "metadata": {},
   "outputs": [],
   "source": [
    "class Solution:\n",
    "    def distanceK(self, root: TreeNode, target: TreeNode, k: int) -> List[int]:\n",
    "        # Recursively add a parent pointer to each node.\n",
    "        def add_parent(cur, parent):\n",
    "            if cur:\n",
    "                cur.parent = parent\n",
    "                add_parent(cur.left, cur)\n",
    "                add_parent(cur.right, cur) \n",
    "        add_parent(root, None)\n",
    "        \n",
    "        answer = []\n",
    "        visited = set()\n",
    "        def dfs(cur, distance):\n",
    "            if not cur or cur in visited:\n",
    "                return\n",
    "            visited.add(cur)\n",
    "            if distance == 0:\n",
    "                answer.append(cur.val)\n",
    "                return\n",
    "            dfs(cur.parent, distance - 1)\n",
    "            dfs(cur.left, distance - 1)\n",
    "            dfs(cur.right, distance - 1)\n",
    "            \n",
    "        dfs(target, k)\n",
    "        \n",
    "        return answer"
   ]
  },
  {
   "cell_type": "code",
   "execution_count": 13,
   "metadata": {},
   "outputs": [],
   "source": [
    "from collections import defaultdict\n",
    "\n",
    "\n",
    "class Solution:\n",
    "    def distanceK(self, root: TreeNode, target: TreeNode, k: int) -> List[int]:\n",
    "        graph = defaultdict(list)\n",
    "        \n",
    "        # Recursively build the undirected graph from the given binary tree.\n",
    "        def build_graph(cur, parent):\n",
    "            if cur and parent:\n",
    "                graph[cur.val].append(parent.val)\n",
    "                graph[parent.val].append(cur.val)\n",
    "            if cur.left:\n",
    "                build_graph(cur.left, cur)\n",
    "            if cur.right:\n",
    "                build_graph(cur.right, cur) \n",
    "        build_graph(root, None)\n",
    "        \n",
    "\n",
    "        answer = []\n",
    "        visited = set([target.val])\n",
    "        \n",
    "        def dfs(cur, distance):\n",
    "            if distance == k:\n",
    "                answer.append(cur)\n",
    "                return\n",
    "            for neighbor in graph[cur]:\n",
    "                if neighbor not in visited:\n",
    "                    visited.add(neighbor)\n",
    "                    dfs(neighbor, distance + 1)\n",
    "        dfs(target.val, 0)\n",
    "        \n",
    "        return answer"
   ]
  },
  {
   "cell_type": "code",
   "execution_count": null,
   "metadata": {},
   "outputs": [],
   "source": [
    "class Solution:\n",
    "    def distanceK(self, root: TreeNode, target: TreeNode, k: int) -> List[int]:\n",
    "        graph = defaultdict(list)\n",
    "        # Recursively build the undirected graph from the given binary tree.\n",
    "        def build_graph(cur, parent):\n",
    "            if cur and parent:\n",
    "                graph[cur.val].append(parent.val)\n",
    "                graph[parent.val].append(cur.val)\n",
    "            if cur.left:\n",
    "                build_graph(cur.left, cur)\n",
    "            if cur.right:\n",
    "                build_graph(cur.right, cur) \n",
    "        build_graph(root, None)\n",
    "        \n",
    "        answer = []\n",
    "        visited = set([target.val])\n",
    "\n",
    "        # Add the target node to the queue with a distance of 0\n",
    "        queue = deque([(target.val, 0)])\n",
    "        while queue:\n",
    "            cur, distance = queue.popleft()\n",
    "\n",
    "            # If the current node is at distance k from target,\n",
    "            # add it to the answer list and continue to the next node.\n",
    "            if distance == k:\n",
    "                answer.append(cur)\n",
    "                continue\n",
    "\n",
    "            # Add all unvisited neighbors of the current node to the queue.\n",
    "            for neighbor in graph[cur]:\n",
    "                if neighbor not in visited:\n",
    "                    visited.add(neighbor)\n",
    "                    queue.append((neighbor, distance + 1))\n",
    "                    \n",
    "        return answer"
   ]
  },
  {
   "cell_type": "code",
   "execution_count": 14,
   "metadata": {},
   "outputs": [
    {
     "data": {
      "text/plain": [
       "[1, 7, 4]"
      ]
     },
     "execution_count": 14,
     "metadata": {},
     "output_type": "execute_result"
    }
   ],
   "source": [
    "root = formTree([3,5,1,6,2,0,8,None,None,7,4])\n",
    "target = findNode(root, 5)\n",
    "k = 2\n",
    "sol = Solution()\n",
    "sol.distanceK(root, target, k)"
   ]
  },
  {
   "cell_type": "code",
   "execution_count": 15,
   "metadata": {},
   "outputs": [
    {
     "data": {
      "text/plain": [
       "[]"
      ]
     },
     "execution_count": 15,
     "metadata": {},
     "output_type": "execute_result"
    }
   ],
   "source": [
    "root = formTree([1])\n",
    "target = findNode(root, 1)\n",
    "k = 3\n",
    "sol = Solution()\n",
    "sol.distanceK(root, target, k)"
   ]
  }
 ],
 "metadata": {
  "kernelspec": {
   "display_name": "dsa-venv",
   "language": "python",
   "name": "python3"
  },
  "language_info": {
   "codemirror_mode": {
    "name": "ipython",
    "version": 3
   },
   "file_extension": ".py",
   "mimetype": "text/x-python",
   "name": "python",
   "nbconvert_exporter": "python",
   "pygments_lexer": "ipython3",
   "version": "3.11.3"
  },
  "orig_nbformat": 4
 },
 "nbformat": 4,
 "nbformat_minor": 2
}
