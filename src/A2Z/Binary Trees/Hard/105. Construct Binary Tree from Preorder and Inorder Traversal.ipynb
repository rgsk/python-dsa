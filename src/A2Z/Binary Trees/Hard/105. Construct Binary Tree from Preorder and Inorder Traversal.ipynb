{
 "cells": [
  {
   "cell_type": "code",
   "execution_count": 8,
   "metadata": {},
   "outputs": [],
   "source": [
    "import sys\n",
    "sys.path.append('../../..')\n",
    "\n",
    "\n",
    "from lib.TreeNode import *"
   ]
  },
  {
   "cell_type": "code",
   "execution_count": 9,
   "metadata": {},
   "outputs": [],
   "source": [
    "class Solution:\n",
    "    def buildTree(self, preorder: List[int], inorder: List[int]) -> Optional[TreeNode]:\n",
    "        if inorder:\n",
    "            ind = inorder.index(preorder.pop(0))\n",
    "            root = TreeNode(inorder[ind])\n",
    "            root.left = self.buildTree(preorder, inorder[0:ind])\n",
    "            root.right = self.buildTree(preorder, inorder[ind+1:])\n",
    "            return root"
   ]
  },
  {
   "cell_type": "code",
   "execution_count": 10,
   "metadata": {},
   "outputs": [
    {
     "name": "stdout",
     "output_type": "stream",
     "text": [
      " 3___  \n",
      "/    \\ \n",
      "9   20 \n",
      "   /  \\\n",
      "  15  7\n"
     ]
    }
   ],
   "source": [
    "preorder = [3,9,20,15,7]\n",
    "inorder = [9,3,15,20,7]\n",
    "sol = Solution()\n",
    "root = sol.buildTree(preorder, inorder)\n",
    "root.display()"
   ]
  }
 ],
 "metadata": {
  "kernelspec": {
   "display_name": "dsa-venv",
   "language": "python",
   "name": "python3"
  },
  "language_info": {
   "codemirror_mode": {
    "name": "ipython",
    "version": 3
   },
   "file_extension": ".py",
   "mimetype": "text/x-python",
   "name": "python",
   "nbconvert_exporter": "python",
   "pygments_lexer": "ipython3",
   "version": "3.11.3"
  },
  "orig_nbformat": 4
 },
 "nbformat": 4,
 "nbformat_minor": 2
}
