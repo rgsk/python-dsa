{
 "cells": [
  {
   "cell_type": "code",
   "execution_count": 15,
   "metadata": {},
   "outputs": [],
   "source": [
    "import sys\n",
    "sys.path.append('../../..')\n",
    "\n",
    "\n",
    "from lib.TreeNode import *"
   ]
  },
  {
   "cell_type": "code",
   "execution_count": 16,
   "metadata": {},
   "outputs": [],
   "source": [
    "class Solution:\n",
    "    def flatten(self, root: Optional[TreeNode]) -> None:\n",
    "        \"\"\"\n",
    "        Do not return anything, modify root in-place instead.\n",
    "        \"\"\"\n",
    "        preOrderTraversal = []\n",
    "        def preOrder(node: Optional[TreeNode]):\n",
    "            if node:\n",
    "                preOrderTraversal.append(node)\n",
    "                preOrder(node.left)\n",
    "                preOrder(node.right)\n",
    "        preOrder(root)\n",
    "        for i in range(len(preOrderTraversal)-1):\n",
    "            preOrderTraversal[i].right = preOrderTraversal[i+1]\n",
    "            preOrderTraversal[i].left = None"
   ]
  },
  {
   "cell_type": "code",
   "execution_count": 17,
   "metadata": {},
   "outputs": [],
   "source": [
    "class Solution:\n",
    "    def flatten(self, root: Optional[TreeNode]) -> None:\n",
    "        \"\"\"\n",
    "        Do not return anything, modify root in-place instead.\n",
    "        \"\"\"\n",
    "        cur = root\n",
    "        while cur:\n",
    "            if cur.left:\n",
    "                last = cur.left\n",
    "                while last.right:\n",
    "                    last = last.right\n",
    "                last.right = cur.right\n",
    "                cur.right = cur.left\n",
    "                cur.left = None\n",
    "            cur = cur.right"
   ]
  },
  {
   "cell_type": "code",
   "execution_count": 18,
   "metadata": {},
   "outputs": [
    {
     "name": "stdout",
     "output_type": "stream",
     "text": [
      "  _1  \n",
      " /  \\ \n",
      " 2  5 \n",
      "/ \\  \\\n",
      "3 4  6\n",
      "1     \n",
      " \\    \n",
      " 2    \n",
      "  \\   \n",
      "  3   \n",
      "   \\  \n",
      "   4  \n",
      "    \\ \n",
      "    5 \n",
      "     \\\n",
      "     6\n"
     ]
    }
   ],
   "source": [
    "root = formTree([1,2,5,3,4,None,6])\n",
    "root.display()\n",
    "sol = Solution()\n",
    "sol.flatten(root)\n",
    "root.display()"
   ]
  },
  {
   "cell_type": "code",
   "execution_count": 19,
   "metadata": {},
   "outputs": [],
   "source": [
    "root = formTree([])\n",
    "# root.display()\n",
    "sol = Solution()\n",
    "sol.flatten(root)\n",
    "# root.display()"
   ]
  },
  {
   "cell_type": "code",
   "execution_count": 20,
   "metadata": {},
   "outputs": [
    {
     "name": "stdout",
     "output_type": "stream",
     "text": [
      "0\n",
      "0\n"
     ]
    }
   ],
   "source": [
    "root = formTree([0])\n",
    "root.display()\n",
    "sol = Solution()\n",
    "sol.flatten(root)\n",
    "root.display()"
   ]
  }
 ],
 "metadata": {
  "kernelspec": {
   "display_name": "dsa-venv",
   "language": "python",
   "name": "python3"
  },
  "language_info": {
   "codemirror_mode": {
    "name": "ipython",
    "version": 3
   },
   "file_extension": ".py",
   "mimetype": "text/x-python",
   "name": "python",
   "nbconvert_exporter": "python",
   "pygments_lexer": "ipython3",
   "version": "3.11.3"
  },
  "orig_nbformat": 4
 },
 "nbformat": 4,
 "nbformat_minor": 2
}
