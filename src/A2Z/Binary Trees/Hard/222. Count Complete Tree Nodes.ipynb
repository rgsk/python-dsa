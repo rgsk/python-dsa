{
 "cells": [
  {
   "cell_type": "code",
   "execution_count": 27,
   "metadata": {},
   "outputs": [],
   "source": [
    "import sys\n",
    "sys.path.append('../../..')\n",
    "\n",
    "\n",
    "from lib.TreeNode import *"
   ]
  },
  {
   "cell_type": "code",
   "execution_count": 28,
   "metadata": {},
   "outputs": [],
   "source": [
    "class Solution:\n",
    "    def countNodes(self, root: Optional[TreeNode]) -> int:\n",
    "        # O(n)\n",
    "        count = 0\n",
    "        def helper(root):\n",
    "            nonlocal count\n",
    "            if root:\n",
    "                count += 1\n",
    "                helper(root.left)\n",
    "                helper(root.right)\n",
    "        helper(root)\n",
    "        return count"
   ]
  },
  {
   "cell_type": "code",
   "execution_count": 29,
   "metadata": {},
   "outputs": [],
   "source": [
    "class Solution:\n",
    "    def countNodes(self, root: Optional[TreeNode]) -> int:\n",
    "        # O(n)\n",
    "        q, cnt = deque([root]), 0\n",
    "        while node := q.popleft():\n",
    "            cnt += 1\n",
    "            q.extend([node.left, node.right])\n",
    "        return cnt"
   ]
  },
  {
   "cell_type": "code",
   "execution_count": 30,
   "metadata": {},
   "outputs": [],
   "source": [
    "class Solution:\n",
    "    def countNodes(self, root: TreeNode) -> int:\n",
    "        ## RC ##\n",
    "        ## APPROACH : RECURSION ##\n",
    "        ## TIME COMPLEXICITY : LOG N * LOG N ##\n",
    "        \n",
    "        ## LOGIC ##\n",
    "        # If left sub tree height equals right sub tree height then,\n",
    "        #       a. left sub tree is perfect binary tree\n",
    "        #       b. right sub tree is complete binary tree\n",
    "        # If left sub tree height greater than right sub tree height then,\n",
    "        #       a. left sub tree is complete binary tree\n",
    "        #       b. right sub tree is perfect binary tree\n",
    "        \n",
    "        if not root:\n",
    "            return 0\n",
    "        \n",
    "        def depthLeft(node):\n",
    "            d = 0\n",
    "            while node:\n",
    "                d += 1\n",
    "                node = node.left\n",
    "            return d\n",
    "\n",
    "        def depthRight(node):\n",
    "            d = 0\n",
    "            while node:\n",
    "                d += 1\n",
    "                node = node.right\n",
    "            return d\n",
    "        \n",
    "        ld = depthLeft(root.left)\n",
    "        rd = depthRight(root.right)\n",
    "        \n",
    "        if ld == rd:\n",
    "            return 2**(ld + 1) - 1\n",
    "        else:\n",
    "            return 1 + self.countNodes(root.left) + self.countNodes(root.right)"
   ]
  },
  {
   "cell_type": "code",
   "execution_count": null,
   "metadata": {},
   "outputs": [],
   "source": [
    "# https://leetcode.com/problems/count-complete-tree-nodes/solutions/61958/concise-java-solutions-o-log-n-2/"
   ]
  },
  {
   "cell_type": "code",
   "execution_count": null,
   "metadata": {},
   "outputs": [],
   "source": [
    "class Solution:\n",
    "    def height(self, root: TreeNode):\n",
    "        if root:\n",
    "            return 1 + self.height(root.left)\n",
    "        return -1\n",
    "    def countNodes(self, root: Optional[TreeNode]) -> int:\n",
    "        nodes = 0\n",
    "        h = self.height(root)\n",
    "        while root:\n",
    "            if self.height(root.right) == h - 1:\n",
    "                nodes += 2 ** h\n",
    "                root = root.right\n",
    "            else:\n",
    "                nodes += 2 ** (h-1)\n",
    "                root = root.left\n",
    "            h -= 1\n",
    "        return nodes"
   ]
  },
  {
   "cell_type": "code",
   "execution_count": 31,
   "metadata": {},
   "outputs": [
    {
     "data": {
      "text/plain": [
       "6"
      ]
     },
     "execution_count": 31,
     "metadata": {},
     "output_type": "execute_result"
    }
   ],
   "source": [
    "root = formTree([1,2,3,4,5,6])\n",
    "sol = Solution()\n",
    "sol.countNodes(root)"
   ]
  },
  {
   "cell_type": "code",
   "execution_count": 32,
   "metadata": {},
   "outputs": [
    {
     "data": {
      "text/plain": [
       "0"
      ]
     },
     "execution_count": 32,
     "metadata": {},
     "output_type": "execute_result"
    }
   ],
   "source": [
    "root = formTree([])\n",
    "sol = Solution()\n",
    "sol.countNodes(root)"
   ]
  },
  {
   "cell_type": "code",
   "execution_count": 33,
   "metadata": {},
   "outputs": [
    {
     "data": {
      "text/plain": [
       "1"
      ]
     },
     "execution_count": 33,
     "metadata": {},
     "output_type": "execute_result"
    }
   ],
   "source": [
    "root = formTree([1])\n",
    "sol = Solution()\n",
    "sol.countNodes(root)"
   ]
  }
 ],
 "metadata": {
  "kernelspec": {
   "display_name": "dsa-venv",
   "language": "python",
   "name": "python3"
  },
  "language_info": {
   "codemirror_mode": {
    "name": "ipython",
    "version": 3
   },
   "file_extension": ".py",
   "mimetype": "text/x-python",
   "name": "python",
   "nbconvert_exporter": "python",
   "pygments_lexer": "ipython3",
   "version": "3.11.3"
  },
  "orig_nbformat": 4
 },
 "nbformat": 4,
 "nbformat_minor": 2
}
