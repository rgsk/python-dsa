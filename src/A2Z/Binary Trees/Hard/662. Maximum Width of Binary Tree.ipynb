{
 "cells": [
  {
   "cell_type": "code",
   "execution_count": 41,
   "metadata": {},
   "outputs": [],
   "source": [
    "# https://leetcode.com/problems/maximum-width-of-binary-tree/description/"
   ]
  },
  {
   "cell_type": "code",
   "execution_count": 42,
   "metadata": {},
   "outputs": [],
   "source": [
    "import sys\n",
    "sys.path.append('../../..')\n",
    "\n",
    "\n",
    "from lib.TreeNode import *"
   ]
  },
  {
   "cell_type": "code",
   "execution_count": 43,
   "metadata": {},
   "outputs": [],
   "source": [
    "class Solution:\n",
    "    # Memory Limit Exceeded\n",
    "    # 72 / 114 testcases passed\n",
    "    def widthOfBinaryTree(self, root: Optional[TreeNode]) -> int:\n",
    "        ans = 0\n",
    "        level_order = levelOrderWithNoneNodes(root)\n",
    "        for k in range(len(level_order)-1):\n",
    "            row = level_order[k]\n",
    "            i = 0\n",
    "            while row[i] == INT_MIN:\n",
    "                i += 1\n",
    "            j = len(row) - 1 \n",
    "            while row[j] == INT_MIN:\n",
    "                j -= 1\n",
    "            ans = max(ans, j - i + 1)\n",
    "        return ans"
   ]
  },
  {
   "cell_type": "code",
   "execution_count": 44,
   "metadata": {},
   "outputs": [],
   "source": [
    "class Solution:\n",
    "    def widthOfBinaryTree(self, root: TreeNode) -> int:\n",
    "        if not root:\n",
    "            return 0\n",
    "        \n",
    "        queue = deque([(root, 0)])\n",
    "        max_width = 0\n",
    "        \n",
    "        while queue:\n",
    "            level_length = len(queue)\n",
    "            _, level_start = queue[0]\n",
    "            \n",
    "            for i in range(level_length):\n",
    "                node, index = queue.popleft()\n",
    "                \n",
    "                if node.left:\n",
    "                    queue.append((node.left, 2*index))\n",
    "                \n",
    "                if node.right:\n",
    "                    queue.append((node.right, 2*index+1))\n",
    "                    \n",
    "            max_width = max(max_width, index - level_start + 1)\n",
    "            \n",
    "        return max_width"
   ]
  },
  {
   "cell_type": "code",
   "execution_count": 45,
   "metadata": {},
   "outputs": [
    {
     "name": "stdout",
     "output_type": "stream",
     "text": [
      "4\n",
      "  _1  \n",
      " /  \\ \n",
      " 3  2 \n",
      "/ \\  \\\n",
      "5 3  9\n"
     ]
    }
   ],
   "source": [
    "root = formTree([1,3,2,5,3,None,9])\n",
    "sol = Solution()\n",
    "print(sol.widthOfBinaryTree(root))\n",
    "root.display()"
   ]
  },
  {
   "cell_type": "code",
   "execution_count": 46,
   "metadata": {},
   "outputs": [
    {
     "name": "stdout",
     "output_type": "stream",
     "text": [
      "7\n",
      "   1   \n",
      "  / \\  \n",
      "  3 2_ \n",
      " /    \\\n",
      " 5    9\n",
      "/    / \n",
      "6    7 \n"
     ]
    }
   ],
   "source": [
    "root = formTree([1,3,2,5,None,None,9,6,None,7])\n",
    "sol = Solution()\n",
    "print(sol.widthOfBinaryTree(root))\n",
    "root.display()"
   ]
  },
  {
   "cell_type": "code",
   "execution_count": 47,
   "metadata": {},
   "outputs": [
    {
     "name": "stdout",
     "output_type": "stream",
     "text": [
      "2\n"
     ]
    }
   ],
   "source": [
    "root = formTree([1,3,2,5])\n",
    "sol = Solution()\n",
    "print(sol.widthOfBinaryTree(root))"
   ]
  },
  {
   "cell_type": "code",
   "execution_count": 48,
   "metadata": {},
   "outputs": [
    {
     "name": "stdout",
     "output_type": "stream",
     "text": [
      "8\n",
      "  ____________1_  \n",
      " /              \\ \n",
      " 1              1 \n",
      "/ \\            / \\\n",
      "1 1_____       1 1\n",
      "        \\         \n",
      "      __1__       \n",
      "     /     \\      \n",
      "     2_   _2      \n",
      "    /  \\ /  \\     \n",
      "    2  2 2  2     \n",
      "   /  /   \\  \\    \n",
      "   2  2   2  2    \n"
     ]
    }
   ],
   "source": [
    "root = formTree([1,1,1,1,1,1,1,None,None,None,1,None,None,None,None,2,2,2,2,2,2,2,None,2,None,None,2,None,2])\n",
    "sol = Solution()\n",
    "print(sol.widthOfBinaryTree(root))\n",
    "root.display()"
   ]
  }
 ],
 "metadata": {
  "kernelspec": {
   "display_name": "dsa-venv",
   "language": "python",
   "name": "python3"
  },
  "language_info": {
   "codemirror_mode": {
    "name": "ipython",
    "version": 3
   },
   "file_extension": ".py",
   "mimetype": "text/x-python",
   "name": "python",
   "nbconvert_exporter": "python",
   "pygments_lexer": "ipython3",
   "version": "3.11.3"
  },
  "orig_nbformat": 4
 },
 "nbformat": 4,
 "nbformat_minor": 2
}
