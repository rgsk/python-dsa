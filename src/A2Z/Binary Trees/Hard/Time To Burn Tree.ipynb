{
 "cells": [
  {
   "cell_type": "code",
   "execution_count": 38,
   "metadata": {},
   "outputs": [],
   "source": [
    "import sys\n",
    "sys.path.append('../../..')\n",
    "\n",
    "\n",
    "from lib.TreeNode import *"
   ]
  },
  {
   "cell_type": "code",
   "execution_count": 39,
   "metadata": {},
   "outputs": [],
   "source": [
    "def timeToBurnTree(root, start):\n",
    "    # Recursively add a parent pointer to each node.\n",
    "    def add_parent(cur, parent):\n",
    "        if cur:\n",
    "            cur.parent = parent\n",
    "            add_parent(cur.left, cur)\n",
    "            add_parent(cur.right, cur) \n",
    "    add_parent(root, None)\n",
    "    \n",
    "    visited = set()\n",
    "    max_travel = 0\n",
    "    def dfs(cur, travel):\n",
    "        nonlocal max_travel\n",
    "        if not cur or cur in visited:\n",
    "            return\n",
    "        max_travel = max(max_travel, travel)\n",
    "        visited.add(cur)\n",
    "        dfs(cur.parent, travel + 1)\n",
    "        dfs(cur.left, travel + 1)\n",
    "        dfs(cur.right, travel + 1)\n",
    "        \n",
    "    dfs(start, 0)\n",
    "    \n",
    "    return max_travel\n"
   ]
  },
  {
   "cell_type": "code",
   "execution_count": 40,
   "metadata": {},
   "outputs": [
    {
     "data": {
      "text/plain": [
       "3"
      ]
     },
     "execution_count": 40,
     "metadata": {},
     "output_type": "execute_result"
    }
   ],
   "source": [
    "root = formTree([1, 2, 3, 4, None, None, 5, None, None, None, None,])\n",
    "start = findNode(root, 3)\n",
    "timeToBurnTree(root, start)"
   ]
  },
  {
   "cell_type": "code",
   "execution_count": 41,
   "metadata": {},
   "outputs": [
    {
     "data": {
      "text/plain": [
       "2"
      ]
     },
     "execution_count": 41,
     "metadata": {},
     "output_type": "execute_result"
    }
   ],
   "source": [
    "root = formTree([3, 1, 2, 5, 6])\n",
    "start = findNode(root, 3)\n",
    "timeToBurnTree(root, start)"
   ]
  },
  {
   "cell_type": "code",
   "execution_count": 42,
   "metadata": {},
   "outputs": [
    {
     "data": {
      "text/plain": [
       "5"
      ]
     },
     "execution_count": 42,
     "metadata": {},
     "output_type": "execute_result"
    }
   ],
   "source": [
    "root = formTree([1, 2, None, 3, None, None, 4, 5, None, None, 6, None, None,])\n",
    "start = findNode(root, 6)\n",
    "timeToBurnTree(root, start)"
   ]
  }
 ],
 "metadata": {
  "kernelspec": {
   "display_name": "dsa-venv",
   "language": "python",
   "name": "python3"
  },
  "language_info": {
   "codemirror_mode": {
    "name": "ipython",
    "version": 3
   },
   "file_extension": ".py",
   "mimetype": "text/x-python",
   "name": "python",
   "nbconvert_exporter": "python",
   "pygments_lexer": "ipython3",
   "version": "3.11.3"
  },
  "orig_nbformat": 4
 },
 "nbformat": 4,
 "nbformat_minor": 2
}
