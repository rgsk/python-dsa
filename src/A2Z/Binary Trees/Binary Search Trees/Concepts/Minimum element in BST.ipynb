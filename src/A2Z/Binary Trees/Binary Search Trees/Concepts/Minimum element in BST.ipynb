{
 "cells": [
  {
   "cell_type": "code",
   "execution_count": null,
   "metadata": {},
   "outputs": [],
   "source": [
    "# https://practice.geeksforgeeks.org/problems/minimum-element-in-bst/1"
   ]
  },
  {
   "cell_type": "code",
   "execution_count": null,
   "metadata": {},
   "outputs": [],
   "source": [
    "# accepted\n",
    "# we have to go as left as possible\n",
    "\n",
    "#Function to find the minimum element in the given BST.\n",
    "def minValue(root):\n",
    "    ##Your code here\n",
    "    prev = root\n",
    "    while root:\n",
    "        prev = root\n",
    "        root = root.left\n",
    "    if prev:\n",
    "        return prev.data\n",
    "    else:\n",
    "        return -1"
   ]
  }
 ],
 "metadata": {
  "language_info": {
   "name": "python"
  }
 },
 "nbformat": 4,
 "nbformat_minor": 2
}
