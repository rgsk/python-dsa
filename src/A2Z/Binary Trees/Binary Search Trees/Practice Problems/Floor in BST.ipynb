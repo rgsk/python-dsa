{
 "cells": [
  {
   "cell_type": "code",
   "execution_count": null,
   "metadata": {},
   "outputs": [],
   "source": [
    "# https://practice.geeksforgeeks.org/problems/floor-in-bst/1"
   ]
  },
  {
   "cell_type": "code",
   "execution_count": null,
   "metadata": {},
   "outputs": [],
   "source": [
    "class Solution:\n",
    "    def floor(self, root, x):\n",
    "        # Code here\n",
    "        ans = -1\n",
    "        while root:\n",
    "            if root.data == x:\n",
    "                ans = root.data\n",
    "                return ans\n",
    "            elif root.data < x:\n",
    "                ans = root.data\n",
    "                root = root.right\n",
    "            else:\n",
    "                root = root.left\n",
    "        return ans"
   ]
  }
 ],
 "metadata": {
  "language_info": {
   "name": "python"
  }
 },
 "nbformat": 4,
 "nbformat_minor": 2
}
