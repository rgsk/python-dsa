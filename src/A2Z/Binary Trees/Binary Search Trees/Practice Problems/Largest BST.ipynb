{
 "cells": [
  {
   "cell_type": "markdown",
   "metadata": {},
   "source": [
    "https://www.codingninjas.com/studio/problems/size-of-largest-bst-in-binary-tree_893103?utm_source=striver&utm_medium=website&utm_campaign=a_zcoursetuf&leftPanelTabValue=PROBLEM"
   ]
  },
  {
   "cell_type": "code",
   "execution_count": 123,
   "metadata": {},
   "outputs": [],
   "source": [
    "import sys\n",
    "sys.path.append('../../../..')\n",
    "\n",
    "\n",
    "from lib.TreeNode import *"
   ]
  },
  {
   "cell_type": "code",
   "execution_count": 124,
   "metadata": {},
   "outputs": [],
   "source": [
    "# brute force\n",
    "# check for each node if it is a valid bst from the top\n",
    "\n",
    "# below submission works\n",
    "\n",
    "import math\n",
    "\n",
    "def isValidBST(root) -> bool:\n",
    "    def helper(root, lower: int, upper: int):\n",
    "        if root:\n",
    "            if root.data <= lower or root.data >= upper:\n",
    "                return False\n",
    "            return helper(root.left, lower, root.data) and helper(root.right, root.data, upper)\n",
    "        return True\n",
    "    return helper(root, -math.inf, math.inf)\n",
    "\n",
    "\n",
    "def getCountOfNodes(root) -> int:\n",
    "    c = 0\n",
    "\n",
    "    def helper(root):\n",
    "        nonlocal c\n",
    "        if root:\n",
    "            helper(root.left)\n",
    "            c += 1\n",
    "            helper(root.right)\n",
    "    helper(root)\n",
    "    return c\n",
    "\n",
    "# Return the size of the largest sub-tree which is also a BST\n",
    "\n",
    "\n",
    "def largestBST(root):\n",
    "    # code here\n",
    "    ans = 0\n",
    "\n",
    "    def inorder(root):\n",
    "        nonlocal ans\n",
    "        if root:\n",
    "            inorder(root.left)\n",
    "            # check whether this node forms a valid BST\n",
    "            # if yes get its length and save it\n",
    "            if isValidBST(root):\n",
    "                ans = max(ans, getCountOfNodes(root))\n",
    "\n",
    "            inorder(root.right)\n",
    "    inorder(root)\n",
    "    return ans"
   ]
  },
  {
   "cell_type": "code",
   "execution_count": 125,
   "metadata": {},
   "outputs": [
    {
     "name": "stdout",
     "output_type": "stream",
     "text": [
      "   __5  \n",
      "  /   \\ \n",
      " 10_  6 \n",
      "/   \\  \\\n",
      "2  14  7\n"
     ]
    },
    {
     "data": {
      "text/plain": [
       "3"
      ]
     },
     "execution_count": 125,
     "metadata": {},
     "output_type": "execute_result"
    }
   ],
   "source": [
    "root = formTree([5,10,6,2,14,None,7])\n",
    "root.display()\n",
    "largestBST(root)"
   ]
  },
  {
   "cell_type": "code",
   "execution_count": 126,
   "metadata": {},
   "outputs": [
    {
     "name": "stdout",
     "output_type": "stream",
     "text": [
      "  _1 \n",
      " /  \\\n",
      " 4  4\n",
      "/ \\  \n",
      "6 8  \n"
     ]
    },
    {
     "data": {
      "text/plain": [
       "1"
      ]
     },
     "execution_count": 126,
     "metadata": {},
     "output_type": "execute_result"
    }
   ],
   "source": [
    "root = formTree([1, 4, 4, 6, 8])\n",
    "root.display()\n",
    "largestBST(root)"
   ]
  },
  {
   "cell_type": "code",
   "execution_count": 127,
   "metadata": {},
   "outputs": [],
   "source": [
    "\n",
    "import math\n",
    "\n",
    "def largestBST(root):\n",
    "    #code here\n",
    "    ans = 0\n",
    "    def post_order(root):\n",
    "        nonlocal ans\n",
    "        if root:\n",
    "            largest_on_left, smallest_on_left, left_count = post_order(root.left)\n",
    "            largest_on_right, smallest_on_right, right_count = post_order(root.right)\n",
    "            if root.data > largest_on_left and root.data < smallest_on_right:\n",
    "                total_count = left_count + right_count + 1\n",
    "                ans = max(ans, total_count)\n",
    "                return [max(root.data, largest_on_right), min(root.data, smallest_on_left), total_count]\n",
    "            else:\n",
    "                return [math.inf, -math.inf, 0]\n",
    "            \n",
    "        else:\n",
    "            return [-math.inf, math.inf, 0]\n",
    "    post_order(root)\n",
    "    return ans"
   ]
  },
  {
   "cell_type": "code",
   "execution_count": 128,
   "metadata": {},
   "outputs": [
    {
     "name": "stdout",
     "output_type": "stream",
     "text": [
      "   __5  \n",
      "  /   \\ \n",
      " 10_  6 \n",
      "/   \\  \\\n",
      "2  14  7\n"
     ]
    },
    {
     "data": {
      "text/plain": [
       "3"
      ]
     },
     "execution_count": 128,
     "metadata": {},
     "output_type": "execute_result"
    }
   ],
   "source": [
    "root = formTree([5,10,6,2,14,None,7])\n",
    "root.display()\n",
    "largestBST(root)"
   ]
  },
  {
   "cell_type": "code",
   "execution_count": 129,
   "metadata": {},
   "outputs": [
    {
     "name": "stdout",
     "output_type": "stream",
     "text": [
      "  _1 \n",
      " /  \\\n",
      " 4  4\n",
      "/ \\  \n",
      "6 8  \n"
     ]
    },
    {
     "data": {
      "text/plain": [
       "1"
      ]
     },
     "execution_count": 129,
     "metadata": {},
     "output_type": "execute_result"
    }
   ],
   "source": [
    "root = formTree([1, 4, 4, 6, 8])\n",
    "root.display()\n",
    "largestBST(root)"
   ]
  }
 ],
 "metadata": {
  "kernelspec": {
   "display_name": "dsa-venv",
   "language": "python",
   "name": "python3"
  },
  "language_info": {
   "codemirror_mode": {
    "name": "ipython",
    "version": 3
   },
   "file_extension": ".py",
   "mimetype": "text/x-python",
   "name": "python",
   "nbconvert_exporter": "python",
   "pygments_lexer": "ipython3",
   "version": "3.11.3"
  }
 },
 "nbformat": 4,
 "nbformat_minor": 2
}
