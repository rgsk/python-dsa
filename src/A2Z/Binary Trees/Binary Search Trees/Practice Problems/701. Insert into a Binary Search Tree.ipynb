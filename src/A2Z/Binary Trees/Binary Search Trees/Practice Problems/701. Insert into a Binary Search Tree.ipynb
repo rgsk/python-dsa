{
 "cells": [
  {
   "cell_type": "code",
   "execution_count": null,
   "metadata": {},
   "outputs": [],
   "source": [
    "import sys\n",
    "sys.path.append('../../..')\n",
    "\n",
    "\n",
    "from lib.TreeNode import *"
   ]
  },
  {
   "cell_type": "code",
   "execution_count": null,
   "metadata": {},
   "outputs": [],
   "source": [
    "\n",
    "from typing import Optional\n",
    "\n",
    "\n",
    "class Solution:\n",
    "    def insertIntoBST(self, root: Optional[TreeNode], val: int) -> Optional[TreeNode]:\n",
    "        if root:\n",
    "            if val < root.val:\n",
    "                root.left = self.insertIntoBST(root.left, val)\n",
    "            else:\n",
    "                root.right = self.insertIntoBST(root.right, val)\n",
    "            return root\n",
    "        else:\n",
    "            return TreeNode(val)"
   ]
  }
 ],
 "metadata": {
  "language_info": {
   "name": "python"
  }
 },
 "nbformat": 4,
 "nbformat_minor": 2
}
