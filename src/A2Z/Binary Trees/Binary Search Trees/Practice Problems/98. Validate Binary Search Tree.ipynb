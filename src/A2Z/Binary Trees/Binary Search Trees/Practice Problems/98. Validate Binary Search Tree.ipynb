{
 "cells": [
  {
   "cell_type": "code",
   "execution_count": null,
   "metadata": {},
   "outputs": [],
   "source": [
    "import sys\n",
    "sys.path.append('../../..')\n",
    "\n",
    "\n",
    "from lib.TreeNode import *"
   ]
  },
  {
   "cell_type": "code",
   "execution_count": null,
   "metadata": {},
   "outputs": [],
   "source": [
    "import math\n",
    "\n",
    "\n",
    "class Solution:\n",
    "    def isValidBST(self, root: Optional[TreeNode]) -> bool:\n",
    "        def helper(root: Optional[TreeNode], lower: int, upper: int):\n",
    "            if root:\n",
    "                if root.val <= lower or root.val >= upper:\n",
    "                    return False\n",
    "                return helper(root.left, lower, root.val) and helper(root.right, root.val, upper)\n",
    "            return True\n",
    "        return helper(root, -math.inf, math.inf)"
   ]
  }
 ],
 "metadata": {
  "language_info": {
   "name": "python"
  }
 },
 "nbformat": 4,
 "nbformat_minor": 2
}
