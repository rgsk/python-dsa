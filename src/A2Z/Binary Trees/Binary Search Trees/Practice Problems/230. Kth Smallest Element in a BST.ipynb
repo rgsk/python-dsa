{
 "cells": [
  {
   "cell_type": "markdown",
   "metadata": {},
   "source": [
    "https://leetcode.com/problems/kth-smallest-element-in-a-bst/description/"
   ]
  },
  {
   "cell_type": "code",
   "execution_count": 17,
   "metadata": {},
   "outputs": [],
   "source": [
    "import sys\n",
    "sys.path.append('../../../..')\n",
    "\n",
    "\n",
    "from lib.TreeNode import *"
   ]
  },
  {
   "cell_type": "code",
   "execution_count": 18,
   "metadata": {},
   "outputs": [],
   "source": [
    "# brute force \n",
    "# perform inorder and return element at index k - 1\n",
    "class Solution:\n",
    "    def kthSmallest(self, root: Optional[TreeNode], k: int) -> int:\n",
    "        inorder_traversal = getInorderTraversal(root)\n",
    "        return inorder_traversal[k-1]"
   ]
  },
  {
   "cell_type": "code",
   "execution_count": 19,
   "metadata": {},
   "outputs": [],
   "source": [
    "class Solution:\n",
    "    def kthSmallest(self, root: Optional[TreeNode], k: int) -> int:\n",
    "        ans = -1\n",
    "        def inorder(root):\n",
    "            nonlocal ans, k\n",
    "            if k <= 0 or root == None: return\n",
    "            inorder(root.left)\n",
    "            if k > 0:\n",
    "                k -= 1\n",
    "                if k == 0:\n",
    "                    ans = root.val\n",
    "                inorder(root.right)\n",
    "        inorder(root)\n",
    "        return ans"
   ]
  },
  {
   "cell_type": "code",
   "execution_count": 20,
   "metadata": {},
   "outputs": [
    {
     "data": {
      "text/plain": [
       "3"
      ]
     },
     "execution_count": 20,
     "metadata": {},
     "output_type": "execute_result"
    }
   ],
   "source": [
    "root = formTree([5,3,6,2,4,None,None,1])\n",
    "k = 3\n",
    "sol = Solution()\n",
    "sol.kthSmallest(root, k)"
   ]
  }
 ],
 "metadata": {
  "kernelspec": {
   "display_name": "Python 3",
   "language": "python",
   "name": "python3"
  },
  "language_info": {
   "codemirror_mode": {
    "name": "ipython",
    "version": 3
   },
   "file_extension": ".py",
   "mimetype": "text/x-python",
   "name": "python",
   "nbconvert_exporter": "python",
   "pygments_lexer": "ipython3",
   "version": "3.11.3"
  }
 },
 "nbformat": 4,
 "nbformat_minor": 2
}
