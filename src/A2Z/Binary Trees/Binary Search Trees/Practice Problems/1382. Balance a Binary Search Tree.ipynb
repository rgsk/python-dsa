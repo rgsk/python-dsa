{
 "cells": [
  {
   "cell_type": "markdown",
   "metadata": {},
   "source": [
    "https://leetcode.com/problems/balance-a-binary-search-tree/"
   ]
  },
  {
   "cell_type": "code",
   "execution_count": 1,
   "metadata": {},
   "outputs": [],
   "source": [
    "import sys\n",
    "sys.path.append('../../../..')\n",
    "\n",
    "\n",
    "from lib.TreeNode import *"
   ]
  },
  {
   "cell_type": "code",
   "execution_count": 2,
   "metadata": {},
   "outputs": [],
   "source": [
    "\n",
    "\n",
    "\n",
    "class Solution:\n",
    "    def balanceBST(self, root: TreeNode) -> TreeNode:\n",
    "        values = getInorderTraversal(root)\n",
    "        return createTreeFromInorder(values, 0, len(values) - 1)"
   ]
  },
  {
   "cell_type": "code",
   "execution_count": 3,
   "metadata": {},
   "outputs": [
    {
     "name": "stdout",
     "output_type": "stream",
     "text": [
      "1   \n",
      " \\  \n",
      " 2  \n",
      "  \\ \n",
      "  3 \n",
      "   \\\n",
      "   4\n",
      "solution\n",
      " 2  \n",
      "/ \\ \n",
      "1 3 \n",
      "   \\\n",
      "   4\n"
     ]
    }
   ],
   "source": [
    "root = formTree([1,None,2,None,3,None,4,None,None])\n",
    "root.display()\n",
    "sol = Solution()\n",
    "result = sol.balanceBST(root)\n",
    "print('solution')\n",
    "result.display()"
   ]
  },
  {
   "cell_type": "code",
   "execution_count": 4,
   "metadata": {},
   "outputs": [
    {
     "name": "stdout",
     "output_type": "stream",
     "text": [
      " 2 \n",
      "/ \\\n",
      "1 3\n",
      "solution\n",
      " 2 \n",
      "/ \\\n",
      "1 3\n"
     ]
    }
   ],
   "source": [
    "root = formTree([2,1,3])\n",
    "root.display()\n",
    "sol = Solution()\n",
    "result = sol.balanceBST(root)\n",
    "print('solution')\n",
    "result.display()"
   ]
  }
 ],
 "metadata": {
  "kernelspec": {
   "display_name": "dsa-venv",
   "language": "python",
   "name": "python3"
  },
  "language_info": {
   "codemirror_mode": {
    "name": "ipython",
    "version": 3
   },
   "file_extension": ".py",
   "mimetype": "text/x-python",
   "name": "python",
   "nbconvert_exporter": "python",
   "pygments_lexer": "ipython3",
   "version": "3.11.3"
  }
 },
 "nbformat": 4,
 "nbformat_minor": 2
}
