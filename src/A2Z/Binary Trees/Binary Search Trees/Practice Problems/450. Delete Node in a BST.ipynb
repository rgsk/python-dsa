{
 "cells": [
  {
   "cell_type": "code",
   "execution_count": 9,
   "metadata": {},
   "outputs": [],
   "source": [
    "import sys\n",
    "sys.path.append('../../../..')\n",
    "\n",
    "\n",
    "from lib.TreeNode import *"
   ]
  },
  {
   "cell_type": "code",
   "execution_count": 10,
   "metadata": {},
   "outputs": [],
   "source": [
    "class Solution:\n",
    "    def deleteNode(self, root: Optional[TreeNode], key: int) -> Optional[TreeNode]:\n",
    "        def helper(root):\n",
    "            if root:\n",
    "                if root.val == key:\n",
    "                    if root.left:\n",
    "                        temp = root.left\n",
    "                        while temp:\n",
    "                            prev = temp\n",
    "                            temp = temp.right\n",
    "                        prev.right = root.right\n",
    "                        return root.left\n",
    "                    else:\n",
    "                        return root.right\n",
    "                if key < root.val:\n",
    "                    root.left = self.deleteNode(root.left, key)\n",
    "                else:\n",
    "                    root.right = self.deleteNode(root.right, key)\n",
    "                return root\n",
    "        return helper(root)"
   ]
  },
  {
   "cell_type": "code",
   "execution_count": 11,
   "metadata": {},
   "outputs": [
    {
     "name": "stdout",
     "output_type": "stream",
     "text": [
      "  _5  \n",
      " /  \\ \n",
      " 3  6 \n",
      "/ \\  \\\n",
      "2 4  7\n",
      "solution\n",
      " _5  \n",
      "/  \\ \n",
      "2  6 \n",
      " \\  \\\n",
      " 4  7\n"
     ]
    }
   ],
   "source": [
    "root = formTree([5,3,6,2,4,None,7])\n",
    "root.display()\n",
    "key = 3\n",
    "sol = Solution()\n",
    "print('solution')\n",
    "sol.deleteNode(root, key).display()"
   ]
  },
  {
   "cell_type": "code",
   "execution_count": 12,
   "metadata": {},
   "outputs": [
    {
     "name": "stdout",
     "output_type": "stream",
     "text": [
      "  _5  \n",
      " /  \\ \n",
      " 3  6 \n",
      "/ \\  \\\n",
      "2 4  7\n",
      "solution\n",
      "  _5  \n",
      " /  \\ \n",
      " 3  6 \n",
      "/ \\  \\\n",
      "2 4  7\n"
     ]
    }
   ],
   "source": [
    "root = formTree([5,3,6,2,4,None,7])\n",
    "root.display()\n",
    "key = 0\n",
    "sol = Solution()\n",
    "print('solution')\n",
    "sol.deleteNode(root, key).display()"
   ]
  }
 ],
 "metadata": {
  "kernelspec": {
   "display_name": "dsa-venv",
   "language": "python",
   "name": "python3"
  },
  "language_info": {
   "codemirror_mode": {
    "name": "ipython",
    "version": 3
   },
   "file_extension": ".py",
   "mimetype": "text/x-python",
   "name": "python",
   "nbconvert_exporter": "python",
   "pygments_lexer": "ipython3",
   "version": "3.11.3"
  }
 },
 "nbformat": 4,
 "nbformat_minor": 2
}
