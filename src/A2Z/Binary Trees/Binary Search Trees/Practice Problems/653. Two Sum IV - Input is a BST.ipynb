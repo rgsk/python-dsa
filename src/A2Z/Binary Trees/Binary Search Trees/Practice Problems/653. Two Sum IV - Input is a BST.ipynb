{
 "cells": [
  {
   "cell_type": "markdown",
   "metadata": {},
   "source": [
    "https://leetcode.com/problems/two-sum-iv-input-is-a-bst/"
   ]
  },
  {
   "cell_type": "code",
   "execution_count": 6,
   "metadata": {},
   "outputs": [],
   "source": [
    "import sys\n",
    "sys.path.append('../../../..')\n",
    "\n",
    "\n",
    "from lib.TreeNode import *"
   ]
  },
  {
   "cell_type": "code",
   "execution_count": 7,
   "metadata": {},
   "outputs": [],
   "source": [
    "# saving the inorder traversal and then performing the two sum\n",
    "\n",
    "def twoSum(arr: List[int], target: int):\n",
    "    n = len(arr)\n",
    "    left = 0\n",
    "    right = n - 1\n",
    "    while left < right:\n",
    "        s = arr[left] + arr[right]\n",
    "        if s == target:\n",
    "            return True\n",
    "        elif s < target:\n",
    "            # we have to increase the sum\n",
    "            left += 1\n",
    "        else:\n",
    "            right -= 1\n",
    "    return False\n",
    "\n",
    "\n",
    "\n",
    "\n",
    "class Solution:\n",
    "    def findTarget(self, root: Optional[TreeNode], k: int) -> bool:\n",
    "        values = []\n",
    "        def inorder(root: Optional[TreeNode]):\n",
    "            if root:\n",
    "                inorder(root.left)\n",
    "                values.append(root.val)\n",
    "                inorder(root.right)\n",
    "        inorder(root)\n",
    "        return twoSum(values, k)"
   ]
  },
  {
   "cell_type": "code",
   "execution_count": 8,
   "metadata": {},
   "outputs": [
    {
     "data": {
      "text/plain": [
       "True"
      ]
     },
     "execution_count": 8,
     "metadata": {},
     "output_type": "execute_result"
    }
   ],
   "source": [
    "root = formTree([5,3,6,2,4,None,7])\n",
    "k = 9\n",
    "sol = Solution()\n",
    "sol.findTarget(root, k)"
   ]
  },
  {
   "cell_type": "code",
   "execution_count": 9,
   "metadata": {},
   "outputs": [
    {
     "data": {
      "text/plain": [
       "False"
      ]
     },
     "execution_count": 9,
     "metadata": {},
     "output_type": "execute_result"
    }
   ],
   "source": [
    "root = formTree([5,3,6,2,4,None,7])\n",
    "k = 28\n",
    "sol = Solution()\n",
    "sol.findTarget(root, k)"
   ]
  },
  {
   "cell_type": "code",
   "execution_count": 10,
   "metadata": {},
   "outputs": [],
   "source": [
    "class BSTIterator:\n",
    "\n",
    "    def __init__(self, root: Optional[TreeNode]):\n",
    "        self.stack = []\n",
    "        temp = root\n",
    "        while temp:\n",
    "            self.stack.append(temp)\n",
    "            temp = temp.left\n",
    "\n",
    "    def next(self) -> int:\n",
    "        top = self.stack.pop()\n",
    "        if top.right:\n",
    "            temp = top.right\n",
    "            while temp:\n",
    "                self.stack.append(temp)\n",
    "                temp = temp.left\n",
    "        return top.val\n",
    "\n",
    "    def hasNext(self) -> bool:\n",
    "        return len(self.stack) > 0\n",
    "\n",
    "\n",
    "class BSTIteratorReversed:\n",
    "\n",
    "    def __init__(self, root: Optional[TreeNode]):\n",
    "        self.stack = []\n",
    "        temp = root\n",
    "        while temp:\n",
    "            self.stack.append(temp)\n",
    "            temp = temp.right\n",
    "\n",
    "    def prev(self) -> int:\n",
    "        top = self.stack.pop()\n",
    "        if top.left:\n",
    "            temp = top.left\n",
    "            while temp:\n",
    "                self.stack.append(temp)\n",
    "                temp = temp.right\n",
    "        return top.val\n",
    "\n",
    "    def hasPrev(self) -> bool:\n",
    "        return len(self.stack) > 0\n",
    "\n",
    "class Solution:\n",
    "    def findTarget(self, root: Optional[TreeNode], k: int) -> bool:\n",
    "        forward = BSTIterator(root)\n",
    "        backward = BSTIteratorReversed(root)\n",
    "\n",
    "        left = forward.next()\n",
    "        right = backward.prev()\n",
    "        while left < right:\n",
    "            s = left + right\n",
    "            if s == k:\n",
    "                return True\n",
    "            elif s < k:\n",
    "                left = forward.next()\n",
    "            else:\n",
    "                right = backward.prev()\n",
    "        return False"
   ]
  },
  {
   "cell_type": "code",
   "execution_count": 11,
   "metadata": {},
   "outputs": [
    {
     "data": {
      "text/plain": [
       "True"
      ]
     },
     "execution_count": 11,
     "metadata": {},
     "output_type": "execute_result"
    }
   ],
   "source": [
    "root = formTree([5,3,6,2,4,None,7])\n",
    "k = 9\n",
    "sol = Solution()\n",
    "sol.findTarget(root, k)"
   ]
  },
  {
   "cell_type": "code",
   "execution_count": 12,
   "metadata": {},
   "outputs": [
    {
     "data": {
      "text/plain": [
       "False"
      ]
     },
     "execution_count": 12,
     "metadata": {},
     "output_type": "execute_result"
    }
   ],
   "source": [
    "root = formTree([5,3,6,2,4,None,7])\n",
    "k = 28\n",
    "sol = Solution()\n",
    "sol.findTarget(root, k)"
   ]
  }
 ],
 "metadata": {
  "kernelspec": {
   "display_name": "dsa-venv",
   "language": "python",
   "name": "python3"
  },
  "language_info": {
   "codemirror_mode": {
    "name": "ipython",
    "version": 3
   },
   "file_extension": ".py",
   "mimetype": "text/x-python",
   "name": "python",
   "nbconvert_exporter": "python",
   "pygments_lexer": "ipython3",
   "version": "3.11.3"
  }
 },
 "nbformat": 4,
 "nbformat_minor": 2
}
