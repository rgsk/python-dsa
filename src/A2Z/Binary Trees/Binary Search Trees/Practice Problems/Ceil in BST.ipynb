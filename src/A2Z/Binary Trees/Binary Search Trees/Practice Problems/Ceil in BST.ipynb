{
 "cells": [
  {
   "cell_type": "code",
   "execution_count": 7,
   "metadata": {},
   "outputs": [],
   "source": [
    "# https://practice.geeksforgeeks.org/problems/implementing-ceil-in-bst/1"
   ]
  },
  {
   "cell_type": "markdown",
   "metadata": {},
   "source": [
    "\n",
    "\n",
    "<img src=\"./../../../../../images/Screenshot 2023-10-28 at 2.20.26 PM.png\" width=\"700\" >"
   ]
  },
  {
   "cell_type": "code",
   "execution_count": 8,
   "metadata": {},
   "outputs": [],
   "source": [
    "class Solution:\n",
    "    def findCeil(self,root, inp):\n",
    "        # code here\n",
    "        ceil = -1\n",
    "        def helper(root):\n",
    "            nonlocal ceil\n",
    "            if root:\n",
    "                if root.key == inp:\n",
    "                    ceil = root.key\n",
    "                elif root.key > inp:\n",
    "                    ceil = root.key\n",
    "                    # but we could get smaller\n",
    "                    helper(root.left)\n",
    "                else:\n",
    "                    helper(root.right)\n",
    "        helper(root)\n",
    "        return ceil\n"
   ]
  },
  {
   "cell_type": "code",
   "execution_count": 9,
   "metadata": {},
   "outputs": [],
   "source": [
    "class Solution:\n",
    "    def findCeil(self,root, inp):\n",
    "        # code here\n",
    "        ceil = -1\n",
    "        while root:\n",
    "            if root.key == inp:\n",
    "                ceil = root.key\n",
    "                return ceil\n",
    "            elif root.key > inp:\n",
    "                ceil = root.key\n",
    "                root = root.left\n",
    "            else:\n",
    "                root = root.right\n",
    "        return ceil\n"
   ]
  }
 ],
 "metadata": {
  "kernelspec": {
   "display_name": "dsa-venv",
   "language": "python",
   "name": "python3"
  },
  "language_info": {
   "codemirror_mode": {
    "name": "ipython",
    "version": 3
   },
   "file_extension": ".py",
   "mimetype": "text/x-python",
   "name": "python",
   "nbconvert_exporter": "python",
   "pygments_lexer": "ipython3",
   "version": "3.11.3"
  }
 },
 "nbformat": 4,
 "nbformat_minor": 2
}
