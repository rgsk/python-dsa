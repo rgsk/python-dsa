{
 "cells": [
  {
   "cell_type": "markdown",
   "metadata": {},
   "source": [
    "https://leetcode.com/problems/binary-search-tree-iterator/"
   ]
  },
  {
   "cell_type": "code",
   "execution_count": 19,
   "metadata": {},
   "outputs": [],
   "source": [
    "import sys\n",
    "sys.path.append('../../../..')\n",
    "\n",
    "\n",
    "from lib.TreeNode import *"
   ]
  },
  {
   "cell_type": "code",
   "execution_count": 20,
   "metadata": {},
   "outputs": [],
   "source": [
    "# brute force method of storing the inorder traversal in a array\n",
    "# space O(n)\n",
    "\n",
    "class BSTIterator:\n",
    "\n",
    "    def __init__(self, root: Optional[TreeNode]):\n",
    "        self.i = -1\n",
    "        self.values = []\n",
    "        def inorder(root: Optional[TreeNode]):\n",
    "            if root:\n",
    "                inorder(root.left)\n",
    "                self.values.append(root.val)\n",
    "                inorder(root.right)\n",
    "        inorder(root)\n",
    "\n",
    "    def next(self) -> int:\n",
    "        self.i += 1\n",
    "        return self.values[self.i]\n",
    "\n",
    "    def hasNext(self) -> bool:\n",
    "        return self.i != len(self.values) - 1\n"
   ]
  },
  {
   "cell_type": "code",
   "execution_count": 21,
   "metadata": {},
   "outputs": [
    {
     "name": "stdout",
     "output_type": "stream",
     "text": [
      "3\n",
      "7\n",
      "True\n",
      "9\n",
      "True\n",
      "15\n",
      "True\n",
      "20\n",
      "False\n"
     ]
    }
   ],
   "source": [
    "bSTIterator = BSTIterator(formTree([7, 3, 15, None, None, 9, 20]))\n",
    "print(bSTIterator.next())\n",
    "print(bSTIterator.next())\n",
    "print(bSTIterator.hasNext())\n",
    "print(bSTIterator.next())\n",
    "print(bSTIterator.hasNext())\n",
    "print(bSTIterator.next())\n",
    "print(bSTIterator.hasNext())\n",
    "print(bSTIterator.next())\n",
    "print(bSTIterator.hasNext())"
   ]
  },
  {
   "cell_type": "code",
   "execution_count": 22,
   "metadata": {},
   "outputs": [],
   "source": [
    "# better method \n",
    "# space O(logn)\n",
    "class BSTIterator:\n",
    "\n",
    "    def __init__(self, root: Optional[TreeNode]):\n",
    "        self.stack = []\n",
    "        temp = root\n",
    "        while temp:\n",
    "            self.stack.append(temp)\n",
    "            temp = temp.left\n",
    "\n",
    "    def next(self) -> int:\n",
    "        top = self.stack.pop()\n",
    "        if top.right:\n",
    "            temp = top.right\n",
    "            while temp:\n",
    "                self.stack.append(temp)\n",
    "                temp = temp.left\n",
    "        return top.val\n",
    "\n",
    "    def hasNext(self) -> bool:\n",
    "        return len(self.stack) > 0\n"
   ]
  },
  {
   "cell_type": "code",
   "execution_count": 23,
   "metadata": {},
   "outputs": [
    {
     "name": "stdout",
     "output_type": "stream",
     "text": [
      "3\n",
      "7\n",
      "True\n",
      "9\n",
      "True\n",
      "15\n",
      "True\n",
      "20\n",
      "False\n"
     ]
    }
   ],
   "source": [
    "bSTIterator = BSTIterator(formTree([7, 3, 15, None, None, 9, 20]))\n",
    "print(bSTIterator.next())\n",
    "print(bSTIterator.next())\n",
    "print(bSTIterator.hasNext())\n",
    "print(bSTIterator.next())\n",
    "print(bSTIterator.hasNext())\n",
    "print(bSTIterator.next())\n",
    "print(bSTIterator.hasNext())\n",
    "print(bSTIterator.next())\n",
    "print(bSTIterator.hasNext())"
   ]
  }
 ],
 "metadata": {
  "kernelspec": {
   "display_name": "dsa-venv",
   "language": "python",
   "name": "python3"
  },
  "language_info": {
   "codemirror_mode": {
    "name": "ipython",
    "version": 3
   },
   "file_extension": ".py",
   "mimetype": "text/x-python",
   "name": "python",
   "nbconvert_exporter": "python",
   "pygments_lexer": "ipython3",
   "version": "3.11.3"
  }
 },
 "nbformat": 4,
 "nbformat_minor": 2
}
