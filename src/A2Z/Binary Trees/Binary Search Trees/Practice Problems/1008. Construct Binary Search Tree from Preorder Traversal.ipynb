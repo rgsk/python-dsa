{
 "cells": [
  {
   "cell_type": "markdown",
   "metadata": {},
   "source": [
    "https://leetcode.com/problems/construct-binary-search-tree-from-preorder-traversal/description/"
   ]
  },
  {
   "cell_type": "code",
   "execution_count": 7,
   "metadata": {},
   "outputs": [],
   "source": [
    "import sys\n",
    "sys.path.append('../../../..')\n",
    "\n",
    "\n",
    "from lib.TreeNode import *"
   ]
  },
  {
   "cell_type": "code",
   "execution_count": 8,
   "metadata": {},
   "outputs": [],
   "source": [
    "class Solution:\n",
    "    def bstFromPreorder(self, preorder: List[int]) -> Optional[TreeNode]:\n",
    "        inorder = sorted(preorder)\n",
    "        preorder_ind = 0\n",
    "        def helper(left, right):\n",
    "            if left <= right:\n",
    "                nonlocal preorder_ind\n",
    "                mid = -1\n",
    "                for i in range(left, right + 1):\n",
    "                    if inorder[i] == preorder[preorder_ind]:\n",
    "                        mid = i\n",
    "                        break\n",
    "                preorder_ind += 1\n",
    "                node = TreeNode(inorder[mid])\n",
    "                node.left = helper(left, mid - 1)\n",
    "                node.right = helper(mid + 1, right)\n",
    "                return node\n",
    "        return helper(0, len(preorder) - 1)\n"
   ]
  },
  {
   "cell_type": "code",
   "execution_count": 9,
   "metadata": {},
   "outputs": [
    {
     "name": "stdout",
     "output_type": "stream",
     "text": [
      "  _8_   \n",
      " /   \\  \n",
      " 5  10_ \n",
      "/ \\    \\\n",
      "1 7   12\n"
     ]
    }
   ],
   "source": [
    "preorder = [8,5,1,7,10,12]\n",
    "sol = Solution()\n",
    "sol.bstFromPreorder(preorder).display()"
   ]
  },
  {
   "cell_type": "code",
   "execution_count": 10,
   "metadata": {},
   "outputs": [
    {
     "name": "stdout",
     "output_type": "stream",
     "text": [
      "1 \n",
      " \\\n",
      " 3\n"
     ]
    }
   ],
   "source": [
    "preorder = [1,3]\n",
    "sol = Solution()\n",
    "sol.bstFromPreorder(preorder).display()"
   ]
  }
 ],
 "metadata": {
  "kernelspec": {
   "display_name": "dsa-venv",
   "language": "python",
   "name": "python3"
  },
  "language_info": {
   "codemirror_mode": {
    "name": "ipython",
    "version": 3
   },
   "file_extension": ".py",
   "mimetype": "text/x-python",
   "name": "python",
   "nbconvert_exporter": "python",
   "pygments_lexer": "ipython3",
   "version": "3.11.3"
  }
 },
 "nbformat": 4,
 "nbformat_minor": 2
}
