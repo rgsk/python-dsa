{
 "cells": [
  {
   "cell_type": "markdown",
   "metadata": {},
   "source": [
    "https://leetcode.com/problems/recover-binary-search-tree/description/"
   ]
  },
  {
   "cell_type": "code",
   "execution_count": 46,
   "metadata": {},
   "outputs": [],
   "source": [
    "import sys\n",
    "sys.path.append('../../../..')\n",
    "\n",
    "\n",
    "from lib.TreeNode import *"
   ]
  },
  {
   "cell_type": "code",
   "execution_count": 47,
   "metadata": {},
   "outputs": [],
   "source": [
    "# brute force \n",
    "# traverse the entire tree and get the values\n",
    "# then form the tree with inorder traversal\n",
    "\n",
    "class Solution:\n",
    "    def recoverTree(self, root: Optional[TreeNode]) -> None:\n",
    "        values = []\n",
    "        def inorder(root: Optional[TreeNode]):\n",
    "            if root:\n",
    "                inorder(root.left)\n",
    "                values.append(root.val)\n",
    "                inorder(root.right)\n",
    "        inorder(root)\n",
    "        values.sort()\n",
    "        i = 0\n",
    "        def inorder_assign(root: Optional[TreeNode]):\n",
    "            nonlocal i\n",
    "            if root:\n",
    "                inorder_assign(root.left)\n",
    "                root.val = values[i]\n",
    "                i += 1\n",
    "                inorder_assign(root.right)\n",
    "        inorder_assign(root)"
   ]
  },
  {
   "cell_type": "code",
   "execution_count": 48,
   "metadata": {},
   "outputs": [
    {
     "name": "stdout",
     "output_type": "stream",
     "text": [
      " _1\n",
      "/  \n",
      "3  \n",
      " \\ \n",
      " 2 \n",
      "solution\n",
      " _3\n",
      "/  \n",
      "1  \n",
      " \\ \n",
      " 2 \n"
     ]
    }
   ],
   "source": [
    "root = formTree([1,3,None,None,2])\n",
    "root.display()\n",
    "sol = Solution()\n",
    "sol.recoverTree(root)\n",
    "print('solution')\n",
    "root.display()"
   ]
  },
  {
   "cell_type": "code",
   "execution_count": 49,
   "metadata": {},
   "outputs": [
    {
     "name": "stdout",
     "output_type": "stream",
     "text": [
      " 3_ \n",
      "/  \\\n",
      "1  4\n",
      "  / \n",
      "  2 \n",
      "solution\n",
      " 2_ \n",
      "/  \\\n",
      "1  4\n",
      "  / \n",
      "  3 \n"
     ]
    }
   ],
   "source": [
    "root = formTree([3,1,4,None,None,2])\n",
    "root.display()\n",
    "sol = Solution()\n",
    "sol.recoverTree(root)\n",
    "print('solution')\n",
    "root.display()"
   ]
  },
  {
   "cell_type": "code",
   "execution_count": 50,
   "metadata": {},
   "outputs": [],
   "source": [
    "import math\n",
    "\n",
    "\n",
    "class Solution:\n",
    "    def recoverTree(self, root: Optional[TreeNode]) -> None:\n",
    "        last = TreeNode(-math.inf)\n",
    "        first = None\n",
    "        second = None\n",
    "        third = None\n",
    "        def inorder(root: Optional[TreeNode]):\n",
    "            nonlocal last, first, second, third\n",
    "            if root:\n",
    "                inorder(root.left)\n",
    "                if root.val <= last.val:\n",
    "                    # drop  \n",
    "                    if first == None:\n",
    "                        first = last\n",
    "                        second = root\n",
    "                    else:\n",
    "                        third = root\n",
    "                last = root\n",
    "                inorder(root.right)\n",
    "        inorder(root)\n",
    "        if third:\n",
    "            first.val, third.val = third.val, first.val\n",
    "        else:\n",
    "            first.val, second.val = second.val, first.val"
   ]
  },
  {
   "cell_type": "code",
   "execution_count": 51,
   "metadata": {},
   "outputs": [
    {
     "name": "stdout",
     "output_type": "stream",
     "text": [
      " _1\n",
      "/  \n",
      "3  \n",
      " \\ \n",
      " 2 \n",
      "solution\n",
      " _3\n",
      "/  \n",
      "1  \n",
      " \\ \n",
      " 2 \n"
     ]
    }
   ],
   "source": [
    "root = formTree([1,3,None,None,2])\n",
    "root.display()\n",
    "sol = Solution()\n",
    "sol.recoverTree(root)\n",
    "print('solution')\n",
    "root.display()"
   ]
  },
  {
   "cell_type": "code",
   "execution_count": 52,
   "metadata": {},
   "outputs": [
    {
     "name": "stdout",
     "output_type": "stream",
     "text": [
      " 3_ \n",
      "/  \\\n",
      "1  4\n",
      "  / \n",
      "  2 \n",
      "solution\n",
      " 2_ \n",
      "/  \\\n",
      "1  4\n",
      "  / \n",
      "  3 \n"
     ]
    }
   ],
   "source": [
    "root = formTree([3,1,4,None,None,2])\n",
    "root.display()\n",
    "sol = Solution()\n",
    "sol.recoverTree(root)\n",
    "print('solution')\n",
    "root.display()"
   ]
  }
 ],
 "metadata": {
  "kernelspec": {
   "display_name": "dsa-venv",
   "language": "python",
   "name": "python3"
  },
  "language_info": {
   "codemirror_mode": {
    "name": "ipython",
    "version": 3
   },
   "file_extension": ".py",
   "mimetype": "text/x-python",
   "name": "python",
   "nbconvert_exporter": "python",
   "pygments_lexer": "ipython3",
   "version": "3.11.3"
  }
 },
 "nbformat": 4,
 "nbformat_minor": 2
}
