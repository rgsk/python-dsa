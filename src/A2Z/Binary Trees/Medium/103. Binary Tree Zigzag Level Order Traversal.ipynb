{
 "cells": [
  {
   "cell_type": "code",
   "execution_count": 19,
   "metadata": {},
   "outputs": [],
   "source": [
    "import sys\n",
    "sys.path.append('../../..')\n",
    "\n",
    "\n",
    "from lib.TreeNode import *"
   ]
  },
  {
   "cell_type": "code",
   "execution_count": 20,
   "metadata": {},
   "outputs": [],
   "source": [
    "class Solution:\n",
    "    def zigzagLevelOrder(self, root: Optional[TreeNode]) -> List[List[int]]:\n",
    "        lot = levelOrder(root)\n",
    "        for i in range(len(lot)):\n",
    "            if i % 2 == 1:\n",
    "                l = len(lot[i])\n",
    "                for j in range(l//2):\n",
    "                    lot[i][j], lot[i][l-j-1] = lot[i][l-j-1], lot[i][j]\n",
    "        return lot"
   ]
  },
  {
   "cell_type": "code",
   "execution_count": 21,
   "metadata": {},
   "outputs": [],
   "source": [
    "class Solution:\n",
    "    def zigzagLevelOrder(self, root: Optional[TreeNode]) -> List[List[int]]:\n",
    "        stack = [(root, 0)]\n",
    "        ans: List[List[int]] = []\n",
    "        while stack:\n",
    "            last, idx = stack.pop()\n",
    "            if last:\n",
    "                if idx == len(ans):\n",
    "                    ans.append([])\n",
    "                if idx % 2 == 0:\n",
    "                    ans[idx].append(last.val)\n",
    "                else:\n",
    "                    ans[idx].insert(0,last.val)\n",
    "                stack.append((last.right, idx + 1))\n",
    "                stack.append((last.left, idx + 1))\n",
    "        return ans\n"
   ]
  },
  {
   "cell_type": "code",
   "execution_count": 22,
   "metadata": {},
   "outputs": [],
   "source": [
    "class Solution:\n",
    "    def zigzagLevelOrder(self, root: Optional[TreeNode]) -> List[List[int]]:\n",
    "        stack = [(root, 0)]\n",
    "        ans: List[List[int]] = []\n",
    "        while stack:\n",
    "            last, idx = stack.pop()\n",
    "            if last:\n",
    "                if idx == len(ans):\n",
    "                    ans.append([])\n",
    "                if idx % 2 == 0:\n",
    "                    ans[idx].append(last.val)\n",
    "                else:\n",
    "                    ans[idx].insert(0,last.val)\n",
    "                stack.append((last.right, idx + 1))\n",
    "                stack.append((last.left, idx + 1))\n",
    "        return ans\n"
   ]
  },
  {
   "cell_type": "code",
   "execution_count": 23,
   "metadata": {},
   "outputs": [],
   "source": [
    "class Solution:\n",
    "    def zigzagLevelOrder(self, root: Optional[TreeNode]) -> List[List[int]]:\n",
    "        current_level_nodes = [root]\n",
    "        ans: List[List[int]] = []\n",
    "        forward = True\n",
    "        while current_level_nodes:\n",
    "            next_level_nodes = []\n",
    "            row: List[int] = []\n",
    "            if forward:\n",
    "                for i in range(len(current_level_nodes)):\n",
    "                    if current_level_nodes[i]:\n",
    "                        row.append(current_level_nodes[i].val)\n",
    "            else:\n",
    "                for i in range(len(current_level_nodes)-1, -1, -1):\n",
    "                    if current_level_nodes[i]:\n",
    "                        row.append(current_level_nodes[i].val)\n",
    "            for node in current_level_nodes:\n",
    "                if node:\n",
    "                    next_level_nodes.append(node.left)\n",
    "                    next_level_nodes.append(node.right)\n",
    "            if row:\n",
    "                ans.append(row)\n",
    "            current_level_nodes = next_level_nodes\n",
    "            forward = not forward\n",
    "        return ans"
   ]
  },
  {
   "cell_type": "code",
   "execution_count": 24,
   "metadata": {},
   "outputs": [
    {
     "data": {
      "text/plain": [
       "[[3], [9, 20], [15, 7]]"
      ]
     },
     "execution_count": 24,
     "metadata": {},
     "output_type": "execute_result"
    }
   ],
   "source": [
    "levelOrder2(formTree([3,9,20,None,None,15,7]))"
   ]
  },
  {
   "cell_type": "code",
   "execution_count": 25,
   "metadata": {},
   "outputs": [
    {
     "data": {
      "text/plain": [
       "[[3], [20, 9], [15, 7]]"
      ]
     },
     "execution_count": 25,
     "metadata": {},
     "output_type": "execute_result"
    }
   ],
   "source": [
    "root = formTree([3,9,20,None,None,15,7])\n",
    "sol = Solution()\n",
    "sol.zigzagLevelOrder(root)"
   ]
  },
  {
   "cell_type": "code",
   "execution_count": 26,
   "metadata": {},
   "outputs": [
    {
     "data": {
      "text/plain": [
       "[[1], [2, 3], [4, 5]]"
      ]
     },
     "execution_count": 26,
     "metadata": {},
     "output_type": "execute_result"
    }
   ],
   "source": [
    "levelOrder2(formTree([1,2,3,4,None,None,5]))"
   ]
  },
  {
   "cell_type": "code",
   "execution_count": 27,
   "metadata": {},
   "outputs": [
    {
     "data": {
      "text/plain": [
       "[[1], [3, 2], [4, 5]]"
      ]
     },
     "execution_count": 27,
     "metadata": {},
     "output_type": "execute_result"
    }
   ],
   "source": [
    "root = formTree([1,2,3,4,None,None,5])\n",
    "sol = Solution()\n",
    "sol.zigzagLevelOrder(root)"
   ]
  }
 ],
 "metadata": {
  "kernelspec": {
   "display_name": "dsa-venv",
   "language": "python",
   "name": "python3"
  },
  "language_info": {
   "codemirror_mode": {
    "name": "ipython",
    "version": 3
   },
   "file_extension": ".py",
   "mimetype": "text/x-python",
   "name": "python",
   "nbconvert_exporter": "python",
   "pygments_lexer": "ipython3",
   "version": "3.11.3"
  },
  "orig_nbformat": 4
 },
 "nbformat": 4,
 "nbformat_minor": 2
}
