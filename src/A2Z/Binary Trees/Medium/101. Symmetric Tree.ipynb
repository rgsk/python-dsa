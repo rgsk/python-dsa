{
 "cells": [
  {
   "cell_type": "code",
   "execution_count": 46,
   "metadata": {},
   "outputs": [],
   "source": [
    "import sys\n",
    "sys.path.append('../../..')\n",
    "\n",
    "\n",
    "from lib.TreeNode import *"
   ]
  },
  {
   "cell_type": "code",
   "execution_count": 47,
   "metadata": {},
   "outputs": [],
   "source": [
    "class Solution:\n",
    "    def levelOrder(self, root: Optional[TreeNode]) -> List[List[int]]:\n",
    "        stack = [(root, 0)]\n",
    "        ans = []\n",
    "        while stack:\n",
    "            last, idx = stack.pop()\n",
    "            if idx == len(ans):\n",
    "                ans.append([])\n",
    "            if last:\n",
    "                ans[idx].append(last.val)\n",
    "                stack.append((last.right, idx + 1))\n",
    "                stack.append((last.left, idx + 1))\n",
    "            else:\n",
    "                ans[idx].append('e')\n",
    "        return ans\n",
    "    \n",
    "    def isSymmetric(self, root: Optional[TreeNode]) -> bool:\n",
    "        level_order_traversal = self.levelOrder(root)\n",
    "        for row in level_order_traversal:\n",
    "            n = len(row)\n",
    "            for i in range(n//2):\n",
    "                if row[i] != row[n-i-1]:\n",
    "                    return False\n",
    "        return True"
   ]
  },
  {
   "cell_type": "code",
   "execution_count": 48,
   "metadata": {},
   "outputs": [
    {
     "name": "stdout",
     "output_type": "stream",
     "text": [
      "True\n"
     ]
    }
   ],
   "source": [
    "root = formTree([1,2,2,3,4,4,3])\n",
    "sol = Solution()\n",
    "print(sol.isSymmetric(root))"
   ]
  },
  {
   "cell_type": "code",
   "execution_count": 49,
   "metadata": {},
   "outputs": [
    {
     "name": "stdout",
     "output_type": "stream",
     "text": [
      "False\n"
     ]
    }
   ],
   "source": [
    "root = formTree([1,2,2,None,3,None,3])\n",
    "sol = Solution()\n",
    "print(sol.isSymmetric(root))"
   ]
  },
  {
   "cell_type": "code",
   "execution_count": null,
   "metadata": {},
   "outputs": [],
   "source": []
  }
 ],
 "metadata": {
  "kernelspec": {
   "display_name": "dsa-venv",
   "language": "python",
   "name": "python3"
  },
  "language_info": {
   "codemirror_mode": {
    "name": "ipython",
    "version": 3
   },
   "file_extension": ".py",
   "mimetype": "text/x-python",
   "name": "python",
   "nbconvert_exporter": "python",
   "pygments_lexer": "ipython3",
   "version": "3.11.3"
  },
  "orig_nbformat": 4
 },
 "nbformat": 4,
 "nbformat_minor": 2
}
