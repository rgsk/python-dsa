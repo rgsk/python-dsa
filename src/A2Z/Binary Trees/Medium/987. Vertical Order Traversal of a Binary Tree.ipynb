{
 "cells": [
  {
   "cell_type": "code",
   "execution_count": 37,
   "metadata": {},
   "outputs": [],
   "source": [
    "# https://leetcode.com/problems/vertical-order-traversal-of-a-binary-tree/"
   ]
  },
  {
   "cell_type": "code",
   "execution_count": 38,
   "metadata": {},
   "outputs": [],
   "source": [
    "import sys\n",
    "sys.path.append('../../..')\n",
    "\n",
    "\n",
    "from lib.TreeNode import *"
   ]
  },
  {
   "cell_type": "code",
   "execution_count": 39,
   "metadata": {},
   "outputs": [],
   "source": [
    "from functools import cmp_to_key\n",
    "\n",
    "def compare(a, b):\n",
    "    if a[1] == b[1]:\n",
    "        if a[0] > b[0]:\n",
    "            return 1\n",
    "        return -1\n",
    "    \n",
    "    if a[1] > b[1]: return 1\n",
    "    return -1\n",
    "\n",
    "class Solution:\n",
    "    def verticalTraversal(self, root: Optional[TreeNode]) -> List[List[int]]:\n",
    "        mp = {}\n",
    "        queue = deque([(root, 0, 0)])\n",
    "        while queue:\n",
    "            last, idx, level = queue.popleft()\n",
    "            if last:\n",
    "                if idx not in mp:\n",
    "                    mp[idx] = []\n",
    "                mp[idx].append((last.val, level))\n",
    "                queue.append((last.left, idx - 1, level + 1))\n",
    "                queue.append((last.right, idx + 1, level + 1))\n",
    "        ans = []\n",
    "        minKey = min(mp.keys())\n",
    "        while minKey in mp:\n",
    "            ans.append([v[0] for v in sorted(mp[minKey], key=(cmp_to_key(compare)))])\n",
    "            minKey += 1\n",
    "        return ans"
   ]
  },
  {
   "cell_type": "code",
   "execution_count": 40,
   "metadata": {},
   "outputs": [],
   "source": [
    "\n",
    "\n",
    "class Solution1:\n",
    "    def verticalTraversal(self, root: Optional[TreeNode]) -> List[List[int]]:\n",
    "        mp = {}\n",
    "        queue = deque([(root, 0, 0)])\n",
    "        while queue:\n",
    "            last, idx, level = queue.popleft()\n",
    "            if last:\n",
    "                if idx not in mp:\n",
    "                    mp[idx] = []\n",
    "                mp[idx].append((level, last.val))\n",
    "                queue.append((last.left, idx - 1, level + 1))\n",
    "                queue.append((last.right, idx + 1, level + 1))\n",
    "        ans = []\n",
    "        for key in sorted(mp.keys()):\n",
    "            row = [v[1] for v in sorted(mp[key])]\n",
    "            ans.append(row)\n",
    "        return ans"
   ]
  },
  {
   "cell_type": "code",
   "execution_count": 41,
   "metadata": {},
   "outputs": [
    {
     "data": {
      "text/plain": [
       "[[9], [3, 15], [20], [7]]"
      ]
     },
     "execution_count": 41,
     "metadata": {},
     "output_type": "execute_result"
    }
   ],
   "source": [
    "root = formTree([3,9,20,None,None,15,7])\n",
    "sol = Solution()\n",
    "sol.verticalTraversal(root)"
   ]
  },
  {
   "cell_type": "code",
   "execution_count": 42,
   "metadata": {},
   "outputs": [
    {
     "data": {
      "text/plain": [
       "[[4], [2], [1, 5, 6], [3], [7]]"
      ]
     },
     "execution_count": 42,
     "metadata": {},
     "output_type": "execute_result"
    }
   ],
   "source": [
    "root = formTree([1,2,3,4,5,6,7])\n",
    "sol = Solution()\n",
    "sol.verticalTraversal(root)"
   ]
  },
  {
   "cell_type": "code",
   "execution_count": 43,
   "metadata": {},
   "outputs": [
    {
     "data": {
      "text/plain": [
       "[[4], [2], [1, 5, 6], [3], [7]]"
      ]
     },
     "execution_count": 43,
     "metadata": {},
     "output_type": "execute_result"
    }
   ],
   "source": [
    "root = formTree([1,2,3,4,6,5,7])\n",
    "sol = Solution()\n",
    "sol.verticalTraversal(root)"
   ]
  }
 ],
 "metadata": {
  "kernelspec": {
   "display_name": "dsa-venv",
   "language": "python",
   "name": "python3"
  },
  "language_info": {
   "codemirror_mode": {
    "name": "ipython",
    "version": 3
   },
   "file_extension": ".py",
   "mimetype": "text/x-python",
   "name": "python",
   "nbconvert_exporter": "python",
   "pygments_lexer": "ipython3",
   "version": "3.11.3"
  },
  "orig_nbformat": 4
 },
 "nbformat": 4,
 "nbformat_minor": 2
}
