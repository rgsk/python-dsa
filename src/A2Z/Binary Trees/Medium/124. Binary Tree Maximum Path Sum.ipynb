{
 "cells": [
  {
   "cell_type": "code",
   "execution_count": 30,
   "metadata": {},
   "outputs": [],
   "source": [
    "import sys\n",
    "sys.path.append('../../..')\n",
    "\n",
    "\n",
    "from lib.TreeNode import *"
   ]
  },
  {
   "cell_type": "code",
   "execution_count": 31,
   "metadata": {},
   "outputs": [],
   "source": [
    "class Solution:\n",
    "    \n",
    "    def maxPathSum(self, root: Optional[TreeNode]) -> int:\n",
    "        max_path = float(\"-inf\")\n",
    "        def helper(node: Optional[TreeNode]):\n",
    "            nonlocal max_path\n",
    "            if node:\n",
    "                gain_left = max(helper(node.left), 0)\n",
    "                gain_right = max(helper(node.right), 0)\n",
    "                current_max_path = node.val + gain_left + gain_right\n",
    "                max_path = max(max_path, current_max_path)\n",
    "                return node.val + max(gain_left, gain_right)\n",
    "            else:\n",
    "                return 0\n",
    "        helper(root)\n",
    "        return max_path\n",
    "        "
   ]
  },
  {
   "cell_type": "code",
   "execution_count": 32,
   "metadata": {},
   "outputs": [
    {
     "data": {
      "text/plain": [
       "6"
      ]
     },
     "execution_count": 32,
     "metadata": {},
     "output_type": "execute_result"
    }
   ],
   "source": [
    "root = formTree([1,2,3])\n",
    "sol = Solution()\n",
    "sol.maxPathSum(root)"
   ]
  },
  {
   "cell_type": "code",
   "execution_count": 33,
   "metadata": {},
   "outputs": [
    {
     "data": {
      "text/plain": [
       "42"
      ]
     },
     "execution_count": 33,
     "metadata": {},
     "output_type": "execute_result"
    }
   ],
   "source": [
    "root = formTree([-10,9,20,None,None,15,7])\n",
    "sol = Solution()\n",
    "sol.maxPathSum(root)"
   ]
  }
 ],
 "metadata": {
  "kernelspec": {
   "display_name": "dsa-venv",
   "language": "python",
   "name": "python3"
  },
  "language_info": {
   "codemirror_mode": {
    "name": "ipython",
    "version": 3
   },
   "file_extension": ".py",
   "mimetype": "text/x-python",
   "name": "python",
   "nbconvert_exporter": "python",
   "pygments_lexer": "ipython3",
   "version": "3.11.3"
  },
  "orig_nbformat": 4
 },
 "nbformat": 4,
 "nbformat_minor": 2
}
