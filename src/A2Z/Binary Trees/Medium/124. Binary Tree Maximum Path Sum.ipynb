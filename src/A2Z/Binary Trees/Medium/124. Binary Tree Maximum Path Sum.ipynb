{
 "cells": [
  {
   "cell_type": "code",
   "execution_count": 27,
   "metadata": {},
   "outputs": [],
   "source": [
    "import sys\n",
    "sys.path.append('../../..')\n",
    "\n",
    "\n",
    "from lib.TreeNode import *"
   ]
  },
  {
   "cell_type": "code",
   "execution_count": 28,
   "metadata": {},
   "outputs": [],
   "source": [
    "class Solution:\n",
    "    \n",
    "    def maxPathSum(self, root: Optional[TreeNode]) -> int:\n",
    "        max_path = float(\"-inf\")\n",
    "        def helper(node: Optional[TreeNode]):\n",
    "            nonlocal max_path\n",
    "            if node:\n",
    "                gain_left = max(helper(node.left), 0)\n",
    "                gain_right = max(helper(node.right), 0)\n",
    "                current_max_path = node.val + gain_left + gain_right\n",
    "                max_path = max(max_path, current_max_path)\n",
    "                return node.val + max(gain_left, gain_right)\n",
    "            else:\n",
    "                return 0\n",
    "        helper(root)\n",
    "        return max_path\n",
    "        "
   ]
  },
  {
   "cell_type": "code",
   "execution_count": 29,
   "metadata": {},
   "outputs": [
    {
     "ename": "AttributeError",
     "evalue": "'Solution' object has no attribute 'helper'",
     "output_type": "error",
     "traceback": [
      "\u001b[0;31m---------------------------------------------------------------------------\u001b[0m",
      "\u001b[0;31mAttributeError\u001b[0m                            Traceback (most recent call last)",
      "\u001b[1;32m/Users/rahulgupta/Desktop/practice/dsa/python-dsa/src/A2Z/Binary Trees/Medium/124. Binary Tree Maximum Path Sum.ipynb Cell 3\u001b[0m in \u001b[0;36m3\n\u001b[1;32m      <a href='vscode-notebook-cell:/Users/rahulgupta/Desktop/practice/dsa/python-dsa/src/A2Z/Binary%20Trees/Medium/124.%20Binary%20Tree%20Maximum%20Path%20Sum.ipynb#W2sZmlsZQ%3D%3D?line=0'>1</a>\u001b[0m root \u001b[39m=\u001b[39m formTree([\u001b[39m1\u001b[39m,\u001b[39m2\u001b[39m,\u001b[39m3\u001b[39m])\n\u001b[1;32m      <a href='vscode-notebook-cell:/Users/rahulgupta/Desktop/practice/dsa/python-dsa/src/A2Z/Binary%20Trees/Medium/124.%20Binary%20Tree%20Maximum%20Path%20Sum.ipynb#W2sZmlsZQ%3D%3D?line=1'>2</a>\u001b[0m sol \u001b[39m=\u001b[39m Solution()\n\u001b[0;32m----> <a href='vscode-notebook-cell:/Users/rahulgupta/Desktop/practice/dsa/python-dsa/src/A2Z/Binary%20Trees/Medium/124.%20Binary%20Tree%20Maximum%20Path%20Sum.ipynb#W2sZmlsZQ%3D%3D?line=2'>3</a>\u001b[0m sol\u001b[39m.\u001b[39;49mmaxPathSum(root)\n",
      "\u001b[1;32m/Users/rahulgupta/Desktop/practice/dsa/python-dsa/src/A2Z/Binary Trees/Medium/124. Binary Tree Maximum Path Sum.ipynb Cell 3\u001b[0m in \u001b[0;36m1\n\u001b[1;32m     <a href='vscode-notebook-cell:/Users/rahulgupta/Desktop/practice/dsa/python-dsa/src/A2Z/Binary%20Trees/Medium/124.%20Binary%20Tree%20Maximum%20Path%20Sum.ipynb#W2sZmlsZQ%3D%3D?line=12'>13</a>\u001b[0m     \u001b[39melse\u001b[39;00m:\n\u001b[1;32m     <a href='vscode-notebook-cell:/Users/rahulgupta/Desktop/practice/dsa/python-dsa/src/A2Z/Binary%20Trees/Medium/124.%20Binary%20Tree%20Maximum%20Path%20Sum.ipynb#W2sZmlsZQ%3D%3D?line=13'>14</a>\u001b[0m         \u001b[39mreturn\u001b[39;00m \u001b[39m0\u001b[39m\n\u001b[0;32m---> <a href='vscode-notebook-cell:/Users/rahulgupta/Desktop/practice/dsa/python-dsa/src/A2Z/Binary%20Trees/Medium/124.%20Binary%20Tree%20Maximum%20Path%20Sum.ipynb#W2sZmlsZQ%3D%3D?line=14'>15</a>\u001b[0m helper(root)\n\u001b[1;32m     <a href='vscode-notebook-cell:/Users/rahulgupta/Desktop/practice/dsa/python-dsa/src/A2Z/Binary%20Trees/Medium/124.%20Binary%20Tree%20Maximum%20Path%20Sum.ipynb#W2sZmlsZQ%3D%3D?line=15'>16</a>\u001b[0m \u001b[39mreturn\u001b[39;00m max_path\n",
      "\u001b[1;32m/Users/rahulgupta/Desktop/practice/dsa/python-dsa/src/A2Z/Binary Trees/Medium/124. Binary Tree Maximum Path Sum.ipynb Cell 3\u001b[0m in \u001b[0;36m8\n\u001b[1;32m      <a href='vscode-notebook-cell:/Users/rahulgupta/Desktop/practice/dsa/python-dsa/src/A2Z/Binary%20Trees/Medium/124.%20Binary%20Tree%20Maximum%20Path%20Sum.ipynb#W2sZmlsZQ%3D%3D?line=5'>6</a>\u001b[0m \u001b[39mnonlocal\u001b[39;00m max_path\n\u001b[1;32m      <a href='vscode-notebook-cell:/Users/rahulgupta/Desktop/practice/dsa/python-dsa/src/A2Z/Binary%20Trees/Medium/124.%20Binary%20Tree%20Maximum%20Path%20Sum.ipynb#W2sZmlsZQ%3D%3D?line=6'>7</a>\u001b[0m \u001b[39mif\u001b[39;00m node:\n\u001b[0;32m----> <a href='vscode-notebook-cell:/Users/rahulgupta/Desktop/practice/dsa/python-dsa/src/A2Z/Binary%20Trees/Medium/124.%20Binary%20Tree%20Maximum%20Path%20Sum.ipynb#W2sZmlsZQ%3D%3D?line=7'>8</a>\u001b[0m     gain_left \u001b[39m=\u001b[39m \u001b[39mmax\u001b[39m(\u001b[39mself\u001b[39;49m\u001b[39m.\u001b[39;49mhelper(node\u001b[39m.\u001b[39mleft), \u001b[39m0\u001b[39m)\n\u001b[1;32m      <a href='vscode-notebook-cell:/Users/rahulgupta/Desktop/practice/dsa/python-dsa/src/A2Z/Binary%20Trees/Medium/124.%20Binary%20Tree%20Maximum%20Path%20Sum.ipynb#W2sZmlsZQ%3D%3D?line=8'>9</a>\u001b[0m     gain_right \u001b[39m=\u001b[39m \u001b[39mmax\u001b[39m(\u001b[39mself\u001b[39m\u001b[39m.\u001b[39mhelper(node\u001b[39m.\u001b[39mright), \u001b[39m0\u001b[39m)\n\u001b[1;32m     <a href='vscode-notebook-cell:/Users/rahulgupta/Desktop/practice/dsa/python-dsa/src/A2Z/Binary%20Trees/Medium/124.%20Binary%20Tree%20Maximum%20Path%20Sum.ipynb#W2sZmlsZQ%3D%3D?line=9'>10</a>\u001b[0m     current_max_path \u001b[39m=\u001b[39m node\u001b[39m.\u001b[39mval \u001b[39m+\u001b[39m gain_left \u001b[39m+\u001b[39m gain_right\n",
      "\u001b[0;31mAttributeError\u001b[0m: 'Solution' object has no attribute 'helper'"
     ]
    }
   ],
   "source": [
    "root = formTree([1,2,3])\n",
    "sol = Solution()\n",
    "sol.maxPathSum(root)"
   ]
  },
  {
   "cell_type": "code",
   "execution_count": null,
   "metadata": {},
   "outputs": [
    {
     "data": {
      "text/plain": [
       "42"
      ]
     },
     "execution_count": 23,
     "metadata": {},
     "output_type": "execute_result"
    }
   ],
   "source": [
    "root = formTree([-10,9,20,None,None,15,7])\n",
    "sol = Solution()\n",
    "sol.maxPathSum(root)"
   ]
  }
 ],
 "metadata": {
  "kernelspec": {
   "display_name": "dsa-venv",
   "language": "python",
   "name": "python3"
  },
  "language_info": {
   "codemirror_mode": {
    "name": "ipython",
    "version": 3
   },
   "file_extension": ".py",
   "mimetype": "text/x-python",
   "name": "python",
   "nbconvert_exporter": "python",
   "pygments_lexer": "ipython3",
   "version": "3.11.3"
  },
  "orig_nbformat": 4
 },
 "nbformat": 4,
 "nbformat_minor": 2
}
