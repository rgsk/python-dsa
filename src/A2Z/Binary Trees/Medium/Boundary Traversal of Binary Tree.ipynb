{
 "cells": [
  {
   "cell_type": "code",
   "execution_count": null,
   "metadata": {},
   "outputs": [],
   "source": [
    "# https://practice.geeksforgeeks.org/problems/boundary-traversal-of-binary-tree/1?utm_source=geeksforgeeks&utm_medium=article_practice_tab&utm_campaign=article_practice_tab"
   ]
  },
  {
   "cell_type": "code",
   "execution_count": 45,
   "metadata": {},
   "outputs": [],
   "source": [
    "import sys\n",
    "sys.path.append('../../..')\n",
    "\n",
    "\n",
    "from lib.TreeNode import *"
   ]
  },
  {
   "cell_type": "code",
   "execution_count": 46,
   "metadata": {},
   "outputs": [],
   "source": [
    "def getLeftBoundary(root):\n",
    "    ans = []\n",
    "    cur = root.left\n",
    "    while cur:\n",
    "        if not isLeaf(cur):\n",
    "            ans.append(cur)\n",
    "        if cur.left:\n",
    "            cur = cur.left\n",
    "        else:\n",
    "            cur = cur.right\n",
    "    return ans\n",
    "def getRightBoundary(root):\n",
    "    ans = []\n",
    "    cur = root.right\n",
    "    while cur:\n",
    "        if not isLeaf(cur):\n",
    "            ans.append(cur)\n",
    "        if cur.right:\n",
    "            cur = cur.right\n",
    "        else:\n",
    "            cur = cur.left\n",
    "    return ans\n",
    "def traverseBoundary(root: BinaryTreeNode):\n",
    "    if not root:\n",
    "        return []\n",
    "    left = getLeftBoundary(root)\n",
    "    right = getRightBoundary(root)\n",
    "    bottom = getLeafs(root)\n",
    "    nodes = left + bottom + list(reversed(right))\n",
    "    ans = []\n",
    "    if not isLeaf(root):\n",
    "        ans.append(root.val)\n",
    "    ans += [node.val for node in nodes]\n",
    "    return ans\n"
   ]
  },
  {
   "cell_type": "code",
   "execution_count": 47,
   "metadata": {},
   "outputs": [
    {
     "name": "stdout",
     "output_type": "stream",
     "text": [
      "[10, 5, 3, 7, 18, 25, 20]\n",
      "  __10___   \n",
      " /       \\  \n",
      " 5_     20_ \n",
      "/  \\   /   \\\n",
      "3  8  18  25\n",
      "  /         \n",
      "  7         \n"
     ]
    }
   ],
   "source": [
    "root = formTree([10, 5, 20, 3, 8, 18, 25, None, None, 7])\n",
    "print(traverseBoundary(root))\n",
    "root.display()"
   ]
  },
  {
   "cell_type": "code",
   "execution_count": 48,
   "metadata": {},
   "outputs": [
    {
     "name": "stdout",
     "output_type": "stream",
     "text": [
      "[4, 10, 5, 6, 8, 11, 3, 5, 8, 8, 6, 11, 11]\n",
      "                 ______4\n",
      "                /       \n",
      " ______________10_____  \n",
      "/                     \\ \n",
      "5______           ____5 \n",
      "       \\         /      \n",
      "       6___      7      \n",
      "      /    \\      \\     \n",
      "      8   _8      8__   \n",
      "     /   /  \\        \\  \n",
      "   _11   3  4_       1  \n",
      "  /     / \\   \\     /   \n",
      "  3     8 6  11    11   \n",
      " / \\                    \n",
      " 5 8                    \n"
     ]
    }
   ],
   "source": [
    "root = formTree([4, 10, None, 5, 5, None, 6, 7, None, 8, 8, None, 8, 11, \n",
    "                 None, 3, 4, None, 1, 3, None, 8, 6, None, 11, 11, None, 5, 8,])\n",
    "print(traverseBoundary(root))\n",
    "root.display()"
   ]
  },
  {
   "cell_type": "code",
   "execution_count": 49,
   "metadata": {},
   "outputs": [
    {
     "name": "stdout",
     "output_type": "stream",
     "text": [
      "[1]\n",
      "1\n"
     ]
    }
   ],
   "source": [
    "root = formTree([1])\n",
    "print(traverseBoundary(root))\n",
    "root.display()"
   ]
  }
 ],
 "metadata": {
  "kernelspec": {
   "display_name": "dsa-venv",
   "language": "python",
   "name": "python3"
  },
  "language_info": {
   "codemirror_mode": {
    "name": "ipython",
    "version": 3
   },
   "file_extension": ".py",
   "mimetype": "text/x-python",
   "name": "python",
   "nbconvert_exporter": "python",
   "pygments_lexer": "ipython3",
   "version": "3.11.3"
  },
  "orig_nbformat": 4
 },
 "nbformat": 4,
 "nbformat_minor": 2
}
