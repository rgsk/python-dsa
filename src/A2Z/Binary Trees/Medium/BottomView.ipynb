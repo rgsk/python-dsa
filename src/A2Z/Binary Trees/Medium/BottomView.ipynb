{
 "cells": [
  {
   "cell_type": "code",
   "execution_count": 16,
   "metadata": {},
   "outputs": [],
   "source": [
    "import sys\n",
    "sys.path.append('../../..')\n",
    "\n",
    "\n",
    "from lib.TreeNode import *"
   ]
  },
  {
   "cell_type": "code",
   "execution_count": 17,
   "metadata": {},
   "outputs": [],
   "source": [
    "from collections import deque\n",
    "\n",
    "\n",
    "class Solution:\n",
    "    def bottomView(self, root):\n",
    "        # code here\n",
    "        mp = {}\n",
    "        queue = deque([(root, 0)])\n",
    "        while queue:\n",
    "            last, idx = queue.popleft()\n",
    "            if last:\n",
    "                mp[idx] = last.data\n",
    "                queue.append((last.left, idx - 1))\n",
    "                queue.append((last.right, idx + 1))\n",
    "        ans = []\n",
    "        minKey = min(mp.keys())\n",
    "        while minKey in mp:\n",
    "            ans.append(mp[minKey])\n",
    "            minKey += 1\n",
    "        return ans"
   ]
  },
  {
   "cell_type": "code",
   "execution_count": 18,
   "metadata": {},
   "outputs": [
    {
     "name": "stdout",
     "output_type": "stream",
     "text": [
      "[40, 20, 60, 30]\n"
     ]
    }
   ],
   "source": [
    "root = formTree([10,20,30,40,60,None,None])\n",
    "sol = Solution()\n",
    "print(sol.bottomView(root))"
   ]
  },
  {
   "cell_type": "code",
   "execution_count": 19,
   "metadata": {},
   "outputs": [
    {
     "name": "stdout",
     "output_type": "stream",
     "text": [
      "[7, 6, 7, 13, 11, 10]\n"
     ]
    }
   ],
   "source": [
    "\n",
    "\n",
    "root = formTree([14,14,\n",
    "                 3, None, 8, 8, 12, \n",
    "                 None, 6, 17, 3, None, \n",
    "                 1, 11, 10, None, 6, 6,\n",
    "                   13, None, 10, 17, 7,\n",
    "                     None, 11, 7,\n",
    "                 ])\n",
    "sol = Solution()\n",
    "print(sol.bottomView(root))"
   ]
  },
  {
   "cell_type": "code",
   "execution_count": 20,
   "metadata": {},
   "outputs": [
    {
     "name": "stdout",
     "output_type": "stream",
     "text": [
      "[2, 4, 5, 3]\n"
     ]
    }
   ],
   "source": [
    "root = formTree([1, 4, 3, 2, 5])\n",
    "sol = Solution()\n",
    "print(sol.bottomView(root))"
   ]
  }
 ],
 "metadata": {
  "kernelspec": {
   "display_name": "dsa-venv",
   "language": "python",
   "name": "python3"
  },
  "language_info": {
   "codemirror_mode": {
    "name": "ipython",
    "version": 3
   },
   "file_extension": ".py",
   "mimetype": "text/x-python",
   "name": "python",
   "nbconvert_exporter": "python",
   "pygments_lexer": "ipython3",
   "version": "3.11.3"
  },
  "orig_nbformat": 4
 },
 "nbformat": 4,
 "nbformat_minor": 2
}
