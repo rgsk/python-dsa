{
 "cells": [
  {
   "cell_type": "code",
   "execution_count": 7,
   "metadata": {},
   "outputs": [],
   "source": [
    "import sys\n",
    "sys.path.append('../../..')\n",
    "\n",
    "\n",
    "from lib.TreeNode import *"
   ]
  },
  {
   "cell_type": "code",
   "execution_count": 8,
   "metadata": {},
   "outputs": [],
   "source": [
    "from collections import deque\n",
    "\n",
    "\n",
    "class Solution:\n",
    "    def topView(self, root):\n",
    "        # code here\n",
    "        mp = {}\n",
    "        queue = deque([(root, 0)])\n",
    "        while queue:\n",
    "            last, idx = queue.popleft()\n",
    "            if last:\n",
    "                if idx not in mp:\n",
    "                    mp[idx] = last.data\n",
    "                queue.append((last.left, idx - 1))\n",
    "                queue.append((last.right, idx + 1))\n",
    "        ans = []\n",
    "        minKey = min(mp.keys())\n",
    "        while minKey in mp:\n",
    "            ans.append(mp[minKey])\n",
    "            minKey += 1\n",
    "        return ans"
   ]
  },
  {
   "cell_type": "code",
   "execution_count": 9,
   "metadata": {},
   "outputs": [
    {
     "name": "stdout",
     "output_type": "stream",
     "text": [
      "[2, 4, 1, 3]\n",
      "            |---3\n",
      "        |---1\n",
      "                |---5\n",
      "            |---4\n",
      "                |---2\n"
     ]
    }
   ],
   "source": [
    "root = formTree([1, 4, 3, 2, 5])\n",
    "sol = Solution()\n",
    "print(sol.topView(root))\n",
    "printHorizontal(root)"
   ]
  }
 ],
 "metadata": {
  "kernelspec": {
   "display_name": "dsa-venv",
   "language": "python",
   "name": "python3"
  },
  "language_info": {
   "codemirror_mode": {
    "name": "ipython",
    "version": 3
   },
   "file_extension": ".py",
   "mimetype": "text/x-python",
   "name": "python",
   "nbconvert_exporter": "python",
   "pygments_lexer": "ipython3",
   "version": "3.11.3"
  },
  "orig_nbformat": 4
 },
 "nbformat": 4,
 "nbformat_minor": 2
}
