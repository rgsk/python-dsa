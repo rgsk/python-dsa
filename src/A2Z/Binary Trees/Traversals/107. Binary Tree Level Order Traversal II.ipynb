{
 "cells": [
  {
   "cell_type": "code",
   "execution_count": 7,
   "metadata": {},
   "outputs": [],
   "source": [
    "import sys\n",
    "sys.path.append('../../..')\n",
    "\n",
    "\n",
    "from lib.TreeNode import *"
   ]
  },
  {
   "cell_type": "code",
   "execution_count": 8,
   "metadata": {},
   "outputs": [],
   "source": [
    "class Solution:\n",
    "    def levelOrderBottom(self, root: Optional[TreeNode]) -> List[List[int]]:\n",
    "        if not root:\n",
    "            return []\n",
    "        q: deque[TreeNode] = deque()\n",
    "        q.append(root)\n",
    "        ans = []\n",
    "        while q: \n",
    "            cur_level = []\n",
    "            for _ in range(len(q)):\n",
    "                node = q.popleft()\n",
    "                cur_level.append(node.val)\n",
    "                if node.left:\n",
    "                    q.append(node.left)\n",
    "                if node.right: \n",
    "                    q.append(node.right)\n",
    "            ans.append(cur_level)\n",
    "        return ans[::-1]"
   ]
  },
  {
   "cell_type": "code",
   "execution_count": 9,
   "metadata": {},
   "outputs": [
    {
     "name": "stdout",
     "output_type": "stream",
     "text": [
      "[[15, 7], [9, 20], [3]]\n"
     ]
    }
   ],
   "source": [
    "root = formTree([3,9,20,None,None,15,7])\n",
    "sol = Solution()\n",
    "print(sol.levelOrderBottom(root))"
   ]
  }
 ],
 "metadata": {
  "kernelspec": {
   "display_name": "dsa-venv",
   "language": "python",
   "name": "python3"
  },
  "language_info": {
   "codemirror_mode": {
    "name": "ipython",
    "version": 3
   },
   "file_extension": ".py",
   "mimetype": "text/x-python",
   "name": "python",
   "nbconvert_exporter": "python",
   "pygments_lexer": "ipython3",
   "version": "3.11.3"
  }
 },
 "nbformat": 4,
 "nbformat_minor": 2
}
