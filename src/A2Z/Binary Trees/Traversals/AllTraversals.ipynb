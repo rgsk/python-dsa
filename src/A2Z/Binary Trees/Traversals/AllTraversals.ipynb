{
 "cells": [
  {
   "cell_type": "code",
   "execution_count": 13,
   "metadata": {},
   "outputs": [],
   "source": [
    "import sys\n",
    "sys.path.append('../../..')\n",
    "\n",
    "\n",
    "from lib.TreeNode import *"
   ]
  },
  {
   "cell_type": "code",
   "execution_count": 14,
   "metadata": {},
   "outputs": [],
   "source": [
    "class Solution:\n",
    "    def allTraversals(self, root: Optional[TreeNode]) -> List[int]:\n",
    "        preo_values = []\n",
    "        ino_values = []\n",
    "        posto_values = []\n",
    "        stack = [(root, False, False, False)]\n",
    "        while stack:\n",
    "            last, preo, ino, posto = stack.pop()\n",
    "            if last:\n",
    "                if preo: \n",
    "                    preo_values.append(last.val)\n",
    "                elif ino:\n",
    "                    ino_values.append(last.val)\n",
    "                elif posto:\n",
    "                    posto_values.append(last.val)\n",
    "                else:\n",
    "                    stack.append((last, False, False, True))\n",
    "                    stack.append((last.right, False, False, False))\n",
    "                    stack.append((last, False, True, False))\n",
    "                    stack.append((last.left, False, False, False))\n",
    "                    stack.append((last, True, False, False))\n",
    "\n",
    "        return [preo_values, ino_values, posto_values]"
   ]
  },
  {
   "cell_type": "code",
   "execution_count": 15,
   "metadata": {},
   "outputs": [
    {
     "name": "stdout",
     "output_type": "stream",
     "text": [
      "[[1, 2, 3], [1, 3, 2], [3, 2, 1]]\n"
     ]
    }
   ],
   "source": [
    "root = formTree([1,None,2,3])\n",
    "sol = Solution()\n",
    "print(sol.allTraversals(root))"
   ]
  },
  {
   "cell_type": "code",
   "execution_count": 16,
   "metadata": {},
   "outputs": [
    {
     "name": "stdout",
     "output_type": "stream",
     "text": [
      "[[1, 4, 2, 3], [2, 4, 1, 3], [2, 4, 3, 1]]\n"
     ]
    }
   ],
   "source": [
    "root = formTree([1, 4, 3, 2])\n",
    "sol = Solution()\n",
    "print(sol.allTraversals(root))"
   ]
  }
 ],
 "metadata": {
  "kernelspec": {
   "display_name": "dsa-venv",
   "language": "python",
   "name": "python3"
  },
  "language_info": {
   "codemirror_mode": {
    "name": "ipython",
    "version": 3
   },
   "file_extension": ".py",
   "mimetype": "text/x-python",
   "name": "python",
   "nbconvert_exporter": "python",
   "pygments_lexer": "ipython3",
   "version": "3.11.3"
  },
  "orig_nbformat": 4
 },
 "nbformat": 4,
 "nbformat_minor": 2
}
