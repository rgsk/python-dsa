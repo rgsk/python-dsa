{
 "cells": [
  {
   "cell_type": "code",
   "execution_count": 7,
   "metadata": {},
   "outputs": [],
   "source": [
    "class Solution:    \n",
    "    #Function to find the minimum number of platforms required at the\n",
    "    #railway station such that no train waits.\n",
    "    def minimumPlatform(self,n,arr,dep):\n",
    "        # code here\n",
    "        arr.sort()\n",
    "        dep.sort()\n",
    "        arrivals = 0\n",
    "        ans = 0\n",
    "        ai = 0\n",
    "        di = 0\n",
    "        while ai < len(arr):\n",
    "            if arr[ai] <= dep[di]:\n",
    "                arrivals += 1\n",
    "                ai += 1\n",
    "            else:\n",
    "                arrivals -= 1\n",
    "                di += 1\n",
    "            ans = max(ans, arrivals)\n",
    "        return ans"
   ]
  },
  {
   "cell_type": "code",
   "execution_count": 8,
   "metadata": {},
   "outputs": [
    {
     "data": {
      "text/plain": [
       "3"
      ]
     },
     "execution_count": 8,
     "metadata": {},
     "output_type": "execute_result"
    }
   ],
   "source": [
    "arr = [900, 940, 950, 1100, 1500, 1800]\n",
    "dep = [910, 1200, 1120, 1130, 1900, 2000]\n",
    "n = len(arr)\n",
    "sol = Solution()\n",
    "sol.minimumPlatform(n, arr, dep)"
   ]
  },
  {
   "cell_type": "code",
   "execution_count": 9,
   "metadata": {},
   "outputs": [
    {
     "data": {
      "text/plain": [
       "1"
      ]
     },
     "execution_count": 9,
     "metadata": {},
     "output_type": "execute_result"
    }
   ],
   "source": [
    "arr = [900, 1100, 1235]\n",
    "dep = [1000, 1200, 1240]\n",
    "n = len(arr)\n",
    "sol = Solution()\n",
    "sol.minimumPlatform(n, arr, dep)"
   ]
  }
 ],
 "metadata": {
  "kernelspec": {
   "display_name": "dsa-venv",
   "language": "python",
   "name": "python3"
  },
  "language_info": {
   "codemirror_mode": {
    "name": "ipython",
    "version": 3
   },
   "file_extension": ".py",
   "mimetype": "text/x-python",
   "name": "python",
   "nbconvert_exporter": "python",
   "pygments_lexer": "ipython3",
   "version": "3.11.3"
  },
  "orig_nbformat": 4
 },
 "nbformat": 4,
 "nbformat_minor": 2
}
