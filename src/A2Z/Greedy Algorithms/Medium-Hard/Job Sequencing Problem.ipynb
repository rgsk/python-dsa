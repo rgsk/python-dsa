{
 "cells": [
  {
   "cell_type": "code",
   "execution_count": 71,
   "metadata": {},
   "outputs": [],
   "source": [
    "class Job:\n",
    "    '''\n",
    "    Job class which stores profit and deadline.\n",
    "    '''\n",
    "    def __init__(self,deadline=0,profit=0):\n",
    "        self.profit = profit\n",
    "        self.deadline = deadline\n",
    "        self.id = 0\n",
    "\n",
    "class Solution:\n",
    "    \n",
    "    #Function to find the maximum profit and the number of jobs done.\n",
    "    def JobScheduling(self,Jobs,n):\n",
    "        res,count = 0,0\n",
    "        \n",
    "        #sorting all jobs according to decreasing order of profit.\n",
    "        Jobs = sorted(Jobs , key = lambda x: x.profit, reverse=True)\n",
    "        \n",
    "        #array to store result (Sequence of jobs).\n",
    "        result = [0 for i in range(n)]\n",
    "        #boolean array to keep track of free time slots \n",
    "        #and initializing all slots to free.\n",
    "        slot = [False for i in range(n)]\n",
    "    \n",
    "        \n",
    "        #iterating through all given jobs.\n",
    "        for i in range(n):\n",
    "            \n",
    "            #finding a free slot for current job (Note that we start \n",
    "        \t#from the last possible slot).\n",
    "            for j in range(min(n,Jobs[i].deadline)-1,-1,-1):\n",
    "                \n",
    "                #if free slot is found, we add current job to result array\n",
    "        \t\t#and make the current slot occupied.\n",
    "                if not slot[j]:\n",
    "                    result[j] = i\n",
    "                    slot[j] = True \n",
    "                    break\n",
    "                \n",
    "        #if slot is occupied, we update the counter and \n",
    "\t    #add its profit in final result.\n",
    "        for i in range(n):\n",
    "            if slot[i]:\n",
    "                res+=Jobs[result[i]].profit\n",
    "                count+=1\n",
    "    \n",
    "        #storing the count of jobs and max profit in a list and returning it.\n",
    "        ans = []\n",
    "        ans.append (count)\n",
    "        ans.append (res)\n",
    "        return ans"
   ]
  },
  {
   "cell_type": "code",
   "execution_count": 72,
   "metadata": {},
   "outputs": [
    {
     "data": {
      "text/plain": [
       "[2, 60]"
      ]
     },
     "execution_count": 72,
     "metadata": {},
     "output_type": "execute_result"
    }
   ],
   "source": [
    "Jobs = [Job(4,20),Job(1,10),Job(1,40),Job(1,30)]\n",
    "n = len(Jobs)\n",
    "sol = Solution()\n",
    "sol.JobScheduling(Jobs, n)"
   ]
  },
  {
   "cell_type": "code",
   "execution_count": 73,
   "metadata": {},
   "outputs": [
    {
     "data": {
      "text/plain": [
       "[2, 127]"
      ]
     },
     "execution_count": 73,
     "metadata": {},
     "output_type": "execute_result"
    }
   ],
   "source": [
    "Jobs = [Job(2,100),Job(1,19),Job(2,27),\n",
    "        Job(1,25),Job(1,15)]\n",
    "n = len(Jobs)\n",
    "sol = Solution()\n",
    "sol.JobScheduling(Jobs, n)"
   ]
  }
 ],
 "metadata": {
  "kernelspec": {
   "display_name": "dsa-venv",
   "language": "python",
   "name": "python3"
  },
  "language_info": {
   "codemirror_mode": {
    "name": "ipython",
    "version": 3
   },
   "file_extension": ".py",
   "mimetype": "text/x-python",
   "name": "python",
   "nbconvert_exporter": "python",
   "pygments_lexer": "ipython3",
   "version": "3.11.3"
  },
  "orig_nbformat": 4
 },
 "nbformat": 4,
 "nbformat_minor": 2
}
