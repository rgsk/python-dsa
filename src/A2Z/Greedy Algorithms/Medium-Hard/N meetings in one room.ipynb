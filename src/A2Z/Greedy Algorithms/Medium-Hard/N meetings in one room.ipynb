{
 "cells": [
  {
   "cell_type": "code",
   "execution_count": 17,
   "metadata": {},
   "outputs": [],
   "source": [
    "class Solution:\n",
    "    \n",
    "    #Function to find the maximum number of meetings that can\n",
    "    #be performed in a meeting room.\n",
    "    def maximumMeetings(self,n,start,end):\n",
    "        # code here\n",
    "        start_end_pairs = [(start[i], end[i]) for i in range(n)]\n",
    "        start_end_pairs.sort(key=lambda x: x[1])\n",
    "        ans = 1\n",
    "        last_end = start_end_pairs[0][1]\n",
    "        for start, end in start_end_pairs:\n",
    "            if start > last_end:\n",
    "                ans += 1\n",
    "                last_end = end\n",
    "        return ans"
   ]
  },
  {
   "cell_type": "code",
   "execution_count": 18,
   "metadata": {},
   "outputs": [
    {
     "data": {
      "text/plain": [
       "4"
      ]
     },
     "execution_count": 18,
     "metadata": {},
     "output_type": "execute_result"
    }
   ],
   "source": [
    "start = [1,3,0,5,8,5]\n",
    "end =  [2,4,6,7,9,9]\n",
    "n = len(start)\n",
    "sol = Solution()\n",
    "sol.maximumMeetings(n, start, end)"
   ]
  },
  {
   "cell_type": "code",
   "execution_count": 19,
   "metadata": {},
   "outputs": [
    {
     "data": {
      "text/plain": [
       "1"
      ]
     },
     "execution_count": 19,
     "metadata": {},
     "output_type": "execute_result"
    }
   ],
   "source": [
    "start = [10, 12, 20]\n",
    "end =  [20, 25, 30]\n",
    "n = len(start)\n",
    "sol = Solution()\n",
    "sol.maximumMeetings(n, start, end)"
   ]
  }
 ],
 "metadata": {
  "kernelspec": {
   "display_name": "dsa-venv",
   "language": "python",
   "name": "python3"
  },
  "language_info": {
   "codemirror_mode": {
    "name": "ipython",
    "version": 3
   },
   "file_extension": ".py",
   "mimetype": "text/x-python",
   "name": "python",
   "nbconvert_exporter": "python",
   "pygments_lexer": "ipython3",
   "version": "3.11.3"
  },
  "orig_nbformat": 4
 },
 "nbformat": 4,
 "nbformat_minor": 2
}
