{
 "cells": [
  {
   "cell_type": "code",
   "execution_count": 13,
   "metadata": {},
   "outputs": [],
   "source": [
    "# https://practice.geeksforgeeks.org/problems/fractional-knapsack-1587115620/1?utm_source=youtube&utm_medium=collab_striver_ytdescription&utm_campaign=fractional-knapsack"
   ]
  },
  {
   "cell_type": "code",
   "execution_count": 14,
   "metadata": {},
   "outputs": [],
   "source": [
    "class Item:\n",
    "    def __init__(self,val,w):\n",
    "        self.value = val\n",
    "        self.weight = w\n",
    "\n",
    "class Solution:    \n",
    "    #Function to get the maximum total value in the knapsack.\n",
    "    def fractionalknapsack(self, W,arr,n):\n",
    "        arr.sort(key=lambda x: x.value / x.weight, reverse=True)\n",
    "        ans = 0\n",
    "        for i in range(n):\n",
    "            if arr[i].weight <= W: \n",
    "                ans += arr[i].value\n",
    "                W -= arr[i].weight\n",
    "            else:\n",
    "                ans += arr[i].value * W/arr[i].weight\n",
    "                break\n",
    "        return ans\n",
    "        \n"
   ]
  },
  {
   "cell_type": "code",
   "execution_count": 15,
   "metadata": {},
   "outputs": [
    {
     "name": "stdout",
     "output_type": "stream",
     "text": [
      "The maximum value is 240.0\n"
     ]
    }
   ],
   "source": [
    "n = 3\n",
    "W = 50\n",
    "arr = [Item(60, 10), Item(100, 20), Item(120, 30)]\n",
    "obj = Solution()\n",
    "ans = obj.fractionalknapsack(W, arr, n)\n",
    "print(\"The maximum value is\", ans)"
   ]
  }
 ],
 "metadata": {
  "kernelspec": {
   "display_name": "template-venv",
   "language": "python",
   "name": "python3"
  },
  "language_info": {
   "codemirror_mode": {
    "name": "ipython",
    "version": 3
   },
   "file_extension": ".py",
   "mimetype": "text/x-python",
   "name": "python",
   "nbconvert_exporter": "python",
   "pygments_lexer": "ipython3",
   "version": "3.10.4"
  },
  "orig_nbformat": 4
 },
 "nbformat": 4,
 "nbformat_minor": 2
}
