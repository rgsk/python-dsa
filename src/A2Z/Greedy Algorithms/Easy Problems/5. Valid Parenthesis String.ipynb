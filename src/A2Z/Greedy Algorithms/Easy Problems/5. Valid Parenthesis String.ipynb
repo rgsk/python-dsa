{
 "cells": [
  {
   "cell_type": "code",
   "execution_count": 1,
   "metadata": {},
   "outputs": [],
   "source": [
    "# solution referred \n",
    "# https://leetcode.com/problems/valid-parenthesis-string/solutions/543521/java-count-open-parenthesis-o-n-time-o-1-space-picture-explain/?orderBy=most_votes\n",
    "\n",
    "class Solution(object):\n",
    "    def checkValidString(self, s):\n",
    "        cmin = 0\n",
    "        cmax = 0\n",
    "        for c in s:\n",
    "            if c == '(':\n",
    "                cmax += 1\n",
    "                cmin += 1\n",
    "            elif c == ')':\n",
    "                cmax -= 1\n",
    "                cmin -= 1\n",
    "            elif c == '*':\n",
    "                cmax += 1\n",
    "                cmin -= 1\n",
    "            if cmax < 0:\n",
    "                return False\n",
    "            cmin = max(cmin, 0)\n",
    "        return cmin == 0"
   ]
  },
  {
   "cell_type": "code",
   "execution_count": 2,
   "metadata": {},
   "outputs": [
    {
     "data": {
      "text/plain": [
       "True"
      ]
     },
     "execution_count": 2,
     "metadata": {},
     "output_type": "execute_result"
    }
   ],
   "source": [
    "s = \"()\"\n",
    "sol = Solution()\n",
    "sol.checkValidString(s)"
   ]
  },
  {
   "cell_type": "code",
   "execution_count": null,
   "metadata": {},
   "outputs": [],
   "source": [
    "s = \"(*)\"\n",
    "sol = Solution()\n",
    "sol.checkValidString(s)"
   ]
  },
  {
   "cell_type": "code",
   "execution_count": null,
   "metadata": {},
   "outputs": [],
   "source": [
    "s = \"(*))\"\n",
    "sol = Solution()\n",
    "sol.checkValidString(s)"
   ]
  }
 ],
 "metadata": {
  "kernelspec": {
   "display_name": "template-venv",
   "language": "python",
   "name": "python3"
  },
  "language_info": {
   "codemirror_mode": {
    "name": "ipython",
    "version": 3
   },
   "file_extension": ".py",
   "mimetype": "text/x-python",
   "name": "python",
   "nbconvert_exporter": "python",
   "pygments_lexer": "ipython3",
   "version": "3.10.4"
  },
  "orig_nbformat": 4
 },
 "nbformat": 4,
 "nbformat_minor": 2
}
