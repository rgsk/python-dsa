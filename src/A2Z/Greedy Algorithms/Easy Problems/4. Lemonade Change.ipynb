{
 "cells": [
  {
   "cell_type": "code",
   "execution_count": null,
   "metadata": {},
   "outputs": [],
   "source": []
  },
  {
   "cell_type": "code",
   "execution_count": 15,
   "metadata": {},
   "outputs": [],
   "source": [
    "class Solution:\n",
    "    def lemonadeChange(self, N, bills):\n",
    "        # Code here\n",
    "        bills_received = {}\n",
    "        for bill in bills:\n",
    "            bills_received[bill] = bills_received.get(bill, 0) + 1\n",
    "            if bill > 5:\n",
    "                required_change = bill - 5\n",
    "                while bills_received.get(10, 0) > 0 and required_change - 10 >= 0:\n",
    "                    bills_received[10] -= 1\n",
    "                    required_change -= 10\n",
    "                while bills_received.get(5, 0) > 0 and required_change - 5 >= 0:\n",
    "                    bills_received[5] -= 1\n",
    "                    required_change -= 5\n",
    "                if required_change != 0:\n",
    "                    return False\n",
    "        return True\n",
    "\n",
    "                        "
   ]
  },
  {
   "cell_type": "code",
   "execution_count": 16,
   "metadata": {},
   "outputs": [
    {
     "data": {
      "text/plain": [
       "True"
      ]
     },
     "execution_count": 16,
     "metadata": {},
     "output_type": "execute_result"
    }
   ],
   "source": [
    "N = 5\n",
    "bills = [5, 5, 5, 10, 20]\n",
    "sol = Solution()\n",
    "sol.lemonadeChange(N, bills)"
   ]
  },
  {
   "cell_type": "code",
   "execution_count": 17,
   "metadata": {},
   "outputs": [
    {
     "data": {
      "text/plain": [
       "False"
      ]
     },
     "execution_count": 17,
     "metadata": {},
     "output_type": "execute_result"
    }
   ],
   "source": [
    "N = 5\n",
    "bills = [5, 5, 10, 10, 20]\n",
    "sol = Solution()\n",
    "sol.lemonadeChange(N, bills)"
   ]
  }
 ],
 "metadata": {
  "kernelspec": {
   "display_name": "template-venv",
   "language": "python",
   "name": "python3"
  },
  "language_info": {
   "codemirror_mode": {
    "name": "ipython",
    "version": 3
   },
   "file_extension": ".py",
   "mimetype": "text/x-python",
   "name": "python",
   "nbconvert_exporter": "python",
   "pygments_lexer": "ipython3",
   "version": "3.10.4"
  },
  "orig_nbformat": 4
 },
 "nbformat": 4,
 "nbformat_minor": 2
}
