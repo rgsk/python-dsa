{
 "cells": [
  {
   "cell_type": "code",
   "execution_count": 5,
   "metadata": {},
   "outputs": [],
   "source": [
    "# https://leetcode.com/problems/lemonade-change/"
   ]
  },
  {
   "cell_type": "code",
   "execution_count": 6,
   "metadata": {},
   "outputs": [],
   "source": [
    "from typing import List\n",
    "\n",
    "\n",
    "class Solution:\n",
    "    def lemonadeChange(self, bills: List[int]) -> bool:\n",
    "        fives = 0\n",
    "        tens = 0\n",
    "        for bill in bills:\n",
    "            if bill == 5:\n",
    "                fives += 1\n",
    "            elif bill == 10:\n",
    "                if fives > 0:\n",
    "                    fives -= 1\n",
    "                else:\n",
    "                    return False\n",
    "                tens += 1\n",
    "            else:\n",
    "                if tens >= 1 and fives >= 1:\n",
    "                    tens -= 1\n",
    "                    fives -= 1\n",
    "                elif fives >= 3:\n",
    "                    fives -= 3\n",
    "                else:\n",
    "                    return False\n",
    "        return True"
   ]
  },
  {
   "cell_type": "code",
   "execution_count": 7,
   "metadata": {},
   "outputs": [
    {
     "data": {
      "text/plain": [
       "True"
      ]
     },
     "execution_count": 7,
     "metadata": {},
     "output_type": "execute_result"
    }
   ],
   "source": [
    "bills = [5, 5, 5, 10, 20]\n",
    "sol = Solution()\n",
    "sol.lemonadeChange(bills)"
   ]
  },
  {
   "cell_type": "code",
   "execution_count": 8,
   "metadata": {},
   "outputs": [
    {
     "data": {
      "text/plain": [
       "False"
      ]
     },
     "execution_count": 8,
     "metadata": {},
     "output_type": "execute_result"
    }
   ],
   "source": [
    "bills = [5, 5, 10, 10, 20]\n",
    "sol = Solution()\n",
    "sol.lemonadeChange(bills)"
   ]
  }
 ],
 "metadata": {
  "kernelspec": {
   "display_name": "template-venv",
   "language": "python",
   "name": "python3"
  },
  "language_info": {
   "codemirror_mode": {
    "name": "ipython",
    "version": 3
   },
   "file_extension": ".py",
   "mimetype": "text/x-python",
   "name": "python",
   "nbconvert_exporter": "python",
   "pygments_lexer": "ipython3",
   "version": "3.11.3"
  },
  "orig_nbformat": 4
 },
 "nbformat": 4,
 "nbformat_minor": 2
}
