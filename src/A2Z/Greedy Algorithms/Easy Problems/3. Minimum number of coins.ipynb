{
 "cells": [
  {
   "cell_type": "code",
   "execution_count": 7,
   "metadata": {},
   "outputs": [],
   "source": [
    "# https://practice.geeksforgeeks.org/problems/-minimum-number-of-coins4426/1?utm_source=youtube&utm_medium=collab_striver_ytdescription&utm_campaign=minimum-number-of-coins"
   ]
  },
  {
   "cell_type": "code",
   "execution_count": 8,
   "metadata": {},
   "outputs": [],
   "source": [
    "\n",
    "currencies = [1, 2, 5, 10, 20, 50, 100, 200, 500, 2000]\n",
    "num_currencies = len(currencies)\n",
    "class Solution:\n",
    "    def minPartition(self, N):\n",
    "        i = num_currencies - 1\n",
    "        taken = []\n",
    "        while i >= 0 and N > 0:\n",
    "            while currencies[i] <= N:\n",
    "                N -= currencies[i]\n",
    "                taken.append(currencies[i])\n",
    "            i -= 1\n",
    "        \n",
    "        return taken"
   ]
  },
  {
   "cell_type": "code",
   "execution_count": 9,
   "metadata": {},
   "outputs": [
    {
     "data": {
      "text/plain": [
       "[20, 20, 2, 1]"
      ]
     },
     "execution_count": 9,
     "metadata": {},
     "output_type": "execute_result"
    }
   ],
   "source": [
    "sol = Solution()\n",
    "sol.minPartition(43)"
   ]
  }
 ],
 "metadata": {
  "kernelspec": {
   "display_name": "template-venv",
   "language": "python",
   "name": "python3"
  },
  "language_info": {
   "codemirror_mode": {
    "name": "ipython",
    "version": 3
   },
   "file_extension": ".py",
   "mimetype": "text/x-python",
   "name": "python",
   "nbconvert_exporter": "python",
   "pygments_lexer": "ipython3",
   "version": "3.10.4"
  },
  "orig_nbformat": 4
 },
 "nbformat": 4,
 "nbformat_minor": 2
}
