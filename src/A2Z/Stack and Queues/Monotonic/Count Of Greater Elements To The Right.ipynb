{
 "cells": [
  {
   "cell_type": "code",
   "execution_count": 21,
   "metadata": {},
   "outputs": [],
   "source": [
    "from typing import *\n",
    "\n",
    "def countGreater(N: int, Q: int, arr: List[int], query: List[int]) -> List[int]:\n",
    "    # Write your code here\n",
    "    ans = []\n",
    "    for q in query:\n",
    "        c = 0\n",
    "        for j in range(q + 1, len(arr)):\n",
    "            if arr[j] > arr[q]:\n",
    "                c += 1\n",
    "        ans.append(c)\n",
    "    return ans"
   ]
  },
  {
   "cell_type": "code",
   "execution_count": 23,
   "metadata": {},
   "outputs": [
    {
     "data": {
      "text/plain": [
       "[5, 4, 1]"
      ]
     },
     "execution_count": 23,
     "metadata": {},
     "output_type": "execute_result"
    }
   ],
   "source": [
    "'''\n",
    "8 3\n",
    "1 3 6 5 8 9 13 4\n",
    "0 1 5\n",
    "'''\n",
    "N = 8\n",
    "Q = 3\n",
    "arr = [1, 3, 6, 5, 8, 9, 13, 4]\n",
    "query = [0, 1, 5]\n",
    "countGreater(N, Q, arr, query)"
   ]
  },
  {
   "cell_type": "code",
   "execution_count": 24,
   "metadata": {},
   "outputs": [
    {
     "data": {
      "text/plain": [
       "[3, 2, 1, 0]"
      ]
     },
     "execution_count": 24,
     "metadata": {},
     "output_type": "execute_result"
    }
   ],
   "source": [
    "'''\n",
    "4 4\n",
    "1 2 3 4\n",
    "0 1 2 3\n",
    "'''\n",
    "\n",
    "N = 4\n",
    "Q = 4\n",
    "arr = [1, 2, 3, 4]\n",
    "query = [0, 1, 2, 3]\n",
    "countGreater(N, Q, arr, query)\n"
   ]
  }
 ],
 "metadata": {
  "kernelspec": {
   "display_name": "dsa-venv",
   "language": "python",
   "name": "python3"
  },
  "language_info": {
   "codemirror_mode": {
    "name": "ipython",
    "version": 3
   },
   "file_extension": ".py",
   "mimetype": "text/x-python",
   "name": "python",
   "nbconvert_exporter": "python",
   "pygments_lexer": "ipython3",
   "version": "3.11.3"
  },
  "orig_nbformat": 4
 },
 "nbformat": 4,
 "nbformat_minor": 2
}
