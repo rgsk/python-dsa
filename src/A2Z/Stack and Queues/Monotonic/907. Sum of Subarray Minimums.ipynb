{
 "cells": [
  {
   "cell_type": "code",
   "execution_count": 82,
   "metadata": {},
   "outputs": [],
   "source": [
    "from typing import List\n",
    "\n",
    "# tle\n",
    "class Solution:\n",
    "    def sumSubarrayMins(self, arr: List[int]) -> int:\n",
    "        n = len(arr)\n",
    "        total = 0\n",
    "        for i in range(n):\n",
    "            min_value = arr[i] \n",
    "            for j in range(i, n):\n",
    "                min_value = min(min_value, arr[j])\n",
    "                total += min_value\n",
    "        return total"
   ]
  },
  {
   "cell_type": "code",
   "execution_count": 83,
   "metadata": {},
   "outputs": [],
   "source": [
    "from typing import List\n",
    "mod = 10**9 + 7\n",
    "class Solution:\n",
    "    def sumSubarrayMins(self, arr: List[int]) -> int:\n",
    "        n = len(arr)\n",
    "        leftMin = [-1] * n\n",
    "        rightMin = [n] * n\n",
    "        st = []\n",
    "        for i in range(n):\n",
    "            while st and arr[st[-1]] > arr[i]:\n",
    "                index = st.pop()\n",
    "                rightMin[index] = i\n",
    "            st.append(i)\n",
    "        st.clear()\n",
    "        # print(f'{rightMin=}')\n",
    "        for i in range(n-1, -1, -1):\n",
    "            while st and arr[st[-1]] >= arr[i]: # >= should be present at one place\n",
    "                index = st.pop()\n",
    "                leftMin[index] = i\n",
    "            st.append(i)\n",
    "        st.clear()\n",
    "        # print(f'{leftMin=}')\n",
    "        ans = 0\n",
    "        for i in range(n):\n",
    "            left = i - leftMin[i]\n",
    "            right = rightMin[i] - i\n",
    "            ans += arr[i] * left * right\n",
    "        return ans % mod"
   ]
  },
  {
   "cell_type": "code",
   "execution_count": 84,
   "metadata": {},
   "outputs": [
    {
     "data": {
      "text/plain": [
       "17"
      ]
     },
     "execution_count": 84,
     "metadata": {},
     "output_type": "execute_result"
    }
   ],
   "source": [
    "arr = [3,1,2,4]\n",
    "sol = Solution()\n",
    "sol.sumSubarrayMins(arr)"
   ]
  },
  {
   "cell_type": "code",
   "execution_count": 85,
   "metadata": {},
   "outputs": [
    {
     "data": {
      "text/plain": [
       "444"
      ]
     },
     "execution_count": 85,
     "metadata": {},
     "output_type": "execute_result"
    }
   ],
   "source": [
    "arr = [11,81,94,43,3]\n",
    "sol = Solution()\n",
    "sol.sumSubarrayMins(arr)"
   ]
  },
  {
   "cell_type": "code",
   "execution_count": 86,
   "metadata": {},
   "outputs": [
    {
     "data": {
      "text/plain": [
       "593"
      ]
     },
     "execution_count": 86,
     "metadata": {},
     "output_type": "execute_result"
    }
   ],
   "source": [
    "arr = [71,55,82,55]\n",
    "sol = Solution()\n",
    "sol.sumSubarrayMins(arr)"
   ]
  }
 ],
 "metadata": {
  "kernelspec": {
   "display_name": "dsa-venv",
   "language": "python",
   "name": "python3"
  },
  "language_info": {
   "codemirror_mode": {
    "name": "ipython",
    "version": 3
   },
   "file_extension": ".py",
   "mimetype": "text/x-python",
   "name": "python",
   "nbconvert_exporter": "python",
   "pygments_lexer": "ipython3",
   "version": "3.11.3"
  },
  "orig_nbformat": 4
 },
 "nbformat": 4,
 "nbformat_minor": 2
}
