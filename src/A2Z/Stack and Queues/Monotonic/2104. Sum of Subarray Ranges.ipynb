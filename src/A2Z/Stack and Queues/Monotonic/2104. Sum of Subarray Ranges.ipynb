{
 "cells": [
  {
   "cell_type": "code",
   "execution_count": 20,
   "metadata": {},
   "outputs": [],
   "source": [
    "from typing import List\n",
    "\n",
    "\n",
    "class Solution:\n",
    "    def subArrayRanges(self, nums: List[int]) -> int:\n",
    "        n = len(nums)\n",
    "        ans = 0\n",
    "        for i in range(n):\n",
    "            min_val = nums[i]\n",
    "            max_val = nums[i]\n",
    "            for j in range(i, n):\n",
    "                min_val = min(nums[j], min_val)\n",
    "                max_val = max(nums[j], max_val)\n",
    "                range_val = max_val - min_val\n",
    "                ans += range_val\n",
    "        return ans"
   ]
  },
  {
   "cell_type": "code",
   "execution_count": 21,
   "metadata": {},
   "outputs": [],
   "source": [
    "from typing import List\n",
    "mod = 10**9 + 7\n",
    "\n",
    "\n",
    "class Solution:\n",
    "    def subArrayRanges(self, nums: List[int]) -> int:\n",
    "        n = len(nums)\n",
    "        leftMin = [-1] * n\n",
    "        rightMin = [n] * n\n",
    "        st = []\n",
    "        for i in range(n):\n",
    "            while st and nums[st[-1]] > nums[i]:\n",
    "                index = st.pop()\n",
    "                rightMin[index] = i\n",
    "            st.append(i)\n",
    "        st.clear()\n",
    "        # print(f'{rightMin=}')\n",
    "        for i in range(n-1, -1, -1):\n",
    "            while st and nums[st[-1]] >= nums[i]: # >= should be present at one place\n",
    "                index = st.pop()\n",
    "                leftMin[index] = i\n",
    "            st.append(i)\n",
    "        st.clear()\n",
    "        # print(f'{leftMin=}')\n",
    "        leftMax = [-1] * n\n",
    "        rightMax = [n] * n\n",
    "        st = []\n",
    "        for i in range(n):\n",
    "            while st and nums[st[-1]] < nums[i]:\n",
    "                index = st.pop()\n",
    "                rightMax[index] = i\n",
    "            st.append(i)\n",
    "        st.clear()\n",
    "        # print(f'{rightMax=}')\n",
    "        for i in range(n-1, -1, -1):\n",
    "            while st and nums[st[-1]] <= nums[i]: # >= should be present at one place\n",
    "                index = st.pop()\n",
    "                leftMax[index] = i\n",
    "            st.append(i)\n",
    "        st.clear()\n",
    "        # print(f'{leftMax=}')\n",
    "\n",
    "        min_value = 0\n",
    "        for i in range(n):\n",
    "            left = i - leftMin[i]\n",
    "            right = rightMin[i] - i\n",
    "            min_value += nums[i] * left * right\n",
    "        max_val = 0\n",
    "        for i in range(n):\n",
    "            left = i - leftMax[i]\n",
    "            right = rightMax[i] - i\n",
    "            max_val += nums[i] * left * right\n",
    "        return max_val - min_value"
   ]
  },
  {
   "cell_type": "code",
   "execution_count": 22,
   "metadata": {},
   "outputs": [
    {
     "data": {
      "text/plain": [
       "4"
      ]
     },
     "execution_count": 22,
     "metadata": {},
     "output_type": "execute_result"
    }
   ],
   "source": [
    "nums = [1,2,3]\n",
    "sol = Solution()\n",
    "sol.subArrayRanges(nums)"
   ]
  },
  {
   "cell_type": "code",
   "execution_count": 23,
   "metadata": {},
   "outputs": [
    {
     "data": {
      "text/plain": [
       "4"
      ]
     },
     "execution_count": 23,
     "metadata": {},
     "output_type": "execute_result"
    }
   ],
   "source": [
    "nums = [1,3,3]\n",
    "sol = Solution()\n",
    "sol.subArrayRanges(nums)"
   ]
  },
  {
   "cell_type": "code",
   "execution_count": 24,
   "metadata": {},
   "outputs": [
    {
     "data": {
      "text/plain": [
       "59"
      ]
     },
     "execution_count": 24,
     "metadata": {},
     "output_type": "execute_result"
    }
   ],
   "source": [
    "nums = [4,-2,-3,4,1]\n",
    "sol = Solution()\n",
    "sol.subArrayRanges(nums)"
   ]
  }
 ],
 "metadata": {
  "kernelspec": {
   "display_name": "dsa-venv",
   "language": "python",
   "name": "python3"
  },
  "language_info": {
   "codemirror_mode": {
    "name": "ipython",
    "version": 3
   },
   "file_extension": ".py",
   "mimetype": "text/x-python",
   "name": "python",
   "nbconvert_exporter": "python",
   "pygments_lexer": "ipython3",
   "version": "3.11.3"
  },
  "orig_nbformat": 4
 },
 "nbformat": 4,
 "nbformat_minor": 2
}
