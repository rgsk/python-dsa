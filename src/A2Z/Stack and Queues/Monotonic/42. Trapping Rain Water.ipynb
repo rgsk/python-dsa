{
 "cells": [
  {
   "cell_type": "code",
   "execution_count": 5,
   "metadata": {},
   "outputs": [],
   "source": [
    "# https://leetcode.com/problems/trapping-rain-water/"
   ]
  },
  {
   "cell_type": "code",
   "execution_count": 6,
   "metadata": {},
   "outputs": [],
   "source": [
    "# video\n",
    "# https://www.youtube.com/watch?v=m18Hntz4go8&t=789s"
   ]
  },
  {
   "cell_type": "code",
   "execution_count": 7,
   "metadata": {},
   "outputs": [],
   "source": [
    "from typing import List\n",
    "\n",
    "\n",
    "class Solution:\n",
    "    def trap(self, height: List[int]) -> int:\n",
    "        ans = 0\n",
    "        n = len(height)\n",
    "        maxOnRight = [-1] * n\n",
    "        maxOnRight[n-1] = height[n-1]\n",
    "        for i in range(n-2, -1, -1):\n",
    "            maxOnRight[i] = max(maxOnRight[i+1], height[i])\n",
    "        maxOnLeft = [-1] * n\n",
    "        maxOnLeft[0] = height[0]\n",
    "        for i in range(1, n):\n",
    "            maxOnLeft[i] = max(maxOnLeft[i-1], height[i])\n",
    "        for i in range(n):\n",
    "            ans += min(maxOnLeft[i], maxOnRight[i]) - height[i]\n",
    "        return ans"
   ]
  },
  {
   "cell_type": "code",
   "execution_count": 8,
   "metadata": {},
   "outputs": [],
   "source": [
    "from typing import List\n",
    "\n",
    "\n",
    "class Solution:\n",
    "    def trap(self, height: List[int]) -> int:\n",
    "        ans = 0\n",
    "        n = len(height)\n",
    "        l = 0\n",
    "        r = n - 1\n",
    "        leftmax = rightmax = 0\n",
    "        while l < r:\n",
    "            if height[l] <= height[r]:\n",
    "                if height[l] >= leftmax: \n",
    "                    leftmax = height[l]\n",
    "                else:\n",
    "                    ans += leftmax - height[l]\n",
    "                l += 1\n",
    "            else:\n",
    "                if height[r] >= rightmax: \n",
    "                    rightmax = height[r]\n",
    "                else:\n",
    "                    ans += rightmax - height[r]\n",
    "                r -= 1\n",
    "        return ans"
   ]
  },
  {
   "cell_type": "code",
   "execution_count": 9,
   "metadata": {},
   "outputs": [
    {
     "data": {
      "text/plain": [
       "6"
      ]
     },
     "execution_count": 9,
     "metadata": {},
     "output_type": "execute_result"
    }
   ],
   "source": [
    "height = [0,1,0,2,1,0,1,3,2,1,2,1]\n",
    "sol = Solution()\n",
    "sol.trap(height)"
   ]
  },
  {
   "cell_type": "code",
   "execution_count": 10,
   "metadata": {},
   "outputs": [
    {
     "data": {
      "text/plain": [
       "9"
      ]
     },
     "execution_count": 10,
     "metadata": {},
     "output_type": "execute_result"
    }
   ],
   "source": [
    "height = [4,2,0,3,2,5]\n",
    "sol = Solution()\n",
    "sol.trap(height)"
   ]
  }
 ],
 "metadata": {
  "kernelspec": {
   "display_name": "dsa-venv",
   "language": "python",
   "name": "python3"
  },
  "language_info": {
   "codemirror_mode": {
    "name": "ipython",
    "version": 3
   },
   "file_extension": ".py",
   "mimetype": "text/x-python",
   "name": "python",
   "nbconvert_exporter": "python",
   "pygments_lexer": "ipython3",
   "version": "3.11.3"
  },
  "orig_nbformat": 4
 },
 "nbformat": 4,
 "nbformat_minor": 2
}
