{
 "cells": [
  {
   "cell_type": "code",
   "execution_count": 60,
   "metadata": {},
   "outputs": [],
   "source": [
    "# https://leetcode.com/problems/next-greater-element-i/description/"
   ]
  },
  {
   "cell_type": "code",
   "execution_count": 61,
   "metadata": {},
   "outputs": [],
   "source": [
    "# striver explaination\n",
    "\n",
    "from typing import List\n",
    "\n",
    "\n",
    "def monotonic(nums: List[int]):\n",
    "    st = []\n",
    "    ans = [-1] * len(nums)\n",
    "    for i in range(len(nums)-1, -1, -1):\n",
    "        if st:\n",
    "            if st[-1] > nums[i]:\n",
    "                ans[i] = st[-1]\n",
    "            else:\n",
    "                while st and st[-1] <= nums[i]:\n",
    "                    st.pop()\n",
    "                if st:\n",
    "                    ans[i] = st[-1]\n",
    "              \n",
    "        st.append(nums[i])\n",
    "    return ans"
   ]
  },
  {
   "cell_type": "code",
   "execution_count": 62,
   "metadata": {},
   "outputs": [
    {
     "name": "stdout",
     "output_type": "stream",
     "text": [
      "[10, -1, 6, 6, 2, 6, 7, 7, 9, 9, -1]\n"
     ]
    }
   ],
   "source": [
    "print(monotonic([3, 10, 4, 2, 1, 2, 6, 1, 7, 2, 9]))"
   ]
  },
  {
   "cell_type": "code",
   "execution_count": 63,
   "metadata": {},
   "outputs": [],
   "source": [
    "def circular_monotonic(nums: List[int]):\n",
    "    monotonic_arr = monotonic(nums + nums)\n",
    "    return monotonic_arr[:len(nums)]"
   ]
  },
  {
   "cell_type": "code",
   "execution_count": 64,
   "metadata": {},
   "outputs": [
    {
     "name": "stdout",
     "output_type": "stream",
     "text": [
      "[10, -1, 6, 6, 2, 6, 7, 7, 9, 9, 10]\n"
     ]
    }
   ],
   "source": [
    "print(circular_monotonic([3, 10, 4, 2, 1, 2, 6, 1, 7, 2, 9]))"
   ]
  },
  {
   "cell_type": "code",
   "execution_count": 65,
   "metadata": {},
   "outputs": [
    {
     "name": "stdout",
     "output_type": "stream",
     "text": [
      "[10, 12, -1, 11, 12]\n"
     ]
    }
   ],
   "source": [
    "print(circular_monotonic([2, 10, 12, 1, 11]))"
   ]
  },
  {
   "cell_type": "code",
   "execution_count": 66,
   "metadata": {},
   "outputs": [],
   "source": [
    "from typing import List\n",
    "\n",
    "# bruteforce\n",
    "class Solution:\n",
    "    def nextGreaterElement(self, nums1: List[int], nums2: List[int]) -> List[int]:\n",
    "        ans = []\n",
    "        for n1 in nums1: \n",
    "            i = nums2.index(n1)\n",
    "            found = False\n",
    "            for j in range(i + 1, len(nums2)):\n",
    "                if nums2[j] > n1:\n",
    "                    ans.append(nums2[j])\n",
    "                    found = True\n",
    "                    break\n",
    "            if not found:\n",
    "                ans.append(-1)\n",
    "        return ans"
   ]
  },
  {
   "cell_type": "code",
   "execution_count": 67,
   "metadata": {},
   "outputs": [],
   "source": [
    "from typing import List\n",
    "\n",
    "def monotonic(nums: List[int]):\n",
    "    st = []\n",
    "    ans = [-1] * len(nums)\n",
    "    for i in range(len(nums)-1, -1, -1):\n",
    "        if st:\n",
    "            if st[-1] > nums[i]:\n",
    "                ans[i] = st[-1]\n",
    "            else:\n",
    "                while st and st[-1] <= nums[i]:\n",
    "                    st.pop()\n",
    "                if st:\n",
    "                    ans[i] = st[-1]\n",
    "              \n",
    "        st.append(nums[i])\n",
    "    return ans\n",
    "\n",
    "class Solution:\n",
    "    def nextGreaterElement(self, nums1: List[int], nums2: List[int]) -> List[int]:\n",
    "        ans = []\n",
    "        monotonic_arr = monotonic(nums2)\n",
    "        item_idx = {nums2[i]:i for i in range(len(nums2))}\n",
    "        for n1 in nums1: \n",
    "            ans.append(monotonic_arr[item_idx[n1]])\n",
    "        return ans"
   ]
  },
  {
   "cell_type": "code",
   "execution_count": 68,
   "metadata": {},
   "outputs": [
    {
     "data": {
      "text/plain": [
       "[-1, 3, -1]"
      ]
     },
     "execution_count": 68,
     "metadata": {},
     "output_type": "execute_result"
    }
   ],
   "source": [
    "nums1 = [4,1,2]\n",
    "nums2 = [1,3,4,2]\n",
    "sol = Solution()\n",
    "sol.nextGreaterElement(nums1, nums2)"
   ]
  },
  {
   "cell_type": "code",
   "execution_count": 69,
   "metadata": {},
   "outputs": [
    {
     "data": {
      "text/plain": [
       "[3, -1]"
      ]
     },
     "execution_count": 69,
     "metadata": {},
     "output_type": "execute_result"
    }
   ],
   "source": [
    "nums1 = [2,4]\n",
    "nums2 = [1,2,3,4]\n",
    "sol = Solution()\n",
    "sol.nextGreaterElement(nums1, nums2)"
   ]
  }
 ],
 "metadata": {
  "kernelspec": {
   "display_name": "dsa-venv",
   "language": "python",
   "name": "python3"
  },
  "language_info": {
   "codemirror_mode": {
    "name": "ipython",
    "version": 3
   },
   "file_extension": ".py",
   "mimetype": "text/x-python",
   "name": "python",
   "nbconvert_exporter": "python",
   "pygments_lexer": "ipython3",
   "version": "3.11.3"
  },
  "orig_nbformat": 4
 },
 "nbformat": 4,
 "nbformat_minor": 2
}
