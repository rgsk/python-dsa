{
 "cells": [
  {
   "cell_type": "code",
   "execution_count": 119,
   "metadata": {},
   "outputs": [],
   "source": [
    "from typing import List\n",
    "\n",
    "\n",
    "class Solution:\n",
    "    def largestRectangleArea(self, heights: List[int]) -> int:\n",
    "        n = len(heights)\n",
    "        ans = 0\n",
    "        for i in range(n):\n",
    "            j = i - 1\n",
    "            while j >= 0 and heights[j] >= heights[i]:\n",
    "                j -= 1\n",
    "            k = i + 1\n",
    "            while k < n and heights[k] >= heights[i]:\n",
    "                k += 1\n",
    "            \n",
    "            ans = max(ans, heights[i] * (k-j-1))\n",
    "        return ans"
   ]
  },
  {
   "cell_type": "code",
   "execution_count": 120,
   "metadata": {},
   "outputs": [],
   "source": [
    "from typing import List\n",
    "\n",
    "\n",
    "class Solution:\n",
    "    def largestRectangleArea(self, heights: List[int]) -> int:\n",
    "        n = len(heights)\n",
    "        min_prev = [0 for _ in range(n)]\n",
    "        min_next = [0 for _ in range(n)]\n",
    "        min_next[n-1] = n\n",
    "        min_prev[0] = -1\n",
    "        for i in range(1, n):\n",
    "            p = i - 1\n",
    "            while p >= 0 and heights[p] >= heights[i]:\n",
    "                p = min_prev[p]\n",
    "            min_prev[i] = p\n",
    "        for i in range(n-2, -1, -1):\n",
    "            p = i + 1\n",
    "            while p < n and heights[p] >= heights[i]:\n",
    "                p = min_next[p]\n",
    "            min_next[i] = p\n",
    "        max_area = 0\n",
    "        # print(min_prev)\n",
    "        # print(min_next)\n",
    "        for i in range(n):\n",
    "            max_area = max(max_area, heights[i] * (min_next[i] - min_prev[i] - 1))\n",
    "        return max_area"
   ]
  },
  {
   "cell_type": "code",
   "execution_count": 121,
   "metadata": {},
   "outputs": [],
   "source": [
    "from typing import List\n",
    "\n",
    "\n",
    "class Solution:\n",
    "    def largestRectangleArea(self, heights: List[int]) -> int:\n",
    "        n = len(heights)\n",
    "        min_prev = [-1 for _ in range(n)]\n",
    "        min_next = [n for _ in range(n)]\n",
    "        st = []\n",
    "        for i in range(n):\n",
    "            while st and heights[st[-1]] >= heights[i]:\n",
    "                st.pop()\n",
    "            if st:\n",
    "                min_prev[i] = st[-1]\n",
    "            st.append(i)\n",
    "        st = []\n",
    "        for i in range(n-1, -1, -1):\n",
    "            while st and heights[st[-1]] >= heights[i]:\n",
    "                st.pop()\n",
    "            if st:\n",
    "                min_next[i] = st[-1]\n",
    "            st.append(i)\n",
    "        max_area = 0\n",
    "        # print(min_prev)\n",
    "        # print(min_next)\n",
    "        for i in range(n):\n",
    "            max_area = max(max_area, heights[i] * ((min_next[i]-i) + (i - min_prev[i]) - 1))\n",
    "        return max_area"
   ]
  },
  {
   "cell_type": "code",
   "execution_count": 122,
   "metadata": {},
   "outputs": [
    {
     "data": {
      "text/plain": [
       "10"
      ]
     },
     "execution_count": 122,
     "metadata": {},
     "output_type": "execute_result"
    }
   ],
   "source": [
    "heights = [2,1,5,6,2,2]\n",
    "sol = Solution()\n",
    "sol.largestRectangleArea(heights)"
   ]
  },
  {
   "cell_type": "code",
   "execution_count": 123,
   "metadata": {},
   "outputs": [
    {
     "data": {
      "text/plain": [
       "10"
      ]
     },
     "execution_count": 123,
     "metadata": {},
     "output_type": "execute_result"
    }
   ],
   "source": [
    "heights = [2,1,5,6,2,3]\n",
    "sol = Solution()\n",
    "sol.largestRectangleArea(heights)"
   ]
  },
  {
   "cell_type": "code",
   "execution_count": 124,
   "metadata": {},
   "outputs": [
    {
     "data": {
      "text/plain": [
       "4"
      ]
     },
     "execution_count": 124,
     "metadata": {},
     "output_type": "execute_result"
    }
   ],
   "source": [
    "heights = [2,4]\n",
    "sol = Solution()\n",
    "sol.largestRectangleArea(heights)"
   ]
  },
  {
   "cell_type": "code",
   "execution_count": 125,
   "metadata": {},
   "outputs": [
    {
     "data": {
      "text/plain": [
       "3"
      ]
     },
     "execution_count": 125,
     "metadata": {},
     "output_type": "execute_result"
    }
   ],
   "source": [
    "heights = [2,1,2]\n",
    "sol = Solution()\n",
    "sol.largestRectangleArea(heights)"
   ]
  }
 ],
 "metadata": {
  "kernelspec": {
   "display_name": "dsa-venv",
   "language": "python",
   "name": "python3"
  },
  "language_info": {
   "codemirror_mode": {
    "name": "ipython",
    "version": 3
   },
   "file_extension": ".py",
   "mimetype": "text/x-python",
   "name": "python",
   "nbconvert_exporter": "python",
   "pygments_lexer": "ipython3",
   "version": "3.11.3"
  },
  "orig_nbformat": 4
 },
 "nbformat": 4,
 "nbformat_minor": 2
}
