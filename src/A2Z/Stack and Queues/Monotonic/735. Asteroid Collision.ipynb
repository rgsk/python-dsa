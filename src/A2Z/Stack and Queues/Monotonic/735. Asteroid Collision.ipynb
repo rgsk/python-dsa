{
 "cells": [
  {
   "cell_type": "code",
   "execution_count": 62,
   "metadata": {},
   "outputs": [],
   "source": [
    "from typing import List\n",
    "\n",
    "\n",
    "class Solution:\n",
    "    def asteroidCollision(self, asteroids: List[int]) -> List[int]:\n",
    "        result = []\n",
    "        for el in asteroids:\n",
    "            result.append(el)\n",
    "            while len(result)>=2 and result[-1] < 0 < result[-2]:\n",
    "                # here we can't check like result[-1] * result[-2] < 0\n",
    "                # as astroids collide only if positive one is left and negative on right\n",
    "                if abs(result[-1]) == abs(result[-2]):\n",
    "                    result.pop(-1)\n",
    "                    result.pop(-1)\n",
    "                elif abs(result[-2]) < abs(result[-1]):\n",
    "                    result.pop(-2)\n",
    "                else:\n",
    "                    result.pop(-1)\n",
    "        return result\n"
   ]
  },
  {
   "cell_type": "code",
   "execution_count": 63,
   "metadata": {},
   "outputs": [
    {
     "data": {
      "text/plain": [
       "[5, 10]"
      ]
     },
     "execution_count": 63,
     "metadata": {},
     "output_type": "execute_result"
    }
   ],
   "source": [
    "asteroids = [5,10,-5]\n",
    "sol = Solution()\n",
    "sol.asteroidCollision(asteroids)"
   ]
  },
  {
   "cell_type": "code",
   "execution_count": 64,
   "metadata": {},
   "outputs": [
    {
     "data": {
      "text/plain": [
       "[]"
      ]
     },
     "execution_count": 64,
     "metadata": {},
     "output_type": "execute_result"
    }
   ],
   "source": [
    "asteroids = [8,-8]\n",
    "sol = Solution()\n",
    "sol.asteroidCollision(asteroids)"
   ]
  },
  {
   "cell_type": "code",
   "execution_count": 65,
   "metadata": {},
   "outputs": [
    {
     "data": {
      "text/plain": [
       "[10]"
      ]
     },
     "execution_count": 65,
     "metadata": {},
     "output_type": "execute_result"
    }
   ],
   "source": [
    "asteroids = [10,2,-5]\n",
    "sol = Solution()\n",
    "sol.asteroidCollision(asteroids)"
   ]
  },
  {
   "cell_type": "code",
   "execution_count": 66,
   "metadata": {},
   "outputs": [
    {
     "data": {
      "text/plain": [
       "[-2, -1, 1, 2]"
      ]
     },
     "execution_count": 66,
     "metadata": {},
     "output_type": "execute_result"
    }
   ],
   "source": [
    "asteroids = [-2,-1,1,2]\n",
    "sol = Solution()\n",
    "sol.asteroidCollision(asteroids)"
   ]
  }
 ],
 "metadata": {
  "kernelspec": {
   "display_name": "dsa-venv",
   "language": "python",
   "name": "python3"
  },
  "language_info": {
   "codemirror_mode": {
    "name": "ipython",
    "version": 3
   },
   "file_extension": ".py",
   "mimetype": "text/x-python",
   "name": "python",
   "nbconvert_exporter": "python",
   "pygments_lexer": "ipython3",
   "version": "3.11.3"
  },
  "orig_nbformat": 4
 },
 "nbformat": 4,
 "nbformat_minor": 2
}
