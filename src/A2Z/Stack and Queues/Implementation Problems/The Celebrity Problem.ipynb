{
 "cells": [
  {
   "cell_type": "markdown",
   "metadata": {},
   "source": [
    "https://www.youtube.com/watch?v=CiiXBvrX-5A\n",
    "\n",
    "https://practice.geeksforgeeks.org/problems/the-celebrity-problem/1?utm_source=geeksforgeeks&utm_medium=article_practice_tab&utm_campaign=article_practice_tab"
   ]
  },
  {
   "cell_type": "code",
   "execution_count": 18,
   "metadata": {},
   "outputs": [],
   "source": [
    "# brute force \n",
    "# n**2\n",
    "class Solution:\n",
    "    \n",
    "    #Function to find if there is a celebrity in the party or not.\n",
    "    def celebrity(self, M, n):\n",
    "        # code here \n",
    "        for c in range(n):\n",
    "            isCeleb = True\n",
    "            for j in range(n):\n",
    "                if M[c][j] == 1:\n",
    "                    isCeleb = False\n",
    "                    break\n",
    "            for i in range(n):\n",
    "                if i != c and M[i][c] != 1: \n",
    "                    isCeleb = False \n",
    "                    break\n",
    "            if isCeleb:\n",
    "                return c\n",
    "        return -1"
   ]
  },
  {
   "cell_type": "code",
   "execution_count": 19,
   "metadata": {},
   "outputs": [],
   "source": [
    "\n",
    "class Solution:\n",
    "    \n",
    "    #Function to find if there is a celebrity in the party or not.\n",
    "    def celebrity(self, M, n):\n",
    "        # remove n-1 elements from the stack\n",
    "        stack = [i for i in range(n)]\n",
    "        while len(stack) > 1:\n",
    "            a = stack.pop()\n",
    "            b = stack.pop()\n",
    "            # we eliminate 1 out of a or b\n",
    "            if M[a][b] == 1: \n",
    "                # if a knows b, then a can't be celebrity, so we append b\n",
    "                stack.append(b)\n",
    "            else:\n",
    "                # if a doesn't knows b, then b can't be celebrity, so we append a\n",
    "                stack.append(a)\n",
    "\n",
    "        # check whether the only element remaining in stack is celebrity or not\n",
    "        c = stack[0]\n",
    "        isCeleb = True\n",
    "        for j in range(n):\n",
    "            if M[c][j] == 1:\n",
    "                isCeleb = False\n",
    "                break\n",
    "        for i in range(n):\n",
    "            if i != c and M[i][c] != 1:\n",
    "                isCeleb = False \n",
    "                break\n",
    "        if isCeleb:\n",
    "            return c\n",
    "        return -1"
   ]
  },
  {
   "cell_type": "code",
   "execution_count": 20,
   "metadata": {},
   "outputs": [],
   "source": [
    "\n",
    "class Solution:\n",
    "    \n",
    "    #Function to find if there is a celebrity in the party or not.\n",
    "    def celebrity(self, M, n):\n",
    "        # remove n-1 elements from the stack\n",
    "        stack = [i for i in range(n)]\n",
    "        while len(stack) > 1:\n",
    "            a = stack.pop()\n",
    "            b = stack.pop()\n",
    "            if M[a][b] == 1 and M[b][a] == 0: \n",
    "                # checking both conditions is also fine, in this case 2 elements can be eliminated at once instead of 1\n",
    "                stack.append(b)\n",
    "            elif M[a][b] == 0 and M[b][a] == 1:\n",
    "                stack.append(a)\n",
    "\n",
    "        if stack:\n",
    "            # but if still we have 1 element left, we have to check for that\n",
    "            c = stack[0]\n",
    "            isCeleb = True\n",
    "            for j in range(n):\n",
    "                if M[c][j] == 1:\n",
    "                    isCeleb = False\n",
    "                    break\n",
    "            for i in range(n):\n",
    "                if i != c and M[i][c] != 1:\n",
    "                    isCeleb = False \n",
    "                    break\n",
    "            if isCeleb:\n",
    "                return c\n",
    "\n",
    "        return -1"
   ]
  },
  {
   "cell_type": "code",
   "execution_count": 21,
   "metadata": {},
   "outputs": [
    {
     "data": {
      "text/plain": [
       "1"
      ]
     },
     "execution_count": 21,
     "metadata": {},
     "output_type": "execute_result"
    }
   ],
   "source": [
    "N = 3\n",
    "M = [[0, 1, 0],\n",
    "     [0, 0, 0],\n",
    "     [0, 1, 0]]\n",
    "\n",
    "sol = Solution()\n",
    "sol.celebrity(M, N)"
   ]
  },
  {
   "cell_type": "code",
   "execution_count": 22,
   "metadata": {},
   "outputs": [
    {
     "data": {
      "text/plain": [
       "-1"
      ]
     },
     "execution_count": 22,
     "metadata": {},
     "output_type": "execute_result"
    }
   ],
   "source": [
    "N = 2\n",
    "M = [\n",
    "    [0, 1],\n",
    "    [1, 0]\n",
    "]\n",
    "sol = Solution()\n",
    "sol.celebrity(M, N)"
   ]
  }
 ],
 "metadata": {
  "kernelspec": {
   "display_name": "dsa-venv",
   "language": "python",
   "name": "python3"
  },
  "language_info": {
   "codemirror_mode": {
    "name": "ipython",
    "version": 3
   },
   "file_extension": ".py",
   "mimetype": "text/x-python",
   "name": "python",
   "nbconvert_exporter": "python",
   "pygments_lexer": "ipython3",
   "version": "3.11.3"
  }
 },
 "nbformat": 4,
 "nbformat_minor": 2
}
