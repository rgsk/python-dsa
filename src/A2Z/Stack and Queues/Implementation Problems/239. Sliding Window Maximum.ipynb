{
 "cells": [
  {
   "cell_type": "code",
   "execution_count": 85,
   "metadata": {},
   "outputs": [],
   "source": [
    "from typing import List\n",
    "\n",
    "\n",
    "class Solution:\n",
    "    def maxSlidingWindow(self, nums: List[int], k: int) -> List[int]:\n",
    "        n = len(nums)\n",
    "        win = []\n",
    "        i = 0\n",
    "        while i < k:\n",
    "            win.append(nums[i])\n",
    "            i += 1\n",
    "        ans = []\n",
    "        ans.append(max(win))\n",
    "        while i < n:\n",
    "            win.pop(0)\n",
    "            win.append(nums[i])\n",
    "            ans.append(max(win))\n",
    "            i += 1\n",
    "        return ans"
   ]
  },
  {
   "cell_type": "code",
   "execution_count": 86,
   "metadata": {},
   "outputs": [],
   "source": [
    "from typing import List\n",
    "\n",
    "\n",
    "class Solution:\n",
    "    def maxSlidingWindow(self, nums: List[int], k: int) -> List[int]:\n",
    "        ans = []\n",
    "        n = len(nums)\n",
    "        for i in range(n - k + 1):\n",
    "            cur_max = nums[i]\n",
    "            for j in range(i, i + k):\n",
    "                cur_max = max(cur_max, nums[j])\n",
    "            ans.append(cur_max)\n",
    "        return ans"
   ]
  },
  {
   "cell_type": "code",
   "execution_count": 87,
   "metadata": {},
   "outputs": [],
   "source": [
    "class Solution:\n",
    "    def maxSlidingWindow(self, nums: List[int], k: int) -> List[int]:\n",
    "        ans = []\n",
    "        n = len(nums)\n",
    "        q = []\n",
    "        for i in range(n):\n",
    "            while q and q[0] <= i - k:\n",
    "                q.pop(0)\n",
    "            while q and nums[i] > nums[q[-1]]:\n",
    "                q.pop()\n",
    "            q.append(i)\n",
    "            if i >= k - 1:\n",
    "                ans.append(nums[q[0]])\n",
    "        return ans"
   ]
  },
  {
   "cell_type": "code",
   "execution_count": 88,
   "metadata": {},
   "outputs": [],
   "source": [
    "\n",
    "from collections import deque\n",
    "\n",
    "\n",
    "class Solution:\n",
    "    def maxSlidingWindow(self, nums: List[int], k: int) -> List[int]:\n",
    "        ans = []\n",
    "        n = len(nums)\n",
    "        q = deque()\n",
    "        for i in range(n):\n",
    "            while q and q[0] <= i - k:\n",
    "                q.popleft()\n",
    "            while q and nums[i] > nums[q[-1]]:\n",
    "                q.pop()\n",
    "            q.append(i)\n",
    "            if i >= k - 1:\n",
    "                ans.append(nums[q[0]])\n",
    "        return ans"
   ]
  },
  {
   "cell_type": "code",
   "execution_count": 89,
   "metadata": {},
   "outputs": [
    {
     "data": {
      "text/plain": [
       "[3, 3, 5, 5, 6, 7]"
      ]
     },
     "execution_count": 89,
     "metadata": {},
     "output_type": "execute_result"
    }
   ],
   "source": [
    "nums = [1,3,-1,-3,5,3,6,7]\n",
    "k = 3\n",
    "sol = Solution()\n",
    "sol.maxSlidingWindow(nums, k)"
   ]
  },
  {
   "cell_type": "code",
   "execution_count": 90,
   "metadata": {},
   "outputs": [
    {
     "data": {
      "text/plain": [
       "[1]"
      ]
     },
     "execution_count": 90,
     "metadata": {},
     "output_type": "execute_result"
    }
   ],
   "source": [
    "nums = [1]\n",
    "k = 1\n",
    "sol = Solution()\n",
    "sol.maxSlidingWindow(nums, k)"
   ]
  },
  {
   "cell_type": "code",
   "execution_count": 91,
   "metadata": {},
   "outputs": [
    {
     "data": {
      "text/plain": [
       "[1, -1]"
      ]
     },
     "execution_count": 91,
     "metadata": {},
     "output_type": "execute_result"
    }
   ],
   "source": [
    "nums = [1,-1]\n",
    "k = 1\n",
    "sol = Solution()\n",
    "sol.maxSlidingWindow(nums, k)"
   ]
  },
  {
   "cell_type": "code",
   "execution_count": 92,
   "metadata": {},
   "outputs": [
    {
     "data": {
      "text/plain": [
       "[7, 4]"
      ]
     },
     "execution_count": 92,
     "metadata": {},
     "output_type": "execute_result"
    }
   ],
   "source": [
    "nums = [7,2,4]\n",
    "k = 2\n",
    "sol = Solution()\n",
    "sol.maxSlidingWindow(nums, k)"
   ]
  }
 ],
 "metadata": {
  "kernelspec": {
   "display_name": "dsa-venv",
   "language": "python",
   "name": "python3"
  },
  "language_info": {
   "codemirror_mode": {
    "name": "ipython",
    "version": 3
   },
   "file_extension": ".py",
   "mimetype": "text/x-python",
   "name": "python",
   "nbconvert_exporter": "python",
   "pygments_lexer": "ipython3",
   "version": "3.11.3"
  },
  "orig_nbformat": 4
 },
 "nbformat": 4,
 "nbformat_minor": 2
}
