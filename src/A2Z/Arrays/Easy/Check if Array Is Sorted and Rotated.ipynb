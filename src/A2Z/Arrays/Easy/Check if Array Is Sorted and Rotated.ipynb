{
 "cells": [
  {
   "cell_type": "code",
   "execution_count": 50,
   "metadata": {},
   "outputs": [],
   "source": [
    "# https://leetcode.com/problems/check-if-array-is-sorted-and-rotated/"
   ]
  },
  {
   "cell_type": "code",
   "execution_count": 51,
   "metadata": {},
   "outputs": [],
   "source": [
    "from typing import List\n",
    "\n",
    "def help(drop_index, nums):\n",
    "    for i in range(drop_index + 1, drop_index + len(nums)):\n",
    "        previous_idx = (i-1) % len(nums)\n",
    "        idx = i % len(nums)\n",
    "        if nums[idx] < nums[previous_idx]:\n",
    "            return False\n",
    "    return True\n",
    "\n",
    "class Solution:\n",
    "    def check(self, nums: List[int]) -> bool:\n",
    "        drop_index = 1\n",
    "        while drop_index < len(nums) and nums[drop_index] >= nums[drop_index-1]:\n",
    "            drop_index += 1\n",
    "        if drop_index == len(nums):\n",
    "            return True\n",
    "        return help(drop_index, nums)\n",
    "        "
   ]
  },
  {
   "cell_type": "code",
   "execution_count": null,
   "metadata": {},
   "outputs": [],
   "source": [
    "\n",
    "# drop should only happen once for all elements\n",
    "# including last element\n",
    "class Solution:\n",
    "    def check(self, nums: List[int]) -> bool:\n",
    "        count = 0\n",
    "        for i in range(len(nums)):\n",
    "            if nums[i] > nums[(i+1)%len(nums)]:\n",
    "                count += 1\n",
    "            if count == 2:\n",
    "                return False\n",
    "        return True"
   ]
  },
  {
   "cell_type": "code",
   "execution_count": 52,
   "metadata": {},
   "outputs": [
    {
     "data": {
      "text/plain": [
       "True"
      ]
     },
     "execution_count": 52,
     "metadata": {},
     "output_type": "execute_result"
    }
   ],
   "source": [
    "nums = [3,4,5,1,2]\n",
    "sol = Solution()\n",
    "sol.check(nums)"
   ]
  },
  {
   "cell_type": "code",
   "execution_count": 53,
   "metadata": {},
   "outputs": [
    {
     "data": {
      "text/plain": [
       "False"
      ]
     },
     "execution_count": 53,
     "metadata": {},
     "output_type": "execute_result"
    }
   ],
   "source": [
    "nums = [2,1,3,4]\n",
    "sol = Solution()\n",
    "sol.check(nums)"
   ]
  },
  {
   "cell_type": "code",
   "execution_count": 54,
   "metadata": {},
   "outputs": [
    {
     "data": {
      "text/plain": [
       "True"
      ]
     },
     "execution_count": 54,
     "metadata": {},
     "output_type": "execute_result"
    }
   ],
   "source": [
    "nums = [1,2,3]\n",
    "sol = Solution()\n",
    "sol.check(nums)"
   ]
  },
  {
   "cell_type": "code",
   "execution_count": 55,
   "metadata": {},
   "outputs": [
    {
     "data": {
      "text/plain": [
       "True"
      ]
     },
     "execution_count": 55,
     "metadata": {},
     "output_type": "execute_result"
    }
   ],
   "source": [
    "nums = [6,10,6]\n",
    "sol = Solution()\n",
    "sol.check(nums)"
   ]
  },
  {
   "cell_type": "code",
   "execution_count": 56,
   "metadata": {},
   "outputs": [
    {
     "data": {
      "text/plain": [
       "True"
      ]
     },
     "execution_count": 56,
     "metadata": {},
     "output_type": "execute_result"
    }
   ],
   "source": [
    "nums = [1,2,1,1]\n",
    "sol = Solution()\n",
    "sol.check(nums)"
   ]
  }
 ],
 "metadata": {
  "kernelspec": {
   "display_name": "template-venv",
   "language": "python",
   "name": "python3"
  },
  "language_info": {
   "codemirror_mode": {
    "name": "ipython",
    "version": 3
   },
   "file_extension": ".py",
   "mimetype": "text/x-python",
   "name": "python",
   "nbconvert_exporter": "python",
   "pygments_lexer": "ipython3",
   "version": "3.10.4"
  },
  "orig_nbformat": 4
 },
 "nbformat": 4,
 "nbformat_minor": 2
}
