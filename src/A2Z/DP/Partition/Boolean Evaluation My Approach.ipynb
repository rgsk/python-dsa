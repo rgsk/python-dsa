{
 "cells": [
  {
   "cell_type": "code",
   "execution_count": 79,
   "metadata": {},
   "outputs": [],
   "source": [
    "def evaluateExp(exp: str) -> int:\n",
    "    # Write your code here.\n",
    "    n = len(exp)\n",
    "    def helper(i, j):\n",
    "        if i == j:\n",
    "            if exp[i] == 'T':\n",
    "                return {True: 1}\n",
    "            elif exp[i] == 'F':\n",
    "                return {False: 1}\n",
    "            return None\n",
    "        result = {True: 0, False: 0}\n",
    "        for k in range(i, j):\n",
    "            if k % 2 == 1:\n",
    "                for left, waysLeft in helper(i, k-1).items():\n",
    "                    for right, waysRight in helper(k + 1, j).items():\n",
    "                        op = exp[k]\n",
    "                        if op == '|':\n",
    "                            res = left or right\n",
    "                        elif op == '&':\n",
    "                            res = left and right\n",
    "                        else:\n",
    "                            res = left ^ right\n",
    "                        result[res] += waysLeft * waysRight\n",
    "        return result\n",
    "    return helper(0, n-1)[True]"
   ]
  },
  {
   "cell_type": "code",
   "execution_count": 80,
   "metadata": {},
   "outputs": [],
   "source": [
    "mod = 10**9 + 7\n",
    "def evaluateExp(exp: str) -> int:\n",
    "    # Write your code here.\n",
    "    n = len(exp)\n",
    "    dp = [[-1 for _ in range(n)] for _ in range(n)]\n",
    "    def helper(i, j):\n",
    "        if i == j:\n",
    "            if exp[i] == 'T':\n",
    "                return {True: 1}\n",
    "            elif exp[i] == 'F':\n",
    "                return {False: 1}\n",
    "            return None\n",
    "        if dp[i][j] != -1:\n",
    "            return dp[i][j]\n",
    "        result = {True: 0, False: 0}\n",
    "        for k in range(i, j):\n",
    "            if k % 2 == 1:\n",
    "                for left, waysLeft in helper(i, k-1).items():\n",
    "                    for right, waysRight in helper(k + 1, j).items():\n",
    "                        op = exp[k]\n",
    "                        if op == '|':\n",
    "                            res = left or right\n",
    "                        elif op == '&':\n",
    "                            res = left and right\n",
    "                        else:\n",
    "                            res = left ^ right\n",
    "                        result[res] += waysLeft * waysRight\n",
    "        dp[i][j] = result\n",
    "        return dp[i][j]\n",
    "    return helper(0, n-1)[True] % mod"
   ]
  },
  {
   "cell_type": "code",
   "execution_count": 81,
   "metadata": {},
   "outputs": [],
   "source": [
    "mod = 10**9 + 7\n",
    "def evaluateExp(exp: str) -> int:\n",
    "    # Write your code here.\n",
    "    n = len(exp)\n",
    "    dp = [[{} for _ in range(n)] for _ in range(n)]\n",
    "    for i in range(n):\n",
    "        for j in range(n):\n",
    "            if i == j:\n",
    "                if exp[i] == 'T':\n",
    "                    dp[i][j] = {True: 1}\n",
    "                elif exp[i] == 'F':\n",
    "                    dp[i][j] = {False: 1}\n",
    "        \n",
    "    for i in range(n-1, -1, -1):\n",
    "        for j in range(i + 1, n):\n",
    "            result = {True: 0, False: 0}\n",
    "            for k in range(i, j):\n",
    "                if k % 2 == 1:\n",
    "                    for left, waysLeft in dp[i][k-1].items():\n",
    "                        for right, waysRight in dp[k+1][j].items():\n",
    "                            op = exp[k]\n",
    "                            if op == '|':\n",
    "                                res = left or right\n",
    "                            elif op == '&':\n",
    "                                res = left and right\n",
    "                            else:\n",
    "                                res = left ^ right\n",
    "                            result[res] += waysLeft * waysRight\n",
    "            dp[i][j] = result\n",
    "    return dp[0][n-1][True] % mod"
   ]
  },
  {
   "cell_type": "code",
   "execution_count": 82,
   "metadata": {},
   "outputs": [],
   "source": [
    "mod = 10**9 + 7\n",
    "def evaluateExp(exp: str) -> int:\n",
    "    # Write your code here.\n",
    "    n = len(exp)\n",
    "    dp = [[[0,0] for _ in range(n)] for _ in range(n)]\n",
    "    for i in range(n):\n",
    "        for j in range(n):\n",
    "            if i == j:\n",
    "                if exp[i] == 'T':\n",
    "                    dp[i][j] = [0,1]\n",
    "                elif exp[i] == 'F':\n",
    "                    dp[i][j] = [1,0]\n",
    "        \n",
    "    for i in range(n-1, -1, -1):\n",
    "        for j in range(i + 1, n):\n",
    "            result = [0,0]\n",
    "            for k in range(i, j):\n",
    "                if k % 2 == 1:\n",
    "                    for left, waysLeft in enumerate(dp[i][k-1]):\n",
    "                        for right, waysRight in enumerate(dp[k+1][j]):\n",
    "                            op = exp[k]\n",
    "                            if op == '|':\n",
    "                                res = left or right\n",
    "                            elif op == '&':\n",
    "                                res = left and right\n",
    "                            else:\n",
    "                                res = left ^ right\n",
    "                            result[res] += waysLeft * waysRight\n",
    "            dp[i][j] = result\n",
    "    return dp[0][n-1][1] % mod"
   ]
  },
  {
   "cell_type": "code",
   "execution_count": 83,
   "metadata": {},
   "outputs": [
    {
     "data": {
      "text/plain": [
       "0"
      ]
     },
     "execution_count": 83,
     "metadata": {},
     "output_type": "execute_result"
    }
   ],
   "source": [
    "exp = \"T^T^F\"\n",
    "evaluateExp(exp)"
   ]
  },
  {
   "cell_type": "code",
   "execution_count": 84,
   "metadata": {},
   "outputs": [
    {
     "data": {
      "text/plain": [
       "2"
      ]
     },
     "execution_count": 84,
     "metadata": {},
     "output_type": "execute_result"
    }
   ],
   "source": [
    "exp = \"F|T^F\"\n",
    "evaluateExp(exp)"
   ]
  },
  {
   "cell_type": "code",
   "execution_count": 85,
   "metadata": {},
   "outputs": [
    {
     "data": {
      "text/plain": [
       "1"
      ]
     },
     "execution_count": 85,
     "metadata": {},
     "output_type": "execute_result"
    }
   ],
   "source": [
    "exp = \"T|T&F\"\n",
    "evaluateExp(exp)"
   ]
  }
 ],
 "metadata": {
  "kernelspec": {
   "display_name": "dsa-venv",
   "language": "python",
   "name": "python3"
  },
  "language_info": {
   "codemirror_mode": {
    "name": "ipython",
    "version": 3
   },
   "file_extension": ".py",
   "mimetype": "text/x-python",
   "name": "python",
   "nbconvert_exporter": "python",
   "pygments_lexer": "ipython3",
   "version": "3.11.3"
  },
  "orig_nbformat": 4
 },
 "nbformat": 4,
 "nbformat_minor": 2
}
