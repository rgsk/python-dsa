{
 "cells": [
  {
   "cell_type": "code",
   "execution_count": 144,
   "metadata": {},
   "outputs": [],
   "source": [
    "from typing import List\n",
    "\n",
    "\n",
    "INT_MAX = (2 ** 31)-1\n",
    "\n",
    "class Solution:\n",
    "    def minCost(self, n: int, cuts: List[int]) -> int:\n",
    "        length = len(cuts)\n",
    "        cuts.sort()\n",
    "        cuts = [0] + cuts + [n]\n",
    "        def helper(i, j):\n",
    "            if i > j:\n",
    "                return 0\n",
    "            minCost = INT_MAX\n",
    "            for k in range(i, j+1):\n",
    "                curCost = cuts[j+1]-cuts[i-1] + helper(i, k-1) + helper(k + 1, j)\n",
    "                minCost = min(minCost, curCost)\n",
    "            return minCost\n",
    "        return helper(1, length)"
   ]
  },
  {
   "cell_type": "code",
   "execution_count": 145,
   "metadata": {},
   "outputs": [],
   "source": [
    "from typing import List\n",
    "\n",
    "\n",
    "INT_MAX = (2 ** 31)-1\n",
    "\n",
    "class Solution:\n",
    "    def minCost(self, n: int, cuts: List[int]) -> int:\n",
    "        length = len(cuts)\n",
    "        cuts.sort()\n",
    "        cuts = [0] + cuts + [n]\n",
    "        dp = [[-1 for _ in range(length + 1)] for _ in range(length + 1)]\n",
    "        def helper(i, j):\n",
    "            if i > j:\n",
    "                return 0\n",
    "            if dp[i][j] != -1:\n",
    "                return dp[i][j]\n",
    "            minCost = INT_MAX\n",
    "            for k in range(i, j+1):\n",
    "                curCost = cuts[j+1]-cuts[i-1] + helper(i, k-1) + helper(k + 1, j)\n",
    "                minCost = min(minCost, curCost)\n",
    "            dp[i][j] = minCost\n",
    "            return dp[i][j]\n",
    "        return helper(1, length)"
   ]
  },
  {
   "cell_type": "code",
   "execution_count": 146,
   "metadata": {},
   "outputs": [],
   "source": [
    "from typing import List\n",
    "\n",
    "\n",
    "INT_MAX = (2 ** 31)-1\n",
    "\n",
    "class Solution:\n",
    "    def minCost(self, n: int, cuts: List[int]) -> int:\n",
    "        c = len(cuts)\n",
    "        cuts.sort()\n",
    "        cuts = [0] + cuts + [n]\n",
    "        dp = [[0 for _ in range(c + 2)] for _ in range(c + 2)]\n",
    "        for i in range(c,0,-1):\n",
    "            for j in range(1, c + 1):\n",
    "                if i > j:\n",
    "                    continue\n",
    "                minCost = INT_MAX\n",
    "                for k in range(i, j+1):\n",
    "                    curCost = cuts[j+1]-cuts[i-1] + dp[i][k-1] + dp[k+1][j]\n",
    "                    minCost = min(minCost, curCost)\n",
    "                dp[i][j] = minCost\n",
    "        return dp[1][c]"
   ]
  },
  {
   "cell_type": "code",
   "execution_count": 147,
   "metadata": {},
   "outputs": [
    {
     "data": {
      "text/plain": [
       "16"
      ]
     },
     "execution_count": 147,
     "metadata": {},
     "output_type": "execute_result"
    }
   ],
   "source": [
    "n = 7\n",
    "cuts = [1,3,4,5]\n",
    "sol = Solution()\n",
    "sol.minCost(n, cuts)"
   ]
  },
  {
   "cell_type": "code",
   "execution_count": 148,
   "metadata": {},
   "outputs": [
    {
     "data": {
      "text/plain": [
       "22"
      ]
     },
     "execution_count": 148,
     "metadata": {},
     "output_type": "execute_result"
    }
   ],
   "source": [
    "n = 9\n",
    "cuts = [5,6,1,4,2]\n",
    "sol = Solution()\n",
    "sol.minCost(n, cuts)"
   ]
  }
 ],
 "metadata": {
  "kernelspec": {
   "display_name": "dsa-venv",
   "language": "python",
   "name": "python3"
  },
  "language_info": {
   "codemirror_mode": {
    "name": "ipython",
    "version": 3
   },
   "file_extension": ".py",
   "mimetype": "text/x-python",
   "name": "python",
   "nbconvert_exporter": "python",
   "pygments_lexer": "ipython3",
   "version": "3.11.3"
  },
  "orig_nbformat": 4
 },
 "nbformat": 4,
 "nbformat_minor": 2
}
