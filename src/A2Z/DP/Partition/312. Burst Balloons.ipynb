{
 "cells": [
  {
   "cell_type": "code",
   "execution_count": 73,
   "metadata": {},
   "outputs": [],
   "source": [
    "from typing import List\n",
    "\n",
    "\n",
    "class Solution:\n",
    "    def maxCoins(self, nums: List[int]) -> int:\n",
    "        n = len(nums)\n",
    "        nums = [1] + nums + [1]\n",
    "        def helper(i, j):\n",
    "            maxCoins = 0\n",
    "            for k in range(i+1, j):\n",
    "                cur = nums[i] * nums[k] * nums[j] + helper(i, k) + helper(k, j)\n",
    "                maxCoins = max(maxCoins, cur)\n",
    "            return maxCoins\n",
    "        return helper(0, n + 1)"
   ]
  },
  {
   "cell_type": "code",
   "execution_count": 74,
   "metadata": {},
   "outputs": [],
   "source": [
    "from typing import List\n",
    "\n",
    "\n",
    "class Solution:\n",
    "    def maxCoins(self, nums: List[int]) -> int:\n",
    "        n = len(nums)\n",
    "        nums = [1] + nums + [1]\n",
    "        dp = [[-1 for j in range(n + 2)] for i in range(n + 2)]\n",
    "        def helper(i, j):\n",
    "            if dp[i][j] != -1:\n",
    "                return dp[i][j]\n",
    "            maxCoins = 0\n",
    "            for k in range(i+1, j):\n",
    "                cur = nums[i] * nums[k] * nums[j] + helper(i, k) + helper(k, j)\n",
    "                maxCoins = max(maxCoins, cur)\n",
    "            dp[i][j] = maxCoins\n",
    "            return dp[i][j]\n",
    "        return helper(0, n + 1)"
   ]
  },
  {
   "cell_type": "code",
   "execution_count": 75,
   "metadata": {},
   "outputs": [],
   "source": [
    "from typing import List\n",
    "\n",
    "\n",
    "class Solution:\n",
    "    def maxCoins(self, nums: List[int]) -> int:\n",
    "        n = len(nums)\n",
    "        nums = [1] + nums + [1]\n",
    "        dp = [[0 for j in range(n + 2)] for i in range(n + 2)]\n",
    "        for i in range(n + 1, -1, -1):\n",
    "            for j in range(i + 2, n + 2):\n",
    "                maxCoins = 0\n",
    "                for k in range(i+1, j):\n",
    "                    cur = nums[i] * nums[k] * nums[j] + dp[i][k] + dp[k][j]\n",
    "                    maxCoins = max(maxCoins, cur)\n",
    "                dp[i][j] = maxCoins\n",
    "        return dp[0][n+1]\n",
    "        "
   ]
  },
  {
   "cell_type": "code",
   "execution_count": 76,
   "metadata": {},
   "outputs": [
    {
     "data": {
      "text/plain": [
       "167"
      ]
     },
     "execution_count": 76,
     "metadata": {},
     "output_type": "execute_result"
    }
   ],
   "source": [
    "nums = [3,1,5,8]\n",
    "sol = Solution()\n",
    "sol.maxCoins(nums)"
   ]
  },
  {
   "cell_type": "code",
   "execution_count": 77,
   "metadata": {},
   "outputs": [
    {
     "data": {
      "text/plain": [
       "10"
      ]
     },
     "execution_count": 77,
     "metadata": {},
     "output_type": "execute_result"
    }
   ],
   "source": [
    "nums = [1,5]\n",
    "sol = Solution()\n",
    "sol.maxCoins(nums)"
   ]
  }
 ],
 "metadata": {
  "kernelspec": {
   "display_name": "dsa-venv",
   "language": "python",
   "name": "python3"
  },
  "language_info": {
   "codemirror_mode": {
    "name": "ipython",
    "version": 3
   },
   "file_extension": ".py",
   "mimetype": "text/x-python",
   "name": "python",
   "nbconvert_exporter": "python",
   "pygments_lexer": "ipython3",
   "version": "3.11.3"
  },
  "orig_nbformat": 4
 },
 "nbformat": 4,
 "nbformat_minor": 2
}
