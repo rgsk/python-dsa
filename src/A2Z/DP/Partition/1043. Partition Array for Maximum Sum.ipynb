{
 "cells": [
  {
   "cell_type": "code",
   "execution_count": 62,
   "metadata": {},
   "outputs": [],
   "source": [
    "from typing import List\n",
    "\n",
    "\n",
    "class Solution:\n",
    "    def maxSumAfterPartitioning(self, arr: List[int], k: int) -> int:\n",
    "        n = len(arr)\n",
    "        def helper(i):\n",
    "            if i == n:\n",
    "                return 0\n",
    "            maxVal = 0\n",
    "            for j in range(i, min(i+k, n)):\n",
    "                cur = max(arr[i:j+1]) * (j - i + 1) + helper(j + 1)\n",
    "                maxVal = max(maxVal, cur)\n",
    "            return maxVal\n",
    "        return helper(0)\n",
    "       "
   ]
  },
  {
   "cell_type": "code",
   "execution_count": 63,
   "metadata": {},
   "outputs": [],
   "source": [
    "from typing import List\n",
    "\n",
    "\n",
    "class Solution:\n",
    "    def maxSumAfterPartitioning(self, arr: List[int], k: int) -> int:\n",
    "        n = len(arr)\n",
    "        dp = [-1] * n\n",
    "        def helper(i):\n",
    "            if i == n:\n",
    "                return 0\n",
    "            if dp[i] != -1:\n",
    "                return dp[i]\n",
    "            maxVal = 0\n",
    "            maxMultiplier = arr[i]\n",
    "            for j in range(i, min(i+k, n)):\n",
    "                maxMultiplier = max(maxMultiplier, arr[j])\n",
    "                cur = maxMultiplier * (j - i + 1) + helper(j + 1)\n",
    "                maxVal = max(maxVal, cur)\n",
    "            dp[i] = maxVal\n",
    "            return dp[i]\n",
    "        return helper(0)\n",
    "       "
   ]
  },
  {
   "cell_type": "code",
   "execution_count": 64,
   "metadata": {},
   "outputs": [],
   "source": [
    "from typing import List\n",
    "\n",
    "\n",
    "class Solution:\n",
    "    def maxSumAfterPartitioning(self, arr: List[int], k: int) -> int:\n",
    "        n = len(arr)\n",
    "        dp = [0] * (n+1)\n",
    "        for i in range(n-1,-1,-1):\n",
    "            maxVal = 0\n",
    "            maxMultiplier = arr[i]\n",
    "            for j in range(i, min(i+k, n)):\n",
    "                maxMultiplier = max(maxMultiplier, arr[j])\n",
    "                cur = maxMultiplier * (j - i + 1) + dp[j+1]\n",
    "                maxVal = max(maxVal, cur)\n",
    "            dp[i] = maxVal\n",
    "\n",
    "        return dp[0]\n",
    "       "
   ]
  },
  {
   "cell_type": "code",
   "execution_count": 65,
   "metadata": {},
   "outputs": [
    {
     "data": {
      "text/plain": [
       "84"
      ]
     },
     "execution_count": 65,
     "metadata": {},
     "output_type": "execute_result"
    }
   ],
   "source": [
    "arr = [1,15,7,9,2,5,10]\n",
    "k = 3\n",
    "sol = Solution()\n",
    "sol.maxSumAfterPartitioning(arr, k)"
   ]
  },
  {
   "cell_type": "code",
   "execution_count": 66,
   "metadata": {},
   "outputs": [
    {
     "data": {
      "text/plain": [
       "83"
      ]
     },
     "execution_count": 66,
     "metadata": {},
     "output_type": "execute_result"
    }
   ],
   "source": [
    "arr = [1,4,1,5,7,3,6,1,9,9,3]\n",
    "k = 4\n",
    "sol = Solution()\n",
    "sol.maxSumAfterPartitioning(arr, k)"
   ]
  },
  {
   "cell_type": "code",
   "execution_count": 67,
   "metadata": {},
   "outputs": [
    {
     "data": {
      "text/plain": [
       "1"
      ]
     },
     "execution_count": 67,
     "metadata": {},
     "output_type": "execute_result"
    }
   ],
   "source": [
    "arr = [1]\n",
    "k = 1\n",
    "sol = Solution()\n",
    "sol.maxSumAfterPartitioning(arr, k)"
   ]
  }
 ],
 "metadata": {
  "kernelspec": {
   "display_name": "dsa-venv",
   "language": "python",
   "name": "python3"
  },
  "language_info": {
   "codemirror_mode": {
    "name": "ipython",
    "version": 3
   },
   "file_extension": ".py",
   "mimetype": "text/x-python",
   "name": "python",
   "nbconvert_exporter": "python",
   "pygments_lexer": "ipython3",
   "version": "3.11.3"
  },
  "orig_nbformat": 4
 },
 "nbformat": 4,
 "nbformat_minor": 2
}
