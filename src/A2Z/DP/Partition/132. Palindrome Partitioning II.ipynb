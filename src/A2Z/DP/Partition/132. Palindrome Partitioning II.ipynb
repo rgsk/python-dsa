{
 "cells": [
  {
   "cell_type": "code",
   "execution_count": 311,
   "metadata": {},
   "outputs": [],
   "source": [
    "\n",
    "from math import inf\n",
    "\n",
    "\n",
    "def isPalindrome(s: str, i, j):\n",
    "    while i < j:\n",
    "        if s[i] != s[j]:\n",
    "            return False\n",
    "        i += 1\n",
    "        j -= 1\n",
    "    return True\n",
    "\n",
    "class Solution:\n",
    "    def minCut(self, s: str) -> int:\n",
    "        n = len(s)\n",
    "        def helper(i):\n",
    "            if i == n:\n",
    "                return 0\n",
    "            minCount = inf\n",
    "            for k in range(i, n):\n",
    "                if isPalindrome(s, i, k):\n",
    "                    minCount = min(1 + helper(k+1), minCount)\n",
    "            return minCount\n",
    "        return helper(0) - 1"
   ]
  },
  {
   "cell_type": "code",
   "execution_count": 312,
   "metadata": {},
   "outputs": [],
   "source": [
    "\n",
    "from math import inf\n",
    "\n",
    "\n",
    "def isPalindrome(s: str, i, j):\n",
    "    while i < j:\n",
    "        if s[i] != s[j]:\n",
    "            return False\n",
    "        i += 1\n",
    "        j -= 1\n",
    "    return True\n",
    "\n",
    "class Solution:\n",
    "    def minCut(self, s: str) -> int:\n",
    "        n = len(s)\n",
    "        dp = [-1] * n\n",
    "        def helper(i):\n",
    "            if i == n:\n",
    "                return 0\n",
    "            if dp[i] != -1:\n",
    "                return dp[i]\n",
    "            minCount = inf\n",
    "            for k in range(i, n):\n",
    "                if isPalindrome(s, i, k):\n",
    "                    minCount = min(1 + helper(k+1), minCount)\n",
    "            dp[i] = minCount\n",
    "            return dp[i]\n",
    "        return helper(0) - 1"
   ]
  },
  {
   "cell_type": "code",
   "execution_count": 313,
   "metadata": {},
   "outputs": [],
   "source": [
    "\n",
    "from math import inf\n",
    "\n",
    "\n",
    "def isPalindrome(s: str, i, j):\n",
    "    while i < j:\n",
    "        if s[i] != s[j]:\n",
    "            return False\n",
    "        i += 1\n",
    "        j -= 1\n",
    "    return True\n",
    "\n",
    "class Solution:\n",
    "    def minCut(self, s: str) -> int:\n",
    "        n = len(s)\n",
    "        dp = [0] * (n+1)\n",
    "        for i in range(n-1, -1, -1):\n",
    "            minCount = inf\n",
    "            for k in range(i, n):\n",
    "                if isPalindrome(s, i, k):\n",
    "                    minCount = min(1 + dp[k+1], minCount)\n",
    "            dp[i] = minCount\n",
    "        return dp[0] - 1"
   ]
  },
  {
   "cell_type": "code",
   "execution_count": 314,
   "metadata": {},
   "outputs": [],
   "source": [
    "def precompute_palindromes(s):\n",
    "    n = len(s)\n",
    "    # Create a table to store palindrome information for substrings\n",
    "    palindrome_table = [[False] * n for _ in range(n)]\n",
    "\n",
    "    # All substrings of length 1 are palindromes\n",
    "    for i in range(n):\n",
    "        palindrome_table[i][i] = True\n",
    "\n",
    "    # Check substrings of length 2\n",
    "    for i in range(n - 1):\n",
    "        palindrome_table[i][i + 1] = (s[i] == s[i + 1])\n",
    "\n",
    "    # Check substrings of length 3 and greater\n",
    "    for length in range(3, n + 1):\n",
    "        for start in range(n - length + 1):\n",
    "            end = start + length - 1\n",
    "            palindrome_table[start][end] = (\n",
    "                palindrome_table[start + 1][end - 1] and s[start] == s[end]\n",
    "            )\n",
    "\n",
    "    return palindrome_table\n",
    "\n",
    "\n",
    "def is_palindrome(precomputed_table, start, end):\n",
    "    return precomputed_table[start][end]\n",
    "\n",
    "\n",
    "class Solution:\n",
    "    def minCut(self, s: str) -> int:\n",
    "        n = len(s)\n",
    "        dp = [0] * (n+1)\n",
    "        table = precompute_palindromes(s)\n",
    "        for i in range(n-1, -1, -1):\n",
    "            minCount = inf\n",
    "            for k in range(i, n):\n",
    "                if is_palindrome(table, i, k):\n",
    "                    minCount = min(1 + dp[k+1], minCount)\n",
    "            dp[i] = minCount\n",
    "        return dp[0] - 1"
   ]
  },
  {
   "cell_type": "code",
   "execution_count": 315,
   "metadata": {},
   "outputs": [
    {
     "data": {
      "text/plain": [
       "1"
      ]
     },
     "execution_count": 315,
     "metadata": {},
     "output_type": "execute_result"
    }
   ],
   "source": [
    "s = \"aab\"\n",
    "sol = Solution()\n",
    "sol.minCut(s)"
   ]
  },
  {
   "cell_type": "code",
   "execution_count": 316,
   "metadata": {},
   "outputs": [
    {
     "data": {
      "text/plain": [
       "0"
      ]
     },
     "execution_count": 316,
     "metadata": {},
     "output_type": "execute_result"
    }
   ],
   "source": [
    "s = \"a\"\n",
    "sol = Solution()\n",
    "sol.minCut(s)"
   ]
  },
  {
   "cell_type": "code",
   "execution_count": 317,
   "metadata": {},
   "outputs": [
    {
     "data": {
      "text/plain": [
       "1"
      ]
     },
     "execution_count": 317,
     "metadata": {},
     "output_type": "execute_result"
    }
   ],
   "source": [
    "s = \"ab\"\n",
    "sol = Solution()\n",
    "sol.minCut(s)"
   ]
  },
  {
   "cell_type": "code",
   "execution_count": 318,
   "metadata": {},
   "outputs": [
    {
     "data": {
      "text/plain": [
       "3"
      ]
     },
     "execution_count": 318,
     "metadata": {},
     "output_type": "execute_result"
    }
   ],
   "source": [
    "s = \"abcd\"\n",
    "sol = Solution()\n",
    "sol.minCut(s)"
   ]
  }
 ],
 "metadata": {
  "kernelspec": {
   "display_name": "dsa-venv",
   "language": "python",
   "name": "python3"
  },
  "language_info": {
   "codemirror_mode": {
    "name": "ipython",
    "version": 3
   },
   "file_extension": ".py",
   "mimetype": "text/x-python",
   "name": "python",
   "nbconvert_exporter": "python",
   "pygments_lexer": "ipython3",
   "version": "3.11.3"
  },
  "orig_nbformat": 4
 },
 "nbformat": 4,
 "nbformat_minor": 2
}
