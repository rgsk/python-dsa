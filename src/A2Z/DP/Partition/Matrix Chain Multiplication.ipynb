{
 "cells": [
  {
   "cell_type": "code",
   "execution_count": 68,
   "metadata": {},
   "outputs": [],
   "source": [
    "# in arg we are given number of matrices\n",
    "INT_MAX = (2 ** 31)-1\n",
    "\n",
    "def mcm(p,n):\n",
    "\t# Write your code here\n",
    "    n += 1\n",
    "    def helper(i, j):\n",
    "        if i == j:\n",
    "            return 0\n",
    "        minOps = INT_MAX\n",
    "        for k in range(i, j):\n",
    "            ops = (p[i - 1] * p[k] * p[j]) + helper(i, k) + helper(k + 1, j)\n",
    "            minOps = min(minOps, ops)\n",
    "        return minOps\n",
    "    return helper(1, n-1)"
   ]
  },
  {
   "cell_type": "code",
   "execution_count": 69,
   "metadata": {},
   "outputs": [],
   "source": [
    "# in arg we are given number of matrices\n",
    "INT_MAX = (2 ** 31)-1\n",
    "\n",
    "def mcm(p,n):\n",
    "\t# Write your code here\n",
    "    n += 1\n",
    "    dp = [[-1 for _ in range(n)] for _ in range(n)]\n",
    "    def helper(i, j):\n",
    "        if i == j:\n",
    "            return 0\n",
    "        if dp[i][j] != -1:\n",
    "            return dp[i][j]\n",
    "        minOps = INT_MAX\n",
    "        for k in range(i, j):\n",
    "            ops = (p[i - 1] * p[k] * p[j]) + helper(i, k) + helper(k + 1, j)\n",
    "            minOps = min(minOps, ops)\n",
    "        dp[i][j] = minOps\n",
    "        return dp[i][j]\n",
    "    return helper(1, n-1)"
   ]
  },
  {
   "cell_type": "code",
   "execution_count": 70,
   "metadata": {},
   "outputs": [],
   "source": [
    "# in arg we are given number of matrices\n",
    "INT_MAX = (2 ** 31)-1\n",
    "\n",
    "def mcm(p,n):\n",
    "\t# Write your code here\n",
    "    n += 1\n",
    "    dp = [[INT_MAX for _ in range(n)] for _ in range(n)]\n",
    "    for i in range(n):\n",
    "        for j in range(n):\n",
    "            if i == j:\n",
    "                dp[i][j] = 0\n",
    "\n",
    "    for i in range(n-1, 0, -1):\n",
    "        for j in range(i+1, n):\n",
    "            minOps = INT_MAX\n",
    "            for k in range(i, j):\n",
    "                ops = (p[i - 1] * p[k] * p[j]) + dp[i][k] + dp[k+1][j]\n",
    "                minOps = min(minOps, ops)\n",
    "            dp[i][j] = minOps\n",
    "    return dp[1][n-1]"
   ]
  },
  {
   "cell_type": "code",
   "execution_count": 71,
   "metadata": {},
   "outputs": [],
   "source": [
    "# in arg we are given number of matrices\n",
    "INT_MAX = (2 ** 31)-1\n",
    "\n",
    "def mcm(p,n):\n",
    "\t# Write your code here\n",
    "    n += 1\n",
    "    dp = [[0 for _ in range(n)] for _ in range(n)]\n",
    "    for i in range(n-1, 0, -1):\n",
    "        for j in range(i+1, n):\n",
    "            minOps = INT_MAX\n",
    "            for k in range(i, j):\n",
    "                ops = (p[i - 1] * p[k] * p[j]) + dp[i][k] + dp[k+1][j]\n",
    "                minOps = min(minOps, ops)\n",
    "            dp[i][j] = minOps\n",
    "    return dp[1][n-1]"
   ]
  },
  {
   "cell_type": "code",
   "execution_count": 72,
   "metadata": {},
   "outputs": [
    {
     "data": {
      "text/plain": [
       "8000"
      ]
     },
     "execution_count": 72,
     "metadata": {},
     "output_type": "execute_result"
    }
   ],
   "source": [
    "n = 3\n",
    "p = [10, 15, 20, 25]\n",
    "mcm(p, n)"
   ]
  }
 ],
 "metadata": {
  "kernelspec": {
   "display_name": "dsa-venv",
   "language": "python",
   "name": "python3"
  },
  "language_info": {
   "codemirror_mode": {
    "name": "ipython",
    "version": 3
   },
   "file_extension": ".py",
   "mimetype": "text/x-python",
   "name": "python",
   "nbconvert_exporter": "python",
   "pygments_lexer": "ipython3",
   "version": "3.11.3"
  },
  "orig_nbformat": 4
 },
 "nbformat": 4,
 "nbformat_minor": 2
}
