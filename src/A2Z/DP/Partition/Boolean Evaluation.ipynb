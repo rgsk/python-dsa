{
 "cells": [
  {
   "cell_type": "code",
   "execution_count": 45,
   "metadata": {},
   "outputs": [],
   "source": [
    "def evaluateExp(exp: str) -> int:\n",
    "    # Write your code here.\n",
    "    n = len(exp)\n",
    "    def helper(i, j, isTrue):\n",
    "        if i == j:\n",
    "            if isTrue:\n",
    "                return 1 if exp[i] == 'T' else 0\n",
    "            else:\n",
    "                return 1 if exp[i] == 'F' else 0\n",
    "        ways = 0\n",
    "        for k in range(i + 1, j, 2):\n",
    "            op = exp[k]\n",
    "            tt = helper(i, k - 1, True) * helper(k + 1, j, True)\n",
    "            ft = helper(i, k - 1, False) * helper(k + 1, j, True)\n",
    "            tf = helper(i, k - 1, True) * helper(k + 1, j, False)\n",
    "            ff = helper(i, k - 1, False) * helper(k + 1, j, False)\n",
    "            if isTrue:\n",
    "                if op == '|':\n",
    "                    ways += tt\n",
    "                    ways += ft\n",
    "                    ways += tf\n",
    "                elif op == '&':\n",
    "                    ways += tt\n",
    "                else:\n",
    "                    # ^\n",
    "                    ways += tf\n",
    "                    ways += ft\n",
    "            else:\n",
    "                if op == '|':\n",
    "                    ways += ff\n",
    "                elif op == '&':\n",
    "                    ways += ff\n",
    "                    ways += ft\n",
    "                    ways += tf\n",
    "                else:\n",
    "                    # ^\n",
    "                    ways += ff\n",
    "                    ways += tt\n",
    "            \n",
    "        return ways\n",
    "    return helper(0, n-1, True)    \n"
   ]
  },
  {
   "cell_type": "code",
   "execution_count": 46,
   "metadata": {},
   "outputs": [],
   "source": [
    "mod = 10**9 + 7\n",
    "\n",
    "def evaluateExp(exp: str) -> int:\n",
    "    # Write your code here.\n",
    "    n = len(exp)\n",
    "    dp = [[[-1,-1] for _ in range(n)] for _ in range(n)]\n",
    "    def helper(i, j, isTrue):\n",
    "        if i == j:\n",
    "            if isTrue:\n",
    "                return 1 if exp[i] == 'T' else 0\n",
    "            else:\n",
    "                return 1 if exp[i] == 'F' else 0\n",
    "        if dp[i][j][isTrue] != -1:\n",
    "            return dp[i][j][isTrue]\n",
    "        ways = 0\n",
    "        for k in range(i + 1, j, 2):\n",
    "            op = exp[k]\n",
    "            tt = helper(i, k - 1, 1) * helper(k + 1, j, 1)\n",
    "            ft = helper(i, k - 1, 0) * helper(k + 1, j, 1)\n",
    "            tf = helper(i, k - 1, 1) * helper(k + 1, j, 0)\n",
    "            ff = helper(i, k - 1, 0) * helper(k + 1, j, 0)\n",
    "            if isTrue:\n",
    "                if op == '|':\n",
    "                    ways += tt\n",
    "                    ways += ft\n",
    "                    ways += tf\n",
    "                elif op == '&':\n",
    "                    ways += tt\n",
    "                else:\n",
    "                    # ^\n",
    "                    ways += tf\n",
    "                    ways += ft\n",
    "            else:\n",
    "                if op == '|':\n",
    "                    ways += ff\n",
    "                elif op == '&':\n",
    "                    ways += ff\n",
    "                    ways += ft\n",
    "                    ways += tf\n",
    "                else:\n",
    "                    # ^\n",
    "                    ways += ff\n",
    "                    ways += tt\n",
    "            \n",
    "        dp[i][j][isTrue] = ways\n",
    "        return dp[i][j][isTrue]\n",
    "    return helper(0, n-1, 1) % mod  \n"
   ]
  },
  {
   "cell_type": "code",
   "execution_count": null,
   "metadata": {},
   "outputs": [],
   "source": [
    "mod = 10**9 + 7\n",
    "\n",
    "def evaluateExp(exp: str) -> int:\n",
    "    # Write your code here.\n",
    "    n = len(exp)\n",
    "    dp = [[[-1,-1] for _ in range(n)] for _ in range(n)]\n",
    "    def helper(i, j, isTrue):\n",
    "        if i == j:\n",
    "            if isTrue:\n",
    "                return 1 if exp[i] == 'T' else 0\n",
    "            else:\n",
    "                return 1 if exp[i] == 'F' else 0\n",
    "        if dp[i][j][isTrue] != -1:\n",
    "            return dp[i][j][isTrue]\n",
    "        ways = 0\n",
    "        for k in range(i + 1, j, 2):\n",
    "            op = exp[k]\n",
    "            tt = helper(i, k - 1, 1) * helper(k + 1, j, 1)\n",
    "            ft = helper(i, k - 1, 0) * helper(k + 1, j, 1)\n",
    "            tf = helper(i, k - 1, 1) * helper(k + 1, j, 0)\n",
    "            ff = helper(i, k - 1, 0) * helper(k + 1, j, 0)\n",
    "            if isTrue:\n",
    "                if op == '|':\n",
    "                    ways += tt\n",
    "                    ways += ft\n",
    "                    ways += tf\n",
    "                elif op == '&':\n",
    "                    ways += tt\n",
    "                else:\n",
    "                    # ^\n",
    "                    ways += tf\n",
    "                    ways += ft\n",
    "            else:\n",
    "                if op == '|':\n",
    "                    ways += ff\n",
    "                elif op == '&':\n",
    "                    ways += ff\n",
    "                    ways += ft\n",
    "                    ways += tf\n",
    "                else:\n",
    "                    # ^\n",
    "                    ways += ff\n",
    "                    ways += tt\n",
    "            \n",
    "        dp[i][j][isTrue] = ways\n",
    "        return dp[i][j][isTrue]\n",
    "    return helper(0, n-1, 1) % mod  \n"
   ]
  },
  {
   "cell_type": "code",
   "execution_count": 47,
   "metadata": {},
   "outputs": [
    {
     "data": {
      "text/plain": [
       "0"
      ]
     },
     "execution_count": 47,
     "metadata": {},
     "output_type": "execute_result"
    }
   ],
   "source": [
    "exp = \"T^T^F\"\n",
    "evaluateExp(exp)"
   ]
  },
  {
   "cell_type": "code",
   "execution_count": 48,
   "metadata": {},
   "outputs": [
    {
     "data": {
      "text/plain": [
       "2"
      ]
     },
     "execution_count": 48,
     "metadata": {},
     "output_type": "execute_result"
    }
   ],
   "source": [
    "exp = \"F|T^F\"\n",
    "evaluateExp(exp)"
   ]
  },
  {
   "cell_type": "code",
   "execution_count": 49,
   "metadata": {},
   "outputs": [
    {
     "data": {
      "text/plain": [
       "1"
      ]
     },
     "execution_count": 49,
     "metadata": {},
     "output_type": "execute_result"
    }
   ],
   "source": [
    "exp = \"T|T&F\"\n",
    "evaluateExp(exp)"
   ]
  },
  {
   "cell_type": "code",
   "execution_count": 50,
   "metadata": {},
   "outputs": [
    {
     "data": {
      "text/plain": [
       "1"
      ]
     },
     "execution_count": 50,
     "metadata": {},
     "output_type": "execute_result"
    }
   ],
   "source": [
    "exp = \"T|T\"\n",
    "evaluateExp(exp)"
   ]
  }
 ],
 "metadata": {
  "kernelspec": {
   "display_name": "dsa-venv",
   "language": "python",
   "name": "python3"
  },
  "language_info": {
   "codemirror_mode": {
    "name": "ipython",
    "version": 3
   },
   "file_extension": ".py",
   "mimetype": "text/x-python",
   "name": "python",
   "nbconvert_exporter": "python",
   "pygments_lexer": "ipython3",
   "version": "3.11.3"
  },
  "orig_nbformat": 4
 },
 "nbformat": 4,
 "nbformat_minor": 2
}
