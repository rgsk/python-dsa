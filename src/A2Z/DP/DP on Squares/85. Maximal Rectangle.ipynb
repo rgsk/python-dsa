{
 "cells": [
  {
   "cell_type": "code",
   "execution_count": null,
   "metadata": {},
   "outputs": [],
   "source": [
    "# https://leetcode.com/problems/maximal-rectangle/"
   ]
  },
  {
   "cell_type": "code",
   "execution_count": 9,
   "metadata": {},
   "outputs": [],
   "source": [
    "from typing import List\n",
    "\n",
    "\n",
    "class Solution:\n",
    "    # code from 84 th question\n",
    "    def largestRectangleArea(self, heights: List[int]) -> int:\n",
    "        n = len(heights)\n",
    "        min_prev = [0 for _ in range(n)]\n",
    "        min_next = [0 for _ in range(n)]\n",
    "        min_next[n-1] = n\n",
    "        min_prev[0] = -1\n",
    "        for i in range(1, n):\n",
    "            p = i - 1\n",
    "            while p >= 0 and heights[p] >= heights[i]:\n",
    "                p = min_prev[p]\n",
    "            min_prev[i] = p\n",
    "        for i in range(n-2, -1, -1):\n",
    "            p = i + 1\n",
    "            while p < n and heights[p] >= heights[i]:\n",
    "                p = min_next[p]\n",
    "            min_next[i] = p\n",
    "        max_area = 0\n",
    "        # print(min_prev)\n",
    "        # print(min_next)\n",
    "        for i in range(n):\n",
    "            max_area = max(max_area, heights[i] * (min_next[i] - min_prev[i] - 1))\n",
    "        return max_area\n",
    "    \n",
    "    def maximalRectangle(self, matrix: List[List[str]]) -> int:\n",
    "        rows = len(matrix)\n",
    "        cols = len(matrix[0])\n",
    "        track_height = [[0 for _ in range(cols)] for _ in range(rows)]\n",
    "        for i in range(rows):\n",
    "            for j in range(cols):\n",
    "                if matrix[i][j] == '1':\n",
    "                    track_height[i][j] = track_height[i-1][j] + 1\n",
    "        max_area = 0\n",
    "        for histogram in track_height:\n",
    "            max_area = max(max_area, self.largestRectangleArea(histogram))\n",
    "        return max_area\n",
    "\n"
   ]
  },
  {
   "cell_type": "code",
   "execution_count": 10,
   "metadata": {},
   "outputs": [
    {
     "data": {
      "text/plain": [
       "6"
      ]
     },
     "execution_count": 10,
     "metadata": {},
     "output_type": "execute_result"
    }
   ],
   "source": [
    "matrix = [[\"1\", \"0\", \"1\", \"0\", \"0\"],\n",
    "          [\"1\", \"0\", \"1\", \"1\", \"1\"],\n",
    "          [\"1\", \"1\", \"1\", \"1\", \"1\"], \n",
    "          [\"1\", \"0\", \"0\", \"1\", \"0\"]]\n",
    "sol = Solution()\n",
    "sol.maximalRectangle(matrix)"
   ]
  },
  {
   "cell_type": "code",
   "execution_count": 11,
   "metadata": {},
   "outputs": [
    {
     "data": {
      "text/plain": [
       "0"
      ]
     },
     "execution_count": 11,
     "metadata": {},
     "output_type": "execute_result"
    }
   ],
   "source": [
    "matrix = [[\"0\"]]\n",
    "sol = Solution()\n",
    "sol.maximalRectangle(matrix)"
   ]
  },
  {
   "cell_type": "code",
   "execution_count": 12,
   "metadata": {},
   "outputs": [
    {
     "data": {
      "text/plain": [
       "1"
      ]
     },
     "execution_count": 12,
     "metadata": {},
     "output_type": "execute_result"
    }
   ],
   "source": [
    "matrix = [[\"1\"]]\n",
    "sol = Solution()\n",
    "sol.maximalRectangle(matrix)"
   ]
  }
 ],
 "metadata": {
  "kernelspec": {
   "display_name": "dsa-venv",
   "language": "python",
   "name": "python3"
  },
  "language_info": {
   "codemirror_mode": {
    "name": "ipython",
    "version": 3
   },
   "file_extension": ".py",
   "mimetype": "text/x-python",
   "name": "python",
   "nbconvert_exporter": "python",
   "pygments_lexer": "ipython3",
   "version": "3.11.3"
  },
  "orig_nbformat": 4
 },
 "nbformat": 4,
 "nbformat_minor": 2
}
