{
 "cells": [
  {
   "cell_type": "code",
   "execution_count": 67,
   "metadata": {},
   "outputs": [],
   "source": [
    "from typing import List\n",
    "\n",
    "def check(a, b):\n",
    "    if len(b) != len(a) + 1:\n",
    "        return False\n",
    "    i = 0\n",
    "    j = 0\n",
    "    diff_found = False\n",
    "    while i < len(a):\n",
    "        if a[i] != b[j]:\n",
    "            if diff_found:\n",
    "                return False\n",
    "            diff_found = True\n",
    "            j += 1\n",
    "        else:\n",
    "            i += 1\n",
    "            j += 1\n",
    "    if diff_found:\n",
    "        return j == len(b)\n",
    "    else:\n",
    "        return j == len(b) - 1\n",
    "    \n",
    "class Solution:\n",
    "    def longestStrChain(self, words: List[str]) -> int:\n",
    "        words.sort(key=lambda x: len(x))\n",
    "        n = len(words)\n",
    "        dp = [1] * n\n",
    "        maxi = 1\n",
    "\n",
    "        for ind in range(1, n):\n",
    "            for prev in range(ind):\n",
    "                if check(words[prev], words[ind]):\n",
    "                    dp[ind] = max(dp[ind], 1 + dp[prev])\n",
    "            maxi = max(maxi, dp[ind])\n",
    "        return maxi"
   ]
  },
  {
   "cell_type": "code",
   "execution_count": 68,
   "metadata": {},
   "outputs": [],
   "source": [
    "class Solution:\n",
    "    def longestStrChain(self, words):\n",
    "        dp = {}\n",
    "        for w in sorted(words, key=len):\n",
    "            dp[w] = max(dp.get(w[:i] + w[i + 1:], 0) + 1 for i in range(len(w)))\n",
    "        return max(dp.values())"
   ]
  },
  {
   "cell_type": "code",
   "execution_count": 69,
   "metadata": {},
   "outputs": [
    {
     "data": {
      "text/plain": [
       "4"
      ]
     },
     "execution_count": 69,
     "metadata": {},
     "output_type": "execute_result"
    }
   ],
   "source": [
    "words = [\"a\",\"b\",\"ba\",\"bca\",\"bda\",\"bdca\"]\n",
    "sol = Solution()\n",
    "sol.longestStrChain(words)"
   ]
  },
  {
   "cell_type": "code",
   "execution_count": 70,
   "metadata": {},
   "outputs": [
    {
     "data": {
      "text/plain": [
       "5"
      ]
     },
     "execution_count": 70,
     "metadata": {},
     "output_type": "execute_result"
    }
   ],
   "source": [
    "words = [\"xbc\",\"pcxbcf\",\"xb\",\"cxbc\",\"pcxbc\"]\n",
    "sol = Solution()\n",
    "sol.longestStrChain(words)"
   ]
  },
  {
   "cell_type": "code",
   "execution_count": 71,
   "metadata": {},
   "outputs": [
    {
     "data": {
      "text/plain": [
       "1"
      ]
     },
     "execution_count": 71,
     "metadata": {},
     "output_type": "execute_result"
    }
   ],
   "source": [
    "words = [\"abcd\",\"dbqca\"]\n",
    "sol = Solution()\n",
    "sol.longestStrChain(words)"
   ]
  },
  {
   "cell_type": "code",
   "execution_count": 72,
   "metadata": {},
   "outputs": [
    {
     "data": {
      "text/plain": [
       "2"
      ]
     },
     "execution_count": 72,
     "metadata": {},
     "output_type": "execute_result"
    }
   ],
   "source": [
    "words = [\"a\",\"b\",\"ba\",\"abc\",\"abd\",\"bdca\"]\n",
    "sol = Solution()\n",
    "sol.longestStrChain(words)"
   ]
  }
 ],
 "metadata": {
  "kernelspec": {
   "display_name": "dsa-venv",
   "language": "python",
   "name": "python3"
  },
  "language_info": {
   "codemirror_mode": {
    "name": "ipython",
    "version": 3
   },
   "file_extension": ".py",
   "mimetype": "text/x-python",
   "name": "python",
   "nbconvert_exporter": "python",
   "pygments_lexer": "ipython3",
   "version": "3.11.3"
  },
  "orig_nbformat": 4
 },
 "nbformat": 4,
 "nbformat_minor": 2
}
