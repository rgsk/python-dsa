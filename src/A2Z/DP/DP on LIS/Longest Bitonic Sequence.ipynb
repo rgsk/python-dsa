{
 "cells": [
  {
   "cell_type": "code",
   "execution_count": 83,
   "metadata": {},
   "outputs": [],
   "source": [
    "from typing import List\n",
    "\n",
    "def longestBitonicSubsequence(arr: List[int], n: int) -> int:\n",
    "    # write your code here\n",
    "    def helper(ind, prev, increasing):\n",
    "        if ind == n:\n",
    "            return 0\n",
    "        take = 0\n",
    "        nottake = 0\n",
    "        if increasing:\n",
    "            if prev == -1 or arr[ind] > arr[prev]:\n",
    "                take = 1 + helper(ind + 1, ind, increasing)\n",
    "                nottake = helper(ind + 1, prev, increasing)\n",
    "            else:\n",
    "                if arr[ind] < arr[prev]:\n",
    "                    take = 1 + helper(ind + 1, ind, 0)\n",
    "                nottake = helper(ind + 1, prev, increasing)\n",
    "        else:\n",
    "            if arr[ind] < arr[prev]:\n",
    "                take = 1 + helper(ind + 1, ind, increasing)\n",
    "                nottake = helper(ind + 1, prev, increasing)\n",
    "            else:\n",
    "                nottake = helper(ind + 1, prev, increasing)\n",
    "        return max(take, nottake)\n",
    "    return helper(0, -1, 1)"
   ]
  },
  {
   "cell_type": "code",
   "execution_count": 84,
   "metadata": {},
   "outputs": [],
   "source": [
    "from typing import List\n",
    "\n",
    "def longestBitonicSubsequence(arr: List[int], n: int) -> int:\n",
    "    # write your code here\n",
    "    dp = [[[-1, -1] for _ in range(n)] for _ in range(n)]\n",
    "    def helper(ind, prev, increasing):\n",
    "        if ind == n:\n",
    "            return 0\n",
    "        if dp[ind][prev + 1][increasing] != -1:\n",
    "            return dp[ind][prev + 1][increasing]\n",
    "        take = 0\n",
    "        nottake = 0\n",
    "        if increasing:\n",
    "            if prev == -1 or arr[ind] > arr[prev]:\n",
    "                take = 1 + helper(ind + 1, ind, increasing)\n",
    "                nottake = helper(ind + 1, prev, increasing)\n",
    "            else:\n",
    "                if arr[ind] < arr[prev]:\n",
    "                    take = 1 + helper(ind + 1, ind, 0)\n",
    "                nottake = helper(ind + 1, prev, increasing)\n",
    "        else:\n",
    "            if arr[ind] < arr[prev]:\n",
    "                take = 1 + helper(ind + 1, ind, increasing)\n",
    "                nottake = helper(ind + 1, prev, increasing)\n",
    "            else:\n",
    "                nottake = helper(ind + 1, prev, increasing)\n",
    "        dp[ind][prev + 1][increasing] = max(take, nottake)\n",
    "        return dp[ind][prev + 1][increasing]\n",
    "    return helper(0, -1, 1)"
   ]
  },
  {
   "cell_type": "code",
   "execution_count": 85,
   "metadata": {},
   "outputs": [],
   "source": [
    "from typing import List\n",
    "\n",
    "def longestBitonicSubsequence(arr: List[int], n: int) -> int:\n",
    "    # write your code here\n",
    "    dp = [[[-1, -1] for _ in range(n)] for _ in range(n)]\n",
    "    def helper(ind, prev, increasing):\n",
    "        if ind == n:\n",
    "            return 0\n",
    "        if dp[ind][prev][increasing] != -1:\n",
    "            return dp[ind][prev][increasing]\n",
    "        take = 0\n",
    "        nottake = 0\n",
    "        if increasing:\n",
    "            if prev - 1 == -1 or arr[ind] > arr[prev - 1]:\n",
    "                take = 1 + helper(ind + 1, ind + 1, increasing)\n",
    "                nottake = helper(ind + 1, prev, increasing)\n",
    "            else:\n",
    "                if arr[ind] < arr[prev - 1]:\n",
    "                    take = 1 + helper(ind + 1, ind + 1, 0)\n",
    "                nottake = helper(ind + 1, prev, increasing)\n",
    "        else:\n",
    "            if arr[ind] < arr[prev - 1]:\n",
    "                take = 1 + helper(ind + 1, ind + 1, increasing)\n",
    "                nottake = helper(ind + 1, prev, increasing)\n",
    "            else:\n",
    "                nottake = helper(ind + 1, prev, increasing)\n",
    "        dp[ind][prev][increasing] = max(take, nottake)\n",
    "        return dp[ind][prev][increasing]\n",
    "    return helper(0, 0, 1)"
   ]
  },
  {
   "cell_type": "code",
   "execution_count": 86,
   "metadata": {},
   "outputs": [],
   "source": [
    "from typing import List\n",
    "\n",
    "\n",
    "def longestBitonicSubsequence(arr: List[int], n: int) -> int:\n",
    "    # write your code here\n",
    "    dp = [[[0, 0] for _ in range(n + 1)] for _ in range(n + 1)]\n",
    "    for ind in range(n-1, -1, -1):\n",
    "        for prev in range(ind,-1,-1):\n",
    "            for increasing in range(2):\n",
    "                take = 0\n",
    "                nottake = 0\n",
    "                if increasing:\n",
    "                    if prev - 1 == -1 or arr[ind] > arr[prev - 1]:\n",
    "                        take = 1 + dp[ind + 1][ind + 1][increasing]\n",
    "                        nottake = dp[ind + 1][prev][increasing]\n",
    "                    else:\n",
    "                        if arr[ind] < arr[prev - 1]:\n",
    "                            take = 1 + dp[ind + 1][ind + 1][0]\n",
    "                        nottake = dp[ind + 1][prev][increasing]\n",
    "                else:\n",
    "                    if arr[ind] < arr[prev - 1]:\n",
    "                        take = 1 + dp[ind + 1][ind + 1][increasing]\n",
    "                        nottake = dp[ind + 1][prev][increasing]\n",
    "                    else:\n",
    "                        nottake = dp[ind + 1][prev][increasing]\n",
    "                dp[ind][prev][increasing] = max(take, nottake)\n",
    "    return dp[0][0][1]"
   ]
  },
  {
   "cell_type": "code",
   "execution_count": 87,
   "metadata": {},
   "outputs": [
    {
     "data": {
      "text/plain": [
       "3"
      ]
     },
     "execution_count": 87,
     "metadata": {},
     "output_type": "execute_result"
    }
   ],
   "source": [
    "arr = [1, 2, 1, 2, 1]\n",
    "n = len(arr)\n",
    "longestBitonicSubsequence(arr, n)"
   ]
  },
  {
   "cell_type": "code",
   "execution_count": 88,
   "metadata": {},
   "outputs": [
    {
     "data": {
      "text/plain": [
       "4"
      ]
     },
     "execution_count": 88,
     "metadata": {},
     "output_type": "execute_result"
    }
   ],
   "source": [
    "arr = [1, 2, 1, 3, 4]\n",
    "n = len(arr)\n",
    "longestBitonicSubsequence(arr, n)"
   ]
  }
 ],
 "metadata": {
  "kernelspec": {
   "display_name": "dsa-venv",
   "language": "python",
   "name": "python3"
  },
  "language_info": {
   "codemirror_mode": {
    "name": "ipython",
    "version": 3
   },
   "file_extension": ".py",
   "mimetype": "text/x-python",
   "name": "python",
   "nbconvert_exporter": "python",
   "pygments_lexer": "ipython3",
   "version": "3.11.3"
  },
  "orig_nbformat": 4
 },
 "nbformat": 4,
 "nbformat_minor": 2
}
