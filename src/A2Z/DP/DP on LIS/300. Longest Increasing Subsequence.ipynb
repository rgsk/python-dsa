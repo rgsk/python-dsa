{
 "cells": [
  {
   "cell_type": "code",
   "execution_count": 81,
   "metadata": {},
   "outputs": [],
   "source": [
    "from typing import List\n",
    "INT_MIN = -(2 ** 31)\n",
    "\n",
    "class Solution:\n",
    "    def lengthOfLIS(self, nums: List[int]) -> int:\n",
    "        def helper(idx, last):\n",
    "            if idx == len(nums):\n",
    "                return 0\n",
    "            if nums[idx] > last:\n",
    "                return max(1 + helper(idx + 1, nums[idx]), helper(idx + 1, last))\n",
    "            else:\n",
    "                return helper(idx + 1, last)\n",
    "        return helper(0, INT_MIN)"
   ]
  },
  {
   "cell_type": "code",
   "execution_count": 82,
   "metadata": {},
   "outputs": [],
   "source": [
    "from typing import List\n",
    "INT_MIN = -(2 ** 31)\n",
    "\n",
    "class Solution:\n",
    "    def lengthOfLIS(self, nums: List[int]) -> int:\n",
    "        def helper(index, last_index):\n",
    "            if index == len(nums):\n",
    "                return 0\n",
    "            last = INT_MIN if last_index == -1 else nums[last_index]\n",
    "            if nums[index] > last:\n",
    "                return max(1 + helper(index + 1, index), helper(index + 1, last_index))\n",
    "            else:\n",
    "                return helper(index + 1, last_index)\n",
    "        return helper(0, -1)"
   ]
  },
  {
   "cell_type": "code",
   "execution_count": 83,
   "metadata": {},
   "outputs": [],
   "source": [
    "from functools import cache\n",
    "from typing import List\n",
    "INT_MIN = -(2 ** 31)\n",
    "\n",
    "class Solution:\n",
    "    def lengthOfLIS(self, nums: List[int]) -> int:\n",
    "        @cache\n",
    "        def helper(index, last_index):\n",
    "            if index == len(nums):\n",
    "                return 0\n",
    "            last = INT_MIN if last_index == -1 else nums[last_index]\n",
    "            if nums[index] > last:\n",
    "                return max(1 + helper(index + 1, index), helper(index + 1, last_index))\n",
    "            else:\n",
    "                return helper(index + 1, last_index)\n",
    "        return helper(0, -1)"
   ]
  },
  {
   "cell_type": "code",
   "execution_count": 84,
   "metadata": {},
   "outputs": [],
   "source": [
    "from typing import List\n",
    "\n",
    "class Solution:\n",
    "    def lengthOfLIS(self, nums: List[int]) -> int:\n",
    "        dp = [[-1 for _ in range(len(nums))] for _ in range(len(nums))]\n",
    "        def helper(index, last_index):\n",
    "            if index == len(nums):\n",
    "                return 0\n",
    "            if dp[index][last_index] != -1:\n",
    "                return dp[index][last_index]\n",
    "            if last_index - 1 == -1 or nums[index] > nums[last_index - 1]:\n",
    "                dp[index][last_index] = max(1 + helper(index + 1, index + 1), helper(index + 1, last_index))\n",
    "            else:\n",
    "                dp[index][last_index] = helper(index + 1, last_index)\n",
    "            return dp[index][last_index]\n",
    "        return helper(0, 0)"
   ]
  },
  {
   "cell_type": "code",
   "execution_count": 85,
   "metadata": {},
   "outputs": [],
   "source": [
    "from typing import List\n",
    "\n",
    "class Solution:\n",
    "    def lengthOfLIS(self, nums: List[int]) -> int:\n",
    "        n = len(nums)\n",
    "        dp = [[0 for _ in range(n + 1)] for _ in range(n + 1)]\n",
    "        for index in range(n-1, -1, -1):\n",
    "            for last_index in range(index, -1, -1):\n",
    "                if last_index - 1 == -1 or nums[index] > nums[last_index - 1]:\n",
    "                    dp[index][last_index] = max(1 + dp[index+1][index + 1], dp[index+1][last_index])\n",
    "                else:\n",
    "                    dp[index][last_index] = dp[index+1][last_index]\n",
    "        return dp[0][0]"
   ]
  },
  {
   "cell_type": "code",
   "execution_count": 86,
   "metadata": {},
   "outputs": [],
   "source": [
    "from pprint import pprint\n",
    "from typing import List\n",
    "\n",
    "class Solution:\n",
    "    def lengthOfLIS(self, nums: List[int]) -> int:\n",
    "        n = len(nums)\n",
    "        dp = [1] * n\n",
    "        maxi = 1\n",
    "        for ind in range(1, n):\n",
    "            for prev in range(ind):\n",
    "                if nums[ind] > nums[prev]:\n",
    "                    dp[ind] = max(dp[ind], 1 + dp[prev])\n",
    "            maxi = max(maxi, dp[ind])\n",
    "        # pprint(dp)\n",
    "        return maxi"
   ]
  },
  {
   "cell_type": "code",
   "execution_count": 87,
   "metadata": {},
   "outputs": [],
   "source": [
    "def lower_bound(arr, num):\n",
    "    i = -1\n",
    "    incr = len(arr)\n",
    "    while incr > 0:\n",
    "        while i + incr < len(arr) and arr[i + incr] < num:\n",
    "            i += incr\n",
    "        incr //= 2\n",
    "    return i + 1\n",
    "            \n",
    "class Solution:\n",
    "    def lengthOfLIS(self, nums: List[int]) -> int:\n",
    "        temp = []\n",
    "        ans = 1\n",
    "        temp.append(nums[0])\n",
    "        for i in range(1, len(nums)):\n",
    "            if nums[i] > temp[-1]:\n",
    "                temp.append(nums[i])\n",
    "                ans += 1\n",
    "            else:\n",
    "                ind = lower_bound(temp, nums[i])\n",
    "                temp[ind] = nums[i]\n",
    "        return ans"
   ]
  },
  {
   "cell_type": "code",
   "execution_count": 88,
   "metadata": {},
   "outputs": [
    {
     "data": {
      "text/plain": [
       "4"
      ]
     },
     "execution_count": 88,
     "metadata": {},
     "output_type": "execute_result"
    }
   ],
   "source": [
    "nums = [10,9,2,5,3,7,101,18, 3]\n",
    "sol = Solution()\n",
    "sol.lengthOfLIS(nums)"
   ]
  },
  {
   "cell_type": "code",
   "execution_count": 89,
   "metadata": {},
   "outputs": [
    {
     "data": {
      "text/plain": [
       "4"
      ]
     },
     "execution_count": 89,
     "metadata": {},
     "output_type": "execute_result"
    }
   ],
   "source": [
    "nums = [0,1,0,3,2,3]\n",
    "sol = Solution()\n",
    "sol.lengthOfLIS(nums)"
   ]
  },
  {
   "cell_type": "code",
   "execution_count": 90,
   "metadata": {},
   "outputs": [
    {
     "data": {
      "text/plain": [
       "1"
      ]
     },
     "execution_count": 90,
     "metadata": {},
     "output_type": "execute_result"
    }
   ],
   "source": [
    "nums = [7,7,7,7,7,7,7]\n",
    "sol = Solution()\n",
    "sol.lengthOfLIS(nums)"
   ]
  },
  {
   "cell_type": "code",
   "execution_count": null,
   "metadata": {},
   "outputs": [],
   "source": []
  }
 ],
 "metadata": {
  "kernelspec": {
   "display_name": "dsa-venv",
   "language": "python",
   "name": "python3"
  },
  "language_info": {
   "codemirror_mode": {
    "name": "ipython",
    "version": 3
   },
   "file_extension": ".py",
   "mimetype": "text/x-python",
   "name": "python",
   "nbconvert_exporter": "python",
   "pygments_lexer": "ipython3",
   "version": "3.11.3"
  },
  "orig_nbformat": 4
 },
 "nbformat": 4,
 "nbformat_minor": 2
}
