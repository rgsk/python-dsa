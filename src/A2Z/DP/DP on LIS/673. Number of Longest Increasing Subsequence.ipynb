{
 "cells": [
  {
   "cell_type": "code",
   "execution_count": 35,
   "metadata": {},
   "outputs": [],
   "source": [
    "from typing import List\n",
    "\n",
    "\n",
    "class Solution:\n",
    "    def findNumberOfLIS(self, nums: List[int]) -> int:\n",
    "        n = len(nums)\n",
    "        dp = [1] * n\n",
    "        ways = [1] * n\n",
    "        maxi = 1\n",
    "        for ind in range(1, n):\n",
    "            for prev in range(ind):\n",
    "                if nums[ind] > nums[prev]:\n",
    "                    if 1 + dp[prev] > dp[ind]:\n",
    "                        dp[ind] = 1 + dp[prev]\n",
    "                        ways[ind] = ways[prev]\n",
    "                    elif 1 + dp[prev] == dp[ind]:\n",
    "                        ways[ind] += ways[prev]\n",
    "\n",
    "            maxi = max(maxi, dp[ind])\n",
    "        ans = 0\n",
    "        for i in range(n):\n",
    "            if dp[i] == maxi:\n",
    "                ans += ways[i]\n",
    "        return ans"
   ]
  },
  {
   "cell_type": "code",
   "execution_count": 36,
   "metadata": {},
   "outputs": [
    {
     "data": {
      "text/plain": [
       "2"
      ]
     },
     "execution_count": 36,
     "metadata": {},
     "output_type": "execute_result"
    }
   ],
   "source": [
    "nums = [1,3,5,4,7]\n",
    "sol = Solution()\n",
    "sol.findNumberOfLIS(nums)"
   ]
  },
  {
   "cell_type": "code",
   "execution_count": 37,
   "metadata": {},
   "outputs": [
    {
     "data": {
      "text/plain": [
       "5"
      ]
     },
     "execution_count": 37,
     "metadata": {},
     "output_type": "execute_result"
    }
   ],
   "source": [
    "nums = [2,2,2,2,2]\n",
    "sol = Solution()\n",
    "sol.findNumberOfLIS(nums)"
   ]
  },
  {
   "cell_type": "code",
   "execution_count": 38,
   "metadata": {},
   "outputs": [
    {
     "data": {
      "text/plain": [
       "3"
      ]
     },
     "execution_count": 38,
     "metadata": {},
     "output_type": "execute_result"
    }
   ],
   "source": [
    "nums = [1,2,4,3,5,4,7,2]\n",
    "sol = Solution()\n",
    "sol.findNumberOfLIS(nums)"
   ]
  }
 ],
 "metadata": {
  "kernelspec": {
   "display_name": "dsa-venv",
   "language": "python",
   "name": "python3"
  },
  "language_info": {
   "codemirror_mode": {
    "name": "ipython",
    "version": 3
   },
   "file_extension": ".py",
   "mimetype": "text/x-python",
   "name": "python",
   "nbconvert_exporter": "python",
   "pygments_lexer": "ipython3",
   "version": "3.11.3"
  },
  "orig_nbformat": 4
 },
 "nbformat": 4,
 "nbformat_minor": 2
}
