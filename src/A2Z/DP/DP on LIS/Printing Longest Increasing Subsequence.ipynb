{
 "cells": [
  {
   "cell_type": "code",
   "execution_count": null,
   "metadata": {},
   "outputs": [],
   "source": [
    "# https://www.codingninjas.com/studio/problems/printing-longest-increasing-subsequence_8360670?utm_source=striver&utm_medium=website&utm_campaign=a_zcoursetuf&leftPanelTab=1"
   ]
  },
  {
   "cell_type": "code",
   "execution_count": 20,
   "metadata": {},
   "outputs": [],
   "source": [
    "from typing import List\n",
    "\n",
    "\n",
    "\n",
    "def lengthOfLIS(nums: List[int]) -> int:\n",
    "    n = len(nums)\n",
    "    dp = [[1, i, -1] for i in range(n)]\n",
    "    maxLength = 1\n",
    "    maxLengthIndex = 0\n",
    "    for ind in range(1, n):\n",
    "        for prev in range(ind):\n",
    "            if nums[ind] > nums[prev]:\n",
    "                if 1 + dp[prev][0] > dp[ind][0]:\n",
    "                    dp[ind][0] = 1 + dp[prev][0]\n",
    "                    dp[ind][2] = dp[prev][1]\n",
    "        if dp[ind][0] > maxLength:\n",
    "            maxLength = dp[ind][0]\n",
    "            maxLengthIndex = ind\n",
    "    # pprint(dp)\n",
    "    return (maxLength, maxLengthIndex, dp)\n",
    "\n",
    "def printingLongestIncreasingSubsequence(arr: List[int], n: int) -> List[int]:\n",
    "    # Write your code here\n",
    "    maxLength, maxLengthIndex, dp =  lengthOfLIS(arr)\n",
    "    ans = []\n",
    "    temp = maxLengthIndex\n",
    "    while temp != -1:\n",
    "        ans.append(arr[temp])\n",
    "        temp = dp[temp][2]\n",
    "    return list(reversed(ans))            \n"
   ]
  },
  {
   "cell_type": "code",
   "execution_count": 21,
   "metadata": {},
   "outputs": [
    {
     "data": {
      "text/plain": [
       "[5, 6, 7]"
      ]
     },
     "execution_count": 21,
     "metadata": {},
     "output_type": "execute_result"
    }
   ],
   "source": [
    "arr = [5, 6, 3, 4, 7, 6]\n",
    "n = len(arr)\n",
    "printingLongestIncreasingSubsequence(arr, n)"
   ]
  },
  {
   "cell_type": "code",
   "execution_count": 22,
   "metadata": {},
   "outputs": [
    {
     "data": {
      "text/plain": [
       "[5]"
      ]
     },
     "execution_count": 22,
     "metadata": {},
     "output_type": "execute_result"
    }
   ],
   "source": [
    "arr = [5, 5, 5]\n",
    "n = len(arr)\n",
    "printingLongestIncreasingSubsequence(arr, n)"
   ]
  }
 ],
 "metadata": {
  "kernelspec": {
   "display_name": "dsa-venv",
   "language": "python",
   "name": "python3"
  },
  "language_info": {
   "codemirror_mode": {
    "name": "ipython",
    "version": 3
   },
   "file_extension": ".py",
   "mimetype": "text/x-python",
   "name": "python",
   "nbconvert_exporter": "python",
   "pygments_lexer": "ipython3",
   "version": "3.11.3"
  },
  "orig_nbformat": 4
 },
 "nbformat": 4,
 "nbformat_minor": 2
}
