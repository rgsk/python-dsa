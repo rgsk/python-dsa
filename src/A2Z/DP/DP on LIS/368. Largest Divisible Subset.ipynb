{
 "cells": [
  {
   "cell_type": "code",
   "execution_count": null,
   "metadata": {},
   "outputs": [],
   "source": [
    "# https://leetcode.com/problems/largest-divisible-subset/description/"
   ]
  },
  {
   "cell_type": "code",
   "execution_count": 72,
   "metadata": {},
   "outputs": [],
   "source": [
    "from typing import List\n",
    "\n",
    "# tle\n",
    "class Solution:\n",
    "    def largestDivisibleSubset(self, nums: List[int]) -> List[int]:\n",
    "        nums.sort()\n",
    "        n = len(nums)\n",
    "        def helper(ind, prev):\n",
    "            if ind == n:\n",
    "                return 0, []\n",
    "            take = 0\n",
    "            if prev == -1 or nums[ind] % nums[prev] == 0:\n",
    "                take, take_elems = helper(ind + 1, ind)\n",
    "                take += 1\n",
    "            notake, notake_elems = helper(ind + 1, prev)\n",
    "            if take > notake:\n",
    "                return take, [nums[ind]] + take_elems\n",
    "            return notake, notake_elems\n",
    "            \n",
    "        return helper(0, -1)[1]"
   ]
  },
  {
   "cell_type": "code",
   "execution_count": 73,
   "metadata": {},
   "outputs": [],
   "source": [
    "from typing import List\n",
    "\n",
    "\n",
    "class Solution:\n",
    "    def largestDivisibleSubset(self, nums: List[int]) -> List[int]:\n",
    "        nums.sort()\n",
    "        n = len(nums)\n",
    "        dp = [1] * n\n",
    "        hash = [i for i in range(n)]\n",
    "        maxLength = 1\n",
    "        lastIndex = 0\n",
    "        for ind in range(1, n):\n",
    "            for prev in range(ind):\n",
    "                if nums[ind] % nums[prev] == 0:\n",
    "                    if 1 + dp[prev] > dp[ind]:\n",
    "                        dp[ind] = 1 + dp[prev]\n",
    "                        hash[ind] = prev\n",
    "            if dp[ind] > maxLength:\n",
    "                maxLength = dp[ind]\n",
    "                lastIndex = ind       \n",
    "        ans = []\n",
    "        ans.append(nums[lastIndex])\n",
    "        while hash[lastIndex] != lastIndex:\n",
    "            lastIndex = hash[lastIndex]\n",
    "            ans.append(nums[lastIndex])\n",
    "        return list(reversed(ans))"
   ]
  },
  {
   "cell_type": "code",
   "execution_count": 74,
   "metadata": {},
   "outputs": [
    {
     "data": {
      "text/plain": [
       "[1, 2]"
      ]
     },
     "execution_count": 74,
     "metadata": {},
     "output_type": "execute_result"
    }
   ],
   "source": [
    "nums = [1,2,3]\n",
    "sol = Solution()\n",
    "sol.largestDivisibleSubset(nums)"
   ]
  },
  {
   "cell_type": "code",
   "execution_count": 75,
   "metadata": {},
   "outputs": [
    {
     "data": {
      "text/plain": [
       "[1, 2, 4, 8]"
      ]
     },
     "execution_count": 75,
     "metadata": {},
     "output_type": "execute_result"
    }
   ],
   "source": [
    "nums = [1,2,4,8]\n",
    "sol = Solution()\n",
    "sol.largestDivisibleSubset(nums)"
   ]
  },
  {
   "cell_type": "code",
   "execution_count": 76,
   "metadata": {},
   "outputs": [
    {
     "data": {
      "text/plain": [
       "[2]"
      ]
     },
     "execution_count": 76,
     "metadata": {},
     "output_type": "execute_result"
    }
   ],
   "source": [
    "nums = [2,3,5,7,11,13,17,19,23,31,1000000007]\n",
    "sol = Solution()\n",
    "sol.largestDivisibleSubset(nums)"
   ]
  }
 ],
 "metadata": {
  "kernelspec": {
   "display_name": "dsa-venv",
   "language": "python",
   "name": "python3"
  },
  "language_info": {
   "codemirror_mode": {
    "name": "ipython",
    "version": 3
   },
   "file_extension": ".py",
   "mimetype": "text/x-python",
   "name": "python",
   "nbconvert_exporter": "python",
   "pygments_lexer": "ipython3",
   "version": "3.11.3"
  },
  "orig_nbformat": 4
 },
 "nbformat": 4,
 "nbformat_minor": 2
}
