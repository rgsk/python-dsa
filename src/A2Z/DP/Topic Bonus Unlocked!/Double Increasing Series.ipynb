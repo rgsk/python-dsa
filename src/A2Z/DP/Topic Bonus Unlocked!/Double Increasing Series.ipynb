{
 "cells": [
  {
   "cell_type": "code",
   "execution_count": 456,
   "metadata": {},
   "outputs": [],
   "source": [
    "# https://www.interviewbit.com/problems/double-increasing-series/"
   ]
  },
  {
   "cell_type": "code",
   "execution_count": 457,
   "metadata": {},
   "outputs": [],
   "source": [
    "class Solution:\n",
    "    # @param A : integer\n",
    "    # @param B : integer\n",
    "    # @return an integer\n",
    "    def solve(self, A, B):\n",
    "        def helper(i, c):\n",
    "            if c == B:\n",
    "                return 1\n",
    "            if i > A:\n",
    "                return 0\n",
    "            take = helper(i*2, c + 1)\n",
    "            notake = helper(i+1, c)\n",
    "            return take + notake\n",
    "        return helper(1, 0)"
   ]
  },
  {
   "cell_type": "code",
   "execution_count": 458,
   "metadata": {},
   "outputs": [],
   "source": [
    "class Solution:\n",
    "    # @param A : integer\n",
    "    # @param B : integer\n",
    "    # @return an integer\n",
    "    def solve(self, A, B):\n",
    "        def helper(i, c):\n",
    "            if c == B:\n",
    "                return 1\n",
    "            if i == 0:\n",
    "                return 0\n",
    "            take = helper(i//2, c + 1)\n",
    "            notake = helper(i-1, c)\n",
    "            return take + notake\n",
    "        return helper(A, 0)"
   ]
  },
  {
   "cell_type": "code",
   "execution_count": 459,
   "metadata": {},
   "outputs": [],
   "source": [
    "mod = 10**9 + 7\n",
    "class Solution:\n",
    "    # @param A : integer\n",
    "    # @param B : integer\n",
    "    # @return an integer\n",
    "    def solve(self, A, B):\n",
    "        dp = [[-1] * (B + 1) for _ in range(A + 1)]\n",
    "        for i in range(A + 1):\n",
    "            for c in range(B,-1,-1):\n",
    "                if c == B:\n",
    "                    dp[i][c] = 1\n",
    "                    continue\n",
    "                if i == 0:\n",
    "                    dp[i][c] = 0\n",
    "                    continue\n",
    "                take = dp[i//2][c+1]\n",
    "                notake = dp[i-1][c]\n",
    "                dp[i][c] = take + notake\n",
    "        return dp[A][0] % mod"
   ]
  },
  {
   "cell_type": "code",
   "execution_count": 460,
   "metadata": {},
   "outputs": [],
   "source": [
    "mod = 10**9 + 7\n",
    "class Solution:\n",
    "    # @param A : integer\n",
    "    # @param B : integer\n",
    "    # @return an integer\n",
    "    def solve(self, A, B):\n",
    "        dp = [[-1] * (A + 1) for _ in range(B + 1)]\n",
    "        for c in range(B,-1,-1):\n",
    "            for i in range(A + 1):\n",
    "                if c == B:\n",
    "                    dp[c][i] = 1\n",
    "                    continue\n",
    "                if i == 0:\n",
    "                    dp[c][i] = 0\n",
    "                    continue\n",
    "                take = dp[c+1][i//2]\n",
    "                notake = dp[c][i-1]\n",
    "                dp[c][i] = take + notake\n",
    "        return dp[0][A] % mod"
   ]
  },
  {
   "cell_type": "code",
   "execution_count": 461,
   "metadata": {},
   "outputs": [],
   "source": [
    "mod = 10**9 + 7\n",
    "class Solution:\n",
    "    # @param A : integer\n",
    "    # @param B : integer\n",
    "    # @return an integer\n",
    "    def solve(self, A, B):\n",
    "        dp = [-1] * (A + 1)\n",
    "        for c in range(B,-1,-1):\n",
    "            prev = dp[:]\n",
    "            for i in range(A + 1):\n",
    "                if c == B:\n",
    "                    dp[i] = 1\n",
    "                    continue\n",
    "                if i == 0:\n",
    "                    dp[i] = 0\n",
    "                    continue\n",
    "                take = prev[i//2]\n",
    "                notake = dp[i-1]\n",
    "                dp[i] = take + notake\n",
    "        return dp[A] % mod"
   ]
  },
  {
   "cell_type": "code",
   "execution_count": 462,
   "metadata": {},
   "outputs": [
    {
     "data": {
      "text/plain": [
       "4"
      ]
     },
     "execution_count": 462,
     "metadata": {},
     "output_type": "execute_result"
    }
   ],
   "source": [
    "A = 4\n",
    "B = 2\n",
    "sol = Solution()\n",
    "sol.solve(A, B)"
   ]
  },
  {
   "cell_type": "code",
   "execution_count": 463,
   "metadata": {},
   "outputs": [
    {
     "data": {
      "text/plain": [
       "1"
      ]
     },
     "execution_count": 463,
     "metadata": {},
     "output_type": "execute_result"
    }
   ],
   "source": [
    "A = 4\n",
    "B = 3\n",
    "sol = Solution()\n",
    "sol.solve(A, B)"
   ]
  },
  {
   "cell_type": "code",
   "execution_count": 464,
   "metadata": {},
   "outputs": [
    {
     "data": {
      "text/plain": [
       "549117206"
      ]
     },
     "execution_count": 464,
     "metadata": {},
     "output_type": "execute_result"
    }
   ],
   "source": [
    "A = 1000\n",
    "B = 9\n",
    "sol = Solution()\n",
    "sol.solve(A, B)"
   ]
  },
  {
   "cell_type": "code",
   "execution_count": 465,
   "metadata": {},
   "outputs": [
    {
     "data": {
      "text/plain": [
       "215691489"
      ]
     },
     "execution_count": 465,
     "metadata": {},
     "output_type": "execute_result"
    }
   ],
   "source": [
    "A = 100000\n",
    "B = 10\n",
    "sol = Solution()\n",
    "sol.solve(A, B)"
   ]
  },
  {
   "cell_type": "code",
   "execution_count": 466,
   "metadata": {},
   "outputs": [
    {
     "data": {
      "text/plain": [
       "0"
      ]
     },
     "execution_count": 466,
     "metadata": {},
     "output_type": "execute_result"
    }
   ],
   "source": [
    "A = 100000\n",
    "B = 20\n",
    "sol = Solution()\n",
    "sol.solve(A, B)"
   ]
  },
  {
   "cell_type": "code",
   "execution_count": 467,
   "metadata": {},
   "outputs": [
    {
     "data": {
      "text/plain": [
       "145493248"
      ]
     },
     "execution_count": 467,
     "metadata": {},
     "output_type": "execute_result"
    }
   ],
   "source": [
    "A = 100000\n",
    "B = 17\n",
    "sol = Solution()\n",
    "sol.solve(A, B)"
   ]
  }
 ],
 "metadata": {
  "kernelspec": {
   "display_name": "dsa-venv",
   "language": "python",
   "name": "python3"
  },
  "language_info": {
   "codemirror_mode": {
    "name": "ipython",
    "version": 3
   },
   "file_extension": ".py",
   "mimetype": "text/x-python",
   "name": "python",
   "nbconvert_exporter": "python",
   "pygments_lexer": "ipython3",
   "version": "3.11.3"
  }
 },
 "nbformat": 4,
 "nbformat_minor": 2
}
