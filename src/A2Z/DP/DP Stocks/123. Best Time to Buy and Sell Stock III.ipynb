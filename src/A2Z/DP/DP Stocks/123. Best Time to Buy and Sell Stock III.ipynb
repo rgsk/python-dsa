{
 "cells": [
  {
   "cell_type": "code",
   "execution_count": 88,
   "metadata": {},
   "outputs": [],
   "source": [
    "from typing import List\n",
    "\n",
    "\n",
    "class Solution:\n",
    "    def maxProfit(self, prices: List[int]) -> int:\n",
    "        def helper(i, buy, remaining_transactions):\n",
    "            if i == len(prices) or remaining_transactions == 0:\n",
    "                return 0\n",
    "            if buy:\n",
    "                return max(-prices[i] + helper(i + 1, 0, remaining_transactions), helper(i + 1, 1, remaining_transactions))\n",
    "            else:\n",
    "                return max(prices[i] + helper(i + 1, 1, remaining_transactions - 1), helper(i + 1, 0, remaining_transactions))\n",
    "        return helper(0, 1, 2)"
   ]
  },
  {
   "cell_type": "code",
   "execution_count": 89,
   "metadata": {},
   "outputs": [],
   "source": [
    "from functools import cache\n",
    "from typing import List\n",
    "\n",
    "\n",
    "class Solution:\n",
    "    def maxProfit(self, prices: List[int]) -> int:\n",
    "        @cache\n",
    "        def helper(i, buy, remaining_transactions):\n",
    "            if i == len(prices) or remaining_transactions == 0:\n",
    "                return 0\n",
    "            if buy:\n",
    "                return max(-prices[i] + helper(i + 1, 0, remaining_transactions), helper(i + 1, 1, remaining_transactions))\n",
    "            else:\n",
    "                return max(prices[i] + helper(i + 1, 1, remaining_transactions - 1), helper(i + 1, 0, remaining_transactions))\n",
    "        return helper(0, 1, 2)"
   ]
  },
  {
   "cell_type": "code",
   "execution_count": 90,
   "metadata": {},
   "outputs": [],
   "source": [
    "from typing import List\n",
    "\n",
    "\n",
    "class Solution:\n",
    "    def maxProfit(self, prices: List[int]) -> int:\n",
    "        dp = [[[None for _ in range(3)] for _ in range(2)] for _ in range(len(prices))]\n",
    "        def helper(i, buy, remaining_transactions):\n",
    "            if i == len(prices) or remaining_transactions == 0:\n",
    "                return 0\n",
    "            if dp[i][buy][remaining_transactions] is not None:\n",
    "                return dp[i][buy][remaining_transactions]\n",
    "            if buy:\n",
    "                dp[i][buy][remaining_transactions] = max(-prices[i] + helper(i + 1, 0, remaining_transactions), helper(i + 1, 1, remaining_transactions))\n",
    "            else:\n",
    "                dp[i][buy][remaining_transactions] = max(prices[i] + helper(i + 1, 1, remaining_transactions - 1), helper(i + 1, 0, remaining_transactions))\n",
    "            return dp[i][buy][remaining_transactions]\n",
    "        return helper(0, 1, 2)"
   ]
  },
  {
   "cell_type": "code",
   "execution_count": 91,
   "metadata": {},
   "outputs": [],
   "source": [
    "from typing import List\n",
    "\n",
    "\n",
    "class Solution:\n",
    "    def maxProfit(self, prices: List[int]) -> int:\n",
    "        dp = [[[0 for _ in range(3)] for _ in range(2)] for _ in range(len(prices) + 1)]\n",
    "        for i in range(len(prices) - 1, -1, -1):\n",
    "            for buy in range(2):\n",
    "                for remaining_transactions in range(1, 3):\n",
    "                    if buy:\n",
    "                        dp[i][buy][remaining_transactions] = max(-prices[i] + dp[i+1][0][remaining_transactions], dp[i+1][1][remaining_transactions])\n",
    "                    else:\n",
    "                        dp[i][buy][remaining_transactions] = max(prices[i] + dp[i+1][1][remaining_transactions-1], dp[i+1][0][remaining_transactions])\n",
    "        return dp[0][1][2]"
   ]
  },
  {
   "cell_type": "code",
   "execution_count": 92,
   "metadata": {},
   "outputs": [],
   "source": [
    "from typing import List\n",
    "\n",
    "\n",
    "class Solution:\n",
    "    def maxProfit(self, prices: List[int]) -> int:\n",
    "        dp = [[0 for _ in range(3)] for _ in range(2)] \n",
    "        for i in range(len(prices) - 1, -1, -1):\n",
    "            for buy in range(2):\n",
    "                for remaining_transactions in range(1, 3):\n",
    "                    if buy:\n",
    "                        dp[buy][remaining_transactions] = max(-prices[i] + dp[0][remaining_transactions], dp[1][remaining_transactions])\n",
    "                    else:\n",
    "                        dp[buy][remaining_transactions] = max(prices[i] + dp[1][remaining_transactions-1], dp[0][remaining_transactions])\n",
    "        return dp[1][2]"
   ]
  },
  {
   "cell_type": "code",
   "execution_count": 93,
   "metadata": {},
   "outputs": [],
   "source": [
    "from typing import List\n",
    "\n",
    "\n",
    "class Solution:\n",
    "    def maxProfit(self, prices: List[int]) -> int:\n",
    "        dp = [[0 for _ in range(3)] for _ in range(2)] \n",
    "        for i in range(len(prices) - 1, -1, -1):\n",
    "            for remaining_transactions in range(1, 3):\n",
    "                    dp[1][remaining_transactions] = max(-prices[i] + dp[0][remaining_transactions], dp[1][remaining_transactions])\n",
    "                    dp[0][remaining_transactions] = max(prices[i] + dp[1][remaining_transactions-1], dp[0][remaining_transactions])\n",
    "        return dp[1][2]"
   ]
  },
  {
   "cell_type": "code",
   "execution_count": 94,
   "metadata": {},
   "outputs": [
    {
     "data": {
      "text/plain": [
       "6"
      ]
     },
     "execution_count": 94,
     "metadata": {},
     "output_type": "execute_result"
    }
   ],
   "source": [
    "prices = [3,3,5,0,0,3,1,4]\n",
    "sol = Solution()\n",
    "sol.maxProfit(prices)"
   ]
  },
  {
   "cell_type": "code",
   "execution_count": 95,
   "metadata": {},
   "outputs": [
    {
     "data": {
      "text/plain": [
       "4"
      ]
     },
     "execution_count": 95,
     "metadata": {},
     "output_type": "execute_result"
    }
   ],
   "source": [
    "prices = [1,2,3,4,5]\n",
    "sol = Solution()\n",
    "sol.maxProfit(prices)"
   ]
  },
  {
   "cell_type": "code",
   "execution_count": 96,
   "metadata": {},
   "outputs": [
    {
     "data": {
      "text/plain": [
       "0"
      ]
     },
     "execution_count": 96,
     "metadata": {},
     "output_type": "execute_result"
    }
   ],
   "source": [
    "prices = [7,6,4,3,1]\n",
    "sol = Solution()\n",
    "sol.maxProfit(prices)"
   ]
  }
 ],
 "metadata": {
  "kernelspec": {
   "display_name": "dsa-venv",
   "language": "python",
   "name": "python3"
  },
  "language_info": {
   "codemirror_mode": {
    "name": "ipython",
    "version": 3
   },
   "file_extension": ".py",
   "mimetype": "text/x-python",
   "name": "python",
   "nbconvert_exporter": "python",
   "pygments_lexer": "ipython3",
   "version": "3.11.3"
  },
  "orig_nbformat": 4
 },
 "nbformat": 4,
 "nbformat_minor": 2
}
