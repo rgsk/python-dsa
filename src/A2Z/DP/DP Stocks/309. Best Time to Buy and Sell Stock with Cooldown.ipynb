{
 "cells": [
  {
   "cell_type": "code",
   "execution_count": 104,
   "metadata": {},
   "outputs": [],
   "source": [
    "from functools import cache\n",
    "from typing import List\n",
    "\n",
    "\n",
    "class Solution:\n",
    "    def maxProfit(self, prices: List[int]) -> int: \n",
    "        @cache\n",
    "        def helper(currentlyBought, idx, canBuy):\n",
    "            if idx >= len(prices):\n",
    "                return 0\n",
    "            if currentlyBought > -1:\n",
    "                # now we can sell or skip selling\n",
    "                ifSold = prices[idx] - currentlyBought + helper(-1, idx + 1, False)\n",
    "                notSold = helper(currentlyBought, idx + 1, False)\n",
    "                return max(ifSold, notSold)\n",
    "            else:\n",
    "                # we can purchase or not purchase\n",
    "                if canBuy:\n",
    "                    ifPurchased = helper(prices[idx], idx + 1, False)\n",
    "                    notPurchased = helper(currentlyBought, idx + 1, True)\n",
    "                    return max(ifPurchased, notPurchased)\n",
    "                else:\n",
    "                    return helper(currentlyBought, idx + 1, True)\n",
    "        return helper(-1, 0, True)"
   ]
  },
  {
   "cell_type": "code",
   "execution_count": 105,
   "metadata": {},
   "outputs": [],
   "source": [
    "from functools import cache\n",
    "from typing import List\n",
    "\n",
    "\n",
    "class Solution:\n",
    "    def maxProfit(self, prices: List[int]) -> int:\n",
    "        @cache\n",
    "        def helper(currentlyBought, idx):\n",
    "            if idx >= len(prices):\n",
    "                return 0\n",
    "            if currentlyBought > -1:\n",
    "                # now we can sell or skip selling\n",
    "                ifSold = prices[idx] - currentlyBought + helper(-1, idx + 2)\n",
    "                notSold = helper(currentlyBought, idx + 1)\n",
    "                return max(ifSold, notSold)\n",
    "            else:\n",
    "                ifPurchased = helper(prices[idx], idx + 1)\n",
    "                notPurchased = helper(currentlyBought, idx + 1)\n",
    "                return max(ifPurchased, notPurchased)\n",
    "        return helper(-1, 0)"
   ]
  },
  {
   "cell_type": "code",
   "execution_count": 106,
   "metadata": {},
   "outputs": [],
   "source": [
    "from functools import cache\n",
    "from typing import List\n",
    "\n",
    "\n",
    "class Solution:\n",
    "    def maxProfit(self, prices: List[int]) -> int:\n",
    "        @cache\n",
    "        def helper(idx, buy):\n",
    "            if idx >= len(prices):\n",
    "                return 0\n",
    "            if buy:\n",
    "                return max(\n",
    "                    -prices[idx] + helper(idx + 1, False),\n",
    "                    0 + helper(idx + 1, True)\n",
    "                )\n",
    "            else:\n",
    "                return max(\n",
    "                    prices[idx] + helper(idx + 2, True),\n",
    "                    0 + helper(idx + 1, False)\n",
    "                )\n",
    "        return helper(0, True)"
   ]
  },
  {
   "cell_type": "code",
   "execution_count": 107,
   "metadata": {},
   "outputs": [],
   "source": [
    "from typing import List\n",
    "\n",
    "\n",
    "class Solution:\n",
    "    def maxProfit(self, prices: List[int]) -> int:\n",
    "        dp = {}\n",
    "        def helper(idx, buy):\n",
    "            key = (idx, buy)\n",
    "            if key in dp:\n",
    "                return dp[key]\n",
    "            if idx >= len(prices):\n",
    "                return 0\n",
    "            if buy:\n",
    "                dp[key] = max(\n",
    "                    -prices[idx] + helper(idx + 1, False),\n",
    "                    0 + helper(idx + 1, True)\n",
    "                )\n",
    "            else:\n",
    "                dp[key] = max(\n",
    "                    prices[idx] + helper(idx + 2, True),\n",
    "                    0 + helper(idx + 1, False)\n",
    "                )\n",
    "            return dp[key]\n",
    "        return helper(0, True)"
   ]
  },
  {
   "cell_type": "code",
   "execution_count": 108,
   "metadata": {},
   "outputs": [],
   "source": [
    "from typing import List\n",
    "\n",
    "\n",
    "class Solution:\n",
    "    def maxProfit(self, prices: List[int]) -> int:\n",
    "        dp = [[-1,-1] for _ in range(len(prices))]\n",
    "        def helper(idx, buy):\n",
    "            if idx >= len(prices):\n",
    "                return 0\n",
    "            if dp[idx][buy] != -1:\n",
    "                return dp[idx][buy]\n",
    "            if buy:\n",
    "                dp[idx][buy] = max(\n",
    "                    -prices[idx] + helper(idx + 1, 0),\n",
    "                    0 + helper(idx + 1, 1)\n",
    "                )\n",
    "            else:\n",
    "                dp[idx][buy] = max(\n",
    "                    prices[idx] + helper(idx + 2, 1),\n",
    "                    0 + helper(idx + 1, 0)\n",
    "                )\n",
    "            return dp[idx][buy]\n",
    "        return helper(0, 1)"
   ]
  },
  {
   "cell_type": "code",
   "execution_count": 109,
   "metadata": {},
   "outputs": [],
   "source": [
    "from typing import List\n",
    "\n",
    "\n",
    "class Solution:\n",
    "    def maxProfit(self, prices: List[int]) -> int:\n",
    "        dp = [[0,0] for _ in range(len(prices)+2)]\n",
    "        for idx in range(len(prices)-1, -1, -1):\n",
    "            for buy in range(2):\n",
    "                if buy:\n",
    "                    dp[idx][buy] = max(\n",
    "                        -prices[idx] + dp[idx + 1][0],\n",
    "                        0 + dp[idx + 1][1]\n",
    "                    )\n",
    "                else:\n",
    "                    dp[idx][buy] = max(\n",
    "                        prices[idx] + dp[idx + 2][1],\n",
    "                        0 + dp[idx + 1][0]\n",
    "                    )\n",
    "        return dp[0][1]"
   ]
  },
  {
   "cell_type": "code",
   "execution_count": 110,
   "metadata": {},
   "outputs": [],
   "source": [
    "from typing import List\n",
    "\n",
    "\n",
    "class Solution:\n",
    "    def maxProfit(self, prices: List[int]) -> int:\n",
    "        dp = [[0,0] for _ in range(len(prices)+2)]\n",
    "        for idx in range(len(prices)-1, -1, -1):\n",
    "            dp[idx][1] = max(\n",
    "                -prices[idx] + dp[idx + 1][0],\n",
    "                0 + dp[idx + 1][1]\n",
    "            )\n",
    "            dp[idx][0] = max(\n",
    "                prices[idx] + dp[idx + 2][1],\n",
    "                0 + dp[idx + 1][0]\n",
    "            )\n",
    "        return dp[0][1]"
   ]
  },
  {
   "cell_type": "code",
   "execution_count": 111,
   "metadata": {},
   "outputs": [],
   "source": [
    "from typing import List\n",
    "\n",
    "\n",
    "class Solution:\n",
    "    def maxProfit(self, prices: List[int]) -> int:\n",
    "        a = 0\n",
    "        d = 0\n",
    "        e = [0,0]\n",
    "        for idx in range(len(prices)-1, -1, -1):\n",
    "            a = max(\n",
    "                -prices[idx] + d,\n",
    "                0 + a\n",
    "            )\n",
    "            d = max(\n",
    "                prices[idx] + e[1],\n",
    "                0 + d\n",
    "            )\n",
    "            e[1]=e[0]\n",
    "            e[0]=a\n",
    "        return a"
   ]
  },
  {
   "cell_type": "code",
   "execution_count": 112,
   "metadata": {},
   "outputs": [
    {
     "data": {
      "text/plain": [
       "3"
      ]
     },
     "execution_count": 112,
     "metadata": {},
     "output_type": "execute_result"
    }
   ],
   "source": [
    "prices = [1,2,3,0,2]\n",
    "sol = Solution()\n",
    "sol.maxProfit(prices)"
   ]
  },
  {
   "cell_type": "code",
   "execution_count": null,
   "metadata": {},
   "outputs": [],
   "source": []
  }
 ],
 "metadata": {
  "kernelspec": {
   "display_name": "dsa-venv",
   "language": "python",
   "name": "python3"
  },
  "language_info": {
   "codemirror_mode": {
    "name": "ipython",
    "version": 3
   },
   "file_extension": ".py",
   "mimetype": "text/x-python",
   "name": "python",
   "nbconvert_exporter": "python",
   "pygments_lexer": "ipython3",
   "version": "3.11.3"
  },
  "orig_nbformat": 4
 },
 "nbformat": 4,
 "nbformat_minor": 2
}
