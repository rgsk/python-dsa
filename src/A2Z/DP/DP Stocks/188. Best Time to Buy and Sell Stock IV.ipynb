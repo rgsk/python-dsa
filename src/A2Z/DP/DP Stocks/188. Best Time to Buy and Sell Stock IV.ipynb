{
 "cells": [
  {
   "cell_type": "code",
   "execution_count": 10,
   "metadata": {},
   "outputs": [],
   "source": [
    "from typing import List\n",
    "\n",
    "\n",
    "class Solution:\n",
    "    def maxProfit(self, k: int, prices: List[int]) -> int:\n",
    "        dp = [[0 for _ in range(k + 1)] for _ in range(2)] \n",
    "        for i in range(len(prices) - 1, -1, -1):\n",
    "            for remaining_transactions in range(1, k + 1):\n",
    "                    dp[1][remaining_transactions] = max(-prices[i] + dp[0][remaining_transactions], dp[1][remaining_transactions])\n",
    "                    dp[0][remaining_transactions] = max(prices[i] + dp[1][remaining_transactions-1], dp[0][remaining_transactions])\n",
    "        return dp[1][k]"
   ]
  },
  {
   "cell_type": "code",
   "execution_count": 11,
   "metadata": {},
   "outputs": [],
   "source": [
    "\n",
    "\n",
    "class Solution:\n",
    "\n",
    "    # solution I truly understood\n",
    "    def maxProfit(self, k: int, prices: List[int]) -> int:\n",
    "        cur = [[0 for _ in range(k+1)] for _ in range(2)] \n",
    "        after = [[0 for _ in range(k+1)] for _ in range(2)]\n",
    "        for i in range(len(prices) - 1, -1, -1):\n",
    "            for remaining_transactions in range(1, k+1):\n",
    "                    cur[1][remaining_transactions] = max(-prices[i] + after[0][remaining_transactions], after[1][remaining_transactions])\n",
    "                    cur[0][remaining_transactions] = max(prices[i] + after[1][remaining_transactions-1], after[0][remaining_transactions])\n",
    "            after = [[v for v in row] for row in cur]\n",
    "        return cur[1][k]"
   ]
  },
  {
   "cell_type": "code",
   "execution_count": 12,
   "metadata": {},
   "outputs": [
    {
     "data": {
      "text/plain": [
       "2"
      ]
     },
     "execution_count": 12,
     "metadata": {},
     "output_type": "execute_result"
    }
   ],
   "source": [
    "k = 2\n",
    "prices = [2,4,1]\n",
    "sol = Solution()\n",
    "sol.maxProfit(k, prices)"
   ]
  },
  {
   "cell_type": "code",
   "execution_count": 13,
   "metadata": {},
   "outputs": [
    {
     "data": {
      "text/plain": [
       "7"
      ]
     },
     "execution_count": 13,
     "metadata": {},
     "output_type": "execute_result"
    }
   ],
   "source": [
    "k = 2\n",
    "prices = [3,2,6,5,0,3]\n",
    "sol = Solution()\n",
    "sol.maxProfit(k, prices)"
   ]
  }
 ],
 "metadata": {
  "kernelspec": {
   "display_name": "dsa-venv",
   "language": "python",
   "name": "python3"
  },
  "language_info": {
   "codemirror_mode": {
    "name": "ipython",
    "version": 3
   },
   "file_extension": ".py",
   "mimetype": "text/x-python",
   "name": "python",
   "nbconvert_exporter": "python",
   "pygments_lexer": "ipython3",
   "version": "3.11.3"
  },
  "orig_nbformat": 4
 },
 "nbformat": 4,
 "nbformat_minor": 2
}
