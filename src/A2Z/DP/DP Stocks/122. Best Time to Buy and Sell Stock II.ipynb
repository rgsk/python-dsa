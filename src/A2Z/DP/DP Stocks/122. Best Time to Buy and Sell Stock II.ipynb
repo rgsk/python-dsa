{
 "cells": [
  {
   "cell_type": "code",
   "execution_count": 119,
   "metadata": {},
   "outputs": [],
   "source": [
    "from typing import List\n",
    "\n",
    "\n",
    "class Solution:\n",
    "    def maxProfit(self, prices: List[int]) -> int:\n",
    "        def helper(i, buy):\n",
    "            if i == len(prices):\n",
    "                return 0\n",
    "            if buy:\n",
    "                return max(-prices[i] + helper(i + 1, False), helper(i + 1, True))\n",
    "            else:\n",
    "                return max(prices[i] + helper(i + 1, True), helper(i + 1, False))\n",
    "        return helper(0, True)"
   ]
  },
  {
   "cell_type": "code",
   "execution_count": 120,
   "metadata": {},
   "outputs": [],
   "source": [
    "from functools import cache\n",
    "from typing import List\n",
    "\n",
    "\n",
    "class Solution:\n",
    "    def maxProfit(self, prices: List[int]) -> int:\n",
    "        @cache\n",
    "        def helper(i, buy):\n",
    "            if i == len(prices):\n",
    "                return 0\n",
    "            if buy:\n",
    "                return max(-prices[i] + helper(i + 1, False), helper(i + 1, True))\n",
    "            else:\n",
    "                return max(prices[i] + helper(i + 1, True), helper(i + 1, False))\n",
    "        return helper(0, True)"
   ]
  },
  {
   "cell_type": "code",
   "execution_count": 121,
   "metadata": {},
   "outputs": [],
   "source": [
    "from typing import List\n",
    "\n",
    "\n",
    "class Solution:\n",
    "    def maxProfit(self, prices: List[int]) -> int:\n",
    "        dp = [[None for _ in range(len(prices))] for _ in range(2)]\n",
    "        def helper(i, buy):\n",
    "            if i == len(prices):\n",
    "                return 0\n",
    "            if dp[buy][i] != None:\n",
    "                return dp[buy][i]\n",
    "            if buy:\n",
    "                dp[buy][i] = max(-prices[i - 1] + helper(i + 1, 0), helper(i + 1, 1))\n",
    "            else:\n",
    "                dp[buy][i] = max(prices[i - 1] + helper(i + 1, 1), helper(i + 1, 0))\n",
    "            return dp[buy][i]\n",
    "        return helper(0, 1)"
   ]
  },
  {
   "cell_type": "code",
   "execution_count": 122,
   "metadata": {},
   "outputs": [],
   "source": [
    "from typing import List\n",
    "\n",
    "\n",
    "class Solution:\n",
    "    def maxProfit(self, prices: List[int]) -> int:\n",
    "        rows = len(prices)\n",
    "        cols = 2\n",
    "        dp = [[0 for _ in range(cols)] for _ in range(rows + 1)]\n",
    "        for i in range(rows - 1, -1, -1):\n",
    "            for buy in range(cols):\n",
    "                if buy:\n",
    "                    dp[i][1] = max(-prices[i] + dp[i+1][0], dp[i+1][1])\n",
    "                else:\n",
    "                    dp[i][0] = max(prices[i] + dp[i+1][1], dp[i+1][0])\n",
    "        return dp[0][1]"
   ]
  },
  {
   "cell_type": "code",
   "execution_count": 123,
   "metadata": {},
   "outputs": [],
   "source": [
    "from typing import List\n",
    "\n",
    "\n",
    "class Solution:\n",
    "    def maxProfit(self, prices: List[int]) -> int:\n",
    "        rows = len(prices)\n",
    "        cols = 2\n",
    "        a = 0\n",
    "        b = 0\n",
    "        for i in range(rows - 1, -1, -1):\n",
    "            for buy in range(cols):\n",
    "                if buy:\n",
    "                    a = max(-prices[i] + b, a)\n",
    "                else:\n",
    "                    b = max(prices[i] + a, b)\n",
    "        return a"
   ]
  },
  {
   "cell_type": "code",
   "execution_count": 124,
   "metadata": {},
   "outputs": [],
   "source": [
    "from typing import List\n",
    "\n",
    "\n",
    "class Solution:\n",
    "    def maxProfit(self, prices: List[int]) -> int:\n",
    "        a = 0\n",
    "        b = 0\n",
    "        for i in range(len(prices)-1, -1, -1):\n",
    "            a = max(-prices[i] + b, a)\n",
    "            b = max(prices[i] + a, b)\n",
    "        return a"
   ]
  },
  {
   "cell_type": "code",
   "execution_count": null,
   "metadata": {},
   "outputs": [],
   "source": [
    "from typing import List\n",
    "\n",
    "\n",
    "class Solution:\n",
    "    def maxProfit(self, prices: List[int]) -> int:\n",
    "        a = 0\n",
    "        b = 0\n",
    "        for i in range(len(prices)-1, -1, -1):\n",
    "            c = a\n",
    "            a = max(-prices[i] + b, a)\n",
    "            b = max(prices[i] + c, b)\n",
    "        return a"
   ]
  },
  {
   "cell_type": "code",
   "execution_count": 125,
   "metadata": {},
   "outputs": [
    {
     "data": {
      "text/plain": [
       "7"
      ]
     },
     "execution_count": 125,
     "metadata": {},
     "output_type": "execute_result"
    }
   ],
   "source": [
    "prices = [7,1,5,3,6,4]\n",
    "sol = Solution()\n",
    "sol.maxProfit(prices)"
   ]
  },
  {
   "cell_type": "code",
   "execution_count": 126,
   "metadata": {},
   "outputs": [
    {
     "data": {
      "text/plain": [
       "4"
      ]
     },
     "execution_count": 126,
     "metadata": {},
     "output_type": "execute_result"
    }
   ],
   "source": [
    "prices = [1,2,3,4,5]\n",
    "sol = Solution()\n",
    "sol.maxProfit(prices)"
   ]
  },
  {
   "cell_type": "code",
   "execution_count": 127,
   "metadata": {},
   "outputs": [
    {
     "data": {
      "text/plain": [
       "0"
      ]
     },
     "execution_count": 127,
     "metadata": {},
     "output_type": "execute_result"
    }
   ],
   "source": [
    "prices = [7,6,4,3,1]\n",
    "sol = Solution()\n",
    "sol.maxProfit(prices)"
   ]
  }
 ],
 "metadata": {
  "kernelspec": {
   "display_name": "dsa-venv",
   "language": "python",
   "name": "python3"
  },
  "language_info": {
   "codemirror_mode": {
    "name": "ipython",
    "version": 3
   },
   "file_extension": ".py",
   "mimetype": "text/x-python",
   "name": "python",
   "nbconvert_exporter": "python",
   "pygments_lexer": "ipython3",
   "version": "3.11.3"
  },
  "orig_nbformat": 4
 },
 "nbformat": 4,
 "nbformat_minor": 2
}
