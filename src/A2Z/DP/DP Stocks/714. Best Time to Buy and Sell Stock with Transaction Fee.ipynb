{
 "cells": [
  {
   "cell_type": "code",
   "execution_count": 28,
   "metadata": {},
   "outputs": [],
   "source": [
    "from typing import List\n",
    "\n",
    "\n",
    "class Solution:\n",
    "    def maxProfit(self, prices: List[int], fee: int) -> int:\n",
    "        a = 0\n",
    "        b = 0\n",
    "        for i in range(len(prices)-1, -1, -1):\n",
    "            c = a\n",
    "            a = max(-prices[i] + b, a)\n",
    "            b = max(prices[i] + c - fee, b)\n",
    "        return a"
   ]
  },
  {
   "cell_type": "code",
   "execution_count": 29,
   "metadata": {},
   "outputs": [
    {
     "data": {
      "text/plain": [
       "8"
      ]
     },
     "execution_count": 29,
     "metadata": {},
     "output_type": "execute_result"
    }
   ],
   "source": [
    "prices = [1,3,2,8,4,9]\n",
    "fee = 2\n",
    "sol = Solution()\n",
    "sol.maxProfit(prices, fee)"
   ]
  },
  {
   "cell_type": "code",
   "execution_count": 30,
   "metadata": {},
   "outputs": [
    {
     "data": {
      "text/plain": [
       "6"
      ]
     },
     "execution_count": 30,
     "metadata": {},
     "output_type": "execute_result"
    }
   ],
   "source": [
    "prices = [1,3,7,5,10,3]\n",
    "fee = 3\n",
    "sol = Solution()\n",
    "sol.maxProfit(prices, fee)"
   ]
  }
 ],
 "metadata": {
  "kernelspec": {
   "display_name": "dsa-venv",
   "language": "python",
   "name": "python3"
  },
  "language_info": {
   "codemirror_mode": {
    "name": "ipython",
    "version": 3
   },
   "file_extension": ".py",
   "mimetype": "text/x-python",
   "name": "python",
   "nbconvert_exporter": "python",
   "pygments_lexer": "ipython3",
   "version": "3.11.3"
  },
  "orig_nbformat": 4
 },
 "nbformat": 4,
 "nbformat_minor": 2
}
