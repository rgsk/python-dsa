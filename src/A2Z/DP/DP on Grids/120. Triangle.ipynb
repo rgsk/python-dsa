{
 "cells": [
  {
   "cell_type": "code",
   "execution_count": 18,
   "metadata": {},
   "outputs": [],
   "source": [
    "from typing import List\n",
    "\n",
    "\n",
    "class Solution:\n",
    "    def minimumTotal(self, triangle: List[List[int]]) -> int:\n",
    "        rows = len(triangle)\n",
    "        def helper(i, j):\n",
    "            if i == rows:\n",
    "                return 0\n",
    "            return triangle[i][j] + min(helper(i + 1, j), helper(i + 1, j + 1))\n",
    "        return helper(0,0)"
   ]
  },
  {
   "cell_type": "code",
   "execution_count": 19,
   "metadata": {},
   "outputs": [],
   "source": [
    "from functools import cache\n",
    "from typing import List\n",
    "\n",
    "\n",
    "class Solution:\n",
    "    def minimumTotal(self, triangle: List[List[int]]) -> int:\n",
    "        rows = len(triangle)\n",
    "        @cache\n",
    "        def helper(i, j):\n",
    "            if i == rows:\n",
    "                return 0\n",
    "            return triangle[i][j] + min(helper(i + 1, j), helper(i + 1, j + 1))\n",
    "        return helper(0,0)"
   ]
  },
  {
   "cell_type": "code",
   "execution_count": 20,
   "metadata": {},
   "outputs": [],
   "source": [
    "from typing import List\n",
    "\n",
    "\n",
    "class Solution:\n",
    "    def minimumTotal(self, triangle: List[List[int]]) -> int:\n",
    "        rows = len(triangle)\n",
    "        dp = [[None for j in row] for row in triangle]\n",
    "        def helper(i, j):\n",
    "            if i == rows:\n",
    "                return 0\n",
    "            if dp[i][j] != None:\n",
    "                return dp[i][j]\n",
    "            dp[i][j] = triangle[i][j] + min(helper(i + 1, j), helper(i + 1, j + 1))\n",
    "            return dp[i][j]\n",
    "        return helper(0,0)"
   ]
  },
  {
   "cell_type": "code",
   "execution_count": 21,
   "metadata": {},
   "outputs": [],
   "source": [
    "from typing import List\n",
    "\n",
    "\n",
    "class Solution:\n",
    "    def minimumTotal(self, triangle: List[List[int]]) -> int:\n",
    "        rows = len(triangle)\n",
    "        dp = [[0 for i in row] for row in triangle]\n",
    "        for rowIndex in range(rows - 1, -1, -1):\n",
    "            for i in range(len(triangle[rowIndex])):\n",
    "                if rowIndex == rows - 1:\n",
    "                    dp[rowIndex][i] = triangle[rowIndex][i]\n",
    "                else:\n",
    "                    dp[rowIndex][i] = triangle[rowIndex][i] + min(dp[rowIndex + 1][i], dp[rowIndex + 1][i+1])\n",
    "        return dp[0][0]"
   ]
  },
  {
   "cell_type": "code",
   "execution_count": 22,
   "metadata": {},
   "outputs": [
    {
     "data": {
      "text/plain": [
       "11"
      ]
     },
     "execution_count": 22,
     "metadata": {},
     "output_type": "execute_result"
    }
   ],
   "source": [
    "triangle = [[2],[3,4],[6,5,7],[4,1,8,3]]\n",
    "sol = Solution()\n",
    "sol.minimumTotal(triangle)"
   ]
  },
  {
   "cell_type": "code",
   "execution_count": 23,
   "metadata": {},
   "outputs": [
    {
     "data": {
      "text/plain": [
       "-10"
      ]
     },
     "execution_count": 23,
     "metadata": {},
     "output_type": "execute_result"
    }
   ],
   "source": [
    "triangle = [[-10]]\n",
    "sol = Solution()\n",
    "sol.minimumTotal(triangle)"
   ]
  }
 ],
 "metadata": {
  "kernelspec": {
   "display_name": "dsa-venv",
   "language": "python",
   "name": "python3"
  },
  "language_info": {
   "codemirror_mode": {
    "name": "ipython",
    "version": 3
   },
   "file_extension": ".py",
   "mimetype": "text/x-python",
   "name": "python",
   "nbconvert_exporter": "python",
   "pygments_lexer": "ipython3",
   "version": "3.11.3"
  },
  "orig_nbformat": 4
 },
 "nbformat": 4,
 "nbformat_minor": 2
}
