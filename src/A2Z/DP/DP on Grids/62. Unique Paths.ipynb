{
 "cells": [
  {
   "cell_type": "code",
   "execution_count": 56,
   "metadata": {},
   "outputs": [],
   "source": [
    "# https://leetcode.com/problems/unique-paths/description/"
   ]
  },
  {
   "cell_type": "code",
   "execution_count": 57,
   "metadata": {},
   "outputs": [],
   "source": [
    "class Solution:\n",
    "    def uniquePaths(self, rows: int, cols: int) -> int:\n",
    "        def helper(i, j):\n",
    "            if i == rows or j == cols:\n",
    "                return 0\n",
    "            if i == rows - 1 and j == cols - 1:\n",
    "                return 1\n",
    "            return helper(i + 1, j) + helper(i, j + 1)\n",
    "        return helper(0, 0)"
   ]
  },
  {
   "cell_type": "code",
   "execution_count": 58,
   "metadata": {},
   "outputs": [],
   "source": [
    "from functools import cache\n",
    "\n",
    "\n",
    "class Solution:\n",
    "    def uniquePaths(self, rows: int, cols: int) -> int:\n",
    "        @cache\n",
    "        def helper(i, j):\n",
    "            if i == rows or j == cols:\n",
    "                return 0\n",
    "            if i == rows - 1 and j == cols - 1:\n",
    "                return 1\n",
    "            return helper(i + 1, j) + helper(i, j + 1)\n",
    "        return helper(0, 0)"
   ]
  },
  {
   "cell_type": "code",
   "execution_count": 59,
   "metadata": {},
   "outputs": [],
   "source": [
    "\n",
    "class Solution:\n",
    "    def uniquePaths(self, rows: int, cols: int) -> int:\n",
    "        dp = [[-1 for _ in range(cols)] for _ in range(rows)]\n",
    "        def helper(i, j):\n",
    "            if i == rows or j == cols:\n",
    "                return 0\n",
    "            if i == rows - 1 and j == cols - 1:\n",
    "                return 1\n",
    "            if dp[i][j] != -1:\n",
    "                return dp[i][j]\n",
    "            dp[i][j] = helper(i + 1, j) + helper(i, j + 1)\n",
    "            return dp[i][j]\n",
    "        return helper(0, 0)"
   ]
  },
  {
   "cell_type": "code",
   "execution_count": 60,
   "metadata": {},
   "outputs": [],
   "source": [
    "\n",
    "class Solution:\n",
    "    def uniquePaths(self, rows: int, cols: int) -> int:\n",
    "        dp = [[-1 for _ in range(cols)] for _ in range(rows)]\n",
    "        def helper(i, j):\n",
    "            if i == -1 or j == -1:\n",
    "                return 0\n",
    "            if i == 0 and j == 0:\n",
    "                return 1\n",
    "            if dp[i][j] != -1:\n",
    "                return dp[i][j]\n",
    "            dp[i][j] = helper(i - 1, j) + helper(i, j - 1)\n",
    "            return dp[i][j]\n",
    "        return helper(rows - 1, cols - 1)"
   ]
  },
  {
   "cell_type": "code",
   "execution_count": 61,
   "metadata": {},
   "outputs": [],
   "source": [
    "\n",
    "class Solution:\n",
    "    def uniquePaths(self, rows: int, cols: int) -> int:\n",
    "        dp = [[-1 for _ in range(cols + 1)] for _ in range(rows + 1)]\n",
    "        def helper(i, j):\n",
    "            if i == 0 or j == 0:\n",
    "                return 0\n",
    "            if i == 1 and j == 1:\n",
    "                return 1\n",
    "            if dp[i][j] != -1:\n",
    "                return dp[i][j]\n",
    "            dp[i][j] = helper(i - 1, j) + helper(i, j - 1)\n",
    "            return dp[i][j]\n",
    "        return helper(rows, cols)"
   ]
  },
  {
   "cell_type": "code",
   "execution_count": 62,
   "metadata": {},
   "outputs": [],
   "source": [
    "\n",
    "class Solution:\n",
    "    def uniquePaths(self, rows: int, cols: int) -> int:\n",
    "        dp = [[0 for _ in range(cols + 1)] for _ in range(rows + 1)]\n",
    "        for i in range(1, rows + 1):\n",
    "            for j in range(1, cols + 1):\n",
    "                if i == 1 and j == 1:\n",
    "                    dp[i][j] = 1\n",
    "                else:\n",
    "                    dp[i][j] = dp[i-1][j] + dp[i][j-1]\n",
    "        return dp[rows][cols]"
   ]
  },
  {
   "cell_type": "code",
   "execution_count": 63,
   "metadata": {},
   "outputs": [
    {
     "data": {
      "text/plain": [
       "28"
      ]
     },
     "execution_count": 63,
     "metadata": {},
     "output_type": "execute_result"
    }
   ],
   "source": [
    "rows = 3 \n",
    "cols = 7\n",
    "sol = Solution()\n",
    "sol.uniquePaths(rows, cols)"
   ]
  },
  {
   "cell_type": "code",
   "execution_count": 64,
   "metadata": {},
   "outputs": [
    {
     "data": {
      "text/plain": [
       "3"
      ]
     },
     "execution_count": 64,
     "metadata": {},
     "output_type": "execute_result"
    }
   ],
   "source": [
    "rows = 3 \n",
    "cols = 2\n",
    "sol = Solution()\n",
    "sol.uniquePaths(rows, cols)"
   ]
  }
 ],
 "metadata": {
  "kernelspec": {
   "display_name": "dsa-venv",
   "language": "python",
   "name": "python3"
  },
  "language_info": {
   "codemirror_mode": {
    "name": "ipython",
    "version": 3
   },
   "file_extension": ".py",
   "mimetype": "text/x-python",
   "name": "python",
   "nbconvert_exporter": "python",
   "pygments_lexer": "ipython3",
   "version": "3.11.3"
  },
  "orig_nbformat": 4
 },
 "nbformat": 4,
 "nbformat_minor": 2
}
