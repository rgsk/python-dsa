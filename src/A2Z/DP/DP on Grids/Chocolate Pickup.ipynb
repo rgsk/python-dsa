{
 "cells": [
  {
   "cell_type": "code",
   "execution_count": 16,
   "metadata": {},
   "outputs": [],
   "source": [
    "from typing import List\n",
    "\n",
    "INT_MIN = -(2 ** 31)\n",
    "\n",
    "def maximumChocolates(rows: int, cols: int, grid: List[List[int]]) -> int:\n",
    "    # write your code here\n",
    "    def helper(i, aj, bj):\n",
    "        if i == rows or aj == -1 or bj == -1 or aj == cols or bj == cols or aj == bj:\n",
    "            return INT_MIN\n",
    "        current = grid[i][aj] + grid[i][bj]\n",
    "        if i == rows - 1:\n",
    "            return current\n",
    "        rest = INT_MIN\n",
    "        for x in range(aj - 1, aj + 2):\n",
    "            for y in range(bj - 1, bj + 2):\n",
    "                rest = max(rest, helper(i + 1, x, y))\n",
    "        return current + rest\n",
    "    return helper(0, 0, cols - 1)"
   ]
  },
  {
   "cell_type": "code",
   "execution_count": 17,
   "metadata": {},
   "outputs": [],
   "source": [
    "from typing import List\n",
    "\n",
    "INT_MIN = -(2 ** 31)\n",
    "\n",
    "def maximumChocolates(rows: int, cols: int, grid: List[List[int]]) -> int:\n",
    "    # write your code here\n",
    "    dp = [[[None for _ in range(cols)] for _ in range(cols)] for _ in range(rows)]\n",
    "    def helper(i, aj, bj):\n",
    "        if i == rows or aj == -1 or bj == -1 or aj == cols or bj == cols or aj == bj:\n",
    "            return INT_MIN\n",
    "        current = grid[i][aj] + grid[i][bj]\n",
    "        if i == rows - 1:\n",
    "            return current\n",
    "        if dp[i][aj][bj] != None:\n",
    "            return dp[i][aj][bj]\n",
    "        rest = INT_MIN\n",
    "        for x in range(aj - 1, aj + 2):\n",
    "            for y in range(bj - 1, bj + 2):\n",
    "                rest = max(rest, helper(i + 1, x, y))\n",
    "        dp[i][aj][bj] = current + rest\n",
    "        return dp[i][aj][bj]\n",
    "    return helper(0, 0, cols - 1)"
   ]
  },
  {
   "cell_type": "code",
   "execution_count": 18,
   "metadata": {},
   "outputs": [],
   "source": [
    "from typing import List\n",
    "\n",
    "INT_MIN = -(2 ** 31)\n",
    "\n",
    "def maximumChocolates(rows: int, cols: int, grid: List[List[int]]) -> int:\n",
    "    # write your code here\n",
    "    dp = [[[None for _ in range(cols)] for _ in range(cols)] for _ in range(rows)]\n",
    "    for i in range(rows - 1, -1, -1):\n",
    "        for aj in range(cols):\n",
    "            for bj in range(cols):\n",
    "                current = grid[i][aj] + grid[i][bj]\n",
    "                if i == rows - 1:\n",
    "                    dp[i][aj][bj] = current\n",
    "                else:\n",
    "                    rest = INT_MIN\n",
    "                    for x in range(aj - 1, aj + 2):\n",
    "                        for y in range(bj - 1, bj + 2):\n",
    "                            if x >= 0 and y >= 0 and x < cols and y < cols and x != y:\n",
    "                                rest = max(rest, dp[i + 1][x][y])\n",
    "                    dp[i][aj][bj] = current + rest\n",
    "    return dp[i][0][cols - 1]"
   ]
  },
  {
   "cell_type": "code",
   "execution_count": 19,
   "metadata": {},
   "outputs": [
    {
     "data": {
      "text/plain": [
       "21"
      ]
     },
     "execution_count": 19,
     "metadata": {},
     "output_type": "execute_result"
    }
   ],
   "source": [
    "grid = [\n",
    "    [2, 3, 1, 2],\n",
    "    [3, 4, 2, 2],\n",
    "    [5, 6, 3, 5]\n",
    "]\n",
    "rows = len(grid)\n",
    "cols = len(grid[0])\n",
    "maximumChocolates(rows, cols, grid)"
   ]
  }
 ],
 "metadata": {
  "kernelspec": {
   "display_name": "dsa-venv",
   "language": "python",
   "name": "python3"
  },
  "language_info": {
   "codemirror_mode": {
    "name": "ipython",
    "version": 3
   },
   "file_extension": ".py",
   "mimetype": "text/x-python",
   "name": "python",
   "nbconvert_exporter": "python",
   "pygments_lexer": "ipython3",
   "version": "3.11.3"
  },
  "orig_nbformat": 4
 },
 "nbformat": 4,
 "nbformat_minor": 2
}
