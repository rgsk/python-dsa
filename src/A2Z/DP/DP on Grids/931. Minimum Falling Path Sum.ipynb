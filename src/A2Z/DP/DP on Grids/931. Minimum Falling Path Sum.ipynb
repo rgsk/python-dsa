{
 "cells": [
  {
   "cell_type": "code",
   "execution_count": 42,
   "metadata": {},
   "outputs": [],
   "source": [
    "# https://leetcode.com/problems/minimum-falling-path-sum/description/"
   ]
  },
  {
   "cell_type": "code",
   "execution_count": 43,
   "metadata": {},
   "outputs": [],
   "source": [
    "from typing import List\n",
    "\n",
    "INT_MAX = (2 ** 31)-1\n",
    "\n",
    "class Solution:\n",
    "    def minFallingPathSum(self, matrix: List[List[int]]) -> int:\n",
    "        rows = len(matrix)\n",
    "        cols = len(matrix[0])\n",
    "        def helper(i, j):\n",
    "            if j == cols or j == -1:\n",
    "                return INT_MAX\n",
    "            if i == rows:\n",
    "                return 0\n",
    "            return matrix[i][j] + min(helper(i + 1, j - 1), helper(i + 1, j), helper(i + 1, j + 1))\n",
    "        ans = INT_MAX\n",
    "        for j in range(cols):\n",
    "            ans = min(ans, helper(0, j))\n",
    "        return ans"
   ]
  },
  {
   "cell_type": "code",
   "execution_count": 44,
   "metadata": {},
   "outputs": [],
   "source": [
    "from functools import cache\n",
    "from typing import List\n",
    "\n",
    "INT_MAX = (2 ** 31)-1\n",
    "\n",
    "class Solution:\n",
    "    def minFallingPathSum(self, matrix: List[List[int]]) -> int:\n",
    "        rows = len(matrix)\n",
    "        cols = len(matrix[0])\n",
    "        @cache\n",
    "        def helper(i, j):\n",
    "            if j == cols or j == -1:\n",
    "                return INT_MAX\n",
    "            if i == rows:\n",
    "                return 0\n",
    "            return matrix[i][j] + min(helper(i + 1, j - 1), helper(i + 1, j), helper(i + 1, j + 1))\n",
    "        ans = INT_MAX\n",
    "        for j in range(cols):\n",
    "            ans = min(ans, helper(0, j))\n",
    "        return ans"
   ]
  },
  {
   "cell_type": "code",
   "execution_count": 45,
   "metadata": {},
   "outputs": [],
   "source": [
    "from typing import List\n",
    "\n",
    "INT_MAX = (2 ** 31)-1\n",
    "\n",
    "class Solution:\n",
    "    def minFallingPathSum(self, matrix: List[List[int]]) -> int:\n",
    "        rows = len(matrix)\n",
    "        cols = len(matrix[0])\n",
    "        dp = [[None for _ in range(cols)] for _ in range(rows)]\n",
    "        def helper(i, j):\n",
    "            if j == cols or j == -1:\n",
    "                return INT_MAX\n",
    "            if i == rows:\n",
    "                return 0\n",
    "            if dp[i][j] != None:\n",
    "                return dp[i][j]\n",
    "            dp[i][j] = matrix[i][j] + min(helper(i + 1, j - 1), helper(i + 1, j), helper(i + 1, j + 1))\n",
    "            return dp[i][j]\n",
    "        ans = INT_MAX\n",
    "        for j in range(cols):\n",
    "            ans = min(ans, helper(0, j))\n",
    "        return ans"
   ]
  },
  {
   "cell_type": "code",
   "execution_count": 46,
   "metadata": {},
   "outputs": [],
   "source": [
    "from typing import List\n",
    "\n",
    "INT_MAX = (2 ** 31)-1\n",
    "\n",
    "class Solution:\n",
    "    def minFallingPathSum(self, matrix: List[List[int]]) -> int:\n",
    "        rows = len(matrix)\n",
    "        cols = len(matrix[0])\n",
    "        dp = [[0 for _ in range(cols)] for _ in range(rows)]\n",
    "        for i in range(rows - 1, -1, -1):\n",
    "            for j in range(cols):\n",
    "                if i == rows - 1:\n",
    "                    dp[i][j] = matrix[i][j]\n",
    "                else:\n",
    "                    dp[i][j] = matrix[i][j] + min(\n",
    "                        dp[i+1][j-1] if j - 1 >= 0 else INT_MAX, \n",
    "                        dp[i+1][j], \n",
    "                        dp[i+1][j+1] if j + 1 < cols else INT_MAX\n",
    "                    )\n",
    "        ans = INT_MAX\n",
    "        for j in range(cols):\n",
    "            ans = min(ans, dp[0][j])\n",
    "        return ans"
   ]
  },
  {
   "cell_type": "code",
   "execution_count": 47,
   "metadata": {},
   "outputs": [
    {
     "data": {
      "text/plain": [
       "13"
      ]
     },
     "execution_count": 47,
     "metadata": {},
     "output_type": "execute_result"
    }
   ],
   "source": [
    "matrix = [[2,1,3],[6,5,4],[7,8,9]]\n",
    "sol = Solution()\n",
    "sol.minFallingPathSum(matrix)"
   ]
  },
  {
   "cell_type": "code",
   "execution_count": 48,
   "metadata": {},
   "outputs": [
    {
     "data": {
      "text/plain": [
       "-59"
      ]
     },
     "execution_count": 48,
     "metadata": {},
     "output_type": "execute_result"
    }
   ],
   "source": [
    "matrix = [[-19,57],[-40,-5]]\n",
    "sol = Solution()\n",
    "sol.minFallingPathSum(matrix)"
   ]
  }
 ],
 "metadata": {
  "kernelspec": {
   "display_name": "dsa-venv",
   "language": "python",
   "name": "python3"
  },
  "language_info": {
   "codemirror_mode": {
    "name": "ipython",
    "version": 3
   },
   "file_extension": ".py",
   "mimetype": "text/x-python",
   "name": "python",
   "nbconvert_exporter": "python",
   "pygments_lexer": "ipython3",
   "version": "3.11.3"
  },
  "orig_nbformat": 4
 },
 "nbformat": 4,
 "nbformat_minor": 2
}
