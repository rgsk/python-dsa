{
 "cells": [
  {
   "cell_type": "code",
   "execution_count": 30,
   "metadata": {},
   "outputs": [],
   "source": [
    "from typing import List\n",
    "\n",
    "INT_MAX = (2 ** 31)-1\n",
    "\n",
    "class Solution:\n",
    "    def minPathSum(self, grid: List[List[int]]) -> int:\n",
    "        rows = len(grid)\n",
    "        cols = len(grid[0])\n",
    "        def helper(i, j):\n",
    "            if i == rows or j == cols:\n",
    "                return INT_MAX\n",
    "            if i == rows - 1 and j == cols - 1:\n",
    "                return grid[rows-1][cols-1]\n",
    "            return grid[i][j] + min(helper(i + 1, j), helper(i, j + 1))\n",
    "        return helper(0, 0)"
   ]
  },
  {
   "cell_type": "code",
   "execution_count": 31,
   "metadata": {},
   "outputs": [],
   "source": [
    "from functools import cache\n",
    "from typing import List\n",
    "\n",
    "INT_MAX = (2 ** 31)-1\n",
    "\n",
    "class Solution:\n",
    "    def minPathSum(self, grid: List[List[int]]) -> int:\n",
    "        rows = len(grid)\n",
    "        cols = len(grid[0])\n",
    "        @cache\n",
    "        def helper(i, j):\n",
    "            if i == rows or j == cols:\n",
    "                return INT_MAX\n",
    "            if i == rows - 1 and j == cols - 1:\n",
    "                return grid[rows-1][cols-1]\n",
    "            return grid[i][j] + min(helper(i + 1, j), helper(i, j + 1))\n",
    "        return helper(0, 0)"
   ]
  },
  {
   "cell_type": "code",
   "execution_count": 32,
   "metadata": {},
   "outputs": [],
   "source": [
    "from typing import List\n",
    "\n",
    "INT_MAX = (2 ** 31)-1\n",
    "\n",
    "class Solution:\n",
    "    def minPathSum(self, grid: List[List[int]]) -> int:\n",
    "        rows = len(grid)\n",
    "        cols = len(grid[0])\n",
    "        dp = [[-1 for j in range(cols)] for i in range(rows)]\n",
    "        def helper(i, j):\n",
    "            if i == rows or j == cols:\n",
    "                return INT_MAX\n",
    "            if i == rows - 1 and j == cols - 1:\n",
    "                return grid[rows-1][cols-1]\n",
    "            if dp[i][j] != -1:\n",
    "                return dp[i][j]\n",
    "            dp[i][j] = grid[i][j] + min(helper(i + 1, j), helper(i, j + 1))\n",
    "            return dp[i][j]\n",
    "        return helper(0, 0)"
   ]
  },
  {
   "cell_type": "code",
   "execution_count": 33,
   "metadata": {},
   "outputs": [],
   "source": [
    "from typing import List\n",
    "\n",
    "INT_MAX = (2 ** 31)-1\n",
    "\n",
    "class Solution:\n",
    "    def minPathSum(self, grid: List[List[int]]) -> int:\n",
    "        rows = len(grid)\n",
    "        cols = len(grid[0])\n",
    "        dp = [[-1 for j in range(cols)] for i in range(rows)]\n",
    "        def helper(i, j):\n",
    "            if i == -1 or j == -1:\n",
    "                return INT_MAX\n",
    "            if i == 0 and j == 0:\n",
    "                return grid[0][0]\n",
    "            if dp[i][j] != -1:\n",
    "                return dp[i][j]\n",
    "            dp[i][j] = grid[i][j] + min(helper(i - 1, j), helper(i, j - 1))\n",
    "            return dp[i][j]\n",
    "        return helper(rows - 1, cols - 1)"
   ]
  },
  {
   "cell_type": "code",
   "execution_count": 34,
   "metadata": {},
   "outputs": [],
   "source": [
    "from typing import List\n",
    "\n",
    "INT_MAX = (2 ** 31)-1\n",
    "\n",
    "class Solution:\n",
    "    def minPathSum(self, grid: List[List[int]]) -> int:\n",
    "        rows = len(grid)\n",
    "        cols = len(grid[0])\n",
    "        dp = [[-1 for j in range(cols + 1)] for i in range(rows + 1)]\n",
    "        def helper(i, j):\n",
    "            if i == 0 or j == 0:\n",
    "                return INT_MAX\n",
    "            if i == 1 and j == 1:\n",
    "                return grid[0][0]\n",
    "            if dp[i][j] != -1:\n",
    "                return dp[i][j]\n",
    "            dp[i][j] = grid[i - 1][j - 1] + min(helper(i - 1, j), helper(i, j - 1))\n",
    "            return dp[i][j]\n",
    "        return helper(rows, cols)"
   ]
  },
  {
   "cell_type": "code",
   "execution_count": 35,
   "metadata": {},
   "outputs": [],
   "source": [
    "from typing import List\n",
    "\n",
    "INT_MAX = (2 ** 31)-1\n",
    "\n",
    "class Solution:\n",
    "    def minPathSum(self, grid: List[List[int]]) -> int:\n",
    "        rows = len(grid)\n",
    "        cols = len(grid[0])\n",
    "        dp = [[INT_MAX for j in range(cols + 1)] for i in range(rows + 1)]\n",
    "        for i in range(1, rows + 1):\n",
    "            for j in range(1, cols + 1):\n",
    "                if i == 1 and j == 1:\n",
    "                    dp[i][j] = grid[0][0]\n",
    "                else:\n",
    "                    dp[i][j] = grid[i - 1][j - 1] + min(dp[i-1][j], dp[i][j-1])\n",
    "\n",
    "        return dp[rows][cols]"
   ]
  },
  {
   "cell_type": "code",
   "execution_count": 36,
   "metadata": {},
   "outputs": [
    {
     "data": {
      "text/plain": [
       "7"
      ]
     },
     "execution_count": 36,
     "metadata": {},
     "output_type": "execute_result"
    }
   ],
   "source": [
    "grid = [[1,3,1],[1,5,1],[4,2,1]]\n",
    "sol = Solution()\n",
    "sol.minPathSum(grid)"
   ]
  },
  {
   "cell_type": "code",
   "execution_count": 37,
   "metadata": {},
   "outputs": [
    {
     "data": {
      "text/plain": [
       "12"
      ]
     },
     "execution_count": 37,
     "metadata": {},
     "output_type": "execute_result"
    }
   ],
   "source": [
    "grid = [[1,2,3],[4,5,6]]\n",
    "sol = Solution()\n",
    "sol.minPathSum(grid)"
   ]
  }
 ],
 "metadata": {
  "kernelspec": {
   "display_name": "dsa-venv",
   "language": "python",
   "name": "python3"
  },
  "language_info": {
   "codemirror_mode": {
    "name": "ipython",
    "version": 3
   },
   "file_extension": ".py",
   "mimetype": "text/x-python",
   "name": "python",
   "nbconvert_exporter": "python",
   "pygments_lexer": "ipython3",
   "version": "3.11.3"
  },
  "orig_nbformat": 4
 },
 "nbformat": 4,
 "nbformat_minor": 2
}
