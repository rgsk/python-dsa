{
 "cells": [
  {
   "cell_type": "code",
   "execution_count": 59,
   "metadata": {},
   "outputs": [],
   "source": [
    "from typing import *\n",
    "\n",
    "INT_MIN = -(2 ** 31)\n",
    "\n",
    "def ninjaTraining(n: int, points: List[List[int]]) -> int:\n",
    "    def helper(i, j):\n",
    "        if j == -1 or j == 3:\n",
    "            return INT_MIN\n",
    "        if i == n - 1:\n",
    "            return points[i][j]\n",
    "        return points[i][j] + max([helper(i + 1, k) for k in range(3) if k != j])\n",
    "    ans = INT_MIN\n",
    "    for j in range(3):\n",
    "        ans = max(ans, helper(0, j))\n",
    "    return ans"
   ]
  },
  {
   "cell_type": "code",
   "execution_count": 60,
   "metadata": {},
   "outputs": [],
   "source": [
    "from typing import *\n",
    "\n",
    "INT_MIN = -(2 ** 31)\n",
    "\n",
    "def ninjaTraining(n: int, points: List[List[int]]) -> int:\n",
    "    dp = [[None for j in range(3)] for _ in range(n)]\n",
    "    def helper(i, j):\n",
    "        if j == -1 or j == 3:\n",
    "            return INT_MIN\n",
    "        if i == n - 1:\n",
    "            return points[i][j]\n",
    "        if dp[i][j] != None:\n",
    "            return dp[i][j]\n",
    "        dp[i][j] = points[i][j] + max([helper(i + 1, k) for k in range(3) if k != j])\n",
    "        return dp[i][j]\n",
    "    ans = INT_MIN\n",
    "    for j in range(3):\n",
    "        ans = max(ans, helper(0, j))\n",
    "    return ans"
   ]
  },
  {
   "cell_type": "code",
   "execution_count": 61,
   "metadata": {},
   "outputs": [],
   "source": [
    "from typing import *\n",
    "\n",
    "INT_MIN = -(2 ** 31)\n",
    "\n",
    "def ninjaTraining(n: int, points: List[List[int]]) -> int:\n",
    "    dp = [[None for j in range(3)] for _ in range(n)]\n",
    "    for i in range(n - 1, -1, -1):\n",
    "        for j in range(3):\n",
    "            if i == n - 1:\n",
    "                dp[i][j] = points[i][j]\n",
    "            else:\n",
    "                dp[i][j] = points[i][j] + max([dp[i+1][k] for k in range(3) if k != j])\n",
    "    ans = INT_MIN\n",
    "    for j in range(3):\n",
    "        ans = max(ans, dp[0][j])\n",
    "    return ans"
   ]
  },
  {
   "cell_type": "code",
   "execution_count": 62,
   "metadata": {},
   "outputs": [
    {
     "data": {
      "text/plain": [
       "11"
      ]
     },
     "execution_count": 62,
     "metadata": {},
     "output_type": "execute_result"
    }
   ],
   "source": [
    "'''\n",
    "2\n",
    "3\n",
    "1 2 5 \n",
    "3 1 1\n",
    "3 3 3\n",
    "3\n",
    "10 40 70\n",
    "20 50 80\n",
    "30 60 90\n",
    "'''\n",
    "points = [\n",
    "    [1, 2, 5],\n",
    "    [3, 1, 1],\n",
    "    [3, 3, 3]\n",
    "]\n",
    "n = len(points)\n",
    "ninjaTraining(n, points)"
   ]
  },
  {
   "cell_type": "code",
   "execution_count": 63,
   "metadata": {},
   "outputs": [
    {
     "data": {
      "text/plain": [
       "210"
      ]
     },
     "execution_count": 63,
     "metadata": {},
     "output_type": "execute_result"
    }
   ],
   "source": [
    "points = [\n",
    "    [10, 40, 70],\n",
    "    [20, 50, 80],\n",
    "    [30, 60, 90]\n",
    "]\n",
    "n = len(points)\n",
    "ninjaTraining(n, points)"
   ]
  },
  {
   "cell_type": "code",
   "execution_count": 64,
   "metadata": {},
   "outputs": [
    {
     "data": {
      "text/plain": [
       "762"
      ]
     },
     "execution_count": 64,
     "metadata": {},
     "output_type": "execute_result"
    }
   ],
   "source": [
    "'''\n",
    "94 74 84\n",
    "71 4 68\n",
    "70 12 17\n",
    "7 84 58\n",
    "59 69 2\n",
    "57 21 62\n",
    "74 54 15\n",
    "15 83 49\n",
    "97 70 90\n",
    "8 71 42\n",
    "'''\n",
    "points = [\n",
    "    [94, 74, 84],\n",
    "    [71, 4, 68],\n",
    "    [70, 12, 17],\n",
    "    [7, 84, 58],\n",
    "    [59, 69, 2],\n",
    "    [57, 21, 62],\n",
    "    [74, 54, 15],\n",
    "    [15, 83, 49],\n",
    "    [97, 70, 90],\n",
    "    [8, 71, 42],\n",
    "]\n",
    "n = len(points)\n",
    "ninjaTraining(n, points)"
   ]
  }
 ],
 "metadata": {
  "kernelspec": {
   "display_name": "dsa-venv",
   "language": "python",
   "name": "python3"
  },
  "language_info": {
   "codemirror_mode": {
    "name": "ipython",
    "version": 3
   },
   "file_extension": ".py",
   "mimetype": "text/x-python",
   "name": "python",
   "nbconvert_exporter": "python",
   "pygments_lexer": "ipython3",
   "version": "3.11.3"
  },
  "orig_nbformat": 4
 },
 "nbformat": 4,
 "nbformat_minor": 2
}
