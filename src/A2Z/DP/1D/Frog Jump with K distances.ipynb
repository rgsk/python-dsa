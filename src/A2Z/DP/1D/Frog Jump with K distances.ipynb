{
 "cells": [
  {
   "cell_type": "code",
   "execution_count": 8,
   "metadata": {},
   "outputs": [],
   "source": [
    "from typing import List\n",
    "\n",
    "INT_MAX = (2 ** 31)-1\n",
    "\n",
    "\n",
    "def minimizeCost(n : int, k : int, heights : List[int]) -> int:\n",
    "    # Write your code here.\n",
    "    dp = [INT_MAX for i in range(n)]\n",
    "    dp[0] = 0\n",
    "    for i in range(1, n):\n",
    "        for j in range(1, k + 1):\n",
    "            if i - j >= 0:\n",
    "                dp[i] = min(dp[i], dp[i - j] + abs(heights[i] - heights[i-j]))\n",
    "    return dp[n-1]"
   ]
  },
  {
   "cell_type": "code",
   "execution_count": 9,
   "metadata": {},
   "outputs": [
    {
     "data": {
      "text/plain": [
       "40"
      ]
     },
     "execution_count": 9,
     "metadata": {},
     "output_type": "execute_result"
    }
   ],
   "source": [
    "k = 2\n",
    "heights = [10, 40, 30, 10]\n",
    "minimizeCost(len(heights), k, heights)"
   ]
  },
  {
   "cell_type": "code",
   "execution_count": 10,
   "metadata": {},
   "outputs": [
    {
     "data": {
      "text/plain": [
       "50"
      ]
     },
     "execution_count": 10,
     "metadata": {},
     "output_type": "execute_result"
    }
   ],
   "source": [
    "k = 3\n",
    "heights = [10, 40, 50, 20, 60]\n",
    "minimizeCost(len(heights), k, heights)"
   ]
  }
 ],
 "metadata": {
  "kernelspec": {
   "display_name": "dsa-venv",
   "language": "python",
   "name": "python3"
  },
  "language_info": {
   "codemirror_mode": {
    "name": "ipython",
    "version": 3
   },
   "file_extension": ".py",
   "mimetype": "text/x-python",
   "name": "python",
   "nbconvert_exporter": "python",
   "pygments_lexer": "ipython3",
   "version": "3.11.3"
  },
  "orig_nbformat": 4
 },
 "nbformat": 4,
 "nbformat_minor": 2
}
