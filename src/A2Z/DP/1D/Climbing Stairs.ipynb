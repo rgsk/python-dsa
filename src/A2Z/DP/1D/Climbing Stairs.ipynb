{
 "cells": [
  {
   "cell_type": "code",
   "execution_count": 10,
   "metadata": {},
   "outputs": [],
   "source": [
    "class SolutionMemo:\n",
    "    memo = {}\n",
    "    def climbStairs(self, n: int) -> int:\n",
    "        if n < 0:\n",
    "            return 0\n",
    "        if n == 0:\n",
    "            return 1\n",
    "        if n in self.memo:\n",
    "            return self.memo[n]\n",
    "        self.memo[n] = self.climbStairs(n-1) + self.climbStairs(n-2) \n",
    "        return self.memo[n]"
   ]
  },
  {
   "cell_type": "code",
   "execution_count": 11,
   "metadata": {},
   "outputs": [],
   "source": [
    "class Solution:\n",
    "    \n",
    "    def climbStairs(self, n: int) -> int:\n",
    "        dp = [0 for i in range(n + 1)]\n",
    "        dp[0] = 1\n",
    "        dp[1] = 1\n",
    "        for i in range(2, n + 1):\n",
    "            dp[i] = dp[i-1] + dp[i-2]\n",
    "        return dp[n]"
   ]
  },
  {
   "cell_type": "code",
   "execution_count": 12,
   "metadata": {},
   "outputs": [
    {
     "data": {
      "text/plain": [
       "2"
      ]
     },
     "execution_count": 12,
     "metadata": {},
     "output_type": "execute_result"
    }
   ],
   "source": [
    "sol = Solution()\n",
    "sol.climbStairs(2)"
   ]
  }
 ],
 "metadata": {
  "kernelspec": {
   "display_name": "dsa-venv",
   "language": "python",
   "name": "python3"
  },
  "language_info": {
   "codemirror_mode": {
    "name": "ipython",
    "version": 3
   },
   "file_extension": ".py",
   "mimetype": "text/x-python",
   "name": "python",
   "nbconvert_exporter": "python",
   "pygments_lexer": "ipython3",
   "version": "3.11.3"
  },
  "orig_nbformat": 4
 },
 "nbformat": 4,
 "nbformat_minor": 2
}
