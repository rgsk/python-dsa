{
 "cells": [
  {
   "cell_type": "code",
   "execution_count": null,
   "metadata": {},
   "outputs": [],
   "source": [
    "# https://www.codingninjas.com/studio/problems/partition-a-set-into-two-subsets-such-that-the-difference-of-subset-sums-is-minimum._842494?utm_source=striver&utm_medium=website&utm_campaign=a_zcoursetuf"
   ]
  },
  {
   "cell_type": "code",
   "execution_count": 5,
   "metadata": {},
   "outputs": [],
   "source": [
    "\n",
    "\n",
    "from typing import List\n",
    "\n",
    "\n",
    "INT_MAX = (2 ** 31)-1\n",
    "\n",
    "def subsetSumToK(n, k, arr):\n",
    "    dp = [False for remaining_sum in range(k + 1)]\n",
    "    dp[0] = True\n",
    "    for i in range(n):\n",
    "        cp = dp[::]\n",
    "        for remaining_sum in range(k + 1):\n",
    "            if remaining_sum - arr[i] >= 0 and cp[remaining_sum - arr[i]]:\n",
    "                dp[remaining_sum] = True\n",
    "    return dp\n",
    "\n",
    "\n",
    "def minSubsetSumDifference(nums: List[str], n: int) -> int:\n",
    "    total = sum(nums)\n",
    "    dp = subsetSumToK(len(nums), total, nums)\n",
    "    ans = INT_MAX\n",
    "    for i in range(total + 1):\n",
    "        if dp[i] and dp[total - i]:\n",
    "            ans = min(ans, abs(i - (total - i)))\n",
    "    return ans "
   ]
  },
  {
   "cell_type": "code",
   "execution_count": 6,
   "metadata": {},
   "outputs": [
    {
     "data": {
      "text/plain": [
       "0"
      ]
     },
     "execution_count": 6,
     "metadata": {},
     "output_type": "execute_result"
    }
   ],
   "source": [
    "nums = [1, 2, 3, 4]\n",
    "n = len(nums)\n",
    "minSubsetSumDifference(nums, n)"
   ]
  },
  {
   "cell_type": "code",
   "execution_count": 7,
   "metadata": {},
   "outputs": [
    {
     "data": {
      "text/plain": [
       "3"
      ]
     },
     "execution_count": 7,
     "metadata": {},
     "output_type": "execute_result"
    }
   ],
   "source": [
    "nums = [8, 6, 5]\n",
    "n = len(nums)\n",
    "minSubsetSumDifference(nums, n)"
   ]
  }
 ],
 "metadata": {
  "kernelspec": {
   "display_name": "dsa-venv",
   "language": "python",
   "name": "python3"
  },
  "language_info": {
   "codemirror_mode": {
    "name": "ipython",
    "version": 3
   },
   "file_extension": ".py",
   "mimetype": "text/x-python",
   "name": "python",
   "nbconvert_exporter": "python",
   "pygments_lexer": "ipython3",
   "version": "3.11.3"
  },
  "orig_nbformat": 4
 },
 "nbformat": 4,
 "nbformat_minor": 2
}
