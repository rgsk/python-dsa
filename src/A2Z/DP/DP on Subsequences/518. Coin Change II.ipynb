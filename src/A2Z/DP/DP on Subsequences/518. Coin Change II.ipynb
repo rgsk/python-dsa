{
 "cells": [
  {
   "cell_type": "code",
   "execution_count": 63,
   "metadata": {},
   "outputs": [],
   "source": [
    "from typing import List\n",
    "\n",
    "\n",
    "class Solution:\n",
    "    def change(self, amount: int, coins: List[int]) -> int:\n",
    "        n = len(coins)\n",
    "        def helper(i, rem):\n",
    "            if i == 0:\n",
    "                return 1 if rem == 0 else 0\n",
    "            if rem >= coins[i-1]:\n",
    "                # we can take that coin\n",
    "                return helper(i, rem - coins[i-1]) + helper(i - 1, rem)\n",
    "            return helper(i - 1, rem)\n",
    "        return helper(n, amount)"
   ]
  },
  {
   "cell_type": "code",
   "execution_count": 64,
   "metadata": {},
   "outputs": [],
   "source": [
    "from typing import List\n",
    "\n",
    "\n",
    "class Solution:\n",
    "    def change(self, amount: int, coins: List[int]) -> int:\n",
    "        n = len(coins)\n",
    "        dp = [[-1 for _ in range(amount + 1)] for _ in range(n + 1)]\n",
    "        def helper(i, rem):\n",
    "            if i == 0:\n",
    "                return 1 if rem == 0 else 0\n",
    "            if dp[i][rem] != -1:\n",
    "                return dp[i][rem]\n",
    "            if rem >= coins[i-1]:\n",
    "                # we can take that coin\n",
    "                dp[i][rem] = helper(i, rem - coins[i-1]) + helper(i - 1, rem)\n",
    "            else:\n",
    "                dp[i][rem] = helper(i - 1, rem)\n",
    "            return dp[i][rem]\n",
    "        return helper(n, amount)"
   ]
  },
  {
   "cell_type": "code",
   "execution_count": 65,
   "metadata": {},
   "outputs": [],
   "source": [
    "from typing import List\n",
    "\n",
    "\n",
    "class Solution:\n",
    "    def change(self, amount: int, coins: List[int]) -> int:\n",
    "        n = len(coins)\n",
    "        dp = [[1 if i == 0 and rem == 0 else 0 for rem in range(amount + 1)] for i in range(n + 1)]\n",
    "        for i in range(1, n + 1):\n",
    "            for rem in range(amount + 1):\n",
    "                if rem >= coins[i-1]:\n",
    "                    # we can take that coin\n",
    "                    dp[i][rem] = dp[i][rem - coins[i-1]] + dp[i-1][rem]\n",
    "                else:\n",
    "                    dp[i][rem] = dp[i-1][rem]\n",
    "        return dp[n][amount]"
   ]
  },
  {
   "cell_type": "code",
   "execution_count": 66,
   "metadata": {},
   "outputs": [],
   "source": [
    "from typing import List\n",
    "\n",
    "\n",
    "class Solution:\n",
    "    def change(self, amount: int, coins: List[int]) -> int:\n",
    "        n = len(coins)\n",
    "        dp = [1 if rem == 0 else 0 for rem in range(amount + 1)]\n",
    "        for i in range(1, n + 1):\n",
    "            cp = dp[::]\n",
    "            for rem in range(amount + 1):\n",
    "                if rem >= coins[i-1]:\n",
    "                    # we can take that coin\n",
    "                    dp[rem] = dp[rem - coins[i-1]] + cp[rem]\n",
    "                else:\n",
    "                    dp[rem] = cp[rem]\n",
    "        return dp[amount]"
   ]
  },
  {
   "cell_type": "code",
   "execution_count": 67,
   "metadata": {},
   "outputs": [],
   "source": [
    "from typing import List\n",
    "\n",
    "\n",
    "class Solution:\n",
    "    def change(self, amount: int, coins: List[int]) -> int:\n",
    "        dp = [0] * (amount + 1)\n",
    "        dp[0] = 1\n",
    "        for coin in coins:\n",
    "            for rem in range(coin, amount + 1):\n",
    "                dp[rem] += dp[rem - coin]\n",
    "        return dp[amount]"
   ]
  },
  {
   "cell_type": "code",
   "execution_count": 68,
   "metadata": {},
   "outputs": [
    {
     "data": {
      "text/plain": [
       "4"
      ]
     },
     "execution_count": 68,
     "metadata": {},
     "output_type": "execute_result"
    }
   ],
   "source": [
    "amount = 5\n",
    "coins = [1,2,5]\n",
    "sol = Solution()\n",
    "sol.change(amount, coins)"
   ]
  },
  {
   "cell_type": "code",
   "execution_count": 69,
   "metadata": {},
   "outputs": [
    {
     "data": {
      "text/plain": [
       "0"
      ]
     },
     "execution_count": 69,
     "metadata": {},
     "output_type": "execute_result"
    }
   ],
   "source": [
    "amount = 3\n",
    "coins = [2]\n",
    "sol = Solution()\n",
    "sol.change(amount, coins)"
   ]
  },
  {
   "cell_type": "code",
   "execution_count": 70,
   "metadata": {},
   "outputs": [
    {
     "data": {
      "text/plain": [
       "1"
      ]
     },
     "execution_count": 70,
     "metadata": {},
     "output_type": "execute_result"
    }
   ],
   "source": [
    "amount = 10\n",
    "coins = [10]\n",
    "sol = Solution()\n",
    "sol.change(amount, coins)"
   ]
  }
 ],
 "metadata": {
  "kernelspec": {
   "display_name": "dsa-venv",
   "language": "python",
   "name": "python3"
  },
  "language_info": {
   "codemirror_mode": {
    "name": "ipython",
    "version": 3
   },
   "file_extension": ".py",
   "mimetype": "text/x-python",
   "name": "python",
   "nbconvert_exporter": "python",
   "pygments_lexer": "ipython3",
   "version": "3.11.3"
  },
  "orig_nbformat": 4
 },
 "nbformat": 4,
 "nbformat_minor": 2
}
