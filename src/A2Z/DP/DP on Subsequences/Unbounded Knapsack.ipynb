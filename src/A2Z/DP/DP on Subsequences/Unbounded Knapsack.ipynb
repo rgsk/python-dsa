{
 "cells": [
  {
   "cell_type": "code",
   "execution_count": 35,
   "metadata": {},
   "outputs": [],
   "source": [
    "from typing import List\n",
    "\n",
    "def unboundedKnapsack(n: int, w: int, profit: List[int], weight: List[int]) -> int:\n",
    "    # write your code here\n",
    "    dp = [[-1 for _ in range(w + 1)] for _ in range(n + 1)]\n",
    "    def helper(i, rem):\n",
    "        if i == 0:\n",
    "            return 0\n",
    "        if rem == 0:\n",
    "            return 0\n",
    "        if dp[i][rem] != -1:\n",
    "            return dp[i][rem]\n",
    "        if weight[i-1] <= rem:\n",
    "            dp[i][rem] = max(profit[i-1] + helper(i, rem - weight[i-1]), helper(i-1, rem))\n",
    "        else:\n",
    "            dp[i][rem] = helper(i-1, rem)\n",
    "        return dp[i][rem]\n",
    "    return helper(n, w)"
   ]
  },
  {
   "cell_type": "code",
   "execution_count": 36,
   "metadata": {},
   "outputs": [],
   "source": [
    "from typing import List\n",
    "\n",
    "def unboundedKnapsack(n: int, w: int, profit: List[int], weight: List[int]) -> int:\n",
    "    # write your code here\n",
    "    dp = [[0 for _ in range(w + 1)] for _ in range(n + 1)]\n",
    "    for i in range(1, n + 1):\n",
    "        for rem in range(w + 1):\n",
    "            if weight[i-1] <= rem:\n",
    "                dp[i][rem] = max(profit[i-1] + dp[i][rem - weight[i-1]], dp[i-1][rem])\n",
    "            else:\n",
    "                dp[i][rem] = dp[i-1][rem]\n",
    "    return dp[n][w]"
   ]
  },
  {
   "cell_type": "code",
   "execution_count": 37,
   "metadata": {},
   "outputs": [],
   "source": [
    "from typing import List\n",
    "\n",
    "def unboundedKnapsack(n: int, w: int, profit: List[int], weight: List[int]) -> int:\n",
    "    # write your code here\n",
    "    dp = [0 for _ in range(w + 1)]\n",
    "    for i in range(1, n + 1):\n",
    "        for rem in range(w + 1):\n",
    "            if weight[i-1] <= rem:\n",
    "                dp[rem] = max(profit[i-1] + dp[rem - weight[i-1]], dp[rem])\n",
    "    return dp[w]"
   ]
  },
  {
   "cell_type": "code",
   "execution_count": 38,
   "metadata": {},
   "outputs": [
    {
     "data": {
      "text/plain": [
       "27"
      ]
     },
     "execution_count": 38,
     "metadata": {},
     "output_type": "execute_result"
    }
   ],
   "source": [
    "n = 3\n",
    "w = 10\n",
    "profit = [5, 11, 13]\n",
    "weight = [2, 4, 6]\n",
    "unboundedKnapsack(n, w, profit, weight)"
   ]
  }
 ],
 "metadata": {
  "kernelspec": {
   "display_name": "dsa-venv",
   "language": "python",
   "name": "python3"
  },
  "language_info": {
   "codemirror_mode": {
    "name": "ipython",
    "version": 3
   },
   "file_extension": ".py",
   "mimetype": "text/x-python",
   "name": "python",
   "nbconvert_exporter": "python",
   "pygments_lexer": "ipython3",
   "version": "3.11.3"
  },
  "orig_nbformat": 4
 },
 "nbformat": 4,
 "nbformat_minor": 2
}
