{
 "cells": [
  {
   "cell_type": "code",
   "execution_count": 13,
   "metadata": {},
   "outputs": [],
   "source": [
    "def knapsack(W, weights, values, n):\n",
    "    def helper(i, rw):\n",
    "        if i == n:\n",
    "            return 0\n",
    "        take = 0\n",
    "        if rw >= weights[i]:\n",
    "            take = values[i] + helper(i + 1, rw - weights[i])\n",
    "        notake = helper(i + 1, rw)\n",
    "        return max(take, notake)\n",
    "    return helper(0, W)"
   ]
  },
  {
   "cell_type": "code",
   "execution_count": 14,
   "metadata": {},
   "outputs": [],
   "source": [
    "def knapsack(W, weights, values, n):\n",
    "    dp = [[-1 for _ in range(W + 1)] for _ in range(n + 1)]\n",
    "    def helper(i, rw):\n",
    "        if i == 0:\n",
    "            return 0\n",
    "        if dp[i][rw] != -1:\n",
    "            return dp[i][rw]\n",
    "        take = 0\n",
    "        if rw >= weights[i-1]:\n",
    "            take = values[i-1] + helper(i - 1, rw - weights[i-1])\n",
    "        notake = helper(i - 1, rw)\n",
    "        dp[i][rw] = max(take, notake)\n",
    "        return dp[i][rw]\n",
    "    return helper(n, W)"
   ]
  },
  {
   "cell_type": "code",
   "execution_count": 15,
   "metadata": {},
   "outputs": [],
   "source": [
    "def knapsack(W, weights, values, n):\n",
    "    dp = [[0 for _ in range(W + 1)] for _ in range(n + 1)]\n",
    "    for i in range(1, n + 1):\n",
    "        for rw in range(W + 1):\n",
    "            take = 0\n",
    "            if rw >= weights[i-1]:\n",
    "                take = values[i-1] + dp[i-1][rw - weights[i-1]]\n",
    "            notake = dp[i-1][rw]\n",
    "            dp[i][rw] = max(take, notake)\n",
    "    return dp[n][W]"
   ]
  },
  {
   "cell_type": "code",
   "execution_count": 16,
   "metadata": {},
   "outputs": [
    {
     "data": {
      "text/plain": [
       "13"
      ]
     },
     "execution_count": 16,
     "metadata": {},
     "output_type": "execute_result"
    }
   ],
   "source": [
    "'''\n",
    "1 \n",
    "4\n",
    "1 2 4 5\n",
    "5 4 8 6\n",
    "5\n",
    "'''\n",
    "w = 5\n",
    "weights = [1, 2, 4, 5]\n",
    "values = [5, 4, 8, 6]\n",
    "n = len(values)\n",
    "knapsack(w, weights, values, n)"
   ]
  }
 ],
 "metadata": {
  "kernelspec": {
   "display_name": "dsa-venv",
   "language": "python",
   "name": "python3"
  },
  "language_info": {
   "codemirror_mode": {
    "name": "ipython",
    "version": 3
   },
   "file_extension": ".py",
   "mimetype": "text/x-python",
   "name": "python",
   "nbconvert_exporter": "python",
   "pygments_lexer": "ipython3",
   "version": "3.11.3"
  },
  "orig_nbformat": 4
 },
 "nbformat": 4,
 "nbformat_minor": 2
}
