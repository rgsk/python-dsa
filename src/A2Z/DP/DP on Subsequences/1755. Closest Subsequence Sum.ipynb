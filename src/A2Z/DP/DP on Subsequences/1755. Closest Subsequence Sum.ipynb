{
 "cells": [
  {
   "cell_type": "code",
   "execution_count": 98,
   "metadata": {},
   "outputs": [],
   "source": [
    "from typing import List\n",
    "\n",
    "INT_MAX = (2 ** 31)-1\n",
    "\n",
    "\n",
    "def generate_sub_set_sums(nums: List[int]):\n",
    "    ans = [0]\n",
    "    for v in nums:\n",
    "        for i in range(len(ans)):\n",
    "            s = ans[i]\n",
    "            ans.append(s + v)\n",
    "    return ans\n",
    "\n",
    "# MLE\n",
    "class Solution:\n",
    "    def minAbsDifference(self, nums: List[int], goal: int) -> int:\n",
    "        subset_sums = generate_sub_set_sums(nums)\n",
    "        ans = INT_MAX\n",
    "        for s in subset_sums:\n",
    "            ans = min(ans, abs(s - goal))\n",
    "        return ans"
   ]
  },
  {
   "cell_type": "code",
   "execution_count": 99,
   "metadata": {},
   "outputs": [],
   "source": [
    "from typing import List\n",
    "\n",
    "INT_MAX = (2 ** 31)-1\n",
    "\n",
    "\n",
    "def generate_sub_set_sums(nums: List[int]):\n",
    "    ans = [0]\n",
    "    for v in nums:\n",
    "        for i in range(len(ans)):\n",
    "            s = ans[i]\n",
    "            ans.append(s + v)\n",
    "    return ans\n",
    "# TLE\n",
    "class Solution:\n",
    "    def minAbsDifference(self, nums: List[int], goal: int) -> int:\n",
    "        n = len(nums)\n",
    "        half = n//2\n",
    "        left = nums[:half]\n",
    "        right = nums[half:]\n",
    "        left_subset_sums = generate_sub_set_sums(left)\n",
    "        right_subset_sums = generate_sub_set_sums(right)\n",
    "        ans = INT_MAX\n",
    "        for l in left_subset_sums:\n",
    "            for r in right_subset_sums:\n",
    "                s = l + r\n",
    "                ans = min(ans, abs(s - goal))\n",
    "        return ans"
   ]
  },
  {
   "cell_type": "code",
   "execution_count": 100,
   "metadata": {},
   "outputs": [],
   "source": [
    "from typing import List\n",
    "\n",
    "INT_MAX = (2 ** 31)-1\n",
    "\n",
    "\n",
    "def generate_sub_set_sums(nums: List[int]):\n",
    "    ans = [0]\n",
    "    for v in nums:\n",
    "        for i in range(len(ans)):\n",
    "            s = ans[i]\n",
    "            ans.append(s + v)\n",
    "    return ans\n",
    "\n",
    "def lower_bound(arr, num):\n",
    "    i = -1\n",
    "    incr = len(arr)\n",
    "    while incr > 0:\n",
    "        while i + incr < len(arr) and arr[i + incr] <= num:\n",
    "            i += incr\n",
    "        incr //= 2\n",
    "    return i\n",
    "\n",
    "\n",
    "class Solution:\n",
    "    def minAbsDifference(self, nums: List[int], goal: int) -> int:\n",
    "        n = len(nums)\n",
    "        half = n//2\n",
    "        left = nums[:half]\n",
    "        right = nums[half:]\n",
    "        left_subset_sums = generate_sub_set_sums(left)\n",
    "        right_subset_sums = sorted(generate_sub_set_sums(right))\n",
    "        ans = INT_MAX\n",
    "        for l in left_subset_sums:\n",
    "            req = goal - l\n",
    "            ri = lower_bound(right_subset_sums, req)\n",
    "            small = ri\n",
    "            big = ri + 1\n",
    "            if 0 <= small < len(right_subset_sums):\n",
    "                s = l + right_subset_sums[small]\n",
    "                ans = min(ans, abs(s - goal))\n",
    "            if 0 <= big < len(right_subset_sums):\n",
    "                s = l + right_subset_sums[big]\n",
    "                ans = min(ans, abs(s - goal))\n",
    "        return ans"
   ]
  },
  {
   "cell_type": "code",
   "execution_count": 101,
   "metadata": {},
   "outputs": [],
   "source": [
    "from typing import List\n",
    "\n",
    "INT_MAX = (2 ** 31)-1\n",
    "\n",
    "\n",
    "def generate_sub_set_sums(nums: List[int]):\n",
    "    ans = [0]\n",
    "    for v in nums:\n",
    "        for i in range(len(ans)):\n",
    "            s = ans[i]\n",
    "            ans.append(s + v)\n",
    "    return ans\n",
    "\n",
    "class Solution:\n",
    "    def minAbsDifference(self, nums: List[int], goal: int) -> int:\n",
    "        n = len(nums)\n",
    "        half = n//2\n",
    "        left = nums[:half]\n",
    "        right = nums[half:]\n",
    "        left_subset_sums = sorted(generate_sub_set_sums(left))\n",
    "        right_subset_sums = sorted(generate_sub_set_sums(right))\n",
    "        i = 0\n",
    "        j = len(right_subset_sums) - 1\n",
    "        ans = INT_MAX\n",
    "        while i < len(left_subset_sums) and j >= 0:\n",
    "            current = left_subset_sums[i] + right_subset_sums[j]\n",
    "            if current == goal:\n",
    "                return 0\n",
    "            elif current < goal:\n",
    "                i += 1\n",
    "            else:\n",
    "                j -= 1\n",
    "            ans = min(ans, abs(current - goal))\n",
    "        return ans"
   ]
  },
  {
   "cell_type": "code",
   "execution_count": 102,
   "metadata": {},
   "outputs": [
    {
     "data": {
      "text/plain": [
       "0"
      ]
     },
     "execution_count": 102,
     "metadata": {},
     "output_type": "execute_result"
    }
   ],
   "source": [
    "nums = [5,-7,3,5]\n",
    "goal = 6\n",
    "sol = Solution()\n",
    "sol.minAbsDifference(nums, goal)"
   ]
  },
  {
   "cell_type": "code",
   "execution_count": 103,
   "metadata": {},
   "outputs": [
    {
     "data": {
      "text/plain": [
       "1"
      ]
     },
     "execution_count": 103,
     "metadata": {},
     "output_type": "execute_result"
    }
   ],
   "source": [
    "nums = [7,-9,15,-2]\n",
    "goal = -5\n",
    "sol = Solution()\n",
    "sol.minAbsDifference(nums, goal)"
   ]
  },
  {
   "cell_type": "code",
   "execution_count": 104,
   "metadata": {},
   "outputs": [
    {
     "data": {
      "text/plain": [
       "7"
      ]
     },
     "execution_count": 104,
     "metadata": {},
     "output_type": "execute_result"
    }
   ],
   "source": [
    "nums = [1,2,3]\n",
    "goal = -7\n",
    "sol = Solution()\n",
    "sol.minAbsDifference(nums, goal)"
   ]
  },
  {
   "cell_type": "code",
   "execution_count": null,
   "metadata": {},
   "outputs": [],
   "source": []
  }
 ],
 "metadata": {
  "kernelspec": {
   "display_name": "dsa-venv",
   "language": "python",
   "name": "python3"
  },
  "language_info": {
   "codemirror_mode": {
    "name": "ipython",
    "version": 3
   },
   "file_extension": ".py",
   "mimetype": "text/x-python",
   "name": "python",
   "nbconvert_exporter": "python",
   "pygments_lexer": "ipython3",
   "version": "3.11.3"
  },
  "orig_nbformat": 4
 },
 "nbformat": 4,
 "nbformat_minor": 2
}
