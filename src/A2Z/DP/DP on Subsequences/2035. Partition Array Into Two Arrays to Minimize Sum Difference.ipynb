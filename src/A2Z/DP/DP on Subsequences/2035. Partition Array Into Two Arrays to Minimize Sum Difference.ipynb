{
 "cells": [
  {
   "cell_type": "code",
   "execution_count": 82,
   "metadata": {},
   "outputs": [],
   "source": [
    "from typing import List\n",
    "\n",
    "INT_MAX = (2 ** 31)-1\n",
    "\n",
    "\n",
    "from collections import defaultdict\n",
    "\n",
    "\n",
    "def get_subsets_sums(elems):\n",
    "    result = defaultdict(set)\n",
    "    result[0] = {0}\n",
    "    for elem in elems:\n",
    "        for cnt in reversed(list(result)):\n",
    "            result[cnt + 1].update(\n",
    "                value + elem\n",
    "                for value in result[cnt]\n",
    "            )\n",
    "    return result\n",
    "\n",
    "\n",
    "class Solution:\n",
    "    def minimumDifference(self, nums: List[int]) -> int:\n",
    "        full_sum = sum(nums)\n",
    "        half_sum = full_sum // 2\n",
    "        n = len(nums)\n",
    "        half = n//2\n",
    "        left = nums[:half]\n",
    "        right = nums[half:]\n",
    "\n",
    "        lss = get_subsets_sums(left)\n",
    "        rss = get_subsets_sums(right)\n",
    "        ans = INT_MAX\n",
    "\n",
    "        for left_cnt, left_sums in lss.items():\n",
    "            right_cnt = half - left_cnt\n",
    "            right_sums = rss[right_cnt]\n",
    "\n",
    "            a = sorted(left_sums)\n",
    "            b = sorted(right_sums)\n",
    "            m = len(a)\n",
    "            l = len(b)\n",
    "            i = 0\n",
    "            j = l - 1\n",
    "            \n",
    "            # use 2 pointers instead of a loop in a loop\n",
    "            while i < m and j >= 0:\n",
    "                current = a[i] + b[j]\n",
    "                if current == half_sum:\n",
    "                    return abs(current - (full_sum - current))\n",
    "                if current > half_sum:\n",
    "                    j -= 1\n",
    "                else:\n",
    "                    ans = min(ans, abs(current - (full_sum - current)))\n",
    "                    i += 1\n",
    "        \n",
    "        return ans"
   ]
  },
  {
   "cell_type": "code",
   "execution_count": 83,
   "metadata": {},
   "outputs": [
    {
     "data": {
      "text/plain": [
       "2"
      ]
     },
     "execution_count": 83,
     "metadata": {},
     "output_type": "execute_result"
    }
   ],
   "source": [
    "nums = [3,9,7,3]\n",
    "sol = Solution()\n",
    "sol.minimumDifference(nums)"
   ]
  },
  {
   "cell_type": "code",
   "execution_count": 84,
   "metadata": {},
   "outputs": [
    {
     "data": {
      "text/plain": [
       "72"
      ]
     },
     "execution_count": 84,
     "metadata": {},
     "output_type": "execute_result"
    }
   ],
   "source": [
    "nums = [-36,36]\n",
    "sol = Solution()\n",
    "sol.minimumDifference(nums)"
   ]
  },
  {
   "cell_type": "code",
   "execution_count": 85,
   "metadata": {},
   "outputs": [
    {
     "data": {
      "text/plain": [
       "0"
      ]
     },
     "execution_count": 85,
     "metadata": {},
     "output_type": "execute_result"
    }
   ],
   "source": [
    "nums = [2,-1,0,4,-2,-9]\n",
    "sol = Solution()\n",
    "sol.minimumDifference(nums)"
   ]
  }
 ],
 "metadata": {
  "kernelspec": {
   "display_name": "dsa-venv",
   "language": "python",
   "name": "python3"
  },
  "language_info": {
   "codemirror_mode": {
    "name": "ipython",
    "version": 3
   },
   "file_extension": ".py",
   "mimetype": "text/x-python",
   "name": "python",
   "nbconvert_exporter": "python",
   "pygments_lexer": "ipython3",
   "version": "3.11.3"
  },
  "orig_nbformat": 4
 },
 "nbformat": 4,
 "nbformat_minor": 2
}
