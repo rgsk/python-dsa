{
 "cells": [
  {
   "cell_type": "code",
   "execution_count": 28,
   "metadata": {},
   "outputs": [],
   "source": [
    "def cutRod(price, n):\n",
    "    # Write your code here.\n",
    "    def helper(rem):\n",
    "        if rem == 0:\n",
    "            return 0\n",
    "        ans = 0\n",
    "        for i in range(rem, 0, -1):\n",
    "            ans = max(price[i-1] + helper(rem - i), ans)\n",
    "        return ans\n",
    "    return helper(n)"
   ]
  },
  {
   "cell_type": "code",
   "execution_count": 29,
   "metadata": {},
   "outputs": [],
   "source": [
    "def cutRod(price, n):\n",
    "    # Write your code here.\n",
    "    dp = [-1] * (n + 1)\n",
    "    def helper(rem):\n",
    "        if rem == 0:\n",
    "            return 0\n",
    "        if dp[rem] != -1:\n",
    "            return dp[rem]\n",
    "        ans = 0\n",
    "        for i in range(rem, 0, -1):\n",
    "            ans = max(price[i-1] + helper(rem - i), ans)\n",
    "        dp[rem] = ans\n",
    "        return dp[rem]\n",
    "    return helper(n)"
   ]
  },
  {
   "cell_type": "code",
   "execution_count": 30,
   "metadata": {},
   "outputs": [],
   "source": [
    "def cutRod(price, n):\n",
    "    # Write your code here.\n",
    "    dp = [0] * (n + 1)\n",
    "    for rem in range(1, n + 1):\n",
    "        ans = 0\n",
    "        for i in range(rem, 0, -1):\n",
    "            ans = max(price[i-1] + dp[rem-i], ans)\n",
    "        dp[rem] = ans\n",
    "    return dp[n]"
   ]
  },
  {
   "cell_type": "code",
   "execution_count": 31,
   "metadata": {},
   "outputs": [
    {
     "data": {
      "text/plain": [
       "12"
      ]
     },
     "execution_count": 31,
     "metadata": {},
     "output_type": "execute_result"
    }
   ],
   "source": [
    "'''\n",
    "2\n",
    "5\n",
    "2 5 7 8 10\n",
    "8\n",
    "3 5 8 9 10 17 17 20\n",
    "'''\n",
    "price = [2, 5, 7, 8, 10]\n",
    "n = len(price)\n",
    "cutRod(price, n)"
   ]
  },
  {
   "cell_type": "code",
   "execution_count": 32,
   "metadata": {},
   "outputs": [
    {
     "data": {
      "text/plain": [
       "24"
      ]
     },
     "execution_count": 32,
     "metadata": {},
     "output_type": "execute_result"
    }
   ],
   "source": [
    "price = [3, 5, 8, 9, 10, 17, 17, 20]\n",
    "n = len(price)\n",
    "cutRod(price, n)"
   ]
  }
 ],
 "metadata": {
  "kernelspec": {
   "display_name": "dsa-venv",
   "language": "python",
   "name": "python3"
  },
  "language_info": {
   "codemirror_mode": {
    "name": "ipython",
    "version": 3
   },
   "file_extension": ".py",
   "mimetype": "text/x-python",
   "name": "python",
   "nbconvert_exporter": "python",
   "pygments_lexer": "ipython3",
   "version": "3.11.3"
  },
  "orig_nbformat": 4
 },
 "nbformat": 4,
 "nbformat_minor": 2
}
