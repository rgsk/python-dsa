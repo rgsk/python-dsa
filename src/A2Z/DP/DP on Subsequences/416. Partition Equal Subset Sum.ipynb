{
 "cells": [
  {
   "cell_type": "code",
   "execution_count": 20,
   "metadata": {},
   "outputs": [],
   "source": [
    "from typing import List\n",
    "\n",
    "# TLE\n",
    "class Solution:\n",
    "    def canPartition(self, nums: List[int]) -> bool:\n",
    "        n = len(nums)\n",
    "        def helper(i, s1, s2):\n",
    "            if i == n:\n",
    "                return s1 == s2\n",
    "            return helper(i + 1, s1 + nums[i], s2) or helper(i + 1, s1, s2 + nums[i])\n",
    "        return helper(0, 0, 0)"
   ]
  },
  {
   "cell_type": "code",
   "execution_count": 21,
   "metadata": {},
   "outputs": [],
   "source": [
    "from typing import List\n",
    "\n",
    "# MLE\n",
    "class Solution:\n",
    "    def canPartition(self, nums: List[int]) -> bool:\n",
    "        n = len(nums)\n",
    "        dp = {}\n",
    "        def helper(i, s1, s2):\n",
    "            if i == n:\n",
    "                return s1 == s2\n",
    "            key = (i, s1, s2)\n",
    "            if key in dp:\n",
    "                return dp[key]\n",
    "            dp[key] = helper(i + 1, s1 + nums[i], s2) or helper(i + 1, s1, s2 + nums[i])\n",
    "            return dp[key]\n",
    "        return helper(0, 0, 0)"
   ]
  },
  {
   "cell_type": "code",
   "execution_count": 22,
   "metadata": {},
   "outputs": [],
   "source": [
    "from typing import List\n",
    "\n",
    "# trick\n",
    "\n",
    "def subsetSumToK(n, k, arr):\n",
    "    dp = [False for remaining_sum in range(k + 1)]\n",
    "    dp[0] = True\n",
    "    for i in range(n):\n",
    "        cp = dp[::]\n",
    "        for remaining_sum in range(k + 1):\n",
    "            if remaining_sum >= arr[i] and cp[remaining_sum - arr[i]]:\n",
    "                dp[remaining_sum] = True\n",
    "    return dp[k]\n",
    "\n",
    "class Solution:\n",
    "    def canPartition(self, nums: List[int]) -> bool:\n",
    "        total = sum(nums)\n",
    "        if total % 2 == 1:\n",
    "            return False\n",
    "        return subsetSumToK(len(nums), total//2, nums)"
   ]
  },
  {
   "cell_type": "code",
   "execution_count": 23,
   "metadata": {},
   "outputs": [
    {
     "data": {
      "text/plain": [
       "True"
      ]
     },
     "execution_count": 23,
     "metadata": {},
     "output_type": "execute_result"
    }
   ],
   "source": [
    "nums = [1,5,11,5]\n",
    "sol = Solution()\n",
    "sol.canPartition(nums)"
   ]
  },
  {
   "cell_type": "code",
   "execution_count": 24,
   "metadata": {},
   "outputs": [
    {
     "data": {
      "text/plain": [
       "False"
      ]
     },
     "execution_count": 24,
     "metadata": {},
     "output_type": "execute_result"
    }
   ],
   "source": [
    "nums = [1,2,3,5]\n",
    "sol = Solution()\n",
    "sol.canPartition(nums)"
   ]
  }
 ],
 "metadata": {
  "kernelspec": {
   "display_name": "dsa-venv",
   "language": "python",
   "name": "python3"
  },
  "language_info": {
   "codemirror_mode": {
    "name": "ipython",
    "version": 3
   },
   "file_extension": ".py",
   "mimetype": "text/x-python",
   "name": "python",
   "nbconvert_exporter": "python",
   "pygments_lexer": "ipython3",
   "version": "3.11.3"
  },
  "orig_nbformat": 4
 },
 "nbformat": 4,
 "nbformat_minor": 2
}
