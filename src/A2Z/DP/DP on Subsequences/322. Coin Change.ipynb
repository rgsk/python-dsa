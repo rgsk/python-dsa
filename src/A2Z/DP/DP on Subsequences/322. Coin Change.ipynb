{
 "cells": [
  {
   "cell_type": "code",
   "execution_count": 68,
   "metadata": {},
   "outputs": [],
   "source": [
    "from typing import List\n",
    "\n",
    "INT_MAX = (2 ** 31)-1\n",
    "\n",
    "class Solution:\n",
    "    def coinChange(self, coins: List[int], amount: int) -> int:\n",
    "        n = len(coins)\n",
    "        def helper(i, rem):\n",
    "            if rem == 0:\n",
    "                return 0\n",
    "            if i == 0 or rem < 0:\n",
    "                return INT_MAX\n",
    "            return min(1 + helper(i, rem - coins[i-1]), helper(i-1, rem))\n",
    "        ans = helper(n, amount)\n",
    "        if ans == INT_MAX:\n",
    "            return -1\n",
    "        return ans"
   ]
  },
  {
   "cell_type": "code",
   "execution_count": 69,
   "metadata": {},
   "outputs": [],
   "source": [
    "from functools import cache\n",
    "from typing import List\n",
    "\n",
    "INT_MAX = (2 ** 31)-1\n",
    "\n",
    "class Solution:\n",
    "    def coinChange(self, coins: List[int], amount: int) -> int:\n",
    "        n = len(coins)\n",
    "        @cache\n",
    "        def helper(i, rem):\n",
    "            if rem == 0:\n",
    "                return 0\n",
    "            if i == 0 or rem < 0:\n",
    "                return INT_MAX\n",
    "            return min(1 + helper(i, rem - coins[i-1]), helper(i-1, rem))\n",
    "        ans = helper(n, amount)\n",
    "        if ans == INT_MAX:\n",
    "            return -1\n",
    "        return ans"
   ]
  },
  {
   "cell_type": "code",
   "execution_count": 70,
   "metadata": {},
   "outputs": [],
   "source": [
    "from typing import List\n",
    "\n",
    "INT_MAX = (2 ** 31)-1\n",
    "\n",
    "class Solution:\n",
    "    def coinChange(self, coins: List[int], amount: int) -> int:\n",
    "        n = len(coins)\n",
    "        dp = [[-1 for _ in range(amount + 1)] for _ in range(n + 1)]\n",
    "        def helper(i, rem):\n",
    "            if rem == 0:\n",
    "                return 0\n",
    "            if i == 0 or rem < 0:\n",
    "                return INT_MAX\n",
    "            if dp[i][rem] != -1:\n",
    "                return dp[i][rem]\n",
    "            dp[i][rem] = min(1 + helper(i, rem - coins[i-1]), helper(i-1, rem))\n",
    "            return dp[i][rem]\n",
    "        ans = helper(n, amount)\n",
    "        if ans == INT_MAX:\n",
    "            return -1\n",
    "        return ans"
   ]
  },
  {
   "cell_type": "code",
   "execution_count": 71,
   "metadata": {},
   "outputs": [],
   "source": [
    "from typing import List\n",
    "\n",
    "INT_MAX = (2 ** 31)-1\n",
    "\n",
    "class Solution:\n",
    "    def coinChange(self, coins: List[int], amount: int) -> int:\n",
    "        n = len(coins)\n",
    "        dp = [[0 if rem == 0 else INT_MAX for rem in range(amount + 1)] for _ in range(n + 1)]\n",
    "        for i in range(1, n + 1):\n",
    "            for rem in range(amount + 1):\n",
    "                if rem - coins[i-1] >= 0:\n",
    "                    dp[i][rem] = min(1 + dp[i][rem - coins[i-1]], dp[i-1][rem])\n",
    "                else:\n",
    "                    dp[i][rem] = dp[i-1][rem]\n",
    "\n",
    "        if dp[n][amount] == INT_MAX:\n",
    "            return -1\n",
    "        return dp[n][amount]"
   ]
  },
  {
   "cell_type": "code",
   "execution_count": 72,
   "metadata": {},
   "outputs": [],
   "source": [
    "from typing import List\n",
    "\n",
    "INT_MAX = (2 ** 31)-1\n",
    "\n",
    "class Solution:\n",
    "    def coinChange(self, coins: List[int], amount: int) -> int:\n",
    "        n = len(coins)\n",
    "        dp = [0 if rem == 0 else INT_MAX for rem in range(amount + 1)]\n",
    "        for i in range(1, n + 1):\n",
    "            cp = dp[::]\n",
    "            for rem in range(amount + 1):\n",
    "                if rem - coins[i-1] >= 0:\n",
    "                    dp[rem] = min(1 + dp[rem - coins[i-1]], cp[rem])\n",
    "                else:\n",
    "                    dp[rem] = cp[rem]\n",
    "\n",
    "        if dp[amount] == INT_MAX:\n",
    "            return -1\n",
    "        return dp[amount]"
   ]
  },
  {
   "cell_type": "code",
   "execution_count": 73,
   "metadata": {},
   "outputs": [],
   "source": [
    "from typing import List\n",
    "import math\n",
    "\n",
    "class Solution:\n",
    "    def coinChange(self, coins: List[int], amount: int) -> int:\n",
    "        dp = [math.inf for rem in range(amount + 1)]\n",
    "        dp[0] = 0\n",
    "        for coin in coins:\n",
    "            for rem in range(coin, amount + 1):\n",
    "                dp[rem] = min(1 + dp[rem - coin], dp[rem])\n",
    "\n",
    "        if dp[amount] == math.inf:\n",
    "            return -1\n",
    "        return dp[amount]"
   ]
  },
  {
   "cell_type": "code",
   "execution_count": 74,
   "metadata": {},
   "outputs": [
    {
     "data": {
      "text/plain": [
       "3"
      ]
     },
     "execution_count": 74,
     "metadata": {},
     "output_type": "execute_result"
    }
   ],
   "source": [
    "coins = [1,2,5]\n",
    "amount = 11\n",
    "sol = Solution()\n",
    "sol.coinChange(coins, amount)"
   ]
  },
  {
   "cell_type": "code",
   "execution_count": 75,
   "metadata": {},
   "outputs": [
    {
     "data": {
      "text/plain": [
       "-1"
      ]
     },
     "execution_count": 75,
     "metadata": {},
     "output_type": "execute_result"
    }
   ],
   "source": [
    "coins = [2]\n",
    "amount = 3\n",
    "sol = Solution()\n",
    "sol.coinChange(coins, amount)"
   ]
  }
 ],
 "metadata": {
  "kernelspec": {
   "display_name": "dsa-venv",
   "language": "python",
   "name": "python3"
  },
  "language_info": {
   "codemirror_mode": {
    "name": "ipython",
    "version": 3
   },
   "file_extension": ".py",
   "mimetype": "text/x-python",
   "name": "python",
   "nbconvert_exporter": "python",
   "pygments_lexer": "ipython3",
   "version": "3.11.3"
  },
  "orig_nbformat": 4
 },
 "nbformat": 4,
 "nbformat_minor": 2
}
