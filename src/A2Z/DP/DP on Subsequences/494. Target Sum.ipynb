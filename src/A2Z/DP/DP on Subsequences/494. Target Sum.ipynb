{
 "cells": [
  {
   "cell_type": "code",
   "execution_count": 273,
   "metadata": {},
   "outputs": [],
   "source": [
    "from typing import List\n",
    "\n",
    "class Solution:\n",
    "    def findTargetSumWays(self, nums: List[int], target: int) -> int:\n",
    "        n = len(nums)\n",
    "        def helper(i, remaining):\n",
    "            if i == n:\n",
    "                return 1 if remaining == 0 else 0\n",
    "            return helper(i + 1, remaining - nums[i]) + helper(i + 1, remaining + nums[i])\n",
    "        return helper(0, target)\n"
   ]
  },
  {
   "cell_type": "code",
   "execution_count": 274,
   "metadata": {},
   "outputs": [],
   "source": [
    "from functools import cache\n",
    "from typing import List\n",
    "\n",
    "class Solution:\n",
    "    def findTargetSumWays(self, nums: List[int], target: int) -> int:\n",
    "        n = len(nums)\n",
    "        @cache\n",
    "        def helper(i, remaining):\n",
    "            if i == n:\n",
    "                return 1 if remaining == 0 else 0\n",
    "            return helper(i + 1, remaining - nums[i]) + helper(i + 1, remaining + nums[i])\n",
    "        return helper(0, target)\n"
   ]
  },
  {
   "cell_type": "code",
   "execution_count": 275,
   "metadata": {},
   "outputs": [],
   "source": [
    "from typing import List\n",
    "\n",
    "class Solution:\n",
    "    def findTargetSumWays(self, nums: List[int], target: int) -> int:\n",
    "        n = len(nums)\n",
    "        dp = {}\n",
    "        def helper(i, remaining):\n",
    "            if i == n:\n",
    "                return 1 if remaining == 0 else 0\n",
    "            key = (i, remaining)\n",
    "            if key in dp:\n",
    "                return dp[key]\n",
    "            dp[key] = helper(i + 1, remaining - nums[i]) + helper(i + 1, remaining + nums[i])\n",
    "            return dp[key]\n",
    "        return helper(0, target)\n"
   ]
  },
  {
   "cell_type": "code",
   "execution_count": 276,
   "metadata": {},
   "outputs": [],
   "source": [
    "from typing import List\n",
    "\n",
    "class Solution:\n",
    "    def findTargetSumWays(self, nums: List[int], target: int) -> int:\n",
    "        n = len(nums)\n",
    "        dp = {}\n",
    "        def helper(i, remaining):\n",
    "            if i == -1:\n",
    "                return 1 if remaining == 0 else 0\n",
    "            key = (i, remaining)\n",
    "            if key in dp:\n",
    "                return dp[key]\n",
    "            dp[key] = helper(i -1, remaining - nums[i]) + helper(i - 1, remaining + nums[i])\n",
    "            return dp[key]\n",
    "        return helper(n-1, target)"
   ]
  },
  {
   "cell_type": "code",
   "execution_count": 277,
   "metadata": {},
   "outputs": [],
   "source": [
    "from typing import List\n",
    "\n",
    "class Solution:\n",
    "    def findTargetSumWays(self, nums: List[int], target: int) -> int:\n",
    "        n = len(nums)\n",
    "        dp = {}\n",
    "        def helper(i, remaining):\n",
    "            if i == 0:\n",
    "                return 1 if remaining == 0 else 0\n",
    "            key = (i, remaining)\n",
    "            if key in dp:\n",
    "                return dp[key]\n",
    "            dp[key] = helper(i -1, remaining - nums[i-1]) + helper(i - 1, remaining + nums[i-1])\n",
    "            return dp[key]\n",
    "        return helper(n, target)"
   ]
  },
  {
   "cell_type": "code",
   "execution_count": 278,
   "metadata": {},
   "outputs": [],
   "source": [
    "from collections import defaultdict\n",
    "from typing import List\n",
    "\n",
    "\n",
    "class Solution:\n",
    "    def findTargetSumWays(self, nums: List[int], target: int) -> int:\n",
    "        n = len(nums)\n",
    "        dp = defaultdict(int)\n",
    "        total = sum(nums)\n",
    "        dp[(0, 0)] = 1\n",
    "        for i in range(1, n + 1):\n",
    "            for remaining in range(-total,total + 1):\n",
    "                dp[(i, remaining)] =  dp[(i-1, remaining-nums[i-1])] + dp[(i-1, remaining+nums[i-1])]\n",
    "        return dp[(n, target)]"
   ]
  },
  {
   "cell_type": "code",
   "execution_count": 279,
   "metadata": {},
   "outputs": [],
   "source": [
    "from collections import defaultdict\n",
    "from typing import List\n",
    "\n",
    "\n",
    "class Solution:\n",
    "    def findTargetSumWays(self, nums: List[int], target: int) -> int:\n",
    "        dp = defaultdict(int)\n",
    "        dp[0] = 1\n",
    "        for val in nums:\n",
    "            items = list(dp.items())\n",
    "            dp.clear()\n",
    "            for k, v in items:\n",
    "                dp[k - val] += v\n",
    "                dp[k + val] += v\n",
    "        return dp[target]"
   ]
  },
  {
   "cell_type": "code",
   "execution_count": 280,
   "metadata": {},
   "outputs": [
    {
     "data": {
      "text/plain": [
       "5"
      ]
     },
     "execution_count": 280,
     "metadata": {},
     "output_type": "execute_result"
    }
   ],
   "source": [
    "nums = [1,1,1,1,1]\n",
    "target = 3\n",
    "sol = Solution()\n",
    "sol.findTargetSumWays(nums, target)"
   ]
  },
  {
   "cell_type": "code",
   "execution_count": 281,
   "metadata": {},
   "outputs": [
    {
     "data": {
      "text/plain": [
       "1"
      ]
     },
     "execution_count": 281,
     "metadata": {},
     "output_type": "execute_result"
    }
   ],
   "source": [
    "nums = [1]\n",
    "target = 1\n",
    "sol = Solution()\n",
    "sol.findTargetSumWays(nums, target)"
   ]
  }
 ],
 "metadata": {
  "kernelspec": {
   "display_name": "dsa-venv",
   "language": "python",
   "name": "python3"
  },
  "language_info": {
   "codemirror_mode": {
    "name": "ipython",
    "version": 3
   },
   "file_extension": ".py",
   "mimetype": "text/x-python",
   "name": "python",
   "nbconvert_exporter": "python",
   "pygments_lexer": "ipython3",
   "version": "3.11.3"
  },
  "orig_nbformat": 4
 },
 "nbformat": 4,
 "nbformat_minor": 2
}
