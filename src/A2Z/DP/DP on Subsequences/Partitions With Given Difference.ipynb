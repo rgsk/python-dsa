{
 "cells": [
  {
   "cell_type": "code",
   "execution_count": 100,
   "metadata": {},
   "outputs": [],
   "source": [
    "from typing import List\n",
    "\n",
    "# tle\n",
    "def countPartitions(n: int, d: int, arr: List[int]) -> int:\n",
    "    # write your code here\n",
    "    def helper(i, s1, s2):\n",
    "        if i == n:\n",
    "            return 1 if s1 - s2 == d else 0\n",
    "        return helper(i + 1, s1 + arr[i], s2) + helper(i + 1, s1, s2 + arr[i])\n",
    "    return helper(0, 0, 0)"
   ]
  },
  {
   "cell_type": "code",
   "execution_count": 101,
   "metadata": {},
   "outputs": [],
   "source": [
    "from typing import List\n",
    "\n",
    "# tle\n",
    "def countPartitions(n: int, d: int, arr: List[int]) -> int:\n",
    "    total = sum(arr)\n",
    "    dp = [[[-1 for _ in range(total + 1)] for _ in range(total + 1)] for _ in range(n + 1)]\n",
    "    def helper(i, s1, s2):\n",
    "        if i == n:\n",
    "            return 1 if s1 - s2 == d else 0\n",
    "        if dp[i][s1][s2] != -1:\n",
    "            return dp[i][s1][s2]\n",
    "        dp[i][s1][s2] = helper(i + 1, s1 + arr[i], s2) + helper(i + 1, s1, s2 + arr[i])\n",
    "        return dp[i][s1][s2]\n",
    "    return helper(0, 0, 0)"
   ]
  },
  {
   "cell_type": "code",
   "execution_count": 102,
   "metadata": {},
   "outputs": [],
   "source": [
    "from typing import List\n",
    "\n",
    "from typing import List\n",
    "mod = 10**9 + 7\n",
    "def findWays(arr: List[int], k: int) -> int:\n",
    "    # Write your code here.\n",
    "    dp = [0] * (k + 1)\n",
    "    dp[0] = 1\n",
    "    for v in arr:\n",
    "        for rem in range(k, -1, -1):\n",
    "            if rem - v >= 0:\n",
    "                dp[rem] = dp[rem - v] + dp[rem]\n",
    "    return dp[k] % mod\n",
    "\n",
    "def countPartitions(n: int, d: int, arr: List[int]) -> int:\n",
    "    '''\n",
    "    a + b = t\n",
    "    a - b = d\n",
    "\n",
    "    2a = t + d\n",
    "    a = (t + d)/2\n",
    "    '''\n",
    "    t = sum(arr)\n",
    "    if (t + d)%2 == 1:\n",
    "        return 0\n",
    "    req = (t + d) // 2\n",
    "    return findWays(arr, req)"
   ]
  },
  {
   "cell_type": "code",
   "execution_count": 103,
   "metadata": {},
   "outputs": [
    {
     "data": {
      "text/plain": [
       "1"
      ]
     },
     "execution_count": 103,
     "metadata": {},
     "output_type": "execute_result"
    }
   ],
   "source": [
    "'''\n",
    "2\n",
    "4 3\n",
    "5 2 6 4\n",
    "4 0\n",
    "1 1 1 1\n",
    "'''\n",
    "n = 4\n",
    "d = 3\n",
    "arr = [5, 2, 6, 4]\n",
    "countPartitions(n, d, arr)"
   ]
  },
  {
   "cell_type": "code",
   "execution_count": 104,
   "metadata": {},
   "outputs": [
    {
     "data": {
      "text/plain": [
       "6"
      ]
     },
     "execution_count": 104,
     "metadata": {},
     "output_type": "execute_result"
    }
   ],
   "source": [
    "n = 4\n",
    "d = 0\n",
    "arr = [1, 1, 1, 1]\n",
    "countPartitions(n, d, arr)"
   ]
  },
  {
   "cell_type": "code",
   "execution_count": 105,
   "metadata": {},
   "outputs": [
    {
     "data": {
      "text/plain": [
       "1"
      ]
     },
     "execution_count": 105,
     "metadata": {},
     "output_type": "execute_result"
    }
   ],
   "source": [
    "'''\n",
    "3\n",
    "3 1\n",
    "4 6 3\n",
    "5 0\n",
    "3 1 1 2 1\n",
    "5 1\n",
    "3 2 2 5 1\n",
    "'''\n",
    "n = 3\n",
    "d = 1\n",
    "arr = [4, 6, 3]\n",
    "countPartitions(n, d, arr)"
   ]
  },
  {
   "cell_type": "code",
   "execution_count": 106,
   "metadata": {},
   "outputs": [
    {
     "data": {
      "text/plain": [
       "6"
      ]
     },
     "execution_count": 106,
     "metadata": {},
     "output_type": "execute_result"
    }
   ],
   "source": [
    "n = 5\n",
    "d = 0\n",
    "arr = [3, 1, 1, 2, 1]\n",
    "countPartitions(n, d, arr)"
   ]
  },
  {
   "cell_type": "code",
   "execution_count": 107,
   "metadata": {},
   "outputs": [
    {
     "data": {
      "text/plain": [
       "3"
      ]
     },
     "execution_count": 107,
     "metadata": {},
     "output_type": "execute_result"
    }
   ],
   "source": [
    "n = 5\n",
    "d = 1\n",
    "arr = [3, 2, 2, 5, 1]\n",
    "countPartitions(n, d, arr)"
   ]
  },
  {
   "cell_type": "code",
   "execution_count": 108,
   "metadata": {},
   "outputs": [
    {
     "data": {
      "text/plain": [
       "0"
      ]
     },
     "execution_count": 108,
     "metadata": {},
     "output_type": "execute_result"
    }
   ],
   "source": [
    "n = 5\n",
    "d = 2\n",
    "arr = [3, 2, 2, 5, 1]\n",
    "countPartitions(n, d, arr)"
   ]
  }
 ],
 "metadata": {
  "kernelspec": {
   "display_name": "dsa-venv",
   "language": "python",
   "name": "python3"
  },
  "language_info": {
   "codemirror_mode": {
    "name": "ipython",
    "version": 3
   },
   "file_extension": ".py",
   "mimetype": "text/x-python",
   "name": "python",
   "nbconvert_exporter": "python",
   "pygments_lexer": "ipython3",
   "version": "3.11.3"
  },
  "orig_nbformat": 4
 },
 "nbformat": 4,
 "nbformat_minor": 2
}
