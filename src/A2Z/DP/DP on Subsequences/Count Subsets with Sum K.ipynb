{
 "cells": [
  {
   "cell_type": "code",
   "execution_count": 185,
   "metadata": {},
   "outputs": [],
   "source": [
    "from typing import List\n",
    "\n",
    "def findWays(arr: List[int], k: int) -> int:\n",
    "    # Write your code here.\n",
    "    def helper(i, rem):\n",
    "        if rem == 0:\n",
    "            return 1\n",
    "        if i == len(arr):\n",
    "            return 0\n",
    "        return helper(i + 1, rem - arr[i]) + helper(i + 1, rem)\n",
    "        \n",
    "    return helper(0, k)"
   ]
  },
  {
   "cell_type": "code",
   "execution_count": 186,
   "metadata": {},
   "outputs": [],
   "source": [
    "from typing import List\n",
    "mod = 10**9 + 7\n",
    "def findWays(arr: List[int], k: int) -> int:\n",
    "    # Write your code here.\n",
    "    dp = [[-1 for _ in range(k + 1)] for _ in range(len(arr))]\n",
    "    def helper(i, rem):\n",
    "        if rem == 0:\n",
    "            return 1\n",
    "        if rem < 0:\n",
    "            return 0\n",
    "        if i == len(arr):\n",
    "            return 0\n",
    "        if dp[i][rem] != -1:\n",
    "            return dp[i][rem]\n",
    "        dp[i][rem] = helper(i + 1, rem - arr[i]) + helper(i + 1, rem)\n",
    "        return dp[i][rem]\n",
    "        \n",
    "    return helper(0, k) % mod"
   ]
  },
  {
   "cell_type": "code",
   "execution_count": 187,
   "metadata": {},
   "outputs": [],
   "source": [
    "from typing import List\n",
    "mod = 10**9 + 7\n",
    "def findWays(arr: List[int], k: int) -> int:\n",
    "    # Write your code here.\n",
    "    n = len(arr)\n",
    "    dp = [[-1 for _ in range(k + 1)] for _ in range(n + 1)]\n",
    "    def helper(i, rem):\n",
    "        if rem == 0:\n",
    "            return 1\n",
    "        if i == 0:\n",
    "            return 0\n",
    "        if dp[i][rem] != -1:\n",
    "            return dp[i][rem]\n",
    "        if rem - arr[i - 1] >= 0:\n",
    "            dp[i][rem] = helper(i - 1, rem - arr[i - 1]) + helper(i - 1, rem)\n",
    "        else:\n",
    "            dp[i][rem] = helper(i - 1, rem)\n",
    "        return dp[i][rem]\n",
    "        \n",
    "    return helper(n, k) % mod"
   ]
  },
  {
   "cell_type": "code",
   "execution_count": 188,
   "metadata": {},
   "outputs": [],
   "source": [
    "from typing import List\n",
    "mod = 10**9 + 7\n",
    "def findWays(arr: List[int], k: int) -> int:\n",
    "    # Write your code here.\n",
    "    n = len(arr)\n",
    "    dp = [[1 if rem == 0 else 0 for rem in range(k + 1)] for i in range(n + 1)]\n",
    "    for i in range(1, n + 1):\n",
    "        for rem in range(0, k + 1):\n",
    "            if rem - arr[i-1] >= 0:\n",
    "                dp[i][rem] = dp[i-1][rem - arr[i-1]] + dp[i-1][rem]\n",
    "            else:\n",
    "                dp[i][rem] = dp[i-1][rem]\n",
    "    return dp[n][k] % mod"
   ]
  },
  {
   "cell_type": "code",
   "execution_count": 189,
   "metadata": {},
   "outputs": [
    {
     "data": {
      "text/plain": [
       "3"
      ]
     },
     "execution_count": 189,
     "metadata": {},
     "output_type": "execute_result"
    }
   ],
   "source": [
    "arr = [1, 4, 4, 5]\n",
    "k = 5\n",
    "findWays(arr, k)"
   ]
  },
  {
   "cell_type": "code",
   "execution_count": 190,
   "metadata": {},
   "outputs": [
    {
     "data": {
      "text/plain": [
       "3"
      ]
     },
     "execution_count": 190,
     "metadata": {},
     "output_type": "execute_result"
    }
   ],
   "source": [
    "arr = [1, 1, 1]\n",
    "k = 2\n",
    "findWays(arr, k)"
   ]
  },
  {
   "cell_type": "code",
   "execution_count": 191,
   "metadata": {},
   "outputs": [
    {
     "data": {
      "text/plain": [
       "0"
      ]
     },
     "execution_count": 191,
     "metadata": {},
     "output_type": "execute_result"
    }
   ],
   "source": [
    "arr = [2, 34, 5]\n",
    "k = 40\n",
    "findWays(arr, k)"
   ]
  },
  {
   "cell_type": "code",
   "execution_count": 192,
   "metadata": {},
   "outputs": [
    {
     "data": {
      "text/plain": [
       "1"
      ]
     },
     "execution_count": 192,
     "metadata": {},
     "output_type": "execute_result"
    }
   ],
   "source": [
    "arr = [12, 1, 3]\n",
    "k = 4\n",
    "findWays(arr, k)"
   ]
  },
  {
   "cell_type": "code",
   "execution_count": 193,
   "metadata": {},
   "outputs": [
    {
     "data": {
      "text/plain": [
       "728567579"
      ]
     },
     "execution_count": 193,
     "metadata": {},
     "output_type": "execute_result"
    }
   ],
   "source": [
    "arr = [7,7,7,9,1,4,4,7,8,2,10,3,9,8,1,9,7,1,2,8,7,3,5,3,9,8,9,7,8,3,2,4,2,6,10,1,6,4,10,5,3,7,1,6,5,6,1,8,6,7,5,1,2,3,5,2,9,10,3,1,2,10,5,7,10,2,7,9,3,4,2,8,10,5]\n",
    "k = 53\n",
    "findWays(arr, k)"
   ]
  }
 ],
 "metadata": {
  "kernelspec": {
   "display_name": "dsa-venv",
   "language": "python",
   "name": "python3"
  },
  "language_info": {
   "codemirror_mode": {
    "name": "ipython",
    "version": 3
   },
   "file_extension": ".py",
   "mimetype": "text/x-python",
   "name": "python",
   "nbconvert_exporter": "python",
   "pygments_lexer": "ipython3",
   "version": "3.11.3"
  },
  "orig_nbformat": 4
 },
 "nbformat": 4,
 "nbformat_minor": 2
}
