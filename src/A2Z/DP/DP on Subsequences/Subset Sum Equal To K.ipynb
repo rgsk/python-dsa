{
 "cells": [
  {
   "cell_type": "code",
   "execution_count": 178,
   "metadata": {},
   "outputs": [],
   "source": [
    "# https://www.codingninjas.com/studio/problems/subset-sum-equal-to-k_1550954?utm_source=striver&utm_medium=website&utm_campaign=a_zcoursetuf&leftPanelTab=0"
   ]
  },
  {
   "cell_type": "code",
   "execution_count": 179,
   "metadata": {},
   "outputs": [],
   "source": [
    "def subsetSumToK(n, k, arr):\n",
    "    def helper(i, remaining_sum):\n",
    "        if remaining_sum == 0:\n",
    "            return True\n",
    "        if remaining_sum < 0:\n",
    "            return False\n",
    "        if i == n:\n",
    "            return False\n",
    "        take = helper(i + 1, remaining_sum - arr[i])\n",
    "        not_take = helper(i + 1, remaining_sum)\n",
    "        return take or not_take\n",
    "    return helper(0, k)"
   ]
  },
  {
   "cell_type": "code",
   "execution_count": 180,
   "metadata": {},
   "outputs": [],
   "source": [
    "def subsetSumToK(n, k, arr):\n",
    "    dp = [[None for _ in range(k + 1)] for _ in range(n)]\n",
    "    def helper(i, remaining_sum):\n",
    "        if remaining_sum == 0:\n",
    "            return True\n",
    "        if remaining_sum < 0:\n",
    "            return False\n",
    "        if i == n:\n",
    "            return False\n",
    "        if dp[i][remaining_sum] != None:\n",
    "            return dp[i][remaining_sum]\n",
    "        take = helper(i + 1, remaining_sum - arr[i])\n",
    "        not_take = helper(i + 1, remaining_sum)\n",
    "        dp[i][remaining_sum] = take or not_take\n",
    "        return dp[i][remaining_sum]\n",
    "    return helper(0, k)"
   ]
  },
  {
   "cell_type": "code",
   "execution_count": 181,
   "metadata": {},
   "outputs": [],
   "source": [
    "def subsetSumToK(n, k, arr):\n",
    "    dp = [[None for _ in range(k + 1)] for _ in range(n + 1)]\n",
    "    def helper(i, remaining_sum):\n",
    "        if remaining_sum == 0:\n",
    "            return True\n",
    "        if remaining_sum < 0:\n",
    "            return False\n",
    "        if i == 0:\n",
    "            return False\n",
    "        if dp[i][remaining_sum] != None:\n",
    "            return dp[i][remaining_sum]\n",
    "        take = helper(i - 1, remaining_sum - arr[i - 1])\n",
    "        not_take = helper(i - 1, remaining_sum)\n",
    "        dp[i][remaining_sum] = take or not_take\n",
    "        return dp[i][remaining_sum]\n",
    "    return helper(n, k)"
   ]
  },
  {
   "cell_type": "code",
   "execution_count": 182,
   "metadata": {},
   "outputs": [],
   "source": [
    "def subsetSumToK(n, k, arr):\n",
    "    dp = [[True if remaining_sum == 0 else False for remaining_sum in range(k + 1)] for _ in range(n + 1)]\n",
    "    for i in range(1, n + 1):\n",
    "        for remaining_sum in range(k + 1):\n",
    "            take = False\n",
    "            if remaining_sum - arr[i - 1] >= 0:\n",
    "                take = dp[i - 1][remaining_sum - arr[i - 1]]\n",
    "            not_take = dp[i - 1][remaining_sum]\n",
    "            dp[i][remaining_sum] = take or not_take\n",
    "    return dp[n][k]"
   ]
  },
  {
   "cell_type": "code",
   "execution_count": 183,
   "metadata": {},
   "outputs": [],
   "source": [
    "def subsetSumToK(n, k, arr):\n",
    "    dp = [[True if remaining_sum == 0 else False for remaining_sum in range(k + 1)] for _ in range(2)]\n",
    "    for i in range(1, n + 1):\n",
    "        for remaining_sum in range(k + 1):\n",
    "            take = False\n",
    "            if remaining_sum - arr[i - 1] >= 0:\n",
    "                take = dp[0][remaining_sum - arr[i - 1]]\n",
    "            not_take = dp[0][remaining_sum]\n",
    "            dp[1][remaining_sum] = take or not_take\n",
    "        dp[0] = dp[1][::]\n",
    "    return dp[0][k]"
   ]
  },
  {
   "cell_type": "code",
   "execution_count": 184,
   "metadata": {},
   "outputs": [],
   "source": [
    "def subsetSumToK(n, k, arr):\n",
    "    dp = [False for remaining_sum in range(k + 1)]\n",
    "    dp[0] = True\n",
    "    cp = dp.copy()\n",
    "    for i in range(1, n + 1):\n",
    "        for remaining_sum in range(k + 1):\n",
    "            take = False\n",
    "            if remaining_sum - arr[i - 1] >= 0:\n",
    "                take = dp[remaining_sum - arr[i - 1]]\n",
    "            not_take = dp[remaining_sum]\n",
    "            cp[remaining_sum] = take or not_take\n",
    "        dp = cp[::]\n",
    "    return dp[k]"
   ]
  },
  {
   "cell_type": "code",
   "execution_count": 185,
   "metadata": {},
   "outputs": [],
   "source": [
    "def subsetSumToK(n, k, arr):\n",
    "    dp = [False for remaining_sum in range(k + 1)]\n",
    "    dp[0] = True\n",
    "    for i in range(1, n + 1):\n",
    "        cp = dp[::]\n",
    "        for remaining_sum in range(k + 1):\n",
    "            take = False\n",
    "            if remaining_sum - arr[i - 1] >= 0:\n",
    "                take = cp[remaining_sum - arr[i - 1]]\n",
    "            not_take = cp[remaining_sum]\n",
    "            dp[remaining_sum] = take or not_take\n",
    "    return dp[k]"
   ]
  },
  {
   "cell_type": "code",
   "execution_count": 186,
   "metadata": {},
   "outputs": [],
   "source": [
    "def subsetSumToK(n, k, arr):\n",
    "    dp = [False for remaining_sum in range(k + 1)]\n",
    "    dp[0] = True\n",
    "    for i in range(n):\n",
    "        cp = dp[::]\n",
    "        for remaining_sum in range(k + 1):\n",
    "            if remaining_sum >= arr[i] and cp[remaining_sum - arr[i]]:\n",
    "                dp[remaining_sum] = True\n",
    "    return dp[k]"
   ]
  },
  {
   "cell_type": "code",
   "execution_count": 187,
   "metadata": {},
   "outputs": [
    {
     "data": {
      "text/plain": [
       "True"
      ]
     },
     "execution_count": 187,
     "metadata": {},
     "output_type": "execute_result"
    }
   ],
   "source": [
    "k = 4\n",
    "arr = [1, 2, 3, 4]\n",
    "n = len(arr)\n",
    "subsetSumToK(n, k, arr)"
   ]
  },
  {
   "cell_type": "code",
   "execution_count": 188,
   "metadata": {},
   "outputs": [
    {
     "data": {
      "text/plain": [
       "True"
      ]
     },
     "execution_count": 188,
     "metadata": {},
     "output_type": "execute_result"
    }
   ],
   "source": [
    "k = 5\n",
    "arr = [1, 2, 3, 4]\n",
    "n = len(arr)\n",
    "subsetSumToK(n, k, arr)"
   ]
  },
  {
   "cell_type": "code",
   "execution_count": 189,
   "metadata": {},
   "outputs": [
    {
     "data": {
      "text/plain": [
       "False"
      ]
     },
     "execution_count": 189,
     "metadata": {},
     "output_type": "execute_result"
    }
   ],
   "source": [
    "k = 4\n",
    "arr = [2, 5, 1, 6, 7]\n",
    "n = len(arr)\n",
    "subsetSumToK(n, k, arr)"
   ]
  },
  {
   "cell_type": "code",
   "execution_count": null,
   "metadata": {},
   "outputs": [],
   "source": []
  }
 ],
 "metadata": {
  "kernelspec": {
   "display_name": "dsa-venv",
   "language": "python",
   "name": "python3"
  },
  "language_info": {
   "codemirror_mode": {
    "name": "ipython",
    "version": 3
   },
   "file_extension": ".py",
   "mimetype": "text/x-python",
   "name": "python",
   "nbconvert_exporter": "python",
   "pygments_lexer": "ipython3",
   "version": "3.11.3"
  },
  "orig_nbformat": 4
 },
 "nbformat": 4,
 "nbformat_minor": 2
}
