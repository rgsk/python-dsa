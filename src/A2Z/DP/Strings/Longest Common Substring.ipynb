{
 "cells": [
  {
   "cell_type": "code",
   "execution_count": 106,
   "metadata": {},
   "outputs": [],
   "source": [
    "import pprint\n",
    "\n",
    "\n",
    "def lcs(str1: str, str2: str) -> int:\n",
    "    # write your code here\n",
    "    rows = len(str1) + 1\n",
    "    cols = len(str2) + 1\n",
    "    dp = [[0 for _ in range(cols)] for _ in range(rows)]\n",
    "    ans = 0\n",
    "    for i in range(1, rows):\n",
    "        for j in range(1, cols):\n",
    "            if str1[i-1] == str2[j-1]:\n",
    "                dp[i][j] = dp[i-1][j-1] + 1\n",
    "                ans = max(ans, dp[i][j])\n",
    "    # pprint.pprint(dp)\n",
    "    return ans"
   ]
  },
  {
   "cell_type": "code",
   "execution_count": 107,
   "metadata": {},
   "outputs": [],
   "source": [
    "def lcs_recursive(str1: str, str2: str, i: int, j: int, length: int) -> int:\n",
    "    # Base case: If either of the strings is empty or we reach the end of either string.\n",
    "    if i == 0 or j == 0:\n",
    "        return length\n",
    "    \n",
    "    # If the last characters of both strings match, extend the common substring.\n",
    "    if str1[i - 1] == str2[j - 1]:\n",
    "        length = lcs_recursive(str1, str2, i - 1, j - 1, length + 1)\n",
    "    \n",
    "    # Compare the lengths of common substrings obtained by excluding the last character of each string.\n",
    "    length = max(\n",
    "        length,\n",
    "        max(\n",
    "            lcs_recursive(str1, str2, i - 1, j, 0),\n",
    "            lcs_recursive(str1, str2, i, j - 1, 0)\n",
    "        )\n",
    "    )\n",
    "    \n",
    "    return length\n",
    "\n",
    "def lcs(str1: str, str2: str) -> int:\n",
    "    rows = len(str1)\n",
    "    cols = len(str2)\n",
    "    # Initialize both strings' indices and the current common substring length.\n",
    "    return lcs_recursive(str1, str2, rows, cols, 0)"
   ]
  },
  {
   "cell_type": "code",
   "execution_count": 108,
   "metadata": {},
   "outputs": [],
   "source": [
    "def lcs(str1: str, str2: str) -> int:\n",
    "    # write your code here\n",
    "    rows = len(str1)\n",
    "    cols = len(str2)\n",
    "    def helper(i, j, length):\n",
    "        if i == rows or j == cols:\n",
    "            return length\n",
    "        if str1[i] == str2[j]:\n",
    "            length = helper(i + 1, j + 1, length + 1)\n",
    "        return max(length, helper(i+1, j, 0), helper(i, j+1, 0))\n",
    "    return helper(0,0,0)"
   ]
  },
  {
   "cell_type": "code",
   "execution_count": 109,
   "metadata": {},
   "outputs": [
    {
     "data": {
      "text/plain": [
       "3"
      ]
     },
     "execution_count": 109,
     "metadata": {},
     "output_type": "execute_result"
    }
   ],
   "source": [
    "str1='wasdijkl'\n",
    "str2='wsdjkl'\n",
    "lcs(str1, str2)"
   ]
  },
  {
   "cell_type": "code",
   "execution_count": 110,
   "metadata": {},
   "outputs": [
    {
     "data": {
      "text/plain": [
       "2"
      ]
     },
     "execution_count": 110,
     "metadata": {},
     "output_type": "execute_result"
    }
   ],
   "source": [
    "str1='tyfg'\n",
    "str2='cvbnuty'\n",
    "lcs(str1, str2)"
   ]
  },
  {
   "cell_type": "code",
   "execution_count": 111,
   "metadata": {},
   "outputs": [
    {
     "data": {
      "text/plain": [
       "3"
      ]
     },
     "execution_count": 111,
     "metadata": {},
     "output_type": "execute_result"
    }
   ],
   "source": [
    "str1='yxyyzxxxzz'\n",
    "str2='yzzyxy'\n",
    "lcs(str1, str2)"
   ]
  }
 ],
 "metadata": {
  "kernelspec": {
   "display_name": "dsa-venv",
   "language": "python",
   "name": "python3"
  },
  "language_info": {
   "codemirror_mode": {
    "name": "ipython",
    "version": 3
   },
   "file_extension": ".py",
   "mimetype": "text/x-python",
   "name": "python",
   "nbconvert_exporter": "python",
   "pygments_lexer": "ipython3",
   "version": "3.11.3"
  },
  "orig_nbformat": 4
 },
 "nbformat": 4,
 "nbformat_minor": 2
}
