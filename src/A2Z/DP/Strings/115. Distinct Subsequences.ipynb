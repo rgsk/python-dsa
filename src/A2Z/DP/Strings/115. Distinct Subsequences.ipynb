{
 "cells": [
  {
   "cell_type": "code",
   "execution_count": 181,
   "metadata": {},
   "outputs": [],
   "source": [
    "from functools import cache\n",
    "\n",
    "\n",
    "class Solution:\n",
    "    def numDistinct(self, s: str, t: str) -> int:\n",
    "        @cache\n",
    "        def helper(i, j, matches = 0):\n",
    "            if matches == len(t):\n",
    "                return 1\n",
    "            if i == len(s) or j == len(t):\n",
    "                return 0\n",
    "            val = 0\n",
    "            if s[i] == t[j]:\n",
    "                val += helper(i + 1, j + 1, matches + 1) \n",
    "            val += helper(i, j+1, matches)\n",
    "            val += helper(i+1, j, matches)\n",
    "            return val\n",
    "        return helper(0,0)"
   ]
  },
  {
   "cell_type": "code",
   "execution_count": 182,
   "metadata": {},
   "outputs": [],
   "source": [
    "from functools import cache\n",
    "\n",
    "\n",
    "class Solution:\n",
    "    def numDistinct(self, s: str, t: str) -> int:\n",
    "        @cache\n",
    "        def helper(i, j):\n",
    "            if j == len(t):\n",
    "                return 1\n",
    "            \n",
    "            if i == len(s):\n",
    "                return 0\n",
    "            \n",
    "            if s[i] == t[j]:\n",
    "                return helper(i + 1, j + 1) + helper(i + 1, j) \n",
    "            return helper(i + 1, j)\n",
    "        return helper(0,0)"
   ]
  },
  {
   "cell_type": "code",
   "execution_count": 183,
   "metadata": {},
   "outputs": [],
   "source": [
    "\n",
    "class Solution:\n",
    "    def numDistinct(self, s: str, t: str) -> int:\n",
    "        dp = [[-1 for _ in range(len(t))] for _ in range(len(s))]\n",
    "        def helper(i, j):\n",
    "            if j == len(t):\n",
    "                return 1\n",
    "            \n",
    "            if i == len(s):\n",
    "                return 0\n",
    "            \n",
    "            if dp[i][j] != -1:\n",
    "                return dp[i][j]\n",
    "            \n",
    "            if s[i] == t[j]:\n",
    "                dp[i][j] = helper(i + 1, j + 1) + helper(i + 1, j) \n",
    "            else:\n",
    "                dp[i][j] = helper(i + 1, j)\n",
    "            return dp[i][j]\n",
    "        return helper(0,0)"
   ]
  },
  {
   "cell_type": "code",
   "execution_count": 184,
   "metadata": {},
   "outputs": [],
   "source": [
    "\n",
    "class Solution:\n",
    "    def numDistinct(self, s: str, t: str) -> int:\n",
    "        rows = len(s)\n",
    "        cols = len(t)\n",
    "        dp = [[-1 for _ in range(cols)] for _ in range(rows)]\n",
    "        def helper(i, j):\n",
    "            if j == -1:\n",
    "                return 1\n",
    "            \n",
    "            if i == -1:\n",
    "                return 0\n",
    "            \n",
    "            if dp[i][j] != -1:\n",
    "                return dp[i][j]\n",
    "            \n",
    "            if s[i] == t[j]:\n",
    "                dp[i][j] = helper(i - 1, j - 1) + helper(i - 1, j) \n",
    "            else:\n",
    "                dp[i][j] = helper(i - 1, j)\n",
    "            return dp[i][j]\n",
    "        return helper(rows-1,cols-1)"
   ]
  },
  {
   "cell_type": "code",
   "execution_count": 185,
   "metadata": {},
   "outputs": [],
   "source": [
    "\n",
    "class Solution:\n",
    "    def numDistinct(self, s: str, t: str) -> int:\n",
    "        rows = len(s)\n",
    "        cols = len(t)\n",
    "        dp = [[-1 for _ in range(cols + 1)] for _ in range(rows + 1)]\n",
    "        def helper(i, j):\n",
    "            if j == 0:\n",
    "                return 1\n",
    "            \n",
    "            if i == 0:\n",
    "                return 0\n",
    "            \n",
    "            if dp[i][j] != -1:\n",
    "                return dp[i][j]\n",
    "            \n",
    "            if s[i - 1] == t[j - 1]:\n",
    "                dp[i][j] = helper(i - 1, j - 1) + helper(i - 1, j) \n",
    "            else:\n",
    "                dp[i][j] = helper(i - 1, j)\n",
    "            return dp[i][j]\n",
    "        return helper(rows,cols)"
   ]
  },
  {
   "cell_type": "code",
   "execution_count": 186,
   "metadata": {},
   "outputs": [],
   "source": [
    "\n",
    "class Solution:\n",
    "    def numDistinct(self, s: str, t: str) -> int:\n",
    "        rows = len(s)\n",
    "        cols = len(t)\n",
    "        dp = [[1 if j == 0 else 0 for j in range(cols + 1)] for i in range(rows + 1)]\n",
    "        for i in range(1, rows + 1):\n",
    "            for j in range(1, cols + 1):\n",
    "                if s[i-1] == t[j-1]:\n",
    "                    dp[i][j] = dp[i-1][j-1] + dp[i-1][j]\n",
    "                else:\n",
    "                    dp[i][j] = dp[i-1][j]\n",
    "        return dp[rows][cols]"
   ]
  },
  {
   "cell_type": "code",
   "execution_count": 187,
   "metadata": {},
   "outputs": [
    {
     "data": {
      "text/plain": [
       "3"
      ]
     },
     "execution_count": 187,
     "metadata": {},
     "output_type": "execute_result"
    }
   ],
   "source": [
    "s = \"rabbbit\"\n",
    "t = \"rabbit\"\n",
    "sol = Solution()\n",
    "sol.numDistinct(s, t)"
   ]
  },
  {
   "cell_type": "code",
   "execution_count": 188,
   "metadata": {},
   "outputs": [
    {
     "data": {
      "text/plain": [
       "5"
      ]
     },
     "execution_count": 188,
     "metadata": {},
     "output_type": "execute_result"
    }
   ],
   "source": [
    "s = \"babgbag\"\n",
    "t = \"bag\"\n",
    "sol = Solution()\n",
    "sol.numDistinct(s, t)"
   ]
  },
  {
   "cell_type": "code",
   "execution_count": 189,
   "metadata": {},
   "outputs": [
    {
     "data": {
      "text/plain": [
       "172"
      ]
     },
     "execution_count": 189,
     "metadata": {},
     "output_type": "execute_result"
    }
   ],
   "source": [
    "s =\"bccbcdcabadabddbccaddcbabbaaacdba\"\n",
    "t =\"bccbbdc\"\n",
    "sol = Solution()\n",
    "sol.numDistinct(s, t)"
   ]
  },
  {
   "cell_type": "code",
   "execution_count": null,
   "metadata": {},
   "outputs": [],
   "source": []
  }
 ],
 "metadata": {
  "kernelspec": {
   "display_name": "dsa-venv",
   "language": "python",
   "name": "python3"
  },
  "language_info": {
   "codemirror_mode": {
    "name": "ipython",
    "version": 3
   },
   "file_extension": ".py",
   "mimetype": "text/x-python",
   "name": "python",
   "nbconvert_exporter": "python",
   "pygments_lexer": "ipython3",
   "version": "3.11.3"
  },
  "orig_nbformat": 4
 },
 "nbformat": 4,
 "nbformat_minor": 2
}
