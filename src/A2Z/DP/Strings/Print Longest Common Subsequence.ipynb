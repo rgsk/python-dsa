{
 "cells": [
  {
   "cell_type": "code",
   "execution_count": 72,
   "metadata": {},
   "outputs": [],
   "source": [
    "# https://www.codingninjas.com/studio/problems/print-longest-common-subsequence_8416383?utm_source=striver&utm_medium=website&utm_campaign=a_zcoursetuf&leftPanelTab=0"
   ]
  },
  {
   "cell_type": "code",
   "execution_count": 74,
   "metadata": {},
   "outputs": [],
   "source": [
    "def findLCS(n, m, s1, s2):\n",
    "    dp = [[0 for _ in range(m + 1)] for _ in range(n + 1)]\n",
    "    for i in range(1, n + 1):\n",
    "        for j in range(1, m + 1):\n",
    "            if s1[i-1] == s2[j-1]:\n",
    "                dp[i][j] = 1 + dp[i-1][j-1]\n",
    "            else:\n",
    "                dp[i][j] = max(dp[i-1][j], dp[i][j-1])\n",
    "    i = n\n",
    "    j = m\n",
    "    ans = \"\"\n",
    "    while i > 0 and j > 0:\n",
    "        if dp[i][j] == dp[i-1][j]:\n",
    "            i -= 1\n",
    "        elif dp[i][j] == dp[i][j-1]:\n",
    "            j -= 1\n",
    "        else:\n",
    "            # dp[i][j] == dp[i-1][j-1] + 1\n",
    "            i -= 1\n",
    "            j -= 1\n",
    "            ans += s1[i]\n",
    "    return ans[::-1]"
   ]
  },
  {
   "cell_type": "code",
   "execution_count": 75,
   "metadata": {},
   "outputs": [
    {
     "data": {
      "text/plain": [
       "'abb'"
      ]
     },
     "execution_count": 75,
     "metadata": {},
     "output_type": "execute_result"
    }
   ],
   "source": [
    "s1 = \"ababa\"\n",
    "s2 = \"cbbcad\"\n",
    "n = len(s1)\n",
    "m = len(s2)\n",
    "findLCS(n, m, s1, s2)"
   ]
  },
  {
   "cell_type": "code",
   "execution_count": 76,
   "metadata": {},
   "outputs": [
    {
     "data": {
      "text/plain": [
       "'ti'"
      ]
     },
     "execution_count": 76,
     "metadata": {},
     "output_type": "execute_result"
    }
   ],
   "source": [
    "s1 = \"nmditoxtfjomx\"\n",
    "s2 = \"ilbbhfqzczatp\"\n",
    "n = len(s1)\n",
    "m = len(s2)\n",
    "findLCS(n, m, s1, s2)"
   ]
  },
  {
   "cell_type": "code",
   "execution_count": 77,
   "metadata": {},
   "outputs": [
    {
     "data": {
      "text/plain": [
       "'fe'"
      ]
     },
     "execution_count": 77,
     "metadata": {},
     "output_type": "execute_result"
    }
   ],
   "source": [
    "s1 = \"ecxwvmf\"\n",
    "s2 = \"ofwzcef\"\n",
    "n = len(s1)\n",
    "m = len(s2)\n",
    "findLCS(n, m, s1, s2)"
   ]
  },
  {
   "cell_type": "code",
   "execution_count": 78,
   "metadata": {},
   "outputs": [
    {
     "data": {
      "text/plain": [
       "'dap'"
      ]
     },
     "execution_count": 78,
     "metadata": {},
     "output_type": "execute_result"
    }
   ],
   "source": [
    "s1 = \"aplaufhkwygjdh\"\n",
    "s2 = \"vpyvskardasrnc\"\n",
    "n = len(s1)\n",
    "m = len(s2)\n",
    "findLCS(n, m, s1, s2)"
   ]
  }
 ],
 "metadata": {
  "kernelspec": {
   "display_name": "dsa-venv",
   "language": "python",
   "name": "python3"
  },
  "language_info": {
   "codemirror_mode": {
    "name": "ipython",
    "version": 3
   },
   "file_extension": ".py",
   "mimetype": "text/x-python",
   "name": "python",
   "nbconvert_exporter": "python",
   "pygments_lexer": "ipython3",
   "version": "3.11.3"
  },
  "orig_nbformat": 4
 },
 "nbformat": 4,
 "nbformat_minor": 2
}
