{
 "cells": [
  {
   "cell_type": "code",
   "execution_count": 54,
   "metadata": {},
   "outputs": [],
   "source": [
    "class Solution:\n",
    "    def minDistance(self, word1: str, word2: str) -> int:\n",
    "        def helper(i, j):\n",
    "            if j == len(word2):\n",
    "                # remove the rest of characters from word1\n",
    "                return len(word1) - i\n",
    "            if i == len(word1):\n",
    "                return len(word2) - j\n",
    "            if word1[i] == word2[j]:\n",
    "                return helper(i + 1, j + 1)\n",
    "            else:\n",
    "                return 1 + min(helper(i + 1, j), helper(i + 1, j + 1), helper(i, j + 1))\n",
    "        return helper(0, 0)"
   ]
  },
  {
   "cell_type": "code",
   "execution_count": 55,
   "metadata": {},
   "outputs": [],
   "source": [
    "\n",
    "from functools import cache\n",
    "\n",
    "class Solution:\n",
    "    def minDistance(self, word1: str, word2: str) -> int:\n",
    "        @cache\n",
    "        def helper(i, j):\n",
    "            if j == len(word2):\n",
    "                # remove the rest of characters from word1\n",
    "                return len(word1) - i\n",
    "            if i == len(word1):\n",
    "                return len(word2) - j\n",
    "            if word1[i] == word2[j]:\n",
    "                return helper(i + 1, j + 1)\n",
    "            else:\n",
    "                return 1 + min(helper(i + 1, j), helper(i + 1, j + 1), helper(i, j + 1))\n",
    "        return helper(0, 0)"
   ]
  },
  {
   "cell_type": "code",
   "execution_count": 56,
   "metadata": {},
   "outputs": [],
   "source": [
    "\n",
    "class Solution:\n",
    "    def minDistance(self, word1: str, word2: str) -> int:\n",
    "        dp = [[-1 for _ in range(len(word2))] for _ in range(len(word1))]\n",
    "        def helper(i, j):\n",
    "            if j == len(word2):\n",
    "                # remove the rest of characters from word1\n",
    "                return len(word1) - i\n",
    "            if i == len(word1):\n",
    "                return len(word2) - j\n",
    "            if dp[i][j] != -1:\n",
    "                return dp[i][j]\n",
    "            if word1[i] == word2[j]:\n",
    "                dp[i][j] = helper(i + 1, j + 1)\n",
    "            else:\n",
    "                dp[i][j] = 1 + min(helper(i + 1, j), helper(i + 1, j + 1), helper(i, j + 1))\n",
    "            return dp[i][j]\n",
    "        return helper(0, 0)"
   ]
  },
  {
   "cell_type": "code",
   "execution_count": 57,
   "metadata": {},
   "outputs": [],
   "source": [
    "\n",
    "class Solution:\n",
    "    def minDistance(self, word1: str, word2: str) -> int:\n",
    "        rows = len(word1)\n",
    "        cols = len(word2)\n",
    "        dp = [[-1 for _ in range(cols + 1)] for _ in range(rows + 1)]\n",
    "        def helper(i, j):\n",
    "            if j == 0:\n",
    "                # remove the rest of characters from word1\n",
    "                return i\n",
    "            if i == 0:\n",
    "                return j\n",
    "            if dp[i][j] != -1:\n",
    "                return dp[i][j]\n",
    "            if word1[i - 1] == word2[j - 1]:\n",
    "                dp[i][j] = helper(i - 1, j - 1)\n",
    "            else:\n",
    "                dp[i][j] = 1 + min(helper(i - 1, j), helper(i - 1, j - 1), helper(i, j - 1))\n",
    "            return dp[i][j]\n",
    "        return helper(rows, cols)"
   ]
  },
  {
   "cell_type": "code",
   "execution_count": 58,
   "metadata": {},
   "outputs": [],
   "source": [
    "\n",
    "class Solution:\n",
    "    def minDistance(self, word1: str, word2: str) -> int:\n",
    "        rows = len(word1)\n",
    "        cols = len(word2)\n",
    "        dp = [[0  for i in range(cols + 1)] for j in range(rows + 1)]\n",
    "        for i in range(rows + 1):\n",
    "            for j in range(cols + 1):\n",
    "                if j == 0:\n",
    "                    dp[i][j] = i\n",
    "                elif i == 0:\n",
    "                    dp[i][j] = j\n",
    "        for i in range(1, rows + 1):\n",
    "            for j in range(1, cols + 1):\n",
    "                if word1[i - 1] == word2[j - 1]:\n",
    "                    dp[i][j] = dp[i-1][j-1]\n",
    "                else:\n",
    "                    dp[i][j] = 1 + min(dp[i-1][j], dp[i-1][j-1], dp[i][j-1])\n",
    "        return dp[rows][cols]"
   ]
  },
  {
   "cell_type": "code",
   "execution_count": 59,
   "metadata": {},
   "outputs": [
    {
     "data": {
      "text/plain": [
       "3"
      ]
     },
     "execution_count": 59,
     "metadata": {},
     "output_type": "execute_result"
    }
   ],
   "source": [
    "word1 = \"horse\"\n",
    "word2 = \"ros\"\n",
    "sol = Solution()\n",
    "sol.minDistance(word1, word2)"
   ]
  },
  {
   "cell_type": "code",
   "execution_count": 60,
   "metadata": {},
   "outputs": [
    {
     "data": {
      "text/plain": [
       "5"
      ]
     },
     "execution_count": 60,
     "metadata": {},
     "output_type": "execute_result"
    }
   ],
   "source": [
    "word1 = \"intention\"\n",
    "word2 = \"execution\"\n",
    "sol = Solution()\n",
    "sol.minDistance(word1, word2)"
   ]
  }
 ],
 "metadata": {
  "kernelspec": {
   "display_name": "dsa-venv",
   "language": "python",
   "name": "python3"
  },
  "language_info": {
   "codemirror_mode": {
    "name": "ipython",
    "version": 3
   },
   "file_extension": ".py",
   "mimetype": "text/x-python",
   "name": "python",
   "nbconvert_exporter": "python",
   "pygments_lexer": "ipython3",
   "version": "3.11.3"
  },
  "orig_nbformat": 4
 },
 "nbformat": 4,
 "nbformat_minor": 2
}
