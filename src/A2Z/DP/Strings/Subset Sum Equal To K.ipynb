{
 "cells": [
  {
   "cell_type": "code",
   "execution_count": 95,
   "metadata": {},
   "outputs": [],
   "source": [
    "# https://www.codingninjas.com/studio/problems/subset-sum-equal-to-k_1550954?utm_source=striver&utm_medium=website&utm_campaign=a_zcoursetuf"
   ]
  },
  {
   "cell_type": "code",
   "execution_count": 96,
   "metadata": {},
   "outputs": [],
   "source": [
    "def subsetSumToK(n, k, arr):\n",
    "    def helper(idx=0, remaining = k):\n",
    "        if remaining == 0:\n",
    "            return True\n",
    "        if idx == n or remaining < 0:\n",
    "            return False\n",
    "        return helper(idx + 1, remaining - arr[idx]) or helper(idx + 1, remaining)\n",
    "    return helper()"
   ]
  },
  {
   "cell_type": "code",
   "execution_count": 97,
   "metadata": {},
   "outputs": [],
   "source": [
    "def subsetSumToK(n, k, arr):\n",
    "    dp = [[-1 for _ in range(k + 1)] for _ in range(n)]\n",
    "    def helper(idx=0, remaining = k):\n",
    "        if remaining == 0:\n",
    "            return True\n",
    "        if idx == n or remaining < 0:\n",
    "            return False\n",
    "        if dp[idx][remaining] != -1:\n",
    "            return dp[idx][remaining]\n",
    "        dp[idx][remaining] = helper(idx + 1, remaining - arr[idx]) or helper(idx + 1, remaining)\n",
    "        return dp[idx][remaining]\n",
    "    res = helper()\n",
    "    return res"
   ]
  },
  {
   "cell_type": "code",
   "execution_count": 98,
   "metadata": {},
   "outputs": [],
   "source": [
    "def subsetSumToK(n, k, arr):\n",
    "    dp = [False for _ in range(k + 1)]\n",
    "    dp[0] = True\n",
    "    for v in arr:\n",
    "        cp = dp[:]\n",
    "        for i in range(k + 1):\n",
    "            if cp[i] and i + v <= k:\n",
    "                dp[i + v] = True\n",
    "    return dp[k]"
   ]
  },
  {
   "cell_type": "code",
   "execution_count": 99,
   "metadata": {},
   "outputs": [
    {
     "data": {
      "text/plain": [
       "True"
      ]
     },
     "execution_count": 99,
     "metadata": {},
     "output_type": "execute_result"
    }
   ],
   "source": [
    "'''\n",
    "4 5\n",
    "4 3 2 1\n",
    "5 4\n",
    "2 5 1 6 7\n",
    "'''\n",
    "n = 4\n",
    "k = 5\n",
    "arr = [4, 3, 2, 1]\n",
    "subsetSumToK(n, k, arr)"
   ]
  },
  {
   "cell_type": "code",
   "execution_count": 100,
   "metadata": {},
   "outputs": [
    {
     "data": {
      "text/plain": [
       "False"
      ]
     },
     "execution_count": 100,
     "metadata": {},
     "output_type": "execute_result"
    }
   ],
   "source": [
    "n = 5\n",
    "k = 4\n",
    "arr = [2, 5, 1, 6, 7]\n",
    "subsetSumToK(n, k, arr)"
   ]
  },
  {
   "cell_type": "code",
   "execution_count": 101,
   "metadata": {},
   "outputs": [
    {
     "data": {
      "text/plain": [
       "True"
      ]
     },
     "execution_count": 101,
     "metadata": {},
     "output_type": "execute_result"
    }
   ],
   "source": [
    "'''\n",
    "4 4\n",
    "6 1 2 1\n",
    "5 6\n",
    "1 7 2 9 10\n",
    "'''\n",
    "n = 4\n",
    "k = 4\n",
    "arr = [6, 1, 2, 1]\n",
    "subsetSumToK(n, k, arr)"
   ]
  },
  {
   "cell_type": "code",
   "execution_count": 102,
   "metadata": {},
   "outputs": [
    {
     "data": {
      "text/plain": [
       "False"
      ]
     },
     "execution_count": 102,
     "metadata": {},
     "output_type": "execute_result"
    }
   ],
   "source": [
    "n = 5\n",
    "k = 6\n",
    "arr = [1, 7, 2, 9, 10]\n",
    "subsetSumToK(n, k, arr)"
   ]
  }
 ],
 "metadata": {
  "kernelspec": {
   "display_name": "dsa-venv",
   "language": "python",
   "name": "python3"
  },
  "language_info": {
   "codemirror_mode": {
    "name": "ipython",
    "version": 3
   },
   "file_extension": ".py",
   "mimetype": "text/x-python",
   "name": "python",
   "nbconvert_exporter": "python",
   "pygments_lexer": "ipython3",
   "version": "3.11.3"
  },
  "orig_nbformat": 4
 },
 "nbformat": 4,
 "nbformat_minor": 2
}
