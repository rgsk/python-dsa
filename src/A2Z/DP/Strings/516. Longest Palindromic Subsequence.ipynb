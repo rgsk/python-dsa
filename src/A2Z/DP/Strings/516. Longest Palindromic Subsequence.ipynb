{
 "cells": [
  {
   "cell_type": "code",
   "execution_count": 12,
   "metadata": {},
   "outputs": [],
   "source": [
    "\n",
    "def longestCommonSubsequence(text1: str, text2: str) -> int:\n",
    "\n",
    "        rows = len(text1)\n",
    "        cols = len(text2)\n",
    "        dp = [[0 for _ in range(cols + 1)] for _ in range(rows + 1)]\n",
    "        for i in range(1, rows + 1):\n",
    "            for j in range(1, cols + 1):\n",
    "                if text1[i-1] == text2[j-1]:\n",
    "                    dp[i][j] = 1 + dp[i-1][j-1]\n",
    "                else:\n",
    "                    dp[i][j] = max(dp[i-1][j], dp[i][j-1])\n",
    "        return dp[rows][cols] \n",
    "\n",
    "class Solution:\n",
    "    def longestPalindromeSubseq(self, s: str) -> int:\n",
    "        return longestCommonSubsequence(s, s[::-1])"
   ]
  },
  {
   "cell_type": "code",
   "execution_count": 13,
   "metadata": {},
   "outputs": [],
   "source": [
    "class Solution:\n",
    "    def longestPalindromeSubseq(self, s: str) -> int:\n",
    "        dp = [[-1 for _ in range(len(s))] for _ in range(len(s))]\n",
    "        def lcs(i: int, j: int) -> int:\n",
    "            if i >= len(s) or j < 0:\n",
    "                return 0\n",
    "            if dp[i][j] != -1:\n",
    "                return dp[i][j]\n",
    "            if s[i] == s[j]:\n",
    "                dp[i][j] = 1 + lcs(i + 1, j - 1)\n",
    "            else:\n",
    "                dp[i][j] = max(lcs(i + 1, j), lcs(i, j - 1))\n",
    "            return dp[i][j]\n",
    "\n",
    "        return lcs(0, len(s) - 1)"
   ]
  },
  {
   "cell_type": "code",
   "execution_count": 14,
   "metadata": {},
   "outputs": [
    {
     "data": {
      "text/plain": [
       "4"
      ]
     },
     "execution_count": 14,
     "metadata": {},
     "output_type": "execute_result"
    }
   ],
   "source": [
    "s = \"bbbab\"\n",
    "sol = Solution()\n",
    "sol.longestPalindromeSubseq(s)"
   ]
  },
  {
   "cell_type": "code",
   "execution_count": 15,
   "metadata": {},
   "outputs": [
    {
     "data": {
      "text/plain": [
       "2"
      ]
     },
     "execution_count": 15,
     "metadata": {},
     "output_type": "execute_result"
    }
   ],
   "source": [
    "s = \"cbbd\"\n",
    "sol = Solution()\n",
    "sol.longestPalindromeSubseq(s)"
   ]
  }
 ],
 "metadata": {
  "kernelspec": {
   "display_name": "dsa-venv",
   "language": "python",
   "name": "python3"
  },
  "language_info": {
   "codemirror_mode": {
    "name": "ipython",
    "version": 3
   },
   "file_extension": ".py",
   "mimetype": "text/x-python",
   "name": "python",
   "nbconvert_exporter": "python",
   "pygments_lexer": "ipython3",
   "version": "3.11.3"
  },
  "orig_nbformat": 4
 },
 "nbformat": 4,
 "nbformat_minor": 2
}
