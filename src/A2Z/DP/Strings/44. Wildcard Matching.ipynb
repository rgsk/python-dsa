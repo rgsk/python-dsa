{
 "cells": [
  {
   "cell_type": "code",
   "execution_count": 111,
   "metadata": {},
   "outputs": [],
   "source": [
    "class Solution:\n",
    "    def isMatch(self, s: str, p: str) -> bool:\n",
    "        def helper(i, j):\n",
    "            if j == len(p):\n",
    "                return i == len(s)\n",
    "            if i == len(s):\n",
    "                return p[j] == '*' and helper(i, j + 1)\n",
    "            if p[j] == '*':\n",
    "                return helper(i + 1, j) or helper(i, j + 1)\n",
    "            else:\n",
    "                return (p[j] == s[i] or p[j] == '?') and helper(i + 1, j + 1)\n",
    "        return helper(0, 0)"
   ]
  },
  {
   "cell_type": "code",
   "execution_count": 112,
   "metadata": {},
   "outputs": [],
   "source": [
    "from functools import cache\n",
    "\n",
    "\n",
    "class Solution:\n",
    "    def isMatch(self, s: str, p: str) -> bool:\n",
    "        @cache\n",
    "        def helper(i, j):\n",
    "            if j == len(p):\n",
    "                return i == len(s)\n",
    "            if i == len(s):\n",
    "                return p[j] == '*' and helper(i, j + 1)\n",
    "            if p[j] == '*':\n",
    "                return helper(i + 1, j) or helper(i, j + 1)\n",
    "            else:\n",
    "                return (p[j] == s[i] or p[j] == '?') and helper(i + 1, j + 1)\n",
    "        return helper(0, 0)"
   ]
  },
  {
   "cell_type": "code",
   "execution_count": 113,
   "metadata": {},
   "outputs": [],
   "source": [
    "class Solution:\n",
    "    def isMatch(self, s: str, p: str) -> bool:\n",
    "        dp = [[None for _ in range(len(p))] for _ in range(len(s))]\n",
    "        def helper(i, j):\n",
    "            if j == len(p):\n",
    "                return i == len(s)\n",
    "            if i == len(s):\n",
    "                return p[j] == '*' and helper(i, j + 1)\n",
    "            if dp[i][j] != None:\n",
    "                return dp[i][j]\n",
    "            if p[j] == '*':\n",
    "                dp[i][j] = helper(i + 1, j) or helper(i, j + 1)\n",
    "            else:\n",
    "                dp[i][j] = (p[j] == s[i] or p[j] == '?') and helper(i + 1, j + 1)\n",
    "            return dp[i][j]\n",
    "        return helper(0, 0)"
   ]
  },
  {
   "cell_type": "code",
   "execution_count": 114,
   "metadata": {},
   "outputs": [],
   "source": [
    "class Solution:\n",
    "    def isMatch(self, s: str, p: str) -> bool:\n",
    "        rows = len(s)\n",
    "        cols = len(p)\n",
    "        dp = [[None for j in range(cols + 1)] for i in range(rows + 1)]\n",
    "        \n",
    "        def helper(i, j):\n",
    "            if j == 0:\n",
    "                return i == 0\n",
    "            if i == 0:\n",
    "                return p[j-1] == '*' and helper(i, j - 1)\n",
    "            if dp[i][j] != None:\n",
    "                return dp[i][j]\n",
    "            if p[j-1] == '*':\n",
    "                dp[i][j] = helper(i - 1, j) or helper(i, j - 1)\n",
    "            else:\n",
    "                dp[i][j] = (p[j - 1] == s[i - 1] or p[j - 1] == '?') and helper(i - 1, j - 1)\n",
    "            return dp[i][j]\n",
    "        return helper(rows, cols)"
   ]
  },
  {
   "cell_type": "code",
   "execution_count": 115,
   "metadata": {},
   "outputs": [],
   "source": [
    "class Solution:\n",
    "    def isMatch(self, s: str, p: str) -> bool:\n",
    "        rows = len(s)\n",
    "        cols = len(p)\n",
    "        dp = [[False for j in range(cols + 1)] for i in range(rows + 1)]\n",
    "        dp[0][0] = True\n",
    "        for j in range(1, cols + 1):\n",
    "            dp[0][j] = p[j-1] == '*' and dp[0][j-1]\n",
    "\n",
    "        for i in range(1, rows + 1):\n",
    "            for j in range(1, cols + 1):\n",
    "                if p[j-1] == '*':\n",
    "                    dp[i][j] = dp[i-1][j] or dp[i][j-1]\n",
    "                else:\n",
    "                    dp[i][j] = (p[j - 1] == s[i - 1] or p[j - 1] == '?') and dp[i-1][j-1]\n",
    "        return dp[rows][cols]"
   ]
  },
  {
   "cell_type": "code",
   "execution_count": 116,
   "metadata": {},
   "outputs": [
    {
     "data": {
      "text/plain": [
       "False"
      ]
     },
     "execution_count": 116,
     "metadata": {},
     "output_type": "execute_result"
    }
   ],
   "source": [
    "s = \"aa\"\n",
    "p = \"a\"\n",
    "sol = Solution()\n",
    "sol.isMatch(s, p)"
   ]
  },
  {
   "cell_type": "code",
   "execution_count": 117,
   "metadata": {},
   "outputs": [
    {
     "data": {
      "text/plain": [
       "True"
      ]
     },
     "execution_count": 117,
     "metadata": {},
     "output_type": "execute_result"
    }
   ],
   "source": [
    "s = \"aa\"\n",
    "p = \"*\"\n",
    "sol = Solution()\n",
    "sol.isMatch(s, p)"
   ]
  },
  {
   "cell_type": "code",
   "execution_count": 118,
   "metadata": {},
   "outputs": [
    {
     "data": {
      "text/plain": [
       "False"
      ]
     },
     "execution_count": 118,
     "metadata": {},
     "output_type": "execute_result"
    }
   ],
   "source": [
    "s = \"cb\"\n",
    "p = \"?a\"\n",
    "sol = Solution()\n",
    "sol.isMatch(s, p)"
   ]
  },
  {
   "cell_type": "code",
   "execution_count": 119,
   "metadata": {},
   "outputs": [
    {
     "data": {
      "text/plain": [
       "True"
      ]
     },
     "execution_count": 119,
     "metadata": {},
     "output_type": "execute_result"
    }
   ],
   "source": [
    "s = \"cb\"\n",
    "p = \"?b\"\n",
    "sol = Solution()\n",
    "sol.isMatch(s, p)"
   ]
  }
 ],
 "metadata": {
  "kernelspec": {
   "display_name": "dsa-venv",
   "language": "python",
   "name": "python3"
  },
  "language_info": {
   "codemirror_mode": {
    "name": "ipython",
    "version": 3
   },
   "file_extension": ".py",
   "mimetype": "text/x-python",
   "name": "python",
   "nbconvert_exporter": "python",
   "pygments_lexer": "ipython3",
   "version": "3.11.3"
  },
  "orig_nbformat": 4
 },
 "nbformat": 4,
 "nbformat_minor": 2
}
