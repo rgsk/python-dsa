{
 "cells": [
  {
   "cell_type": "code",
   "execution_count": 18,
   "metadata": {},
   "outputs": [],
   "source": [
    "def findLCS(s1, s2):\n",
    "    n = len(s1)\n",
    "    m = len(s2)\n",
    "    dp = [[0 for _ in range(m + 1)] for _ in range(n + 1)]\n",
    "    for i in range(1, n + 1):\n",
    "        for j in range(1, m + 1):\n",
    "            if s1[i-1] == s2[j-1]:\n",
    "                dp[i][j] = 1 + dp[i-1][j-1]\n",
    "            else:\n",
    "                dp[i][j] = max(dp[i-1][j], dp[i][j-1])\n",
    "    i = n\n",
    "    j = m\n",
    "    ans = \"\"\n",
    "    while i > 0 and j > 0:\n",
    "        if dp[i][j] == dp[i-1][j]:\n",
    "            i -= 1\n",
    "        elif dp[i][j] == dp[i][j-1]:\n",
    "            j -= 1\n",
    "        else:\n",
    "            # dp[i][j] == dp[i-1][j-1] + 1\n",
    "            i -= 1\n",
    "            j -= 1\n",
    "            ans += s1[i]\n",
    "    return ans[::-1]\n",
    "\n",
    "class Solution:\n",
    "    def shortestCommonSupersequence(self, A: str, B: str) -> str:\n",
    "        res, i, j = \"\", 0, 0\n",
    "        lcs = findLCS(A, B)\n",
    "        for c in lcs:\n",
    "            while A[i] != c:\n",
    "                res += A[i]\n",
    "                i += 1\n",
    "            while B[j] != c:\n",
    "                res += B[j]\n",
    "                j += 1\n",
    "            res += c\n",
    "            i, j = i + 1, j + 1\n",
    "        return res + A[i:] + B[j:]"
   ]
  },
  {
   "cell_type": "code",
   "execution_count": 19,
   "metadata": {},
   "outputs": [
    {
     "data": {
      "text/plain": [
       "'cabac'"
      ]
     },
     "execution_count": 19,
     "metadata": {},
     "output_type": "execute_result"
    }
   ],
   "source": [
    "str1 = \"abac\"\n",
    "str2 = \"cab\"\n",
    "sol = Solution()\n",
    "sol.shortestCommonSupersequence(str1, str2)"
   ]
  },
  {
   "cell_type": "code",
   "execution_count": 20,
   "metadata": {},
   "outputs": [
    {
     "data": {
      "text/plain": [
       "'aaaaaaaa'"
      ]
     },
     "execution_count": 20,
     "metadata": {},
     "output_type": "execute_result"
    }
   ],
   "source": [
    "str1 = \"aaaaaaaa\"\n",
    "str2 = \"aaaaaaaa\"\n",
    "sol = Solution()\n",
    "sol.shortestCommonSupersequence(str1, str2)"
   ]
  }
 ],
 "metadata": {
  "kernelspec": {
   "display_name": "dsa-venv",
   "language": "python",
   "name": "python3"
  },
  "language_info": {
   "codemirror_mode": {
    "name": "ipython",
    "version": 3
   },
   "file_extension": ".py",
   "mimetype": "text/x-python",
   "name": "python",
   "nbconvert_exporter": "python",
   "pygments_lexer": "ipython3",
   "version": "3.11.3"
  },
  "orig_nbformat": 4
 },
 "nbformat": 4,
 "nbformat_minor": 2
}
