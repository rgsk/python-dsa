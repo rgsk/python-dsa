{
 "cells": [
  {
   "cell_type": "code",
   "execution_count": 67,
   "metadata": {},
   "outputs": [],
   "source": [
    "\n",
    "from typing import List\n",
    "\n",
    "\n",
    "def unboundedKnapsack(n: int, w: int, profit: List[int], weight: List[int]) -> int:\n",
    "    # write your code here\n",
    "    dp = [[-1 for _ in range(w + 1)] for _ in range(n)]\n",
    "    def helper(idx=0, remaining_weight=w):\n",
    "        if idx == n:\n",
    "            return 0\n",
    "        if dp[idx][remaining_weight] != -1:\n",
    "            return dp[idx][remaining_weight]\n",
    "        if weight[idx] <= remaining_weight:\n",
    "            dp[idx][remaining_weight] = max(profit[idx] + helper(idx, remaining_weight - weight[idx]), helper(idx + 1, remaining_weight))\n",
    "        else:\n",
    "            dp[idx][remaining_weight] = helper(idx + 1, remaining_weight)\n",
    "        return dp[idx][remaining_weight]\n",
    "    return helper()"
   ]
  },
  {
   "cell_type": "code",
   "execution_count": 68,
   "metadata": {},
   "outputs": [],
   "source": [
    "from pprint import pprint\n",
    "\n",
    "\n",
    "def unboundedKnapsack(n, w, profit, weight):\n",
    "    # Write Your code here.\n",
    "    dp = [0]*(w+1)\n",
    "    for r in range(w+1):\n",
    "        for i in range(n):\n",
    "            if weight[i] <= r:\n",
    "                dp[r] = max(dp[r], profit[i] + dp[r - weight[i]])\n",
    "    # pprint(dp)\n",
    "    return dp[w]"
   ]
  },
  {
   "cell_type": "code",
   "execution_count": 69,
   "metadata": {},
   "outputs": [
    {
     "name": "stdout",
     "output_type": "stream",
     "text": [
      "21\n"
     ]
    }
   ],
   "source": [
    "'''\n",
    "3 15\n",
    "7 2 4\n",
    "5 10 20\n",
    "'''\n",
    "profit = [7, 2, 4]\n",
    "weight = [5, 10, 20]\n",
    "n = 3\n",
    "w = 15\n",
    "print(unboundedKnapsack(n, w, profit, weight))"
   ]
  }
 ],
 "metadata": {
  "kernelspec": {
   "display_name": "dsa-venv",
   "language": "python",
   "name": "python3"
  },
  "language_info": {
   "codemirror_mode": {
    "name": "ipython",
    "version": 3
   },
   "file_extension": ".py",
   "mimetype": "text/x-python",
   "name": "python",
   "nbconvert_exporter": "python",
   "pygments_lexer": "ipython3",
   "version": "3.11.3"
  },
  "orig_nbformat": 4
 },
 "nbformat": 4,
 "nbformat_minor": 2
}
