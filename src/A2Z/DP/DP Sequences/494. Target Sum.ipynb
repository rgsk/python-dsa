{
 "cells": [
  {
   "cell_type": "code",
   "execution_count": 132,
   "metadata": {},
   "outputs": [],
   "source": [
    "from typing import List\n",
    "\n",
    "\n",
    "class Solution:\n",
    "    def findTargetSumWays(self, nums: List[int], target: int) -> int:\n",
    "        def helper(idx, cur):\n",
    "            if idx == len(nums):\n",
    "                if cur == target:\n",
    "                    return 1\n",
    "                return 0\n",
    "            return helper(idx + 1, cur + nums[idx]) + helper(idx + 1, cur - nums[idx])\n",
    "        return helper(0, 0)"
   ]
  },
  {
   "cell_type": "code",
   "execution_count": 133,
   "metadata": {},
   "outputs": [],
   "source": [
    "from functools import cache\n",
    "from typing import List\n",
    "\n",
    "\n",
    "class Solution:\n",
    "    def findTargetSumWays(self, nums: List[int], target: int) -> int:\n",
    "        @cache\n",
    "        def helper(idx, cur):\n",
    "            if idx == len(nums):\n",
    "                if cur == target:\n",
    "                    return 1\n",
    "                return 0\n",
    "            return helper(idx + 1, cur + nums[idx]) + helper(idx + 1, cur - nums[idx])\n",
    "        return helper(0, 0)"
   ]
  },
  {
   "cell_type": "code",
   "execution_count": 134,
   "metadata": {},
   "outputs": [],
   "source": [
    "class Solution:\n",
    "    def findTargetSumWays(self, nums, S):\n",
    "        index = len(nums) - 1\n",
    "        curr_sum = 0\n",
    "        self.memo = {}\n",
    "        return self.dp(nums, S, index, curr_sum)\n",
    "        \n",
    "    def dp(self, nums, target, index, curr_sum):\n",
    "        if (index, curr_sum) in self.memo:\n",
    "            return self.memo[(index, curr_sum)]\n",
    "        \n",
    "        if index < 0 and curr_sum == target:\n",
    "            return 1\n",
    "        if index < 0:\n",
    "            return 0 \n",
    "        \n",
    "        positive = self.dp(nums, target, index-1, curr_sum + nums[index])\n",
    "        negative = self.dp(nums, target, index-1, curr_sum + -nums[index])\n",
    "        \n",
    "        self.memo[(index, curr_sum)] = positive + negative\n",
    "        return self.memo[(index, curr_sum)]"
   ]
  },
  {
   "cell_type": "code",
   "execution_count": 135,
   "metadata": {},
   "outputs": [],
   "source": [
    "from collections import defaultdict\n",
    "from typing import List\n",
    "\n",
    "\n",
    "class Solution:\n",
    "    def findTargetSumWays(self, nums: List[int], target: int) -> int:\n",
    "        dp = defaultdict(int)\n",
    "        dp[0] = 1\n",
    "        for n in nums:\n",
    "            items = list(dp.items())\n",
    "            dp.clear()\n",
    "            for k, v in items:\n",
    "                dp[k + n] += v\n",
    "                dp[k - n] += v\n",
    "        return dp[target]"
   ]
  },
  {
   "cell_type": "code",
   "execution_count": 141,
   "metadata": {},
   "outputs": [
    {
     "data": {
      "text/plain": [
       "5"
      ]
     },
     "execution_count": 141,
     "metadata": {},
     "output_type": "execute_result"
    }
   ],
   "source": [
    "nums = [1,1,1,1,1]\n",
    "target = 3\n",
    "sol = Solution()\n",
    "sol.findTargetSumWays(nums, target)"
   ]
  },
  {
   "cell_type": "code",
   "execution_count": 137,
   "metadata": {},
   "outputs": [
    {
     "data": {
      "text/plain": [
       "1"
      ]
     },
     "execution_count": 137,
     "metadata": {},
     "output_type": "execute_result"
    }
   ],
   "source": [
    "nums = [1]\n",
    "target = 1\n",
    "sol.findTargetSumWays(nums, target)"
   ]
  },
  {
   "cell_type": "code",
   "execution_count": 138,
   "metadata": {},
   "outputs": [
    {
     "data": {
      "text/plain": [
       "0"
      ]
     },
     "execution_count": 138,
     "metadata": {},
     "output_type": "execute_result"
    }
   ],
   "source": [
    "nums =[1]\n",
    "target =2\n",
    "sol.findTargetSumWays(nums, target)"
   ]
  },
  {
   "cell_type": "code",
   "execution_count": 139,
   "metadata": {},
   "outputs": [
    {
     "data": {
      "text/plain": [
       "256"
      ]
     },
     "execution_count": 139,
     "metadata": {},
     "output_type": "execute_result"
    }
   ],
   "source": [
    "nums =[0,0,0,0,0,0,0,0,1]\n",
    "target =1\n",
    "sol.findTargetSumWays(nums, target)"
   ]
  }
 ],
 "metadata": {
  "kernelspec": {
   "display_name": "dsa-venv",
   "language": "python",
   "name": "python3"
  },
  "language_info": {
   "codemirror_mode": {
    "name": "ipython",
    "version": 3
   },
   "file_extension": ".py",
   "mimetype": "text/x-python",
   "name": "python",
   "nbconvert_exporter": "python",
   "pygments_lexer": "ipython3",
   "version": "3.11.3"
  },
  "orig_nbformat": 4
 },
 "nbformat": 4,
 "nbformat_minor": 2
}
