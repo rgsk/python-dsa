{
 "cells": [
  {
   "cell_type": "code",
   "execution_count": 26,
   "metadata": {},
   "outputs": [],
   "source": [
    "from pprint import pprint\n",
    "\n",
    "\n",
    "def knapsack(W, weights, values, n):\n",
    "    dp = [[0 for _ in range(W + 1)] for _ in range(n + 1)]\n",
    "\n",
    "    for i in range(n + 1):\n",
    "        for w in range(W + 1):\n",
    "            if i == 0 or w == 0:\n",
    "                dp[i][w] = 0\n",
    "            elif weights[i - 1] <= w:\n",
    "                dp[i][w] = max(values[i - 1] + dp[i - 1][w - weights[i - 1]], dp[i - 1][w])\n",
    "            else:\n",
    "                dp[i][w] = dp[i - 1][w]\n",
    "    # pprint(dp)\n",
    "    return dp[n][W]"
   ]
  },
  {
   "cell_type": "code",
   "execution_count": 27,
   "metadata": {},
   "outputs": [],
   "source": [
    "def knapsack(W, weights, values, n):\n",
    "    dp = [[-1 for _ in range(W + 1)] for _ in range(n)]\n",
    "    def helper(ind, w):\n",
    "        if ind < 0:\n",
    "            return 0\n",
    "        if dp[ind][w] != -1:\n",
    "            return dp[ind][w]\n",
    "            \n",
    "        noTake = helper(ind - 1, w)\n",
    "        take = float('-inf')\n",
    "        if weights[ind] <= w:\n",
    "            take = values[ind] + helper(ind - 1, w - weights[ind])\n",
    "        \n",
    "        dp[ind][w] = max(take, noTake)\n",
    "        return dp[ind][w]\n",
    "    return helper(n - 1, W)"
   ]
  },
  {
   "cell_type": "code",
   "execution_count": 28,
   "metadata": {},
   "outputs": [
    {
     "data": {
      "text/plain": [
       "13"
      ]
     },
     "execution_count": 28,
     "metadata": {},
     "output_type": "execute_result"
    }
   ],
   "source": [
    "'''\n",
    "1 \n",
    "4\n",
    "1 2 4 5\n",
    "5 4 8 6\n",
    "5\n",
    "'''\n",
    "w = 5\n",
    "weights = [1, 2, 4, 5]\n",
    "values = [5, 4, 8, 6]\n",
    "n = len(values)\n",
    "knapsack(w, weights, values, n)"
   ]
  }
 ],
 "metadata": {
  "kernelspec": {
   "display_name": "dsa-venv",
   "language": "python",
   "name": "python3"
  },
  "language_info": {
   "codemirror_mode": {
    "name": "ipython",
    "version": 3
   },
   "file_extension": ".py",
   "mimetype": "text/x-python",
   "name": "python",
   "nbconvert_exporter": "python",
   "pygments_lexer": "ipython3",
   "version": "3.11.3"
  },
  "orig_nbformat": 4
 },
 "nbformat": 4,
 "nbformat_minor": 2
}
