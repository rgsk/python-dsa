{
 "cells": [
  {
   "cell_type": "code",
   "execution_count": 7,
   "metadata": {},
   "outputs": [],
   "source": [
    "ops = [(1,0,'D'),(0,1,'R'),(-1,0,'U'),(0,-1,'L')]\n",
    "\n",
    "class Solution:\n",
    "    def findPath(self, m, n):\n",
    "        if m[n-1][n-1] == 0 or m[0][0] == 0:\n",
    "            return []\n",
    "        # code here\n",
    "        ans = []\n",
    "        visited = [[False for i in range(n)] for i in range(n)]\n",
    "        def helper(r, c, path):\n",
    "            if r == n-1 and c == n-1:\n",
    "                ans.append(path)\n",
    "                return\n",
    "            for op in ops:\n",
    "                n_r = r + op[0]\n",
    "                n_c = c + op[1]\n",
    "                if n_r >= 0 and n_c >= 0 and n_r < n and n_c < n:\n",
    "                    if m[n_r][n_c] and not visited[n_r][n_c]:\n",
    "                        visited[n_r][n_c] = True\n",
    "                        helper(n_r,n_c,path+op[2])\n",
    "                        visited[n_r][n_c] = False\n",
    "        visited[0][0] = True\n",
    "        helper(0,0,\"\")\n",
    "        return ans"
   ]
  },
  {
   "cell_type": "code",
   "execution_count": 8,
   "metadata": {},
   "outputs": [
    {
     "data": {
      "text/plain": [
       "['DDRDRR', 'DRDDRR']"
      ]
     },
     "execution_count": 8,
     "metadata": {},
     "output_type": "execute_result"
    }
   ],
   "source": [
    "m = [[1, 0, 0, 0],\n",
    "     [1, 1, 0, 1],\n",
    "     [1, 1, 0, 0],\n",
    "     [0, 1, 1, 1]]\n",
    "sol = Solution()\n",
    "sol.findPath(m,len(m))"
   ]
  },
  {
   "cell_type": "code",
   "execution_count": 9,
   "metadata": {},
   "outputs": [
    {
     "data": {
      "text/plain": [
       "[]"
      ]
     },
     "execution_count": 9,
     "metadata": {},
     "output_type": "execute_result"
    }
   ],
   "source": [
    "m = [[1, 0, ],\n",
    "     [1, 0, ],]\n",
    "sol = Solution()\n",
    "sol.findPath(m,len(m))"
   ]
  }
 ],
 "metadata": {
  "kernelspec": {
   "display_name": "dsa-venv",
   "language": "python",
   "name": "python3"
  },
  "language_info": {
   "codemirror_mode": {
    "name": "ipython",
    "version": 3
   },
   "file_extension": ".py",
   "mimetype": "text/x-python",
   "name": "python",
   "nbconvert_exporter": "python",
   "pygments_lexer": "ipython3",
   "version": "3.11.3"
  },
  "orig_nbformat": 4
 },
 "nbformat": 4,
 "nbformat_minor": 2
}
