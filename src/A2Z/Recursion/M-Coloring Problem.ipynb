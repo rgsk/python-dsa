{
 "cells": [
  {
   "cell_type": "code",
   "execution_count": null,
   "metadata": {},
   "outputs": [],
   "source": [
    "# https://practice.geeksforgeeks.org/problems/m-coloring-problem-1587115620/1#"
   ]
  },
  {
   "cell_type": "code",
   "execution_count": null,
   "metadata": {},
   "outputs": [],
   "source": [
    "#User function Template for python3\n",
    "\n",
    "\n",
    "# k is number of colors\n",
    "# V is total number of vertices\n",
    "\n",
    "def graphColoring(graph, k, V):\n",
    "    assigned_colors = [-1] * V\n",
    "\n",
    "    def same_adj_vertex_color(ind_v, color):\n",
    "        for ind_g in range(len(graph[0])):\n",
    "            if graph[ind_v][ind_g] == 1:\n",
    "                if assigned_colors[ind_g] == color:\n",
    "                    return True\n",
    "        return False\n",
    "\n",
    "    def dfs(ind_v=0):\n",
    "        if ind_v == V:\n",
    "            return True\n",
    "\n",
    "        for color in range(k):\n",
    "            if not same_adj_vertex_color(ind_v, color):\n",
    "                assigned_colors[ind_v] = color\n",
    "                if dfs(ind_v + 1):\n",
    "                    return True\n",
    "                assigned_colors[ind_v] = -1\n",
    "        return False\n",
    "\n",
    "    return dfs()\n"
   ]
  }
 ],
 "metadata": {
  "language_info": {
   "name": "python"
  },
  "orig_nbformat": 4
 },
 "nbformat": 4,
 "nbformat_minor": 2
}
