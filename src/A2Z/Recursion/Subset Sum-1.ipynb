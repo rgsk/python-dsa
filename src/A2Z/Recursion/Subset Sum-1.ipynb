{
 "cells": [
  {
   "cell_type": "code",
   "execution_count": 65,
   "metadata": {},
   "outputs": [],
   "source": [
    "from typing import List\n",
    "class Solution:\n",
    "    def subsetSums(self, arr, N):\n",
    "        ans = []\n",
    "        def helper(curSum=0, curIndex=0):\n",
    "            if curIndex == len(arr):\n",
    "                ans.append(curSum)\n",
    "                return\n",
    "            helper(curSum+arr[curIndex], curIndex+1)\n",
    "            helper(curSum, curIndex+1)\n",
    "        helper()    \n",
    "        return sorted(ans)"
   ]
  },
  {
   "cell_type": "code",
   "execution_count": 66,
   "metadata": {},
   "outputs": [
    {
     "name": "stdout",
     "output_type": "stream",
     "text": [
      "[0, 1, 2, 3]\n"
     ]
    }
   ],
   "source": [
    "nums = [1,2]\n",
    "sol = Solution()\n",
    "print(sol.subsetSums(nums,len(nums)))"
   ]
  },
  {
   "cell_type": "code",
   "execution_count": 67,
   "metadata": {},
   "outputs": [
    {
     "name": "stdout",
     "output_type": "stream",
     "text": [
      "[0, 1, 2, 3, 3, 4, 5, 6]\n"
     ]
    }
   ],
   "source": [
    "nums = [1,2,3]\n",
    "sol = Solution()\n",
    "print(sol.subsetSums(nums,len(nums)))"
   ]
  },
  {
   "cell_type": "code",
   "execution_count": 68,
   "metadata": {},
   "outputs": [
    {
     "name": "stdout",
     "output_type": "stream",
     "text": [
      "[0, 3, 14, 14, 17, 17, 28, 31]\n"
     ]
    }
   ],
   "source": [
    "nums = [14,14,3]\n",
    "sol = Solution()\n",
    "print(sol.subsetSums(nums,len(nums)))\n",
    "# note that repetition is allow in this case"
   ]
  },
  {
   "cell_type": "code",
   "execution_count": 69,
   "metadata": {},
   "outputs": [],
   "source": [
    "from typing import List\n",
    "class Solution:\n",
    "    def subsetSums(self, arr, N):\n",
    "        ans = []\n",
    "        def helper(curSum=0, curIndex=0):\n",
    "            if curIndex == len(arr):\n",
    "                ans.append(curSum)\n",
    "                return\n",
    "            helper(curSum+arr[curIndex], curIndex+1)\n",
    "            incr = 1\n",
    "            # if we don't want to calculate repeated sums\n",
    "            while curIndex + incr < len(arr) and arr[curIndex + incr] == arr[curIndex + incr-1]:\n",
    "                incr += 1\n",
    "            helper(curSum, curIndex+incr)\n",
    "        helper()    \n",
    "        return sorted(ans)"
   ]
  },
  {
   "cell_type": "code",
   "execution_count": 70,
   "metadata": {},
   "outputs": [
    {
     "name": "stdout",
     "output_type": "stream",
     "text": [
      "[0, 3, 14, 17, 28, 31]\n"
     ]
    }
   ],
   "source": [
    "nums = [14,14,3]\n",
    "sol = Solution()\n",
    "print(sol.subsetSums(nums,len(nums)))"
   ]
  }
 ],
 "metadata": {
  "kernelspec": {
   "display_name": "dsa-venv",
   "language": "python",
   "name": "python3"
  },
  "language_info": {
   "codemirror_mode": {
    "name": "ipython",
    "version": 3
   },
   "file_extension": ".py",
   "mimetype": "text/x-python",
   "name": "python",
   "nbconvert_exporter": "python",
   "pygments_lexer": "ipython3",
   "version": "3.11.3"
  },
  "orig_nbformat": 4
 },
 "nbformat": 4,
 "nbformat_minor": 2
}
