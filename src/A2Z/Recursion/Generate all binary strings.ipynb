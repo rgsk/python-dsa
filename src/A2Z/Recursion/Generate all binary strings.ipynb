{
 "cells": [
  {
   "cell_type": "code",
   "execution_count": 25,
   "metadata": {},
   "outputs": [],
   "source": [
    "\n",
    "\n",
    "from typing import List\n",
    "\n",
    "\n",
    "def generateString(N: int) -> List[str]:\n",
    "    # write your code here\n",
    "    arr = [0 for _ in range(N)]\n",
    "    ans = []\n",
    "    def helper(curIndex=0, cur = arr):\n",
    "        if curIndex == N:\n",
    "            ans.append(\"\".join([str(v) for v in cur]))\n",
    "            return\n",
    "        helper(curIndex + 1, cur)\n",
    "        if curIndex == 0 or (curIndex == N - 1 and not arr[curIndex -1]) or (not arr[curIndex -1] and not arr[curIndex +1]):\n",
    "            cur[curIndex] = 1\n",
    "            helper(curIndex + 1, cur)\n",
    "            cur[curIndex] = 0\n",
    "    helper()\n",
    "    return ans"
   ]
  },
  {
   "cell_type": "code",
   "execution_count": 26,
   "metadata": {},
   "outputs": [
    {
     "data": {
      "text/plain": [
       "['000', '001', '010', '100', '101']"
      ]
     },
     "execution_count": 26,
     "metadata": {},
     "output_type": "execute_result"
    }
   ],
   "source": [
    "N = 3\n",
    "generateString(N)"
   ]
  },
  {
   "cell_type": "code",
   "execution_count": 27,
   "metadata": {},
   "outputs": [
    {
     "data": {
      "text/plain": [
       "['0000', '0001', '0010', '0100', '0101', '1000', '1001', '1010']"
      ]
     },
     "execution_count": 27,
     "metadata": {},
     "output_type": "execute_result"
    }
   ],
   "source": [
    "N = 4\n",
    "generateString(N)"
   ]
  },
  {
   "cell_type": "code",
   "execution_count": null,
   "metadata": {},
   "outputs": [],
   "source": []
  }
 ],
 "metadata": {
  "kernelspec": {
   "display_name": "dsa-venv",
   "language": "python",
   "name": "python3"
  },
  "language_info": {
   "codemirror_mode": {
    "name": "ipython",
    "version": 3
   },
   "file_extension": ".py",
   "mimetype": "text/x-python",
   "name": "python",
   "nbconvert_exporter": "python",
   "pygments_lexer": "ipython3",
   "version": "3.11.3"
  },
  "orig_nbformat": 4
 },
 "nbformat": 4,
 "nbformat_minor": 2
}
