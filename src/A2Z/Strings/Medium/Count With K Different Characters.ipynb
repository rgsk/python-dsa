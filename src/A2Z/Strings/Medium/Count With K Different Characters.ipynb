{
 "cells": [
  {
   "cell_type": "code",
   "execution_count": 3,
   "metadata": {},
   "outputs": [],
   "source": [
    "\n",
    "from collections import defaultdict\n",
    "\n",
    "\n",
    "def countSubStrings(s: str, k: int) -> int:\n",
    "    acq = 0\n",
    "    high_dic = defaultdict(int)\n",
    "    low_dic = defaultdict(int)\n",
    "    high = 0\n",
    "    low = 0\n",
    "    n = len(s)\n",
    "    ans = 0\n",
    "    while True:\n",
    "        while high < n and len(high_dic.keys()) <= k:\n",
    "            high_dic[s[high]] += 1\n",
    "            high += 1\n",
    "        if len(high_dic.keys()) < k:\n",
    "            return ans\n",
    "        elif len(high_dic.keys()) > k:\n",
    "            high -= 1\n",
    "            high_dic.pop(s[high]) \n",
    "        while low < n and len(low_dic.keys()) <= k-1:\n",
    "            low_dic[s[low]] += 1\n",
    "            low += 1\n",
    "        low -= 1\n",
    "        low_dic.pop(s[low]) \n",
    "\n",
    "        ans += high - low\n",
    "        high_dic[s[acq]] -= 1\n",
    "        if high_dic[s[acq]] == 0:\n",
    "            high_dic.pop(s[acq])\n",
    "        if low > acq:\n",
    "            low_dic[s[acq]] -= 1\n",
    "            if low_dic[s[acq]] == 0:\n",
    "                low_dic.pop(s[acq]) \n",
    "        acq += 1\n",
    "        low = max(low, acq)"
   ]
  },
  {
   "cell_type": "code",
   "execution_count": 4,
   "metadata": {},
   "outputs": [
    {
     "data": {
      "text/plain": [
       "5"
      ]
     },
     "execution_count": 4,
     "metadata": {},
     "output_type": "execute_result"
    }
   ],
   "source": [
    "countSubStrings(\"aacfssa\", 3)"
   ]
  },
  {
   "cell_type": "code",
   "execution_count": 5,
   "metadata": {},
   "outputs": [
    {
     "data": {
      "text/plain": [
       "1"
      ]
     },
     "execution_count": 5,
     "metadata": {},
     "output_type": "execute_result"
    }
   ],
   "source": [
    "countSubStrings(\"qffds\", 4)"
   ]
  },
  {
   "cell_type": "code",
   "execution_count": 6,
   "metadata": {},
   "outputs": [
    {
     "data": {
      "text/plain": [
       "111"
      ]
     },
     "execution_count": 6,
     "metadata": {},
     "output_type": "execute_result"
    }
   ],
   "source": [
    "countSubStrings(\"ewssxjjbmqvfwwwlqwiyyxptffaauusvxxxxnmmvddcjggcccxoiehddejkphooowwxtttqraiiqqnqr\", 1)"
   ]
  }
 ],
 "metadata": {
  "kernelspec": {
   "display_name": "base",
   "language": "python",
   "name": "python3"
  },
  "language_info": {
   "codemirror_mode": {
    "name": "ipython",
    "version": 3
   },
   "file_extension": ".py",
   "mimetype": "text/x-python",
   "name": "python",
   "nbconvert_exporter": "python",
   "pygments_lexer": "ipython3",
   "version": "3.11.3"
  },
  "orig_nbformat": 4
 },
 "nbformat": 4,
 "nbformat_minor": 2
}
