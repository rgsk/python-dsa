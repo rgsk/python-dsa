{
 "cells": [
  {
   "cell_type": "code",
   "execution_count": 91,
   "metadata": {},
   "outputs": [],
   "source": [
    "# https://leetcode.com/problems/count-palindromic-subsequences/description/"
   ]
  },
  {
   "cell_type": "code",
   "execution_count": 92,
   "metadata": {},
   "outputs": [],
   "source": [
    "# recursive\n",
    "# TLE or MLE\n",
    "class Solution:\n",
    "    def countPalindromes(self, s: str) -> int:\n",
    "        n = len(s)\n",
    "        def get_val(c):\n",
    "            return ord(c) - ord('0')\n",
    "        def helper(i, nthVal, first, second):\n",
    "            if i == n:\n",
    "                return int(nthVal == 6)\n",
    "            # not take\n",
    "            x = helper(i + 1, nthVal, first, second)\n",
    "            y = 0\n",
    "            if nthVal == 1:\n",
    "                y += helper(i + 1, nthVal + 1, get_val(s[i]), second)\n",
    "            elif nthVal == 2:\n",
    "                y += helper(i + 1, nthVal + 1, first, get_val(s[i]))\n",
    "            elif nthVal == 3:\n",
    "                y += helper(i + 1, nthVal + 1, first, second)\n",
    "            elif nthVal == 4:    \n",
    "                if get_val(s[i]) == second:\n",
    "                    y += helper(i + 1, nthVal + 1, first, second)\n",
    "            elif nthVal == 5:    \n",
    "                if get_val(s[i]) == first:\n",
    "                    y += helper(i + 1, nthVal + 1, first, second)\n",
    "            return x + y\n",
    "        return helper(0, 1, -1, -1)"
   ]
  },
  {
   "cell_type": "code",
   "execution_count": 93,
   "metadata": {},
   "outputs": [],
   "source": [
    "# DP\n",
    "# accepted but very slow\n",
    "# Beats 5.13% of users with Python3\n",
    "mod = 10**9 + 7\n",
    "class Solution:\n",
    "    def countPalindromes(self, s: str) -> int:\n",
    "        n = len(s)\n",
    "        def get_val(c):\n",
    "            return ord(c) - ord('0')\n",
    "        dp = [[[[-1 for _ in range(11)] for _ in range(11)] for _ in range(7)] for _ in range(n)]\n",
    "        def helper(i, nthVal, first, second):\n",
    "            if i == n:\n",
    "                return int(nthVal == 6)\n",
    "            if dp[i][nthVal][first + 1][second + 1] != -1:\n",
    "                return dp[i][nthVal][first + 1][second + 1]\n",
    "            # not take\n",
    "            x = helper(i + 1, nthVal, first, second)\n",
    "            y = 0\n",
    "            if nthVal == 1:\n",
    "                y += helper(i + 1, nthVal + 1, get_val(s[i]), second)\n",
    "            elif nthVal == 2:\n",
    "                y += helper(i + 1, nthVal + 1, first, get_val(s[i]))\n",
    "            elif nthVal == 3:\n",
    "                y += helper(i + 1, nthVal + 1, first, second)\n",
    "            elif nthVal == 4:    \n",
    "                if get_val(s[i]) == second:\n",
    "                    y += helper(i + 1, nthVal + 1, first, second)\n",
    "            elif nthVal == 5:    \n",
    "                if get_val(s[i]) == first:\n",
    "                    y += helper(i + 1, nthVal + 1, first, second)\n",
    "            dp[i][nthVal][first + 1][second + 1] = x + y\n",
    "            return dp[i][nthVal][first + 1][second + 1]\n",
    "        return helper(0, 1, -1, -1) % mod"
   ]
  },
  {
   "cell_type": "code",
   "execution_count": 94,
   "metadata": {},
   "outputs": [
    {
     "data": {
      "text/plain": [
       "2"
      ]
     },
     "execution_count": 94,
     "metadata": {},
     "output_type": "execute_result"
    }
   ],
   "source": [
    "s = \"103301\"\n",
    "sol = Solution()\n",
    "sol.countPalindromes(s)"
   ]
  },
  {
   "cell_type": "code",
   "execution_count": 95,
   "metadata": {},
   "outputs": [
    {
     "data": {
      "text/plain": [
       "21"
      ]
     },
     "execution_count": 95,
     "metadata": {},
     "output_type": "execute_result"
    }
   ],
   "source": [
    "s = \"0000000\"\n",
    "sol = Solution()\n",
    "sol.countPalindromes(s)"
   ]
  },
  {
   "cell_type": "code",
   "execution_count": 96,
   "metadata": {},
   "outputs": [
    {
     "data": {
      "text/plain": [
       "2"
      ]
     },
     "execution_count": 96,
     "metadata": {},
     "output_type": "execute_result"
    }
   ],
   "source": [
    "s = \"9999900000\"\n",
    "sol = Solution()\n",
    "sol.countPalindromes(s)"
   ]
  },
  {
   "cell_type": "code",
   "execution_count": 97,
   "metadata": {},
   "outputs": [
    {
     "data": {
      "text/plain": [
       "498523186"
      ]
     },
     "execution_count": 97,
     "metadata": {},
     "output_type": "execute_result"
    }
   ],
   "source": [
    "s = \"59512466578132614814196491971876338859244406929452199756228378713015412768735254930628396137980073496628401961595248672912041180305244208428947414824289671139125610743753264552642815437903029523044136795931677661597594403226238400735680030265775991320600147474632546846536803993112820273876592340956857714475604157141465692672702706617317580783844553116501002848669970331419813302301459997809687961783633032212919277670805575104154224983170305246174343083857332877019974240765990975658491174017330404\"\n",
    "sol = Solution()\n",
    "sol.countPalindromes(s)"
   ]
  }
 ],
 "metadata": {
  "kernelspec": {
   "display_name": "dsa-venv",
   "language": "python",
   "name": "python3"
  },
  "language_info": {
   "codemirror_mode": {
    "name": "ipython",
    "version": 3
   },
   "file_extension": ".py",
   "mimetype": "text/x-python",
   "name": "python",
   "nbconvert_exporter": "python",
   "pygments_lexer": "ipython3",
   "version": "3.11.3"
  }
 },
 "nbformat": 4,
 "nbformat_minor": 2
}
