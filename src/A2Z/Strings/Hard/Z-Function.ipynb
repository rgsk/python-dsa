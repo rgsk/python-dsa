{
 "cells": [
  {
   "cell_type": "code",
   "execution_count": 518,
   "metadata": {},
   "outputs": [],
   "source": [
    "def stringMatch(text: str, pattern: str) -> int:\n",
    "    ans = []\n",
    "    n_text = len(text)\n",
    "    n_pattern = len(pattern)\n",
    "\n",
    "    for i in range(n_text):\n",
    "        pi = 0\n",
    "        ti = i\n",
    "        while ti < n_text and pi < n_pattern and text[ti] == pattern[pi]:\n",
    "            pi += 1\n",
    "            ti += 1\n",
    "        if pi == n_pattern:\n",
    "            ans.append(i + 1)\n",
    "    return ans"
   ]
  },
  {
   "cell_type": "code",
   "execution_count": 519,
   "metadata": {},
   "outputs": [
    {
     "data": {
      "text/plain": [
       "[2, 7, 13]"
      ]
     },
     "execution_count": 519,
     "metadata": {},
     "output_type": "execute_result"
    }
   ],
   "source": [
    "text = \"cxyzghxyzvjkxyz\"\n",
    "pattern = \"xyz\"\n",
    "stringMatch(text, pattern)"
   ]
  },
  {
   "cell_type": "code",
   "execution_count": 520,
   "metadata": {},
   "outputs": [
    {
     "data": {
      "text/plain": [
       "[1, 3, 7]"
      ]
     },
     "execution_count": 520,
     "metadata": {},
     "output_type": "execute_result"
    }
   ],
   "source": [
    "text = \"ababacabab\"\n",
    "pattern = \"aba\"\n",
    "stringMatch(text, pattern)"
   ]
  },
  {
   "cell_type": "code",
   "execution_count": 521,
   "metadata": {},
   "outputs": [],
   "source": [
    "# Z-Naive implementation to build understanding\n",
    "\n",
    "def stringMatch(text: str, pattern: str) -> int:\n",
    "    ans = []\n",
    "    n_pattern = len(pattern)\n",
    "\n",
    "    source = pattern + '$' + text\n",
    "    n_source = len(source)\n",
    "    for i in range(n_pattern + 1, n_source):\n",
    "        pi = 0\n",
    "        ti = i\n",
    "        while ti < n_source and source[ti] == source[pi]:\n",
    "            pi += 1\n",
    "            ti += 1\n",
    "        if pi == n_pattern:\n",
    "            ans.append(i - n_pattern)\n",
    "    return ans"
   ]
  },
  {
   "cell_type": "code",
   "execution_count": 522,
   "metadata": {},
   "outputs": [
    {
     "data": {
      "text/plain": [
       "[2, 7, 13]"
      ]
     },
     "execution_count": 522,
     "metadata": {},
     "output_type": "execute_result"
    }
   ],
   "source": [
    "text = \"cxyzghxyzvjkxyz\"\n",
    "pattern = \"xyz\"\n",
    "stringMatch(text, pattern)"
   ]
  },
  {
   "cell_type": "code",
   "execution_count": 523,
   "metadata": {},
   "outputs": [
    {
     "data": {
      "text/plain": [
       "[1, 3, 7]"
      ]
     },
     "execution_count": 523,
     "metadata": {},
     "output_type": "execute_result"
    }
   ],
   "source": [
    "text = \"ababacabab\"\n",
    "pattern = \"aba\"\n",
    "stringMatch(text, pattern)"
   ]
  },
  {
   "cell_type": "code",
   "execution_count": 524,
   "metadata": {},
   "outputs": [],
   "source": [
    "# Z-Naive implementation to build understanding\n",
    "\n",
    "def stringMatch(text: str, pattern: str) -> int:\n",
    "    ans = []\n",
    "    n_pattern = len(pattern)\n",
    "\n",
    "    source = pattern + '$' + text\n",
    "    # source = 'aabxaabxcaabxaabxay'\n",
    "    n_source = len(source)\n",
    "    Z = [0] * n_source\n",
    "    for i in range(n_pattern + 1, n_source):\n",
    "        pi = 0\n",
    "        ti = i\n",
    "        while ti < n_source and source[ti] == source[pi]:\n",
    "            pi += 1\n",
    "            ti += 1\n",
    "        Z[i] = pi\n",
    "\n",
    "    # print(f'{Z=}')\n",
    "\n",
    "    for i in range(n_pattern + 1, n_source):\n",
    "        if Z[i] == n_pattern:\n",
    "            ans.append(i - n_pattern)\n",
    "    return ans"
   ]
  },
  {
   "cell_type": "code",
   "execution_count": 525,
   "metadata": {},
   "outputs": [
    {
     "data": {
      "text/plain": [
       "[2, 7, 13]"
      ]
     },
     "execution_count": 525,
     "metadata": {},
     "output_type": "execute_result"
    }
   ],
   "source": [
    "text = \"cxyzghxyzvjkxyz\"\n",
    "pattern = \"xyz\"\n",
    "stringMatch(text, pattern)"
   ]
  },
  {
   "cell_type": "code",
   "execution_count": 526,
   "metadata": {},
   "outputs": [
    {
     "data": {
      "text/plain": [
       "[1, 3, 7]"
      ]
     },
     "execution_count": 526,
     "metadata": {},
     "output_type": "execute_result"
    }
   ],
   "source": [
    "text = \"ababacabab\"\n",
    "pattern = \"aba\"\n",
    "stringMatch(text, pattern)"
   ]
  },
  {
   "cell_type": "code",
   "execution_count": 527,
   "metadata": {},
   "outputs": [
    {
     "name": "stdout",
     "output_type": "stream",
     "text": [
      "Z=[0, 1, 0, 0, 4, 1, 0, 0, 0, 8, 1, 0, 0, 5, 1, 0, 0, 1, 0]\n"
     ]
    }
   ],
   "source": [
    "source = 'aabxaabxcaabxaabxay'\n",
    "n_source = len(source)\n",
    "Z = [0] * n_source\n",
    "for i in range(1, n_source):\n",
    "    pi = 0\n",
    "    ti = i\n",
    "    while ti < n_source and source[ti] == source[pi]:\n",
    "        pi += 1\n",
    "        ti += 1\n",
    "    Z[i] = pi\n",
    "\n",
    "print(f'{Z=}')"
   ]
  },
  {
   "cell_type": "code",
   "execution_count": 528,
   "metadata": {},
   "outputs": [
    {
     "name": "stdout",
     "output_type": "stream",
     "text": [
      "i=1\n",
      "skip=0\n",
      "i=2\n",
      "skip=0\n",
      "i=3\n",
      "skip=0\n",
      "i=4\n",
      "skip=0\n",
      "i=8\n",
      "skip=0\n",
      "i=9\n",
      "skip=0\n",
      "i=13\n",
      "skip=4\n",
      "i=17\n",
      "skip=1\n",
      "i=18\n",
      "skip=0\n",
      "Z=[0, 1, 0, 0, 4, 1, 0, 0, 0, 8, 1, 0, 0, 5, 1, 0, 0, 1, 0]\n"
     ]
    }
   ],
   "source": [
    "# https://youtu.be/CpZh4eF8QBw?t=432\n",
    "# see video at this timestamp\n",
    "# we skip indexes 5, 6, 7\n",
    "\n",
    "source = 'aabxaabxcaabxaabxay'\n",
    "n_source = len(source)\n",
    "Z = [0] * n_source\n",
    "i = 1\n",
    "skip = 0\n",
    "while i < n_source:\n",
    "    print(f'{i=}')\n",
    "    print(f'{skip=}')\n",
    "    pi = skip\n",
    "    ti = i + skip\n",
    "    skip = 0\n",
    "    while ti < n_source and source[ti] == source[pi]:\n",
    "        pi += 1\n",
    "        ti += 1\n",
    "    Z[i] = pi\n",
    "    # z_box is till ti\n",
    "    # https://youtu.be/CpZh4eF8QBw?t=579\n",
    "    # we can keep taking value from start\n",
    "    # only if we are within the current z_box\n",
    "    j = 1\n",
    "    while i + j + Z[j] < ti:\n",
    "        Z[i + j] = Z[j]\n",
    "        j += 1\n",
    "    i += j\n",
    "    if ti > i:\n",
    "        skip = ti - i\n",
    "\n",
    "print(f'{Z=}')  "
   ]
  },
  {
   "cell_type": "code",
   "execution_count": 529,
   "metadata": {},
   "outputs": [],
   "source": [
    "# Z-Naive implementation to build understanding\n",
    "\n",
    "def stringMatch(text: str, pattern: str) -> int:\n",
    "    ans = []\n",
    "    n_pattern = len(pattern)\n",
    "\n",
    "    source = pattern + '$' + text\n",
    "    # source = 'aabxaabxcaabxaabxay'\n",
    "    n_source = len(source)\n",
    "    Z = [0] * n_source\n",
    "    i = 1\n",
    "    skip = 0\n",
    "    while i < n_source:\n",
    "        pi = skip\n",
    "        ti = i + skip\n",
    "        skip = 0\n",
    "        while ti < n_source and source[ti] == source[pi]:\n",
    "            pi += 1\n",
    "            ti += 1\n",
    "        Z[i] = pi\n",
    "        # z_box is till ti\n",
    "        j = 1\n",
    "        while i + j + Z[j] < ti:\n",
    "            Z[i + j] = Z[j]\n",
    "            j += 1\n",
    "        i += j\n",
    "        if ti > i:\n",
    "            skip = ti - i\n",
    "\n",
    "    # print(f'{Z=}')    \n",
    "\n",
    "    for i in range(n_pattern + 1, n_source):\n",
    "        if Z[i] == n_pattern:\n",
    "            ans.append(i - n_pattern)\n",
    "    return ans"
   ]
  },
  {
   "cell_type": "code",
   "execution_count": 530,
   "metadata": {},
   "outputs": [
    {
     "data": {
      "text/plain": [
       "[2, 7, 13]"
      ]
     },
     "execution_count": 530,
     "metadata": {},
     "output_type": "execute_result"
    }
   ],
   "source": [
    "text = \"cxyzghxyzvjkxyz\"\n",
    "pattern = \"xyz\"\n",
    "stringMatch(text, pattern)"
   ]
  },
  {
   "cell_type": "code",
   "execution_count": 531,
   "metadata": {},
   "outputs": [
    {
     "data": {
      "text/plain": [
       "[1, 3, 7]"
      ]
     },
     "execution_count": 531,
     "metadata": {},
     "output_type": "execute_result"
    }
   ],
   "source": [
    "text = \"ababacabab\"\n",
    "pattern = \"aba\"\n",
    "stringMatch(text, pattern)"
   ]
  }
 ],
 "metadata": {
  "kernelspec": {
   "display_name": "dsa-venv",
   "language": "python",
   "name": "python3"
  },
  "language_info": {
   "codemirror_mode": {
    "name": "ipython",
    "version": 3
   },
   "file_extension": ".py",
   "mimetype": "text/x-python",
   "name": "python",
   "nbconvert_exporter": "python",
   "pygments_lexer": "ipython3",
   "version": "3.11.3"
  }
 },
 "nbformat": 4,
 "nbformat_minor": 2
}
