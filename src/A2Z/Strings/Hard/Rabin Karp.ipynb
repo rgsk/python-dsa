{
 "cells": [
  {
   "cell_type": "code",
   "execution_count": 51,
   "metadata": {},
   "outputs": [],
   "source": [
    "# https://www.codingninjas.com/studio/problems/stringmatch-rabincarp_1115738?utm_source=striver&utm_medium=website&utm_campaign=a_zcoursetuf&leftPanelTabValue=PROBLEM"
   ]
  },
  {
   "cell_type": "code",
   "execution_count": 52,
   "metadata": {},
   "outputs": [],
   "source": [
    "# Rabin Karp\n",
    "\n",
    "# there are 26 lowercase english characters\n",
    "from typing import List\n",
    "\n",
    "\n",
    "BASE = 26\n",
    "\n",
    "\n",
    "def hash_char(ch):\n",
    "    return ord(ch) - ord('a') + 1\n",
    "\n",
    "\n",
    "def get_power(n: int):\n",
    "    power = [1] * n\n",
    "\n",
    "    for i in range(1, n):\n",
    "        power[i] = BASE * power[i - 1]\n",
    "    return power\n",
    "\n",
    "\n",
    "def get_hash(string):\n",
    "    n = len(string)\n",
    "    power = get_power(n)\n",
    "    sum_hash = 0\n",
    "\n",
    "    for i in range(n):\n",
    "        sum_hash = (sum_hash + (hash_char(string[i]) * power[n - 1 - i]))\n",
    "\n",
    "    return sum_hash\n",
    "\n",
    "\n",
    "def stringMatch(text: str, pattern: str) -> List[int]:\n",
    "    n, m = len(pattern), len(text)\n",
    "\n",
    "    power = get_power(n)\n",
    "    ans = []\n",
    "\n",
    "    pattern_hash = get_hash(pattern)\n",
    "    rolling_hash = get_hash(text[:n])\n",
    "\n",
    "    l, r = 0, n - 1\n",
    "\n",
    "    while r < m:\n",
    "        if pattern_hash == rolling_hash:\n",
    "            ans.append(l + 1)\n",
    "\n",
    "        left = text[l]\n",
    "\n",
    "        # Remove left character\n",
    "        rolling_hash = rolling_hash - hash_char(left) * power[n - 1]\n",
    "\n",
    "        l += 1\n",
    "        r += 1\n",
    "\n",
    "        if r < m:\n",
    "            right = text[r]\n",
    "\n",
    "            # Right Shift\n",
    "            rolling_hash = rolling_hash * BASE \\\n",
    "                            + hash_char(right) * power[0]\n",
    "\n",
    "    return ans"
   ]
  },
  {
   "cell_type": "code",
   "execution_count": 53,
   "metadata": {},
   "outputs": [
    {
     "data": {
      "text/plain": [
       "[2, 7, 13]"
      ]
     },
     "execution_count": 53,
     "metadata": {},
     "output_type": "execute_result"
    }
   ],
   "source": [
    "text = \"cxyzghxyzvjkxyz\"\n",
    "pattern = \"xyz\"\n",
    "stringMatch(text, pattern)"
   ]
  },
  {
   "cell_type": "code",
   "execution_count": 54,
   "metadata": {},
   "outputs": [
    {
     "data": {
      "text/plain": [
       "[1, 3, 7]"
      ]
     },
     "execution_count": 54,
     "metadata": {},
     "output_type": "execute_result"
    }
   ],
   "source": [
    "text = \"ababacabab\"\n",
    "pattern = \"aba\"\n",
    "stringMatch(text, pattern)"
   ]
  },
  {
   "cell_type": "code",
   "execution_count": 55,
   "metadata": {},
   "outputs": [],
   "source": [
    "# KMP for the same problem\n",
    "\n",
    "def stringMatch(text: str, pattern: str) -> int:\n",
    "    lps = [0] * len(pattern)\n",
    "    prevLPS, i = 0, 1\n",
    "    while i < len(pattern):\n",
    "        if pattern[i] == pattern[prevLPS]:\n",
    "            lps[i] = prevLPS + 1\n",
    "            prevLPS += 1\n",
    "            i += 1\n",
    "        else:\n",
    "            if prevLPS == 0:\n",
    "                lps[i] = 0\n",
    "                i += 1\n",
    "            else:\n",
    "                prevLPS = lps[prevLPS - 1]\n",
    "    # print(f'{lps=}')\n",
    "    i = 0\n",
    "    j = 0\n",
    "    ans = []\n",
    "    while i < len(text):\n",
    "        if text[i] == pattern[j]:\n",
    "            i += 1\n",
    "            j += 1\n",
    "            if j == len(pattern):\n",
    "                ans.append(i - len(pattern) + 1)\n",
    "                j = 0\n",
    "                i = i - len(pattern) + 1 \n",
    "                # this is needed because if we form a match, \n",
    "                # the next match could start from next index\n",
    "        else:\n",
    "            if j == 0:\n",
    "                i += 1\n",
    "            else:\n",
    "                j = lps[j-1]\n",
    "    return ans"
   ]
  },
  {
   "cell_type": "code",
   "execution_count": 56,
   "metadata": {},
   "outputs": [
    {
     "data": {
      "text/plain": [
       "[2, 7, 13]"
      ]
     },
     "execution_count": 56,
     "metadata": {},
     "output_type": "execute_result"
    }
   ],
   "source": [
    "text = \"cxyzghxyzvjkxyz\"\n",
    "pattern = \"xyz\"\n",
    "stringMatch(text, pattern)"
   ]
  },
  {
   "cell_type": "code",
   "execution_count": 57,
   "metadata": {},
   "outputs": [
    {
     "data": {
      "text/plain": [
       "[1, 3, 7]"
      ]
     },
     "execution_count": 57,
     "metadata": {},
     "output_type": "execute_result"
    }
   ],
   "source": [
    "text = \"ababacabab\"\n",
    "pattern = \"aba\"\n",
    "stringMatch(text, pattern)"
   ]
  }
 ],
 "metadata": {
  "kernelspec": {
   "display_name": "dsa-venv",
   "language": "python",
   "name": "python3"
  },
  "language_info": {
   "codemirror_mode": {
    "name": "ipython",
    "version": 3
   },
   "file_extension": ".py",
   "mimetype": "text/x-python",
   "name": "python",
   "nbconvert_exporter": "python",
   "pygments_lexer": "ipython3",
   "version": "3.11.3"
  }
 },
 "nbformat": 4,
 "nbformat_minor": 2
}
