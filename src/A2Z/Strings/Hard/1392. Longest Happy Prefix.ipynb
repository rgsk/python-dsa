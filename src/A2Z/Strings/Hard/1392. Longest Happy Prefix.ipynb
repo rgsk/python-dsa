{
 "cells": [
  {
   "cell_type": "code",
   "execution_count": 36,
   "metadata": {},
   "outputs": [],
   "source": [
    "class Solution:\n",
    "    def longestPrefix(self, s: str) -> str:\n",
    "        n = len(s)\n",
    "        for i in range(n-1, 0, -1):\n",
    "            candidate = s[:i]\n",
    "            if s.startswith(candidate) and s.endswith(candidate):\n",
    "                return candidate\n",
    "        return \"\""
   ]
  },
  {
   "cell_type": "code",
   "execution_count": 37,
   "metadata": {},
   "outputs": [],
   "source": [
    "# KMP\n",
    "class Solution:\n",
    "    def longestPrefix(self, s: str) -> str:\n",
    "        n=len(s)\n",
    "        lps=[0]*n\n",
    "        j=0\n",
    "        for i in range(1,n):\n",
    "            while s[i]!=s[j] and j>0:\n",
    "                j=lps[j-1]\n",
    "\n",
    "            if s[i]==s[j]:\n",
    "                lps[i]=j+1\n",
    "                j+=1\n",
    "\n",
    "        return s[:lps[-1]]"
   ]
  },
  {
   "cell_type": "code",
   "execution_count": 38,
   "metadata": {},
   "outputs": [
    {
     "data": {
      "text/plain": [
       "'l'"
      ]
     },
     "execution_count": 38,
     "metadata": {},
     "output_type": "execute_result"
    }
   ],
   "source": [
    "s = \"level\"\n",
    "sol = Solution()\n",
    "sol.longestPrefix(s)"
   ]
  },
  {
   "cell_type": "code",
   "execution_count": 39,
   "metadata": {},
   "outputs": [
    {
     "data": {
      "text/plain": [
       "'abab'"
      ]
     },
     "execution_count": 39,
     "metadata": {},
     "output_type": "execute_result"
    }
   ],
   "source": [
    "s = \"ababab\"\n",
    "sol = Solution()\n",
    "sol.longestPrefix(s)"
   ]
  },
  {
   "cell_type": "code",
   "execution_count": 40,
   "metadata": {},
   "outputs": [
    {
     "data": {
      "text/plain": [
       "'abab'"
      ]
     },
     "execution_count": 40,
     "metadata": {},
     "output_type": "execute_result"
    }
   ],
   "source": [
    "s = \"ababcabab\"\n",
    "sol = Solution()\n",
    "sol.longestPrefix(s)"
   ]
  },
  {
   "cell_type": "code",
   "execution_count": 41,
   "metadata": {},
   "outputs": [
    {
     "data": {
      "text/plain": [
       "'ababab'"
      ]
     },
     "execution_count": 41,
     "metadata": {},
     "output_type": "execute_result"
    }
   ],
   "source": [
    "s = \"abababcababab\"\n",
    "sol = Solution()\n",
    "sol.longestPrefix(s)"
   ]
  }
 ],
 "metadata": {
  "kernelspec": {
   "display_name": "dsa-venv",
   "language": "python",
   "name": "python3"
  },
  "language_info": {
   "codemirror_mode": {
    "name": "ipython",
    "version": 3
   },
   "file_extension": ".py",
   "mimetype": "text/x-python",
   "name": "python",
   "nbconvert_exporter": "python",
   "pygments_lexer": "ipython3",
   "version": "3.11.3"
  },
  "orig_nbformat": 4
 },
 "nbformat": 4,
 "nbformat_minor": 2
}
