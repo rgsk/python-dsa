{
 "cells": [
  {
   "cell_type": "code",
   "execution_count": 41,
   "metadata": {},
   "outputs": [],
   "source": [
    "# https://www.geeksforgeeks.org/problems/count-palindromic-subsequences/1?utm_source=geeksforgeeks&utm_medium=ml_article_practice_tab&utm_campaign=article_practice_tab"
   ]
  },
  {
   "cell_type": "code",
   "execution_count": 42,
   "metadata": {},
   "outputs": [],
   "source": [
    "# https://www.youtube.com/watch?v=YHSjvswCXC8"
   ]
  },
  {
   "cell_type": "markdown",
   "metadata": {},
   "source": [
    "<img src=\"./../../../../images/WhatsApp Image 2024-01-10 at 4.50.19 PM.jpeg\" width=\"400\" >\n"
   ]
  },
  {
   "cell_type": "code",
   "execution_count": 43,
   "metadata": {},
   "outputs": [],
   "source": [
    "mod = 10**9 + 7\n",
    "class Solution:\n",
    "    # Your task is to complete this function\n",
    "    # Function should return an integer\n",
    "    def countPS(self,s):\n",
    "        # Code here\n",
    "        n = len(s)\n",
    "        def helper(i, j):\n",
    "            if i == j:\n",
    "                return 1\n",
    "            if i > j:\n",
    "                return 0\n",
    "            if s[i] == s[j]:\n",
    "                return 1 + helper(i + 1, j) + helper(i, j - 1)\n",
    "            else:\n",
    "                return helper(i + 1, j) + helper(i, j - 1) - helper(i + 1, j - 1)\n",
    "        return helper(0, n - 1) % mod"
   ]
  },
  {
   "cell_type": "code",
   "execution_count": 44,
   "metadata": {},
   "outputs": [],
   "source": [
    "mod = 10**9 + 7\n",
    "class Solution:\n",
    "    # Your task is to complete this function\n",
    "    # Function should return an integer\n",
    "    def countPS(self,s):\n",
    "        # Code here\n",
    "        n = len(s)\n",
    "        dp = [[-1]*n for _ in range(n)]\n",
    "        def helper(i, j):\n",
    "            if i == j:\n",
    "                return 1\n",
    "            if i > j:\n",
    "                return 0\n",
    "            if dp[i][j] != -1:\n",
    "                return dp[i][j]\n",
    "            if s[i] == s[j]:\n",
    "                dp[i][j] = 1 + helper(i + 1, j) + helper(i, j - 1)\n",
    "            else:\n",
    "                dp[i][j] = helper(i + 1, j) + helper(i, j - 1) - helper(i + 1, j - 1)\n",
    "            return dp[i][j]\n",
    "        return helper(0, n - 1) % mod"
   ]
  },
  {
   "cell_type": "code",
   "execution_count": 45,
   "metadata": {},
   "outputs": [],
   "source": [
    "mod = 10**9 + 7\n",
    "class Solution:\n",
    "    # Your task is to complete this function\n",
    "    # Function should return an integer\n",
    "    def countPS(self,s):\n",
    "        # Code here\n",
    "        n = len(s)\n",
    "        dp = [[-1]*n for _ in range(n)]\n",
    "        for i in range(n-1, -1, -1):\n",
    "            for j in range(n):\n",
    "                if i == j:\n",
    "                    dp[i][j] = 1\n",
    "                    continue\n",
    "                if i > j:\n",
    "                    dp[i][j] = 0\n",
    "                    continue\n",
    "                if s[i] == s[j]:\n",
    "                    dp[i][j] = 1 + dp[i+1][j] + dp[i][j-1]\n",
    "                else:\n",
    "                    dp[i][j] = dp[i+1][j] + dp[i][j-1] - dp[i+1][j-1]\n",
    "        return dp[0][n-1]% mod"
   ]
  },
  {
   "cell_type": "code",
   "execution_count": 46,
   "metadata": {},
   "outputs": [],
   "source": [
    "mod = 10**9 + 7\n",
    "class Solution:\n",
    "    # Your task is to complete this function\n",
    "    # Function should return an integer\n",
    "    def countPS(self,s):\n",
    "        # Code here\n",
    "        n = len(s)\n",
    "        dp = [-1]*n\n",
    "        for i in range(n-1, -1, -1):\n",
    "            prev = dp[:]\n",
    "            for j in range(n):\n",
    "                if i == j:\n",
    "                    dp[j] = 1\n",
    "                    continue\n",
    "                if i > j:\n",
    "                    dp[j] = 0\n",
    "                    continue\n",
    "                if s[i] == s[j]:\n",
    "                    dp[j] = 1 + prev[j] + dp[j-1]\n",
    "                else:\n",
    "                    dp[j] = prev[j] + dp[j-1] - prev[j-1]\n",
    "        return dp[n-1]% mod"
   ]
  },
  {
   "cell_type": "code",
   "execution_count": 47,
   "metadata": {},
   "outputs": [
    {
     "data": {
      "text/plain": [
       "4"
      ]
     },
     "execution_count": 47,
     "metadata": {},
     "output_type": "execute_result"
    }
   ],
   "source": [
    "s = \"abcd\"\n",
    "sol = Solution()\n",
    "sol.countPS(s)"
   ]
  },
  {
   "cell_type": "code",
   "execution_count": 48,
   "metadata": {},
   "outputs": [
    {
     "data": {
      "text/plain": [
       "9"
      ]
     },
     "execution_count": 48,
     "metadata": {},
     "output_type": "execute_result"
    }
   ],
   "source": [
    "s = \"bccb\"\n",
    "sol = Solution()\n",
    "sol.countPS(s)\n",
    "# b c c b bcb bcb bccb cc bb"
   ]
  }
 ],
 "metadata": {
  "kernelspec": {
   "display_name": "dsa-venv",
   "language": "python",
   "name": "python3"
  },
  "language_info": {
   "codemirror_mode": {
    "name": "ipython",
    "version": 3
   },
   "file_extension": ".py",
   "mimetype": "text/x-python",
   "name": "python",
   "nbconvert_exporter": "python",
   "pygments_lexer": "ipython3",
   "version": "3.11.3"
  }
 },
 "nbformat": 4,
 "nbformat_minor": 2
}
