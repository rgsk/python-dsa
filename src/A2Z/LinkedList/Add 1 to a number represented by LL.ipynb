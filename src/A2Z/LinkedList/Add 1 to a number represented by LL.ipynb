{
 "cells": [
  {
   "cell_type": "code",
   "execution_count": 4,
   "metadata": {},
   "outputs": [],
   "source": [
    "import sys\n",
    "sys.path.append('../..')\n",
    "\n",
    "from lib.ListNode import *"
   ]
  },
  {
   "cell_type": "code",
   "execution_count": 24,
   "metadata": {},
   "outputs": [],
   "source": [
    "class Solution:\n",
    "    def addOne(self,head: Node):\n",
    "        #Returns new head of linked List.\n",
    "        reversed_head = reverseList(head)\n",
    "        temp = reversed_head\n",
    "        temp.data += 1\n",
    "        while temp.data >= 10:\n",
    "            temp.data = 0\n",
    "            if temp.next:\n",
    "                temp.next.data += 1\n",
    "            else:\n",
    "                temp.next = Node(1)\n",
    "            temp = temp.next\n",
    "\n",
    "\n",
    "        return reverseList(reversed_head)"
   ]
  },
  {
   "cell_type": "code",
   "execution_count": 25,
   "metadata": {},
   "outputs": [
    {
     "name": "stdout",
     "output_type": "stream",
     "text": [
      "[1, 0, 0, 0]\n"
     ]
    }
   ],
   "source": [
    "head = makeList([9,9,9])\n",
    "sol = Solution()\n",
    "print(asList(sol.addOne(head)))"
   ]
  },
  {
   "cell_type": "code",
   "execution_count": null,
   "metadata": {},
   "outputs": [],
   "source": []
  }
 ],
 "metadata": {
  "kernelspec": {
   "display_name": "base",
   "language": "python",
   "name": "python3"
  },
  "language_info": {
   "codemirror_mode": {
    "name": "ipython",
    "version": 3
   },
   "file_extension": ".py",
   "mimetype": "text/x-python",
   "name": "python",
   "nbconvert_exporter": "python",
   "pygments_lexer": "ipython3",
   "version": "3.11.3"
  },
  "orig_nbformat": 4
 },
 "nbformat": 4,
 "nbformat_minor": 2
}
