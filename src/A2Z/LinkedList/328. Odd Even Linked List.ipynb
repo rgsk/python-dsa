{
 "cells": [
  {
   "cell_type": "code",
   "execution_count": 5,
   "metadata": {},
   "outputs": [],
   "source": [
    "import sys\n",
    "sys.path.append('../..')\n",
    "\n",
    "from lib.ListNode import *"
   ]
  },
  {
   "cell_type": "code",
   "execution_count": 6,
   "metadata": {},
   "outputs": [],
   "source": [
    "class Solution:\n",
    "    def oddEvenList(self, head: Optional[ListNode]) -> Optional[ListNode]:\n",
    "        odds = []\n",
    "        evens = []\n",
    "        temp = head\n",
    "        i = 0\n",
    "        while temp:\n",
    "            if i % 2 == 0:\n",
    "                odds.append(temp.val)\n",
    "            else:\n",
    "                evens.append(temp.val)\n",
    "            temp = temp.next\n",
    "            i += 1\n",
    "        temp = head\n",
    "        i = 0\n",
    "        while i < len(odds):\n",
    "            temp.val = odds[i]\n",
    "            temp = temp.next\n",
    "            i += 1\n",
    "        i = 0\n",
    "        while i < len(evens):\n",
    "            temp.val = evens[i]\n",
    "            temp = temp.next\n",
    "            i += 1\n",
    "        return head"
   ]
  },
  {
   "cell_type": "code",
   "execution_count": 7,
   "metadata": {},
   "outputs": [],
   "source": [
    "class Solution:\n",
    "    def oddEvenList(self, head: Optional[ListNode]) -> Optional[ListNode]:\n",
    "        if head:\n",
    "            odd = head\n",
    "            even = head.next\n",
    "            evenHead = even\n",
    "            while even and even.next:\n",
    "                odd.next = odd.next.next\n",
    "                even.next = even.next.next\n",
    "                odd = odd.next\n",
    "                even = even.next\n",
    "            odd.next = evenHead\n",
    "        return head"
   ]
  },
  {
   "cell_type": "code",
   "execution_count": 8,
   "metadata": {},
   "outputs": [
    {
     "name": "stdout",
     "output_type": "stream",
     "text": [
      "[1, 3, 5, 2, 4]\n"
     ]
    }
   ],
   "source": [
    "head = makeList([1,2,3,4,5])\n",
    "sol = Solution()\n",
    "print(asList(sol.oddEvenList(head)))"
   ]
  },
  {
   "cell_type": "code",
   "execution_count": 9,
   "metadata": {},
   "outputs": [
    {
     "name": "stdout",
     "output_type": "stream",
     "text": [
      "[2, 3, 6, 7, 1, 5, 4]\n"
     ]
    }
   ],
   "source": [
    "head = makeList([2,1,3,5,6,4,7])\n",
    "sol = Solution()\n",
    "print(asList(sol.oddEvenList(head)))"
   ]
  }
 ],
 "metadata": {
  "kernelspec": {
   "display_name": "dsa-venv",
   "language": "python",
   "name": "python3"
  },
  "language_info": {
   "codemirror_mode": {
    "name": "ipython",
    "version": 3
   },
   "file_extension": ".py",
   "mimetype": "text/x-python",
   "name": "python",
   "nbconvert_exporter": "python",
   "pygments_lexer": "ipython3",
   "version": "3.11.3"
  },
  "orig_nbformat": 4
 },
 "nbformat": 4,
 "nbformat_minor": 2
}
