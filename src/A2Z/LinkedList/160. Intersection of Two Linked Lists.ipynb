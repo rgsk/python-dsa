{
 "cells": [
  {
   "cell_type": "code",
   "execution_count": 10,
   "metadata": {},
   "outputs": [],
   "source": [
    "# https://leetcode.com/problems/intersection-of-two-linked-lists/description/"
   ]
  },
  {
   "cell_type": "code",
   "execution_count": 11,
   "metadata": {},
   "outputs": [],
   "source": [
    "import sys\n",
    "sys.path.append('../..')\n",
    "\n",
    "from lib.ListNode import *"
   ]
  },
  {
   "cell_type": "code",
   "execution_count": 12,
   "metadata": {},
   "outputs": [],
   "source": [
    "class Solution:\n",
    "    def getIntersectionNode(self, headA: ListNode, headB: ListNode) -> Optional[ListNode]:\n",
    "        nodesA = getNodes(headA)\n",
    "        nodesB = getNodes(headB)\n",
    "        for a in nodesA:\n",
    "            for b in nodesB:\n",
    "                if a == b:\n",
    "                    return a\n",
    "        return None"
   ]
  },
  {
   "cell_type": "code",
   "execution_count": 13,
   "metadata": {},
   "outputs": [],
   "source": [
    "class Solution:\n",
    "    def getIntersectionNode(self, headA: ListNode, headB: ListNode) -> Optional[ListNode]:\n",
    "        p1 = headA\n",
    "        p2 = headB\n",
    "        while p1 and p2 and p1 != p2:\n",
    "            p1 = p1.next\n",
    "            p2 = p2.next\n",
    "\n",
    "            if not p1 and not p2:\n",
    "                return p1\n",
    "            if not p1:\n",
    "                p1 = headB\n",
    "            if not p2:\n",
    "                p2 = headA\n",
    "        return p1"
   ]
  },
  {
   "cell_type": "code",
   "execution_count": 14,
   "metadata": {},
   "outputs": [
    {
     "name": "stdout",
     "output_type": "stream",
     "text": [
      "8\n"
     ]
    }
   ],
   "source": [
    "headA = makeList([4, 1])\n",
    "headB = makeList([5, 6, 1])\n",
    "\n",
    "commonHead = makeList([8, 4, 5])\n",
    "headA.next = commonHead\n",
    "headB.next = commonHead\n",
    "\n",
    "sol = Solution()\n",
    "print(sol.getIntersectionNode(headA, headB).val)"
   ]
  }
 ],
 "metadata": {
  "kernelspec": {
   "display_name": "base",
   "language": "python",
   "name": "python3"
  },
  "language_info": {
   "codemirror_mode": {
    "name": "ipython",
    "version": 3
   },
   "file_extension": ".py",
   "mimetype": "text/x-python",
   "name": "python",
   "nbconvert_exporter": "python",
   "pygments_lexer": "ipython3",
   "version": "3.11.3"
  },
  "orig_nbformat": 4
 },
 "nbformat": 4,
 "nbformat_minor": 2
}
