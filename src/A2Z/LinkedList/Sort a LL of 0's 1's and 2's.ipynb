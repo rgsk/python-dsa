{
 "cells": [
  {
   "cell_type": "code",
   "execution_count": 1,
   "metadata": {},
   "outputs": [],
   "source": [
    "import sys\n",
    "sys.path.append('../..')\n",
    "\n",
    "from lib.ListNode import *"
   ]
  },
  {
   "cell_type": "code",
   "execution_count": 2,
   "metadata": {},
   "outputs": [],
   "source": [
    "class Solution:\n",
    "    #Function to sort a linked list of 0s, 1s and 2s.\n",
    "    def segregate(self, head:Node):\n",
    "        count = [0 for _ in range(3)]\n",
    "        temp = head\n",
    "        while temp:\n",
    "            count[temp.data] += 1\n",
    "            temp = temp.next \n",
    "\n",
    "        temp = head\n",
    "        i = 0\n",
    "        while i < 3:\n",
    "            if count[i] == 0:\n",
    "                i += 1\n",
    "            else:\n",
    "                temp.data = i\n",
    "                count[i] -= 1\n",
    "                temp = temp.next\n",
    "        return head         "
   ]
  },
  {
   "cell_type": "code",
   "execution_count": 3,
   "metadata": {},
   "outputs": [
    {
     "name": "stdout",
     "output_type": "stream",
     "text": [
      "[0, 1, 1, 2, 2, 2, 2, 2]\n"
     ]
    }
   ],
   "source": [
    "head = makeList([1,2,2,1,2,0,2,2])\n",
    "sol = Solution()\n",
    "print(asList(sol.segregate(head)))"
   ]
  },
  {
   "cell_type": "code",
   "execution_count": null,
   "metadata": {},
   "outputs": [],
   "source": []
  }
 ],
 "metadata": {
  "kernelspec": {
   "display_name": "base",
   "language": "python",
   "name": "python3"
  },
  "language_info": {
   "codemirror_mode": {
    "name": "ipython",
    "version": 3
   },
   "file_extension": ".py",
   "mimetype": "text/x-python",
   "name": "python",
   "nbconvert_exporter": "python",
   "pygments_lexer": "ipython3",
   "version": "3.11.3"
  },
  "orig_nbformat": 4
 },
 "nbformat": 4,
 "nbformat_minor": 2
}
