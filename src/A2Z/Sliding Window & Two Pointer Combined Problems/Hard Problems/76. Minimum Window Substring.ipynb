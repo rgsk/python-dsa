{
 "cells": [
  {
   "cell_type": "code",
   "execution_count": 56,
   "metadata": {},
   "outputs": [],
   "source": [
    "# https://leetcode.com/problems/minimum-window-substring/"
   ]
  },
  {
   "cell_type": "code",
   "execution_count": 57,
   "metadata": {},
   "outputs": [],
   "source": [
    "from collections import defaultdict\n",
    "\n",
    "\n",
    "class Solution:\n",
    "    def minWindow(self, s: str, t: str) -> str:\n",
    "        char_count = defaultdict(int)\n",
    "        l = r = 0\n",
    "        n = len(s)\n",
    "        min_string = \"\"\n",
    "        req_count = defaultdict(int)\n",
    "        for c in t:\n",
    "            req_count[c] += 1\n",
    "        while r < n:\n",
    "            char_count[s[r]] += 1\n",
    "            while all([c in char_count and char_count[c] >= req_count[c] for c in req_count]):\n",
    "                if min_string == \"\" or r - l + 1 < len(min_string):\n",
    "                    min_string = s[l:r+1]\n",
    "                char_count[s[l]] -= 1\n",
    "                if char_count[s[l]] == 0:\n",
    "                    char_count.pop(s[l])\n",
    "                l += 1\n",
    "            r += 1\n",
    "        return min_string"
   ]
  },
  {
   "cell_type": "code",
   "execution_count": 58,
   "metadata": {},
   "outputs": [],
   "source": [
    "from collections import defaultdict\n",
    "\n",
    "\n",
    "class Solution:\n",
    "    def minWindow(self, s: str, t: str) -> str:\n",
    "        char_count = defaultdict(int)\n",
    "        l = r = 0\n",
    "        n = len(s)\n",
    "        min_string = \"\"\n",
    "        req_count = defaultdict(int)\n",
    "        missing = len(t)\n",
    "        for c in t:\n",
    "            req_count[c] += 1\n",
    "        while r < n:\n",
    "            if s[r] in req_count:\n",
    "                if req_count[s[r]] > 0:\n",
    "                    missing -= 1\n",
    "                req_count[s[r]] -= 1\n",
    "            char_count[s[r]] += 1\n",
    "            while missing == 0:\n",
    "                if min_string == \"\" or r - l + 1 < len(min_string):\n",
    "                    min_string = s[l:r+1]\n",
    "                char_count[s[l]] -= 1\n",
    "                if char_count[s[l]] == 0:\n",
    "                    char_count.pop(s[l])\n",
    "                if s[l] in req_count:\n",
    "                    req_count[s[l]] += 1\n",
    "                    if req_count[s[l]] > 0:\n",
    "                        missing += 1\n",
    "                l += 1\n",
    "            r += 1\n",
    "        return min_string"
   ]
  },
  {
   "cell_type": "code",
   "execution_count": 59,
   "metadata": {},
   "outputs": [],
   "source": [
    "from collections import defaultdict\n",
    "\n",
    "\n",
    "class Solution:\n",
    "    def minWindow(self, s: str, t: str) -> str:\n",
    "        char_count = defaultdict(int)\n",
    "        l = r = 0\n",
    "        n = len(s)\n",
    "        req_count = defaultdict(int)\n",
    "        missing = len(t)\n",
    "        for c in t:\n",
    "            req_count[c] += 1\n",
    "        start = 0\n",
    "        end = 0\n",
    "        found = False\n",
    "        while r < n:\n",
    "            if s[r] in req_count:\n",
    "                if req_count[s[r]] > 0:\n",
    "                    missing -= 1\n",
    "                req_count[s[r]] -= 1\n",
    "            char_count[s[r]] += 1\n",
    "            while missing == 0:\n",
    "                if not found or r - l < end - start:\n",
    "                    start = l\n",
    "                    end = r\n",
    "                    found = True\n",
    "                char_count[s[l]] -= 1\n",
    "                if char_count[s[l]] == 0:\n",
    "                    char_count.pop(s[l])\n",
    "                if s[l] in req_count:\n",
    "                    req_count[s[l]] += 1\n",
    "                    if req_count[s[l]] > 0:\n",
    "                        missing += 1\n",
    "                l += 1\n",
    "            r += 1\n",
    "        if found:\n",
    "            return s[start: end + 1]\n",
    "        return ''"
   ]
  },
  {
   "cell_type": "code",
   "execution_count": 60,
   "metadata": {},
   "outputs": [
    {
     "data": {
      "text/plain": [
       "'BANC'"
      ]
     },
     "execution_count": 60,
     "metadata": {},
     "output_type": "execute_result"
    }
   ],
   "source": [
    "s = \"ADOBECODEBANC\"\n",
    "t = \"ABC\"\n",
    "sol = Solution()\n",
    "sol.minWindow(s, t)"
   ]
  },
  {
   "cell_type": "code",
   "execution_count": 61,
   "metadata": {},
   "outputs": [
    {
     "data": {
      "text/plain": [
       "'a'"
      ]
     },
     "execution_count": 61,
     "metadata": {},
     "output_type": "execute_result"
    }
   ],
   "source": [
    "s = \"a\"\n",
    "t = \"a\"\n",
    "sol = Solution()\n",
    "sol.minWindow(s, t)"
   ]
  },
  {
   "cell_type": "code",
   "execution_count": 62,
   "metadata": {},
   "outputs": [
    {
     "data": {
      "text/plain": [
       "''"
      ]
     },
     "execution_count": 62,
     "metadata": {},
     "output_type": "execute_result"
    }
   ],
   "source": [
    "s = \"a\"\n",
    "t = \"aa\"\n",
    "sol = Solution()\n",
    "sol.minWindow(s, t)"
   ]
  }
 ],
 "metadata": {
  "kernelspec": {
   "display_name": "dsa-venv",
   "language": "python",
   "name": "python3"
  },
  "language_info": {
   "codemirror_mode": {
    "name": "ipython",
    "version": 3
   },
   "file_extension": ".py",
   "mimetype": "text/x-python",
   "name": "python",
   "nbconvert_exporter": "python",
   "pygments_lexer": "ipython3",
   "version": "3.11.3"
  },
  "orig_nbformat": 4
 },
 "nbformat": 4,
 "nbformat_minor": 2
}
