{
 "cells": [
  {
   "cell_type": "code",
   "execution_count": 67,
   "metadata": {},
   "outputs": [],
   "source": [
    "from collections import defaultdict\n",
    "\n",
    "\n",
    "def kDistinctChars(k, s):\n",
    "    # Write your code here\n",
    "    # Return an integer value\n",
    "    l = 0\n",
    "    r = 0\n",
    "    mp = defaultdict(int)\n",
    "    ans = 0\n",
    "    while r < len(s):\n",
    "        while r < len(s) and len(mp) < k + 1:\n",
    "            mp[s[r]] += 1\n",
    "            r += 1\n",
    "        if len(mp) < k + 1:\n",
    "            ans = max(ans, len(s) - l)\n",
    "            return ans\n",
    "        ans = max(ans, r - l - 1)\n",
    "        while len(mp) > k:\n",
    "            mp[s[l]] -= 1\n",
    "            if mp[s[l]] == 0:\n",
    "                mp.pop(s[l])\n",
    "            l += 1\n",
    "    return ans"
   ]
  },
  {
   "cell_type": "code",
   "execution_count": 68,
   "metadata": {},
   "outputs": [
    {
     "data": {
      "text/plain": [
       "7"
      ]
     },
     "execution_count": 68,
     "metadata": {},
     "output_type": "execute_result"
    }
   ],
   "source": [
    "'''\n",
    "2\n",
    "abbbbbbc\n",
    "3\n",
    "abcddefg\n",
    "'''\n",
    "kDistinctChars(2, 'abbbbbbc')"
   ]
  },
  {
   "cell_type": "code",
   "execution_count": 69,
   "metadata": {},
   "outputs": [
    {
     "data": {
      "text/plain": [
       "4"
      ]
     },
     "execution_count": 69,
     "metadata": {},
     "output_type": "execute_result"
    }
   ],
   "source": [
    "kDistinctChars(3, 'abcddefg')"
   ]
  },
  {
   "cell_type": "code",
   "execution_count": 70,
   "metadata": {},
   "outputs": [
    {
     "name": "stdout",
     "output_type": "stream",
     "text": [
      "4\n",
      "6\n"
     ]
    }
   ],
   "source": [
    "print(kDistinctChars(2, 'abbcc'))\n",
    "print(kDistinctChars(2, 'aaabbbcc'))"
   ]
  },
  {
   "cell_type": "code",
   "execution_count": 71,
   "metadata": {},
   "outputs": [
    {
     "name": "stdout",
     "output_type": "stream",
     "text": [
      "6\n"
     ]
    }
   ],
   "source": [
    "print(kDistinctChars(2, 'aaabbbcc'))"
   ]
  },
  {
   "cell_type": "code",
   "execution_count": 72,
   "metadata": {},
   "outputs": [],
   "source": [
    "# 0 1 2 3 4 5 6 7\n",
    "# a a a b b b c c "
   ]
  }
 ],
 "metadata": {
  "kernelspec": {
   "display_name": "dsa-venv",
   "language": "python",
   "name": "python3"
  },
  "language_info": {
   "codemirror_mode": {
    "name": "ipython",
    "version": 3
   },
   "file_extension": ".py",
   "mimetype": "text/x-python",
   "name": "python",
   "nbconvert_exporter": "python",
   "pygments_lexer": "ipython3",
   "version": "3.11.3"
  },
  "orig_nbformat": 4
 },
 "nbformat": 4,
 "nbformat_minor": 2
}
