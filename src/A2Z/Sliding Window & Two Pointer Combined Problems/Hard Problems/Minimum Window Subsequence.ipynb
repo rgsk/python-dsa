{
 "cells": [
  {
   "cell_type": "code",
   "execution_count": 5,
   "metadata": {},
   "outputs": [],
   "source": [
    "# https://www.codingninjas.com/studio/problems/minimum-window-subsequence_2181133?utm_source=striver&utm_medium=website&utm_campaign=a_zcoursetuf&leftPanelTab=0"
   ]
  },
  {
   "cell_type": "code",
   "execution_count": 6,
   "metadata": {},
   "outputs": [],
   "source": [
    "from collections import defaultdict\n",
    "\n",
    "def lcs(A, B):\n",
    "    nA = len(A)\n",
    "    nB = len(B)\n",
    "    dp = [[0 for _ in range(nB + 1)] for _ in range(nA + 1)]\n",
    "    for i in range(1, nA + 1):\n",
    "        for j in range(1, nB + 1):\n",
    "            if A[i-1] == B[j - 1]:\n",
    "                dp[i][j] = 1 + dp[i-1][j-1]\n",
    "            else:\n",
    "                dp[i][j] = max(dp[i-1][j], dp[i][j-1])\n",
    "    return dp[nA][nB]\n",
    "\n",
    "def minWindow(s, t):\n",
    "    # write your code here\n",
    "    char_count = defaultdict(int)\n",
    "    l = r = 0\n",
    "    n = len(s)\n",
    "    min_string = \"\"\n",
    "    req_count = defaultdict(int)\n",
    "    for c in t:\n",
    "        req_count[c] += 1\n",
    "    while r < n:\n",
    "        char_count[s[r]] += 1\n",
    "        while lcs(s[l:r+1], t) == len(t):\n",
    "            if min_string == \"\" or r - l + 1 < len(min_string):\n",
    "                min_string = s[l:r+1]\n",
    "            char_count[s[l]] -= 1\n",
    "            if char_count[s[l]] == 0:\n",
    "                char_count.pop(s[l])\n",
    "            l += 1\n",
    "        r += 1\n",
    "    return min_string"
   ]
  },
  {
   "cell_type": "code",
   "execution_count": 7,
   "metadata": {},
   "outputs": [],
   "source": [
    "from collections import defaultdict\n",
    "\n",
    "# optimized\n",
    "def minWindow(s, t):\n",
    "    # write your code here\n",
    "    char_count = defaultdict(int)\n",
    "    l = r = 0\n",
    "    n = len(s)\n",
    "    min_string = \"\"\n",
    "    end_required = 0\n",
    "    while r < n:\n",
    "        if s[r] == t[end_required]:\n",
    "            end_required += 1\n",
    "        char_count[s[r]] += 1\n",
    "        while end_required == len(t):\n",
    "            if min_string == \"\" or r - l + 1 < len(min_string):\n",
    "                min_string = s[l:r+1]\n",
    "            char_count[s[l]] -= 1\n",
    "            if char_count[s[l]] == 0:\n",
    "                char_count.pop(s[l])\n",
    "            if s[l] == t[0]:\n",
    "                end_required = 0\n",
    "                k = l + 1\n",
    "                while k <= r:\n",
    "                    if s[k] == t[end_required]:\n",
    "                        end_required += 1\n",
    "                    k += 1\n",
    "            l += 1\n",
    "        r += 1\n",
    "    return min_string"
   ]
  },
  {
   "cell_type": "code",
   "execution_count": 8,
   "metadata": {},
   "outputs": [
    {
     "data": {
      "text/plain": [
       "'ode'"
      ]
     },
     "execution_count": 8,
     "metadata": {},
     "output_type": "execute_result"
    }
   ],
   "source": [
    "s = \"lifeofcoders\"\n",
    "t = 'oe'\n",
    "minWindow(s, t)"
   ]
  }
 ],
 "metadata": {
  "kernelspec": {
   "display_name": "dsa-venv",
   "language": "python",
   "name": "python3"
  },
  "language_info": {
   "codemirror_mode": {
    "name": "ipython",
    "version": 3
   },
   "file_extension": ".py",
   "mimetype": "text/x-python",
   "name": "python",
   "nbconvert_exporter": "python",
   "pygments_lexer": "ipython3",
   "version": "3.11.3"
  },
  "orig_nbformat": 4
 },
 "nbformat": 4,
 "nbformat_minor": 2
}
