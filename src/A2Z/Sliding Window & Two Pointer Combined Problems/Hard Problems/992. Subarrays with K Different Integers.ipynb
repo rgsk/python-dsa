{
 "cells": [
  {
   "cell_type": "code",
   "execution_count": 127,
   "metadata": {},
   "outputs": [],
   "source": [
    "# https://leetcode.com/problems/subarrays-with-k-different-integers/"
   ]
  },
  {
   "cell_type": "code",
   "execution_count": 128,
   "metadata": {},
   "outputs": [],
   "source": [
    "from collections import defaultdict\n",
    "from typing import List\n",
    "\n",
    "\n",
    "\n",
    "from collections import defaultdict\n",
    "\n",
    "\n",
    "# https://www.youtube.com/watch?v=CBSeilNvZHs&t=433s\n",
    "class Solution:\n",
    "    def subarraysWithKDistinct(self, nums: List[int], k: int) -> int:\n",
    "        acq = 0\n",
    "        high_dic = defaultdict(int)\n",
    "        low_dic = defaultdict(int)\n",
    "        high = 0\n",
    "        low = 0\n",
    "        n = len(nums)\n",
    "        ans = 0\n",
    "        while True:\n",
    "            while high < n and len(high_dic) <= k:\n",
    "                high_dic[nums[high]] += 1\n",
    "                high += 1\n",
    "            if len(high_dic) < k:\n",
    "                return ans\n",
    "            elif len(high_dic) > k:\n",
    "                high -= 1\n",
    "                high_dic.pop(nums[high]) \n",
    "            while low < n and len(low_dic) <= k-1:\n",
    "                low_dic[nums[low]] += 1\n",
    "                low += 1\n",
    "            low -= 1\n",
    "            low_dic.pop(nums[low]) \n",
    "\n",
    "            ans += high - low\n",
    "            high_dic[nums[acq]] -= 1\n",
    "            if high_dic[nums[acq]] == 0:\n",
    "                high_dic.pop(nums[acq])\n",
    "            if low > acq:\n",
    "                low_dic[nums[acq]] -= 1\n",
    "                if low_dic[nums[acq]] == 0:\n",
    "                    low_dic.pop(nums[acq]) \n",
    "            acq += 1\n",
    "            low = max(low, acq)\n"
   ]
  },
  {
   "cell_type": "code",
   "execution_count": 129,
   "metadata": {},
   "outputs": [],
   "source": [
    "# https://leetcode.com/problems/subarrays-with-k-different-integers/solutions/3413266/c-java-python-fully-explained-sliding-window-hash-map-easy-to-understand/\n",
    "class Solution(object):\n",
    "    def subArray(self, nums, k):\n",
    "        # this counts the number of subarrays with distinct characters <= k\n",
    "        n = len(nums)\n",
    "        map = {}\n",
    "        count = 0\n",
    "        start = 0\n",
    "        end = 0\n",
    "        while end < n:\n",
    "            map[nums[end]] = map.get(nums[end], 0) + 1\n",
    "            while len(map) > k:\n",
    "                map[nums[start]] -= 1\n",
    "                if map[nums[start]] == 0:\n",
    "                    del map[nums[start]]\n",
    "                start += 1\n",
    "            count += end - start + 1\n",
    "            end += 1\n",
    "        return count\n",
    "    \n",
    "    def subarraysWithKDistinct(self, nums, k):\n",
    "        return self.subArray(nums, k) - self.subArray(nums, k - 1)\n"
   ]
  },
  {
   "cell_type": "code",
   "execution_count": 130,
   "metadata": {},
   "outputs": [
    {
     "data": {
      "text/plain": [
       "7"
      ]
     },
     "execution_count": 130,
     "metadata": {},
     "output_type": "execute_result"
    }
   ],
   "source": [
    "nums = [1,2,1,2,3]\n",
    "k = 2\n",
    "sol = Solution()\n",
    "sol.subarraysWithKDistinct(nums, k)"
   ]
  },
  {
   "cell_type": "code",
   "execution_count": 131,
   "metadata": {},
   "outputs": [
    {
     "data": {
      "text/plain": [
       "3"
      ]
     },
     "execution_count": 131,
     "metadata": {},
     "output_type": "execute_result"
    }
   ],
   "source": [
    "nums = [1,2,1,3,4]\n",
    "k = 3\n",
    "sol = Solution()\n",
    "sol.subarraysWithKDistinct(nums, k)"
   ]
  }
 ],
 "metadata": {
  "kernelspec": {
   "display_name": "dsa-venv",
   "language": "python",
   "name": "python3"
  },
  "language_info": {
   "codemirror_mode": {
    "name": "ipython",
    "version": 3
   },
   "file_extension": ".py",
   "mimetype": "text/x-python",
   "name": "python",
   "nbconvert_exporter": "python",
   "pygments_lexer": "ipython3",
   "version": "3.11.3"
  },
  "orig_nbformat": 4
 },
 "nbformat": 4,
 "nbformat_minor": 2
}
