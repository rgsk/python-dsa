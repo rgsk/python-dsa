{
 "cells": [
  {
   "cell_type": "code",
   "execution_count": 20,
   "metadata": {},
   "outputs": [],
   "source": [
    "# https://leetcode.com/problems/longest-repeating-character-replacement/description/"
   ]
  },
  {
   "cell_type": "code",
   "execution_count": 21,
   "metadata": {},
   "outputs": [],
   "source": [
    "from collections import defaultdict\n",
    "\n",
    "\n",
    "class Solution:\n",
    "    def characterReplacement(self, s: str, k: int) -> int:\n",
    "        l = 0\n",
    "        r = 0\n",
    "        char_count = defaultdict(int)\n",
    "        ans = 0\n",
    "        while r < len(s):\n",
    "            char_count[s[r]] += 1\n",
    "            r += 1\n",
    "            while r - l - max(char_count.values()) > k:\n",
    "                char_count[s[l]] -= 1\n",
    "                l += 1\n",
    "            ans = max(ans, r - l)\n",
    "        return ans"
   ]
  },
  {
   "cell_type": "code",
   "execution_count": 22,
   "metadata": {},
   "outputs": [],
   "source": [
    "from collections import defaultdict\n",
    "\n",
    "\n",
    "class Solution:\n",
    "    def characterReplacement(self, s: str, k: int) -> int:\n",
    "        l = 0\n",
    "        r = 0\n",
    "        char_count = defaultdict(int)\n",
    "        max_count = 0\n",
    "        ans = 0\n",
    "        while r < len(s):\n",
    "            char_count[s[r]] += 1\n",
    "            max_count = max(max_count, char_count[s[r]])\n",
    "            r += 1\n",
    "            while r - l - max_count > k:\n",
    "                char_count[s[l]] -= 1\n",
    "                l += 1\n",
    "                max_count = max(char_count.values())\n",
    "            ans = max(ans, r - l)\n",
    "        return ans"
   ]
  },
  {
   "cell_type": "code",
   "execution_count": 23,
   "metadata": {},
   "outputs": [
    {
     "data": {
      "text/plain": [
       "4"
      ]
     },
     "execution_count": 23,
     "metadata": {},
     "output_type": "execute_result"
    }
   ],
   "source": [
    "s = \"ABAB\"\n",
    "k = 2\n",
    "sol = Solution()\n",
    "sol.characterReplacement(s, k)"
   ]
  },
  {
   "cell_type": "code",
   "execution_count": 24,
   "metadata": {},
   "outputs": [
    {
     "data": {
      "text/plain": [
       "4"
      ]
     },
     "execution_count": 24,
     "metadata": {},
     "output_type": "execute_result"
    }
   ],
   "source": [
    "s = \"AABABBA\"\n",
    "k = 1\n",
    "sol = Solution()\n",
    "sol.characterReplacement(s, k)"
   ]
  }
 ],
 "metadata": {
  "kernelspec": {
   "display_name": "dsa-venv",
   "language": "python",
   "name": "python3"
  },
  "language_info": {
   "codemirror_mode": {
    "name": "ipython",
    "version": 3
   },
   "file_extension": ".py",
   "mimetype": "text/x-python",
   "name": "python",
   "nbconvert_exporter": "python",
   "pygments_lexer": "ipython3",
   "version": "3.11.3"
  },
  "orig_nbformat": 4
 },
 "nbformat": 4,
 "nbformat_minor": 2
}
