{
 "cells": [
  {
   "cell_type": "code",
   "execution_count": 5,
   "metadata": {},
   "outputs": [],
   "source": [
    "from collections import defaultdict\n",
    "from typing import List\n",
    "\n",
    "def findMaxFruits(arr: List[int], n: int) -> int:\n",
    "    # write your code here\n",
    "    ans = 0\n",
    "    left = 0\n",
    "    mp = defaultdict(int)\n",
    "    right = 0\n",
    "    while right < n:\n",
    "        mp[arr[right]] += 1\n",
    "        while len(mp) > 2:\n",
    "            mp[arr[left]] -= 1\n",
    "            if mp[arr[left]] == 0:\n",
    "                mp.pop(arr[left])\n",
    "            left += 1\n",
    "        ans = max(ans, right - left + 1)\n",
    "        right += 1\n",
    "    return ans"
   ]
  },
  {
   "cell_type": "code",
   "execution_count": 6,
   "metadata": {},
   "outputs": [
    {
     "data": {
      "text/plain": [
       "3"
      ]
     },
     "execution_count": 6,
     "metadata": {},
     "output_type": "execute_result"
    }
   ],
   "source": [
    "arr = [1, 1, 2, 3]\n",
    "findMaxFruits(arr, len(arr))"
   ]
  },
  {
   "cell_type": "code",
   "execution_count": 7,
   "metadata": {},
   "outputs": [
    {
     "data": {
      "text/plain": [
       "2"
      ]
     },
     "execution_count": 7,
     "metadata": {},
     "output_type": "execute_result"
    }
   ],
   "source": [
    "arr = [1, 2, 3, 4]\n",
    "findMaxFruits(arr, len(arr))"
   ]
  }
 ],
 "metadata": {
  "kernelspec": {
   "display_name": "dsa-venv",
   "language": "python",
   "name": "python3"
  },
  "language_info": {
   "codemirror_mode": {
    "name": "ipython",
    "version": 3
   },
   "file_extension": ".py",
   "mimetype": "text/x-python",
   "name": "python",
   "nbconvert_exporter": "python",
   "pygments_lexer": "ipython3",
   "version": "3.11.3"
  },
  "orig_nbformat": 4
 },
 "nbformat": 4,
 "nbformat_minor": 2
}
