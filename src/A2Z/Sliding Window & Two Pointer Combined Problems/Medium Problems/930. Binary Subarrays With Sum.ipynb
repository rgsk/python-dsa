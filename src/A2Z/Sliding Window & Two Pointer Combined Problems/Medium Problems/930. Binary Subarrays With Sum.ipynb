{
 "cells": [
  {
   "cell_type": "code",
   "execution_count": 14,
   "metadata": {},
   "outputs": [],
   "source": [
    "# https://leetcode.com/problems/binary-subarrays-with-sum/\n",
    "\n",
    "from typing import List\n",
    "from collections import defaultdict\n",
    "\n",
    "\n",
    "class Solution:\n",
    "    def numSubarraysWithSum(self, nums: List[int], goal: int) -> int:\n",
    "        mp = defaultdict(int)\n",
    "        s = 0\n",
    "        ans = 0\n",
    "        for v in nums:\n",
    "            mp[s] += 1\n",
    "            s += v\n",
    "            if s - goal in mp:\n",
    "                ans += mp[s - goal]\n",
    "        return ans"
   ]
  },
  {
   "cell_type": "code",
   "execution_count": 15,
   "metadata": {},
   "outputs": [
    {
     "data": {
      "text/plain": [
       "4"
      ]
     },
     "execution_count": 15,
     "metadata": {},
     "output_type": "execute_result"
    }
   ],
   "source": [
    "nums = [1,0,1,0,1]\n",
    "goal = 2\n",
    "sol = Solution()\n",
    "sol.numSubarraysWithSum(nums, goal)"
   ]
  },
  {
   "cell_type": "code",
   "execution_count": 16,
   "metadata": {},
   "outputs": [
    {
     "data": {
      "text/plain": [
       "15"
      ]
     },
     "execution_count": 16,
     "metadata": {},
     "output_type": "execute_result"
    }
   ],
   "source": [
    "nums = [0,0,0,0,0]\n",
    "goal = 0\n",
    "sol = Solution()\n",
    "sol.numSubarraysWithSum(nums, goal)"
   ]
  },
  {
   "cell_type": "code",
   "execution_count": 17,
   "metadata": {},
   "outputs": [
    {
     "data": {
      "text/plain": [
       "2"
      ]
     },
     "execution_count": 17,
     "metadata": {},
     "output_type": "execute_result"
    }
   ],
   "source": [
    "# extra test case for understanding\n",
    "nums = [1,2,3,4,5]\n",
    "goal = 5\n",
    "sol = Solution()\n",
    "sol.numSubarraysWithSum(nums, goal)"
   ]
  }
 ],
 "metadata": {
  "kernelspec": {
   "display_name": "dsa-venv",
   "language": "python",
   "name": "python3"
  },
  "language_info": {
   "codemirror_mode": {
    "name": "ipython",
    "version": 3
   },
   "file_extension": ".py",
   "mimetype": "text/x-python",
   "name": "python",
   "nbconvert_exporter": "python",
   "pygments_lexer": "ipython3",
   "version": "3.11.3"
  },
  "orig_nbformat": 4
 },
 "nbformat": 4,
 "nbformat_minor": 2
}
