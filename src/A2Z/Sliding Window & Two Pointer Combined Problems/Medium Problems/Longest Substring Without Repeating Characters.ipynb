{
 "cells": [
  {
   "cell_type": "code",
   "execution_count": 156,
   "metadata": {},
   "outputs": [],
   "source": [
    "class Solution:\n",
    "    def lengthOfLongestSubstring(self, s: str) -> int:\n",
    "        n = len(s)\n",
    "        max_len = min(1, n)\n",
    "        for i in range(n):\n",
    "            for j in range(i+1, n+1):\n",
    "                # print(\"i\",i,\"j\",j)\n",
    "                sub_str = s[i:j]\n",
    "                # print(sub_str)\n",
    "                if len(set(sub_str)) == j - i:\n",
    "                    max_len = max(max_len, j - i)\n",
    "        return max_len\n"
   ]
  },
  {
   "cell_type": "code",
   "execution_count": 157,
   "metadata": {},
   "outputs": [],
   "source": [
    "class Solution:\n",
    "    def lengthOfLongestSubstring(self, s: str) -> int:\n",
    "        if len(s) == 0:\n",
    "            return 0\n",
    "        maxans = -1\n",
    "        for i in range(len(s)):  # outer loop for traversing the string\n",
    "            characters_set = set()\n",
    "            # nested loop for getting different string starting with str[i]\n",
    "            duplicate_found = False\n",
    "            for j in range(i, len(s)):\n",
    "                if s[j] in characters_set:  # if element if found so mark it as ans and break from the loop\n",
    "                    maxans = max(maxans, j - i)\n",
    "                    duplicate_found = True\n",
    "                    break\n",
    "                characters_set.add(s[j])\n",
    "            if not duplicate_found:\n",
    "                maxans = max(maxans, len(s) - i)\n",
    "        return maxans\n"
   ]
  },
  {
   "cell_type": "code",
   "execution_count": 158,
   "metadata": {},
   "outputs": [],
   "source": [
    "class Solution:\n",
    "    def lengthOfLongestSubstring(self, s: str) -> int:\n",
    "        maxans = 0\n",
    "        characters_set = set()\n",
    "        l = r = 0\n",
    "        n = len(s)\n",
    "        while r < n:\n",
    "            while s[r] in characters_set:\n",
    "                characters_set.remove(s[l])\n",
    "                l += 1\n",
    "            characters_set.add(s[r])\n",
    "            maxans = max(maxans, r - l + 1)\n",
    "            r += 1\n",
    "        return maxans\n",
    "        \n"
   ]
  },
  {
   "cell_type": "code",
   "execution_count": 159,
   "metadata": {},
   "outputs": [],
   "source": [
    "class Solution:\n",
    "    def lengthOfLongestSubstring(self, s: str) -> int:\n",
    "        mpp = [-1] * 256\n",
    "\n",
    "\n",
    "        left = 0\n",
    "        right = 0\n",
    "        n = len(s)\n",
    "        length = 0\n",
    "        while right < n:\n",
    "            if mpp[ord(s[right])] != -1:\n",
    "                left = max(mpp[ord(s[right])] + 1, left)\n",
    "\n",
    "\n",
    "            mpp[ord(s[right])] = right\n",
    "\n",
    "\n",
    "            length = max(length, right - left + 1)\n",
    "            right += 1\n",
    "        return length\n",
    "        \n"
   ]
  },
  {
   "cell_type": "code",
   "execution_count": 160,
   "metadata": {},
   "outputs": [
    {
     "data": {
      "text/plain": [
       "3"
      ]
     },
     "execution_count": 160,
     "metadata": {},
     "output_type": "execute_result"
    }
   ],
   "source": [
    "s = \"abcabcbb\"\n",
    "sol = Solution()\n",
    "sol.lengthOfLongestSubstring(s)"
   ]
  },
  {
   "cell_type": "code",
   "execution_count": 161,
   "metadata": {},
   "outputs": [
    {
     "data": {
      "text/plain": [
       "2"
      ]
     },
     "execution_count": 161,
     "metadata": {},
     "output_type": "execute_result"
    }
   ],
   "source": [
    "s = \"abba\"\n",
    "sol = Solution()\n",
    "sol.lengthOfLongestSubstring(s)"
   ]
  },
  {
   "cell_type": "code",
   "execution_count": 162,
   "metadata": {},
   "outputs": [
    {
     "data": {
      "text/plain": [
       "3"
      ]
     },
     "execution_count": 162,
     "metadata": {},
     "output_type": "execute_result"
    }
   ],
   "source": [
    "s = \"pwwkew\"\n",
    "sol = Solution()\n",
    "sol.lengthOfLongestSubstring(s)"
   ]
  }
 ],
 "metadata": {
  "kernelspec": {
   "display_name": "template-venv",
   "language": "python",
   "name": "python3"
  },
  "language_info": {
   "codemirror_mode": {
    "name": "ipython",
    "version": 3
   },
   "file_extension": ".py",
   "mimetype": "text/x-python",
   "name": "python",
   "nbconvert_exporter": "python",
   "pygments_lexer": "ipython3",
   "version": "3.10.4"
  },
  "orig_nbformat": 4
 },
 "nbformat": 4,
 "nbformat_minor": 2
}
