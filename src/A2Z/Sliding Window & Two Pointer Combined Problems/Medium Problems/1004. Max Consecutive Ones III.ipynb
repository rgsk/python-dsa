{
 "cells": [
  {
   "cell_type": "code",
   "execution_count": 8,
   "metadata": {},
   "outputs": [],
   "source": [
    "from typing import List\n",
    "\n",
    "\n",
    "class Solution:\n",
    "    def longestOnes(self, nums: List[int], k: int) -> int:\n",
    "        i = 0\n",
    "        j = 0\n",
    "        n = len(nums)\n",
    "        while j < n:\n",
    "            if nums[j] == 0:\n",
    "                k -= 1\n",
    "            if k < 0:\n",
    "                if nums[i] == 0:\n",
    "                    k += 1\n",
    "                i += 1\n",
    "            j += 1\n",
    "        return j - i"
   ]
  },
  {
   "cell_type": "code",
   "execution_count": 9,
   "metadata": {},
   "outputs": [],
   "source": [
    "from typing import List\n",
    "\n",
    "\n",
    "class Solution:\n",
    "    def longestOnes(self, nums: List[int], k: int) -> int:\n",
    "        i = 0\n",
    "        j = 0\n",
    "        n = len(nums)\n",
    "        ans = 0\n",
    "        while j < n:\n",
    "            if nums[j] == 0:\n",
    "                k -= 1\n",
    "            while k < 0:\n",
    "                if nums[i] == 0:\n",
    "                    k += 1\n",
    "                i += 1\n",
    "            j += 1\n",
    "            ans = max(ans, j - i)\n",
    "        return ans"
   ]
  },
  {
   "cell_type": "code",
   "execution_count": 10,
   "metadata": {},
   "outputs": [
    {
     "data": {
      "text/plain": [
       "10"
      ]
     },
     "execution_count": 10,
     "metadata": {},
     "output_type": "execute_result"
    }
   ],
   "source": [
    "#       0,1,2,3,4,5,6,7,8,9,10,11,12,13,14,15,16,17,18\n",
    "nums = [0,0,1,1,0,0,1,1,1,0,1, 1, 0, 0, 0, 1, 1, 1, 1]\n",
    "k = 3\n",
    "sol = Solution()\n",
    "sol.longestOnes(nums, k)"
   ]
  }
 ],
 "metadata": {
  "kernelspec": {
   "display_name": "dsa-venv",
   "language": "python",
   "name": "python3"
  },
  "language_info": {
   "codemirror_mode": {
    "name": "ipython",
    "version": 3
   },
   "file_extension": ".py",
   "mimetype": "text/x-python",
   "name": "python",
   "nbconvert_exporter": "python",
   "pygments_lexer": "ipython3",
   "version": "3.11.3"
  },
  "orig_nbformat": 4
 },
 "nbformat": 4,
 "nbformat_minor": 2
}
