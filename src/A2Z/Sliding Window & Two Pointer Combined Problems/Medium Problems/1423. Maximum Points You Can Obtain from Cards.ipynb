{
 "cells": [
  {
   "cell_type": "code",
   "execution_count": 39,
   "metadata": {},
   "outputs": [],
   "source": [
    "from typing import List\n",
    "\n",
    "\n",
    "class Solution:\n",
    "    def maxScore(self, cardPoints: List[int], k: int) -> int:\n",
    "        n = len(cardPoints)\n",
    "        total = sum(cardPoints[:k])\n",
    "        ans = total\n",
    "        for i in range(1, k + 1):\n",
    "            total += cardPoints[n - i]\n",
    "            total -= cardPoints[k - i]\n",
    "            ans = max(ans, total)\n",
    "        return ans"
   ]
  },
  {
   "cell_type": "code",
   "execution_count": 40,
   "metadata": {},
   "outputs": [
    {
     "data": {
      "text/plain": [
       "12"
      ]
     },
     "execution_count": 40,
     "metadata": {},
     "output_type": "execute_result"
    }
   ],
   "source": [
    "cardPoints = [1,2,3,4,5,6,1]\n",
    "k = 3\n",
    "sol = Solution()\n",
    "sol.maxScore(cardPoints, k)"
   ]
  },
  {
   "cell_type": "code",
   "execution_count": 41,
   "metadata": {},
   "outputs": [
    {
     "data": {
      "text/plain": [
       "4"
      ]
     },
     "execution_count": 41,
     "metadata": {},
     "output_type": "execute_result"
    }
   ],
   "source": [
    "cardPoints = [2,2,2]\n",
    "k = 2\n",
    "sol = Solution()\n",
    "sol.maxScore(cardPoints, k)"
   ]
  },
  {
   "cell_type": "code",
   "execution_count": 42,
   "metadata": {},
   "outputs": [
    {
     "data": {
      "text/plain": [
       "55"
      ]
     },
     "execution_count": 42,
     "metadata": {},
     "output_type": "execute_result"
    }
   ],
   "source": [
    "cardPoints = [9,7,7,9,7,7,9]\n",
    "k = 7\n",
    "sol = Solution()\n",
    "sol.maxScore(cardPoints, k)"
   ]
  }
 ],
 "metadata": {
  "kernelspec": {
   "display_name": "dsa-venv",
   "language": "python",
   "name": "python3"
  },
  "language_info": {
   "codemirror_mode": {
    "name": "ipython",
    "version": 3
   },
   "file_extension": ".py",
   "mimetype": "text/x-python",
   "name": "python",
   "nbconvert_exporter": "python",
   "pygments_lexer": "ipython3",
   "version": "3.11.3"
  },
  "orig_nbformat": 4
 },
 "nbformat": 4,
 "nbformat_minor": 2
}
