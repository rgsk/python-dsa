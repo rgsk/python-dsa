{
 "cells": [
  {
   "cell_type": "code",
   "execution_count": 86,
   "metadata": {},
   "outputs": [],
   "source": [
    "def lowerBound(arr: [int], n: int, x: int) -> int:\n",
    "    # Write your code here\n",
    "    i = -1\n",
    "    incr = n - 1\n",
    "    while incr > 0:\n",
    "        while i + incr < n and arr[i + incr] < x:\n",
    "            i += incr\n",
    "        incr //= 2\n",
    "    return i + 1\n"
   ]
  },
  {
   "cell_type": "code",
   "execution_count": 87,
   "metadata": {},
   "outputs": [
    {
     "data": {
      "text/plain": [
       "0"
      ]
     },
     "execution_count": 87,
     "metadata": {},
     "output_type": "execute_result"
    }
   ],
   "source": [
    "#      0  1  2  3  4  5\n",
    "arr = [1, 2, 2, 3, 3, 5]\n",
    "n = len(arr)\n",
    "x = 0\n",
    "lowerBound(arr, n, x)"
   ]
  },
  {
   "cell_type": "code",
   "execution_count": 88,
   "metadata": {},
   "outputs": [
    {
     "data": {
      "text/plain": [
       "1"
      ]
     },
     "execution_count": 88,
     "metadata": {},
     "output_type": "execute_result"
    }
   ],
   "source": [
    "#      0  1  2  3  4  5\n",
    "arr = [1, 2, 2, 3, 3, 5]\n",
    "n = len(arr)\n",
    "x = 2\n",
    "lowerBound(arr, n, x)"
   ]
  },
  {
   "cell_type": "code",
   "execution_count": 89,
   "metadata": {},
   "outputs": [
    {
     "data": {
      "text/plain": [
       "6"
      ]
     },
     "execution_count": 89,
     "metadata": {},
     "output_type": "execute_result"
    }
   ],
   "source": [
    "#      0  1  2  3  4  5\n",
    "arr = [1, 2, 2, 3, 3, 5]\n",
    "n = len(arr)\n",
    "x = 7\n",
    "lowerBound(arr, n, x)"
   ]
  },
  {
   "cell_type": "code",
   "execution_count": 90,
   "metadata": {},
   "outputs": [
    {
     "data": {
      "text/plain": [
       "4"
      ]
     },
     "execution_count": 90,
     "metadata": {},
     "output_type": "execute_result"
    }
   ],
   "source": [
    "arr = [2462, 3941, 4337, 6505, 11444, 12819, 13811, 18113, 23214, 26985, 29076]\n",
    "n = len(arr)\n",
    "x = 10063\n",
    "lowerBound(arr, n, x)"
   ]
  }
 ],
 "metadata": {
  "kernelspec": {
   "display_name": "dsa-venv",
   "language": "python",
   "name": "python3"
  },
  "language_info": {
   "codemirror_mode": {
    "name": "ipython",
    "version": 3
   },
   "file_extension": ".py",
   "mimetype": "text/x-python",
   "name": "python",
   "nbconvert_exporter": "python",
   "pygments_lexer": "ipython3",
   "version": "3.11.3"
  },
  "orig_nbformat": 4
 },
 "nbformat": 4,
 "nbformat_minor": 2
}
