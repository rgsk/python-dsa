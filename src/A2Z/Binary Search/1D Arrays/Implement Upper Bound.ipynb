{
 "cells": [
  {
   "cell_type": "code",
   "execution_count": 27,
   "metadata": {},
   "outputs": [],
   "source": [
    "# https://www.codingninjas.com/studio/problems/implement-upper-bound_8165383?utm_source=striver&utm_medium=website&utm_campaign=a_zcoursetuf"
   ]
  },
  {
   "cell_type": "markdown",
   "metadata": {},
   "source": [
    "The upper bound in a sorted array is the index of the first value that is greater than a given value. \n",
    "If the greater value does not exist then the answer is 'n', Where 'n' is the size of the array.\n",
    "We are using 0-based indexing.\n",
    "Try to write a solution that runs in log(n) time complexity."
   ]
  },
  {
   "cell_type": "code",
   "execution_count": 28,
   "metadata": {},
   "outputs": [],
   "source": [
    "def upperBound(arr: [int], x: int, n: int) -> int:\n",
    "    # Write your code here.\n",
    "    # Write your code here\n",
    "    i = -1\n",
    "    incr = max(n - 1, 1)\n",
    "    while incr > 0:\n",
    "        while i + incr < n and arr[i + incr] <= x:\n",
    "            i += incr\n",
    "        incr //= 2\n",
    "    return i + 1"
   ]
  },
  {
   "cell_type": "code",
   "execution_count": 29,
   "metadata": {},
   "outputs": [
    {
     "data": {
      "text/plain": [
       "3"
      ]
     },
     "execution_count": 29,
     "metadata": {},
     "output_type": "execute_result"
    }
   ],
   "source": [
    "'''\n",
    "5 7\n",
    "1 4 7 8 10\n",
    "'''\n",
    "#      0, 1, 2, 3,  4\n",
    "arr = [1, 4, 4, 7, 8, 10]\n",
    "x = 4\n",
    "n = len(arr)\n",
    "upperBound(arr, x, n)"
   ]
  },
  {
   "cell_type": "code",
   "execution_count": 30,
   "metadata": {},
   "outputs": [
    {
     "data": {
      "text/plain": [
       "1"
      ]
     },
     "execution_count": 30,
     "metadata": {},
     "output_type": "execute_result"
    }
   ],
   "source": [
    "arr = [7]\n",
    "x = 10\n",
    "n = len(arr)\n",
    "upperBound(arr, x, n)"
   ]
  }
 ],
 "metadata": {
  "kernelspec": {
   "display_name": "dsa-venv",
   "language": "python",
   "name": "python3"
  },
  "language_info": {
   "codemirror_mode": {
    "name": "ipython",
    "version": 3
   },
   "file_extension": ".py",
   "mimetype": "text/x-python",
   "name": "python",
   "nbconvert_exporter": "python",
   "pygments_lexer": "ipython3",
   "version": "3.11.3"
  },
  "orig_nbformat": 4
 },
 "nbformat": 4,
 "nbformat_minor": 2
}
