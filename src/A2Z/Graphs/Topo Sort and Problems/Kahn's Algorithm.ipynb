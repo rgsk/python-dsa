{
 "cells": [
  {
   "cell_type": "code",
   "execution_count": null,
   "metadata": {},
   "outputs": [],
   "source": [
    "# https://practice.geeksforgeeks.org/problems/topological-sort/1?utm_source=geeksforgeeks&utm_medium=article_practice_tab&utm_campaign=article_practice_tab"
   ]
  },
  {
   "cell_type": "code",
   "execution_count": 13,
   "metadata": {},
   "outputs": [],
   "source": [
    "  \n",
    "from collections import deque\n",
    "\n",
    "\n",
    "class Solution:\n",
    "    #Function to return list containing vertices in Topological order.\n",
    "    def topoSort(self, V, adj):\n",
    "        # Write your code here\n",
    "        indegree = [0] * V\n",
    "        for node in range(V):\n",
    "            for child in adj[node]: \n",
    "                indegree[child] += 1\n",
    "\n",
    "        ans = []\n",
    "        q = deque()\n",
    "        for node in range(V):\n",
    "            if indegree[node] == 0:\n",
    "                q.append(node)\n",
    "        while q:\n",
    "            node = q.popleft()\n",
    "            ans.append(node)\n",
    "            for child in adj[node]:\n",
    "                indegree[child] -= 1\n",
    "                if indegree[child] == 0:\n",
    "                    q.append(child)\n",
    "        return ans"
   ]
  },
  {
   "cell_type": "code",
   "execution_count": 14,
   "metadata": {},
   "outputs": [
    {
     "data": {
      "text/plain": [
       "[0, 3, 4, 1, 2]"
      ]
     },
     "execution_count": 14,
     "metadata": {},
     "output_type": "execute_result"
    }
   ],
   "source": [
    "'''\n",
    "1\n",
    "5 4\n",
    "0 2\n",
    "1 2\n",
    "3 1\n",
    "0 4\n",
    "'''\n",
    "\n",
    "V = 5\n",
    "edges = [[2, 4], [2], [], [1], []]\n",
    "sol = Solution()\n",
    "sol.topoSort(V, edges)"
   ]
  },
  {
   "cell_type": "code",
   "execution_count": 15,
   "metadata": {},
   "outputs": [
    {
     "data": {
      "text/plain": [
       "[4, 5, 0, 2, 3, 1]"
      ]
     },
     "execution_count": 15,
     "metadata": {},
     "output_type": "execute_result"
    }
   ],
   "source": [
    "V = 6\n",
    "edges = [[], [], [3], [1], [0, 1], [0, 2]]\n",
    "sol = Solution()\n",
    "sol.topoSort(V, edges)"
   ]
  }
 ],
 "metadata": {
  "kernelspec": {
   "display_name": "dsa-venv",
   "language": "python",
   "name": "python3"
  },
  "language_info": {
   "codemirror_mode": {
    "name": "ipython",
    "version": 3
   },
   "file_extension": ".py",
   "mimetype": "text/x-python",
   "name": "python",
   "nbconvert_exporter": "python",
   "pygments_lexer": "ipython3",
   "version": "3.11.3"
  }
 },
 "nbformat": 4,
 "nbformat_minor": 2
}
