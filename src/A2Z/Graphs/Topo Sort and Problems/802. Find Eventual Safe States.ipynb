{
 "cells": [
  {
   "cell_type": "code",
   "execution_count": 7,
   "metadata": {},
   "outputs": [],
   "source": [
    "from typing import List\n",
    "\n",
    "def topoSort(V, adj):\n",
    "    # Write your code here\n",
    "    visited = [False for _ in range(V)]\n",
    "    curPathVisited = [False for _ in range(V)]\n",
    "    st = []\n",
    "    def dfs(node):\n",
    "        visited[node] = True\n",
    "        curPathVisited[node] = True\n",
    "        for child in adj[node]:\n",
    "            if curPathVisited[child]: return True\n",
    "            if not visited[child]:\n",
    "                if dfs(child): return True\n",
    "        curPathVisited[node] = False\n",
    "        st.append(node)\n",
    "        return False\n",
    "    for node in range(V):\n",
    "        if not visited[node]:\n",
    "            dfs(node)\n",
    "    return sorted(st)\n",
    "    \n",
    "\n",
    "class Solution:\n",
    "    def eventualSafeNodes(self, graph: List[List[int]]) -> List[int]:\n",
    "        return topoSort(len(graph), graph)"
   ]
  },
  {
   "cell_type": "code",
   "execution_count": 8,
   "metadata": {},
   "outputs": [
    {
     "data": {
      "text/plain": [
       "[5, 2, 4, 6]"
      ]
     },
     "execution_count": 8,
     "metadata": {},
     "output_type": "execute_result"
    }
   ],
   "source": [
    "graph = [[1,2],[2,3],[5],[0],[5],[],[]]\n",
    "sol = Solution()\n",
    "sol.eventualSafeNodes(graph)"
   ]
  },
  {
   "cell_type": "code",
   "execution_count": 9,
   "metadata": {},
   "outputs": [
    {
     "data": {
      "text/plain": [
       "[4]"
      ]
     },
     "execution_count": 9,
     "metadata": {},
     "output_type": "execute_result"
    }
   ],
   "source": [
    "graph = [[1,2,3,4],[1,2],[3,4],[0,4],[]]\n",
    "sol = Solution()\n",
    "sol.eventualSafeNodes(graph)"
   ]
  }
 ],
 "metadata": {
  "kernelspec": {
   "display_name": "dsa-venv",
   "language": "python",
   "name": "python3"
  },
  "language_info": {
   "codemirror_mode": {
    "name": "ipython",
    "version": 3
   },
   "file_extension": ".py",
   "mimetype": "text/x-python",
   "name": "python",
   "nbconvert_exporter": "python",
   "pygments_lexer": "ipython3",
   "version": "3.11.3"
  }
 },
 "nbformat": 4,
 "nbformat_minor": 2
}
