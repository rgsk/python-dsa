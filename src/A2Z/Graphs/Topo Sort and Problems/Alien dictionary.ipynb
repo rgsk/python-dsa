{
 "cells": [
  {
   "cell_type": "code",
   "execution_count": 16,
   "metadata": {},
   "outputs": [],
   "source": [
    "def getCharacterIndex(c):\n",
    "    return ord(c) - 97\n",
    "\n",
    "def getCharacterFromIndex(i):\n",
    "    return chr(i + 97)\n",
    "  \n",
    "def topoSort(V, adj):\n",
    "    # Write your code here\n",
    "    visited = [False for _ in range(V)]\n",
    "    st = []\n",
    "    def dfs(node):\n",
    "        visited[node] = True\n",
    "        for child in adj[node]:\n",
    "            if not visited[child]:\n",
    "                dfs(child)\n",
    "        st.append(node)\n",
    "    for node in range(V):\n",
    "        if not visited[node]:\n",
    "            dfs(node)\n",
    "    return list(reversed(st))        \n",
    "    \n",
    "\n",
    "class Solution:\n",
    "    def findOrder(self,alien_dict, N, K):\n",
    "        # code here\n",
    "        adj = [[] for _ in range(K)]\n",
    "        for i in range(N-1):\n",
    "            s1 = alien_dict[i]\n",
    "            s2 = alien_dict[i + 1]\n",
    "            for j in range(min(len(s1), len(s2))):\n",
    "                if s1[j] != s2[j]:\n",
    "                    adj[getCharacterIndex(s1[j])].append(getCharacterIndex(s2[j]))\n",
    "                    break\n",
    "        arr = topoSort(K, adj)\n",
    "        chars = [getCharacterFromIndex(i) for i in arr]\n",
    "        return chars"
   ]
  },
  {
   "cell_type": "code",
   "execution_count": 17,
   "metadata": {},
   "outputs": [
    {
     "data": {
      "text/plain": [
       "['b', 'd', 'a', 'c']"
      ]
     },
     "execution_count": 17,
     "metadata": {},
     "output_type": "execute_result"
    }
   ],
   "source": [
    "N = 5\n",
    "K = 4\n",
    "dict = [\"baa\",\"abcd\",\"abca\",\"cab\",\"cad\"]\n",
    "sol = Solution()\n",
    "sol.findOrder(dict, N, K)"
   ]
  },
  {
   "cell_type": "code",
   "execution_count": 18,
   "metadata": {},
   "outputs": [
    {
     "data": {
      "text/plain": [
       "['c', 'a', 'b']"
      ]
     },
     "execution_count": 18,
     "metadata": {},
     "output_type": "execute_result"
    }
   ],
   "source": [
    "N = 3\n",
    "K = 3\n",
    "dict = [\"caa\",\"aaa\",\"aab\"]\n",
    "sol = Solution()\n",
    "sol.findOrder(dict, N, K)"
   ]
  }
 ],
 "metadata": {
  "kernelspec": {
   "display_name": "dsa-venv",
   "language": "python",
   "name": "python3"
  },
  "language_info": {
   "codemirror_mode": {
    "name": "ipython",
    "version": 3
   },
   "file_extension": ".py",
   "mimetype": "text/x-python",
   "name": "python",
   "nbconvert_exporter": "python",
   "pygments_lexer": "ipython3",
   "version": "3.11.3"
  }
 },
 "nbformat": 4,
 "nbformat_minor": 2
}
