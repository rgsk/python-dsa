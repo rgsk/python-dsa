{
 "cells": [
  {
   "cell_type": "code",
   "execution_count": 1,
   "metadata": {},
   "outputs": [],
   "source": [
    "  \n",
    "from collections import deque\n",
    "from typing import List\n",
    "\n",
    "# Kahn's Algorithm \n",
    "# Toposort with BFS\n",
    "\n",
    "def getAdjListFromEdges(edges, V):\n",
    "    adjList = [[] for _ in range(V)]\n",
    "    for edge in edges:\n",
    "        adjList[edge[1]].append(edge[0])\n",
    "    return adjList\n",
    "\n",
    "class Solution:\n",
    "    #Function to return list containing vertices in Topological order.\n",
    "    def topoSort(self, V, adj):\n",
    "        # Write your code here\n",
    "        indegree = [0] * V\n",
    "        for node in range(V):\n",
    "            for child in adj[node]: \n",
    "                indegree[child] += 1\n",
    "\n",
    "        ans = []\n",
    "        q = deque()\n",
    "        for node in range(V):\n",
    "            if indegree[node] == 0:\n",
    "                q.append(node)\n",
    "        while q:\n",
    "            node = q.popleft()\n",
    "            ans.append(node)\n",
    "            for child in adj[node]:\n",
    "                indegree[child] -= 1\n",
    "                if indegree[child] == 0:\n",
    "                    q.append(child)\n",
    "        # we won't able to generate the complete toposort\n",
    "        if len(ans) == V:\n",
    "            return True\n",
    "        return False\n",
    "    \n",
    "    def canFinish(self, numCourses: int, prerequisites: List[List[int]]) -> bool:\n",
    "        adj = getAdjListFromEdges(prerequisites, numCourses)\n",
    "        return self.topoSort(numCourses, adj)"
   ]
  },
  {
   "cell_type": "code",
   "execution_count": 2,
   "metadata": {},
   "outputs": [
    {
     "data": {
      "text/plain": [
       "True"
      ]
     },
     "execution_count": 2,
     "metadata": {},
     "output_type": "execute_result"
    }
   ],
   "source": [
    "numCourses = 2\n",
    "prerequisites = [[1,0]]\n",
    "sol = Solution()\n",
    "sol.canFinish(numCourses, prerequisites)"
   ]
  },
  {
   "cell_type": "code",
   "execution_count": 3,
   "metadata": {},
   "outputs": [
    {
     "data": {
      "text/plain": [
       "False"
      ]
     },
     "execution_count": 3,
     "metadata": {},
     "output_type": "execute_result"
    }
   ],
   "source": [
    "numCourses = 2\n",
    "prerequisites = [[1,0],[0,1]]\n",
    "sol = Solution()\n",
    "sol.canFinish(numCourses, prerequisites)"
   ]
  }
 ],
 "metadata": {
  "kernelspec": {
   "display_name": "dsa-venv",
   "language": "python",
   "name": "python3"
  },
  "language_info": {
   "codemirror_mode": {
    "name": "ipython",
    "version": 3
   },
   "file_extension": ".py",
   "mimetype": "text/x-python",
   "name": "python",
   "nbconvert_exporter": "python",
   "pygments_lexer": "ipython3",
   "version": "3.11.3"
  }
 },
 "nbformat": 4,
 "nbformat_minor": 2
}
