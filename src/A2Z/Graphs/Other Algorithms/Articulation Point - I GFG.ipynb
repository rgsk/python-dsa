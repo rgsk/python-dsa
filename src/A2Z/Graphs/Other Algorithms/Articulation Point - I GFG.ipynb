{
 "cells": [
  {
   "cell_type": "code",
   "execution_count": 28,
   "metadata": {},
   "outputs": [],
   "source": [
    "# https://practice.geeksforgeeks.org/problems/articulation-point-1/1?utm_source=geeksforgeeks&utm_medium=ml_article_practice_tab&utm_campaign=article_practice_tab"
   ]
  },
  {
   "cell_type": "code",
   "execution_count": 29,
   "metadata": {},
   "outputs": [],
   "source": [
    "class Solution:\n",
    "    def articulationPoints(self, V, adj):\n",
    "        visited = [False for _ in range(V)]\n",
    "        low = [0] * V\n",
    "        time = [0] * V\n",
    "        ans = set()\n",
    "        def dfs(node, parent, t):\n",
    "            nonlocal ans\n",
    "            visited[node] = True\n",
    "            low[node] = t\n",
    "            time[node] = t\n",
    "            childCount = 0\n",
    "            for child in adj[node]:\n",
    "                if not visited[child]:\n",
    "                    dfs(child, node, t + 1)\n",
    "                    low[node] = min(low[node], low[child])\n",
    "                    if low[child] >= t and parent != -1:\n",
    "                        ans.add(node)\n",
    "                    childCount += 1\n",
    "                else:\n",
    "                    # if child != parent:\n",
    "                    # presence of this condition doesn't makes a difference\n",
    "                    # as the check is low[child] >= t \n",
    "                    low[node] = min(low[node], time[child])\n",
    "\n",
    "            if parent == -1 and childCount > 1:\n",
    "                ans.add(node)\n",
    "\n",
    "        for i in range(V):\n",
    "            if not visited[i]:\n",
    "                dfs(i, -1, 1)\n",
    "        if not ans:\n",
    "            return [-1]\n",
    "        return sorted(list(ans))"
   ]
  },
  {
   "cell_type": "code",
   "execution_count": 30,
   "metadata": {},
   "outputs": [],
   "source": [
    "def getAdjListFromEdges(edges, V):\n",
    "    adjList = [[] for _ in range(V)]\n",
    "    for edge in edges:\n",
    "        adjList[edge[0]].append(edge[1])\n",
    "        adjList[edge[1]].append(edge[0])\n",
    "    return adjList\n"
   ]
  },
  {
   "cell_type": "code",
   "execution_count": 31,
   "metadata": {},
   "outputs": [
    {
     "data": {
      "text/plain": [
       "[6]"
      ]
     },
     "execution_count": 31,
     "metadata": {},
     "output_type": "execute_result"
    }
   ],
   "source": [
    "V = 9\n",
    "edges = [\n",
    "    [3, 4],\n",
    "    [1, 3],\n",
    "    [1, 4],\n",
    "    [6, 6],\n",
    "    [5, 5],\n",
    "    [1, 2],\n",
    "    [2, 2],\n",
    "    [0, 2],\n",
    "    [2, 6],\n",
    "    [1, 5],\n",
    "    [2, 6],\n",
    "    [6, 3],\n",
    "    [8, 3],\n",
    "    [2, 2],\n",
    "    [6, 6],\n",
    "    [6, 5],\n",
    "    [1, 5],\n",
    "    [2, 0],\n",
    "    [6, 2],\n",
    "    [2, 8],\n",
    "    [3, 1],\n",
    "    [8, 6],\n",
    "    [1, 0],\n",
    "    [1, 6],\n",
    "    [3, 0],\n",
    "    [4, 8],\n",
    "    [3, 4],\n",
    "    [6, 5],\n",
    "    [6, 0],\n",
    "    [8, 0],\n",
    "    [2, 3],\n",
    "    [7, 6]\n",
    "]\n",
    "sol = Solution()\n",
    "sol.articulationPoints(V, getAdjListFromEdges(edges, V))"
   ]
  }
 ],
 "metadata": {
  "kernelspec": {
   "display_name": "dsa-venv",
   "language": "python",
   "name": "python3"
  },
  "language_info": {
   "codemirror_mode": {
    "name": "ipython",
    "version": 3
   },
   "file_extension": ".py",
   "mimetype": "text/x-python",
   "name": "python",
   "nbconvert_exporter": "python",
   "pygments_lexer": "ipython3",
   "version": "3.11.3"
  }
 },
 "nbformat": 4,
 "nbformat_minor": 2
}
