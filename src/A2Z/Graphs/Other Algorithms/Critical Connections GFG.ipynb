{
 "cells": [
  {
   "cell_type": "code",
   "execution_count": null,
   "metadata": {},
   "outputs": [],
   "source": [
    "# https://practice.geeksforgeeks.org/problems/critical-connections/1?utm_source=geeksforgeeks&utm_medium=ml_article_practice_tab&utm_campaign=article_practice_tab"
   ]
  },
  {
   "cell_type": "code",
   "execution_count": 1,
   "metadata": {},
   "outputs": [],
   "source": [
    "class Solution:\n",
    "    def criticalConnections(self, V, adj):\n",
    "        visited = [False for _ in range(V)]\n",
    "        low = [0] * V\n",
    "        ans = []\n",
    "        def dfs(node, parent, t):\n",
    "            nonlocal ans\n",
    "            visited[node] = True\n",
    "            low[node] = t\n",
    "            for child in adj[node]:\n",
    "                if not visited[child]:\n",
    "                    dfs(child, node, t + 1)\n",
    "                    \n",
    "                if child != parent:   \n",
    "                    low[node] = min(low[node], low[child])\n",
    "\n",
    "                if low[child] > t:\n",
    "                    ans.append(sorted([node, child]))\n",
    "\n",
    "        for i in range(V):\n",
    "            if not visited[i]:\n",
    "                dfs(i, -1, 1)\n",
    "        return sorted(ans)"
   ]
  }
 ],
 "metadata": {
  "kernelspec": {
   "display_name": "dsa-venv",
   "language": "python",
   "name": "python3"
  },
  "language_info": {
   "codemirror_mode": {
    "name": "ipython",
    "version": 3
   },
   "file_extension": ".py",
   "mimetype": "text/x-python",
   "name": "python",
   "nbconvert_exporter": "python",
   "pygments_lexer": "ipython3",
   "version": "3.11.3"
  }
 },
 "nbformat": 4,
 "nbformat_minor": 2
}
