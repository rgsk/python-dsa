{
 "cells": [
  {
   "cell_type": "code",
   "execution_count": 318,
   "metadata": {},
   "outputs": [],
   "source": [
    "# https://leetcode.com/problems/critical-connections-in-a-network/description/"
   ]
  },
  {
   "cell_type": "markdown",
   "metadata": {},
   "source": [
    "<img src=\"./../../../../images/Screenshot 2023-10-23 at 4.57.02 PM.png\" width=\"500\" >"
   ]
  },
  {
   "cell_type": "code",
   "execution_count": 319,
   "metadata": {},
   "outputs": [],
   "source": [
    "from typing import List\n",
    "\n",
    "\n",
    "\n",
    "def getAdjListFromEdges(edges, V):\n",
    "    adjList = [[] for _ in range(V)]\n",
    "    for edge in edges:\n",
    "        adjList[edge[0]].append(edge[1])\n",
    "        adjList[edge[1]].append(edge[0])\n",
    "    return adjList\n",
    "\n",
    "\n",
    "class Solution:\n",
    "    def criticalConnections(self, n: int, connections: List[List[int]]) -> List[List[int]]:\n",
    "        visited = [False for _ in range(n)]\n",
    "        low = [0] * n\n",
    "        adjList = getAdjListFromEdges(connections, n)\n",
    "        ans = []\n",
    "        def dfs(node, parent, t):\n",
    "            nonlocal ans\n",
    "            visited[node] = True\n",
    "            low[node] = t\n",
    "            for child in adjList[node]:\n",
    "                if not visited[child]:\n",
    "                    dfs(child, node, t + 1)\n",
    "                    \n",
    "                if child != parent:   \n",
    "                    low[node] = min(low[node], low[child])\n",
    "\n",
    "                if low[child] > t:\n",
    "                    ans.append([node, child])\n",
    "\n",
    "        for i in range(n):\n",
    "            if not visited[i]:\n",
    "                dfs(i, -1, 1)\n",
    "        return ans"
   ]
  },
  {
   "cell_type": "code",
   "execution_count": 320,
   "metadata": {},
   "outputs": [
    {
     "data": {
      "text/plain": [
       "[[1, 3]]"
      ]
     },
     "execution_count": 320,
     "metadata": {},
     "output_type": "execute_result"
    }
   ],
   "source": [
    "n = 4\n",
    "connections = [[0,1],[1,2],[2,0],[1,3]]\n",
    "sol = Solution()\n",
    "sol.criticalConnections(n, connections)"
   ]
  },
  {
   "cell_type": "code",
   "execution_count": 321,
   "metadata": {},
   "outputs": [
    {
     "data": {
      "text/plain": [
       "[[0, 1]]"
      ]
     },
     "execution_count": 321,
     "metadata": {},
     "output_type": "execute_result"
    }
   ],
   "source": [
    "n = 2\n",
    "connections = [[0,1]]\n",
    "sol = Solution()\n",
    "sol.criticalConnections(n, connections)"
   ]
  },
  {
   "cell_type": "code",
   "execution_count": 322,
   "metadata": {},
   "outputs": [
    {
     "data": {
      "text/plain": [
       "[[0, 1]]"
      ]
     },
     "execution_count": 322,
     "metadata": {},
     "output_type": "execute_result"
    }
   ],
   "source": [
    "n = 5\n",
    "connections = [[1,0],[2,0],[3,2],[4,2],[4,3],[3,0],[4,0]]\n",
    "sol = Solution()\n",
    "sol.criticalConnections(n, connections)"
   ]
  },
  {
   "cell_type": "code",
   "execution_count": 323,
   "metadata": {},
   "outputs": [
    {
     "data": {
      "text/plain": [
       "[]"
      ]
     },
     "execution_count": 323,
     "metadata": {},
     "output_type": "execute_result"
    }
   ],
   "source": [
    "n = 10\n",
    "connections = [[1,0],[2,0],[3,0],[4,1],[5,3],[6,1],[7,2],[8,1],[9,6],[9,3],[3,2],[4,2],[7,4],[6,2],[8,3],[4,0],[8,6],[6,5],[6,3],[7,5],[8,0],[8,5],[5,4],[2,1],[9,5],[9,7],[9,4],[4,3]]\n",
    "sol = Solution()\n",
    "sol.criticalConnections(n, connections)"
   ]
  }
 ],
 "metadata": {
  "kernelspec": {
   "display_name": "dsa-venv",
   "language": "python",
   "name": "python3"
  },
  "language_info": {
   "codemirror_mode": {
    "name": "ipython",
    "version": 3
   },
   "file_extension": ".py",
   "mimetype": "text/x-python",
   "name": "python",
   "nbconvert_exporter": "python",
   "pygments_lexer": "ipython3",
   "version": "3.11.3"
  }
 },
 "nbformat": 4,
 "nbformat_minor": 2
}
