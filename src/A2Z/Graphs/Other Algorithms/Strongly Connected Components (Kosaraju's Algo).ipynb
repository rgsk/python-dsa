{
 "cells": [
  {
   "cell_type": "code",
   "execution_count": 65,
   "metadata": {},
   "outputs": [],
   "source": [
    "\n",
    "# https://practice.geeksforgeeks.org/problems/strongly-connected-components-kosarajus-algo/1\n",
    "\n",
    "# https://www.youtube.com/watch?v=R6uoSjZ2imo&t=1237s"
   ]
  },
  {
   "cell_type": "markdown",
   "metadata": {},
   "source": [
    "\n",
    "<img src=\"./../../../../images/Screenshot 2023-10-24 at 9.39.11 PM.png\" width=\"500\" >"
   ]
  },
  {
   "cell_type": "code",
   "execution_count": 66,
   "metadata": {},
   "outputs": [],
   "source": [
    "\n",
    "\n",
    "class Solution:\n",
    "    \n",
    "    #Function to find number of strongly connected components in the graph.\n",
    "    def kosaraju(self, V, adj):\n",
    "        # code here\n",
    "        visited = [False for _ in range(V)]\n",
    "        st = []\n",
    "        def dfs(node):\n",
    "            visited[node] = True\n",
    "            for child in adj[node]:\n",
    "                if not visited[child]:\n",
    "                    dfs(child)\n",
    "            st.append(node)\n",
    "        for node in range(V):\n",
    "            if not visited[node]:\n",
    "                dfs(node)\n",
    "        \n",
    "        reversedAdj = [[] for _ in range(V)]\n",
    "        for node in range(V):\n",
    "            for child in adj[node]:\n",
    "                reversedAdj[child].append(node)\n",
    "\n",
    "        visited = [False for _ in range(V)]\n",
    "        count = 0\n",
    "        def dfs(node):\n",
    "            visited[node] = True\n",
    "            for child in reversedAdj[node]:\n",
    "                if not visited[child]:\n",
    "                    dfs(child)\n",
    "\n",
    "        for node in reversed(st):\n",
    "            if not visited[node]:\n",
    "                dfs(node)\n",
    "                count += 1\n",
    "        return count"
   ]
  },
  {
   "cell_type": "code",
   "execution_count": 67,
   "metadata": {},
   "outputs": [],
   "source": [
    "def getAdjListFromEdges(edges, V):\n",
    "    adjList = [[] for _ in range(V)]\n",
    "    for edge in edges:\n",
    "        adjList[edge[0]].append(edge[1])\n",
    "    return adjList\n"
   ]
  },
  {
   "cell_type": "code",
   "execution_count": 68,
   "metadata": {},
   "outputs": [
    {
     "data": {
      "text/plain": [
       "3"
      ]
     },
     "execution_count": 68,
     "metadata": {},
     "output_type": "execute_result"
    }
   ],
   "source": [
    "V = 5\n",
    "edges = [[1, 0],\n",
    "[0, 2],\n",
    "[2, 1],\n",
    "[0, 3],\n",
    "[3, 4],]\n",
    "adj = getAdjListFromEdges(edges,V)\n",
    "sol = Solution()\n",
    "sol.kosaraju(V, adj)"
   ]
  }
 ],
 "metadata": {
  "kernelspec": {
   "display_name": "dsa-venv",
   "language": "python",
   "name": "python3"
  },
  "language_info": {
   "codemirror_mode": {
    "name": "ipython",
    "version": 3
   },
   "file_extension": ".py",
   "mimetype": "text/x-python",
   "name": "python",
   "nbconvert_exporter": "python",
   "pygments_lexer": "ipython3",
   "version": "3.11.3"
  }
 },
 "nbformat": 4,
 "nbformat_minor": 2
}
