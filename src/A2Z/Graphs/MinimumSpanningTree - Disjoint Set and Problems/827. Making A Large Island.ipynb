{
 "cells": [
  {
   "cell_type": "code",
   "execution_count": 58,
   "metadata": {},
   "outputs": [],
   "source": [
    "from typing import List\n",
    "\n",
    "class DisjointSet:\n",
    "    def __init__(self, n):\n",
    "        # Initialize the disjoint set with n elements.\n",
    "        self.parent = list(range(n))\n",
    "        self.rank = [0] * n\n",
    "        self.size = [1] * n\n",
    "\n",
    "    def findParent(self, node):\n",
    "        # Find the representative (root) of the set to which the node belongs.\n",
    "        if self.parent[node] == node:\n",
    "            return node\n",
    "        # Path compression: Update the parent of the node to the representative.\n",
    "        self.parent[node] = self.findParent(self.parent[node])\n",
    "        return self.parent[node]\n",
    "\n",
    "\n",
    "\n",
    "    # works\n",
    "    def unionBySize(self, node1, node2):\n",
    "        root1 = self.findParent(node1)\n",
    "        root2 = self.findParent(node2)\n",
    "        if root1 != root2:\n",
    "            if self.rank[root1] >= self.rank[root2]:\n",
    "                self.parent[root2] = root1\n",
    "                self.size[root1] += self.size[root2]\n",
    "            else:\n",
    "                self.parent[root1] = root2\n",
    "                self.size[root2] += self.size[root1]\n",
    "            \n",
    "    \n",
    "\n",
    "ops = [(-1,0),(1,0),(0,-1),(0,1)]\n",
    "\n",
    "class Solution:\n",
    "    def largestIsland(self, grid: List[List[int]]) -> int:\n",
    "        n = len(grid)\n",
    "        ds = DisjointSet(n * n)\n",
    "        for row in range(n):\n",
    "            for col in range(n):\n",
    "                if grid[row][col] == 1:\n",
    "                    u = row * n + col\n",
    "                    for op in ops:\n",
    "                        r = row + op[0]\n",
    "                        c = col + op[1]\n",
    "                        if r >= 0 and c >= 0 and r < n and c < n:\n",
    "                            if grid[r][c] == 1:\n",
    "                                v = r * n + c\n",
    "                                ds.unionBySize(u, v)\n",
    "\n",
    "        \n",
    "\n",
    "        ans = 0\n",
    "        for row in range(n):\n",
    "            for col in range(n):\n",
    "                if grid[row][col] == 0:\n",
    "                    parents = set()\n",
    "                    for op in ops:\n",
    "                        r = row + op[0]\n",
    "                        c = col + op[1]\n",
    "                        if r >= 0 and c >= 0 and r < n and c < n:\n",
    "                            if grid[r][c] == 1:\n",
    "                                v = r * n + c\n",
    "                                parents.add(ds.findParent(v))\n",
    "                    ans = max(ans, sum([ds.size[parent] for parent in parents]) + 1)\n",
    "        \n",
    "        if all([grid[row][col] == 1 for col in range(n) for row in range(n)]):\n",
    "            return n * n\n",
    "        return ans"
   ]
  },
  {
   "cell_type": "code",
   "execution_count": 59,
   "metadata": {},
   "outputs": [
    {
     "data": {
      "text/plain": [
       "3"
      ]
     },
     "execution_count": 59,
     "metadata": {},
     "output_type": "execute_result"
    }
   ],
   "source": [
    "grid = [[1,0],[0,1]]\n",
    "sol = Solution()\n",
    "sol.largestIsland(grid)"
   ]
  },
  {
   "cell_type": "code",
   "execution_count": 60,
   "metadata": {},
   "outputs": [
    {
     "data": {
      "text/plain": [
       "4"
      ]
     },
     "execution_count": 60,
     "metadata": {},
     "output_type": "execute_result"
    }
   ],
   "source": [
    "grid = [[1,1],[1,0]]\n",
    "sol = Solution()\n",
    "sol.largestIsland(grid)"
   ]
  },
  {
   "cell_type": "code",
   "execution_count": 61,
   "metadata": {},
   "outputs": [
    {
     "data": {
      "text/plain": [
       "4"
      ]
     },
     "execution_count": 61,
     "metadata": {},
     "output_type": "execute_result"
    }
   ],
   "source": [
    "grid = [[1,1],[1,1]]\n",
    "sol = Solution()\n",
    "sol.largestIsland(grid)"
   ]
  }
 ],
 "metadata": {
  "kernelspec": {
   "display_name": "dsa-venv",
   "language": "python",
   "name": "python3"
  },
  "language_info": {
   "codemirror_mode": {
    "name": "ipython",
    "version": 3
   },
   "file_extension": ".py",
   "mimetype": "text/x-python",
   "name": "python",
   "nbconvert_exporter": "python",
   "pygments_lexer": "ipython3",
   "version": "3.11.3"
  }
 },
 "nbformat": 4,
 "nbformat_minor": 2
}
