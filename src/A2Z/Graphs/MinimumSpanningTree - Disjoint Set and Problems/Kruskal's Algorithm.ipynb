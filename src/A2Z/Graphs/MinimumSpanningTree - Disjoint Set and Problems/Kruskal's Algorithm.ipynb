{
 "cells": [
  {
   "cell_type": "markdown",
   "metadata": {},
   "source": [
    "\n",
    "<img src=\"./../../../../images/Screenshot 2023-10-24 at 10.42.52 PM.png\" width=\"500\" >\n",
    "\n",
    "\n",
    "https://www.youtube.com/watch?v=DMnDM_sxVig"
   ]
  },
  {
   "cell_type": "code",
   "execution_count": 1,
   "metadata": {},
   "outputs": [],
   "source": [
    "\n",
    "class DisjointSet:\n",
    "    def __init__(self, n):\n",
    "        # Initialize the disjoint set with n elements.\n",
    "        self.parent = list(range(n))\n",
    "        self.rank = [0] * n\n",
    "        self.size = [1] * n\n",
    "\n",
    "    def findParent(self, node):\n",
    "        # Find the representative (root) of the set to which the node belongs.\n",
    "        if self.parent[node] == node:\n",
    "            return node\n",
    "        # Path compression: Update the parent of the node to the representative.\n",
    "        self.parent[node] = self.findParent(self.parent[node])\n",
    "        return self.parent[node]\n",
    "\n",
    "\n",
    "    # TLE\n",
    "    def union(self, node1, node2):\n",
    "        # Union two sets by making one the parent of the other.\n",
    "        root1 = self.findParent(node1)\n",
    "        root2 = self.findParent(node2)\n",
    "        if root1 != root2:\n",
    "            self.parent[root1] = root2\n",
    "\n",
    "    # works\n",
    "    def unionByRank(self, node1, node2):\n",
    "        root1 = self.findParent(node1)\n",
    "        root2 = self.findParent(node2)\n",
    "        if root1 != root2:\n",
    "            if self.rank[root1] == self.rank[root2]:\n",
    "                self.parent[root2] = root1\n",
    "                self.rank[root1] += 1\n",
    "            elif self.rank[root1] > self.rank[root2]:\n",
    "                self.parent[root2] = root1\n",
    "            else:\n",
    "                self.parent[root1] = root2\n",
    "\n",
    "    # works\n",
    "    def unionBySize(self, node1, node2):\n",
    "        root1 = self.findParent(node1)\n",
    "        root2 = self.findParent(node2)\n",
    "        if root1 != root2:\n",
    "            if self.rank[root1] >= self.rank[root2]:\n",
    "                self.parent[root2] = root1\n",
    "                self.size[root1] += self.size[root2]\n",
    "            else:\n",
    "                self.parent[root1] = root2\n",
    "                self.size[root2] += self.size[root1]\n",
    "\n",
    "class Solution:\n",
    "    \n",
    "    #Function to find sum of weights of edges of the Minimum Spanning Tree.\n",
    "    def spanningTree(self, V, adj):\n",
    "        edges = []\n",
    "        for node in range(V):\n",
    "            for child, weight in adj[node]:\n",
    "                edges.append((weight, node, child))\n",
    "        edges = sorted(edges)\n",
    "        ds = DisjointSet(V)\n",
    "\n",
    "        total_weight = 0\n",
    "        for weight, u, v in edges:\n",
    "            if ds.findParent(u) != ds.findParent(v):\n",
    "                total_weight += weight\n",
    "                ds.unionBySize(u, v)\n",
    "        return total_weight"
   ]
  },
  {
   "cell_type": "code",
   "execution_count": 2,
   "metadata": {},
   "outputs": [],
   "source": [
    "def getAdjListFromEdges(edges, V):\n",
    "    adjList = [[] for _ in range(V)]\n",
    "    for edge in edges:\n",
    "        adjList[edge[0]].append([edge[1], edge[2]])\n",
    "        adjList[edge[1]].append([edge[0], edge[2]])\n",
    "    return adjList"
   ]
  },
  {
   "cell_type": "code",
   "execution_count": 3,
   "metadata": {},
   "outputs": [
    {
     "data": {
      "text/plain": [
       "4"
      ]
     },
     "execution_count": 3,
     "metadata": {},
     "output_type": "execute_result"
    }
   ],
   "source": [
    "V = 3\n",
    "edges = [[0, 1, 5],\n",
    "[1, 2, 3],\n",
    "[0, 2, 1],]\n",
    "sol  = Solution()\n",
    "sol.spanningTree(V, getAdjListFromEdges(edges, V))"
   ]
  }
 ],
 "metadata": {
  "kernelspec": {
   "display_name": "dsa-venv",
   "language": "python",
   "name": "python3"
  },
  "language_info": {
   "codemirror_mode": {
    "name": "ipython",
    "version": 3
   },
   "file_extension": ".py",
   "mimetype": "text/x-python",
   "name": "python",
   "nbconvert_exporter": "python",
   "pygments_lexer": "ipython3",
   "version": "3.11.3"
  }
 },
 "nbformat": 4,
 "nbformat_minor": 2
}
