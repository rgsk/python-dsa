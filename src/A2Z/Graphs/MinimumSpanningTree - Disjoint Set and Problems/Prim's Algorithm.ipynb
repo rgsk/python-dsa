{
 "cells": [
  {
   "cell_type": "markdown",
   "metadata": {},
   "source": [
    "\n",
    "<img src=\"./../../../../images/Screenshot 2023-10-24 at 10.24.07 PM.png\" width=\"500\" >\n",
    "\n",
    "\n",
    "https://www.youtube.com/watch?v=mJcZjjKzeqk"
   ]
  },
  {
   "cell_type": "code",
   "execution_count": 59,
   "metadata": {},
   "outputs": [],
   "source": [
    "import heapq\n",
    "\n",
    "# code for getting the edges also\n",
    "\n",
    "class Solution:\n",
    "    \n",
    "    #Function to find sum of weights of edges of the Minimum Spanning Tree.\n",
    "    def spanningTree(self, V, adj):\n",
    "        # wt, node\n",
    "        # here we did not store parent because we need to return sum of total weight only\n",
    "        # not the edges taken\n",
    "        heap = [(0, 0, -1)]\n",
    "        visited = [False for _ in range(V)]\n",
    "        edges = []        \n",
    "        while heap:\n",
    "            node_weight, node, parent = heapq.heappop(heap)\n",
    "\n",
    "            if visited[node]:\n",
    "                continue\n",
    "\n",
    "            visited[node] = True\n",
    "            if parent != -1:\n",
    "                edges.append(sorted([node, parent]))\n",
    "                 \n",
    "\n",
    "            for child, child_weight in adj[node]:\n",
    "                if not visited[child]:\n",
    "                    heapq.heappush(heap, (child_weight, child, node))\n",
    "                    \n",
    "        return edges"
   ]
  },
  {
   "cell_type": "code",
   "execution_count": 60,
   "metadata": {},
   "outputs": [],
   "source": [
    "import heapq\n",
    "\n",
    "# code for getting the sum of edges of minimum spanning tree\n",
    "\n",
    "class Solution:\n",
    "    \n",
    "    #Function to find sum of weights of edges of the Minimum Spanning Tree.\n",
    "    def spanningTree(self, V, adj):\n",
    "        # wt, node\n",
    "        # here we did not store parent because we need to return sum of total weight only\n",
    "        # not the edges taken\n",
    "        heap = [(0, 0)]\n",
    "        visited = [False for _ in range(V)]\n",
    "        total_weight = 0\n",
    "        while heap:\n",
    "            node_weight, node = heapq.heappop(heap)\n",
    "\n",
    "            if visited[node]:\n",
    "                continue\n",
    "\n",
    "            total_weight += node_weight\n",
    "            visited[node] = True\n",
    "                 \n",
    "            for child, child_weight in adj[node]:\n",
    "                if not visited[child]:\n",
    "                    heapq.heappush(heap, (child_weight, child))\n",
    "        return total_weight"
   ]
  },
  {
   "cell_type": "code",
   "execution_count": 61,
   "metadata": {},
   "outputs": [],
   "source": [
    "def getAdjListFromEdges(edges, V):\n",
    "    adjList = [[] for _ in range(V)]\n",
    "    for edge in edges:\n",
    "        adjList[edge[0]].append([edge[1], edge[2]])\n",
    "        adjList[edge[1]].append([edge[0], edge[2]])\n",
    "    return adjList"
   ]
  },
  {
   "cell_type": "code",
   "execution_count": 62,
   "metadata": {},
   "outputs": [
    {
     "data": {
      "text/plain": [
       "4"
      ]
     },
     "execution_count": 62,
     "metadata": {},
     "output_type": "execute_result"
    }
   ],
   "source": [
    "V = 3\n",
    "edges = [[0, 1, 5],\n",
    "[1, 2, 3],\n",
    "[0, 2, 1],]\n",
    "sol  = Solution()\n",
    "sol.spanningTree(V, getAdjListFromEdges(edges, V))"
   ]
  }
 ],
 "metadata": {
  "kernelspec": {
   "display_name": "dsa-venv",
   "language": "python",
   "name": "python3"
  },
  "language_info": {
   "codemirror_mode": {
    "name": "ipython",
    "version": 3
   },
   "file_extension": ".py",
   "mimetype": "text/x-python",
   "name": "python",
   "nbconvert_exporter": "python",
   "pygments_lexer": "ipython3",
   "version": "3.11.3"
  }
 },
 "nbformat": 4,
 "nbformat_minor": 2
}
