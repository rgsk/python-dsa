{
 "cells": [
  {
   "cell_type": "code",
   "execution_count": 26,
   "metadata": {},
   "outputs": [],
   "source": [
    "# https://practice.geeksforgeeks.org/problems/number-of-islands/1"
   ]
  },
  {
   "cell_type": "code",
   "execution_count": 27,
   "metadata": {},
   "outputs": [],
   "source": [
    "from typing import List\n",
    "\n",
    "class DisjointSet:\n",
    "    def __init__(self, n):\n",
    "        # Initialize the disjoint set with n elements.\n",
    "        self.parent = list(range(n))\n",
    "        self.rank = [0] * n\n",
    "        self.size = [1] * n\n",
    "\n",
    "    def findParent(self, node):\n",
    "        # Find the representative (root) of the set to which the node belongs.\n",
    "        if self.parent[node] == node:\n",
    "            return node\n",
    "        # Path compression: Update the parent of the node to the representative.\n",
    "        self.parent[node] = self.findParent(self.parent[node])\n",
    "        return self.parent[node]\n",
    "\n",
    "\n",
    "\n",
    "    # works\n",
    "    def unionBySize(self, node1, node2):\n",
    "        root1 = self.findParent(node1)\n",
    "        root2 = self.findParent(node2)\n",
    "        if root1 != root2:\n",
    "            if self.rank[root1] >= self.rank[root2]:\n",
    "                self.parent[root2] = root1\n",
    "                self.size[root1] += self.size[root2]\n",
    "            else:\n",
    "                self.parent[root1] = root2\n",
    "                self.size[root2] += self.size[root1]\n",
    "\n",
    "\n",
    "class Solution:\n",
    "    def numOfIslands(self, rows: int, cols : int, operators : List[List[int]]) -> List[int]:\n",
    "        # code here\n",
    "        ds = DisjointSet(rows * cols)\n",
    "        grid = [[0 for _ in range(cols)] for _ in range(rows)]\n",
    "        count = 0\n",
    "        ans = []\n",
    "        for r, c in operators:\n",
    "            if grid[r][c]:\n",
    "                # we ensure we don't give second effect to r, c that's already encountered\n",
    "                ans.append(count)\n",
    "                continue\n",
    "            grid[r][c] = 1\n",
    "            u = r * cols + c\n",
    "            count += 1\n",
    "            for i, j in [(r-1, c), (r + 1, c), (r, c - 1), (r, c + 1)]:\n",
    "                if i >= 0 and j >= 0 and i < rows and j < cols and grid[i][j] == 1:\n",
    "                    v = i * cols + j\n",
    "                    if ds.findParent(u) != ds.findParent(v):\n",
    "                        ds.unionBySize(u, v)\n",
    "                        count -= 1\n",
    "            ans.append(count)\n",
    "        return ans\n",
    "                    "
   ]
  },
  {
   "cell_type": "code",
   "execution_count": 28,
   "metadata": {},
   "outputs": [
    {
     "data": {
      "text/plain": [
       "[1, 1, 2, 2]"
      ]
     },
     "execution_count": 28,
     "metadata": {},
     "output_type": "execute_result"
    }
   ],
   "source": [
    "n = 4\n",
    "m = 5\n",
    "k = 4\n",
    "A = [[1,1],[0,1],[3,3],[3,4]]\n",
    "sol = Solution()\n",
    "sol.numOfIslands(rows=n,cols=m,operators=A)"
   ]
  },
  {
   "cell_type": "code",
   "execution_count": 29,
   "metadata": {},
   "outputs": [
    {
     "data": {
      "text/plain": [
       "[1, 2, 3, 4]"
      ]
     },
     "execution_count": 29,
     "metadata": {},
     "output_type": "execute_result"
    }
   ],
   "source": [
    "n = 4\n",
    "m = 5\n",
    "k = 4\n",
    "A = [[0,0],[1,1],[2,2],[3,3]]\n",
    "sol = Solution()\n",
    "sol.numOfIslands(rows=n,cols=m,operators=A)"
   ]
  },
  {
   "cell_type": "code",
   "execution_count": 30,
   "metadata": {},
   "outputs": [
    {
     "data": {
      "text/plain": [
       "[1, 2, 3, 3, 3, 3, 3, 4, 4, 4]"
      ]
     },
     "execution_count": 30,
     "metadata": {},
     "output_type": "execute_result"
    }
   ],
   "source": [
    "n = 3\n",
    "m = 5\n",
    "k = 10\n",
    "A = [\n",
    "    [1, 1],\n",
    "    [0, 3],\n",
    "    [2, 3],\n",
    "    [2, 4],\n",
    "    [2, 4],\n",
    "    [2, 1],\n",
    "    [1, 4],\n",
    "    [0, 0],\n",
    "    [1, 2],\n",
    "    [2, 0] \n",
    "]\n",
    "\n",
    "sol = Solution()\n",
    "sol.numOfIslands(rows=n,cols=m,operators=A)"
   ]
  }
 ],
 "metadata": {
  "kernelspec": {
   "display_name": "dsa-venv",
   "language": "python",
   "name": "python3"
  },
  "language_info": {
   "codemirror_mode": {
    "name": "ipython",
    "version": 3
   },
   "file_extension": ".py",
   "mimetype": "text/x-python",
   "name": "python",
   "nbconvert_exporter": "python",
   "pygments_lexer": "ipython3",
   "version": "3.11.3"
  }
 },
 "nbformat": 4,
 "nbformat_minor": 2
}
