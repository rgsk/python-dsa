{
 "cells": [
  {
   "cell_type": "markdown",
   "metadata": {},
   "source": [
    "<img src=\"./../../../../images/Screenshot 2023-10-25 at 1.18.29 AM.png\" width=\"500\" >\n",
    "\n",
    "\n",
    "https://www.youtube.com/watch?v=OwMNX8SPavM\n",
    "\n",
    "https://leetcode.com/problems/most-stones-removed-with-same-row-or-column/"
   ]
  },
  {
   "cell_type": "code",
   "execution_count": 13,
   "metadata": {},
   "outputs": [],
   "source": [
    "from typing import List\n",
    "\n",
    "\n",
    "class DisjointSet:\n",
    "    def __init__(self, n):\n",
    "        # Initialize the disjoint set with n elements.\n",
    "        self.parent = list(range(n))\n",
    "        self.rank = [0] * n\n",
    "        self.size = [1] * n\n",
    "\n",
    "    def findParent(self, node):\n",
    "        # Find the representative (root) of the set to which the node belongs.\n",
    "        if self.parent[node] == node:\n",
    "            return node\n",
    "        # Path compression: Update the parent of the node to the representative.\n",
    "        self.parent[node] = self.findParent(self.parent[node])\n",
    "        return self.parent[node]\n",
    "\n",
    "\n",
    "\n",
    "    # works\n",
    "    def unionBySize(self, node1, node2):\n",
    "        root1 = self.findParent(node1)\n",
    "        root2 = self.findParent(node2)\n",
    "        if root1 != root2:\n",
    "            if self.rank[root1] >= self.rank[root2]:\n",
    "                self.parent[root2] = root1\n",
    "                self.size[root1] += self.size[root2]\n",
    "            else:\n",
    "                self.parent[root1] = root2\n",
    "                self.size[root2] += self.size[root1]\n",
    "\n",
    "\n",
    "class Solution:\n",
    "    def removeStones(self, stones: List[List[int]]) -> int:\n",
    "        maxRow = 0\n",
    "        maxCol = 0\n",
    "        n = len(stones)\n",
    "        for row, col in stones:\n",
    "            maxRow = max(maxRow, row)\n",
    "            maxCol = max(maxCol, col)\n",
    "\n",
    "        ds = DisjointSet(maxRow + maxCol + 2)\n",
    "\n",
    "        stoneNodes = set()\n",
    "        for row, col in stones:\n",
    "            rowNode = row\n",
    "            colNode = col + maxRow + 1\n",
    "            ds.unionBySize(rowNode, colNode)\n",
    "            stoneNodes.add(rowNode)\n",
    "            stoneNodes.add(colNode)\n",
    "            \n",
    "        nC = 0\n",
    "        for node in stoneNodes:\n",
    "            if ds.findParent(node) == node:\n",
    "                nC += 1\n",
    "        return n - nC\n"
   ]
  },
  {
   "cell_type": "code",
   "execution_count": 14,
   "metadata": {},
   "outputs": [
    {
     "data": {
      "text/plain": [
       "5"
      ]
     },
     "execution_count": 14,
     "metadata": {},
     "output_type": "execute_result"
    }
   ],
   "source": [
    "stones = [[0,0],[0,1],[1,0],[1,2],[2,1],[2,2]]\n",
    "sol = Solution()\n",
    "sol.removeStones(stones)"
   ]
  },
  {
   "cell_type": "code",
   "execution_count": 15,
   "metadata": {},
   "outputs": [
    {
     "data": {
      "text/plain": [
       "3"
      ]
     },
     "execution_count": 15,
     "metadata": {},
     "output_type": "execute_result"
    }
   ],
   "source": [
    "stones = [[0,0],[0,2],[1,1],[2,0],[2,2]]\n",
    "sol = Solution()\n",
    "sol.removeStones(stones)"
   ]
  },
  {
   "cell_type": "code",
   "execution_count": 16,
   "metadata": {},
   "outputs": [
    {
     "data": {
      "text/plain": [
       "0"
      ]
     },
     "execution_count": 16,
     "metadata": {},
     "output_type": "execute_result"
    }
   ],
   "source": [
    "stones = [[0,0]]\n",
    "sol = Solution()\n",
    "sol.removeStones(stones)"
   ]
  }
 ],
 "metadata": {
  "kernelspec": {
   "display_name": "dsa-venv",
   "language": "python",
   "name": "python3"
  },
  "language_info": {
   "codemirror_mode": {
    "name": "ipython",
    "version": 3
   },
   "file_extension": ".py",
   "mimetype": "text/x-python",
   "name": "python",
   "nbconvert_exporter": "python",
   "pygments_lexer": "ipython3",
   "version": "3.11.3"
  }
 },
 "nbformat": 4,
 "nbformat_minor": 2
}
