{
 "cells": [
  {
   "cell_type": "code",
   "execution_count": 4,
   "metadata": {},
   "outputs": [],
   "source": [
    "import heapq\n",
    "from typing import List\n",
    "\n",
    "ops = [(-1,0),(1,0),(0,-1),(0,1)]\n",
    "\n",
    "class Solution:\n",
    "    def swimInWater(self, grid: List[List[int]]) -> int:\n",
    "        heap = [(grid[0][0], 0, 0)]\n",
    "        n = len(grid)\n",
    "        m = len(grid[0])\n",
    "        ans = 0\n",
    "        visited = set()\n",
    "        while heap:\n",
    "            wt, row, col = heapq.heappop(heap)\n",
    "            ans = max(ans, wt)\n",
    "            if row == n - 1 and col == m - 1:\n",
    "                return ans\n",
    "            for op in ops:\n",
    "                r = row + op[0]\n",
    "                c = col + op[1]\n",
    "                if r >= 0 and c >= 0 and r < n and c < m:\n",
    "                    if (r, c) not in visited:\n",
    "                        heapq.heappush(heap, (grid[r][c], r, c))\n",
    "                        visited.add((r, c))\n"
   ]
  },
  {
   "cell_type": "code",
   "execution_count": 5,
   "metadata": {},
   "outputs": [
    {
     "data": {
      "text/plain": [
       "3"
      ]
     },
     "execution_count": 5,
     "metadata": {},
     "output_type": "execute_result"
    }
   ],
   "source": [
    "grid = [[0,2],[1,3]]\n",
    "sol = Solution()\n",
    "sol.swimInWater(grid)"
   ]
  },
  {
   "cell_type": "code",
   "execution_count": 6,
   "metadata": {},
   "outputs": [
    {
     "data": {
      "text/plain": [
       "16"
      ]
     },
     "execution_count": 6,
     "metadata": {},
     "output_type": "execute_result"
    }
   ],
   "source": [
    "grid = [[0,1,2,3,4],[24,23,22,21,5],[12,13,14,15,16],[11,17,18,19,20],[10,9,8,7,6]]\n",
    "sol = Solution()\n",
    "sol.swimInWater(grid)"
   ]
  },
  {
   "cell_type": "code",
   "execution_count": 7,
   "metadata": {},
   "outputs": [
    {
     "data": {
      "text/plain": [
       "3"
      ]
     },
     "execution_count": 7,
     "metadata": {},
     "output_type": "execute_result"
    }
   ],
   "source": [
    "grid = [[3,2],[0,1]]\n",
    "sol = Solution()\n",
    "sol.swimInWater(grid)"
   ]
  }
 ],
 "metadata": {
  "kernelspec": {
   "display_name": "dsa-venv",
   "language": "python",
   "name": "python3"
  },
  "language_info": {
   "codemirror_mode": {
    "name": "ipython",
    "version": 3
   },
   "file_extension": ".py",
   "mimetype": "text/x-python",
   "name": "python",
   "nbconvert_exporter": "python",
   "pygments_lexer": "ipython3",
   "version": "3.11.3"
  }
 },
 "nbformat": 4,
 "nbformat_minor": 2
}
