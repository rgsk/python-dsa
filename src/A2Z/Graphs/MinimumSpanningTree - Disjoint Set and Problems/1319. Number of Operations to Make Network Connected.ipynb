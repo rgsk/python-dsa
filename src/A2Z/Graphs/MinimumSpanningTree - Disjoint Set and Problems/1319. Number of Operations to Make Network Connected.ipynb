{
 "cells": [
  {
   "cell_type": "code",
   "execution_count": 20,
   "metadata": {},
   "outputs": [],
   "source": [
    "from typing import List\n",
    "\n",
    "\n",
    "class DisjointSet:\n",
    "    def __init__(self, n):\n",
    "        # Initialize the disjoint set with n elements.\n",
    "        self.parent = list(range(n))\n",
    "        self.rank = [0] * n\n",
    "        self.size = [1] * n\n",
    "\n",
    "    def findParent(self, node):\n",
    "        # Find the representative (root) of the set to which the node belongs.\n",
    "        if self.parent[node] == node:\n",
    "            return node\n",
    "        # Path compression: Update the parent of the node to the representative.\n",
    "        self.parent[node] = self.findParent(self.parent[node])\n",
    "        return self.parent[node]\n",
    "\n",
    "\n",
    "\n",
    "    # works\n",
    "    def unionBySize(self, node1, node2):\n",
    "        root1 = self.findParent(node1)\n",
    "        root2 = self.findParent(node2)\n",
    "        if root1 != root2:\n",
    "            if self.size[root1] == self.size[root2]:\n",
    "                self.parent[root2] = root1\n",
    "                self.size[root1] += self.size[root2]\n",
    "            elif self.rank[root1] > self.rank[root2]:\n",
    "                self.parent[root2] = root1\n",
    "            else:\n",
    "                self.parent[root1] = root2\n",
    "\n",
    "\n",
    "def numberOfConnectedComponents(V, adj):\n",
    "    # code here\n",
    "    visited = [False for _ in range(V)]\n",
    "    def dfs(i):\n",
    "        visited[i] = True\n",
    "        for j in adj[i]:\n",
    "            if not visited[j]:\n",
    "                dfs(j)\n",
    "    count = 0\n",
    "    for i in range(V):\n",
    "        if not visited[i]:\n",
    "            dfs(i)\n",
    "            count += 1\n",
    "    return count\n",
    "\n",
    "\n",
    "def getAdjListFromEdges(edges, V):\n",
    "    adjList = [[] for _ in range(V)]\n",
    "    for edge in edges:\n",
    "        adjList[edge[0]].append(edge[1])\n",
    "        adjList[edge[1]].append(edge[0])\n",
    "    return adjList\n",
    "\n",
    "class Solution:\n",
    "    def makeConnected(self, n: int, connections: List[List[int]]) -> int:\n",
    "        ds = DisjointSet(n)\n",
    "        extraEdges = 0\n",
    "        for u, v in connections:\n",
    "            if ds.findParent(u) == ds.findParent(v):\n",
    "                extraEdges += 1\n",
    "            else:\n",
    "                ds.unionBySize(u, v)\n",
    "\n",
    "        adj = getAdjListFromEdges(connections, n)\n",
    "\n",
    "        nC = numberOfConnectedComponents(n, adj)\n",
    "\n",
    "        requiredEdges = nC - 1\n",
    "        \n",
    "        if extraEdges >= requiredEdges:\n",
    "            return requiredEdges\n",
    "        else:\n",
    "            return -1\n"
   ]
  },
  {
   "cell_type": "code",
   "execution_count": 21,
   "metadata": {},
   "outputs": [],
   "source": [
    "from typing import List\n",
    "\n",
    "\n",
    "class DisjointSet:\n",
    "    def __init__(self, n):\n",
    "        # Initialize the disjoint set with n elements.\n",
    "        self.parent = list(range(n))\n",
    "        self.rank = [0] * n\n",
    "        self.size = [1] * n\n",
    "\n",
    "    def findParent(self, node):\n",
    "        # Find the representative (root) of the set to which the node belongs.\n",
    "        if self.parent[node] == node:\n",
    "            return node\n",
    "        # Path compression: Update the parent of the node to the representative.\n",
    "        self.parent[node] = self.findParent(self.parent[node])\n",
    "        return self.parent[node]\n",
    "\n",
    "\n",
    "\n",
    "    # works\n",
    "    def unionBySize(self, node1, node2):\n",
    "        root1 = self.findParent(node1)\n",
    "        root2 = self.findParent(node2)\n",
    "        if root1 != root2:\n",
    "            if self.size[root1] == self.size[root2]:\n",
    "                self.parent[root2] = root1\n",
    "                self.size[root1] += self.size[root2]\n",
    "            elif self.rank[root1] > self.rank[root2]:\n",
    "                self.parent[root2] = root1\n",
    "            else:\n",
    "                self.parent[root1] = root2\n",
    "\n",
    "# more efficient \n",
    "# here we are calculating numberOfConnectedComponents from disjoint set itself\n",
    "\n",
    "class Solution:\n",
    "    def makeConnected(self, n: int, connections: List[List[int]]) -> int:\n",
    "        ds = DisjointSet(n)\n",
    "        extraEdges = 0\n",
    "        for u, v in connections:\n",
    "            if ds.findParent(u) == ds.findParent(v):\n",
    "                extraEdges += 1\n",
    "            else:\n",
    "                ds.unionBySize(u, v)\n",
    "\n",
    "        # here we \n",
    "        nC = 0\n",
    "        for node in range(n):\n",
    "            if ds.findParent(node) == node:\n",
    "                nC += 1\n",
    "\n",
    "\n",
    "        requiredEdges = nC - 1\n",
    "        \n",
    "        if extraEdges >= requiredEdges:\n",
    "            return requiredEdges\n",
    "        else:\n",
    "            return -1\n"
   ]
  },
  {
   "cell_type": "code",
   "execution_count": 22,
   "metadata": {},
   "outputs": [
    {
     "data": {
      "text/plain": [
       "1"
      ]
     },
     "execution_count": 22,
     "metadata": {},
     "output_type": "execute_result"
    }
   ],
   "source": [
    "n = 4\n",
    "connections = [[0,1],[0,2],[1,2]]\n",
    "sol = Solution()\n",
    "sol.makeConnected(n, connections)"
   ]
  },
  {
   "cell_type": "code",
   "execution_count": 23,
   "metadata": {},
   "outputs": [
    {
     "data": {
      "text/plain": [
       "2"
      ]
     },
     "execution_count": 23,
     "metadata": {},
     "output_type": "execute_result"
    }
   ],
   "source": [
    "n = 6\n",
    "connections = [[0,1],[0,2],[0,3],[1,2],[1,3]]\n",
    "sol = Solution()\n",
    "sol.makeConnected(n, connections)"
   ]
  },
  {
   "cell_type": "code",
   "execution_count": 24,
   "metadata": {},
   "outputs": [
    {
     "data": {
      "text/plain": [
       "-1"
      ]
     },
     "execution_count": 24,
     "metadata": {},
     "output_type": "execute_result"
    }
   ],
   "source": [
    "n = 6\n",
    "connections = [[0,1],[0,2],[0,3],[1,2]]\n",
    "sol = Solution()\n",
    "sol.makeConnected(n, connections)"
   ]
  }
 ],
 "metadata": {
  "kernelspec": {
   "display_name": "dsa-venv",
   "language": "python",
   "name": "python3"
  },
  "language_info": {
   "codemirror_mode": {
    "name": "ipython",
    "version": 3
   },
   "file_extension": ".py",
   "mimetype": "text/x-python",
   "name": "python",
   "nbconvert_exporter": "python",
   "pygments_lexer": "ipython3",
   "version": "3.11.3"
  }
 },
 "nbformat": 4,
 "nbformat_minor": 2
}
