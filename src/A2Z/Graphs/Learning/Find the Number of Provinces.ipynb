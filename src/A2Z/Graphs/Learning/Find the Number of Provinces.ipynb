{
 "cells": [
  {
   "cell_type": "code",
   "execution_count": 6,
   "metadata": {},
   "outputs": [],
   "source": [
    "# https://www.codingninjas.com/studio/problems/find-the-number-of-states_1377943?utm_source=striver&utm_medium=website&utm_campaign=a_zcoursetuf"
   ]
  },
  {
   "cell_type": "code",
   "execution_count": 7,
   "metadata": {},
   "outputs": [],
   "source": [
    "from typing import List\n",
    "\n",
    "def findNumOfProvinces(roads: List[List[int]], n: int) -> int:\n",
    "    # Write your code here\n",
    "    visited = [False for _ in range(n)]\n",
    "    def dfs(i):\n",
    "        visited[i] = True\n",
    "        for j in range(n):\n",
    "            if roads[i][j]:\n",
    "                if not visited[j]:\n",
    "                    dfs(j)\n",
    "    count = 0\n",
    "    for i in range(n):\n",
    "        if not visited[i]:\n",
    "            dfs(i)\n",
    "            count += 1\n",
    "    return count\n"
   ]
  },
  {
   "cell_type": "code",
   "execution_count": 8,
   "metadata": {},
   "outputs": [
    {
     "data": {
      "text/plain": [
       "3"
      ]
     },
     "execution_count": 8,
     "metadata": {},
     "output_type": "execute_result"
    }
   ],
   "source": [
    "n = 3\n",
    "roads = [[1, 0, 0],\n",
    "         [0, 1, 0],\n",
    "         [0, 0, 1]]\n",
    "\n",
    "findNumOfProvinces(roads, n)"
   ]
  },
  {
   "cell_type": "code",
   "execution_count": 9,
   "metadata": {},
   "outputs": [
    {
     "data": {
      "text/plain": [
       "2"
      ]
     },
     "execution_count": 9,
     "metadata": {},
     "output_type": "execute_result"
    }
   ],
   "source": [
    "n = 4\n",
    "roads = [[1, 1, 0, 0],\n",
    "         [1, 1, 0, 0],\n",
    "         [0, 0, 1, 1],\n",
    "         [0, 0, 1, 1]]\n",
    "\n",
    "findNumOfProvinces(roads, n)"
   ]
  }
 ],
 "metadata": {
  "kernelspec": {
   "display_name": "dsa-venv",
   "language": "python",
   "name": "python3"
  },
  "language_info": {
   "codemirror_mode": {
    "name": "ipython",
    "version": 3
   },
   "file_extension": ".py",
   "mimetype": "text/x-python",
   "name": "python",
   "nbconvert_exporter": "python",
   "pygments_lexer": "ipython3",
   "version": "3.11.3"
  },
  "orig_nbformat": 4
 },
 "nbformat": 4,
 "nbformat_minor": 2
}
