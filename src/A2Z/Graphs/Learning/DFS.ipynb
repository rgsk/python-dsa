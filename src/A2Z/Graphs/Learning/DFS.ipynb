{
 "cells": [
  {
   "cell_type": "code",
   "execution_count": 18,
   "metadata": {},
   "outputs": [],
   "source": [
    "# https://practice.geeksforgeeks.org/problems/depth-first-traversal-for-a-graph/1"
   ]
  },
  {
   "cell_type": "code",
   "execution_count": 19,
   "metadata": {},
   "outputs": [],
   "source": [
    "class Solution:\n",
    "    \n",
    "    #Function to return a list containing the DFS traversal of the graph.\n",
    "    def dfsOfGraph(self, V, adj):\n",
    "        # code here\n",
    "        visited = [False for _ in range(V)]\n",
    "        ans = []\n",
    "        def dfs(i):\n",
    "            visited[i] = True\n",
    "            ans.append(i)\n",
    "            for j in adj[i]:\n",
    "                if not visited[j]:\n",
    "                    dfs(j)\n",
    "        for i in range(V):\n",
    "            if not visited[i]:\n",
    "                dfs(i)\n",
    "        return ans"
   ]
  },
  {
   "cell_type": "code",
   "execution_count": 20,
   "metadata": {},
   "outputs": [
    {
     "data": {
      "text/plain": [
       "[0, 2, 4, 3, 1]"
      ]
     },
     "execution_count": 20,
     "metadata": {},
     "output_type": "execute_result"
    }
   ],
   "source": [
    "'''\n",
    "V = 5, E = 4\n",
    "adj = {{1,2,3},{},{4},{},{}}\n",
    "'''\n",
    "V = 5 \n",
    "adj = [[2,3,1] , [0], [0,4], [0], [2]]\n",
    "sol = Solution()\n",
    "sol.dfsOfGraph(V, adj)"
   ]
  }
 ],
 "metadata": {
  "kernelspec": {
   "display_name": "dsa-venv",
   "language": "python",
   "name": "python3"
  },
  "language_info": {
   "codemirror_mode": {
    "name": "ipython",
    "version": 3
   },
   "file_extension": ".py",
   "mimetype": "text/x-python",
   "name": "python",
   "nbconvert_exporter": "python",
   "pygments_lexer": "ipython3",
   "version": "3.11.3"
  },
  "orig_nbformat": 4
 },
 "nbformat": 4,
 "nbformat_minor": 2
}
