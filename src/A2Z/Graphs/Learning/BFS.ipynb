{
 "cells": [
  {
   "cell_type": "code",
   "execution_count": null,
   "metadata": {},
   "outputs": [],
   "source": [
    "# https://practice.geeksforgeeks.org/problems/bfs-traversal-of-graph/1"
   ]
  },
  {
   "cell_type": "code",
   "execution_count": 1,
   "metadata": {},
   "outputs": [],
   "source": [
    "from collections import deque\n",
    "from typing import List\n",
    "class Solution:\n",
    "    #Function to return Breadth First Traversal of given graph.\n",
    "    def bfsOfGraph(self, V: int, adj: List[List[int]]) -> List[int]:\n",
    "        # code here\n",
    "        visited = [False for _ in range(V)]\n",
    "        q = deque()\n",
    "        q.append(0)\n",
    "        visited[0] = True\n",
    "        ans = []\n",
    "        while q:\n",
    "            node = q.popleft()\n",
    "            ans.append(node)\n",
    "            for child_node in adj[node]:\n",
    "                if not visited[child_node]:\n",
    "                    q.append(child_node)\n",
    "                    visited[child_node] = True\n",
    "\n",
    "        return ans"
   ]
  },
  {
   "cell_type": "code",
   "execution_count": 2,
   "metadata": {},
   "outputs": [
    {
     "data": {
      "text/plain": [
       "[0, 1, 2, 3, 4]"
      ]
     },
     "execution_count": 2,
     "metadata": {},
     "output_type": "execute_result"
    }
   ],
   "source": [
    "'''\n",
    "V = 5, E = 4\n",
    "adj = {{1,2,3},{},{4},{},{}}\n",
    "'''\n",
    "V = 5\n",
    "adj = [[1, 2, 3], [], [4], [], []]\n",
    "sol = Solution()\n",
    "sol.bfsOfGraph(V, adj)"
   ]
  }
 ],
 "metadata": {
  "kernelspec": {
   "display_name": "dsa-venv",
   "language": "python",
   "name": "python3"
  },
  "language_info": {
   "codemirror_mode": {
    "name": "ipython",
    "version": 3
   },
   "file_extension": ".py",
   "mimetype": "text/x-python",
   "name": "python",
   "nbconvert_exporter": "python",
   "pygments_lexer": "ipython3",
   "version": "3.11.3"
  },
  "orig_nbformat": 4
 },
 "nbformat": 4,
 "nbformat_minor": 2
}
