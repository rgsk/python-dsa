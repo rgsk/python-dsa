{
 "cells": [
  {
   "cell_type": "code",
   "execution_count": null,
   "metadata": {},
   "outputs": [],
   "source": [
    "# https://www.codingninjas.com/studio/problems/single-source-shortest-path_8416371?utm_source=striver&utm_medium=website&utm_campaign=a_zcoursetuf&leftPanelTab=1"
   ]
  },
  {
   "cell_type": "code",
   "execution_count": 15,
   "metadata": {},
   "outputs": [],
   "source": [
    "from collections import deque\n",
    "from typing import List\n",
    "\n",
    "\n",
    "def getAdjListFromEdges(edges, V):\n",
    "    adjList = [[] for _ in range(V)]\n",
    "    for edge in edges:\n",
    "        adjList[edge[0]].append(edge[1])\n",
    "        adjList[edge[1]].append(edge[0])\n",
    "    return adjList\n",
    "\n",
    "\n",
    "\n",
    "def shortestPath(n:int, edges: List[List[int]], src:int ) -> List[int]:\n",
    "    # Write your code here\n",
    "    q = deque()\n",
    "    q.append((src, 0))\n",
    "    adj = getAdjListFromEdges(edges, n)\n",
    "    distances = [-1] * n\n",
    "    distances[src] = 0\n",
    "    while q:\n",
    "        node, dist = q.popleft()\n",
    "        for child in adj[node]:\n",
    "            if distances[child] == -1:\n",
    "                distances[child] = dist + 1\n",
    "                q.append((child, dist + 1))\n",
    "    return distances                 "
   ]
  },
  {
   "cell_type": "code",
   "execution_count": 16,
   "metadata": {},
   "outputs": [
    {
     "data": {
      "text/plain": [
       "[0, 1, 2, 1]"
      ]
     },
     "execution_count": 16,
     "metadata": {},
     "output_type": "execute_result"
    }
   ],
   "source": [
    "N=4\n",
    "M=3\n",
    "edges=[(0, 1), (0, 3), (2, 3)]\n",
    "src=0\n",
    "shortestPath(N, edges, src)"
   ]
  }
 ],
 "metadata": {
  "kernelspec": {
   "display_name": "dsa-venv",
   "language": "python",
   "name": "python3"
  },
  "language_info": {
   "codemirror_mode": {
    "name": "ipython",
    "version": 3
   },
   "file_extension": ".py",
   "mimetype": "text/x-python",
   "name": "python",
   "nbconvert_exporter": "python",
   "pygments_lexer": "ipython3",
   "version": "3.11.3"
  }
 },
 "nbformat": 4,
 "nbformat_minor": 2
}
