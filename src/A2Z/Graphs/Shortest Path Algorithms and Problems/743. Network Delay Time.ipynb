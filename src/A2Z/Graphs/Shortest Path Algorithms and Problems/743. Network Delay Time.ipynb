{
 "cells": [
  {
   "cell_type": "code",
   "execution_count": 7,
   "metadata": {},
   "outputs": [],
   "source": [
    "\n",
    "from collections import deque\n",
    "import math\n",
    "from typing import List\n",
    "\n",
    "\n",
    "def getAdjListFromEdges(edges, V):\n",
    "    adjList = [[] for _ in range(V)]\n",
    "    for edge in edges:\n",
    "        adjList[edge[0]].append((edge[1], edge[2]))\n",
    "    return adjList\n",
    "\n",
    "\n",
    "def dijkstra(edges: List[List[int]], vertices: int, source: int):\n",
    "    # Write your code here.\n",
    "    # edge' contains {u, v, distance} vectors.\n",
    "    adj = getAdjListFromEdges(edges, vertices)\n",
    "    distances = [math.inf] * vertices\n",
    "    distances[source] = 0\n",
    "    q = deque()\n",
    "    q.append((source, 0))\n",
    "    while q:\n",
    "        node, dist = q.popleft()\n",
    "        for child, curDist in adj[node]:\n",
    "            if dist + curDist < distances[child]:\n",
    "                distances[child] = dist + curDist\n",
    "                q.append((child, dist + curDist))\n",
    "    return distances\n",
    "\n",
    "\n",
    "class Solution:\n",
    "    def networkDelayTime(self, times: List[List[int]], n: int, k: int) -> int:\n",
    "        distances = dijkstra(times, n + 1, k)\n",
    "        maxRes = max(distances[1:])\n",
    "        if maxRes == math.inf:\n",
    "            return -1\n",
    "        return maxRes"
   ]
  },
  {
   "cell_type": "code",
   "execution_count": 8,
   "metadata": {},
   "outputs": [
    {
     "data": {
      "text/plain": [
       "2"
      ]
     },
     "execution_count": 8,
     "metadata": {},
     "output_type": "execute_result"
    }
   ],
   "source": [
    "times = [[2,1,1],[2,3,1],[3,4,1]]\n",
    "n = 4\n",
    "k = 2\n",
    "sol = Solution()\n",
    "sol.networkDelayTime(times, n, k)"
   ]
  }
 ],
 "metadata": {
  "kernelspec": {
   "display_name": "dsa-venv",
   "language": "python",
   "name": "python3"
  },
  "language_info": {
   "codemirror_mode": {
    "name": "ipython",
    "version": 3
   },
   "file_extension": ".py",
   "mimetype": "text/x-python",
   "name": "python",
   "nbconvert_exporter": "python",
   "pygments_lexer": "ipython3",
   "version": "3.11.3"
  }
 },
 "nbformat": 4,
 "nbformat_minor": 2
}
