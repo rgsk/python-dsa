{
 "cells": [
  {
   "cell_type": "code",
   "execution_count": 38,
   "metadata": {},
   "outputs": [],
   "source": [
    "from collections import deque\n",
    "from typing import List\n",
    "\n",
    "\n",
    "class Solution:\n",
    "    def shortestPathBinaryMatrix(self, grid: List[List[int]]) -> int:\n",
    "        if grid[0][0] == 1:\n",
    "            return -1\n",
    "        q = deque()\n",
    "        q.append((0, 0))\n",
    "        n = len(grid)\n",
    "        dist = 1\n",
    "        if n == 1:\n",
    "            return 1\n",
    "        while q:\n",
    "            for _ in range(len(q)):\n",
    "                i, j = q.popleft()\n",
    "                for r, c in [(inc_i, inc_j) for inc_i in range(i-1, i + 2) for inc_j in range(j-1, j+2)]:\n",
    "                    if r >= 0 and c >= 0 and r < n and c < n and grid[r][c] == 0:\n",
    "                        if r == n - 1 and c == n - 1:\n",
    "                            return dist + 1\n",
    "                        q.append((r, c))\n",
    "                        grid[r][c] = 1\n",
    "            dist += 1\n",
    "        return -1"
   ]
  },
  {
   "cell_type": "code",
   "execution_count": 39,
   "metadata": {},
   "outputs": [
    {
     "data": {
      "text/plain": [
       "2"
      ]
     },
     "execution_count": 39,
     "metadata": {},
     "output_type": "execute_result"
    }
   ],
   "source": [
    "grid = [[0,1],[1,0]]\n",
    "sol = Solution()\n",
    "sol.shortestPathBinaryMatrix(grid)"
   ]
  },
  {
   "cell_type": "code",
   "execution_count": 40,
   "metadata": {},
   "outputs": [
    {
     "data": {
      "text/plain": [
       "4"
      ]
     },
     "execution_count": 40,
     "metadata": {},
     "output_type": "execute_result"
    }
   ],
   "source": [
    "grid = [[0,0,0],[1,1,0],[1,1,0]]\n",
    "sol = Solution()\n",
    "sol.shortestPathBinaryMatrix(grid)"
   ]
  },
  {
   "cell_type": "code",
   "execution_count": 41,
   "metadata": {},
   "outputs": [
    {
     "data": {
      "text/plain": [
       "-1"
      ]
     },
     "execution_count": 41,
     "metadata": {},
     "output_type": "execute_result"
    }
   ],
   "source": [
    "grid = [[1,0,0],[1,1,0],[1,1,0]]\n",
    "sol = Solution()\n",
    "sol.shortestPathBinaryMatrix(grid)"
   ]
  }
 ],
 "metadata": {
  "kernelspec": {
   "display_name": "dsa-venv",
   "language": "python",
   "name": "python3"
  },
  "language_info": {
   "codemirror_mode": {
    "name": "ipython",
    "version": 3
   },
   "file_extension": ".py",
   "mimetype": "text/x-python",
   "name": "python",
   "nbconvert_exporter": "python",
   "pygments_lexer": "ipython3",
   "version": "3.11.3"
  }
 },
 "nbformat": 4,
 "nbformat_minor": 2
}
