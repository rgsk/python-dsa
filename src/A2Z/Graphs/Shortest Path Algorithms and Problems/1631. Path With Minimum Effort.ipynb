{
 "cells": [
  {
   "cell_type": "code",
   "execution_count": 24,
   "metadata": {},
   "outputs": [],
   "source": [
    "from collections import deque\n",
    "import heapq\n",
    "import math\n",
    "from typing import List\n",
    "\n",
    "\n",
    "class Solution:\n",
    "    def minimumEffortPath(self, heights: List[List[int]]) -> int:\n",
    "        rows = len(heights)\n",
    "        cols = len(heights[0])\n",
    "        distances = [[math.inf] * cols for _ in range(rows)]\n",
    "        distances[0][0] = 0\n",
    "        heap = [(0, 0, 0)]\n",
    "        heapq.heapify(heap)\n",
    "        while heap:\n",
    "            dist, i, j = heapq.heappop(heap)\n",
    "            if i == rows - 1 and j == cols - 1:\n",
    "                return dist\n",
    "            for r, c in [(i-1,j), (i+1, j), (i, j-1), (i, j+1)]:\n",
    "                if r >= 0 and c >= 0 and r < rows and c < cols:\n",
    "                    newDistance = max(dist, abs(heights[i][j] - heights[r][c]))\n",
    "                    if newDistance < distances[r][c]:\n",
    "                        heapq.heappush(heap, (newDistance, r, c))\n",
    "                        distances[r][c] = newDistance\n",
    "        return -1"
   ]
  },
  {
   "cell_type": "code",
   "execution_count": 25,
   "metadata": {},
   "outputs": [
    {
     "data": {
      "text/plain": [
       "2"
      ]
     },
     "execution_count": 25,
     "metadata": {},
     "output_type": "execute_result"
    }
   ],
   "source": [
    "heights = [[1,2,2],[3,8,2],[5,3,5]]\n",
    "sol = Solution()\n",
    "sol.minimumEffortPath(heights)"
   ]
  },
  {
   "cell_type": "code",
   "execution_count": 26,
   "metadata": {},
   "outputs": [
    {
     "data": {
      "text/plain": [
       "1"
      ]
     },
     "execution_count": 26,
     "metadata": {},
     "output_type": "execute_result"
    }
   ],
   "source": [
    "heights = [[1,2,3],[3,8,4],[5,3,5]]\n",
    "sol = Solution()\n",
    "sol.minimumEffortPath(heights)"
   ]
  },
  {
   "cell_type": "code",
   "execution_count": 27,
   "metadata": {},
   "outputs": [
    {
     "data": {
      "text/plain": [
       "0"
      ]
     },
     "execution_count": 27,
     "metadata": {},
     "output_type": "execute_result"
    }
   ],
   "source": [
    "heights = [[1,2,1,1,1],[1,2,1,2,1],[1,2,1,2,1],[1,2,1,2,1],[1,1,1,2,1]]\n",
    "sol = Solution()\n",
    "sol.minimumEffortPath(heights)"
   ]
  }
 ],
 "metadata": {
  "kernelspec": {
   "display_name": "dsa-venv",
   "language": "python",
   "name": "python3"
  },
  "language_info": {
   "codemirror_mode": {
    "name": "ipython",
    "version": 3
   },
   "file_extension": ".py",
   "mimetype": "text/x-python",
   "name": "python",
   "nbconvert_exporter": "python",
   "pygments_lexer": "ipython3",
   "version": "3.11.3"
  }
 },
 "nbformat": 4,
 "nbformat_minor": 2
}
