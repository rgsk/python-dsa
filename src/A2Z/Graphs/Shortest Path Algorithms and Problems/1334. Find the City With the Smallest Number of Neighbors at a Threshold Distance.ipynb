{
 "cells": [
  {
   "cell_type": "code",
   "execution_count": null,
   "metadata": {},
   "outputs": [],
   "source": [
    "# https://leetcode.com/problems/find-the-city-with-the-smallest-number-of-neighbors-at-a-threshold-distance/description/"
   ]
  },
  {
   "cell_type": "code",
   "execution_count": 19,
   "metadata": {},
   "outputs": [],
   "source": [
    "import math\n",
    "from typing import List\n",
    "\n",
    "\n",
    "def floyd_warshall(matrix):\n",
    "    \t#Code here\n",
    "    n = len(matrix)\n",
    "   \n",
    "    for k in range(n):\n",
    "        for i in range(n):\n",
    "            for j in range(n):\n",
    "                matrix[i][j] = min(matrix[i][j], matrix[i][k] + matrix[k][j])\n",
    "    \n",
    "class Solution:\n",
    "    def findTheCity(self, n: int, edges: List[List[int]], distanceThreshold: int) -> int:\n",
    "        matrix = [[math.inf for _ in range(n)] for _ in range(n)]\n",
    "        for u in range(n):\n",
    "            matrix[u][u] = 0\n",
    "        for u, v, wt in edges:\n",
    "            matrix[u][v] = wt\n",
    "            matrix[v][u] = wt\n",
    "        floyd_warshall(matrix)\n",
    "\n",
    "        approachable = [0 for _ in range(n)]\n",
    "\n",
    "        for u in range(n):\n",
    "            for v in range(n):\n",
    "                if matrix[u][v] <= distanceThreshold:\n",
    "                    approachable[u] += 1\n",
    "        \n",
    "        ans = -1\n",
    "\n",
    "        for u in range(n):\n",
    "            if ans == -1 or approachable[u] <= approachable[ans]:\n",
    "                ans = u\n",
    "\n",
    "        return ans\n"
   ]
  },
  {
   "cell_type": "code",
   "execution_count": 20,
   "metadata": {},
   "outputs": [
    {
     "data": {
      "text/plain": [
       "3"
      ]
     },
     "execution_count": 20,
     "metadata": {},
     "output_type": "execute_result"
    }
   ],
   "source": [
    "n = 4\n",
    "edges = [[0,1,3],[1,2,1],[1,3,4],[2,3,1]]\n",
    "distanceThreshold = 4\n",
    "sol = Solution()\n",
    "sol.findTheCity(n, edges, distanceThreshold)"
   ]
  },
  {
   "cell_type": "code",
   "execution_count": 21,
   "metadata": {},
   "outputs": [
    {
     "data": {
      "text/plain": [
       "0"
      ]
     },
     "execution_count": 21,
     "metadata": {},
     "output_type": "execute_result"
    }
   ],
   "source": [
    "n = 5\n",
    "edges = [[0,1,2],[0,4,8],[1,2,3],[1,4,2],[2,3,1],[3,4,1]]\n",
    "distanceThreshold = 2\n",
    "sol = Solution()\n",
    "sol.findTheCity(n, edges, distanceThreshold)"
   ]
  }
 ],
 "metadata": {
  "kernelspec": {
   "display_name": "dsa-venv",
   "language": "python",
   "name": "python3"
  },
  "language_info": {
   "codemirror_mode": {
    "name": "ipython",
    "version": 3
   },
   "file_extension": ".py",
   "mimetype": "text/x-python",
   "name": "python",
   "nbconvert_exporter": "python",
   "pygments_lexer": "ipython3",
   "version": "3.11.3"
  }
 },
 "nbformat": 4,
 "nbformat_minor": 2
}
