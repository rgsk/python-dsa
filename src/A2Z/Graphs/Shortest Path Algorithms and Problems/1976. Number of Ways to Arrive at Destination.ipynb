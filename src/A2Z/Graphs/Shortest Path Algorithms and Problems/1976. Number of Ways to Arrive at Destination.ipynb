{
 "cells": [
  {
   "cell_type": "code",
   "execution_count": 37,
   "metadata": {},
   "outputs": [],
   "source": [
    "import heapq\n",
    "import math\n",
    "from typing import List\n",
    "\n",
    "mod = 10 ** 9 + 7\n",
    "\n",
    "def getAdjListFromEdges(edges, V):\n",
    "    adjList = [[] for _ in range(V)]\n",
    "    for edge in edges:\n",
    "        adjList[edge[0]].append((edge[1], edge[2]))\n",
    "        adjList[edge[1]].append((edge[0], edge[2]))\n",
    "    return adjList\n",
    "\n",
    "\n",
    "def dijkstra(edges: List[List[int]], vertices: int, source: int, destination: int):\n",
    "    # Write your code here.\n",
    "    # edge' contains {u, v, distance} vectors.\n",
    "    adj = getAdjListFromEdges(edges, vertices)\n",
    "    distances = [math.inf] * vertices\n",
    "    distances[source] = 0\n",
    "    count = [0] * vertices\n",
    "    count[source] = 1\n",
    "    heap = [(0, source)]\n",
    "    heapq.heapify(heap)\n",
    "    while heap:\n",
    "        dist, node = heapq.heappop(heap)\n",
    "        for child, curDist in adj[node]:\n",
    "            if dist + curDist < distances[child]:\n",
    "                distances[child] = dist + curDist\n",
    "                heapq.heappush(heap, (dist + curDist, child))\n",
    "                count[child] = count[node]\n",
    "            elif dist + curDist == distances[child]:\n",
    "                count[child] += count[node]\n",
    "    return count[destination] % mod\n",
    "\n",
    "class Solution:\n",
    "    def countPaths(self, n: int, roads: List[List[int]]) -> int:\n",
    "        return dijkstra(roads, n, 0, n-1)"
   ]
  },
  {
   "cell_type": "code",
   "execution_count": 38,
   "metadata": {},
   "outputs": [
    {
     "data": {
      "text/plain": [
       "4"
      ]
     },
     "execution_count": 38,
     "metadata": {},
     "output_type": "execute_result"
    }
   ],
   "source": [
    "n = 7\n",
    "roads = [[0,6,7],[0,1,2],[1,2,3],[1,3,3],[6,3,3],[3,5,1],[6,5,1],[2,5,1],[0,4,5],[4,6,2]]\n",
    "sol = Solution()\n",
    "sol.countPaths(n, roads)"
   ]
  },
  {
   "cell_type": "code",
   "execution_count": 39,
   "metadata": {},
   "outputs": [
    {
     "data": {
      "text/plain": [
       "1"
      ]
     },
     "execution_count": 39,
     "metadata": {},
     "output_type": "execute_result"
    }
   ],
   "source": [
    "n = 2\n",
    "roads = [[1,0,10]]\n",
    "sol = Solution()\n",
    "sol.countPaths(n, roads)"
   ]
  }
 ],
 "metadata": {
  "kernelspec": {
   "display_name": "dsa-venv",
   "language": "python",
   "name": "python3"
  },
  "language_info": {
   "codemirror_mode": {
    "name": "ipython",
    "version": 3
   },
   "file_extension": ".py",
   "mimetype": "text/x-python",
   "name": "python",
   "nbconvert_exporter": "python",
   "pygments_lexer": "ipython3",
   "version": "3.11.3"
  }
 },
 "nbformat": 4,
 "nbformat_minor": 2
}
