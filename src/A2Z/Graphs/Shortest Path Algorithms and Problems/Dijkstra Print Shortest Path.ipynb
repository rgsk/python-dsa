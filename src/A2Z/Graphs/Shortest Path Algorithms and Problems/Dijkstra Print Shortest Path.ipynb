{
 "cells": [
  {
   "cell_type": "code",
   "execution_count": 18,
   "metadata": {},
   "outputs": [],
   "source": [
    "from collections import deque\n",
    "import math\n",
    "from typing import List\n",
    "\n",
    "def getAdjListFromEdges(edges, V):\n",
    "    adjList = [[] for _ in range(V)]\n",
    "    for edge in edges:\n",
    "        adjList[edge[0]].append((edge[1], edge[2]))\n",
    "        adjList[edge[1]].append((edge[0], edge[2]))\n",
    "    return adjList\n",
    "\n",
    "\n",
    "def dijkstra(edge: List[List[int]], vertices: int, edges: int, source: int, destination: int):\n",
    "    # Write your code here.\n",
    "    # edge' contains {u, v, distance} vectors.\n",
    "    adj = getAdjListFromEdges(edge, vertices)\n",
    "    distances = [math.inf] * vertices\n",
    "    parent = [-1] * vertices\n",
    "    parent[source] = source\n",
    "    distances[source] = 0\n",
    "    q = deque()\n",
    "    q.append((source, 0))\n",
    "    while q:\n",
    "        node, dist = q.popleft()\n",
    "        for child, curDist in adj[node]:\n",
    "            if dist + curDist < distances[child]:\n",
    "                distances[child] = dist + curDist\n",
    "                q.append((child, dist + curDist))\n",
    "                parent[child] = node\n",
    "    path = []\n",
    "    temp = destination\n",
    "    while temp != source:\n",
    "        path.append(temp)\n",
    "        temp = parent[temp]\n",
    "    path.append(source)\n",
    "    return list(reversed(path))"
   ]
  },
  {
   "cell_type": "code",
   "execution_count": 19,
   "metadata": {},
   "outputs": [
    {
     "data": {
      "text/plain": [
       "[0, 2, 1, 4]"
      ]
     },
     "execution_count": 19,
     "metadata": {},
     "output_type": "execute_result"
    }
   ],
   "source": [
    "vertices = 5\n",
    "edges = 7\n",
    "source = 0\n",
    "destination = 4\n",
    "edge = [\n",
    "    [0, 1, 7],\n",
    "    [0, 2, 1],\n",
    "    [0, 3, 2],\n",
    "    [1, 2, 3],\n",
    "    [1, 3, 5],\n",
    "    [1, 4, 1],\n",
    "    [3, 4, 7],\n",
    "]\n",
    "dijkstra(edge, vertices, edges, source, destination)"
   ]
  }
 ],
 "metadata": {
  "kernelspec": {
   "display_name": "dsa-venv",
   "language": "python",
   "name": "python3"
  },
  "language_info": {
   "codemirror_mode": {
    "name": "ipython",
    "version": 3
   },
   "file_extension": ".py",
   "mimetype": "text/x-python",
   "name": "python",
   "nbconvert_exporter": "python",
   "pygments_lexer": "ipython3",
   "version": "3.11.3"
  }
 },
 "nbformat": 4,
 "nbformat_minor": 2
}
