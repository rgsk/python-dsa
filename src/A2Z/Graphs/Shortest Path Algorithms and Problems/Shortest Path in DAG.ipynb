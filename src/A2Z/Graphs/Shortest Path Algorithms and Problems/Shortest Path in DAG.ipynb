{
 "cells": [
  {
   "cell_type": "code",
   "execution_count": null,
   "metadata": {},
   "outputs": [],
   "source": [
    "# https://www.codingninjas.com/studio/problems/shortest-path-in-dag_8381897?utm_source=striver&utm_medium=website&utm_campaign=a_zcoursetuf&leftPanelTab=1"
   ]
  },
  {
   "cell_type": "code",
   "execution_count": 13,
   "metadata": {},
   "outputs": [],
   "source": [
    "from collections import deque\n",
    "from  typing import *\n",
    "\n",
    "def getAdjListFromEdges(edges, V):\n",
    "    adjList = [[] for _ in range(V)]\n",
    "    for edge in edges:\n",
    "        adjList[edge[0]].append((edge[1], edge[2]))\n",
    "    return adjList\n",
    "\n",
    "\n",
    "\n",
    "def shortestPathInDAG(n: int, m: int, edges: List[List[int]]) -> List[int]:\n",
    "    adj = getAdjListFromEdges(edges, n)\n",
    "    q = deque()\n",
    "    q.append((0, 0))\n",
    "    distances = [-1] * n\n",
    "    distances[0] = 0\n",
    "    while q:\n",
    "        node, distTillNow = q.popleft()\n",
    "        for child, extraDist in adj[node]:\n",
    "            if distances[child] == -1 or distTillNow + extraDist < distances[child]:\n",
    "                distances[child] = distTillNow + extraDist\n",
    "                q.append((child, distances[child]))\n",
    "    return distances"
   ]
  },
  {
   "cell_type": "code",
   "execution_count": 14,
   "metadata": {},
   "outputs": [
    {
     "data": {
      "text/plain": [
       "[0, 3, -1]"
      ]
     },
     "execution_count": 14,
     "metadata": {},
     "output_type": "execute_result"
    }
   ],
   "source": [
    "'''\n",
    "3 3\n",
    "2 0 4\n",
    "0 1 3\n",
    "2 1 2\n",
    "'''\n",
    "n = 3\n",
    "m = 3\n",
    "edges = [\n",
    "    [2, 0, 4],\n",
    "    [0, 1, 3],\n",
    "    [2, 1, 2],\n",
    "]\n",
    "shortestPathInDAG(n, m, edges)"
   ]
  },
  {
   "cell_type": "code",
   "execution_count": 15,
   "metadata": {},
   "outputs": [
    {
     "data": {
      "text/plain": [
       "[0, 2, 3, 4]"
      ]
     },
     "execution_count": 15,
     "metadata": {},
     "output_type": "execute_result"
    }
   ],
   "source": [
    "'''\n",
    "4 4\n",
    "2 1 5\n",
    "0 2 3\n",
    "0 1 2\n",
    "2 3 1\n",
    "'''\n",
    "n = 4\n",
    "m = 4\n",
    "edges = [\n",
    "    [2, 1, 5],\n",
    "    [0, 2, 3],\n",
    "    [0, 1, 2],\n",
    "    [2, 3, 1],\n",
    "]\n",
    "shortestPathInDAG(n, m, edges)"
   ]
  }
 ],
 "metadata": {
  "kernelspec": {
   "display_name": "dsa-venv",
   "language": "python",
   "name": "python3"
  },
  "language_info": {
   "codemirror_mode": {
    "name": "ipython",
    "version": 3
   },
   "file_extension": ".py",
   "mimetype": "text/x-python",
   "name": "python",
   "nbconvert_exporter": "python",
   "pygments_lexer": "ipython3",
   "version": "3.11.3"
  }
 },
 "nbformat": 4,
 "nbformat_minor": 2
}
