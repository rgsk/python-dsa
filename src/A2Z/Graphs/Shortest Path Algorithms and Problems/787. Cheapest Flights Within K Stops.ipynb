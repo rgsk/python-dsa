{
 "cells": [
  {
   "cell_type": "code",
   "execution_count": 17,
   "metadata": {},
   "outputs": [],
   "source": [
    "from collections import deque\n",
    "import math\n",
    "from typing import List\n",
    "\n",
    "\n",
    "def getAdjListFromEdges(edges, V):\n",
    "    adjList = [[] for _ in range(V)]\n",
    "    for edge in edges:\n",
    "        adjList[edge[0]].append((edge[1], edge[2]))\n",
    "    return adjList\n",
    "\n",
    "\n",
    "def dijkstra(edges: List[List[int]], vertices: int, source: int, destination: int, maxNodes: int):\n",
    "    # Write your code here.\n",
    "    # edge' contains {u, v, distance} vectors.\n",
    "    adj = getAdjListFromEdges(edges, vertices)\n",
    "    distances = [math.inf] * vertices\n",
    "    distances[source] = 0\n",
    "    q = deque()\n",
    "    q.append((source, 0, 1))\n",
    "    while q:\n",
    "        node, dist, totalNodes = q.popleft()\n",
    "        for child, curDist in adj[node]:\n",
    "            if dist + curDist < distances[child] and totalNodes + 1 <= maxNodes:\n",
    "                distances[child] = dist + curDist\n",
    "                q.append((child, dist + curDist, totalNodes + 1))\n",
    "    return distances[destination]      \n",
    "\n",
    "class Solution:\n",
    "    def findCheapestPrice(self, n: int, flights: List[List[int]], src: int, dst: int, k: int) -> int:\n",
    "        res = dijkstra(flights, n, src, dst, k + 2)\n",
    "        if res == math.inf:\n",
    "            return -1\n",
    "        return res"
   ]
  },
  {
   "cell_type": "code",
   "execution_count": 18,
   "metadata": {},
   "outputs": [
    {
     "data": {
      "text/plain": [
       "700"
      ]
     },
     "execution_count": 18,
     "metadata": {},
     "output_type": "execute_result"
    }
   ],
   "source": [
    "n = 4\n",
    "flights = [[0,1,100],[1,2,100],[2,0,100],[1,3,600],[2,3,200]]\n",
    "src = 0\n",
    "dst = 3\n",
    "k = 1\n",
    "sol = Solution()\n",
    "sol.findCheapestPrice(n, flights, src, dst, k)"
   ]
  },
  {
   "cell_type": "code",
   "execution_count": null,
   "metadata": {},
   "outputs": [],
   "source": []
  }
 ],
 "metadata": {
  "kernelspec": {
   "display_name": "dsa-venv",
   "language": "python",
   "name": "python3"
  },
  "language_info": {
   "codemirror_mode": {
    "name": "ipython",
    "version": 3
   },
   "file_extension": ".py",
   "mimetype": "text/x-python",
   "name": "python",
   "nbconvert_exporter": "python",
   "pygments_lexer": "ipython3",
   "version": "3.11.3"
  }
 },
 "nbformat": 4,
 "nbformat_minor": 2
}
