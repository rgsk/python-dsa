{
 "cells": [
  {
   "cell_type": "code",
   "execution_count": 8,
   "metadata": {},
   "outputs": [],
   "source": [
    "\n",
    "# https://practice.geeksforgeeks.org/problems/distance-from-the-source-bellman-ford-algorithm/1\n",
    "# https://youtu.be/0vVofAhAYjc"
   ]
  },
  {
   "cell_type": "markdown",
   "metadata": {},
   "source": [
    "<img src=\"./../../../../images/Screenshot 2023-10-23 at 4.25.11 PM.png\" width=\"500\" >\n",
    "<img src=\"./../../../../images/Screenshot 2023-10-23 at 4.26.04 PM.png\" width=\"500\" >"
   ]
  },
  {
   "cell_type": "markdown",
   "metadata": {},
   "source": [
    "<img src=\"./../../../../images/Screenshot 2024-05-30 at 12.28.24 PM.png\" width=\"500\" >"
   ]
  },
  {
   "cell_type": "code",
   "execution_count": 9,
   "metadata": {},
   "outputs": [],
   "source": [
    "class Solution:\n",
    "    # Function to construct and return cost of MST for a graph\n",
    "    # represented using adjacency matrix representation\n",
    "    '''\n",
    "    V: nodes in graph\n",
    "    edges: adjacency list for the graph\n",
    "    S: Source\n",
    "    '''\n",
    "    def bellman_ford(self, V, edges, S):\n",
    "        #code here\n",
    "\n",
    "        # Write your code here.\n",
    "        inf = 10**8\n",
    "        distances = [inf] * V\n",
    "        distances[S] = 0\n",
    "        for i in range(V-1):\n",
    "            for u, v, wt in edges:\n",
    "                if distances[u] != inf and distances[u] + wt < distances[v]:\n",
    "                    distances[v] = distances[u] + wt\n",
    "        for u, v, wt in edges:\n",
    "            if distances[u] != inf and distances[u] + wt < distances[v]:\n",
    "                return [-1]\n",
    "        return distances"
   ]
  },
  {
   "cell_type": "code",
   "execution_count": 10,
   "metadata": {},
   "outputs": [
    {
     "data": {
      "text/plain": [
       "[0, 9]"
      ]
     },
     "execution_count": 10,
     "metadata": {},
     "output_type": "execute_result"
    }
   ],
   "source": [
    "E = [[0,1,9]]\n",
    "S = 0\n",
    "V = 2\n",
    "sol = Solution()\n",
    "sol.bellman_ford(V, E, S)"
   ]
  },
  {
   "cell_type": "code",
   "execution_count": 11,
   "metadata": {},
   "outputs": [
    {
     "data": {
      "text/plain": [
       "[1, 6, 0, 100000000, 100000000, 100000000]"
      ]
     },
     "execution_count": 11,
     "metadata": {},
     "output_type": "execute_result"
    }
   ],
   "source": [
    "E = [[0,1,5],[1,0,3],[1,2,-1],[2,0,1]]\n",
    "S = 2\n",
    "V = 6\n",
    "sol = Solution()\n",
    "sol.bellman_ford(V, E, S)"
   ]
  }
 ],
 "metadata": {
  "kernelspec": {
   "display_name": "dsa-venv",
   "language": "python",
   "name": "python3"
  },
  "language_info": {
   "codemirror_mode": {
    "name": "ipython",
    "version": 3
   },
   "file_extension": ".py",
   "mimetype": "text/x-python",
   "name": "python",
   "nbconvert_exporter": "python",
   "pygments_lexer": "ipython3",
   "version": "3.11.3"
  }
 },
 "nbformat": 4,
 "nbformat_minor": 2
}
