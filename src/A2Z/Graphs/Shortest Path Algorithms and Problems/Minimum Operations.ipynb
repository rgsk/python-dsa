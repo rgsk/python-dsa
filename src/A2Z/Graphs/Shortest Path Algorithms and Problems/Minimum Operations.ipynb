{
 "cells": [
  {
   "cell_type": "code",
   "execution_count": 38,
   "metadata": {},
   "outputs": [],
   "source": [
    "# https://www.codingninjas.com/studio/problems/minimum-operations_8360665?utm_source=striver&utm_medium=website&utm_campaign=a_zcoursetuf"
   ]
  },
  {
   "cell_type": "code",
   "execution_count": 39,
   "metadata": {},
   "outputs": [],
   "source": [
    "from collections import deque\n",
    "import math\n",
    "from typing import *\n",
    "\n",
    "mod = 10**3\n",
    "\n",
    "# 1st method\n",
    "def dijkstra(n: int, a: List[int], source: int, destination: int):\n",
    "    q = deque()\n",
    "    q.append(source)\n",
    "    ops = 0\n",
    "    visited = set()\n",
    "    visited.add(source)\n",
    "    while q:\n",
    "        for _ in range(len(q)):\n",
    "            node = q.popleft()\n",
    "            if node == destination:\n",
    "                return ops\n",
    "            for child in a:\n",
    "                next = node * child % mod\n",
    "                if next not in visited:\n",
    "                    q.append(next)\n",
    "                    visited.add(next)\n",
    "        ops += 1\n",
    "    return -1  \n",
    "\n",
    "def minimumOperations(n: int, start: int, end: int, a: List[int]):\n",
    "    return dijkstra(n, a, start, end)"
   ]
  },
  {
   "cell_type": "code",
   "execution_count": 40,
   "metadata": {},
   "outputs": [],
   "source": [
    "from collections import deque\n",
    "import math\n",
    "from typing import *\n",
    "\n",
    "mod = 10**3\n",
    "\n",
    "# 2nd method\n",
    "def dijkstra(n: int, a: List[int], source: int, destination: int):\n",
    "    q = deque()\n",
    "    q.append((source, 0))\n",
    "    # multiplication won't exceed mod\n",
    "    distances = [math.inf] * (mod)\n",
    "    while q:\n",
    "        node, steps = q.popleft()\n",
    "        if node == destination:\n",
    "            return steps\n",
    "        for child in a:\n",
    "            next = node * child % mod\n",
    "            if steps + 1 < distances[next]:\n",
    "                q.append((next, steps + 1))\n",
    "                distances[next] = steps + 1\n",
    "    return -1  \n",
    "\n",
    "def minimumOperations(n: int, start: int, end: int, a: List[int]):\n",
    "    return dijkstra(n, a, start, end)"
   ]
  },
  {
   "cell_type": "code",
   "execution_count": 41,
   "metadata": {},
   "outputs": [
    {
     "data": {
      "text/plain": [
       "3"
      ]
     },
     "execution_count": 41,
     "metadata": {},
     "output_type": "execute_result"
    }
   ],
   "source": [
    "start = 1\n",
    "end = 12\n",
    "a = [3, 2]\n",
    "minimumOperations(len(a), start, end, a)"
   ]
  },
  {
   "cell_type": "code",
   "execution_count": 42,
   "metadata": {},
   "outputs": [
    {
     "data": {
      "text/plain": [
       "2"
      ]
     },
     "execution_count": 42,
     "metadata": {},
     "output_type": "execute_result"
    }
   ],
   "source": [
    "\n",
    "start = 8\n",
    "end = 320\n",
    "a = [4, 6, 1, 10]\n",
    "minimumOperations(len(a), start, end, a)"
   ]
  },
  {
   "cell_type": "code",
   "execution_count": 43,
   "metadata": {},
   "outputs": [
    {
     "data": {
      "text/plain": [
       "-1"
      ]
     },
     "execution_count": 43,
     "metadata": {},
     "output_type": "execute_result"
    }
   ],
   "source": [
    "start = 28 \n",
    "end = 83\n",
    "a = [13, 96, 70, 32, 41, 89, 86, 91, 98, 90, 91]\n",
    "minimumOperations(len(a), start, end, a)"
   ]
  }
 ],
 "metadata": {
  "kernelspec": {
   "display_name": "dsa-venv",
   "language": "python",
   "name": "python3"
  },
  "language_info": {
   "codemirror_mode": {
    "name": "ipython",
    "version": 3
   },
   "file_extension": ".py",
   "mimetype": "text/x-python",
   "name": "python",
   "nbconvert_exporter": "python",
   "pygments_lexer": "ipython3",
   "version": "3.11.3"
  }
 },
 "nbformat": 4,
 "nbformat_minor": 2
}
