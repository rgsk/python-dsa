{
 "cells": [
  {
   "cell_type": "code",
   "execution_count": 23,
   "metadata": {},
   "outputs": [],
   "source": [
    "# https://practice.geeksforgeeks.org/problems/implementing-floyd-warshall2042/1\n",
    "# https://www.youtube.com/watch?v=YbY8cVwWAvw"
   ]
  },
  {
   "cell_type": "code",
   "execution_count": 24,
   "metadata": {},
   "outputs": [],
   "source": [
    "class Solution:\n",
    "    def shortest_distance(self, matrix):\n",
    "    \t#Code here\n",
    "        inf = 10**8\n",
    "        n = len(matrix)\n",
    "        for i in range(n):\n",
    "            for j in range(n):\n",
    "                if i == j:\n",
    "                    matrix[i][j] = 0\n",
    "                elif matrix[i][j] == -1:\n",
    "                    matrix[i][j] = inf\n",
    "        # the magic of floyd warshall is\n",
    "        # no matter in which order k is processed\n",
    "        # we would get the same result\n",
    "        # bro try with examples\n",
    "        for k in range(n):\n",
    "            for i in range(n):\n",
    "                for j in range(n):\n",
    "                    matrix[i][j] = min(matrix[i][j], matrix[i][k] + matrix[k][j])\n",
    "        \n",
    "\n",
    "        for i in range(n):\n",
    "            for j in range(n):\n",
    "                if matrix[i][j] == inf:\n",
    "                    matrix[i][j] = -1\n",
    "        "
   ]
  },
  {
   "cell_type": "code",
   "execution_count": 25,
   "metadata": {},
   "outputs": [
    {
     "data": {
      "text/plain": [
       "[[0, 25], [-1, 0]]"
      ]
     },
     "execution_count": 25,
     "metadata": {},
     "output_type": "execute_result"
    }
   ],
   "source": [
    "matrix = [[0,25],[-1,0]]\n",
    "sol = Solution()\n",
    "sol.shortest_distance(matrix)\n",
    "matrix"
   ]
  },
  {
   "cell_type": "code",
   "execution_count": 26,
   "metadata": {},
   "outputs": [
    {
     "data": {
      "text/plain": [
       "[[0, 1, 7], [1, 0, 6], [-1, -1, 0]]"
      ]
     },
     "execution_count": 26,
     "metadata": {},
     "output_type": "execute_result"
    }
   ],
   "source": [
    "matrix = [[0,1,43],[1,0,6],[-1,-1,0]]\n",
    "sol = Solution()\n",
    "sol.shortest_distance(matrix)\n",
    "matrix"
   ]
  },
  {
   "cell_type": "code",
   "execution_count": 27,
   "metadata": {},
   "outputs": [
    {
     "data": {
      "text/plain": [
       "[[0, 1, -1, 3, -1],\n",
       " [-1, 0, -1, 2, -1],\n",
       " [2, 2, 0, 4, 1],\n",
       " [-1, -1, -1, 0, -1],\n",
       " [-1, 1, -1, 3, 0]]"
      ]
     },
     "execution_count": 27,
     "metadata": {},
     "output_type": "execute_result"
    }
   ],
   "source": [
    "matrix = [[0, 1, -1, 100, -1],\n",
    "          [-1, 0, -1, 2, -1],\n",
    "          [2, -1, 0, 10, 1],\n",
    "          [-1, -1, -1, 0, -1],\n",
    "          [-1, 1, -1, -1, 0],\n",
    "          ]\n",
    "sol = Solution()\n",
    "sol.shortest_distance(matrix)\n",
    "matrix"
   ]
  },
  {
   "cell_type": "code",
   "execution_count": null,
   "metadata": {},
   "outputs": [],
   "source": []
  }
 ],
 "metadata": {
  "kernelspec": {
   "display_name": "dsa-venv",
   "language": "python",
   "name": "python3"
  },
  "language_info": {
   "codemirror_mode": {
    "name": "ipython",
    "version": 3
   },
   "file_extension": ".py",
   "mimetype": "text/x-python",
   "name": "python",
   "nbconvert_exporter": "python",
   "pygments_lexer": "ipython3",
   "version": "3.11.3"
  }
 },
 "nbformat": 4,
 "nbformat_minor": 2
}
