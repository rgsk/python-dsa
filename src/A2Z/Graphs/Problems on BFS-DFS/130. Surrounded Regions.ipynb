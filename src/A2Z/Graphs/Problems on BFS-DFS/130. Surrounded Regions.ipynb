{
 "cells": [
  {
   "cell_type": "code",
   "execution_count": 23,
   "metadata": {},
   "outputs": [],
   "source": [
    "\n",
    "\n",
    "from typing import List\n",
    "\n",
    "INT_MIN = -(2 ** 31)\n",
    "\n",
    "ops = [(-1,0),(1,0),(0,-1),(0,1)]\n",
    "\n",
    "\n",
    "class Solution:\n",
    "    def solve(self, board: List[List[str]]) -> None:\n",
    "        \"\"\"\n",
    "        Do not return anything, modify board in-place instead.\n",
    "        \"\"\"\n",
    "        rows = len(board)\n",
    "        cols = len(board[0])\n",
    "\n",
    "        ans = 0\n",
    "\n",
    "        def isBoundary(r, c):\n",
    "            return r == 0 or c == 0 or r == rows - 1 or c == cols - 1\n",
    "\n",
    "        def isValidIndex(r, c):\n",
    "            return r >= 0 and c >= 0 and r < rows and c < cols\n",
    "        \n",
    "        def helper(r, c):\n",
    "            board[r][c] = '-1'\n",
    "            touchedBoundary = True if isBoundary(r, c) else False\n",
    "            for op in ops:\n",
    "                nr = r + op[0]\n",
    "                nc = c + op[1]\n",
    "                if isValidIndex(nr, nc) and board[nr][nc] == 'O':\n",
    "                    touchedBoundary = touchedBoundary or helper(nr, nc)\n",
    "            return touchedBoundary\n",
    "        def setAll(source, target):\n",
    "            for i in range(rows):\n",
    "                for j in range(cols):\n",
    "                    if board[i][j] == source:\n",
    "                        board[i][j] = target\n",
    "\n",
    "        for i in range(rows):\n",
    "            for j in range(cols):\n",
    "                if board[i][j] == \"O\":\n",
    "                    touchedBoundary = helper(i, j)\n",
    "                    if touchedBoundary :\n",
    "                        setAll('-1', 'O')\n",
    "                    else:\n",
    "                        setAll('-1', 'X')\n",
    "        return None"
   ]
  },
  {
   "cell_type": "code",
   "execution_count": 24,
   "metadata": {},
   "outputs": [],
   "source": [
    "from collections import deque\n",
    "\n",
    "class Solution:\n",
    "    def solve(self, board: List[List[str]]) -> None:\n",
    "        \"\"\"\n",
    "        Do not return anything, modify board in-place instead.\n",
    "        \"\"\"\n",
    "        \n",
    "        o = \"O\"\n",
    "        \n",
    "        rows = len(board) \n",
    "        cols = len(board[0])\n",
    "\n",
    "        Q = deque()\n",
    "        \n",
    "        for i in range(rows):\n",
    "            if board[i][0] == o:\n",
    "                Q.append((i,0))\n",
    "            if board[i][cols-1] == o:\n",
    "                Q.append((i, cols-1))\n",
    "                \n",
    "        for j in range(cols):\n",
    "            if board[0][j] == o:\n",
    "                Q.append((0,j))\n",
    "            if board[rows-1][j] == o:\n",
    "                Q.append((rows-1, j))\n",
    "                \n",
    "        def inBounds(i,j):\n",
    "            return (0 <= i < rows) and (0 <= j < cols)\n",
    "                \n",
    "        while Q:\n",
    "            i,j = Q.popleft()\n",
    "            board[i][j] = \"#\"\n",
    "            \n",
    "            for ii, jj in [(i+1, j), (i-1, j), (i, j+1), (i, j-1)]:\n",
    "                if not inBounds(ii, jj):\n",
    "                    continue\n",
    "                if board[ii][jj] != o:\n",
    "                    continue\n",
    "                Q.append((ii,jj))\n",
    "                board[ii][jj] = '#'\n",
    "            \n",
    "        for i in range(rows):\n",
    "            for j in range(cols):\n",
    "                if board[i][j] == o:\n",
    "                    board[i][j] = 'X'\n",
    "                elif board[i][j] == '#':\n",
    "                    board[i][j] = o"
   ]
  },
  {
   "cell_type": "code",
   "execution_count": 25,
   "metadata": {},
   "outputs": [
    {
     "name": "stdout",
     "output_type": "stream",
     "text": [
      "[['X', 'X', 'X', 'X'], ['X', 'X', 'X', 'X'], ['X', 'X', 'X', 'X'], ['X', 'O', 'X', 'X']]\n"
     ]
    }
   ],
   "source": [
    "board = [\n",
    "    [\"X\",\"X\",\"X\",\"X\"],\n",
    "    [\"X\",\"O\",\"O\",\"X\"],\n",
    "    [\"X\",\"X\",\"O\",\"X\"],\n",
    "    [\"X\",\"O\",\"X\",\"X\"]\n",
    "]\n",
    "sol = Solution()\n",
    "sol.solve(board)\n",
    "print(board)"
   ]
  },
  {
   "cell_type": "code",
   "execution_count": 26,
   "metadata": {},
   "outputs": [
    {
     "name": "stdout",
     "output_type": "stream",
     "text": [
      "[['X']]\n"
     ]
    }
   ],
   "source": [
    "board = [[\"X\"]]\n",
    "sol = Solution()\n",
    "sol.solve(board)\n",
    "print(board)"
   ]
  }
 ],
 "metadata": {
  "kernelspec": {
   "display_name": "dsa-venv",
   "language": "python",
   "name": "python3"
  },
  "language_info": {
   "codemirror_mode": {
    "name": "ipython",
    "version": 3
   },
   "file_extension": ".py",
   "mimetype": "text/x-python",
   "name": "python",
   "nbconvert_exporter": "python",
   "pygments_lexer": "ipython3",
   "version": "3.11.3"
  },
  "orig_nbformat": 4
 },
 "nbformat": 4,
 "nbformat_minor": 2
}
