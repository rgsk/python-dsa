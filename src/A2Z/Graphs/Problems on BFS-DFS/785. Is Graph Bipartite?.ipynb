{
 "cells": [
  {
   "cell_type": "code",
   "execution_count": 4,
   "metadata": {},
   "outputs": [],
   "source": [
    "from typing import List\n",
    "\n",
    "\n",
    "class Solution:\n",
    "    def isBipartite(self, graph: List[List[int]]) -> bool:\n",
    "        color = [-1] * len(graph)\n",
    "        def dfs(node, currentColor):\n",
    "            color[node] = currentColor\n",
    "            for child in graph[node]:\n",
    "                if color[child] == color[node]:\n",
    "                    return True\n",
    "                if color[child] == -1:\n",
    "                    if dfs(child, currentColor ^ 1):\n",
    "                        return True\n",
    "            return False\n",
    "        for node in range(len(graph)):\n",
    "            if color[node] == -1:\n",
    "                if dfs(node, 0):\n",
    "                    return False\n",
    "        return True"
   ]
  },
  {
   "cell_type": "code",
   "execution_count": 5,
   "metadata": {},
   "outputs": [
    {
     "data": {
      "text/plain": [
       "False"
      ]
     },
     "execution_count": 5,
     "metadata": {},
     "output_type": "execute_result"
    }
   ],
   "source": [
    "graph = [[1,2,3],[0,2],[0,1,3],[0,2]]\n",
    "sol = Solution()\n",
    "sol.isBipartite(graph)"
   ]
  },
  {
   "cell_type": "code",
   "execution_count": 6,
   "metadata": {},
   "outputs": [
    {
     "data": {
      "text/plain": [
       "True"
      ]
     },
     "execution_count": 6,
     "metadata": {},
     "output_type": "execute_result"
    }
   ],
   "source": [
    "graph = [[1,3],[0,2],[1,3],[0,2]]\n",
    "sol = Solution()\n",
    "sol.isBipartite(graph)"
   ]
  }
 ],
 "metadata": {
  "kernelspec": {
   "display_name": "dsa-venv",
   "language": "python",
   "name": "python3"
  },
  "language_info": {
   "codemirror_mode": {
    "name": "ipython",
    "version": 3
   },
   "file_extension": ".py",
   "mimetype": "text/x-python",
   "name": "python",
   "nbconvert_exporter": "python",
   "pygments_lexer": "ipython3",
   "version": "3.11.3"
  }
 },
 "nbformat": 4,
 "nbformat_minor": 2
}
