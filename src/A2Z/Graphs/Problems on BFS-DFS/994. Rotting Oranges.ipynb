{
 "cells": [
  {
   "cell_type": "code",
   "execution_count": 17,
   "metadata": {},
   "outputs": [],
   "source": [
    "from collections import deque\n",
    "from typing import List\n",
    "\n",
    "\n",
    "class Solution:\n",
    "    def orangesRotting(self, grid: List[List[int]]) -> int:\n",
    "        visit, curr = set(), deque()\n",
    "\t\t# find all fresh and rotten oranges\n",
    "        for i in range(len(grid)):\n",
    "            for j in range(len(grid[0])):\n",
    "                if grid[i][j] == 1:\n",
    "                    visit.add((i, j))\n",
    "                elif grid[i][j] == 2:\n",
    "                    curr.append((i, j))\n",
    "        result = 0\n",
    "        while visit and curr:\n",
    "\t\t\t# BFS iteration\n",
    "            for _ in range(len(curr)):\n",
    "                i, j = curr.popleft()  # obtain recent rotten orange\n",
    "                for coord in ((i-1, j), (i+1, j), (i, j-1), (i, j+1)):\n",
    "                    if coord in visit:  # check if adjacent orange is fresh\n",
    "                        visit.remove(coord)\n",
    "                        curr.append(coord)\n",
    "            result += 1\n",
    "\t\t# check if fresh oranges remain and return accordingly\n",
    "        return -1 if visit else result"
   ]
  },
  {
   "cell_type": "code",
   "execution_count": 18,
   "metadata": {},
   "outputs": [
    {
     "data": {
      "text/plain": [
       "4"
      ]
     },
     "execution_count": 18,
     "metadata": {},
     "output_type": "execute_result"
    }
   ],
   "source": [
    "grid = [[2,1,1],[1,1,0],[0,1,1]]\n",
    "sol = Solution()\n",
    "sol.orangesRotting(grid)"
   ]
  },
  {
   "cell_type": "code",
   "execution_count": 19,
   "metadata": {},
   "outputs": [
    {
     "data": {
      "text/plain": [
       "-1"
      ]
     },
     "execution_count": 19,
     "metadata": {},
     "output_type": "execute_result"
    }
   ],
   "source": [
    "grid = [[2,1,1],[0,1,1],[1,0,1]]\n",
    "sol = Solution()\n",
    "sol.orangesRotting(grid)"
   ]
  },
  {
   "cell_type": "code",
   "execution_count": 20,
   "metadata": {},
   "outputs": [
    {
     "data": {
      "text/plain": [
       "0"
      ]
     },
     "execution_count": 20,
     "metadata": {},
     "output_type": "execute_result"
    }
   ],
   "source": [
    "grid = [[0,2]]\n",
    "sol = Solution()\n",
    "sol.orangesRotting(grid)"
   ]
  }
 ],
 "metadata": {
  "kernelspec": {
   "display_name": "dsa-venv",
   "language": "python",
   "name": "python3"
  },
  "language_info": {
   "codemirror_mode": {
    "name": "ipython",
    "version": 3
   },
   "file_extension": ".py",
   "mimetype": "text/x-python",
   "name": "python",
   "nbconvert_exporter": "python",
   "pygments_lexer": "ipython3",
   "version": "3.11.3"
  },
  "orig_nbformat": 4
 },
 "nbformat": 4,
 "nbformat_minor": 2
}
