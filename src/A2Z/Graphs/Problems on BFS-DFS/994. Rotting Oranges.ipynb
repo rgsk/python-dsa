{
 "cells": [
  {
   "cell_type": "code",
   "execution_count": 48,
   "metadata": {},
   "outputs": [],
   "source": [
    "from collections import deque\n",
    "from typing import List\n",
    "\n",
    "\n",
    "class Solution:\n",
    "    def orangesRotting(self, grid: List[List[int]]) -> int:\n",
    "        visit, curr = set(), deque()\n",
    "\t\t# find all fresh and rotten oranges\n",
    "        for i in range(len(grid)):\n",
    "            for j in range(len(grid[0])):\n",
    "                if grid[i][j] == 1:\n",
    "                    visit.add((i, j))\n",
    "                elif grid[i][j] == 2:\n",
    "                    curr.append((i, j))\n",
    "        result = 0\n",
    "        while visit and curr:\n",
    "\t\t\t# BFS iteration\n",
    "            for _ in range(len(curr)):\n",
    "                i, j = curr.popleft()  # obtain recent rotten orange\n",
    "                for coord in ((i-1, j), (i+1, j), (i, j-1), (i, j+1)):\n",
    "                    if coord in visit:  # check if adjacent orange is fresh\n",
    "                        visit.remove(coord)\n",
    "                        curr.append(coord)\n",
    "            result += 1\n",
    "\t\t# check if fresh oranges remain and return accordingly\n",
    "        return -1 if visit else result"
   ]
  },
  {
   "cell_type": "code",
   "execution_count": 49,
   "metadata": {},
   "outputs": [],
   "source": [
    "from collections import deque\n",
    "from typing import List\n",
    "\n",
    "\n",
    "class Solution:\n",
    "    def orangesRotting(self, grid: List[List[int]]) -> int:\n",
    "        q = deque()\n",
    "        rows = len(grid)\n",
    "        cols = len(grid[0])\n",
    "        for i in range(rows):\n",
    "            for j in range(cols):\n",
    "                if grid[i][j] == 2:\n",
    "                    # rotten\n",
    "                    q.append((i, j, 0))\n",
    "        maxTime = 0\n",
    "        def validRowCol(r, c):\n",
    "            return r >= 0 and c >= 0 and r < rows and c < cols\n",
    "        while q:\n",
    "            i, j, t = q.popleft()\n",
    "            maxTime = max(maxTime, t)\n",
    "            for r, c in ((i-1, j), (i+1, j), (i, j-1), (i, j+1)):\n",
    "                if validRowCol(r, c) and grid[r][c] == 1:\n",
    "                    grid[r][c] = 2\n",
    "                    q.append((r, c, t + 1))\n",
    "        for i in range(rows):\n",
    "            for j in range(cols):\n",
    "                if grid[i][j] == 1:\n",
    "                    return -1\n",
    "        return maxTime"
   ]
  },
  {
   "cell_type": "code",
   "execution_count": 50,
   "metadata": {},
   "outputs": [],
   "source": [
    "from collections import deque\n",
    "from typing import List\n",
    "\n",
    "\n",
    "class Solution:\n",
    "    def orangesRotting(self, grid: List[List[int]]) -> int:\n",
    "        q = deque()\n",
    "        rows = len(grid)\n",
    "        cols = len(grid[0])\n",
    "        for i in range(rows):\n",
    "            for j in range(cols):\n",
    "                if grid[i][j] == 2:\n",
    "                    # rotten\n",
    "                    q.append((i, j))\n",
    "       \n",
    "        def validRowCol(r, c):\n",
    "            return r >= 0 and c >= 0 and r < rows and c < cols\n",
    "    \n",
    "        time = 0\n",
    "        while q:\n",
    "            for _ in range(len(q)):\n",
    "                i, j = q.popleft()\n",
    "                for r, c in ((i-1, j), (i+1, j), (i, j-1), (i, j+1)):\n",
    "                    if validRowCol(r, c) and grid[r][c] == 1:\n",
    "                        grid[r][c] = 2\n",
    "                        q.append((r, c))\n",
    "            if q:\n",
    "                time += 1\n",
    "        for i in range(rows):\n",
    "            for j in range(cols):\n",
    "                if grid[i][j] == 1:\n",
    "                    return -1\n",
    "        return time"
   ]
  },
  {
   "cell_type": "code",
   "execution_count": 51,
   "metadata": {},
   "outputs": [
    {
     "data": {
      "text/plain": [
       "4"
      ]
     },
     "execution_count": 51,
     "metadata": {},
     "output_type": "execute_result"
    }
   ],
   "source": [
    "grid = [[2,1,1],[1,1,0],[0,1,1]]\n",
    "sol = Solution()\n",
    "sol.orangesRotting(grid)"
   ]
  },
  {
   "cell_type": "code",
   "execution_count": 52,
   "metadata": {},
   "outputs": [
    {
     "data": {
      "text/plain": [
       "-1"
      ]
     },
     "execution_count": 52,
     "metadata": {},
     "output_type": "execute_result"
    }
   ],
   "source": [
    "grid = [[2,1,1],[0,1,1],[1,0,1]]\n",
    "sol = Solution()\n",
    "sol.orangesRotting(grid)"
   ]
  },
  {
   "cell_type": "code",
   "execution_count": 53,
   "metadata": {},
   "outputs": [
    {
     "data": {
      "text/plain": [
       "0"
      ]
     },
     "execution_count": 53,
     "metadata": {},
     "output_type": "execute_result"
    }
   ],
   "source": [
    "grid = [[0,2]]\n",
    "sol = Solution()\n",
    "sol.orangesRotting(grid)"
   ]
  }
 ],
 "metadata": {
  "kernelspec": {
   "display_name": "dsa-venv",
   "language": "python",
   "name": "python3"
  },
  "language_info": {
   "codemirror_mode": {
    "name": "ipython",
    "version": 3
   },
   "file_extension": ".py",
   "mimetype": "text/x-python",
   "name": "python",
   "nbconvert_exporter": "python",
   "pygments_lexer": "ipython3",
   "version": "3.11.3"
  },
  "orig_nbformat": 4
 },
 "nbformat": 4,
 "nbformat_minor": 2
}
