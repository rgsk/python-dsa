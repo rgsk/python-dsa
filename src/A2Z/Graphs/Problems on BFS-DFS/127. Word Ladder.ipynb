{
 "cells": [
  {
   "cell_type": "code",
   "execution_count": 1,
   "metadata": {},
   "outputs": [],
   "source": [
    "from collections import deque\n",
    "from typing import List\n",
    "\n",
    "\n",
    "class Solution:\n",
    "    def ladderLength(self, beginWord: str, endWord: str, wordList: List[str]) -> int:\n",
    "        queue = deque([beginWord])\n",
    "        visited = set([beginWord])\n",
    "        wordList = set(wordList)\n",
    "        \n",
    "        changes = 1\n",
    "        \n",
    "        alph = \"abcdefghijklmnopqrstuvwxyz\"\n",
    "        \n",
    "        \n",
    "        if endWord not in wordList:\n",
    "            return 0\n",
    "        \n",
    "        while queue:\n",
    "            for l in range(len(queue)):\n",
    "                curr_word = queue.popleft()\n",
    "                if curr_word == endWord:\n",
    "                    return changes\n",
    "\n",
    "                for i in range(len(curr_word)):\n",
    "                    prefix, suffix = curr_word[:i], curr_word[i+1:]\n",
    "                    for al in alph:\n",
    "                        w = prefix + al + suffix\n",
    "                        if w in wordList and w not in visited:\n",
    "                            queue.append(w)\n",
    "                            visited.add(w)\n",
    "            changes += 1\n",
    "            \n",
    "        return 0\n",
    "                  "
   ]
  },
  {
   "cell_type": "code",
   "execution_count": 2,
   "metadata": {},
   "outputs": [
    {
     "data": {
      "text/plain": [
       "5"
      ]
     },
     "execution_count": 2,
     "metadata": {},
     "output_type": "execute_result"
    }
   ],
   "source": [
    "beginWord = \"hit\"\n",
    "endWord = \"cog\"\n",
    "wordList = [\"hot\",\"dot\",\"dog\",\"lot\",\"log\",\"cog\"]\n",
    "sol = Solution()\n",
    "sol.ladderLength(beginWord, endWord, wordList)"
   ]
  }
 ],
 "metadata": {
  "kernelspec": {
   "display_name": "dsa-venv",
   "language": "python",
   "name": "python3"
  },
  "language_info": {
   "codemirror_mode": {
    "name": "ipython",
    "version": 3
   },
   "file_extension": ".py",
   "mimetype": "text/x-python",
   "name": "python",
   "nbconvert_exporter": "python",
   "pygments_lexer": "ipython3",
   "version": "3.11.3"
  },
  "orig_nbformat": 4
 },
 "nbformat": 4,
 "nbformat_minor": 2
}
