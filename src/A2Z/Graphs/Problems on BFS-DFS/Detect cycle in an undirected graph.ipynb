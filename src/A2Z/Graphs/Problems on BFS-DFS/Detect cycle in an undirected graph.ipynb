{
 "cells": [
  {
   "cell_type": "code",
   "execution_count": 16,
   "metadata": {},
   "outputs": [],
   "source": [
    "# https://practice.geeksforgeeks.org/problems/detect-cycle-in-an-undirected-graph/1?utm_source=geeksforgeeks&utm_medium=article_practice_tab&utm_campaign=article_practice_tab"
   ]
  },
  {
   "cell_type": "code",
   "execution_count": 17,
   "metadata": {},
   "outputs": [],
   "source": [
    "# DFS\n",
    "\n",
    "from typing import List\n",
    "class Solution:\n",
    "    #Function to detect cycle in an undirected graph.\n",
    "    def isCycle(self, V: int, adj: List[List[int]]) -> bool:\n",
    "\t\t#Code here\n",
    "        visited = [False] * V\n",
    "        def dfs(node, parent):\n",
    "            visited[node] = True\n",
    "            for child in adj[node]:\n",
    "                if child != parent:\n",
    "                    if visited[child]:\n",
    "                        return True\n",
    "                    if dfs(child, node):\n",
    "                        return True\n",
    "            return False\n",
    "        for node in range(V):\n",
    "            if not visited[node]:\n",
    "                if dfs(node, -1):\n",
    "                    return True\n",
    "        return False\n"
   ]
  },
  {
   "cell_type": "code",
   "execution_count": 18,
   "metadata": {},
   "outputs": [],
   "source": [
    "# BFS\n",
    "\n",
    "from collections import deque\n",
    "from typing import List\n",
    "class Solution:\n",
    "    #Function to detect cycle in an undirected graph.\n",
    "    def isCycle(self, V: int, adj: List[List[int]]) -> bool:\n",
    "\t\t#Code here\n",
    "        visited = [False] * V\n",
    "        def bfs(node):\n",
    "            q = deque()\n",
    "            visited[node] = True\n",
    "            q.append((node, -1))\n",
    "            while q:\n",
    "                cur, parent = q.popleft()\n",
    "                for child in adj[cur]:\n",
    "                    if child != parent:\n",
    "                        if visited[child]:\n",
    "                            return True\n",
    "                        visited[child] = True\n",
    "                        q.append((child, cur))\n",
    "            return False\n",
    "        for node in range(V):\n",
    "            if not visited[node]:\n",
    "                if bfs(node):\n",
    "                    return True\n",
    "        return False"
   ]
  },
  {
   "cell_type": "code",
   "execution_count": 19,
   "metadata": {},
   "outputs": [
    {
     "data": {
      "text/plain": [
       "True"
      ]
     },
     "execution_count": 19,
     "metadata": {},
     "output_type": "execute_result"
    }
   ],
   "source": [
    "'''\n",
    "V = 5, E = 5\n",
    "adj = {{1}, {0, 2, 4}, {1, 3}, {2, 4}, {1, 3}} \n",
    "'''\n",
    "V = 5\n",
    "adj = [[1], [0, 2, 4], [1, 3], [2, 4], [1, 3]]\n",
    "sol = Solution()\n",
    "sol.isCycle(V, adj)"
   ]
  },
  {
   "cell_type": "code",
   "execution_count": 20,
   "metadata": {},
   "outputs": [
    {
     "data": {
      "text/plain": [
       "False"
      ]
     },
     "execution_count": 20,
     "metadata": {},
     "output_type": "execute_result"
    }
   ],
   "source": [
    "'''\n",
    "V = 4, E = 2\n",
    "adj = [{}, {2}, {1, 3}, {2}}\n",
    "'''\n",
    "V = 4\n",
    "adj = [[], [2], [1, 3], [2]]\n",
    "sol = Solution()\n",
    "sol.isCycle(V, adj)"
   ]
  }
 ],
 "metadata": {
  "kernelspec": {
   "display_name": "dsa-venv",
   "language": "python",
   "name": "python3"
  },
  "language_info": {
   "codemirror_mode": {
    "name": "ipython",
    "version": 3
   },
   "file_extension": ".py",
   "mimetype": "text/x-python",
   "name": "python",
   "nbconvert_exporter": "python",
   "pygments_lexer": "ipython3",
   "version": "3.11.3"
  }
 },
 "nbformat": 4,
 "nbformat_minor": 2
}
