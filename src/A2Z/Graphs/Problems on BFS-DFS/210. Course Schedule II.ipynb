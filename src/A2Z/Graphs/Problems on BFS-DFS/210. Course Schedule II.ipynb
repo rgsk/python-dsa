{
 "cells": [
  {
   "cell_type": "code",
   "execution_count": 87,
   "metadata": {},
   "outputs": [],
   "source": [
    "from typing import List\n",
    "\n",
    "def getAdjListFromEdges(edges, V):\n",
    "    adjList = [[] for _ in range(V)]\n",
    "    for edge in edges:\n",
    "        adjList[edge[1]].append(edge[0])\n",
    "    return adjList\n",
    "  \n",
    "def topoSort(V, adj):\n",
    "    # Write your code here\n",
    "    visited = [0 for _ in range(V)]\n",
    "    st = []\n",
    "    def dfs(node):\n",
    "        if visited[node] == 1:\n",
    "            return True\n",
    "        if visited[node] == 0:\n",
    "            visited[node] = 1\n",
    "            for child in adj[node]:\n",
    "                if dfs(child):\n",
    "                    return True\n",
    "                    \n",
    "            visited[node] = 2\n",
    "            st.append(node)\n",
    "        return False\n",
    "    for node in range(V):\n",
    "        if visited[node] == 0:\n",
    "            cycleFound = dfs(node)\n",
    "            if cycleFound:\n",
    "                return []\n",
    "    return list(reversed(st))        \n",
    "    \n",
    "\n",
    "class Solution:\n",
    "    def findOrder(self, numCourses: int, prerequisites: List[List[int]]) -> List[int]:\n",
    "        adj = getAdjListFromEdges(prerequisites, numCourses)\n",
    "        return topoSort(numCourses, adj)"
   ]
  },
  {
   "cell_type": "code",
   "execution_count": 88,
   "metadata": {},
   "outputs": [],
   "source": [
    "from typing import List\n",
    "\n",
    "def getAdjListFromEdges(edges, V):\n",
    "    adjList = [[] for _ in range(V)]\n",
    "    for edge in edges:\n",
    "        adjList[edge[1]].append(edge[0])\n",
    "    return adjList\n",
    "  \n",
    "def topoSort(V, adj):\n",
    "    # Write your code here\n",
    "    visited = [False for _ in range(V)]\n",
    "    curPathVisited = [False for _ in range(V)]\n",
    "\n",
    "    st = []\n",
    "    def dfs(node):\n",
    "        visited[node] = True\n",
    "        curPathVisited[node] = True\n",
    "        for child in adj[node]:\n",
    "            if curPathVisited[child]: return True\n",
    "            if not visited[child]:\n",
    "                if dfs(child): return True\n",
    "        curPathVisited[node] = False\n",
    "        st.append(node)\n",
    "        return False\n",
    "    for node in range(V):\n",
    "        if not visited[node]:\n",
    "            cycleFound = dfs(node)\n",
    "            if cycleFound:\n",
    "                return []\n",
    "    return list(reversed(st))\n",
    "    \n",
    "\n",
    "class Solution:\n",
    "    def findOrder(self, numCourses: int, prerequisites: List[List[int]]) -> List[int]:\n",
    "        adj = getAdjListFromEdges(prerequisites, numCourses)\n",
    "        return topoSort(numCourses, adj)"
   ]
  },
  {
   "cell_type": "code",
   "execution_count": 89,
   "metadata": {},
   "outputs": [],
   "source": [
    "  \n",
    "from collections import deque\n",
    "\n",
    "# Kahn's Algorithm \n",
    "# Toposort with BFS\n",
    "\n",
    "def getAdjListFromEdges(edges, V):\n",
    "    adjList = [[] for _ in range(V)]\n",
    "    for edge in edges:\n",
    "        adjList[edge[1]].append(edge[0])\n",
    "    return adjList\n",
    "\n",
    "class Solution:\n",
    "    #Function to return list containing vertices in Topological order.\n",
    "    def topoSort(self, V, adj):\n",
    "        # Write your code here\n",
    "        indegree = [0] * V\n",
    "        for node in range(V):\n",
    "            for child in adj[node]: \n",
    "                indegree[child] += 1\n",
    "\n",
    "        ans = []\n",
    "        q = deque()\n",
    "        for node in range(V):\n",
    "            if indegree[node] == 0:\n",
    "                q.append(node)\n",
    "        while q:\n",
    "            node = q.popleft()\n",
    "            ans.append(node)\n",
    "            for child in adj[node]:\n",
    "                indegree[child] -= 1\n",
    "                if indegree[child] == 0:\n",
    "                    q.append(child)\n",
    "        # we won't able to generate the complete toposort\n",
    "        if len(ans) < V:\n",
    "            return []\n",
    "        return ans\n",
    "    \n",
    "    def findOrder(self, numCourses: int, prerequisites: List[List[int]]) -> List[int]:\n",
    "        adj = getAdjListFromEdges(prerequisites, numCourses)\n",
    "        return self.topoSort(numCourses, adj)"
   ]
  },
  {
   "cell_type": "code",
   "execution_count": 90,
   "metadata": {},
   "outputs": [
    {
     "data": {
      "text/plain": [
       "[0, 1]"
      ]
     },
     "execution_count": 90,
     "metadata": {},
     "output_type": "execute_result"
    }
   ],
   "source": [
    "numCourses = 2\n",
    "prerequisites = [[1,0]]\n",
    "sol = Solution()\n",
    "sol.findOrder(numCourses, prerequisites)"
   ]
  },
  {
   "cell_type": "code",
   "execution_count": 91,
   "metadata": {},
   "outputs": [
    {
     "data": {
      "text/plain": [
       "[0, 1, 2, 3]"
      ]
     },
     "execution_count": 91,
     "metadata": {},
     "output_type": "execute_result"
    }
   ],
   "source": [
    "numCourses = 4\n",
    "prerequisites = [[1,0],[2,0],[3,1],[3,2]]\n",
    "sol = Solution()\n",
    "sol.findOrder(numCourses, prerequisites)"
   ]
  },
  {
   "cell_type": "code",
   "execution_count": 92,
   "metadata": {},
   "outputs": [
    {
     "data": {
      "text/plain": [
       "[0]"
      ]
     },
     "execution_count": 92,
     "metadata": {},
     "output_type": "execute_result"
    }
   ],
   "source": [
    "numCourses = 1\n",
    "prerequisites = []\n",
    "sol = Solution()\n",
    "sol.findOrder(numCourses, prerequisites)"
   ]
  },
  {
   "cell_type": "code",
   "execution_count": 93,
   "metadata": {},
   "outputs": [
    {
     "data": {
      "text/plain": [
       "[]"
      ]
     },
     "execution_count": 93,
     "metadata": {},
     "output_type": "execute_result"
    }
   ],
   "source": [
    "numCourses = 2\n",
    "prerequisites = [[0, 1], [1, 0]]\n",
    "sol = Solution()\n",
    "sol.findOrder(numCourses, prerequisites)"
   ]
  }
 ],
 "metadata": {
  "kernelspec": {
   "display_name": "dsa-venv",
   "language": "python",
   "name": "python3"
  },
  "language_info": {
   "codemirror_mode": {
    "name": "ipython",
    "version": 3
   },
   "file_extension": ".py",
   "mimetype": "text/x-python",
   "name": "python",
   "nbconvert_exporter": "python",
   "pygments_lexer": "ipython3",
   "version": "3.11.3"
  }
 },
 "nbformat": 4,
 "nbformat_minor": 2
}
