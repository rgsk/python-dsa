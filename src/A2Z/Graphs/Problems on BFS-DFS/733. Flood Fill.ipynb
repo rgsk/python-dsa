{
 "cells": [
  {
   "cell_type": "code",
   "execution_count": 18,
   "metadata": {},
   "outputs": [],
   "source": [
    "from typing import List\n",
    "\n",
    "ops = [(-1,0),(1,0),(0,-1),(0,1)]\n",
    "\n",
    "class Solution:\n",
    "    def floodFill(self, image: List[List[int]], sr: int, sc: int, color: int) -> List[List[int]]:\n",
    "        rows = len(image)\n",
    "        cols = len(image[0])\n",
    "        visited = [[False for _ in range(cols)] for _ in range(rows)]\n",
    "        def isValidIndex(r, c):\n",
    "            return r >= 0 and c >= 0 and r < rows and c < cols\n",
    "        original_color = image[sr][sc]\n",
    "        def helper(r, c):\n",
    "            visited[r][c] = True\n",
    "            image[r][c] = color\n",
    "            for op in ops:\n",
    "                nr = r + op[0]\n",
    "                nc = c + op[1]\n",
    "                if isValidIndex(nr, nc) and not visited[nr][nc] and image[nr][nc] == original_color:\n",
    "                    helper(nr, nc)\n",
    "        helper(sr, sc)\n",
    "        return image"
   ]
  },
  {
   "cell_type": "code",
   "execution_count": 19,
   "metadata": {},
   "outputs": [],
   "source": [
    "from typing import List\n",
    "\n",
    "ops = [(-1,0),(1,0),(0,-1),(0,1)]\n",
    "\n",
    "# visited was reduntant\n",
    "# as if we have changed the color and marked that itself is an indication that we don't need to visit that again\n",
    "class Solution:\n",
    "    def floodFill(self, image: List[List[int]], sr: int, sc: int, color: int) -> List[List[int]]:\n",
    "        original_color = image[sr][sc]\n",
    "        if original_color == color:\n",
    "            return image\n",
    "        rows = len(image)\n",
    "        cols = len(image[0])\n",
    "        def isValidIndex(r, c):\n",
    "            return r >= 0 and c >= 0 and r < rows and c < cols\n",
    "        def helper(r, c):\n",
    "            image[r][c] = color\n",
    "            for op in ops:\n",
    "                nr = r + op[0]\n",
    "                nc = c + op[1]\n",
    "                if isValidIndex(nr, nc) and image[nr][nc] == original_color:\n",
    "                    helper(nr, nc)\n",
    "        helper(sr, sc)\n",
    "        return image"
   ]
  },
  {
   "cell_type": "code",
   "execution_count": 20,
   "metadata": {},
   "outputs": [],
   "source": [
    "from collections import deque\n",
    "from typing import List\n",
    "\n",
    "ops = [(-1,0),(1,0),(0,-1),(0,1)]\n",
    "\n",
    "class Solution:\n",
    "    def floodFill(self, image: List[List[int]], sr: int, sc: int, color: int) -> List[List[int]]:\n",
    "        original_color = image[sr][sc]\n",
    "        if original_color == color:\n",
    "            return image\n",
    "        rows = len(image)\n",
    "        cols = len(image[0])\n",
    "        def isValidIndex(r, c):\n",
    "            return r >= 0 and c >= 0 and r < rows and c < cols\n",
    "        q = deque()\n",
    "        q.append((sr, sc))\n",
    "        image[sr][sc] = color\n",
    "        while q:\n",
    "            r, c = q.popleft()\n",
    "            for op in ops:\n",
    "                nr = r + op[0]\n",
    "                nc = c + op[1]\n",
    "                if isValidIndex(nr, nc) and image[nr][nc] == original_color:\n",
    "                    image[nr][nc] = color\n",
    "                    q.append((nr, nc))\n",
    "       \n",
    "        return image"
   ]
  },
  {
   "cell_type": "code",
   "execution_count": 21,
   "metadata": {},
   "outputs": [
    {
     "data": {
      "text/plain": [
       "[[2, 2, 2], [2, 2, 0], [2, 0, 1]]"
      ]
     },
     "execution_count": 21,
     "metadata": {},
     "output_type": "execute_result"
    }
   ],
   "source": [
    "image = [[1,1,1],[1,1,0],[1,0,1]]\n",
    "sr = 1\n",
    "sc = 1\n",
    "color = 2\n",
    "sol = Solution()\n",
    "sol.floodFill(image, sr, sc, color)"
   ]
  },
  {
   "cell_type": "code",
   "execution_count": 22,
   "metadata": {},
   "outputs": [
    {
     "data": {
      "text/plain": [
       "[[0, 0, 0], [0, 0, 0]]"
      ]
     },
     "execution_count": 22,
     "metadata": {},
     "output_type": "execute_result"
    }
   ],
   "source": [
    "image = [[0,0,0],[0,0,0]]\n",
    "sr = 0\n",
    "sc = 0\n",
    "color = 0\n",
    "sol = Solution()\n",
    "sol.floodFill(image, sr, sc, color)"
   ]
  }
 ],
 "metadata": {
  "kernelspec": {
   "display_name": "dsa-venv",
   "language": "python",
   "name": "python3"
  },
  "language_info": {
   "codemirror_mode": {
    "name": "ipython",
    "version": 3
   },
   "file_extension": ".py",
   "mimetype": "text/x-python",
   "name": "python",
   "nbconvert_exporter": "python",
   "pygments_lexer": "ipython3",
   "version": "3.11.3"
  },
  "orig_nbformat": 4
 },
 "nbformat": 4,
 "nbformat_minor": 2
}
