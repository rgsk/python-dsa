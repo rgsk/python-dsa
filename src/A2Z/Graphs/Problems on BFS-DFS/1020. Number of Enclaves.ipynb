{
 "cells": [
  {
   "cell_type": "code",
   "execution_count": 30,
   "metadata": {},
   "outputs": [],
   "source": [
    "from typing import List\n",
    "\n",
    "INT_MIN = -(2 ** 31)\n",
    "\n",
    "ops = [(-1,0),(1,0),(0,-1),(0,1)]\n",
    "\n",
    "class Solution:\n",
    "    def numEnclaves(self, grid: List[List[int]]) -> int:\n",
    "        rows = len(grid)\n",
    "        cols = len(grid[0])\n",
    "\n",
    "        ans = 0\n",
    "\n",
    "        def isBoundary(r, c):\n",
    "            return r == 0 or c == 0 or r == rows - 1 or c == cols - 1\n",
    "\n",
    "        def isValidIndex(r, c):\n",
    "            return r >= 0 and c >= 0 and r < rows and c < cols\n",
    "        \n",
    "        def helper(r, c):\n",
    "            grid[r][c] = 0\n",
    "            travel = INT_MIN if isBoundary(r, c) else 1\n",
    "            for op in ops:\n",
    "                nr = r + op[0]\n",
    "                nc = c + op[1]\n",
    "                if isValidIndex(nr, nc) and grid[nr][nc] == 1:\n",
    "                    travel += helper(nr, nc)\n",
    "            return travel\n",
    "\n",
    "        for i in range(rows):\n",
    "            for j in range(cols):\n",
    "                if grid[i][j] == 1:\n",
    "                    cur = helper(i, j)\n",
    "                    ans += 0 if cur < 0 else cur\n",
    "        return ans"
   ]
  },
  {
   "cell_type": "code",
   "execution_count": 31,
   "metadata": {},
   "outputs": [
    {
     "data": {
      "text/plain": [
       "3"
      ]
     },
     "execution_count": 31,
     "metadata": {},
     "output_type": "execute_result"
    }
   ],
   "source": [
    "grid = [[0,0,0,0],[1,0,1,0],[0,1,1,0],[0,0,0,0]]\n",
    "sol = Solution()\n",
    "sol.numEnclaves(grid)"
   ]
  },
  {
   "cell_type": "code",
   "execution_count": 32,
   "metadata": {},
   "outputs": [
    {
     "data": {
      "text/plain": [
       "0"
      ]
     },
     "execution_count": 32,
     "metadata": {},
     "output_type": "execute_result"
    }
   ],
   "source": [
    "grid = [[0,1,1,0],[0,0,1,0],[0,0,1,0],[0,0,0,0]]\n",
    "sol = Solution()\n",
    "sol.numEnclaves(grid)"
   ]
  },
  {
   "cell_type": "code",
   "execution_count": 33,
   "metadata": {},
   "outputs": [
    {
     "name": "stdout",
     "output_type": "stream",
     "text": [
      "[[0, 0, 0, 1, 1, 1, 0, 1, 0, 0],\n",
      " [1, 1, 0, 0, 0, 1, 0, 1, 1, 1],\n",
      " [0, 0, 0, 1, 1, 1, 0, 1, 0, 0],\n",
      " [0, 1, 1, 0, 0, 0, 1, 0, 1, 0],\n",
      " [0, 1, 1, 1, 1, 1, 0, 0, 1, 0],\n",
      " [0, 0, 1, 0, 1, 1, 1, 1, 0, 1],\n",
      " [0, 1, 1, 0, 0, 0, 1, 1, 1, 1],\n",
      " [0, 0, 1, 0, 0, 1, 0, 1, 0, 1],\n",
      " [1, 0, 1, 0, 1, 1, 0, 0, 0, 0],\n",
      " [0, 0, 0, 0, 1, 1, 0, 0, 0, 1]]\n"
     ]
    },
    {
     "data": {
      "text/plain": [
       "3"
      ]
     },
     "execution_count": 33,
     "metadata": {},
     "output_type": "execute_result"
    }
   ],
   "source": [
    "import pprint\n",
    "\n",
    "\n",
    "grid = [[0,0,0,1,1,1,0,1,0,0],[1,1,0,0,0,1,0,1,1,1],[0,0,0,1,1,1,0,1,0,0],[0,1,1,0,0,0,1,0,1,0],[0,1,1,1,1,1,0,0,1,0],[0,0,1,0,1,1,1,1,0,1],[0,1,1,0,0,0,1,1,1,1],[0,0,1,0,0,1,0,1,0,1],[1,0,1,0,1,1,0,0,0,0],[0,0,0,0,1,1,0,0,0,1]]\n",
    "pprint.pprint(grid)\n",
    "\n",
    "sol = Solution()\n",
    "sol.numEnclaves(grid)\n"
   ]
  },
  {
   "cell_type": "code",
   "execution_count": null,
   "metadata": {},
   "outputs": [],
   "source": []
  }
 ],
 "metadata": {
  "kernelspec": {
   "display_name": "dsa-venv",
   "language": "python",
   "name": "python3"
  },
  "language_info": {
   "codemirror_mode": {
    "name": "ipython",
    "version": 3
   },
   "file_extension": ".py",
   "mimetype": "text/x-python",
   "name": "python",
   "nbconvert_exporter": "python",
   "pygments_lexer": "ipython3",
   "version": "3.11.3"
  },
  "orig_nbformat": 4
 },
 "nbformat": 4,
 "nbformat_minor": 2
}
