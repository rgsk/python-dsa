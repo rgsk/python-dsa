{
 "cells": [
  {
   "cell_type": "code",
   "execution_count": 18,
   "metadata": {},
   "outputs": [],
   "source": [
    "from typing import List\n",
    "\n",
    "\n",
    "class Solution:\n",
    "    def findCircleNum(self, isConnected: List[List[int]]) -> int:\n",
    "        n = len(isConnected)\n",
    "        visited = set()\n",
    "        ans = 0\n",
    "        def helper(i):\n",
    "            visited.add(i)\n",
    "            row = isConnected[i]\n",
    "            for j in range(n):\n",
    "                if row[j] and j not in visited:\n",
    "                    helper(j)\n",
    "        \n",
    "        for i in range(n):\n",
    "            if i not in visited:\n",
    "                helper(i)\n",
    "                ans += 1\n",
    "\n",
    "        return ans\n",
    "                "
   ]
  },
  {
   "cell_type": "code",
   "execution_count": 19,
   "metadata": {},
   "outputs": [],
   "source": [
    "from typing import List\n",
    "\n",
    "\n",
    "class Solution:\n",
    "    def findCircleNum(self, isConnected: List[List[int]]) -> int:\n",
    "        n = len(isConnected)\n",
    "        visited = [False] * n\n",
    "        ans = 0\n",
    "        def dfs(i):\n",
    "            visited[i] = True\n",
    "            row = isConnected[i]\n",
    "            for j in range(n):\n",
    "                if row[j] and not visited[j]:\n",
    "                    dfs(j)\n",
    "        \n",
    "        for i in range(n):\n",
    "            if not visited[i]:\n",
    "                dfs(i)\n",
    "                ans += 1\n",
    "\n",
    "        return ans\n",
    "                "
   ]
  },
  {
   "cell_type": "code",
   "execution_count": 20,
   "metadata": {},
   "outputs": [],
   "source": [
    "from collections import deque\n",
    "from typing import List\n",
    "\n",
    "\n",
    "class Solution:\n",
    "    def findCircleNum(self, isConnected: List[List[int]]) -> int:\n",
    "        n = len(isConnected)\n",
    "        visited = [False] * n\n",
    "        ans = 0\n",
    "        def bfs(i):\n",
    "            visited[i] = True\n",
    "            q = deque()\n",
    "            q.append(i)\n",
    "            while q:\n",
    "                c = q.popleft()\n",
    "                row = isConnected[c]\n",
    "                for j in range(n):\n",
    "                    if row[j] and not visited[j]:\n",
    "                        visited[j] = True\n",
    "                        q.append(j)\n",
    "                    \n",
    "        \n",
    "        for i in range(n):\n",
    "            if not visited[i]:\n",
    "                bfs(i)\n",
    "                ans += 1\n",
    "\n",
    "        return ans\n",
    "                "
   ]
  },
  {
   "cell_type": "code",
   "execution_count": 21,
   "metadata": {},
   "outputs": [
    {
     "data": {
      "text/plain": [
       "2"
      ]
     },
     "execution_count": 21,
     "metadata": {},
     "output_type": "execute_result"
    }
   ],
   "source": [
    "isConnected = [[1,1,0],[1,1,0],[0,0,1]]\n",
    "sol = Solution()\n",
    "sol.findCircleNum(isConnected)"
   ]
  },
  {
   "cell_type": "code",
   "execution_count": 22,
   "metadata": {},
   "outputs": [
    {
     "data": {
      "text/plain": [
       "1"
      ]
     },
     "execution_count": 22,
     "metadata": {},
     "output_type": "execute_result"
    }
   ],
   "source": [
    "isConnected = [[1,1,0],[1,1,1],[0,1,1]]\n",
    "sol = Solution()\n",
    "sol.findCircleNum(isConnected)"
   ]
  },
  {
   "cell_type": "code",
   "execution_count": 23,
   "metadata": {},
   "outputs": [
    {
     "data": {
      "text/plain": [
       "3"
      ]
     },
     "execution_count": 23,
     "metadata": {},
     "output_type": "execute_result"
    }
   ],
   "source": [
    "isConnected = [[1,0,0],[0,1,0],[0,0,1]]\n",
    "sol = Solution()\n",
    "sol.findCircleNum(isConnected)"
   ]
  }
 ],
 "metadata": {
  "kernelspec": {
   "display_name": "dsa-venv",
   "language": "python",
   "name": "python3"
  },
  "language_info": {
   "codemirror_mode": {
    "name": "ipython",
    "version": 3
   },
   "file_extension": ".py",
   "mimetype": "text/x-python",
   "name": "python",
   "nbconvert_exporter": "python",
   "pygments_lexer": "ipython3",
   "version": "3.11.3"
  },
  "orig_nbformat": 4
 },
 "nbformat": 4,
 "nbformat_minor": 2
}
