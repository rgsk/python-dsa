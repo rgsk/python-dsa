{
 "cells": [
  {
   "cell_type": "code",
   "execution_count": 10,
   "metadata": {},
   "outputs": [],
   "source": [
    "from typing import List\n",
    "\n",
    "\n",
    "class Solution:\n",
    "     def findLadders(self, beginWord: str, endWord: str, wordList: List[str]) -> List[List[str]]:\n",
    "        from collections import deque\n",
    "\n",
    "        def connected(a: str, b: str) -> bool:\n",
    "            k = 0\n",
    "            for i in range(len(a)):\n",
    "                if a[i] != b[i]:\n",
    "                    k += 1\n",
    "            return k == 1\n",
    "\n",
    "        if endWord not in wordList:\n",
    "            return []\n",
    "\n",
    "        visited = set([beginWord])\n",
    "\n",
    "        q = deque([beginWord])\n",
    "        nodes = []\n",
    "        find = False\n",
    "\n",
    "        # moving forward\n",
    "        while q and not find:\n",
    "            nodes.append(q.copy())\n",
    "            n = len(q)\n",
    "            for _ in range(n):\n",
    "                word = q.popleft()\n",
    "\n",
    "                for item in wordList:\n",
    "                    if item in visited:\n",
    "                        continue\n",
    "\n",
    "                    if not connected(word, item):\n",
    "                        continue\n",
    "\n",
    "                    if item == endWord:\n",
    "                        find = True\n",
    "                        break\n",
    "\n",
    "                    visited.add(item)\n",
    "                    q.append(item)\n",
    "\n",
    "                if find:\n",
    "                    break\n",
    "\n",
    "        if not find:\n",
    "            return []\n",
    "\n",
    "        ans = []\n",
    "\n",
    "        def backtracking(word, level: int, steps: List[str]):\n",
    "            if word == beginWord:\n",
    "                ans.append(steps[::-1])\n",
    "                return\n",
    "\n",
    "            if level < 0:\n",
    "                return\n",
    "\n",
    "            for item in nodes[level]:\n",
    "                if connected(item, word):\n",
    "                    steps.append(item)\n",
    "                    backtracking(item, level-1, steps)\n",
    "                    steps.pop()\n",
    "\n",
    "        # move backward to construct paths\n",
    "        backtracking(endWord, len(nodes)-1, [endWord])\n",
    "\n",
    "        return ans"
   ]
  },
  {
   "cell_type": "code",
   "execution_count": 12,
   "metadata": {},
   "outputs": [
    {
     "data": {
      "text/plain": [
       "[['hit', 'hot', 'dot', 'dog', 'cog'], ['hit', 'hot', 'lot', 'log', 'cog']]"
      ]
     },
     "execution_count": 12,
     "metadata": {},
     "output_type": "execute_result"
    }
   ],
   "source": [
    "beginWord = \"hit\"\n",
    "endWord = \"cog\"\n",
    "wordList = [\"hot\",\"dot\",\"dog\",\"lot\",\"log\",\"cog\"]\n",
    "sol = Solution()\n",
    "sol.findLadders(beginWord, endWord, wordList)"
   ]
  }
 ],
 "metadata": {
  "kernelspec": {
   "display_name": "dsa-venv",
   "language": "python",
   "name": "python3"
  },
  "language_info": {
   "codemirror_mode": {
    "name": "ipython",
    "version": 3
   },
   "file_extension": ".py",
   "mimetype": "text/x-python",
   "name": "python",
   "nbconvert_exporter": "python",
   "pygments_lexer": "ipython3",
   "version": "3.11.3"
  },
  "orig_nbformat": 4
 },
 "nbformat": 4,
 "nbformat_minor": 2
}
