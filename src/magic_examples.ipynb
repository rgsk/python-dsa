{
 "cells": [
  {
   "cell_type": "code",
   "execution_count": 1,
   "metadata": {},
   "outputs": [],
   "source": [
    "from IPython.display import display\n",
    "from math_concepts import magic\n",
    "import numpy as np"
   ]
  },
  {
   "cell_type": "code",
   "execution_count": 2,
   "metadata": {},
   "outputs": [
    {
     "data": {
      "text/latex": [
       "$\\displaystyle - \\frac{x^{2}}{4} - \\frac{x y}{2} + x - \\frac{y^{2}}{4} + y + 2$"
      ],
      "text/plain": [
       "-x**2/4 - x*y/2 + x - y**2/4 + y + 2"
      ]
     },
     "metadata": {},
     "output_type": "display_data"
    }
   ],
   "source": [
    "from sympy import symbols\n",
    "\n",
    "# Define variables\n",
    "x, y = symbols('x y')\n",
    "\n",
    "# Define the function\n",
    "function = 2 * ((x + y + 1) ** (1/2))\n",
    "\n",
    "# Center the expansion at (x=1, y=2)\n",
    "point = {x: 0, y: 0}\n",
    "\n",
    "taylor_expansion = magic.quadratic_taylor_multivariable(function, [x, y], point)\n",
    "display(taylor_expansion)"
   ]
  }
 ],
 "metadata": {
  "kernelspec": {
   "display_name": "venv",
   "language": "python",
   "name": "python3"
  },
  "language_info": {
   "codemirror_mode": {
    "name": "ipython",
    "version": 3
   },
   "file_extension": ".py",
   "mimetype": "text/x-python",
   "name": "python",
   "nbconvert_exporter": "python",
   "pygments_lexer": "ipython3",
   "version": "3.11.3"
  },
  "orig_nbformat": 4
 },
 "nbformat": 4,
 "nbformat_minor": 2
}
