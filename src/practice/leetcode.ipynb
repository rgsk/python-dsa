{
 "cells": [
  {
   "cell_type": "code",
   "execution_count": 1,
   "id": "7b002907",
   "metadata": {},
   "outputs": [],
   "source": [
    "from typing import List\n",
    "from collections import defaultdict"
   ]
  },
  {
   "cell_type": "code",
   "execution_count": 2,
   "id": "43a82613",
   "metadata": {},
   "outputs": [],
   "source": [
    "def combinations(arr, min_req):\n",
    "    res = []\n",
    "    cur = []\n",
    "    def helper(i):\n",
    "        if i == len(arr):\n",
    "            if len(cur) >= min_req:\n",
    "                res.append(cur[:])\n",
    "            return\n",
    "        helper(i + 1)\n",
    "        cur.append(arr[i])\n",
    "        helper(i + 1)\n",
    "        cur.pop()\n",
    "    helper(0)\n",
    "    return res"
   ]
  },
  {
   "cell_type": "code",
   "execution_count": 4,
   "id": "07a680c5",
   "metadata": {},
   "outputs": [
    {
     "data": {
      "text/plain": [
       "6"
      ]
     },
     "execution_count": 4,
     "metadata": {},
     "output_type": "execute_result"
    }
   ],
   "source": [
    "arr = [1, 2, 3]\n",
    "combinations(arr, 0)\n",
    "import math\n",
    "math.comb(4, 2)"
   ]
  },
  {
   "cell_type": "code",
   "execution_count": null,
   "id": "52dd5bed",
   "metadata": {},
   "outputs": [],
   "source": []
  }
 ],
 "metadata": {
  "kernelspec": {
   "display_name": "base",
   "language": "python",
   "name": "python3"
  },
  "language_info": {
   "codemirror_mode": {
    "name": "ipython",
    "version": 3
   },
   "file_extension": ".py",
   "mimetype": "text/x-python",
   "name": "python",
   "nbconvert_exporter": "python",
   "pygments_lexer": "ipython3",
   "version": "3.13.5"
  }
 },
 "nbformat": 4,
 "nbformat_minor": 5
}
