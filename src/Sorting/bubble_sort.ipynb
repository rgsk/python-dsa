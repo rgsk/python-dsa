{
 "cells": [
  {
   "cell_type": "code",
   "execution_count": 12,
   "metadata": {},
   "outputs": [],
   "source": [
    "from typing import List\n",
    "\n",
    "\n",
    "def bubbleSort(arr: List[int]):\n",
    "    n = len(arr)\n",
    "    for i in range(n):\n",
    "        for j in range(n-i-1):\n",
    "            if arr[j + 1] < arr[j]:\n",
    "                arr[j + 1], arr[j] = arr[j], arr[j + 1]"
   ]
  },
  {
   "cell_type": "code",
   "execution_count": 13,
   "metadata": {},
   "outputs": [
    {
     "name": "stdout",
     "output_type": "stream",
     "text": [
      "nums=[1, 2, 3, 4, 5, 6]\n"
     ]
    }
   ],
   "source": [
    "nums = [6, 5, 4, 3, 2, 1]\n",
    "bubbleSort(nums)\n",
    "print(f'{nums=}')"
   ]
  },
  {
   "cell_type": "code",
   "execution_count": 14,
   "metadata": {},
   "outputs": [],
   "source": [
    "def test_sorted_array():\n",
    "        nums = [1, 2, 3, 4, 5]\n",
    "        bubbleSort(nums)\n",
    "        assert nums == [1, 2, 3, 4, 5]\n",
    "\n",
    "def test_reverse_sorted_array():\n",
    "        nums = [5, 4, 3, 2, 1]\n",
    "        bubbleSort(nums)\n",
    "        assert nums == [1, 2, 3, 4, 5]\n",
    "\n",
    "def test_random_array():\n",
    "        nums = [3, 1, 4, 1, 5, 9, 2, 6, 5, 3, 5]\n",
    "        bubbleSort(nums)\n",
    "        assert nums == [1, 1, 2, 3, 3, 4, 5, 5, 5, 6, 9]\n",
    "\n",
    "test_sorted_array()\n",
    "test_reverse_sorted_array()\n",
    "test_random_array()"
   ]
  }
 ],
 "metadata": {
  "kernelspec": {
   "display_name": "dsa-venv",
   "language": "python",
   "name": "python3"
  },
  "language_info": {
   "codemirror_mode": {
    "name": "ipython",
    "version": 3
   },
   "file_extension": ".py",
   "mimetype": "text/x-python",
   "name": "python",
   "nbconvert_exporter": "python",
   "pygments_lexer": "ipython3",
   "version": "3.11.3"
  }
 },
 "nbformat": 4,
 "nbformat_minor": 2
}
