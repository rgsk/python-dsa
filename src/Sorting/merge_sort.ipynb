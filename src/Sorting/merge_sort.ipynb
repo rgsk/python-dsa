{
 "cells": [
  {
   "cell_type": "code",
   "execution_count": 57,
   "metadata": {},
   "outputs": [],
   "source": [
    "from typing import List\n",
    "\n",
    "\n",
    "\n",
    "def merge_sort(nums: List[int]):\n",
    "    merge_sort_helper(nums, 0, len(nums) - 1)\n",
    "\n",
    "\n",
    "def merge_sort_helper(nums: List[int], start: int, end: int):\n",
    "    if start < end:\n",
    "        mid = (start + end) // 2\n",
    "        merge_sort_helper(nums, start, mid)\n",
    "        merge_sort_helper(nums, mid + 1, end)\n",
    "        merge(nums, start, mid, end)\n",
    "\n",
    "def merge(nums: List[int], start: int, mid: int, end: int):\n",
    "    temp = [0 for _ in range(start, end+1)]\n",
    "    i = start\n",
    "    j = mid + 1 \n",
    "    t = 0\n",
    "    while i <= mid and j <= end: \n",
    "        if nums[i] < nums[j]:\n",
    "            temp[t] = nums[i]\n",
    "            t += 1\n",
    "            i += 1\n",
    "        else:\n",
    "            temp[t] = nums[j]\n",
    "            t += 1\n",
    "            j += 1\n",
    "    while i <= mid:\n",
    "        temp[t] = nums[i]\n",
    "        t += 1\n",
    "        i += 1\n",
    "    while j <= end:\n",
    "        temp[t] = nums[j]\n",
    "        t += 1\n",
    "        j += 1 \n",
    "    nums[start:end+1] = temp\n",
    "\n"
   ]
  },
  {
   "cell_type": "code",
   "execution_count": 58,
   "metadata": {},
   "outputs": [
    {
     "name": "stdout",
     "output_type": "stream",
     "text": [
      "nums=[1, 2, 3, 4, 5, 6]\n"
     ]
    }
   ],
   "source": [
    "nums = [6, 5, 4, 3, 2, 1]\n",
    "merge_sort(nums)\n",
    "print(f'{nums=}')"
   ]
  },
  {
   "cell_type": "code",
   "execution_count": 59,
   "metadata": {},
   "outputs": [],
   "source": [
    "def test_sorted_array():\n",
    "        nums = [1, 2, 3, 4, 5]\n",
    "        merge_sort(nums)\n",
    "        assert nums == [1, 2, 3, 4, 5]\n",
    "\n",
    "def test_reverse_sorted_array():\n",
    "        nums = [5, 4, 3, 2, 1]\n",
    "        merge_sort(nums)\n",
    "        assert nums == [1, 2, 3, 4, 5]\n",
    "\n",
    "def test_random_array():\n",
    "        nums = [3, 1, 4, 1, 5, 9, 2, 6, 5, 3, 5]\n",
    "        merge_sort(nums)\n",
    "        assert nums == [1, 1, 2, 3, 3, 4, 5, 5, 5, 6, 9]\n",
    "\n",
    "test_sorted_array()\n",
    "test_reverse_sorted_array()\n",
    "test_random_array()"
   ]
  },
  {
   "cell_type": "code",
   "execution_count": null,
   "metadata": {},
   "outputs": [],
   "source": []
  }
 ],
 "metadata": {
  "kernelspec": {
   "display_name": "base",
   "language": "python",
   "name": "python3"
  },
  "language_info": {
   "codemirror_mode": {
    "name": "ipython",
    "version": 3
   },
   "file_extension": ".py",
   "mimetype": "text/x-python",
   "name": "python",
   "nbconvert_exporter": "python",
   "pygments_lexer": "ipython3",
   "version": "3.11.3"
  },
  "orig_nbformat": 4
 },
 "nbformat": 4,
 "nbformat_minor": 2
}
