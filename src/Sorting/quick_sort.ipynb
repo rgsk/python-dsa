{
 "cells": [
  {
   "cell_type": "code",
   "execution_count": 7,
   "metadata": {},
   "outputs": [],
   "source": [
    "from typing import List\n",
    "\n",
    "def quick_sort(nums: List[int]):\n",
    "    quick_sort_helper(nums, 0, len(nums) - 1)\n",
    "\n",
    "def quick_sort_helper(nums: List[int], start: int, end: int):\n",
    "    if start < end:\n",
    "        idx = partition(nums, start, end)\n",
    "        quick_sort_helper(nums, start, idx - 1)\n",
    "        quick_sort_helper(nums, idx + 1, end) \n",
    "\n",
    "def partition(nums: List[int], start, end):\n",
    "    p = nums[start]\n",
    "    i = start \n",
    "    j = start + 1\n",
    "    while j <= end:\n",
    "        if nums[j] < p:\n",
    "            i += 1\n",
    "            nums[i], nums[j] = nums[j], nums[i]\n",
    "        j += 1\n",
    "    nums[start], nums[i] = nums[i], nums[start]\n",
    "    return i"
   ]
  },
  {
   "cell_type": "code",
   "execution_count": 8,
   "metadata": {},
   "outputs": [
    {
     "name": "stdout",
     "output_type": "stream",
     "text": [
      "nums=[1, 2, 3, 4, 5, 6]\n"
     ]
    }
   ],
   "source": [
    "nums = [6, 5, 4, 3, 2, 1]\n",
    "quick_sort(nums)\n",
    "print(f'{nums=}')"
   ]
  },
  {
   "cell_type": "code",
   "execution_count": 9,
   "metadata": {},
   "outputs": [],
   "source": [
    "def test_sorted_array():\n",
    "        nums = [1, 2, 3, 4, 5]\n",
    "        quick_sort(nums)\n",
    "        assert nums == [1, 2, 3, 4, 5]\n",
    "\n",
    "def test_reverse_sorted_array():\n",
    "        nums = [5, 4, 3, 2, 1]\n",
    "        quick_sort(nums)\n",
    "        assert nums == [1, 2, 3, 4, 5]\n",
    "\n",
    "def test_random_array():\n",
    "        nums = [3, 1, 4, 1, 5, 9, 2, 6, 5, 3, 5]\n",
    "        quick_sort(nums)\n",
    "        assert nums == [1, 1, 2, 3, 3, 4, 5, 5, 5, 6, 9]\n",
    "\n",
    "test_sorted_array()\n",
    "test_reverse_sorted_array()\n",
    "test_random_array()"
   ]
  }
 ],
 "metadata": {
  "kernelspec": {
   "display_name": "base",
   "language": "python",
   "name": "python3"
  },
  "language_info": {
   "codemirror_mode": {
    "name": "ipython",
    "version": 3
   },
   "file_extension": ".py",
   "mimetype": "text/x-python",
   "name": "python",
   "nbconvert_exporter": "python",
   "pygments_lexer": "ipython3",
   "version": "3.11.3"
  },
  "orig_nbformat": 4
 },
 "nbformat": 4,
 "nbformat_minor": 2
}
